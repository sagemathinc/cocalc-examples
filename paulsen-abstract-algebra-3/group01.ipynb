{
 "cells": [
  {
   "cell_type": "markdown",
   "id": "8a88a6",
   "metadata": {
    "collapsed": false
   },
   "source": [
    "<!-- Group01 -->\n",
    "\n",
    "<html>\n",
    "<body>\n",
    "\n",
    "<!-- To make the size of the font bigger for presentations, change the following command from +1 to +2 -->\n",
    "\n",
    "<font size=\"+1\">\n",
    "\n",
    "<p style='font-size: 32px;font-family: Arial;font-style: italic;font-weight: bold;color: #FF00FF;background-color: #80FFFF;text-align: center;'>\n",
    "Abstract Algebra: An Interactive Approach, 3e\n",
    "</p>\n",
    "\n",
    "<p style='font-family: Geneva;font-style: italic;color: #0000FF;background-color: #FFFFFF;'>\n",
    "This notebook is provided with the textbook, &quot;Abstract Algebra: An Interactive Approach, 3rd Ed.&quot; by William Paulsen.  Users of this notebook are encouraged to buy the textbook.\n",
    "</p>\n",
    "\n",
    "<p style='font-size: 36px;font-family: New York;font-weight: bold;color: #000000;background-color: #FFFFFF;text-align: center;border: 1px;border-style: \n",
    "solid;border-color: #000000;'>\n",
    "Chapter 1: Preliminaries\n",
    "</p>\n",
    "\n",
    "<p style='text-align: center;'>Initialization:  This cell MUST be evaluated first:</p>\n",
    "\n"
   ]
  },
  {
   "cell_type": "code",
   "execution_count": 1,
   "id": "fe03f5",
   "metadata": {
    "collapsed": false
   },
   "outputs": [
    {
     "name": "stdout",
     "output_type": "stream",
     "text": [
      "Initialization Done\n"
     ]
    }
   ],
   "source": [
    "load('absalgtext2.sage')"
   ]
  },
  {
   "cell_type": "markdown",
   "id": "782209",
   "metadata": {
    "collapsed": false
   },
   "source": [
    "<br>\n",
    "The above command must be evaluated as the worksheet is loaded.  As long as the message \"Initialization Done\" appears after the command, we are ready to proceed.<br><br>"
   ]
  },
  {
   "cell_type": "markdown",
   "id": "227ec0",
   "metadata": {
    "collapsed": false
   },
   "source": [
    "<br><br>\n",
    "<a href=\"#sec11\">Integer Factorization</a><br>\n",
    "<a href=\"#sec12\">Functions</a><br>\n",
    "<a href=\"#sec13\">Binary Operators</a><br>\n",
    "<a href=\"#sec14\">Modular Arithmetic</a><br>\n",
    "<a href=\"#sec15\">Rational and Real Numbers</a><br>\n",
    "<a href=\"#sec1p\"><em>SageMath</em> Interactive Problems</a><br>"
   ]
  },
  {
   "cell_type": "markdown",
   "id": "0d5ef1",
   "metadata": {
    "collapsed": false
   },
   "source": [
    "<a name=\"sec11\" id=\"sec11\"></a>\n",
    "<h1>Integer Factorization</h1>\n",
    "\n",
    "<br>\n",
    "In this section, we will explore the basic properties of integers stemming from the prime factorizations.\n",
    "We will denote the set of all integers,\n",
    "<p style='text-align: center;'>{ &hellip;, &minus;3, &minus;2, &minus;1, 0, 1, 2, 3, &hellip; }</p>\n",
    "by the stylized letter &#8484;, which stands for the German &quot;Zahl&quot; meaning &quot;number.&quot; Rather than saying &quot;<em>n</em> is an integer,&quot; we \n",
    "can succinctly say &quot;<em>n</em> is in &#8484;.&quot; Many of the properties of factorizations refer only to positive integers, which are denoted \n",
    "&#8484;<sup>+</sup>.   Thus, we can write <em>n</em> &isin; &#8484;<sup>+</sup> to say that <em>n</em> is a positive integer.<br><br>\n",
    "\n",
    "We begin by defining a divisor of a number.<br><br>\n",
    "\n",
    "DEFINITION 1.1<br>\n",
    "We say that an integer <em>a</em> is a <em>divisor</em> of an integer <em>b</em>, denoted by <em>a</em> | <em>b</em>, if there is some integer <em>c</em> such that <em>b</em> = <em>a c</em>.  \n",
    "Other ways of saying this is that <em>a</em> <em>divides</em> <em>b</em>, or <em>a</em> is a <em>factor</em> of <em>b</em>, or <em>b</em> is a <em>multiple</em> of <em>a</em>.<br><br>\n",
    "\n",
    "EXPERIMENT:<br>\n",
    "Find the divisors of 30.  Don't forget that, according to the definition, we can have negative divisors.<br>"
   ]
  },
  {
   "cell_type": "code",
   "execution_count": 0,
   "id": "0740f3",
   "metadata": {
    "collapsed": false
   },
   "outputs": [
   ],
   "source": [
   ]
  },
  {
   "cell_type": "markdown",
   "id": "15fd3a",
   "metadata": {
    "collapsed": false
   },
   "source": [
    "<br>\n",
    "\n",
    "We can extend the idea of integer divisors to that of finding the quotient <em>q</em> and remainder <em>r</em> of integer division."
   ]
  },
  {
   "cell_type": "markdown",
   "id": "7c1cfc",
   "metadata": {
    "collapsed": false
   },
   "source": [
    "<p />\n",
    "<a name=\"theor11ret\" id=\"theor11ret\"></a>  \n",
    "THEOREM 1.1: The Division Algorithm<br>\n",
    "Given any <em>x</em> &isin; &#8484;, and any <em>y</em> &isin; &#8484;<sup>+</sup>, there are unique integers <em>q</em> and <em>r</em> such that\n",
    "<p style='text-align: center;'><em>x</em> = <em>q y</em> + <em>r</em>&emsp;&emsp;and&emsp;&emsp;0 &le; <em>r</em> &lt; <em>y</em>.</p> \n",
    "<a href=\"#theor11\">Click here for the proof.</a>\n",
    "\n",
    "<p />\n",
    "\n",
    "All of the proofs in these notebooks are in a separate subsection that can be accessed by clicking on the hyperlink.  This allows one to hide the proof until after it has been attempted.\n",
    "There will be a hyperlink at the end of the proof to bring you back.\n",
    " \n",
    "This is a constructive proof since it gives an algorithm for finding <em>q</em> and <em>r</em>.  This proof also demonstrates how to prove that a solution is <em>unique</em>.  \n",
    "We assume there is another solution and prove that the two solutions are in fact the same.<br><br>\n",
    "\n",
    "EXAMPLE:<br>\n",
    "Find integers <em>q</em> and <em>r</em> such that 849 = 31 <em>q</em> + <em>r</em>, with 0 &le; <em>r</em> &lt; 31.<br><br>\n",
    "\n",
    "We can use <em>SageMath</em> as a calculator.  To find the numerical approximation of 849/31, enter<br>"
   ]
  },
  {
   "cell_type": "code",
   "execution_count": 0,
   "id": "603f0d",
   "metadata": {
    "collapsed": false
   },
   "outputs": [
   ],
   "source": [
    "N(849/31)"
   ]
  },
  {
   "cell_type": "markdown",
   "id": "602b55",
   "metadata": {
    "collapsed": false
   },
   "source": [
    "<br>\n",
    "To evaluate this <em>SageMath</em> expression, click on it, and press Shift + Enter.  That is, hold down the shift key as you hit the Enter key.<br><br>\n",
    "\n",
    "Note that the function <strong>N( )</strong> gives the numerical approximation.  The largest integer less than this value is <em>q</em> = 27.  Then we can compute <em>r</em> to be<br>"
   ]
  },
  {
   "cell_type": "code",
   "execution_count": 0,
   "id": "bd068c",
   "metadata": {
    "collapsed": false
   },
   "outputs": [
   ],
   "source": [
    "849 - 27*31"
   ]
  },
  {
   "cell_type": "markdown",
   "id": "1b56e2",
   "metadata": {
    "collapsed": false
   },
   "source": [
    "<br>\n",
    "The notation for finding the greatest integer function used in this algorithm is\n",
    "<p style='text-align: center;'>&lfloor;<em>x</em>&rfloor; = the greatest integer less than or equal to <em>x</em>.</p> \n",
    "\n",
    "Using this notation, we have \n",
    "<p style='text-align: center;'><em>q</em> = &lfloor;<em>x</em>/<em>y</em>&rfloor;,&emsp;&emsp;<em>r</em> = (<em>x</em>/<em>y</em> &minus; &lfloor;<em>x</em>/<em>y</em>&rfloor;)&middot;<em>y</em>.</p>\n",
    "<br>\n",
    "EXPERIMENT:<br>\n",
    "Find integers <em>q</em> and <em>r</em> such that &minus;925 = 28 <em>q</em> + <em>r</em>, with 0 &le; <em>r</em> &lt; 28.  Note that for negative numbers, \n",
    "rounding <em>down</em> will cause the number to increase in magnitude.<br>"
   ]
  },
  {
   "cell_type": "code",
   "execution_count": 0,
   "id": "7f0250",
   "metadata": {
    "collapsed": false
   },
   "outputs": [
   ],
   "source": [
   ]
  },
  {
   "cell_type": "markdown",
   "id": "b7082b",
   "metadata": {
    "collapsed": false
   },
   "source": [
    "<br>\n",
    "We define a <em>prime</em> as an integer that has exactly two positive factors. This definition actually allows negative numbers, \n",
    "such as &minus;5, to be prime.  Although this may seem to be a non-standard definition, it agrees with the generalized definition of primes defined in chapter 10.\n",
    "The numbers 1 and &minus;1 are <em>not</em> considered to be prime, for they only have one positive factor.  The goal of this section is to prove that any \n",
    "integer greater than 1 can be uniquely factored into a product of positive primes.<br><br>\n",
    "\n",
    "We will begin by proving that every large number has at least one prime factor.  This requires an\n",
    "assumption about the set of positive numbers, known as the <em>Well-Ordering Axiom</em>.<br><br>\n",
    "\n",
    "The Well-Ordering Axiom:<br>\n",
    "Every non-empty subset of &#8484;<sup>+</sup> contains a smallest element.<br><br>\n",
    "\n",
    "The reason why this is considered to be an axiom is that it cannot be proven using only arithmetic operations.  \n",
    "(Note that this statement is <em>not</em> true for rational numbers, which have the same arithmetic operations.)  \n",
    "So this self-evident statement is assumed to be true and is used to prove other properties of the integers."
   ]
  },
  {
   "cell_type": "markdown",
   "id": "c8f58c",
   "metadata": {
    "collapsed": false
   },
   "source": [
    "<a name=\"lem11ret\" id=\"lem11ret\"></a>  \n",
    "LEMMA 1.1<br>\n",
    "Every number greater than 1 has a prime factor.<br><br>\n",
    "\n",
    "<a href=\"#lem11\">Click here for the proof.</a>\n",
    "\n",
    "<p />\n",
    "Not only does the proof of Lemma 1.1 demonstrate how the well ordering axiom is used, it also introduces an important strategy in proofs.  Notice that to prove that every number \n",
    "greater than 1 had a prime factor, we assumed just the opposite.  It was as if we admitted defeat from the very beginning!  Yet from this we were able to reach a conclusion \n",
    "that was absurd&#8213;a number without a prime factor that did have a prime factor. This strategy is known as <em>reductio ad absurdum</em>, which is Latin \n",
    "for &quot;reduce to the absurd.&quot; We assume what we are trying to prove is actually false, and proceed logically until we reach a contradiction. The only explanation \n",
    "would be that the assumption was wrong, which proves the original statement.<br><br>\n",
    "\n",
    "This proof also combined <em>reductio ad absurdum</em> with the well-ordering principle.  Since we are assuming there is some positive integer that makes our statement false, there must be a smallest such integer.  This combination is known as the \n",
    "<em>least criminal method</em> where the least criminal refers to the smallest integer that would make the statement false.  In fact, the first paragraph of Lemma 1.1 can be abbreviated to &quot;Let <em>n</em> be the least criminal.&quot;  Here is another example of the least criminal method."
   ]
  },
  {
   "cell_type": "markdown",
   "id": "943901",
   "metadata": {
    "collapsed": false
   },
   "source": [
    "<a name=\"lem12ret\" id=\"lem12ret\"></a>  \n",
    "LEMMA 1.2<br><br>\n",
    "\n",
    "Every integer <em>n</em> &ge; 2 can be written as a product of one or more positive primes.<br><br>\n",
    "\n",
    "<a href=\"#lem12\">Click here for the proof.</a>\n",
    "\n",
    "<p />\n",
    "\n",
    "This lemma illustrates another technique of proofs, known as <em>divide and conquer.</em>  We considered two different cases, either <em>n</em> was prime, or <em>n</em> was not prime.  Each case then became much easier to handle.  As long as both possibilities lead to the same conclusion, we can proceed with the proof. \n",
    "\n",
    "<p />\n",
    "In order to prove that the prime factorization is <em>unique</em> we will first have to \n",
    "develop the concept of the greatest common divisor.<br><br>\n",
    "\n",
    "DEFINITION 1.2<br>\n",
    "We define the <em>greatest common divisor</em> (GCD) of two numbers to be the largest\n",
    "integer that divides both of the numbers.  If the greatest common divisor is 1, \n",
    "this means that there are no prime factors in common.  We say the numbers are \n",
    "<em>coprime</em> in this case.  We denote the greatest common divisor of <em>x</em> and <em>y</em> by gcd(<em>x</em>, <em>y</em>).<br><br>\n",
    "\n",
    "\n",
    "We can use <em>SageMath</em>'s <strong>gcd</strong> function to quickly test whether two numbers are\n",
    "coprime without having to factor them.<br>"
   ]
  },
  {
   "cell_type": "code",
   "execution_count": 0,
   "id": "8fe9f9",
   "metadata": {
    "collapsed": false
   },
   "outputs": [
   ],
   "source": [
    "gcd(153809229555633320199029, 573040781012789119612213)"
   ]
  },
  {
   "cell_type": "markdown",
   "id": "70e8db",
   "metadata": {
    "collapsed": false
   },
   "source": [
    "<br>\n",
    "So <em>SageMath</em> can quickly see that these two numbers are coprime, even though the numbers are too large to find the prime factorization.<br><br>\n",
    "\n",
    "The greatest common divisor can be found in another way, as seen in the following lemma.  The proof of this lemma is more difficult than \n",
    "the previous proofs, since it illustrates a new technique.  Go ahead and read the proof of this theorem without trying to prove it on your own.  It is still important that you understand \n",
    "the techniques involved."
   ]
  },
  {
   "cell_type": "markdown",
   "id": "e01373",
   "metadata": {
    "collapsed": false
   },
   "source": [
    "<a name=\"lem13ret\" id=\"lem13ret\"></a>  \n",
    "LEMMA 1.3:  B&eacute;zout's Lemma<br>\n",
    "Given two non-zero integers <em>x</em> and <em>y</em>, the greatest common divisor of <em>x</em> and <em>y</em> is the smallest positive integer which can be \n",
    "expressed in the form\n",
    "<p style='text-align: center;'><em>u x</em> + <em>v y</em></p>\n",
    "with <em>u</em> and <em>v</em> being integers.<br><br>\n",
    "\n",
    "<a href=\"#lem13\">Click here for the proof.</a>\n",
    "\n",
    "<p />\n",
    "\n",
    "Unfortunately, this is a <em>non-constructive proof</em>.  Although this theorem proves the \n",
    "existence of the integers <em>u</em> and <em>v</em>, it does not explain how to compute them.  Fortunately, there is an algorithm, known as \n",
    "the <em>Euclidean Algorithm</em> which does compute <em>u</em> and <em>v</em>.<br><br>\n",
    "\n",
    "We start by assuming that <em>x</em> &gt; <em>y</em> &gt; 0, since we can consider absolute values if <em>x</em> or <em>y</em> are negative.  We then repeatedly use the division \n",
    "algorithm to find <em>q<sub>i</sub></em> and <em>r<sub>i</sub></em> such that\n",
    "<p style='text-align: center;'><em>x</em> = <em>q</em><sub>1</sub> <em>y</em> + <em>r</em><sub>1</sub>, &emsp;&emsp; 0 &le; <em>r</em><sub>1</sub> &lt; <em>y</em>,</p>\n",
    "<p style='text-align: center;'><em>y</em> = <em>q</em><sub>2</sub> <em>r</em><sub>1</sub> + <em>r</em><sub>2</sub>, &emsp;&emsp; \n",
    "0 &le; <em>r</em><sub>2</sub> &lt; <em>r</em><sub>1</sub>,</p>\n",
    "<p style='text-align: center;'><em>r</em><sub>1</sub> = <em>q</em><sub>3</sub> <em>r</em><sub>2</sub> + <em>r</em><sub>3</sub>, &emsp;&emsp; \n",
    "0 &le; <em>r</em><sub>3</sub> &lt; <em>r</em><sub>2</sub>,</p>\n",
    "<p style='text-align: center;'>&emsp;<em>r</em><sub>2</sub> = <em>q</em><sub>4</sub> <em>r</em><sub>3</sub> + <em>r</em><sub>4</sub>, &emsp;&emsp; \n",
    "0 &le; <em>r</em><sub>4</sub> &lt; <em>r</em><sub>3</sub>, &hellip;</p>\n",
    "\n",
    "Because the integer sequence {<em>r</em><sub>1</sub>, <em>r</em><sub>2</sub>, <em>r</em><sub>3</sub>, &hellip;} is decreasing, this will reach 0 in a finite number of steps, \n",
    "say <em>r<sub>m</sub></em> = 0.  Then <em>r</em><sub><em>m</em>&minus;1</sub> will be gcd(<em>x</em>, <em>y</em>).  We can find the \n",
    "values for <em>u</em> and <em>v</em> by solving the second \n",
    "to the last equation for <em>r</em><sub><em>m</em>&minus;1</sub> in terms of the previous two remainders <em>r</em><sub><em>m</em>&minus;2</sub> and \n",
    "<em>r</em><sub><em>m</em>&minus;3</sub>, and then using the previous equations recursively to express <em>r</em><sub><em>m</em>&minus;1</sub> in terms of the previous remainders.  This will eventually lead to <em>r</em><sub><em>m</em>&minus;1</sub> expressed in terms of <em>x</em> and <em>y</em>, which is what we want.  It helps to put the remainders <em>r<sub>i</sub></em> in parenthesis, as well as <em>x</em> and <em>y</em>, since these numbers are treated as variables.<br><br>  \n",
    "\n",
    "EXAMPLE:<br>\n",
    "Find integers <em>u</em> and <em>v</em> such that 144 <em>u</em> + 100 <em>v</em> = gcd(144, 100).<br><br>\n",
    "\n",
    "Using the division algorithm repeatedly, we have<br><br>\n",
    "\n",
    "(144) = 1&middot;(100) + (44)<br>\n",
    "(100) = 2&middot;(44) + (12)<br>\n",
    "(44) = 3&middot;(12) + (8)<br>\n",
    "(12) = 1&middot;(8) + (4)<br>\n",
    "(8) = 2&middot;(4) + (0).<br><br>\n",
    "\n",
    "Thus, we see that gcd(144, 100) = 4. \n",
    "Starting from the second to the last equation, we have<br><br>\n",
    "\n",
    "(4) = (12) &minus; (8)<br> \n",
    "&emsp; = (12) &minus; [(44) &minus; 3&middot;(12)] = 4&middot;(12) &minus; (44)<br>\n",
    "&emsp; = 4&middot;[(100) &minus; 2&middot;(44)] &minus; (44) = 4&middot;(100) &minus; 9&middot;(44)<br>\n",
    "&emsp; = 4&middot;(100) &minus; 9&middot;[(144) &minus; (100)] = 13&middot;(100) &minus; 9&middot;(144).<br><br>\n",
    "\n",
    "Thus, we have <em>u</em> = &minus;9 and <em>v</em> = 13.<br><br>"
   ]
  },
  {
   "cell_type": "markdown",
   "id": "1ed9a9",
   "metadata": {
    "collapsed": false
   },
   "source": [
    "There is also a tabular way of computing <em>u</em> and <em>v</em>, called the <em>extended Euclidean algorithm.</em>  The following table shows the computations of <em>u</em> and <em>v</em> from the previous example.  At the top of the table, we always put the two rows (1, 0) and (0, 1).  Then, to the left, we write the negatives of the divisors <em>q</em> from the standard Euclidean algorithm.  However, we do not include the last quotient that leads to a remainder of 0.\n",
    "\n",
    "<table cellspacing=\"0\" cellpadding=\"0\">\n",
    "<caption><b>Extended Euclidean algorithm</b></caption>\n",
    "    <tr>\n",
    "        <td align = \"right\" width = \"100\"></td>\n",
    "        <td align = \"center\" width = \"20\"></td>\n",
    "        <td align = \"center\" width=\"1\">|</td>\n",
    "        <td align = \"right\" width=\"30\">1</td>\n",
    "        <td align = \"right\" width=\"30\">0</td>\n",
    "        <td align = \"left\" width=\"150\">always</td>\n",
    "    </tr>\n",
    "    <tr>\n",
    "        <td></td>\n",
    "        <td></td>\n",
    "        <td align = \"center\">|</td>\n",
    "        <td align = \"right\">0</td>\n",
    "        <td align = \"right\">1</td>\n",
    "        <td align = \"left\">the same</td>      \n",
    "    </tr>\n",
    "    <tr>\n",
    "        <td align = \"right\">_________________</td>\n",
    "        <td align = \"center\">__</td>\n",
    "        <td align = \"center\">|</td>\n",
    "        <td align = \"center\">___</td>\n",
    "        <td align = \"center\">___</td>\n",
    "        <td align = \"left\">_________________________</td>\n",
    "    </tr>\n",
    "    <tr>\n",
    "        <td align = \"right\">Negative of the <em>q</em></td>\n",
    "        <td align = \"center\">&minus;1</td>\n",
    "        <td align = \"center\">|</td>\n",
    "        <td align = \"right\"> 1</td>\n",
    "        <td align = \"right\">&minus;1</td>\n",
    "        <td align = \"left\">Take the number at the far</td>\n",
    "    </tr>\n",
    "    <tr>\n",
    "        <td align = \"right\">values, except for</td>\n",
    "        <td align = \"center\">&minus;2</td>\n",
    "        <td align = \"center\">|</td>\n",
    "        <td align = \"right\">&minus;2</td>\n",
    "        <td align = \"right\"> 3</td>\n",
    "        <td align = \"left\">left, times the number above,</td>\n",
    "    </tr>\n",
    "        <tr>\n",
    "        <td align = \"right\">the one leading to</td>\n",
    "        <td align = \"center\">&minus;3</td>\n",
    "        <td align = \"center\">|</td>\n",
    "        <td align = \"right\"> 7</td>\n",
    "        <td align = \"right\">&minus;10</td>\n",
    "        <td align = \"left\">and then add the number</td>\n",
    "    </tr>\n",
    "    <tr>\n",
    "        <td align = \"right\">a remainder of 0.</td>\n",
    "        <td align = \"center\">&minus;1</td>\n",
    "        <td align = \"center\">|</td>\n",
    "        <td align = \"right\">&minus;9</td>\n",
    "        <td align = \"right\">13</td>\n",
    "        <td align = \"left\">which is above that one.</td>\n",
    "    </tr>\n",
    "    <tr>\n",
    "        <td></td>\n",
    "        <td></td>\n",
    "        <td align = \"center\">|</td>\n",
    "        <td align = \"right\">&uarr;</td>\n",
    "        <td align = \"right\">&uarr;</td>\n",
    "        <td></td>\n",
    "    </tr>\n",
    "    <tr>\n",
    "        <td></td>\n",
    "        <td></td>\n",
    "        <td align = \"center\">|</td>\n",
    "        <td align = \"right\"><em>u</em></td>\n",
    "        <td align = \"right\"><em>v</em></td>\n",
    "        <td></td>\n",
    "    </tr>\n",
    "</table>\n",
    "    \n",
    "Now we fill in the main part of the table.  For each space in the table, starting with the top and working our way down, we multiply the negative number on the far left with the number immediately above the space, and then add the number which is above that one.  For example, the &minus;9 in the table was computed by taking &minus;1 on the left times the 7 above it, and adding the &minus;2 which is above the 7.  When we complete the table, the bottom row gives us the values of <em>u</em> and <em>v</em>.  Note that this algorithm assumes that <em>x</em> &gt; <em>y</em>, so if <em>x</em> &lt; <em>y</em>, we have to switch the <em>u</em> and <em>v</em> values.<br>\n",
    "\n",
    "We can use <em>SageMath</em> to find the numbers <em>u</em> and <em>v</em> from B&eacute;zout's lemma (1.3) as follows:<br>"
   ]
  },
  {
   "cell_type": "code",
   "execution_count": 0,
   "id": "c3ae33",
   "metadata": {
    "collapsed": false
   },
   "outputs": [
   ],
   "source": [
    "xgcd(144, 100)"
   ]
  },
  {
   "cell_type": "markdown",
   "id": "4dae3a",
   "metadata": {
    "collapsed": false
   },
   "source": [
    "<br>\n",
    "This returns a ordered triple.  The first number is gcd(<em>x</em>, <em>y</em>), and the other two numbers give one possible set of values for <em>u</em> and <em>v</em>\n",
    "for which <em>u x</em> + <em>v y</em> = gcd(<em>x</em>, <em>y</em>).  (There are in fact other posible solutions.)  Note that <em>SageMath</em> produced the same solution as was obtained via the Euclidean algorithm.  This command works for even larger numbers.<br>"
   ]
  },
  {
   "cell_type": "code",
   "execution_count": 0,
   "id": "3c9f08",
   "metadata": {
    "collapsed": false
   },
   "outputs": [
   ],
   "source": [
    "xgcd(153809229555633320199029, 573040781012789119612213)"
   ]
  },
  {
   "cell_type": "markdown",
   "id": "65e9c2",
   "metadata": {
    "collapsed": false
   },
   "source": [
    "<br>\n",
    "We can now start to prove some familiar properties of prime numbers."
   ]
  },
  {
   "cell_type": "markdown",
   "id": "230da8",
   "metadata": {
    "collapsed": false
   },
   "source": [
    "<a name=\"lem14ret\" id=\"lem14ret\"></a>  \n",
    "LEMMA 1.4: Euclid's Lemma<br><br>\n",
    "\n",
    "If a prime <em>p</em> divides a product <em>a b</em>, then either <em>p</em> | <em>a</em> or <em>p</em> | <em>b</em>.<br><br>\n",
    "\n",
    "<a href=\"#lem14\">Click here for the proof.</a>\n",
    "\n",
    "<p />\n",
    "\n",
    "This lemma quickly generalizes using the least criminal method."
   ]
  },
  {
   "cell_type": "markdown",
   "id": "e01862",
   "metadata": {
    "collapsed": false
   },
   "source": [
    "<a name=\"lem15ret\" id=\"lem15ret\"></a>  \n",
    "LEMMA 1.5<br><br>\n",
    "\n",
    "If a prime <em>p</em> divides a product <em>a</em><sub>1</sub> <em>a</em><sub>2</sub> <em>a</em><sub>3</sub> &#8943; <em>a<sub>n</sub></em>, then <em>p</em> divides <em>a<sub>i</sub></em> for some <em>i</em>.<br><br>\n",
    "\n",
    "<a href=\"#lem15\">Click here for the proof.</a>\n",
    "\n",
    "<p />\n",
    "\n",
    "Note that in this application of the least criminal method, we only used fact that the <em>previous case</em> had to be true.  When this happens, the method is known as <em>mathematical induction</em>.  We will discuss more on mathematical induction in the next section.  For now, we can finally prove that integer factorization is unique."
   ]
  },
  {
   "cell_type": "markdown",
   "id": "786044",
   "metadata": {
    "collapsed": false
   },
   "source": [
    "<a name=\"theor12ret\" id=\"theor12ret\"></a>  \n",
    "THEOREM 1.2: The Fundamental Theorem of Arithmetic<br><br>\n",
    "\n",
    "Every integer greater than 1 can be factored into a product of one or more positive primes.  \n",
    "Furthermore, this factorization is unique up to the rearrangement of the factors.<br><br>\n",
    "\n",
    "<a href=\"#theor12\">Click here for the proof.</a>\n",
    "\n",
    "<p />\n",
    "\n",
    "We can have <em>SageMath</em> compute to prime factorization for us, using the command <strong>factor</strong>: <br>"
   ]
  },
  {
   "cell_type": "code",
   "execution_count": 0,
   "id": "8d5788",
   "metadata": {
    "collapsed": false
   },
   "outputs": [
   ],
   "source": [
    "factor(420)"
   ]
  },
  {
   "cell_type": "markdown",
   "id": "986574",
   "metadata": {
    "collapsed": false
   },
   "source": [
    "<br> \n",
    "If we explore how this factorization is stored,<br>"
   ]
  },
  {
   "cell_type": "code",
   "execution_count": 0,
   "id": "279df7",
   "metadata": {
    "collapsed": false
   },
   "outputs": [
   ],
   "source": [
    "list(_)"
   ]
  },
  {
   "cell_type": "markdown",
   "id": "11856f",
   "metadata": {
    "collapsed": false
   },
   "source": [
    "<br>\n",
    "the result is rather cryptic, so it takes a bit of interpretation to understand the answer.  <em>SageMath</em> returns a sequence of ordered pairs, like (2,2).  The \n",
    "first number in the pair is the prime, and the second number represents the number of times that prime occurred.<br><br>\n",
    "\n",
    "Integer factorization is a fundamentally difficult problem even with modern technology.  As a result, one can easily type in a number that neither <em>SageMath</em>, nor any \n",
    "other computer program, will be able to factor in anything short of an astronomical length of time.   The amount of time required is proportional to the square root \n",
    "of the second largest prime in the factorization.  As long as the integers are less than about 40 digits long, \n",
    "<em>SageMath</em> should not have any trouble factoring them.  Ironically, the difficulty in factorization will later turn to our advantage!<br><br>\n",
    "\n",
    "On the other hand, determining whether or not a number is prime can be done quickly in <em>SageMath</em>, even if the number has over 200 digits!  The <em>SageMath</em> command \n",
    "for testing a prime number is <strong>is_prime</strong>.<br>"
   ]
  },
  {
   "cell_type": "code",
   "execution_count": 0,
   "id": "05dac3",
   "metadata": {
    "collapsed": false
   },
   "outputs": [
   ],
   "source": [
    "is_prime(10^200 + 357)"
   ]
  },
  {
   "cell_type": "markdown",
   "id": "8fc465",
   "metadata": {
    "collapsed": false
   },
   "source": [
    "<br>\n",
    "How can <em>SageMath</em> know for certain that this number is prime when it cannot begin to test for all possible factors?  The answer lies in abstract algebra.  \n",
    "Using the properties we will discover in this book, it is possible to prove whether or not a number is prime without knowing the factorization.  This in turn will have many \n",
    "applications in internet security and cryptology.\n",
    "\n",
    "Even though you were not asked to try to prove the theorems in this section, you should open the subsection and study the proofs. Soon you will be writing proofs like these yourself! \n",
    "<br><br>"
   ]
  },
  {
   "cell_type": "markdown",
   "id": "6e0d87",
   "metadata": {
    "collapsed": false
   },
   "source": [
    "<a name=\"sec12\" id=\"sec12\"></a>\n",
    "<h1>Functions</h1>\n",
    "\n",
    "<br>\n",
    "The concept of a function is central to virtually every branch of mathematics.  There are in fact various ways to define a function, but the concept remains the same.  \n",
    "Standard functions in calculus map real numbers to real numbers, but we want to consider a more abstract definition for which the input and output can come from any set.<br><br>\n",
    "\n",
    "DEFINITION 1.3<br>\n",
    "Let <em>A</em> and <em>B</em> be two non-empty sets.  A <em>function</em>, or <em>mapping</em>, from <em>A</em> to <em>B</em> is a rule that assigns to every element \n",
    "of <em>A</em> exactly one element of <em>B</em>.  The set <em>A</em> is called the <em>domain</em> of the function, and the set <em>B</em> is called the <em>target</em>.  If a \n",
    "function <em>f</em> assigns to <em>a</em> the element <em>b</em>, we write <em>f</em>(<em>a</em>) = <em>b</em>, and say that <em>b</em> \n",
    "is the image of <em>a</em> under <em>f</em>.<br><br>\n",
    "\n",
    "We will use the notation <em>f</em> : <em>A</em> &rarr; <em>B</em> to indicate that <em>f</em> is a function from the set <em>A</em> to the set <em>B</em>.  The <em>range</em> \n",
    "of <em>f</em>, or the <em>image</em> of <em>f</em>, is the set\n",
    "<p style='text-align: center;'>{<em>y</em> | <em>y</em> = <em>f</em>(<em>x</em>)&emsp;for some <em>x</em> &isin; <em>A</em>}.</p>\n",
    "\n",
    "This set is denoted by either <em>f</em>(<em>A</em>) or Im(<em>f</em>) and is a subset of <em>B</em>.<br><br>\n",
    "\n",
    "EXAMPLE:<br>\n",
    "Let <em>A</em> be the set of integers from 0 to 99, and let <em>B</em> be the set of English letters from <em>a</em> to <em>z</em>.  Let <em>&#981;</em> map each integer to the first \n",
    "letter of the English word for that number.  For example, <em>&#981;</em>(4) = <em>f</em>.  Then the range of <em>&#981;</em> is the set\n",
    "<p style='text-align: center;'>{<em>e</em>, <em>f</em>, <em>n</em>, <em>o</em>, <em>s</em>, <em>t</em>, <em>z</em>}.</p>\n",
    "                                           \n",
    "<br>\n",
    "There is often different ways to denote the same element of the set <em>A</em>, so we must be careful that the rule for the function does not depend on the way the element is \n",
    "expressed.  Had we extended the last example to include 100, this could be called either &quot;a hundred&quot; or &quot;one hundred&quot;.  Another example of an ambiguous \n",
    "definition is if we assign to each rational number <em>a</em>/<em>b</em> the value 1/<em>b</em>.  But by this rule, <em>f</em>(1/2) &ne; <em>f</em>(2/4), even though 1/2 = 2/4.  \n",
    "In order to show that a function is <em>well-defined</em>, we must show that if <em>x</em><sub>1</sub> = <em>x</em><sub>2</sub>, \n",
    "then <em>f</em>(<em>x</em><sub>1</sub>) = <em>f</em>(<em>x</em><sub>2</sub>).<br><br>\n",
    "\n",
    "EXPERIMENT:<br>\n",
    "Consider the function from the set of rational functions (denoted by &#8474;) to itself, given by\n",
    "<p style='text-align: center;'><em>f</em>(<em>a</em>/<em>b</em>) = gcd(<em>a</em>, <em>b</em>)/|<em>b</em>|.</p>\n",
    "Show that this function is well-defined.<br>"
   ]
  },
  {
   "cell_type": "markdown",
   "id": "0cedf8",
   "metadata": {
    "collapsed": false
   },
   "source": [
    "<br>\n",
    "Many functions possess special properties that we want to explore.<br><br>\n",
    "\n",
    "DEFINITION 1.4<br>\n",
    "We say that a function <em>f</em> : <em>A</em> &rarr; <em>B</em> is <em>injective</em>, or <em>one-to-one</em>, if the only way in \n",
    "which <em>f</em>(<em>x</em>) = <em>f</em>(<em>y</em>) is if <em>x</em> = <em>y</em>.<br><br> \n",
    "\n",
    "For example, the function in the experiment is not one-to-one, since <em>f</em>(1/3) = <em>f</em>(2/3).  In order to prove that a function is one-to-one, \n",
    "we assume that <em>f</em>(<em>x</em>) = <em>f</em>(<em>y</em>), and try to prove that <em>x</em> = <em>y</em>.<br><br>\n",
    "\n",
    "EXAMPLE:\n",
    "Consider the function <em>f</em> :  defined by &#8484; &rarr; &#8484; defined by<br><br>\n",
    "<table align=\"center\" border=\"0\" cellspacing=\"0\" cellpadding=\"0\">\n",
    "  <tr>\n",
    "    <td></td>\n",
    "    <td align=\"right\" valign=\"bottom\">&#9127;</td>\n",
    "    <td align=\"left\">&ensp;<em>x</em> + 3</td>\n",
    "    <td align=\"left\">&ensp; if <em>x</em> is even,</td>\n",
    "  </tr>\n",
    "  <tr>\n",
    "    <td align=\"left\"><em>f</em>(<em>x</em>) =&ensp;</td>\n",
    "    <td align=\"right\">&#9128;</td>\n",
    "    <td></td>\n",
    "    <td></td>\n",
    "  </tr>\n",
    "  <tr>\n",
    "    <td></td>\n",
    "    <td align=\"right\" valign=\"top\">&#9129;</td>\n",
    "    <td align=\"left\" valign=\"top\">&ensp;2 <em>x</em></td>\n",
    "    <td align=\"left\">&ensp; if <em>x</em> is odd.</td>\n",
    "  </tr>\n",
    "</table>\n",
    "Show that <em>f</em>(<em>x</em>) is one-to-one.<br><br>\n",
    "\n",
    "We assume that <em>f</em>(<em>x</em>) = <em>f</em>(<em>y</em>), and work to show that <em>x</em> = <em>y</em>.  Because of the way that <em>f</em>(<em>x</em>) is defined, \n",
    "there are several cases to consider, so we will use the divide and conquer strategy.<br><br>\n",
    "\n",
    "Case 1) Both <em>x</em> and <em>y</em> are even.  Then since <em>f</em>(<em>x</em>) = <em>f</em>(<em>y</em>), <em>x</em> + 3 = <em>y</em> + 3, which \n",
    "implies that <em>x</em> = <em>y</em>.<br>\n",
    "\n",
    "Case 2) Both <em>x</em> and <em>y</em> are odd.  Then since <em>f</em>(<em>x</em>) = <em>f</em>(<em>y</em>), 2 <em>x</em> = 2 <em>y</em>, so again <em>x</em> = <em>y</em>.<br>\n",
    "\n",
    "Case 3) <em>x</em> is even, and <em>y</em> is odd.  Then <em>f</em>(<em>x</em>) = <em>f</em>(<em>y</em>) implies that <em>x</em> + 3 = 2 <em>y</em>, \n",
    "or <em>x</em> = 2 <em>y</em> &minus; 3.  \n",
    "But this implies that <em>x</em> is odd, and we started out assuming that <em>x</em> is even.  Thus, this case can never happen.<br>\n",
    "\n",
    "Case 4) <em>x</em> is odd, and <em>y</em> is even.  This is a mirror image of case 3, so we find that this case also can never happen.<br><br> \n",
    "In all cases, we either showed <em>x</em> = <em>y</em>, or reached a contradition.  Thus, we have shown in all cases for which <em>f</em>(<em>x</em>) <em>could</em> equal <em>f</em>(<em>y</em>), then <em>x</em> = <em>y</em>.  Hence <em>f</em> is one-to-one.<br><br>\n",
    "\n",
    "We can also ask whether the range and the target of a given function are the same set.<br><br>\n",
    "\n",
    "DEFINITION 1.5<br>\n",
    "We say that a function <em>f</em> : <em>A</em> &rarr; <em>B</em> is <em>surjective</em>, or <em>onto</em>, if for every <em>b</em> &isin; <em>B</em> there is at least \n",
    "one <em>a</em> &isin; <em>A</em> such that <em>f</em>(<em>a</em>) = <em>b</em>.  If a function is both one-to-one and onto, it is called a <em>bijection</em>. <br><br>\n",
    "\n",
    "EXAMPLE:<br>\n",
    "Determine whether the function in the last example is onto.<br><br>\n",
    "\n",
    "Since <em>f</em>(0) = 3,  <em>f</em>(1) = 2, <em>f</em>(2) = 5, <em>f</em>(3)=6, <em>f</em>(4) = 7, <em>f</em>(5) = 10, &hellip;, it seems that <em>f</em>(<em>x</em>) is never 4.  \n",
    "Let us suppose that <em>f</em>(<em>x</em>) = 4 and reach a contradiction.<br><br>\n",
    "\n",
    "Case 1) <em>x</em> is even.  Then <em>x</em> + 3 = 4, so <em>x</em> = 1.  But this contradicts that <em>x</em> is even.<br>\n",
    "Case 2) <em>x</em> is odd.  Then 2 <em>x</em> = 4, so <em>x</em> = 2.  But this contradicts that <em>x</em> is odd.<br><br>\n",
    "Since all cases reach a contradiction, we see that <em>f</em>(<em>x</em>) &ne; 4, and so the function is not onto.<br><br>\n",
    "\n",
    "Note that one counterexample is sufficient to prove that the function is not onto.  The \n",
    "standard strategy for proving that a function <em>f</em> : <em>A</em> &rarr; <em>B is</em> onto is to show that for an arbitrary <em>y</em> &isin; <em>B</em>, there is some kind of formula for an element <em>x</em> &isin; <em>A</em> such that <em>f</em>(<em>x</em>) = <em>y</em>.<br><br>\n",
    "\n",
    "EXAMPLE:<br>\n",
    "    Let <em>f</em> : &#8474; &rarr; &#8474; be defined by <em>f</em>(<em>x</em>) = 3<em>x</em> + 5.  Show that <em>f</em> is onto.<br><br>\n",
    "\n",
    "If <em>f</em>(<em>x</em>) = <em>y</em>, we can solve for <em>x</em> to get <em>x</em> = (<em>y</em> &minus; 5)/3.  Note that this is defined for all rational numbers <em>y</em>, and produces a rational number.  Then \n",
    "<em>f</em>((<em>y</em>&minus;5)/3) = <em>y</em> for any <em>y</em> &isin; &#8474;, so <em>f</em> is onto.<br><br><br>"
   ]
  },
  {
   "cell_type": "markdown",
   "id": "ef15b1",
   "metadata": {
    "collapsed": false
   },
   "source": [
    "Often our functions will be defined on finite sets.  In these cases, it is easy to determine whether or not a function is onto if we have already proven that it is one-to-one.<br><br>\n",
    "\n",
    "DEFINIITION 1.6<br>\n",
    "For a finite set <em>A</em>, we denote the number of elements in the set by |<em>A</em>|.  If <em>A</em> is infinite, we write |<em>A</em>| = &infin;.<br><br>\n",
    "\n",
    "In the last section, we introduced the least criminal method, where we assumed that <em>n</em> was the smallest integer that caused a statement to be false.  In which case, we can assume that the statement is true for all previous <em>n</em>.  Often, we only need to utilize the fact that the statement is true for the case <em>n</em> &minus; 1.  In which case, there is a shortcut to the least criminal method called the <em>method of mathematical induction.</em>"
   ]
  },
  {
   "cell_type": "markdown",
   "id": "8c8db0",
   "metadata": {
    "collapsed": false
   },
   "source": [
    "<a name=\"theor13ret\" id=\"theor13ret\"></a>  \n",
    "THEOREM 1.3:  Principle of Mathematical Induction<br><br>\n",
    "\n",
    "Let <em>S</em>(<em>n</em>) be any statement about an integer <em>n</em>.  Suppose that <em>S</em>(<em>a</em>) is true for a starting value of <em>a</em>, and if by assuming that <em>S</em>(<em>n</em> &minus; 1) is true, we can prove that \n",
    "<em>S</em>(<em>n</em>) is true.  Then <em>S</em>(<em>n</em>) is true for all integers greater than or equal to <em>a</em>.<br><br>\n",
    "\n",
    "<a href=\"#theor13\">Click here for the proof.</a>\n",
    "\n",
    "<p />\n",
    "\n",
    "Here are the steps for proving a statement using mathematical induction:\n",
    "\n",
    "<ol>\n",
    "    <li>The base case:  Prove the statement for the starting value <em>a</em>, usually <em>a</em> = 1.</li>\n",
    "    <li>Assume the statement is true for the previous case, by replacing every <em>n</em> with <em>n</em> &minus; 1.</li>\n",
    "    <li>Use this assumption to prove the statement for the case <em>n</em>.\n",
    "</ol>\n",
    "\n",
    "We can see an example of mathematical induction in the following lemma."
   ]
  },
  {
   "cell_type": "markdown",
   "id": "703c75",
   "metadata": {
    "collapsed": false
   },
   "source": [
    "<a name=\"lem16ret\" id=\"lem16ret\"></a>  \n",
    "LEMMA 1.6<br><br>\n",
    "\n",
    "Let <em>f</em> : <em>A</em> &rarr; <em>B</em> be a function that is both one-to-one and onto, and suppose that <em>A</em> is a finite set.  \n",
    "Then |<em>A</em>| = |<em>B</em>|.<br><br>\n",
    "\n",
    "<a href=\"#lem16\">Click here for the proof.</a>\n",
    "\n",
    "<p />\n",
    "\n",
    "We can now prove an important principle that will help us to show whether a function is onto."
   ]
  },
  {
   "cell_type": "markdown",
   "id": "26d50a",
   "metadata": {
    "collapsed": false
   },
   "source": [
    "<a name=\"theor14ret\" id=\"theor14ret\"></a>  \n",
    "THEOREM 1.4: The Pigeonhole Principle<br><br>\n",
    "\n",
    "Let <em>f</em> : <em>A</em> &rarr; <em>B</em> be a function from a finite set <em>A</em> to a finite set <em>B</em>.  \n",
    "If |<em>A</em>| = |<em>B</em>| and <em>f</em> is one-to-one, then it is also onto.<br><br>\n",
    "\n",
    "<a href=\"#theor14\">Click here for the proof.</a>\n",
    "\n",
    "<p />\n",
    "\n",
    "We will often need to apply two functions in succession, creating a new function.<br><br>\n",
    "\n",
    "DEFINITION 1.7<br>\n",
    "Let <em>f</em> : <em>B</em> &rarr; <em>C</em> and <em>g</em> : <em>A</em> &rarr; <em>B</em> be two functions.  Then the \n",
    "mapping (<em>f</em> &#8728; <em>g</em>): <em>A</em> &rarr; <em>C</em> is defined by\n",
    "<p style='text-align: center;'>(<em>f</em> &#8728; <em>g</em>)(<em>x</em>) = <em>f</em>(<em>g</em>(<em>x</em>))&emsp; for all <em>x</em> &isin; <em>A</em>.</p>\n",
    "\n",
    "Note that in <em>f</em> &#8728; <em>g</em>, we apply the <em>g</em> function first, and then <em>f</em>.  Some textbooks \n",
    "have <em>f</em> &#8728; <em>g</em> = <em>g</em>(<em>f</em>(<em>x</em>)), so care must be taken when referring to other texts.<br><br>\n",
    "\n",
    "EXAMPLE:<br>\n",
    "Let  \n",
    "<table align=\"center\" border=\"0\" cellspacing=\"0\" cellpadding=\"0\">\n",
    "  <tr>\n",
    "    <td></td>\n",
    "    <td align=\"right\" valign=\"bottom\">&#9127;</td>\n",
    "    <td align=\"left\">&ensp;<em>x</em> + 3</td>\n",
    "    <td align=\"left\">&ensp; if <em>x</em> is even,</td>\n",
    "    <td></td>\n",
    "    <td align=\"right\" valign=\"bottom\">&#9127;</td>\n",
    "    <td align=\"left\">&ensp;3 <em>x</em></td>\n",
    "    <td align=\"left\">&ensp; if <em>x</em> is even,</td>\n",
    "  </tr>\n",
    "  <tr>\n",
    "    <td align=\"left\"><em>f</em>(<em>x</em>) =&ensp;</td>\n",
    "    <td align=\"right\">&#9128;</td>\n",
    "    <td></td>\n",
    "    <td></td>\n",
    "    <td align=\"left\">&ensp; and&ensp; <em>g</em>(<em>x</em>) =&ensp;</td>\n",
    "    <td align=\"right\">&#9128;</td>\n",
    "    <td></td>\n",
    "    <td></td>\n",
    "  </tr>\n",
    "  <tr>\n",
    "    <td></td> \n",
    "    <td align=\"right\" valign=\"top\">&#9129;</td>\n",
    "    <td align=\"left\" valign=\"top\">&ensp;2 <em>x</em></td>\n",
    "    <td align=\"left\">&ensp; if <em>x</em> is odd,</td>\n",
    "    <td></td>\n",
    "    <td align=\"right\" valign=\"top\">&#9129;</td>\n",
    "    <td align=\"left\" valign=\"top\">&ensp;<em>x</em> &minus; 1</td>\n",
    "    <td align=\"left\">&ensp; if <em>x</em> is odd.</td>\n",
    "  </tr>\n",
    "</table>\n",
    "Compute <em>f</em> &#8728; <em>g</em> and <em>g</em> &#8728; <em>f</em>.<br><br>\n",
    "\n",
    "For each computation, we need to consider the case <em>x</em> even and <em>x</em> odd separately.  To \n",
    "find (<em>f</em> &#8728; <em>g</em>)(<em>x</em>) = <em>f</em>(<em>g</em>(<em>x</em>)):<br><br>\n",
    "Case 1) <em>x</em> is even. Then <em>g</em>(<em>x</em>) = 3<em>x</em>, which will also be even.  Thus, <em>f</em>(<em>g</em>(<em>x</em>)) = 3<em>x</em> + 3.<br>\n",
    "Case 2) <em>x</em> is odd. Then <em>g</em>(<em>x</em>) = <em>x</em> &minus; 1, which will be even, so <em>f</em>(<em>g</em>(<em>x</em>)) = <em>x</em> + 2. Thus,<br><br>\n",
    "<table align=\"center\" border=\"0\" cellspacing=\"0\" cellpadding=\"0\">\n",
    "  <tr>\n",
    "    <td></td>\n",
    "    <td align=\"right\" valign=\"bottom\">&#9127;</td>\n",
    "    <td align=\"left\">&ensp;3<em>x</em> + 3</td>\n",
    "    <td align=\"left\">&ensp; if <em>x</em> is even,</td>\n",
    "  </tr>\n",
    "  <tr>\n",
    "    <td align=\"left\"><em>f</em> &#8728; <em>g</em> =&ensp;</td>\n",
    "    <td align=\"right\">&#9128;</td>\n",
    "    <td></td>\n",
    "    <td></td>\n",
    "  </tr>\n",
    "  <tr>\n",
    "    <td></td>\n",
    "    <td align=\"right\" valign=\"top\">&#9129;</td>\n",
    "    <td align=\"left\" valign=\"top\">&ensp;<em>x</em> + 2</td>\n",
    "    <td align=\"left\">&ensp; if <em>x</em> is odd.</td>\n",
    "  </tr>\n",
    "</table>\n",
    "To find (<em>g</em> &#8728; <em>f</em>)(<em>x</em>), we also have to consider two cases.<br><br>\n",
    "Case 1) <em>x</em> is even.  Then <em>f</em>(<em>x</em>) = <em>x</em> + 3, which will be odd.  So <em>g</em>(<em>f</em>(<em>x</em>)) = <em>x</em> + 2.<br>\n",
    "Case 2) <em>x</em> is odd.  Then f(<em>x</em>) = 2<em>x</em>, which will be even.  So <em>g</em>(<em>f</em>(<em>x</em>)) = 6<em>x</em>.  Thus,<br><br>\n",
    "<table align=\"center\" border=\"0\" cellspacing=\"0\" cellpadding=\"0\">\n",
    "  <tr>\n",
    "    <td></td>\n",
    "    <td align=\"right\" valign=\"bottom\">&#9127;</td>\n",
    "    <td align=\"left\">&ensp;<em>x</em> + 2</td>\n",
    "    <td align=\"left\">&ensp; if <em>x</em> is even,</td>\n",
    "  </tr>\n",
    "  <tr>\n",
    "    <td align=\"left\"><em>g</em> &#8728; <em>f</em> =&ensp;</td>\n",
    "    <td align=\"right\">&#9128;</td>\n",
    "    <td></td>\n",
    "    <td></td>\n",
    "  </tr>\n",
    "  <tr>\n",
    "    <td></td>\n",
    "    <td align=\"right\" valign=\"top\">&#9129;</td>\n",
    "    <td align=\"left\" valign=\"top\">&ensp;6 <em>x</em></td>\n",
    "    <td align=\"left\">&ensp; if <em>x</em> is odd.</td>\n",
    "  </tr>\n",
    "</table>\n",
    "<br>\n",
    "Note that in this case, <em>f</em> &#8728; <em>g</em> &ne; <em>g</em> &#8728; <em>f</em>.  However, if we have three functions, \n",
    "with <em>f</em> : <em>C</em> &rarr; <em>D</em>, <em>g</em> : <em>B</em> &rarr; <em>C</em>, and <em>h</em> : <em>A</em> &rarr; <em>B</em>, \n",
    "then (<em>f</em> &#8728; <em>g</em>) &#8728; <em>h</em> = <em>f</em> &#8728; (<em>g</em> &#8728; <em>h</em>), since both of these expressions \n",
    "represent <em>f</em>(<em>g</em>(<em>h</em>(<em>x</em>))).<br><br>\n",
    "\n",
    "If <em>f</em>(<em>x</em>) is both one-to-one and onto, then we will be able to define the <em>inverse function</em> of <em>f</em>."
   ]
  },
  {
   "cell_type": "markdown",
   "id": "ecdd37",
   "metadata": {
    "collapsed": false
   },
   "source": [
    "<a name=\"prop11ret\" id=\"prop11ret\"></a>  \n",
    "PROPOSITION 1.1<br>\n",
    "\n",
    "Let <em>f</em> : <em>A</em> &rarr; <em>B</em> be both one-to-one and onto.  Then \n",
    "there exists a unique function <em>g</em> : <em>B</em> &rarr; <em>A</em> such that <em>g</em>(<em>f</em>(<em>x</em>)) = <em>x</em> for all <em>x</em> in <em>A</em>, \n",
    "and <em>f</em>(<em>g</em>(<em>y</em>)) = <em>y</em> for all <em>y</em> &isin; <em>B</em>.<br><br>\n",
    "\n",
    "<a href=\"#prop11\">Click here for the proof.</a>\n",
    "\n",
    "<p />\n",
    "\n",
    "DEFINITION 1.8<br>\n",
    "The unique function in Proposition 1.1 is called the inverse function of <em>f</em>(<em>x</em>) and is denoted by <em>f</em><sup>&thinsp;-1</sup>(<em>y</em>).<br><br>\n",
    "\n",
    "EXAMPLE:<br>\n",
    "Consider the function <em>f</em> : &#8484; &rarr; &#8484; given by\n",
    "<table align=\"center\" border=\"0\" cellspacing=\"0\" cellpadding=\"0\">\n",
    "  <tr>\n",
    "    <td></td>\n",
    "    <td align=\"right\" valign=\"bottom\">&#9127;</td>\n",
    "    <td align=\"left\">&ensp;<em>x</em> + 3</td>\n",
    "    <td align=\"left\">&ensp; if <em>x</em> is even,</td>\n",
    "  </tr>\n",
    "  <tr>\n",
    "    <td align=\"left\"><em>f</em>(<em>x</em>) =&ensp;</td>\n",
    "    <td align=\"right\">&#9128;</td>\n",
    "    <td></td>\n",
    "    <td></td>\n",
    "  </tr>\n",
    "  <tr>\n",
    "    <td></td>\n",
    "    <td align=\"right\" valign=\"top\">&#9129;</td>\n",
    "    <td align=\"left\" valign=\"top\">&ensp;<em>x</em> &minus; 1</td>\n",
    "    <td align=\"left\">&ensp; if <em>x</em> is odd.</td>\n",
    "  </tr>\n",
    "</table>\n",
    "Show that this is both one-to-one and onto, and find <em>f</em><sup>&thinsp;-1</sup>(<em>y</em>).<br><br>\n",
    "\n",
    "If <em>f</em>(<em>x</em>) = <em>f</em>(<em>y</em>), the only interesting case is if <em>x</em> is even, and <em>y</em> is odd.  Then <em>x</em> + 3 = <em>y</em> &minus; 1, \n",
    "or <em>y</em> = <em>x</em> + 4, which would be even, not odd.  Likewise, case where <em>x</em> is odd and <em>y</em> is even leads to a contradiction.  Thus, <em>x</em> = <em>y</em>, and <em>f</em> is one-to-one.<br><br>\n",
    "\n",
    "To show that <em>f</em> is onto, we must show that for every <em>y</em>, there is an <em>x</em> so that <em>f</em>(<em>x</em>) = <em>y</em>.  \n",
    "We break this into two cases.<br><br> \n",
    "Case 1) <em>y</em> is even.  Then <em>y</em> + 1 will be odd, so <em>f</em>(<em>y</em> + 1) = (<em>y</em> + 1) &minus; 1 = <em>y</em>.<br>\n",
    "Case 2) <em>y</em> is odd.  Then <em>y</em> &minus; 3 is even, so <em>f</em>(<em>y</em> &minus; 3) = (<em>y</em> &minus; 3) + 3 = <em>y</em>.<br><br>\n",
    "In both cases, we found an <em>x</em> so that <em>f</em>(<em>x</em>) = <em>y</em>.  In the process of determining that <em>f</em> is onto, we computed the inverse.<br><br>\n",
    "<table align=\"center\" border=\"0\" cellspacing=\"0\" cellpadding=\"0\">\n",
    "  <tr>\n",
    "    <td></td>\n",
    "    <td align=\"right\" valign=\"bottom\">&#9127;</td>\n",
    "    <td align=\"left\">&ensp;<em>y</em> + 1</td>\n",
    "    <td align=\"left\">&ensp; if <em>y</em> is even,</td>\n",
    "  </tr>\n",
    "  <tr>\n",
    "    <td align=\"left\"><em>f</em><sup>&thinsp;-1</sup>(<em>y</em>) =&ensp;</td>\n",
    "    <td align=\"right\">&#9128;</td>\n",
    "    <td></td>\n",
    "    <td></td>\n",
    "  </tr>\n",
    "  <tr>\n",
    "    <td></td>\n",
    "    <td align=\"right\" valign=\"top\">&#9129;</td>\n",
    "    <td align=\"left\" valign=\"top\">&ensp;<em>y</em> &minus; 3</td>\n",
    "    <td align=\"left\">&ensp; if <em>y</em> is odd.</td>\n",
    "  </tr>\n",
    "</table>\n",
    "<br>"
   ]
  },
  {
   "cell_type": "markdown",
   "id": "65ebcf",
   "metadata": {
    "collapsed": false
   },
   "source": [
    "<a name=\"sec13\" id=\"sec13\"></a>\n",
    "<h1>Binary Operators</h1> \n",
    "\n",
    "So far we have only considered functions with one input variable.  But we could also consider functions with two input variables, <em>f</em>(<em>x</em>, <em>y</em>).  \n",
    "For simplicity we will only consider the cases where <em>x</em> and <em>y</em> come from the same set, which is also the target set.<br><br>\n",
    "\n",
    "DEFINITION 1.9<br>\n",
    "Let <em>A</em> be a non-empty set.  A <em>binary operation</em> is a function that assigns to every <em>x</em> and <em>y</em> in <em>A</em> an element <em>z</em> in <em>A</em>.<br><br>\n",
    "\n",
    "Although we could denote a binary operation as <em>z</em> = <em>f</em>(<em>x</em>, <em>y</em>), we will typically denote the operation by the infix \n",
    "notation <em>z</em> = <em>x</em> &lowast; <em>y</em>.  The binary operators that we are familiar with are addition, subtraction, and multiplication, but the &lowast; could represent <em>any</em> function with two input values.  Often we will use a dot (&middot;) instead of the asterisk, depending on the context.<br><br>\n",
    "\n",
    "EXAMPLE:<br>\n",
    "Suppose we define the binary operation <em>x</em> &lowast; <em>y</em> on the set &#8484; by\n",
    "<p style='text-align: center;'><em>x</em> &lowast; <em>y</em> = <em>x</em> + <em>y</em> + <em>x y</em>.</p>\n",
    "Show that <em>a</em> &lowast; <em>b</em> = <em>b</em> &lowast; <em>a</em>.<br><br>\n",
    "\n",
    "To find <em>a</em> &lowast; <em>b</em>, we replace every <em>x</em> with <em>a</em> and every <em>y</em> with\n",
    "<em>b</em> in the definition, to get <em>a</em> &lowast; <em>b</em> = <em>a</em> + <em>b</em> + <em>a b</em>.\n",
    "Likewise, to find <em>b</em> &lowast; <em>a</em>, we replace every <em>x</em> with <em>b</em> and every <em>y</em> with\n",
    "<em>a</em> to get <em>b</em> &lowast; <em>a</em> = <em>b</em> + <em>a</em> + <em>b a</em>.  But \n",
    "<em>a</em> + <em>b</em> + <em>a b</em> = <em>b</em> + <em>a</em> + <em>b a</em>, so <em>a</em> &lowast; <em>b</em> = <em>b</em> &lowast; <em>a</em>.<br><br>\n",
    "\n",
    "DEFINITION 1.10<br>\n",
    "If a binary operation &lowast; has the property that <em>a</em> &lowast; <em>b</em> = <em>b</em> &lowast; <em>a</em> for all \n",
    "<em>a</em> and <em>b</em> in the set, we say that the binary operation is <em>commutative.</em>  If a binary operation has the property that (<em>a</em> &lowast; <em>b</em>) &lowast; <em>c</em> = <em>a</em> &lowast; (<em>b</em> &lowast; <em>c</em>) for all <em>a</em>, <em>b</em>, and <em>c</em> in the set, we say the binary operation is <em>associative.</em><br><br>\n",
    "\n",
    "We saw in the last example that the binary operation <em>x</em> &lowast; <em>y</em> = <em>x</em> + <em>y</em> + <em>x y</em> is commutative.  But because the binary operation is a <em>function</em>, to test if a binary operation is associative, we have to plug a function into <em>itself.</em><br><br>\n",
    "\n",
    "EXAMPLE:<br>\n",
    "Determine whether the binary operation of the last example is associative.  That is, determine if (<em>a</em> &lowast; <em>b</em>) &lowast; <em>c</em> = <em>a</em> &lowast; (<em>b</em> &lowast; <em>c</em>).<br><br>\n",
    "\n",
    "To compute (<em>a</em> &lowast; <em>b</em>) &lowast; <em>c</em>, we replace every <em>x</em> with (<em>a</em> &lowast; <em>b</em>) and every <em>y</em> with <em>c</em> in the definition.  \n",
    "<p style='text-align: center;'>(<em>a</em> &lowast; <em>b</em>) &lowast; <em>c</em> = \n",
    "(<em>a</em> &lowast; <em>b</em>) + <em>c</em> +  (<em>a</em> &lowast; <em>b</em>) <em>c</em>.</p><br>\n",
    "Now we can replace <em>a</em> &lowast; <em>b</em> with <em>a</em> + <em>b</em> + <em>a b</em>, again using the definition of &lowast;.\n",
    "<p style='text-align: center;'>(<em>a</em> &lowast; <em>b</em>) &lowast; <em>c</em> = \n",
    "(<em>a</em> + <em>b</em> + <em>a b</em>) + <em>c</em> +  (<em>a</em> + <em>b</em> + <em>a b</em>) <em>c</em></p>\n",
    "<p style='text-align: center;'>= <em>a</em> + <em>b</em> + <em>c</em> + <em>a b</em> + <em>a c</em> + <em>b c</em> + <em>a b c</em>.</p><br>\n",
    "To compute <em>a</em> &lowast; (<em>b</em> &lowast; <em>c</em>), we replace every <em>x</em> with <em>a</em> and every <em>y</em> with (<em>b</em> &lowast; <em>c</em>) in the definition.\n",
    "<p style='text-align: center;'>\n",
    "<em>a</em> &lowast; (<em>b</em> &lowast; <em>c</em>) = <em>a</em> + (<em>b</em> &lowast; <em>c</em>) + <em>a</em>(<em>b</em> &lowast; <em>c</em>).</p><br>\n",
    "Now we can replace <em>b</em> &lowast; <em>c</em> with <em>b</em> + <em>c</em> + <em>b c</em> according to the definition of &lowast;.\n",
    "<p style='text-align: center;'>\n",
    "<em>a</em> &lowast; (<em>b</em> &lowast; <em>c</em>) = <em>a</em> + (<em>b</em> + <em>c</em> + <em>b c</em>) + <em>a</em>(<em>b</em> + <em>c</em> + <em>b c</em>)</p>\n",
    "<p style='text-align: center;'>= <em>a</em> + <em>b</em> + <em>c</em> + <em>a b</em> + <em>a c</em> + <em>b c</em> + <em>a b c</em>.</p><br>    \n",
    "\n",
    "Thus, we see that (<em>a</em> &lowast; <em>b</em>) &lowast; <em>c</em> = <em>a</em> &lowast; (<em>b</em> &lowast; <em>c</em>) for all <em>a</em>, <em>b</em>, and <em>c</em>, so the binary operation is associative. <br><br>"
   ]
  },
  {
   "cell_type": "markdown",
   "id": "7bac06",
   "metadata": {
    "collapsed": false
   },
   "source": [
    "EXAMPLE:<br>\n",
    "Define the binary operation on the set of real numbers by<br>\n",
    "<p style='text-align: center;'><em>x</em> &lowast; <em>y</em> = min(<em>x</em>, <em>y</em>),</p>\n",
    "where min(<em>x</em>, <em>y</em>) denotes the smaller of <em>x</em> or <em>y</em>.  Show that this binary operation is both commutative and associative.<br><br>\n",
    "\n",
    "We have <em>a</em> &lowast; <em>b</em> = min(<em>a</em>, <em>b</em>) and <em>b</em> &lowast; <em>a</em> = min(<em>b</em>, <em>a</em>).  But finding the smaller of two numbers does not depend on the order of the numbers, as we can see from <em>SageMath</em>:"
   ]
  },
  {
   "cell_type": "code",
   "execution_count": 0,
   "id": "140bf3",
   "metadata": {
    "collapsed": false
   },
   "outputs": [
   ],
   "source": [
    "min(3, 4)"
   ]
  },
  {
   "cell_type": "code",
   "execution_count": 0,
   "id": "8bd989",
   "metadata": {
    "collapsed": false
   },
   "outputs": [
   ],
   "source": [
    "min(4, 3)"
   ]
  },
  {
   "cell_type": "markdown",
   "id": "19f7e5",
   "metadata": {
    "collapsed": false
   },
   "source": [
    "so <em>a</em> &lowast; <em>b</em> = <em>b</em> &lowast; <em>a</em>, and the binary operator is commutative.<br><br>\n",
    "To show that the binary operator is associative, we need to compute \n",
    "(<em>a</em> &lowast; <em>b</em>) &lowast; <em>c</em>.  Using the definition of &lowast; twice, this becomes min(min(<em>a</em>, <em>b</em>), <em>c</em>).  But if we take the smaller of two numbers, and then in turn take the smaller of this with a third number, we will get the smallest of the three numbers."
   ]
  },
  {
   "cell_type": "code",
   "execution_count": 0,
   "id": "1fbc84",
   "metadata": {
    "collapsed": false
   },
   "outputs": [
   ],
   "source": [
    "min(min(4,2),3)"
   ]
  },
  {
   "cell_type": "code",
   "execution_count": 0,
   "id": "42500b",
   "metadata": {
    "collapsed": false
   },
   "outputs": [
   ],
   "source": [
    "min(min(3,4),2)"
   ]
  },
  {
   "cell_type": "markdown",
   "id": "4d0b02",
   "metadata": {
    "collapsed": false
   },
   "source": [
    "Thus, (<em>a</em> &lowast; <em>b</em>) &lowast; <em>c</em> = min(<em>a</em>, <em>b</em>, <em>c</em>).  Likewise,\n",
    "<em>a</em> &lowast; (<em>b</em> &lowast; <em>c</em>) = min(<em>a</em>, min(<em>b</em>, <em>c</em>)) = min(<em>a</em>, <em>b</em>, <em>c</em>), so the binary operation is associative.<br><br>\n",
    "\n",
    "Although a binary operation is usually defined by a formula, if the set <em>A</em> on which the binary operation is defined is finite, we can also define the binary operation by making a table of all combinations of <em>x</em> &lowast; <em>y</em>.  Such a table is called a <em>Cayley table</em>.  To find <em>x</em> &lowast; <em>y</em> using a Cayley table, the first value <em>x</em> is always on the <em>left</em>, and the second value <em>y</em> is always on the <em>top</em>.<br><br>\n",
    "\n",
    "EXAMPLE:<br>\n",
    "Let the set <em>A</em> consist of the four letters {<em>a</em>, <em>b</em>, <em>c</em>, <em>d</em>}.  Define a binary operation by the following Cayley table:\n",
    "\n",
    "<table>\n",
    "    <tr>\n",
    "        <td width=\"30\" align=\"center\">&lowast;</td>\n",
    "        <td width=\"1\" align=\"center\">|</td>\n",
    "        <td width=\"30\" align=\"center\"><em>a</em></td>\n",
    "        <td width=\"30\" align=\"center\"><em>b</em></td>\n",
    "        <td width=\"30\" align=\"center\"><em>c</em></td> \n",
    "        <td width=\"30\" align=\"center\"><em>d</em></td>\n",
    "    </tr>\n",
    "    <tr>\n",
    "        <td align=\"center\">___</td>\n",
    "        <td align=\"center\">|</td>\n",
    "        <td align=\"center\">___</td>\n",
    "        <td align=\"center\">___</td>\n",
    "        <td align=\"center\">___</td>\n",
    "        <td align=\"center\">___</td>\n",
    "    </tr>\n",
    "    <tr>\n",
    "        <td align=\"center\"><em>a</em></td>\n",
    "        <td align=\"center\">|</td>\n",
    "        <td align=\"center\"><em>a</em></td>\n",
    "        <td align=\"center\"><em>a</em></td>\n",
    "        <td align=\"center\"><em>a</em></td> \n",
    "        <td align=\"center\"><em>a</em></td>\n",
    "    </tr>\n",
    "    <tr>\n",
    "        <td align=\"center\"><em>b</em></td>\n",
    "        <td align=\"center\">|</td>\n",
    "        <td align=\"center\"><em>a</em></td>\n",
    "        <td align=\"center\"><em>b</em></td>\n",
    "        <td align=\"center\"><em>b</em></td> \n",
    "        <td align=\"center\"><em>a</em></td>\n",
    "    </tr>    \n",
    "    <tr>\n",
    "        <td align=\"center\"><em>c</em></td>\n",
    "        <td align=\"center\">|</td>\n",
    "        <td align=\"center\"><em>a</em></td>\n",
    "        <td align=\"center\"><em>c</em></td>\n",
    "        <td align=\"center\"><em>c</em></td> \n",
    "        <td align=\"center\"><em>a</em></td>\n",
    "    </tr>\n",
    "    <tr>\n",
    "        <td align=\"center\"><em>d</em></td>\n",
    "        <td align=\"center\">|</td>\n",
    "        <td align=\"center\"><em>a</em></td>\n",
    "        <td align=\"center\"><em>d</em></td>\n",
    "        <td align=\"center\"><em>d</em></td> \n",
    "        <td align=\"center\"><em>a</em></td>\n",
    "    </tr>    \n",
    "</table>\n",
    "\n",
    "Show that this binary operator is associative, even though it is not commutative.<br><br>\n",
    "\n",
    "It is easy to tell from the Cayley table whether or not the binary operator is commutative.  If the binary operator is commutative, the table will be symmetric about the line going from the top left to the bottom right.  However, this table is not symmetric, since <em>b</em> &lowast; <em>c</em> = <em>b</em>, but <em>c</em> &lowast; <em>b</em> = <em>c</em>.  Thus, this binary operator is not commutative.\n",
    "\n",
    "Determining whether a binary operator is associative or not from the Cayley table is harder.  We must determine whether (<em>x</em> &lowast; <em>y</em>) &lowast; <em>z</em> = <em>x</em> &lowast; (<em>y</em> &lowast; <em>z</em>) for every combination of <em>x</em>, <em>y</em>, and <em>z</em>.  \n",
    "In this case, it would mean testing 4<sup>3</sup> = 64 combinations.  However, we can shorten this list by observing patterns in the Cayley table.  By looking at the columns of the table, we find that \n",
    "<p style='text-align: center;'><em>x</em> &lowast; <em>a</em> = <em>a</em>, &emsp;&emsp; <em>x</em> &lowast; <em>b</em> = <em>x</em>, &emsp;&emsp; <em>x</em> &lowast; <em>c</em> = <em>x</em>, &emsp;&emsp; <em>x</em> &lowast; <em>d</em> = <em>a</em>, &emsp; for all <em>x</em>.</p>\n",
    "\n",
    "Thus, for any <em>x</em> and <em>y</em>,\n",
    "<p style='text-align: center;'>(<em>x</em> &lowast; <em>y</em>) &lowast; <em>a</em> = <em>a</em>, &emsp; and &emsp; <em>x</em> &lowast; (<em>y</em> &lowast; <em>a</em>) = <em>x</em> &lowast; <em>a</em> = <em>a</em>,</p>\n",
    "<p style='text-align: center;'>(<em>x</em> &lowast; <em>y</em>) &lowast; <em>b</em> = <em>x</em> &lowast; <em>y</em>, &emsp; and &emsp; <em>x</em> &lowast; (<em>y</em> &lowast; <em>b</em>) = <em>x</em> &lowast; <em>y</em>,</p>\n",
    "<p style='text-align: center;'>(<em>x</em> &lowast; <em>y</em>) &lowast; <em>c</em> = <em>x</em> &lowast; <em>y</em>, &emsp; and &emsp; <em>x</em> &lowast; (<em>y</em> &lowast; <em>c</em>) = <em>x</em> &lowast; <em>y</em>,</p>\n",
    "<p style='text-align: center;'>(<em>x</em> &lowast; <em>y</em>) &lowast; <em>d</em> = <em>a</em>, &emsp; and &emsp; <em>x</em> &lowast; (<em>y</em> &lowast; <em>d</em>) = <em>x</em> &lowast; <em>a</em> = <em>a</em>.</p>\n",
    "\n",
    "Thus we have shown that (<em>x</em> &lowast; <em>y</em>) &lowast; <em>z</em> = <em>x</em> &lowast; (<em>y</em> &lowast; <em>z</em>) for every combination of <em>x</em>, <em>y</em>, and <em>z</em>, so the binary operation is associative.\n",
    "\n",
    "\n",
    "DEFINITION 1.11<br>\n",
    "Let &lowast; be a binary operation defined on a set <em>A</em>.  We say that a subset <em>B</em> of <em>A</em> is <em>closed</em> with respect to &lowast; if whenever \n",
    "both <em>x</em> and <em>y</em> are in <em>B</em>, then <em>x</em> &lowast; <em>y</em> is in <em>B</em>.<br><br>\n",
    "\n",
    "EXAMPLE:<br>\n",
    "Let &lowast; be the binary operation of the first example, <em>x</em> &lowast; <em>y</em> = <em>x</em> + <em>y</em> + <em>x y</em>. Show that the subset of odd integers is closed with respect to &lowast;.<br><br>\n",
    "\n",
    "Let <em>x</em> and <em>y</em> be odd integers.   Then we can express <em>x</em> = 2<em>m</em> + 1 and <em>y</em> = 2<em>n</em> + 1 for some integers <em>m</em> and <em>n</em>.  Then\n",
    "<p style='text-align: center;'><em>x</em> &lowast; <em>y</em> = \n",
    "(2<em>m</em> + 1) &lowast; (2<em>n</em> + 1)</p>\n",
    "<p style='text-align: center;'> = (2<em>m</em> + 1) + (2<em>n</em> + 1) + (2<em>m</em> + 1)(2<em>n</em> + 1)</p> \n",
    "<p style='text-align: center;'> = 2<em>m</em> + 1 + 2<em>n</em> + 1 + 4<em>m n</em> + 2<em>m</em> + 2<em>n</em> + 1</p>\n",
    "<p style='text-align: center;'> = 4<em>m</em> + 4<em>n</em> + 4<em>m n</em> + 3</p>\n",
    "<p style='text-align: center;'> = 2(2<em>m</em> + 2<em>n</em> + 2<em>m n</em> + 1) + 1.</p>\n",
    "Thus, we see that <em>x</em> &lowast; <em>y</em> is an odd integer, so the set is closed.<br>"
   ]
  },
  {
   "cell_type": "markdown",
   "id": "38821e",
   "metadata": {
    "collapsed": false
   },
   "source": [
    "<a name=\"sec14\" id=\"sec14\"></a>\n",
    "<h1>Modular Arithmetic</h1> \n",
    "\n",
    "<br>\n",
    "\n",
    "There is an important operation on the set of integers &#8484; that we will use throughout the book, based on the division algorithm.  It is an abstraction of a counting method \n",
    "often used in everyday life.  For example, using standard 12 hour time, if it is 7:00 now, what time will it be 8 hours from now?  The answer is not 15:00, since clock \n",
    "time &quot;wraps around&quot; every 12 hours, so the correct answer is 3:00.  This type of arithmetic that &quot;wraps around&quot; is called modular arithmetic.  We formally define \n",
    "modular arithmetic as follows.<br><br>\n",
    "\n",
    "DEFINITION 1.12<br>\n",
    "Let <em>x</em>, <em>y</em> &isin; &#8484;, with <em>y</em> &gt; 0.  We define the operator\n",
    "<p style='text-align: center;'><em>x</em> <strong>mod</strong> <em>y</em>,</p>\n",
    "pronounced &quot;<em>x</em> modulo <em>y</em>,&quot; to be the unique value <em>r</em> from the division algorithm, which selects <em>q</em> and \n",
    "0 &le; <em>r</em> &lt; <em>y</em> such that <em>x</em> = <em>q y</em> + <em>r</em>.  The number <em>y</em> is called the <em>modulus</em>.<br><br>\n",
    "\n",
    "The <strong>mod</strong> operation is almost, but not quite, a binary operation on &#8484;, since it is not defined if <em>y</em> = 0.  Since there is a difference of opinion \n",
    "as to how the operator should be defined for <em>y</em> &lt; 0, we will only use the operator for <em>y</em> &gt; 0.<br><br>\n",
    "\n",
    "EXAMPLE:<br>\n",
    "Compute 8342 <strong>mod</strong> 43.<br><br>\n",
    "\n",
    "Since 8342 = 194&middot;43 + 6, we see that 8342 <strong>mod</strong> 43 = 6.<br><br>\n",
    "\n",
    "EXAMPLE:<br>\n",
    "Compute 743532645703453453463 <strong>mod</strong> 257275073624623.<br><br>\n",
    "\n",
    "For numbers this large, we will use <em>SageMath</em> to help.  We use the <strong>%</strong> symbol for the <strong>mod</strong> operator.<br>"
   ]
  },
  {
   "cell_type": "code",
   "execution_count": 0,
   "id": "00b195",
   "metadata": {
    "collapsed": false
   },
   "outputs": [
   ],
   "source": [
    "743532645703453453463 % 257275073624623"
   ]
  },
  {
   "cell_type": "markdown",
   "id": "c13c17",
   "metadata": {
    "collapsed": false
   },
   "source": [
    "<br>\n",
    "Sometimes the modulo operation is very easy to compute.  For any positive <em>x</em>, <em>x</em> <strong>mod</strong> 10 will be the last digit in the decimal \n",
    "representation of the number.  There are other tricks for small values of <em>y</em>.<br><br>\n",
    "\n",
    "A familiar property of standard arithmetic is that the last digit of the sum and product of two positive numbers <em>x</em> and <em>y</em> can be computed using only the \n",
    "last digits of <em>x</em> and <em>y</em>.  This can be generalized in the following proposition."
   ]
  },
  {
   "cell_type": "markdown",
   "id": "babcfb",
   "metadata": {
    "collapsed": false
   },
   "source": [
    "<a name=\"prop12ret\" id=\"prop12ret\"></a>\n",
    "PROPOSITION 1.2<br>\n",
    "\n",
    "If <em>x</em>, <em>y</em>, and <em>n</em> are integers with <em>n</em> &gt; 0, then\n",
    "<p style='text-align: center;'>(<em>x</em> + <em>y</em>) <strong>mod</strong> <em>n</em> = \n",
    "((<em>x</em> <strong>mod</strong> <em>n</em>) + (<em>y</em> <strong>mod</strong> <em>n</em>)) <strong>mod</strong> <em>n</em>,</p>\n",
    "and         \n",
    "<p style='text-align: center;'>(<em>x y</em>) <strong>mod</strong> <em>n</em> = \n",
    "((<em>x</em> <strong>mod</strong> <em>n</em>)&middot;(<em>y</em> <strong>mod</strong> <em>n</em>)) <strong>mod</strong> <em>n</em>.</p>\n",
    "\n",
    "<a href=\"#prop12\">Click here for the proof.</a>\n",
    "\n",
    "<p />\n",
    "\n",
    "We can use Proposition 1.2 to compute powers modulo <em>n</em>.  Since raising a number to an integer power is equivalent to repeated multiplication, we see that \n",
    "<p style='text-align: center;'>(<em>x<sup>y</sup></em>) <strong>mod</strong> <em>n</em> = \n",
    "(<em>x</em> <strong>mod</strong> <em>n</em>)<sup><em>y</em></sup> <strong>mod</strong> <em>n</em>.</p>\n",
    "\n",
    "EXAMPLE:<br>\n",
    "Compute 234<sup>5</sup> <strong>mod</strong> 29.<br><br>\n",
    "\n",
    "Since 234 <strong>mod</strong> 29 = 2, the answer is the same as 2<sup>5</sup> <strong>mod</strong> 29, and 32 <strong>mod</strong> 29 = 3.<br><br>\n",
    "\n",
    "WARNING:  It is not true that \n",
    "<p style='text-align: center;'>(<em>x<sup>y</sup></em>) <strong>mod</strong> <em>n</em> = \n",
    "(<em>x</em> <strong>mod</strong> <em>n</em>)<sup>(<em>y</em> <strong>mod</strong> <em>n</em>)</sup> <strong>mod</strong> <em>n</em>.</p>\n",
    "\n",
    "That is, we cannot apply the modulus to an exponent.  However, there is a trick for simplifying a power in the case that the exponent is large&mdash;using the binary \n",
    "representation of the exponent <em>y</em>.  The procedure is known as the <em>repeated squaring algorithm</em> and is best explained by an example.<br><br>\n",
    "\n",
    "EXAMPLE:<br>\n",
    "Compute 25<sup>35</sup> <strong>mod</strong> 29.<br><br>\n",
    "\n",
    "The number 25<sup>35</sup> is 49 digits long, and the base is already smaller than the modulus, so there is no obvious way of simplifying the expression.  By looking at the \n",
    "binary representation of 35, we find that 35 = 32 + 2 + 1.  Thus,\n",
    "<p style='text-align: center;'>25<sup>35</sup> = 25<sup>32</sup>&middot;25<sup>2</sup>&middot;25<sup>1</sup>.</p>\n",
    "\n",
    "In order to compute 25<sup>32</sup> <strong>mod</strong> 29, we can <em>square</em> the number 5 times.\n",
    "\n",
    "<p style='text-align: center;'>25<sup>2</sup> <strong>mod</strong> 29 = 625 <strong>mod</strong> 29 = 16,&emsp;&emsp;&emsp;&emsp;&emsp;&emsp;<br>\n",
    "                     25<sup>4</sup> <strong>mod</strong> 29 = 16<sup>2</sup> <strong>mod</strong> 29 = 256 <strong>mod</strong> 29 = 24,<br>\n",
    "                     25<sup>8</sup> <strong>mod</strong> 29 = 24<sup>2</sup> <strong>mod</strong> 29 = 576 <strong>mod</strong> 29 = 25,<br>\n",
    "                     25<sup>16</sup> <strong>mod</strong> 29 = 25<sup>2</sup> <strong>mod</strong> 29 = 625 <strong>mod</strong> 29 = 16,<br>\n",
    "                     25<sup>32</sup> <strong>mod</strong> 29 = 16<sup>2</sup> <strong>mod</strong> 29 = 256 <strong>mod</strong> 29 = 24.</p>\n",
    "\n",
    "Finally, we see that \n",
    "<p style='text-align: center;'>25<sup>35</sup> <strong>mod</strong> 29 = 25<sup>32</sup>&middot;25<sup>2</sup>&middot;25<sup>1</sup> <strong>mod</strong> 29 = 24&middot;16&middot;25 <strong>mod</strong> 29 = 9600 <strong>mod</strong> 29 = 1.</p>\n",
    "Note that we never had to deal with numbers more than 4 digits long.<br><br>\n",
    "\n",
    "The <em>SageMath</em> command <strong>PowerMod(x, y, n)</strong> uses this algorithm to compute <em>x<sup>y</sup></em> <strong>mod</strong> <em>n</em>.<br><br>\n",
    "\n",
    "EXAMPLE:<br>\n",
    "Use <em>SageMath</em> to find 743532645703453453463<sup>42364872163462467234</sup> <strong>mod</strong> 2572750736246233264872.<br>"
   ]
  },
  {
   "cell_type": "code",
   "execution_count": 0,
   "id": "c50c63",
   "metadata": {
    "collapsed": false
   },
   "outputs": [
   ],
   "source": [
    "PowerMod(743532645703453453463, 42364872163462467234, 2572750736246233264872)"
   ]
  },
  {
   "cell_type": "markdown",
   "id": "c3699c",
   "metadata": {
    "collapsed": false
   },
   "source": [
    "Note that <em>SageMath</em> was able to do this computation fast.  We will see that the ability for computers to quickly compute large powers modulo <em>n</em> has applications \n",
    "in internet security.<br><br>\n",
    "\n",
    "There is another property of modular arithmetic involving coprime numbers \n",
    "that will be used often \n",
    "throughout the book, known to the ancient Chinese since before 240 C.E."
   ]
  },
  {
   "cell_type": "markdown",
   "id": "783497",
   "metadata": {
    "collapsed": false
   },
   "source": [
    "<a name=\"theor15ret\" id=\"theor15ret\"></a>\n",
    "THEOREM 1.5:  The Chinese Remainder Theorem<br>\n",
    "\n",
    "If <em>x</em> and <em>y</em> in &#8484;<sup>+</sup> are coprime, then given any <em>a</em> and <em>b</em> in &#8484;, there is a unique <em>k</em> in &#8484; \n",
    "such that\n",
    "<p style='text-align: center;'>0 &le; <em>k</em> < <em>x y</em>,</p>\n",
    "<p style='text-align: center;'><em>k</em> <strong>mod</strong> <em>x</em> = <em>a</em> <strong>mod</strong> <em>x</em>, and</p>\n",
    "<p style='text-align: center;'><em>k</em> <strong>mod</strong> <em>y</em> = <em>b</em> <strong>mod</strong> <em>y</em>.</p>\n",
    "\n",
    "<a href=\"#theor15\">Click here for the proof.</a>\n",
    "\n",
    "<p />\n",
    "\n",
    "This is a constructive proof, since it gives us a formula for finding the value of <em>k</em>, namely <em>k</em> = (<em>a v y + b u x</em>) <strong>mod</strong> (<em>x y</em>).<br><br>\n",
    "\n",
    "EXAMPLE:<br>\n",
    "Find a non-negative number <em>k</em> less than 210 such that\n",
    "<p style='text-align: center;'><em>k</em> <strong>mod</strong> 14 = 3, and<br>\n",
    "                  <em>k</em> <strong>mod</strong> 15 = 7.</p>\n",
    "Since 14 and 15 are coprime, we begin by finding <em>u</em> and <em>v</em> such that 14 <em>u</em> + 15 <em>v</em> = 1.  But there is the obvious solution\n",
    "<p style='text-align: center;'>14 (&minus;1) + 15 (1) = 1.</p>\n",
    "Then we compute <em>k</em> to be <em>a v y</em> + <em>b u x</em> = 3&middot;15 + 7&middot;(&minus;14) = &minus;53.  But since this is negative, we can add 14&middot;15 to get another \n",
    "solution, 157.<br><br>                  \n",
    "\n",
    "There is a <em>SageMath</em> command <strong>crt(a, b, x, y)</strong> that finds <em>k</em> given the 2 sets {<em>a</em>, <em>b</em>} and {<em>x</em>, <em>y</em>}.<br><br>\n",
    "\n",
    "EXAMPLE:<br>\n",
    "Use <em>SageMath</em> to find a number <em>k</em> such that \n",
    "\n",
    "<p style='text-align: center;'><em>k</em> <strong>mod</strong> 77123471239874233 = 57345720357234529&emsp; and<br>\n",
    "<em>k</em> <strong>mod</strong> 64237468234862362 = 56813465823592454.&emsp;&emsp;&ensp;</p>"
   ]
  },
  {
   "cell_type": "code",
   "execution_count": 0,
   "id": "b107b4",
   "metadata": {
    "collapsed": false
   },
   "outputs": [
   ],
   "source": [
    "crt(57345720357234529, 56813465823592454, 77123471239874233, 64237468234862362)"
   ]
  },
  {
   "cell_type": "markdown",
   "id": "cb7af3",
   "metadata": {
    "collapsed": false
   },
   "source": [
    "<br>\n",
    "We can verify that this solution is correct.<br>"
   ]
  },
  {
   "cell_type": "code",
   "execution_count": 0,
   "id": "febf51",
   "metadata": {
    "collapsed": false
   },
   "outputs": [
   ],
   "source": [
    "1959998626378684249237399917749988 % 77123471239874233"
   ]
  },
  {
   "cell_type": "code",
   "execution_count": 0,
   "id": "dfd7f8",
   "metadata": {
    "collapsed": false
   },
   "outputs": [
   ],
   "source": [
    "1959998626378684249237399917749988 % 64237468234862362"
   ]
  },
  {
   "cell_type": "markdown",
   "id": "3adf8b",
   "metadata": {
    "collapsed": false
   },
   "source": [
    "<br>\n",
    "The Chinese remainder theorem has many applications.  One of these is in the distribution of classified information among two or more people in such a way so that no one \n",
    "person can see the information.  Each would receive one of the two (or more) modulus conditions, which is not enough information to determine the number <em>k</em>.  Only when \n",
    "all of the pieces of the problem are assembled can <em>k</em> be determined, which can be decoded.<br><br>\n",
    "\n",
    "Another application is in solving linear congruence equations of the form\n",
    "<p style='text-align: center;'>(<em>m x</em>) <strong>mod</strong> <em>n</em> = <em>a</em>.</p>                            \n",
    "This can be solved by letting <em>k</em> = <em>m x</em>.  Then\n",
    "<p style='text-align: center;'><em>k</em> <strong>mod</strong> <em>n</em> = a,&emsp; and<br>\n",
    "<em>k</em> <strong>mod</strong> <em>m</em> = <em>0</em>.&emsp;&emsp;</p>    \n",
    "Since <em>k</em> is known, we can find <em>x</em>.<br><br>\n",
    "\n",
    "EXAMPLE:<br>\n",
    "Solve the linear congruence equation\n",
    "<p style='text-align: center;'>12 <em>x</em> <strong>mod</strong> 19 = 3.</p>\n",
    "                           \n",
    "We need to solve <em>k</em> <strong>mod</strong> 19 = 3 and <em>k</em> <strong>mod</strong> 12 = 0.  Thus, we must first find a <em>u</em> and <em>v</em> such \n",
    "that 19 <em>u</em> + 12 <em>v</em> = 1.  Using the Euclidean algorithm, we find that \n",
    "<p style='text-align: center;'>(&minus;5)&middot;19 + 8&middot;12 = 1.</p>\n",
    "Using these values of <em>u</em> and <em>v</em>, we have that \n",
    "<p style='text-align: center;'><em>k</em> = <em>a v y</em> + <em>b u x</em> = 3&middot;8&middot;12 + 0&middot;(&minus;5)&middot;19 = 288.</p>\n",
    "Finally, <em>x</em> = 12 <em>k</em>, so <em>x</em> = 24.  Note that we can add or subtract multiples of 19 to get other solutions, so <em>x</em> = 5 also \n",
    "works.<br> "
   ]
  },
  {
   "cell_type": "markdown",
   "id": "6c5a16",
   "metadata": {
    "collapsed": false
   },
   "source": [
    "<a name=\"sec15\" id=\"sec15\"></a>\n",
    "<h1>Rational and Real Numbers</h1>\n",
    "\n",
    "Having studied the properties of integers, let us turn our attention to rational numbers and real numbers.  The set of rational numbers &#8474; can be described as the numbers of the form  <em>p</em>/<em>q</em>, where <em>p</em> is an integer and <em>q</em> is a positive integer. <br><br>\n",
    "\n",
    "Although the set of rationals &#8474; is easy to define, it is often hard to visualize. One way to illustrate the rationals graphically can be seen by executing the following <em>SageMath</em>\n",
    "command:<br>"
   ]
  },
  {
   "cell_type": "code",
   "execution_count": 0,
   "id": "95fb35",
   "metadata": {
    "collapsed": false
   },
   "outputs": [
   ],
   "source": [
    "ShowRationals(-5, 5)"
   ]
  },
  {
   "cell_type": "markdown",
   "id": "9f86e1",
   "metadata": {
    "collapsed": false
   },
   "source": [
    "<br>\n",
    "This plot helps to visualize the rational numbers from &minus;5 to 5 using a sequence of rows. The <em>n</em><sup>th</sup> row represents the rational numbers in simplest form \n",
    "whose denominator is equal to <em>n</em>. Thus, the first row represents the integers, the second row the half integers, and so on. Each row is drawn three-fourths closer \n",
    "to the <em>x</em>-axis than the previous row. In principle there would be an infinite number of rows, getting closer and closer to each other as they get close to \n",
    "the <em>x</em>-axis. <br><br>\n",
    " \n",
    "Even though this plot does not show all of the rational numbers (since there are an infinite number of them), we can zoom in on this graph to see more detail.  Simply \n",
    "use different upper and lower bounds. For example, we can zoom in on the apparent &quot;gap&quot; close to the origin:<br>"
   ]
  },
  {
   "cell_type": "code",
   "execution_count": 0,
   "id": "84059f",
   "metadata": {
    "collapsed": false
   },
   "outputs": [
   ],
   "source": [
    "ShowRationals(0, 0.1)"
   ]
  },
  {
   "cell_type": "markdown",
   "id": "d23199",
   "metadata": {
    "collapsed": false
   },
   "source": [
    "<br>\n",
    "This picture seems to indicate that there are not any rationals between 0 and about 0.04. Is this true?<br><br>\n",
    " \n",
    "EXPERIMENT:<br>\n",
    "Change the 0 and 0.1 in the above command to zoom in even closer on this gap. Try to find an interval in which there are no points plotted in the graph.  Can you find \n",
    "an interval without any rational numbers?<br>"
   ]
  },
  {
   "cell_type": "markdown",
   "id": "d61a7b",
   "metadata": {
    "collapsed": false
   },
   "source": [
    "<br><br>\n",
    "In doing this experiment you not only might make a discovery about rational numbers, but you might even be able to see <em>why</em> this property is true."
   ]
  },
  {
   "cell_type": "markdown",
   "id": "2366aa",
   "metadata": {
    "collapsed": false
   },
   "source": [
    "<a name=\"prop13ret\" id=\"prop13ret\"></a>\n",
    "PROPOSITION 1.3<br>\n",
    "If <em>a</em> and <em>b</em> are any two different real numbers, then there is a rational number between <em>a</em> and <em>b</em>.<br><br>\n",
    "\n",
    "<a href=\"#prop13\">Click here for the proof.</a>\n",
    "\n",
    "<p />\n",
    "It is not hard to extend this proposition to show that between any two numbers, there are in fact an infinite number of rational numbers. <br><br>\n",
    " \n",
    "There are some other properties of the rational numbers that are suggested by the <em>SageMath</em> plot. Here is the plot again, from &minus;5 to 5:<br>"
   ]
  },
  {
   "cell_type": "code",
   "execution_count": 0,
   "id": "798c87",
   "metadata": {
    "collapsed": false
   },
   "outputs": [
   ],
   "source": [
    "ShowRationals(-5,5)"
   ]
  },
  {
   "cell_type": "markdown",
   "id": "bf2da7",
   "metadata": {
    "collapsed": false
   },
   "source": [
    "<br>\n",
    "Having all of these dots on a page may tempt one to play &quot;dot to dot&quot; to see if a picture forms. In this case there may not be a picture, but perhaps some \n",
    "pattern can be formed by connecting these dots. Go ahead and try it!<br><br>\n",
    " \n",
    "EXPERIMENT:<br>\n",
    "Make a printout of the above plot and try to find a way to start at one point, then connect all of the dots using a sequence of straight lines. Try to keep the path \n",
    "from crossing itself. The aim is not just to connect the dots which are printed, but to created a pattern which, when continued indefinitely, will eventually hit \n",
    "every rational number no matter how close to the <em>x</em>-axis it appears, or how far to the left or right of the origin it is. There are, in fact, many ways this can \n",
    "be done.<br>"
   ]
  },
  {
   "cell_type": "markdown",
   "id": "505d30",
   "metadata": {
    "collapsed": false
   },
   "source": [
    "<br><br>\n",
    "What does this experiment show?  When we are connecting the dots together, we are, in fact, forming a <em>sequence</em> of rational numbers. By finding a way to connect \n",
    "the dots so that every rational number is eventually hit, we have found an infinite sequence that includes every rational number once and only once. In other words, there \n",
    "are just as many rational numbers as there are integers!  This is at first surprising since we just saw that there are many more rationals, in fact an infinite number of \n",
    "them between any two. <br><br>\n",
    " \n",
    "DEFINITION 1.13<br>\n",
    "A set <em>S</em> is called <em>countable</em> if there is an infinite sequence of elements from the set that includes every member of the set.<br><br>\n",
    "\n",
    "\n",
    "What do sequences have to do with comparing the sizes of two sets?  A sequence can be considered as a function between the set of positive integers and the set <em>S</em>.  \n",
    "If a sequence manages to include every member of the set <em>S</em>, then it stands to reason that there are at least as &quot;many&quot; positive integers as there are \n",
    "elements of <em>S</em>.  The shocking fact is that even though it would first appear that there must be infinitely many more rational numbers than integers, in fact the two \n",
    "sets have the same size."
   ]
  },
  {
   "cell_type": "markdown",
   "id": "48b697",
   "metadata": {
    "collapsed": false
   },
   "source": [
    "<a name=\"prop14ret\" id=\"prop14ret\"></a>\n",
    "PROPOSITION 1.4<br>The set of rationals forms a countable set.<br><br>\n",
    "\n",
    "<a href=\"#prop14\">Click here for the proof.</a>\n",
    "\n",
    "<p />\n",
    "Even though we have shown that there are an infinite number of rational numbers between any two numbers, the natural question to ask is whether there are numbers that are \n",
    "not rational. The first discovery of a number that was not rational was the square root of two, proven by the Greeks."
   ]
  },
  {
   "cell_type": "markdown",
   "id": "f1d3eb",
   "metadata": {
    "collapsed": false
   },
   "source": [
    "<a name=\"prop15ret\" id=\"prop15ret\"></a>\n",
    "PROPOSITION 1.5<br>\n",
    "There is no rational number <em>p</em>/<em>q</em> such that (<em>p</em>/<em>q</em>)<sup>2</sup> = 2.<br><br>\n",
    "\n",
    "<a href=\"#prop15\">Click here for the proof.</a>\n",
    "<p />\n",
    "\n",
    "This proof is another example of a <em>reductio ad absurdum</em> proof. That is, we assume that the statement we were trying to prove was false, and proceeded until we reach \n",
    "a contradiction.<br><br>\n",
    " \n",
    "If real numbers which are not rational are called <em>irrational numbers</em>. Irrational numbers are characterized by the fact that their decimal representation never repeats. \n",
    "With <em>SageMath</em>, we can look at as many digits of &radic;<font style=\"text-decoration: overline;\">2</font> as we want, and see that there is no pattern.  Here are \n",
    "the first 1000 digits.<br>"
   ]
  },
  {
   "cell_type": "code",
   "execution_count": 0,
   "id": "65a9cb",
   "metadata": {
    "collapsed": false
   },
   "outputs": [
   ],
   "source": [
    "N(sqrt(2), digits = 1000)"
   ]
  },
  {
   "cell_type": "markdown",
   "id": "8fb10a",
   "metadata": {
    "collapsed": false
   },
   "source": [
    "<br>\n",
    "We will denote the set of real numbers, both rational and irrational, by &#8477;.<br><br>\n",
    "\n",
    "We have already proven that there is, in essence, the same number of rational numbers as integers.  This may not come as too much of a shock, since both sets are infinite, \n",
    "so logically two infinite sets ought to be the same size.  But the set of real numbers is also infinite, so one might be tempted to think that there is the same number of \n",
    "real numbers as integers.  However, the number of reals is \"more infinite\" than the number of integers.  In other words, we cannot construct a sequence of real numbers \n",
    "that contains every real number, as we did for rational numbers.  This surprising fact was proved by Georg Cantor using a classic argument."
   ]
  },
  {
   "cell_type": "markdown",
   "id": "4be645",
   "metadata": {
    "collapsed": false
   },
   "source": [
    "<a name=\"theor16ret\" id=\"theor16ret\"></a>\n",
    "THEOREM 1.6: Cantor's Diagonalization Theorem<br>\n",
    "The set of all real numbers between 0 and 1 is <em>uncountable</em>. That is, there cannot be a sequence of numbers that contains every real number between 0 and 1.<br><br>\n",
    "\n",
    "<a href=\"#theor16\">Click here for the proof.</a>\n",
    "\n",
    "<p />\n",
    "We will use the sets &#8474; and &#8477; throughout this book, so knowing the properties of these two sets will be important in many of the examples."
   ]
  },
  {
   "cell_type": "markdown",
   "id": "cc3687",
   "metadata": {
    "collapsed": false
   },
   "source": [
    "<br><br><br><br><br><br><br><br><br><br><br><br><br><br><br><br><br><br><br><br><br><br><br><br><br><br><br><br><br><br><br><br><br><br><br><br><br><br><br><br><br><br>\n",
    "\n",
    "<h1>Proofs:</h1>"
   ]
  },
  {
   "cell_type": "markdown",
   "id": "70ff3c",
   "metadata": {
    "collapsed": false
   },
   "source": [
    "<a name=\"theor11\" id=\"theor11\"></a>\n",
    "Proof of Theorem 1.1:<br><br>\n",
    "\n",
    "Since <em>y</em> &gt; 0, we can consider the rational number <em>x</em>/<em>y</em>.  Let <em>q</em> be the largest integer that is less than or equal to <em>x</em>/<em>y</em>.  \n",
    "That is, we will pick the integer <em>q</em> so that\n",
    "<p style='text-align: center;'><em>q</em> &le; <em>x</em>/<em>y</em> &lt; <em>q</em> + 1.</p>                                    \n",
    "Multiplying by <em>y</em>, we have \n",
    "<p style='text-align: center;'><em>y q</em> &le; <em>x</em> &lt; <em>y q</em> + <em>y</em>.</p>                                   \n",
    "If we let <em>r</em> = <em>x</em> &minus; <em>y q</em>, we have 0 &le; <em>r</em> &lt; <em>y</em>, and also <em>x</em> = <em>y q</em> + <em>r</em>, so we have found \n",
    "integers <em>q</em> and <em>r</em> that satisfy the required properties.<br><br>  \n",
    "\n",
    "In order to show that <em>q</em> and <em>r</em> are unique, let us suppose that <em>q</em><sub>2</sub> and \n",
    "<em>r</em><sub>2</sub> are two other integers that satisfy the required conditions.  \n",
    "Then <em>q y</em> + <em>r</em> = <em>q</em><sub>2</sub> <em>y</em> + <em>r</em><sub>2</sub>, so\n",
    "<p style='text-align: center;'>(<em>q</em> &minus; <em>q</em><sub>2</sub>)<em>y</em> = <em>r</em><sub>2</sub> &minus; <em>r</em>.</p>                                   \n",
    "Since both <em>r</em> and <em>r</em><sub>2</sub> are between 0 and <em>y</em> &minus; 1, the right-hand side is less than <em>y</em> in absolute \n",
    "value.  But the left-hand side is at least <em>y</em> in absolute value unless <em>q</em> = <em>q</em><sub>2</sub>.  This in turn will \n",
    "force <em>r</em> = <em>r</em><sub>2</sub>, so we see that the solution is unique.<br><br> \n",
    " \n",
    "<a href=\"#theor11ret\">Return to text</a>"
   ]
  },
  {
   "cell_type": "markdown",
   "id": "2fdc91",
   "metadata": {
    "collapsed": false
   },
   "source": [
    "<br><br><br><br><br><br><br><br><br><br><br><br><br><br><br><br><br><br><br><br><br><br><br><br><br><br><br><br><br><br><br><br><br><br><br><br><br><br><br><br><br><br>"
   ]
  },
  {
   "cell_type": "markdown",
   "id": "b6c220",
   "metadata": {
    "collapsed": false
   },
   "source": [
    "<a name=\"lem11\" id=\"lem11\"></a>\n",
    "Proof of Lemma 1.1:<br><br>\n",
    " \n",
    "Suppose that some number greater than 1 does not have a prime factor.  Then we consider the set of all integers greater than 1 which do not have a prime factor, and using the \n",
    "well-ordering axiom, we find the smallest such number, called <em>n</em>.<br>  \n",
    "\n",
    "Then <em>n</em> is not prime, otherwise <em>n</em> would have a prime factor.  Then by \n",
    "definition, <em>n</em> must have a positive divisor besides 1 and <em>n</em>, say <em>m</em>.  Since <nobr>1 &lt; <em>m</em> &lt; <em>n</em>,</nobr> and <em>n</em> was the smallest number \n",
    "greater than 1 without a prime factor, <em>m</em> must have a prime factor, say <em>p</em>.  Then <em>p</em> is also a prime factor of <em>n</em>, so we have a contradiction. Therefore, every number greater than 1 has a prime factor.<br><br>\n",
    " \n",
    "<a href=\"#lem11ret\">Return to text</a>"
   ]
  },
  {
   "cell_type": "markdown",
   "id": "eb51a9",
   "metadata": {
    "collapsed": false
   },
   "source": [
    "<br><br><br><br><br><br><br><br><br><br><br><br><br><br><br><br><br><br><br><br><br><br><br><br><br><br><br><br><br><br><br><br><br><br><br><br><br><br><br><br><br><br>"
   ]
  },
  {
   "cell_type": "markdown",
   "id": "830ec8",
   "metadata": {
    "collapsed": false
   },
   "source": [
    "<a name=\"lem12\" id=\"lem12\"></a>\n",
    "Proof of Lemma 1.2:<br><br>\n",
    " \n",
    "Let <em>n</em> be the least criminal.  This allows us to assume the statement is true for all integers \n",
    "2 &le; <em>k</em> &lt; <em>n</em>, and that <em>n</em> is not the product of one or more primes.  If <em>n</em> is prime, we have <em>n</em> as the product of one prime, which gives us a contradiction.  If <em>n</em> is not prime, then we can express \n",
    "    <em>n</em> = <em>a b</em>, where both <em>a</em> and <em>b</em> are between 1 and <em>n</em>.  By our assumption, <em>a</em> and <em>b</em> can both be expressed as a product of positive primes, and so <em>n</em> can also be expressed as a product of primes, again giving us a contradiction.  In either case we have a contradiction, so we have proven the lemma.\n",
    " \n",
    "<a href=\"#lem12ret\">Return to text</a>"
   ]
  },
  {
   "cell_type": "markdown",
   "id": "0050ec",
   "metadata": {
    "collapsed": false
   },
   "source": [
    "<br><br><br><br><br><br><br><br><br><br><br><br><br><br><br><br><br><br><br><br><br><br><br><br><br><br><br><br><br><br><br><br><br><br><br><br><br><br><br><br><br><br> "
   ]
  },
  {
   "cell_type": "markdown",
   "id": "a410a1",
   "metadata": {
    "collapsed": false
   },
   "source": [
    "<a name=\"lem13\" id=\"lem13\"></a>\n",
    "Proof of Lemma 1.3:<br><br>  \n",
    "  \n",
    "Let <em>A</em> denote the set of all positive numbers that can be expressed in the form  <em>u</em> <em>x</em> + <em>v</em> <em>y</em>.  Note that both \n",
    "|<em>x</em>| and |<em>y</em>| can be written in the form <em>u</em> <em>x</em> + <em>v</em> <em>y</em>, so by the well-ordering axoim, we can consider the <em>smallest</em> positive number \n",
    "<em>n</em> in <em>A</em>. Note that gcd(<em>x</em>, <em>y</em>) is a factor of both \n",
    "<em>x</em> and <em>y</em>, so gcd(<em>x</em>, <em>y</em>) must be a factor of <em>n</em>.<br><br>\n",
    "\n",
    "By the division algorithm (Theorem 1.1), we can find <em>q</em> and <em>r</em>, with 0 &le; <em>r</em> &lt; <em>n</em>, such that <em>x</em> = <em>q n</em> + <em>r</em>.  Then\n",
    "<p style='text-align: center;'><em>r</em> = <em>x</em> &minus; <em>q n</em> = <em>x</em> &minus; <em>q</em> (<em>u x</em> + <em>v y</em>) = (1 &minus; <em>q u</em>)<em>x</em> \n",
    "+ (&minus;<em>v</em>)<em>y</em>.</p>\n",
    "If <em>r</em> &ne; 0, then <em>r</em> would be a smaller positive number in <em>A</em> than <em>n</em>, which contradicts the way we \n",
    "chose <em>n</em>.  Thus, <nobr></nobr><em>r</em> = 0,</nobr> and <em>n</em> | <em>x</em>.  By similar reasoning, <em>n</em> is also a divisor of <em>y</em>. \n",
    "Thus, <em>n</em> is a common divisor of <em>x</em> \n",
    "and <em>y</em>, and since the gcd(<em>x</em>, <em>y</em>) is in turn a divisor of <em>n</em>, <em>n</em> must be equal to gcd(<em>x</em>, <em>y</em>).<br><br>  \n",
    "  \n",
    "<a href=\"#lem13ret\">Return to text</a>"
   ]
  },
  {
   "cell_type": "markdown",
   "id": "1eba04",
   "metadata": {
    "collapsed": false
   },
   "source": [
    "<br><br><br><br><br><br><br><br><br><br><br><br><br><br><br><br><br><br><br><br><br><br><br><br><br><br><br><br><br><br><br><br><br><br><br><br><br><br><br><br><br><br>"
   ]
  },
  {
   "cell_type": "markdown",
   "id": "4f7d87",
   "metadata": {
    "collapsed": false
   },
   "source": [
    "<a name=\"lem14\" id=\"lem14\"></a>\n",
    "Proof of Lemma 1.4:<br><br>\n",
    " \n",
    "Suppose that  <em>p</em> does not divide <em>a</em> so that <em>p</em> and <em>a</em> are coprime.  By B&eacute;zout's lemma (1.3), there exist \n",
    "integers <em>u</em> and <em>v</em> such that <em>u a</em> + <em>v p</em> = 1.  Then\n",
    "\n",
    "<p style='text-align: center;'><em>u a b</em> + <em>v p b</em> = <em>b</em>.</p> \n",
    "                  \n",
    "Since <em>p</em> divides both terms on the left-hand side, we see that <em>p</em> | <em>b</em>.  Thus, <em>p</em> must divide either <em>a</em> or <em>b</em>.<br><br>\n",
    " \n",
    "<a href=\"#lem14ret\">Return to text</a>"
   ]
  },
  {
   "cell_type": "markdown",
   "id": "67de0a",
   "metadata": {
    "collapsed": false
   },
   "source": [
    "<br><br><br><br><br><br><br><br><br><br><br><br><br><br><br><br><br><br><br><br><br><br><br><br><br><br><br><br><br><br><br><br><br><br><br><br><br><br><br><br><br><br>"
   ]
  },
  {
   "cell_type": "markdown",
   "id": "5fc389",
   "metadata": {
    "collapsed": false
   },
   "source": [
    "<a name=\"lem15\" id=\"lem15\"></a>\n",
    "Proof of Lemma 1.5:<br><br>\n",
    " \n",
    "We will use the least criminal method on <em>n</em>.  That is, we will assume that <em>n</em> is the smallest number for which the statement is false, and reach a contradiction.  Because of Euclid's Lemma (1.4), we know that <em>n</em> is not 2.  Since <em>n</em> is the smallest number for which the statement is false, we know that the statement is true for the case <em>n</em>&minus;1.  That is, if\n",
    "<em>p</em> divides  <em>a</em><sub>1</sub> <em>a</em><sub>2</sub> <em>a</em><sub>3</sub> &#8943; <em>a</em><sub><em>n</em>&minus;1</sub>, then <em>p</em> divides \n",
    "<em>a<sub>i</sub></em> for some <em>i</em>.  If we let <em>b</em> = \n",
    "<em>a</em><sub>1</sub> <em>a</em><sub>2</sub> <em>a</em><sub>3</sub> &#8943; <em>a</em><sub><em>n</em>&minus;1</sub>, \n",
    "then <em>a</em><sub>1</sub> <em>a</em><sub>2</sub> <em>a</em><sub>3</sub>  &#8943; <em>a<sub>n</sub></em> = <em>b</em> <em>a<sub>n</sub></em>.  By Euclid's Lemma (1.4), \n",
    "if <em>p</em> divides <em>b</em> <em>a<sub>n</sub></em>, then <em>p</em> divides either <em>b</em> or <em>a<sub>n</sub></em>.  But if <em>p</em> divides <em>b</em>, then <em>p</em> divides <em>a<sub>i</sub></em> for some 1 &le; <em>i</em> &le; <em>n</em> &minus; 1.  So it either case, <em>p</em> divides <em>a<sub>i</sub></em> for \n",
    "some 1 &le; <em>i</em> &le; <em>n</em>.  This means that <em>n</em> is not the smallest number for which the statement is false, so we have reached the contradiction.<br><br>\n",
    " \n",
    "<a href=\"#lem15ret\">Return to text</a>"
   ]
  },
  {
   "cell_type": "markdown",
   "id": "7faf5e",
   "metadata": {
    "collapsed": false
   },
   "source": [
    "<br><br><br><br><br><br><br><br><br><br><br><br><br><br><br><br><br><br><br><br><br><br><br><br><br><br><br><br><br><br><br><br><br><br><br><br><br><br><br><br><br><br> "
   ]
  },
  {
   "cell_type": "markdown",
   "id": "c7b338",
   "metadata": {
    "collapsed": false
   },
   "source": [
    "<a name=\"theor12\" id=\"theor12\"></a>\n",
    "Proof of Theorem 1.2:<br><br>  \n",
    "  \n",
    "Lemma 1.2 shows that all integers greater than 1 can be expressed as a product of positive primes.  So we only have to show uniqueness.  We will use the least criminal method.  That is, we will let <em>s</em> be the smallest positive integer that has two factorizations\n",
    "<p style='text-align: center;'><em>s</em> = <em>p</em><sub>1</sub> <em>p</em><sub>2</sub> <em>p</em><sub>3</sub> &#8943; <em>p<sub>n</sub></em> = \n",
    "<em>q</em><sub>1</sub> <em>q</em><sub>2</sub> <em>q</em><sub>3</sub> &#8943; <em>q<sub>m</sub></em>,</p>\n",
    "\n",
    "where <em>p</em><sub>1</sub>, <em>p</em><sub>2</sub>, &hellip; <em>p<sub>n</sub></em>, <em>q</em><sub>1</sub>, <em>q</em><sub>2</sub>, &hellip; <em>q<sub>m</sub></em> are all \n",
    "positive primes.  Note that if <em>s</em> were prime, then <em>s</em> would clearly have only one prime factorization, <em>s</em>.  So we can assume <em>s</em> is composite.<br><br>\n",
    "\n",
    "By Lemma 1.5, since <em>p<sub>n</sub></em> | <em>q</em><sub>1</sub> <em>q</em><sub>2</sub> <em>q</em><sub>3</sub> &#8943; <em>q<sub>m</sub></em>, <em>p<sub>n</sub></em> must \n",
    "divide one of the <em>q<sub>i</sub></em>'s.  Since <em>p<sub>n</sub></em> and <em>q<sub>i</sub></em> are both positive primes, we find that <em>p<sub>n</sub></em> = \n",
    "<em>q<sub>i</sub></em>.  By rearranging the remaining <em>q</em>'s, we can write\n",
    "<p style='text-align: center;'><em>p</em><sub>1</sub> <em>p</em><sub>2</sub> <em>p</em><sub>3</sub> &#8943; <em>p<sub>n</sub></em> = \n",
    "<em>q</em><sub>1</sub> <em>q</em><sub>2</sub> <em>q</em><sub>3</sub> &#8943; <em>q</em><sub><em>m</em>&minus;1</sub> <em>p<sub>n</sub></em>.</p>\n",
    "              \n",
    "Thus, \n",
    "<p style='text-align: center;'><em>s</em>/<em>p<sub>n</sub></em> = <em>p</em><sub>1</sub> <em>p</em><sub>2</sub> <em>p</em><sub>3</sub> &#8943; <em>p</em><sub><em>n</em>&minus;1</sub> = \n",
    "<em>q</em><sub>1</sub> <em>q</em><sub>2</sub> <em>q</em><sub>3</sub> &#8943; <em>q</em><sub><em>m</em>&minus;1</sub>.</p>\n",
    "\n",
    "Since <em>s</em> is the least criminal, <em>s</em>/<em>p<sub>n</sub></em> has a unique prime factorization, up to rearrangement of the prime factors.  So <em>n</em> = <em>m</em>, and \n",
    "the <em>p</em>'s are a rearrangement of the <em>q</em>'s.  Thus, <em>s</em> also has a unique prime factorization, contradicting the least criminal statement.<br><br>  \n",
    "  \n",
    "<a href=\"#theor12ret\">Return to text</a>"
   ]
  },
  {
   "cell_type": "markdown",
   "id": "493ecd",
   "metadata": {
    "collapsed": false
   },
   "source": [
    "<br><br><br><br><br><br><br><br><br><br><br><br><br><br><br><br><br><br><br><br><br><br><br><br><br><br><br><br><br><br><br><br><br><br><br><br><br><br><br><br><br><br>"
   ]
  },
  {
   "cell_type": "markdown",
   "id": "1fb2aa",
   "metadata": {
    "collapsed": false
   },
   "source": [
    "<a name=\"theor13\" id=\"theor13\"></a>\n",
    "Proof of Theorem 1.3:<br><br>\n",
    "  \n",
    "Suppose that there was some <em>n</em> greater than or equal to <em>a</em> for which the statement <em>S</em>(<em>n</em>) was false.  Let <em>n</em> be the least criminal, that is, the smallest <em>n</em> for which <em>S</em>(<em>n</em>) is false.  Since we know <em>S</em>(<em>a</em>) is true, <em>n</em> &ne; <em>a</em>.  Then <em>S</em>(<em>n</em> &minus; 1) would be true, since <em>n</em> &minus; 1 is smaller than <em>n</em>, and still greater to or equal to <em>a</em>.  But by assuming that <em>S</em>(<em>n</em> &minus; 1) is true, we can prove that <em>S</em>(<em>n</em>) is also true.  Thus, we have a contradiction, and <em>S</em>(<em>n</em>) is true for all integers greater than or equal to <em>a</em>.<br><br> \n",
    " \n",
    "<a href=\"#theor13ret\">Return to text</a>"
   ]
  },
  {
   "cell_type": "markdown",
   "id": "365157",
   "metadata": {
    "collapsed": false
   },
   "source": [
    "<br><br><br><br><br><br><br><br><br><br><br><br><br><br><br><br><br><br><br><br><br><br><br><br><br><br><br><br><br><br><br><br><br><br><br><br><br><br><br><br><br><br>"
   ]
  },
  {
   "cell_type": "markdown",
   "id": "f99ef8",
   "metadata": {
    "collapsed": false
   },
   "source": [
    "<a name=\"lem16\" id=\"lem16\"></a>\n",
    "Proof of Lemma 1.6:<br><br>\n",
    " \n",
    "We will use induction on the size <em>n</em> = |<em>A</em>|.  If A has only one element, <em>a</em><sub>1</sub>, then <em>f</em>(<em>a</em><sub>1</sub>) = <em>b</em><sub>1</sub>, \n",
    "and <em>B</em> = {<em>b</em><sub>1</sub>}.  Let us suppose that the statement is true for <em>n</em> &minus; 1.<br>\n",
    "\n",
    "If <em>A</em> = {<em>a</em><sub>1</sub>, <em>a</em><sub>2</sub>, <em>a</em><sub>1</sub>, &hellip; <em>a<sub>n</sub></em>}, then <em>f</em>(<em>a<sub>n</sub></em>) = <em>b</em> for \n",
    "some <em>b</em> &isin; <em>B</em>.  First we let <em>C</em> = {<em>a</em><sub>1</sub>, <em>a</em><sub>2</sub>, <em>a</em><sub>1</sub>, &hellip; <em>a</em><sub><em>n</em>&minus;1</sub>} = <em>A</em> &minus; {<em>a<sub>n</sub></em>}, that is, we remove the \n",
    "element <em>a<sub>n</sub></em> from the set <em>A</em>, and let <em>D</em> = <em>B</em> &minus; {<em>b</em>}. Then we can define the \n",
    "function <em>g</em> : <em>C</em> &rarr; <em>D</em> by <em>g</em>(<em>x</em>) = \n",
    "<em>f</em>(<em>x</em>) for <em>x</em> &isin; <em>C</em>.  Since <em>f</em> is a bijection, so \n",
    "is <em>g</em>, since no other element of <em>A</em> could map to <em>b</em>.  By induction, we see \n",
    "that |<em>C</em>| = |<em>D</em>|, and since |<em>A</em>| = |<em>C</em>| + 1 and |<em>B</em>| = |<em>D</em>| + 1, then |<em>A</em>| = |<em>B</em>|. <br><br>\n",
    " \n",
    "<a href=\"#lem16ret\">Return to text</a>"
   ]
  },
  {
   "cell_type": "markdown",
   "id": "9459f7",
   "metadata": {
    "collapsed": false
   },
   "source": [
    "<br><br><br><br><br><br><br><br><br><br><br><br><br><br><br><br><br><br><br><br><br><br><br><br><br><br><br><br><br><br><br><br><br><br><br><br><br><br><br><br><br><br> "
   ]
  },
  {
   "cell_type": "markdown",
   "id": "1dfa24",
   "metadata": {
    "collapsed": false
   },
   "source": [
    "<a name=\"theor14\" id=\"theor14\"></a>\n",
    "Proof of Theorem 1.4:<br><br>  \n",
    "  \n",
    "Let <em>R</em> be the range of <em>f</em>, which would be a subset of <em>B</em>.  Then the function <em>f</em> : <em>A</em> &rarr; <em>R</em> would be both one-to-one and onto, so by Lemma 1.6 we \n",
    "have |<em>A</em>| = |<em>R</em>|.  Since we also have \n",
    "that |<em>A</em>| = |<em>B</em>|, then <em>B</em> = <em>R</em>, so the function is onto.<br><br>  \n",
    "  \n",
    "<a href=\"#theor14ret\">Return to text</a>"
   ]
  },
  {
   "cell_type": "markdown",
   "id": "cc60a1",
   "metadata": {
    "collapsed": false
   },
   "source": [
    "<br><br><br><br><br><br><br><br><br><br><br><br><br><br><br><br><br><br><br><br><br><br><br><br><br><br><br><br><br><br><br><br><br><br><br><br><br><br><br><br><br><br>"
   ]
  },
  {
   "cell_type": "markdown",
   "id": "02ed20",
   "metadata": {
    "collapsed": false
   },
   "source": [
    "<a name=\"prop11\" id=\"prop11\"></a>\n",
    "Proof of Proposition 1.1:<br><br>  \n",
    "  \n",
    "Because <em>f</em> is both one-to-one and onto, for every <em>y</em> &isin; <em>B</em> there is a \n",
    "unique <em>x</em> &isin; <em>A</em> such that <em>f</em>(<em>x</em>) = <em>y</em>.  \n",
    "Thus, we can define <em>g</em>(<em>y</em>) to be that value <em>x</em> such that <em>f</em>(<em>x</em>) = <em>y</em>.  \n",
    "By the way <em>g</em>(<em>y</em>) is defined, we see that <em>f</em>(<em>g</em>(<em>y</em>)) = <em>y</em> for all <em>y</em> &isin; <em>B</em>.  If we apply the \n",
    "function <em>g</em> to both sides of this equation, we have <em>g</em>(<em>f</em>(<em>g</em>(<em>y</em>))) = <em>g</em>(<em>y</em>).  \n",
    "Since every element <em>x</em> &isin; <em>A</em> can be written as <em>g</em>(<em>y</em>) for some <em>y</em> &isin; <em>B</em>, we can \n",
    "replace <em>g</em>(<em>y</em>) with <em>x</em> to get <em>g</em>(<em>f</em>(<em>x</em>)) = <em>x</em> for all <em>x</em> &isin; <em>A</em>.<br><br>  \n",
    "\n",
    "To show that the function is unique, suppose there is another such function <em>h</em>(<em>x</em>) : <em>B</em> &rarr; <em>A</em>.  Then\n",
    "<p style='text-align: center;'><em>h</em>(<em>y</em>) = <em>h</em>(<em>f</em>(<em>g</em>(<em>y</em>))) = \n",
    "(<em>h</em> &#8728; <em>f</em>)(<em>g</em>(<em>y</em>)) = <em>g</em>(<em>y</em>)&emsp; for all <em>y</em> &isin; <em>B</em>.</p> \n",
    "\n",
    "Thus, <em>h</em> = <em>g</em>, showing that the function is unique.<br><br>  \n",
    "  \n",
    "<a href=\"#prop11ret\">Return to text</a>"
   ]
  },
  {
   "cell_type": "markdown",
   "id": "614b78",
   "metadata": {
    "collapsed": false
   },
   "source": [
    "<br><br><br><br><br><br><br><br><br><br><br><br><br><br><br><br><br><br><br><br><br><br><br><br><br><br><br><br><br><br><br><br><br><br><br><br><br><br><br><br><br><br>"
   ]
  },
  {
   "cell_type": "markdown",
   "id": "ea7a2b",
   "metadata": {
    "collapsed": false
   },
   "source": [
    "<a name=\"prop12\" id=\"prop12\"></a>\n",
    "Proof of Proposition 1.2:<br><br>  \n",
    "  \n",
    "In both equations, the two sides are between 0 and <em>n</em> &minus; 1, so it is sufficient to show that the difference of the two sides is a multiple of <em>n</em>.  \n",
    "Let <em>a</em> = <em>x</em> <strong>mod</strong> <em>n</em>, <em>b</em> = <em>y</em> <strong>mod</strong> <em>n</em>, \n",
    "<em>c</em> = (<em>x</em> + <em>y</em>) <strong>mod</strong> <em>n</em>, and <em>d</em> = (<em>x y</em>) <strong>mod</strong> <em>n</em>.  Then there are \n",
    "integers <em>q</em><sub>1</sub>, <em>q</em><sub>2</sub>, <em>q</em><sub>3</sub>, and <em>q</em><sub>4</sub> such that \n",
    "<p style='text-align: center;'><em>x</em> = <em>q</em><sub>1</sub> <em>n</em> + <em>a</em>,&emsp; <em>y</em> = <em>q</em><sub>2</sub> <em>n</em> + \n",
    "<em>b</em>,&emsp; <em>x</em> + <em>y</em> = <em>q</em><sub>3</sub> <em>n</em> + <em>c</em>,&emsp; <em>x y</em> = <em>q</em><sub>4</sub> <em>n</em> + <em>d</em>.</p> \n",
    "For the first equation, we note that \n",
    "<p style='text-align: center;'><em>c</em> &minus; (<em>a</em> + <em>b</em>) = (<em>x</em> + <em>y</em> &minus; <em>q</em><sub>3</sub> <em>n</em>) &minus; \n",
    "((<em>x</em> &minus; <em>q</em><sub>1</sub> <em>n</em>) + (<em>y</em> &minus; <em>q</em><sub>2</sub> <em>n</em>))<br> \n",
    "&emsp;&emsp;&emsp; = <em>q</em><sub>1</sub> <em>n</em> + <em>q</em><sub>2</sub> <em>n</em> &minus; <em>q</em><sub>3</sub> <em>n</em> = (<em>q</em><sub>1</sub> + \n",
    "<em>q</em><sub>2</sub> &minus; <em>q</em><sub>3</sub>) <em>n</em>.</p>                     \n",
    "Thus, the two sides of the first equation differ by a multiple of <em>n</em>.  Likewise, for the second equation, we see\n",
    "<p style='text-align: center;'><em>d</em> &minus; <em>a b</em> = (<em>x y</em> &minus; <em>q</em><sub>4</sub> <em>n</em>) &minus; \n",
    "(<em>x</em> &minus; <em>q</em><sub>1</sub> <em>n</em>)&middot;(<em>y</em> &minus; <em>q</em><sub>2</sub> <em>n</em>)<br>\n",
    "= <em>y</em> <em>q</em><sub>1</sub> <em>n</em> + \n",
    "<em>x</em> <em>q</em><sub>2</sub> <em>n</em> &minus; <em>q</em><sub>4</sub> <em>n</em> &minus; <em>q</em><sub>1</sub> <em>q</em><sub>2</sub> <em>n</em><sup>2</sup> = (<em>y</em> <em>q</em><sub>1</sub> + <em>x</em> <em>q</em><sub>2</sub> &minus; <em>q</em><sub>4</sub> &minus; <em>q</em><sub>1</sub> <em>q</em><sub>2</sub> <em>n</em>) <em>n</em>.</p>\n",
    "\n",
    "So again, the two sides of the second equation differ by a multiple of <em>n</em>.<br><br>  \n",
    "  \n",
    "<a href=\"#prop12ret\">Return to text</a>"
   ]
  },
  {
   "cell_type": "markdown",
   "id": "0255b1",
   "metadata": {
    "collapsed": false
   },
   "source": [
    "<br><br><br><br><br><br><br><br><br><br><br><br><br><br><br><br><br><br><br><br><br><br><br><br><br><br><br><br><br><br><br><br><br><br><br><br><br><br><br><br><br><br>"
   ]
  },
  {
   "cell_type": "markdown",
   "id": "e97768",
   "metadata": {
    "collapsed": false
   },
   "source": [
    "<a name=\"theor15\" id=\"theor15\"></a>\n",
    "Proof of Theorem 1.5:<br><br> \n",
    "\n",
    "We will begin by showing that there cannot be more than one such number.<br><br>   \n",
    "\n",
    "Suppose we have two different numbers, <em>k</em> and <em>m</em>, which satisfy the above conditions.  Then\n",
    "<p style='text-align: center;'>(<em>k</em> &minus; <em>m</em>) <strong>mod</strong> <em>x</em> = 0 &emsp;and &emsp;\n",
    "(<em>k</em> &minus; <em>m</em>) <strong>mod</strong> <em>y</em> = 0.</p>\n",
    "Thus, <em>k</em> &minus; <em>m</em> must be a multiple of both <em>x</em> and <em>y</em>.  But since <em>x</em> and <em>y</em> are coprime, the \n",
    "least common multiple of <em>x</em> and <em>y</em> is <em>x y</em>.  Thus, <em>k</em> &minus; <em>m</em> is a multiple \n",
    "of <em>x y</em>.<br><br>\n",
    "\n",
    "However, both <em>k</em> and <em>m</em> are less than <em>x y</em>.  So the only way this is possible is for <em>k</em> &minus; <em>m</em> = 0, \n",
    "which contradicts our assumption that <em>k</em> and <em>m</em> were distinct solutions.<br><br>\n",
    "\n",
    "To show that there is a solution, we first note that since <em>x</em> and <em>y</em> are coprime, by B&eacute;zout's lemma (1.3), there are \n",
    "integers <em>u</em> and <em>v</em> such that <em>u x</em> + <em>v y</em> = 1.  Then we can consider the number\n",
    "<p style='text-align: center;'><em>k</em> = (<em>a v y</em> + <em>b u x</em>) <strong>mod</strong> (<em>x y</em>).</p>\n",
    "                                               \n",
    "Clearly 0 &le; <em>k</em> &lt; <em>x y</em>, so we only have to show that <em>k</em> <strong>mod</strong> <em>x</em> = <em>a</em> <strong>mod</strong> <em>x</em> \n",
    "and <em>k</em> <strong>mod</strong> <em>y</em> = <em>b</em> <strong>mod</strong> <em>y</em>.  Since <em>v y</em> = 1 &minus; <em>u x</em>,\n",
    "<p style='text-align: center;'><em>k</em> <strong>mod</strong> <em>x</em> = (<em>a v y</em> + <em>b u x</em>) <strong>mod</strong> <em>x</em><br>\n",
    "&emsp;&emsp;&emsp;&emsp;&emsp; = (<em>a</em>(1 &minus; <em>u x</em>) + <em>b u x</em>) <strong>mod</strong> <em>x</em><br>\n",
    "&emsp;&emsp;&emsp;&emsp;&emsp;&emsp;&emsp;&emsp; = (<em>a</em> + <em>u x</em>(<em>b</em> &minus; <em>a</em>)) <strong>mod</strong> <em>x</em> = <em>a</em> <strong>mod</strong> <em>x</em>.</p>\n",
    "Likewise, since <em>u x</em> = 1 &minus; <em>v y</em>,\n",
    "<p style='text-align: center;'><em>k</em> <strong>mod</strong> <em>y</em> = (<em>a v y</em> + <em>b u x</em>) <strong>mod</strong> <em>y</em><br>\n",
    "&emsp;&emsp;&emsp;&emsp;&emsp; = (<em>a v y</em> + <em>b</em>(1 &minus; <em>v y</em>)) <strong>mod</strong> <em>y</em><br>\n",
    "&emsp;&emsp;&emsp;&emsp;&emsp;&emsp;&emsp;&emsp; = ((<em>b</em> + <em>v y</em>(<em>a</em> &minus; <em>b</em>)) <strong>mod</strong> <em>y</em> = <em>b</em> <strong>mod</strong> <em>y</em>.</p>\n",
    "<br>\n",
    "   \n",
    "<a href=\"#theor15ret\">Return to text</a>"
   ]
  },
  {
   "cell_type": "markdown",
   "id": "7e84ba",
   "metadata": {
    "collapsed": false
   },
   "source": [
    "<br><br><br><br><br><br><br><br><br><br><br><br><br><br><br><br><br><br><br><br><br><br><br><br><br><br><br><br><br><br><br><br><br><br><br><br><br><br><br><br><br><br>  "
   ]
  },
  {
   "cell_type": "markdown",
   "id": "ff587f",
   "metadata": {
    "collapsed": false
   },
   "source": [
    "<a name=\"prop13\" id=\"prop13\"></a>\n",
    "Proof of Proposition 1.3:<br><br>\n",
    "\n",
    "Let <em>x</em> = |<em>a</em> &minus; <em>b</em>|. Since <em>x</em> is not zero, we let <em>q</em> be any integer that is greater than 1/<em>x</em>. Then \n",
    "|<em>a</em>&middot;<em>q</em> &minus; <em>b</em>&middot;<em>q</em>| = <em>q</em>&middot;<em>x</em> &gt; 1, so there must be an integer between <em>a</em>&middot;<em>q</em> and \n",
    "<em>b</em>&middot;<em>q</em>, which we will call <em>p</em>. But then  <em>p</em>/<em>q</em> will be between <em>a</em> and <em>b</em>, and the proposition is proved.<br><br>\n",
    "\n",
    "<a href=\"#prop13ret\">Return to text</a><br><br>"
   ]
  },
  {
   "cell_type": "markdown",
   "id": "7ea422",
   "metadata": {
    "collapsed": false
   },
   "source": [
    "<br><br><br><br><br><br><br><br><br><br><br><br><br><br><br><br><br><br><br><br><br><br><br><br><br><br><br><br><br><br><br><br><br><br><br><br><br><br><br><br><br><br>"
   ]
  },
  {
   "cell_type": "markdown",
   "id": "85cc17",
   "metadata": {
    "collapsed": false
   },
   "source": [
    "<a name=\"prop14\" id=\"prop14\"></a>\n",
    "Proof of Proposition 1.4:<br><br>\n",
    "\n",
    "In order to show that the rationals are countable, we need a sequence that will eventually contain every rational somewhere in the sequence.  \n",
    "Equivalently, we can connect the dots of the figure formed from <br>"
   ]
  },
  {
   "cell_type": "code",
   "execution_count": 0,
   "id": "7700c9",
   "metadata": {
    "collapsed": false
   },
   "outputs": [
   ],
   "source": [
    "ShowRationals(-5,5)"
   ]
  },
  {
   "cell_type": "markdown",
   "id": "8fe820",
   "metadata": {
    "collapsed": false
   },
   "source": [
    "<br>\n",
    "using a pattern that would, in principle, reach every dot of this figure extended to infinity. There are of course many ways to do this, but one way is given by the patten \n",
    "in<br>"
   ]
  },
  {
   "cell_type": "code",
   "execution_count": 0,
   "id": "a49d57",
   "metadata": {
    "collapsed": false
   },
   "outputs": [
   ],
   "source": [
    "CountableQ(5)"
   ]
  },
  {
   "cell_type": "markdown",
   "id": "7908c2",
   "metadata": {
    "collapsed": false
   },
   "source": [
    "<br>\n",
    "Here is a picture which shows more of this pattern:<br>"
   ]
  },
  {
   "cell_type": "code",
   "execution_count": 0,
   "id": "7ebf67",
   "metadata": {
    "collapsed": false
   },
   "outputs": [
   ],
   "source": [
    "CountableQ(9)"
   ]
  },
  {
   "cell_type": "markdown",
   "id": "5a4246",
   "metadata": {
    "collapsed": false
   },
   "source": [
    "<br>\n",
    "This path starts at 0, and swings back and forth, each time hitting the rationals on the next row.  Since there are an infinite number of rows, we can extend this \n",
    "pattern indefinitely, and every rational number will eventually be hit by this path.This path gives rise the the sequence <br><br>\n",
    " \n",
    "<p style='text-align: center;'>{0, 1, 1/2, -1/2, -1, -2, -3/2, -2/3, -1/3, 1/3, 2/3, 3/2, 2, 3, &hellip;}</p>\n",
    "which contains every rational number, so we have shown that the rationals form a countable set.<br>"
   ]
  },
  {
   "cell_type": "markdown",
   "id": "8a8ba3",
   "metadata": {
    "collapsed": false
   },
   "source": [
    "<a href=\"#prop14ret\">Return to text</a>"
   ]
  },
  {
   "cell_type": "markdown",
   "id": "4a3375",
   "metadata": {
    "collapsed": false
   },
   "source": [
    "<br><br><br><br><br><br><br><br><br><br><br><br><br><br><br><br><br><br><br><br><br><br><br><br><br><br><br><br><br><br><br><br><br><br><br><br><br><br><br><br><br><br>"
   ]
  },
  {
   "cell_type": "markdown",
   "id": "99912f",
   "metadata": {
    "collapsed": false
   },
   "source": [
    "<a name=\"prop15\" id=\"prop15\"></a>\n",
    "Proof of Proposition 1.5:<br><br>\n",
    "\n",
    "Suppose that there was such a rational number, <em>p</em>/<em>q</em>. Let us further suppose that <em>p</em>/<em>q</em> is in simplest form, so that <em>p</em> \n",
    "and <em>q</em> are integers with no common factors.  We could rewrite the equation (<em>p</em>/<em>q</em>)<sup>2</sup> = 2 as \n",
    "<p style='text-align: center;'><em>p</em><sup>2</sup> = 2 <em>q</em><sup>2</sup>.</p>\n",
    "This would indicate that <em>p</em><sup>2</sup> is a multiple of 2, which by Euclid's Lemma (1.4) implies that <em>p</em> is a multiple of 2.<br><br>\n",
    "\n",
    "Next, we make the substitution <em>p</em> = 2<em>r</em>, where <em>r</em> is an integer.  This produces the equation\n",
    "<p style='text-align: center;'>(2 <em>r</em>)<sup>2</sup> = 2 <em>q</em><sup>2</sup>, or</p>\n",
    "<p style='text-align: center;'>2 <em>r</em><sup>2</sup> = <em>q</em><sup>2</sup>.</p>\n",
    "This would indicate that <em>q</em><sup>2</sup>, and hence <em>q</em>, is even. But this contradicts the fact that <em>p</em>/<em>q</em> was written in simplest \n",
    "form.  Thus, there is no rational number whose square is 2.<br><br>\n",
    "\n",
    "<a href=\"#prop15ret\">Return to text</a>"
   ]
  },
  {
   "cell_type": "markdown",
   "id": "c541cc",
   "metadata": {
    "collapsed": false
   },
   "source": [
    "<br><br><br><br><br><br><br><br><br><br><br><br><br><br><br><br><br><br><br><br><br><br><br><br><br><br><br><br><br><br><br><br><br><br><br><br><br><br><br><br><br><br>"
   ]
  },
  {
   "cell_type": "markdown",
   "id": "04ab00",
   "metadata": {
    "collapsed": false
   },
   "source": [
    "<a name=\"theor16\" id=\"theor16\"></a>\n",
    "Proof of Theorem 1.6:<br><br>\n",
    "\n",
    "We begin by assuming that we can form such a sequence\n",
    "<p style='text-align: center;'>{<em>a</em><sub>1</sub>, <em>a</em><sub>2</sub>, <em>a</em><sub>3</sub>,&hellip;}</p>    \n",
    "and work to find a contradiction.  The plan is to find a number <em>b</em> that cannot be in this list. We can do this by forcing <em>b</em> to have a different first \n",
    "digit than <em>a</em><sub>1</sub>, a different second digit than <em>a</em><sub>2</sub>, a different third digit than <em>a</em><sub>3</sub>, and so on. The only \n",
    "technical problem with this is that some numbers have two decimal representations, such as<br>\n",
    "<p style='text-align: center;'>0.348600000000000000&hellip;= 0.3485999999999999999&hellip;.</p>\n",
    "<br>\n",
    "For these numbers, all we need to do is require that <em>both</em> representations are in the list. (That is, some rational numbers will appear twice on the list \n",
    "with different decimal representations.)<br><br>\n",
    "\n",
    "We now can find a number <em>b</em> using any number of procedures, such as letting the <em>n</em><sup>th</sup> digit of <em>b</em> be one more than the <em>n</em><sup>th</sup> digit of \n",
    "<em>a<sub>n</sub></em>, <strong>mod</strong> 10.  For example, if the list of numbers is<br><br>\n",
    "<p style='text-align: center;'><em>a</em><sub>1</sub> = 0.94837490123798570&hellip;</p>\n",
    "<p style='text-align: center;'><em>a</em><sub>2</sub> = 0.83840000000000000&hellip;</p>\n",
    "<p style='text-align: center;'><em>a</em><sub>3</sub> = 0.83839999999999999&hellip;</p>\n",
    "<p style='text-align: center;'><em>a</em><sub>4</sub> = 0.34281655343424444&hellip;</p>\n",
    "<br>\n",
    "then <em>b</em> = 0.0499&hellip; . Certainly <em>b</em> is missing from the list, since it differs from each member of the list by at least one digit. This contradiction proves \n",
    "the theorem.<br><br>\n",
    "\n",
    "<a href=\"#theor16ret\">Return to text</a>"
   ]
  },
  {
   "cell_type": "markdown",
   "id": "658d4a",
   "metadata": {
    "collapsed": false
   },
   "source": [
    "<br><br><br><br><br><br><br><br><br><br><br><br><br><br><br><br><br><br><br><br><br><br><br><br><br><br><br><br><br><br><br><br><br><br><br><br><br><br><br><br><br><br>  "
   ]
  },
  {
   "cell_type": "markdown",
   "id": "915117",
   "metadata": {
    "collapsed": false
   },
   "source": [
    "<a name=\"sec1p\" id=\"sec1p\"></a>   \n",
    "<h1><em>SageMath</em> Interactive Problems</h1>\n",
    "\n",
    "<br>\n",
    "&sect;1.1 #38)<br>\n",
    "Use <em>SageMath</em> to find integers <em>u</em> and <em>v</em> such that\n",
    "<p style='text-align: center;'> 876543212345678 <em>u</em> + 123456787654321 <em>v</em> = 1.</p>"
   ]
  },
  {
   "cell_type": "code",
   "execution_count": 0,
   "id": "a94c19",
   "metadata": {
    "collapsed": false
   },
   "outputs": [
   ],
   "source": [
   ]
  },
  {
   "cell_type": "markdown",
   "id": "d731c2",
   "metadata": {
    "collapsed": false
   },
   "source": [
    "<br>\n",
    "&sect;1.1 #39)<br>\n",
    "Use <em>SageMath</em> to find integers <em>u</em> and <em>v</em> such that\n",
    "<p style='text-align: center;'>98765432123456789 <em>u</em> + 12345678987654321 <em>v</em> = 1.</p>"
   ]
  },
  {
   "cell_type": "code",
   "execution_count": 0,
   "id": "5990eb",
   "metadata": {
    "collapsed": false
   },
   "outputs": [
   ],
   "source": [
   ]
  },
  {
   "cell_type": "markdown",
   "id": "052259",
   "metadata": {
    "collapsed": false
   },
   "source": [
    "<br>\n",
    "&sect;1.1 #40)<br>\n",
    "Use <em>SageMath</em> to find the factorization of 987654321.<br>"
   ]
  },
  {
   "cell_type": "code",
   "execution_count": 0,
   "id": "659a2d",
   "metadata": {
    "collapsed": false
   },
   "outputs": [
   ],
   "source": [
   ]
  },
  {
   "cell_type": "markdown",
   "id": "e6dba2",
   "metadata": {
    "collapsed": false
   },
   "source": [
    "<br>\n",
    "&sect;1.1 #41)<br>\n",
    "Use <em>SageMath</em> to find the factorization of 12345678987654321.<br>"
   ]
  },
  {
   "cell_type": "code",
   "execution_count": 0,
   "id": "c2a31a",
   "metadata": {
    "collapsed": false
   },
   "outputs": [
   ],
   "source": [
   ]
  },
  {
   "cell_type": "markdown",
   "id": "b5224b",
   "metadata": {
    "collapsed": false
   },
   "source": [
    "<br>\n",
    "&sect;1.1 #42)<br>\n",
    "Use <em>SageMath</em> to find the factorization of 98765432123456789.<br>"
   ]
  },
  {
   "cell_type": "code",
   "execution_count": 0,
   "id": "8ba63b",
   "metadata": {
    "collapsed": false
   },
   "outputs": [
   ],
   "source": [
   ]
  },
  {
   "cell_type": "markdown",
   "id": "51a768",
   "metadata": {
    "collapsed": false
   },
   "source": [
    "<br>\n",
    "&sect;1.2 #45)<br>\n",
    "Consider the function\n",
    "<p style='text-align: center;'><em>f</em>(<em>x</em>) = 2 &lfloor;<em>x</em>&rfloor; &minus; <em>x</em>.</p>\n",
    "<em>SageMath</em> uses the function <strong>floor</strong> to denote &lfloor;<em>x</em>&rfloor;.  Thus, we can have <em>SageMath</em> plot this function with the commands<br>"
   ]
  },
  {
   "cell_type": "code",
   "execution_count": 0,
   "id": "8c2306",
   "metadata": {
    "collapsed": false
   },
   "outputs": [
   ],
   "source": [
    "f(x) = 2*floor(x) - x"
   ]
  },
  {
   "cell_type": "code",
   "execution_count": 0,
   "id": "108c76",
   "metadata": {
    "collapsed": false
   },
   "outputs": [
   ],
   "source": [
    "plot(f(x), [x, 0, 5])"
   ]
  },
  {
   "cell_type": "markdown",
   "id": "1541a0",
   "metadata": {
    "collapsed": false
   },
   "source": [
    "<br>\n",
    "Judging by the graph, is this function one-to-one?  Is it onto?  (Ignore the vertical lines in the graph.)<br>"
   ]
  },
  {
   "cell_type": "markdown",
   "id": "2ea539",
   "metadata": {
    "collapsed": false
   },
   "source": [
    "<br>\n",
    "&sect;1.2 #46)<br>\n",
    "Define a function <em>g</em>(<em>x</em>) in <em>SageMath</em> such that <em>f</em>(<em>g</em>(<em>x</em>)) = <em>x</em> for all <em>x</em>, using the function from Problem 45.  Note \n",
    "that the formula must work for both integers and non-integers. Is <em>g</em>(<em>f</em>(<em>x</em>)) always equal to <em>x</em>?"
   ]
  },
  {
   "cell_type": "code",
   "execution_count": 0,
   "id": "61674d",
   "metadata": {
    "collapsed": false
   },
   "outputs": [
   ],
   "source": [
   ]
  },
  {
   "cell_type": "markdown",
   "id": "1fe8d2",
   "metadata": {
    "collapsed": false
   },
   "source": [
    "<br>\n",
    "&sect;1.3 #33)<br>\n",
    "Consider the binary operator on the set of integers:\n",
    "<table align=\"center\" border=\"0\" cellspacing=\"0\" cellpadding=\"0\">\n",
    "  <tr>\n",
    "    <td></td>\n",
    "    <td align=\"right\" valign=\"bottom\">&#9127;</td>\n",
    "    <td align=\"left\">&ensp;<em>x</em></td>\n",
    "    <td align=\"left\">&ensp; if <em>x</em> is even,</td>\n",
    "  </tr>\n",
    "  <tr>\n",
    "    <td align=\"left\"><em>x</em> &lowast; <em>y</em> =&ensp;</td>\n",
    "    <td align=\"right\">&#9128;</td>\n",
    "    <td></td>\n",
    "    <td></td>\n",
    "  </tr>\n",
    "  <tr>\n",
    "    <td></td>\n",
    "    <td align=\"right\" valign=\"top\">&#9129;</td>\n",
    "    <td align=\"left\" valign=\"top\">&ensp;<em>y</em></td>\n",
    "    <td align=\"left\">&ensp; if <em>x</em> is odd.</td>\n",
    "  </tr>\n",
    "</table>\n",
    "Defining a piecewise defined binary operator is a little tricky in <em>SageMath</em>, but we can \n",
    "define it as a function <em>f</em>(<em>x</em>, <em>y</em>) as follows:"
   ]
  },
  {
   "cell_type": "code",
   "execution_count": 0,
   "id": "5c1d34",
   "metadata": {
    "collapsed": false
   },
   "outputs": [
   ],
   "source": [
    "def f(x,y):  return x + (y-x)*(x % 2)"
   ]
  },
  {
   "cell_type": "markdown",
   "id": "55ef67",
   "metadata": {
    "collapsed": false
   },
   "source": [
    "Since the operator is defined as a function, (<em>x</em> &lowast; <em>y</em>) &lowast; <em>z</em> must be entered as <strong>f(f(x,y),z)</strong>, and <em>x</em> &lowast; (<em>y</em> &lowast; <em>z</em>) must be entered as <strong>f(x,f(y,z))</strong>.  Try computing these for different integers <em>x</em>, <em>y</em>, and <em>z</em>.  Show this binary operator is not  commutative.  Does this binary operator seem to be associative?"
   ]
  },
  {
   "cell_type": "code",
   "execution_count": 0,
   "id": "fe277b",
   "metadata": {
    "collapsed": false
   },
   "outputs": [
   ],
   "source": [
   ]
  },
  {
   "cell_type": "markdown",
   "id": "6da1eb",
   "metadata": {
    "collapsed": false
   },
   "source": [
    "<br>\n",
    "&sect;1.3 #34)<br>\n",
    "Consider the binary operator on the set of integers:\n",
    "<table align=\"center\" border=\"0\" cellspacing=\"0\" cellpadding=\"0\">\n",
    "  <tr>\n",
    "    <td></td>\n",
    "    <td align=\"right\" valign=\"bottom\">&#9127;</td>\n",
    "    <td align=\"left\">&ensp;<em>x</em></td>\n",
    "    <td align=\"left\">&ensp; if <em>x</em> + <em>y</em> is even,</td>\n",
    "  </tr>\n",
    "  <tr>\n",
    "    <td align=\"left\"><em>x</em> &lowast; <em>y</em> =&ensp;</td>\n",
    "    <td align=\"right\">&#9128;</td>\n",
    "    <td></td>\n",
    "    <td></td>\n",
    "  </tr>\n",
    "  <tr>\n",
    "    <td></td>\n",
    "    <td align=\"right\" valign=\"top\">&#9129;</td>\n",
    "    <td align=\"left\" valign=\"top\">&ensp;<em>y</em></td>\n",
    "    <td align=\"left\">&ensp; if <em>x</em> + <em>y</em> is odd.</td>\n",
    "  </tr>\n",
    "</table>\n",
    "This can be defined in <em>SageMath</em> as"
   ]
  },
  {
   "cell_type": "code",
   "execution_count": 0,
   "id": "7d097d",
   "metadata": {
    "collapsed": false
   },
   "outputs": [
   ],
   "source": [
    "def g(x,y):  return x + (y-x)*((x+y) % 2)"
   ]
  },
  {
   "cell_type": "markdown",
   "id": "c50038",
   "metadata": {
    "collapsed": false
   },
   "source": [
    "Try computing \n",
    "(<em>x</em> &lowast; <em>y</em>) &lowast; <em>z</em> and <em>x</em> &lowast; (<em>y</em> &lowast; \n",
    "<em>z</em>) for different integers <em>x</em>, <em>y</em>, and <em>z</em>.  Show this binary operator is not commutative.  Does this binary operator seem to be associative?  See Problem 33."
   ]
  },
  {
   "cell_type": "code",
   "execution_count": 0,
   "id": "178671",
   "metadata": {
    "collapsed": false
   },
   "outputs": [
   ],
   "source": [
   ]
  },
  {
   "cell_type": "markdown",
   "id": "f42822",
   "metadata": {
    "collapsed": false
   },
   "source": [
    "<br>\n",
    "&sect;1.3 #35)<br>\n",
    "<em>SageMath</em> can work with tables of numbers, called <em>matrices</em>.  For example, a 2 &times; 2 matrix can be entered by"
   ]
  },
  {
   "cell_type": "code",
   "execution_count": 0,
   "id": "57b670",
   "metadata": {
    "collapsed": false
   },
   "outputs": [
   ],
   "source": [
    "var(\"a11 a12 a21 a22\")\n",
    "A = matrix([[a11, a12], [a21, a22]]); A"
   ]
  },
  {
   "cell_type": "markdown",
   "id": "26d8af",
   "metadata": {
    "collapsed": false
   },
   "source": [
    "The first command defines a set of variables for us to use.  If we define two such matrices, we can use &lowast; to multiply them together."
   ]
  },
  {
   "cell_type": "code",
   "execution_count": 0,
   "id": "c6d185",
   "metadata": {
    "collapsed": false
   },
   "outputs": [
   ],
   "source": [
    "var(\"b11 b12 b21 b22\")\n",
    "B = matrix([[b11, b12], [b21, b22]])\n",
    "A*B"
   ]
  },
  {
   "cell_type": "markdown",
   "id": "2d6eaf",
   "metadata": {
    "collapsed": false
   },
   "source": [
    "The result is another 2 &times; 2 matrix, showing that &lowast; is a binary operator on 2 &lowast; 2 matrices.  Is this operator commutative?"
   ]
  },
  {
   "cell_type": "code",
   "execution_count": 0,
   "id": "257a3e",
   "metadata": {
    "collapsed": false
   },
   "outputs": [
   ],
   "source": [
   ]
  },
  {
   "cell_type": "markdown",
   "id": "82f3ce",
   "metadata": {
    "collapsed": false
   },
   "source": [
    "<br>\n",
    "&sect;1.3 #36)<br>\n",
    "Extend Problem 35 by defining a third 2 &times; 2 matrix."
   ]
  },
  {
   "cell_type": "code",
   "execution_count": 0,
   "id": "7f609c",
   "metadata": {
    "collapsed": false
   },
   "outputs": [
   ],
   "source": [
    "var(\"c11 c12 c21 c22\")\n",
    "C = matrix([[c11, c12], [c21, c22]]); C"
   ]
  },
  {
   "cell_type": "markdown",
   "id": "812f65",
   "metadata": {
    "collapsed": false
   },
   "source": [
    "Is the binary operator &lowast; associative?"
   ]
  },
  {
   "cell_type": "code",
   "execution_count": 0,
   "id": "f211f2",
   "metadata": {
    "collapsed": false
   },
   "outputs": [
   ],
   "source": [
   ]
  },
  {
   "cell_type": "markdown",
   "id": "f86e13",
   "metadata": {
    "collapsed": false
   },
   "source": [
    "<br>\n",
    "&sect;1.4 #39)<br>\n",
    "Use <em>SageMath</em>'s <strong>PowerMod</strong> function to compute\n",
    "<p style='text-align: center;'>123456789<sup>123454321</sup> <strong>mod</strong> 987654321.</p>"
   ]
  },
  {
   "cell_type": "code",
   "execution_count": 0,
   "id": "c23d50",
   "metadata": {
    "collapsed": false
   },
   "outputs": [
   ],
   "source": [
   ]
  },
  {
   "cell_type": "markdown",
   "id": "bc67ec",
   "metadata": {
    "collapsed": false
   },
   "source": [
    "<br>\n",
    "&sect;1.4 #40)<br>\n",
    "Use <em>SageMath</em>'s <strong>PowerMod</strong> function to compute\n",
    "<p style='text-align: center;'>12345678987654321<sup>56789876543212345</sup> <strong>mod</strong> 98765432123456789.</p>"
   ]
  },
  {
   "cell_type": "code",
   "execution_count": 0,
   "id": "895e88",
   "metadata": {
    "collapsed": false
   },
   "outputs": [
   ],
   "source": [
   ]
  },
  {
   "cell_type": "markdown",
   "id": "b17bf1",
   "metadata": {
    "collapsed": false
   },
   "source": [
    "<br>\n",
    "&sect;1.4 #41)<br>\n",
    "Use <em>SageMath</em>'s <strong>crt</strong> function to find the solution to the system\n",
    "<p style='text-align: center;'><em>k</em> <strong>mod</strong> 953703810582341 = 638523792756361,</p>\n",
    "and \n",
    "<p style='text-align: center;'><em>k</em> <strong>mod</strong> 2526928697126346 = 1638525978351423.</p>"
   ]
  },
  {
   "cell_type": "code",
   "execution_count": 0,
   "id": "b6eef0",
   "metadata": {
    "collapsed": false
   },
   "outputs": [
   ],
   "source": [
   ]
  },
  {
   "cell_type": "markdown",
   "id": "6f978a",
   "metadata": {
    "collapsed": false
   },
   "source": [
    "<br>\n",
    "&sect;1.4 #42)<br>\n",
    "Use <em>SageMath</em>'s <strong>crt</strong> function to find the solution to the system\n",
    "<p style='text-align: center;'><em>k</em> <strong>mod</strong> 8675612376265160933543 = 152352352346254753545,</p>\n",
    "and \n",
    "<p style='text-align: center;'><em>k</em> <strong>mod</strong> 6226345262345235236201 = 526352346234573523462.</p>"
   ]
  },
  {
   "cell_type": "code",
   "execution_count": 0,
   "id": "793700",
   "metadata": {
    "collapsed": false
   },
   "outputs": [
   ],
   "source": [
   ]
  },
  {
   "cell_type": "markdown",
   "id": "41ec6d",
   "metadata": {
    "collapsed": false
   },
   "source": [
    "<br>\n",
    "&sect;1.4 #43)<br>\n",
    "Use <em>SageMath</em> to solve the linear congruence equation\n",
    "<p style='text-align: center;'><p style='text-align: center;'>289475362034522153 <em>x</em> <strong>mod</strong> 915156238625161124 = 2109825245909824.</p>"
   ]
  },
  {
   "cell_type": "code",
   "execution_count": 0,
   "id": "d1cb84",
   "metadata": {
    "collapsed": false
   },
   "outputs": [
   ],
   "source": [
   ]
  },
  {
   "cell_type": "markdown",
   "id": "91319d",
   "metadata": {
    "collapsed": false
   },
   "source": [
    "<br>\n",
    "&sect;1.4 #44)<br>\n",
    "Use <em>SageMath</em> to solve the linear congruence equation\n",
    "<p style='text-align: center;'><p style='text-align: center;'>935729851868621502 <em>x</em> <strong>mod</strong> 1965156273498612517 = 187155163352362.</p>"
   ]
  },
  {
   "cell_type": "code",
   "execution_count": 0,
   "id": "e3c763",
   "metadata": {
    "collapsed": false
   },
   "outputs": [
   ],
   "source": [
   ]
  },
  {
   "cell_type": "markdown",
   "id": "9b1bd5",
   "metadata": {
    "collapsed": false
   },
   "source": [
    "<br>\n",
    "&sect;1.5 #28)<br>\n",
    "If we begin the sequence in Problem 1 of the textbook with an irrational number, all terms of the sequence will be irrational.  Explore what happens if we consider the same \n",
    "formula, but start with <em>a</em><sub>0</sub> = &radic;<font style=\"text-decoration: overline;\">2</font>."
   ]
  },
  {
   "cell_type": "code",
   "execution_count": 0,
   "id": "6d3045",
   "metadata": {
    "collapsed": false
   },
   "outputs": [
   ],
   "source": [
    "a = sqrt(2); a"
   ]
  },
  {
   "cell_type": "code",
   "execution_count": 0,
   "id": "0cbf7a",
   "metadata": {
    "collapsed": false
   },
   "outputs": [
   ],
   "source": [
    "a = Together(1/(1 + 2*floor(a) - a)); a"
   ]
  },
  {
   "cell_type": "markdown",
   "id": "0cfe5e",
   "metadata": {
    "collapsed": false
   },
   "source": [
    "<br>\n",
    "Here, <strong>floor(a)</strong> calculates &lfloor;<em>a</em>&rfloor;, and <strong>Together</strong> rationalizes the denominator.  By repeatedly evaluating the last statement, \n",
    "we can compute the sequence {<em>a</em><sub>0</sub>, <em>a</em><sub>1</sub>, <em>a</em><sub>2</sub>, <em>a</em><sub>3</sub>, &hellip;}.  Note \n",
    "that <em>a</em><sub>6</sub> is &radic;<font style=\"text-decoration: overline;\">2</font> plus an integer.  When is the next time in the sequence that <em>a<sub>n</sub></em> is an \n",
    "integer plus &radic;<font style=\"text-decoration: overline;\">2</font>?<br>"
   ]
  },
  {
   "cell_type": "markdown",
   "id": "c49c3e",
   "metadata": {
    "collapsed": false
   },
   "source": [
    "</font>\n",
    "\n",
    "</body>\n",
    "\n",
    "</html>"
   ]
  },
  {
   "cell_type": "code",
   "execution_count": 0,
   "id": "134bab",
   "metadata": {
    "collapsed": false
   },
   "outputs": [
   ],
   "source": [
   ]
  },
  {
   "cell_type": "markdown",
   "id": "c7a696",
   "metadata": {
    "collapsed": false
   },
   "source": [
    "<br>\n",
    "&sect;1.5 #29)<br>\n",
    "Repeat problem 28, only start with <em>a</em><sub>0</sub> = &radic;<font style=\"text-decoration: overline;\">3</font>.  When is the first time <em>a<sub>n</sub></em> is an integer plus &radic;<font style=\"text-decoration: overline;\">3</font>?  When is the next time in the sequence that <em>a<sub>n</sub></em> is an integer plus &radic;<font style=\"text-decoration: overline;\">3</font>?\n",
    "Can you find a third instance?  For an explanation, see [17]."
   ]
  },
  {
   "cell_type": "code",
   "execution_count": 0,
   "id": "2909d4",
   "metadata": {
    "collapsed": false
   },
   "outputs": [
   ],
   "source": [
   ]
  }
 ],
 "metadata": {
  "kernelspec": {
   "argv": [
    "sage-10.0",
    "--python",
    "-m",
    "sage.repl.ipython_kernel",
    "--matplotlib=inline",
    "-f",
    "{connection_file}"
   ],
   "display_name": "SageMath 10.0",
   "env": {
   },
   "language": "sagemath",
   "metadata": {
    "cocalc": {
     "description": "Open-source mathematical software system",
     "priority": 10,
     "url": "https://www.sagemath.org/"
    }
   },
   "name": "sage-10.0",
   "resource_dir": "/ext/jupyter/kernels/sage-10.0"
  },
  "language_info": {
   "codemirror_mode": {
    "name": "ipython",
    "version": 3
   },
   "file_extension": ".py",
   "mimetype": "text/x-python",
   "name": "python",
   "nbconvert_exporter": "python",
   "pygments_lexer": "ipython3",
   "version": "3.11.1"
  }
 },
 "nbformat": 4,
 "nbformat_minor": 4
}