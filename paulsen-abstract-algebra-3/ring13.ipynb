{
 "cells": [
  {
   "cell_type": "markdown",
   "id": "b53085",
   "metadata": {
    "collapsed": false
   },
   "source": [
    "<!-- Ring13 -->\n",
    "\n",
    "<html>\n",
    "<body>\n",
    "\n",
    "<!-- To make the size of the font bigger for presentations, change the following command from +1 to +2 -->\n",
    "\n",
    "<font size=\"+1\">\n",
    "\n",
    "<p style='font-size: 36px;font-family: Arial;font-style: italic;font-weight: bold;color: #FF00FF;background-color: #80FFFF;text-align: center;'>\n",
    "Abstract Algebra: An Interactive Approach, 3e\n",
    "</p>\n",
    "\n",
    "<p style='font-family: Geneva;font-style: italic;color: #0000FF;background-color: #FFFFFF;'>\n",
    "This notebook is provided with the textbook, &quot;Abstract Algebra: An Interactive Approach, 3rd Ed.&quot; by William Paulsen. Users of this notebook are encouraged to buy the textbook.\n",
    "</p>\n",
    "\n",
    "<p style='font-size: 36px;font-family: New York;font-weight: bold;color: #000000;background-color: #FFFFFF;text-align: center;border: 1px;border-style: \n",
    "solid;border-color: #000000;'>\n",
    "Chapter 13<br><br>\n",
    "Finite Division Rings\n",
    "</p>\n",
    "\n",
    "<p style='text-align: center;'>Initialization:  This cell MUST be evaluated first:</p>\n",
    "\n"
   ]
  },
  {
   "cell_type": "code",
   "execution_count": 0,
   "id": "c4da3b",
   "metadata": {
    "collapsed": false
   },
   "outputs": [
   ],
   "source": [
    "load('absalgtext2.sage')"
   ]
  },
  {
   "cell_type": "markdown",
   "id": "f30ae0",
   "metadata": {
    "collapsed": false
   },
   "source": [
    "<br>\n",
    "<a href=\"#sec131\">Entering Finite Fields in <em>SageMath</em></a><br>\n",
    "<a href=\"#sec132\">Properties of Finite Fields</a><br>\n",
    "<a href=\"#sec133\">Cyclotomic Polynomials</a><br>\n",
    "<a href=\"#sec134\">Finite Skew Fields</a><br>\n",
    "<a href=\"#sec13p\"><em>SageMath</em> Interactive Problems</a><br>"
   ]
  },
  {
   "cell_type": "markdown",
   "id": "0baa26",
   "metadata": {
    "collapsed": false
   },
   "source": [
    "<a name=\"sec131\" id=\"sec131\"></a>\n",
    "<h1>Entering Finite Fields in <em>SageMath</em></h1>\n",
    "\n",
    "<br>\n",
    "In this section we will experiment with finite fields using <em>SageMath</em>.  Although we have seen how integral domains can be entered into <em>SageMath</em>, fields \n",
    "have additional properties that allow for shortcuts in this process.  In fact, we will find that any finite field can be defined in <em>SageMath</em> with only 3 \n",
    "commands.<br><br>\n",
    "\n",
    "We have already seen several examples of finite fields.  The first example was the discovery that whenever <em>p</em> is prime, the ring <em>Z<sub>p</sub></em> forms a \n",
    "field with <em>p</em> elements.  In chapter 3 we found another example of a finite field&mdash;the &quot;complex numbers modulo 3.&quot;  This ring was defined \n",
    "in <em>SageMath</em> with the commands<br>"
   ]
  },
  {
   "cell_type": "code",
   "execution_count": 0,
   "id": "b2dd46",
   "metadata": {
    "collapsed": false
   },
   "outputs": [
   ],
   "source": [
    "InitDomain(3)\n",
    "AddFieldVar(\"i\")\n",
    "Define(i^2, -1)\n",
    "K = Field(); K"
   ]
  },
  {
   "cell_type": "markdown",
   "id": "c3e67d",
   "metadata": {
    "collapsed": false
   },
   "source": [
    "<br>\n",
    "The multiplication table<br>"
   ]
  },
  {
   "cell_type": "code",
   "execution_count": 0,
   "id": "d7b840",
   "metadata": {
    "collapsed": false
   },
   "outputs": [
   ],
   "source": [
    "MultTable(K)"
   ]
  },
  {
   "cell_type": "markdown",
   "id": "d30d3a",
   "metadata": {
    "collapsed": false
   },
   "source": [
    "<br>\n",
    "reveals the fact that this ring is indeed a field of order 9.<br><br>\n",
    "\n",
    "EXAMPLE:<br>\n",
    "Find a connection between the field <em>K</em> and the polynomials in <em>Z</em><sub>3</sub>[<em>x</em>].<br><br>\n",
    "\n",
    "We will restart with <em>Z</em><sub>3</sub>, and form a polynomial.<br>"
   ]
  },
  {
   "cell_type": "code",
   "execution_count": 0,
   "id": "82a8d6",
   "metadata": {
    "collapsed": false
   },
   "outputs": [
   ],
   "source": [
    "InitDomain(3,\"x\")\n",
    "A = (2*x^2 + x + 1)*(2*x + 1); A"
   ]
  },
  {
   "cell_type": "markdown",
   "id": "3fbba1",
   "metadata": {
    "collapsed": false
   },
   "source": [
    "<br>\n",
    "Since the variable <em>x</em> was defined with the field definition, we can factor the polynomial <em>A</em> over this field:<br>"
   ]
  },
  {
   "cell_type": "code",
   "execution_count": 0,
   "id": "84965a",
   "metadata": {
    "collapsed": false
   },
   "outputs": [
   ],
   "source": [
    "factor(A)"
   ]
  },
  {
   "cell_type": "markdown",
   "id": "acfc4e",
   "metadata": {
    "collapsed": false
   },
   "source": [
    "<br>\n",
    "This factorization isn't exactly the same as the original product which produced <em>A</em>, but we know from Corollary 12.5 that <em>Z</em><sub>3</sub>[<em>x</em>] is \n",
    "a unique factorization domain.  Therefore, these factors must be associates of the original factorization.  Can you see which pairs of factors are associates?<br><br>\n",
    "\n",
    "EXPERIMENT:<br>\n",
    "By replacing the polynomial <em>A</em> in the last command with various second degree polynomials, determine all second degree polynomials \n",
    "in <em>Z</em><sub>3</sub>[<em>x</em>] which are irreducible.  For simplicity, assume that the coefficient of the <em>x</em><sup>2</sup> term is 1, so there will be \n",
    "only 9 polynomials to check.  (The polynomials beginning with 2<em>x</em><sup>2</sup> will, of course, be associates of the polynomials you find.) Is there one \n",
    "irreducible polynomial that seems to have a relationship with the &quot;complex numbers modulo three&quot;?<br>"
   ]
  },
  {
   "cell_type": "markdown",
   "id": "8293f0",
   "metadata": {
    "collapsed": false
   },
   "source": [
    "<br>\n",
    "We have hinted that the field of complex numbers modulo 3 are related to <em>Z</em><sub>3</sub>[<em>x</em>].  How so? Each element of <em>K</em> can be thought of \n",
    "as evaluating some polynomial in <em>Z</em><sub>3</sub>[<em>x</em>] at <em>x</em> = <em>i</em>.  Even though <em>i</em> is not an element of <em>Z</em><sub>3</sub>, we \n",
    "can consider any polynomial in <em>Z</em><sub>3</sub>[<em>x</em>] as being also a polynomial in <em>K</em>[<em>x</em>].<br><br>\n",
    "\n",
    "This suggests that we should use the evaluation homomorphism\n",
    "<p style='text-align: center;'><em>&#981;<sub>i</sub></em> : <em>K</em>[<em>x</em>] &rarr; <em>K</em>.</p>\n",
    "However, we can restrict this homomorphism to apply only to polynomials in <em>Z</em><sub>3</sub>[<em>x</em>]\n",
    "<p style='text-align: center;'><em>&#981;<sub>i</sub></em>&prime; : <em>Z</em><sub>3</sub>[<em>x</em>] &rarr; <em>K</em>.</p>\n",
    "The image will still be all of <em>K</em>, since <em>&#981;</em>(<em>x</em>) = <em>i</em>.  The kernel of this homomorphism will consist of all polynomials \n",
    "in <em>Z</em><sub>3</sub>[<em>x</em>] that yield 0 when evaluated at <em>x</em> = <em>i</em>.  For example, <em>x</em><sup>2</sup> + 1 is in the kernel, as are all \n",
    "multiples of <em>x</em><sup>2</sup> + 1. In fact, if <em>f</em>(<em>x</em>) is an element of the kernel, then gcd(<em>f</em>(<em>x</em>), <em>x</em><sup>2</sup> + 1) must \n",
    "be in the kernel, and <em>x</em><sup>2</sup> + 1 is irreducible in <em>Z</em><sub>3</sub>[<em>x</em>], as we found in the experiment.  Thus, the kernel must be precisely \n",
    "the multiples of <em>x</em><sup>2</sup> + 1.  This ideal can be described as &lang;<em>x</em><sup>2</sup> + 1&rang;, the ideal generated by <em>x</em><sup>2</sup> + 1.<br><br>\n",
    "\n",
    "By the first ring isomorphism theorem (10.2), we now have that\n",
    "<p style='text-align: center;'><em>K</em> &asymp; <em>Z</em><sub>3</sub>[<em>x</em>]/&lang;<em>x</em><sup>2</sup> + 1&rang;</p>\n",
    "since the field <em>K</em> is the image of the homomorphism <em>&#981;<sub>i</sub></em>&prime;.<br><br>\n",
    "\n",
    "EXAMPLE:<br>\n",
    "Find a field of order 25.<br><br>\n",
    "\n",
    "Recall that we tried to form a field by extending <em>Z</em><sub>5</sub> by an element <em>i</em>, \n",
    "where <em>i</em><sup>2</sup> = &minus;1.  However, we failed to produce a field, since the ring had zero divisors. We succeeded in producing the ring\n",
    "<p style='text-align: center;'><em>K</em> &asymp; <em>Z</em><sub>5</sub>[<em>x</em>]/&lang;<em>x</em><sup>2</sup> + 1&rang;</p>\n",
    "but <em>x</em><sup>2</sup> + 1 factors in <em>Z</em><sub>5</sub>[<em>x</em>]: (<em>x</em> + 2)&middot;(<em>x</em> + 3).  This factorization apparently causes the \n",
    "zero divisors to appear in the quotient ring.  Perhaps we should try using a polynomial that is irreducible in <em>Z</em><sub>5</sub>[<em>x</em>].  We first \n",
    "define <em>Z</em><sub>5</sub> in <em>SageMath</em>.<br>"
   ]
  },
  {
   "cell_type": "code",
   "execution_count": 0,
   "id": "ca8aa3",
   "metadata": {
    "collapsed": false
   },
   "outputs": [
   ],
   "source": [
    "InitDomain(5,\"x\")\n",
    "Z5 = Field(); Z5"
   ]
  },
  {
   "cell_type": "markdown",
   "id": "b469a5",
   "metadata": {
    "collapsed": false
   },
   "source": [
    "<br>\n",
    "Next, we find a polynomial that is irreducible in <em>Z</em><sub>5</sub>.  There are several to choose from, but let us try the following:<br>"
   ]
  },
  {
   "cell_type": "code",
   "execution_count": 0,
   "id": "b3b1c6",
   "metadata": {
    "collapsed": false
   },
   "outputs": [
   ],
   "source": [
    "factor(x^2 + 2*x + 3)"
   ]
  },
  {
   "cell_type": "markdown",
   "id": "a08ebd",
   "metadata": {
    "collapsed": false
   },
   "source": [
    "<br>\n",
    "This shows that the polynomial <em>x</em><sup>2</sup> + 2<em>x</em> + 3 is irreducible in the field <em>Z</em><sub>5</sub>.<br><br>\n",
    "\n",
    "EXPERIMENT:<br>\n",
    "Can you change the 3 in the polynomial to find another number to find a different irreducible polynomial?<br>"
   ]
  },
  {
   "cell_type": "markdown",
   "id": "1db493",
   "metadata": {
    "collapsed": false
   },
   "source": [
    "<br>\n",
    "Let us see if we can find a field for which <em>x</em><sup>2</sup> + 2<em>x</em> + 3 has a root.  We will denote denote one of the roots by the letter <em>w</em>.  Then it \n",
    "is clear that\n",
    "<p style='text-align: center;'><em>w</em><sup>2</sup> = &minus;2 <em>w</em> &minus; 3.</p>\n",
    "Let us define an element <em>w</em> such that <em>w</em><sup>2</sup> = &minus;2 <em>w</em> &minus; 3 in <em>SageMath</em>.<br>"
   ]
  },
  {
   "cell_type": "code",
   "execution_count": 0,
   "id": "19856c",
   "metadata": {
    "collapsed": false
   },
   "outputs": [
   ],
   "source": [
    "AddFieldVar(\"w\")\n",
    "Define(w^2, -2*w - 3)"
   ]
  },
  {
   "cell_type": "markdown",
   "id": "50154f",
   "metadata": {
    "collapsed": false
   },
   "source": [
    "<br>\n",
    "<em>SageMath</em> can now determine other powers of <em>w</em>.<br>"
   ]
  },
  {
   "cell_type": "code",
   "execution_count": 0,
   "id": "4384e3",
   "metadata": {
    "collapsed": false
   },
   "outputs": [
   ],
   "source": [
    "w^3"
   ]
  },
  {
   "cell_type": "markdown",
   "id": "c849b8",
   "metadata": {
    "collapsed": false
   },
   "source": [
    "<br>\n",
    "How did <em>SageMath</em> compute this?  Note that\n",
    "<p style='text-align: center;'><em>w</em><sup>3</sup> = <em>w</em>&middot;<em>w</em><sup>2</sup> = <em>w</em>&middot;(&minus;2 <em>w</em> &minus; 3) = \n",
    "&minus;2 <em>w</em><sup>2</sup> &minus; 3 <em>w</em> = &minus;2(&minus;2 <em>w</em> &minus; 3) - 3 <em>w</em> = (4 <em>w</em> + 6) &minus; 3 <em>w</em> = <em>w</em> + 6.</p>\n",
    "This then simplifies to <em>w</em> + 1 in <em>Z</em><sub>5</sub>.  In fact, <em>SageMath</em> can list the elements in this ring.<br>"
   ]
  },
  {
   "cell_type": "code",
   "execution_count": 0,
   "id": "c0bed1",
   "metadata": {
    "collapsed": false
   },
   "outputs": [
   ],
   "source": [
    "H = Field(); H"
   ]
  },
  {
   "cell_type": "markdown",
   "id": "ef9de3",
   "metadata": {
    "collapsed": false
   },
   "source": [
    "<br>\n",
    "The length of this ring is<br>"
   ]
  },
  {
   "cell_type": "code",
   "execution_count": 0,
   "id": "a1a1d1",
   "metadata": {
    "collapsed": false
   },
   "outputs": [
   ],
   "source": [
    "len(H)"
   ]
  },
  {
   "cell_type": "markdown",
   "id": "fa875f",
   "metadata": {
    "collapsed": false
   },
   "source": [
    "<br>\n",
    "which is still small enough for us to look at a multiplication table.<br>"
   ]
  },
  {
   "cell_type": "code",
   "execution_count": 0,
   "id": "c6fe5b",
   "metadata": {
    "collapsed": false
   },
   "outputs": [
   ],
   "source": [
    "MultTable(H)"
   ]
  },
  {
   "cell_type": "markdown",
   "id": "eae76a",
   "metadata": {
    "collapsed": false
   },
   "source": [
    "<br>\n",
    "Look carefully.  You'll see there are no zero divisors in this ring.  So this ring is a field.  The fact that <em>SageMath</em> was able to construct this ring through \n",
    "the <strong>Define</strong> command verifies that this is indeed a field.<br><br>\n",
    "\n",
    "How would we describe this field?  As in the case of <em>Z</em><sub>3</sub>[<em>x</em>]/&lang;<em>x</em><sup>2</sup> + 1&rang;, we can consider every element of <em>H</em> as \n",
    "a polynomial of <em>Z</em><sub>5</sub>[<em>x</em>] for which <em>x</em> was replaced by <em>w</em>.  That is, we consider the evaluation homomorphism\n",
    "<p style='text-align: center;'><em>&#981;<sub>w</sub></em> : <em>H</em>[<em>x</em>] &rarr; <em>H</em>.</p>\n",
    "However, we can restrict this homomorphism to apply only to polynomials in <em>Z</em><sub>5</sub>[<em>x</em>]:\n",
    "<p style='text-align: center;'><em>&#981;<sub>w</sub></em>&prime; : <em>Z</em><sub>5</sub>[<em>x</em>] &rarr; <em>H</em>.</p>\n",
    "The kernal of this homomorphism is &lang;<em>x</em><sup>2</sup> + 2 <em>x</em> + 3&rang;, and the image is certainly all of <em>K</em>.  So by the first ring isomorphism \n",
    "theorem (10.2), we have\n",
    "<p style='text-align: center;'><em>H</em> &asymp; <em>Z</em><sub>5</sub>[<em>x</em>]/&lang;<em>x</em><sup>2</sup> + 2 <em>x</em> + 3&rang;.</p>\n",
    "Thus we have found a way to form fields out of polynomial rings."
   ]
  },
  {
   "cell_type": "markdown",
   "id": "c81a62",
   "metadata": {
    "collapsed": false
   },
   "source": [
    "<a name=\"prop131ret\" id=\"prop131ret\"></a>\n",
    "PROPOSITION 13.1<br>\n",
    "\n",
    "Let <em>K</em> be a field, and let <em>f</em>(<em>x</em>) be an irreducible polynomial of <em>K</em>[<em>x</em>]. Then \n",
    "<em>K</em>[<em>x</em>]/&lang;<em>f</em>(<em>x</em>)&rang; is \n",
    "a field that contains <em>K</em> as a subfield.<br><br>\n",
    "\n",
    "<a href=\"#prop131\">Click here for the proof.</a>\n",
    "\n",
    "<p />\n",
    "DEFINITION 13.1<br>\n",
    "The field formed in Proposition 13.1 is called the <em>extension field of K through the irreducible polynomial f</em>(<em>x</em>).<br><br>\n",
    "\n",
    "EXAMPLE:<br>\n",
    "Repeat the process for a <em>third degree</em> polynomial in <em>Z</em><sub>3</sub>[<em>x</em>] that is irreducible.<br>"
   ]
  },
  {
   "cell_type": "code",
   "execution_count": 0,
   "id": "564a20",
   "metadata": {
    "collapsed": false
   },
   "outputs": [
   ],
   "source": [
    "InitDomain(3,\"x\")\n",
    "Z3 = Field(); Z3"
   ]
  },
  {
   "cell_type": "markdown",
   "id": "135345",
   "metadata": {
    "collapsed": false
   },
   "source": [
    "<br>\n",
    "The only way to find such a polynomial is by trial and error. Let us try the following polynomial:<br>"
   ]
  },
  {
   "cell_type": "code",
   "execution_count": 0,
   "id": "8f746c",
   "metadata": {
    "collapsed": false
   },
   "outputs": [
   ],
   "source": [
    "factor(x^3 + x^2 + x + 1)"
   ]
  },
  {
   "cell_type": "markdown",
   "id": "497290",
   "metadata": {
    "collapsed": false
   },
   "source": [
    "<br>\n",
    "Unfortunately, this polynomial does reduce in <em>Z</em><sub>3</sub>[<em>x</em>].<br><br>\n",
    "\n",
    "EXPERIMENT:<br>\n",
    "Try changing one or more of the coefficients so that the resulting polynomial is irreducible.  Leave the <em>x</em><sup>3</sup> term as it is.  There is more than \n",
    "one solution.<br>"
   ]
  },
  {
   "cell_type": "markdown",
   "id": "5cc642",
   "metadata": {
    "collapsed": false
   },
   "source": [
    "<br>\n",
    "Once we have found an irreducible polynomial of degree three, we are ready to define a new field.  We will let <em>a</em> be one of the zeros of the polynomial, and we \n",
    "will solve for <em>a</em><sup>3</sup>.  That is, for the polynomial \n",
    "<p style='text-align: center;'><em>x</em><sup>3</sup> + <em>x</em><sup>2</sup> + <em>x</em> + 1,</p>\n",
    "we would let\n",
    "<p style='text-align: center;'><em>a</em><sup>3</sup> = &minus;<em>a</em><sup>2</sup> &minus; <em>a</em> &minus; 1.</p>\n",
    "EXPERIMENT:<br>\n",
    "\n",
    "Determine what <em>a</em><sup>3</sup> would be using <em>your</em> polynomial which you found from the last experiment.  Fill in the space with the answer, and execute it \n",
    "to produce a multiplication table, and verification that your ring is a field.<br>"
   ]
  },
  {
   "cell_type": "code",
   "execution_count": 0,
   "id": "1270ac",
   "metadata": {
    "collapsed": false
   },
   "outputs": [
   ],
   "source": [
    "AddFieldVar(\"a\")\n",
    "Define(a^3,         )\n",
    "R = Field()\n",
    "R"
   ]
  },
  {
   "cell_type": "code",
   "execution_count": 0,
   "id": "b23186",
   "metadata": {
    "collapsed": false
   },
   "outputs": [
   ],
   "source": [
    "MultTable(R)"
   ]
  },
  {
   "cell_type": "markdown",
   "id": "e371cd",
   "metadata": {
    "collapsed": false
   },
   "source": [
    "<br>\n",
    "Note that since the irreducible polynomial was a cubic, the elements of the field sometimes had to be expressed in terms of <em>a</em><sup>2</sup>.  This is why the basis \n",
    "for this ring was {1, <em>a</em>, <em>a</em><sup>2</sup>}.  In general, of the degree of the polynomial is <em>d</em>, then the basis of the ring will be\n",
    "<p style='text-align: center;'>{1, <em>a</em>, <em>a</em><sup>2</sup>, <em>a</em><sup>3</sup>, &hellip; <em>a</em><sup><em>d</em>&minus;1</sup>}.</p>\n",
    "Thus, in the above example there were 3<sup>3</sup> = 27 elements.  It is not hard to prove the following generalization."
   ]
  },
  {
   "cell_type": "markdown",
   "id": "106527",
   "metadata": {
    "collapsed": false
   },
   "source": [
    "<a name=\"prop132ret\" id=\"prop132ret\"></a>\n",
    "PROPOSITION 13.2<br>\n",
    "\n",
    "Let <em>p</em> be a prime number, and let <em>A</em>(<em>x</em>) be an irreducible polynomial in <em>Z<sub>p</sub></em>[<em>x</em>] of degree <em>d</em>.  Then the \n",
    "field\n",
    "<p style='text-align: center;'><em>K</em> = <em>Z<sub>p</sub></em>[<em>x</em>]/&lang;<em>A</em>(<em>x</em>)&rang;</p>\n",
    "has order <em>p<sup>d</sup></em>.<br><br>\n",
    "\n",
    "<a href=\"#prop132\">Click here for the proof.</a>\n",
    "\n",
    "<p />\n",
    "EXPERIMENT:<br>\n",
    "\n",
    "In the above experiment, you created a field <em>R</em> for which an irreducible polynomial in <em>Z</em><sub>3</sub> now has a zero.  Let us verify that this \n",
    "polynomial factors over the new field.  Replace the polynomial in the command below with <em>your</em> polynomial from above, and execute.<br>"
   ]
  },
  {
   "cell_type": "code",
   "execution_count": 0,
   "id": "a4ef03",
   "metadata": {
    "collapsed": false
   },
   "outputs": [
   ],
   "source": [
    "factor(x^3 + x^2 + x + 1)"
   ]
  },
  {
   "cell_type": "markdown",
   "id": "732fa4",
   "metadata": {
    "collapsed": false
   },
   "source": [
    "<br>\n",
    "How many zeros does this cubic have over <em>R</em>?<br>"
   ]
  },
  {
   "cell_type": "markdown",
   "id": "b213c2",
   "metadata": {
    "collapsed": false
   },
   "source": [
    "<br>\n",
    "Whenever a finite field is defined by an extension through an irreducible polynomial, the order of the field will be a power of a prime.  We would like to show that \n",
    "<em>all</em> finite fields are produced in this way.  So naturally we begin by showing that all finite fields have an order that is a power of a prime number."
   ]
  },
  {
   "cell_type": "markdown",
   "id": "c89ae3",
   "metadata": {
    "collapsed": false
   },
   "source": [
    "<a name=\"prop133ret\" id=\"prop133ret\"></a>\n",
    "PROPOSITION 13.3<br>\n",
    "\n",
    "Suppose <em>K</em> is a finite division ring.  Then |<em>K</em>| = <em>p<sup>n</sup></em> for some prime <em>p</em> and some integer <em>n</em>.<br><br> \n",
    "\n",
    "<a href=\"#prop133\">Click here for the proof.</a>\n",
    "\n",
    "<p />\n",
    "According to this proposition, it is impossible to find a field of order 6.   However, it is still possible to find a field of order 4.   Let us see if we can find \n",
    "one.   Since a field of order 4 must have characteristic 2, let us begin by loading <em>Z</em><sub>2</sub>.<br>"
   ]
  },
  {
   "cell_type": "code",
   "execution_count": 0,
   "id": "953c7b",
   "metadata": {
    "collapsed": false
   },
   "outputs": [
   ],
   "source": [
    "InitDomain(2,\"x\")\n",
    "Z2 = Field()\n",
    "Z2"
   ]
  },
  {
   "cell_type": "markdown",
   "id": "51d9e4",
   "metadata": {
    "collapsed": false
   },
   "source": [
    "<br>\n",
    "Now let us try to find a second degree irreducible polynomial in <em>Z</em><sub>2</sub>.<br>"
   ]
  },
  {
   "cell_type": "code",
   "execution_count": 0,
   "id": "39df22",
   "metadata": {
    "collapsed": false
   },
   "outputs": [
   ],
   "source": [
    "factor(x^2 + 1)"
   ]
  },
  {
   "cell_type": "markdown",
   "id": "36b347",
   "metadata": {
    "collapsed": false
   },
   "source": [
    "<br>\n",
    "This polynomial factored, and in fact, has a double root.<br><br>\n",
    "\n",
    "EXPERIMENT:<br>\n",
    "Change the polynomial <em>x</em><sup>2</sup> + 1 in the above statement to find a second degree irreducible polynomial.  Once this is found, use a define command to \n",
    "define the element <em>a</em> to be a root of this polynomial.  Find the ring generated by <em>a</em>, and display a multiplication table of this ring to verify that \n",
    "it is a field.<br>"
   ]
  },
  {
   "cell_type": "markdown",
   "id": "bb0726",
   "metadata": {
    "collapsed": false
   },
   "source": [
    "<br>\n",
    "As we see from this example, it is fairly easy to enter finite groups into <em>SageMath</em>, as long as they can be expressed as an extension \n",
    "field of <em>Z<sub>p</sub></em> through some irreducible polynomial of <em>Z<sub>p</sub></em>[<em>x</em>].  In the next section, we will show that all finite fields \n",
    "can be obtained in this way.  In fact, our goal will be to classify <em>all</em> finite fields.<br><br>"
   ]
  },
  {
   "cell_type": "markdown",
   "id": "0769bd",
   "metadata": {
    "collapsed": false
   },
   "source": [
    "<a name=\"sec132\" id=\"sec132\"></a>\n",
    "<h1>Properties of Finite Fields</h1>\n",
    "\n",
    "<br>\n",
    "In the last example we starting looking at examples of finite fields.  In this section we want to explore the properties that all finite fields have in common.  In \n",
    "the process, we will discover that there aren't as many finite fields as one would expect.<br><br>\n",
    "\n",
    "We begin by observing that if <em>F</em> is a finite field, that the multiplicative group <em>F</em><sup>&ast;</sup> must be a finite abelian group.  The natural question \n",
    "one would ask is &quot;which abelian group is <em>F</em><sup>&ast;</sup>?&quot;  If the field is of order <em>p<sup>n</sup></em>, the group <em>F</em><sup>&ast;</sup> has \n",
    "order <em>p<sup>n</sup></em> &minus; 1.  From the fundamental theorem on abelian groups, the possible groups of order <em>p<sup>n</sup></em> &minus; 1 is \n",
    "limited.  Perhaps by experimenting, we can get a clue as to which abelian group of order <em>p<sup>n</sup></em> &minus; 1 is produced.<br><br>\n",
    "\n",
    "EXPERIMENT:<br>\n",
    "Reload the field of &quot;complex numbers modulo 3&quot;. <br>"
   ]
  },
  {
   "cell_type": "code",
   "execution_count": 0,
   "id": "181389",
   "metadata": {
    "collapsed": false
   },
   "outputs": [
   ],
   "source": [
    "InitDomain(3)\n",
    "AddFieldVar(\"i\")\n",
    "Define(i^2, -1)\n",
    "K = Field()\n",
    "MultTable(K)"
   ]
  },
  {
   "cell_type": "markdown",
   "id": "535b59",
   "metadata": {
    "collapsed": false
   },
   "source": [
    "<br>\n",
    "Study the multiplication table, and determine which of the three groups\n",
    "<p style='text-align: center;'><em>Z</em><sub>8</sub>,&emsp;<em>Z</em><sub>2</sub> &times; <em>Z</em><sub>4</sub>,&ensp;or&ensp;<em>Z</em><sub>2</sub> &times; \n",
    "<em>Z</em><sub>2</sub> &times; <em>Z</em><sub>2</sub>,</p>\n",
    "is formed by <em>K</em><sup>&ast;</sup>.<br>"
   ]
  },
  {
   "cell_type": "markdown",
   "id": "8f3aa2",
   "metadata": {
    "collapsed": false
   },
   "source": [
    "<br>\n",
    "We can find the multiplicative group for some of the other finite fields that we found in the last section very easily.  For example, the field of order 4 has \n",
    "a multiplicative group of order 3, so this group must be <em>Z</em><sub>3</sub>.<br><br>\n",
    "\n",
    "On the other hand, the field of order 27 must have a group of order 26 as its multiplicative group. By the fundamental theorem of abelian groups, there is only one \n",
    "such group: <em>Z</em><sub>26</sub>.  So in all of the cases we have explored, the multiplicative group of a finite field turns out to be cyclic.  Let us see if we can prove \n",
    "this pattern continues using the fundamental theorem of abelian groups."
   ]
  },
  {
   "cell_type": "markdown",
   "id": "522a90",
   "metadata": {
    "collapsed": false
   },
   "source": [
    "<a name=\"prop134ret\" id=\"prop134ret\"></a>\n",
    "PROPOSITION 13.4<br>\n",
    "\n",
    "If <em>F</em> is a finite field, then the multiplicative group <em>F</em><sup>&ast;</sup> is a cyclic group.<br><br>\n",
    "\n",
    "<a href=\"#prop134\">Click here for the proof.</a>\n",
    "\n",
    "<p />\n",
    "Now that the multiplicative group is completely understood for a finite field, let us turn our attention to the group of automorphisms on the field.  We have previously \n",
    "seen examples where the group of automorphisms gave us insight into the structure of a ring, and finite fields are no exception.  We begin by proving some basic lemmas \n",
    "in number theory."
   ]
  },
  {
   "cell_type": "markdown",
   "id": "8c1b80",
   "metadata": {
    "collapsed": false
   },
   "source": [
    "<a name=\"lem131ret\" id=\"lem131ret\"></a>\n",
    "LEMMA 13.1<br>\n",
    "\n",
    "If <em>p</em> is a prime, then <em>n&thinsp;<sup>p</sup></em> &equiv; <em>n</em> (mod <em>p</em>) for all integers <em>n</em>.<br><br>\n",
    "\n",
    "<a href=\"#lem131\">Click here for the proof.</a>\n",
    "\n",
    "<p />\n",
    "The next lemma starts to reveal the automorphism we are looking for."
   ]
  },
  {
   "cell_type": "markdown",
   "id": "930be0",
   "metadata": {
    "collapsed": false
   },
   "source": [
    "<a name=\"lem132ret\" id=\"lem132ret\"></a>\n",
    "LEMMA 13.2<br>\n",
    "\n",
    "If <em>F</em> is a field of characteristic <em>p</em>, then for all <em>g</em> &isin; <em>F</em>, the polynomial\n",
    "<p style='text-align: center;'><em>f</em>(<em>x</em>) = (<em>x</em> + <em>g</em>)<sup><em>p</em></sup> &minus; <em>x<sup>p</sup></em> &minus; <em>g<sup>p</sup></em></p>\n",
    "is the zero polynomial in <em>F</em>[<em>x</em>].<br><br>\n",
    "\n",
    "<a href=\"#lem132\">Click here for the proof.</a>\n",
    "\n",
    "<p />\n",
    "We are now ready to produce one automorphism on a finite field, which we will use to generate all other automorphisms."
   ]
  },
  {
   "cell_type": "markdown",
   "id": "6b5839",
   "metadata": {
    "collapsed": false
   },
   "source": [
    "<a name=\"theor131ret\" id=\"theor131ret\"></a>\n",
    "THEOREM 13.1:The Frobenius Automorphism Theorem<br>\n",
    "\n",
    "If <em>F</em> is a finite field of characteristic <em>p</em>, then the mapping\n",
    "<p style='text-align: center;'><em>&fnof;</em> : <em>x</em> &rarr; <em>x<sup>p</sup></em></p>\n",
    "forms an automorphism of <em>F</em> to itself.  Furthermore, <em>&fnof;</em>(<em>y</em>) = <em>y</em> if, and only if, <em>y</em> is in the \n",
    "subfield <em>Z<sub>p</sub></em>.  This automorphism is called the <em>Frobenius automorphism</em> on <em>F</em>.<br><br>\n",
    "\n",
    "<a href=\"#theor131\">Click here for the proof.</a>\n",
    "\n",
    "<p />\n",
    "We can define the Frobenius automorphism in <em>SageMath</em>.  Let us begin by defining a field of order 16, using the fourth degree\n",
    "polynomial <em>x</em><sup>4</sup> + <em>x</em><sup>3</sup> + 1 in <em>Z</em><sub>2</sub>[<em>x</em>].<br>"
   ]
  },
  {
   "cell_type": "code",
   "execution_count": 0,
   "id": "16663a",
   "metadata": {
    "collapsed": false
   },
   "outputs": [
   ],
   "source": [
    "InitDomain(2)\n",
    "AddFieldVar(\"a\")\n",
    "Define(a^4, -a^3 - 1 )\n",
    "K = Field(); K"
   ]
  },
  {
   "cell_type": "markdown",
   "id": "529cef",
   "metadata": {
    "collapsed": false
   },
   "source": [
    "<br>\n",
    "Since <em>a</em> is the generator of this new field, we only have to tell <em>SageMath</em> where this generator is mapped to.<br>"
   ]
  },
  {
   "cell_type": "code",
   "execution_count": 0,
   "id": "367f8c",
   "metadata": {
    "collapsed": false
   },
   "outputs": [
   ],
   "source": [
    "F = FieldHomo()\n",
    "HomoDef(F, a, a^2)"
   ]
  },
  {
   "cell_type": "code",
   "execution_count": 0,
   "id": "7814b2",
   "metadata": {
    "collapsed": false
   },
   "outputs": [
   ],
   "source": [
    "CheckHomo(F)"
   ]
  },
  {
   "cell_type": "code",
   "execution_count": 0,
   "id": "f156f8",
   "metadata": {
    "collapsed": false
   },
   "outputs": [
   ],
   "source": [
    "F(a)"
   ]
  },
  {
   "cell_type": "markdown",
   "id": "796c4f",
   "metadata": {
    "collapsed": false
   },
   "source": [
    "<br>\n",
    "We can even make a circle graph of this automorphism.<br>"
   ]
  },
  {
   "cell_type": "code",
   "execution_count": 0,
   "id": "00e022",
   "metadata": {
    "collapsed": false
   },
   "outputs": [
   ],
   "source": [
    "CircleGraph(K, F)"
   ]
  },
  {
   "cell_type": "markdown",
   "id": "ec9098",
   "metadata": {
    "collapsed": false
   },
   "source": [
    "<br>\n",
    "Once we have the one automorphism <em>&fnof;</em>(<em>x</em>), we can find more.  For example, <em>&fnof;</em>(<em>&fnof;</em>(<em>x</em>)), \n",
    "<em>&fnof;</em>(<em>&fnof;</em>(<em>&fnof;</em>(<em>x</em>))) are automorphisms.  Of course this eventually will produce the identity automorphism, and it is not hard \n",
    "to determine the order of <em>&fnof;</em>(<em>x</em>)."
   ]
  },
  {
   "cell_type": "markdown",
   "id": "ad5745",
   "metadata": {
    "collapsed": false
   },
   "source": [
    "<a name=\"cor131ret\" id=\"cor131ret\"></a>\n",
    "COROLLARY 13.1<br>\n",
    "\n",
    "Let <em>F</em> be a finite field of order <em>p<sup>n</sup></em>. Then the Frobenius automorphism is of order <em>n</em> in the group of automorphisms.<br><br>\n",
    "\n",
    "<a href=\"#cor131\">Click here for the proof.</a>\n",
    "\n",
    "<p />\n",
    "EXPERIMENT:<br>\n",
    "\n",
    "For the Frobenius automorphism <em>&fnof;</em>(<em>x</em>) defined above, determine what <em>&fnof;</em>(<em>&fnof;</em>(<em>a</em>)) is.  Then create the automorphism\n",
    "<em>g</em>(<em>x</em>) = <em>&fnof;</em>(<em>&fnof;</em>(<em>x</em>)) in <em>SageMath</em>.  Form the circle graph of the new automorphism.  Which elements are <em>fixed</em> \n",
    "by <em>g</em>(<em>x</em>)?  That is, which elements map to themselves in the automorphism?  Show that these elements form a <em>subfield</em> of the field <em>K</em>.<br>"
   ]
  },
  {
   "cell_type": "markdown",
   "id": "e13b2c",
   "metadata": {
    "collapsed": false
   },
   "source": [
    "<br>\n",
    "One application that these automorphisms on <em>K</em> have is that they can be applied to polynomials in <em>K</em>.  We first need to show some simple lemma to \n",
    "indicate how to apply the Frobenius automorphism to <em>K</em>[<em>x</em>]. "
   ]
  },
  {
   "cell_type": "markdown",
   "id": "af2464",
   "metadata": {
    "collapsed": false
   },
   "source": [
    "<a name=\"lem133ret\" id=\"lem133ret\"></a>\n",
    "LEMMA 13.3<br>\n",
    "\n",
    "Any isomorphism <em>&fnof;</em> that maps an integral domain <em>K</em> to an integral domain <em>M</em> extends to an isomorphism mapping <em>K</em>[<em>x</em>] to \n",
    "<em>M</em>[<em>x</em>], with <em>&fnof;</em> sending the polynomial <em>x</em> in <em>K</em>[<em>x</em>] to the polynomial <em>x</em> in <em>M</em>[<em>x</em>].<br><br>\n",
    "\n",
    "<a href=\"#lem133\">Click here for the proof.</a>\n",
    "\n",
    "<p />\n",
    "We can apply Lemma 13.3 to the case where <em>&fnof;</em> is an automorphism on <em>K</em>[<em>x</em>], such as the Frobenius automorphism.  By extending the Frobenius \n",
    "automorphism to a polynomial, we can generate irreducible polynomials in <em>Z<sub>p</sub></em>[<em>x</em>].  These irreducible polynomials are important, since we can \n",
    "define the field in terms of these polynomials."
   ]
  },
  {
   "cell_type": "markdown",
   "id": "7ed663",
   "metadata": {
    "collapsed": false
   },
   "source": [
    "<a name=\"prop135ret\" id=\"prop135ret\"></a>\n",
    "PROPOSITION 13.5<br>\n",
    "\n",
    "Let <em>F</em> be a finite field of characteristic <em>p</em>.  For any <em>y</em> in <em>F</em>, let <em>n</em> be the smallest number such \n",
    "that <em>y<sup>p&#8319;</sup></em> = y.  If <em>&fnof;</em>(x) is the Frobenius automorphism, then\n",
    "<p style='text-align: center;'><em>g</em>(<em>x</em>) = (<em>x</em> &minus; <em>y</em>)&middot;(<em>x</em> &minus; <em>&fnof;</em>(<em>y</em>))&middot;(<em>x</em> &minus; \n",
    "<em>&fnof;</em>(<em>&fnof;</em>(<em>y</em>)))&middot; &#8943; &middot;(<em>x</em> &minus; <em>&fnof;</em>&thinsp;<sup><em>n</em>&minus;1</sup>(<em>y</em>))</p>\n",
    "is an irreducible polynomial of degree <em>n</em> in <em>Z<sub>p</sub></em>[<em>x</em>].  Here, <em>&fnof;</em>&thinsp;<sup><em>n</em>&minus;1</sup> means <em>&fnof;</em> applied \n",
    "to itself <em>n</em> &minus; 1 times.<br><br>\n",
    "\n",
    "<a href=\"#prop135\">Click here for the proof.</a>\n",
    "\n",
    "<p />\n",
    "The irreducible polynomial generated by this proposition is important enough to warrant a definition.<br><br>\n",
    "\n",
    "DEFINITION 13.2<br>\n",
    "\n",
    "The polynomial produced by Proposition 13.5 is called the <em>irreducible polynomial of y over Z<sub>p</sub></em>.  If <em>y</em> is in <em>Z<sub>p</sub></em>, \n",
    "this polynomial is simply <em>x</em> &minus; <em>y</em>.<br><br>\n",
    "\n",
    "We can now use Proposition 13.5 to show us that every finite field can be produced as an extension of <em>Z<sub>p</sub></em> over an irreducible polynomial.  While we are \n",
    "at it, we will prove a statement that is true for all fields, not just finite fields."
   ]
  },
  {
   "cell_type": "markdown",
   "id": "685c54",
   "metadata": {
    "collapsed": false
   },
   "source": [
    "<a name=\"prop136ret\" id=\"prop136ret\"></a>\n",
    "PROPOSITION 13.6<br>\n",
    "\n",
    "Let <em>K</em> be any field, and <em>F</em> be a subfield of <em>K</em>.  Suppose there is an element <em>y</em> of <em>K</em> such that there are no proper subfields \n",
    "of <em>K</em> containing both <em>F</em> and <em>y</em>.  Suppose that there is a polynomial <em>f</em>(<em>x</em>) in <em>K</em>[<em>x</em>] with coefficients \n",
    "in <em>F</em> such that <em>f</em>(<em>y</em>) = 0.  Suppose further that <em>f</em>(<em>x</em>) is an irreducible polynomial when treated as a polynomial \n",
    "in <em>F</em>[<em>x</em>]. Then <em>K</em> is isomorphic to <em>F</em>[<em>x</em>]/&lang;<em>f</em>(<em>x</em>)&rang;.<br><br>\n",
    "\n",
    "<a href=\"#prop136\">Click here for the proof.</a>\n",
    "\n",
    "<p />\n",
    "One immediate application of Proposition 13.6 is to show us that every finite field can be produced as an extension of <em>Z<sub>p</sub></em> over an irreducible \n",
    "polynomial.  We will use the polynomial derived in Proposition 13.5."
   ]
  },
  {
   "cell_type": "markdown",
   "id": "2cb514",
   "metadata": {
    "collapsed": false
   },
   "source": [
    "<a name=\"cor132ret\" id=\"cor132ret\"></a>\n",
    "COROLLARY 13.2<br>\n",
    "\n",
    "For every finite field <em>K</em> of characteristic <em>p</em>, there is an irreducible polynomial <em>f</em>(<em>x</em>) of <em>Z<sub>p</sub></em>[<em>x</em>] such \n",
    "that <em>K</em> is isomorphic to <em>Z<sub>p</sub></em>[<em>x</em>]/&lang;<em>f</em>(<em>x</em>)&rang;.<br><br>\n",
    "\n",
    "<a href=\"#cor132\">Click here for the proof.</a>\n",
    "\n",
    "<p />\n",
    "Because every finite field is generated by a single polynomial in <em>Z<sub>p</sub></em>[<em>x</em>], <em>SageMath</em> can define any finite field.  In fact, <em>SageMath</em>\n",
    "is really defining <em>Z<sub>p</sub></em>[<em>x</em>]/&lang;<em>f</em>(<em>x</em>)&rang; when we use the <strong>Define</strong> command, subtracting the two arguments \n",
    "to determine \n",
    "the polynomial.  For example, we could have defined the complex numbers mod 3 this way:"
   ]
  },
  {
   "cell_type": "code",
   "execution_count": 0,
   "id": "95432f",
   "metadata": {
    "collapsed": false
   },
   "outputs": [
   ],
   "source": [
    "InitDomain(3, \"x\")\n",
    "AddFieldVar(\"i\")\n",
    "Define(x^2 + 1, 0)"
   ]
  },
  {
   "cell_type": "markdown",
   "id": "1873f6",
   "metadata": {
    "collapsed": false
   },
   "source": [
    "This way emphasises that we are really defining <em>Z</em><sub>3</sub>[<em>x</em>]/&lang;<em>x</em><sup>2</sup> + 1&rang;.  We can now compute <em>i</em><sup>2</sup> in our new field:<br>"
   ]
  },
  {
   "cell_type": "code",
   "execution_count": 0,
   "id": "9ec6aa",
   "metadata": {
    "collapsed": false
   },
   "outputs": [
   ],
   "source": [
    "i^2"
   ]
  },
  {
   "cell_type": "markdown",
   "id": "d2a977",
   "metadata": {
    "collapsed": false
   },
   "source": [
    "<br>\n",
    "We can directly list the elements in the field.<br>"
   ]
  },
  {
   "cell_type": "code",
   "execution_count": 0,
   "id": "daf538",
   "metadata": {
    "collapsed": false
   },
   "outputs": [
   ],
   "source": [
    "K = Field(); K"
   ]
  },
  {
   "cell_type": "code",
   "execution_count": 0,
   "id": "df27c5",
   "metadata": {
    "collapsed": false
   },
   "outputs": [
   ],
   "source": [
    "MultTable(K)"
   ]
  },
  {
   "cell_type": "markdown",
   "id": "b8eb3e",
   "metadata": {
    "collapsed": false
   },
   "source": [
    "<br>\n",
    "In this new field, <em>x</em><sup>2</sup> + 1 will factor.<br>"
   ]
  },
  {
   "cell_type": "code",
   "execution_count": 0,
   "id": "6b1e46",
   "metadata": {
    "collapsed": false
   },
   "outputs": [
   ],
   "source": [
    "factor(x^2 + 1)"
   ]
  },
  {
   "cell_type": "markdown",
   "id": "efa27b",
   "metadata": {
    "collapsed": false
   },
   "source": [
    "<br>\n",
    "But there are two other irreducible second degree polynomials in <em>Z</em><sub>3</sub>[<em>x</em>], <em>x</em><sup>2</sup> + <em>x</em> + 2 and \n",
    "<em>x</em><sup>2</sup> + 2<em>x</em> + 2.  What if we formed fields using these?<br><br>\n",
    "\n",
    "EXPERIMENT:<br>\n",
    "Do the other two polynomials factor over the field <em>K</em>?<br>"
   ]
  },
  {
   "cell_type": "markdown",
   "id": "d48e4a",
   "metadata": {
    "collapsed": false
   },
   "source": [
    "<br>\n",
    "Try defining <em>Z</em><sub>3</sub>[<em>x</em>]/&lang;<em>x</em><sup>2</sup> + <em>x</em> + 2&rang;, using <em>w</em> as the element which satisfies the equation. \n",
    "Do all three polynomials <em>x</em><sup>2</sup> + 1, <em>x</em><sup>2</sup> + <em>x</em> + 2, and <em>x</em><sup>2</sup> + 2<em>x</em> + 2 factor in this field?<br>"
   ]
  },
  {
   "cell_type": "markdown",
   "id": "c91d88",
   "metadata": {
    "collapsed": false
   },
   "source": [
    "<br>\n",
    "What about the field <em>Z</em><sub>3</sub>[<em>x</em>]/&lang;<em>x</em><sup>2</sup> + 2<em>x</em> + 2&rang;?<br>"
   ]
  },
  {
   "cell_type": "markdown",
   "id": "7a2623",
   "metadata": {
    "collapsed": false
   },
   "source": [
    "<br>\n",
    "What does this tell us about the fields <em>Z</em><sub>3</sub>[<em>x</em>]/&lang;<em>x</em><sup>2</sup> + 1&rang;, \n",
    "<em>Z</em><sub>3</sub>[<em>x</em>]/&lang;<em>x</em><sup>2</sup> + <em>x</em> + 2&rang;, and \n",
    "<em>Z</em><sub>3</sub>[<em>x</em>]/&lang;<em>x</em><sup>2</sup> + 2<em>x</em> + 2&rang;?  (Hint: \n",
    "See Proposition 13.6.)<br>"
   ]
  },
  {
   "cell_type": "markdown",
   "id": "97df8f",
   "metadata": {
    "collapsed": false
   },
   "source": [
    "<br>\n",
    "For small fields (such as those of order 9), we might not expect to have too many fields of the same order.  So let us consider larger finite fields, to see if the \n",
    "same pattern persists.<br><br>\n",
    "\n",
    "EXPERIMENT:<br>\n",
    "Here are two polynomials which are irreducible in <em>Z</em><sub>3</sub>[<em>x</em>]:\n",
    "<p style='text-align: center;'><em>x</em><sup>3</sup> + 2<em>x</em> + 1,&emsp;and</p>\n",
    "<p style='text-align: center;'><em>x</em><sup>3</sup> + <em>x</em><sup>2</sup> + <em>x</em> + 2</p>\n",
    "Define the field <em>Z</em><sub>3</sub>[<em>x</em>]/&lang;<em>x</em><sup>3</sup> + 2<em>x</em> + 1&rang; in <em>SageMath</em>, and see if the second polynomial factors in \n",
    "this field.  Likewise, define the field <em>Z</em><sub>3</sub>[<em>x</em>]/&lang;<em>x</em><sup>3</sup> + <em>x</em><sup>2</sup> + <em>x</em> + 2&rang; in <em>SageMath</em> to \n",
    "determine whether the first polynomial factors over this field.  What do you obverse?  How would you interpret the result?<br>"
   ]
  },
  {
   "cell_type": "markdown",
   "id": "a633fa",
   "metadata": {
    "collapsed": false
   },
   "source": [
    "<br>\n",
    "To understand the significance of having the generator of one field factor completely in another field, let us look at an example where this doesn't happen.  Consider \n",
    "two fields of characteristic 2, one of order 4, and the other of order 8. We will use the polynomials <em>x</em><sup>2</sup> + <em>x</em> + 1 and \n",
    "<em>x</em><sup>3</sup> + <em>x</em> + 1.<br>"
   ]
  },
  {
   "cell_type": "code",
   "execution_count": 0,
   "id": "c34799",
   "metadata": {
    "collapsed": false
   },
   "outputs": [
   ],
   "source": [
    "InitDomain(2,\"x\")\n",
    "AddFieldVar(\"a\")\n",
    "Define(x^2 + x + 1, 0)\n",
    "K = Field(); K"
   ]
  },
  {
   "cell_type": "code",
   "execution_count": 0,
   "id": "b21c23",
   "metadata": {
    "collapsed": false
   },
   "outputs": [
   ],
   "source": [
    "factor(x^2 + x + 1)"
   ]
  },
  {
   "cell_type": "code",
   "execution_count": 0,
   "id": "2de136",
   "metadata": {
    "collapsed": false
   },
   "outputs": [
   ],
   "source": [
    "factor(x^3 + x + 1)"
   ]
  },
  {
   "cell_type": "markdown",
   "id": "0d404b",
   "metadata": {
    "collapsed": false
   },
   "source": [
    "<br>\n",
    "This time, one of the polynomials factor, while the other did not.  Let's try the other field.<br>"
   ]
  },
  {
   "cell_type": "code",
   "execution_count": 0,
   "id": "e5b8be",
   "metadata": {
    "collapsed": false
   },
   "outputs": [
   ],
   "source": [
    "InitDomain(2,\"x\")\n",
    "AddFieldVar(\"b\")\n",
    "Define(x^3 + x + 1, 0)\n",
    "F = Field(); F"
   ]
  },
  {
   "cell_type": "markdown",
   "id": "c456d7",
   "metadata": {
    "collapsed": false
   },
   "source": [
    "<br>\n",
    "Let us see whether <em>x</em><sup>3</sup> + <em>x</em> + 1 factors in <em>K</em>, or whether <em>x</em><sup>2</sup> + <em>x</em> + 1 factors in <em>F</em>.<br>"
   ]
  },
  {
   "cell_type": "code",
   "execution_count": 0,
   "id": "0f730f",
   "metadata": {
    "collapsed": false
   },
   "outputs": [
   ],
   "source": [
    "factor(x^3 + x + 1)"
   ]
  },
  {
   "cell_type": "code",
   "execution_count": 0,
   "id": "b76dca",
   "metadata": {
    "collapsed": false
   },
   "outputs": [
   ],
   "source": [
    "factor(x^2 + x + 1)"
   ]
  },
  {
   "cell_type": "markdown",
   "id": "4d5fa8",
   "metadata": {
    "collapsed": false
   },
   "source": [
    "<br>\n",
    "Thus, we see that the polynomial which defines <em>K</em> is irreducible in <em>F</em>, and vice versa.  Hence, the element <em>a</em> cannot be expressed in terms \n",
    "of <em>b</em>, so the fields <em>K</em> and <em>F</em> are totally different.<br><br>\n",
    "\n",
    "Can we find a field containing both <em>K</em> and <em>F</em> at the same time?  The natural choice \n",
    "would be to define <em>both</em> <em>a</em> and <em>b</em> using their respective polynomials.<br>"
   ]
  },
  {
   "cell_type": "code",
   "execution_count": 0,
   "id": "b75c37",
   "metadata": {
    "collapsed": false
   },
   "outputs": [
   ],
   "source": [
    "InitDomain(2)\n",
    "AddFieldVar(\"a\")\n",
    "Define(a^2 + a + 1, 0)"
   ]
  },
  {
   "cell_type": "code",
   "execution_count": 0,
   "id": "7b785e",
   "metadata": {
    "collapsed": false
   },
   "outputs": [
   ],
   "source": [
    "AddFieldVar(\"b\")\n",
    "Define(b^3 + b + 1, 0)"
   ]
  },
  {
   "cell_type": "code",
   "execution_count": 0,
   "id": "9a00df",
   "metadata": {
    "collapsed": false
   },
   "outputs": [
   ],
   "source": [
    "L = Field(); L"
   ]
  },
  {
   "cell_type": "markdown",
   "id": "a46630",
   "metadata": {
    "collapsed": false
   },
   "source": [
    "<br>\n",
    "How many elements are there in this long list?  We can have <em>SageMath</em> count them for us.<br>"
   ]
  },
  {
   "cell_type": "code",
   "execution_count": 0,
   "id": "3fdc1a",
   "metadata": {
    "collapsed": false
   },
   "outputs": [
   ],
   "source": [
    "len(L)"
   ]
  },
  {
   "cell_type": "markdown",
   "id": "d08ff1",
   "metadata": {
    "collapsed": false
   },
   "source": [
    "<br>\n",
    "It is easy to find subfields which are isomorphic to both <em>K</em> and <em>F</em> in this field.<br>"
   ]
  },
  {
   "cell_type": "code",
   "execution_count": 0,
   "id": "2891ed",
   "metadata": {
    "collapsed": false
   },
   "outputs": [
   ],
   "source": [
    "Ring(a)"
   ]
  },
  {
   "cell_type": "code",
   "execution_count": 0,
   "id": "9c3f8b",
   "metadata": {
    "collapsed": false
   },
   "outputs": [
   ],
   "source": [
    "Ring(b)"
   ]
  },
  {
   "cell_type": "markdown",
   "id": "c7c8fd",
   "metadata": {
    "collapsed": false
   },
   "source": [
    "<br>\n",
    "Can we find a basis?  Simply combining the basis for <em>K</em> and <em>F</em>, giving {1, <em>a</em>, <em>b</em>, <em>b</em><sup>2</sup>} will not be enough, \n",
    "since there are 64 = 2<sup>6</sup> elements in <em>L</em>, so we need 6 elements for the basis.<br><br>\n",
    "\n",
    "EXPERIMENT:<br>\n",
    "By examining the elements of <em>L</em>, can you find two more elements that need to be in the basis?<br>"
   ]
  },
  {
   "cell_type": "markdown",
   "id": "9ddc26",
   "metadata": {
    "collapsed": false
   },
   "source": [
    "<br>\n",
    "It should be noted that this is an <em>extremely</em> inefficient way of defining this finite field, since Corollary 13.2 guarantees that this field can be defined \n",
    "using a single generator, and a single polynomial (which would be sixth degree).  In the next chapter, we will\n",
    "deal with a similar chain of <em>infinite</em> fields.<br><br>\n",
    "\n",
    "In general, we will be able to find a large field containing two different finite fields, provided that the characteristic of the two fields are the same."
   ]
  },
  {
   "cell_type": "markdown",
   "id": "45a6f9",
   "metadata": {
    "collapsed": false
   },
   "source": [
    "<a name=\"lem134ret\" id=\"lem134ret\"></a>\n",
    "LEMMA 13.4<br>\n",
    "\n",
    "Let <em>F</em> and <em>K</em> be two finite fields with the same characteristic <em>p</em>.  Then there is a field that contains isomorphic copies of \n",
    "both <em>F</em> and <em>K</em>.<br><br>\n",
    "\n",
    "<a href=\"#lem134\">Click here for the proof.</a>\n",
    "\n",
    "<p />\n",
    "We can now use this lemma to show that there is only one non-isomorphic field of a given order."
   ]
  },
  {
   "cell_type": "markdown",
   "id": "7f0447",
   "metadata": {
    "collapsed": false
   },
   "source": [
    "<a name=\"cor133ret\" id=\"cor133ret\"></a>\n",
    "COROLLARY 13.3<br>\n",
    "\n",
    "Any two finite fields of the same order are isomorphic to each other.<br><br>\n",
    "\n",
    "<a href=\"#cor133\">Click here for the proof.</a>\n",
    "\n",
    "<p />\n",
    "This proposition explains the strange behavior of fields that we discovered in our experiment.  Whenever a finite field <em>F</em> is extended though an \n",
    "irreducible polynomial, all irreducible polynomials in <em>F</em>[<em>x</em>] of the same degree factor completely in the new field.  The reason is now clear: the \n",
    "field\n",
    "<p style='text-align: center;'><em>F</em>[<em>x</em>]/&lang;<em>f</em>(<em>x</em>)&rang;</p>\n",
    "only depends on the degree of the irreducible polynomial <em>f</em>(<em>x</em>).<br><br>\n",
    "\n",
    "We have already seen fields of order 4, 9, and 27 in this chapter.  We in fact can refer to them as <em>the</em> fields of order 4, 9, or 27.  However, there is one \n",
    "question we have yet to answer.  Given a prime number <em>p</em> and an integer <em>n</em>, is there a field of order <em>p<sup>n</sup></em>?  It seems like all we would \n",
    "need to construct such a field is an irreducible polynomial <em>f</em>(<em>x</em>) in <em>Z<sub>p</sub></em>[<em>x</em>] of degree <em>n</em>, and then the field\n",
    "<p style='text-align: center;'><em>Z<sub>p</sub></em>[<em>x</em>]/&lang;<em>f</em>(<em>x</em>)&rang;</p>\n",
    "would have order <em>p<sup>n</sup></em>.  The only problem with this argument is that we have not shown that there <em>is</em> an irreducible polynomial of \n",
    "degree <em>n</em> in <em>Z<sub>p</sub></em>[<em>x</em>].  In order to construct such irreducible polynomials, we will need to utilize a special class of \n",
    "polynomials&mdash;the cyclotomic polynomials. These polynomials have many different uses not only in this chapter, but also later on as we study Galois theory.<br><br>"
   ]
  },
  {
   "cell_type": "markdown",
   "id": "4be482",
   "metadata": {
    "collapsed": false
   },
   "source": [
    "<a name=\"sec133\" id=\"sec133\"></a>\n",
    "<h1>The Cyclotomic Polynomials</h1>\n",
    "\n",
    "<br>\n",
    "We now pause from our work on finite fields to discuss a special class of polynomials in &#8484;[<em>x</em>].  These polynomials occur in the factorizations of the \n",
    "simple polynomial <em>x<sup>n</sup></em> &minus; 1.  Although these polynomials are constructed easily, they have a tendency to appear in many different \n",
    "applications.<br><br>\n",
    "\n",
    "To introduce the cyclotomic polynomials, we will begin by noticing a pattern in the following factorizations:<br>"
   ]
  },
  {
   "cell_type": "code",
   "execution_count": 0,
   "id": "7f1ce9",
   "metadata": {
    "collapsed": false
   },
   "outputs": [
   ],
   "source": [
    "var(\"x\")\n",
    "factor(x - 1)"
   ]
  },
  {
   "cell_type": "code",
   "execution_count": 0,
   "id": "c2c1c2",
   "metadata": {
    "collapsed": false
   },
   "outputs": [
   ],
   "source": [
    "factor(x^2 - 1)"
   ]
  },
  {
   "cell_type": "code",
   "execution_count": 0,
   "id": "695e51",
   "metadata": {
    "collapsed": false
   },
   "outputs": [
   ],
   "source": [
    "factor(x^3 - 1)"
   ]
  },
  {
   "cell_type": "code",
   "execution_count": 0,
   "id": "7a1b1a",
   "metadata": {
    "collapsed": false
   },
   "outputs": [
   ],
   "source": [
    "factor(x^4 - 1)"
   ]
  },
  {
   "cell_type": "markdown",
   "id": "8a6397",
   "metadata": {
    "collapsed": false
   },
   "source": [
    "<br>\n",
    "EXPERIMENT:<br>\n",
    "Continue this pattern using <em>SageMath</em> to factor the polynomials up to <em>x</em><sup>10</sup> &minus; 1.  Notice that each time there is exactly one new polynomial \n",
    "appearing in the factorization that has not appeared in any previous factorization.<br>"
   ]
  },
  {
   "cell_type": "markdown",
   "id": "0890a3",
   "metadata": {
    "collapsed": false
   },
   "source": [
    "<br>\n",
    "Our plan is to find a formula for the irreducible polynomials produced in these factorizations.  A natural starting place would be to find all of the complex roots of \n",
    "the polynomial <em>x<sup>n</sup></em> &minus; 1.  But we have already seen that the primitive <em>n</em><sup>th</sup> roots of unity are of the form \n",
    "<em>&omega;<sub>n</sub><sup>k</sup></em>, where <em>k</em> is coprime to <em>n</em>.\n",
    "</p>\n",
    "\n",
    "\n",
    "\n",
    "<br>\n",
    "How are the primitive roots of unity related to the factorizations of <em>x<sup>n</sup></em> &minus; 1?  It is clear that the primitive roots are precisely the complex \n",
    "zeros of <em>x<sup>n</sup></em> &minus; 1 that are not zeros of <em>x<sup>m</sup></em> &minus; 1 for <em>m</em> &lt; <em>n</em>.  Thus, if we wish to find the factor \n",
    "of <em>x<sup>n</sup></em> &minus; 1 that does not appear in any previous factorizations, we should look for a polynomial whose only complex roots are the \n",
    "primitive <em>n</em><sup>th</sup> roots of unity.<br><br>\n",
    "\n",
    "EXAMPLE:<br>\n",
    "Find a factor of <em>x</em><sup>8</sup> &minus; 1 that does not appear in any previous factorizations of <em>x<sup>n</sup></em> &minus; 1.<br><br>\n",
    "\n",
    "The primitive eighth roots of unity were found to be <em>&omega;</em><sub>8</sub>, <em>&omega;</em><sub>8</sub><sup>3</sup>, \n",
    "<em>&omega;</em><sub>8</sub><sup>5</sup> and <em>&omega;</em><sub>8</sub><sup>7</sup>.  Thus, the simplest polynomial that has these four complex roots would be<br>"
   ]
  },
  {
   "cell_type": "code",
   "execution_count": 0,
   "id": "c805dc",
   "metadata": {
    "collapsed": false
   },
   "outputs": [
   ],
   "source": [
    "w8 = (1 + I)/sqrt(2); w8"
   ]
  },
  {
   "cell_type": "code",
   "execution_count": 0,
   "id": "cd0b69",
   "metadata": {
    "collapsed": false
   },
   "outputs": [
   ],
   "source": [
    "(x - w8)*(x - w8^3)*(x - w8^5)*(x - w8^7)"
   ]
  },
  {
   "cell_type": "code",
   "execution_count": 0,
   "id": "af464f",
   "metadata": {
    "collapsed": false
   },
   "outputs": [
   ],
   "source": [
    "expand(_)"
   ]
  },
  {
   "cell_type": "markdown",
   "id": "d181a0",
   "metadata": {
    "collapsed": false
   },
   "source": [
    "<br>\n",
    "Lo and behold, this simplified into a polynomial with integer coefficients.  Apparently not only did the imaginary part cancel, but also the square roots \n",
    "simplified.  What's more, this is precisely the new irreducible factor of<br>"
   ]
  },
  {
   "cell_type": "code",
   "execution_count": 0,
   "id": "ff4104",
   "metadata": {
    "collapsed": false
   },
   "outputs": [
   ],
   "source": [
    "factor(x^8 - 1)"
   ]
  },
  {
   "cell_type": "markdown",
   "id": "f12b79",
   "metadata": {
    "collapsed": false
   },
   "source": [
    "<br>\n",
    "so we have found the factor we were looking for.<br><br>\n",
    "\n",
    "EXPERIMENT:<br>\n",
    "You have already found the primitive twelfth roots of unity.  Using the above example as a model, find the simplest polynomial with the primitive twelfth roots \n",
    "as the complex zeros.<br>"
   ]
  },
  {
   "cell_type": "markdown",
   "id": "ab9e30",
   "metadata": {
    "collapsed": false
   },
   "source": [
    "<br>\n",
    "Compare this to the factorization of <em>x</em><sup>12</sup> &minus; 1:<br>"
   ]
  },
  {
   "cell_type": "code",
   "execution_count": 0,
   "id": "16249a",
   "metadata": {
    "collapsed": false
   },
   "outputs": [
   ],
   "source": [
    "factor(x^12 - 1)"
   ]
  },
  {
   "cell_type": "markdown",
   "id": "7025a1",
   "metadata": {
    "collapsed": false
   },
   "source": [
    "<br>\n",
    "What do you discover?<br>"
   ]
  },
  {
   "cell_type": "markdown",
   "id": "ef0b00",
   "metadata": {
    "collapsed": false
   },
   "source": [
    "<br>\n",
    "Let us use these examples as a model for our definition.<br><br>\n",
    "\n",
    "DEFINITION 13.3<br>\n",
    "For <em>n</em> &gt; 0, we define the <em>n<sup>th</sup> cyclotomic polynomial</em> to be the product\n",
    "<p style='text-align: center;'>&Phi;<sub><em>n</em></sub>(<em>x</em>) = \n",
    "(<em>x</em> &minus; <em>&omega;<sub>n</sub></em><sup><em>k</em></sup>&sup1;)&middot;(<em>x</em> &minus; \n",
    "<em>&omega;<sub>n</sub></em><sup><em>k</em></sup>&sup2;)&middot;(<em>x</em> &minus; \n",
    "<em>&omega;<sub>n</sub></em><sup><em>k</em></sup>&sup3;) &#8943; (<em>x</em> &minus; \n",
    "<em>&omega;<sub>n</sub></em><sup><em>k</em></sup>&#8305;),</p>\n",
    "where <em>k</em><sub>1</sub>, <em>k</em><sub>2</sub>, <em>k</em><sub>3</sub>, &hellip; <em>k<sub>i</sub></em> are the integers between 0 and <em>n</em> that are coprime \n",
    "to <em>n</em>.<br><br>\n",
    "\n",
    "It is sometimes convenient to use a special notation for a product of many terms.  Just as the sigma &Sigma; can be used to denote the sum of many terms, a large &Pi; (the upper \n",
    "case <em>&pi;</em>) is used to denote such a product.  Thus, we could write\n",
    "<table align=\"center\" border=\"0\" cellspacing=\"0\" cellpadding=\"0\">\n",
    "  <tr>\n",
    "    <td></td>\n",
    "    <td align=\"center\" valign=\"bottom\">&ensp;&ensp;&ensp;<em>n</em>&ensp;&ensp;&ensp;</td>\n",
    "    <td></td>\n",
    "  </tr>\n",
    "  <tr>\n",
    "    <td align=\"right\">&Phi;<sub><em>n</em></sub>(<em>x</em>) = </td>\n",
    "    <td align=\"center\" valign=\"bottom\">&ensp;<font face=\"Times New Roman, Times, serif\" size=\"+4\">&prod;</font>&ensp;</td>\n",
    "    <td align=\"left\">(<em>x</em> &minus; <em>&omega;<sub>n</sub><sup>k</sup></em>).</td>\n",
    "  </tr>\n",
    "  <tr>\n",
    "    <td></td>\n",
    "    <td align=\"center\" valign=\"top\">&ensp;&ensp;<em>k</em> = 1&ensp;&ensp;</td>\n",
    "    <td></td>\n",
    "  </tr>\n",
    "  <tr>\n",
    "    <td></td>    \n",
    "    <td align=\"center\" valign=\"bottom\">gcd(<em>k</em>, <em>n</em>) = 1</td>\n",
    "    <td></td>\n",
    "  </tr>\n",
    "</table>\n",
    "\n",
    "<br>\n",
    "In this product, the index <em>k</em> ranges from 1 to <em>n</em>, but we only consider the values of <em>k</em> for which gcd(<em>k</em>, <em>n</em>) = 1.  It is \n",
    "apparent from the definition that the degree of the <em>n</em><sup>th</sup> cyclotomic polynomial is <em>&#981;</em>(<em>n</em>), where <em>&#981;</em> is Euler's totient \n",
    "function.<br><br>\n",
    "\n",
    "Although this definition uses complex numbers, we observed that the polynomials always produced integer coefficients. The next proposition shows us how to find the \n",
    "cyclotomic polynomials without having to work with complex numbers."
   ]
  },
  {
   "cell_type": "markdown",
   "id": "57cddc",
   "metadata": {
    "collapsed": false
   },
   "source": [
    "<a name=\"prop137ret\" id=\"prop137ret\"></a>\n",
    "PROPOSITION 13.7<br>\n",
    "\n",
    "For any positive integer <em>n</em>, we have\n",
    "<table align=\"center\" border=\"0\" cellspacing=\"0\" cellpadding=\"0\">\n",
    "  <tr>\n",
    "    <td align=\"right\" valign=\"center\"><em>x<sup>n</sup></em> &minus; 1 = </td>\n",
    "    <td align=\"center\" valign=\"bottom\"><font face=\"Times New Roman, Times, serif\" size=\"+4\">&prod;</font></td>\n",
    "    <td align=\"left\" valign=\"center\">&Phi;<sub><em>k</em></sub>(<em>x</em>).</td>\n",
    "  </tr>\n",
    "  <tr>\n",
    "    <td></td>\n",
    "    <td align=\"center\" valign=\"top\">&ensp;<em>k</em> | <em>n</em>&ensp;</td>\n",
    "    <td></td>\n",
    "  </tr>\n",
    "</table>\n",
    "\n",
    "Here, the product is taken over all values of <em>k</em> that divide <em>n</em>.<br><br>\n",
    "\n",
    "<a href=\"#prop137\">Click here for the proof.</a>\n",
    "\n",
    "<p />\n",
    "To help understand this notation, let us look at the case where <em>n</em> = 12.  Then Proposition 13.7 states that<br><br>\n",
    "<table align=\"center\" border=\"0\" cellspacing=\"0\" cellpadding=\"0\">\n",
    "  <tr>\n",
    "    <td align=\"right\" valign=\"center\"><em>x</em><sup>12</sup> &minus; 1 = </td>\n",
    "    <td align=\"center\" valign=\"bottom\"><font face=\"Times New Roman, Times, serif\" size=\"+4\">&prod;</font></td>\n",
    "    <td align=\"left\" valign=\"center\">&Phi;<sub><em>k</em></sub>(<em>x</em>) = \n",
    "&Phi;<sub>1</sub>(<em>x</em>)&middot;&Phi;<sub>2</sub>(<em>x</em>)&middot;&Phi;<sub>3</sub>(<em>x</em>)&middot;&Phi;<sub>4</sub>(<em>x</em>)&middot;&Phi;<sub>6</sub>(<em>x</em>)&middot;&Phi;<sub>12</sub>(<em>x</em>).</td>\n",
    "  </tr>\n",
    "  <tr>\n",
    "    <td></td>\n",
    "    <td align=\"center\" valign=\"top\">&ensp;<em>k</em> | 12&ensp;</td>\n",
    "    <td></td>\n",
    "  </tr>\n",
    "</table>\n",
    "<br>\n",
    "This can be seen in the factorization of <em>x</em><sup>12</sup> &minus; 1:<br>"
   ]
  },
  {
   "cell_type": "code",
   "execution_count": 0,
   "id": "b73e3f",
   "metadata": {
    "collapsed": false
   },
   "outputs": [
   ],
   "source": [
    "var(\"x\")\n",
    "factor(x^12 - 1)"
   ]
  },
  {
   "cell_type": "markdown",
   "id": "436419",
   "metadata": {
    "collapsed": false
   },
   "source": [
    "<br>\n",
    "Proposition 13.7 at least explains our observation that the factorization of <em>x<sup>n</sup></em> &minus; 1 always produces a new factor.  However, we have not proven \n",
    "that the cyclotomic polynomials are irreducible in &#8484;[<em>x</em>]. We have to begin by showing that &Phi;<sub><em>n</em></sub>(<em>x</em>) is indeed in &#8484;[<em>x</em>]."
   ]
  },
  {
   "cell_type": "markdown",
   "id": "a86167",
   "metadata": {
    "collapsed": false
   },
   "source": [
    "<a name=\"cor134ret\" id=\"cor134ret\"></a>\n",
    "COROLLARY 13.4<br>\n",
    "\n",
    "The <em>n</em><sup>th</sup> cyclotomic polynomial &Phi;<sub><em>n</em></sub>(<em>x</em>) has integer coefficients for all <em>n</em> &gt; 0.<br><br>\n",
    "\n",
    "<a href=\"#cor134\">Click here for the proof.</a>\n",
    "\n",
    "<p />\n",
    "It is actually very easy to generate the <em>n</em><sup>th</sup> cyclotomic polynomial in <em>SageMath</em>. The commands<br>"
   ]
  },
  {
   "cell_type": "code",
   "execution_count": 0,
   "id": "07172d",
   "metadata": {
    "collapsed": false
   },
   "outputs": [
   ],
   "source": [
    "Cyclotomic(3,\"x\")"
   ]
  },
  {
   "cell_type": "code",
   "execution_count": 0,
   "id": "4eb352",
   "metadata": {
    "collapsed": false
   },
   "outputs": [
   ],
   "source": [
    "Cyclotomic(6,\"x\")"
   ]
  },
  {
   "cell_type": "markdown",
   "id": "f13af4",
   "metadata": {
    "collapsed": false
   },
   "source": [
    "<br>\n",
    "find the third and sixth cyclotomic polynomial.  It is easy to see experimentally that Corollary 13.4 is true.  In fact, is seems as though all coefficient of the \n",
    "cyclotomic polynomial are either 0 or <em>&plusmn;</em>1.<br><br>\n",
    "\n",
    "EXPERIMENT:<br>\n",
    "Use <em>SageMath</em> to find many different cyclotomic polynomials.  Are all of the coefficients 0 or &plusmn;1?  (Hint: Start your search at \n",
    "around <em>n</em> = 100.)<br>"
   ]
  },
  {
   "cell_type": "markdown",
   "id": "ec0464",
   "metadata": {
    "collapsed": false
   },
   "source": [
    "<br>\n",
    "The next corollary is another easy consequence of Corollary 13.4."
   ]
  },
  {
   "cell_type": "markdown",
   "id": "6e974f",
   "metadata": {
    "collapsed": false
   },
   "source": [
    "<a name=\"cor135ret\" id=\"cor135ret\"></a>\n",
    "COROLLARY 13.5<br>\n",
    "\n",
    "If <em>n</em> is divisible by <em>m</em>, with <em>n</em> &gt; <em>m</em>, then the polynomial <em>x<sup>n</sup></em> &minus; 1 is divisible by \n",
    "<em>x<sup>m</sup></em> &minus; 1 in &#8484;[<em>x</em>].  Furthermore, &Phi;<sub><em>n</em></sub>(<em>x</em>) divides<br><br>\n",
    "<table align=\"center\" border=\"0\" cellspacing=\"0\" cellpadding=\"0\">\n",
    "  <tr>\n",
    "    <td align=\"center\" valign=\"bottom\"><font style=\"text-decoration:underline\"><em>x&#8319;</em> &minus; 1</font></td>\n",
    "  </tr>\n",
    "  <tr>\n",
    "    <td align=\"center\" valign=\"top\"><em>x<sup>m</sup></em> &minus; 1</td>\n",
    "  </tr>\n",
    "</table>\n",
    "in &#8484;[<em>x</em>].<br><br>\n",
    "\n",
    "<a href=\"#cor135\">Click here for the proof.</a>\n",
    "\n",
    "<p />\n",
    "We now want to find some properties of the cyclotomic polynomials.  One of the most important properties is that two different cyclotomic polynomials cannot share a root \n",
    "in the complex numbers.  (This is obvious from the definition.)  However, we will be working with other fields besides the complex numbers, so we could ask whether \n",
    "a cyclotomic polynomial has a multiple root in <em>any</em> field.<br><br>\n",
    "\n",
    "We begin by defining a <em>multiple root</em> of a polynomial.<br><br>\n",
    "\n",
    "DEFINITION 13.4<br>\n",
    "If <em>r</em> is a root of a polynomial <em>f</em>(<em>x</em>), and (<em>x</em> &minus; <em>r</em>)<sup>2</sup> divides <em>f</em>(<em>x</em>), we say <em>r</em> is \n",
    "a <em>multiple root</em> of <em>f</em>(<em>x</em>).<br><br>\n",
    "\n",
    "We would like to determine when <em>x<sup>n</sup></em> &minus; 1 has multiple roots.  Our strategy is to discover the form of the \n",
    "quotient<br><br>\n",
    "\n",
    "<table align=\"center\" border=\"0\" cellspacing=\"0\" cellpadding=\"0\">\n",
    "  <tr>\n",
    "    <td align=\"center\" valign=\"bottom\"><font style=\"text-decoration:underline\"><em>x&#8319;</em> &minus; 1</font></td>\n",
    "    <td rowspan = \"2\" align=\"left\">. </td>\n",
    "  </tr>\n",
    "  <tr>\n",
    "    <td align=\"center\" valign=\"top\"><em>x</em> &minus; 1</td>\n",
    "  </tr>\n",
    "</table>\n",
    "\n",
    "We can use <em>SageMath</em> to help us find a pattern. For example, <sup>(<em>x</em>&#8308;&minus;1)</sup>&frasl;<sub>(<em>x</em>&minus;1)</sub> is given by<br>"
   ]
  },
  {
   "cell_type": "code",
   "execution_count": 0,
   "id": "183a4a",
   "metadata": {
    "collapsed": false
   },
   "outputs": [
   ],
   "source": [
    "var(\"x\")"
   ]
  },
  {
   "cell_type": "code",
   "execution_count": 0,
   "id": "44f72c",
   "metadata": {
    "collapsed": false
   },
   "outputs": [
   ],
   "source": [
    "Together((x^4 - 1)/(x - 1))"
   ]
  },
  {
   "cell_type": "markdown",
   "id": "346bcf",
   "metadata": {
    "collapsed": false
   },
   "source": [
    "<br>\n",
    "Here is another example:<br>"
   ]
  },
  {
   "cell_type": "code",
   "execution_count": 0,
   "id": "c07808",
   "metadata": {
    "collapsed": false
   },
   "outputs": [
   ],
   "source": [
    "Together((x^5 - 1)/(x - 1))"
   ]
  },
  {
   "cell_type": "markdown",
   "id": "4fb5de",
   "metadata": {
    "collapsed": false
   },
   "source": [
    "<br>\n",
    "A pattern is starting to form.  Can you find it?<br><br>\n",
    "\n",
    "EXPERIMENT:<br>\n",
    "Use <em>SageMath</em> to simplify <sup>(<em>x</em>&#8311; &minus; 1)</sup>&frasl;<sub>(<em>x</em>&minus;1)</sub> and \n",
    "<sup>(<em>x</em>&sup1;&sup2; &minus; 1)</sup>&frasl;<sub>(<em>x</em>&minus;1)</sub>. Is the pattern becoming clear?<br>"
   ]
  },
  {
   "cell_type": "markdown",
   "id": "33c844",
   "metadata": {
    "collapsed": false
   },
   "source": [
    "<br>\n",
    "We can use the pattern of these quotients to prove the following:"
   ]
  },
  {
   "cell_type": "markdown",
   "id": "6dd179",
   "metadata": {
    "collapsed": false
   },
   "source": [
    "<a name=\"lem135ret\" id=\"lem135ret\"></a>\n",
    "LEMMA 13.5<br>\n",
    "\n",
    "If <em>F</em> is any field, then the polynomial <em>x<sup>n</sup></em> &minus; 1 has a multiple root if, and only if, <em>n</em> is a multiple of the characteristic \n",
    "of <em>F</em>.<br><br>\n",
    "\n",
    "<a href=\"#lem135\">Click here for the proof.</a>\n",
    "\n",
    "<p />\n",
    "We are finally ready to show the irreducibility of &Phi;<sub><em>n</em></sub>(<em>x</em>)."
   ]
  },
  {
   "cell_type": "markdown",
   "id": "d8b0bb",
   "metadata": {
    "collapsed": false
   },
   "source": [
    "<a name=\"theor132ret\" id=\"theor132ret\"></a>\n",
    "THEOREM 13.2:  Gauss' Theorem on Cyclotomic Polynomials<br>\n",
    "\n",
    "For all <em>n</em> &gt; 0, &Phi;<sub><em>n</em></sub>(<em>x</em>) is an irreducible polynomial in &#8484;[<em>x</em>].<br><br>\n",
    "\n",
    "<a href=\"#theor132\">Click here for the proof.</a>\n",
    "\n",
    "<p />\n",
    "\n",
    "Lemma 13.5 can also be used to generate irreducible polynomials in <em>Z<sub>p</sub></em>[<em>x</em>] of any degree. In fact, these irreducible polynomials are the \n",
    "key to proving that a field of order <em>p<sup>n</sup></em> exists."
   ]
  },
  {
   "cell_type": "markdown",
   "id": "917b73",
   "metadata": {
    "collapsed": false
   },
   "source": [
    "<a name=\"prop138ret\" id=\"prop138ret\"></a>\n",
    "PROPOSITION 13.8<br>\n",
    "\n",
    "Let <em>p</em> be a prime integer, and let <em>n</em> &gt; 1.  Consider the cyclotomic \n",
    "polynomial &Phi;<sub>(<em>p</em></sub><em>&#8345;</em><sub>&minus;1)</sub>(<em>x</em>) of order <em>&#981;</em>(<em>p<sup>n</sup></em> &minus; 1).  Let us \n",
    "consider <em>g</em>(<em>x</em>) to be this polynomial modulo <em>p</em> in <em>Z<sub>p</sub></em>[<em>x</em>].  Then <em>g</em>(<em>x</em>) factors \n",
    "in <em>Z<sub>p</sub></em>[<em>x</em>] into irreducible polynomials, all of which have degree <em>n</em>.<br><br>\n",
    "\n",
    "<a href=\"#prop138\">Click here for the proof.</a>\n",
    "\n",
    "<p />\n",
    "We can now prove what we had suspected was true from the experiments: that there is precisely one field of order <em>p<sup>n</sup></em>, where <em>n</em> &gt; 0 and \n",
    "<em>p</em> is a prime number."
   ]
  },
  {
   "cell_type": "markdown",
   "id": "6e709f",
   "metadata": {
    "collapsed": false
   },
   "source": [
    "<a name=\"cor136ret\" id=\"cor136ret\"></a>\n",
    "COROLLARY 13.6<br>\n",
    "\n",
    "If <em>p</em> is a prime number, and <em>n</em> is a positive integer, there exists a unique field (up to isomorphism) of \n",
    "order <em>p<sup>n</sup></em>.<br><br>\n",
    "\n",
    "<a href=\"#cor136\">Click here for the proof.</a>\n",
    "\n",
    "<p />\n",
    "DEFINITION 13.5<br>\n",
    "If <em>q</em> = <em>p<sup>n</sup></em>, where <em>p</em> is prime and <em>n</em> &gt; 0, then <em>the Galois field of order q</em>, denoted GF(<em>q</em>), is the unique \n",
    "field given in Corollary 13.6.<br><br>\n",
    "\n",
    "For example, the <em>official</em> name for the &quot;complex numbers modulo 3&quot; we have been working with is GF(9).  Whenever <em>p</em> is prime, we can \n",
    "write GF(<em>p</em>) for the field <em>Z<sub>p</sub></em>.<br><br>\n",
    "\n",
    "When we first defined GF(9), we used the irreducible polynomial <em>x</em><sup>2</sup> + 1 in <em>Z</em><sub>3</sub>[<em>x</em>] to make the definition.  But there are \n",
    "two other second degree irreducible polynomials with a leading coefficient of 1 in <em>Z</em><sub>3</sub>[<em>x</em>], namely, <em>x</em><sup>2</sup> + <em>x</em> + 2 and \n",
    "<em>x</em><sup>2</sup> + 2 <em>x</em> + 2.  We could have used either of these to define GF(9):<br>"
   ]
  },
  {
   "cell_type": "code",
   "execution_count": 0,
   "id": "68c934",
   "metadata": {
    "collapsed": false
   },
   "outputs": [
   ],
   "source": [
    "InitDomain(3)\n",
    "AddFieldVar(\"a\")\n",
    "Define(a^2, - a - 2)\n",
    "K = Field(); K"
   ]
  },
  {
   "cell_type": "code",
   "execution_count": 0,
   "id": "c2b60f",
   "metadata": {
    "collapsed": false
   },
   "outputs": [
   ],
   "source": [
    "MultTable(K)"
   ]
  },
  {
   "cell_type": "code",
   "execution_count": 0,
   "id": "6c655b",
   "metadata": {
    "collapsed": false
   },
   "outputs": [
   ],
   "source": [
    "InitDomain(3)\n",
    "AddFieldVar(\"b\")\n",
    "Define(b^2, - 2*b - 2)\n",
    "F = Field(); F"
   ]
  },
  {
   "cell_type": "code",
   "execution_count": 0,
   "id": "af9ab5",
   "metadata": {
    "collapsed": false
   },
   "outputs": [
   ],
   "source": [
    "MultTable(F)"
   ]
  },
  {
   "cell_type": "markdown",
   "id": "caf6f1",
   "metadata": {
    "collapsed": false
   },
   "source": [
    "<br>\n",
    "We know from Corollary 13.3 that these are both isomorphic to GF(9), but the notations for these are vastly different.  This begs the question as to whether there is \n",
    "an <em>official</em> way to describe the elements of GF(<em>p<sup>n</sup></em>).<br><br>\n",
    "\n",
    "It is clear that we must first pick an irreducible polynomial <em>f</em>(<em>x</em>) of degree <em>n</em> over <em>Z<sub>p</sub></em>[<em>x</em>], and then we \n",
    "let <em>a</em> = <em>x</em> + &lang;<em>f</em>(<em>x</em>)&rang; be a root of this polynomial in \n",
    "<em>Z<sub>p</sub></em>[<em>x</em>]/&lang;<em>f</em>(<em>x</em>)&rang;.  This will allow every element of GF(<em>p<sup>n</sup></em>) to be expressible in \n",
    "terms of <em>a</em>.<br><br>\n",
    "\n",
    "But we also know from Proposition 13.4 that the group GF(<em>p<sup>n</sup></em>)<sup>&ast;</sup> is a cyclic group, and so we can choose the polynomial <em>f</em>(<em>x</em>) \n",
    "so that <em>a</em> will be a generator of this group.<br><br> \n",
    "\n",
    "DEFINITION 13.6<br>\n",
    "The <em>Conway polynomial</em> of degree <em>n</em> over <em>Z<sub>p</sub></em> is the polynomial of degree <em>n</em> in <em>Z<sub>p</sub></em>[<em>x</em>] with the following characteristics:<br><br>\n",
    "\n",
    "1)&emsp;<em>Primitive</em>:<br>\n",
    "&emsp;&emsp;The polynomial <em>f</em>(<em>x</em>) is irreducible, has a leading coefficient of 1, and <em>x</em> + &lang;<em>f</em>(<em>x</em>)&rang; \n",
    "is a multiplicative generator of  the finite field <em>Z<sub>p</sub></em>[<em>x</em>]/&lang;<em>f</em>(<em>x</em>)&rang;.<br>\n",
    "&emsp;&emsp;Such polynomials are called <em>primitive polynomials</em>.<br><br>\n",
    "\n",
    "2)&emsp;<em>Compatibility</em>:<br>\n",
    "&emsp;&emsp;The polynomial is compatible with the way that the subfields of GF(<em>p<sup>n</sup></em>) are defined.  To be compatible, for all divisors <em>d</em> of \n",
    "<em>n</em> less than <em>n</em>, the\n",
    "<table align=\"center\" border=\"0\" cellspacing=\"0\" cellpadding=\"0\">\n",
    "  <tr>\n",
    "    <td align=\"center\" valign=\"bottom\"><font style=\"text-decoration:underline\"><em>p&#8319;</em> &minus; 1</font></td>\n",
    "    <td rowspan = \"2\" align=\"left\">&ensp;th </td>\n",
    "  </tr>\n",
    "  <tr>\n",
    "    <td align=\"center\" valign=\"top\"><em>p<sup>d</sup></em> &minus; 1</td>\n",
    "  </tr>\n",
    "</table>\n",
    "&emsp;&emsp;power of the zeros of the polynomial must be zeros of the Conway polynomial of degree <em>d</em> over <em>Z<sub>p</sub></em>.<br><br>\n",
    "\n",
    "3)&emsp;<em>Tie breaker</em>:<br>\n",
    "&emsp;&emsp;If two or more primitive polynomials satisfy the compatibility condition, let <em>m</em> be the highest power of <em>x</em> for which the coefficients differ.  If \n",
    "<em>n</em> &minus; <em>m</em> is even, pick the one with the smallest coefficient from the set {0, 1, &hellip; <em>p</em> &minus; 1}.  If <em>n</em> &minus; <em>m</em> is odd, \n",
    "pick the largest, unless there is one with a coefficient of 0.<br><br>\n",
    "\n",
    "This definition at first seems counter-intuitive.  Logically, a zero coefficient is always preferred over a nonzero term, but sometimes we pick the polynomial with \n",
    "the largest coefficient, and sometimes use the one with the smallest.<br><br>\n",
    "\n",
    "But to understand why this is so, consider the first degree Conway polynomials.  Since all of the primitive polynomials are of the form <em>x</em> + <em>c</em>, with \n",
    "<em>c</em> &ne; <em>0</em>, they differ only in the constant term.  Hence <em>m</em> = 0, so <em>n</em> &minus; <em>m</em> will be odd, and we should select \n",
    "the primitive polynomial with the largest <em>c</em>.  This in turn will make the root of this polynomial be as <em>small</em> as possible.  So for <em>p</em> prime, the \n",
    "root of the Conway polynomial of degree 1 will represent the smallest generator of the group <em>Z<sub>p</sub></em><sup>&ast;</sup>.  In general, the Conway polynomial \n",
    "is designed so that the roots will be minimized.<br><br>\n",
    "\n",
    "EXAMPLE:<br>\n",
    "Let us use this definition to find the Conway polynomial of degree 2 over <em>Z</em><sub>3</sub>.<br><br>\n",
    "  \n",
    "There are three irreducible polynomials of degree 2 in <em>Z</em><sub>3</sub>[<em>x</em>] with a leading coefficient of 1: <em>x</em><sup>2</sup> + 1, \n",
    "<em>x</em><sup>2</sup> + <em>x</em> + 2, and <em>x</em><sup>2</sup> + 2 <em>x</em> + 2. The \n",
    "roots of <em>x</em><sup>2</sup> + 1 in <em>Z</em><sub>3</sub>[<em>x</em>]/&lang;<em>x</em><sup>2</sup> + 1&rang; have order 4, not 8.  Since the multiplicative group is isomorphic to <em>Z</em><sub>8</sub>, which has 4 generators, we know that there will be 2 primitive polynomials.  So <em>x</em><sup>2</sup> + <em>x</em> + 2 and \n",
    "<em>x</em><sup>2</sup> + 2 <em>x</em> + 2 pass the first test.<br><br> \n",
    "  \n",
    "In order to understand the compatibility condition, we must first find \n",
    "the Conway polynomial of degree 1 over <em>Z</em><sub>3</sub>.  Since there is only one multiplicative generator of <em>Z</em><sub>3</sub>, namely 2, there is only \n",
    "one primitive polynomial of degree 1,\n",
    "<p style='text-align: center;'><em>x</em> &minus; 2 = <em>x</em> + 1.</p>"
   ]
  },
  {
   "cell_type": "code",
   "execution_count": 0,
   "id": "54c273",
   "metadata": {
    "collapsed": false
   },
   "outputs": [
   ],
   "source": [
    "ConwayPolynomial(3, 1)"
   ]
  },
  {
   "cell_type": "markdown",
   "id": "21b00b",
   "metadata": {
    "collapsed": false
   },
   "source": [
    "<br>\n",
    "Now in order for a primitive polynomial of degree 2 to be compatible, the <sup>(3&sup2; &minus; 1)</sup>&frasl;<sub>(3</sub>&#8321;<sub> &minus; 1)</sub>, or 4<sup>th</sup> \n",
    "power of \n",
    "the roots must be a root of <em>x</em> + 1.  Hence, <em>x</em><sup>2</sup> + 1 does not satisfy this compatibility condition since <em>i</em><sup>4</sup> = 1, not 2 \n",
    "in GF(9).  However, both <em>x</em><sup>2</sup> + <em>x</em> + 2 and <em>x</em><sup>2</sup> + 2 <em>x</em> + 2 will satisfy the compatibility condition, since both of \n",
    "the above multiplication tables show that <em>a</em><sup>4</sup> = 2.  (If one root satisfies the compatibility condition, it is clear that the other root will too, since \n",
    "the Frobenius automorphism sends one root to the other.)<br><br>\n",
    "\n",
    "Of the two possible primitive polynomials remaining, we look for the largest power of <em>x</em> for which these differ, <em>x</em><sup>1</sup>, and \n",
    "since <em>n</em> &minus; <em>m</em> = 1 is odd, and neither <em>x</em><sup>1</sup> coefficient is 0, we pick the larger of the two possible coefficients.  So the \n",
    "Conway polynomial is <em>x</em><sup>2</sup> + 2 x + 2.  We can use <em>SageMath</em> to verify this.<br>"
   ]
  },
  {
   "cell_type": "code",
   "execution_count": 0,
   "id": "146a17",
   "metadata": {
    "collapsed": false
   },
   "outputs": [
   ],
   "source": [
    "ConwayPolynomial(3, 2)"
   ]
  },
  {
   "cell_type": "markdown",
   "id": "ae1ea0",
   "metadata": {
    "collapsed": false
   },
   "source": [
    "<br>\n",
    "Hence, the <em>official</em> notation for GF(9) is<br>"
   ]
  },
  {
   "cell_type": "code",
   "execution_count": 0,
   "id": "bd1004",
   "metadata": {
    "collapsed": false
   },
   "outputs": [
   ],
   "source": [
    "InitDomain(3)\n",
    "AddFieldVar(\"a\")\n",
    "Define(a^2 + 2*a + 2, 0)\n",
    "F = Field(); F"
   ]
  },
  {
   "cell_type": "code",
   "execution_count": 0,
   "id": "b9bae1",
   "metadata": {
    "collapsed": false
   },
   "outputs": [
   ],
   "source": [
    "a^2"
   ]
  },
  {
   "cell_type": "markdown",
   "id": "84190a",
   "metadata": {
    "collapsed": false
   },
   "source": [
    "<br>\n",
    "Note:  <em>SageMath</em> has a shortcut method for the above definition:<br>"
   ]
  },
  {
   "cell_type": "code",
   "execution_count": 0,
   "id": "d3b2f8",
   "metadata": {
    "collapsed": false
   },
   "outputs": [
   ],
   "source": [
    "F.<a> = GF(9)"
   ]
  },
  {
   "cell_type": "code",
   "execution_count": 0,
   "id": "ee2b2d",
   "metadata": {
    "collapsed": false
   },
   "outputs": [
   ],
   "source": [
    "a^2"
   ]
  },
  {
   "cell_type": "markdown",
   "id": "27b563",
   "metadata": {
    "collapsed": false
   },
   "source": [
    "</a> <!-- This is to undo what html thinks is a <a> in the above command -->\n",
    "<br>\n",
    "\n",
    "EXAMPLE:<br>\n",
    "Let us find the Conway polynomial of degree 4 over <em>Z</em><sub>3</sub>.<br><br>\n",
    "\n",
    "We can find all of the primitive polynomials of degree <em>n</em> = 4 by factoring &Phi;<sub>(<em>p</em></sub>&#8345;<sub>&minus;1)</sub>(<em>x</em>) in <em>Z</em><sub>3</sub>[<em>x</em>]. (See Problem 15.)<br>"
   ]
  },
  {
   "cell_type": "code",
   "execution_count": 0,
   "id": "739e4b",
   "metadata": {
    "collapsed": false
   },
   "outputs": [
   ],
   "source": [
    "G = Cyclotomic(80,\"x\"); G"
   ]
  },
  {
   "cell_type": "code",
   "execution_count": 0,
   "id": "9c6371",
   "metadata": {
    "collapsed": false
   },
   "outputs": [
   ],
   "source": [
    "InitDomain(3, \"x\")\n",
    "factor(x^32 - x^24 + x^16 - x^8 + 1)"
   ]
  },
  {
   "cell_type": "markdown",
   "id": "ac319e",
   "metadata": {
    "collapsed": false
   },
   "source": [
    "<br>\n",
    "So we have 8 primitive polynomials of degree 4 over <em>Z</em><sub>3</sub>, each having <em>n</em> = 4 roots which are generators of GF(81).  But we need the compatibility condition to \n",
    "be satisfied.  That is, for a root <em>r</em> in one of these polynomials, we need \n",
    "the <sup>(3&#8308; &minus; 1)</sup>&frasl;<sub>(3</sub>&#8321;<sub> &minus; 1)</sub> = 40<sup>th</sup> power of <em>r</em> to satisfy <em>x</em> + 1 = 0, while \n",
    "the <sup>(3&#8308; &minus; 1)</sup>&frasl;<sub>(3</sub>&#8322;<sub> &minus; 1)</sub> = 10<sup>th</sup> power of <em>r</em> must satisfy <em>x</em><sup>2</sup> + 2 <em>x</em> + 2 = 0.  In \n",
    "other words, <em>r</em> will satisfy <em>r</em><sup>40</sup> + 1 = 0, and <em>r</em><sup>20</sup> + 2 <em>r</em><sup>10</sup> + 2 = 0.<br>"
   ]
  },
  {
   "cell_type": "code",
   "execution_count": 0,
   "id": "cb3e91",
   "metadata": {
    "collapsed": false
   },
   "outputs": [
   ],
   "source": [
    "factor(x^40 + 1)"
   ]
  },
  {
   "cell_type": "code",
   "execution_count": 0,
   "id": "23ffcb",
   "metadata": {
    "collapsed": false
   },
   "outputs": [
   ],
   "source": [
    "factor(x^20 + 2*x^10 + 2)"
   ]
  },
  {
   "cell_type": "markdown",
   "id": "d5f6f6",
   "metadata": {
    "collapsed": false
   },
   "source": [
    "<br>\n",
    "Four polynomials are in common with all three factorizations, so these four pass the compatibility test:\n",
    "<p style='text-align: center;'><em>x</em><sup>4</sup> + <em>x</em><sup>3</sup> + 2,&emsp;<em>x</em><sup>4</sup> + \n",
    "<em>x</em><sup>3</sup> + 2 <em>x</em><sup>2</sup> + 2 <em>x</em> + 2,&emsp;<em>x</em><sup>4</sup> + 2 <em>x</em><sup>3</sup> + 2,&ensp;and&ensp;<em>x</em><sup>4</sup> + \n",
    "2 <em>x</em><sup>3</sup> + 2 <em>x</em><sup>2</sup> + <em>x</em> + 2.</p>\n",
    "Since they differ in the <em>x</em><sup>3</sup> power, and none of them are missing the <em>x</em><sup>3</sup> term, we pick one with the largest coefficient.  (Again, \n",
    "<em>n</em> &minus; <em>m</em> = 4 &minus; 3 is odd.)  Of the 2, we pick the one with the smallest <em>x</em><sup>2</sup> coefficient (<em>n</em> &minus; <em>m</em> = \n",
    "4 &minus; 2 is even), giving us <em>x</em><sup>4</sup> + 2 <em>x</em><sup>3</sup> + 2.  We can verify this with \n",
    "the <strong>ConwayPolynomial</strong> command:<br>"
   ]
  },
  {
   "cell_type": "code",
   "execution_count": 0,
   "id": "2f9e87",
   "metadata": {
    "collapsed": false
   },
   "outputs": [
   ],
   "source": [
    "ConwayPolynomial(3, 4)"
   ]
  },
  {
   "cell_type": "markdown",
   "id": "ac3b5e",
   "metadata": {
    "collapsed": false
   },
   "source": [
    "<br>\n",
    "This means we can have the <em>official</em> definition of GF(81) as<br>"
   ]
  },
  {
   "cell_type": "code",
   "execution_count": 0,
   "id": "57d604",
   "metadata": {
    "collapsed": false
   },
   "outputs": [
   ],
   "source": [
    "InitDomain(3)\n",
    "AddFieldVar(\"a\")\n",
    "Define(a^4 + 2*a^3 + 2, 0)\n",
    "F = Field(); F"
   ]
  },
  {
   "cell_type": "code",
   "execution_count": 0,
   "id": "da2a28",
   "metadata": {
    "collapsed": false
   },
   "outputs": [
   ],
   "source": [
    "len(_)"
   ]
  },
  {
   "cell_type": "markdown",
   "id": "9e6edf",
   "metadata": {
    "collapsed": false
   },
   "source": [
    "<br>\n",
    "The Galois fields have many applications.  A code very similar to the RSA code studied in chapter 3 was developed using Galois fields of \n",
    "characteristic 2.  For a long time the field of order 2<sup>127</sup> was used, since the multiplicative group is of order 2<sup>127</sup> &minus; 1, which happens to \n",
    "be prime.  (Primes of this form are called Mersenne primes.)  This code had the advantage that the key was much shorter than the RSA key, and multiplication in this \n",
    "field could be quickly implemented in binary hardware.  However, due to the special properties of finite fields, this code was recently cracked.  In order to ensure \n",
    "safety of the encryption, the size of the field had to be upped to order 2<sup>2203</sup>, which diminished the advantage over the RSA code.<br><br>\n",
    "\n",
    "But there is another type of code based on Galois fields, called the Reed-Solomon code, which is not used for security but rather for the storage or transfer of digital \n",
    "data.  All digital information, such as the storage of a file in a computer or a song on a compact disk, is stored as a string of &quot;bits&quot; that are \n",
    "either 0 or 1.  We will let <em>K</em> denote a finite field of characteristic 2.  For example, if <em>K</em> = GF(256), then each element of <em>K</em> would correspond to a \n",
    "computer &quot;byte.&quot;  (Each byte is eight bits.)  A string \n",
    "of <em>n</em> bytes (<em>a</em><sub>0</sub>, <em>a</em><sub>1</sub>, <em>a</em><sub>2</sub>, <em>a</em><sub>3</sub>, &hellip; <em>a</em><sub><em>n</em>&minus;1</sub>) is \n",
    "encoded as a polynomial in <em>K</em>:\n",
    "<p style='text-align: center;'><em>f</em>(<em>x</em>) = <em>a</em><sub>0</sub> + <em>a</em><sub>1</sub> <em>x</em> + <em>a</em><sub>2</sub> <em>x</em><sup>2</sup> + \n",
    "<em>a</em><sub>3</sub> <em>x</em><sup>3</sup> + &#8943; + <em>a</em><sub><em>n</em>&minus;1</sub> <em>x</em><sup><em>n</em>&minus;1</sup>.</p>\n",
    "The encryption of this list of elements is simply the evaluation of this polynomial at the 256 elements of <em>K</em>.  That is, if <em>g</em> is a generator of \n",
    "the multiplicative group <em>K</em><sup>&ast;</sup>, then\n",
    "<p style='text-align: center;'><em>f</em>(0), <em>f</em>(<em>g</em>), <em>f</em>(<em>g</em><sup>2</sup>), <em>f</em>(<em>g</em><sup>3</sup>), &hellip; \n",
    "<em>f</em>(<em>g</em><sup>255</sup>)</p>\n",
    "is transmitted in place of the numbers <em>a</em><sub>0</sub>, <em>a</em><sub>1</sub>, <em>a</em><sub>2</sub>, <em>a</em><sub>3</sub>, &hellip; \n",
    "<em>a</em><sub><em>n</em>&minus;1</sub>.  We know from Corollary 12.3 that we can derive the original list of elements from any <em>n</em> of the numbers \n",
    "transmitted.  Thus, if there are some errors in the transmission, the original list can still be reconstructed.  Using combinatorial reasoning, Reed and Solomon showed \n",
    "that as many as (255 &minus; <em>n</em>)/2 errors could occur, and yet the original list of elements can be decoded.<br><br>\n",
    "\n",
    "For example, if <em>n</em> = 251, then every 251 bytes is converted to a 250 degree polynomial, which is evaluated at the 256 elements of <em>K</em>.  Even if two of \n",
    "these bytes are transmitted incorrectly, the 251 original bytes can be correctly reconstructed.  This is an example of what is called \n",
    "an <em>error-correcting code</em>.  This code was used by the <em>Voyager II</em> spacecraft to transmit pictures of Uranus and Neptune back to Earth.  A version of \n",
    "this code (using a larger field <em>K</em>) is used to store the digital music on a compact disk.  Current CD players can cope with errors as long as 4000 consecutive \n",
    "bits on the CD, typically caused by a scratch on the CD surface.  The Reed-Solomon code will also allow over 500 channels of digital television in the \n",
    "near future.<br><br>\n",
    "\n",
    "The ironic part of this code is that, when Reed and Solomon first discovered the code in 1960, it was described as &quot;interesting, but probably not practical.&quot;  It \n",
    "wasn't until hardware technology advanced to the point that the code could be implemented before the real value of this code was evident.  As with most mathematics, the \n",
    "usefulness of a particular result is not seen until long after the result is published.<br><br>\n",
    "\n",
    "One final application of finite fields arises from the study of simple groups.  Almost all of the simple groups besides the alternating groups are defined in terms of \n",
    "finite fields.  For example, the simple group Aut(<em>Z</em><sub>24</sub><sup>&ast;</sup>) can be expressed as the 3 by 3 matrices in the field <em>Z</em><sub>2</sub> with \n",
    "determinant 1.  This example can be generalized to a group <em>G</em> of <em>m</em> by <em>m</em> matrices over any finite field of \n",
    "order <em>p<sup>n</sup></em>.  When <em>p<sup>n</sup></em> &gt; 2, there may be a nontrivial center <em>Z</em> formed by diagonal matrices.  However, we can form the \n",
    "quotient group <em>G</em>/<em>Z</em>.  The group generated will be simple if <em>m</em> &gt; <em>2</em>, or if <em>m</em> = 2 and <em>p<sup>n</sup></em> &gt; 3.<br><br>\n",
    "\n",
    "There are several other ways of forming simple groups using finite fields.  In fact, besides the alternating groups, there are only 26 finite simple groups that are \n",
    "not expressed using finite fields.  Thus, finite fields are of key importance in the classification of all finite simple groups.<br><br>"
   ]
  },
  {
   "cell_type": "markdown",
   "id": "f94e16",
   "metadata": {
    "collapsed": false
   },
   "source": [
    "<br><br><br><br><br><br><br><br><br><br><br><br><br><br><br><br><br><br><br><br><br><br><br><br><br><br><br><br><br><br><br><br><br><br><br><br><br><br><br><br><br><br>"
   ]
  },
  {
   "cell_type": "markdown",
   "id": "1771b2",
   "metadata": {
    "collapsed": false
   },
   "source": [
    "<h1>Proofs:</h1>"
   ]
  },
  {
   "cell_type": "markdown",
   "id": "a99446",
   "metadata": {
    "collapsed": false
   },
   "source": [
    "<a name=\"prop131\" id=\"prop131\"></a>\n",
    "Proof of Proposition 13.1:<br><br> \n",
    "\n",
    "Since <em>K</em> is a field, by Corollary 12.7 <em>K</em>[<em>x</em>] is a principal ideal domain.  Since <em>f</em>(<em>x</em>) is an irreducible element \n",
    "of <em>K</em>[<em>x</em>], we have by Lemma 12.6 that the quotient <em>H</em> = <em>K</em>[<em>x</em>]/&lang;<em>f</em>(<em>x</em>)&rang; is a field.<br><br>\n",
    "\n",
    "Finally, we need to show that the field <em>H</em> contains <em>K</em> as a subfield.  Consider the mapping\n",
    "<p style='text-align: center;'><em>&#981;</em> : <em>K</em> &rarr; <em>H</em></p>\n",
    "given by\n",
    "<p style='text-align: center;'><em>&#981;</em>(<em>y</em>) = <em>y</em> + &lang;<em>f</em>(<em>x</em>)&rang;.</p>\n",
    "This is certainly a homomorphism, since it is a restriction of the natural homomorphism from <em>K</em>[<em>x</em>] to \n",
    "<em>K</em>[<em>x</em>]/&lang;<em>f</em>(<em>x</em>)&rang;.  The kernel of <em>&#981;</em> is just {0}, so the image is isomorphic to <em>K</em>.  Thus, \n",
    "<em>K</em>[<em>x</em>]/&lang;<em>f</em>(<em>x</em>)&rang; contains <em>K</em> as a subfield.<br><br>\n",
    "\n",
    "<a href=\"#prop131ret\">Return to text</a>"
   ]
  },
  {
   "cell_type": "markdown",
   "id": "625c2b",
   "metadata": {
    "collapsed": false
   },
   "source": [
    "<br><br><br><br><br><br><br><br><br><br><br><br><br><br><br><br><br><br><br><br><br><br><br><br><br><br><br><br><br><br><br><br><br><br><br><br><br><br><br><br><br><br>"
   ]
  },
  {
   "cell_type": "markdown",
   "id": "739816",
   "metadata": {
    "collapsed": false
   },
   "source": [
    "<a name=\"prop132\" id=\"prop132\"></a>\n",
    "Proof of Proposition 13.2:<br><br> \n",
    "\n",
    "By the division algorithm theorem (12.1), every element <em>f</em>(<em>x</em>) of <em>Z<sub>p</sub></em>[<em>x</em>] can be written\n",
    "<p style='text-align: center;'><em>f</em>(<em>x</em>) = <em>q</em>(<em>x</em>)&middot;<em>A</em>(<em>x</em>) + <em>r</em>(<em>x</em>),</p>\n",
    "where either <em>r</em>(<em>x</em>) is 0, or the degree of <em>r</em>(<em>x</em>) is less than <em>d</em>.  Thus, the typical element of <em>K</em>,\n",
    "<p style='text-align: center;'><em>f</em>(<em>x</em>) + &lang;<em>A</em>(<em>x</em>)&rang;,</p>\n",
    "could be written as <em>r</em>(<em>x</em>) + &lang;<em>A</em>(<em>x</em>)&rang;.  Furthermore, the <em>r</em>(<em>x</em>) is uniquely determined from the division algorithm.  \n",
    "Thus, there are as many elements in <em>K</em> as there are polynomials in <em>Z<sub>p</sub></em>[<em>x</em>] with degree less than <em>d</em>, counting the \n",
    "zero polynomial.  All such polynomials can be written\n",
    "<p style='text-align: center;'><em>a</em><sub>0</sub> + <em>a</em><sub>1</sub> <em>x</em> + <em>a</em><sub>2</sub> <em>x</em><sup>2</sup> + \n",
    "<em>a</em><sub>3</sub> <em>x</em><sup>3</sup> + &#8943; + <em>a</em><sub><em>d</em>&minus;1</sub> <em>x</em><sup><em>d</em>&minus;1</sup></p>\n",
    "with each <em>a<sub>i</sub></em> between 0 and <em>p</em> &minus; 1, inclusively.  Since there are <em>d</em> coefficients, each of which can be <em>p</em> different \n",
    "numbers, there are exactly <em>p<sup>d</sup></em> possible polynomials of degree less than <em>d</em>.  Thus, |<em>K</em>| = <em>p<sup>d</sup></em>.<br><br>\n",
    "\n",
    "<a href=\"#prop132ret\">Return to text</a>"
   ]
  },
  {
   "cell_type": "markdown",
   "id": "02b0fd",
   "metadata": {
    "collapsed": false
   },
   "source": [
    "<br><br><br><br><br><br><br><br><br><br><br><br><br><br><br><br><br><br><br><br><br><br><br><br><br><br><br><br><br><br><br><br><br><br><br><br><br><br><br><br><br><br>"
   ]
  },
  {
   "cell_type": "markdown",
   "id": "94ca5b",
   "metadata": {
    "collapsed": false
   },
   "source": [
    "<a name=\"prop133\" id=\"prop133\"></a>\n",
    "Proof of Proposition 13.3:<br><br>\n",
    "\n",
    "Let <em>q</em> be the order of <em>K</em>.  From the additive structure of the ring, we see that <em>q</em>&middot;<em>x</em> = 0 for all <em>x</em> in <em>K</em>.  Thus, \n",
    "the characteristic is positive, and by Proposition 11.2, the characteristic is a prime number, <em>p</em>.<br><br>\n",
    "\n",
    "Suppose that <em>q</em> has a prime factor <em>r</em> other than <em>p</em>.  Then the additive group of <em>K</em> must have a subgroup of order <em>r</em>, according \n",
    "to Lemma 7.2.  Hence <em>r</em>&middot;<em>x</em> = 0 for some element <em>x</em> in <em>K</em>.  But this contradicts Proposition 11.2, since <em>r</em> is not divisible \n",
    "by <em>p</em>.  Therefore, <em>q</em> has no prime factors other than <em>p</em>, so <em>q</em> = <em>p<sup>n</sup></em> for some integer <em>n</em>.<br><br>\n",
    "\n",
    "<a href=\"#prop133ret\">Return to text</a>"
   ]
  },
  {
   "cell_type": "markdown",
   "id": "75acdd",
   "metadata": {
    "collapsed": false
   },
   "source": [
    "<br><br><br><br><br><br><br><br><br><br><br><br><br><br><br><br><br><br><br><br><br><br><br><br><br><br><br><br><br><br><br><br><br><br><br><br><br><br><br><br><br><br>"
   ]
  },
  {
   "cell_type": "markdown",
   "id": "f574a5",
   "metadata": {
    "collapsed": false
   },
   "source": [
    "<a name=\"prop134\" id=\"prop134\"></a>\n",
    "Proof of Proposition 13.4:<br><br>\n",
    "\n",
    "Since <em>F</em><sup>&ast;</sup> is abelian, by the fundamental theorem of abelian groups (6.2),\n",
    "<p style='text-align: center;'><em>F</em><sup>&ast;</sup> &asymp; <em>Z</em><sub><em>d</em>&#8321;</sub> &times; <em>Z</em><sub><em>d</em>&#8322;</sub> &times; \n",
    "<em>Z</em><sub><em>d</em>&#8323;</sub> &times; &#8943; &times; <em>Z</em><sub><em>d</em>&#8345;</sub>,</p>\n",
    "where the <em>d<sub>i</sub></em> are all powers of prime numbers.  Let <em>d</em> be the least common multiple of the set {<em>d</em><sub>1</sub>, \n",
    "<em>d</em><sub>2</sub>, <em>d</em><sub>3</sub>, &hellip; <em>d<sub>n</sub></em>}.  Then for all <em>x</em> in <em>F</em><sup>&ast;</sup>, we have \n",
    "that <em>x<sup>d</sup></em> = 1.  Thus, the polynomial <nobr><em>x<sup>d</sup></em> &minus; 1</nobr> has |<em>F</em><sup>&ast;</sup>| solutions.  By Corollary 12.2, <em>d</em> must be \n",
    "at least |<em>F</em><sup>&ast;</sup>|.  But we also have\n",
    "<p style='text-align: center;'>|<em>F</em><sup>&ast;</sup>| = <em>d</em><sub>1</sub>&middot;<em>d</em><sub>2</sub>&middot;<em>d</em><sub>3</sub> &#8943; \n",
    "<em>d<sub>n</sub></em>.</p>\n",
    "so <em>d</em> is at most |<em>F</em><sup>&ast;</sup>|.  Thus, <em>d</em> = |<em>F</em><sup>&ast;</sup>|, and so <em>d</em><sub>1</sub>, \n",
    "<em>d</em><sub>2</sub>, <em>d</em><sub>3</sub>, &hellip; <em>d<sub>n</sub></em> are coprime.  Therefore, the group <em>F</em><sup>&ast;</sup> is cyclic.<br><br>\n",
    "\n",
    "<a href=\"#prop134ret\">Return to text</a>"
   ]
  },
  {
   "cell_type": "markdown",
   "id": "3521df",
   "metadata": {
    "collapsed": false
   },
   "source": [
    "<br><br><br><br><br><br><br><br><br><br><br><br><br><br><br><br><br><br><br><br><br><br><br><br><br><br><br><br><br><br><br><br><br><br><br><br><br><br><br><br><br><br>"
   ]
  },
  {
   "cell_type": "markdown",
   "id": "8ce14b",
   "metadata": {
    "collapsed": false
   },
   "source": [
    "<a name=\"lem131\" id=\"lem131\"></a>\n",
    "Proof of Lemma 13.1:<br><br>\n",
    "\n",
    "Since <em>Z<sub>p</sub></em><sup>&ast;</sup> is of order <em>p</em> &minus; 1, we have by Corollary 3.2 that\n",
    "<p style='text-align: center;'><em>n</em>&thinsp;<sup><em>p</em>&minus;1</sup> = 1</p>\n",
    "for all elements <em>n</em> in <em>Z<sub>p</sub></em><sup>&ast;</sup>. (This result is commonly called Fermat's little theorem.)  If we multiply both sides by <em>n</em>,\n",
    "<p style='text-align: center;'><em>n&thinsp;<sup>p</sup></em> = <em>n</em>,</p>\n",
    "we have a statement that is true for <em>n</em> = 0 as well. Thus, <em>n&thinsp;<sup>p</sup></em> = <em>n</em> for all <em>n</em> in the ring <em>Z<sub>p</sub></em>.  This \n",
    "statement, when converted into modular notation, becomes\n",
    "<p style='text-align: center;'><em>n&thinsp;<sup>p</sup></em> &equiv; <em>n</em> (mod <em>p</em>)&emsp;for all integers <em>n</em>.</p>\n",
    "\n",
    "<a href=\"#lem131ret\">Return to text</a>"
   ]
  },
  {
   "cell_type": "markdown",
   "id": "c98f14",
   "metadata": {
    "collapsed": false
   },
   "source": [
    "<br><br><br><br><br><br><br><br><br><br><br><br><br><br><br><br><br><br><br><br><br><br><br><br><br><br><br><br><br><br><br><br><br><br><br><br><br><br><br><br><br><br>"
   ]
  },
  {
   "cell_type": "markdown",
   "id": "40cae2",
   "metadata": {
    "collapsed": false
   },
   "source": [
    "<a name=\"lem132\" id=\"lem132\"></a>\n",
    "Proof of Lemma 13.2:<br><br>\n",
    "\n",
    "If <em>g</em> = 0, <em>f</em>(<em>x</em>) = <em>x<sup>p</sup></em> &minus; <em>x<sup>p</sup></em> = 0, so the result is trivial.  Let us suppose that <em>g</em> is \n",
    "nonzero.<br><br>\n",
    "\n",
    "Note that the leading term of (<em>x</em> + <em>g</em>)<sup><em>p</em></sup> is <em>x<sup>p</sup></em>, which will cancel \n",
    "in <em>f</em>(<em>x</em>).  Thus, <em>f</em>(<em>x</em>) has degree at most <em>p</em> &minus; 1.  We will show that for every <em>n</em>, <em>n</em>&middot;<em>g</em> is a \n",
    "root.  Observe that\n",
    "<p style='text-align: center;'><em>f</em>(<em>n</em>&middot;<em>g</em>) = (<em>n</em>&middot;<em>g</em> + <em>g</em>)<sup><em>p</em></sup> &minus; \n",
    "(<em>n</em>&middot;<em>g</em>)<sup><em>p</em></sup> &minus; <em>g&thinsp;<sup>p</sup></em> = \n",
    "((<em>n</em> + 1)<sup><em>p</em></sup> &minus; <em>n&thinsp;<sup>p</sup></em> &minus; 1)&middot;<em>g&thinsp;<sup>p</sup></em>.</p>\n",
    "By Lemma 13.1,\n",
    "<p style='text-align: center;'>(<em>n</em> + 1)<sup><em>p</em></sup> &equiv; (<em>n</em> + 1)&ensp;(mod <em>p</em>)&emsp;and&emsp;<em>n&thinsp;<sup>p</sup></em> &equiv; \n",
    "<em>n</em>&ensp;(mod <em>p</em>).</p>\n",
    "Thus,\n",
    "<p style='text-align: center;'>(<em>n</em> + 1)<sup><em>p</em></sup> &minus; <em>n&thinsp;<sup>p</sup></em> &minus; 1 &equiv; (<em>n</em> + 1) &minus; <em>n</em> &minus; 1 \n",
    "&equiv; 0&emsp;(mod <em>p</em>).</p>\n",
    "So because <em>F</em> has characteristic <em>p</em>, we have <em>f</em>(<em>n</em>&middot;<em>g</em>) = 0.<br><br>\n",
    "\n",
    "Since <em>g</em> is nonzero, the values\n",
    "<p style='text-align: center;'>{0, <em>g</em>, 2<em>g</em>, 3<em>g</em>, &hellip; , (<em>p</em> &minus; 1)<em>g</em>}</p>\n",
    "are all distinct in <em>F</em>.  Thus, <em>f</em>(<em>x</em>) has <em>p</em> distinct roots.  But Corollary 12.2 shows us that if <em>f</em>(<em>x</em>) were nonzero, \n",
    "there would be at most <em>p</em> &minus; 1 roots. Thus, <em>f</em>(<em>x</em>) must be the zero polynomial.<br><br>\n",
    "\n",
    "<a href=\"#lem132ret\">Return to text</a>"
   ]
  },
  {
   "cell_type": "markdown",
   "id": "60b501",
   "metadata": {
    "collapsed": false
   },
   "source": [
    "<br><br><br><br><br><br><br><br><br><br><br><br><br><br><br><br><br><br><br><br><br><br><br><br><br><br><br><br><br><br><br><br><br><br><br><br><br><br><br><br><br><br>"
   ]
  },
  {
   "cell_type": "markdown",
   "id": "c2ef57",
   "metadata": {
    "collapsed": false
   },
   "source": [
    "<a name=\"theor131\" id=\"theor131\"></a>\n",
    "Proof of Theorem 13.1:<br><br>\n",
    "\n",
    "We first need to show that <em>&fnof;</em> is a homomorphism.  If <em>F</em> is a field of characteristic <em>p</em>, then by Lemma 13.2 we have that\n",
    "<p style='text-align: center;'>(<em>x</em> + <em>g</em>)<sup><em>p</em></sup> &minus; <em>x<sup>p</sup></em> &minus; <em>g<sup>p</sup></em> = 0.</p>\n",
    "for all <em>g</em> in <em>F</em>.  Thus, we have the identity\n",
    "<p style='text-align: center;'><em>&fnof;</em>(<em>x</em> + <em>y</em>) = (<em>x</em> + <em>y</em>)<sup><em>p</em></sup> = \n",
    "<em>x<sup>p</sup></em> + <em>y<sup>p</sup></em> = <em>&fnof;</em>(<em>x</em>) + <em>&fnof;</em>(<em>y</em>).</p>\n",
    "It is also obvious that\n",
    "<p style='text-align: center;'><em>&fnof;</em>(<em>x</em>&middot;<em>y</em>) = (<em>x</em>&middot;<em>y</em>)<sup><em>p</em></sup> = \n",
    "<em>x<sup>p</sup></em>&middot;<em>y<sup>p</sup></em> = <em>&fnof;</em>(<em>x</em>)&middot;<em>&fnof;</em>(<em>y</em>).</p>\n",
    "So <em>&fnof;</em> is a homomorphism.  The kernel of <em>&fnof;</em> is obviously just 0, since <em>x<sup>p</sup></em> = 0 implies that <em>x</em> = 0, \n",
    "since <em>F</em> has no zero divisors.  Therefore, the mapping is one-to-one.  Since <em>F</em> is a finite field, we can use the pigeonhole principle to show that \n",
    "the mapping is also onto.  Therefore, <em>&fnof;</em> is an automorphism.<br><br>\n",
    "\n",
    "Finally, we need to show that <em>&fnof;</em>(<em>y</em>) = <em>y</em> if, and only if, <em>y</em> is in the subfield <em>Z<sub>p</sub></em>.  Note that this subfield \n",
    "is generated by the multiplicative identity, 1:\n",
    "<p style='text-align: center;'><em>Z<sub>p</sub></em> = {0, 1, 2, 3, &hellip; <em>p</em> &minus; 1}.</p>\n",
    "By Lemma 13.1, for any element in this subfield, <em>&fnof;</em>(<em>x</em>) = <em>x<sup>p</sup></em> = <em>x</em>.  On the other hand, by Corollary 12.2, the \n",
    "polynomial <em>x<sup>p</sup></em> &minus; <em>x</em> in <em>F</em>[<em>x</em>] cannot have more than <em>p</em> roots in <em>F</em>.  We have already \n",
    "found <em>p</em> solutions, so there cannot be anymore.  Therefore, <em>&fnof;</em>(<em>y</em>) = <em>y</em> if, and only if, <em>y</em> is in <em>Z<sub>p</sub></em>.<br><br>\n",
    "\n",
    "<a href=\"#theor131ret\">Return to text</a>"
   ]
  },
  {
   "cell_type": "markdown",
   "id": "e404a6",
   "metadata": {
    "collapsed": false
   },
   "source": [
    "<br><br><br><br><br><br><br><br><br><br><br><br><br><br><br><br><br><br><br><br><br><br><br><br><br><br><br><br><br><br><br><br><br><br><br><br><br><br><br><br><br><br>"
   ]
  },
  {
   "cell_type": "markdown",
   "id": "145239",
   "metadata": {
    "collapsed": false
   },
   "source": [
    "<a name=\"cor131\" id=\"cor131\"></a>\n",
    "Proof of Corollary 13.1:<br><br>\n",
    "\n",
    "Note that the multiplicative group <em>F</em><sup>&ast;</sup> has order <em>p<sup>n</sup></em> &minus; 1.  Thus, by Corollary 3.2, for every element <em>x</em> \n",
    "in <em>F</em><sup>&ast;</sup> we have\n",
    "<p style='text-align: center;'><em>x</em><sup>(<em>p&#8319;</em>&minus;1)</sup> = 1.</p>\n",
    "Multiplying both sides by <em>x</em> gives us <em>x<sup>p&#8319;</sup></em> = <em>x</em> for all <em>x</em> in <em>F</em><sup>&ast;</sup>, and also <em>x</em> = 0.  Thus, \n",
    "this statement is true for all <em>x</em> in <em>F</em>.<br><br>\n",
    "\n",
    "We now note that\n",
    "$$f^n(x) = \\underbrace{f(f(f(\\cdots(f(x))\\cdots)))}_{n \\rm\\;times} = x^{p^n} = x$$\n",
    "for all <em>x</em> in <em>F</em>, so <em>&fnof;&thinsp;<sup>n</sup></em>(<em>x</em>) yields the identity automorphism.<br><br>\n",
    "\n",
    "To show that the order of <em>&fnof;</em>(<em>x</em>) is not less than <em>n</em>, suppose that the order \n",
    "was <em>i</em> &lt; <em>n</em>.  Then <em>&fnof;&thinsp;<sup>i</sup></em>(<em>x</em>) = <em>x<sup>p&#8305;</sup></em> would be <em>x</em> for all <em>x</em>.  But then the \n",
    "polynomial\n",
    "<p style='text-align: center;'><em>x<sup>p&#8305;</sup></em> &minus; <em>x</em></p>\n",
    "would have <em>p<sup>n</sup></em> solutions.  This contradicts Corollary 12.2, since <em>n</em> &gt; <em>i</em>.  Therefore, the order of the Frobenius automorphism \n",
    "is <em>n</em>.<br><br>\n",
    "\n",
    "<a href=\"#cor131ret\">Return to text</a>"
   ]
  },
  {
   "cell_type": "markdown",
   "id": "c92a91",
   "metadata": {
    "collapsed": false
   },
   "source": [
    "<br><br><br><br><br><br><br><br><br><br><br><br><br><br><br><br><br><br><br><br><br><br><br><br><br><br><br><br><br><br><br><br><br><br><br><br><br><br><br><br><br><br>"
   ]
  },
  {
   "cell_type": "markdown",
   "id": "2c9553",
   "metadata": {
    "collapsed": false
   },
   "source": [
    "<a name=\"lem133\" id=\"lem133\"></a>\n",
    "Proof of Lemma 13.3:<br><br>\n",
    "\n",
    "Suppose <em>&fnof;</em> is an isomorphism mapping <em>K</em> to <em>M</em>.  If <em>w</em>(<em>x</em>) is in <em>K</em>[<em>x</em>], with \n",
    "coefficients <em>a<sub>i</sub></em>, we can define <em>&fnof;</em>(<em>w</em>(<em>x</em>)) by\n",
    "<br><br>\n",
    "<table align=\"center\"  border=\"0\" cellspacing=\"0\" cellpadding=\"0\">\n",
    "  <tr>\n",
    "    <td ></td>\n",
    "    <td align=\"center\">&#9115;</td>\n",
    "    <td align=\"center\" valign=\"bottom\">&ensp;&ensp;&infin;&ensp;&ensp;</td>\n",
    "    <td></td>\n",
    "    <td align=\"center\">&#9118;</td>\n",
    "    <td></td>\n",
    "    <td align=\"center\" valign=\"bottom\">&ensp;&ensp;&infin;&ensp;&ensp;</td>\n",
    "    <td></td>\n",
    "  </tr>\n",
    "  <tr>\n",
    "    <td></td>\n",
    "    <td align=\"center\">&#9116;</td>\n",
    "    <td rowspan = \"3\" align=\"center\"><font face=\"Times New Roman, Times, serif\" size=\"+4\">&sum;</font></td>\n",
    "    <td></td>\n",
    "    <td align=\"center\">&#9119;</td>\n",
    "    <td></td>\n",
    "    <td rowspan = \"3\" align=\"center\"><font face=\"Times New Roman, Times, serif\" size=\"+4\">&sum;</font></td>\n",
    "    <td></td>\n",
    "  </tr>\n",
    "  <tr>\n",
    "    <td align=\"right\"><em>&fnof;</em>(<em>w</em>(<em>x</em>)) = <em>&fnof;</em>&thinsp;</td>\n",
    "    <td align=\"center\">&#9116;</td>\n",
    "    <td><em>a<sub>i</sub></em> <em>x<sup>i</sup></em></td>\n",
    "    <td align=\"center\">&#9119;</td>\n",
    "    <td>&ensp;=</td>\n",
    "    <td align=\"left\"><em>&fnof;</em>(<em>a<sub>i</sub></em>) <em>x<sup>i</sup></em>.</td>\n",
    "  </tr>\n",
    "  <tr>\n",
    "    <td></td>\n",
    "    <td align=\"center\">&#9116;</td>\n",
    "    <td></td>\n",
    "    <td align=\"center\">&#9119;</td>\n",
    "    <td></td>\n",
    "    <td></td>\n",
    "    <td></td>\n",
    "  </tr>\n",
    "  <tr>\n",
    "    <td></td>\n",
    "    <td align=\"center\">&#9117;</td>\n",
    "    <td align=\"center\" valign=\"top\">&ensp;<em>i</em>=0&ensp;</td>\n",
    "    <td></td>\n",
    "    <td align=\"center\">&#9120;</td> \n",
    "    <td></td>\n",
    "    <td align=\"center\" valign=\"top\">&ensp;<em>i</em>=0&ensp;</td>\n",
    "    <td></td>   \n",
    "  </tr>\n",
    "</table>\n",
    "<br>\n",
    "If <em>v</em>(<em>x</em>) is another polynomial in <em>K</em>[<em>x</em>] with coefficients <em>b<sub>i</sub></em>, then\n",
    "<br><br>\n",
    "<table align=\"center\"  border=\"0\" cellspacing=\"0\" cellpadding=\"0\">\n",
    "  <tr>\n",
    "    <td ></td>\n",
    "    <td align=\"center\">&#9115;</td>\n",
    "    <td align=\"center\" valign=\"bottom\">&ensp;&ensp;&infin;&ensp;&ensp;</td>\n",
    "    <td></td>\n",
    "    <td align=\"center\">&#9118;</td>\n",
    "    <td></td>\n",
    "    <td align=\"center\" valign=\"bottom\">&ensp;&ensp;&infin;&ensp;&ensp;</td>\n",
    "    <td></td>\n",
    "    <td align=\"center\" valign=\"bottom\">&ensp;&ensp;&infin;&ensp;&ensp;</td>\n",
    "    <td></td>\n",
    "    <td align=\"center\" valign=\"bottom\">&ensp;&ensp;&infin;&ensp;&ensp;</td>\n",
    "    <td></td>\n",
    "  </tr>\n",
    "  <tr>\n",
    "    <td></td>\n",
    "    <td align=\"center\">&#9116;</td>\n",
    "    <td rowspan = \"3\" align=\"center\"><font face=\"Times New Roman, Times, serif\" size=\"+4\">&sum;</font></td>\n",
    "    <td></td>\n",
    "    <td align=\"center\">&#9119;</td>\n",
    "    <td></td>\n",
    "    <td rowspan = \"3\" align=\"center\"><font face=\"Times New Roman, Times, serif\" size=\"+4\">&sum;</font></td>\n",
    "    <td></td>\n",
    "    <td rowspan = \"3\" align=\"center\"><font face=\"Times New Roman, Times, serif\" size=\"+4\">&sum;</font></td>\n",
    "    <td></td>\n",
    "    <td rowspan = \"3\" align=\"center\"><font face=\"Times New Roman, Times, serif\" size=\"+4\">&sum;</font></td>\n",
    "    <td></td>\n",
    "  </tr>\n",
    "  <tr>\n",
    "    <td align=\"right\"><em>&fnof;</em>(<em>w</em>(<em>x</em>) + <em>v</em>(<em>x</em>)) = <em>&fnof;</em>&thinsp;</td>\n",
    "    <td align=\"center\">&#9116;</td>\n",
    "    <td>(<em>a<sub>i</sub></em> + <em>b<sub>i</sub></em>) <em>x<sup>i</sup></em></td>\n",
    "    <td align=\"center\">&#9119;</td>\n",
    "    <td>&ensp;=</td>\n",
    "    <td align=\"center\"><em>&fnof;</em>(<em>a<sub>i</sub></em> + <em>b<sub>i</sub></em>) <em>x<sup>i</sup></em> =</td>\n",
    "    <td align=\"center\"><em>&fnof;</em>(<em>a<sub>i</sub></em>) <em>x<sup>i</sup></em> +</td>\n",
    "    <td align=\"left\"><em>&fnof;</em>(<em>b<sub>i</sub></em>) <em>x<sup>i</sup></em> = <em>&fnof;</em>(<em>w</em>(<em>x</em>)) + <em>&fnof;</em>(<em>v</em>(<em>x</em>)).</td>\n",
    "  </tr>\n",
    "  <tr>\n",
    "    <td></td>\n",
    "    <td align=\"center\">&#9116;</td>\n",
    "    <td></td>\n",
    "    <td align=\"center\">&#9119;</td>\n",
    "    <td></td>\n",
    "    <td></td>\n",
    "    <td></td>\n",
    "    <td></td>\n",
    "  </tr>\n",
    "  <tr>\n",
    "    <td></td>\n",
    "    <td align=\"center\">&#9117;</td>\n",
    "    <td align=\"center\" valign=\"top\">&ensp;<em>i</em>=0&ensp;</td>\n",
    "    <td></td>\n",
    "    <td align=\"center\">&#9120;</td> \n",
    "    <td></td>\n",
    "    <td align=\"center\" valign=\"top\">&ensp;<em>i</em>=0&ensp;</td>\n",
    "    <td></td>  \n",
    "    <td align=\"center\" valign=\"top\">&ensp;<em>i</em>=0&ensp;</td> \n",
    "    <td></td>  \n",
    "    <td align=\"center\" valign=\"top\">&ensp;<em>i</em>=0&ensp;</td> \n",
    "    <td></td> \n",
    "  </tr>\n",
    "</table>\n",
    "<br>\n",
    "Likewise, we have\n",
    "<table align=\"center\"  border=\"0\" cellspacing=\"0\" cellpadding=\"0\">\n",
    "  <tr>\n",
    "    <td ></td>\n",
    "    <td align=\"center\">&#9115;</td>\n",
    "    <td align=\"center\" valign=\"bottom\">&ensp;&ensp;&infin;&ensp;&ensp;</td>\n",
    "    <td align=\"center\" valign=\"bottom\">&ensp;&ensp;&infin;&ensp;&ensp;</td>\n",
    "    <td></td>\n",
    "    <td align=\"center\">&#9118;</td>\n",
    "    <td></td>\n",
    "    <td align=\"center\" valign=\"bottom\">&ensp;&ensp;&infin;&ensp;&ensp;</td>\n",
    "    <td align=\"center\" valign=\"bottom\">&ensp;&ensp;&infin;&ensp;&ensp;</td>\n",
    "    <td></td>\n",
    "    <td align=\"center\" valign=\"bottom\">&ensp;&ensp;&infin;&ensp;&ensp;</td>\n",
    "    <td align=\"center\" valign=\"bottom\">&ensp;&ensp;&infin;&ensp;&ensp;</td>\n",
    "    <td></td>\n",
    "  </tr>\n",
    "  <tr>\n",
    "    <td></td>\n",
    "    <td align=\"center\">&#9116;</td>\n",
    "    <td rowspan = \"3\" align=\"center\"><font face=\"Times New Roman, Times, serif\" size=\"+4\">&sum;</font></td>\n",
    "    <td rowspan = \"3\" align=\"center\"><font face=\"Times New Roman, Times, serif\" size=\"+4\">&sum;</font></td>\n",
    "    <td></td>\n",
    "    <td align=\"center\">&#9119;</td>\n",
    "    <td></td>\n",
    "    <td rowspan = \"3\" align=\"center\"><font face=\"Times New Roman, Times, serif\" size=\"+4\">&sum;</font></td>\n",
    "    <td rowspan = \"3\" align=\"center\"><font face=\"Times New Roman, Times, serif\" size=\"+4\">&sum;</font></td>\n",
    "    <td></td>\n",
    "    <td rowspan = \"3\" align=\"center\"><font face=\"Times New Roman, Times, serif\" size=\"+4\">&sum;</font></td>\n",
    "    <td rowspan = \"3\" align=\"center\"><font face=\"Times New Roman, Times, serif\" size=\"+4\">&sum;</font></td>\n",
    "    <td></td>\n",
    "  </tr>\n",
    "  <tr>\n",
    "    <td align=\"right\"><em>&fnof;</em>(<em>w</em>(<em>x</em>)&middot;<em>v</em>(<em>x</em>)) = <em>&fnof;</em>&thinsp;</td>\n",
    "    <td align=\"center\">&#9116;</td>\n",
    "    <td>(<em>a<sub>i</sub></em>&middot;<em>b<sub>j</sub></em>) <em>x</em><sup><em>i</em>+<em>j</em></sup></td>\n",
    "    <td align=\"center\">&#9119;</td>\n",
    "    <td>&ensp;=</td>\n",
    "    <td align=\"center\"><em>&fnof;</em>(<em>a<sub>i</sub></em>&middot;<em>b<sub>j</sub></em>) <em>x</em><sup><em>i</em>+<em>j</em></sup> =</td>\n",
    "    <td align=\"left\"><em>&fnof;</em>(<em>a<sub>i</sub></em>)&middot;<em>&fnof;</em>(<em>b<sub>j</sub></em>) <em>x</em><sup><em>i</em>+<em>j</em></sup> = <em>&fnof;</em>(<em>w</em>(<em>x</em>))&middot;<em>&fnof;</em>(<em>v</em>(<em>x</em>)).</td>\n",
    "  </tr>\n",
    "  <tr>\n",
    "    <td></td>\n",
    "    <td align=\"center\">&#9116;</td>\n",
    "    <td></td>\n",
    "    <td align=\"center\">&#9119;</td>\n",
    "    <td></td>\n",
    "    <td></td>\n",
    "    <td></td>\n",
    "  </tr>\n",
    "  <tr>\n",
    "    <td></td>\n",
    "    <td align=\"center\">&#9117;</td>\n",
    "    <td align=\"center\" valign=\"top\">&ensp;<em>i</em>=0&ensp;</td>\n",
    "    <td align=\"center\" valign=\"top\">&ensp;<em>j</em>=0&ensp;</td>\n",
    "    <td></td>\n",
    "    <td align=\"center\">&#9120;</td> \n",
    "    <td></td>\n",
    "    <td align=\"center\" valign=\"top\">&ensp;<em>i</em>=0&ensp;</td>\n",
    "    <td align=\"center\" valign=\"top\">&ensp;<em>j</em>=0&ensp;</td>\n",
    "    <td></td>  \n",
    "    <td align=\"center\" valign=\"top\">&ensp;<em>i</em>=0&ensp;</td>  \n",
    "    <td align=\"center\" valign=\"top\">&ensp;<em>j</em>=0&ensp;</td> \n",
    "    <td></td> \n",
    "  </tr>\n",
    "</table>\n",
    "<br>\n",
    "Thus, <em>&fnof;</em> extends to a homomorphism mapping <em>K</em>[<em>x</em>] to <em>M</em>[<em>x</em>]. But the kernel of <em>&fnof;</em> is just the identity \n",
    "element, since <em>&fnof;</em> preserves the degree of any nonzero polynomial.  Thus, <em>&fnof;</em> extends to an isomorphism from <em>K</em>[<em>x</em>] to \n",
    "<em>M</em>[<em>x</em>], and <em>&fnof;</em>(<em>x</em>) = <em>x</em>.<br><br>\n",
    "\n",
    "<a href=\"#lem133ret\">Return to text</a>"
   ]
  },
  {
   "cell_type": "markdown",
   "id": "c7fcc2",
   "metadata": {
    "collapsed": false
   },
   "source": [
    "<br><br><br><br><br><br><br><br><br><br><br><br><br><br><br><br><br><br><br><br><br><br><br><br><br><br><br><br><br><br><br><br><br><br><br><br><br><br><br><br><br><br>"
   ]
  },
  {
   "cell_type": "markdown",
   "id": "fc00f7",
   "metadata": {
    "collapsed": false
   },
   "source": [
    "<a name=\"prop135\" id=\"prop135\"></a>\n",
    "Proof of Proposition 13.5:<br><br>\n",
    "\n",
    "Consider the extension of the Frobenius automorphism onto <em>F</em>[<em>x</em>], as given in Lemma 13.3.  If we apply this mapping to the \n",
    "polynomial <em>g</em>(<em>x</em>), we get\n",
    "<p style='text-align: center;'><em>&fnof;</em>(<em>g</em>(<em>x</em>)) = (<em>x</em> &minus; <em>&fnof;</em>(<em>y</em>))&middot;(<em>x</em> &minus; \n",
    "<em>&fnof;</em>(<em>&fnof;</em>(<em>y</em>)))&middot;(<em>x</em> &minus; \n",
    "<em>&fnof;</em>(<em>&fnof;</em>(<em>&fnof;</em>(<em>y</em>))))&middot; &#8943; &middot;(<em>x</em> &minus; <em>&fnof;&thinsp;<sup>n</sup></em>(<em>y</em>)).</p>\n",
    "Recall we picked <em>n</em> to be the smallest number such that <em>&fnof;&thinsp;<sup>n</sup></em>(<em>y</em>) = <em>y</em>.  Thus,\n",
    "<p style='text-align: center;'><em>&fnof;</em>(<em>g</em>(<em>x</em>)) = (<em>x</em> &minus; <em>&fnof;</em>(<em>y</em>))&middot;(<em>x</em> &minus; \n",
    "<em>&fnof;</em>(<em>&fnof;</em>(<em>y</em>)))&middot; &#8943; &middot;(<em>x</em> &minus; \n",
    "<em>&fnof;</em>&thinsp;<sup><em>n</em>&minus;1</sup>(<em>y</em>))&middot;(<em>x</em> &minus; <em>y</em>).</p>\n",
    "which after rearranging the factors gives <em>g</em>(<em>x</em>) again.<br><br>\n",
    "\n",
    "Since <em>g</em>(<em>x</em>) is fixed by the Frobenius automorphism, each coefficient of <em>g</em>(<em>x</em>) must be fixed by <em>&fnof;</em>(<em>x</em>).  But the \n",
    "only elements fixed by <em>&fnof;</em>(<em>x</em>) are those in <em>Z<sub>p</sub></em>.  Thus, <em>g</em>(<em>x</em>) must have all of its coefficients in \n",
    "<em>Z<sub>p</sub></em>, and so is a polynomial in <em>Z<sub>p</sub></em>[<em>x</em>].<br><br>\n",
    "\n",
    "To show that <em>g</em>(<em>x</em>) is irreducible, suppose that\n",
    "<p style='text-align: center;'><em>g</em>(<em>x</em>) = <em>h</em>(<em>x</em>)&middot;<em>j</em>(<em>x</em>),</p>\n",
    "where both <em>h</em>(<em>x</em>) and <em>j</em>(<em>x</em>) are polynomials in <em>Z<sub>p</sub></em>[<em>x</em>] of positive degree.  Then \n",
    "<em>&fnof;</em>(<em>h</em>(<em>x</em>)) = <em>h</em>(<em>x</em>), and <em>&fnof;</em>(<em>j</em>(<em>x</em>)) = <em>j</em>(<em>x</em>), since the Frobenius \n",
    "automorphism fixes <em>x</em> and the elements in <em>Z<sub>p</sub></em>.  By the unique factorization in <em>F</em>[<em>x</em>], (<em>x</em> &minus; <em>y</em>) has to be a \n",
    "factor of <em>h</em>(<em>x</em>) or <em>j</em>(<em>x</em>), but not both, since (<em>x</em> &minus; <em>y</em>) is a factor of <em>g</em>(<em>x</em>), \n",
    "but (<em>x</em> &minus; <em>y</em>)<sup>2</sup> is not.  Let us suppose that <em>h</em>(<em>x</em>) has (<em>x</em> &minus; <em>y</em>) as a factor.  Any factor \n",
    "of <em>j</em>(<em>x</em>) would have to be a factor of <em>g</em>(<em>x</em>), so such a factor would have the form\n",
    "<p style='text-align: center;'>(<em>x</em> &minus; <em>&fnof;&thinsp;<sup>m</sup></em>(<em>y</em>))</p>\n",
    "for some <em>m</em> &gt; 0. Thus, <em>&fnof;&thinsp;<sup>m</sup></em>(<em>y</em>) is a root of <em>j</em>(<em>x</em>), but <em>y</em> is not.  But this is impossible, \n",
    "since <em>&fnof;&thinsp;<sup>m</sup></em>(<em>j</em>(<em>x</em>)) = <em>j</em>(<em>x</em>), and so <em>&fnof;&thinsp;<sup>m</sup></em>(<em>j</em>(<em>y</em>)) = \n",
    "<em>j</em>(<em>&fnof;&thinsp;<sup>m</sup></em>(<em>y</em>)) = 0.  Therefore, <em>g</em>(<em>x</em>) is an irreducible polynomial in <em>Z<sub>p</sub></em>[<em>x</em>].<br><br>\n",
    "\n",
    "<a href=\"#prop135ret\">Return to text</a>"
   ]
  },
  {
   "cell_type": "markdown",
   "id": "bfecac",
   "metadata": {
    "collapsed": false
   },
   "source": [
    "<br><br><br><br><br><br><br><br><br><br><br><br><br><br><br><br><br><br><br><br><br><br><br><br><br><br><br><br><br><br><br><br><br><br><br><br><br><br><br><br><br><br>"
   ]
  },
  {
   "cell_type": "markdown",
   "id": "e63cbf",
   "metadata": {
    "collapsed": false
   },
   "source": [
    "<a name=\"prop136\" id=\"prop136\"></a>\n",
    "Proof of Proposition 13.6:<br><br>\n",
    "\n",
    "Consider the evaluation homomorphism\n",
    "<p style='text-align: center;'><em>&#981;<sub>y</sub></em> : <em>K</em>[<em>x</em>] &rarr; <em>K</em>.</p>\n",
    "We can consider the homomorphism <em>&#981;<sub>y</sub></em>&prime; as the restriction \n",
    "of <em>&#981;<sub>y</sub></em> on <em>F</em>[<em>x</em>].  Let us consider the kernel of this homomorphism.  Because <em>f</em>(<em>y</em>) = 0, <em>f</em>(<em>x</em>) is \n",
    "certainly in the kernel of <em>&#981;<sub>y</sub></em>&prime;.  But the kernel cannot be all of <em>F</em>[<em>x</em>], since the constant polynomials are not in the \n",
    "kernel.  We know that the kernel is an ideal, and by Corollary 12.7, <em>F</em>[<em>x</em>] is a PID, so the kernel can be written as &lang;<em>g</em>(<em>x</em>)&rang; for \n",
    "some <em>g</em>(<em>x</em>) in <em>F</em>[<em>x</em>].  Yet <em>f</em>(<em>x</em>) is in the kernel, so <em>g</em>(<em>x</em>) divides <em>f</em>(<em>x</em>).  But \n",
    "<em>f</em>(<em>x</em>) is irreducible in <em>F</em>[<em>x</em>], and <em>g</em>(<em>x</em>) cannot be a unit, since we have already observed \n",
    "that &lang;<em>g</em>(<em>x</em>)&rang; is not all \n",
    "of <em>F</em>[<em>x</em>].  Therefore, the kernel of <em>&#981;<sub>y</sub></em>&prime; is &lang;<em>f</em>(<em>x</em>)&rang;.<br><br>\n",
    "\n",
    "From the first ring isomorphism theorem (10.2), the image of <em>&#981;<sub>y</sub></em>&prime; is isomorphic to <em>F</em>[<em>x</em>]/&lang;<em>f</em>(<em>x</em>)&rang;.  We \n",
    "have already mentioned that <em>F</em>[<em>x</em>] is a PID, so by Lemma 12.6 the image is a field.  But the field must contain <em>F</em>, since this is the image of \n",
    "the constant polynomials, and also must contain <em>y</em>, the image of the polynomial <em>x</em>.  The only subfield of <em>K</em> that contains both <em>y</em> and \n",
    "<em>F</em> is <em>K</em> itself, so <em>F</em>[<em>x</em>]/&lang;<em>f</em>(<em>x</em>)&rang; is isomorphic to <em>K</em>.<br><br>\n",
    "\n",
    "<a href=\"#prop136ret\">Return to text</a>"
   ]
  },
  {
   "cell_type": "markdown",
   "id": "f79c34",
   "metadata": {
    "collapsed": false
   },
   "source": [
    "<br><br><br><br><br><br><br><br><br><br><br><br><br><br><br><br><br><br><br><br><br><br><br><br><br><br><br><br><br><br><br><br><br><br><br><br><br><br><br><br><br><br>"
   ]
  },
  {
   "cell_type": "markdown",
   "id": "f9eddf",
   "metadata": {
    "collapsed": false
   },
   "source": [
    "<a name=\"cor132\" id=\"cor132\"></a>\n",
    "Proof of Corollary 13.2:<br><br>\n",
    "\n",
    "If <em>K</em> is a finite field, by Proposition 13.4, the multiplicative group of <em>K</em><sup>&ast;</sup> is cyclic.  Thus, there must be an element <em>y</em> that \n",
    "generates <em>K</em><sup>&ast;</sup> as a group.  Since <em>K</em> must have finite characteristic <em>p</em>, we will let <em>F</em> be the \n",
    "subfield <em>Z<sub>p</sub></em>.  Let <em>f</em>(<em>x</em>) be the irreducible polynomial of <em>y</em> over <em>Z<sub>p</sub></em> given by Proposition 13.5.<br><br>\n",
    "\n",
    "Even though <em>f</em>(<em>x</em>) is irreducible in <em>Z<sub>p</sub></em>[<em>x</em>], <em>f</em>(<em>x</em>) has (<em>x</em> &minus; <em>y</em>) as a factor when viewed \n",
    "as a polynomial in <em>K</em>[<em>x</em>].  Note that since <em>y</em> generates all of <em>K</em>, we see that the conditions for Proposition 13.6 are \n",
    "satisfied.  Therefore <em>K</em> is isomorphic to <em>Z<sub>p</sub></em>[<em>x</em>]/&lang;<em>f</em>(<em>x</em>)&rang;.<br><br>\n",
    "\n",
    "<a href=\"#cor132ret\">Return to text</a>"
   ]
  },
  {
   "cell_type": "markdown",
   "id": "75b4d7",
   "metadata": {
    "collapsed": false
   },
   "source": [
    "<br><br><br><br><br><br><br><br><br><br><br><br><br><br><br><br><br><br><br><br><br><br><br><br><br><br><br><br><br><br><br><br><br><br><br><br><br><br><br><br><br><br>"
   ]
  },
  {
   "cell_type": "markdown",
   "id": "605dc6",
   "metadata": {
    "collapsed": false
   },
   "source": [
    "<a name=\"lem134\" id=\"lem134\"></a>\n",
    "Proof of Lemma 13.4:<br><br>\n",
    "\n",
    "Since <em>F</em> is a finite field, by Corollary 13.2 there is a polynomial <em>f</em>(<em>x</em>) in <em>Z<sub>p</sub></em>[<em>x</em>] such that <em>F</em> is \n",
    "isomorphic to <em>Z<sub>p</sub></em>[<em>x</em>]/&lang;<em>f</em>(<em>x</em>)&rang;.<br><br>\n",
    "\n",
    "Since <em>F</em> and <em>K</em> have the same characteristic, we can consider <em>f</em>(<em>x</em>) to be a polynomial in <em>K</em>[<em>x</em>] as well.  Let \n",
    "<em>g</em>(<em>x</em>) be an irreducible factor of <em>f</em>(<em>x</em>) over the domain <em>K</em>[<em>x</em>].  Of course, <em>f</em>(<em>x</em>) may already \n",
    "be irreducible in <em>K</em>[<em>x</em>], in which case we let <em>g</em>(<em>x</em>) = <em>f</em>(<em>x</em>).<br><br>\n",
    "\n",
    "Now consider the ring <em>E</em> = <em>K</em>[<em>x</em>]/&lang;<em>g</em>(<em>x</em>)&rang;.  Since <em>K</em>[<em>x</em>] is a PID, by Lemma 12.6 <em>E</em> is a field.  In \n",
    "fact, <em>E</em> contains an element that is a root of the polynomial <em>g</em>(<em>x</em>), namely\n",
    "<p style='text-align: center;'><em>y</em> = <em>x</em> + &lang;<em>g</em>(<em>x</em>)&rang;,</p>\n",
    "since\n",
    "<p style='text-align: center;'><em>g</em>(<em>y</em>) = <em>g</em>(<em>x</em> + &lang;<em>g</em>(<em>x</em>)&rang;) = \n",
    "<em>g</em>(<em>x</em>) + &lang;<em>g</em>(<em>x</em>)&rang; = \n",
    "0 + &lang;<em>g</em>(<em>x</em>)&rang;.</p>\n",
    "We can now consider the evaluation homomorphism\n",
    "<p style='text-align: center;'><em>&#981;<sub>y</sub></em> : <em>E</em>[<em>x</em>] &rarr; <em>E</em></p>\n",
    "Let us first consider the restriction of this homomorphism to the ring <em>Z<sub>p</sub></em>[<em>x</em>], which we will call <em>&psi;</em>.  Thus <em>&psi;</em> is \n",
    "the homomorphism\n",
    "<p style='text-align: center;'><em>&psi;</em> : <em>Z<sub>p</sub></em>[<em>x</em>] &rarr; <em>E</em>,&emsp;<em>&psi;</em>(<em>w</em>(<em>x</em>)) = \n",
    "<em>w</em>(<em>y</em>).</p>\n",
    "Since <em>y</em> is a root of <em>g</em>(<em>x</em>) in the field <em>E</em>, and <em>g</em>(<em>x</em>) in turn is a factor of <em>f</em>(<em>x</em>), we see \n",
    "that <em>y</em> is a root of <em>f</em>(<em>x</em>) in the field <em>E</em>.  Thus, <em>f</em>(<em>x</em>) is in the kernel of the homomorphism <em>&psi;</em>.  Since \n",
    "<em>Z<sub>p</sub></em>[<em>x</em>] is a PID, the kernel can be written as &lang;<em>h</em>(<em>x</em>)&rang; for some polynomial <em>h</em>(<em>x</em>) in \n",
    "<em>Z<sub>p</sub></em>[<em>x</em>]. But since <em>f</em>(<em>x</em>) is in the kernel, <em>h</em>(<em>x</em>) must divide <em>f</em>(<em>x</em>).  But \n",
    "<em>f</em>(<em>x</em>) is irreducible, and <em>h</em>(<em>x</em>) cannot be a unit, or else the kernel would be all of <em>Z<sub>p</sub></em>[<em>x</em>], which is \n",
    "impossible since the constant polynomials are not in the kernel.  Therefore, the kernel must be &lang;<em>f</em>(<em>x</em>)&rang;, and so by the first ring isomorphism \n",
    "theorem (10.2), the image of <em>&psi;</em> is isomorphic to\n",
    "<p style='text-align: center;'><em>Z<sub>p</sub></em>[<em>x</em>]/&lang;<em>f</em>(<em>x</em>)&rang;</p>\n",
    "which is in turn isomorphic to <em>F</em>.  Thus, there is a subfield of <em>E</em> isomorphic to <em>F</em>.<br><br>\n",
    "\n",
    "All we have to do is show that there is a copy of the field <em>K</em> inside of <em>E</em> = <em>K</em>[<em>x</em>]/&lang;<em>g</em>(<em>x</em>)&rang;.  But we can consider \n",
    "the natural homomorphism\n",
    "<p style='text-align: center;'><em>i</em> : <em>K</em>[<em>x</em>] &rarr; <em>E</em></p>\n",
    "given by\n",
    "<p style='text-align: center;'><em>i</em>(<em>p</em>(<em>x</em>)) = <em>p</em>(<em>x</em>) + &lang;<em>g</em>(<em>x</em>)&rang;.</p>\n",
    "If we restrict this homomorphism onto the constant polynomials, we get\n",
    "<p style='text-align: center;'><em>i</em>&prime; : <em>K</em> &rarr; <em>E</em>.</p>\n",
    "Since <em>g</em>(<em>x</em>) is not a unit, it is clear that the kernel of this homomorphism is just 0.  Thus, there is a subfield of <em>E</em> isomorphic \n",
    "to <em>K</em>.  Therefore, we have constructed a field that contains isomorphic copies of both <em>F</em> and <em>K</em> as subfields.<br><br>\n",
    "\n",
    "<a href=\"#lem134ret\">Return to text</a>"
   ]
  },
  {
   "cell_type": "markdown",
   "id": "d03a00",
   "metadata": {
    "collapsed": false
   },
   "source": [
    "<br><br><br><br><br><br><br><br><br><br><br><br><br><br><br><br><br><br><br><br><br><br><br><br><br><br><br><br><br><br><br><br><br><br><br><br><br><br><br><br><br><br>"
   ]
  },
  {
   "cell_type": "markdown",
   "id": "49c2ee",
   "metadata": {
    "collapsed": false
   },
   "source": [
    "<a name=\"cor133\" id=\"cor133\"></a>\n",
    "Proof of Corollary 13.3:<br><br>\n",
    "\n",
    "If two fields <em>F</em> and <em>K</em> have the same order, by Proposition 13.3, both must have order <em>p<sup>n</sup></em> for some prime number <em>p</em>, and \n",
    "some positive integer <em>n</em>.  Thus, both <em>F</em> and <em>K</em> have characteristic <em>p</em>, so by Lemma 13.4 there exists a field <em>E</em> that \n",
    "contains isomorphic copies of both <em>F</em> and <em>K</em> as subfields.  Let <em>F</em>&prime; and <em>K</em>&prime; be the subfields of <em>E</em> isomorphic \n",
    "to <em>F</em> and <em>K</em>, respectively.  Consider the polynomial\n",
    "<p style='text-align: center;'><em>f</em>(<em>x</em>) = <em>x<sup>p&#8319;</sup></em> &minus; <em>x</em></p>\n",
    "in <em>E</em>[<em>x</em>].  Since <em>F</em>&prime; is a subfield of <em>E</em>, the Frobenius automorphism is of order <em>n</em> on this subfield.  Thus, every element \n",
    "of <em>F</em>&prime; is a root of <em>f</em>(<em>x</em>).  Likewise, every element of <em>K</em>&prime; is also a root of <em>f</em>(<em>x</em>).  But by \n",
    "Corollary 12.2, <em>f</em>(<em>x</em>) can have at most <em>p<sup>n</sup></em> roots.  Thus, the subfields <em>F</em>&prime; and <em>K</em>&prime; must \n",
    "coincide, so certainly they are isomorphic.  Hence <em>F</em> and <em>K</em> must be isomorphic.<br><br>\n",
    "\n",
    "<a href=\"#cor133ret\">Return to text</a>"
   ]
  },
  {
   "cell_type": "markdown",
   "id": "e0d04f",
   "metadata": {
    "collapsed": false
   },
   "source": [
    "<br><br><br><br><br><br><br><br><br><br><br><br><br><br><br><br><br><br><br><br><br><br><br><br><br><br><br><br><br><br><br><br><br><br><br><br><br><br><br><br><br><br>"
   ]
  },
  {
   "cell_type": "markdown",
   "id": "ef11e0",
   "metadata": {
    "collapsed": false
   },
   "source": [
    "<a name=\"prop137\" id=\"prop137\"></a>\n",
    "Proof of Proposition 13.7:<br><br>\n",
    "\n",
    "We will first show that each <em>n</em><sup>th</sup> root of unity is a primitive <em>k</em><sup>th</sup> root of unity for exactly one positive divisor <em>k</em> of <em>n</em>.  If \n",
    "<em>z</em> = <em>&omega;<sub>n</sub><sup>s</sup></em> is an <em>n</em><sup>th</sup> root of unity, we can let <em>k</em> = <em>n</em>/gcd(<em>n</em>, <em>s</em>).  Then \n",
    "<em>k</em>&middot;<em>s</em> = <em>n</em>&middot;(<em>s</em>/gcd(<em>n</em>, <em>s</em>)) is a multiple of <em>n</em>, so <em>z<sup>k</sup></em> = 1.  Yet \n",
    "if <em>z<sup>m</sup></em> = 1, then <em>s</em>&middot;<em>m</em> must be a multiple of <em>n</em>, so (<em>s</em>/gcd(<em>n</em>, <em>s</em>))&middot;<em>m</em> is a \n",
    "multiple of <em>n</em>/gcd(<em>n</em>, <em>s</em>).  But (<em>s</em>/gcd(<em>n</em>, <em>s</em>)) and (<em>n</em>/gcd(<em>n</em>, <em>s</em>)) are coprime, so \n",
    "<em>m</em> would be a multiple of <em>k</em>.  Thus, <em>&omega;<sub>n</sub><sup>s</sup></em> is a primitive <em>k</em><sup>th</sup> root of unity, \n",
    "with <nobr><em>k</em> = <em>n</em>/gcd(<em>n</em>, <em>s</em>).</nobr><br><br>\n",
    "\n",
    "Since\n",
    "<p style='text-align: center;'><em>x<sup>n</sup></em> &minus; 1 = (<em>x</em> &minus; <em>&omega;<sub>n</sub></em>)&middot;(<em>x</em> &minus; \n",
    "<em>&omega;<sub>n</sub></em><sup>2</sup>)&middot;(<em>x</em> &minus; <em>&omega;<sub>n</sub></em><sup>3</sup>) &#8943; \n",
    "(<em>x</em> &minus; <em>&omega;<sub>n</sub><sup>n</sup></em>),</p>\n",
    "we can collect those factors (<em>x</em> &minus; <em>&omega;<sub>n</sub><sup>s</sup></em>) for which <em>&omega;<sub>n</sub><sup>s</sup></em> is a \n",
    "primitive <em>k</em><sup>th</sup> root of unity.  The result is the formula\n",
    "<br><br>\n",
    "<table align=\"center\" border=\"0\" cellspacing=\"0\" cellpadding=\"0\">\n",
    "  <tr>\n",
    "    <td align=\"right\"><em>x<sup>n</sup></em> &minus; 1 = </td>\n",
    "    <td align=\"center\" valign=\"bottom\"><font face=\"Times New Roman, Times, serif\" size=\"+4\">&prod;</font></td>\n",
    "    <td align=\"left\">&Phi;<sub><em>k</em></sub>(<em>x</em>).</td>\n",
    "  </tr>\n",
    "  <tr>\n",
    "    <td></td>\n",
    "    <td align=\"center\" valign=\"top\">&ensp;<em>k</em> | <em>n</em>&ensp;</td>\n",
    "    <td></td>\n",
    "  </tr>\n",
    "</table>\n",
    "\n",
    "<a href=\"#prop137ret\">Return to text</a>"
   ]
  },
  {
   "cell_type": "markdown",
   "id": "df324e",
   "metadata": {
    "collapsed": false
   },
   "source": [
    "<br><br><br><br><br><br><br><br><br><br><br><br><br><br><br><br><br><br><br><br><br><br><br><br><br><br><br><br><br><br><br><br><br><br><br><br><br><br><br><br><br><br>"
   ]
  },
  {
   "cell_type": "markdown",
   "id": "de8ac9",
   "metadata": {
    "collapsed": false
   },
   "source": [
    "<a name=\"cor134\" id=\"cor134\"></a>\n",
    "Proof of Corollary 13.4:<br><br>\n",
    "\n",
    "We will prove this using induction on <em>n</em>.  Obviously the first cyclotomic polynomial is <em>x</em> &minus; 1, which has integer \n",
    "coefficients.  Let <em>n</em> &gt; 1, and suppose the claim is valid for all previous cyclotomic polynomials.  By Proposition 13.7, we can find the <em>n</em><sup>th</sup>\n",
    "cyclotomic polynomial as\n",
    "<table align=\"center\" border=\"0\" cellspacing=\"0\" cellpadding=\"0\">\n",
    "  <tr>\n",
    "    <td rowspan = \"2\" align=\"right\">&Phi;<sub><em>n</em></sub>(<em>x</em>) =&ensp;</td>\n",
    "    <td align=\"center\" valign=\"bottom\"><em>x<sup>n</sup></em> &minus; 1</td>\n",
    "    <td rowspan = \"2\" align=\"left\">,</td>\n",
    "  </tr>\n",
    "  <tr>\n",
    "    <td align=\"center\" valign=\"top\"><font style=\"text-decoration:overline\">&emsp;<em>f</em>(<em>x</em>)&emsp;</font></td>\n",
    "  </tr>\n",
    "</table>\n",
    "where \n",
    "<table align=\"center\" border=\"0\" cellspacing=\"0\" cellpadding=\"0\">\n",
    "  <tr>\n",
    "    <td rowspan = \"2\" align=\"right\"><em>f</em>(<em>x</em>) = </td>\n",
    "    <td align=\"center\" valign=\"bottom\"><font face=\"Times New Roman, Times, serif\" size=\"+4\">&prod;</font></td>\n",
    "    <td rowspan = \"2\" align=\"left\">&Phi;<sub><em>k</em></sub>(<em>x</em>).</td>\n",
    "  </tr>\n",
    "  <tr>\n",
    "    <td align=\"center\" valign=\"top\">&ensp;<em>k</em> | <em>n</em>&ensp;</td>\n",
    "  </tr>\n",
    "  <tr>\n",
    "    <td></td>\n",
    "    <td align=\"center\" valign=\"top\">&ensp;<em>k</em> &lt; <em>n</em>&ensp;</td>\n",
    "    <td></td>\n",
    "  </tr>\n",
    "</table>\n",
    "\n",
    "<br>\n",
    "Since all previous cyclotomic polynomials have integer coefficients, we see by induction that <em>&fnof;</em>(<em>x</em>) has integer coefficients. Furthermore, from \n",
    "the definition of the cyclotomic polynomials, we see that the leading coefficients must be 1, hence the leading coefficient of <em>&fnof;</em>(<em>x</em>) is 1. So \n",
    "by Corollary 12.1 the quotient<br><br>\n",
    " \n",
    "<table align=\"center\" border=\"0\" cellspacing=\"0\" cellpadding=\"0\">\n",
    "  <tr>\n",
    "    <td align=\"center\" valign=\"bottom\"><em>x<sup>n</sup></em> &minus; 1</td>\n",
    "  </tr>\n",
    "  <tr>\n",
    "    <td align=\"center\" valign=\"top\"><font style=\"text-decoration:overline\">&emsp;<em>f</em>(<em>x</em>)&emsp;</font></td>\n",
    "  </tr>\n",
    "</table>\n",
    "<br>\n",
    "must in fact have integer coefficients. Therefore, all cyclotomic polynomials have integer coefficients.<br><br>\n",
    "\n",
    "<a href=\"#cor134ret\">Return to text</a>"
   ]
  },
  {
   "cell_type": "markdown",
   "id": "726a04",
   "metadata": {
    "collapsed": false
   },
   "source": [
    "<br><br><br><br><br><br><br><br><br><br><br><br><br><br><br><br><br><br><br><br><br><br><br><br><br><br><br><br><br><br><br><br><br><br><br><br><br><br><br><br><br><br>"
   ]
  },
  {
   "cell_type": "markdown",
   "id": "03b25b",
   "metadata": {
    "collapsed": false
   },
   "source": [
    "<a name=\"cor135\" id=\"cor135\"></a>\n",
    "Proof of Corollary 13.5:<br><br>\n",
    "\n",
    "Since <em>n</em> is divisible by <em>m</em>, whenever <em>m</em> is divisible by <em>k</em>, then <em>n</em> is divisible by <em>k</em>. Thus, every factor appearing in\n",
    "\n",
    "<table align=\"center\" border=\"0\" cellspacing=\"0\" cellpadding=\"0\">\n",
    "  <tr>\n",
    "    <td rowspan = \"2\" align=\"right\"><em>x<sup>m</sup></em> &minus; 1 = </td>\n",
    "    <td align=\"center\" valign=\"bottom\"><font face=\"Times New Roman, Times, serif\" size=\"+4\">&prod;</font></td>\n",
    "    <td rowspan = \"2\" align=\"left\">&Phi;<sub><em>k</em></sub>(<em>x</em>)</td>\n",
    "  </tr>\n",
    "  <tr>\n",
    "    <td align=\"center\" valign=\"top\">&ensp;<em>k</em> | <em>m</em>&ensp;</td>\n",
    "  </tr>\n",
    "</table> \n",
    "\n",
    "also appears in\n",
    "\n",
    "<table align=\"center\" border=\"0\" cellspacing=\"0\" cellpadding=\"0\">\n",
    "  <tr>\n",
    "    <td rowspan = \"2\" align=\"right\"><em>x<sup>n</sup></em> &minus; 1 = </td>\n",
    "    <td align=\"center\" valign=\"bottom\"><font face=\"Times New Roman, Times, serif\" size=\"+4\">&prod;</font></td>\n",
    "    <td rowspan = \"2\" align=\"left\">&Phi;<sub><em>k</em></sub>(<em>x</em>).</td>\n",
    "  </tr>\n",
    "  <tr>\n",
    "    <td align=\"center\" valign=\"top\">&ensp;<em>k</em> | <em>n&ensp;</em></td>\n",
    "  </tr>\n",
    "</table>\n",
    "\n",
    "<br>\n",
    "In fact, the quotient would be the product of the cyclotomic polynomials &Phi;<sub><em>k</em></sub>(<em>x</em>) for which <em>k</em> is a divisor of <em>n</em>, but not \n",
    "of <em>m</em>.  Since the cyclotomic polynomials have integer coefficients,\n",
    "\n",
    "<table align=\"center\" border=\"0\" cellspacing=\"0\" cellpadding=\"0\">\n",
    "  <tr>\n",
    "    <td align=\"center\" valign=\"bottom\"><font style=\"text-decoration:underline\"><em>x&#8319;</em> &minus; 1</font></td>\n",
    "  </tr>\n",
    "  <tr>\n",
    "    <td align=\"center\" valign=\"top\"><em>x<sup>m</sup></em> &minus; 1</td>\n",
    "  </tr>\n",
    "</table>\n",
    "\n",
    "<br>\n",
    "would have integer coefficients. Furthermore, &Phi;<sub><em>n</em></sub>(<em>x</em>) is one of the cyclotomic polynomials in the factorization \n",
    "of <em>x<sup>n</sup></em> &minus; 1 which is not in <nobr><em>x<sup>m</sup></em> &minus; 1.</nobr>  Thus, \n",
    "the <em>n</em><sup>th</sup> cyclotomic polynomial \n",
    "divides (<em>x<sup>n</sup></em> &minus; 1)/(<em>x<sup>m</sup></em> &minus; 1) in &#8484;[<em>x</em>].<br><br>\n",
    "\n",
    "<a href=\"#cor135ret\">Return to text</a>"
   ]
  },
  {
   "cell_type": "markdown",
   "id": "500a6b",
   "metadata": {
    "collapsed": false
   },
   "source": [
    "<br><br><br><br><br><br><br><br><br><br><br><br><br><br><br><br><br><br><br><br><br><br><br><br><br><br><br><br><br><br><br><br><br><br><br><br><br><br><br><br><br><br>"
   ]
  },
  {
   "cell_type": "markdown",
   "id": "9344e5",
   "metadata": {
    "collapsed": false
   },
   "source": [
    "<a name=\"lem135\" id=\"lem135\"></a>\n",
    "Proof of Lemma 13.5:<br><br>\n",
    "\n",
    "We first will ask whether 1 is a multiple root of <em>x<sup>n</sup></em> &minus; 1.  Since 1 is clearly a root,\n",
    "<p style='text-align: center;'><em>x<sup>n</sup></em> &minus; 1 = (<em>x</em> &minus; 1)&middot;<em>f</em>(<em>x</em>)</p>\n",
    "for some polynomial <em>f</em>(<em>x</em>).  But we can use the division algorithm to produce <em>f</em>(<em>x</em>).  We claim that\n",
    "\n",
    "<table align=\"center\" border=\"0\" cellspacing=\"0\" cellpadding=\"0\">\n",
    "  <tr>\n",
    "    <td></td>\n",
    "    <td align=\"center\" valign=\"top\">&ensp;<em>n</em> &minus; 1&ensp;</td>\n",
    "    <td></td>\n",
    "  </tr>\n",
    "  <tr>\n",
    "    <td align=\"right\"><em>f</em>(<em>x</em>) = </td>\n",
    "    <td align=\"center\" valign=\"bottom\"><font face=\"Times New Roman, Times, serif\" size=\"+4\">&sum;</font></td>\n",
    "    <td align=\"left\"><em>x<sup>k</sup></em> = 1 + <em>x</em> + <em>x</em><sup>2</sup> + <em>x</em><sup>3</sup> + &#8943; + <em>x</em><sup><em>n</em>&minus;2</sup> + \n",
    "    <em>x</em><sup><em>n</em>&minus;1</sup>.</td>\n",
    "  </tr>\n",
    "  <tr>\n",
    "    <td></td>\n",
    "    <td align=\"center\" valign=\"top\">&ensp;<em>k</em> = 0&ensp;</td>\n",
    "    <td></td>\n",
    "  </tr>\n",
    "</table>\n",
    "\n",
    "To see this, note that\n",
    "<p style='text-align: center;'>(<em>x</em> &minus; 1)&middot;<em>f</em>(<em>x</em>) = <em>x</em>&middot;<em>f</em>(<em>x</em>) &minus; <em>f</em>(<em>x</em>) = \n",
    "(<em>x</em> + <em>x</em><sup>2</sup> + <em>x</em><sup>3</sup> + &#8943; + <em>x</em><sup><em>n</em>&minus;1</sup> + <em>x<sup>n</sup></em>) &minus; \n",
    "(1 + <em>x</em> + <em>x</em><sup>2</sup> + <em>x</em><sup>3</sup> + &#8943; + <em>x</em><sup><em>n</em>&minus;2</sup> + <em>x</em><sup><em>n</em>&minus;1</sup>) \n",
    "= <em>x<sup>n</sup></em> &minus; 1.</p>\n",
    "To see whether 1 is a double root, we observe that\n",
    "\n",
    "<table align=\"center\" border=\"0\" cellspacing=\"0\" cellpadding=\"0\">\n",
    "  <tr>\n",
    "    <td></td>\n",
    "    <td align=\"center\" valign=\"top\">&ensp;<em>n</em> &minus; 1&ensp;</td>\n",
    "    <td></td>\n",
    "  </tr>\n",
    "  <tr>\n",
    "    <td align=\"right\"><em>f</em>(1) = </td>\n",
    "    <td align=\"center\" valign=\"bottom\"><font face=\"Times New Roman, Times, serif\" size=\"+4\">&sum;</font></td>\n",
    "    <td align=\"left\">1<sup><em>k</em></sup> = 1<sup>0</sup> + 1<sup>1</sup> + 1<sup>2</sup> + 1<sup>3</sup> + &#8943; + 1<sup><em>n</em>&minus;2</sup> + 1<sup><em>n</em>&minus;1</sup> \n",
    "    = <em>n</em>.</td>\n",
    "  </tr>\n",
    "  <tr>\n",
    "    <td></td>\n",
    "    <td align=\"center\" valign=\"top\">&ensp;<em>k</em> = 0&ensp;</td>\n",
    "    <td></td>\n",
    "  </tr>\n",
    "</table>\n",
    "\n",
    "<br>\n",
    "Thus, <em>f</em>(1) is zero if, and only if, <em>n</em> is a multiple of the characteristic of <em>F</em>.  Therefore, 1 is a double root of <em>f</em>(<em>x</em>) precisely \n",
    "when the characteristic is positive and divides <em>n</em>.<br><br>\n",
    "\n",
    "Now suppose that <em>n</em> is not a multiple of the characteristic, and that <em>r</em> is a double root of <em>x<sup>n</sup></em> &minus; 1.  Then<br><br>\n",
    "<table align=\"center\" border=\"0\" cellspacing=\"0\" cellpadding=\"0\">\n",
    "  <tr>\n",
    "    <td align=\"center\"><font style=\"text-decoration:underline\"><em>x&#8319;</em> &minus; 1</font></td>\n",
    "  </tr>\n",
    "  <tr>\n",
    "    <td align=\"center\">(<em>x</em> &minus; <em>r</em>)<sup>2</sup></td>\n",
    "  </tr>\n",
    "</table>\n",
    "is a polynomial in <em>F</em>[<em>x</em>]. If we replace <em>x</em> with <em>x</em>&middot;<em>r</em>, we get\n",
    "<table align=\"center\" border=\"0\" cellspacing=\"0\" cellpadding=\"0\">\n",
    "  <tr>\n",
    "    <td align=\"center\"><font style=\"text-decoration:underline\">(<em>x</em>&middot;<em>r</em>)<em>&#8319;</em> &minus; 1</font></td>\n",
    "    <td rowspan = \"2\" align=\"center\">&ensp;=&ensp;</td>\n",
    "    <td align=\"center\"><font style=\"text-decoration:underline\"><em>x&#8319;</em>&middot;<em>r&#8319;</em> &minus; 1</font></td>\n",
    "    <td rowspan = \"2\" align=\"center\">&ensp;=&ensp;</td>\n",
    "    <td align=\"center\"><font style=\"text-decoration:underline\">&emsp;<em>x&#8319;</em> &minus; 1&emsp;</font></td>\n",
    "  </tr>\n",
    "  <tr>\n",
    "    <td align=\"center\">(<em>x</em>&middot;<em>r</em> &minus; <em>r</em>)<sup>2</sup></td>\n",
    "    <td align=\"center\">(<em>x</em> &minus; 1)<sup>2</sup>&middot;<em>r</em><sup>2</sup></td>\n",
    "    <td align=\"center\">(<em>x</em> &minus; 1)<sup>2</sup>&middot;<em>r</em><sup>2</sup></td>\n",
    "  </tr>\n",
    "</table>\n",
    "\n",
    "<br>\n",
    "since <em>r<sup>n</sup></em> = 1.  However, we have already shown that 1 is not a double root of <em>x<sup>n</sup></em> &minus; 1, so the right hand side of this \n",
    "equation cannot be a polynomial.  Thus, <em>r</em> is not a double root whenever <em>n</em> is not a multiple of the characteristic.<br><br>\n",
    "\n",
    "<a href=\"#lem135ret\">Return to text</a>"
   ]
  },
  {
   "cell_type": "markdown",
   "id": "de5777",
   "metadata": {
    "collapsed": false
   },
   "source": [
    "<br><br><br><br><br><br><br><br><br><br><br><br><br><br><br><br><br><br><br><br><br><br><br><br><br><br><br><br><br><br><br><br><br><br><br><br><br><br><br><br><br><br>"
   ]
  },
  {
   "cell_type": "markdown",
   "id": "f85f20",
   "metadata": {
    "collapsed": false
   },
   "source": [
    "<a name=\"theor132\" id=\"theor132\"></a>\n",
    "Proof of Theorem 13.2:<br><br>\n",
    "\n",
    "We see from Corollary 13.4 that &Phi;<sub><em>n</em></sub>(<em>x</em>) has integer coefficients.  Let <em>f</em>(<em>x</em>) be an irreducible factor of \n",
    "&Phi;<sub><em>n</em></sub>(<em>x</em>), with leading coefficient <em>x<sup>n</sup></em>.  Our goal is to show \n",
    "that <em>f</em>(<em>x</em>) = &Phi;<sub><em>n</em></sub>(<em>x</em>).  Since &Phi;<sub><em>n</em></sub>(<em>x</em>) divides <em>x<sup>n</sup></em> &minus; 1, \n",
    "we have <em>x<sup>n</sup></em> &minus; 1 = <em>f</em>(<em>x</em>)&middot;<em>g</em>(<em>x</em>) for some <em>g</em>(<em>x</em>) &isin; &#8484;[<em>x</em>].\n",
    "Suppose <em>y</em> = <em>&omega;<sub>n</sub><sup>s</sup></em> is a complex root of <em>f</em>(<em>x</em>), which is a primitive <em>n</em><sup>th</sup> root of unity since \n",
    "it is also a root of &Phi;<sub><em>n</em></sub>(<em>x</em>), so <em>s</em> will be coprime to <em>n</em>. Let <em>p</em> be a prime that does not divide <em>n</em>.  We want \n",
    "to show that <em>y<sup>p</sup></em> is also a root of <em>f</em>(<em>x</em>).<br><br>\n",
    "\n",
    "Suppose <em>y<sup>p</sup></em> = <em>&omega;<sub>n</sub><sup>s p</sup></em> is not a root of <em>f</em>(<em>x</em>).  Since <em>y<sup>p</sup></em> is also a \n",
    "primitive <em>n</em><sup>th</sup> root of unity, &Phi;<sub><em>n</em></sub>(<em>y<sup>p</sup></em>) = 0, \n",
    "so <em>f</em>(<em>y<sup>p</sup></em>)&middot;<em>g</em>(<em>y<sup>p</sup></em>) = 0.  Since we are assuming that <em>f</em>(<em>y<sup>p</sup></em>) &ne; 0, we see \n",
    "that <em>g</em>(<em>y<sup>p</sup></em>) = 0.  In particular, this means that <em>y</em> is a root of <em>g</em>(<em>x<sup>p</sup></em>).<br><br>\n",
    "\n",
    "Since <em>y</em> is a root of the irreducible polynomial <em>f</em>(<em>x</em>), and also a root of <em>g</em>(<em>x<sup>p</sup></em>), we see that <em>f</em>(<em>x</em>) \n",
    "is a factor of <em>g</em>(<em>x<sup>p</sup></em>) in &#8484;[<em>x</em>].  Hence, we can write \n",
    "<em>g</em>(<em>x<sup>p</sup></em>) = <em>f</em>(<em>x</em>)&middot;<em>h</em>(<em>x</em>) for some <em>h</em>(<em>x</em>) in &#8484;[<em>x</em>].<br><br>\n",
    "\n",
    "We now consider the polynomials <em>F</em>(<em>x</em>), <em>G</em>(<em>x</em>), and <em>H</em>(<em>x</em>) to be the polynomials <em>f</em>(<em>x</em>), \n",
    "<em>g</em>(<em>x</em>), and <em>h</em>(<em>x</em>) modulo <em>p</em> in <em>Z<sub>p</sub></em>[<em>x</em>].  Because of the Frobenius \n",
    "automorphism, <em>G</em>(<em>x</em>)<sup><em>p</em></sup> = <em>G</em>(<em>x<sup>p</sup></em>) = <em>F</em>(<em>x</em>)&middot;<em>H</em>(<em>x</em>) in \n",
    "<em>Z<sub>p</sub></em>[<em>x</em>].  Since <em>Z<sub>p</sub></em>[<em>x</em>] is a UFD, <em>F</em>(<em>x</em>) and <em>G</em>(<em>x</em>) have a common irreducible factor, \n",
    "say <em>m</em>(<em>x</em>), in <em>Z<sub>p</sub></em>[<em>x</em>].  This would indicate that <em>m</em>(<em>x</em>) is a repeated factor of <em>x<sup>n</sup></em> &minus; 1 \n",
    "in <em>Z<sub>p</sub></em>[<em>x</em>].  But then <em>x<sup>n</sup></em> &minus; 1 would have a multiple root \n",
    "in <em>Z<sub>p</sub></em>[<em>x</em>]/&lang;<em>m</em>(<em>x</em>)&rang;, which contradicts Lemma 13.5.  Thus, we find \n",
    "that <em>&omega;<sub>n</sub><sup>s p</sup></em> = <em>y<sup>p</sup></em> is a root of <em>f</em>(<em>x</em>).<br><br>  \n",
    "\n",
    "At this point, we have shown that whenever <em>&omega;<sub>n</sub><sup>s</sup></em> is a root of <em>f</em>(<em>x</em>), and the prime <em>p</em> is coprime \n",
    "to <em>n</em>, then <em>&omega;<sub>n</sub><sup>s p</sup></em> is a root of <em>f</em>(<em>x</em>).  By repeating this process, we see \n",
    "that <em>&omega;<sub>n</sub><sup>s k</sup></em> is a root of <em>f</em>(<em>x</em>) whenever <em>k</em> is coprime to <em>n</em>.  But this means that all \n",
    "primitive <em>n</em><sup>th</sup> roots of unity are roots of <em>f</em>(<em>x</em>), so <em>f</em>(<em>x</em>) = &Phi;<sub><em>n</em></sub>(<em>x</em>).  \n",
    "Hence &Phi;<sub><em>n</em></sub>(<em>x</em>) is irreducible.<br><br>\n",
    "\n",
    "\n",
    "<a href=\"#theor132ret\">Return to text</a>"
   ]
  },
  {
   "cell_type": "markdown",
   "id": "f60904",
   "metadata": {
    "collapsed": false
   },
   "source": [
    "<br><br><br><br><br><br><br><br><br><br><br><br><br><br><br><br><br><br><br><br><br><br><br><br><br><br><br><br><br><br><br><br><br><br><br><br><br><br><br><br><br><br>"
   ]
  },
  {
   "cell_type": "markdown",
   "id": "8bae03",
   "metadata": {
    "collapsed": false
   },
   "source": [
    "<a name=\"prop138\" id=\"prop138\"></a>\n",
    "Proof of Proposition 13.8:<br><br>\n",
    "\n",
    "Let <em>h</em>(<em>x</em>) be an irreducible factor of <em>g</em>(<em>x</em>), and let <em>K</em> be the \n",
    "field <em>Z<sub>p</sub></em>[<em>x</em>]/&lang;<em>h</em>(<em>x</em>)&rang;.  We wish to show that the order of the field <em>K</em> is <em>p<sup>n</sup></em>, since by \n",
    "Proposition 13.2 this would indicate that the degree of <em>h</em>(<em>x</em>) is <em>n</em>.  Let <em>y</em> be the element\n",
    "<p style='text-align: center;'><em>y</em> = <em>x</em> + &lang;<em>h</em>(<em>x</em>)&rang;</p>\n",
    "in the field <em>K</em>.  Then <em>h</em>(<em>y</em>) = 0, and hence <em>g</em>(<em>y</em>) = 0 in the field <em>K</em>.  In fact, <em>g</em>(<em>x</em>) would be a factor \n",
    "of\n",
    "<p style='text-align: center;'><em>x</em><sup>(<em>p&#8319;</em> &minus;1)</sup> &minus; 1.</p>\n",
    "and so <em>y<sup>p&#8319;</sup></em> = <em>y</em>. In other words, if <em>&fnof;</em>(<em>x</em>) is the Frobenius automorphism on <em>K</em>, \n",
    "then <em>&fnof;<sup>&thinsp;n</sup></em>(<em>y</em>) = <em>y</em>.  In fact, <em>&fnof;<sup>&thinsp;n</sup></em>(1) = 1, and <em>Z<sub>p</sub></em>[<em>x</em>] is generated \n",
    "by <em>x</em> and 1, so we find that <em>&fnof;<sup>&thinsp;n</sup></em>(<em>x</em>) = <em>x</em> for all <em>x</em> in <em>K</em>.  Thus, the polynomial\n",
    "<p style='text-align: center;'><em>x<sup>p&#8319;</sup></em> &minus; <em>x</em></p>\n",
    "has at least |<em>K</em>| roots. By Corollary 12.2, |<em>K</em>| can have at most <em>p<sup>n</sup></em> elements.<br><br>\n",
    "\n",
    "To show that |<em>K</em>| = <em>p<sup>n</sup></em>, let us suppose that |<em>K</em>| = <em>p<sup>i</sup></em>, where <em>i</em> &lt; <em>n</em>.  Then <em>i</em> is \n",
    "the smallest number for which <em>&fnof;<sup>&thinsp;i</sup></em>(<em>x</em>) = <em>x</em> for all <em>x</em> in <em>K</em>.  It is clear that <em>i</em> would have to \n",
    "divide <em>n</em>, since <nobr><em>&fnof;<sup>&thinsp;n</sup></em>(<em>x</em>)</nobr> is also <em>x</em> for all <em>x</em> in <em>K</em>.<br><br>\n",
    "\n",
    "Since <em>&fnof;<sup>&thinsp;i</sup></em>(<em>y</em>) = <em>y</em>, we see that <em>y</em> is a root of the polynomial\n",
    "<p style='text-align: center;'><em>x</em><sup>(<em>p&#8305;</em> &minus;1)</sup> &minus; 1.</p>\n",
    "By Corollary 13.5, &Phi;<sub>(<em>p</em></sub><em>&#8345;</em><sub>&minus;1)</sub>(<em>x</em>) divides\n",
    "<p style='text-align: center;'><em>j</em>(<em>x</em>) = (<em>x</em><sup>(<em>p&#8319;</em> &minus;1)</sup> &minus; 1) &frasl; (<em>x</em><sup>(<em>p&#8305;</em> &minus;1)</sup> &minus; 1)</p>\n",
    "<br>\n",
    "in &#8484;[<em>x</em>], since (<em>p<sup>i</sup></em> &minus; 1) divides (<em>p<sup>n</sup></em> &minus; 1).  Thus, \n",
    "in <em>Z<sub>p</sub></em>[<em>x</em>], <em>g</em>(<em>x</em>) divides <em>j</em>(<em>x</em>).\n",
    "Since <em>g</em>(<em>y</em>) = 0, and also <em>y</em><sup>(<em>p&#8305;</em> &minus;1)</sup> = 1, we see that <em>y</em> would be a multiple root \n",
    "of <nobr><em>x</em><sup>(<em>p&#8319;</em> &minus;1)</sup> &minus; 1.</nobr>  But by Lemma 13.5, this polynomial can only have a multiple root if (<em>p<sup>n</sup></em> &minus; 1) is \n",
    "a multiple of <em>p</em>, which it clearly isn't.  Thus, <em>i</em> = <em>n</em>, and so |<em>K</em>| = <em>p<sup>n</sup></em>.  By Proposition 13.2, the irreducible \n",
    "factors of <em>g</em>(<em>x</em>) over <em>Z<sub>p</sub></em>[<em>x</em>] all have degree <em>n</em>.<br><br>\n",
    "\n",
    "<a href=\"#prop138ret\">Return to text</a>"
   ]
  },
  {
   "cell_type": "markdown",
   "id": "ec437b",
   "metadata": {
    "collapsed": false
   },
   "source": [
    "<br><br><br><br><br><br><br><br><br><br><br><br><br><br><br><br><br><br><br><br><br><br><br><br><br><br><br><br><br><br><br><br><br><br><br><br><br><br><br><br><br><br>"
   ]
  },
  {
   "cell_type": "markdown",
   "id": "639ddf",
   "metadata": {
    "collapsed": false
   },
   "source": [
    "<a name=\"cor136\" id=\"cor136\"></a>\n",
    "Proof of Corollary 13.6:<br><br>\n",
    "\n",
    "We have already shown in Corollary 13.3 that finite fields of the same order are isomorphic, so all we have to show is that there is a field of \n",
    "order <em>p<sup>n</sup></em>.  By Proposition 13.9, the cyclotomic polynomial\n",
    "<p style='text-align: center;'>&Phi;<sub>(<em>p</em></sub><em>&#8345;</em><sub>&minus;1)</sub>(<em>x</em>)</p>\n",
    "factors in <em>Z<sub>p</sub></em>[<em>x</em>] into irreducible factors of degree <em>n</em>.  If we let <em>A</em>(<em>x</em>) be one of those irreducible factors, then \n",
    "by Proposition 13.2, the field \n",
    "<p style='text-align: center;'><em>K</em> = <em>Z<sub>p</sub></em>[<em>x</em>]/&lang;<em>A</em>(<em>x</em>)&rang;</p>\n",
    "has order <em>p<sup>n</sup></em>.<br><br> \n",
    "\n",
    "<a href=\"#cor136ret\">Return to text</a>"
   ]
  },
  {
   "cell_type": "markdown",
   "id": "517812",
   "metadata": {
    "collapsed": false
   },
   "source": [
    "<br><br><br><br><br><br><br><br><br><br><br><br><br><br><br><br><br><br><br><br><br><br><br><br><br><br><br><br><br><br><br><br><br><br><br><br><br><br><br><br><br><br>"
   ]
  },
  {
   "cell_type": "markdown",
   "id": "49d8e9",
   "metadata": {
    "collapsed": false
   },
   "source": [
    "<a name=\"sec13p\" id=\"sec13p\"></a>\n",
    "<h1><em>SageMath</em> Interactive Problems</h1>\n",
    "\n",
    "<br>\n",
    "&sect;13.1 #18)<br> \n",
    "The polynomial <em>x</em><sup>4</sup> + <em>x</em> + 1 is irreducible in the field <em>Z</em><sub>2</sub>.  Use this polynomial to define a field of order 16 \n",
    "in <em>SageMath</em>.  Show that there is a subfield of order 4 in this field.  Is there a subfield of order 8 in this field?<br>"
   ]
  },
  {
   "cell_type": "markdown",
   "id": "feb2e3",
   "metadata": {
    "collapsed": false
   },
   "source": [
    "<br>\n",
    "&sect;13.1 #19)<br> \n",
    "The polynomial <em>x</em><sup>6</sup> + <em>x</em> + 1 is irreducible in the field <em>Z</em><sub>2</sub>.  Use this polynomial to define a field of order 64 \n",
    "in <em>SageMath</em>.  Show that there is a subfield of order 4 in this field.  Is there a subfield of order 8 in this field?<br>"
   ]
  },
  {
   "cell_type": "markdown",
   "id": "6d809e",
   "metadata": {
    "collapsed": false
   },
   "source": [
    "<br>\n",
    "&sect;13.1 #20)<br> \n",
    "The polynomial <em>x</em><sup>4</sup> + <em>x</em> + 2 is irreducible in the field <em>Z</em><sub>2</sub>.  Use this polynomial to define a field of order 81 \n",
    "in <em>SageMath</em>.  Show that there is a subfield of order 9 in this field.  Is there a subfield of order 27 in this field?<br>"
   ]
  },
  {
   "cell_type": "markdown",
   "id": "1101cb",
   "metadata": {
    "collapsed": false
   },
   "source": [
    "<br>\n",
    "&sect;13.2 #20)<br> \n",
    "First define <em>Z</em><sub>3</sub>[<em>x</em>] as follows:<br>"
   ]
  },
  {
   "cell_type": "code",
   "execution_count": 0,
   "id": "af399d",
   "metadata": {
    "collapsed": false
   },
   "outputs": [
   ],
   "source": [
    "InitDomain(3, \"x\")"
   ]
  },
  {
   "cell_type": "markdown",
   "id": "62654a",
   "metadata": {
    "collapsed": false
   },
   "source": [
    "<br>\n",
    "Then find the factorization of the polynomial <em>x</em><sup>3&sup3;</sup> &minus; <em>x</em>.  Show that \n",
    "all irreducible polynomials with a leading term of <em>x</em><sup>3</sup> are in this factorization.  For an  explanation see Problem 18.<br>"
   ]
  },
  {
   "cell_type": "markdown",
   "id": "68ee64",
   "metadata": {
    "collapsed": false
   },
   "source": [
    "<br>\n",
    "&sect;13.2 #21)<br> \n",
    "First define <em>Z</em><sub>2</sub>[<em>x</em>] as follows:<br>"
   ]
  },
  {
   "cell_type": "code",
   "execution_count": 0,
   "id": "a800e0",
   "metadata": {
    "collapsed": false
   },
   "outputs": [
   ],
   "source": [
    "InitDomain(2, \"x\")"
   ]
  },
  {
   "cell_type": "markdown",
   "id": "8a9090",
   "metadata": {
    "collapsed": false
   },
   "source": [
    "<br>\n",
    "Then find the factorization of the polynomial <em>x</em><sup>2&#8309;</sup> &minus; <em>x</em>.  Show that all irreducible polynomials of degree 5 are in this factorization.<br>"
   ]
  },
  {
   "cell_type": "markdown",
   "id": "7befc5",
   "metadata": {
    "collapsed": false
   },
   "source": [
    "<br> \n",
    "&sect;13.3 #16)<br>\n",
    "First define <em>Z</em><sub>2</sub>[<em>x</em>] in <em>SageMath</em>,<br>"
   ]
  },
  {
   "cell_type": "code",
   "execution_count": 0,
   "id": "4aa509",
   "metadata": {
    "collapsed": false
   },
   "outputs": [
   ],
   "source": [
    "InitDomain(2,\"x\")"
   ]
  },
  {
   "cell_type": "markdown",
   "id": "c93de8",
   "metadata": {
    "collapsed": false
   },
   "source": [
    "<br>\n",
    "and then show that the cyclotomic polynomial &Phi;<sub>(2</sub>&#8323;<sub>&minus;1)</sub>(<em>x</em>) factors in the field <em>Z</em><sub>2</sub> into irreducible \n",
    "polynomials of degree 3.  Show by process of elimination that the only irreducible polynomials of degree 3 are the ones given in this factorization.<br>"
   ]
  },
  {
   "cell_type": "markdown",
   "id": "8f2d0b",
   "metadata": {
    "collapsed": false
   },
   "source": [
    "<br>\n",
    "&sect;13.3 #17)<br>\n",
    "First define <em>Z</em><sub>2</sub>[<em>x</em>] in <em>SageMath</em> as in Problem 16.  Then show that the cyclotomic \n",
    "polynomial &Phi;<sub>(2</sub>&#8324;<sub>&minus;1)</sub>(<em>x</em>) factors in the field <em>Z</em><sub>2</sub> into irreducible polynomials of degree 4.  Find one \n",
    "more irreducible polynomial of degree 4 besides the ones given in this factorization.  (Hint: Factor the polynomial <em>x</em><sup>2&#8308;</sup> &minus; <em>x</em>.)<br>"
   ]
  },
  {
   "cell_type": "markdown",
   "id": "eae859",
   "metadata": {
    "collapsed": false
   },
   "source": [
    "<br>\n",
    "&sect;13.3 #18)<br>\n",
    "First define <em>Z</em><sub>2</sub>[<em>x</em>] in <em>SageMath</em> as in Problem 16.  Then show that the cyclotomic \n",
    "polynomial &Phi;<sub>(2</sub>&#8325;<sub>&minus;1)</sub>(<em>x</em>) factors in the field <em>Z</em><sub>2</sub> into irreducible polynomials of degree 5. Does \n",
    "this factorization give all of the irreducible polynomials of degree 5 over <em>Z</em><sub>5</sub>?<br>"
   ]
  },
  {
   "cell_type": "markdown",
   "id": "aeebb1",
   "metadata": {
    "collapsed": false
   },
   "source": [
    "<br>\n",
    "&sect;13.3 #19)<br>\n",
    "First define <em>Z</em><sub>3</sub>[<em>x</em>] in <em>SageMath</em>,<br>"
   ]
  },
  {
   "cell_type": "code",
   "execution_count": 0,
   "id": "711e69",
   "metadata": {
    "collapsed": false
   },
   "outputs": [
   ],
   "source": [
    "InitDomain(3, \"x\")"
   ]
  },
  {
   "cell_type": "markdown",
   "id": "2a0fed",
   "metadata": {
    "collapsed": false
   },
   "source": [
    "<br>\n",
    "and then show that the cyclotomic polynomial &Phi;<sub>(3</sub>&#8322;<sub>&minus;1)</sub>(<em>x</em>) factors in the field <em>Z</em><sub>3</sub> into irreducible \n",
    "polynomials of degree 2.  What irreducible quadratic polynomial in <em>Z</em><sub>3</sub> have we seen that is not in this list of factors?<br>"
   ]
  },
  {
   "cell_type": "markdown",
   "id": "fb7a51",
   "metadata": {
    "collapsed": false
   },
   "source": [
    "<br>\n",
    "&sect;13.3 #20)<br>\n",
    "Use <em>SageMath</em> to find the Conway polynomial of degree 6 over <em>Z</em><sub>2</sub>.  Show that raising a root of this polynomial to the 9<sup>th</sup> power produces a \n",
    "zero of the Conway polynomial of degree 3 over <em>Z</em><sub>2</sub>, and raising this root to the 21<sup>st</sup> power produces a zero of the Conway polynomial of degree 2 \n",
    "over <em>Z</em><sub>2</sub>.  Hence, the compatibility condition is satisfied.<br>"
   ]
  },
  {
   "cell_type": "markdown",
   "id": "8d556b",
   "metadata": {
    "collapsed": false
   },
   "source": [
    "</font>\n",
    "\n",
    "</body>\n",
    "\n",
    "</html>"
   ]
  }
 ],
 "metadata": {
  "kernelspec": {
   "argv": [
    "sage-10.0",
    "--python",
    "-m",
    "sage.repl.ipython_kernel",
    "--matplotlib=inline",
    "-f",
    "{connection_file}"
   ],
   "display_name": "SageMath 10.0",
   "env": {
   },
   "language": "sagemath",
   "metadata": {
    "cocalc": {
     "description": "Open-source mathematical software system",
     "priority": 10,
     "url": "https://www.sagemath.org/"
    }
   },
   "name": "sage-10.0",
   "resource_dir": "/ext/jupyter/kernels/sage-10.0"
  },
  "language_info": {
   "codemirror_mode": {
    "name": "ipython",
    "version": 3
   },
   "file_extension": ".py",
   "mimetype": "text/x-python",
   "name": "python",
   "nbconvert_exporter": "python",
   "pygments_lexer": "ipython3",
   "version": "3.7.10"
  }
 },
 "nbformat": 4,
 "nbformat_minor": 4
}