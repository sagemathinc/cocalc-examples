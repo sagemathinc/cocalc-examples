{
 "cells": [
  {
   "cell_type": "markdown",
   "id": "68371c",
   "metadata": {
    "collapsed": false
   },
   "source": [
    "<!-- Ring14 -->\n",
    "\n",
    "<html>\n",
    "<body>\n",
    "\n",
    "<!-- To make the size of the font bigger for presentations, change the following command from +1 to +2 -->\n",
    "\n",
    "<font size=\"+1\">\n",
    "\n",
    "<p style='font-size: 36px;font-family: Arial;font-style: italic;font-weight: bold;color: #FF00FF;background-color: #80FFFF;text-align: center;'>\n",
    "Abstract Algebra: An Interactive Approach, 3e\n",
    "</p>\n",
    "\n",
    "<p style='font-family: Geneva;font-style: italic;color: #0000FF;background-color: #FFFFFF;'>\n",
    "This notebook is provided with the textbook, &quot;Abstract Algebra: An Interactive Approach, 3rd Ed.&quot; by William Paulsen. Users of this notebook are encouraged to buy the textbook.\n",
    "</p>\n",
    "\n",
    "<p style='font-size: 36px;font-family: New York;font-weight: bold;color: #000000;background-color: #FFFFFF;text-align: center;border: 1px;border-style: \n",
    "solid;border-color: #000000;'>\n",
    "Chapter 14<br><br>\n",
    "The Theory of Fields\n",
    "</p>\n",
    "\n",
    "<p style='text-align: center;'>Initialization:  This cell MUST be evaluated first:</p>\n",
    "\n"
   ]
  },
  {
   "cell_type": "code",
   "execution_count": 0,
   "id": "f5d698",
   "metadata": {
    "collapsed": false
   },
   "outputs": [
   ],
   "source": [
    "load('absalgtext2.sage')"
   ]
  },
  {
   "cell_type": "markdown",
   "id": "57488d",
   "metadata": {
    "collapsed": false
   },
   "source": [
    "<br>\n",
    "<a href=\"#sec141\">Vector Spaces</a><br>\n",
    "<a href=\"#sec142\">Extension Fields</a><br>\n",
    "<a href=\"#sec143\">Splitting Fields</a><br>\n",
    "<a href=\"#sec14p\"><em>SageMath</em> Interactive Problems</a><br>"
   ]
  },
  {
   "cell_type": "markdown",
   "id": "a2dda7",
   "metadata": {
    "collapsed": false
   },
   "source": [
    "<a name=\"sec141\" id=\"sec141\"></a>\n",
    "<h1>Vector Spaces</h1>\n",
    "\n",
    "<br>\n",
    "In order to study fields in depth, we will first need a few results from a first year linear algebra course.  However, most linear algebra courses work with vectors \n",
    "and matrices with real numbers for entries, whereas we will generalize the notations to allow arbitrary fields.  Nonetheless, most of the proofs will follow the same way \n",
    "for arbitrary fields as for real numbers.<br><br>\n",
    "\n",
    "DEFINITION 14.1<br>\n",
    "Let <em>F</em> be a field.  We say that <em>V</em> is a <em>vector space</em> over <em>F</em> if <em>V</em> is an abelian group under addition (+), and for which there \n",
    "is defined a multiplication <em>a</em>&middot;<em>v</em> for all <em>a</em> &isin; <em>F</em> and <em>v</em> &isin; <em>V</em> such that:<br><br>\n",
    "\n",
    "1.&emsp;Whenever <em>a</em> &isin; <em>F</em> and <em>v</em> &isin; <em>V</em>, <em>a</em>&middot;<em>v</em> &isin; <em>V</em>.<br>\n",
    "2.&emsp;When <em>a</em> &isin; <em>F</em>, and <em>v</em>, <em>w</em> &isin; <em>V</em>, then <em>a</em>&middot;(<em>v</em> + <em>w</em>) = \n",
    "<em>a</em>&middot;<em>v</em> + <em>a</em>&middot;<em>w</em>.<br>\n",
    "3.&emsp;When <em>a</em>, <em>b</em> &isin; <em>F</em>, and <em>v</em> &isin; <em>V</em>, then (<em>a</em> + <em>b</em>)&middot;<em>v</em> = \n",
    "<em>a</em>&middot;<em>v</em> + <em>b</em>&middot;<em>v</em>.<br>\n",
    "4.&emsp;When <em>a</em>, <em>b</em> &isin; <em>F</em>, and <em>v</em> &isin; <em>V</em>, then (<em>a</em>&middot;<em>b</em>)&middot;<em>v</em> = \n",
    "<em>a</em>&middot;(<em>b</em>&middot;<em>v</em>).<br>\n",
    "5.&emsp;If <em>e</em> is the identity of <em>F</em>, then <em>e</em>&middot;<em>v</em> = <em>v</em> for all <em>v</em> &isin; <em>V</em>.<br><br>\n",
    "\n",
    "The members of <em>V</em> are called <em>vectors</em>.  The best way to get a feel for vector spaces is to give some examples.<br><br>\n",
    "\n",
    "EXAMPLE:<br>\n",
    "Consider the set of 3-tuples &lang;<em>u</em><sub>1</sub>, <em>u</em><sub>2</sub>, <em>u</em><sub>3</sub>&rang; where <em>u</em><sub>1</sub>, <em>u</em><sub>2</sub>, and \n",
    "<em>u</em><sub>3</sub> &isin; &#8477;.  Addition of two vectors is done component-wise, and \n",
    "<em>k</em>&middot;&lang;<em>u</em><sub>1</sub>, <em>u</em><sub>2</sub>, <em>u</em><sub>3</sub>&rang; = \n",
    "&lang;<em>k u</em><sub>1</sub>, <em>k u</em><sub>2</sub>, <em>k u</em><sub>3</sub>&rang; when <em>k</em> &isin; &#8477;.  This is a vector space over &#8477;, and can \n",
    "be denoted by &#8477;<sup>3</sup>.<br><br>\n",
    "\n",
    "EXAMPLE:<br>\n",
    "We can generalize the previous example using any field <em>F</em> in place of &#8477;, and \n",
    "consider <em>n</em>-tuples &lang;<em>u</em><sub>1</sub>, <em>u</em><sub>2</sub>, &hellip; <em>u<sub>n</sub></em>&rang;.  Addition is still defined component-wise, \n",
    "and <em>k</em>&middot;&lang;<em>u</em><sub>1</sub>, <em>u</em><sub>2</sub>, &hellip; <em>u<sub>n</sub></em>&rang; = \n",
    "&lang;<em>k</em>&middot;<em>u</em><sub>1</sub>, <em>k</em>&middot;<em>u</em><sub>2</sub>,&hellip; <em>k</em>&middot;<em>u<sub>n</sub></em>&rang;.  This will give us a \n",
    "vector space over <em>F</em>, which we can denote by <em>F<sup>n</sup></em>.<br><br>\n",
    "\n",
    "EXAMPLE:<br>\n",
    "Let <em>K</em> be a field, and <em>F</em> any subfield of <em>K</em>.  Then <em>K</em> is a vector space over <em>F</em>, defining <em>a</em>&middot;<em>v</em> as a \n",
    "product in the field <em>K</em>.  Property 5 follows from the fact that the identity of <em>F</em> must also be the identity of <em>K</em>.  The other properties follow \n",
    "from the distributive and associative properties of <em>K</em>.<br><br>\n",
    "\n",
    "This last example demonstrates the usefulness in studying vector spaces over a field <em>F</em>.  In fact, this is the example that we will concentrate on for the \n",
    "remainder of the chapter.  The next definition is the key to understanding the properties of a vector space.<br><br>\n",
    "\n",
    "DEFINITION 14.2<br>\n",
    "Let <em>V</em> be a vector space over a field <em>F</em>.  We say that a finite \n",
    "set <em>B</em> = {<em>x</em><sub>1</sub>, <em>x</em><sub>2</sub>, <em>x</em><sub>3</sub>, &hellip; <em>x<sub>n</sub></em>} of vectors in <em>V</em> are \n",
    "<em>linearly dependent</em> if there are elements <em>c</em><sub>1</sub>, <em>c</em><sub>2</sub>, &hellip; <em>c<sub>n</sub></em> &isin; <em>F</em>, not all zero, for which\n",
    "<p style='text-align: center;'><em>c</em><sub>1</sub> <em>x</em><sub>1</sub> + <em>c</em><sub>2</sub> <em>x</em><sub>2</sub> + \n",
    "<em>c</em><sub>3</sub> <em>x</em><sub>3</sub> + &#8943; + <em>c<sub>n</sub></em> <em>x<sub>n</sub></em> = 0.</p>\n",
    "We say that the vectors are linearly independent if they are not linearly dependent, that is, if the only way for\n",
    "<p style='text-align: center;'><em>c</em><sub>1</sub> <em>x</em><sub>1</sub> + <em>c</em><sub>2</sub> <em>x</em><sub>2</sub> + \n",
    "<em>c</em><sub>3</sub> <em>x</em><sub>3</sub> + &#8943; + <em>c<sub>n</sub></em> <em>x<sub>n</sub></em> = 0.</p>\n",
    "is for <em>c</em><sub>1</sub> = <em>c</em><sub>2</sub> = &#8943; = <em>c<sub>n</sub></em> = 0.<br><br>\n",
    "\n",
    "EXAMPLE 14.4<br>\n",
    "The vectors &lang;1, 4, &minus;1&rang;, &lang;2, &minus;3, 1&rang;, and &lang;4, 5, &minus;1&rang; are linearly dependent, since there is a nonzero solution to \n",
    "<em>c</em><sub>1</sub> &lang;1, 4, &minus;1&rang; + <em>c</em><sub>2</sub> &lang;2, &minus;3, 1&rang; + <em>c</em><sub>3</sub> &lang;4, 5, &minus;1&rang; = 0, namely, \n",
    "<em>c</em><sub>1</sub> = 2, <em>c</em><sub>2</sub> = 1, and <em>c</em><sub>3</sub> = &minus;1.  On the other hand, &lang;2, 0, 1&rang;, &lang;0, 0, 3&rang;, \n",
    "and &lang;1, 4, 0&rang; are linearly independent, since in order to get \n",
    "<em>c</em><sub>1</sub> &lang;2, 0, 1&rang; + <em>c</em><sub>2</sub> &lang;0, 0, 3&rang; + <em>c</em><sub>3</sub> &lang;1, 4, 0&rang; = 0, we need\n",
    "4 <em>c</em><sub>3</sub> = 0, 2 <em>c</em><sub>1</sub> + <em>c</em><sub>3</sub> = 0, and <em>c</em><sub>1</sub> + 3 <em>c</em><sub>2</sub> = 0.  This forces \n",
    "<em>c</em><sub>3</sub> = 0, <em>c</em><sub>1</sub> = 0, and <em>c</em><sub>2</sub> = 0, so there are no nonzero solutions.<br><br>\n",
    "\n",
    "DEFINITION 14.3<br>\n",
    "Let <em>V</em> be a vector space over a field <em>F</em>.  A finite set of \n",
    "vectors {<em>x</em><sub>1</sub>, <em>x</em><sub>2</sub>, <em>x</em><sub>3</sub>, &hellip; <em>x<sub>n</sub></em>} in <em>V</em> is called a <em>basis</em> of <em>V</em> \n",
    "over <em>F</em> if the set is linearly independent, and every element of <em>V</em> can be expressed in the form\n",
    "<p style='text-align: center;'><em>a</em><sub>1</sub> <em>x</em><sub>1</sub> + <em>a</em><sub>2</sub> <em>x</em><sub>2</sub> + \n",
    "<em>a</em><sub>3</sub> <em>x</em><sub>3</sub> + &#8943; + <em>a<sub>n</sub></em> <em>x<sub>n</sub></em>,</p>\n",
    "with <em>a</em><sub>1</sub>, <em>a</em><sub>2</sub>, <em>a</em><sub>3</sub>, &hellip; <em>a<sub>n</sub></em> in <em>F</em>.<br><br>\n",
    "\n",
    "Here are some examples, all of which are fairly routine to check:<br><br>\n",
    "1.&emsp;The complex numbers &#8450; have a basis {1, <em>i</em>} over the real numbers &#8477;.<br><br>\n",
    "2.&emsp;The quaternions &#8461; have a basis {1, <em>i</em>, <em>j</em>, <em>k</em>} over &#8477;<br><br>\n",
    "3.&emsp;The field &#8474;[&radic;<font style=\"text-decoration:overline\">2</font>] has a basis {1, &radic;<font style=\"text-decoration:overline\">2</font>} over the \n",
    "rational numbers &#8474;.<br><br>\n",
    "4.&emsp;Since a field is a vector space over a subfield, the set of real numbers &#8477; is a vector space over the rationals.  However, there can be no finite \n",
    "basis {<em>x</em><sub>1</sub>, <em>x</em><sub>2</sub>, <em>x</em><sub>3</sub>, &hellip; <em>x<sub>n</sub></em>} in &#8477; for which every real number could be expressed as\n",
    "<p style='text-align: center;'><em>a</em><sub>1</sub> <em>x</em><sub>1</sub> + <em>a</em><sub>2</sub> <em>x</em><sub>2</sub> + \n",
    "<em>a</em><sub>3</sub> <em>x</em><sub>3</sub> + &#8943; + <em>a<sub>n</sub></em> <em>x<sub>n</sub></em>,</p>\n",
    "with <em>a</em><sub>1</sub>, <em>a</em><sub>2</sub>, &hellip; <em>a<sub>n</sub></em> &isin; &#8474;, lest the set of reals be countable, which contradicts \n",
    "Cantor's diagonalization theorem (1.6).<br><br>\n",
    "\n",
    "There is an easy way to determine if a particular set of vectors is a basis."
   ]
  },
  {
   "cell_type": "markdown",
   "id": "f32436",
   "metadata": {
    "collapsed": false
   },
   "source": [
    "<a name=\"lem141ret\" id=\"lem141ret\"></a>  \n",
    "LEMMA 14.1<br>\n",
    "\n",
    "<em>B</em> = {<em>x</em><sub>1</sub>, <em>x</em><sub>2</sub>, <em>x</em><sub>3</sub>, &hellip; <em>x<sub>n</sub></em>} is a basis of a vector space <em>V</em> over \n",
    "<em>F</em> if, and only if, every element of <em>V</em> can be expressed <em>uniquely</em> in the form\n",
    "<p style='text-align: center;'><em>v</em> = <em>c</em><sub>1</sub> <em>x</em><sub>1</sub> + <em>c</em><sub>2</sub> <em>x</em><sub>2</sub> + \n",
    "<em>c</em><sub>3</sub> <em>x</em><sub>3</sub> + &#8943; + <em>c<sub>n</sub></em> <em>x<sub>n</sub></em>.</p>\n",
    "The ordered <em>n</em>-tuple &lang;<em>c</em><sub>1</sub>, <em>c</em><sub>2</sub>, <em>c</em><sub>3</sub>, &hellip; <em>c<sub>n</sub></em>&rang; is called \n",
    "the <em>coefficients</em> of <em>v</em> with respect to <em>B</em>.<br><br>\n",
    "\n",
    "<a href=\"#lem141\">Click here for the proof.</a>\n",
    "\n",
    "<p />\n",
    "We can define a basis in <em>SageMath</em> with the command <strong>ToBasis</strong>.<br>"
   ]
  },
  {
   "cell_type": "code",
   "execution_count": 0,
   "id": "1a7a70",
   "metadata": {
    "collapsed": false
   },
   "outputs": [
   ],
   "source": [
    "B = ToBasis([[1, 4, -1], [2, -3, 1], [4, 5, -1]])"
   ]
  },
  {
   "cell_type": "markdown",
   "id": "914646",
   "metadata": {
    "collapsed": false
   },
   "source": [
    "<br>\n",
    "Notice that we entered a list of lists, which <em>SageMath</em> interprets as a list of vectors.  This failed because, as we saw before, the set of \n",
    "vectors &lang;1, 4, -1&rang;, &lang;2, -3, 1&rang;, and &lang;4, 5, -1&rang; were linearly dependent.  Here is another \n",
    "attempt.<br>"
   ]
  },
  {
   "cell_type": "code",
   "execution_count": 0,
   "id": "08ffd6",
   "metadata": {
    "collapsed": false
   },
   "outputs": [
   ],
   "source": [
    "B = ToBasis([[2, 0, 1], [0, 0, 3], [1, 4, 0]])"
   ]
  },
  {
   "cell_type": "markdown",
   "id": "2051d5",
   "metadata": {
    "collapsed": false
   },
   "source": [
    "<br>\n",
    "This time, there was no error message, so we know that these are linearly independent.  Once we have defined a basis, we can find the \n",
    "coefficients <em>c</em><sub>1</sub>, <em>c</em><sub>2</sub>, &hellip; <em>c<sub>n</sub></em> for any element of the vector space.<br>"
   ]
  },
  {
   "cell_type": "code",
   "execution_count": 0,
   "id": "7af842",
   "metadata": {
    "collapsed": false
   },
   "outputs": [
   ],
   "source": [
    "Coefficients(B, [2, 3, 4])"
   ]
  },
  {
   "cell_type": "markdown",
   "id": "dfb2fa",
   "metadata": {
    "collapsed": false
   },
   "source": [
    "<br>\n",
    "This shows that\n",
    "<p style='text-align: center;'>&lang;2, 3, 4&rang; = <sup>5</sup>&frasl;<sub>8</sub>&lang;2, 0, 8&rang; + <sup>9</sup>&frasl;<sub>8</sub>&lang;0, 0, 3&rang; + \n",
    "<sup>3</sup>&frasl;<sub>4</sub>&lang;1, 4, 0&rang;.</p>"
   ]
  },
  {
   "cell_type": "markdown",
   "id": "135fcb",
   "metadata": {
    "collapsed": false
   },
   "source": [
    "<a name=\"lem142ret\" id=\"lem142ret\"></a>  \n",
    "LEMMA 14.2<br>\n",
    "\n",
    "Suppose that <em>V</em> is a vector space over <em>F</em>, and <em>B</em> = {<em>x</em><sub>1</sub>, <em>x</em><sub>2</sub>, <em>x</em><sub>3</sub>, &hellip; \n",
    "<em>x<sub>n</sub></em>} is a basis of <em>V</em> over <em>F</em>.  Then any set {<em>y</em><sub>1</sub>, <em>y</em><sub>2</sub>, <em>y</em><sub>3</sub>, &hellip; \n",
    "<em>y<sub>n</sub></em>, <em>y</em><sub><em>n</em>+1</sub>} of <em>n</em> + 1 elements of <em>V</em> is linearly dependent.<br><br>\n",
    "\n",
    "<a href=\"#lem142\">Click here for the proof.</a>\n",
    "\n",
    "<p />\n",
    "We can now use this lemma to show that any two bases of a finite extension must have the same number of elements."
   ]
  },
  {
   "cell_type": "markdown",
   "id": "281d04",
   "metadata": {
    "collapsed": false
   },
   "source": [
    "<a name=\"prop141ret\" id=\"prop141ret\"></a>\n",
    "PROPOSITION 14.1<br>\n",
    "\n",
    "Let <em>V</em> be a vector space over <em>F</em>.  If the sets <em>X</em> = {<em>x</em><sub>1</sub>, <em>x</em><sub>2</sub>, <em>x</em><sub>3</sub>, &hellip; \n",
    "<em>x<sub>n</sub></em>} and <em>Y</em> = {<em>y</em><sub>1</sub>, <em>y</em><sub>2</sub>, <em>y</em><sub>3</sub>, &hellip; \n",
    "<em>y<sub>m</sub></em>} are both bases of <em>V</em> over <em>F</em>, then <em>n</em> = <em>m</em>.<br><br>\n",
    "\n",
    "<a href=\"#prop141\">Click here for the proof.</a>\n",
    "\n",
    "<p />\n",
    "This proposition allows us to make the following definition.<br><br>\n",
    "\n",
    "DEFINITION 14.4<br>\n",
    "Let <em>V</em> be a vector space over <em>F</em>.  If there is a basis {<em>x</em><sub>1</sub>, <em>x</em><sub>2</sub>, <em>x</em><sub>3</sub>, &hellip; \n",
    "<em>x<sub>n</sub></em>} of <em>V</em> over <em>F</em>, we define the <em>dimension</em> of <em>V</em> over <em>F</em> to be the size <em>n</em> of the basis.  If there \n",
    "does not exist a finite basis, we say the dimension of <em>V</em> over <em>F</em> is <em>infinite</em>.<br><br>\n",
    "\n",
    "Here are some examples:<br><br>\n",
    "\n",
    "&#8477;<sup>3</sup> is a 3-dimensional vector space over &#8477;.<br><br>\n",
    "\n",
    "&#8450; is a 2-dimensional vector space over &#8477;.<br><br>\n",
    "\n",
    "The quaternions &#8461; is a 4-dimensional vector space over &#8477;.<br><br>\n",
    "\n",
    "&#8477; is an infinite-dimensional vector space over &#8474;.<br><br>\n",
    "\n",
    "EXAMPLE:<br>\n",
    "Since <em>Z</em><sub>3</sub> is a subfield of GF(9), we can view GF(9) as a vector space over <em>Z</em><sub>3</sub>.  Determine a basis for this vector space.<br><br>  \n",
    "\n",
    "The Conway polynomial of degree 2 over <em>Z</em><sub>3</sub> is:<br>"
   ]
  },
  {
   "cell_type": "code",
   "execution_count": 0,
   "id": "27a7d8",
   "metadata": {
    "collapsed": false
   },
   "outputs": [
   ],
   "source": [
    "ConwayPolynomial(3, 2)"
   ]
  },
  {
   "cell_type": "markdown",
   "id": "b8733b",
   "metadata": {
    "collapsed": false
   },
   "source": [
    "<br>\n",
    "so if we let <em>a</em> be a root of this polynomial, we can define GF(9) with the commands:<br>"
   ]
  },
  {
   "cell_type": "code",
   "execution_count": 0,
   "id": "1ea9bd",
   "metadata": {
    "collapsed": false
   },
   "outputs": [
   ],
   "source": [
    "InitDomain(3)\n",
    "AddFieldVar(\"a\")\n",
    "Define(a^2, a + 1)\n",
    "Field()"
   ]
  },
  {
   "cell_type": "markdown",
   "id": "fede1d",
   "metadata": {
    "collapsed": false
   },
   "source": [
    "<br>\n",
    "To find a basis, we can observe that every element of GF(9) can be written as <em>x</em> + <em>y a</em>, where <em>x</em> and <em>y</em> are \n",
    "in <em>Z</em><sub>3</sub>.  Thus, one possible basis would be the set <nobr>{1, <em>a</em>}.</nobr><br>"
   ]
  },
  {
   "cell_type": "code",
   "execution_count": 0,
   "id": "58e22f",
   "metadata": {
    "collapsed": false
   },
   "outputs": [
   ],
   "source": [
    "B = ToBasis([1, a])"
   ]
  },
  {
   "cell_type": "markdown",
   "id": "e2d614",
   "metadata": {
    "collapsed": false
   },
   "source": [
    "<br>\n",
    "We can now express every element of GF(9) in terms of this basis.  Thus,<br>"
   ]
  },
  {
   "cell_type": "code",
   "execution_count": 0,
   "id": "553370",
   "metadata": {
    "collapsed": false
   },
   "outputs": [
   ],
   "source": [
    "Coefficients(B, a^3)"
   ]
  },
  {
   "cell_type": "markdown",
   "id": "e54097",
   "metadata": {
    "collapsed": false
   },
   "source": [
    "<br>\n",
    "shows that <em>a</em><sup>3</sup> = 1 + 2 <em>a</em>.  We have shown that GF(9) is a 2-dimensional vector space over <em>Z</em><sub>3</sub>.<br><br>\n",
    "\n",
    "EXAMPLE:<br>\n",
    "By the same logic, GF(81) will be a 4-dimensional vector space over <em>Z</em><sub>3</sub>.  But can we also consider hence GF(81) is a vector space over GF(9)?  \n",
    "If so, find a basis.<br><br>\n",
    "\n",
    "The Conway polynomial of degree 4 over <em>Z</em><sub>3</sub> is:<br>"
   ]
  },
  {
   "cell_type": "code",
   "execution_count": 0,
   "id": "d59a7b",
   "metadata": {
    "collapsed": false
   },
   "outputs": [
   ],
   "source": [
    "ConwayPolynomial(3, 4)"
   ]
  },
  {
   "cell_type": "markdown",
   "id": "178f69",
   "metadata": {
    "collapsed": false
   },
   "source": [
    "<br>\n",
    "So we could define GF(81) by telling <em>SageMath</em> that the generator <em>q</em> raised to the 4<sup>th</sup> power is <em>q</em><sup>3</sup> + 1.<br><br>\n",
    "\n",
    "However, we ought to be able to define GF(81) as an extension of GF(9).  This means we need an irreducible polynomial in GF(9) for which the generator\n",
    "of GF(81) will satisfy.  Let us factor the above Conway polynomial in the field GF(9).<br>"
   ]
  },
  {
   "cell_type": "code",
   "execution_count": 0,
   "id": "1e7284",
   "metadata": {
    "collapsed": false
   },
   "outputs": [
   ],
   "source": [
    "AddFieldVar(\"x\")"
   ]
  },
  {
   "cell_type": "code",
   "execution_count": 0,
   "id": "b260b0",
   "metadata": {
    "collapsed": false
   },
   "outputs": [
   ],
   "source": [
    "factor(x^4 + 2*x^3 + 2)"
   ]
  },
  {
   "cell_type": "markdown",
   "id": "327b1b",
   "metadata": {
    "collapsed": false
   },
   "source": [
    "<br>\n",
    "This gives us two possible polynomials.  But we also have the compatibility condition, which says that \n",
    "the <nobr>(3<sup>4</sup> &minus; 1)/(3<sup>2</sup> &minus; 1) = 10th</nobr> power of\n",
    "the new generator <em>b</em> will be the standard generator <em>a</em> of GF(9).  Hence, we can also factor<br>"
   ]
  },
  {
   "cell_type": "code",
   "execution_count": 0,
   "id": "121b56",
   "metadata": {
    "collapsed": false
   },
   "outputs": [
   ],
   "source": [
    "factor(x^10 - a)"
   ]
  },
  {
   "cell_type": "markdown",
   "id": "60d19c",
   "metadata": {
    "collapsed": false
   },
   "source": [
    "<br>\n",
    "The only factor that is in both factorizations is <em>x</em><sup>2</sup> + (<em>a</em> + 2)<em>x</em> + <em>a</em>.  So we know that <em>b</em> satisfies this polynomial, \n",
    "so we can define <em>b</em><sup>2</sup> to be (1 + 2<em>a</em>)<em>b</em> + 2<em>a</em>."
   ]
  },
  {
   "cell_type": "code",
   "execution_count": 0,
   "id": "8ace42",
   "metadata": {
    "collapsed": false
   },
   "outputs": [
   ],
   "source": [
    "AddFieldVar(\"b\")"
   ]
  },
  {
   "cell_type": "code",
   "execution_count": 0,
   "id": "ab18ec",
   "metadata": {
    "collapsed": false
   },
   "outputs": [
   ],
   "source": [
    "Define(b^2, (1 + 2*a)*b + 2*a)"
   ]
  },
  {
   "cell_type": "markdown",
   "id": "d3d1d7",
   "metadata": {
    "collapsed": false
   },
   "source": [
    "<br>\n",
    "We can now define a basis of GF(81) over GF(9).<br>"
   ]
  },
  {
   "cell_type": "code",
   "execution_count": 0,
   "id": "1bfd1d",
   "metadata": {
    "collapsed": false
   },
   "outputs": [
   ],
   "source": [
    "B = ToBasis([1, a],[b, 2])"
   ]
  },
  {
   "cell_type": "markdown",
   "id": "b28af7",
   "metadata": {
    "collapsed": false
   },
   "source": [
    "<br>\n",
    "<br>\n",
    "Note that we included two lists for arguments of the <strong>ToBasis</strong> command.  The first list gives a basis for the root field <em>F</em>, which in this case \n",
    "is GF(9).  We can now find components for elements in GF(81).<br>"
   ]
  },
  {
   "cell_type": "code",
   "execution_count": 0,
   "id": "3ffc90",
   "metadata": {
    "collapsed": false
   },
   "outputs": [
   ],
   "source": [
    "Coefficients(B, b^2)"
   ]
  },
  {
   "cell_type": "markdown",
   "id": "3b3e7a",
   "metadata": {
    "collapsed": false
   },
   "source": [
    "<br>\n",
    "This tells us that <em>b</em><sup>2</sup> = (2<em>a</em> + 1)<em>b</em> + 2<em>a</em>.  We can check this in <em>SageMath</em>.<br>"
   ]
  },
  {
   "cell_type": "code",
   "execution_count": 0,
   "id": "ef2534",
   "metadata": {
    "collapsed": false
   },
   "outputs": [
   ],
   "source": [
    "b^2"
   ]
  },
  {
   "cell_type": "markdown",
   "id": "cbda95",
   "metadata": {
    "collapsed": false
   },
   "source": [
    "<br>\n",
    "This last example shows that it is possible to have a vector space over a vector space, if the latter vector space happens to be a field."
   ]
  },
  {
   "cell_type": "markdown",
   "id": "bfaf09",
   "metadata": {
    "collapsed": false
   },
   "source": [
    "<a name=\"prop142ret\" id=\"prop142ret\"></a>\n",
    "PROPOSITION 14.2<br>\n",
    "\n",
    "If <em>E</em> is a vector space over <em>F</em> of dimension <em>m</em>, which also happens to be a field, and <em>V</em> is a vector space over <em>E</em> of \n",
    "dimension <em>n</em>, then <em>V</em> is a vector space of <em>F</em> of dimension <em>m n</em>.  Furthermore, \n",
    "if {<em>x</em><sub>1</sub>, <em>x</em><sub>2</sub>, <em>x</em><sub>3</sub>, &hellip; <em>x<sub>m</sub></em>} is a basis of <em>E</em> over <em>F</em>, \n",
    "and {<em>y</em><sub>1</sub>, <em>y</em><sub>2</sub>, <em>y</em><sub>3</sub>, &hellip; <em>y<sub>n</sub></em>} is a basis of <em>V</em> over <em>E</em>, then the set\n",
    "<br><br>\n",
    "<table align=\"center\" border=\"0\" cellspacing=\"0\" cellpadding=\"0\">\n",
    "  <tr>\n",
    "    <td align=\"right\"><em>S</em> = {</td>\n",
    "    <td align=\"left\"><em>x</em><sub>1</sub> <em>y</em><sub>1</sub>, <em>x</em><sub>2</sub> <em>y</em><sub>1</sub>, <em>x</em><sub>3</sub> <em>y</em><sub>1</sub>, \n",
    "    &hellip; <em>x<sub>m</sub></em> <em>y</em><sub>1</sub>,</td>\n",
    "  </tr>\n",
    "  <tr>\n",
    "    <td></td>\n",
    "    <td align=\"left\"><em>x</em><sub>1</sub> <em>y</em><sub>2</sub>, <em>x</em><sub>2</sub> <em>y</em><sub>2</sub>, <em>x</em><sub>3</sub> <em>y</em><sub>2</sub>, \n",
    "    &hellip; <em>x<sub>m</sub></em> <em>y</em><sub>2</sub>,</td>\n",
    "  </tr>\n",
    "  <tr>\n",
    "    <td></td>\n",
    "    <td align=\"left\"><em>x</em><sub>1</sub> <em>y</em><sub>3</sub>, <em>x</em><sub>2</sub> <em>y</em><sub>3</sub>, <em>x</em><sub>3</sub> <em>y</em><sub>3</sub>, \n",
    "    &hellip; <em>x<sub>m</sub></em> <em>y</em><sub>3</sub>,</td>\n",
    "  </tr>\n",
    "  <tr>\n",
    "    <td></td>\n",
    "    <td align=\"center\">&hellip;&hellip;&hellip;&hellip;&hellip;</td>\n",
    "  </tr>  \n",
    "  <tr>\n",
    "    <td></td>\n",
    "    <td align=\"left\"><em>x</em><sub>1</sub> <em>y<sub>n</sub></em>, <em>x</em><sub>2</sub> <em>y<sub>n</sub></em>, <em>x</em><sub>3</sub> <em>y<sub>n</sub></em>, \n",
    "    &hellip; <em>x<sub>m</sub></em> <em>y<sub>n</sub></em>}</td>\n",
    "  </tr>\n",
    "</table>\n",
    "\n",
    "is a basis of <em>V</em> over <em>F</em>.<br><br>\n",
    "\n",
    "<a href=\"#prop142\">Click here for the proof.</a>\n",
    "\n",
    "<p />\n",
    "The main use of vector spaces in abstract algebra is in the case where the vector space happens to be a field.  We will explain this possibility in the next \n",
    "section.<br><br>"
   ]
  },
  {
   "cell_type": "markdown",
   "id": "86e239",
   "metadata": {
    "collapsed": false
   },
   "source": [
    "<a name=\"sec142\" id=\"sec142\"></a>\n",
    "<h1>Extension Fields</h1>\n",
    "\n",
    "<br>\n",
    "In the last section, we found that many of the examples of vector spaces turned out to also be fields.  We will give a special name to this situation.<br><br>\n",
    "\n",
    "DEFINITION 14.5<br>\n",
    "If <em>F</em> is a nontrivial subfield of the field <em>K</em>, and <em>K</em> is a finite dimensional vector space over <em>F</em>, we say that <em>K</em> is \n",
    "a <em>finite extension</em> of <em>F</em>.  We say the degree, or <em>dimension</em> of the extension is the size of a basis\n",
    "<p style='text-align: center;'>{<em>x</em><sub>1</sub>, <em>x</em><sub>2</sub>, <em>x</em><sub>3</sub>, &hellip; <em>x<sub>n</sub></em>}</p>\n",
    "of <em>K</em> over <em>F</em>.<br><br>\n",
    "\n",
    "For example, the &quot;complex numbers mod 3&quot;, or GF(9), contains <em>Z</em><sub>3</sub> as a subfield.  Clearly GF(9) is a 2-dimensional vector space \n",
    "over <em>Z</em><sub>3</sub>, so we can say that GF(9) is a 2-dimensional extension of <em>Z</em><sub>3</sub>.<br><br>\n",
    "\n",
    "Likewise, we can define GF(8) as follows:<br>"
   ]
  },
  {
   "cell_type": "code",
   "execution_count": 0,
   "id": "d62c07",
   "metadata": {
    "collapsed": false
   },
   "outputs": [
   ],
   "source": [
    "InitDomain(2)\n",
    "AddFieldVar(\"a\")\n",
    "Define(a^3, 1 + a)\n",
    "F = Field()\n",
    "F"
   ]
  },
  {
   "cell_type": "markdown",
   "id": "cb1923",
   "metadata": {
    "collapsed": false
   },
   "source": [
    "<br>\n",
    "This time, we see that every element can be expressed in the form\n",
    "<p style='text-align: center;'><em>x</em> + <em>a y</em> + <em>a</em><sup>2</sup> <em>z</em></p>\n",
    "where <em>x</em>, <em>y</em> and <em>z</em> are in <em>Z</em><sub>2</sub>.  Hence, {1, <em>a</em>, <em>a</em><sup>2</sup>} is a basis of GF(8) over \n",
    "<em>Z</em><sub>2</sub>, so GF(8) is a 3-dimensional extension of <em>Z</em><sub>2</sub>.<br>"
   ]
  },
  {
   "cell_type": "code",
   "execution_count": 0,
   "id": "d04c60",
   "metadata": {
    "collapsed": false
   },
   "outputs": [
   ],
   "source": [
    "B = ToBasis([1,a,a^2])"
   ]
  },
  {
   "cell_type": "code",
   "execution_count": 0,
   "id": "838558",
   "metadata": {
    "collapsed": false
   },
   "outputs": [
   ],
   "source": [
    "Coefficients(B, a^4)"
   ]
  },
  {
   "cell_type": "markdown",
   "id": "7e0bd1",
   "metadata": {
    "collapsed": false
   },
   "source": [
    "<br>\n",
    "Here are some other examples:<br><br>\n",
    "\n",
    "&#8450; is a 2-dimensional extension of &#8477;.<br><br>\n",
    "\n",
    "GF(27) is a 3-dimensional extension of <em>Z</em><sub>3</sub>, regardless of which basis we use.<br><br>\n",
    "\n",
    "It seems intuitively obvious that isomorphic fields have the same dimension over some field <em>F</em> contained in both of the fields.  Yet this is only true if \n",
    "the isomorphism <em>&#981;</em> maps the base field <em>F</em> to itself."
   ]
  },
  {
   "cell_type": "markdown",
   "id": "8df914",
   "metadata": {
    "collapsed": false
   },
   "source": [
    "<a name=\"prop143ret\" id=\"prop143ret\"></a>\n",
    "PROPOSITION 14.3<br>\n",
    "\n",
    "If <em>K</em> and <em>E</em> are two finite extensions of <em>F</em>, and suppose that there is an isomorphism <em>&#981;</em> from <em>K</em> onto <em>E</em> such \n",
    "that <em>&#981;</em>(<em>x</em>) = <em>x</em> for all <em>x</em> in <em>F</em>, then <em>K</em> and <em>E</em> have the same dimension over <em>F</em>.<br><br> \n",
    "\n",
    "<a href=\"#prop143\">Click here for the proof.</a>\n",
    "\n",
    "<p />\n",
    "We have already defined <em>F</em>[<em>x</em>] to be the smallest ring containing both <em>F</em> and the element <em>x</em>.  We would like to make a similar \n",
    "definition for the smallest <em>field</em> containing both <em>F</em> and <em>x</em>.<br><br>\n",
    "\n",
    "DEFINITION 14.6<br>\n",
    "Let <em>K</em> be a field, and let <em>E</em> be a field containing the field <em>K</em>.  Let <em>S</em> be a set of elements in <em>E</em>.  Let <em>L</em> denote \n",
    "the collection of all subfields of <em>E</em> that contain the field <em>K</em>, along with the set <em>S</em>.  Then we define\n",
    "<table align=\"center\" border=\"0\" cellspacing=\"0\" cellpadding=\"0\">\n",
    "  <tr>\n",
    "    <td align=\"right\"><em>K</em>(<em>S</em>) = </td>\n",
    "    <td align=\"center\"><font face=\"Times New Roman, Times, serif\" size=\"+4\">&cap;</font></td>\n",
    "    <td align=\"left\"><em>H</em>.&ensp;&ensp;</td>\n",
    "  </tr>\n",
    "  <tr>\n",
    "    <td></td>\n",
    "    <td align=\"center\" valign=\"top\"><em>H</em> &isin; <em>L</em></td>\n",
    "    <td></td>\n",
    "  </tr>\n",
    "</table>\n",
    "<br>\n",
    "That is, <em>K</em>(<em>S</em>) is the intersection of all subfields of <em>E</em> that contain both <em>K</em> and <em>S</em>.  If <em>S</em> = \n",
    "{<em>a</em><sub>1</sub>, <em>a</em><sub>2</sub>, <em>a</em><sub>3</sub>, &hellip; <em>a<sub>n</sub></em>}, we will write <em>K</em>(<em>a</em><sub>1</sub>, \n",
    "<em>a</em><sub>2</sub>, <em>a</em><sub>3</sub>, &hellip; <em>a<sub>n</sub></em>) for <em>K</em>(<em>S</em>).  Thus, if <em>S</em> consists of a single element <em>a</em>, \n",
    "we can write <em>K</em>(<em>a</em>) for <em>K</em>(<em>S</em>).<br><br>\n",
    "\n",
    "It is not difficult to see that this definition produces exactly what we want."
   ]
  },
  {
   "cell_type": "markdown",
   "id": "56b4ec",
   "metadata": {
    "collapsed": false
   },
   "source": [
    "<a name=\"lem143ret\" id=\"lem143ret\"></a>\n",
    "LEMMA 14.3<br>\n",
    "\n",
    "Let <em>K</em> be a subfield of <em>E</em>, and let <em>S</em> be a collection of elements of <em>E</em>.  Then <em>K</em>(<em>S</em>) is the smallest field that \n",
    "contains both <em>K</em> and the elements <em>S</em>.<br><br>\n",
    "\n",
    "<a href=\"#lem143\">Click here for the proof.</a>\n",
    "\n",
    "<p />\n",
    "For example, If <em>K</em> is the real numbers, and <em>i</em> = &radic;<font style=\"text-decoration:overline\">&minus;1</font>, then &#8477;(<em>i</em>) gives us the \n",
    "complex numbers &#8450;.  The field &#8474;(&radic;<font style=\"text-decoration:overline\">2</font>) is the smallest field containing &#8474; and \n",
    "&radic;<font style=\"text-decoration:overline\">2</font>, which happens to be the same thing as the \n",
    "ring &#8474;[&radic;<font style=\"text-decoration:overline\">2</font>].<br><br>\n",
    "\n",
    "We have yet to produce any field extensions in <em>SageMath</em> besides the finite fields of the last chapter.  Yet the strategy for defining a field extension is \n",
    "very similar to that of defining a finite field.  We begin by finding an irreducible polynomial <em>f</em>(<em>x</em>) in the field <em>F</em>, and creating \n",
    "the field <em>K</em> = <em>F</em>[<em>x</em>]/&lang;<em>f</em>(<em>x</em>)&rang;."
   ]
  },
  {
   "cell_type": "markdown",
   "id": "c1616c",
   "metadata": {
    "collapsed": false
   },
   "source": [
    "<a name=\"prop144ret\" id=\"prop144ret\"></a>\n",
    "PROPOSITION 14.4<br>\n",
    "\n",
    "Let <em>F</em> be a field, and let <em>f</em>(<em>x</em>) be an irreducible polynomial in <em>F</em>[<em>x</em>] of degree <em>n</em>.  Then the \n",
    "field <em>K</em> = <em>F</em>[<em>x</em>]/&lang;<em>f</em>(<em>x</em>)&rang; is a finite extension of <em>F</em> of dimension <em>n</em>.<br><br> \n",
    "\n",
    "<a href=\"#prop144\">Click here for the proof.</a>\n",
    "\n",
    "<p />\n",
    "\n",
    "EXAMPLE:<br>\n",
    "Let <em>F</em> be the field of rational numbers, and let <em>f</em>(<em>x</em>) = <em>x</em><sup>3</sup> &minus; 2.  Form the field extension \n",
    "&#8474;[<em>x</em>]/&lang;<em>x</em><sup>3</sup> &minus; 2&rang; in <em>SageMath</em>.<br><br>\n",
    "\n",
    "Since the characteristic of &#8474; is 0, we begin the definition by the command<br>"
   ]
  },
  {
   "cell_type": "code",
   "execution_count": 0,
   "id": "2a6969",
   "metadata": {
    "collapsed": false
   },
   "outputs": [
   ],
   "source": [
    "InitDomain(0)"
   ]
  },
  {
   "cell_type": "markdown",
   "id": "3884fa",
   "metadata": {
    "collapsed": false
   },
   "source": [
    "<br>\n",
    "Next, we let a new variable <em>a</em> be a root to the equation <em>x</em><sup>3</sup> &minus; 2.  That is, we define <em>a</em><sup>3</sup> to be 2.<br>"
   ]
  },
  {
   "cell_type": "code",
   "execution_count": 0,
   "id": "b607f9",
   "metadata": {
    "collapsed": false
   },
   "outputs": [
   ],
   "source": [
    "AddFieldVar(\"a\")\n",
    "Define(a^3, 2)"
   ]
  },
  {
   "cell_type": "markdown",
   "id": "b1bfad",
   "metadata": {
    "collapsed": false
   },
   "source": [
    "<br>\n",
    "That's all there is to it!  The basis of this extension field is {1, <em>a</em>, <em>a</em><sup>2</sup>}.  We can verify this with <em>SageMath</em>.<br>"
   ]
  },
  {
   "cell_type": "code",
   "execution_count": 0,
   "id": "613072",
   "metadata": {
    "collapsed": false
   },
   "outputs": [
   ],
   "source": [
    "B = ToBasis([1, a, a^2])"
   ]
  },
  {
   "cell_type": "markdown",
   "id": "864513",
   "metadata": {
    "collapsed": false
   },
   "source": [
    "<br>\n",
    "We can also do divisions in this field.<br>"
   ]
  },
  {
   "cell_type": "code",
   "execution_count": 0,
   "id": "1d5088",
   "metadata": {
    "collapsed": false
   },
   "outputs": [
   ],
   "source": [
    "1/(a + a^2)"
   ]
  },
  {
   "cell_type": "markdown",
   "id": "ad09d5",
   "metadata": {
    "collapsed": false
   },
   "source": [
    "<br>\n",
    "EXPERIMENT:<br>\n",
    "Define the field &#8474;(&radic;<font style=\"text-decoration:overline\">2</font>) in <em>SageMath</em> using similar commands.  What is the basis of the field?  Then have <em>SageMath</em> simplify the expression<br><br>\n",
    "<table align=\"center\" border=\"0\" cellspacing=\"0\" cellpadding=\"0\">\n",
    "  <tr>\n",
    "    <td align=\"center\" valign=\"bottom\"><font style=\"text-decoration:underline\">2 <em>a</em> &minus; 3</font></td>\n",
    "    <td rowspan = \"2\" align=\"right\">&emsp;where <em>a</em> = &radic;<font style=\"text-decoration:overline\">2</font>.</td>\n",
    "  </tr>\n",
    "  <tr>\n",
    "    <td align=\"center\" valign=\"top\">5 <em>a</em> + 2</td>\n",
    "  </tr>\n",
    "</table>"
   ]
  },
  {
   "cell_type": "markdown",
   "id": "c36955",
   "metadata": {
    "collapsed": false
   },
   "source": [
    "<br>\n",
    "Although this demonstrates that any extension field of the form <em>F</em>[<em>x</em>]/&lang;<em>f</em>(<em>x</em>)&rang; can be entered into <em>SageMath</em>, we would like to show \n",
    "that <em>any</em> finite extension of a field can be entered into <em>SageMath</em> in the same way.  That is, we must show that any finite extension of <em>F</em> is \n",
    "isomorphic to <em>F</em>[<em>x</em>]/&lang;<em>f</em>(<em>x</em>)&rang; for some polynomial <em>f</em>(<em>x</em>)."
   ]
  },
  {
   "cell_type": "markdown",
   "id": "7777a6",
   "metadata": {
    "collapsed": false
   },
   "source": [
    "<a name=\"prop145ret\" id=\"prop145ret\"></a>\n",
    "PROPOSITION 14.5<br>\n",
    "\n",
    "Suppose a field <em>K</em> is a finite extension of <em>F</em> of dimension <em>n</em>.  Let <em>y</em> be an element of <em>K</em>.  Then there is an irreducible \n",
    "polynomial <em>f</em>(<em>x</em>) in <em>F</em>[<em>x</em>] of degree at most <em>n</em> such that <em>f</em>(<em>y</em>) = 0.  That is, when <em>f</em>(<em>x</em>) \n",
    "is treated as a polynomial in <em>K</em>[<em>x</em>], <em>y</em> is a root of <em>f</em>(<em>x</em>).  Furthermore, there is a unique polynomial of lowest degree \n",
    "that satisfies these conditions and for which the leading coefficient is equal to 1.<br><br>\n",
    "\n",
    "<a href=\"#prop145\">Click here for the proof.</a>\n",
    "\n",
    "<p />\n",
    "The irreducible polynomial determined by this proposition is important enough to warrant a special notation.<br><br>\n",
    "\n",
    "DEFINITION 14.7<br>\n",
    "If a field <em>K</em> is a finite extension of <em>F</em>, and <em>a</em> is an element of <em>K</em>, we define the polynomial <em>f</em>(<em>x</em>) given by \n",
    "Proposition 14.5 that has a leading coefficient of 1 to be the <em>irreducible polynomial</em> of <em>a</em> over <em>F</em>, denoted\n",
    "<p style='text-align: center;'>Irr<sub><em>F</em></sub>(<em>a</em>, <em>x</em>).</p>\n",
    "For example, Irr<sub>&#8474;</sub>(&radic;<font style=\"text-decoration:overline\">2</font>, <em>x</em>) = <em>x</em><sup>2</sup> &minus; 2, since \n",
    "<em>x</em><sup>2</sup> &minus; 2 is the simplest polynomial with rational coefficients for which &radic;<font style=\"text-decoration:overline\">2</font> is a root.  Note \n",
    "that if we were to allow real coefficients, we could come up with a simpler polynomial:\n",
    "<p style='text-align: center;'>Irr<sub>&#8477;</sub>(&radic;<font style=\"text-decoration:overline\">2</font>, <em>x</em>) = \n",
    "<em>x</em> &minus; &radic;<font style=\"text-decoration:overline\">2</font>.</p>\n",
    "Here are some other examples.  If <em>i</em> = &radic;<font style=\"text-decoration:overline\">&minus;1</font>, we can see that the simplest polynomial over the real \n",
    "numbers containing <em>i</em> as a root is\n",
    "<p style='text-align: center;'>Irr<sub>&#8477;</sub>(<em>i</em>, <em>x</em>) = <em>x</em><sup>2</sup> + 1.</p>\n",
    "Finally, consider the number cos<span style=\"font-size:24px\">(</span><sup><em>&pi;</em></sup>&frasl;<sub>9</sub><span \n",
    "style=\"font-size:24px\">)</span>, which is a root of the polynomial 4 <em>x</em><sup>3</sup> &minus; 3 <em>x</em> &minus; \n",
    "<sup>1</sup>&frasl;<sub>2</sub>.  However, we want the leading coefficient of the polynomial to be 1, so we write\n",
    "<p style='text-align: center;'>Irr<sub>&#8474;</sub><span style=\"font-size:24px\">(</span>cos<span \n",
    "style=\"font-size:24px\">(</span><sup><em>&pi;</em></sup>&frasl;<sub>9</sub><span style=\"font-size:24px\">)</span>, <em>x</em><span \n",
    "style=\"font-size:24px\">)</span> = <em>x</em><sup>3</sup> &minus; <sup>3</sup>&frasl;<sub>4</sub> <em>x</em> &minus; <sup>1</sup>&frasl;<sub>8</sub>.</p>\n",
    "Once we find the irreducible polynomial for an element <em>a</em>, it is not hard to program <em>SageMath</em> to mimic the field &#8474;(<em>a</em>).  For example, let us \n",
    "enter the field &#8474;<span style=\"font-size:24px\">(</span>cos<span \n",
    "style=\"font-size:24px\">(</span><sup><em>&pi;</em></sup>&frasl;<sub>9</sub><span style=\"font-size:24px\">))</span> into <em>SageMath</em>.  If we let <em>a</em> = cos<span \n",
    "style=\"font-size:24px\">(</span><sup><em>&pi;</em></sup>&frasl;<sub>9</sub><span style=\"font-size:24px\">)</span>, we see that <em>a</em> satisfies \n",
    "<em>x</em><sup>3</sup> &minus; <sup>3</sup>&frasl;<sub>4</sub> <em>x</em> &minus; <sup>1</sup>&frasl;<sub>8</sub> = 0. If we put all terms besides the leading term on \n",
    "the other side of the equation, we find that a satisfies the equation\n",
    "<p style='text-align: center;'><em>x</em><sup>3</sup> = <sup>3</sup>&frasl;<sub>4</sub> <em>x</em> + <sup>1</sup>&frasl;<sub>8</sub>.</p>\n",
    "That is,\n",
    "<p style='text-align: center;'><em>a</em><sup>3</sup> = <sup>3</sup>&frasl;<sub>4</sub> <em>a</em> + <sup>1</sup>&frasl;<sub>8</sub>.</p>\n",
    "Let us enter this fact into <em>SageMath</em>.<br>"
   ]
  },
  {
   "cell_type": "code",
   "execution_count": 0,
   "id": "aab4aa",
   "metadata": {
    "collapsed": false
   },
   "outputs": [
   ],
   "source": [
    "InitDomain(0)\n",
    "AddFieldVar(\"a\")\n",
    "Define(a^3, 3*a/4 + 1/8)"
   ]
  },
  {
   "cell_type": "markdown",
   "id": "6e0934",
   "metadata": {
    "collapsed": false
   },
   "source": [
    "<br>\n",
    "The first command tells <em>SageMath</em> that we are working with a field of characteristic 0, and the other commands identify <em>a</em> as one solution to the above \n",
    "equation. That's all there is to it!  We can perform operations of this field such as<br>"
   ]
  },
  {
   "cell_type": "code",
   "execution_count": 0,
   "id": "996b51",
   "metadata": {
    "collapsed": false
   },
   "outputs": [
   ],
   "source": [
    "(2+a)*(3-2*a)"
   ]
  },
  {
   "cell_type": "code",
   "execution_count": 0,
   "id": "1824d4",
   "metadata": {
    "collapsed": false
   },
   "outputs": [
   ],
   "source": [
    "a^5"
   ]
  },
  {
   "cell_type": "code",
   "execution_count": 0,
   "id": "66493e",
   "metadata": {
    "collapsed": false
   },
   "outputs": [
   ],
   "source": [
    "1/a"
   ]
  },
  {
   "cell_type": "markdown",
   "id": "ad59a9",
   "metadata": {
    "collapsed": false
   },
   "source": [
    "<br>\n",
    "In this field, the <em>a</em> represents the number cos<span \n",
    "style=\"font-size:24px\">(</span><sup><em>&pi;</em></sup>&frasl;<sub>9</sub><span style=\"font-size:24px\">)</span> = 0.9396926... .  Have we really defined the \n",
    "field &#8474;<span style=\"font-size:24px\">(</span>cos<span \n",
    "style=\"font-size:24px\">(</span><sup><em>&pi;</em></sup>&frasl;<sub>9</sub><span style=\"font-size:24px\">))</span>?  Actually, we have defined the \n",
    "field &#8474;[<em>x</em>]/<span style=\"font-size:24px\">&lang;</span><em>x</em><sup>3</sup> &minus; <sup>3</sup>&frasl;<sub>4</sub> <em>x</em> &minus; \n",
    "<sup>1</sup>&frasl;<sub>8</sub><span style=\"font-size:24px\">&rang;</span> in <em>SageMath</em>, but we can prove that these two fields are isomorphic."
   ]
  },
  {
   "cell_type": "markdown",
   "id": "223cc0",
   "metadata": {
    "collapsed": false
   },
   "source": [
    "<a name=\"prop146ret\" id=\"prop146ret\"></a>\n",
    "PROPOSITION 14.6<br>\n",
    "\n",
    "Let <em>F</em> be a subfield of <em>K</em>, and suppose <em>f</em>(<em>x</em>) is an irreducible polynomial in <em>F</em>[<em>x</em>] that has a root <em>w</em> in the \n",
    "larger field <em>K</em>.  Then\n",
    "<p style='text-align: center;'><em>F</em>(<em>w</em>) &asymp; <em>F</em>[<em>x</em>]/&lang;<em>f</em>(<em>x</em>)&rang;.</p>\n",
    "\n",
    "<a href=\"#prop146\">Click here for the proof.</a>\n",
    "\n",
    "<p />\n",
    "Notice that the field &#8474;<span style=\"font-size:24px\">(</span>cos<span \n",
    "style=\"font-size:24px\">(</span><sup><em>&pi;</em></sup>&frasl;<sub>9</sub><span style=\"font-size:24px\">))</span> was three dimensional over &#8474;, since the basis could \n",
    "be given as {1, <em>a</em>, <em>a</em><sup>2</sup>}.  Also, the irreducible polynomial <em>x</em><sup>3</sup> &minus; <sup>3</sup>&frasl;<sub>4</sub> <em>x</em> &minus; \n",
    "<sup>1</sup>&frasl;<sub>8</sub> was a third degree polynomial.  This is not a coincidence, as we can easily prove."
   ]
  },
  {
   "cell_type": "markdown",
   "id": "4658f5",
   "metadata": {
    "collapsed": false
   },
   "source": [
    "<a name=\"cor141ret\" id=\"cor141ret\"></a>\n",
    "COROLLARY 14.1<br>\n",
    "\n",
    "Let <em>K</em> be a finite extension of a field <em>F</em>, and let <em>u</em> be an element in <em>K</em>.  If \n",
    "<em>f</em>(<em>x</em>) = Irr<sub><em>F</em></sub>(<em>u</em>, <em>x</em>) has degree <em>n</em>, then <em>F</em>(<em>u</em>) has dimension <em>n</em> over <em>F</em>.<br><br>\n",
    "\n",
    "<a href=\"#cor141\">Click here for the proof.</a>\n",
    "\n",
    "<p />\n",
    "Notice that we never had to tell <em>SageMath</em> that <em>a</em> = cos<span \n",
    "style=\"font-size:24px\">(</span><sup><em>&pi;</em></sup>&frasl;<sub>9</sub><span style=\"font-size:24px\">)</span> in our \n",
    "definition of &#8474;<span style=\"font-size:24px\">(</span>cos<span \n",
    "style=\"font-size:24px\">(</span><sup><em>&pi;</em></sup>&frasl;<sub>9</sub><span style=\"font-size:24px\">))</span>.  Rather, we simply told <em>SageMath</em> that \n",
    "<em>a</em> satisfies the equation\n",
    "<p style='text-align: center;'><em>a</em><sup>3</sup> = <sup>3</sup>&frasl;<sub>4</sub> <em>a</em> + <sup>1</sup>&frasl;<sub>8</sub>.</p>\n",
    "But there are two <em>other</em> solutions to this equation: &minus;cos<span \n",
    "style=\"font-size:24px\">(</span><sup>2<em>&pi;</em></sup>&frasl;<sub>9</sub><span style=\"font-size:24px\">)</span>, and cos<span \n",
    "style=\"font-size:24px\">(</span><sup>4<em>&pi;</em></sup>&frasl;<sub>9</sub><span style=\"font-size:24px\">)</span>.  How does <em>SageMath</em> know that the field is \n",
    "not &#8474;<span style=\"font-size:24px\">(</span>&minus;cos<span \n",
    "style=\"font-size:24px\">(</span><sup>2<em>&pi;</em></sup>&frasl;<sub>9</sub><span style=\"font-size:24px\">))</span> or &#8474;<span style=\"font-size:24px\">(</span>cos<span \n",
    "style=\"font-size:24px\">(</span><sup>4<em>&pi;</em></sup>&frasl;<sub>9</sub><span style=\"font-size:24px\">))</span>?<br><br>The answer is of course that these \n",
    "fields are both isomorphic to &#8474;<span style=\"font-size:24px\">(</span>cos<span \n",
    "style=\"font-size:24px\">(</span><sup><em>&pi;</em></sup>&frasl;<sub>9</sub><span style=\"font-size:24px\">))</span>, so <em>SageMath</em> doesn't need to know the exact value \n",
    "of <em>a</em>.  In fact, we can prove that if we start with isomorphic fields, and extend both of them by two elements for which the irreducible polynomials \n",
    "correspond, then the two field extensions will be isomorphic."
   ]
  },
  {
   "cell_type": "markdown",
   "id": "91a6ea",
   "metadata": {
    "collapsed": false
   },
   "source": [
    "<a name=\"prop147ret\" id=\"prop147ret\"></a>\n",
    "PROPOSITION 14.7<br>\n",
    "\n",
    "Let <em>&fnof;</em> be an isomorphism between a field <em>K</em> and a field <em>E</em>.  Let <em>M</em> be a finite extension of <em>K</em>, and let <em>u</em> be \n",
    "in <em>M</em>.  Let\n",
    "<p style='text-align: center;'><em>p</em>(<em>x</em>) = <em>c</em><sub>0</sub> + <em>c</em><sub>1</sub> <em>x</em> + <em>c</em><sub>2</sub> <em>x</em><sup>2</sup> + \n",
    "<em>c</em><sub>3</sub> <em>x</em><sup>3</sup> + &#8943; + <em>c<sub>n</sub></em> <em>x<sup>n</sup></em></p>\n",
    "be Irr<sub><em>K</em></sub>(<em>u</em>, <em>x</em>). Define\n",
    "<p style='text-align: center;'><em>h</em>(<em>x</em>) = <em>&fnof;</em>(<em>c</em><sub>0</sub>) + <em>&fnof;</em>(<em>c</em><sub>1</sub>) <em>x</em> + \n",
    "<em>&fnof;</em>(<em>c</em><sub>2</sub>) <em>x</em><sup>2</sup> + \n",
    "<em>&fnof;</em>(<em>c</em><sub>3</sub>) <em>x</em><sup>3</sup> + &#8943; + <em>&fnof;</em>(<em>c<sub>n</sub></em>) <em>x<sup>n</sup></em></p>\n",
    "which is in <em>E</em>[<em>x</em>].  Suppose there is a finite extension of <em>E</em> for which there is a root of <em>h</em>(<em>x</em>), called <em>v</em>.  Then there \n",
    "is an isomorphism <em>&mu;</em> from <em>K</em>(<em>u</em>) to <em>E</em>(<em>v</em>) for which <em>&mu;</em>(<em>u</em>) = <em>v</em>, and \n",
    "<em>&mu;</em>(<em>t</em>) = <em>&fnof;</em>(<em>t</em>) for all <em>t</em> in <em>K</em>.<br><br>\n",
    "\n",
    "<a href=\"#prop147\">Click here for the proof.</a>\n",
    "\n",
    "<p />\n",
    "The usual application of this proposition is when <em>K</em> and <em>E</em> are the same field, as in the case &#8474;<span style=\"font-size:24px\">(</span>cos<span \n",
    "style=\"font-size:24px\">(</span><sup><em>&pi;</em></sup>&frasl;<sub>9</sub><span style=\"font-size:24px\">))</span> and \n",
    "&#8474;<span style=\"font-size:24px\">(</span>&minus;cos<span \n",
    "style=\"font-size:24px\">(</span><sup>2<em>&pi;</em></sup>&frasl;<sub>9</sub><span style=\"font-size:24px\">))</span>, in which \n",
    "case we not only can prove that &#8474;<span style=\"font-size:24px\">(</span>cos<span \n",
    "style=\"font-size:24px\">(</span><sup><em>&pi;</em></sup>&frasl;<sub>9</sub><span style=\"font-size:24px\">))</span> and \n",
    "&#8474;<span style=\"font-size:24px\">(</span>&minus;cos<span \n",
    "style=\"font-size:24px\">(</span><sup>2<em>&pi;</em></sup>&frasl;<sub>9</sub><span style=\"font-size:24px\">))</span> are isomorphic, but we can impose further \n",
    "conditions on the isomorphism."
   ]
  },
  {
   "cell_type": "markdown",
   "id": "10ff71",
   "metadata": {
    "collapsed": false
   },
   "source": [
    "<a name=\"cor142ret\" id=\"cor142ret\"></a>\n",
    "COROLLARY 14.2<br>\n",
    "\n",
    "If <em>K</em> is a finite extension of a field <em>F</em>, and <em>u</em> and <em>v</em> are two elements in <em>K</em> such \n",
    "that Irr<sub><em>F</em></sub>(<em>u</em>, <em>x</em>) = Irr<sub><em>F</em></sub>(<em>v</em>, <em>x</em>), then there is an isomorphism <em>&mu;</em> between \n",
    "<em>F</em>(<em>u</em>) and <em>F</em>(<em>v</em>) such that <em>&mu;</em>(<em>u</em>) = <em>v</em>, and <em>&mu;</em>(<em>t</em>) = <em>t</em> for \n",
    "all <em>t</em> in <em>F</em>.<br><br>\n",
    "\n",
    "<a href=\"#cor142\">Click here for the proof.</a>\n",
    "\n",
    "<p />\n",
    "We discovered in Corollary 13.2 that every finite field could be expressed in the form <em>Z<sub>p</sub></em>[<em>x</em>]/&lang;<em>f</em>(<em>x</em>)&rang;, with \n",
    "<em>f</em>(<em>x</em>) an irreducible polynomial in <em>Z<sub>p</sub></em>[<em>x</em>].  \n",
    "It is natural to ask whether\n",
    "any finite extension of a field can be represented in the form <em>F</em>[<em>x</em>]/&lang;<em>f</em>(<em>x</em>)&rang; for some polynomial <em>f</em>(<em>x</em>) in \n",
    "<em>F</em>[<em>x</em>].  Although there are some fields that are exceptions, &#8474; and &#8477; are not among them.  \n",
    "Once we have proven this, we will be able to enter\n",
    "any finite extension of &#8474; or &#8477; into <em>SageMath</em>\n",
    "using the same technique that was used for finite fields."
   ]
  },
  {
   "cell_type": "markdown",
   "id": "6674f3",
   "metadata": {
    "collapsed": false
   },
   "source": [
    "<a name=\"sec143\" id=\"sec143\"></a>\n",
    "<h1>Splitting Fields</h1>\n",
    "\n",
    "<br>\n",
    "We have already seen that given an irreducible polynomial <em>f</em>(<em>x</em>) in <em>F</em>[<em>x</em>], we can construct a \n",
    "field <em>F</em>[<em>x</em>]/&lang;<em>f</em>(<em>x</em>)&rang; for which <em>f</em>(<em>x</em>) has a root in this new field.  This raises an interesting question:  Can we \n",
    "construct a field for which <em>f</em>(<em>x</em>) factors <em>completely</em> in the new field?  Let us demonstrate with some examples.<br><br>\n",
    "\n",
    "Let <em>f</em>(<em>x</em>) = <em>x</em><sup>3</sup> + <em>x</em><sup>2</sup> &minus; 2 <em>x</em> &minus; 1.  We begin by showing that this polynomial is irreducible \n",
    "over the rationals.<br>"
   ]
  },
  {
   "cell_type": "code",
   "execution_count": 0,
   "id": "eca1e4",
   "metadata": {
    "collapsed": false
   },
   "outputs": [
   ],
   "source": [
    "InitDomain(0, \"x\")\n",
    "factor(x^3 + x^2 - 2*x - 1)"
   ]
  },
  {
   "cell_type": "markdown",
   "id": "598fe9",
   "metadata": {
    "collapsed": false
   },
   "source": [
    "<br>\n",
    "The output is unchanged, indicating that the polynomial is irreducible.<br><br>\n",
    "\n",
    "If <em>a</em> is one root of this polynomial, we can define &#8474;(<em>a</em>) in <em>SageMath</em> as follows:<br>"
   ]
  },
  {
   "cell_type": "code",
   "execution_count": 0,
   "id": "eb7065",
   "metadata": {
    "collapsed": false
   },
   "outputs": [
   ],
   "source": [
    "AddFieldVar(\"a\")\n",
    "Define(a^3, - a^2 + 2*a + 1)"
   ]
  },
  {
   "cell_type": "markdown",
   "id": "505702",
   "metadata": {
    "collapsed": false
   },
   "source": [
    "<br>\n",
    "This defines a ring with characteristic 0, and containing an element <em>a</em> with <em>a</em><sup>3</sup> + <em>a</em><sup>2</sup> &minus; 2 <em>a</em> &minus; 1 = \n",
    "0.  We can now see if the polynomial factors over the new field.<br>"
   ]
  },
  {
   "cell_type": "code",
   "execution_count": 0,
   "id": "d84ee6",
   "metadata": {
    "collapsed": false
   },
   "outputs": [
   ],
   "source": [
    "factor(x^3 + x^2 - 2*x - 1)"
   ]
  },
  {
   "cell_type": "markdown",
   "id": "3c3324",
   "metadata": {
    "collapsed": false
   },
   "source": [
    "<br>\n",
    "This shows that the polynomial factors completely in the field &#8474;(<em>a</em>).  Recall that this is very similar to the case of finite fields.<br><br>\n",
    "\n",
    "EXPERIMENT:<br>\n",
    "Note that the polynomial <em>x</em><sup>2</sup> + 4 <em>x</em> + 2 does not factor over the rationals.<br>"
   ]
  },
  {
   "cell_type": "code",
   "execution_count": 0,
   "id": "df1e1a",
   "metadata": {
    "collapsed": false
   },
   "outputs": [
   ],
   "source": [
    "InitDomain(0, \"x\")\n",
    "factor(x^2 + 4*x + 2)"
   ]
  },
  {
   "cell_type": "markdown",
   "id": "ef137c",
   "metadata": {
    "collapsed": false
   },
   "source": [
    "<br>\n",
    "See if this polynomial factors in the field &#8477;(&radic;<font style=\"text-decoration:overline\">2</font>). First define the \n",
    "field &#8477;(&radic;<font style=\"text-decoration:overline\">2</font>) in <em>SageMath</em> with the commands:<br>"
   ]
  },
  {
   "cell_type": "code",
   "execution_count": 0,
   "id": "1b6dd1",
   "metadata": {
    "collapsed": false
   },
   "outputs": [
   ],
   "source": [
    "AddFieldVar(\"a\")\n",
    "Define(a^2, 2)"
   ]
  },
  {
   "cell_type": "markdown",
   "id": "85dda3",
   "metadata": {
    "collapsed": false
   },
   "source": [
    "<br>\n",
    "Now use the factor command to see if <em>x</em><sup>2</sup> + 4 <em>x</em> + 2 factors in this new field.<br>"
   ]
  },
  {
   "cell_type": "markdown",
   "id": "e14639",
   "metadata": {
    "collapsed": false
   },
   "source": [
    "<br>\n",
    "EXAMPLE:<br>\n",
    "Find a field for which <em>x</em><sup>3</sup> &minus; 2 factors completely.<br><br>\n",
    "One root is clearly <em>a</em> = &#8731;<font style=\"text-decoration:overline\">2</font>, so we can define the field &#8474;(<em>a</em>) by the commands:<br>"
   ]
  },
  {
   "cell_type": "code",
   "execution_count": 0,
   "id": "3e07e3",
   "metadata": {
    "collapsed": false
   },
   "outputs": [
   ],
   "source": [
    "InitDomain(0, \"x\")\n",
    "AddFieldVar(\"a\")\n",
    "Define(a^3, 2)"
   ]
  },
  {
   "cell_type": "markdown",
   "id": "179173",
   "metadata": {
    "collapsed": false
   },
   "source": [
    "<br>\n",
    "Does the polynomial <em>x</em><sup>3</sup> &minus; 2 factor completely in this new field?  Let's try it.<br>"
   ]
  },
  {
   "cell_type": "code",
   "execution_count": 0,
   "id": "5009bf",
   "metadata": {
    "collapsed": false
   },
   "outputs": [
   ],
   "source": [
    "factor(x^3 - 2)"
   ]
  },
  {
   "cell_type": "markdown",
   "id": "da7a64",
   "metadata": {
    "collapsed": false
   },
   "source": [
    "<br>\n",
    "This polynomial of course factors, since <em>a</em> is defined to be a root.  But it did not factor completely, as the \n",
    "polynomial <em>x</em><sup>3</sup> + <em>x</em><sup>2</sup> &minus; 2 <em>x</em> &minus; 1 did.  Rather, there is a quadratic term \n",
    "<em>x</em><sup>2</sup> + <em>a</em> <em>x</em> + <em>a</em><sup>2</sup>.  How can we get the polynomial <em>x</em><sup>3</sup> &minus; 2 to factor completely into \n",
    "linear terms?  We can define a new element, <em>b</em>, to be a root of <em>x</em><sup>2</sup> + <em>a</em> <em>x</em> + <em>a</em><sup>2</sup>.  That \n",
    "is, <em>b</em><sup>2</sup> must be &minus;<em>a</em><sup>2</sup> &minus; <em>a</em> <em>b</em>.<br>"
   ]
  },
  {
   "cell_type": "code",
   "execution_count": 0,
   "id": "d10dd8",
   "metadata": {
    "collapsed": false
   },
   "outputs": [
   ],
   "source": [
    "AddFieldVar(\"b\")\n",
    "Define(b^2, -a^2 - a*b)"
   ]
  },
  {
   "cell_type": "markdown",
   "id": "81dc6d",
   "metadata": {
    "collapsed": false
   },
   "source": [
    "<br>\n",
    "We can now factor <em>x</em><sup>3</sup> &minus; 2 in the field &#8474;(<em>a</em>, <em>b</em>).<br>"
   ]
  },
  {
   "cell_type": "code",
   "execution_count": 0,
   "id": "9a4ef6",
   "metadata": {
    "collapsed": false
   },
   "outputs": [
   ],
   "source": [
    "factor(x^3 - 2)"
   ]
  },
  {
   "cell_type": "markdown",
   "id": "e60646",
   "metadata": {
    "collapsed": false
   },
   "source": [
    "<br>\n",
    "Notice that &#8474;(<em>a</em>) is a 3-dimensional extension of &#8474;, and &#8474;(<em>a</em>, <em>b</em>) is a 2-dimensional extension of &#8474;(<em>a</em>).  Thus, \n",
    "by proposition 14.2, &#8474;(<em>a</em>, <em>b</em>) is a 6-dimensional extension of &#8474;, with \n",
    "basis \n",
    "<p style='text-align: center;'>{1, <em>a</em>, <em>a</em><sup>2</sup>, <em>b</em>, <em>a</em> <em>b</em>, <em>a</em><sup>2</sup> <em>b</em>}.</p>\n",
    "\n",
    "EXPERIMENT:<br>\n",
    "Prove that the polynomial <em>x</em><sup>2</sup> + <em>a</em> <em>x</em> + <em>a</em><sup>2</sup> = <em>x</em><sup>2</sup> + \n",
    "&#8731;<font style=\"text-decoration:overline\">2</font> <em>x</em> + &#8731;<font style=\"text-decoration:overline\">4</font> is irreducible in the \n",
    "field &#8474;(&#8731;<font style=\"text-decoration:overline\">2</font>) by showing that the roots are complex.<br>"
   ]
  },
  {
   "cell_type": "markdown",
   "id": "0beb39",
   "metadata": {
    "collapsed": false
   },
   "source": [
    "<br>\n",
    "EXAMPLE:\n",
    "A longer example of this process is the polynomial <em>x</em><sup>4</sup> &minus; <em>x</em> + 1. Find a field extension for which this factors.<br><br>\n",
    "\n",
    "We can verify that this is irreducible over the rational numbers with <em>SageMath</em>.<br>"
   ]
  },
  {
   "cell_type": "code",
   "execution_count": 0,
   "id": "5cb471",
   "metadata": {
    "collapsed": false
   },
   "outputs": [
   ],
   "source": [
    "InitDomain(0, \"x\")\n",
    "factor(x^4 - x + 1)"
   ]
  },
  {
   "cell_type": "markdown",
   "id": "d2a7bf",
   "metadata": {
    "collapsed": false
   },
   "source": [
    "<br>\n",
    "Let us force <em>a</em> to be a root of this polynomial<br>"
   ]
  },
  {
   "cell_type": "code",
   "execution_count": 0,
   "id": "00d217",
   "metadata": {
    "collapsed": false
   },
   "outputs": [
   ],
   "source": [
    "AddFieldVar(\"a\")\n",
    "Define(a^4, a - 1)"
   ]
  },
  {
   "cell_type": "markdown",
   "id": "d27f9a",
   "metadata": {
    "collapsed": false
   },
   "source": [
    "<br>\n",
    "We can now factor <em>x</em><sup>4</sup> &minus; <em>x</em> + 1 in the field &#8474;(<em>a</em>).<br>"
   ]
  },
  {
   "cell_type": "code",
   "execution_count": 0,
   "id": "7fec4a",
   "metadata": {
    "collapsed": false
   },
   "outputs": [
   ],
   "source": [
    "factor(x^4 - x + 1)"
   ]
  },
  {
   "cell_type": "markdown",
   "id": "360f84",
   "metadata": {
    "collapsed": false
   },
   "source": [
    "<br>\n",
    "This leaves a third degree polynomial still unfactored, so we will define <em>b</em> to be a root of this third degree polynomial.<br>"
   ]
  },
  {
   "cell_type": "code",
   "execution_count": 0,
   "id": "07f803",
   "metadata": {
    "collapsed": false
   },
   "outputs": [
   ],
   "source": [
    "AddFieldVar(\"b\")\n",
    "Define(b^3, 1 - a^3 - a^2*b - a*b^2)"
   ]
  },
  {
   "cell_type": "markdown",
   "id": "c69484",
   "metadata": {
    "collapsed": false
   },
   "source": [
    "<br>\n",
    "We can factor <em>x</em><sup>4</sup> &minus; <em>x</em> + 1 over the field &#8474;(<em>a</em>, <em>b</em>).<br>"
   ]
  },
  {
   "cell_type": "code",
   "execution_count": 0,
   "id": "e5a2b6",
   "metadata": {
    "collapsed": false
   },
   "outputs": [
   ],
   "source": [
    "factor(x^4 - x + 1)"
   ]
  },
  {
   "cell_type": "markdown",
   "id": "bbf937",
   "metadata": {
    "collapsed": false
   },
   "source": [
    "<br>\n",
    "This still leaves an unfactored quadratic. Let <em>c</em> be a root of this quadratic.<br>"
   ]
  },
  {
   "cell_type": "code",
   "execution_count": 0,
   "id": "07e4ad",
   "metadata": {
    "collapsed": false
   },
   "outputs": [
   ],
   "source": [
    "AddFieldVar(\"c\")\n",
    "Define(c^2, -a^2 - a*b - b^2 - a*c - b*c)"
   ]
  },
  {
   "cell_type": "markdown",
   "id": "1a88c3",
   "metadata": {
    "collapsed": false
   },
   "source": [
    "<br>\n",
    "We now can factor <em>x</em><sup>4</sup> &minus; <em>x</em> + 1 over the field &#8474;(<em>a</em>, <em>b</em>, <em>c</em>).<br>"
   ]
  },
  {
   "cell_type": "code",
   "execution_count": 0,
   "id": "71a260",
   "metadata": {
    "collapsed": false
   },
   "outputs": [
   ],
   "source": [
    "factor(x^4 - x + 1)"
   ]
  },
  {
   "cell_type": "markdown",
   "id": "b184ae",
   "metadata": {
    "collapsed": false
   },
   "source": [
    "<br>\n",
    "We finally did it! Notice that the dimension of the field &#8474;(<em>a</em>, <em>b</em>, <em>c</em>) is 4&middot;3&middot;2 = 24.  It is easy to see from this example \n",
    "that this procedure can be carried out over any polynomial.<br><br>\n",
    "\n",
    "EXPERIMENT:<br>\n",
    "Try the polynomial <em>x</em><sup>5</sup> + 20 <em>x</em> + 16.  How many extensions does it take before this polynomial finally factors completely?<br>"
   ]
  },
  {
   "cell_type": "markdown",
   "id": "7b3194",
   "metadata": {
    "collapsed": false
   },
   "source": [
    "<a name=\"lem144ret\" id=\"lem144ret\"></a>\n",
    "LEMMA 14.4<br>\n",
    "\n",
    "Let <em>F</em> be a field, and let <em>f</em>(<em>x</em>) be a polynomial in <em>F</em>[<em>x</em>] of degree <em>n</em> whose leading coefficient \n",
    "is <em>c<sub>n</sub></em>.  Then there is a finite extension <em>K</em> of <em>F</em> such that\n",
    "<p style='text-align: center;'><em>f</em>(<em>x</em>) = <em>c<sub>n</sub></em>&middot;(<em>x</em> &minus; <em>u</em><sub>1</sub>)&middot;(<em>x</em> &minus; \n",
    "<em>u</em><sub>2</sub>)&middot;(<em>x</em> &minus; <em>u</em><sub>3</sub>) &#8943; (<em>x</em> &minus; <em>u<sub>n</sub></em>),</p>\n",
    "where <em>u</em><sub>1</sub>, <em>u</em><sub>2</sub>, <em>u</em><sub>3</sub>, &hellip; <em>u<sub>n</sub></em> are elements in <em>K</em>.  Furthermore, the dimension \n",
    "of <em>K</em> over <em>F</em> is at most <em>n</em>!.<br><br>\n",
    "\n",
    "<a href=\"#lem144\">Click here for the proof.</a>\n",
    "\n",
    "<p />\n",
    "DEFINITION 14.8<br>\n",
    "If <em>K</em> is a field for which the polynomial <em>f</em>(<em>x</em>) in <em>F</em>[<em>x</em>] factors as\n",
    "<p style='text-align: center;'><em>f</em>(<em>x</em>) = <em>c<sub>n</sub></em>&middot;(<em>x</em> &minus; <em>u</em><sub>1</sub>)&middot;(<em>x</em> &minus; \n",
    "<em>u</em><sub>2</sub>)&middot;(<em>x</em> &minus; <em>u</em><sub>3</sub>) &#8943; (<em>x</em> &minus; <em>u<sub>n</sub></em>),</p>\n",
    "then the field <em>F</em>(<em>u</em><sub>1</sub>, <em>u</em><sub>2</sub>, <em>u</em><sub>3</sub>, &hellip; <em>u<sub>n</sub></em>) is called the <em>splitting field</em> for \n",
    "the polynomial <em>f</em>(<em>x</em>).<br><br>\n",
    "\n",
    "For example, the splitting field of <em>x</em><sup>3</sup> + <em>x</em><sup>2</sup> &minus; 2 <em>x</em> &minus; 1 was found to be &#8474;(<em>a</em>), where <em>a</em> \n",
    "is one root of the polynomial.  Thus, the splitting field is a 3-dimensional extension of &#8474;.  The splitting field of <em>x</em><sup>3</sup> &minus; 2 turned out to \n",
    "be a 6-dimensional extension of &#8474;.  The splitting field of <em>x</em><sup>4</sup> &minus; <em>x</em> &minus; 1 turned out to be a 24-dimensional extension \n",
    "of &#8474;, which Lemma 14.4 points out is the largest possible dimension for a fourth degree polynomial.  Finally, the experiment shows that the splitting field of <em>x</em><sup>5</sup> + 20 <em>x</em> + 16 is a 60 dimensional extension of &#8474;.<br><br>\n",
    "\n",
    "EXAMPLE:<br>\n",
    "Let us look at one more example which is rather interesting.\n",
    "Find the splitting field for the polynomial <em>x</em><sup>5</sup> &minus; 5 <em>x</em> + 12.<br><br>  \n",
    "\n",
    "We first show that this is irreducible over the rationals:<br>"
   ]
  },
  {
   "cell_type": "code",
   "execution_count": 0,
   "id": "26b30e",
   "metadata": {
    "collapsed": false
   },
   "outputs": [
   ],
   "source": [
    "InitDomain(0, \"x\")\n",
    "factor(x^5 - 5*x + 12)"
   ]
  },
  {
   "cell_type": "markdown",
   "id": "948d12",
   "metadata": {
    "collapsed": false
   },
   "source": [
    "<br>\n",
    "Let us define a to be one root of this polynomial<br>"
   ]
  },
  {
   "cell_type": "code",
   "execution_count": 0,
   "id": "ecaec2",
   "metadata": {
    "collapsed": false
   },
   "outputs": [
   ],
   "source": [
    "AddFieldVar(\"a\")\n",
    "Define(a^5, 5*a - 12)"
   ]
  },
  {
   "cell_type": "markdown",
   "id": "fadcb0",
   "metadata": {
    "collapsed": false
   },
   "source": [
    "<br>\n",
    "Can we factor <em>x</em><sup>5</sup> &minus; 5 <em>x</em> + 12 in the field &#8474;(<em>a</em>)?  Let's see.<br>"
   ]
  },
  {
   "cell_type": "code",
   "execution_count": 0,
   "id": "8c2b4d",
   "metadata": {
    "collapsed": false
   },
   "outputs": [
   ],
   "source": [
    "factor(x^5 - 5*x + 12)"
   ]
  },
  {
   "cell_type": "markdown",
   "id": "9e75da",
   "metadata": {
    "collapsed": false
   },
   "source": [
    "<br>\n",
    "Rather than having an irreducible forth degree equation as we did in the polynomial <em>x</em><sup>5</sup> + 20 <em>x</em> + 16 the polynomial factored into \n",
    "two irreducible quadratic equations.  Let us define <em>b</em> to be a root of the second of the two quadratics, since this one is simplier.<br>"
   ]
  },
  {
   "cell_type": "code",
   "execution_count": 0,
   "id": "cfd626",
   "metadata": {
    "collapsed": false
   },
   "outputs": [
   ],
   "source": [
    "AddFieldVar(\"b\")\n",
    "Define(b^2, 1 + a/2 + a^3/2 + b - (a + a^2 + a^3 + a^4)*b/4)"
   ]
  },
  {
   "cell_type": "markdown",
   "id": "420f61",
   "metadata": {
    "collapsed": false
   },
   "source": [
    "<br>\n",
    "Can we factor <em>x</em><sup>5</sup> &minus; 5 <em>x</em> + 12 in the field &#8474;(a,b)?<br>"
   ]
  },
  {
   "cell_type": "code",
   "execution_count": 0,
   "id": "454c32",
   "metadata": {
    "collapsed": false
   },
   "outputs": [
   ],
   "source": [
    "factor(x^5 - 5*x + 12)"
   ]
  },
  {
   "cell_type": "markdown",
   "id": "58fab3",
   "metadata": {
    "collapsed": false
   },
   "source": [
    "<br>\n",
    "This time the polynomial factored completely.  Thus, we have found a splitting field for the polynomial <em>x</em><sup>5</sup> &minus; 5 <em>x</em> + 12.   Note \n",
    "that &#8474;(<em>a</em>) is a 5-dimensional extension of &#8474;, and &#8474;(<em>a</em>, <em>b</em>) is a 2-dimensional extension of &#8474;(<em>a</em>).  Thus, \n",
    "by Proposition 14.2, &#8474;(<em>a</em>, <em>b</em>) is only a 10-dimensional extension of &#8474;, far less than the maximum dimension of 120.<br><br>\n",
    "\n",
    "This example raises the obvious question: What if we let <em>b</em> be a root of the <em>first</em> irreducible polynomial instead of the second?  Would we get the \n",
    "same splitting field?  We would like to prove that the splitting fields are in fact uniquely determined up to isomorphism.  It is actually easier to prove a stronger \n",
    "statement for which we can use the principle of induction."
   ]
  },
  {
   "cell_type": "markdown",
   "id": "eb21fd",
   "metadata": {
    "collapsed": false
   },
   "source": [
    "<a name=\"prop148ret\" id=\"prop148ret\"></a>\n",
    "PROPOSITION 14.8<br>\n",
    "\n",
    "Let <em>&#981;</em> be an isomorphism from the field <em>F</em> to a field <em>E</em>.  Let\n",
    "<p style='text-align: center;'><em>f</em>(<em>x</em>) = <em>c</em><sub>0</sub> + <em>c</em><sub>1</sub> <em>x</em> + <em>c</em><sub>2</sub> <em>x</em><sup>2</sup> + \n",
    "<em>c</em><sub>3</sub> <em>x</em><sup>3</sup> + &#8943; + <em>c<sub>n</sub></em> <em>x<sup>n</sup></em></p>\n",
    "be a polynomial in <em>F</em>[<em>x</em>]. Then\n",
    "<p style='text-align: center;'><em>g</em>(<em>x</em>) = <em>&#981;</em>(<em>c</em><sub>0</sub>) + <em>&#981;</em>(<em>c</em><sub>1</sub>) <em>x</em> + \n",
    "<em>&#981;</em>(<em>c</em><sub>2</sub>) <em>x</em><sup>2</sup> + \n",
    "<em>&#981;</em>(<em>c</em><sub>3</sub>) <em>x</em><sup>3</sup> + &#8943; + <em>&#981;</em>(<em>c<sub>n</sub></em>) <em>x<sup>n</sup></em></p>\n",
    "is a polynomial in <em>E</em>[<em>x</em>].  Suppose that <em>K</em> is a splitting field of <em>f</em>(<em>x</em>) over <em>F</em>, and <em>L</em> is a splitting field \n",
    "of <em>g</em>(<em>x</em>) over <em>E</em>.  Then there is an isomorphism <em>&mu;</em> from <em>K</em> to <em>L</em>, such \n",
    "that <em>&mu;</em>(<em>t</em>) = <em>&#981;</em>(<em>t</em>) for all <em>t</em> in <em>F</em>.<br><br>\n",
    "\n",
    "<a href=\"#prop148\">Click here for the proof.</a>\n",
    "\n",
    "<p />\n",
    "We can use this proposition to show that indeed the splitting field of a polynomial is uniquely determined up to isomorphism."
   ]
  },
  {
   "cell_type": "markdown",
   "id": "05f677",
   "metadata": {
    "collapsed": false
   },
   "source": [
    "<a name=\"cor143ret\" id=\"cor143ret\"></a>\n",
    "COROLLARY 14.3<br>\n",
    "\n",
    "If <em>f</em>(<em>x</em>) is a polynomial in <em>F</em>[<em>x</em>], then all splitting fields of <em>f</em>(<em>x</em>) are isomorphic.<br><br>\n",
    "\n",
    "<a href=\"#cor143\">Click here for the proof.</a>\n",
    "\n",
    "<p />\n",
    "In &sect;13.3, we studied the properties of cyclotomic polynomials.  It will be important later on to determine the splitting fields of these polynomials.  Let us look \n",
    "at a few examples to see if we can determine a pattern.<br><br>\n",
    "\n",
    "The ninth cyclotomic polynomial &Phi;<sub>9</sub>(<em>x</em>) is given as<br>"
   ]
  },
  {
   "cell_type": "code",
   "execution_count": 0,
   "id": "01b656",
   "metadata": {
    "collapsed": false
   },
   "outputs": [
   ],
   "source": [
    "Cyclotomic(9,\"x\")"
   ]
  },
  {
   "cell_type": "markdown",
   "id": "15fec6",
   "metadata": {
    "collapsed": false
   },
   "source": [
    "<br>\n",
    "If we can let <em>a</em> be a root of <em>x</em><sup>6</sup> + <em>x</em><sup>3</sup> + 1 by the commands<br>"
   ]
  },
  {
   "cell_type": "code",
   "execution_count": 0,
   "id": "6043be",
   "metadata": {
    "collapsed": false
   },
   "outputs": [
   ],
   "source": [
    "InitDomain(0, \"x\")\n",
    "AddFieldVar(\"a\")\n",
    "Define(a^6, - 1 - a^3)"
   ]
  },
  {
   "cell_type": "markdown",
   "id": "d47d33",
   "metadata": {
    "collapsed": false
   },
   "source": [
    "<br>\n",
    "We finally can see if the cyclotomic polynomial factors in &#8474;(<em>a</em>).<br>"
   ]
  },
  {
   "cell_type": "code",
   "execution_count": 0,
   "id": "4abd19",
   "metadata": {
    "collapsed": false
   },
   "outputs": [
   ],
   "source": [
    "factor(x^6 + x^3 + 1)"
   ]
  },
  {
   "cell_type": "markdown",
   "id": "ac9abf",
   "metadata": {
    "collapsed": false
   },
   "source": [
    "<br>\n",
    "This shows us that the splitting field of the ninth cyclotomic polynomial is &#8474;(<em>a</em>), which is a 6-dimensional extension of &#8474;.<br><br>\n",
    "\n",
    "EXPERIMENT:<br>\n",
    "Find the splitting field of &Phi;<sub>8</sub>(<em>x</em>) = <em>x</em><sup>4</sup> + 1.<br>"
   ]
  },
  {
   "cell_type": "markdown",
   "id": "12b7b1",
   "metadata": {
    "collapsed": false
   },
   "source": [
    "<br>\n",
    "We can generalize these observations in the following proposition."
   ]
  },
  {
   "cell_type": "markdown",
   "id": "f218ba",
   "metadata": {
    "collapsed": false
   },
   "source": [
    "<a name=\"prop149ret\" id=\"prop149ret\"></a>\n",
    "PROPOSITION 14.9<br>\n",
    "\n",
    "The splitting field of the <em>n</em><sup>th</sup> cyclotomic polynomial &Phi;<sub><em>n</em></sub>(<em>x</em>) has dimension <em>&#981;</em>(<em>n</em>) over &#8474;, \n",
    "where <em>&#981;</em>(<em>n</em>) is Euler's totient function.  In fact, the splitting field is given as &#8474;(<em>&omega;<sub>n</sub></em>), where \n",
    "<em>&omega;<sub>n</sub></em> is a primitive <em>n</em><sup>th</sup> root of unity.<br><br>\n",
    "\n",
    "<a href=\"#prop149\">Click here for the proof.</a>\n",
    "\n",
    "<p />\n",
    "\n",
    "In all of the cases we have looked at, we found the splitting fields of irreducible polynomials.  However, the polynomial does not have to be irreducible for it to have \n",
    "an interesting splitting field.  Consider the polynomial <em>x</em><sup>4</sup> &minus; 5 <em>x</em><sup>2</sup> + 6.  If we factor this over the rationals,<br>"
   ]
  },
  {
   "cell_type": "code",
   "execution_count": 0,
   "id": "74b8d4",
   "metadata": {
    "collapsed": false
   },
   "outputs": [
   ],
   "source": [
    "var(\"x\")\n",
    "factor(x^4 - 5*x^2 + 6)"
   ]
  },
  {
   "cell_type": "markdown",
   "id": "3fba94",
   "metadata": {
    "collapsed": false
   },
   "source": [
    "<br>\n",
    "We find that this factors!  In fact, we can easily see all 4 roots: &plusmn;&radic;<font style=\"text-decoration:overline\">2</font> and \n",
    "&plusmn;&radic;<font style=\"text-decoration:overline\">3</font>.  If we define <em>a</em> to be the solution to <em>x</em><sup>2</sup> &minus; 2 = 0, (that \n",
    "is, <em>a</em> = &radic;<font style=\"text-decoration:overline\">2</font>), we have the following \n",
    "factorization in &#8474;(&radic;<font style=\"text-decoration:overline\">2</font>).<br>"
   ]
  },
  {
   "cell_type": "code",
   "execution_count": 0,
   "id": "2c588a",
   "metadata": {
    "collapsed": false
   },
   "outputs": [
   ],
   "source": [
    "InitDomain(0, \"x\")\n",
    "AddFieldVar(\"a\")\n",
    "Define(a^2, 2)\n",
    "factor(x^4 - 5*x^2 + 6)"
   ]
  },
  {
   "cell_type": "markdown",
   "id": "1de938",
   "metadata": {
    "collapsed": false
   },
   "source": [
    "<br>\n",
    "The <em>x</em><sup>2</sup> &minus; 3 remains unfactored, as we would expect.  Thus, we need to define <em>b</em> to solve <em>x</em><sup>2</sup> &minus; 3 = 0,<br>"
   ]
  },
  {
   "cell_type": "code",
   "execution_count": 0,
   "id": "43add8",
   "metadata": {
    "collapsed": false
   },
   "outputs": [
   ],
   "source": [
    "AddFieldVar(\"b\")\n",
    "Define(b^2, 3)"
   ]
  },
  {
   "cell_type": "markdown",
   "id": "5ee226",
   "metadata": {
    "collapsed": false
   },
   "source": [
    "<br>\n",
    "and factor the polynomial over the field &#8474;(&radic;<font style=\"text-decoration:overline\">2</font>, &radic;<font style=\"text-decoration:overline\">3</font>).<br>"
   ]
  },
  {
   "cell_type": "code",
   "execution_count": 0,
   "id": "d460cb",
   "metadata": {
    "collapsed": false
   },
   "outputs": [
   ],
   "source": [
    "factor(x^4 - 5*x^2 + 6)"
   ]
  },
  {
   "cell_type": "markdown",
   "id": "7c5870",
   "metadata": {
    "collapsed": false
   },
   "source": [
    "<br>\n",
    "Thus, we see that the splitting field of <em>x</em><sup>4</sup> &minus; 5 <em>x</em><sup>2</sup> + 6 is \n",
    "&#8474;(&radic;<font style=\"text-decoration:overline\">2</font>, &radic;<font style=\"text-decoration:overline\">3</font>).  This field is a four dimensional extension \n",
    "of &#8474;.<br><br>\n",
    "\n",
    "EXPERIMENT:<br>Find the splitting field of the polynomial <em>x</em><sup>4</sup> &minus; 10 <em>x</em><sup>2</sup> + 1.  What is the dimension of the splitting field \n",
    "over &#8474;?<br>"
   ]
  },
  {
   "cell_type": "markdown",
   "id": "88b538",
   "metadata": {
    "collapsed": false
   },
   "source": [
    "<br>\n",
    "These examples show that the splitting fields can vary dramatically from polynomial to polynomial.  In the next chapter we will see how the splitting field can be used \n",
    "to actually solve a polynomial in terms of square roots and cube roots, whenever this is possible.  But first, we need to explore some interesting properties of \n",
    "splitting fields.<br><br>\n",
    "\n",
    "Let us begin by defining the splitting field of <em>x</em><sup>3</sup> &minus; 2 as follows:<br>"
   ]
  },
  {
   "cell_type": "code",
   "execution_count": 0,
   "id": "6dab28",
   "metadata": {
    "collapsed": false
   },
   "outputs": [
   ],
   "source": [
    "InitDomain(0, \"x\")\n",
    "AddFieldVar(\"a\")\n",
    "Define(a^3, 2)\n",
    "AddFieldVar(\"b\")\n",
    "Define(b^2, - a^2 - a*b)"
   ]
  },
  {
   "cell_type": "markdown",
   "id": "28fc75",
   "metadata": {
    "collapsed": false
   },
   "source": [
    "<br>\n",
    "We can see whether the polynomial <em>x</em><sup>2</sup> + 3 factors in the splitting field:<br>"
   ]
  },
  {
   "cell_type": "code",
   "execution_count": 0,
   "id": "58ebb8",
   "metadata": {
    "collapsed": false
   },
   "outputs": [
   ],
   "source": [
    "factor(x^2 + 3)"
   ]
  },
  {
   "cell_type": "markdown",
   "id": "45c958",
   "metadata": {
    "collapsed": false
   },
   "source": [
    "<br>\n",
    "Thus, we see that &radic;<font style=\"text-decoration:overline\">&minus;3</font> is in the field &#8474;(<em>a</em>, <em>b</em>).  Let us see if another polynomial factors \n",
    "in &#8474;(<em>a</em>, <em>b</em>)&mdash;<em>x</em><sup>6</sup> + 108.<br>"
   ]
  },
  {
   "cell_type": "code",
   "execution_count": 0,
   "id": "f66ffa",
   "metadata": {
    "collapsed": false
   },
   "outputs": [
   ],
   "source": [
    "factor(x^6 + 108)"
   ]
  },
  {
   "cell_type": "markdown",
   "id": "179fd2",
   "metadata": {
    "collapsed": false
   },
   "source": [
    "<br>\n",
    "&#8474;(<em>a</em>, <em>b</em>) turns out to contain the splitting field of <em>x</em><sup>6</sup> + 108!<br><br>\n",
    " \n",
    "EXPERIMENT:<br>\n",
    "\n",
    "Try factoring the polynomial\n",
    "<p style='text-align: center;'><em>x</em><sup>6</sup> + 6 <em>x</em><sup>4</sup> &minus; 12 <em>x</em><sup>3</sup> + 36 <em>x</em><sup>2</sup> &minus; 36 <em>x</em> + 36</p>\n",
    "over the field &#8474;(<em>a</em>, <em>b</em>), which is the splitting field of <em>x</em><sup>3</sup> &minus; 2.  This polynomial was chosen to have a \n",
    "root in &#8474;(<em>a</em>, <em>b</em>). Does this polynomial factor completely in &#8474;(<em>a</em>, <em>b</em>)?<br>"
   ]
  },
  {
   "cell_type": "markdown",
   "id": "0cad0a",
   "metadata": {
    "collapsed": false
   },
   "source": [
    "<br>\n",
    "These examples reveal a startling fact: Whenever an irreducible polynomial in &#8474;[<em>x</em>] has just one root in a splitting field, then the polynomial \n",
    "factors completely in that splitting field.  This property characterizes splitting fields from other extensions of &#8474;."
   ]
  },
  {
   "cell_type": "markdown",
   "id": "d9501e",
   "metadata": {
    "collapsed": false
   },
   "source": [
    "<a name=\"lem145ret\" id=\"lem145ret\"></a>\n",
    "LEMMA 14.5<br>\n",
    "\n",
    "Let <em>K</em> be the splitting field of a polynomial <em>f</em>(<em>x</em>) in <em>F</em>[<em>x</em>].  Then if <em>p</em>(<em>x</em>) is an irreducible polynomial \n",
    "in <em>F</em>[<em>x</em>] for which there is one root in <em>K</em>, then <em>p</em>(<em>x</em>) factors completely in <em>K</em>.<br><br>\n",
    "\n",
    "<a href=\"#lem145\">Click here for the proof.</a>\n",
    "\n",
    "<p />\n",
    "EXPERIMENT:<br>\n",
    "Try factoring the polynomial <em>x</em><sup>6</sup> + <em>x</em><sup>3</sup> &minus; 6 over the field &#8474;(<em>a</em>, <em>b</em>), the splitting field \n",
    "of <em>x</em><sup>3</sup> &minus; 2.  Notice that this polynomial factors, but does not factor completely in this field.  Why doesn't this example \n",
    "contradict Lemma 14.5?<br>"
   ]
  },
  {
   "cell_type": "markdown",
   "id": "f6a27f",
   "metadata": {
    "collapsed": false
   },
   "source": [
    "<br>\n",
    "The fact that the splitting field of <em>x</em><sup>6</sup> + 108 is the same as the splitting field of <em>x</em><sup>3</sup> &minus; 2 reveals another curious property \n",
    "of splitting fields.  Rather than having to make an &quot;extension of an extension&quot; to define the splitting field &#8474;(<em>a</em>, <em>b</em>), we could have \n",
    "defined the same field using a single extension of the element <em>w</em>, where \n",
    "<em>w</em> = <sup>6</sup>&radic;<font style=\"text-decoration:overline\">&minus;108</font>.  This is done with the commands:<br>"
   ]
  },
  {
   "cell_type": "code",
   "execution_count": 0,
   "id": "cc705d",
   "metadata": {
    "collapsed": false
   },
   "outputs": [
   ],
   "source": [
    "InitDomain(0)\n",
    "AddFieldVar(\"w\")\n",
    "Define(w^6, -108)"
   ]
  },
  {
   "cell_type": "markdown",
   "id": "65cacb",
   "metadata": {
    "collapsed": false
   },
   "source": [
    "<br>\n",
    "DEFINITION 14.9<br>\n",
    "We say that a finite extension of a field <em>K</em> is called a <em>simple extension</em> if it can be expressed as <em>K</em>(<em>a</em>) for some \n",
    "element <em>a</em>.<br><br>\n",
    "\n",
    "What we have observed is that the splitting field of <em>x</em><sup>3</sup> &minus; 2, even though it was originally described as an extension of an \n",
    "extension, is in fact a simple extension of &#8474; of dimension 6.<br><br>\n",
    "\n",
    "Let us show, using the splitting fields, that an extension of an extension will usually form a simple extension."
   ]
  },
  {
   "cell_type": "markdown",
   "id": "41ab9d",
   "metadata": {
    "collapsed": false
   },
   "source": [
    "<a name=\"prop1410ret\" id=\"prop1410ret\"></a>\n",
    "PROPOSITION 14.10<br>\n",
    "\n",
    "Let <em>F</em> be a field, and let <em>K</em> be a finite-dimensional extension of <em>F</em>.  Suppose that <em>K</em> = <em>F</em>(<em>u</em>, <em>v</em>) with \n",
    "<em>u</em>, <em>v</em> in <em>K</em>.  Let <em>L</em> be the splitting field of the polynomial <em>g</em>(<em>x</em>) = Irr<sub><em>F</em></sub>(<em>v</em>, <em>x</em>), \n",
    "and suppose that there are no multiple roots of <em>g</em>(<em>x</em>) in the field <em>L</em>.  Then there is an element <em>w</em> of <em>K</em> such \n",
    "that <em>K</em> = <em>F</em>(<em>w</em>).<br><br> \n",
    "\n",
    "<a href=\"#prop1410\">Click here for the proof.</a>\n",
    "\n",
    "<p />\n",
    "We can easily extend this result by induction to any number of extensions of &#8474;."
   ]
  },
  {
   "cell_type": "markdown",
   "id": "65af49",
   "metadata": {
    "collapsed": false
   },
   "source": [
    "<a name=\"cor144ret\" id=\"cor144ret\"></a>\n",
    "COROLLARY 14.4<br>\n",
    "\n",
    "Let <em>K</em> be a finite-dimensional extension of <em>F</em>, with <em>K</em> = <em>F</em>(<em>u</em><sub>1</sub>, <em>u</em><sub>2</sub>, <em>u</em><sub>3</sub>, \n",
    "&hellip; <em>u<sub>n</sub></em>), and suppose that none of the polynomials Irr<sub><em>F</em></sub>(<em>u<sub>i</sub></em>, <em>x</em>) have multiple roots in each of \n",
    "their splitting fields.  Then there exists an element <em>w</em> in <em>K</em> such that <em>K</em> = <em>F</em>(<em>w</em>).<br><br>\n",
    "\n",
    "<a href=\"#cor144\">Click here for the proof.</a>\n",
    "\n",
    "<p />\n",
    "<em>SageMath</em> has a function <strong>SimpleExtension</strong> that finds one of the many elements <em>w</em> for which the \n",
    "field &#8474;(<em>a</em>, <em>b</em>, &hellip;) = &#8474;(<em>w</em>).<br><br>\n",
    "\n",
    "EXAMPLE:<br>\n",
    "\n",
    "We have seen the splitting field of <em>x</em><sup>3</sup> &minus; 2 is \n",
    "&#8474;(&#8731;<font style=\"text-decoration:overline\">2</font>, <em>&omega;</em><sub>3</sub>&#8731;<font style=\"text-decoration:overline\">2</font>).  Find a single \n",
    "element <em>w</em> such that the splitting field is &#8474;(<em>w</em>).<br><br>\n",
    "\n",
    "We first set up the splitting field as\n",
    "&#8474;(<em>a</em>, <em>b</em>), where <em>a</em><sup>3</sup> = 2, and <em>b</em><sup>2</sup> = &minus;<em>a</em><sup>2</sup> &minus; <em>a b</em>.<br>"
   ]
  },
  {
   "cell_type": "code",
   "execution_count": 0,
   "id": "000d9f",
   "metadata": {
    "collapsed": false
   },
   "outputs": [
   ],
   "source": [
    "InitDomain(0)\n",
    "AddFieldVar(\"a\")\n",
    "Define(a^3, 2)\n",
    "AddFieldVar(\"b\")\n",
    "Define(b^2, -a^2 - a*b)"
   ]
  },
  {
   "cell_type": "markdown",
   "id": "3d152b",
   "metadata": {
    "collapsed": false
   },
   "source": [
    "<br>\n",
    "To find an element in this field which forms a simple extension, we compute<br>"
   ]
  },
  {
   "cell_type": "code",
   "execution_count": 0,
   "id": "533c7f",
   "metadata": {
    "collapsed": false
   },
   "outputs": [
   ],
   "source": [
    "SimpleExtension(a, b)"
   ]
  },
  {
   "cell_type": "markdown",
   "id": "2a87e3",
   "metadata": {
    "collapsed": false
   },
   "source": [
    "<br>\n",
    "This shows that &#8474;(<em>a</em>, <em>b</em>) = &#8474;(<em>a</em> + 2 <em>b</em>), which is a simple extension.  What element is <em>a</em> + 2 <em>b</em>? Let us \n",
    "compute its sixth power.<br>"
   ]
  },
  {
   "cell_type": "code",
   "execution_count": 0,
   "id": "6033c7",
   "metadata": {
    "collapsed": false
   },
   "outputs": [
   ],
   "source": [
    "expand((a + 2*b)^6)"
   ]
  },
  {
   "cell_type": "markdown",
   "id": "c09a51",
   "metadata": {
    "collapsed": false
   },
   "source": [
    "<br>\n",
    "Thus, we see that <em>a</em> + 2 <em>b</em> is one root of <em>x</em><sup>6</sup> + 108.<br><br>\n",
    "\n",
    "How does this command work?  The key is in the proof of Proposition 14.10.  Within the proof, we found that F(<em>u</em>, <em>v</em>) = F(<em>u</em> + <em>y v</em>), \n",
    "where <em>y</em> is any number such that<br><br>\n",
    "<table align=\"center\" border=\"0\" cellspacing=\"0\" cellpadding=\"0\">\n",
    "  <tr>\n",
    "    <td rowspan = \"2\" align=\"right\"><em>y</em> &ne;&ensp;</td>\n",
    "    <td align=\"center\"><font style=\"text-decoration:underline\"><em>u&#8341;</em> &minus; <em>u</em></font></td>\n",
    "  </tr>\n",
    "  <tr>\n",
    "    <td align=\"center\"><em>v</em> &minus; <em>v&#8342;</em></td>\n",
    "  </tr>\n",
    "</table>  \n",
    "whenever <em>u<sub>h</sub></em> is a root of Irr<sub><em>F</em></sub>(<em>u</em>, <em>x</em>), and <em>v<sub>k</sub></em> is a root \n",
    "of Irr<sub><em>F</em></sub>(<em>v</em>, <em>x</em>).<br><br>\n",
    "\n",
    "EXAMPLE:<br>\n",
    "Consider the splitting field of <em>x</em><sup>4</sup> &minus; 5 <em>x</em><sup>2</sup> + 6, which is \n",
    "&#8474;(&radic;<font style=\"text-decoration:overline\">2</font>, &radic;<font style=\"text-decoration:overline\">3</font>).  Since this field is the splitting field of \n",
    "a polynomial without multiple roots, we can apply Proposition 14.10 to show \n",
    "that &#8474;(&radic;<font style=\"text-decoration:overline\">2</font>, &radic;<font style=\"text-decoration:overline\">3</font>) = &#8474;(<em>w</em>) for some \n",
    "element <em>w</em>.  But what is that element?<br><br>\n",
    "\n",
    "Note that Irr<sub>&#8474;</sub>(&radic;<font style=\"text-decoration:overline\">2</font>, <em>x</em>) = <em>x</em><sup>2</sup> &minus; 2, which has roots \n",
    "of &plusmn;&radic;<font style=\"text-decoration:overline\">2</font>.  Likewise, Irr<sub>&#8474;</sub>(&radic;<font style=\"text-decoration:overline\">3</font>, <em>x</em>) = \n",
    "<em>x</em><sup>2</sup> &minus; 3 which has roots of &plusmn;&radic;<font style=\"text-decoration:overline\">3</font>.  Hence, we must pick a rational value of <em>y</em> \n",
    "that is not equal to\n",
    "<p style='text-align: center;'>( &plusmn;&radic;<font style=\"text-decoration:overline\">2</font> &minus; &radic;<font style=\"text-decoration:overline\">2</font> )&ensp;&frasl;&ensp;( &radic;<font style=\"text-decoration:overline\">3</font> &plusmn; &radic;<font style=\"text-decoration:overline\">3</font> ).</p>\n",
    "<br>\n",
    "That is, <em>y</em> cannot equal 0 or &minus;&radic;<font style=\"text-decoration:overline\">2/3</font>.  Any other rational value of <em>y</em> will do, so for convenience \n",
    "we can take <em>y</em> = 1.  Then <em>w</em> = <em>u</em> + <em>y v</em> = &radic;<font style=\"text-decoration:overline\">2</font> + \n",
    "&radic;<font style=\"text-decoration:overline\">3</font>.<br><br>\n",
    "\n",
    "We can also have <em>SageMath</em> find an element <em>w</em> for us.<br>"
   ]
  },
  {
   "cell_type": "code",
   "execution_count": 0,
   "id": "d5ed52",
   "metadata": {
    "collapsed": false
   },
   "outputs": [
   ],
   "source": [
    "InitDomain(0)\n",
    "AddFieldVar(\"a\")\n",
    "Define(a^2, 2)\n",
    "AddFieldVar(\"b\")\n",
    "Define(b^2, 3)\n",
    "SimpleExtension(a, b)"
   ]
  },
  {
   "cell_type": "markdown",
   "id": "3a48cd",
   "metadata": {
    "collapsed": false
   },
   "source": [
    "<br>\n",
    "Thus <em>SageMath</em> verifies that &#8474;(&radic;<font style=\"text-decoration:overline\">2</font>, &radic;<font style=\"text-decoration:overline\">3</font>) = \n",
    "&#8474;(&radic;<font style=\"text-decoration:overline\">2</font> + &radic;<font style=\"text-decoration:overline\">3</font>).<br><br>\n",
    "\n",
    "It is curious to note that &radic;<font style=\"text-decoration:overline\">2</font> + &radic;<font style=\"text-decoration:overline\">3</font> is one of the roots of \n",
    "the polynomial <em>x</em><sup>4</sup> &minus; 10 <em>x</em><sup>2</sup> + 1.  Thus, <em>x</em><sup>4</sup> &minus; 10 <em>x</em><sup>2</sup> + 1 and \n",
    "<em>x</em><sup>4</sup> &minus; 5 <em>x</em><sup>2</sup> + 6 have the same splitting field, even though one of the polynomials factors over the rationals while the \n",
    "other doesn't.<br><br>\n",
    "\n",
    "EXAMPLE:<br>\n",
    "Consider &#8474;(&#8731;<font style=\"text-decoration:overline\">2</font>, &radic;<font style=\"text-decoration:overline\">2</font>).  This is not \n",
    "a splitting field, but it is contained in the splitting field of <em>f</em>(<em>x</em>) = (<em>x</em><sup>3</sup> &minus; 2)(<em>x</em><sup>2</sup> &minus; 2), which does \n",
    "not have multiple roots, so we can still apply Proposition 14.10 to show \n",
    "that &#8474;(&#8731;<font style=\"text-decoration:overline\">2</font>, &radic;<font style=\"text-decoration:overline\">2</font>) = &#8474;(<em>w</em>) for some \n",
    "element <em>w</em>.  But what is that element?<br><br>\n",
    "\n",
    "First we define <em>a</em> = &#8731;<font style=\"text-decoration:overline\">2</font> and <em>b</em> = &radic;<font style=\"text-decoration:overline\">2</font>.<br>"
   ]
  },
  {
   "cell_type": "code",
   "execution_count": 0,
   "id": "2a5b97",
   "metadata": {
    "collapsed": false
   },
   "outputs": [
   ],
   "source": [
    "InitDomain(0)\n",
    "AddFieldVar(\"a\")\n",
    "Define(a^3, 2)\n",
    "AddFieldVar(\"b\")\n",
    "Define(b^2, 2)\n",
    "SimpleExtension(a, b)"
   ]
  },
  {
   "cell_type": "markdown",
   "id": "ce339d",
   "metadata": {
    "collapsed": false
   },
   "source": [
    "<br>\n",
    "This shows that &#8474;(&#8731;<font style=\"text-decoration:overline\">2</font>, &radic;<font style=\"text-decoration:overline\">2</font>) = \n",
    "&#8474;(&#8731;<font style=\"text-decoration:overline\">2</font> + &radic;<font style=\"text-decoration:overline\">2</font>).<br><br>\n",
    "\n",
    "There is in fact an easier way to find a simple extension in this case.  Merely not that &#8310;&radic;<font style=\"text-decoration:overline\">2</font> &isin; \n",
    "&#8474;(&#8731;<font style=\"text-decoration:overline\">2</font>, &radic;<font style=\"text-decoration:overline\">2</font>), since \n",
    "&#8310;&radic;<font style=\"text-decoration:overline\">2</font> = \n",
    "<sup>&radic;<font style=\"text-decoration:overline\">2</font></sup>&frasl;<sub>&#8731;<font style=\"text-decoration:overline\">2</font></sub>.  Yet \n",
    "&radic;<font style=\"text-decoration:overline\">2</font> = \n",
    "(&#8310;&radic;<font style=\"text-decoration:overline\">2</font>)<sup>3</sup>, and &#8731;<font style=\"text-decoration:overline\">2</font> = \n",
    "(&#8310;&radic;<font style=\"text-decoration:overline\">2</font>)<sup>2</sup>.  So \n",
    "&#8474;(&#8731;<font style=\"text-decoration:overline\">2</font>, &radic;<font style=\"text-decoration:overline\">2</font>) = \n",
    "&#8474;(&#8310;&radic;<font style=\"text-decoration:overline\">2</font>).<br><br>\n",
    "\n",
    "The fact that we can convert an extension of an extension to a simple extension will simplify many of the proofs involving splitting fields.  In particular, it will \n",
    "allow us to explore the automorphisms of the splitting fields.  In the next chapter we will discover that the automorphisms of the splitting fields determine much \n",
    "of the information about the roots of the polynomial, and whether they can be expressed in terms of square roots and cube roots.  This beautiful correlation is \n",
    "referred to as Galois theory."
   ]
  },
  {
   "cell_type": "markdown",
   "id": "f5ff86",
   "metadata": {
    "collapsed": false
   },
   "source": [
    "<br><br><br><br><br><br><br><br><br><br><br><br><br><br><br><br><br><br><br><br><br><br><br><br><br><br><br><br><br><br><br><br><br><br><br><br><br><br><br><br><br><br>"
   ]
  },
  {
   "cell_type": "markdown",
   "id": "713668",
   "metadata": {
    "collapsed": false
   },
   "source": [
    "<h1>Proofs:</h1>"
   ]
  },
  {
   "cell_type": "markdown",
   "id": "da54e2",
   "metadata": {
    "collapsed": false
   },
   "source": [
    "<a name=\"lem141\" id=\"lem141\"></a>\n",
    "Proof of Lemma 14.1:<br><br>\n",
    "\n",
    "If <em>B</em> is a basis, then every element <em>v</em> &isin; <em>V</em> can be expressed in the form <em>c</em><sub>1</sub> <em>x</em><sub>1</sub> + \n",
    "<em>c</em><sub>2</sub> <em>x</em><sub>2</sub> + <em>c</em><sub>3</sub> <em>x</em><sub>3</sub> + &#8943; + <em>c<sub>n</sub></em> <em>x<sub>n</sub></em>.  Suppose that\n",
    "<p style='text-align: center;'><em>v</em> = <em>a</em><sub>1</sub> <em>x</em><sub>1</sub> + <em>a</em><sub>2</sub> <em>x</em><sub>2</sub> + \n",
    "<em>a</em><sub>3</sub> <em>x</em><sub>3</sub> + &#8943; + <em>a<sub>n</sub></em> <em>x<sub>n</sub></em></p>\n",
    "is another such expression.  Then\n",
    "<p style='text-align: center;'>(<em>a</em><sub>1</sub> &minus; <em>c</em><sub>1</sub>) <em>x</em><sub>1</sub> + \n",
    "(<em>a</em><sub>2</sub> &minus; <em>c</em><sub>2</sub>) <em>x</em><sub>2</sub> + (<em>a</em><sub>3</sub> &minus; <em>c</em><sub>3</sub>) <em>x</em><sub>3</sub> + &#8943; \n",
    "+ (<em>a<sub>n</sub></em> &minus; <em>c<sub>n</sub></em>) <em>x<sub>n</sub></em> = <em>v</em> &minus; <em>v</em> = 0.</p>\n",
    "But the vectors in <em>B</em> are linearly independent, so the only way that the combination of vectors could be 0 is \n",
    "for <em>a<sub>i</sub></em> &minus; <em>c<sub>i</sub></em> = 0 for all 1 &le; <em>i</em> &le; <em>n</em>.  Hence, <em>a<sub>i</sub></em> = <em>c<sub>i</sub></em> for all <em>i</em>, \n",
    "and the representation is unique.<br><br>\n",
    "\n",
    "On the other hand, if every <em>v</em> &isin; <em>V</em> can be uniquely represented as <em>c</em><sub>1</sub> <em>x</em><sub>1</sub> + \n",
    "<em>c</em><sub>2</sub> <em>x</em><sub>2</sub> + <em>c</em><sub>3</sub> <em>x</em><sub>3</sub> + &#8943; + <em>c<sub>n</sub></em> <em>x<sub>n</sub></em>, then in \n",
    "particular 0 has only one representation, namely 0 = 0 <em>x</em><sub>1</sub> + 0 <em>x</em><sub>2</sub> + 0 <em>x</em><sub>3</sub> + &#8943; + \n",
    "0 <em>x<sub>n</sub></em>.  Thus, the vectors in <em>B</em> are linearly independent, and so <em>B</em> is a basis.<br><br>\n",
    "\n",
    "<a href=\"#lem141ret\">Return to text</a>"
   ]
  },
  {
   "cell_type": "markdown",
   "id": "1aa54a",
   "metadata": {
    "collapsed": false
   },
   "source": [
    "<br><br><br><br><br><br><br><br><br><br><br><br><br><br><br><br><br><br><br><br><br><br><br><br><br><br><br><br><br><br><br><br><br><br><br><br><br><br><br><br><br><br>"
   ]
  },
  {
   "cell_type": "markdown",
   "id": "d4193a",
   "metadata": {
    "collapsed": false
   },
   "source": [
    "<a name=\"lem142\" id=\"lem142\"></a>\n",
    "Proof of Lemma 14.2:<br><br>\n",
    "\n",
    "Suppose that <em>Y</em> = {<em>y</em><sub>1</sub>, <em>y</em><sub>2</sub>, <em>y</em><sub>3</sub>, &hellip; \n",
    "<em>y<sub>n</sub></em>, <em>y</em><sub><em>n</em>+1</sub>} are linearly independent, so that all of these vectors are nonzero.<br><br>\n",
    "\n",
    "Our goal is to show, with a suitable rearrangement of the vectors in <em>B</em>, that \n",
    "<p style='text-align: center;'>{<em>y</em><sub>1</sub>, <em>y</em><sub>2</sub>, &hellip; \n",
    "<em>y</em><sub><em>k</em>&minus;1</sub>, <em>y<sub>k</sub></em>, <em>x</em><sub><em>k</em>+1</sub>, &hellip; <em>x<sub>k</sub></em>}</p>\n",
    "is a basis for every 0 &le; <em>k</em> &le; <em>n</em>.<br><br>\n",
    "\n",
    "If <em>k</em> = 0, then this set is the original set <em>B</em>, which is a basis.  So let us use induction to assume that it is true for the previous case, that is, \n",
    "that {<em>y</em><sub>1</sub>, <em>y</em><sub>2</sub>, &hellip; \n",
    "<em>y</em><sub><em>k</em>&minus;1</sub>, <em>x<sub>k</sub></em>, <em>x</em><sub><em>k</em>+1</sub>, &hellip; <em>x<sub>k</sub></em>} is a basis.<br><br>\n",
    "\n",
    "We then can express <em>y<sub>k</sub></em> = <em>a</em><sub>1</sub> <em>y</em><sub>1</sub> + <em>a</em><sub>2</sub> <em>y</em><sub>2</sub> + &#8943; + <em>a</em><sub><em>k</em>&minus;1</sub> <em>y</em><sub><em>k</em>&minus;1</sub> + <em>a<sub>k</sub></em> <em>x<sub>k</sub></em> + &#8943; + <em>a<sub>n</sub></em> <em>x<sub>n</sub></em>.  Since the vectors in <em>Y</em> are linearly independent, we see that at least one \n",
    "of <em>a<sub>k</sub></em>, <em>a</em><sub><em>k</em>+1</sub>, &hellip; <em>a<sub>n</sub></em> is nonzero.  By rearranging the remaining elements of <em>B</em>, we can \n",
    "suppose that <em>a<sub>k</sub></em> &ne; 0.<br><br>\n",
    "\n",
    "Then <em>x<sub>k</sub></em> = <em>a<sub>k</sub></em><sup>-1</sup>(<em>y<sub>k</sub></em> &minus; <em>a</em><sub>1</sub> <em>y</em><sub>1</sub> &minus; &#8943; \n",
    "&minus; <em>a</em><sub><em>k</em>&minus;1</sub> <em>y</em><sub><em>k</em>&minus;1</sub> &minus; <em>a</em><sub><em>k</em>+1</sub> <em>x</em><sub><em>k</em>+1</sub> \n",
    "&minus; &#8943; &minus; <em>a<sub>n</sub></em> <em>x<sub>n</sub></em>).<br><br>\n",
    "\n",
    "Any element <em>v</em> &isin; <em>V</em> can be expressed as <em>v</em> = <em>c</em><sub>1</sub> <em>y</em><sub>1</sub> + <em>c</em><sub>2</sub> <em>y</em><sub>2</sub> + &#8943; + <em>c</em><sub><em>k</em>&minus;1</sub> <em>y</em><sub><em>k</em>&minus;1</sub> + <em>c<sub>k</sub></em> <em>x<sub>k</sub></em> + &#8943; + <em>c<sub>n</sub></em> <em>x<sub>n</sub></em>.  By substituting for the value of <em>x<sub>k</sub></em>, we see that <em>v</em> can be expressed as a \n",
    "linear combination of \n",
    "<p style='text-align: center;'>{<em>y</em><sub>1</sub>, <em>y</em><sub>2</sub>, &hellip; \n",
    "<em>y</em><sub><em>k</em>&minus;1</sub>, <em>y<sub>k</sub></em>, <em>x</em><sub><em>k</em>+1</sub>, &hellip; <em>x<sub>n</sub></em>}.</p>  \n",
    "If this set were linearly dependent, there would be a nonzero solution to\n",
    "<p style='text-align: center;'><em>c</em><sub>1</sub> <em>y</em><sub>1</sub> + <em>c</em><sub>2</sub> <em>y</em><sub>2</sub> \n",
    "+ &#8943; + <em>c</em><sub><em>k</em>&minus;1</sub> <em>y</em><sub><em>k</em>&minus;1</sub> + <em>c<sub>k</sub></em> <em>y<sub>k</sub></em> + &#8943; \n",
    "+ <em>c<sub>n</sub></em> <em>x<sub>n</sub></em> = 0.</p>\n",
    "Then <em>c<sub>k</sub></em> &ne; 0 lest there also be a nonzero solution to <em>c</em><sub>1</sub> <em>y</em><sub>1</sub> + <em>c</em><sub>2</sub> <em>y</em><sub>2</sub> \n",
    "+ &#8943; + <em>c</em><sub><em>k</em>&minus;1</sub> <em>y</em><sub><em>k</em>&minus;1</sub> + <em>c<sub>k</sub></em> <em>x<sub>k</sub></em> + &#8943; \n",
    "+ <em>c<sub>n</sub></em> <em>x<sub>n</sub></em> = 0, but we are assuming that {<em>y</em><sub>1</sub>, <em>y</em><sub>2</sub>, &hellip; \n",
    "<em>y</em><sub><em>k</em>&minus;1</sub>, <em>x<sub>k</sub></em>, <em>x</em><sub><em>k</em>+1</sub>, &hellip; <em>x<sub>n</sub></em>} is a basis.<br><br>\n",
    "\n",
    "But substituting the value for <em>y<sub>k</sub></em> gives\n",
    "<p style='text-align: center;'><em>c<sub>k</sub></em>(<em>a</em><sub>1</sub> <em>y</em><sub>1</sub> + <em>a</em><sub>2</sub> <em>y</em><sub>2</sub> + &#8943; \n",
    "+ <em>a</em><sub><em>k</em>&minus;1</sub> <em>y</em><sub><em>k</em>&minus;1</sub> + <em>a<sub>k</sub></em> <em>x<sub>k</sub></em> + &#8943; \n",
    "+ <em>a<sub>n</sub></em> <em>x<sub>n</sub></em>) + \n",
    "<em>c</em><sub>1</sub> <em>y</em><sub>1</sub> + <em>c</em><sub>2</sub> <em>y</em><sub>2</sub> \n",
    "+ &#8943; + <em>c</em><sub><em>k</em>&minus;1</sub> <em>y</em><sub><em>k</em>&minus;1</sub> + <em>c</em><sub><em>k</em>+1</sub> <em>y</em><sub><em>k</em>+1</sub> \n",
    "+ &#8943; + <em>c<sub>n</sub></em> <em>x<sub>n</sub></em> = 0.</p>\n",
    "This is a nonzero solution to <em>b</em><sub>1</sub> <em>y</em><sub>1</sub> + <em>b</em><sub>2</sub> <em>y</em><sub>2</sub> \n",
    "+ &#8943; + <em>b</em><sub><em>k</em>&minus;1</sub> <em>y</em><sub><em>k</em>&minus;1</sub> + <em>b<sub>k</sub></em> <em>x<sub>k</sub></em> + &#8943; \n",
    "+ <em>b<sub>n</sub></em> <em>x<sub>n</sub></em> = 0, since <em>b<sub>k</sub></em> = <em>c<sub>k</sub></em> <em>a<sub>k</sub></em> &ne; 0.  Thus, the \n",
    "set {<em>y</em><sub>1</sub>, <em>y</em><sub>2</sub>, &hellip; \n",
    "<em>y</em><sub><em>k</em>&minus;1</sub>, <em>y<sub>k</sub></em>, <em>x</em><sub><em>k</em>+1</sub>, &hellip; <em>x<sub>n</sub></em>} is linearly independent, and hence \n",
    "is a basis of <em>V</em>.<br><br>\n",
    "\n",
    "Now we can use the induction to say that {<em>y</em><sub>1</sub>, <em>y</em><sub>2</sub>, &hellip; <em>y<sub>n</sub></em>} is a basis of <em>V</em>, but \n",
    "then <em>y</em><sub><em>n</em>+1</sub> can be expressed in terms of {<em>y</em><sub>1</sub>, <em>y</em><sub>2</sub>, &hellip; <em>y<sub>n</sub></em>}, which shows \n",
    "that <em>Y</em> is in fact linearly dependent.<br><br>\n",
    "\n",
    "<a href=\"#lem142ret\">Return to text</a>"
   ]
  },
  {
   "cell_type": "markdown",
   "id": "47d1d6",
   "metadata": {
    "collapsed": false
   },
   "source": [
    "<br><br><br><br><br><br><br><br><br><br><br><br><br><br><br><br><br><br><br><br><br><br><br><br><br><br><br><br><br><br><br><br><br><br><br><br><br><br><br><br><br><br>"
   ]
  },
  {
   "cell_type": "markdown",
   "id": "4c413b",
   "metadata": {
    "collapsed": false
   },
   "source": [
    "<a name=\"prop141\" id=\"prop141\"></a>\n",
    "Proof of Proposition 14.1:<br><br>\n",
    "\n",
    "Suppose that <em>n</em> is not equal to <em>m</em>.  By exchanging the roles of <em>X</em> and <em>Y</em> if necessary, we can assume \n",
    "that <em>n</em> &lt; <em>m</em>.  Then we can use Lemma 14.2 to show that {<em>y</em><sub>1</sub>, <em>y</em><sub>2</sub>, <em>y</em><sub>3</sub>, &hellip; \n",
    "<em>y</em><sub><em>n</em>+1</sub>} is linearly dependent, hence <em>Y</em> is not a basis of <em>V</em>.  So we must have <em>n</em> = <em>m</em>.<br><br>\n",
    "\n",
    "<a href=\"#prop141ret\">Return to text</a>"
   ]
  },
  {
   "cell_type": "markdown",
   "id": "e2665c",
   "metadata": {
    "collapsed": false
   },
   "source": [
    "<br><br><br><br><br><br><br><br><br><br><br><br><br><br><br><br><br><br><br><br><br><br><br><br><br><br><br><br><br><br><br><br><br><br><br><br><br><br><br><br><br><br>"
   ]
  },
  {
   "cell_type": "markdown",
   "id": "f15375",
   "metadata": {
    "collapsed": false
   },
   "source": [
    "<a name=\"prop142\" id=\"prop142\"></a>\n",
    "Proof of Proposition 14.2:<br><br>\n",
    "\n",
    "Since {<em>y</em><sub>1</sub>, <em>y</em><sub>2</sub>, <em>y</em><sub>3</sub>, &hellip; <em>y<sub>n</sub></em>} is a basis for <em>V</em> over <em>E</em>, we can write \n",
    "any element of <em>V</em> in the form\n",
    "<p style='text-align: center;'><em>c</em><sub>1</sub> <em>y</em><sub>1</sub> + <em>c</em><sub>2</sub> <em>y</em><sub>2</sub> + \n",
    "<em>c</em><sub>3</sub> <em>y</em><sub>3</sub> + &#8943; + <em>c<sub>n</sub></em> <em>y<sub>n</sub></em>.</p>\n",
    "where <em>c</em><sub>1</sub>, <em>c</em><sub>2</sub>, <em>c</em><sub>3</sub>, &hellip; <em>c<sub>n</sub></em> are in <em>E</em>.<br><br>\n",
    "\n",
    "Since {<em>x</em><sub>1</sub>, <em>x</em><sub>2</sub>, <em>x</em><sub>3</sub>, &hellip; <em>x<sub>m</sub></em>} is a basis of <em>E</em> over <em>F</em>, we can in turn \n",
    "write\n",
    "<table align=\"center\" border=\"0\" cellspacing=\"0\" cellpadding=\"0\">\n",
    "  <tr>\n",
    "    <td align=\"right\"><em>c</em><sub>1</sub> =</td>\n",
    "    <td align=\"left\">&ensp;<em>a</em><sub>1,1</sub> <em>x</em><sub>1</sub> + <em>a</em><sub>2,1</sub> <em>x</em><sub>2</sub> + \n",
    "    <em>a</em><sub>3,1</sub> <em>x</em><sub>3</sub> + &#8943; + <em>a</em><sub><em>m</em>,1</sub><em>x<sub>m</sub></em>,</td>\n",
    "  </tr>\n",
    "  <tr>\n",
    "    <td align=\"right\"><em>c</em><sub>2</sub> =</td>\n",
    "    <td align=\"left\">&ensp;<em>a</em><sub>1,2</sub> <em>x</em><sub>1</sub> + <em>a</em><sub>2,2</sub> <em>x</em><sub>2</sub> + \n",
    "    <em>a</em><sub>3,2</sub> <em>x</em><sub>3</sub> + &#8943; + <em>a</em><sub><em>m</em>,2</sub><em>x<sub>m</sub></em>,</td>\n",
    "  </tr>\n",
    "  <tr>\n",
    "    <td align=\"right\"><em>c</em><sub>3</sub> =</td>\n",
    "    <td align=\"left\">&ensp;<em>a</em><sub>1,3</sub> <em>x</em><sub>1</sub> + <em>a</em><sub>2,3</sub> <em>x</em><sub>2</sub> + \n",
    "    <em>a</em><sub>3,3</sub> <em>x</em><sub>3</sub> + &#8943; + <em>a</em><sub><em>m</em>,3</sub><em>x<sub>m</sub></em>,</td>\n",
    "  </tr>\n",
    "  <tr>\n",
    "    <td></td>\n",
    "    <td align=\"center\">&ensp;&ensp;&ensp;&hellip;&hellip;&hellip;&hellip;&hellip;&ensp;&ensp;&ensp;</td>\n",
    "  </tr>  \n",
    "  <tr>\n",
    "    <td align=\"right\"><em>c<sub>n</sub></em> =</td>\n",
    "    <td align=\"left\">&ensp;<em>a</em><sub>1,<em>n</em></sub> <em>x</em><sub>1</sub> + <em>a</em><sub>2,<em>n</em></sub> <em>x</em><sub>2</sub> + \n",
    "    <em>a</em><sub>3,<em>n</em></sub> <em>x</em><sub>3</sub> + &#8943; + <em>a</em><sub><em>m</em>,<em>n</em></sub><em>x<sub>m</sub></em>.</td>\n",
    "  </tr>\n",
    "</table>\n",
    "<br>\n",
    "where each <em>a</em><sub><em>i</em>,<em>j</em></sub> is in <em>F</em>.  Combining these, we see that every element of <em>V</em> can be expressed in the form\n",
    "<br><br>\n",
    "<table align=\"center\" border=\"0\" cellspacing=\"0\" cellpadding=\"0\">\n",
    "  <tr>\n",
    "    <td align=\"left\">&ensp;<em>a</em><sub>1,1</sub> <em>x</em><sub>1</sub> <em>y</em><sub>1</sub> + <em>a</em><sub>2,1</sub> <em>x</em><sub>2</sub> <em>y</em><sub>1</sub> + \n",
    "    <em>a</em><sub>3,1</sub> <em>x</em><sub>3</sub> <em>y</em><sub>1</sub> + &#8943; + <em>a</em><sub><em>m</em>,1</sub><em>x<sub>m</sub></em> <em>y</em><sub>1</sub> +</td>\n",
    "  </tr>\n",
    "  <tr>\n",
    "    <td align=\"left\">&ensp;<em>a</em><sub>1,2</sub> <em>x</em><sub>1</sub> <em>y</em><sub>2</sub> + <em>a</em><sub>2,2</sub> <em>x</em><sub>2</sub> <em>y</em><sub>2</sub> + \n",
    "    <em>a</em><sub>3,2</sub> <em>x</em><sub>3</sub> <em>y</em><sub>2</sub> + &#8943; + <em>a</em><sub><em>m</em>,2</sub><em>x<sub>m</sub></em> <em>y</em><sub>2</sub> +</td>\n",
    "  </tr>\n",
    "  <tr>\n",
    "    <td align=\"left\">&ensp;<em>a</em><sub>1,3</sub> <em>x</em><sub>1</sub> <em>y</em><sub>3</sub> + <em>a</em><sub>2,3</sub> <em>x</em><sub>2</sub> <em>y</em><sub>3</sub> + \n",
    "    <em>a</em><sub>3,3</sub> <em>x</em><sub>3</sub> <em>y</em><sub>3</sub> + &#8943; + <em>a</em><sub><em>m</em>,3</sub><em>x<sub>m</sub></em> <em>y</em><sub>3</sub> +</td>\n",
    "  </tr>\n",
    "  <tr>\n",
    "    <td align=\"center\">&ensp;&emsp;&emsp;&ensp;&ensp;&hellip;&hellip;&hellip;&hellip;&hellip;&ensp;&ensp;&ensp;</td>\n",
    "  </tr>  \n",
    "  <tr>\n",
    "    <td align=\"left\">&ensp;<em>a</em><sub>1,<em>n</em></sub> <em>x</em><sub>1</sub> <em>y<sub>n</sub></em> + \n",
    "    <em>a</em><sub>2,<em>n</em></sub> <em>x</em><sub>2</sub> <em>y<sub>n</sub></em> + \n",
    "    <em>a</em><sub>3,<em>n</em></sub> <em>x</em><sub>3</sub> <em>y<sub>n</sub></em> + &#8943; + \n",
    "    <em>a</em><sub><em>m</em>,<em>n</em></sub><em>x<sub>m</sub></em> <em>y<sub>n</sub></em>.</td>\n",
    "  </tr>\n",
    "</table>\n",
    "<br>\n",
    "Thus, to show that the set <em>S</em> is a basis of <em>V</em> over <em>F</em>, we merely have to show that these vectors are linearly independent.  Let us switch to \n",
    "a summation notation for the remainder of the proof.  Suppose that there is a nonzero linear combination of these vectors that produces 0, that is\n",
    "<br><br>\n",
    "<table align=\"center\" border=\"0\" cellspacing=\"0\" cellpadding=\"0\">\n",
    "  <tr>\n",
    "    <td align=\"center\" valign=\"bottom\">&ensp;&ensp;<em>m</em>&ensp;&ensp;</td>\n",
    "    <td align=\"center\" valign=\"bottom\">&ensp;&ensp;<em>n</em>&ensp;&ensp;</td>\n",
    "    <td></td>\n",
    "  </tr>\n",
    "  <tr>\n",
    "    <td align=\"center\"><font face=\"Times New Roman, Times, serif\" size=\"+4\">&sum;</font></td>\n",
    "    <td align=\"center\"><font face=\"Times New Roman, Times, serif\" size=\"+4\">&sum;</font></td>\n",
    "    <td align=\"left\"><em>a</em><sub><em>i</em>,<em>j</em></sub> <em>x<sub>i</sub></em> <em>y<sub>j</sub></em> = 0</td>\n",
    "  </tr>\n",
    "  <tr>\n",
    "    <td align=\"center\" valign=\"top\">&ensp;<em>i</em>=1&ensp;</td>\n",
    "    <td align=\"center\" valign=\"top\">&ensp;<em>j</em>=1&ensp;</td>\n",
    "    <td></td>\n",
    "  </tr>\n",
    "</table>\n",
    "\n",
    "for <em>a</em><sub><em>i</em>,<em>j</em></sub> in <em>F</em>.  Then we have\n",
    "<table align=\"center\" border=\"0\" cellspacing=\"0\" cellpadding=\"0\">\n",
    "  <tr>\n",
    "    <td></td>\n",
    "    <td align=\"center\" valign=\"bottom\">&ensp;&ensp;<em>m</em>&ensp;&ensp;</td>\n",
    "    <td align=\"center\" valign=\"bottom\">&ensp;&ensp;<em>n</em>&ensp;&ensp;</td>\n",
    "    <td></td>\n",
    "    <td align=\"center\" valign=\"bottom\">&ensp;&ensp;<em>n</em>&ensp;&ensp;</td>\n",
    "    <td align=\"center\">&#9115;</td>\n",
    "    <td align=\"center\" valign=\"bottom\">&ensp;&ensp;<em>m</em>&ensp;&ensp;</td>\n",
    "    <td></td>\n",
    "    <td align=\"center\">&#9118;</td>\n",
    "    <td></td>\n",
    "  </tr>\n",
    "  <tr>\n",
    "    <td></td>\n",
    "    <td rowspan = \"3\" align=\"center\"><font face=\"Times New Roman, Times, serif\" size=\"+4\">&sum;</font></td>\n",
    "    <td rowspan = \"3\" align=\"center\"><font face=\"Times New Roman, Times, serif\" size=\"+4\">&sum;</font></td>\n",
    "    <td></td>\n",
    "    <td rowspan = \"3\" align=\"center\"><font face=\"Times New Roman, Times, serif\" size=\"+4\">&sum;</font></td>\n",
    "    <td align=\"center\">&#9116;</td>\n",
    "    <td rowspan = \"3\" align=\"center\"><font face=\"Times New Roman, Times, serif\" size=\"+4\">&sum;</font></td>\n",
    "    <td></td>\n",
    "    <td align=\"center\">&#9119;</td>\n",
    "    <td></td>\n",
    "  </tr>\n",
    "  <tr>\n",
    "    <td align=\"right\">0 =</td>\n",
    "    <td align=\"left\"><em>a</em><sub><em>i</em>,<em>j</em></sub> <em>x<sub>i</sub></em> <em>y<sub>j</sub></em> =</td>\n",
    "    <td align=\"center\">&#9116;</td>\n",
    "    <td align=\"center\"><em>a</em><sub><em>i</em>,<em>j</em></sub> <em>x<sub>i</sub></em> </td>\n",
    "    <td align=\"center\">&#9119;</td>\n",
    "    <td align=\"center\"><em>y<sub>j</sub></em>.</td>\n",
    "  </tr>\n",
    "  <tr>\n",
    "    <td></td>\n",
    "    <td></td>\n",
    "    <td align=\"center\">&#9116;</td>\n",
    "    <td></td>\n",
    "    <td align=\"center\">&#9119;</td>\n",
    "    <td></td>\n",
    "  </tr>\n",
    "  <tr>\n",
    "    <td></td>\n",
    "    <td align=\"center\" valign=\"top\">&ensp;<em>i</em>=1&ensp;</td>\n",
    "    <td align=\"center\" valign=\"top\">&ensp;<em>j</em>=1&ensp;</td>\n",
    "    <td></td>\n",
    "    <td align=\"center\" valign=\"top\">&ensp;<em>j</em>=1&ensp;</td>\n",
    "    <td align=\"center\">&#9117;</td>\n",
    "    <td align=\"center\" valign=\"top\">&ensp;<em>i</em>=1&ensp;</td>\n",
    "    <td></td>  \n",
    "    <td align=\"center\">&#9120;</td> \n",
    "    <td></td>   \n",
    "  </tr>\n",
    "</table>\n",
    "<br>\n",
    "Since {<em>y</em><sub>1</sub>, <em>y</em><sub>2</sub>, <em>y</em><sub>3</sub>, &hellip; <em>y<sub>n</sub></em>} is a basis of <em>V</em> over <em>E</em>, the only way \n",
    "that the right hand expression could be zero is if\n",
    "<table align=\"center\" border=\"0\" cellspacing=\"0\" cellpadding=\"0\">\n",
    "  <tr>\n",
    "    <td align=\"center\" valign=\"bottom\">&ensp;&ensp;<em>m</em>&ensp;&ensp;</td>\n",
    "    <td></td>\n",
    "  </tr>\n",
    "  <tr>\n",
    "    <td align=\"center\"><font face=\"Times New Roman, Times, serif\" size=\"+4\">&sum;</font></td>\n",
    "    <td align=\"left\"><em>a</em><sub><em>i</em>,<em>j</em></sub> <em>x<sub>i</sub></em> = 0</td>\n",
    "  </tr>\n",
    "  <tr>\n",
    "    <td align=\"center\" valign=\"top\">&ensp;<em>i</em>=1&ensp;</td>\n",
    "    <td></td>\n",
    "  </tr>\n",
    "</table>\n",
    "<br>\n",
    "for all <em>j</em> = 1, 2, 3, &hellip; <em>n</em>.  Now {<em>x</em><sub>1</sub>, <em>x</em><sub>2</sub>, <em>x</em><sub>3</sub>, &hellip; <em>x<sub>m</sub></em>} is a \n",
    "basis of <em>E</em> over <em>F</em>, so the only way that each of these sums could be 0 is if <em>a</em><sub><em>i</em>,<em>j</em></sub> = 0 for all values of <em>i</em> \n",
    "and <em>j</em>.  Since all of the coefficients must be 0, the vectors in <em>S</em> are linearly independent, and therefore <em>S</em> is a basis of <em>V</em> over \n",
    "<em>F</em> of dimension <em>m n</em>.<br><br>\n",
    "\n",
    "<a href=\"#prop142ret\">Return to text</a>"
   ]
  },
  {
   "cell_type": "markdown",
   "id": "d9a8d2",
   "metadata": {
    "collapsed": false
   },
   "source": [
    "<br><br><br><br><br><br><br><br><br><br><br><br><br><br><br><br><br><br><br><br><br><br><br><br><br><br><br><br><br><br><br><br><br><br><br><br><br><br><br><br><br><br>"
   ]
  },
  {
   "cell_type": "markdown",
   "id": "2c9502",
   "metadata": {
    "collapsed": false
   },
   "source": [
    "<a name=\"prop143\" id=\"prop143\"></a>\n",
    "Proof of Proposition 14.3:<br><br>\n",
    "\n",
    "Suppose that {<em>x</em><sub>1</sub>, <em>x</em><sub>2</sub>, <em>x</em><sub>3</sub>, &hellip; <em>x<sub>n</sub></em>} is a basis of <em>K</em> over <em>F</em>.  We want \n",
    "to show that {<em>&#981;</em>(<em>x</em><sub>1</sub>), <em>&#981;</em>(<em>x</em><sub>2</sub>), <em>&#981;</em>(<em>x</em><sub>3</sub>), &hellip; \n",
    "<em>&#981;</em>(<em>x<sub>n</sub></em>)} is a basis of <em>E</em> over <em>F</em>.  If <em>v</em> is in <em>E</em>, then <em>&#981;</em>(<em>u</em>) = <em>v</em> for \n",
    "some <em>u</em> in <em>K</em>.  Since <em>K</em> is generated by the elements in the basis, we have\n",
    "<p style='text-align: center;'><em>u</em> = <em>c</em><sub>1</sub> <em>x</em><sub>1</sub> + <em>c</em><sub>2</sub> <em>x</em><sub>2</sub> + \n",
    "<em>c</em><sub>3</sub> <em>x</em><sub>3</sub> + &#8943; + <em>c<sub>n</sub></em> <em>x<sub>n</sub></em></p>\n",
    "for some <em>c</em><sub>1</sub>, <em>c</em><sub>2</sub>, <em>c</em><sub>3</sub>, &hellip; <em>c<sub>n</sub></em> in <em>F</em>.  Then\n",
    "<p style='text-align: center;'><em>v</em> = <em>&#981;</em>(<em>u</em>) = <em>&#981;</em>(<em>c</em><sub>1</sub>) <em>&#981;</em>(<em>x</em><sub>1</sub>) + \n",
    "<em>&#981;</em>(<em>c</em><sub>2</sub>) <em>&#981;</em>(<em>x</em><sub>2</sub>) + <em>&#981;</em>(<em>c</em><sub>3</sub>) <em>&#981;</em>(<em>x</em><sub>3</sub>) + \n",
    "&#8943; + <em>&#981;</em>(<em>c<sub>n</sub></em>) <em>&#981;</em>(<em>x<sub>n</sub></em>) = <em>c</em><sub>1</sub> <em>&#981;</em>(<em>x</em><sub>1</sub>) + \n",
    "<em>c</em><sub>2</sub> <em>&#981;</em>(<em>x</em><sub>2</sub>) + <em>c</em><sub>3</sub> <em>&#981;</em>(<em>x</em><sub>3</sub>) + &#8943; + \n",
    "<em>c<sub>n</sub></em> <em>&#981;</em>(<em>x<sub>n</sub></em>).</p>\n",
    "Thus, {<em>&#981;</em>(<em>x</em><sub>1</sub>), <em>&#981;</em>(<em>x</em><sub>2</sub>), <em>&#981;</em>(<em>x</em><sub>3</sub>), &hellip; \n",
    "<em>&#981;</em>(<em>x<sub>n</sub></em>)} generates the field <em>E</em>.  Also, if\n",
    "<p style='text-align: center;'><em>c</em><sub>1</sub> <em>&#981;</em>(<em>x</em><sub>1</sub>) + \n",
    "<em>c</em><sub>2</sub> <em>&#981;</em>(<em>x</em><sub>2</sub>) + <em>c</em><sub>3</sub> <em>&#981;</em>(<em>x</em><sub>3</sub>) + &#8943; + \n",
    "<em>c<sub>n</sub></em> <em>&#981;</em>(<em>x<sub>n</sub></em>) = 0,</p>\n",
    "then <em>&#981;</em>(<em>c</em><sub>1</sub> <em>x</em><sub>1</sub> + <em>c</em><sub>2</sub> <em>x</em><sub>2</sub> + \n",
    "<em>c</em><sub>3</sub> <em>x</em><sub>3</sub> + &#8943; + <em>c<sub>n</sub></em> <em>x<sub>n</sub></em>) = 0, which implies that\n",
    "<p style='text-align: center;'><em>c</em><sub>1</sub> <em>x</em><sub>1</sub> + <em>c</em><sub>2</sub> <em>x</em><sub>2</sub> + \n",
    "<em>c</em><sub>3</sub> <em>x</em><sub>3</sub> + &#8943; + <em>c<sub>n</sub></em> <em>x<sub>n</sub></em> = 0.</p>\n",
    "since <em>K</em> and <em>E</em> are isomorphic.  But since {<em>x</em><sub>1</sub>, <em>x</em><sub>2</sub>, <em>x</em><sub>3</sub>, &hellip; <em>x<sub>n</sub></em>} is \n",
    "a basis for <em>K</em>, this can only happen if\n",
    "<p style='text-align: center;'><em>c</em><sub>1</sub> = <em>c</em><sub>2</sub> = <em>c</em><sub>3</sub> = &#8943; = <em>c<sub>n</sub></em> = 0.</p>\n",
    "So {<em>&#981;</em>(<em>x</em><sub>1</sub>), <em>&#981;</em>(<em>x</em><sub>2</sub>), <em>&#981;</em>(<em>x</em><sub>3</sub>), &hellip; \n",
    "<em>&#981;</em>(<em>x<sub>n</sub></em>)} is a basis for <em>E</em> over <em>F</em>, and hence <em>K</em> and <em>E</em> have the same dimension over the \n",
    "field <em>F</em>.<br><br>\n",
    "\n",
    "<a href=\"#prop143ret\">Return to text</a>"
   ]
  },
  {
   "cell_type": "markdown",
   "id": "b171f9",
   "metadata": {
    "collapsed": false
   },
   "source": [
    "<br><br><br><br><br><br><br><br><br><br><br><br><br><br><br><br><br><br><br><br><br><br><br><br><br><br><br><br><br><br><br><br><br><br><br><br><br><br><br><br><br><br>"
   ]
  },
  {
   "cell_type": "markdown",
   "id": "ffcf29",
   "metadata": {
    "collapsed": false
   },
   "source": [
    "<a name=\"lem143\" id=\"lem143\"></a>\n",
    "Proof of Lemma 14.3:<br><br>\n",
    "\n",
    "First, we must show that <em>K</em>(<em>S</em>) is a subfield of <em>E</em>.  If <em>x</em> and <em>y</em> are in <em>K</em>(<em>S</em>), <em>y</em> &ne; 0, then \n",
    "<em>x</em> and <em>y</em> are in each of the subfields in the collection <em>L</em>.  Then <em>x</em> &minus; <em>y</em> and <em>x</em>&middot;<em>y</em><sup>-1</sup> are \n",
    "also in each of the subfields in this collection.  Thus, <em>x</em> &minus; <em>y</em> and <em>x</em>&middot;<em>y</em><sup>-1</sup> are in <em>K</em>(<em>S</em>), and \n",
    "so <em>K</em>(<em>S</em>) is a subfield of <em>E</em>.<br><br>\n",
    "\n",
    "To show that <em>K</em>(<em>S</em>) is the smallest field containing both <em>K</em> and the elements <em>S</em>, note that <em>K</em>(<em>S</em>) is one of the subfields \n",
    "in the collection <em>L</em>.  Thus, any subfield containing <em>K</em> and the elements of <em>S</em> must also contain <em>K</em>(<em>S</em>).<br><br>\n",
    "\n",
    "<a href=\"#lem143ret\">Return to text</a>"
   ]
  },
  {
   "cell_type": "markdown",
   "id": "c534a4",
   "metadata": {
    "collapsed": false
   },
   "source": [
    "<br><br><br><br><br><br><br><br><br><br><br><br><br><br><br><br><br><br><br><br><br><br><br><br><br><br><br><br><br><br><br><br><br><br><br><br><br><br><br><br><br><br>"
   ]
  },
  {
   "cell_type": "markdown",
   "id": "a71817",
   "metadata": {
    "collapsed": false
   },
   "source": [
    "<a name=\"prop144\" id=\"prop144\"></a>\n",
    "Proof of Proposition 14.4:<br><br>\n",
    "\n",
    "From Proposition 13.1, <em>K</em> = <em>F</em>[<em>x</em>]/&lang;<em>f</em>(<em>x</em>)&rang; is a field that contains <em>F</em> as a \n",
    "subfield.  Let <em>y</em> = <em>x</em> + &lang;<em>f</em>(<em>x</em>)&rang; in <em>K</em>.  If we treat <em>f</em>(<em>x</em>) as a polynomial in <em>K</em>[<em>x</em>], we find \n",
    "that <em>f</em>(<em>y</em>)= 0.  Consider the set {1, <em>y</em>, <em>y</em><sup>2</sup>, <em>y</em><sup>3</sup>, &hellip; <em>y</em><sup><em>n</em>&minus;1</sup>}.  We \n",
    "wish to show that this set is a basis for <em>K</em>.  That is, we wish to show that every element of <em>K</em> can be expressed uniquely as\n",
    "<p style='text-align: center;'><em>k</em> = <em>a</em><sub>1</sub> 1 + <em>a</em><sub>2</sub> <em>y</em> + <em>a</em><sub>3</sub> <em>y</em><sup>2</sup> + \n",
    "&#8943; + <em>a<sub>n</sub></em> <em>y</em><sup><em>n</em>&minus;1</sup>,</p>\n",
    "where the <em>a</em><sub>1</sub>, <em>a</em><sub>2</sub>, <em>a</em><sub>3</sub>, &hellip; <em>a<sub>n</sub></em> are in <em>F</em>.  Any \n",
    "element <em>k</em> &isin; <em>K</em> can be expressed as <em>k</em> = <em>g</em>(<em>x</em>) + &lang;<em>f</em>(<em>x</em>)&rang; for some polynomial <em>g</em>(<em>x</em>) in \n",
    "<em>F</em>[<em>x</em>].  By the division algorithm theorem (12.1), there exist unique polynomials <em>q</em>(<em>x</em>) and <em>r</em>(<em>x</em>) such that\n",
    "<p style='text-align: center;'><em>g</em>(<em>x</em>) = <em>f</em>(<em>x</em>)&middot;<em>q</em>(<em>x</em>) + <em>r</em>(<em>x</em>),</p>\n",
    "where either <em>r</em>(<em>x</em>) = 0, or the degree of <em>r</em>(<em>x</em>) is less than <em>n</em>.  Then\n",
    "<p style='text-align: center;'><em>r</em>(<em>x</em>) = <em>a</em><sub>1</sub> + <em>a</em><sub>2</sub> <em>x</em> + <em>a</em><sub>3</sub> <em>x</em><sup>2</sup> + \n",
    "&#8943; + <em>a<sub>n</sub></em> <em>x</em><sup><em>n</em>&minus;1</sup></p>\n",
    "for some <em>a</em><sub>1</sub>, <em>a</em><sub>2</sub>, <em>a</em><sub>3</sub>, &hellip; <em>a<sub>n</sub></em> in <em>F</em>.  Note that we can now write\n",
    "<p style='text-align: center;'><em>k</em> = <em>g</em>(<em>x</em>) + &lang;<em>f</em>(<em>x</em>)&rang; = <em>r</em>(<em>x</em>) + &lang;<em>f</em>(<em>x</em>)&rang; = \n",
    "<em>a</em><sub>1</sub> 1 + <em>a</em><sub>2</sub> <em>y</em> + <em>a</em><sub>3</sub> <em>y</em><sup>2</sup> + \n",
    "&#8943; + <em>a<sub>n</sub></em> <em>y</em><sup><em>n</em>&minus;1</sup>.</p>\n",
    "Since <em>r</em>(<em>x</em>) is unique, <em>k</em> is uniquely determined as a linear combination of {1, <em>y</em>, <em>y</em><sup>2</sup>, <em>y</em><sup>3</sup>, \n",
    "&hellip; <em>y</em><sup><em>n</em>&minus;1</sup>}.  Thus, by Lemma 14.1, {1, <em>y</em>, <em>y</em><sup>2</sup>, <em>y</em><sup>3</sup>, \n",
    "&hellip; <em>y</em><sup><em>n</em>&minus;1</sup>} is a basis.<br><br>\n",
    "\n",
    "<a href=\"#prop144ret\">Return to text</a>"
   ]
  },
  {
   "cell_type": "markdown",
   "id": "0a8aa8",
   "metadata": {
    "collapsed": false
   },
   "source": [
    "<br><br><br><br><br><br><br><br><br><br><br><br><br><br><br><br><br><br><br><br><br><br><br><br><br><br><br><br><br><br><br><br><br><br><br><br><br><br><br><br><br><br>"
   ]
  },
  {
   "cell_type": "markdown",
   "id": "63449e",
   "metadata": {
    "collapsed": false
   },
   "source": [
    "<a name=\"prop145\" id=\"prop145\"></a>\n",
    "Proof of Proposition 14.5:<br><br>\n",
    "\n",
    "Let <em>y</em> be an element in the field <em>K</em>.  Consider the set {1, <em>y</em>, <em>y</em><sup>2</sup>, <em>y</em><sup>3</sup>, \n",
    "&hellip; <em>y<sup>n</sup></em>}.  Since there are <em>n</em> + 1 elements in this set, and <em>K</em> has dimension <em>n</em> over <em>F</em>, by Lemma 14.2 these \n",
    "are linearly dependent, so there is a nonzero solution to\n",
    "<p style='text-align: center;'><em>a</em><sub>0</sub> + <em>a</em><sub>1</sub> <em>y</em> + <em>a</em><sub>2</sub> <em>y</em><sup>2</sup> + \n",
    "<em>a</em><sub>3</sub> <em>y</em><sup>3</sup> + &#8943; + <em>a<sub>n</sub></em> <em>y<sup>n</sup></em> = 0</p>\n",
    "with <em>a</em><sub>0</sub>, <em>a</em><sub>1</sub>, <em>a</em><sub>2</sub>, &hellip; <em>a<sub>n</sub></em> in <em>F</em>.  Thus, there is a nonzero polynomial\n",
    "<p style='text-align: center;'><em>a</em><sub>0</sub> + <em>a</em><sub>1</sub> <em>x</em> + <em>a</em><sub>2</sub> <em>x</em><sup>2</sup> + \n",
    "<em>a</em><sub>3</sub> <em>x</em><sup>3</sup> + &#8943; + <em>a<sub>n</sub></em> <em>x<sup>n</sup></em></p>\n",
    "in <em>F</em>[<em>x</em>] for which <em>y</em> is a root when treated as a polynomial in <em>K</em>[<em>x</em>].<br><br>\n",
    "\n",
    "Let us now show uniqueness.  Let <em>f</em>(<em>x</em>) be a polynomial of lowest possible degree in <em>F</em>[<em>x</em>] such that <em>f</em>(<em>y</em>) = 0.  Since \n",
    "<em>F</em> is a field, we can divide this polynomial by its leading coefficient to obtain a polynomial with a leading coefficient of 1.  Now, if there were two \n",
    "such polynomials, <em>f</em>(<em>x</em>) and <em>g</em>(<em>x</em>), then by the division algorithm theorem (12.1), there exist polynomials <em>q</em>(<em>x</em>) and \n",
    "<em>r</em>(<em>x</em>) such that\n",
    "<p style='text-align: center;'><em>f</em>(<em>x</em>) = <em>g</em>(<em>x</em>)&middot;<em>q</em>(<em>x</em>) + <em>r</em>(<em>x</em>),</p>\n",
    "where either <em>r</em>(<em>x</em>) = 0 or the degree of <em>r</em>(<em>x</em>) is strictly less than the degree of <em>g</em>(<em>x</em>).  But note that\n",
    "<p style='text-align: center;'>0 = <em>f</em>(<em>y</em>) = <em>g</em>(<em>y</em>)&middot;<em>q</em>(<em>y</em>) + <em>r</em>(<em>y</em>) = \n",
    "0 + <em>r</em>(<em>y</em>) = 0.</p>\n",
    "Thus, <em>y</em> is a root of the polynomial <em>r</em>(<em>x</em>).  But the degree of <em>f</em>(<em>x</em>) and <em>g</em>(<em>x</em>) was chosen to be \n",
    "minimal.  So <em>r</em>(<em>x</em>) = 0, and <em>f</em>(<em>x</em>) is a multiple of <em>g</em>(<em>x</em>).  Finally, since both <em>f</em>(<em>x</em>) and \n",
    "<em>g</em>(<em>x</em>) have the same degree and have the same leading term of 1, we have <em>f</em>(<em>x</em>) = <em>g</em>(<em>x</em>).  Therefore, there is a \n",
    "unique polynomial in <em>F</em>[<em>x</em>] of minimal degree and leading coefficient of 1 such that <em>f</em>(<em>y</em>) = 0.<br><br>\n",
    "\n",
    "<a href=\"#prop145ret\">Return to text</a>"
   ]
  },
  {
   "cell_type": "markdown",
   "id": "766286",
   "metadata": {
    "collapsed": false
   },
   "source": [
    "<br><br><br><br><br><br><br><br><br><br><br><br><br><br><br><br><br><br><br><br><br><br><br><br><br><br><br><br><br><br><br><br><br><br><br><br><br><br><br><br><br><br>"
   ]
  },
  {
   "cell_type": "markdown",
   "id": "25c4cd",
   "metadata": {
    "collapsed": false
   },
   "source": [
    "<a name=\"prop146\" id=\"prop146\"></a>\n",
    "Proof of Proposition 14.6:<br><br>\n",
    "\n",
    "Let us consider the evaluation homomorphism <em>&#981;<sub>w</sub></em> that maps polynomials in <em>F</em>[<em>x</em>] to elements in <em>F</em>(<em>w</em>):\n",
    "<p style='text-align: center;'><em>&#981;<sub>w</sub></em>(<em>g</em>(<em>x</em>)) = <em>g</em>(<em>w</em>).</p>\n",
    "By Proposition 12.1, <em>&#981;<sub>w</sub></em> is a ring homomorphism.  The image of this homomorphism contains both <em>F</em> and <em>w</em>, and since \n",
    "<em>F</em>(<em>w</em>) is the smallest field containing both <em>F</em> and <em>w</em>, the image is all of <em>F</em>(<em>w</em>).  The kernel \n",
    "of <em>&#981;<sub>w</sub></em> is the set of polynomials in <em>F</em>[<em>x</em>] that have <em>w</em> as a root.  But <em>f</em>(<em>x</em>) is an irreducible \n",
    "polynomial in <em>F</em>[<em>x</em>] containing <em>w</em> as a root.  Thus, any polynomial in the kernel is a multiple of <em>f</em>(<em>x</em>).  Thus, the kernel \n",
    "of <em>&#981;<sub>w</sub></em> is &lang;<em>f</em>(<em>x</em>)&rang;.  Finally, by the first ring isomorphism theorem (10.2), we have \n",
    "that <em>F</em>(<em>w</em>) &asymp; <em>F</em>[<em>x</em>]/&lang;<em>f</em>(<em>x</em>)&rang;.<br><br>\n",
    "\n",
    "<a href=\"#prop146ret\">Return to text</a>"
   ]
  },
  {
   "cell_type": "markdown",
   "id": "66dc5c",
   "metadata": {
    "collapsed": false
   },
   "source": [
    "<br><br><br><br><br><br><br><br><br><br><br><br><br><br><br><br><br><br><br><br><br><br><br><br><br><br><br><br><br><br><br><br><br><br><br><br><br><br><br><br><br><br>"
   ]
  },
  {
   "cell_type": "markdown",
   "id": "fc966c",
   "metadata": {
    "collapsed": false
   },
   "source": [
    "<a name=\"cor141\" id=\"cor141\"></a>\n",
    "Proof of Corollary 14.1:<br><br>\n",
    "\n",
    "By Proposition 14.5, <em>f</em>(<em>x</em>) = Irr<sub><em>F</em></sub>(<em>u</em>, <em>x</em>) exists.  By Proposition 14.6, <em>F</em>(<em>u</em>) is isomorphic to the \n",
    "field <em>F</em>[<em>x</em>]/&lang;<em>f</em>(<em>x</em>)&rang;.  By Proposition 14.4, <em>F</em>[<em>x</em>]/&lang;<em>f</em>(<em>x</em>)&rang; has dimension <em>n</em> over \n",
    "<em>F</em>.  Finally, by Corollary 14.3, two isomorphic extensions of <em>F</em> must have the same dimension over <em>F</em> provided that the isomorphism fixes the \n",
    "elements of <em>F</em>, which the isomorphism in Proposition 14.6 clearly does.  Thus, the dimension of <em>F</em>(<em>u</em>) over <em>F</em> is <em>n</em>.<br><br>\n",
    "\n",
    "<a href=\"#cor141ret\">Return to text</a>"
   ]
  },
  {
   "cell_type": "markdown",
   "id": "eab188",
   "metadata": {
    "collapsed": false
   },
   "source": [
    "<br><br><br><br><br><br><br><br><br><br><br><br><br><br><br><br><br><br><br><br><br><br><br><br><br><br><br><br><br><br><br><br><br><br><br><br><br><br><br><br><br><br>"
   ]
  },
  {
   "cell_type": "markdown",
   "id": "2ad9c0",
   "metadata": {
    "collapsed": false
   },
   "source": [
    "<a name=\"prop147\" id=\"prop147\"></a>\n",
    "Proof of Proposition 14.7:<br><br>\n",
    "\n",
    "By Lemma 13.3, we can extend <em>&fnof;</em> to a isomorphism from <em>K</em>[<em>x</em>] to <em>E</em>[<em>x</em>].  By Proposition 12.1, <em>&#981;<sub>v</sub></em> is \n",
    "a ring homomorphism from <em>E</em>[<em>x</em>] to <em>E</em>(<em>v</em>).  We can combine these homomorphisms to produce the homomorphism\n",
    "<p style='text-align: center;'><em>&#981;<sub>v</sub></em>&middot;<em>&fnof;</em> : <em>K</em>[<em>x</em>] &rarr; <em>E</em>[<em>x</em>] &rarr; <em>E</em>(<em>v</em>).</p>\n",
    "Since the isomorphism in Lemma 13.3 sends <em>x</em> to <em>x</em>, we have that (<em>&#981;<sub>v</sub></em>&middot;<em>&fnof;</em>)(<em>x</em>) = \n",
    "<em>&#981;<sub>v</sub></em>(<em>&fnof;</em>(<em>x</em>)) = <em>&#981;<sub>v</sub></em>(<em>x</em>) = <em>v</em>.  So <em>v</em> is in the image of this combination \n",
    "of homomorphisms, as well as the subfield <em>E</em>.  Thus, the image of <em>&#981;<sub>v</sub></em>&middot;<em>&fnof;</em> is <em>E</em>(<em>v</em>).  The kernal \n",
    "of <em>&#981;<sub>v</sub></em> is the set of polynomials in <em>E</em>[<em>x</em>] with <em>v</em> as a root.  But <em>h</em>(<em>x</em>) is an irreducible polynomial \n",
    "in <em>E</em>[<em>x</em>] for which <em>h</em>(<em>v</em>) = 0.  Thus, the kernel of <em>&#981;<sub>v</sub></em> is the ideal &lang;<em>h</em>(<em>x</em>)&rang;.  Since \n",
    "<em>h</em>(<em>x</em>) = <em>&fnof;</em>(<em>p</em>(<em>x</em>)), we have that the kernel of <em>&fnof;</em>&middot;<em>&#981;<sub>v</sub></em> \n",
    "is &lang;<em>p</em>(<em>x</em>)&rang;.  Thus, by the first ring isomorphism theorem (10.2),\n",
    "<p style='text-align: center;'><em>K</em>[<em>x</em>]/&lang;<em>p</em>(<em>x</em>)&rang; &asymp; <em>E</em>(<em>v</em>).</p>\n",
    "By Proposition 14.6, we also have\n",
    "<p style='text-align: center;'><em>K</em>(<em>u</em>) &asymp; <em>K</em>[<em>x</em>]/&lang;<em>p</em>(<em>x</em>)&rang;,</p>\n",
    "and in this isomorphism, <em>u</em> mapped to the coset <em>x</em> + &lang;<em>p</em>(<em>x</em>)&rang;.  If we let <em>&mu;</em> be the combination of these two isomorphisms,\n",
    "<p style='text-align: center;'><em>&mu;</em> : <em>K</em>(<em>u</em>) &rarr; <em>K</em>[<em>x</em>]/&lang;<em>p</em>(<em>x</em>)&rang; &rarr; <em>E</em>(<em>v</em>)</p>\n",
    "then <em>&mu;</em>(<em>u</em>) = <em>&#981;<sub>v</sub></em>(<em>&fnof;</em>(<em>x</em>)) = <em>v</em>, and <em>&mu;</em>(<em>t</em>) = <em>&fnof;</em>(<em>t</em>) for \n",
    "all <em>t</em> in <em>K</em>.<br><br>\n",
    "\n",
    "<a href=\"#prop147ret\">Return to text</a>"
   ]
  },
  {
   "cell_type": "markdown",
   "id": "80f189",
   "metadata": {
    "collapsed": false
   },
   "source": [
    "<br><br><br><br><br><br><br><br><br><br><br><br><br><br><br><br><br><br><br><br><br><br><br><br><br><br><br><br><br><br><br><br><br><br><br><br><br><br><br><br><br><br>"
   ]
  },
  {
   "cell_type": "markdown",
   "id": "e4c1e0",
   "metadata": {
    "collapsed": false
   },
   "source": [
    "<a name=\"cor142\" id=\"cor142\"></a>\n",
    "Proof of Corollary 14.2:<br><br>\n",
    "\n",
    "We simply let <em>&fnof;</em> be the identity mapping from <em>F</em> to itself, and use Proposition 14.7.  Then <em>p</em>(<em>x</em>) and <em>h</em>(<em>x</em>) are \n",
    "both equal to Irr<sub><em>F</em></sub>(<em>u</em>, <em>x</em>).  Since <em>v</em> is another root of <em>h</em>(<em>x</em>), the conclusion follows from the \n",
    "conclusion of Proposition 14.7.<br><br>\n",
    "\n",
    "<a href=\"#cor142ret\">Return to text</a>"
   ]
  },
  {
   "cell_type": "markdown",
   "id": "e014e3",
   "metadata": {
    "collapsed": false
   },
   "source": [
    "<br><br><br><br><br><br><br><br><br><br><br><br><br><br><br><br><br><br><br><br><br><br><br><br><br><br><br><br><br><br><br><br><br><br><br><br><br><br><br><br><br><br>"
   ]
  },
  {
   "cell_type": "markdown",
   "id": "c3f902",
   "metadata": {
    "collapsed": false
   },
   "source": [
    "<a name=\"lem144\" id=\"lem144\"></a>\n",
    "Proof of Lemma 14.4:<br><br>\n",
    "\n",
    "The proof is by induction on <em>n</em>.  If <em>n</em> = 1, then <em>f</em>(<em>x</em>) is a linear function, so its only root is \n",
    "in <em>F</em>.  Thus <em>K</em> = <em>F</em>, and the degree of <em>K</em> over <em>F</em> is 1 = 1!.<br><br>\n",
    " \n",
    "Suppose that this is true for polynomials of degree less than <em>n</em>.  Let <em>p</em>(<em>x</em>) be an irreducible factor of <em>f</em>(<em>x</em>), and consider \n",
    "the field <em>E</em> = <em>F</em>[<em>x</em>]/&lang;<em>p</em>(<em>x</em>)&rang;.  By Proposition 14.4, <em>E</em> is a finite extension of <em>F</em> whose dimension over \n",
    "<em>F</em> is the degree of <em>p</em>(<em>x</em>), which is at most <em>n</em>.  Then <em>u<sub>n</sub></em> = <em>x</em> + &lang;<em>p</em>(<em>x</em>)&rang; is a root \n",
    "of <em>p</em>(<em>x</em>) in the field <em>E</em>, and since <em>p</em>(<em>x</em>) is a factor of <em>f</em>(<em>x</em>), (<em>x</em> &minus; <em>u<sub>n</sub></em>) is \n",
    "a factor of <em>f</em>(<em>x</em>) in the field <em>E</em>.  Thus, we can write <em>f</em>(<em>x</em>) = \n",
    "<em>g</em>(<em>x</em>)&middot;(<em>x</em> &minus; <em>u<sub>n</sub></em>) for some <em>g</em>(<em>x</em>) in <em>E</em>[<em>x</em>].  Note that <em>g</em>(<em>x</em>) \n",
    "has degree <nobr>(<em>n</em> &minus; 1),</nobr> and has the same leading coefficient as <em>f</em>(<em>x</em>).  Thus, we can use the induction hypothesis to show that \n",
    "there is a \n",
    "field <em>K</em> that is a finite extension of <em>E</em> with dimension at most (<em>n</em> &minus; 1)! such that <em>g</em>(<em>x</em>) factors completely as\n",
    "<p style='text-align: center;'><em>g</em>(<em>x</em>) = <em>c<sub>n</sub></em>&middot;(<em>x</em> &minus; <em>u</em><sub>1</sub>)&middot;(<em>x</em> &minus; \n",
    "<em>u</em><sub>2</sub>)&middot;(<em>x</em> &minus; <em>u</em><sub>3</sub>) &#8943; (<em>x</em> &minus; <em>u</em><sub><em>n</em>&minus;1</sub>).</p>\n",
    "Thus,\n",
    "<p style='text-align: center;'><em>f</em>(<em>x</em>) = <em>c<sub>n</sub></em>&middot;(<em>x</em> &minus; <em>u</em><sub>1</sub>)&middot;(<em>x</em> &minus; \n",
    "<em>u</em><sub>2</sub>)&middot;(<em>x</em> &minus; <em>u</em><sub>3</sub>) &#8943; (<em>x</em> &minus; \n",
    "<em>u</em><sub><em>n</em>&minus;1</sub>)&middot;(<em>x</em> &minus; <em>u<sub>n</sub></em>).</p>\n",
    "By Proposition 14.2, the dimension of <em>K</em> over <em>F</em> is the product of the dimension of <em>E</em> over <em>F</em> times the dimension of <em>K</em> \n",
    "over <em>E</em>.  Thus, the dimension of <em>K</em> over <em>F</em> is at most <em>n</em>&middot;(<em>n</em> &minus; 1)! = <em>n</em>!.<br><br>\n",
    "\n",
    "<a href=\"#lem144ret\">Return to text</a>"
   ]
  },
  {
   "cell_type": "markdown",
   "id": "6fc5b7",
   "metadata": {
    "collapsed": false
   },
   "source": [
    "<br><br><br><br><br><br><br><br><br><br><br><br><br><br><br><br><br><br><br><br><br><br><br><br><br><br><br><br><br><br><br><br><br><br><br><br><br><br><br><br><br><br>"
   ]
  },
  {
   "cell_type": "markdown",
   "id": "eb29ae",
   "metadata": {
    "collapsed": false
   },
   "source": [
    "<a name=\"prop148\" id=\"prop148\"></a>\n",
    "Proof of Proposition 14.8:<br><br>\n",
    "\n",
    "If <em>f</em>(<em>x</em>) has degree 1, then the roots of <em>f</em>(<em>x</em>) are in <em>F</em>, and the roots of <em>g</em>(<em>x</em>) are in <em>E</em>.  Thus, \n",
    "<em>K</em> = <em>E</em>, and <em>L</em> = <em>F</em>, and so the function <em>&mu;</em>(<em>t</em>) = <em>&#981;</em>(<em>t</em>) satisfies the necessary \n",
    "conditions.<br><br>\n",
    "\n",
    "Let us use induction on the degree of the polynomial <em>f</em>(<em>x</em>).  That is, we will assume that the proposition is true for all polynomials of \n",
    "degree (<em>n</em> &minus; 1).  By Lemma 13.3, the isomorphism <em>&#981;</em> extends to an isomorphism from <em>F</em>[<em>x</em>] to <em>E</em>[<em>x</em>] in such a \n",
    "way that <em>&#981;</em>(<em>x</em>) = <em>x</em>.  Thus, if <em>p</em>(<em>x</em>) is an irreducible factor of the polynomial <em>f</em>(<em>x</em>), then \n",
    "<em>&#981;</em>(<em>p</em>(<em>x</em>)) is an irreducible factor of the polynomial <em>g</em>(<em>x</em>) = <em>&#981;</em>(<em>f</em>(<em>x</em>)).  Note that every root \n",
    "of <em>p</em>(<em>x</em>) is also a root of <em>f</em>(<em>x</em>), so that <em>p</em>(<em>x</em>) factors completely in the field <em>K</em>.  Likewise, \n",
    "<em>&#981;</em>(<em>p</em>(<em>x</em>)) factors completely in the field <em>L</em>.<br><br>\n",
    "\n",
    "Let <em>u</em> be a root of <em>p</em>(<em>x</em>) in <em>K</em>, and let <em>v</em> be a root of <em>&#981;</em>(<em>p</em>(<em>x</em>)) in <em>L</em>.  By \n",
    "Proposition 14.7, there is an isomorphism <em>&theta;</em> mapping <em>F</em>(<em>u</em>) to <em>E</em>(<em>v</em>), such \n",
    "that <em>&theta;</em>(<em>u</em>) = <em>v</em>, and <em>&theta;</em>(<em>t</em>) = <em>&#981;</em>(<em>t</em>) for all <em>t</em> in <em>F</em>.<br><br>\n",
    "\n",
    "Since <em>u</em> is a root of <em>f</em>(<em>x</em>), we can write <em>f</em>(<em>x</em>) = (<em>x</em> &minus; <em>u</em>)&middot;<em>h</em>(<em>x</em>), with \n",
    "<em>h</em>(<em>x</em>) in <em>F</em>(<em>u</em>)[<em>x</em>].  Then\n",
    "<p style='text-align: center;'><em>g</em>(<em>x</em>) = <em>&#981;</em>(<em>f</em>(<em>x</em>)) = <em>&theta;</em>(<em>f</em>(<em>x</em>)) = \n",
    "<em>&theta;</em>(<em>x</em> &minus; <em>u</em>)&middot;<em>&theta;</em>(<em>h</em>(<em>x</em>)) = \n",
    "(<em>x</em> &minus; <em>v</em>)&middot;<em>&theta;</em>(<em>h</em>(<em>x</em>)).</p>\n",
    "Since <em>h</em>(<em>x</em>) has degree (<em>n</em> &minus; 1), we can use the induction hypothesis.  Obviously <em>K</em> is the splitting field \n",
    "of <em>h</em>(<em>x</em>) over <em>F</em>(<em>u</em>), and <em>L</em> is the splitting field of <em>&theta;</em>(<em>h</em>(<em>x</em>)) over <em>E</em>(<em>v</em>).  Thus, \n",
    "by the induction hypothesis the proposition is true for the polynomial <em>h</em>(<em>x</em>), so there is an isomorphism <em>&mu;</em> such \n",
    "that <em>&mu;</em>(<em>t</em>) = <em>&theta;</em>(<em>t</em>) for all <em>t</em> in <em>F</em>(<em>u</em>).  Since <em>&theta;</em>(<em>t</em>) = \n",
    "<em>&#981;</em>(<em>t</em>) for all <em>t</em> in <em>F</em>, we have found an isomorphism with the necessary properties.<br><br>\n",
    "\n",
    "<a href=\"#prop148ret\">Return to text</a>"
   ]
  },
  {
   "cell_type": "markdown",
   "id": "1cfec4",
   "metadata": {
    "collapsed": false
   },
   "source": [
    "<br><br><br><br><br><br><br><br><br><br><br><br><br><br><br><br><br><br><br><br><br><br><br><br><br><br><br><br><br><br><br><br><br><br><br><br><br><br><br><br><br><br>"
   ]
  },
  {
   "cell_type": "markdown",
   "id": "c7975e",
   "metadata": {
    "collapsed": false
   },
   "source": [
    "<a name=\"cor143\" id=\"cor143\"></a>\n",
    "Proof of Corollary 14.3:<br><br>\n",
    "\n",
    "Simply let <em>F</em> = <em>E</em>, and let <em>&#981;</em>(<em>t</em>) = <em>t</em> for all <em>t</em> in <em>F</em>.  Then by Proposition 14.8, any two splitting fields \n",
    "of <em>f</em>(<em>x</em>) = <em>g</em>(<em>x</em>) will be isomorphic.<br><br>\n",
    "\n",
    "<a href=\"#cor143ret\">Return to text</a>"
   ]
  },
  {
   "cell_type": "markdown",
   "id": "51adb4",
   "metadata": {
    "collapsed": false
   },
   "source": [
    "<br><br><br><br><br><br><br><br><br><br><br><br><br><br><br><br><br><br><br><br><br><br><br><br><br><br><br><br><br><br><br><br><br><br><br><br><br><br><br><br><br><br>"
   ]
  },
  {
   "cell_type": "markdown",
   "id": "9e6a25",
   "metadata": {
    "collapsed": false
   },
   "source": [
    "<a name=\"prop149\" id=\"prop149\"></a>\n",
    "Proof of Proposition 14.9:<br><br>\n",
    "\n",
    "From the definition of the splitting field, the generator\n",
    "<p style='text-align: center;'><em>&omega;<sub>n</sub></em> = <em>e</em><sup>(2<em>&pi; i</em>/<em>n</em>)</sup> = \n",
    "cos<span style=\"font-size:24px\">(</span><sup>2<em>&pi;</em></sup>&frasl;<sub><em>n</em></sub><span style=\"font-size:24px\">)</span> + \n",
    "<em>i</em> sin<span style=\"font-size:24px\">(</span><sup>2<em>&pi;</em></sup>&frasl;<sub><em>n</em></sub><span style=\"font-size:24px\">)</span></p>\n",
    "is a root of the <em>n</em><sup>th</sup> cyclotomic polynomial\n",
    "<p style='text-align: center;'>&Phi;<sub><em>n</em></sub>(<em>x</em>) = \n",
    "(<em>x</em> &minus; <em>&omega;<sub>n</sub></em><sup><em>k</em></sup>&sup1;)&middot;(<em>x</em> &minus; \n",
    "<em>&omega;<sub>n</sub></em><sup><em>k</em></sup>&sup2;)&middot;(<em>x</em> &minus; \n",
    "<em>&omega;<sub>n</sub></em><sup><em>k</em></sup>&sup3;) &#8943; (<em>x</em> &minus; \n",
    "<em>&omega;<sub>n</sub></em><sup><em>k</em></sup>&#8305;),</p>\n",
    "where <em>k</em><sub>1</sub>, <em>k</em><sub>2</sub>, <em>k</em><sub>3</sub>, &hellip; <em>k<sub>i</sub></em> are the integers from 1 to <em>n</em> that are coprime \n",
    "to <em>n</em>.  Thus, the splitting field contains &#8474;(<em>&omega;<sub>n</sub></em>).  Note that all powers of <em>&omega;<sub>n</sub></em> are in this field, and so \n",
    "the <em>n</em><sup>th</sup> cyclotomic polynomial factors completely in &#8474;(<em>&omega;<sub>n</sub></em>).<br><br>\n",
    "\n",
    "Since &Phi;<sub><em>n</em></sub>(<em>x</em>) is irreducible by Gauss' theorem on cyclotomic polynomials (13.2), and the dimension \n",
    "of &Phi;<sub><em>n</em></sub>(<em>x</em>) is <em>&#981;</em>(<em>n</em>), the dimension of the splitting field &#8474;(<em>&omega;<sub>n</sub></em>) is <em>&#981;</em>(<em>n</em>).<br><br>\n",
    "\n",
    "<a href=\"#prop149ret\">Return to text</a>"
   ]
  },
  {
   "cell_type": "markdown",
   "id": "a58127",
   "metadata": {
    "collapsed": false
   },
   "source": [
    "<br><br><br><br><br><br><br><br><br><br><br><br><br><br><br><br><br><br><br><br><br><br><br><br><br><br><br><br><br><br><br><br><br><br><br><br><br><br><br><br><br><br>"
   ]
  },
  {
   "cell_type": "markdown",
   "id": "6e66de",
   "metadata": {
    "collapsed": false
   },
   "source": [
    "<a name=\"lem145\" id=\"lem145\"></a>\n",
    "Proof of Lemma 14.5:<br><br>\n",
    "\n",
    "Let <em>u</em><sub>1</sub>, <em>u</em><sub>2</sub>, <em>u</em><sub>3</sub>, &hellip; <em>u<sub>n</sub></em> be the roots of <em>f</em>(<em>x</em>) in \n",
    "<em>K</em>.  Then\n",
    "<p style='text-align: center;'><em>K</em> = <em>F</em>(<em>u</em><sub>1</sub>, <em>u</em><sub>2</sub>, <em>u</em><sub>3</sub>, &hellip; <em>u<sub>n</sub></em>).</p>\n",
    "Suppose that <em>p</em>(<em>x</em>) has one root <em>v</em> in <em>K</em>.  Consider <em>p</em>(<em>x</em>) as a polynomial in <em>K</em>, and let <em>L</em> be the \n",
    "splitting field of <em>p</em>(<em>x</em>) over <em>K</em>.   Let <em>w</em> be any other root of <em>p</em>(<em>x</em>) in <em>L</em> besides <em>v</em>.  To show \n",
    "that <em>K</em> = <em>L</em>, we need to show that <em>w</em> is in <em>K</em>, which would show that all roots of <em>p</em>(<em>x</em>) are in <em>K</em>.<br><br>\n",
    "\n",
    "By Proposition 14.7, there is an isomorphism <em>&#981;</em> from <em>F</em>(<em>v</em>) to <em>F</em>(<em>w</em>) such that <em>&#981;</em>(<em>v</em>) = <em>w</em>, \n",
    "and <em>&#981;</em>(<em>t</em>) = <em>t</em> for all <em>t</em> in <em>F</em>.  (We let <em>&fnof;</em>(<em>t</em>) = <em>t</em>, the identity map, and let <em>E</em> and \n",
    "<em>K</em> both be the field <em>F</em>.)  By Lemma 13.3 we can extend <em>&#981;</em> to an isomorphism from <em>F</em>(<em>v</em>)[<em>x</em>] to \n",
    "<em>F</em>(<em>w</em>)[<em>x</em>], and <em>&#981;</em>(<em>f</em>(<em>x</em>)) = <em>f</em>(<em>x</em>).<br><br>\n",
    "\n",
    "We now want to consider the field <em>K</em>(<em>w</em>).  We have\n",
    "<p style='text-align: center;'><em>K</em>(<em>w</em>) = <em>F</em>(<em>u</em><sub>1</sub>, <em>u</em><sub>2</sub>, <em>u</em><sub>3</sub>, &hellip; \n",
    "<em>u<sub>n</sub></em>, <em>w</em>) = <em>F</em>(<em>w</em>, <em>u</em><sub>1</sub>, <em>u</em><sub>2</sub>, <em>u</em><sub>3</sub>, &hellip; \n",
    "<em>u<sub>n</sub></em>).</p>\n",
    "Thus, <em>K</em>(<em>w</em>) is the splitting field of <em>f</em>(<em>x</em>) over the field <em>F</em>(<em>w</em>).  Since <em>v</em> is in <em>K</em>,\n",
    "<p style='text-align: center;'><em>K</em> = <em>K</em>(<em>v</em>) = <em>F</em>(<em>u</em><sub>1</sub>, <em>u</em><sub>2</sub>, <em>u</em><sub>3</sub>, &hellip; \n",
    "<em>u<sub>n</sub></em>, <em>v</em>) = <em>F</em>(<em>v</em>, <em>u</em><sub>1</sub>, <em>u</em><sub>2</sub>, <em>u</em><sub>3</sub>, &hellip; \n",
    "<em>u<sub>n</sub></em>).</p>\n",
    "so <em>K</em> is the splitting field of <em>f</em>(<em>x</em>) over the field <em>F</em>(<em>v</em>).<br><br>\n",
    "\n",
    "Consequently Proposition 14.8 shows us that the isomorphism <em>&#981;</em> from <em>F</em>(<em>v</em>) to <em>F</em>(<em>w</em>) extends to an \n",
    "isomorphism <em>&mu;</em> from <em>K</em> to <em>K</em>(<em>w</em>), and <em>&mu;</em>(<em>v</em>) = <em>w</em>.  Also, <em>&mu;</em>(<em>t</em>) = <em>t</em> for \n",
    "all <em>t</em> in <em>F</em>.  Thus, we can use Corollary 14.3 to show that <em>K</em> and <em>K</em>(<em>w</em>) have the same dimension over <em>F</em>.  By \n",
    "Proposition 14.2, the dimension of <em>K</em>(<em>w</em>) over <em>F</em> equals the dimension of <em>K</em>(<em>w</em>) over <em>K</em> times the dimension \n",
    "of <em>K</em> over <em>F</em>.  Therefore, the dimension of <em>K</em>(<em>w</em>) over <em>K</em> must be 1, so <em>w</em> is in <em>K</em>.  Therefore, every root \n",
    "of <em>p</em>(<em>x</em>) is in <em>K</em>, so <em>p</em>(<em>x</em>) factors completely in <em>K</em>.<br><br>\n",
    "\n",
    "<a href=\"#lem145ret\">Return to text</a>"
   ]
  },
  {
   "cell_type": "markdown",
   "id": "e67474",
   "metadata": {
    "collapsed": false
   },
   "source": [
    "<br><br><br><br><br><br><br><br><br><br><br><br><br><br><br><br><br><br><br><br><br><br><br><br><br><br><br><br><br><br><br><br><br><br><br><br><br><br><br><br><br><br>"
   ]
  },
  {
   "cell_type": "markdown",
   "id": "11fee2",
   "metadata": {
    "collapsed": false
   },
   "source": [
    "<a name=\"prop1410\" id=\"prop1410\"></a>\n",
    "Proof of Proposition 14.10:<br><br>\n",
    "\n",
    "If <em>F</em> is a finite field, then <em>K</em> will also be a finite field, and we can simply let <em>w</em> be a generator of the multiplicative \n",
    "group <em>K</em><sup>&ast;</sup>, using Proposition 13.4.  Thus, we will assume that <em>F</em> is an infinite field.  Let <em>f</em>(<em>x</em>) = \n",
    "Irr<sub><em>F</em></sub>(<em>u</em>, <em>x</em>) and <em>g</em>(<em>x</em>) = Irr<sub><em>F</em></sub>(<em>v</em>, <em>x</em>).  Let <em>E</em> be the splitting field \n",
    "of <em>g</em>(<em>x</em>) over the field <em>F</em>(<em>u</em>).  Since <em>g</em>(<em>x</em>) factors completely in <em>L</em> without double \n",
    "roots, <em>g</em>(<em>x</em>) will also factor completely in <em>E</em> without double roots.  Let \n",
    "<p style='text-align: center;'><em>v</em> = <em>v</em><sub>1</sub>, <em>v</em><sub>2</sub>, <em>v</em><sub>3</sub>, &hellip; <em>v<sub>n</sub></em></p> \n",
    "be the distinct roots of <em>g</em>(<em>x</em>) in <em>E</em>.<br><br>\n",
    "\n",
    "Since <em>u</em> is in <em>E</em>, there is at least one root of <em>f</em>(<em>x</em>) in the field <em>E</em>.  Even though <em>f</em>(<em>x</em>) may not factor \n",
    "completely in the field <em>E</em><em>,</em> we can let \n",
    "<p style='text-align: center;'><em>u</em> = <em>u</em><sub>1</sub>, <em>u</em><sub>2</sub>, <em>u</em><sub>3</sub>, &hellip; <em>u<sub>m</sub></em></p> \n",
    "be the roots of <em>f</em>(<em>x</em>) over <em>E</em>.<br><br>\n",
    "\n",
    "Since <em>F</em> is an infinite field, we can pick some element <em>y</em> of <em>F</em>, such that\n",
    "<table align=\"center\" border=\"0\" cellspacing=\"0\" cellpadding=\"0\">\n",
    "  <tr>\n",
    "    <td rowspan = \"2\" align=\"right\"><em>y</em> &ne;&ensp;</td>\n",
    "    <td align=\"center\" valign=\"bottom\"><font style=\"text-decoration:underline\"><em>u&#8341;</em> &minus; <em>u</em></font></td>\n",
    "    <td rowspan = \"2\" align=\"left\">&emsp;for all 1 &le; <em>h</em> &le; <em>m</em>, 1 &le; <em>k</em> &le; <em>n</em>.</td>\n",
    "  </tr>\n",
    "  <tr>\n",
    "    <td align=\"center\" valign=\"top\"><em>v</em> &minus; <em>v&#8342;</em></td>\n",
    "  </tr>\n",
    "</table>\n",
    "<br>\n",
    "Finally, we let <em>w</em> = <em>u</em> + <em>y v</em>.  Let us show that <em>K</em> = <em>F</em>(<em>w</em>).  To show that <em>v</em> is in <em>F</em>(<em>w</em>), \n",
    "let <em>p</em>(<em>x</em>) = <em>f</em>(<em>w</em> &minus; <em>y x</em>), and note that <em>p</em>(<em>v</em>) = \n",
    "<em>f</em>(<em>u</em> + <em>y v</em> &minus; <em>y v</em>) = <em>f</em>(<em>u</em>) = 0, so <em>v</em> is a root of <em>p</em>(<em>x</em>).  If one of the other roots \n",
    "of <em>g</em>(<em>x</em>) is a root of <em>p</em>(<em>x</em>), then\n",
    "<p style='text-align: center;'><em>w</em> &minus; <em>y v<sub>k</sub></em> = <em>u<sub>h</sub></em> for some <em>h</em> and <em>k</em>,</p>\n",
    "so <em>u</em> + <em>y v</em> &minus; <em>y v<sub>k</sub></em> = <em>u<sub>h</sub></em>, giving us\n",
    "<table align=\"center\" border=\"0\" cellspacing=\"0\" cellpadding=\"0\">\n",
    "  <tr>\n",
    "    <td rowspan = \"2\" align=\"right\"><em>y</em> =&ensp;</td>\n",
    "    <td align=\"center\" valign=\"bottom\"><font style=\"text-decoration:underline\"><em>u&#8341;</em> &minus; <em>u</em></font></td>\n",
    "    <td rowspan = \"2\" align=\"left\">,</td>\n",
    "  </tr>\n",
    "  <tr>\n",
    "    <td align=\"center\" valign=\"top\"><em>v</em> &minus; <em>v&#8342;</em></td>\n",
    "  </tr>\n",
    "</table> \n",
    "<br>\n",
    "and we specifically chose <em>y</em> so that it would avoid these values. Thus, there is only one root in common between <em>g</em>(<em>x</em>) and <em>p</em>(<em>x</em>) \n",
    "in the field <em>E</em>.<br><br>\n",
    "\n",
    "Let <em>r</em>(<em>x</em>) = Irr<sub><em>F</em>(<em>w</em>)</sub>(<em>v</em>, <em>x</em>).  Then <em>r</em>(<em>x</em>) divides the polynomials <em>g</em>(<em>x</em>) \n",
    "and <em>p</em>(<em>x</em>), since both polynomials have <em>v</em> as a root.  In fact, we have seen that <em>g</em>(<em>x</em>) and <em>p</em>(<em>x</em>) have no \n",
    "other roots in common, so <em>r</em>(<em>x</em>) has only one root in the field <em>E</em>.  But <em>g</em>(<em>x</em>) splits completely in <em>E</em>, and has no \n",
    "multiple roots in <em>E</em>.  Thus, <em>r</em>(<em>x</em>) has degree 1, and in fact <em>r</em>(<em>x</em>) = <em>x</em> &minus; <em>v</em>.  This proves that <em>v</em> is \n",
    "in <em>F</em>(<em>w</em>).  To see that <em>u</em> is in <em>F</em>(<em>w</em>), we note that <em>u</em> = <em>y v</em> &minus; <em>w</em>.  Thus, \n",
    "<em>F</em>(<em>u</em>, <em>v</em>) is contained in <em>F</em>(<em>w</em>), while <em>F</em>(<em>w</em>) is obviously contained \n",
    "in <em>F</em>(<em>u</em>, <em>v</em>).  Therefore, <em>F</em>(<em>u</em>, <em>v</em>) = <em>F</em>(<em>w</em>).<br><br>\n",
    "\n",
    "<a href=\"#prop1410ret\">Return to text</a>"
   ]
  },
  {
   "cell_type": "markdown",
   "id": "c53507",
   "metadata": {
    "collapsed": false
   },
   "source": [
    "<br><br><br><br><br><br><br><br><br><br><br><br><br><br><br><br><br><br><br><br><br><br><br><br><br><br><br><br><br><br><br><br><br><br><br><br><br><br><br><br><br><br>"
   ]
  },
  {
   "cell_type": "markdown",
   "id": "aa0f62",
   "metadata": {
    "collapsed": false
   },
   "source": [
    "<a name=\"cor144\" id=\"cor144\"></a>\n",
    "Proof of Corollary 14.4:<br><br>\n",
    "\n",
    "We will proceed by induction on <em>n</em>.  If <em>n</em> = 1, we can let <em>w</em> = <em>u</em><sub>1</sub>, and there is nothing to prove.  If <em>n</em> = 2, we can \n",
    "use Proposition 14.10 to find <em>w</em>.  Suppose that the corollary is true for the previous case, so that we found a <em>u</em> in <em>K</em> such that \n",
    "<p style='text-align: center;'><em>F</em>(<em>u</em>) = <em>F</em>(<em>u</em><sub>1</sub>, <em>u</em><sub>2</sub>, <em>u</em><sub>3</sub>, \n",
    "&hellip; <em>u</em><sub><em>n</em>&minus;1</sub>).</p>\n",
    "Let <em>v</em> = <em>u<sub>n</sub></em>, and since <em>g</em>(<em>x</em>) = \n",
    "Irr<sub><em>F</em></sub>(<em>u<sub>n</sub></em>, <em>x</em>) does not have multiple roots in its splitting field <em>L</em>, we can use Proposition 14.10 to find \n",
    "a <em>w</em> in <em>K</em> such that <nobr><em>F</em>(<em>w</em>) = <em>F</em>(<em>u</em>, <em>v</em>).</nobr> But then \n",
    "<p style='text-align: center;'><em>F</em>(<em>w</em>) = <em>F</em>(<em>u</em><sub>1</sub>, <em>u</em><sub>2</sub>, <em>u</em><sub>3</sub>, \n",
    "&hellip; <em>u</em><sub><em>n</em>&minus;1</sub>, <em>u<sub>n</sub></em>).</p>\n",
    "Thus, the corollary is true for all positive values of <em>n</em>.<br><br>\n",
    "\n",
    "<a href=\"#cor144ret\">Return to text</a>"
   ]
  },
  {
   "cell_type": "markdown",
   "id": "f39514",
   "metadata": {
    "collapsed": false
   },
   "source": [
    "<br><br><br><br><br><br><br><br><br><br><br><br><br><br><br><br><br><br><br><br><br><br><br><br><br><br><br><br><br><br><br><br><br><br><br><br><br><br><br><br><br><br>"
   ]
  },
  {
   "cell_type": "markdown",
   "id": "48d5a0",
   "metadata": {
    "collapsed": false
   },
   "source": [
    "<a name=\"sec14p\" id=\"sec14p\"></a>\n",
    "<h1><em>SageMath</em> Interactive Problems</h1>\n",
    "\n",
    "<br>\n",
    "&sect;14.1 #20)<br>\n",
    "Use <em>SageMath</em> to find the coefficients of the vector &lang;3,-2,5&rang; in &#8477;<sup>3</sup> using the \n",
    "basis {&lang;2,-1,4&rang;,&lang;5,2,1&rang;,&lang;4,-3,2&rang;}.<br>"
   ]
  },
  {
   "cell_type": "markdown",
   "id": "73c3c3",
   "metadata": {
    "collapsed": false
   },
   "source": [
    "<br>\n",
    "&sect;14.1 #21)<br>\n",
    "Use <em>SageMath</em> to find the coefficients of the element <em>a</em><sup>5</sup> in GF(27) over <em>Z</em><sub>3</sub> using the basis \n",
    "{1, <em>a</em>, <em>a</em><sup>2</sup>}.  Here, <em>a</em> is a root of the Conway polynomial of degree 3 over <em>Z</em><sub>3</sub>, which is <em>x</em><sup>3</sup> + 2 <em>x</em> + 1.<br>"
   ]
  },
  {
   "cell_type": "markdown",
   "id": "8c5b90",
   "metadata": {
    "collapsed": false
   },
   "source": [
    "<br>\n",
    "&sect;14.2 #19)<br>\n",
    "Define the field &#8474;(&radic;<font style=\"text-decoration:overline\">&minus;3</font>) in <em>SageMath</em>, then \n",
    "find 1/(5 + &radic;<font style=\"text-decoration:overline\">&minus;3</font>).<br>"
   ]
  },
  {
   "cell_type": "markdown",
   "id": "2e3131",
   "metadata": {
    "collapsed": false
   },
   "source": [
    "<br>\n",
    "&sect;14.2 #20)<br>\n",
    "Define the field &#8474;(&radic;<font style=\"text-decoration:overline\">5</font>) in <em>SageMath</em>.  Does the \n",
    "polynomial <em>x</em><sup>2</sup> + 4 <em>x</em> &minus; 1 factor in this field?<br>"
   ]
  },
  {
   "cell_type": "markdown",
   "id": "441f74",
   "metadata": {
    "collapsed": false
   },
   "source": [
    "<br><br>\n",
    "For Problems 17 through 20:  Define the splitting field of the polynomial in <em>SageMath</em>.  Determine the dimension of the splitting field  over &#8474;.<br><br>\n",
    "\n",
    "&sect;14.3 #17) <em>x</em><sup>3</sup> + <em>x</em><sup>2</sup> &minus; 4 <em>x</em> + 1.<br>"
   ]
  },
  {
   "cell_type": "markdown",
   "id": "b02c9c",
   "metadata": {
    "collapsed": false
   },
   "source": [
    "<br>\n",
    "&sect;14.3 #18) <em>x</em><sup>5</sup> + <em>x</em><sup>4</sup> &minus; 4 <em>x</em><sup>3</sup> &minus; 3 <em>x</em><sup>2</sup> + 3 <em>x</em> + 1.<br>"
   ]
  },
  {
   "cell_type": "markdown",
   "id": "074bf5",
   "metadata": {
    "collapsed": false
   },
   "source": [
    "<br>\n",
    "&sect;14.3 #20) <em>x</em><sup>5</sup> &minus; 2.<br>"
   ]
  },
  {
   "cell_type": "markdown",
   "id": "e46569",
   "metadata": {
    "collapsed": false
   },
   "source": [
    "<br>\n",
    "&sect;14.3 #19) <em>x</em><sup>5</sup> + 3 <em>x</em><sup>3</sup> + 5 <em>x</em> + 10.<br>"
   ]
  },
  {
   "cell_type": "markdown",
   "id": "e01327",
   "metadata": {
    "collapsed": false
   },
   "source": [
    "</font>\n",
    "\n",
    "</body>\n",
    "\n",
    "</html>"
   ]
  }
 ],
 "metadata": {
  "kernelspec": {
   "argv": [
    "sage-10.0",
    "--python",
    "-m",
    "sage.repl.ipython_kernel",
    "--matplotlib=inline",
    "-f",
    "{connection_file}"
   ],
   "display_name": "SageMath 10.0",
   "env": {
   },
   "language": "sagemath",
   "metadata": {
    "cocalc": {
     "description": "Open-source mathematical software system",
     "priority": 10,
     "url": "https://www.sagemath.org/"
    }
   },
   "name": "sage-10.0",
   "resource_dir": "/ext/jupyter/kernels/sage-10.0"
  },
  "language_info": {
   "codemirror_mode": {
    "name": "ipython",
    "version": 3
   },
   "file_extension": ".py",
   "mimetype": "text/x-python",
   "name": "python",
   "nbconvert_exporter": "python",
   "pygments_lexer": "ipython3",
   "version": "3.7.10"
  }
 },
 "nbformat": 4,
 "nbformat_minor": 4
}