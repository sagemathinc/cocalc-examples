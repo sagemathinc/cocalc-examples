{
 "cells": [
  {
   "cell_type": "markdown",
   "id": "4e67ee",
   "metadata": {
    "collapsed": false
   },
   "source": [
    "<!-- Ring12 -->\n",
    "\n",
    "<html>\n",
    "<body>\n",
    "\n",
    "<!-- To make the size of the font bigger for presentations, change the following command from +1 to +2 -->\n",
    "\n",
    "<font size=\"+1\">\n",
    "\n",
    "<p style='font-size: 36px;font-family: Arial;font-style: italic;font-weight: bold;color: #FF00FF;background-color: #80FFFF;text-align: center;'>\n",
    "Abstract Algebra: An Interactive Approach, 3e\n",
    "</p>\n",
    "\n",
    "<p style='font-family: Geneva;font-style: italic;color: #0000FF;background-color: #FFFFFF;'>\n",
    "This notebook is provided with the textbook, &quot;Abstract Algebra: An Interactive Approach, 3rd Ed.&quot; by William Paulsen. Users of this notebook are encouraged to buy the textbook.\n",
    "</p>\n",
    "\n",
    "<p style='font-size: 36px;font-family: New York;font-weight: bold;color: #000000;background-color: #FFFFFF;text-align: center;border: 1px;border-style: \n",
    "solid;border-color: #000000;'>\n",
    "Chapter 12<br><br>\n",
    "Unique Factorization\n",
    "</p>\n",
    "\n",
    "<p style='text-align: center;'>Initialization:  This cell MUST be evaluated first:</p>\n",
    "\n"
   ]
  },
  {
   "cell_type": "code",
   "execution_count": 0,
   "id": "7d8c06",
   "metadata": {
    "collapsed": false
   },
   "outputs": [
   ],
   "source": [
    "load('absalgtext2.sage')"
   ]
  },
  {
   "cell_type": "markdown",
   "id": "2a79e0",
   "metadata": {
    "collapsed": false
   },
   "source": [
    "<br>\n",
    "<a href=\"#sec121\">Factorization of Polynomials</a><br>\n",
    "<a href=\"#sec122\">Unique Factorization Domains</a><br>\n",
    "<a href=\"#sec123\">Principal Ideal Domains</a><br>\n",
    "<a href=\"#sec124\">Euclidean Domains</a><br>\n",
    "<a href=\"#sec12p\"><em>SageMath</em> Interactive Problems</a><br>"
   ]
  },
  {
   "cell_type": "markdown",
   "id": "dc5509",
   "metadata": {
    "collapsed": false
   },
   "source": [
    "<a name=\"sec121\" id=\"sec121\"></a>\n",
    "<h1>Factorization of Polynomials</h1>\n",
    "\n",
    "<br>\n",
    "In the last chapter, we saw how we could create an integral domain from a field <em>F</em> by considering all polynomials using the variable <em>x</em> with coefficients \n",
    "in <em>F</em>.  We called this ring <em>F</em>[<em>x</em>]. In this section we want to investigate how such polynomials would factor.  Most of the statements in this \n",
    "section are very familiar from the properties of polynomials &#8474;[<em>x</em>] studied in a standard algebra course. <br><br>\n",
    "\n",
    "We say that <em>f</em>(<em>x</em>) <em>factors</em> if there are two non-constant polynomials <em>g</em>(<em>x</em>) and <em>h</em>(<em>x</em>) such that \n",
    "<em>f</em>(<em>x</em>) = <em>g</em>(<em>x</em>)&middot;<em>h</em>(<em>x</em>).  We also say that both <em>g</em>(<em>x</em>) and <em>h</em>(<em>x</em>) divide the \n",
    "polynomial <em>f</em>(<em>x</em>).  But <em>g</em>(<em>x</em>) and <em>h</em>(<em>x</em>) may also factor into non-constant polynomials.  We want to show that we can \n",
    "factor <em>f</em>(<em>x</em>) into polynomials that cannot be factored further.  We also want to lay down the groundwork for showing that the polynomials produced by \n",
    "this factorization are in some sense uniquely determined.<br><br>\n",
    "\n",
    "One the the techniques learned in algebra is that we can do &quot;long division&quot; on polynomials.  A sample problem would \n",
    "be (<em>x</em><sup>3</sup> &minus; 3 <em>x</em><sup>2</sup> + 4 <em>x</em> &minus; 5) divided by (2 <em>x</em><sup>2</sup> &minus; 5).  Using long division, we have:\n",
    "\n",
    "<table align=\"center\" width=\"470\" border=\"0\" cellspacing=\"0\" cellpadding=\"0\">\n",
    "  <tr>\n",
    "    <td width=\"200\" align=\"right\" valign=\"bottom\"></td>\n",
    "    <td width=\"15\" align=\"center\"></td>\n",
    "    <td width=\"25\" align=\"center\"></td>\n",
    "    <td width=\"25\" align=\"center\"></td>\n",
    "    <td width=\"50\" align=\"center\"></td>\n",
    "    <td width=\"25\" align=\"center\"></td>\n",
    "    <td width=\"60\" align=\"center\"><sup>1</sup>&frasl;<sub>2</sub> <em>x</em></td>\n",
    "    <td width=\"25\" align=\"center\">&minus;</td>\n",
    "    <td width=\"40\" align=\"center\">3/2</td>\n",
    "  </tr>\n",
    "  <tr>\n",
    "    <td></td>\n",
    "    <th colspan=\"8\">_______________________________________</th>\n",
    "  </tr>\n",
    "  <tr>\n",
    "    <td align=\"right\">2 <em>x</em><sup>2</sup> &minus; 5</td>\n",
    "    <td align=\"center\" valign=\"top\"><span style=\"font-size:24px\">)</span></td>\n",
    "    <td align=\"center\"><em>x</em><sup>3</sup></td>\n",
    "    <td align=\"center\">&minus;</td>\n",
    "    <td align=\"center\">3 <em>x</em><sup>2</sup></td>\n",
    "    <td align=\"center\">+</td>\n",
    "    <td align=\"center\">4 <em>x</em></td>\n",
    "    <td align=\"center\">&minus;</td>\n",
    "    <td align=\"center\">5</td>\n",
    "  </tr>\n",
    "  <tr>\n",
    "    <td></td>\n",
    "    <td></td>\n",
    "    <td align=\"center\"><em>x</em><sup>3</sup></td>\n",
    "    <td align=\"center\"></td>\n",
    "    <td align=\"center\"></td>\n",
    "    <td align=\"center\">&minus;</td>\n",
    "    <td align=\"center\"><sup>5</sup>&frasl;<sub>2</sub> <em>x</em></td>\n",
    "    <td align=\"center\"></td>\n",
    "    <td align=\"center\"></td>\n",
    "  </tr>\n",
    "    <tr>\n",
    "    <td></td>\n",
    "    <th colspan=\"8\">_______________________________________</th>\n",
    "  </tr>\n",
    "  <tr>\n",
    "    <td></td>\n",
    "    <td></td>\n",
    "    <td></td>\n",
    "    <td align=\"center\">&minus;</td>\n",
    "    <td align=\"center\">3 <em>x</em><sup>2</sup></td>\n",
    "    <td align=\"center\">+</td>\n",
    "    <td align=\"center\"><sup>13</sup>&frasl;<sub>2</sub> <em>x</em></td>\n",
    "    <td align=\"center\">&minus;</td>\n",
    "    <td align=\"center\">5</td>\n",
    "  </tr>\n",
    "  <tr>\n",
    "    <td></td>\n",
    "    <td></td>\n",
    "    <td></td>\n",
    "    <td align=\"center\">&minus;</td>\n",
    "    <td align=\"center\">3 <em>x</em><sup>2</sup></td>\n",
    "    <td align=\"center\"></td>\n",
    "    <td align=\"center\"></td>\n",
    "    <td align=\"center\">+</td>\n",
    "    <td align=\"center\"><sup>15</sup>&frasl;<sub>2</sub></td>\n",
    "  </tr>\n",
    "  <tr>\n",
    "    <td></td>\n",
    "    <th colspan=\"8\">_______________________________________</th>\n",
    "  </tr>\n",
    "  <tr>\n",
    "    <td></td>\n",
    "    <td></td>\n",
    "    <td></td>\n",
    "    <td align=\"center\"></td>\n",
    "    <td align=\"center\"></td>\n",
    "    <td align=\"center\"></td>\n",
    "    <td align=\"center\"><sup>13</sup>&frasl;<sub>2</sub> <em>x</em></td>\n",
    "    <td align=\"center\">&minus;</td>\n",
    "    <td align=\"center\"><sup>25</sup>&frasl;<sub>2</sub></td>\n",
    "  </tr>\n",
    "</table>\n",
    "<br>\n",
    "Thus, <em>x</em><sup>3</sup> &minus; 3 <em>x</em><sup>2</sup> + 4 <em>x</em> &minus; 5 divided by 2 <em>x</em><sup>2</sup> &minus; 5 \n",
    "yields <sup>1</sup>&frasl;<sub>2</sub> <em>x</em> &minus; <sup>3</sup>&frasl;<sub>2</sub>, with a remainder of  <sup>13</sup>&frasl;<sub>2</sub> <em>x</em> \n",
    "&minus; <sup>25</sup>&frasl;<sub>2</sub>. We can write this as\n",
    "<p style='text-align: center;'>(<em>x</em><sup>3</sup> &minus; 3 <em>x</em><sup>2</sup> + 4 <em>x</em> &minus; 5) = \n",
    "(2 <em>x</em><sup>2</sup> &minus; 5)&middot;<span style=\"font-size:24px\">(</span><sup>1</sup>&frasl;<sub>2</sub> <em>x</em> &minus; \n",
    "<sup>3</sup>&frasl;<sub>2</sub><span style=\"font-size:24px\">)</span> + <span style=\"font-size:24px\">(</span><sup>13</sup>&frasl;<sub>2</sub> <em>x</em> \n",
    "&minus; <sup>25</sup>&frasl;<sub>2</sub><span style=\"font-size:24px\">)</span>.</p>\n",
    "Fortunately, <em>SageMath</em> has two commands which performs this tedious long division for you:<br>"
   ]
  },
  {
   "cell_type": "code",
   "execution_count": 0,
   "id": "bdcde5",
   "metadata": {
    "collapsed": false
   },
   "outputs": [
   ],
   "source": [
    "var(\"x\")\n",
    "PolynomialQuotient(x^3 - 3*x^2 + 4*x - 5, 2*x^2 - 5)"
   ]
  },
  {
   "cell_type": "code",
   "execution_count": 0,
   "id": "bcd9eb",
   "metadata": {
    "collapsed": false
   },
   "outputs": [
   ],
   "source": [
    "PolynomialRemainder(x^3 - 3*x^2 + 4*x - 5, 2*x^2 - 5)"
   ]
  },
  {
   "cell_type": "markdown",
   "id": "091132",
   "metadata": {
    "collapsed": false
   },
   "source": [
    "<br>\n",
    "EXPERIMENT:<br>\n",
    "Try replacing the polynomials in the last two statements with different polynomials in <em>x</em>.  What do you observe about the degree of the remainder in comparison \n",
    "to the degree of the divisor?<br>"
   ]
  },
  {
   "cell_type": "markdown",
   "id": "655744",
   "metadata": {
    "collapsed": false
   },
   "source": [
    "<br>\n",
    "This &quot;long division&quot; algorithm works for any field, not just the rational numbers &#8474;.  We can prove this by induction on the degree of the dividend."
   ]
  },
  {
   "cell_type": "markdown",
   "id": "63f12b",
   "metadata": {
    "collapsed": false
   },
   "source": [
    "<a name=\"theor121ret\" id=\"theor121ret\"></a>\n",
    "THEOREM 12.1:The Division Algorithm Theorem<br>\n",
    "\n",
    "Let <em>F</em> be a field, and let <em>F</em>[<em>x</em>] be the set of polynomials in <em>x</em> over <em>F</em>. Let <em>f</em>(<em>x</em>) and <em>g</em>(<em>x</em> \n",
    "be two elements of <em>F</em>[<em>x</em>], with <em>g</em> nonzero.  Then there exist unique polynomials <em>q</em>(<em>x</em>) and <em>r</em>(<em>x</em>)in \n",
    "<em>F</em>[<em>x</em>] such that\n",
    "<p style='text-align: center;'><em>f</em>(<em>x</em>) = <em>g</em>(<em>x</em>)&middot;<em>q</em>(<em>x</em>) + <em>r</em>(<em>x</em>)</p> \n",
    "and either <em>r</em>(<em>x</em>) = 0 or the degree of <em>r</em>(<em>x</em>) is less than the degree of <em>g</em>(<em>x</em>).<br><br>\n",
    "\n",
    "<a href=\"#theor121\">Click here for the proof.</a>"
   ]
  },
  {
   "cell_type": "markdown",
   "id": "7bc961",
   "metadata": {
    "collapsed": false
   },
   "source": [
    "<a name=\"cor121ret\" id=\"cor121ret\"></a>\n",
    "COROLLARY 12.1<br>\n",
    "\n",
    "Let <em>R</em> be an integral domain, and let <em>f</em>(<em>x</em>) and <em>g</em>(<em>x</em>) be two polynomials in <em>R</em>[<em>x</em>].  \n",
    "If there is a field <em>F</em> containing <em>R</em> such that <em>g</em>(<em>x</em>) divides <em>f</em>(<em>x</em>) as polynomials in <em>F</em>[<em>x</em>], and if \n",
    "the leading coefficient of <em>g</em>(<em>x</em>) is 1, then <em>g</em>(<em>x</em>) divides <em>f</em>(<em>x</em>) in <em>R</em>[<em>x</em>].<br><br>\n",
    "\n",
    "<a href=\"#cor121\">Click here for the proof.</a>\n",
    "\n",
    "<p />\n",
    "We are used to thinking of polynomials as functions, rather than as elements in a domain.  If we want to &quot;evaluate&quot; a polynomial <em>f</em>(<em>x</em>) at \n",
    "a particular value <em>y</em>, we run into a technical problem, since <em>f</em>(<em>x</em>) is not a function.  The division algorithm comes to our rescue on the \n",
    "occasions when we do need to evaluate polynomials at a particular value.<br><br>\n",
    "\n",
    "DEFINITION 12.1<br>\n",
    "Let <em>K</em> be a field or integral domain, and let <em>K</em>[<em>x</em>] be the set of polynomials in <em>x</em> over <em>K</em>. For a fixed \n",
    "element <em>y</em> in <em>K</em>, define the mapping \n",
    "<p style='text-align: center;'><em>&#981;<sub>y</sub></em> : <em>K</em>[<em>x</em>] &rarr; <em>K</em></p>\n",
    "by \n",
    "<p style='text-align: center;'><em>&#981;<sub>y</sub></em>( <em>f</em>(<em>x</em>) ) = the remainder <em>r</em>(<em>x</em>) when <em>f</em>(<em>x</em>) is divided by (<em>x</em> &minus; <em>y</em>).</p>\n",
    "Since the polynomial (<em>x</em> &minus; <em>y</em>) is first degree, either <em>r</em>(<em>x</em>) is 0 or is of degree 0, so <em>r</em>(<em>x</em>) is in fact in <em>K</em>."
   ]
  },
  {
   "cell_type": "markdown",
   "id": "55e0a1",
   "metadata": {
    "collapsed": false
   },
   "source": [
    "<a name=\"prop121ret\" id=\"prop121ret\"></a>\n",
    "PROPOSITION 12.1<br>\n",
    "\n",
    "The mapping <em>&#981;<sub>y</sub></em> : <em>K</em>[<em>x</em>] &rarr; <em>K</em> is a homomorphism, called the <em>evaluation homomorphism</em> at <em>y</em>.<br><br>\n",
    "\n",
    "<a href=\"#prop121\">Click here for the proof.</a>\n",
    "\n",
    "<p />\n",
    "We will often denote <em>&#981;<sub>y</sub></em>(<em>f</em>(<em>x</em>)) by the conventional notation, <em>f</em>(<em>y</em>).  However, whenever we want to emphasize \n",
    "the homomorphism property, we will use the notation <em>&#981;<sub>y</sub></em>(<em>f</em>(<em>x</em>)) for the evaluation homomorphism.  This homomorphism can be used \n",
    "in <em>SageMath</em> with the command <strong>.subs()</strong>. To evaluate the polynomial <em>x</em><sup>3</sup> + 5 <em>x</em><sup>2</sup> + 4 <em>x</em> &minus; 4 \n",
    "at <em>x</em> = 3, enter<br>"
   ]
  },
  {
   "cell_type": "code",
   "execution_count": 0,
   "id": "d5115f",
   "metadata": {
    "collapsed": false
   },
   "outputs": [
   ],
   "source": [
    "var(\"x\")\n",
    "(x^3 + 5*x^2 + 4*x - 4).subs(x == 3)"
   ]
  },
  {
   "cell_type": "markdown",
   "id": "6e2743",
   "metadata": {
    "collapsed": false
   },
   "source": [
    "<br>\n",
    "<em>SageMath</em> also can use the standard functional notation:<br>"
   ]
  },
  {
   "cell_type": "code",
   "execution_count": 0,
   "id": "4036f4",
   "metadata": {
    "collapsed": false
   },
   "outputs": [
   ],
   "source": [
    "f(x) = x^3 + 5*x^2 + 4*x - 4"
   ]
  },
  {
   "cell_type": "code",
   "execution_count": 0,
   "id": "294567",
   "metadata": {
    "collapsed": false
   },
   "outputs": [
   ],
   "source": [
    "f(3)"
   ]
  },
  {
   "cell_type": "markdown",
   "id": "4db8b7",
   "metadata": {
    "collapsed": false
   },
   "source": [
    "</p>\n",
    "The difference here is that <em>SageMath</em> is actually defining a simple function, and evaluating the function at <em>x</em> = 3.<br><br>\n",
    "\n",
    "EXPERIMENT:<br>Try changing the 3 in the above command with different integers. Can you find an integer for which the polynomial evaluates to 0?<br>"
   ]
  },
  {
   "cell_type": "markdown",
   "id": "34af72",
   "metadata": {
    "collapsed": false
   },
   "source": [
    "<br>\n",
    "This experiment shows how we can use the evaluation homomorphism to define what it means for a polynomial to have a root.<br><br>\n",
    "\n",
    "DEFINITION 12.2<br>\n",
    "Let <em>f</em>(<em>x</em>) be a polynomial over the field or integral domain <em>F</em>. If <em>r</em> is an element of <em>F</em> such \n",
    "that <em>&#981;<sub>r</sub></em>(<em>f</em>(<em>x</em>)) = 0, then <em>r</em> is called a <em>zero</em>, or a <em>root</em>, of <em>f</em>(<em>x</em>).  Of course this \n",
    "is equivalent to saying that (<em>x</em> &minus; <em>r</em>) is a factor of <em>f</em>(<em>x</em>).<br><br>\n",
    "\n",
    "EXAMPLE:<br>\n",
    "Consider the polynomial <em>x</em><sup>2</sup> + 1 in <em>Z</em><sub>5</sub>[<em>x</em>].  We can visually evaluate this polynomial at <em>x</em> = 2 to see that \n",
    "<p style='text-align: center;'><em>&#981;</em><sub>2</sub>(<em>x</em><sup>2</sup> + 1) = 2<sup>2</sup> + 1 &equiv; 0</p>\n",
    "in the field <em>Z</em><sub>5</sub>.  Thus, 2 is a <em>root</em>, or a <em>zero</em>, of <em>x</em><sup>2</sup> + 1.<br><br>\n",
    "\n",
    "EXPERIMENT: <br>\n",
    "Since 2 is a root, (<em>x</em> &minus; 2) must be a factor of <em>x</em><sup>2</sup> + 1.  What is the other factor?<br>"
   ]
  },
  {
   "cell_type": "markdown",
   "id": "e27144",
   "metadata": {
    "collapsed": false
   },
   "source": [
    "<br>\n",
    "As one can imagine, the factorization of a polynomial over an arbitrary field can be more cumbersome than the customary factorization. For a finite field (such \n",
    "as <em>Z</em><sub>5</sub>), almost the only way to find roots is by trial and error.  Fortunately, <em>SageMath</em> can do this very quickly.  However, the good news is that \n",
    "if we have found enough roots to a polynomial, we already have the factorization."
   ]
  },
  {
   "cell_type": "markdown",
   "id": "56f90e",
   "metadata": {
    "collapsed": false
   },
   "source": [
    "<a name=\"prop122ret\" id=\"prop122ret\"></a>\n",
    "PROPOSITION 12.2<br>\n",
    "\n",
    "Let <em>f</em>(<em>x</em>) be a polynomial over the field <em>F</em> that has positive degree <em>n</em> and leading \n",
    "coefficient <em>a<sub>n</sub></em>.  If <em>r</em><sub>1</sub>, <em>r</em><sub>2</sub>, <em>r</em><sub>2</sub>, &hellip; <em>r<sub>n</sub></em> are <em>n</em> distinct \n",
    "zeros of <em>f</em>(<em>x</em>), then \n",
    "<p style='text-align: center;'><em>f</em>(<em>x</em>) = <em>a<sub>n</sub></em>&middot;(<em>x</em> &minus; <em>r</em><sub>1</sub>)&middot;(<em>x</em> &minus; \n",
    "<em>r</em><sub>2</sub>)&middot;(<em>x</em> &minus; <em>r</em><sub>3</sub>)&#8943;(<em>x</em> &minus; <em>r<sub>n</sub></em>).</p>\n",
    "\n",
    "<a href=\"#prop122\">Click here for the proof.</a>"
   ]
  },
  {
   "cell_type": "markdown",
   "id": "2f2f70",
   "metadata": {
    "collapsed": false
   },
   "source": [
    "<a name=\"cor122ret\" id=\"cor122ret\"></a>\n",
    "COROLLARY 12.2<br>\n",
    "\n",
    "A polynomial of positive degree <em>n</em> over the field <em>F</em> has at most <em>n</em> distinct zeros in <em>F</em>.<br><br>\n",
    "\n",
    "<a href=\"#cor122\">Click here for the proof.</a>\n",
    "\n",
    "<p />\n",
    "We can use Proposition 12.2 to do some factorizations in different fields.<br><br>\n",
    "\n",
    "EXAMPLE:<br>\n",
    "Find the factorization of <em>x</em><sup>2</sup> + 1 in <em>Z</em><sub>5</sub>[<em>x</em>].<br><br>\n",
    "\n",
    "We found 2 be a root earlier. With a bit of experimenting another root could be found: 3.  Thus,\n",
    "<p style='text-align: center;'><em>x</em><sup>2</sup> + 1 = (<em>x</em> &minus; 2)&middot;(<em>x</em> &minus; 3) in <em>Z</em><sub>5</sub>[<em>x</em>].</p>\n",
    "\n",
    "\n",
    "EXPERIMENT:<br>\n",
    "Use direct evaluation to find three roots of the polynomial \n",
    "<p style='text-align: center;'><em>f</em>(<em>x</em>) = 3 <em>x</em><sup>3</sup> + 2 <em>x</em><sup>2</sup> + 2 <em>x</em> + 6 in <em>Z</em><sub>7</sub>[<em>x</em>].</p>\n",
    "For example, 0 is not a root since<br>"
   ]
  },
  {
   "cell_type": "code",
   "execution_count": 0,
   "id": "9f42a5",
   "metadata": {
    "collapsed": false
   },
   "outputs": [
   ],
   "source": [
    "var('x')\n",
    "(3*x^3 + 2*x^2 + 2*x + 6).subs(x == 0)"
   ]
  },
  {
   "cell_type": "markdown",
   "id": "99d89f",
   "metadata": {
    "collapsed": false
   },
   "source": [
    "<br>\n",
    "is not divisible by 7.  Once you have found 3 roots, write the factorization of <em>f</em>(<em>x</em>).<br>"
   ]
  },
  {
   "cell_type": "markdown",
   "id": "47bacb",
   "metadata": {
    "collapsed": false
   },
   "source": [
    "<br>\n",
    "Here is an application of Corollary 12.2 that has many applications even using the real number field."
   ]
  },
  {
   "cell_type": "markdown",
   "id": "e58fe9",
   "metadata": {
    "collapsed": false
   },
   "source": [
    "<a name=\"cor123ret\" id=\"cor123ret\"></a>\n",
    "COROLLARY 12.3<br>\n",
    "\n",
    "Let <em>F</em> be a field, let <em>x</em><sub>0</sub>, <em>x</em><sub>1</sub>, <em>x</em><sub>2</sub>, <em>x</em><sub>3</sub>, &hellip; <em>x<sub>n</sub></em> be \n",
    "<em>n</em> + 1 distinct elements of <em>F</em>, and let <em>y</em><sub>0</sub>, <em>y</em><sub>1</sub>, <em>y</em><sub>2</sub>, <em>y</em><sub>3</sub>, &hellip; \n",
    "<em>y<sub>n</sub></em> be <em>n</em> + 1 values in <em>F</em> (not necessarily distinct).  Then there is a unique polynomial <em>&fnof;</em>(<em>x</em>) with degree \n",
    "at most <em>n</em> such that \n",
    "<p style='text-align: center;'><em>f</em>(<em>x</em><sub>0</sub>) = <em>y</em><sub>0</sub>,&emsp;<em>f</em>(<em>x</em><sub>1</sub>) = \n",
    "<em>y</em><sub>1</sub>,&emsp;<em>f</em>(<em>x</em><sub>2</sub>) = <em>y</em><sub>2</sub>,&ensp;&hellip;&ensp;<em>f</em>(<em>x<sub>n</sub></em>) = <em>y<sub>n</sub></em>.</p>\n",
    "\n",
    "<a href=\"#cor123\">Click here for the proof.</a>\n",
    "\n",
    "<p />\n",
    "This corollary shows, for example, that knowing just three points of a quadratic function is sufficient to determine the quadratic function. Although this has the obvious \n",
    "applications to graphing polynomials, we will find in the next section some surprising real world applications when we apply this corollary to different fields.<br><br>\n",
    "\n",
    "The <em>SageMath</em> command <strong>InterpolatingPolynomial(</strong>[[<em>x</em><sub>0</sub>, <em>y</em><sub>0</sub>], [<em>x</em><sub>1</sub>, <em>y</em><sub>1</sub>], \n",
    "[<em>x</em><sub>2</sub>, <em>y</em><sub>2</sub>], &hellip; [<em>x<sub>n</sub></em>, <em>y<sub>n</sub></em>]], &quot;<em>x</em>&quot;<strong>)</strong> finds the polynomial in <em>x</em> derived in Corollary 4.3. For example,<br>"
   ]
  },
  {
   "cell_type": "code",
   "execution_count": 0,
   "id": "823523",
   "metadata": {
    "collapsed": false
   },
   "outputs": [
   ],
   "source": [
    "InitDomain(0)\n",
    "InterpolationPolynomial([[1,2], [2,4], [3,8]], \"x\")"
   ]
  },
  {
   "cell_type": "markdown",
   "id": "4e4103",
   "metadata": {
    "collapsed": false
   },
   "source": [
    "<br>\n",
    "finds the quadratic polynomial such that <em>g</em>(1) = 2, <em>g</em>(2)= 4, and <em>g</em>(3) = 8.  Note that the first command <strong>InitDomain(0)</strong> defines \n",
    "the field to be rational numbers.  (Yes, this command also works for other fields, such as the \"complex numbers mod 3\".)<br><br>\n",
    "\n",
    "EXPERIMENT:<br>\n",
    "Use <em>SageMath</em> to find a third degree polynomial such that <em>f</em>(0) = 1, <em>f</em>(1) = 5, <em>f</em>(3) = 2, and <em>f</em>(5) = &minus;1.  Have <em>SageMath</em> verify \n",
    "that this is the correct polynomial by evaluating at each of the four points.<br>"
   ]
  },
  {
   "cell_type": "markdown",
   "id": "53a416",
   "metadata": {
    "collapsed": false
   },
   "source": [
    "<br>\n",
    "We are now ready to define the polynomials that in many ways act as the prime numbers of number theory.<br><br>\n",
    "\n",
    "DEFINITION 12.3<br>\n",
    "A polynomial <em>f</em>(<em>x</em>) in <em>F</em>[<em>x</em>] is said to be <em>reducible</em> over <em>F</em> if <em>f</em>(<em>x</em>) has positive degree, \n",
    "and <em>f</em>(<em>x</em>) can be expressed as a product \n",
    "<p style='text-align: center;'><em>f</em>(<em>x</em>) = <em>g</em>(<em>x</em>)&middot;<em>h</em>(<em>x</em>)</p>\n",
    "where both <em>g</em>(<em>x</em>) and <em>h</em>(<em>x</em>) have positive degree.  If <em>f</em>(<em>x</em>) has positive degree and is not reducible, it is \n",
    "called <em>irreducible</em>.\n",
    "\n",
    "<br><br>\n",
    "We saw above that <em>x</em><sup>2</sup> + 1 was reducible over <em>Z</em><sub>5</sub>.  However, <em>SageMath</em> will claim that this polynomial is irreducible:<br>"
   ]
  },
  {
   "cell_type": "code",
   "execution_count": 0,
   "id": "fabdc4",
   "metadata": {
    "collapsed": false
   },
   "outputs": [
   ],
   "source": [
    "var(\"x\")\n",
    "factor(x^2 + 1)"
   ]
  },
  {
   "cell_type": "markdown",
   "id": "f48a74",
   "metadata": {
    "collapsed": false
   },
   "source": [
    "<br>\n",
    "The reason of course is that <em>SageMath</em> is viewing this polynomial as an element of &#8474;[<em>x</em>], not <em>Z</em><sub>5</sub>[<em>x</em>].  Yet this \n",
    "polynomial <em>does</em> have a factorization if we were allowed to work with complex numbers:<br>"
   ]
  },
  {
   "cell_type": "code",
   "execution_count": 0,
   "id": "ff2039",
   "metadata": {
    "collapsed": false
   },
   "outputs": [
   ],
   "source": [
    "expand( (x+I)*(x-I) )"
   ]
  },
  {
   "cell_type": "markdown",
   "id": "089526",
   "metadata": {
    "collapsed": false
   },
   "source": [
    "<br>\n",
    "Thus, <em>x</em><sup>2</sup> + 1 is reducible over &#8450;, the field of complex numbers.  Thus, whether a polynomial is reducible or irreducible over <em>F</em> \n",
    "greatly depends on the field <em>F</em>.<br><br>\n",
    "\n",
    "It should be noted that if <em>g</em>(<em>x</em>) and <em>h</em>(<em>x</em>) both have positive degree, then <em>g</em>(<em>x</em>)&middot;<em>h</em>(<em>x</em>) has \n",
    "degree at least 2.  Thus, all polynomials of degree 1 must be irreducible.  Constant polynomials, however, are not considered to be irreducible.<br><br>\n",
    "\n",
    "Although it can be tricky to decide whether a polynomial is reducible or irreducible, there is a way to test polynomials of low degree."
   ]
  },
  {
   "cell_type": "markdown",
   "id": "9b1582",
   "metadata": {
    "collapsed": false
   },
   "source": [
    "<a name=\"prop123ret\" id=\"prop123ret\"></a>\n",
    "PROPOSITION 12.3<br>\n",
    "If <em>f</em>(<em>x</em>) is a polynomial of degree 2 or 3 over the field <em>F</em>, then <em>f</em>(<em>x</em>) is reducible over <em>F</em> if, and only \n",
    "if, <em>f</em>(<em>x</em>) has a zero in <em>F</em>.<br><br>\n",
    "\n",
    "<a href=\"#prop123\">Click here for the proof.</a>\n",
    "\n",
    "<p />\n",
    "We can use this proposition to determine whether polynomials of degree less than 4 are irreducible over a finite field.  Simply plug in all elements of the field, and see if any of them produce 0 in that field.<br><br>\n",
    "\n",
    "EXAMPLE:<br>\n",
    "Determine whether the polynomial\n",
    "<p style='text-align: center;'><em>x</em><sup>3</sup> + 2 <em>x</em><sup>2</sup> &minus; 3 <em>x</em> + 4</p>\n",
    "is reducible in <em>Z</em><sub>5</sub>.<br><br>\n",
    "\n",
    "We have:<br>"
   ]
  },
  {
   "cell_type": "code",
   "execution_count": 0,
   "id": "f2bbd2",
   "metadata": {
    "collapsed": false
   },
   "outputs": [
   ],
   "source": [
    "var(\"x\")\n",
    "(x^3 + 2*x^2 - 3*x + 4).subs(x == 0)"
   ]
  },
  {
   "cell_type": "code",
   "execution_count": 0,
   "id": "2c9f57",
   "metadata": {
    "collapsed": false
   },
   "outputs": [
   ],
   "source": [
    "(x^3 + 2*x^2 - 3*x + 4).subs(x == 1)"
   ]
  },
  {
   "cell_type": "code",
   "execution_count": 0,
   "id": "bba22d",
   "metadata": {
    "collapsed": false
   },
   "outputs": [
   ],
   "source": [
    "(x^3 + 2*x^2 - 3*x + 4).subs(x == 2)"
   ]
  },
  {
   "cell_type": "code",
   "execution_count": 0,
   "id": "5dca4e",
   "metadata": {
    "collapsed": false
   },
   "outputs": [
   ],
   "source": [
    "(x^3 + 2*x^2 - 3*x + 4).subs(x == 3)"
   ]
  },
  {
   "cell_type": "code",
   "execution_count": 0,
   "id": "c9c165",
   "metadata": {
    "collapsed": false
   },
   "outputs": [
   ],
   "source": [
    "(x^3 + 2*x^2 - 3*x + 4).subs(x == 4)"
   ]
  },
  {
   "cell_type": "markdown",
   "id": "5b98cf",
   "metadata": {
    "collapsed": false
   },
   "source": [
    "<br>\n",
    "One of these, namely when <em>x</em> was replaced by 3, produced a multiple of 5, which is equivalent to 0 in the field <em>Z</em><sub>5</sub>.  Thus, this \n",
    "polynomial is reducible.<br><br>\n",
    "\n",
    "EXPERIMENT:<br>\n",
    "Can you determine the other factor through the division algorithm?<br>"
   ]
  },
  {
   "cell_type": "markdown",
   "id": "11f0d6",
   "metadata": {
    "collapsed": false
   },
   "source": [
    "<br>\n",
    "EXPERIMENT:<br>\n",
    "Determine whether the polynomial <em>x</em><sup>2</sup> + 3 <em>x</em> + 4 is reducible over <em>Z</em><sub>5</sub>.<br>"
   ]
  },
  {
   "cell_type": "markdown",
   "id": "548d0d",
   "metadata": {
    "collapsed": false
   },
   "source": [
    "<a name=\"prop124ret\" id=\"prop124ret\"></a>\n",
    "PROPOSITION 12.4<br>If <em>F</em> is a field, then all polynomials in <em>F</em>[<em>x</em>] of positive degree are either irreducible, or can be expressed as a product \n",
    "of irreducible polynomials.<br><br>\n",
    "\n",
    "<a href=\"#prop124\">Click here for the proof.</a>\n",
    "\n",
    "<p />\n",
    "One last tool we have to help us find irreducible polynomials is the Greatest Common Divisor (GCD) of two polynomials.  The proof of the next theorem mimics the proof \n",
    "of B&eacute;zout's lemma for integers (1.3)."
   ]
  },
  {
   "cell_type": "markdown",
   "id": "5eb0b5",
   "metadata": {
    "collapsed": false
   },
   "source": [
    "<a name=\"theor122ret\" id=\"theor122ret\"></a>\n",
    "THEOREM 12.2: The Greatest Common Divisor Theorem for Polynomials<br>\n",
    "\n",
    "Let <em>F</em> be a field, and let <em>F</em>[<em>x</em>] be the polynomials in <em>x</em> over the field <em>F</em>.  Given two nonzero \n",
    "polynomials <em>f</em>(<em>x</em>) and <em>g</em>(<em>x</em>) in <em>F</em>[<em>x</em>], there exists a nonzero polynomial <em>h</em>(<em>x</em>) such that: <br><br>\n",
    "\n",
    "1) <em>h</em>(<em>x</em>) divides both <em>f</em>(<em>x</em>) and <em>g</em>(<em>x</em>).<br><br>\n",
    "\n",
    "2) There exist polynomials <em>s</em>(<em>x</em>) and <em>t</em>(<em>x</em>) such that\n",
    "<p style='text-align: center;'><em>f</em>(<em>x</em>)&middot;<em>s</em>(<em>x</em>) + <em>g</em>(<em>x</em>)&middot;<em>t</em>(<em>x</em>) = <em>h</em>(<em>x</em>).</p>\n",
    "Furthermore, the polynomial <em>h</em>(<em>x</em>) is unique except for multiplication by a constant.<br><br>\n",
    "\n",
    "<a href=\"#theor122\">Click here for the proof.</a>\n",
    "\n",
    "<p />\n",
    "DEFINITION 12.4<br>\n",
    "Given two polynomials in <em>F</em>[<em>x</em>], the <em>greatest common divisor</em> is the polynomial given in the above theorem whose leading coefficient \n",
    "is 1.<br><br>\n",
    "\n",
    "The <em>SageMath</em> command <strong>gcd</strong> finds the greatest common divisors of two polynomials as well as two integers. Thus, the command<br>"
   ]
  },
  {
   "cell_type": "code",
   "execution_count": 0,
   "id": "9571bb",
   "metadata": {
    "collapsed": false
   },
   "outputs": [
   ],
   "source": [
    "var(\"x\")\n",
    "gcd(x^3 - 1, x^4 - 1)"
   ]
  },
  {
   "cell_type": "markdown",
   "id": "65111d",
   "metadata": {
    "collapsed": false
   },
   "source": [
    "<br>\n",
    "shows that <em>x</em> &minus; 1 divides both polynomials.  Thus, there are two polynomial <em>s</em>(<em>x</em>) and <em>t</em>(<em>x</em>) such that\n",
    "<p style='text-align: center;'>(<em>x</em><sup>3</sup> &minus; 1)&middot;<em>s</em>(<em>x</em>) + (<em>x</em><sup>4</sup> &minus; 1)&middot;<em>t</em>(<em>x</em>) = \n",
    "<em>x</em> &minus; 1.</p>\n",
    "\n",
    "EXPERIMENT:<br>Can you find polynomials <em>s</em>(<em>x</em>) and <em>t</em>(<em>x</em>) that solve the above equation?<br>"
   ]
  },
  {
   "cell_type": "markdown",
   "id": "a8810a",
   "metadata": {
    "collapsed": false
   },
   "source": [
    "<a name=\"cor124ret\" id=\"cor124ret\"></a>\n",
    "COROLLARY 12.4<br>\n",
    "\n",
    "Let <em>F</em> be a field, and let <em>f</em>(<em>x</em>), <em>g</em>(<em>x</em>), and <em>h</em>(<em>x</em>) be polynomials in <em>F</em>[<em>x</em>].  If \n",
    "<em>f</em>(<em>x</em>) is an irreducible divisor of <em>g</em>(<em>x</em>)&middot;<em>h</em>(<em>x</em>), then either <em>g</em>(<em>x</em>) or <em>h</em>(<em>x</em>) is \n",
    "a multiple of <em>f</em>(<em>x</em>).<br><br>\n",
    "\n",
    "<a href=\"#cor124\">Click here for the proof.</a>\n",
    "\n",
    "<p />\n",
    "The irreducible polynomials will play the same role in the domain <em>F</em>[<em>x</em>] as prime numbers play in the domain &#8484;.  The main property of \n",
    "integer factorizations is that every positive number greater than one can be factored <em>uniquely</em> into a product of primes.  We would like to prove something \n",
    "similar polynomials in <em>F</em>[<em>x</em>], but we immediately see that an apparent complication:\n",
    "<p style='text-align: center;'>2 <em>x</em><sup>3</sup> &minus; 2 <em>x</em><sup>2</sup> &minus; 2 <em>x</em> &minus; 4 = \n",
    "(2 <em>x</em> &minus; 4)(<em>x</em><sup>2</sup> + <em>x</em> + 1) = (<em>x</em> &minus; 2)(2 <em>x</em><sup>2</sup> + 2 <em>x</em> + 2).</p>\n",
    "Yet by the way we have defined irreducible elements,\n",
    "<p style='text-align: center;'>(2 <em>x</em> - 4), (<em>x</em><sup>2</sup> + <em>x</em> + 1), (<em>x</em> - 2) and (2 <em>x</em><sup>2</sup> + 2 <em>x</em> + 2)</p>\n",
    "are all irreducible polynomials.<br><br>\n",
    "\n",
    "In the next section we will modify our definition of unique factorization so that the two factorizations above would be considered as equivalent.<br><br>"
   ]
  },
  {
   "cell_type": "markdown",
   "id": "696782",
   "metadata": {
    "collapsed": false
   },
   "source": [
    "<a name=\"sec122\" id=\"sec122\"></a>\n",
    "<h1>Unique Factorization Domains</h1>\n",
    "\n",
    "<br>\n",
    "In this section we wish to determine a general definition of unique factorization that would apply not only to <em>F</em>[<em>x</em>], but \n",
    "for <em>any</em> integral domain.<br><br>\n",
    "\n",
    "DEFINITION 12.5<br>\n",
    "Let <em>R</em> be a commutative ring.  We say that an element <em>x</em> in <em>R</em> is a <em>unit</em> if <em>x</em> has a multiplicative inverse. <br><br>\n",
    "\n",
    "In Proposition 9.7 we defined the set of invertible elements of <em>R</em> as <em>R</em><sup>&ast;</sup>, and showed that they formed a group under multiplication.  The \n",
    "units of <em>R</em> will play the same role as the constant polynomials do in the ring <em>F</em>[<em>x</em>].  In fact, we can model the definition of \n",
    "reducible and irreducible elements of a ring on the definition of irreducible polynomials in <nobr><em>F</em>[<em>x</em>].</nobr><br><br>\n",
    "\n",
    "DEFINITION 12.6<br>\n",
    "Let <em>R</em> be a commutative ring.  If a nonzero element <em>x</em> in <em>R</em> is not a unit, and can be expressed as a \n",
    "product <em>x</em> = <em>y</em>&middot;<em>z</em>, where neither <em>y</em> nor <em>z</em> are units, then we say that <em>x</em> is <em>reducible</em>.  If a nonzero \n",
    "element is neither a unit nor reducible, we say it is <em>irreducible</em>.<br><br>\n",
    "\n",
    "Although this definition is mainly applied to integral domains, we can apply the definition to any ring with an identity.<br><br>\n",
    "\n",
    "EXAMPLE:<br>  \n",
    "Consider the following ring:<br>"
   ]
  },
  {
   "cell_type": "code",
   "execution_count": 0,
   "id": "b79c0e",
   "metadata": {
    "collapsed": false
   },
   "outputs": [
   ],
   "source": [
    "InitRing()\n",
    "AddRingVar(\"a\",\"b\")\n",
    "Define(4*a, 0); Define(2*b, 0)\n",
    "Define(a^2, a); Define(a*b, 0)\n",
    "Define(b*a, 0); Define(b^2, b)\n",
    "R = Ring(); R"
   ]
  },
  {
   "cell_type": "code",
   "execution_count": 0,
   "id": "af4667",
   "metadata": {
    "collapsed": false
   },
   "outputs": [
   ],
   "source": [
    "MultTable(R)"
   ]
  },
  {
   "cell_type": "markdown",
   "id": "a72f72",
   "metadata": {
    "collapsed": false
   },
   "source": [
    "<br>\n",
    "From the multiplication table, can you find an irreducible element in this ring?  How many are there?<br>"
   ]
  },
  {
   "cell_type": "markdown",
   "id": "e58e44",
   "metadata": {
    "collapsed": false
   },
   "source": [
    "<br>\n",
    "Let us consider the more familiar ring, &#8484;.  The only two elements with multiplicative inverses are &plusmn;1.  The irreducible elements are of \n",
    "course the prime numbers 2, 3, 5, 7, 11, 13, &hellip;.  But by this definition, the <em>negative</em> of a prime number is also irreducible.  For example, &minus;3 can \n",
    "be expressed as a product in two different ways:  &minus;1 &middot; 3 and &minus;3 &middot; 1, but both of these products involve units.  The dilemma of defining \n",
    "negative numbers as primes is that numbers can now be written as a product of primes in more than one way:\n",
    "<p style='text-align: center;'>12 = 2&middot;2&middot;3 = 2&middot;(&minus;2)&middot;(&minus;3) = (&minus;2)&middot;(&minus;2)&middot;3.</p>\n",
    "\n",
    "EXPERIMENT:<br>\n",
    "By allowing negative numbers to be prime, how many ways can 30 be expressed as a product of prime numbers?<br>"
   ]
  },
  {
   "cell_type": "markdown",
   "id": "3343b1",
   "metadata": {
    "collapsed": false
   },
   "source": [
    "<br>\n",
    "Because we now are including negative primes, we also have to redefine what is meant by unique factorization.  The first step is to understand the relationship between \n",
    "these different factorizations.<br><br>\n",
    "\n",
    "DEFINITION 12.7<br>\n",
    "Let <em>R</em> be a commutative ring with identity. We say that the element <em>x</em> is an <em>associate</em> of an element <em>y</em> if there is a unit <em>z</em> \n",
    "such that <nobr><em>y</em> = <em>x</em>&middot;<em>z</em>.</nobr><br><br>\n",
    "\n",
    "Note that if <em>x</em> is an associate of <em>y</em>, then <em>x</em> = <em>y</em>&middot;<em>z</em><sup>-1</sup> so that <em>y</em> is an associate \n",
    "of <em>x</em>.  Even though we saw three different factorizations of 12, these are related via associates.<br><br>\n",
    "\n",
    "DEFINITION 12.8<br>\n",
    "A ring <em>R</em> has <em>unique factorization</em> if the following two conditions are satisfied:<br><br> \n",
    "1) If <em>x</em> is nonzero, and is not a unit of <em>R</em>, then <em>x</em> can be written as a product of irreducible elements of <em>R</em>.<br><br>\n",
    "2) If <em>x</em> = <em>y</em><sub>1</sub>&middot;<em>y</em><sub>2</sub>&middot;<em>y</em><sub>3</sub>&#8943;<em>y<sub>m</sub></em> = \n",
    "<em>z</em><sub>1</sub>&middot;<em>z</em><sub>2</sub>&middot;<em>z</em><sub>3</sub>&#8943;<em>z<sub>n</sub></em>\n",
    "are two expressions of <em>x</em> as a product of irreducible elements, then <em>m</em> = <em>n</em> and there is a permutation\n",
    "<em>&sigma;</em> &isin; <em>S<sub>n</sub></em> such that <em>y<sub>i</sub></em> and <em>z</em><sub><em>&sigma;</em>(<em>i</em>)</sub> \n",
    "are associates.  In other words, each <em>y<sub>i</sub></em> is an associate of some <em>z<sub>j</sub></em>, \n",
    "and vice versa.<br><br>\n",
    "\n",
    "Furthermore, if <em>R</em> is an integral domain, then <em>R</em> is a <em>unique factorization domain</em>, abbreviated as <em>UFD</em>.<br><br>\n",
    "\n",
    "This definition sheds light on the polynomials which seemed to have two different factorizations. In is sense the factorizations <em>are</em> unique, as long as we \n",
    "take associates into account. <br><br>\n",
    "\n",
    "We would like to find a quick way to determine whether an integral domain is a UFD.  The needed tool will be the definition of the <em>prime</em> elements.  Although we \n",
    "have already defined a prime element in the integers &#8484;, for a general ring we wish to define a prime element as one that satisfies a different property.<br><br>\n",
    "\n",
    "DEFINITION 12.9<br>\n",
    "A nonzero element <em>x</em> of a commutative ring is <em>prime</em> if <em>x</em> is not a unit, and whenever <em>y</em>&middot;<em>z</em> is a multiple of <em>x</em>, \n",
    "then either <em>y</em> or <em>z</em> must be a multiple of <em>x</em>.<br><br>\n",
    "\n",
    "Although primes and irreducible elements are the same in &#8484;, for many other rings they are totally different.<br><br>\n",
    "  \n",
    "EXAMPLE:<br>  \n",
    "Consider once again the commutative ring of order 8:<br>"
   ]
  },
  {
   "cell_type": "code",
   "execution_count": 0,
   "id": "77b732",
   "metadata": {
    "collapsed": false
   },
   "outputs": [
   ],
   "source": [
    "InitRing()\n",
    "AddRingVar(\"a\",\"b\")\n",
    "Define(4*a, 0); Define(2*b, 0)\n",
    "Define(a^2, a); Define(b^2, b)\n",
    "Define(a*b, 0); Define(b*a, 0)\n",
    "MultTable(Ring())"
   ]
  },
  {
   "cell_type": "markdown",
   "id": "0c6211",
   "metadata": {
    "collapsed": false
   },
   "source": [
    "<br>\n",
    "Show that even though <em>a</em> is not irreducible, <em>a</em> is prime in this ring.<br><br>\n",
    "\n",
    "We need to show that whenever <em>y</em>&middot;<em>z</em> is a multiple of <em>a</em>, then either <em>y</em> or <em>z</em> is a multiple of <em>a</em>.  Another way of \n",
    "saying this is that whenever <em>y</em> or <em>z</em> are not multiples of <em>a</em>, then <em>y</em>&middot;<em>z</em> is not a multiple of <em>a</em>.  The multiples \n",
    "of <em>a</em> are {0, <em>a</em>, 2<em>a</em>, &minus;<em>a</em>}, so the non-multiples of <em>a</em> are {<em>b</em>, <em>a</em> + <em>b</em>, 2<em>a</em> + <em>b</em>, &minus;<em>a</em> + <em>b</em>}. The above table shows that multiplication is closed under this set, so <em>a</em> is prime, even though it is not irreducible.<br><br>\n",
    "\n",
    "EXPERIMENT:<br>\n",
    "Find <em>all</em> of the prime elements of this ring.  Show that any nonzero element is either a unit or can be expressed as a product of primes.<br>"
   ]
  },
  {
   "cell_type": "markdown",
   "id": "f85cb3",
   "metadata": {
    "collapsed": false
   },
   "source": [
    "<br>\n",
    "Although in this ring we found prime elements that was not irreducible, we can show that this can only happen when the ring has zero divisors."
   ]
  },
  {
   "cell_type": "markdown",
   "id": "6e9e2a",
   "metadata": {
    "collapsed": false
   },
   "source": [
    "<a name=\"lem121ret\" id=\"lem121ret\"></a>\n",
    "LEMMA 12.1<br>\n",
    "\n",
    "If <em>K</em> is an integral domain, and <em>x</em> is a prime element of <em>K</em>, then <em>x</em> is irreducible.<br><br>\n",
    "\n",
    "<a href=\"#lem121\">Click here for the proof.</a>\n",
    "\n",
    "<p />\n",
    "Even though a prime element is irreducible, it is <em>not</em> true that an irreducible element is prime!  Consider for example the numbers of the form <em>x</em> + \n",
    "<em>y</em>&radic;<font style=\"text-decoration:overline\">&minus;5</font> where <em>x</em> and <em>y</em> are integers.  This ring is referred to \n",
    "as &#8484;[&radic;<font style=\"text-decoration:overline\">&minus;5</font>].  To determine the irreducible elements of this ring, let us define the following function \n",
    "on &#8484;[&radic;<font style=\"text-decoration:overline\">&minus;5</font>]:\n",
    "<p style='text-align: center;'><em>N</em>(<em>x</em> + <em>y</em>&radic;<font style=\"text-decoration:overline\">&minus;5</font>) = \n",
    "(<em>x</em> + <em>y</em>&radic;<font style=\"text-decoration:overline\">&minus;5</font>)(<em>x</em> &minus; \n",
    "<em>y</em>&radic;<font style=\"text-decoration:overline\">&minus;5</font>) = <em>x</em><sup>2</sup> + 5 <em>y</em><sup>2</sup>.</p>\n",
    "Notice that <em>N</em>(<em>z</em>) is the product of the number <em>z</em> with its complex conjugate.  The full significance of this function will be revealed later in \n",
    "this chapter.  For now we can observe that if <em>a</em> and <em>b</em> are in &#8484;[&radic;<font style=\"text-decoration:overline\">&minus;5</font>], \n",
    "<em>N</em>(<em>a</em>&middot;<em>b</em>) = <em>N</em>(<em>a</em>)&middot;<em>N</em>(<em>b</em>).  Hence, <em>N</em>(<em>a</em>) is a group homomorphism from \n",
    "the multiplicative group of &#8484;[&radic;<font style=\"text-decoration:overline\">&minus;5</font>] to &#8484;<sup>+</sup>.  This homomorphism will help us to determine \n",
    "the irreducible elements of &#8484;[&radic;<font style=\"text-decoration:overline\">&minus;5</font>].<br><br>\n",
    "\n",
    "Let us begin by finding the units of &#8484;[&radic;<font style=\"text-decoration:overline\">&minus;5</font>].  If <em>a</em> = <em>x</em> + \n",
    "<em>y</em>&radic;<font style=\"text-decoration:overline\">&minus;5</font> is invertible, then <em>N</em>(<em>a</em>) must be invertible.  Hence <em>x</em><sup>2</sup> + \n",
    "5 <em>y</em><sup>2</sup> = 1.  The only integer solution to this equation is when <em>y</em> = 0 and <em>x</em> = &plusmn;1.  Thus, &plusmn;1 are the only units of \n",
    "this ring.<br>\n",
    "<br>\n",
    "\n",
    "Next, let us find an irreducible element. Since <em>N</em>(2) = 4, the only way a product of non-units <em>a</em> and <em>b</em> could be equal 4 is if both \n",
    "<em>N</em>(<em>a</em>) and <em>N</em>(<em>b</em>) were equal to 2.  But the equation <em>x</em><sup>2</sup> + 5 <em>y</em><sup>2</sup> = 2 clearly has no integer \n",
    "solutions.  Thus, 2 is an irreducible element in this ring.  By the same reasoning, <em>N</em>(3) = 9, and <em>x</em><sup>2</sup> + 5 <em>y</em><sup>2</sup> = 3 has no solutions, \n",
    "so 3 is irreducible.<br><br>\n",
    "\n",
    "However, neither 2 nor 3 is a prime element of this ring!  Consider the product\n",
    "<p style='text-align: center;'>(1 + &radic;<font style=\"text-decoration:overline\">&minus;5</font>)(1 &minus; &radic;<font style=\"text-decoration:overline\">&minus;5</font>) =\n",
    "1 + 5 = 6.</p>\n",
    "This product is a multiple of 2 and 3, but neither factor is a multiple of 2 or 3.  Thus, 2 and 3 are not prime in this ring.<br><br>\n",
    "\n",
    "This example shows a ring that is <em>not</em> a unique factorization domain.  We have seen two ways of factoring the number 6, and the two factorizations are not \n",
    "equivalent in terms of associates.<br><br> \n",
    "\n",
    "The ring &#8484;[&radic;<font style=\"text-decoration:overline\">&minus;5</font>] can be generalized to produce similar rings, some of which are UFD's, and some are not.<br><br>\n",
    "\n",
    "DEFINITION 12.10<br>\n",
    "Let <em>n</em> be an integer that is not divisible by the square of any integer other than 1. Then the ring \n",
    "&#8484;[&radic;<font style=\"text-decoration:overline\"><em>n</em></font>] is called a <em>quadratic domain</em>.<br><br>\n",
    "\n",
    "We have already worked with some examples of quadratic domains. For example,\n",
    "we found two possible ways to order the ring &#8484;[&radic;<font style=\"text-decoration:overline\">2</font>], using ring homomorphisms.  In &sect;12.4, we will generalize \n",
    "the <em>N</em> function to determine whether many of these quadratic domains are UFD's.<br><br>\n",
    "\n",
    "The fact that neither 2 nor 3 was prime in the quadratic domain &#8484;[&radic;<font style=\"text-decoration:overline\">&minus;5</font>] is a clue as to why this ring is not a UFD."
   ]
  },
  {
   "cell_type": "markdown",
   "id": "3d206f",
   "metadata": {
    "collapsed": false
   },
   "source": [
    "<a name=\"prop125ret\" id=\"prop125ret\"></a>\n",
    "PROPOSITION 12.5<br>\n",
    "\n",
    "An integral domain is a UFD if, and only if, all nonzero, non-units can be written as a product of primes.<br><br>\n",
    "\n",
    "<a href=\"#prop125\">Click here for the proof.</a>\n",
    "\n",
    "<p />\n",
    "This proposition will help us greatly in determining whether an integral domain is a UFD.  We usually will proceed in two steps: proving that any element can be written as \n",
    "a product of irreducible elements, and then proving that any irreducible element is prime."
   ]
  },
  {
   "cell_type": "markdown",
   "id": "3dc1bb",
   "metadata": {
    "collapsed": false
   },
   "source": [
    "<a name=\"cor125ret\" id=\"cor125ret\"></a>\n",
    "COROLLARY 12.5<br>\n",
    "\n",
    "If <em>F</em> is a field, then the ring <em>F</em>[<em>x</em>] is a UFD.<br><br>\n",
    "\n",
    "<a href=\"#cor125\">Click here for the proof.</a>\n",
    "\n",
    "<p />\n",
    "Although this corollary proves that polynomials over the rational numbers have a unique factorization, we still have not proven that &#8484;[<em>x</em>], the polynomials \n",
    "over the integers, is a unique factorization domain.  Corollary 12.5 will not help us, since &#8484; is not a field.  Yet is seems plausible that we could prove \n",
    "that &#8484;[<em>x</em>] is a UFD, merely by using the fact that &#8474;[<em>x</em>] is a UFD.  In the process, let us prove that <em>R</em>[<em>x</em>] is a UFD \n",
    "whenever <em>R</em> is a UFD.  First, we will need to prove a few lemmas.  This next lemma, commonly referred to as Gauss' lemma, uses the formula for the product of \n",
    "two polynomials."
   ]
  },
  {
   "cell_type": "markdown",
   "id": "33ae4a",
   "metadata": {
    "collapsed": false
   },
   "source": [
    "<a name=\"lem122ret\" id=\"lem122ret\"></a>\n",
    "LEMMA 12.2: Gauss' Lemma<br>\n",
    "\n",
    "If <em>R</em> is an integral domain, then a prime element of <em>R</em> is also a prime element of <em>R</em>[<em>x</em>].<br><br>\n",
    "\n",
    "<a href=\"#lem122\">Click here for the proof.</a>\n",
    "\n",
    "<p />\n",
    "With Gauss' lemma (12.2), we can see that whenever a product of several polynomials in <em>R</em>[<em>x</em>] is divisible by a <em>p</em>, a prime number of <em>R</em>, \n",
    "then one of those polynomials must have been divisible by <em>p</em>.  We can use induction to extend this argument to when <em>p</em> any element of <em>R</em>."
   ]
  },
  {
   "cell_type": "markdown",
   "id": "bb2d51",
   "metadata": {
    "collapsed": false
   },
   "source": [
    "<a name=\"lem123ret\" id=\"lem123ret\"></a>\n",
    "LEMMA 12.3<br>\n",
    "\n",
    "Let <em>R</em> be a unique factorization domain, and let\n",
    "<p style='text-align: center;'><em>g</em><sub>1</sub>(<em>x</em>), <em>g</em><sub>2</sub>(<em>x</em>), <em>g</em><sub>3</sub>(<em>x</em>), &hellip; \n",
    "<em>g<sub>n</sub></em>(<em>x</em>)</p>\n",
    "be polynomials in <em>R</em>[<em>x</em>] that are not divisible by any prime element of <em>R</em>.  Let <em>f</em>(<em>x</em>) be a polynomial in <em>R</em>[<em>x</em>], \n",
    "and let <em>c</em> and <em>d</em> be two elements in <em>R</em> such that\n",
    "<p style='text-align: center;'><em>c</em>&middot;<em>f</em>(<em>x</em>) = \n",
    "<em>d</em>&middot;<em>g</em><sub>1</sub>(<em>x</em>)&middot;<em>g</em><sub>2</sub>(<em>x</em>)&middot;<em>g</em><sub>3</sub>(<em>x</em>) &#8943; \n",
    "<em>g<sub>n</sub></em>(<em>x</em>).</p>\n",
    "Then <em>d</em> is divisible by <em>c</em> in <em>R</em>.<br><br>\n",
    "\n",
    "<a href=\"#lem123\">Click here for the proof.</a>\n",
    "\n",
    "<p />\n",
    "The next step in proving that <em>R</em>[<em>x</em>] is a UFD is to find the irreducible elements of <em>R</em>[<em>x</em>].  If there is a field <em>F</em> that \n",
    "contains <em>R</em>, we can use the irreducible elements of <em>F</em>[<em>x</em>] to find the irreducible elements of <em>R</em>[<em>x</em>]."
   ]
  },
  {
   "cell_type": "markdown",
   "id": "e4a7ab",
   "metadata": {
    "collapsed": false
   },
   "source": [
    "<a name=\"lem124ret\" id=\"lem124ret\"></a>\n",
    "LEMMA 12.4<br>\n",
    "\n",
    "Let <em>R</em> be a unique factorization domain, and let <em>F</em> be a field containing <em>R</em>.  Then if <em>f</em>(<em>x</em>) is a polynomial \n",
    "in <em>R</em>[<em>x</em>] that is irreducible in <em>F</em>[<em>x</em>], then <em>f</em>(<em>x</em>) can be written \n",
    "<p style='text-align: center;'><em>f</em>(<em>x</em>) = <em>c</em>&middot;<em>g</em>(<em>x</em>),</p>\n",
    "where <em>c</em> is an element of <em>R</em>, and <em>g</em>(<em>x</em>) is irreducible in <em>R</em>[<em>x</em>].<br><br>\n",
    "\n",
    "<a href=\"#lem124\">Click here for the proof.</a>\n",
    "\n",
    "<p />\n",
    "Although this lemma refers to some field <em>F</em> which contains <em>R</em>, there is a natural field to use&mdash;the field of quotients in <em>R</em>.  We can use \n",
    "this field to show that, in fact, the irreducible elements of <em>R</em> which we found in Lemma 12.4 are in fact prime elements of <em>R</em>[<em>x</em>]."
   ]
  },
  {
   "cell_type": "markdown",
   "id": "a9962e",
   "metadata": {
    "collapsed": false
   },
   "source": [
    "<a name=\"lem125ret\" id=\"lem125ret\"></a>\n",
    "LEMMA 12.5<br>\n",
    "\n",
    "Let <em>R</em> be a unique factorization domain, and let <em>F</em> be the field of quotients for <em>R</em>.  Then if <em>g</em>(<em>x</em>) is irreducible \n",
    "over <em>R</em>[<em>x</em>] and <em>F</em>[<em>x</em>], then <em>g</em>(<em>x</em>) is prime in <em>R</em>[<em>x</em>].<br><br>\n",
    "\n",
    "<a href=\"#lem125\">Click here for the proof.</a>\n",
    "\n",
    "<p />\n",
    "At this point all of the major battles have been fought. All that is left to do is put the pieces together to show that <em>R</em>[<em>x</em>] is UFD."
   ]
  },
  {
   "cell_type": "markdown",
   "id": "3320ab",
   "metadata": {
    "collapsed": false
   },
   "source": [
    "<a name=\"theor123ret\" id=\"theor123ret\"></a>\n",
    "THEOREM 12.3: The Unique Factorization Domain Theorem<br>\n",
    "\n",
    "<em>R</em>[<em>x</em>] is a unique factorization domain if, and only if, <em>R</em> is a unique factorization domain.<br><br>\n",
    "\n",
    "<a href=\"#theor123\">Click here for the proof.</a>\n",
    "\n",
    "<p />\n",
    "Not only does this theorem determine when we can consider polynomial factorization to be unique, but this theorem also applies to factoring polynomials in more than \n",
    "one variable. <br><br>\n",
    " \n",
    "Since <em>R</em>[<em>x</em>] is an integral domain, we can consider another variable <em>y</em>, and consider the polynomial \n",
    "ring <em>R</em>[<em>x</em>][<em>y</em>].  A typical element of <em>R</em>[<em>x</em>][<em>y</em>] would be\n",
    "<p style='text-align: center;'><em>c</em><sub>0</sub>(<em>x</em>) + <em>c</em><sub>1</sub>(<em>x</em>) <em>y</em> + \n",
    "<em>c</em><sub>2</sub>(<em>x</em>) <em>y</em><sup>2</sup> + <em>c</em><sub>3</sub>(<em>x</em>) <em>y</em><sup>3</sup> + &#8943; + \n",
    "<em>c<sub>n</sub></em>(<em>x</em>)<em>y<sup>n</sup></em>,</p>\n",
    "where each <em>c<sub>i</sub></em>(<em>x</em>) is a polynomial in <em>R</em>[<em>x</em>].  If each <em>c<sub>i</sub></em>(<em>x</em>) is written\n",
    "<p style='text-align: center;'><em>c<sub>i</sub></em>(<em>x</em>) = <em>d</em><sub>0 <em>i</em></sub> + <em>d</em><sub>1 <em>i</em></sub> <em>x</em> +\n",
    "<em>d</em><sub>2 <em>i</em></sub> <em>x</em><sup>2</sup> +  <em>d</em><sub>3 <em>i</em></sub> <em>x</em><sup>3</sup> + &#8943;,</p>\n",
    "we find that the polynomial in <em>R</em>[<em>x</em>][<em>y</em>] could be written\n",
    "<p style='text-align: center;'><em>d</em><sub>0 0</sub> + <em>d</em><sub>1 0</sub> <em>x</em> + <em>d</em><sub>0 1</sub> <em>y</em> + \n",
    "<em>d</em><sub>2 0</sub> <em>x</em><sup>2</sup> + <em>d</em><sub>1 1</sub> <em>x</em>&middot;<em>y</em> + <em>d</em><sub>0 2</sub> <em>y</em><sup>2</sup> + &#8943;.</p>\n",
    "If we make the convention that <em>x</em>&middot;<em>y</em> = <em>y</em>&middot;<em>x</em>, then it is easy to see that <em>R</em>[<em>x</em>][<em>y</em>] = \n",
    "<em>R</em>[<em>y</em>][<em>x</em>].<br><br>\n",
    "\n",
    "DEFINITION 12.11<br>\n",
    "We will denote the polynomial ring of two variables by <em>R</em>[<em>x</em>,<em>y</em>] = <em>R</em>[<em>x</em>][<em>y</em>].  The variables <em>x</em> and <em>y</em> \n",
    "are called <em>indeterminates</em>.  Likewise, we denote the polynomial ring of <em>n</em> indeterminates by \n",
    "<p style='text-align: center;'><em>R</em>[<em>x</em><sub>1</sub>, <em>x</em><sub>2</sub>, <em>x</em><sub>3</sub>, &hellip; <em>x<sub>n</sub></em>].</p>"
   ]
  },
  {
   "cell_type": "markdown",
   "id": "f5193d",
   "metadata": {
    "collapsed": false
   },
   "source": [
    "<a name=\"cor126ret\" id=\"cor126ret\"></a>\n",
    "COROLLARY 12.6<br>\n",
    "\n",
    "Let <em>R</em> be a unique factorization domain and let <em>x</em><sub>1</sub>, <em>x</em><sub>2</sub>, <em>x</em><sub>3</sub>, &hellip; <em>x<sub>n</sub></em> be \n",
    "indeterminates over <em>R</em>.  Then <em>R</em>[<em>x</em><sub>1</sub>, <em>x</em><sub>2</sub>, <em>x</em><sub>3</sub>, &hellip; <em>x<sub>n</sub></em>] is a \n",
    "unique factorization domain.<br><br>\n",
    "\n",
    "<a href=\"#cor126\">Click here for the proof.</a>\n",
    "\n",
    "<p />\n",
    "Polynomials in several variables are of considerable importance in geometry, since curves and surfaces are described by equations in several variables.  Although \n",
    "<em>SageMath</em>'s Factor command will be able to factor polynomials in many variables, its ability is limited to when <em>R</em> is either &#8484; or &#8474;.  For \n",
    "example, <em>SageMath</em> can factor<br>"
   ]
  },
  {
   "cell_type": "code",
   "execution_count": 0,
   "id": "9c4422",
   "metadata": {
    "collapsed": false
   },
   "outputs": [
   ],
   "source": [
    "var(\"x y\")\n",
    "factor(x^3*y^2 + x^2*y - x*y^2 - 2*x + y)"
   ]
  },
  {
   "cell_type": "markdown",
   "id": "051804",
   "metadata": {
    "collapsed": false
   },
   "source": [
    "<br>\n",
    "over the integers, but cannot factor this over any other ring, even a finite field.  The reason is simply a lack of efficient algorithms for factoring polynomials in \n",
    "more than one variable.<br><br>\n",
    "\n",
    "EXPERIMENT:<br>\n",
    "Just to demonstrate the difficulty of factoring a polynomial with more than one variable, try to factor the polynomial\n",
    "<p style='text-align: center;'><em>x</em><sup>5</sup> &minus; <em>x</em><sup>4</sup> <em>y</em> + 2 <em>x</em> <em>y</em><sup>2</sup> &minus; 4 <em>x</em> &minus; 4 <em>y</em></p>\n",
    "by hand.  One would think that having 2 variables would give more clues to the factorization, but in fact the factorization becomes tricky.  If you totally give up, \n",
    "have <em>SageMath</em> give you the factorization.<br>"
   ]
  },
  {
   "cell_type": "markdown",
   "id": "c283d7",
   "metadata": {
    "collapsed": false
   },
   "source": [
    "<br> \n",
    "<em>SageMath</em>'s ability to factor such polynomials will later come in very handy, since the problem of factoring a polynomial over an unusual ring is often equivalent \n",
    "to the problem of factoring a polynomial of several variables over &#8484;.<br><br>"
   ]
  },
  {
   "cell_type": "markdown",
   "id": "af439f",
   "metadata": {
    "collapsed": false
   },
   "source": [
    "<a name=\"sec123\" id=\"sec123\"></a>\n",
    "<h1>Principal Ideal Domains</h1>\n",
    "\n",
    "<br>\n",
    "Although we have found that polynomial rings created from unique factorization domains produce more unique factorization domains, there still is the question of how to \n",
    "tell whether a given ring is a unique factorization domain.  The answer lies in the ideals of the ring.  In this section we will explore the interesting interconnection between the ideals of a \n",
    "ring, and the prime and irreducible elements of the ring.<br><br>\n",
    "\n",
    "We begin by recalling that many ideals can be generated with only one element.  In fact, many rings, such as the integers &#8484;, are such that every ideal is generated \n",
    "by only one element. We called such rings <em>principal ideal rings</em>, or PIRs. (When the ring is also a domain, we call it a principal ideal domain, or PID.) In \n",
    "fact, PIDs are so common that it is somewhat tricky to find an example of an integral domain that is not a PID. <br><br>\n",
    "\n",
    "EXAMPLE:<br>\n",
    "Consider the ring <em>R</em> = &#8484;[<em>x</em>,<em>y</em>].  We saw by Corollary 12.6 that this is a UFD.  We would now like to show that this is <em>not</em> a \n",
    "PID.  Consider the ideal of elements without a constant term. This ideal can be expressed as \n",
    "&lang;{<em>x</em>, <em>y</em>}&rang;, that is, the ideal generated by <em>x</em> and <em>y</em>.  But since both <em>x</em> and <em>y</em> are in this ideal, \n",
    "we cannot express this ideal as the multiples of a single \n",
    "polynomial. Thus, this ideal is not a principal ideal, so &#8484;[<em>x</em>,<em>y</em>] is not a PID, even though it is a \n",
    "UFD.<br><br>\n",
    "\n",
    "The following definition sheds light on the connection between ideals and unique factorization domains.<br><br>\n",
    "\n",
    "DEFINITION 12.12<br>\n",
    "Let <em>R</em> be a commutative ring, and let <em>P</em> be a nontrivial ideal of <em>R</em>.  (Thus, <em>P</em> is neither {0} nor <em>R</em>.)  We say that <em>P</em> is \n",
    "a <em>prime ideal</em> if, whenever <em>x</em> and <em>y</em> are in <em>R</em>, and <em>x</em>&middot;<em>y</em> is in <em>P</em>, then either <em>x</em> or <em>y</em> is \n",
    "in <em>P</em>.<br><br>\n",
    "\n",
    "When we first defined a prime element of a ring, we were careful to mention that the ring did not have to be an integral domain.  By defining prime elements for \n",
    "all commutative rings, we open the door to showing a connection between prime ideals and prime elements."
   ]
  },
  {
   "cell_type": "markdown",
   "id": "4b6653",
   "metadata": {
    "collapsed": false
   },
   "source": [
    "<a name=\"prop126ret\" id=\"prop126ret\"></a>\n",
    "PROPOSITION 12.6<br>\n",
    "\n",
    "Let <em>R</em> be a commutative unity ring.  Then <em>p</em> is a prime element of <em>R</em> if, and only if, the principal ideal &lang;<em>p</em>&rang; is a prime \n",
    "ideal.<br><br> \n",
    "\n",
    "<a href=\"#prop126\">Click here for the proof.</a>\n",
    "\n",
    "<p />\n",
    "Although this proposition refers to principal ideals, it is certainly possible for an ideal to be a prime ideal without being even a principal ideal.<br><br>\n",
    "\n",
    "EXAMPLE:<br>\n",
    "Show that the ideal of the previous example is a prime ideal.<br><br>\n",
    "\n",
    "Note that we can characterize \n",
    "the ideal &lang;{<em>x</em>, <em>y</em>}&rang; as\n",
    "<p style='text-align: center;'>&lang;{<em>x</em>, <em>y</em>}&rang; = {<em>&fnof;</em>(<em>x</em>, <em>y</em>) &isin; &#8484;[<em>x</em>,<em>y</em>] | <em>&fnof;</em>(0,0) = 0}.</p>\n",
    "Thus, if <em>f</em>(<em>x</em>, <em>y</em>)&middot;<em>g</em>(<em>x</em>, <em>y</em>) is in the ideal &lang;{<em>x</em>, <em>y</em>}&rang;, we \n",
    "have <em>f</em>(0,0)&middot;<em>g</em>(0,0) = 0, so either <em>f</em>(0,0) = 0 or <em>g</em>(0,0) = 0.  Therefore, either <em>f</em>(<em>x</em>,<em>y</em>) or \n",
    "<em>g</em>(<em>x</em>,<em>y</em>) is in &lang;{<em>x</em>, <em>y</em>}&rang;, so &lang;{<em>x</em>, <em>y</em>}&rang; is a prime ideal, even though it is not a principal \n",
    "ideal.<br><br>\n",
    "\n",
    "Although Proposition 12.6 gives us a test for determining whether an element is prime, to implement this we need a test to see whether an ideal is a prime ideal.  The \n",
    "next proposition does the trick."
   ]
  },
  {
   "cell_type": "markdown",
   "id": "df728e",
   "metadata": {
    "collapsed": false
   },
   "source": [
    "<a name=\"prop127ret\" id=\"prop127ret\"></a>\n",
    "PROPOSITION 12.7<br>\n",
    "\n",
    "Let <em>R</em> be a commutative unity ring, and let <em>P</em> be a non-trivial ideal of <em>R</em>.  Then <em>P</em> is a prime ideal if, and only if, the \n",
    "quotient ring <em>R</em>/<em>P</em> has no zero divisors.<br><br>\n",
    "\n",
    "<a href=\"#prop127\">Click here for the proof.</a>\n",
    "\n",
    "<p />\n",
    "\n",
    "EXAMPLE:<br>\n",
    "Determine whether 2 <em>a</em> + <em>b</em> is a prime element of the following familiar commutative ring: <br>"
   ]
  },
  {
   "cell_type": "code",
   "execution_count": 0,
   "id": "97fc99",
   "metadata": {
    "collapsed": false
   },
   "outputs": [
   ],
   "source": [
    "InitRing()\n",
    "AddRingVar(\"a\",\"b\")\n",
    "Define(4*a, 0); Define(2*b, 0)\n",
    "Define(a^2, a); Define(b^2, b)\n",
    "Define(a*b, 0); Define(b*a, 0)\n",
    "R = Ring(); R"
   ]
  },
  {
   "cell_type": "markdown",
   "id": "37d17f",
   "metadata": {
    "collapsed": false
   },
   "source": [
    "<br>\n",
    "We already determined that the element 2 <em>a</em> + <em>b</em> was irreducible in this ring. To determine whether 2 <em>a</em> + <em>b</em> is prime, we compute the \n",
    "quotient ring <em>R</em>/&lang;2<em>a</em> + <em>b</em>&rang;.<br><br>\n",
    "\n",
    "First, we find the principal ideal generated by 2<em>a</em> + <em>b</em>:<br>"
   ]
  },
  {
   "cell_type": "code",
   "execution_count": 0,
   "id": "1292fc",
   "metadata": {
    "collapsed": false
   },
   "outputs": [
   ],
   "source": [
    "S = Ideal(R, 2*a + b); S"
   ]
  },
  {
   "cell_type": "markdown",
   "id": "ce3875",
   "metadata": {
    "collapsed": false
   },
   "source": [
    "<br>\n",
    "This forms a nontrivial ideal, so we can now consider the quotient ring.<br>"
   ]
  },
  {
   "cell_type": "code",
   "execution_count": 0,
   "id": "ecaeb3",
   "metadata": {
    "collapsed": false
   },
   "outputs": [
   ],
   "source": [
    "Q = Coset(R, S); Q"
   ]
  },
  {
   "cell_type": "markdown",
   "id": "5639e3",
   "metadata": {
    "collapsed": false
   },
   "source": [
    "<br>\n",
    "The quotient group has only two elements, so there is a good chance that this has no zero divisors. We can double check by looking at the multiplication table.<br>"
   ]
  },
  {
   "cell_type": "code",
   "execution_count": 0,
   "id": "fbbc7b",
   "metadata": {
    "collapsed": false
   },
   "outputs": [
   ],
   "source": [
    "QuotientRing = true\n",
    "MultTable(Q)"
   ]
  },
  {
   "cell_type": "markdown",
   "id": "d54377",
   "metadata": {
    "collapsed": false
   },
   "source": [
    "<br>\n",
    "Thus, the quotient is isomorphic to <em>Z</em><sub>2</sub>.  By Proposition 12.7, 2<em>a</em> + <em>b</em> is prime.<br><br>\n",
    "\n",
    "EXPERIMENT:<br>\n",
    "Try the above procedure on the other 6 nonzero elements of <em>R</em>. Which elements are prime?<br>"
   ]
  },
  {
   "cell_type": "markdown",
   "id": "b0b394",
   "metadata": {
    "collapsed": false
   },
   "source": [
    "<br>\n",
    "Although we can clearly use <em>SageMath</em> along with Proposition 12.7 to find the prime elements of any finite ring, we are mainly interested in finding the prime elements \n",
    "of an infinite ring.  <em>SageMath</em> can still help us out, since the quotient ring <em>R</em>/&lang;<em>p</em>&rang; will usually be finite.<br><br>\n",
    "\n",
    "EXAMPLE:<br>\n",
    "Determine whether 3 is prime in the ring &#8484;[&radic;<font style=\"text-decoration:overline\">&minus;5</font>].<br><br>\n",
    "  \n",
    "We saw in the last section that 3 was an irreducible element.  Let \n",
    "us use <em>SageMath</em> to see if 3 is a prime number in this ring.  We first construct the ring &#8484;[&radic;<font style=\"text-decoration:overline\">&minus;5</font>] by letting <em>a</em> = &radic;<font style=\"text-decoration:overline\">&minus;5</font>.<br>"
   ]
  },
  {
   "cell_type": "code",
   "execution_count": 0,
   "id": "16861c",
   "metadata": {
    "collapsed": false
   },
   "outputs": [
   ],
   "source": [
    "InitDomain(0)\n",
    "AddFieldVar(\"a\")\n",
    "Define(a^2, -5)"
   ]
  },
  {
   "cell_type": "markdown",
   "id": "ac76f7",
   "metadata": {
    "collapsed": false
   },
   "source": [
    "<br>\n",
    "We can now try to factor in this new ring\n",
    "<br>"
   ]
  },
  {
   "cell_type": "code",
   "execution_count": 0,
   "id": "c76d37",
   "metadata": {
    "collapsed": false
   },
   "outputs": [
   ],
   "source": [
    "factor(3 + 2*a)"
   ]
  },
  {
   "cell_type": "markdown",
   "id": "ef3b70",
   "metadata": {
    "collapsed": false
   },
   "source": [
    "<br>\n",
    "So we see that 3 + 2&radic;<font style=\"text-decoration:overline\">&minus;5</font> is prime in this domain.  What happens if we try \n",
    "to factor 3?<br>"
   ]
  },
  {
   "cell_type": "code",
   "execution_count": 0,
   "id": "0b3892",
   "metadata": {
    "collapsed": false
   },
   "outputs": [
   ],
   "source": [
    "factor(3 + 0*a)"
   ]
  },
  {
   "cell_type": "markdown",
   "id": "9ca456",
   "metadata": {
    "collapsed": false
   },
   "source": [
    "<br>\n",
    "We get an error message, complaining about a non-principal ideal.  Thus, we see that 3 is <em>not</em> prime \n",
    "in &#8484;[&radic;<font style=\"text-decoration:overline\">&minus;5</font>], even though it is irreducible.  \n",
    "\n",
    "To really see what is going on, let us construct the ring &#8484;[&radic;<font style=\"text-decoration:overline\">&minus;5</font>]/&lang;3&rang;.\n",
    "We have to plan ahead to see that this ring has nine elements.  We can let <em>e</em> represent the identity element 1 + &lang;3&rang;, and \n",
    "<em>a</em> represent &radic;<font style=\"text-decoration:overline\">&minus;5</font> + &lang;3&rang;.  Both of these will have additive order of \n",
    "3, so we can define the ring by<br>"
   ]
  },
  {
   "cell_type": "code",
   "execution_count": 0,
   "id": "f77375",
   "metadata": {
    "collapsed": false
   },
   "outputs": [
   ],
   "source": [
    "InitRing()\n",
    "AddRingVar(\"e\",\"a\")\n",
    "Define(3*e, 0); Define(3*a, 0)\n",
    "Define(e^2, e); Define(e*a, a)\n",
    "Define(a*e, a); Define(a^2, -5*e)\n",
    "R = Ring(); R"
   ]
  },
  {
   "cell_type": "code",
   "execution_count": 0,
   "id": "ba8137",
   "metadata": {
    "collapsed": false
   },
   "outputs": [
   ],
   "source": [
    "MultTable(R)"
   ]
  },
  {
   "cell_type": "markdown",
   "id": "845532",
   "metadata": {
    "collapsed": false
   },
   "source": [
    "<br>\n",
    "We see that this ring has zero divisors, so by Proposition 12.7, 3 is not prime in this domain, even though it is irreducible.<br><br>\n",
    "\n",
    "\n",
    "EXPERIMENT:<br>\n",
    "Use the same procedures to show that 2 is not a prime element \n",
    "of &#8484;[&radic;<font style=\"text-decoration:overline\">&minus;5</font>].  Is 7 a prime element in this \n",
    "ring?  How about 11?<br>"
   ]
  },
  {
   "cell_type": "markdown",
   "id": "495250",
   "metadata": {
    "collapsed": false
   },
   "source": [
    "<br>\n",
    "We have seen that Proposition 12.7 is a useful way of determining whether an element is prime. Let us use this proposition to show that in a principal ideal domain, \n",
    "irreducible elements are also prime elements. This amounts to showing that <em>R</em>/&lang;<em>p</em>&rang; has no zero divisors whenever <em>p</em> is irreducible.  However, we \n",
    "can actually prove more, which will be very useful later on."
   ]
  },
  {
   "cell_type": "markdown",
   "id": "34c925",
   "metadata": {
    "collapsed": false
   },
   "source": [
    "<a name=\"lem126ret\" id=\"lem126ret\"></a>\n",
    "LEMMA 12.6<br>\n",
    "\n",
    "Let <em>R</em> be a principal ideal domain, and let <em>p</em> be an irreducible element of <em>R</em>.  Then the quotient ring <em>R</em>/&lang;<em>p</em>&rang; is a field.<br><br>\n",
    "\n",
    "<a href=\"#lem126\">Click here for the proof.</a>\n",
    "\n",
    "<p />\n",
    "From this lemma, it is easy to see that an irreducible element of a PID must also be a prime element.  Thus, we are on our way to showing that a PID is a unique \n",
    "factorization domain.  By Proposition 12.5, we only need to show that every non-invertible element can be expressed as a product of irreducible factors.  In order \n",
    "to eliminate the possibility of an &quot;infinite chain&quot; of irreducible elements, each one dividing the previous, we will use the following lemma."
   ]
  },
  {
   "cell_type": "markdown",
   "id": "9b5179",
   "metadata": {
    "collapsed": false
   },
   "source": [
    "<a name=\"lem127ret\" id=\"lem127ret\"></a>\n",
    "LEMMA 12.7<br>\n",
    "\n",
    "Let <em>R</em> be a principal ideal ring.  If there is an infinite sequence of larger and larger ideals of <em>R</em> satisfying\n",
    "<p style='text-align: center;'><em>I</em><sub>1</sub> &sube; <em>I</em><sub>2</sub> &sube; <em>I</em><sub>2</sub> &sube; &#8943; &sube; <em>I<sub>n</sub></em> \n",
    "&sube; <em>I</em><sub><em>n</em>+1</sub> &sube; &#8943;,</p>\n",
    "then there exists an integer <em>m</em> such that <em>I<sub>n</sub></em> = <em>I<sub>m</sub></em> for all <em>n</em> &gt; <em>m</em>.<br><br>\n",
    "\n",
    "<a href=\"#lem127\">Click here for the proof.</a>\n",
    "\n",
    "<p />\n",
    "We now have all we need to show that a PID is in fact a UFD."
   ]
  },
  {
   "cell_type": "markdown",
   "id": "a47e45",
   "metadata": {
    "collapsed": false
   },
   "source": [
    "<a name=\"theor124ret\" id=\"theor124ret\"></a>\n",
    "THEOREM 12.4:The Principal Ideal Domain Theorem<br>\n",
    "\n",
    "Every principal ideal domain is a unique factorization domain.<br><br>\n",
    "\n",
    "<a href=\"#theor124\">Click here for the proof.</a>\n",
    "\n",
    "<p />\n",
    "This theorem reveals the most important use of principal ideal domains&mdash;it enables us to find unique factorization domains. For example, &#8484; was proven to be a \n",
    "PID from Proposition 10.3, so we now can see that &#8484; is a UFD, as result that was proven in &sect;0.1.<br><br>\n",
    "\n",
    "It should be noted that not all unique factorization domains are PIDs&mdash;in fact we discovered that &#8484;[<em>x</em>,<em>y</em>] is not a PID, even though it is a \n",
    "UFD.  However, many of the important unique factorization domains are also principal ideal domains.  In the next section we will find many more examples of principal \n",
    "ideal domains.<br><br>"
   ]
  },
  {
   "cell_type": "markdown",
   "id": "93ff7d",
   "metadata": {
    "collapsed": false
   },
   "source": [
    "<a name=\"sec124\" id=\"sec124\"></a>\n",
    "<h1>Euclidean Domains</h1>\n",
    "\n",
    "<br>\n",
    "We have already seen the importance of principal ideal domains to determine whether a ring is a unique factorization domain.  However, we still have the problem of \n",
    "determining whether a given integral domain is a principal ideal domain.  If we have a tool such as the division algorithm, this can usually be done quite easily.  \n",
    "For example, the integers &#8484; was proven to be a PID from Proposition 10.3. <br><br>\n",
    "\n",
    "EXAMPLE:<br>\n",
    "Show that <em>F</em>[<em>x</em>] is a PID for any field <em>F</em>.<br><br>\n",
    "\n",
    "We examine what the ideals could be.  If <em>I</em> is a nontrivial ideal \n",
    "of <em>F</em>[<em>x</em>], we can find a nonzero element <em>f</em>(<em>x</em>) in <em>I</em> with the lowest degree.  If <em>g</em>(<em>x</em>) is also in <em>I</em>, \n",
    "then by the division algorithm\n",
    "<p style='text-align: center;'><em>g</em>(<em>x</em>) = <em>f</em>(<em>x</em>)&middot;<em>q</em>(<em>x</em>) + <em>r</em>(<em>x</em>),</p>\n",
    "with the degree of <em>r</em>(<em>x</em>) less then <em>f</em>(<em>x</em>).  But <em>r</em>(<em>x</em>) would also be in <em>I</em>, and since <em>f</em>(<em>x</em>) \n",
    "has least degree of all the nonzero elements in <em>I</em>, we must have <em>r</em>(<em>x</em>) = 0.  Therefore all elements of <em>I</em> are multiples of \n",
    "<em>f</em>(<em>x</em>), so <em>I</em> = &lang;<em>f</em>(<em>x</em>)&rang;.<br><br>\n",
    "\n",
    "Rather than making this a formal proposition, we want to study this example, since we can prove that <em>many</em> different domains are PIDs the same way.  There were \n",
    "two keys to the proof that <em>F</em>[<em>x</em>] was a PID: the fact that every polynomial had a degree, and the division algorithm.  Whenever we have an integral \n",
    "domain that has a property like a division algorithm, there is a good chance that we can use this division algorithm to prove that the ring is a PID.  Let us formulate \n",
    "what we mean by a &quot;division algorithm.&quot;<br><br>\n",
    "\n",
    "DEFINITION 12.13:<br>\n",
    "An integral domain <em>R</em> is called a <em>Euclidean domain</em> if there is a function <em>&mu;</em>(<em>x</em>) defined on the nonzero elements of <em>R</em> such \n",
    "that the following three properties hold:<br><br>\n",
    "\n",
    "1) <em>&mu;</em>(<em>x</em>) is a non-negative integer for every nonzero <em>x</em> in <em>R</em>.<br><br>\n",
    "\n",
    "2) Whenever both <em>x</em> and <em>y</em> are nonzero, <em>&mu;</em>(<em>x</em>&middot;<em>y</em>) &ge; <em>&mu;</em>(<em>x</em>).<br><br>\n",
    "\n",
    "3) For and <em>x</em> and <em>y</em> in <em>R</em>, with <em>y</em> nonzero, there exist elements <em>q</em> and <em>r</em> in <em>R</em> such that\n",
    "<p style='text-align: center;'><em>x</em> = <em>q</em>&middot;<em>y</em> + <em>r</em>,</p>\n",
    "where either <em>r</em> = 0 or <em>&mu;</em>(<em>r</em>) &lt; <em>&mu;</em>(<em>y</em>).<br><br>\n",
    "\n",
    "The function <em>&mu;</em>(<em>x</em>) is called the <em>Euclidean valuation</em> on <em>R</em>.<br><br>\n",
    "\n",
    "EXAMPLE:<br>\n",
    "Since this definition was modeled after the ring <em>F</em>[<em>x</em>], it is expected \n",
    "that <em>F</em>[<em>x</em>] is a Euclidean domain.  The function <em>&mu;</em>(<em>f</em>(<em>x</em>)) would be the degree of the \n",
    "polynomial <em>f</em>(<em>x</em>).  Properties 1 and 2 come from the definition of the degree, and Lemma 11.1.  Property 3 we observed in the division algorithm \n",
    "theorem (12.1).  Thus, <em>F</em>[<em>x</em>] is a Euclidean domain whenever <em>F</em> is a field.<br><br>\n",
    "\n",
    "However, there are many other examples of Euclidean domains.  Consider the set of integers, &#8484;.  We can use the absolute value for the \n",
    "valuation: <em>&mu;</em>(<em>x</em>) = |<em>x</em>|.  Clearly properties 1 and 2 hold, and the third property comes from modular arithmetic. Thus, &#8484; is also a \n",
    "Euclidean domain. <br><br>\n",
    "\n",
    "Whenever we have a Euclidean domain, we can prove that the domain is a PID, using the exact same argument as we did for <em>F</em>[<em>x</em>]."
   ]
  },
  {
   "cell_type": "markdown",
   "id": "58b160",
   "metadata": {
    "collapsed": false
   },
   "source": [
    "<a name=\"theor125ret\" id=\"theor125ret\"></a>\n",
    "THEOREM 12.5:The Euclidian Domain Theorem<br>\n",
    "\n",
    "Every Euclidean domain is a principal ideal domain.<br><br>\n",
    "\n",
    "<a href=\"#theor125\">Click here for the proof.</a>\n",
    "\n",
    "<p />\n",
    "We started this section by showing that <em>F</em>[<em>x</em>] is a principal ideal ring whenever <em>F</em> is a field, but let us formally make this a corollary of \n",
    "the Euclidean domain theorem."
   ]
  },
  {
   "cell_type": "markdown",
   "id": "b84f29",
   "metadata": {
    "collapsed": false
   },
   "source": [
    "<a name=\"cor127ret\" id=\"cor127ret\"></a>\n",
    "COROLLARY 12.7<br>\n",
    "\n",
    "Let <em>F</em> be a field.  Then the ring of polynomials <em>F</em>[<em>x</em>] is a principal ideal domain.<br><br>\n",
    "\n",
    "<a href=\"#cor127\">Click here for the proof.</a>\n",
    "\n",
    "<p />\n",
    "The only problem with this definition of the Euclidean domain is that it gives no help in determining what the valuation function <em>&mu;</em>(<em>x</em>) should \n",
    "be.  In fact, there may be many possible valuation functions for a given integral domain.  (See Problem 1 for an alternative definition of a Euclidean domain that \n",
    "does not involve a valuation function.)<br><br>\n",
    "\n",
    "For the remainder of this chapter, we will consider the problem of determining whether some quadratic domains are Euclidean domains.  This class of domains will help us to see some general techniques for finding a valuation function for a domain.  We have already seen that &#8484;[&radic;<font style=\"text-decoration:overline\">&minus;5</font>] is not a UFD, so this clearly is not a Euclidean domain. <br><br>\n",
    "\n",
    "We saw before that &#8484;[&radic;<font style=\"text-decoration:overline\">2</font>] had two automorphisms, and in general quadratic domain &#8484;[&radic;<font style=\"text-decoration:overline\"><em>n</em></font>] will always have two automorphisms, the identity mapping, and the automorphism\n",
    "<p style='text-align: center;'><em>&fnof;</em>(<em>x</em> + <em>y</em>&radic;<font style=\"text-decoration:overline\"><em>n</em></font>) = \n",
    "<em>x</em> &minus; <em>y</em> &radic;<font style=\"text-decoration:overline\"><em>n</em></font>.</p>\n",
    "We define the function <em>N</em>(<em>a</em>) as the product of the two automorphisms:\n",
    "<p style='text-align: center;'><em>N</em>(<em>x</em> + <em>y</em>&radic;<font style=\"text-decoration:overline\"><em>n</em></font>) = \n",
    "(<em>x</em> + <em>y</em>&radic;<font style=\"text-decoration:overline\"><em>n</em></font>)&middot;(<em>x</em> &minus; \n",
    "<em>y</em>&radic;<font style=\"text-decoration:overline\"><em>n</em></font>) = <em>x</em><sup>2</sup> &minus; <em>n</em>&middot;<em>y</em><sup>2</sup>.</p>\n",
    "It is interesting that <em>N</em>(<em>a</em>) is always an integer.<br><br> \n",
    "\n",
    "At first glance it may be difficult to see what <em>N</em>(<em>a</em>) has to do with the Euclidean domains.  Our goal is to construct a valuation function \n",
    "from <em>N</em>(<em>a</em>).  We first need to verify some elementary properties of this function.  In the process, we will notice these properties are still valid if \n",
    "we extend <em>N</em>(<em>a</em>) to be defined on &#8474;[&radic;<font style=\"text-decoration:overline\"><em>n</em></font>]."
   ]
  },
  {
   "cell_type": "markdown",
   "id": "cd99b2",
   "metadata": {
    "collapsed": false
   },
   "source": [
    "<a name=\"lem128ret\" id=\"lem128ret\"></a>\n",
    "LEMMA 12.8<br>\n",
    "\n",
    "Let &#8484;[&radic;<font style=\"text-decoration:overline\"><em>n</em></font>] be a quadratic domain, and \n",
    "let <em>N</em>(<em>x</em> + <em>y</em>&radic;<font style=\"text-decoration:overline\"><em>n</em></font>) = \n",
    "<em>x</em><sup>2</sup> &minus; <em>n</em>&middot;<em>y</em><sup>2</sup>.  Then for the rings &#8484;[&radic;<font style=\"text-decoration:overline\"><em>n</em></font>] \n",
    "and &#8474;[&radic;<font style=\"text-decoration:overline\"><em>n</em></font>],<br><br>\n",
    "\n",
    "1) <em>N</em>(<em>a</em>) = 0 if, and only if, <em>a</em> = 0.<br><br>\n",
    "\n",
    "2) <em>N</em>(<em>a</em>&middot;<em>b</em>) = <em>N</em>(<em>a</em>)&middot;<em>N</em>(<em>b</em>)<br><br>\n",
    "\n",
    "3) <em>N</em>(&plusmn;1) = 1.<br><br>\n",
    "\n",
    "<a href=\"#lem128\">Click here for the proof.</a>\n",
    "\n",
    "<p />\n",
    "We can use the <em>N</em>(<em>a</em>) function to prove that &#8474;[&radic;<font style=\"text-decoration:overline\"><em>n</em></font>] is a field."
   ]
  },
  {
   "cell_type": "markdown",
   "id": "c0697f",
   "metadata": {
    "collapsed": false
   },
   "source": [
    "<a name=\"cor128ret\" id=\"cor128ret\"></a>\n",
    "COROLLARY 12.8<br>\n",
    "\n",
    "Let <em>n</em> be an integer that is not divisible by the square of any integer<em> </em>greater<em> </em>than<em> </em>1. Then the \n",
    "ring &#8474;[&radic;<font style=\"text-decoration:overline\"><em>n</em></font>] is a field.<br><br>\n",
    "\n",
    "<a href=\"#cor128\">Click here for the proof.</a>\n",
    "\n",
    "<p />\n",
    "Using the three properties of the <em>norm function</em> <em>N</em>(<em>a</em>), we are able to determine at least some of the irreducible elements of the ring <em>K</em>.  This reveals the \n",
    "connection between the norm, and the unique factorization properties of the ring."
   ]
  },
  {
   "cell_type": "markdown",
   "id": "f5b660",
   "metadata": {
    "collapsed": false
   },
   "source": [
    "<a name=\"prop128ret\" id=\"prop128ret\"></a>\n",
    "PROPOSITION 12.8<br>\n",
    "\n",
    "Let &#8484;[&radic;<font style=\"text-decoration:overline\"><em>n</em></font>] be a quadratic domain, and let <em>N</em>(<em>x</em> + \n",
    "<em>y</em>&radic;<font style=\"text-decoration:overline\"><em>n</em></font>) = <em>x</em><sup>2</sup> &minus; \n",
    "<em>n</em>&middot;<em>y</em><sup>2</sup>.  Then <br><br>\n",
    "\n",
    "1) <em>N</em>(<em>a</em>) = &plusmn;1 if, and only if, <em>a</em> is a unit in &#8484;[&radic;<font style=\"text-decoration:overline\"><em>n</em></font>].<br><br>\n",
    "\n",
    "2) If <em>N</em>(<em>a</em>) is a prime number in &#8484;, then <em>a</em> is an irreducible element \n",
    "of &#8484;[&radic;<font style=\"text-decoration:overline\"><em>n</em></font>].<br><br>\n",
    "\n",
    "<a href=\"#prop128\">Click here for the proof.</a>\n",
    "\n",
    "<p />\n",
    "We can now use the Euclidian valuation function <em>&mu;</em>(<em>x</em>) = |<em>N</em>(<em>x</em>)| to prove the following."
   ]
  },
  {
   "cell_type": "markdown",
   "id": "9e5045",
   "metadata": {
    "collapsed": false
   },
   "source": [
    "<a name=\"prop129ret\" id=\"prop129ret\"></a>\n",
    "PROPOSITION 12.9<br>\n",
    "\n",
    "The integral domains &#8484;[&radic;<font style=\"text-decoration:overline\">&minus;2</font>], &#8484;[&radic;<font style=\"text-decoration:overline\">&minus;1</font>], \n",
    "&#8484;[&radic;<font style=\"text-decoration:overline\">2</font>], and &#8484;[&radic;<font style=\"text-decoration:overline\">3</font>] are Euclidian domains.<br><br>\n",
    "\n",
    "<a href=\"#prop129\">Click here for the proof.</a>\n",
    "\n",
    "<p />\n",
    "One of these four domains has special applications. The ring &#8484;[&radic;<font style=\"text-decoration:overline\">&minus;1</font>] = &#8484;[<em>i</em>] is called the \n",
    "domain of <em>Gaussian integers</em>.  <em>SageMath</em>'s <strong>factor</strong> command can find the prime factorization over the Gaussian integers by first defining the \n",
    "field of complex rational numbers.<br>"
   ]
  },
  {
   "cell_type": "code",
   "execution_count": 0,
   "id": "065198",
   "metadata": {
    "collapsed": false
   },
   "outputs": [
   ],
   "source": [
    "InitDomain(0)\n",
    "AddFieldVar(\"i\")\n",
    "Define(i^2, -1)"
   ]
  },
  {
   "cell_type": "markdown",
   "id": "830966",
   "metadata": {
    "collapsed": false
   },
   "source": [
    "<br>\n",
    "For example, we can now factor the number 5 as follows:<br>"
   ]
  },
  {
   "cell_type": "code",
   "execution_count": 0,
   "id": "854d73",
   "metadata": {
    "collapsed": false
   },
   "outputs": [
   ],
   "source": [
    "factor(5 + 0*i)"
   ]
  },
  {
   "cell_type": "markdown",
   "id": "83bb8f",
   "metadata": {
    "collapsed": false
   },
   "source": [
    "<br>\n",
    "This reveals that 5 = (&minus;<em>i</em> &minus; 2)&middot;(<em>i</em> &minus; 2).  These two factors are apparently both \n",
    "prime.<br><br>\n",
    "\n",
    "EXPERIMENT:<br>\n",
    "Replace the 5 with different numbers to see the prime factorization over this new domain.  Try this with complex numbers as well.  See if you can find a pattern on \n",
    "which Gaussian integers are prime.<br>"
   ]
  },
  {
   "cell_type": "markdown",
   "id": "8d61eb",
   "metadata": {
    "collapsed": false
   },
   "source": [
    "<br>\n",
    "By investigating further the divisibility properties of &#8484;[<em>i</em>], one can prove the classic &quot;two squares theorem&quot; of Fermat: Every prime number of \n",
    "the form <nobr>4 <em>n</em> + 1</nobr> is the sum of two squares.  (See Problem 10 from &sect;13.2.)  It is interesting that the study of domains other than the familiar integers \n",
    "can yield new information about the integers.<br><br>\n",
    "\n",
    "We can also explore factorizations in the other Euclidean domains found in Proposition 12.9.  For example, the \n",
    "domain &#8484;[&radic;<font style=\"text-decoration:overline\">&minus;2</font>] can be set up with the commands:<br>"
   ]
  },
  {
   "cell_type": "code",
   "execution_count": 0,
   "id": "c4bed2",
   "metadata": {
    "collapsed": false
   },
   "outputs": [
   ],
   "source": [
    "InitDomain(0)\n",
    "AddFieldVar(\"a\")\n",
    "Define(a^2, -2)"
   ]
  },
  {
   "cell_type": "markdown",
   "id": "ee697f",
   "metadata": {
    "collapsed": false
   },
   "source": [
    "<br>\n",
    "Then we can factor numbers such as<br>"
   ]
  },
  {
   "cell_type": "code",
   "execution_count": 0,
   "id": "58562a",
   "metadata": {
    "collapsed": false
   },
   "outputs": [
   ],
   "source": [
    "factor(3 + 0*a)"
   ]
  },
  {
   "cell_type": "markdown",
   "id": "e2c8c4",
   "metadata": {
    "collapsed": false
   },
   "source": [
    "<br>\n",
    "So 3 is not prime in this domain!<br><br>\n",
    "\n",
    "EXPERIMENT:<br>\n",
    "\n",
    "See what other primes in the ordinary sense factor in this new domain.<br>"
   ]
  },
  {
   "cell_type": "markdown",
   "id": "c0e813",
   "metadata": {
    "collapsed": false
   },
   "source": [
    "<br>\n",
    "The domain &#8484;[&radic;<font style=\"text-decoration:overline\">2</font>] is even stranger, for there are an infinite number of units.<br>"
   ]
  },
  {
   "cell_type": "code",
   "execution_count": 0,
   "id": "d813d7",
   "metadata": {
    "collapsed": false
   },
   "outputs": [
   ],
   "source": [
    "InitDomain(0)\n",
    "AddFieldVar(\"a\")\n",
    "Define(a^2, 2)"
   ]
  },
  {
   "cell_type": "markdown",
   "id": "f05a10",
   "metadata": {
    "collapsed": false
   },
   "source": [
    "<br>\n",
    "Although <em>a</em> is not a unit, (it is prime), we find that 1 + <em>a</em> is.<br>"
   ]
  },
  {
   "cell_type": "code",
   "execution_count": 0,
   "id": "4afb3a",
   "metadata": {
    "collapsed": false
   },
   "outputs": [
   ],
   "source": [
    "1/(1+a)"
   ]
  },
  {
   "cell_type": "markdown",
   "id": "d463b1",
   "metadata": {
    "collapsed": false
   },
   "source": [
    "<br>\n",
    "This means that<br>"
   ]
  },
  {
   "cell_type": "code",
   "execution_count": 0,
   "id": "db1b6c",
   "metadata": {
    "collapsed": false
   },
   "outputs": [
   ],
   "source": [
    "(1+a)^2"
   ]
  },
  {
   "cell_type": "code",
   "execution_count": 0,
   "id": "d2d149",
   "metadata": {
    "collapsed": false
   },
   "outputs": [
   ],
   "source": [
    "(1+a)^3"
   ]
  },
  {
   "cell_type": "code",
   "execution_count": 0,
   "id": "008662",
   "metadata": {
    "collapsed": false
   },
   "outputs": [
   ],
   "source": [
    "(1+a)^4"
   ]
  },
  {
   "cell_type": "markdown",
   "id": "d5a4f8",
   "metadata": {
    "collapsed": false
   },
   "source": [
    "<br>\n",
    "and so on produces an infinite number of units.<br>"
   ]
  },
  {
   "cell_type": "code",
   "execution_count": 0,
   "id": "e65fcf",
   "metadata": {
    "collapsed": false
   },
   "outputs": [
   ],
   "source": [
    "factor(3 + 0*a)"
   ]
  },
  {
   "cell_type": "markdown",
   "id": "466ca9",
   "metadata": {
    "collapsed": false
   },
   "source": [
    "<br>\n",
    "This time, 3 is prime in the domain, but 2 is not, since 2 = <em>a</em><sup>2</sup>.<br><br>\n",
    "\n",
    "EXPERIMENT:<br>\n",
    "\n",
    "See what other primes in the ordinary sense are still prime in the new domain.<br>"
   ]
  },
  {
   "cell_type": "markdown",
   "id": "cc9146",
   "metadata": {
    "collapsed": false
   },
   "source": [
    "<br><br><br><br><br><br><br><br><br><br><br><br><br><br><br><br><br><br><br><br><br><br><br><br><br><br><br><br><br><br><br><br><br><br><br><br><br><br><br><br><br><br>"
   ]
  },
  {
   "cell_type": "markdown",
   "id": "6589ed",
   "metadata": {
    "collapsed": false
   },
   "source": [
    "<h1>Proofs:</h1>"
   ]
  },
  {
   "cell_type": "markdown",
   "id": "f0d6a7",
   "metadata": {
    "collapsed": false
   },
   "source": [
    "<a name=\"theor121\" id=\"theor121\"></a>\n",
    "Proof of Theorem 12.1:<br><br> \n",
    "\n",
    "We begin by showing that <em>q</em>(<em>x</em>) and <em>r</em>(<em>x</em>) exist, and then prove that they are unique. If <em>f</em>(<em>x</em>) = 0, or if the degree \n",
    "of <em>f</em>(<em>x</em>) is less than the degree of <em>g</em>(<em>x</em>), we can simply let <em>q</em>(<em>x</em>) = 0, and <em>r</em>(<em>x</em>) = \n",
    "<em>f</em>(<em>x</em>).  So we may suppose that the degree of <em>f</em>(<em>x</em>) is at least as large as the degree of <em>g</em>(<em>x</em>).  Let <em>n</em> be \n",
    "the degree of <em>f</em>(<em>x</em>), and let <em>m</em> be the degree of <em>g</em>(<em>x</em>).<br><br>\n",
    "\n",
    "If <em>n</em> = <em>m</em> = 0, then <em>f</em>(<em>x</em>) and <em>g</em>(<em>x</em>) are both nonzero constants in the field <em>F</em>, so we may \n",
    "pick <em>q</em>(<em>x</em>) to be the constant polynomial <em>f</em>&middot;<em>g</em><sup>-1</sup>, and pick <em>r</em>(<em>x</em>) = 0.  Thus, we can find a \n",
    "suitable <em>q</em>(<em>x</em>) and <em>r</em>(<em>x</em>) when <em>n</em> = 0.<br><br>\n",
    "\n",
    "Now let us proceed by induction on <em>n</em>.  That is, we will assume that we can find a suitable <em>q</em>(<em>x</em>) and <em>r</em>(<em>x</em>) whenever the \n",
    "degree of <em>f</em>(<em>x</em>) is less than <em>n</em>.  Let\n",
    "<p style='text-align: center;'><em>f</em>(<em>x</em>) = <em>a<sub>n</sub></em> <em>x<sup>n</sup></em> + \n",
    "<em>a</em><sub><em>n</em>&minus;1</sub> <em>x</em><sup><em>n</em>&minus;1</sup> + &#8943; + <em>a</em><sub>0</sub>,</p>\n",
    "and\n",
    "<p style='text-align: center;'><em>g</em>(<em>x</em>) = <em>b<sub>m</sub></em> <em>x<sup>m</sup></em> + \n",
    "<em>b</em><sub><em>m</em>&minus;1</sub> <em>x</em><sup><em>m</em>&minus;1</sup> + &#8943; + <em>b</em><sub>0</sub>.</p>\n",
    "Since <em>n</em> is at least as large as <em>m</em>, we can consider the polynomial\n",
    "<p style='text-align: center;'><em>p</em>(<em>x</em>) = <em>a<sub>n</sub></em> <em>b<sub>m</sub></em><sup>-1</sup> <em>x</em><sup><em>n</em>&minus;<em>m</em></sup></p>\n",
    "of degree <em>n</em> &minus; <em>m</em>. By Lemma 11.1, <em>p</em>(<em>x</em>)&middot;<em>g</em>(<em>x</em>) has degree <em>n</em>, and in fact, since\n",
    "<p style='text-align: center;'><em>p</em>(<em>x</em>)&middot;<em>g</em>(<em>x</em>) = <em>a<sub>n</sub></em> <em>x<sup>n</sup></em> + \n",
    "<em>a<sub>n</sub></em> <em>b<sub>m</sub></em><sup>-1</sup><em>b</em><sub><em>m</em>&minus;1</sub> <em>x</em><sup><em>n</em>&minus;1</sup> + &#8943; + \n",
    "<em>a<sub>n</sub></em> <em>b<sub>m</sub></em><sup>-1</sup><em>b</em><sub>0</sub> <em>x</em><sup><em>n</em>&minus;<em>m</em></sup></p>\n",
    "the coefficient of the <em>x<sup>n</sup></em> term would be <em>a<sub>n</sub></em>. \n",
    "Thus, <em>f</em>(<em>x</em>) &minus; <em>p</em>(<em>x</em>)&middot;<em>g</em>(<em>x</em>) is \n",
    "of degree less than <em>n</em>.  So by the induction hypothesis, there exist polynomials <em>z</em>(<em>x</em>) and <em>r</em>(<em>x</em>) such that\n",
    "<p style='text-align: center;'><em>f</em>(<em>x</em>) &minus; <em>p</em>(<em>x</em>)&middot;<em>g</em>(<em>x</em>) = <em>z</em>(<em>x</em>)&middot;<em>g</em>(<em>x</em>) + \n",
    "<em>r</em>(<em>x</em>)</p>\n",
    "with the degree of <em>r</em>(<em>x</em>) less than the degree of <em>g</em>(<em>x</em>).  Thus,\n",
    "<p style='text-align: center;'><em>f</em>(<em>x</em>) = (<em>p</em>(<em>x</em>) + <em>z</em>(<em>x</em>))&middot;<em>g</em>(<em>x</em>) + <em>r</em>(<em>x</em>).</p>\n",
    "By letting <em>q</em>(<em>x</em>) = <em>p</em>(<em>x</em>) + <em>z</em>(<em>x</em>), we have proved that suitable <em>q</em>(<em>x</em>) and <em>r</em>(<em>x</em>) \n",
    "exist.<br><br><br>\n",
    "\n",
    "Next, let us prove that <em>q</em>(<em>x</em>) and <em>r</em>(<em>x</em>) are unique. Suppose that there is a \n",
    "second pair <em>q</em><sub>2</sub>(<em>x</em>) and <em>r</em><sub>2</sub>(<em>x</em>) such that \n",
    "<em>f</em>(<em>x</em>) = <em>q</em><sub>2</sub>(<em>x</em>)&middot;<em>g</em>(<em>x</em>) + \n",
    "<em>r</em><sub>2</sub>(<em>x</em>).  Then\n",
    "<p style='text-align: center;'><em>q</em><sub>2</sub>(<em>x</em>)&middot;<em>g</em>(<em>x</em>) + \n",
    "<em>r</em><sub>2</sub>(<em>x</em>) = <em>q</em>(<em>x</em>)&middot;<em>g</em>(<em>x</em>) + <em>r</em>(<em>x</em>),</p>\n",
    "or\n",
    "<p style='text-align: center;'>(<em>q</em><sub>2</sub>(<em>x</em>) &minus; <em>q</em>(<em>x</em>))&middot;<em>g</em>(<em>x</em>) = \n",
    "<em>r</em>(<em>x</em>) &minus; <em>r</em><sub>2</sub>(<em>x</em>).</p>\n",
    "The left hand side is either 0 (when <em>q</em><sub>2</sub>(<em>x</em>) = <em>q</em>(<em>x</em>) ), or has degree at least <em>m</em>, \n",
    "since <em>g</em>(<em>x</em>) is of degree <em>m</em>.  The right hand side is either 0, or has a degree less than <em>m</em>.  This is a contradiction unless both \n",
    "sides of the equation are 0.  Thus, <em>q</em><sub>2</sub>(<em>x</em>) = <em>q</em>(<em>x</em>) \n",
    "and <em>r</em><sub>2</sub>(<em>x</em>) = <em>r</em>(<em>x</em>), and the uniqueness has been proven.<br><br>\n",
    " \n",
    "<a href=\"#theor121ret\">Return to text</a>"
   ]
  },
  {
   "cell_type": "markdown",
   "id": "ea0226",
   "metadata": {
    "collapsed": false
   },
   "source": [
    "<br><br><br><br><br><br><br><br><br><br><br><br><br><br><br><br><br><br><br><br><br><br><br><br><br><br><br><br><br><br><br><br><br><br><br><br><br><br><br><br><br><br>"
   ]
  },
  {
   "cell_type": "markdown",
   "id": "4c9dda",
   "metadata": {
    "collapsed": false
   },
   "source": [
    "<a name=\"cor121\" id=\"cor121\"></a>\n",
    "Proof of Corollary 12.1:<br><br>  \n",
    " \n",
    "The only time that we needed to use a division in the proof of the division algorithm theorem (12.1) is when we divided by the leading coefficient \n",
    "of <em>g</em>(<em>x</em>).  Thus, if the leading coefficient of <em>g</em>(<em>x</em>) is 1, we can do all of the operations in <em>R</em>[<em>x</em>] instead \n",
    "of <em>F</em>[<em>x</em>].  The result is that there are polynomials <em>q</em>(<em>x</em>) and <em>r</em>(<em>x</em>) such that\n",
    "<p style='text-align: center;'><em>f</em>(<em>x</em>) = <em>g</em>(<em>x</em>)&middot;<em>q</em>(<em>x</em>) + <em>r</em>(<em>x</em>)</p>\n",
    "in <em>R</em>[<em>x</em>].  But <em>g</em>(<em>x</em>) divides <em>f</em>(<em>x</em>) in the ring <em>F</em>[<em>x</em>].  So there is an <em>h</em>(<em>x</em>) \n",
    "in <em>F</em>[<em>x</em>] such that \n",
    "<p style='text-align: center;'><em>f</em>(<em>x</em>) = <em>g</em>(<em>x</em>)&middot;<em>h</em>(<em>x</em>).</p>\n",
    "But <em>q</em>(<em>x</em>) and <em>r</em>(<em>x</em>) can also be viewed as polynomials in <em>F</em>[<em>x</em>], and the division algorithm shows that these are \n",
    "uniquely defined, even in <em>F</em>[<em>x</em>].  Thus, <em>q</em>(<em>x</em>) = <em>h</em>(<em>x</em>), and <em>r</em>(<em>x</em>) = 0.  Therefore, \n",
    "<em>g</em>(<em>x</em>) divides <em>f</em>(<em>x</em>) in <em>R</em>[<em>x</em>].<br><br>\n",
    "\n",
    "<a href=\"#cor121ret\">Return to text</a>"
   ]
  },
  {
   "cell_type": "markdown",
   "id": "9f1827",
   "metadata": {
    "collapsed": false
   },
   "source": [
    "<br><br><br><br><br><br><br><br><br><br><br><br><br><br><br><br><br><br><br><br><br><br><br><br><br><br><br><br><br><br><br><br><br><br><br><br><br><br><br><br><br><br>"
   ]
  },
  {
   "cell_type": "markdown",
   "id": "58a43a",
   "metadata": {
    "collapsed": false
   },
   "source": [
    "<a name=\"prop121\" id=\"prop121\"></a>\n",
    "Proof of Proposition 12.1:<br><br> \n",
    "\n",
    "Let <em>f</em><sub>1</sub>(<em>x</em>) and <em>f</em><sub>2</sub>(<em>x</em>) be two polynomials in <em>K</em>[<em>x</em>].  By the division algorithm theorem (12.1) \n",
    "there exists <em>q</em><sub>1</sub>(<em>x</em>), <em>q</em><sub>2</sub>(<em>x</em>), <em>&#981;<sub>y</sub></em>(<em>f</em><sub>1</sub>(<em>x</em>)) = \n",
    "<em>r</em><sub>1</sub>(<em>x</em>) and <em>&#981;<sub>y</sub></em>(<em>f</em><sub>2</sub>(<em>x</em>)) = <em>r</em><sub>2</sub>(<em>x</em>) such that\n",
    "<p style='text-align: center;'><em>f</em><sub>1</sub>(<em>x</em>) = (<em>x</em> &minus; <em>y</em>)&middot;<em>q</em><sub>1</sub>(<em>x</em>) + \n",
    "<em>r</em><sub>1</sub>(<em>x</em>),&emsp;and&emsp;<em>f</em><sub>2</sub>(<em>x</em>) = (<em>x</em> &minus; <em>y</em>)&middot;<em>q</em><sub>2</sub>(<em>x</em>) + \n",
    "<em>r</em><sub>2</sub>(<em>x</em>).</p>\n",
    "Then\n",
    "<p style='text-align: center;'><em>f</em><sub>1</sub>(<em>x</em>) + <em>f</em><sub>2</sub>(<em>x</em>) = (<em>x</em> &minus; \n",
    "<em>y</em>)&middot;(<em>q</em><sub>1</sub>(<em>x</em>) + <em>q</em><sub>2</sub>(<em>x</em>)) + <em>r</em><sub>1</sub>(<em>x</em>) + <em>r</em><sub>2</sub>(<em>x</em>).</p>\n",
    "and\n",
    "<p style='text-align: center;'><em>f</em><sub>1</sub>(<em>x</em>)&middot;<em>f</em><sub>2</sub>(<em>x</em>) = ((<em>x</em> &minus; \n",
    "<em>y</em>)&middot;<em>q</em><sub>1</sub>(<em>x</em>) + <em>r</em><sub>1</sub>(<em>x</em>))&middot;((<em>x</em> &minus; \n",
    "<em>y</em>)&middot;<em>q</em><sub>1</sub>(<em>x</em>) + <em>r</em><sub>1</sub>(<em>x</em>)) = \n",
    "(<em>x</em> &minus; <em>y</em>)&middot;((<em>x</em> &minus; <em>y</em>)&middot;<em>q</em><sub>1</sub>(<em>x</em>)&middot;<em>q</em><sub>2</sub>(<em>x</em>) + \n",
    "<em>q</em><sub>1</sub>(<em>x</em>)&middot;<em>r</em><sub>2</sub>(<em>x</em>) + <em>q</em><sub>2</sub>(<em>x</em>)&middot;<em>r</em><sub>1</sub>(<em>x</em>) ) +\n",
    "<em>r</em><sub>1</sub>(<em>x</em>)&middot;<em>r</em><sub>2</sub>(<em>x</em>).</p>\n",
    "By the uniqueness of the division algorithm, we have that\n",
    "<p style='text-align: center;'><em>&#981;<sub>y</sub></em>(<em>f</em><sub>1</sub>(<em>x</em>) + <em>f</em><sub>2</sub>(<em>x</em>)) = <em>r</em><sub>1</sub> + \n",
    "<em>r</em><sub>2</sub> = <em>&#981;<sub>y</sub></em>(<em>f</em><sub>1</sub>(<em>x</em>)) + <em>&#981;<sub>y</sub></em>(<em>f</em><sub>2</sub>(<em>x</em>)),</p>\n",
    "and\n",
    "<p style='text-align: center;'><em>&#981;<sub>y</sub></em>(<em>f</em><sub>1</sub>(<em>x</em>)&middot;<em>f</em><sub>2</sub>(<em>x</em>)) = \n",
    "<em>r</em><sub>1</sub>&middot;<em>r</em><sub>2</sub> = \n",
    "<em>&#981;<sub>y</sub></em>(<em>f</em><sub>1</sub>(<em>x</em>))&middot;<em>&#981;<sub>y</sub></em>(<em>f</em><sub>2</sub>(<em>x</em>)).</p>\n",
    "Thus, <em>&#981;<sub>y</sub></em> is a homomorphism.<br><br>\n",
    "\n",
    "<a href=\"#prop121ret\">Return to text</a>"
   ]
  },
  {
   "cell_type": "markdown",
   "id": "1b3fb2",
   "metadata": {
    "collapsed": false
   },
   "source": [
    "<br><br><br><br><br><br><br><br><br><br><br><br><br><br><br><br><br><br><br><br><br><br><br><br><br><br><br><br><br><br><br><br><br><br><br><br><br><br><br><br><br><br>"
   ]
  },
  {
   "cell_type": "markdown",
   "id": "73bd5f",
   "metadata": {
    "collapsed": false
   },
   "source": [
    "<a name=\"prop122\" id=\"prop122\"></a>\n",
    "Proof of Proposition 12.2:<br><br>\n",
    "\n",
    "Again, we will proceed by induction on the degree of <em>f</em>(<em>x</em>), which we will call <em>n</em>.  If <em>n</em> = 1, then \n",
    "<em>f</em>(<em>x</em>) = <em>a</em><sub>1</sub> <em>x</em> + <em>a</em><sub>0</sub>, and since <em>r</em><sub>1</sub> is a root, \n",
    "<em>a</em><sub>1</sub> <em>r</em><sub>1</sub> + <em>a</em><sub>0</sub> = 0.  Thus, <nobr><em>a</em><sub>0</sub> = \n",
    "&minus;<em>a</em><sub>1</sub> <em>r</em><sub>1</sub>,</nobr> and hence \n",
    "<p style='text-align: center;'><em>f</em>(<em>x</em>) =  <em>a</em><sub>1</sub> <em>x</em> &minus;  <em>a</em><sub>1</sub> <em>r</em><sub>1</sub> = \n",
    "<em>a</em><sub>1</sub>(<em>x</em> &minus; <em>r</em><sub>1</sub>).</p>\n",
    "So the proposition is true when <em>n</em> = 1. \n",
    "<br><br>\n",
    "Now we will apply the induction hypothesis on <em>n</em>. Since <em>r<sub>n</sub></em> is a root of <em>f</em>(<em>x</em>), \n",
    "we have that\n",
    "<p style='text-align: center;'><em>f</em>(<em>x</em>) = (<em>x</em> &minus; <em>r<sub>n</sub></em>)&middot;<em>g</em>(<em>x</em>)</p>\n",
    "for some <em>g</em>(<em>x</em>), which by Lemma 11.1 is of degree <em>n</em> &minus; 1.  Furthermore, <em>g</em>(<em>x</em>) and <em>f</em>(<em>x</em>) have the same \n",
    "leading coefficient, <em>a<sub>n</sub></em>.  For <em>m</em> = 1, 2, &hellip;, <em>n</em> &minus; 1, we have\n",
    "<p style='text-align: center;'>0 = <em>&#981;</em><sub><em>r&#8344;</em></sub>(<em>f</em>(<em>x</em>)) = (<em>r<sub>m</sub></em> &minus; \n",
    "<em>r<sub>n</sub></em>)&middot;<em>&#981;</em><sub><em>r&#8344;</em></sub>(<em>g</em>(<em>x</em>)).</p>\n",
    "Since (<em>r<sub>m</sub></em> &minus; <em>r<sub>n</sub></em>) is <em>not</em> 0, we have that <em>g</em>(<em>x</em>) has <em>n</em> &minus; 1 distinct roots, \n",
    "namely <em>r</em><sub>1</sub>, <em>r</em><sub>2</sub>, <em>r</em><sub>3</sub>, &hellip; <em>r</em><sub><em>n</em>&minus;1</sub>.  Thus, by induction,\n",
    "<p style='text-align: center;'><em>g</em>(<em>x</em>) = <em>a<sub>n</sub></em>&middot;(<em>x</em> &minus; <em>r</em><sub>1</sub>)&middot;(<em>x</em> &minus; \n",
    "<em>r</em><sub>2</sub>)&middot;(<em>x</em> &minus; <em>r</em><sub>3</sub>)&#8943;(<em>x</em> &minus; <em>r</em><sub><em>n</em>&minus;1</sub>).</p>\n",
    "Thus,\n",
    "<p style='text-align: center;'><em>f</em>(<em>x</em>) = <em>a<sub>n</sub></em>&middot;(<em>x</em> &minus; <em>r</em><sub>1</sub>)&middot;(<em>x</em> &minus; \n",
    "<em>r</em><sub>2</sub>)&middot;(<em>x</em> &minus; <em>r</em><sub>3</sub>)&#8943;(<em>x</em> &minus; <em>r</em><sub><em>n</em>&minus;1</sub>)&middot;(<em>x</em> &minus; \n",
    "<em>r<sub>n</sub></em>).</p>\n",
    "\n",
    "<a href=\"#prop122ret\">Return to text</a>"
   ]
  },
  {
   "cell_type": "markdown",
   "id": "500d67",
   "metadata": {
    "collapsed": false
   },
   "source": [
    "<br><br><br><br><br><br><br><br><br><br><br><br><br><br><br><br><br><br><br><br><br><br><br><br><br><br><br><br><br><br><br><br><br><br><br><br><br><br><br><br><br><br>"
   ]
  },
  {
   "cell_type": "markdown",
   "id": "e78bb3",
   "metadata": {
    "collapsed": false
   },
   "source": [
    "<a name=\"cor122\" id=\"cor122\"></a>\n",
    "Proof of Corollary 12.2:<br><br>  \n",
    "\n",
    "Suppose that <em>f</em>(<em>x</em>) has at least <em>n</em> + 1 roots, <em>r</em><sub>1</sub>, <em>r</em><sub>2</sub>, <em>r</em><sub>3</sub>, &hellip; \n",
    "<em>r<sub>n</sub></em>, <em>r</em><sub><em>n</em>+1</sub>. From Proposition 12.2,\n",
    "<p style='text-align: center;'><em>f</em>(<em>x</em>) = <em>a<sub>n</sub></em>&middot;(<em>x</em> &minus; <em>r</em><sub>1</sub>)&middot;(<em>x</em> &minus; \n",
    "<em>r</em><sub>2</sub>)&middot;(<em>x</em> &minus; <em>r</em><sub>3</sub>)&#8943;(<em>x</em> &minus; <em>r<sub>n</sub></em>).</p>\n",
    "Since <em>r</em><sub><em>n</em>+1</sub> is also a root, we have\n",
    "<p style='text-align: center;'>0 = <em>&#981;</em><sub><em>r&#8345;</em>&#8330;&#8321;</sub>(<em>f</em>(<em>x</em>)) = \n",
    "<em>a<sub>n</sub></em>&middot;(<em>r</em><sub><em>n</em>+1</sub> &minus; <em>r</em><sub>1</sub>)&middot;(<em>r</em><sub><em>n</em>+1</sub> &minus; \n",
    "<em>r</em><sub>2</sub>)&middot;(<em>r</em><sub><em>n</em>+1</sub> &minus; <em>r</em><sub>3</sub>)&#8943;(<em>r</em><sub><em>n</em>+1</sub> &minus; \n",
    "<em>r<sub>n</sub></em>).</p>\n",
    "But all of the terms on the right hand side are nonzero, which is a contradiction.  Thus, there can be at most <em>n</em> distinct zeros of <em>f</em>(<em>x</em>).<br><br>\n",
    "\n",
    "<a href=\"#cor122ret\">Return to text</a>"
   ]
  },
  {
   "cell_type": "markdown",
   "id": "d06588",
   "metadata": {
    "collapsed": false
   },
   "source": [
    "<br><br><br><br><br><br><br><br><br><br><br><br><br><br><br><br><br><br><br><br><br><br><br><br><br><br><br><br><br><br><br><br><br><br><br><br><br><br><br><br><br><br>"
   ]
  },
  {
   "cell_type": "markdown",
   "id": "413ce2",
   "metadata": {
    "collapsed": false
   },
   "source": [
    "<a name=\"cor123\" id=\"cor123\"></a>\n",
    "Proof of Corollary 12.3:<br><br> \n",
    "\n",
    "To prove uniqueness, suppose that <em>f</em>(<em>x</em>) and <em>g</em>(<em>x</em>) are two such polynomials. Then <em>h</em>(<em>x</em>) = \n",
    "<em>f</em>(<em>x</em>) &minus; <em>g</em>(<em>x</em>) will have roots at <em>x</em><sub>0</sub>, <em>x</em><sub>1</sub>, <em>x</em><sub>2</sub>, \n",
    "<em>x</em><sub>3</sub>, &hellip; <em>x<sub>n</sub></em>.  But <em>h</em>(<em>x</em>) would have degree at most <em>n</em>, which contradicts Corollary 12.2.  Thus, \n",
    "the polynomial <em>f</em>(<em>x</em>) is unique.<br><br>\n",
    "\n",
    "To show that this polynomial exists, we will first construct the <em>n</em><sup>th</sup> degree polynomial\n",
    "<br><br>\n",
    "<table align=\"center\" border=\"0\" cellspacing=\"0\" cellpadding=\"0\">\n",
    "  <tr>\n",
    "    <td rowspan = \"2\" align = \"right\"><em>f</em><sub>0</sub>(<em>x</em>) =&ensp;</td>\n",
    "    <td align=\"center\" valign=\"bottom\"><font style=\"text-decoration:underline\">&ensp;&ensp;(<em>x</em> &minus; <em>x</em>&#8321;)&middot;(<em>x</em> &minus; <em>x</em>&#8322;)&middot;(<em>x</em> &minus; \n",
    "        <em>x</em>&#8323;) &#8943; (<em>x</em> &minus; <em>x&#8345;</em>)&ensp;&ensp;</font></td>\n",
    "  </tr>\n",
    "  <tr>\n",
    "    <td align=\"center\" valign=\"top\">(<em>x</em><sub>0</sub> &minus; <em>x</em><sub>1</sub>)&middot;(<em>x</em><sub>0</sub> &minus; \n",
    "    <em>x</em><sub>2</sub>)&middot;(<em>x</em><sub>0</sub> &minus; <em>x</em><sub>3</sub>) &#8943; (<em>x</em><sub>0</sub> &minus; <em>x<sub>n</sub></em>)</td>\n",
    "  </tr>\n",
    "</table>\n",
    "<br>\n",
    "for which <em>f</em><sub>0</sub>(<em>x</em><sub>0</sub>) = 1, but <em>x</em><sub>1</sub>, <em>x</em><sub>2</sub>, \n",
    "<em>x</em><sub>3</sub>, &hellip; <em>x<sub>n</sub></em> are roots of <em>f</em><sub>0</sub>(<em>x</em>).  (Note that since all of the <em>x<sub>i</sub></em> are distinct, \n",
    "the denominator is not 0.)  We can likewise define <em>f</em><sub>1</sub>(<em>x</em>), <em>f</em><sub>2</sub>(<em>x</em>),&hellip; <em>f<sub>n</sub></em>(<em>x</em>) such \n",
    "that \n",
    "<p style='text-align: center;'><em>f</em><sub>1</sub>(<em>x</em><sub>1</sub>) = <em>f</em><sub>2</sub>(<em>x</em><sub>2</sub>) = \n",
    "<em>f</em><sub>3</sub>(<em>x</em><sub>3</sub>) = &#8943; = <em>f<sub>n</sub></em>(<em>x<sub>n</sub></em>) = 1,</p>\n",
    "yet the remaining <em>n</em> <em>x<sub>i</sub></em>'s are roots for each polynomial.  Finally, we construct the polynomial\n",
    "<p style='text-align: center;'><em>g</em>(<em>x</em>) = <em>y</em><sub>0</sub> <em>f</em><sub>0</sub>(<em>x</em>) + \n",
    "<em>y</em><sub>1</sub> <em>f</em><sub>1</sub>(<em>x</em>) + <em>y</em><sub>2</sub> <em>f</em><sub>2</sub>(<em>x</em>) + \n",
    "<em>y</em><sub>3</sub> <em>f</em><sub>3</sub>(<em>x</em>) + &#8943; + <em>y<sub>n</sub></em> <em>f<sub>n</sub></em>(<em>x</em>).</p>\n",
    "Clearly <em>g</em>(<em>x</em>) will be a polynomial of degree at most <em>n</em>, and also\n",
    "<p style='text-align: center;'><em>g</em>(<em>x</em><sub>0</sub>) = <em>y</em><sub>0</sub>,&emsp;<em>g</em>(<em>x</em><sub>1</sub>) = \n",
    "<em>y</em><sub>1</sub>,&emsp;<em>g</em>(<em>x</em><sub>2</sub>) = <em>y</em><sub>2</sub>,&emsp;<em>g</em>(<em>x</em><sub>3</sub>) = \n",
    "<em>y</em><sub>3</sub>,&ensp;&#8943;&ensp;<em>g</em>(<em>x<sub>n</sub></em>) = <em>y<sub>n</sub></em>.</p>\n",
    "Thus, we have constructed the required polynomial.<br><br>\n",
    "\n",
    "<a href=\"#cor123ret\">Return to text</a>"
   ]
  },
  {
   "cell_type": "markdown",
   "id": "3fa4be",
   "metadata": {
    "collapsed": false
   },
   "source": [
    "<br><br><br><br><br><br><br><br><br><br><br><br><br><br><br><br><br><br><br><br><br><br><br><br><br><br><br><br><br><br><br><br><br><br><br><br><br><br><br><br><br><br>"
   ]
  },
  {
   "cell_type": "markdown",
   "id": "285f89",
   "metadata": {
    "collapsed": false
   },
   "source": [
    "<a name=\"prop123\" id=\"prop123\"></a>\n",
    "Proof of Proposition 12.3:<br><br>\n",
    "\n",
    "Suppose that <em>f</em>(<em>x</em>) has a zero in <em>F</em>, say <em>r</em>. Then\n",
    "<p style='text-align: center;'><em>f</em>(<em>x</em>) = (<em>x</em> &minus; <em>r</em>)&middot;<em>q</em>(<em>x</em>)</p>\n",
    "where <em>q</em>(<em>x</em>) has degree one less than <em>f</em>(<em>x</em>).  This shows that <em>f</em>(<em>x</em>) is reducible.<br><br>\n",
    "\n",
    "Now suppose that <em>f</em>(<em>x</em>) is reducible.  Then <em>f</em>(<em>x</em>) = <em>g</em>(<em>x</em>)&middot;<em>h</em>(<em>x</em>), where the degree \n",
    "of <em>g</em>(<em>x</em>) plus the degree of <em>h</em>(<em>x</em>) is 2 or 3.  Thus, either <em>g</em>(<em>x</em>) or <em>h</em>(<em>x</em>) has degree 1.  We may \n",
    "suppose <em>g</em>(<em>x</em>) has degree 1, and so\n",
    "<p style='text-align: center;'><em>f</em>(<em>x</em>) = (<em>a</em><sub>1</sub> <em>x</em> + <em>a</em><sub>0</sub>)&middot;<em>h</em>(<em>x</em>).</p>\n",
    "Then &minus;<em>a</em><sub>0</sub> <em>a</em><sub>1</sub><sup>-1</sup> is a root of <em>f</em>(<em>x</em>), and the proof is complete.<br><br>\n",
    "\n",
    "<a href=\"#prop123ret\">Return to text</a>"
   ]
  },
  {
   "cell_type": "markdown",
   "id": "af4eb0",
   "metadata": {
    "collapsed": false
   },
   "source": [
    "<br><br><br><br><br><br><br><br><br><br><br><br><br><br><br><br><br><br><br><br><br><br><br><br><br><br><br><br><br><br><br><br><br><br><br><br><br><br><br><br><br><br>"
   ]
  },
  {
   "cell_type": "markdown",
   "id": "510248",
   "metadata": {
    "collapsed": false
   },
   "source": [
    "<a name=\"prop124\" id=\"prop124\"></a>\n",
    "Proof of Proposition 12.4:<br><br>\n",
    "\n",
    "If <em>f</em>(<em>x</em>) has degree 1, then we have seen that it is irreducible. Let us proceed by induction on the degree <em>n</em> of <em>f</em>(<em>x</em>).  If \n",
    "<em>f</em>(<em>x</em>) is not irreducible, then we can express <em>f</em>(<em>x</em>) = <em>g</em>(<em>x</em>)&middot;<em>h</em>(<em>x</em>), where <em>g</em>(<em>x</em>) \n",
    "and <em>h</em>(<em>x</em>) are polynomials of degree at least 1. But <em>g</em>(<em>x</em>) and <em>h</em>(<em>x</em>) must have degree less than <em>n</em>.  Thus, by \n",
    "induction, <em>g</em>(<em>x</em>) and <em>h</em>(<em>x</em>) are either irreducible, or can be written as a product of irreducible polynomials.  Thus, <em>f</em>(<em>x</em>) \n",
    "can be written as a product of irreducible polynomials.<br><br>\n",
    "\n",
    "<a href=\"#prop124ret\">Return to text</a>"
   ]
  },
  {
   "cell_type": "markdown",
   "id": "65f8bf",
   "metadata": {
    "collapsed": false
   },
   "source": [
    "<br><br><br><br><br><br><br><br><br><br><br><br><br><br><br><br><br><br><br><br><br><br><br><br><br><br><br><br><br><br><br><br><br><br><br><br><br><br><br><br><br><br>"
   ]
  },
  {
   "cell_type": "markdown",
   "id": "012f04",
   "metadata": {
    "collapsed": false
   },
   "source": [
    "<a name=\"theor122\" id=\"theor122\"></a>\n",
    "Proof of Theorem 12.2:<br><br> \n",
    "\n",
    "Let us consider the set of <em>all</em> polynomials that can be produced by\n",
    "<p style='text-align: center;'><em>f</em>(<em>x</em>)&middot;<em>s</em>(<em>x</em>) + <em>g</em>(<em>x</em>)&middot;<em>t</em>(<em>x</em>)</p>\n",
    "where <em>s</em>(<em>x</em>) and <em>t</em>(<em>x</em>) are in <em>F</em>[<em>x</em>].  Call this set <em>A</em>.  Both <em>f</em>(<em>x</em>) and <em>g</em>(<em>x</em>) \n",
    "are in <em>A</em>, so <em>A</em> contains nonzero polynomials.  Consider a nonzero polynomial <em>h</em>(<em>x</em>) in <em>A</em> of the lowest degree.  By the division \n",
    "algorithm theorem (12.1), we can find polynomials <em>q</em>(<em>x</em>) and <em>r</em>(<em>x</em>) such that\n",
    "<p style='text-align: center;'><em>f</em>(<em>x</em>) = <em>q</em>(<em>x</em>)&middot;<em>h</em>(<em>x</em>) + <em>r</em>(<em>x</em>),</p>\n",
    "where <em>r</em>(<em>x</em>) is either 0, or has lower degree than <em>h</em>(<em>x</em>).  But then\n",
    "<p style='text-align: center;'><em>r</em>(<em>x</em>) = <em>f</em>(<em>x</em>) &minus; <em>q</em>(<em>x</em>)&middot;<em>h</em>(<em>x</em>) = \n",
    "(1 &minus; <em>q</em>(<em>x</em>)&middot;<em>s</em>(<em>x</em>))&middot;<em>f</em>(<em>x</em>) &minus; \n",
    "<em>q</em>(<em>x</em>)&middot;<em>g</em>(<em>x</em>)&middot;<em>t</em>(<em>x</em>),</p>\n",
    "which is in <em>A</em>.  But if <em>r</em>(<em>x</em>) is not zero, the degree of <em>r</em>(<em>x</em>) would be less than the degree of <em>h</em>(<em>x</em>), and we \n",
    "picked <em>h</em>(<em>x</em>) to be of the lowest degree.  Thus, <em>r</em>(<em>x</em>) = 0, and <em>h</em>(<em>x</em>) divides <em>f</em>(<em>x</em>).  By a similar \n",
    "argument, <em>h</em>(<em>x</em>) divides <em>g</em>(<em>x</em>).<br><br>\n",
    "\n",
    "To prove that <em>h</em>(<em>x</em>) is unique, note that since <em>h</em>(<em>x</em>) divides <em>f</em>(<em>x</em>) and <em>g</em>(<em>x</em>), then \n",
    "<em>h</em>(<em>x</em>) divides all polynomials in <em>A</em>.  So if there is another polynomial <em>d</em>(<em>x</em>) in <em>A</em> that divides \n",
    "both <em>f</em>(<em>x</em>) and <em>g</em>(<em>x</em>), then <em>h</em>(<em>x</em>) would divide <em>d</em>(<em>x</em>).  But <em>d</em>(<em>x</em>) would also \n",
    "divide <em>h</em>(<em>x</em>).  Thus, <em>h</em>(<em>x</em>) and <em>d</em>(<em>x</em>) would have to have the same degree, and \n",
    "<p style='text-align: center;'><em>d</em>(<em>x</em>) = <em>u</em>&middot;<em>h</em>(<em>x</em>),</p>\n",
    "where <em>u</em> is a constant polynomial. Thus, <em>h</em>(<em>x</em>) is unique up to multiplication by a constant.<br><br>\n",
    "\n",
    "<a href=\"#theor122ret\">Return to text</a>"
   ]
  },
  {
   "cell_type": "markdown",
   "id": "7badde",
   "metadata": {
    "collapsed": false
   },
   "source": [
    "<br><br><br><br><br><br><br><br><br><br><br><br><br><br><br><br><br><br><br><br><br><br><br><br><br><br><br><br><br><br><br><br><br><br><br><br><br><br><br><br><br><br>"
   ]
  },
  {
   "cell_type": "markdown",
   "id": "c97b34",
   "metadata": {
    "collapsed": false
   },
   "source": [
    "<a name=\"cor124\" id=\"cor124\"></a>\n",
    "Proof of Corollary 12.4:<br><br> \n",
    "\n",
    "Suppose that <em>f</em>(<em>x</em>) divides neither <em>g</em>(<em>x</em>) nor <em>h</em>(<em>x</em>).  Then the greatest common divisor of <em>f</em>(<em>x</em>) and \n",
    "<em>g</em>(<em>x</em>) must have degree less than the degree of <em>f</em>(<em>x</em>).  But gcd(<em>f</em>(<em>x</em>), <em>g</em>(<em>x</em>)) \n",
    "must divide <em>f</em>(<em>x</em>), and <em>f</em>(<em>x</em>) is \n",
    "irreducible. Thus, the greatest common divisor of <em>f</em>(<em>x</em>) and <em>g</em>(<em>x</em>) must be 1.  Likewise gcd(<em>f</em>(<em>x</em>), <em>h</em>(<em>x</em>)) must be also be 1.  By the greatest common divisor theorem (12.2), there exist polynomials <em>r</em>(<em>x</em>), <em>s</em>(<em>x</em>), \n",
    "<em>t</em>(<em>x</em>), and <em>u</em>(<em>x</em>) such that\n",
    "<p style='text-align: center;'><em>f</em>(<em>x</em>)&middot;<em>r</em>(<em>x</em>) + <em>g</em>(<em>x</em>)&middot;<em>s</em>(<em>x</em>) = 1,</p>\n",
    "and \n",
    "<p style='text-align: center;'><em>f</em>(<em>x</em>)&middot;<em>t</em>(<em>x</em>) + <em>h</em>(<em>x</em>)&middot;<em>u</em>(<em>x</em>) = 1.</p>\n",
    "By multiplying these two together, we have\n",
    "<p style='text-align: center;'>1 = (<em>f</em>(<em>x</em>)&middot;<em>r</em>(<em>x</em>) + \n",
    "<em>g</em>(<em>x</em>)&middot;<em>s</em>(<em>x</em>))&middot;(<em>f</em>(<em>x</em>)&middot;<em>t</em>(<em>x</em>) + <em>h</em>(<em>x</em>)&middot;<em>u</em>(<em>x</em>)) = \n",
    "<em>f</em>(<em>x</em>)<sup>2</sup>&middot;<em>r</em>(<em>x</em>)&middot;<em>t</em>(<em>x</em>) + \n",
    "<em>f</em>(<em>x</em>)&middot;<em>r</em>(<em>x</em>)&middot;<em>h</em>(<em>x</em>)&middot;<em>u</em>(<em>x</em>) + \n",
    "<em>f</em>(<em>x</em>)&middot;<em>g</em>(<em>x</em>)&middot;<em>s</em>(<em>x</em>)&middot;<em>t</em>(<em>x</em>) +\n",
    "<em>g</em>(<em>x</em>)&middot;<em>h</em>(<em>x</em>)&middot;<em>s</em>(<em>x</em>)&middot;<em>u</em>(<em>x</em>).</p>\n",
    "Note that all of the terms on the right hand side are multiples of <em>f</em>(<em>x</em>) (including the last term, \n",
    "since <em>g</em>(<em>x</em>)&middot;<em>h</em>(<em>x</em>) is a multiple of <em>f</em>(<em>x</em>)).  But the left hand side is 1, which cannot be a multiple \n",
    "of <em>f</em>(<em>x</em>).  Thus, we have a contradiction, and so either <em>g</em>(<em>x</em>) or <em>h</em>(<em>x</em>) is a multiple of <em>f</em>(<em>x</em>).<br><br> \n",
    "\n",
    "<a href=\"#cor124ret\">Return to text</a>"
   ]
  },
  {
   "cell_type": "markdown",
   "id": "9b77b8",
   "metadata": {
    "collapsed": false
   },
   "source": [
    "<br><br><br><br><br><br><br><br><br><br><br><br><br><br><br><br><br><br><br><br><br><br><br><br><br><br><br><br><br><br><br><br><br><br><br><br><br><br><br><br><br><br>"
   ]
  },
  {
   "cell_type": "markdown",
   "id": "6a63d1",
   "metadata": {
    "collapsed": false
   },
   "source": [
    "<a name=\"lem121\" id=\"lem121\"></a>\n",
    "Proof of Lemma 12.1:<br><br> \n",
    "\n",
    "Since <em>x</em> is prime, it is neither 0 nor a unit. Suppose that <em>x</em> = <em>y</em>&middot;<em>z</em>, where neither <em>y</em> nor <em>z</em> are units.  Since \n",
    "<em>x</em> is prime, we have that either <em>y</em> or <em>z</em> is a multiple of <em>x</em>.  Suppose that <em>y</em> is a multiple of <em>x</em>.  Then \n",
    "<em>y</em> = <em>x</em>&middot;<em>w</em> for some number <em>w</em>.  Then\n",
    "<p style='text-align: center;'><em>x</em> = <em>y</em>&middot;<em>z</em> = <em>x</em>&middot;<em>w</em>&middot;<em>z</em>.</p>\n",
    "Since <em>K</em> is an integral domain, we know that <em>x</em> is not a zero-divisor, so we can use Lemma 9.4 and say that\n",
    "<p style='text-align: center;'>1 = <em>w</em>&middot;<em>z</em>.</p>\n",
    "But this indicates that <em>z</em> is a unit, which contradicts the original assumption that neither <em>y</em> nor <em>z</em> were units.  Thus, <em>x</em> is \n",
    "irreducible.<br><br>\n",
    "\n",
    "<a href=\"#lem121ret\">Return to text</a>"
   ]
  },
  {
   "cell_type": "markdown",
   "id": "31ce68",
   "metadata": {
    "collapsed": false
   },
   "source": [
    "<br><br><br><br><br><br><br><br><br><br><br><br><br><br><br><br><br><br><br><br><br><br><br><br><br><br><br><br><br><br><br><br><br><br><br><br><br><br><br><br><br><br>"
   ]
  },
  {
   "cell_type": "markdown",
   "id": "d36fbe",
   "metadata": {
    "collapsed": false
   },
   "source": [
    "<a name=\"prop125\" id=\"prop125\"></a>\n",
    "Proof of Proposition 12.5:<br><br>\n",
    "\n",
    "We begin be showing that if <em>K</em> is a UFD, then all irreducible elements are prime.  Suppose <em>w</em> is irreducible, and <em>x</em>&middot;<em>w</em> = \n",
    "<em>y</em>&middot;<em>z</em> is a multiple of <em>w</em>.  Then <em>x</em>, <em>y</em>, and <em>z</em> have factorizations into irreducible elements:\n",
    "<p style='text-align: center;'><em>x</em> = <em>x</em><sub>1</sub>&middot;<em>x</em><sub>2</sub>&#8943;<em>x<sub>n</sub></em>,&emsp;<em>y</em> = \n",
    "<em>y</em><sub>1</sub>&middot;<em>y</em><sub>2</sub>&#8943;<em>y<sub>m</sub></em>,&emsp;<em>z</em> = \n",
    "<em>z</em><sub>1</sub>&middot;<em>z</em><sub>2</sub>&#8943;<em>z<sub>k</sub></em>.</p>\n",
    "Thus,\n",
    "<p style='text-align: center;'><em>x</em> = <em>x</em><sub>1</sub>&middot;<em>x</em><sub>2</sub>&#8943;<em>x<sub>n</sub></em>&middot;<em>w</em> = \n",
    "<em>y</em><sub>1</sub>&middot;<em>y</em><sub>2</sub>&#8943;<em>y<sub>m</sub></em>&middot;<em>z</em><sub>1</sub>&middot;<em>z</em><sub>2</sub>&#8943;<em>z<sub>k</sub></em></p>\n",
    "Since a factorization is unique, and all terms in this product are irreducible, we have that <em>w</em> is an associate to one of the terms on the right hand side.  Thus, \n",
    "either <em>y</em> or <em>z</em> is a multiple of <em>w</em>, and hence <em>w</em> is prime.<br><br>\n",
    "\n",
    "Since a nonzero element that is not a unit in a UFD can be expressed as a product of irreducible elements, we have shown that all such elements can be expressed as a \n",
    "product of primes.<br><br>\n",
    "\n",
    "Now let us suppose that all nonzero, non-unit elements in an integral domain can be expressed as a product of primes.  The first part of the definition of a UFD is \n",
    "obviously fulfilled since the prime elements are irreducible.  Suppose we have another factorization in terms of irreducible elements.\n",
    "<p style='text-align: center;'><em>p</em><sub>1</sub>&middot;<em>p</em><sub>2</sub>&middot;<em>p</em><sub>3</sub>&#8943;<em>p<sub>n</sub></em> = \n",
    "<em>z</em><sub>1</sub>&middot;<em>z</em><sub>2</sub>&middot;<em>z</em><sub>3</sub>&#8943;<em>z<sub>m</sub></em>.</p>\n",
    "Here, the <em>p<sub>i</sub></em> are prime elements, while the <em>z<sub>j</sub></em> are merely irreducible elements.  We need to prove that <em>n</em> = <em>m</em>, \n",
    "and that, after a rearrangement of the <em>z</em>'s, we have that <em>p<sub>i</sub></em> and <em>z<sub>i</sub></em> are associates.  We will proceed by induction \n",
    "on <em>n</em>, the number of primes in the factorization.  If <em>n</em> = 1, then <em>m</em> = 1; otherwise we would have a prime number (which is irreducible) expressed \n",
    "as a product of two or more irreducible elements.  Also, <em>p</em><sub>1</sub> = <em>z</em><sub>1</sub>, and so trivially the <em>p</em>'s are associates of \n",
    "the <em>z</em>'s.<br><br>\n",
    "\n",
    "Next, we will consider the general case. Since the right hand side of\n",
    "<p style='text-align: center;'><em>p</em><sub>1</sub>&middot;<em>p</em><sub>2</sub>&middot;<em>p</em><sub>3</sub>&#8943;<em>p<sub>n</sub></em> = \n",
    "<em>z</em><sub>1</sub>&middot;<em>z</em><sub>2</sub>&middot;<em>z</em><sub>3</sub>&#8943;<em>z<sub>m</sub></em>.</p>\n",
    "is a multiple of <em>p<sub>n</sub></em>, one of the <em>z</em>'s must be a multiple of <em>p<sub>n</sub></em>.  Suppose that\n",
    "<p style='text-align: center;'><em>z<sub>k</sub></em> = <em>p<sub>n</sub></em>&middot;<em>u</em>.</p>\n",
    "Since <em>z<sub>k</sub></em> is irreducible, we find that <em>u</em> is a unit, hence <em>z<sub>k</sub></em> and <em>p<sub>n</sub></em> are associates.  We now can write\n",
    "<p style='text-align: center;'><em>p</em><sub>1</sub>&middot;<em>p</em><sub>2</sub>&middot;<em>p</em><sub>3</sub> &#8943; \n",
    "<em>p</em><sub><em>n</em>&minus;1</sub>&middot;<em>p<sub>n</sub></em> = \n",
    "<em>z</em><sub>1</sub>&middot;<em>z</em><sub>2</sub>&middot;<em>z</em><sub>3</sub> &#8943; \n",
    "<em>z</em><sub><em>k</em>&minus;1</sub>&middot;<em>p<sub>n</sub></em>&middot;<em>u</em>&middot;<em>z</em><sub><em>k</em>+1</sub> &#8943; <em>z<sub>m</sub></em>.</p>\n",
    "Since the ring is an integral domain, we can use Lemma 9.4 and cancel out the <em>p<sub>n</sub></em>.\n",
    "<p style='text-align: center;'><em>p</em><sub>1</sub>&middot;<em>p</em><sub>2</sub>&middot;<em>p</em><sub>3</sub> &#8943; \n",
    "<em>p</em><sub><em>n</em>&minus;1</sub> = \n",
    "<em>z</em><sub>1</sub>&middot;<em>z</em><sub>2</sub>&middot;<em>z</em><sub>3</sub> &#8943; \n",
    "<em>z</em><sub><em>k</em>&minus;1</sub>&middot;(<em>u</em>&middot;<em>z</em><sub><em>k</em>+1</sub>) &#8943; <em>z<sub>m</sub></em>.</p>\n",
    "The unit <em>u</em> may be multiplied by any of the irreducible elements <em>z</em> to produce another irreducible element.  We now can apply the induction hypothesis, \n",
    "which says that there are <em>n</em> &minus; 1 <em>z</em>'s left, and that a rearrangement of the <em>z</em>'s would make <em>p<sub>i</sub></em> and \n",
    "<em>z<sub>i</sub></em> associates.  Therefore, <em>m</em> = <em>n</em>, and some rearrangement of the <em>z</em>'s in \n",
    "<p style='text-align: center;'><em>p</em><sub>1</sub>&middot;<em>p</em><sub>2</sub>&middot;<em>p</em><sub>3</sub>&#8943;<em>p<sub>n</sub></em> = \n",
    "<em>z</em><sub>1</sub>&middot;<em>z</em><sub>2</sub>&middot;<em>z</em><sub>3</sub>&#8943;<em>z<sub>m</sub></em>.</p>\n",
    "will allow <em>p<sub>i</sub></em> and <em>z<sub>i</sub></em> to be associates, proving that the ring is a UFD.<br><br>\n",
    "\n",
    "<a href=\"#prop125ret\">Return to text</a>"
   ]
  },
  {
   "cell_type": "markdown",
   "id": "db98f9",
   "metadata": {
    "collapsed": false
   },
   "source": [
    "<br><br><br><br><br><br><br><br><br><br><br><br><br><br><br><br><br><br><br><br><br><br><br><br><br><br><br><br><br><br><br><br><br><br><br><br><br><br><br><br><br><br>"
   ]
  },
  {
   "cell_type": "markdown",
   "id": "41c7e7",
   "metadata": {
    "collapsed": false
   },
   "source": [
    "<a name=\"cor125\" id=\"cor125\"></a>\n",
    "Proof of Corollary 12.5:<br><br> \n",
    "\n",
    "From Proposition 12.4, every polynomial of positive degree is either irreducible, or can be expressed as a product of irreducible polynomials. By Corollary 12.4, \n",
    "all irreducible polynomials are prime.  Thus, by Proposition 12.5, <em>F</em>[<em>x</em>] is a UFD.<br><br>\n",
    "\n",
    "<a href=\"#cor125ret\">Return to text</a>"
   ]
  },
  {
   "cell_type": "markdown",
   "id": "778103",
   "metadata": {
    "collapsed": false
   },
   "source": [
    "<br><br><br><br><br><br><br><br><br><br><br><br><br><br><br><br><br><br><br><br><br><br><br><br><br><br><br><br><br><br><br><br><br><br><br><br><br><br><br><br><br><br>"
   ]
  },
  {
   "cell_type": "markdown",
   "id": "25b29d",
   "metadata": {
    "collapsed": false
   },
   "source": [
    "<a name=\"lem122\" id=\"lem122\"></a>\n",
    "Proof of Lemma 12.2:<br><br> \n",
    "\n",
    "We need to show that if <em>p</em> is a prime of <em>R</em> that divides <em>h</em>(<em>x</em>) = <em>f</em>(<em>x</em>)&middot;<em>g</em>(<em>x</em>), then <em>p</em> \n",
    "must divide either <em>f</em>(<em>x</em>) or <em>g</em>(<em>x</em>).  Suppose that <em>p</em> does not divide all of the coefficients of <em>f</em>(<em>x</em>), nor \n",
    "does <em>p</em> divide all of the coefficients of <em>g</em>(<em>x</em>). Let\n",
    "<p style='text-align: center;'><em>f</em>(<em>x</em>) = <em>a</em><sub>0</sub> + <em>a</em><sub>1</sub> <em>x</em> + <em>a</em><sub>2</sub> <em>x</em><sup>2</sup> + \n",
    "<em>a</em><sub>3</sub> <em>x</em><sup>3</sup> + &#8943;,</p> \n",
    "<p style='text-align: center;'><em>g</em>(<em>x</em>) = <em>b</em><sub>0</sub> + <em>b</em><sub>1</sub> <em>x</em> + <em>b</em><sub>2</sub> <em>x</em><sup>2</sup> + \n",
    "<em>b</em><sub>3</sub> <em>x</em><sup>3</sup> + &#8943;,</p> \n",
    "and\n",
    "<p style='text-align: center;'><em>h</em>(<em>x</em>) = <em>f</em>(<em>x</em>)&middot;<em>g</em>(<em>x</em>) = <em>c</em><sub>0</sub> + <em>c</em><sub>1</sub> <em>x</em> \n",
    "+ <em>c</em><sub>2</sub> <em>x</em><sup>2</sup> + <em>c</em><sub>3</sub> <em>x</em><sup>3</sup> + &#8943;.</p> \n",
    "Let <em>a<sub>i</sub></em> be the first coefficient of <em>f</em>(<em>x</em>) that is not divisible by <em>p</em>, and let <em>b<sub>j</sub></em> be the first coefficient \n",
    "of <em>g</em>(<em>x</em>) that is not divisible by <em>p</em>.<br><br>\n",
    "\n",
    "Since <em>h</em>(<em>x</em>) is divisible by <em>p</em>, we know that the coefficient <em>c</em><sub><em>i</em>+<em>j</em></sub> must be divisible by <em>p</em>.  But\n",
    "<p style='text-align: center;'><em>c</em><sub><em>i</em>+<em>j</em></sub> = <em>a</em><sub>0</sub> <em>b</em><sub><em>i</em>+<em>j</em></sub> + \n",
    "<em>a</em><sub>1</sub> <em>b</em><sub><em>i</em>+<em>j</em>&minus;1</sub> + &#8943; + <em>a</em><sub><em>i</em>&minus;1</sub> <em>b</em><sub><em>j</em>+1</sub> + \n",
    "<em>a<sub>i</sub></em> <em>b<sub>j</sub></em> + <em>a</em><sub><em>i</em>+1</sub> <em>b</em><sub><em>j</em>&minus;1</sub> + &#8943; + \n",
    "<em>a</em><sub><em>i</em>+<em>j</em></sub> <em>b</em><sub>0</sub>.</p>\n",
    "Note that all terms on the right hand side except <em>a<sub>i</sub></em> <em>b<sub>j</sub></em> are divisible by <em>p</em> (since <em>a</em><sub>0</sub>, \n",
    "<em>a</em><sub>1</sub>, &hellip; <em>a</em><sub><em>i</em>&minus;1</sub> and <em>b</em><sub>0</sub>, <em>b</em><sub>1</sub>, &hellip; \n",
    "<em>b</em><sub><em>j</em>&minus;1</sub> are all multiples of <em>p</em>). So <nobr><em>a<sub>i</sub></em> <em>b<sub>j</sub></em></nobr> is also a multiple of <em>p</em>.  But \n",
    "this contradicts the fact that <em>p</em> is a prime element of <em>R</em>, and neither <em>a<sub>i</sub></em> nor <em>b<sub>j</sub></em> is a multiple of <em>p</em>.  Thus, \n",
    "<em>p</em> is prime in <em>R</em>[<em>x</em>].<br><br>\n",
    "\n",
    "<a href=\"#lem122ret\">Return to text</a>"
   ]
  },
  {
   "cell_type": "markdown",
   "id": "315340",
   "metadata": {
    "collapsed": false
   },
   "source": [
    "<br><br><br><br><br><br><br><br><br><br><br><br><br><br><br><br><br><br><br><br><br><br><br><br><br><br><br><br><br><br><br><br><br><br><br><br><br><br><br><br><br><br>"
   ]
  },
  {
   "cell_type": "markdown",
   "id": "98ef51",
   "metadata": {
    "collapsed": false
   },
   "source": [
    "<a name=\"lem123\" id=\"lem123\"></a>\n",
    "Proof of Lemma 12.3:<br><br> \n",
    "\n",
    "If <em>c</em> is a unit in <em>R</em>, then obviously <em>d</em> is a multiple of <em>c</em>. We will now use induction on the number of prime factors of <em>c</em> in \n",
    "the ring <em>R</em>.  If <em>c</em> contains a prime <em>p</em>, then by Lemma 12.2, one of the terms on the right hand side must be a multiple of <em>p</em>. But none \n",
    "of the <em>g<sub>i</sub></em>(<em>x</em>) are divisible by a prime, so we find that <em>d</em> is a multiple of <em>p</em>. Then we have\n",
    "<p style='text-align: center;'><sup><em>c</em></sup>&frasl;<sub><em>p</em></sub>&middot;<em>f</em>(<em>x</em>) = \n",
    "<sup><em>d</em></sup>&frasl;<sub><em>p</em></sub>&middot;<em>g</em><sub>1</sub>(<em>x</em>)&middot;<em>g</em><sub>2</sub>(<em>x</em>)&middot;<em>g</em><sub>3</sub>(<em>x</em>) \n",
    "&#8943; <em>g<sub>n</sub></em>(<em>x</em>).</p>\n",
    "where <em>c</em>/<em>p</em> and <em>d</em>/<em>p</em> are both in <em>R</em>.  Since <em>c</em>/<em>p</em> contains one less prime factor \n",
    "than <em>c</em>, we can use induction to say that <em>d</em>/<em>p</em> is a multiple of <em>c</em>/<em>p</em>.  Then <em>d</em> would be divisible by <em>c</em> \n",
    "in <em>R</em>.<br><br>\n",
    "\n",
    "<a href=\"#lem123ret\">Return to text</a>"
   ]
  },
  {
   "cell_type": "markdown",
   "id": "5bd4e4",
   "metadata": {
    "collapsed": false
   },
   "source": [
    "<br><br><br><br><br><br><br><br><br><br><br><br><br><br><br><br><br><br><br><br><br><br><br><br><br><br><br><br><br><br><br><br><br><br><br><br><br><br><br><br><br><br>"
   ]
  },
  {
   "cell_type": "markdown",
   "id": "b2af23",
   "metadata": {
    "collapsed": false
   },
   "source": [
    "<a name=\"lem124\" id=\"lem124\"></a>\n",
    "Proof of Lemma 12.4:<br><br>\n",
    "\n",
    "We want to first show that we can express\n",
    "<p style='text-align: center;'><em>f</em>(<em>x</em>) = <em>c</em>&middot;<em>g</em>(<em>x)</em>,</p>\n",
    "where the only elements of <em>R</em> that divide <em>g</em>(<em>x</em>) are units.  Let <em>a<sub>n</sub></em> be the leading coefficient of <em>f</em>(<em>x</em>). \n",
    "Notice that if an element of <em>R</em> divides <em>f</em>(<em>x</em>), then that element must divide <em>a<sub>n</sub></em>. Since <em>R</em> is a UFD, there are only \n",
    "a finite number of primes in the factorization of <em>a<sub>n</sub></em>.  Let us proceed by induction on the number of primes in this factorization.<br><br>\n",
    "\n",
    "If there are no prime elements of <em>R</em> that divide <em>f</em>(<em>x</em>), we can let <em>c</em> = 1 and <em>g</em>(<em>x</em>) = <em>f</em>(<em>x</em>). If \n",
    "there is a prime element of <em>R</em> that divides <em>f</em>(<em>x</em>), we can write\n",
    "<p style='text-align: center;'><em>f</em>(<em>x</em>) = <em>p</em>&middot;<em>h</em>(<em>x</em>),</p>\n",
    "where <em>p</em> is a prime in <em>R</em>, and <em>h</em>(<em>x</em>) is in <em>R</em>[<em>x</em>].  But then the leading coefficient of <em>h</em>(<em>x</em>) will \n",
    "contain one less prime in its prime factorization, so by induction we have\n",
    "<p style='text-align: center;'><em>h</em>(<em>x</em>) = <em>d</em>&middot;<em>g</em>(<em>x</em>),</p>\n",
    "where the only elements of <em>R</em> that divide <em>g</em>(<em>x</em>) are units.  Then we let <em>c</em> = <em>p</em>&middot;<em>d</em>, and\n",
    "<p style='text-align: center;'><em>f</em>(<em>x</em>) = <em>c</em>&middot;<em>g</em>(<em>x</em>).</p>\n",
    "All that is left to show is that <em>g</em>(<em>x</em>) is irreducible in <em>R</em>[<em>x</em>].  Suppose that\n",
    "<p style='text-align: center;'><em>g</em>(<em>x</em>) = <em>r</em>(<em>x</em>)&middot;<em>s</em>(<em>x</em>),</p>\n",
    "where <em>r</em>(<em>x</em>) and <em>s</em>(<em>x</em>) are in <em>R</em>[<em>x</em>].  We then have \n",
    "<p style='text-align: center;'><em>f</em>(<em>x</em>) = <em>c</em>&middot;<em>r</em>(<em>x</em>)&middot;<em>s</em>(<em>x</em>).</p>\n",
    "But there is a field <em>F</em> containing <em>R</em> such that <em>f</em>(<em>x</em>) is irreducible in <em>F</em>[<em>x</em>].  Thus, either <em>r</em>(<em>x</em>) \n",
    "or <em>s</em>(<em>x</em>) are units in <em>F</em>[<em>x</em>], which are constant polynomials.  But we designed <em>g</em>(<em>x</em>) so that the only constants \n",
    "in <em>R</em>[<em>x</em>] that divide <em>g</em>(<em>x</em>) are units of <em>R</em>.  Thus, <em>g</em>(<em>x</em>) is irreducible in <em>R</em>[<em>x</em>].<br><br>\n",
    "\n",
    "<a href=\"#lem124ret\">Return to text</a>"
   ]
  },
  {
   "cell_type": "markdown",
   "id": "dd1bd8",
   "metadata": {
    "collapsed": false
   },
   "source": [
    "<br><br><br><br><br><br><br><br><br><br><br><br><br><br><br><br><br><br><br><br><br><br><br><br><br><br><br><br><br><br><br><br><br><br><br><br><br><br><br><br><br><br>"
   ]
  },
  {
   "cell_type": "markdown",
   "id": "0f4f70",
   "metadata": {
    "collapsed": false
   },
   "source": [
    "<a name=\"lem125\" id=\"lem125\"></a>\n",
    "Proof of Lemma 12.5:<br><br>\n",
    "\n",
    "Suppose that <em>r</em>(<em>x</em>)&middot;<em>s</em>(<em>x</em>) is divisible by <em>g</em>(<em>x</em>) in <em>R</em>[<em>x</em>].  We need to show that \n",
    "either <em>r</em>(<em>x</em>) or <em>s</em>(<em>x</em>) is divisible by <em>g</em>(<em>x</em>) in <em>R</em>[<em>x</em>].  Yet <em>g</em>(<em>x</em>) is irreducible \n",
    "in <em>F</em>[<em>x</em>], which is a UFD since <em>F</em> is a field.  Thus, either <em>r</em>(<em>x</em>) or <em>s</em>(<em>x</em>) <em>is</em> divisible \n",
    "by <em>g</em>(<em>x</em>) in <em>F</em>[<em>x</em>].  Suppose that <em>r</em>(<em>x</em>) is divisible.  Then we have\n",
    "<p style='text-align: center;'><em>r</em>(<em>x</em>) = <em>g</em>(<em>x</em>)&middot;<em>k</em>(<em>x</em>),</p>\n",
    "where <em>k</em>(<em>x</em>) is in <em>F</em>[<em>x</em>].  The coefficients of <em>k</em>(<em>x</em>) are in the quotient field of <em>R</em>, so we may \n",
    "write\n",
    "<p style='text-align: center;'><em>k</em>(<em>x</em>) = <sup><em>a</em></sup>&#8304;&frasl;<sub><em>b</em>&#8320;</sub> + <sup><em>a</em></sup>&sup1;&frasl;<sub><em>b</em>&#8321;</sub> <em>x</em> + \n",
    "<sup><em>a</em></sup>&sup2;&frasl;<sub><em>b</em>&#8322;</sub> <em>x</em><sup>2</sup> + <sup><em>a</em></sup>&sup3;&frasl;<sub><em>b</em>&#8323;</sub> <em>x</em><sup>3</sup> + &#8943; + \n",
    "<em><sup>a</sup>&#8319;</em>&frasl;<em><sub>b&#8345;</sub></em> <em>x<sup>n</sup></em>.</p>\n",
    "Let <em>c</em> be the product of <em>b</em><sub>0</sub>&middot;<em>b</em><sub>1</sub>&middot;<em>b</em><sub>2</sub>&middot;<em>b</em><sub>3</sub> &#8943; \n",
    "<em>b<sub>n</sub></em>.  Then <em>j</em>(<em>x</em>) = <em>c</em>&middot;<em>k</em>(<em>x</em>) is an polynomial in <em>R</em>[<em>x</em>].  Thus we have\n",
    "<p style='text-align: center;'><em>c</em>&middot;<em>r</em>(<em>x</em>) = <em>g</em>(<em>x</em>)&middot;(<em>c</em>&middot;<em>k</em>(<em>x</em>)) = \n",
    "<em>g</em>(<em>x</em>)&middot;<em>j</em>(<em>x</em>),</p>\n",
    "where <em>g</em>(<em>x</em>) and <em>j</em>(<em>x</em>) are in <em>R</em>[<em>x</em>].  As in Lemma 12.4, there will only be a finite number of primes in <em>R</em> which \n",
    "divide all of the coefficients of <em>j</em>(<em>x</em>), so we can factor out these primes and write\n",
    "<p style='text-align: center;'><em>j</em>(<em>x</em>) = <em>d</em>&middot;<em>q</em>(<em>x</em>),</p>\n",
    "where <em>q</em>(<em>x</em>) is not divisible by any prime in <em>R</em>.  Then\n",
    "<p style='text-align: center;'><em>c</em>&middot;<em>r</em>(<em>x</em>) = <em>d</em>&middot;<em>g</em>(<em>x</em>)&middot;<em>q</em>(<em>x</em>),</p>\n",
    "so we can apply Lemma 12.3, since neither <em>g</em>(<em>x</em>) nor <em>q</em>(<em>x</em>) is divisible by a prime of <em>R</em>.  Hence, <em>d</em> is divisible \n",
    "by <em>c</em>, and\n",
    "<p style='text-align: center;'><em>r</em>(<em>x</em>) = <sup><em>d</em></sup>&frasl;<sub><em>c</em></sub>&middot;<em>g</em>(<em>x</em>)&middot;<em>q</em>(<em>x</em>).</p>\n",
    "Therefore, <em>r</em>(<em>x</em>) is divisible by <em>g</em>(<em>x</em>), and hence <em>g</em>(<em>x</em>) is prime in <em>R</em>[<em>x</em>].<br><br>\n",
    "\n",
    "<a href=\"#lem125ret\">Return to text</a>"
   ]
  },
  {
   "cell_type": "markdown",
   "id": "35fe48",
   "metadata": {
    "collapsed": false
   },
   "source": [
    "<br><br><br><br><br><br><br><br><br><br><br><br><br><br><br><br><br><br><br><br><br><br><br><br><br><br><br><br><br><br><br><br><br><br><br><br><br><br><br><br><br><br>"
   ]
  },
  {
   "cell_type": "markdown",
   "id": "f8d542",
   "metadata": {
    "collapsed": false
   },
   "source": [
    "<a name=\"theor123\" id=\"theor123\"></a>\n",
    "Proof of Theorem 12.3:<br><br> \n",
    "\n",
    "First of all, if <em>R</em> is not a UFD, then there is some element <em>c</em> of <em>R</em> that is not expressible as a product of primes.  But then <em>c</em> cannot \n",
    "be expressed as a product of primes in <em>R</em>[<em>x</em>], since such a product must consist of constant polynomials, and this would contradict the fact \n",
    "that <em>c</em> cannot be expressed as a product of primes in <em>R</em>.  Thus, <em>R</em>[<em>x</em>] would not be a UFD.<br><br>\n",
    "\n",
    "Now suppose that <em>R</em> is a UFD.  We need to show that any nonzero polynomial <em>f</em>(<em>x</em>) in <em>R</em>[<em>x</em>] is either a unit, or is expressible as \n",
    "a product of prime polynomials.  If <em>f</em>(<em>x</em>) has degree 0, and is not a unit of <em>R</em>, then since <em>R</em> is a UFD, the \n",
    "constant <em>f</em>(<em>x</em>) can be expressed as a product of primes in <em>R</em>.  By Lemma 12.2, any prime in <em>R</em> is also a prime in \n",
    "<em>R</em>[<em>x</em>].  Thus, if the degree of <em>f</em>(<em>x</em>) is zero, <em>f</em>(<em>x</em>) is either a unit, or can be expressed as a product of primes \n",
    "in <em>R</em>[<em>x</em>].<br><br>\n",
    "\n",
    "Now suppose <em>f</em>(<em>x</em>) has positive degree.  Let <em>F</em> be the field of quotients over <em>R</em>.  Then <em>F</em>[<em>x</em>] is a unique \n",
    "factorization domain by Corollary 12.5.  Thus, we can write\n",
    "<p style='text-align: center;'><em>f</em>(<em>x</em>) = \n",
    "<em>g</em><sub>1</sub>(<em>x</em>)&middot;<em>g</em><sub>2</sub>(<em>x</em>)&middot;<em>g</em><sub>3</sub>(<em>x</em>) &#8943; <em>g<sub>n</sub></em>(<em>x</em>),</p>\n",
    "where each <em>g<sub>i</sub></em>(<em>x</em>) is irreducible in <em>F</em>[<em>x</em>].  For each <em>g<sub>i</sub></em>(<em>x</em>), let <em>c<sub>i</sub></em> be \n",
    "the product of the denominators of all of the coefficients.  Then <em>h<sub>i</sub></em>(<em>x</em>) = <em>c<sub>i</sub></em>&middot;<em>g<sub>i</sub></em>(<em>x</em>) \n",
    "will be in <em>R</em>[<em>x</em>], and we have\n",
    "<p style='text-align: center;'><em>c</em><sub>1</sub>&middot;<em>c</em><sub>2</sub>&middot;<em>c</em><sub>3</sub> &#8943; \n",
    "<em>c<sub>n</sub></em>&middot;<em>f</em>(<em>x</em>) = \n",
    "<em>c</em><sub>1</sub>&middot;<em>g</em><sub>1</sub>(<em>x</em>)&middot;<em>c</em><sub>2</sub>&middot;<em>g</em><sub>2</sub>(<em>x</em>)&middot;<em>c</em><sub>3</sub>&middot;<em>g</em><sub>3</sub>(<em>x</em>) \n",
    "&#8943; <em>c<sub>n</sub></em>&middot;<em>g<sub>n</sub></em>(<em>x</em>) = \n",
    "<em>h</em><sub>1</sub>(<em>x</em>)&middot;<em>h</em><sub>2</sub>(<em>x</em>)&middot;<em>h</em><sub>3</sub>(<em>x</em>) &#8943; <em>h<sub>n</sub></em>(<em>x</em>).</p>\n",
    "Since <em>c<sub>i</sub></em> is a unit in <em>F</em>[<em>x</em>], the <em>h<sub>i</sub></em>(<em>x</em>) will still all be irreducible in <em>F</em>[<em>x</em>].  We \n",
    "can now apply Lemma 12.4 on each of the <em>h<sub>i</sub></em>(<em>x</em>) and find an element <em>d<sub>i</sub></em> in <em>R</em> such that \n",
    "<p style='text-align: center;'><em>h<sub>i</sub></em>(<em>x</em>) = <em>d<sub>i</sub></em>&middot;<em>j<sub>i</sub></em>(<em>x</em>),</p>\n",
    "where the <em>j<sub>i</sub></em>(<em>x</em>) are irreducible in <em>R</em>[<em>x</em>].  By Lemma 12.5, the <em>j<sub>i</sub></em>(<em>x</em>) are prime \n",
    "in <em>R</em>[<em>x</em>].  We now can express\n",
    "<p style='text-align: center;'><em>c</em><sub>1</sub>&middot;<em>c</em><sub>2</sub>&middot;<em>c</em><sub>3</sub> &#8943; \n",
    "<em>c<sub>n</sub></em>&middot;<em>f</em>(<em>x</em>) = \n",
    "<em>d</em><sub>1</sub>&middot;<em>j</em><sub>1</sub>(<em>x</em>)&middot;<em>d</em><sub>2</sub>&middot;<em>j</em><sub>2</sub>(<em>x</em>)&middot;<em>d</em><sub>3</sub>&middot;<em>j</em><sub>3</sub>(<em>x</em>) \n",
    "&#8943; <em>d<sub>n</sub></em>&middot;<em>j<sub>n</sub></em>(<em>x</em>).</p>\n",
    "Let <em>C</em> = <em>c</em><sub>1</sub>&middot;<em>c</em><sub>2</sub>&middot;<em>c</em><sub>3</sub> &#8943; <em>c<sub>n</sub></em> and <em>D</em> = \n",
    "<em>d</em><sub>1</sub>&middot;<em>d</em><sub>2</sub>&middot;<em>d</em><sub>3</sub> &#8943; <em>d<sub>n</sub></em>.  We can then write\n",
    "<p style='text-align: center;'><em>C</em>&middot;<em>f</em>(<em>x</em>) = \n",
    "<em>D</em>&middot;<em>j</em><sub>1</sub>(<em>x</em>)&middot;<em>j</em><sub>2</sub>(<em>x</em>)&middot;<em>j</em><sub>3</sub>(<em>x</em>) &#8943; \n",
    "<em>j<sub>n</sub></em>(<em>x</em>),</p>\n",
    "where <em>C</em> and <em>D</em> are in <em>R</em>, and the <em>j<sub>i</sub></em>(<em>x</em>) are prime polynomials in <em>R</em>[<em>x</em>].  We can now apply \n",
    "Lemma 12.3, which states that <em>D</em> must be a multiple of <em>C</em> in <em>R</em>.  Thus\n",
    "<p style='text-align: center;'><em>f</em>(<em>x</em>) = \n",
    "<sup><em>D</em></sup>&frasl;<sub><em>C</em></sub>&middot;<em>j</em><sub>1</sub>(<em>x</em>)&middot;<em>j</em><sub>2</sub>(<em>x</em>)&middot;<em>j</em><sub>3</sub>(<em>x</em>) &#8943; \n",
    "<em>j<sub>n</sub></em>(<em>x</em>),</p>\n",
    "where <sup><em>D</em></sup>&frasl;<sub><em>C</em></sub> is in <em>R</em>. Since <em>R</em> is a UFD, <sup><em>D</em></sup>&frasl;<sub><em>C</em></sub> can be expressed as \n",
    "a product of primes in <em>R</em>, which by Lemma 12.2 are primes in <em>R</em>[<em>x</em>].  Thus, <em>f</em>(<em>x</em>) can be expressed as a product of primes \n",
    "in <em>R</em>[<em>x</em>], and so by Proposition 12.5, <em>R</em>[<em>x</em>] is a UFD.<br>\n",
    "<br>\n",
    "\n",
    "<a href=\"#theor123ret\">Return to text</a>"
   ]
  },
  {
   "cell_type": "markdown",
   "id": "8463ca",
   "metadata": {
    "collapsed": false
   },
   "source": [
    "<br><br><br><br><br><br><br><br><br><br><br><br><br><br><br><br><br><br><br><br><br><br><br><br><br><br><br><br><br><br><br><br><br><br><br><br><br><br><br><br><br><br>"
   ]
  },
  {
   "cell_type": "markdown",
   "id": "9e1f4c",
   "metadata": {
    "collapsed": false
   },
   "source": [
    "<a name=\"cor126\" id=\"cor126\"></a>\n",
    "Proof of Corollary 12.6:<br><br> \n",
    "\n",
    "We will use induction on <em>n</em>.  If <em>n</em> = 1, the unique factorization domain theorem (12.3) shows that <em>R</em>[<em>x</em>] is a UFD. Otherwise, we \n",
    "write \n",
    "<p style='text-align: center;'><em>R</em>[<em>x</em><sub>1</sub>, <em>x</em><sub>2</sub>, <em>x</em><sub>3</sub>, &hellip; <em>x<sub>n</sub></em>] = \n",
    "<em>R</em>[<em>x</em><sub>1</sub>, <em>x</em><sub>2</sub>, <em>x</em><sub>3</sub>, &hellip; <em>x</em><sub><em>n</em>&minus;1</sub>][<em>x<sub>n</sub></em>].</p>\n",
    "By the induction hypothesis, <em>R</em>[<em>x</em><sub>1</sub>, <em>x</em><sub>2</sub>, <em>x</em><sub>3</sub>, &hellip; <em>x</em><sub><em>n</em>&minus;1</sub>] is a \n",
    "UFD.  So by the unique factorization domain theorem (12.3), \n",
    "<em>R</em>[<em>x</em><sub>1</sub>, <em>x</em><sub>2</sub>, <em>x</em><sub>3</sub>, &hellip; <em>x<sub>n</sub></em>] is also a UFD<em>.</em><br><br>\n",
    "\n",
    "<a href=\"#cor126ret\">Return to text</a>"
   ]
  },
  {
   "cell_type": "markdown",
   "id": "946efb",
   "metadata": {
    "collapsed": false
   },
   "source": [
    "<br><br><br><br><br><br><br><br><br><br><br><br><br><br><br><br><br><br><br><br><br><br><br><br><br><br><br><br><br><br><br><br><br><br><br><br><br><br><br><br><br><br>"
   ]
  },
  {
   "cell_type": "markdown",
   "id": "ade0ba",
   "metadata": {
    "collapsed": false
   },
   "source": [
    "<a name=\"prop126\" id=\"prop126\"></a>\n",
    "Proof of Proposition 12.6:<br><br>\n",
    "\n",
    "Suppose that <em>p</em> is prime.  Then <em>p</em> is neither 0 nor a unit, so &lang;<em>p</em>&rang; cannot be the zero ring.  If &lang;<em>p</em>&rang; = <em>R</em>, \n",
    "then there must be \n",
    "some element of <em>R</em> that makes <em>p</em>&middot;<em>x</em> = 1.  But this is impossible, since <em>p</em> is not a unit.  Thus, &lang;<em>p</em>&rang; would be a \n",
    "nontrivial ideal of <em>R</em>.  Now suppose that <em>x</em>&middot;<em>y</em> is in &lang;<em>p</em>&rang;.  Then there must be some <em>z</em> such \n",
    "that <em>x</em>&middot;<em>y</em> = <em>p</em>&middot;<em>z</em>.  Since <em>p</em> is prime, either <em>x</em> or <em>y</em> is a multiple of <em>p</em>.  So \n",
    "either <em>x</em> or <em>y</em> is in &lang;<em>p</em>&rang;, making &lang;<em>p</em>&rang; a prime ideal.<br><br>\n",
    "\n",
    "Now suppose that &lang;<em>p</em>&rang; is a prime ideal. Then &lang;<em>p</em>&rang; is neither {0} nor <em>R</em>, so <em>p</em> is neither 0 nor a unit.  \n",
    "If <em>x</em>&middot;<em>y</em> is \n",
    "a multiple of <em>p</em>, then <em>x</em>&middot;<em>y</em> would be in &lang;<em>p</em>&rang;.  Since &lang;<em>p</em>&rang; is a prime ideal, \n",
    "either <em>x</em> or <em>y</em> would then \n",
    "be in &lang;<em>p</em>&rang;. But this would indicate that <em>x</em> or <em>y</em> is a multiple of <em>p</em>.  Thus, <em>p</em> is a prime element of <em>R</em>.<br><br>\n",
    "\n",
    "<a href=\"#prop126ret\">Return to text</a>"
   ]
  },
  {
   "cell_type": "markdown",
   "id": "14e839",
   "metadata": {
    "collapsed": false
   },
   "source": [
    "<br><br><br><br><br><br><br><br><br><br><br><br><br><br><br><br><br><br><br><br><br><br><br><br><br><br><br><br><br><br><br><br><br><br><br><br><br><br><br><br><br><br>"
   ]
  },
  {
   "cell_type": "markdown",
   "id": "e0c337",
   "metadata": {
    "collapsed": false
   },
   "source": [
    "<a name=\"prop127\" id=\"prop127\"></a>\n",
    "Proof of Proposition 12.7:<br><br>\n",
    "\n",
    "Assume that <em>P</em> is a prime ideal.  Let us suppose that the product of two elements of <em>R</em>/<em>P</em>, <em>a</em> + <em>P</em> and <em>b</em> + <em>P</em>, is \n",
    "the zero element.  That is,\n",
    "<p style='text-align: center;'>(<em>a</em> + <em>P</em>)&middot;(<em>b</em> + <em>P</em>) = <em>a</em>&middot;<em>b</em> + <em>P</em> = 0 + <em>P</em>.</p>\n",
    "This implies that <em>a</em>&middot;<em>b</em> is in <em>P</em>.  Since <em>P</em> is a prime ideal, either <em>a</em> or <em>b</em> is in <em>P</em>. Thus, either \n",
    "<p style='text-align: center;'><em>a</em> + <em>P</em> = 0 + <em>P</em>&emsp;or&emsp;<em>b</em> + <em>P</em> = 0 + <em>P</em>.</p>\n",
    "Thus, we have shown that <em>R</em>/<em>P</em> has no zero divisors.<br><br>\n",
    "\n",
    "Now suppose that <em>R</em>/<em>P</em> has no zero divisors.  If <em>a</em>&middot;<em>b</em> is in <em>P</em>, then we have the following holding in <em>R</em>/<em>P</em>:\n",
    "<p style='text-align: center;'>(<em>a</em> + <em>P</em>)&middot;(<em>b</em> + <em>P</em>) = <em>a</em>&middot;<em>b</em> + <em>P</em> = 0 + <em>P</em>.</p>\n",
    "Since <em>R</em>/<em>P</em> has no zero divisors, either <em>a</em> + <em>P</em> or <em>b</em> + <em>P</em> must be equal to <em>0</em> + <em>P</em>.  Thus, \n",
    "either <em>a</em> or <em>b</em> is in <em>P</em>, and since <em>P</em> is a nontrivial ideal, <em>P</em> is a prime ideal.<br><br>\n",
    "\n",
    "<a href=\"#prop127ret\">Return to text</a>"
   ]
  },
  {
   "cell_type": "markdown",
   "id": "9c5722",
   "metadata": {
    "collapsed": false
   },
   "source": [
    "<br><br><br><br><br><br><br><br><br><br><br><br><br><br><br><br><br><br><br><br><br><br><br><br><br><br><br><br><br><br><br><br><br><br><br><br><br><br><br><br><br><br>"
   ]
  },
  {
   "cell_type": "markdown",
   "id": "d76b2e",
   "metadata": {
    "collapsed": false
   },
   "source": [
    "<a name=\"lem126\" id=\"lem126\"></a>\n",
    "Proof of Lemma 12.6:<br><br>\n",
    "\n",
    "Since <em>R</em> is an integral domain, it is clear that <em>R</em>/&lang;<em>p</em>&rang; is a commutative ring, and contains the identity \n",
    "element 1 + &lang;<em>p</em>&rang;.  Thus, we have \n",
    "to show that all nonzero elements of <em>R</em>/&lang;<em>p</em>&rang; have an inverse.  Let <em>x</em> + &lang;<em>p</em>&rang; be a nonzero \n",
    "element of <em>R</em>/&lang;<em>p</em>&rang;.  We \n",
    "immediately have that <em>x</em> is not a multiple of <em>p</em>.  Thus, we can consider the ideal generated by both <em>x</em> \n",
    "and <em>p</em>: &lang;{<em>x</em>, <em>p</em>}&rang;.<br><br>\n",
    "\n",
    "Since <em>R</em> is a PID, there is some element <em>d</em> in <em>R</em> such that &lang;{<em>x</em>, <em>p</em>}&rang; = &lang;<em>d</em>&rang;.  Then \n",
    "both <em>x</em> and <em>p</em> would \n",
    "be multiples of <em>d</em>.  But we already observed that <em>x</em> is not a multiple of <em>p</em>, so <em>d</em> cannot be a multiple of <em>p</em>.  But <em>p</em> \n",
    "is irreducible, so <em>d</em> must be a unit. Then &lang;<em>d</em>&rang; = <em>R</em>, and so &lang;{<em>x</em>, <em>p</em>}&rang; = <em>R</em>.  This means that there are \n",
    "elements <em>u</em> and <em>v</em> in <em>R</em> such that\n",
    "<p style='text-align: center;'><em>x</em>&middot;<em>u</em> + <em>p</em>&middot;<em>v</em> = 1.</p>\n",
    "We now claim that <em>u</em> + &lang;<em>p</em>&rang; is our sought-after inverse.  Note that\n",
    "<p style='text-align: center;'>(<em>x</em> + &lang;<em>p</em>&rang;)&middot;(<em>u</em> + &lang;<em>p</em>&rang;) = <em>x</em>&middot;<em>u</em> + &lang;<em>p</em>&rang; = \n",
    "<em>x</em>&middot;<em>u</em> + <em>p</em>&middot;<em>v</em> + &lang;<em>p</em>&rang; = 1 + &lang;<em>p</em>&rang;.</p>\n",
    "Since every nonzero element of <em>R</em>/&lang;<em>p</em>&rang; is invertible, we have that <em>R</em>/&lang;<em>p</em>&rang; is a field.<br><br>\n",
    "\n",
    "<a href=\"#lem126ret\">Return to text</a>"
   ]
  },
  {
   "cell_type": "markdown",
   "id": "6b57d0",
   "metadata": {
    "collapsed": false
   },
   "source": [
    "<br><br><br><br><br><br><br><br><br><br><br><br><br><br><br><br><br><br><br><br><br><br><br><br><br><br><br><br><br><br><br><br><br><br><br><br><br><br><br><br><br><br>"
   ]
  },
  {
   "cell_type": "markdown",
   "id": "fc11b3",
   "metadata": {
    "collapsed": false
   },
   "source": [
    "<a name=\"lem127\" id=\"lem127\"></a>\n",
    "Proof of Lemma 12.7:<br><br>\n",
    "\n",
    "Since we have an infinite sequence of ideals, we can consider taking the union of all of them:\n",
    "<br><br>\n",
    "<table align=\"center\" width=\"160\" border=\"0\" cellspacing=\"0\" cellpadding=\"0\">\n",
    "  <tr>\n",
    "    <td></td>\n",
    "    <td align=\"center\" valign=\"bottom\">&ensp;&ensp;&infin;&ensp;&ensp;</td>\n",
    "    <td></td>\n",
    "  </tr>\n",
    "  <tr>\n",
    "    <td align=\"right\"><em>I</em> = </td>\n",
    "    <td align=\"center\"><font face=\"Times New Roman, Times, serif\" size=\"+4\">&cup;</font></td>\n",
    "    <td align=\"left\"><em>I<sub>n</sub></em>&ensp;&ensp;&ensp;&ensp;</td>\n",
    "  </tr>\n",
    "  <tr>\n",
    "    <td></td>\n",
    "    <td align=\"center\" valign=\"top\"><em>n</em> = 1</td>\n",
    "    <td></td>\n",
    "  </tr>\n",
    "</table>\n",
    "<br>\n",
    "Let us show that <em>I</em> is an ideal of <em>R</em>.  Note that any element of <em>I</em> is in <em>I<sub>k</sub></em> for some integer <em>k</em>.  In fact, if \n",
    "<em>x</em> and <em>y</em> are two elements of <em>I</em>, we can pick the larger of the two values of <em>k</em> to show that <em>x</em> and <em>y</em> are both \n",
    "in <em>I<sub>k</sub></em>.  Then <em>x</em> &plusmn; <em>y</em> is in <em>I<sub>k</sub></em>, since <em>I<sub>k</sub></em> is an ideal. Therefore \n",
    "<em>x</em> &plusmn; <em>y</em> is in <em>I</em>.  This shows that <em>I</em> is a subgroup of <em>R</em> under addition.  Now let <em>z</em> be in <em>R</em>.  Then \n",
    "<em>x</em>&middot;<em>z</em> and <em>z</em>&middot;<em>x</em> are both in <em>I<sub>k</sub></em>, so <em>x</em>&middot;<em>z</em> and <em>z</em>&middot;<em>x</em> are \n",
    "in <em>I</em>.  Therefore, <em>I</em>&middot;<em>R</em> = <em>R</em>&middot;<em>I</em> = <em>I</em>.  This shows that <em>I</em> is an ideal.<br><br>\n",
    "\n",
    "<em></em>Since <em>R</em> is a principal ideal ring, there is some element <em>a</em> in <em>I</em> such that <em>I</em> = &lang;<em>a</em>&rang;.  Then <em>a</em> is \n",
    "in <em>I<sub>m</sub></em> for some <em>m</em>.  But <em>I<sub>m</sub></em> is contained in <em>I</em>, so we must have \n",
    "that <nobr><em>I</em> = <em>I<sub>m</sub></em>.</nobr>  Thus, \n",
    "<em>I<sub>n</sub></em> = <em>I<sub>m</sub></em> for all <em>n</em> &gt; <em>m</em>.<br><br>\n",
    "\n",
    "<a href=\"#lem127ret\">Return to text</a>"
   ]
  },
  {
   "cell_type": "markdown",
   "id": "d5be5d",
   "metadata": {
    "collapsed": false
   },
   "source": [
    "<br><br><br><br><br><br><br><br><br><br><br><br><br><br><br><br><br><br><br><br><br><br><br><br><br><br><br><br><br><br><br><br><br><br><br><br><br><br><br><br><br><br>"
   ]
  },
  {
   "cell_type": "markdown",
   "id": "6f3d48",
   "metadata": {
    "collapsed": false
   },
   "source": [
    "<a name=\"theor124\" id=\"theor124\"></a>\n",
    "Proof of Theorem 12.4:<br><br> \n",
    "\n",
    "Our strategy is to first show that an irreducible element is a prime element, and then show that every element is a finite product of irreducible elements.  Let \n",
    "<em>p</em> be an irreducible element of <em>R</em>, which is a PID.  By Lemma 12.6 <em>R</em>/&lang;<em>p</em>&rang; is a field, so it certainly has no zero divisors.  Thus, \n",
    "by Proposition 12.7, &lang;<em>p</em>&rang; is a prime ideal, so by Proposition 12.6, <em>p</em> is prime.  Let us now show that every non-invertible element of <em>R</em> can \n",
    "be written as a product of irreducible elements.  Suppose this is not true for some element <em>x</em><sub>0</sub>.  Then <em>x</em><sub>0</sub> is not irreducible, so we \n",
    "can find elements <em>x</em><sub>1</sub> and <em>y</em><sub>1</sub> in <em>R</em> such \n",
    "that <em>x</em><sub>1</sub>&middot;<em>y</em><sub>1</sub> = <em>x</em><sub>0</sub>.  But since <em>x</em><sub>0</sub> cannot be expressed as the product of \n",
    "irreduciable elements, the same must be true for either <em>x</em><sub>1</sub> or <em>y</em><sub>1</sub>.  We can assume that <em>x</em><sub>1</sub> cannot be expressed \n",
    "as such a product.<br><br>\n",
    "\n",
    "By induction we can continue this process to form a sequence\n",
    "<p style='text-align: center;'>{<em>x</em><sub>0</sub>, <em>x</em><sub>1</sub>, <em>x</em><sub>2</sub>, <em>x</em><sub>3</sub>, &hellip;}</p>\n",
    "for which each term in the sequence divides the previous term. Then we have an infinite chain of strictly increasing ideals,\n",
    "<p style='text-align: center;'>&lang;<em>x</em><sub>0</sub>&rang; &sub; &lang;<em>x</em><sub>1</sub>&rang; &sub; &lang;<em>x</em><sub>2</sub>&rang; &sub; &lang;<em>x</em><sub>0</sub>&rang; \n",
    "&sub; &#8943;</p>\n",
    "By Lemma 12.7, such an infinite chain of ideals is impossible in a PID.  This contradiction shows that every element of <em>R</em> can be expressed as a product of \n",
    "irreducible elements, which in turn are prime.  By Proposition 12.5, <em>R</em> is a unique factorization domain.<br><br>\n",
    "\n",
    "<a href=\"#theor124ret\">Return to text</a>"
   ]
  },
  {
   "cell_type": "markdown",
   "id": "e5e90c",
   "metadata": {
    "collapsed": false
   },
   "source": [
    "<br><br><br><br><br><br><br><br><br><br><br><br><br><br><br><br><br><br><br><br><br><br><br><br><br><br><br><br><br><br><br><br><br><br><br><br><br><br><br><br><br><br>"
   ]
  },
  {
   "cell_type": "markdown",
   "id": "959066",
   "metadata": {
    "collapsed": false
   },
   "source": [
    "<a name=\"theor125\" id=\"theor125\"></a>\n",
    "Proof of Theorem 12.5:<br><br> \n",
    "\n",
    "Let <em>R</em> be a Euclidean domain, and let <em>&mu;</em>(<em>x</em>) be the valuation.  If <em>I</em> is an ideal, we consider the set\n",
    "<p style='text-align: center;'><em>P</em> = { <em>&mu;</em>(<em>x</em>) | <em>x</em> &isin; <em>I</em>, <em>x</em> &ne; 0}.</p>\n",
    "The set <em>P</em> consists of non-negative integers, so there is a smallest number in <em>P</em>.  Pick an element <em>y</em> in <em>I</em> so \n",
    "that <em>&mu;</em>(<em>y</em>) is the minimal number in <em>P</em>.  Then for any other <em>x</em> in <em>I</em>, we have\n",
    "<p style='text-align: center;'><em>x</em> = <em>y</em>&middot;<em>q</em> + <em>r</em></p>\n",
    "for some <em>q</em> and <em>r</em> in <em>R</em>, with <em>&mu;</em>(<em>r</em>) &lt; <em>&mu;</em>(<em>y</em>).  Then \n",
    "<em>r</em> = <em>x</em> &minus; <em>y</em>&middot;<em>q</em> is in <em>I</em>, but if <em>r</em> \n",
    "were nonzero, then this would contradict the minimality of <em>&mu;</em>(<em>y</em>).  Thus, <em>r</em> = 0, and so <em>x</em> is a multiple of <em>y</em>.  Since this \n",
    "is true for all <em>x</em> in <em>I</em>, we see that <em>I</em> = &lang;<em>y</em>&rang;.  Thus, every ideal of <em>R</em> is a principal ideal, so <em>R</em> is a PID.<br><br>\n",
    "\n",
    "<a href=\"#theor125ret\">Return to text</a>"
   ]
  },
  {
   "cell_type": "markdown",
   "id": "b649a2",
   "metadata": {
    "collapsed": false
   },
   "source": [
    "<br><br><br><br><br><br><br><br><br><br><br><br><br><br><br><br><br><br><br><br><br><br><br><br><br><br><br><br><br><br><br><br><br><br><br><br><br><br><br><br><br><br>"
   ]
  },
  {
   "cell_type": "markdown",
   "id": "623f85",
   "metadata": {
    "collapsed": false
   },
   "source": [
    "<a name=\"cor127\" id=\"cor127\"></a>\n",
    "Proof of Corollary 12.7:<br><br> \n",
    "\n",
    "We have already seen that <em>F</em>[<em>x</em>] is a Euclidean domain whenever <em>F</em> is a field. By the Euclidean domain theorem (12.5), <em>F</em>[<em>x</em>] is \n",
    "a PID.<br><br>\n",
    "\n",
    "<a href=\"#cor127ret\">Return to text</a>"
   ]
  },
  {
   "cell_type": "markdown",
   "id": "730ead",
   "metadata": {
    "collapsed": false
   },
   "source": [
    "<br><br><br><br><br><br><br><br><br><br><br><br><br><br><br><br><br><br><br><br><br><br><br><br><br><br><br><br><br><br><br><br><br><br><br><br><br><br><br><br><br><br>"
   ]
  },
  {
   "cell_type": "markdown",
   "id": "d7fe5b",
   "metadata": {
    "collapsed": false
   },
   "source": [
    "<a name=\"lem128\" id=\"lem128\"></a>\n",
    "Proof of Lemma 12.8:<br><br>\n",
    "\n",
    "1) It is easy to see that <em>N</em>(0) = 0 by definition.  If <em>N</em>(<em>x</em> + <em>y</em>&radic;<font style=\"text-decoration:overline\"><em>n</em></font>) = 0, then\n",
    "<p style='text-align: center;'>(<em>x</em> + <em>y</em>&radic;<font style=\"text-decoration:overline\"><em>n</em></font>)&middot;(<em>x</em> &minus; \n",
    "<em>y</em>&radic;<font style=\"text-decoration:overline\"><em>n</em></font>) = <em>x</em><sup>2</sup> &minus; <em>n</em>&middot;<em>y</em><sup>2</sup> = 0.</p>\n",
    "If <em>y</em> is nonzero, then we find that &radic;<font style=\"text-decoration:overline\"><em>n</em></font> = | <sup><em>x</em></sup>&frasl;<sub><em>y</em></sub> |, which \n",
    "is ridiculous since <em>n</em> is not a perfect square, and so &radic;<font style=\"text-decoration:overline\"><em>n</em></font> is irrational.  Thus, <em>y</em> = 0, and \n",
    "hence <em>x</em> is also 0.  So <em>N</em>(<em>a</em>) = 0 if, and only if, <em>a</em> = 0.<br><br>\n",
    "\n",
    "2) A quick computation shows that if <em>a</em> = <em>x</em><sub>1</sub> + <em>y</em><sub>1</sub>&radic;<font style=\"text-decoration:overline\"><em>n</em></font>, and \n",
    "<em>b</em> = <em>x</em><sub>2</sub> + <em>y</em><sub>2</sub>&radic;<font style=\"text-decoration:overline\"><em>n</em></font>, then\n",
    "<p style='text-align: center;'><em>a</em>&middot;<em>b</em> = (<em>x</em><sub>1</sub> + \n",
    "<em>y</em><sub>1</sub>&radic;<font style=\"text-decoration:overline\"><em>n</em></font>)&middot;(<em>x</em><sub>2</sub> + \n",
    "<em>y</em><sub>2</sub>&radic;<font style=\"text-decoration:overline\"><em>n</em></font>) = (<em>x</em><sub>1</sub>&middot;<em>x</em><sub>2</sub> + \n",
    "<em>y</em><sub>1</sub>&middot;<em>y</em><sub>2</sub>&middot;<em>n</em>) + (<em>x</em><sub>1</sub>&middot;<em>y</em><sub>2</sub> + \n",
    "<em>y</em><sub>1</sub>&middot;<em>x</em><sub>2</sub>)&radic;<font style=\"text-decoration:overline\"><em>n</em></font>.</p>\n",
    "So\n",
    "<p style='text-align: center;'><em>N</em>(<em>a</em>&middot;<em>b</em>) = (<em>x</em><sub>1</sub>&middot;<em>x</em><sub>2</sub> + \n",
    "<em>y</em><sub>1</sub>&middot;<em>y</em><sub>2</sub>&middot;<em>n</em>)<sup>2</sup> &minus; (<em>x</em><sub>1</sub>&middot;<em>y</em><sub>2</sub> + \n",
    "<em>y</em><sub>1</sub>&middot;<em>x</em><sub>2</sub>)<sup>2</sup>&middot;<em>n</em> = <em>x</em><sub>1</sub><sup>2</sup><em>x</em><sub>2</sub><sup>2</sup> + \n",
    "2 <em>x</em><sub>1</sub> <em>x</em><sub>2</sub> <em>y</em><sub>1</sub> <em>y</em><sub>2</sub> <em>n</em> + \n",
    "<em>y</em><sub>1</sub><sup>2</sup><em>y</em><sub>2</sub><sup>2</sup><em>n</em><sup>2</sup> &minus; \n",
    "<em>x</em><sub>1</sub><sup>2</sup><em>y</em><sub>2</sub><sup>2</sup><em>n</em> &minus; \n",
    "2 <em>x</em><sub>1</sub> <em>x</em><sub>2</sub> <em>y</em><sub>1</sub> <em>y</em><sub>2</sub> <em>n</em> &minus;\n",
    "<em>y</em><sub>1</sub><sup>2</sup><em>x</em><sub>2</sub><sup>2</sup><em>n</em><br> = \n",
    "<em>x</em><sub>1</sub><sup>2</sup><em>x</em><sub>2</sub><sup>2</sup> + \n",
    "<em>y</em><sub>1</sub><sup>2</sup><em>y</em><sub>2</sub><sup>2</sup><em>n</em><sup>2</sup> &minus; \n",
    "<em>x</em><sub>1</sub><sup>2</sup><em>y</em><sub>2</sub><sup>2</sup><em>n</em> &minus; \n",
    "<em>y</em><sub>1</sub><sup>2</sup><em>x</em><sub>2</sub><sup>2</sup><em>n</em> = \n",
    "(<em>x</em><sub>1</sub><sup>2</sup> &minus; <em>y</em><sub>1</sub><sup>2</sup> <em>n</em>)&middot;(<em>x</em><sub>2</sub><sup>2</sup> &minus; \n",
    "<em>y</em><sub>2</sub><sup>2</sup> <em>n</em>) = <em>N</em>(<em>a</em>)&middot;<em>N</em>(<em>b</em>).</p>\n",
    "\n",
    "3) This is easy, since &plusmn;1 = &plusmn;1 + 0&radic;<font style=\"text-decoration:overline\"><em>n</em></font>.  So <em>N</em>(&plusmn;1) = \n",
    "(&plusmn;1)<sup>2</sup> &minus; 0&middot;<em>n</em> = 1.<br><br>\n",
    "\n",
    "<a href=\"#lem128ret\">Return to text</a>"
   ]
  },
  {
   "cell_type": "markdown",
   "id": "6b55fe",
   "metadata": {
    "collapsed": false
   },
   "source": [
    "<br><br><br><br><br><br><br><br><br><br><br><br><br><br><br><br><br><br><br><br><br><br><br><br><br><br><br><br><br><br><br><br><br><br><br><br><br><br><br><br><br><br>"
   ]
  },
  {
   "cell_type": "markdown",
   "id": "9251fe",
   "metadata": {
    "collapsed": false
   },
   "source": [
    "<a name=\"cor128\" id=\"cor128\"></a>\n",
    "Proof of Corollary 12.8:<br><br> \n",
    "\n",
    "Since &#8474;[&radic;<font style=\"text-decoration:overline\"><em>n</em></font>] is obviously a commutative ring with an identity, all we need to show is that every \n",
    "nonzero element has an inverse. Let <em>b</em> = <em>x</em> + <em>y</em>&radic;<font style=\"text-decoration:overline\"><em>n</em></font> be a nonzero element.  Then \n",
    "<em>N</em>(<em>b</em>) is nonzero by Lemma 12.8.  Consider the element\n",
    "<table align=\"center\" border=\"0\" cellspacing=\"0\" cellpadding=\"0\">\n",
    "  <tr>\n",
    "    <td rowspan = \"2\" align=\"right\"><em>c</em> =&ensp;</td>\n",
    "    <td align=\"center\" valign=\"bottom\"><em>x</em> &minus; <em>y</em>&radic;<font style=\"text-decoration:overline\"><em>n</em></font></td>\n",
    "    <td rowspan = \"2\" align=\"right\">.</td>\n",
    "  </tr>\n",
    "  <tr>\n",
    "    <td align=\"center\" valign=\"top\"><font style=\"text-decoration:overline\">&emsp;<em>N</em>(<em>b</em>)&emsp;</font></td>\n",
    "  </tr>\n",
    "</table>\n",
    "\n",
    "Then\n",
    "<table align=\"center\" border=\"0\" cellspacing=\"0\" cellpadding=\"0\">\n",
    "  <tr>\n",
    "    <td rowspan = \"2\" align=\"right\"><em>b</em>&middot;<em>c</em> =&ensp;</td>\n",
    "    <td align=\"center\" valign=\"bottom\">(<em>x</em> + \n",
    "<em>y</em>&radic;<font style=\"text-decoration:overline\"><em>n</em></font>)&middot;(<em>x</em> &minus; \n",
    "<em>y</em>&radic;<font style=\"text-decoration:overline\"><em>n</em></font>)</td>\n",
    "    <td rowspan = \"2\" align=\"right\">&ensp;=&ensp;</td>\n",
    "    <td align=\"center\" valign=\"bottom\"><em>N</em>(<em>b</em>)</td>\n",
    "    <td rowspan = \"2\" align=\"right\">&ensp;= 1.</td>\n",
    "  </tr>\n",
    "  <tr>\n",
    "    <td align=\"center\" valign=\"top\"><font style=\"text-decoration:overline\">&ensp;&emsp;&emsp;&emsp;<em>N</em>(<em>b</em>)&emsp;&emsp;&emsp;&ensp;</font></td>\n",
    "    <td align=\"center\" valign=\"top\"><font style=\"text-decoration:overline\"><em>N</em>(<em>b</em>)</font></td>\n",
    "  </tr>\n",
    "</table>\n",
    "<br>\n",
    "So every nonzero element has an inverse.  Thus, &#8474;[&radic;<font style=\"text-decoration:overline\"><em>n</em></font>] is a field.<br><br>\n",
    "\n",
    "<a href=\"#cor128ret\">Return to text</a>"
   ]
  },
  {
   "cell_type": "markdown",
   "id": "8a091b",
   "metadata": {
    "collapsed": false
   },
   "source": [
    "<br><br><br><br><br><br><br><br><br><br><br><br><br><br><br><br><br><br><br><br><br><br><br><br><br><br><br><br><br><br><br><br><br><br><br><br><br><br><br><br><br><br>"
   ]
  },
  {
   "cell_type": "markdown",
   "id": "886403",
   "metadata": {
    "collapsed": false
   },
   "source": [
    "<a name=\"prop128\" id=\"prop128\"></a>\n",
    "Proof of Proposition 12.8:<br><br>\n",
    "\n",
    "Suppose that <em>N</em>(<em>a</em>) = <em>N</em>(<em>x</em> + <em>y</em>&radic;<font style=\"text-decoration:overline\"><em>n</em></font>) = &plusmn;1.  Consider the element\n",
    "<table align=\"center\" border=\"0\" cellspacing=\"0\" cellpadding=\"0\">\n",
    "  <tr>\n",
    "    <td rowspan = \"2\" align=\"right\"><em>b</em> =&ensp;</td>\n",
    "    <td align=\"center\" valign=\"bottom\"><em>x</em> &minus; <em>y</em>&radic;<font style=\"text-decoration:overline\"><em>n</em></font></td>\n",
    "    <td rowspan = \"2\" align=\"right\">.</td>\n",
    "  </tr>\n",
    "  <tr>\n",
    "    <td align=\"center\" valign=\"top\"><font style=\"text-decoration:overline\">&emsp;<em>N</em>(<em>a</em>)&emsp;</font></td>\n",
    "  </tr>\n",
    "</table> \n",
    "Then\n",
    "<table align=\"center\" border=\"0\" cellspacing=\"0\" cellpadding=\"0\">\n",
    "  <tr>\n",
    "    <td rowspan = \"2\" align=\"right\"><em>a</em>&middot;<em>b</em> =&ensp;</td>\n",
    "    <td align=\"center\" valign=\"bottom\">(<em>x</em> + \n",
    "<em>y</em>&radic;<font style=\"text-decoration:overline\"><em>n</em></font>)&middot;(<em>x</em> &minus; \n",
    "<em>y</em>&radic;<font style=\"text-decoration:overline\"><em>n</em></font>)</td>\n",
    "    <td rowspan = \"2\" align=\"right\">&ensp;=&ensp;</td>\n",
    "    <td align=\"center\" valign=\"bottom\"><em>N</em>(<em>a</em>)</td>\n",
    "    <td rowspan = \"2\" align=\"right\">&ensp;= 1.</td>\n",
    "  </tr>\n",
    "  <tr>\n",
    "    <td align=\"center\" valign=\"top\"><font style=\"text-decoration:overline\">&ensp;&emsp;&emsp;&emsp;<em>N</em>(<em>a</em>)&emsp;&emsp;&emsp;&ensp;</font></td>\n",
    "    <td align=\"center\" valign=\"top\"><font style=\"text-decoration:overline\"><em>N</em>(<em>a</em>)</font></td>\n",
    "  </tr>\n",
    "</table>\n",
    "<br> \n",
    "So <em>a</em> has an inverse, and therefore is a unit in &#8484;[&radic;<font style=\"text-decoration:overline\"><em>n</em></font>].<br><br>\n",
    "\n",
    "Now suppose that <em>a</em> is a unit in &#8484;[&radic;<font style=\"text-decoration:overline\"><em>n</em></font>].  Then <em>a</em> has an inverse, <em>a</em><sup>-1</sup>.  Then \n",
    "<p style='text-align: center;'>1 = <em>N</em>(1) = <em>N</em>(<em>a</em>&middot;<em>a</em><sup>-1</sup>) = \n",
    "<em>N</em>(<em>a</em>)&middot;<em>N</em>(<em>a</em><sup>-1</sup>),</p>\n",
    "which shows that <em>N</em>(<em>a</em>) must be <em>&plusmn;</em>1.<br><br>\n",
    "\n",
    "Now suppose that <em>N</em>(<em>a</em>) = <em>p</em>, a prime number in &#8484;, and that <em>a</em> = <em>b</em>&middot;<em>c</em>. Then\n",
    "<p style='text-align: center;'><em>p</em> = <em>N</em>(<em>a</em>) = <em>N</em>(<em>b</em>&middot;<em>c</em>) = <em>N</em>(<em>b</em>)&middot;<em>N</em>(<em>c</em>).</p>\n",
    "Since <em>p</em> is prime, either <em>N</em>(<em>b</em>) or <em>N</em>(<em>c</em>) must be &plusmn;1. So either <em>b</em> or <em>c</em> must be a unit \n",
    "in &#8484;[&radic;<font style=\"text-decoration:overline\"><em>n</em></font>], so <em>a</em> is irreducible \n",
    "in &#8484;[&radic;<font style=\"text-decoration:overline\"><em>n</em></font>].<br><br>\n",
    "\n",
    "<a href=\"#prop128ret\">Return to text</a>"
   ]
  },
  {
   "cell_type": "markdown",
   "id": "c145a3",
   "metadata": {
    "collapsed": false
   },
   "source": [
    "<br><br><br><br><br><br><br><br><br><br><br><br><br><br><br><br><br><br><br><br><br><br><br><br><br><br><br><br><br><br><br><br><br><br><br><br><br><br><br><br><br><br>"
   ]
  },
  {
   "cell_type": "markdown",
   "id": "e2a67c",
   "metadata": {
    "collapsed": false
   },
   "source": [
    "<a name=\"prop129\" id=\"prop129\"></a>\n",
    "Proof of Proposition 12.9:<br><br>\n",
    "\n",
    "Let us work with all four domains at the same time by considering &#8484;[&radic;<font style=\"text-decoration:overline\"><em>n</em></font>] where <em>n</em> = \n",
    "&minus;2, &minus;1, 2, or 3. <br><br>\n",
    "\n",
    "If we let <em>&mu;</em>(<em>x</em>) = |<em>N</em>(<em>x</em>)|, then clearly <em>&mu;</em>(<em>x</em>) is a non-negative integer.  Furthermore, <em>&mu;</em>(<em>x</em>) \n",
    "= 0 only when <em>x</em> = 0.  Thus, if <em>u</em> and <em>v</em> are two elements of &#8484;[&radic;<font style=\"text-decoration:overline\"><em>n</em></font>], then\n",
    "<p style='text-align: center;'><em>&mu;</em>(<em>u</em>&middot;<em>v</em>) = |<em>N</em>(<em>u</em>&middot;<em>v</em>)| = \n",
    "|<em>N</em>(<em>u</em>)|&middot;|<em>N</em>(<em>v</em>)| = <em>&mu;</em>(<em>u</em>)&middot;<em>&mu;</em>(<em>v</em>) &ge; <em>&mu;</em>(<em>u</em>)&middot;1 = \n",
    "<em>&mu;</em>(<em>u</em>).</p>\n",
    "So the first two conditions for the valuation function are easily satisfied.  The last condition is harder to prove.  We need to show that for any <em>x</em> and \n",
    "<em>y</em> in &#8484;[&radic;<font style=\"text-decoration:overline\"><em>n</em></font>], with <em>y</em> nonzero, there are elements <em>q</em> and <em>r</em> such that\n",
    "<p style='text-align: center;'><em>x</em> = <em>q</em>&middot;<em>y</em> + <em>r</em>,</p>\n",
    "with either <em>r</em> = 0, or <em>&mu;</em>(<em>r</em>) &lt; <em>&mu;</em>(<em>y</em>).  We can consider <em>x</em> and <em>y</em> to be \n",
    "in &#8474;[&radic;<font style=\"text-decoration:overline\"><em>n</em></font>] which is a field from Corollary 12.8, so we can compute\n",
    "<p style='text-align: center;'><em>t</em> = <em>x</em>&middot;<em>y</em><sup>-1</sup> = <em>u</em> + \n",
    "<em>v</em>&radic;<font style=\"text-decoration:overline\"><em>n</em></font>.</p>\n",
    "Of course, <em>t</em> will be in &#8474;[&radic;<font style=\"text-decoration:overline\"><em>n</em></font>] instead \n",
    "of &#8484;[&radic;<font style=\"text-decoration:overline\"><em>n</em></font>], so we cannot use this for our <em>q</em>.  However, we can find an element &quot;closest&quot; \n",
    "to <em>t</em> in &#8484;[&radic;<font style=\"text-decoration:overline\"><em>n</em></font>] by finding the integers <em>p</em> and <em>k</em> nearest to <em>u</em> and \n",
    "<em>v</em>.  That is, we will select integers <em>p</em> and <em>k</em> such that<br><br>\n",
    "<table border=0 cellspacing=0 cellpadding=0 width = 100% align=center class=\"equation\"><tr>\n",
    "  <td nowrap >(*)</td>\n",
    "  <td></td>\n",
    "  <td nowrap>| <em>p</em> &minus; <em>u</em> | &le; &frac12;&emsp;and&emsp;| <em>k</em> &minus; <em>v</em> |&le; &frac12;.</td>\n",
    "  <td></td>\n",
    "</tr></table>\n",
    "<br>\n",
    "We now let <em>q</em> = <em>p</em> + <em>k</em>&radic;<font style=\"text-decoration:overline\"><em>n</em></font>, which is \n",
    "in &#8484;[&radic;<font style=\"text-decoration:overline\"><em>n</em></font>].  The remainder <em>r</em> would be given \n",
    "by <em>q</em>&middot;<em>y</em> &minus; <em>x</em>.  All we need to do is show that either <em>r</em> = 0, or \n",
    "<em>&mu;</em>(<em>r</em>) &lt; <em>&mu;</em>(<em>y</em>).<br><br>\n",
    "\n",
    "Now, the norm <em>N</em>(<em>x</em>) is valid on &#8474;[&radic;<font style=\"text-decoration:overline\"><em>n</em></font>], so we can compute\n",
    "<p style='text-align: center;'><em>N</em>(<em>q</em> &minus; <em>t</em>) = \n",
    "<em>N</em>( (<em>p</em> &minus; <em>u</em>) + (<em>k</em> &minus; <em>v</em>)&radic;<font style=\"text-decoration:overline\"><em>n</em></font>) =\n",
    "(<em>p</em> &minus; <em>u</em>)<sup>2</sup> &minus; <em>n</em>(<em>k</em> &minus; <em>v</em>)<sup>2</sup>.</p>\n",
    "By (*), we see that if <em>n</em> &gt; 0, \n",
    "<p style='text-align: center;'>&minus; <sup><em>n</em></sup>&frasl;<sub>4</sub> &le; \n",
    "(<em>p</em> &minus; <em>u</em>)<sup>2</sup> &minus; <em>n</em>(<em>k</em> &minus; <em>v</em>)<sup>2</sup> &le; <sup>1</sup>&frasl;<sub>4</sub>.</p>\n",
    "On the other hand, if <em>n</em> &lt; 0, then\n",
    "<p style='text-align: center;'>0 &le; \n",
    "(<em>p</em> &minus; <em>u</em>)<sup>2</sup> &minus; <em>n</em>(<em>k</em> &minus; <em>v</em>)<sup>2</sup> &le; <sup>(1&minus;<em>n</em>)</sup>&frasl;<sub>4</sub>.</p>\n",
    "Thus, as long as &minus;2 &le; <em>n</em> &le; 3, we have that \n",
    "<p style='text-align: center;'>|<em>N</em>(<em>q</em> &minus; <em>t</em>)| = \n",
    "|(<em>p</em> &minus; <em>u</em>)<sup>2</sup> &minus; <em>n</em>(<em>k</em> &minus; <em>v</em>)<sup>2</sup>| &le; <sup>3</sup>&frasl;<sub>4</sub> < 1.</p>\n",
    "Thus,\n",
    "<p style='text-align: center;'><em>&mu;</em>(<em>r</em>) = |<em>N</em>(<em>r</em>)| = |<em>N</em>(<em>q</em>&middot;<em>y</em> &minus; <em>x</em>)| = \n",
    "|<em>N</em>((<em>q</em> &minus; <em>x</em>&middot;<em>y</em><sup>-1</sup>)&middot;<em>y</em>)| = \n",
    "|<em>N</em>(<em>q</em> &minus; <em>t</em>)|&middot;|<em>N</em>(<em>y</em>)| < |<em>N</em>(<em>y</em>)| = <em>&mu;</em>(<em>y</em>).</p>\n",
    "Therefore, the function <em>&mu;</em>(<em>x</em>) serves as a valuation function on &#8484;[&radic;<font style=\"text-decoration:overline\"><em>n</em></font>], and \n",
    "so &#8484;[&radic;<font style=\"text-decoration:overline\"><em>n</em></font>] is a Euclidean domain for <em>n</em> = &minus;2, &minus;1, 2, and 3.<br><br>\n",
    "\n",
    "<a href=\"#prop129ret\">Return to text</a>"
   ]
  },
  {
   "cell_type": "markdown",
   "id": "682ec8",
   "metadata": {
    "collapsed": false
   },
   "source": [
    "<br><br><br><br><br><br><br><br><br><br><br><br><br><br><br><br><br><br><br><br><br><br><br><br><br><br><br><br><br><br><br><br><br><br><br><br><br><br><br><br><br><br>"
   ]
  },
  {
   "cell_type": "markdown",
   "id": "96e2fc",
   "metadata": {
    "collapsed": false
   },
   "source": [
    "<a name=\"sec12p\" id=\"sec12p\"></a>\n",
    "<h1><em>SageMath</em> Interactive Problems</h1>\n",
    "\n",
    "<br>\n",
    "&sect;12.1 #21)<br>\n",
    "Use the <em>SageMath</em> command <strong>InterpolatingPolynomial</strong> to find a third degree polynomial such that f(<em>n</em>) = <em>n</em>! for \n",
    "<em>n</em> = 1, 2, 3, and 4.  How close is <em>f</em>(5) to 120?<br>"
   ]
  },
  {
   "cell_type": "markdown",
   "id": "312f12",
   "metadata": {
    "collapsed": false
   },
   "source": [
    "<br>\n",
    "&sect;12.1 #22)<br>\n",
    "Use <em>SageMath</em> to to find polynomials <em>s</em>(<em>x</em>) and <em>t</em>(<em>x</em>) in &#8474;[<em>x</em>] such that\n",
    "<p style='text-align: center;'>(<em>x</em><sup>2</sup> + 2 <em>x</em> &minus; 3)&middot;<em>s</em>(<em>x</em>) + (<em>x</em><sup>2</sup> &minus; <em>x</em> + 4)&middot;<em>t</em>(<em>x</em>) = 1.</p>\n",
    "Hint: <strong>xgcd</strong> does not work for polynomials.  Imitate the Euclidean algorithm with <strong>PolynomialQuotient</strong> and <strong>PolynomialRemainder</strong>.<br>"
   ]
  },
  {
   "cell_type": "markdown",
   "id": "0b0b71",
   "metadata": {
    "collapsed": false
   },
   "source": [
    "<br>\n",
    "&sect;12.2 #20)<br>\n",
    "Define the domain &#8484;[&radic;<font style=\"text-decoration:overline\">6</font>] in <em>SageMath</em> as follows:<br>"
   ]
  },
  {
   "cell_type": "code",
   "execution_count": 0,
   "id": "d771e3",
   "metadata": {
    "collapsed": false
   },
   "outputs": [
   ],
   "source": [
    "InitDomain(0)\n",
    "AddFieldVar(\"a\")\n",
    "Define(a^2, 6)"
   ]
  },
  {
   "cell_type": "markdown",
   "id": "9d97c5",
   "metadata": {
    "collapsed": false
   },
   "source": [
    "<br>\n",
    "Show that the element <em>u</em> = 5 + 2 <em>a</em> is a unit by finding its inverse.  Use the element <em>u</em> to find yet another unit \n",
    "of &#8484;[&radic;<font style=\"text-decoration:overline\">6</font>].<br>"
   ]
  },
  {
   "cell_type": "markdown",
   "id": "080ce3",
   "metadata": {
    "collapsed": false
   },
   "source": [
    "<br>\n",
    "&sect;12.2 #21)<br>\n",
    "We can have <em>SageMath</em> explore the domain &#8484;[&#8731;<font style=\"text-decoration:overline\">2</font>]:<br>"
   ]
  },
  {
   "cell_type": "code",
   "execution_count": 0,
   "id": "b95b6d",
   "metadata": {
    "collapsed": false
   },
   "outputs": [
   ],
   "source": [
    "InitDomain(0)\n",
    "AddFieldVar(\"a\")\n",
    "Define(a^3, 2)"
   ]
  },
  {
   "cell_type": "code",
   "execution_count": 0,
   "id": "3d1df1",
   "metadata": {
    "collapsed": false
   },
   "outputs": [
   ],
   "source": [
    "factor(2 + 0*a)"
   ]
  },
  {
   "cell_type": "markdown",
   "id": "e8036e",
   "metadata": {
    "collapsed": false
   },
   "source": [
    "<br>\n",
    "Try factoring other standard prime numbers, to see \n",
    "if they factor in the new domain.  Which standard primes are still primes in this new domain?  Try factoring other elements in the domain to see if you \n",
    "always get a factorization.  Note that trying this experiment on a non-UFD produces an error message. <br>"
   ]
  },
  {
   "cell_type": "markdown",
   "id": "ffafff",
   "metadata": {
    "collapsed": false
   },
   "source": [
    "<br>\n",
    "&sect;12.3 #19)<br>\n",
    "Use <em>SageMath</em> to show that the ring &#8484;[&radic;<font style=\"text-decoration:overline\">6</font>]/&lang;11&rang; has no zero divisors.  Use this to prove that 11 is \n",
    "a prime element &#8484;[&radic;<font style=\"text-decoration:overline\">6</font>].<br>"
   ]
  },
  {
   "cell_type": "markdown",
   "id": "29a69c",
   "metadata": {
    "collapsed": false
   },
   "source": [
    "<br>\n",
    "&sect;12.3 #20)<br>\n",
    "We saw in an example that 3 is not a prime number in &#8484;[&radic;<font style=\"text-decoration:overline\">&minus;5</font>].  Find a prime in the ordinary sense that is \n",
    "also prime in this ring, showing that there are prime elements.  What other primes can you find?<br>"
   ]
  },
  {
   "cell_type": "markdown",
   "id": "c3205e",
   "metadata": {
    "collapsed": false
   },
   "source": [
    "<br>\n",
    "&sect;12.4 #23)<br>\n",
    "Use the <em>SageMath</em> command<br>"
   ]
  },
  {
   "cell_type": "code",
   "execution_count": 0,
   "id": "fdaa23",
   "metadata": {
    "collapsed": false
   },
   "outputs": [
   ],
   "source": [
    "InitDomain(0)\n",
    "AddFieldVar(\"i\")\n",
    "Define(i^2, -1)"
   ]
  },
  {
   "cell_type": "code",
   "execution_count": 0,
   "id": "240b8a",
   "metadata": {
    "collapsed": false
   },
   "outputs": [
   ],
   "source": [
    "factor(2 + 0*i)"
   ]
  },
  {
   "cell_type": "markdown",
   "id": "31385f",
   "metadata": {
    "collapsed": false
   },
   "source": [
    "<br>\n",
    "to determine whether 2 is prime in the domain &#8484;[<em>i</em>].  Try this using the numbers 3, 5, 7, 11, 13, 19, 23, 29, and 31 in place of 2.  Which of these numbers \n",
    "are prime in the domain &#8484;[<em>i</em>]?<br>"
   ]
  },
  {
   "cell_type": "markdown",
   "id": "e4474f",
   "metadata": {
    "collapsed": false
   },
   "source": [
    "<br>\n",
    "&sect;12.4 #24)<br>\n",
    "We saw that &#8484;[&radic;<font style=\"text-decoration:overline\">2</font>] is a Euclidean domain, and that 3 is prime.  \n",
    "What other primes in the ordinary sense are prime in this ring?<br>"
   ]
  },
  {
   "cell_type": "markdown",
   "id": "022ea7",
   "metadata": {
    "collapsed": false
   },
   "source": [
    "</font>\n",
    "\n",
    "</body>\n",
    "\n",
    "</html>"
   ]
  }
 ],
 "metadata": {
  "kernelspec": {
   "argv": [
    "sage-10.0",
    "--python",
    "-m",
    "sage.repl.ipython_kernel",
    "--matplotlib=inline",
    "-f",
    "{connection_file}"
   ],
   "display_name": "SageMath 10.0",
   "env": {
   },
   "language": "sagemath",
   "metadata": {
    "cocalc": {
     "description": "Open-source mathematical software system",
     "priority": 10,
     "url": "https://www.sagemath.org/"
    }
   },
   "name": "sage-10.0",
   "resource_dir": "/ext/jupyter/kernels/sage-10.0"
  },
  "language_info": {
   "codemirror_mode": {
    "name": "ipython",
    "version": 3
   },
   "file_extension": ".py",
   "mimetype": "text/x-python",
   "name": "python",
   "nbconvert_exporter": "python",
   "pygments_lexer": "ipython3",
   "version": "3.7.10"
  }
 },
 "nbformat": 4,
 "nbformat_minor": 4
}