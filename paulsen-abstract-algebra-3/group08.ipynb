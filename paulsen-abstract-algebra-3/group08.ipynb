{
 "cells": [
  {
   "cell_type": "markdown",
   "id": "049e8e",
   "metadata": {
    "collapsed": false
   },
   "source": [
    "<!-- Group08 -->\n",
    "\n",
    "<html>\n",
    "<body>\n",
    "\n",
    "<!-- To make the size of the font bigger for presentations, change the following command from +1 to +2 -->\n",
    "\n",
    "<font size=\"+1\">\n",
    "\n",
    "<p style='font-size: 36px;font-family: Arial;font-style: italic;font-weight: bold;color: #FF00FF;background-color: #80FFFF;text-align: center;'>\n",
    "Abstract Algebra: An Interactive Approach, 3e\n",
    "</p>\n",
    "\n",
    "<p style='font-family: Geneva;font-style: italic;color: #0000FF;background-color: #FFFFFF;'>\n",
    "This notebook is provided with the textbook, &quot;Abstract Algebra: An Interactive Approach, 3rd Ed.&quot; by William Paulsen. Users of this notebook are encouraged to buy the textbook.\n",
    "</p>\n",
    "\n",
    "<p style='font-size: 36px;font-family: New York;font-weight: bold;color: #000000;background-color: #FFFFFF;text-align: center;border: 1px;border-style: \n",
    "solid;border-color: #000000;'>\n",
    "Chapter 8 : The Search for Normal Subgroups\n",
    "</p>\n",
    "\n",
    "<p style='text-align: center;'>Initialization:  This cell MUST be evaluated first:</p>\n",
    "\n"
   ]
  },
  {
   "cell_type": "code",
   "execution_count": 0,
   "id": "fe12ec",
   "metadata": {
    "collapsed": false
   },
   "outputs": [
   ],
   "source": [
    "load('absalgtext2.sage')"
   ]
  },
  {
   "cell_type": "markdown",
   "id": "b5fc78",
   "metadata": {
    "collapsed": false
   },
   "source": [
    "<br>\n",
    "<a href=\"#sec81\">The Center of a Group</a><br>\n",
    "<a href=\"#sec82\">The Normalizer and Normal Closure Subgroups</a><br>\n",
    "<a href=\"#sec83\">Conjugacy Classes and Simple Groups</a><br>\n",
    "<a href=\"#sec84\">Subnormal Series and the Jordan-H&ouml;lder Theorem</a><br>\n",
    "<a href=\"#sec85\">Solving the Pyraminx&trade;</a><br>\n",
    "<a href=\"#sec8p\"><em>SageMath</em> Interactive Problems</a><br>"
   ]
  },
  {
   "cell_type": "markdown",
   "id": "d6c0c1",
   "metadata": {
    "collapsed": false
   },
   "source": [
    "<a name=\"sec81\" id=\"sec81\"></a>\n",
    "<h1>The Center of a Group</h1>\n",
    "\n",
    "<br>\n",
    "We saw several instances in the last chapter in which the structure of a group hinges on its normal subgroups.  For example, in the last section we saw that if a \n",
    "group <em>G</em> has a normal subgroup <em>N</em>, and if there is one other group <em>H</em> such that <em>G</em> = \n",
    "<em>H</em>&middot;<em>N</em> and <em>H</em> &cap; <em>N</em> = {<em>e</em>}, then <em>G</em> is either a direct product <em>H</em> &times; <em>N</em>, or a semi-direct product \n",
    "of <em>N</em> with <em>H</em>. <br><br>\n",
    "\n",
    "Because of the special importance of normal subgroups, we will want to develop techniques for finding <em>all</em> of the normal subgroups of a given \n",
    "group <em>G</em>.  We will discover in the process that some of the normal groups have additional properties.<br><br>\n",
    "\n",
    "Since every subgroup of an abelian group is automatically a normal subgroup we will concentrate our attention in this chapter to non-abelian groups.  Consider, for \n",
    "example, the dihedral group <em>D</em><sub>4</sub>.  We can define this group using <em>a</em> and <em>b</em> as generators.<br>"
   ]
  },
  {
   "cell_type": "code",
   "execution_count": 0,
   "id": "c2abcc",
   "metadata": {
    "collapsed": false
   },
   "outputs": [
   ],
   "source": [
    "InitGroup(\"e\")\n",
    "AddGroupVar(\"a\", \"b\")\n",
    "Define(a^4, e)\n",
    "Define(b^2, e)\n",
    "Define(b*a, a^3*b)\n",
    "D4 = Group(); D4"
   ]
  },
  {
   "cell_type": "code",
   "execution_count": 0,
   "id": "fb383b",
   "metadata": {
    "collapsed": false
   },
   "outputs": [
   ],
   "source": [
    "CayleyTable(D4)"
   ]
  },
  {
   "cell_type": "markdown",
   "id": "c11094",
   "metadata": {
    "collapsed": false
   },
   "source": [
    "<br>\n",
    "Recall that there are 5 elements of order 2 in this group, but one of these, \n",
    "namely <em>a</em><sup>2</sup>, has another important property in the Cayley table.  Look at the \n",
    "pattern of all of the yellow and cyan squares in the table.  (Yellow and \n",
    "cyan squares correspond to <em>e</em> and <em>a</em><sup>2</sup>.)  These two colors, considered alone, form a symmetrical pattern reflected along the main diagonal,  even though \n",
    "the entire table is not symmetric.  We could interpret this by saying that whenever <em>x</em>&middot;<em>y</em> = <em>a</em><sup>2</sup> in <em>D</em><sub>4</sub>, then \n",
    "<em>y</em>&middot;<em>x</em> is also <em>a</em><sup>2</sup>.  Thus, \n",
    "<p style='text-align: center;'><em>y</em> = <em>x</em><sup>-1</sup>&middot;<em>a</em><sup>2</sup> = <em>a</em><sup>2</sup>&middot;<em>x</em><sup>-1</sup></p> \n",
    "for all elements <em>x</em>.  In order for this to happen, <em>a</em><sup>2</sup> must commute with <em>all</em> of the elements in <em>D</em><sub>4</sub>.  We can see this \n",
    "using <em>SageMath</em>.  For example, compute<br>"
   ]
  },
  {
   "cell_type": "code",
   "execution_count": 0,
   "id": "d3677f",
   "metadata": {
    "collapsed": false
   },
   "outputs": [
   ],
   "source": [
    "[ x * a^2 == a^2 * x for x in D4 ]"
   ]
  },
  {
   "cell_type": "markdown",
   "id": "e6b48e",
   "metadata": {
    "collapsed": false
   },
   "source": [
    "<br>\n",
    "Since this returned all true statements, we see that every element in <em>D</em><sub>4</sub> commutes \n",
    "with <em>a</em><sup>2</sup>.<br><br>\n",
    "\n",
    "Whenever we have a non-commutative group, we want to identify all such elements.  Thus, we make the following definition.<br><br>\n",
    "\n",
    "DEFINITION 8.1<br>\n",
    "Given a group <em>G</em>, the <em>center</em> of <em>G</em> is defined to be the set of elements <em>x</em> for \n",
    "which <em>x</em>&middot;<em>y</em> = <em>y</em>&middot;<em>x</em> for all elements <em>y</em> &isin; <em>G</em>.  The center of a group <em>G</em> is customary \n",
    "denoted <em>Z</em>(<em>G</em>) because of the German word for center, <em>zentrum</em>.<br><br>\n",
    "\n",
    "We then have the following easy proposition:"
   ]
  },
  {
   "cell_type": "markdown",
   "id": "39cf33",
   "metadata": {
    "collapsed": false
   },
   "source": [
    "<a name=\"prop81ret\" id=\"prop81ret\"></a>\n",
    "PROPOSITION 8.1<br>\n",
    "\n",
    "Given a group <em>G</em>, then <em>Z</em>(<em>G</em>) is a normal subgroup of <em>G</em>.<br><br>\n",
    "\n",
    "<a href=\"#prop81\">Click here for the proof.</a>\n",
    "\n",
    "<p />\n",
    "We use the command <strong>GroupCenter(G)</strong> to find the center of a group in <em>SageMath</em>.  For example, the center of the <em>D</em><sub>4</sub> group is<br>"
   ]
  },
  {
   "cell_type": "code",
   "execution_count": 0,
   "id": "8f55b3",
   "metadata": {
    "collapsed": false
   },
   "outputs": [
   ],
   "source": [
    "Z = GroupCenter(D4); Z"
   ]
  },
  {
   "cell_type": "markdown",
   "id": "5b1326",
   "metadata": {
    "collapsed": false
   },
   "source": [
    "<br>\n",
    "So <em>Z</em>(<em>D</em><sub>4</sub>) consists just of the identity and <em>a</em><sup>2</sup>.  To verify that this is indeed a normal subgroup, let us look at the left and \n",
    "right cosets.<br>"
   ]
  },
  {
   "cell_type": "code",
   "execution_count": 0,
   "id": "6e1a29",
   "metadata": {
    "collapsed": false
   },
   "outputs": [
   ],
   "source": [
    "LftCoset(D4, Z)"
   ]
  },
  {
   "cell_type": "code",
   "execution_count": 0,
   "id": "6922d5",
   "metadata": {
    "collapsed": false
   },
   "outputs": [
   ],
   "source": [
    "RtCoset(D4, Z)"
   ]
  },
  {
   "cell_type": "markdown",
   "id": "ee5457",
   "metadata": {
    "collapsed": false
   },
   "source": [
    "<br>\n",
    "So these are the same, which demonstrates the fact that <em>Z</em>(<em>D</em><sub>4</sub>) is indeed normal.<br><br>\n",
    "\n",
    "Sometimes the center of a group consists of just the identity element.  For example, consider the symmetric group <em>S</em><sub>3</sub>:<br>"
   ]
  },
  {
   "cell_type": "code",
   "execution_count": 0,
   "id": "e6d38f",
   "metadata": {
    "collapsed": false
   },
   "outputs": [
   ],
   "source": [
    "InitGroup(\"e\")\n",
    "AddGroupVar(\"a\",\"b\")\n",
    "Define(a^2, e)\n",
    "Define(b^3, e)\n",
    "Define(b*a, a*b*b)\n",
    "S3 = Group(); S3"
   ]
  },
  {
   "cell_type": "markdown",
   "id": "c7be07",
   "metadata": {
    "collapsed": false
   },
   "source": [
    "<br>\n",
    "The center of this group is<br>"
   ]
  },
  {
   "cell_type": "code",
   "execution_count": 0,
   "id": "e35759",
   "metadata": {
    "collapsed": false
   },
   "outputs": [
   ],
   "source": [
    "GroupCenter(S3)"
   ]
  },
  {
   "cell_type": "markdown",
   "id": "33af25",
   "metadata": {
    "collapsed": false
   },
   "source": [
    "<br>\n",
    "So the center of <em>S</em><sub>3</sub> is just {<em>e</em>}.<br><br>\n",
    "\n",
    "Whenever the center is just the identity element, we say that the group is <em>centerless</em>.  Of course this is a normal \n",
    "subgroup, but it hampers our efforts in finding proper normal subgroups.  In fact, this will happen for all of the permutation groups larger \n",
    "than <em>S</em><sub>3</sub>.  Since the proof involves an even permutation, we end up finding the center of <em>A<sub>n</sub></em> at the same time."
   ]
  },
  {
   "cell_type": "markdown",
   "id": "799998",
   "metadata": {
    "collapsed": false
   },
   "source": [
    "<a name=\"prop82ret\" id=\"prop82ret\"></a>\n",
    "PROPOSITION 8.2<br>\n",
    "\n",
    "If <em>n</em> &gt; <em>3</em>, then the groups <em>S<sub>n</sub></em> and <em>A<sub>n</sub></em> are centerless.<br><br> \n",
    "\n",
    "<a href=\"#prop82\">Click here for the proof.</a>\n",
    "\n",
    "<p />\n",
    "The other extreme is if <em>Z</em>(<em>G</em>) is the entire group <em>G</em>.  In this case every element of <em>G</em> must commute with all other elements \n",
    "of <em>G</em>, so this happens if, and only if, the group <em>G</em> is abelian.<br><br>\n",
    "\n",
    "Since <em>Z</em>(<em>G</em>) is a normal subgroup of <em>G</em>, what is the quotient group?  The answer is rather surprising."
   ]
  },
  {
   "cell_type": "markdown",
   "id": "e1ee7b",
   "metadata": {
    "collapsed": false
   },
   "source": [
    "<a name=\"prop83ret\" id=\"prop83ret\"></a>\n",
    "PROPOSITION 8.3<br>\n",
    "\n",
    "If <em>G</em> is a group, then <em>G</em>/<em>Z</em>(<em>G</em>) &asymp; Inn(<em>G</em>).<br><br>\n",
    "\n",
    "<a href=\"#prop83\">Click here for the proof.</a>\n",
    "\n",
    "<p />\n",
    "The center of a group possesses a characteristic that is even stronger than that of a normal subgroup.  To illustrate this characteristic, consider the next \n",
    "proposition."
   ]
  },
  {
   "cell_type": "markdown",
   "id": "11d75f",
   "metadata": {
    "collapsed": false
   },
   "source": [
    "<a name=\"prop84ret\" id=\"prop84ret\"></a>\n",
    "PROPOSITION 8.4<br>\n",
    "\n",
    "Let <em>N</em> be a normal subgroup of a group <em>G</em>.  Then <em>Z</em>(<em>N</em>) is a normal subgroup not only of <em>N</em> but of <em>G</em>.<br><br>\n",
    "\n",
    "<a href=\"#prop84\">Click here for the proof.</a>\n",
    "\n",
    "<p />\n",
    "This proposition demonstrates a very unusual property of a center of a group since, in general, the normal subgroup of a normal subgroup is not a normal subgroup.  To \n",
    "give an example, consider the octahedronal group.<br>"
   ]
  },
  {
   "cell_type": "code",
   "execution_count": 0,
   "id": "b11f2b",
   "metadata": {
    "collapsed": false
   },
   "outputs": [
   ],
   "source": [
    "S4 = Group( C(1,2), C(1,2,3), C(1,2,3,4) )"
   ]
  },
  {
   "cell_type": "markdown",
   "id": "e3227c",
   "metadata": {
    "collapsed": false
   },
   "source": [
    "<br>\n",
    "We have found a normal subgroup of order 4, namely<br>"
   ]
  },
  {
   "cell_type": "code",
   "execution_count": 0,
   "id": "9d801c",
   "metadata": {
    "collapsed": false
   },
   "outputs": [
   ],
   "source": [
    "M = Group( C(1,2)*C(3,4), C(1,3)*C(2,4) ); M"
   ]
  },
  {
   "cell_type": "markdown",
   "id": "ed563d",
   "metadata": {
    "collapsed": false
   },
   "source": [
    "<br>\n",
    "Now we can find a normal subgroup of <em>M</em>.  (In fact, since <em>M</em> is abelian, any subgroup of <em>M</em> is a normal subgroup.)  For example, let us pick \n",
    "the subgroup<br>"
   ]
  },
  {
   "cell_type": "code",
   "execution_count": 0,
   "id": "35e8a3",
   "metadata": {
    "collapsed": false
   },
   "outputs": [
   ],
   "source": [
    "H = Group(C(1,2)*C(3,4)); H"
   ]
  },
  {
   "cell_type": "markdown",
   "id": "513c10",
   "metadata": {
    "collapsed": false
   },
   "source": [
    "<br>\n",
    "Now <em>H</em> is a normal subgroup of <em>M</em>, and <em>M</em> is a normal subgroup of <em>G</em>.  But when we compare<br>"
   ]
  },
  {
   "cell_type": "code",
   "execution_count": 0,
   "id": "de7d80",
   "metadata": {
    "collapsed": false
   },
   "outputs": [
   ],
   "source": [
    "LftCoset(S4, H)"
   ]
  },
  {
   "cell_type": "markdown",
   "id": "d1b59f",
   "metadata": {
    "collapsed": false
   },
   "source": [
    "<br>\n",
    "with<br>"
   ]
  },
  {
   "cell_type": "code",
   "execution_count": 0,
   "id": "7869ef",
   "metadata": {
    "collapsed": false
   },
   "outputs": [
   ],
   "source": [
    "RtCoset(S4, H)"
   ]
  },
  {
   "cell_type": "markdown",
   "id": "a37af3",
   "metadata": {
    "collapsed": false
   },
   "source": [
    "<br>\n",
    "we see that <em>H</em> is not a normal subgroup of <em>G</em>.  Thus, a normal subgroup of a normal subgroup is not necessarily normal.<br><br>\n",
    "\n",
    "Contrast this situation to the center of a group.  Here, we found that the \n",
    "center <em>Z</em>(<em>N</em>) is a normal subgroup of <em>G</em>, even \n",
    "though <em>Z</em>(<em>N</em>) contains no information about <em>G</em>.  Proposition 8.4 tells us that for any group that contains <em>N</em> as a normal subgroup, <em>Z</em>(<em>N</em>) will be a normal subgroup.<br><br> "
   ]
  },
  {
   "cell_type": "markdown",
   "id": "ee3c1d",
   "metadata": {
    "collapsed": false
   },
   "source": [
    "<a name=\"sec82\" id=\"sec82\"></a>\n",
    "<h1>The Normalizer and Normal Closure Subgroups</h1>\n",
    "\n",
    "<br>\n",
    "In the last section, we found a subgroup of <em>N</em> that was not only normal but also was normal in any group <em>G</em> for which <em>N</em> was a normal \n",
    "subgroup.  In this section, we will essentially turn the question around: Given a subgroup <em>H</em> of <em>G</em>, can we find a subgroup <em>N</em> of <em>G</em> for \n",
    "which <em>H</em> lies inside of <em>N</em> as a normal subgroup?<br><br>\n",
    "\n",
    "We answer this question by defining the <em>normalizer</em> of a group <em>H</em> in <em>G</em>.<br><br>\n",
    "\n",
    "DEFINITION 8.2<br>\n",
    "Let <em>S</em> be a <em>subset</em> of a group <em>G</em>.  We define the <em>normalizer</em> of <em>S</em> by <em>G</em>, denoted <em>N<sub>G</sub></em>(<em>S</em>), to \n",
    "be the set\n",
    "<p style='text-align: center;'><em>N<sub>G</sub></em>(<em>S</em>) = { <em>g</em> &isin; <em>G</em> | <em>g</em>&middot;<em>S</em>&middot;<em>g</em><sup>-1</sup> = \n",
    "<em>S</em> }.</p>\n",
    "Notice that this definition allows for <em>S</em> to be merely a <em>subset</em> of <em>G</em>, not necessarily a subgroup.  We will later find uses for having a \n",
    "more generalized definition.  For now, let us show that the normalizer has some of the properties that we are looking for."
   ]
  },
  {
   "cell_type": "markdown",
   "id": "912939",
   "metadata": {
    "collapsed": false
   },
   "source": [
    "<a name=\"prop85ret\" id=\"prop85ret\"></a>\n",
    "PROPOSITION 8.5<br>\n",
    "\n",
    "Let <em>S</em> be a subset of the group <em>G</em>.  Then <em>N<sub>G</sub></em>(<em>S</em>) is a subgroup of <em>G</em>.<br><br>\n",
    "\n",
    "<a href=\"#prop85\">Click here for the proof.</a>\n",
    "\n",
    "<p />\n",
    "\n",
    "EXAMPLE:<br>\n",
    "Consider the group <em>Q</em> = {1, <em>i</em>, <em>j</em>, <em>k</em>, &minus;1, &minus;<em>i</em>, &minus;<em>j</em>, &minus;<em>k</em>}.  Find the normalizer of the single element { <em>i</em> }.<br><br>\n",
    "\n",
    "We want to find the elements such that <em>g</em>&middot;<em>i</em>&middot;<em>g</em><sup>-1</sup> = <em>i</em>, which clearly contains <em>i</em>.  Since we know \n",
    "from Proposition 8.5 that the normalizer is a subgroup, {1, <em>i</em>, &minus;1, &minus;<em>i</em>} is in the normalizer.  But <em>j</em> is not in the normalizer, \n",
    "so <em>N<sub>G</sub></em>({<em>i</em>}) = {1, <em>i</em>, &minus;1, &minus;<em>i</em>}.<br><br>\n",
    "\n",
    "If, in addition, <em>S</em> is a subgroup of <em>G</em>, then the normalizer lives up to its name."
   ]
  },
  {
   "cell_type": "markdown",
   "id": "75c224",
   "metadata": {
    "collapsed": false
   },
   "source": [
    "<a name=\"prop86ret\" id=\"prop86ret\"></a>\n",
    "PROPOSITION 8.6<br>\n",
    "\n",
    "Let <em>H</em> be a subgroup of the group <em>G</em>.  Then <em>N<sub>G</sub></em>(<em>H</em>) is the largest subgroup of <em>G</em> that contains <em>H</em> as a \n",
    "normal subgroup.<br><br>\n",
    "\n",
    "<a href=\"#prop86\">Click here for the proof.</a>\n",
    "\n",
    "<p />\n",
    "\n",
    "EXAMPLE:<br>\n",
    "Find the normalizer of the subgroup [ <em>i</em> ] = {1, <em>i</em>, &minus;1, &minus;<em>i</em>} of <em>Q</em>.<br><br>\n",
    "\n",
    "Since this is a normal subgroup of <em>Q</em>, the normalizer is all of <em>Q</em>, since it is the largest group for which [ <em>i</em> ] is normal.  \n",
    "In general, the normalizer of a normal subgroup by <em>G</em> will produce the whole group <em>G</em>.<br><br>\n",
    "\n",
    "The <em>SageMath</em> command for finding the normalizer <em>N<sub>G</sub></em>(<em>H</em>) of the set <em>H</em> in <em>G</em> is given by <strong>Normalizer(G, H)</strong>.\n",
    "We can redo the last two examples using <em>SageMath</em>. Let us reload the group <em>Q</em>.<br>"
   ]
  },
  {
   "cell_type": "code",
   "execution_count": 0,
   "id": "225786",
   "metadata": {
    "collapsed": false
   },
   "outputs": [
   ],
   "source": [
    "Q = InitQuaternions(); Q"
   ]
  },
  {
   "cell_type": "markdown",
   "id": "985ae6",
   "metadata": {
    "collapsed": false
   },
   "source": [
    "<br>\n",
    "To find <em>N<sub>G</sub></em>({<em>i</em>}) in <em>SageMath</em> we would enter:<br>"
   ]
  },
  {
   "cell_type": "code",
   "execution_count": 0,
   "id": "633bc4",
   "metadata": {
    "collapsed": false
   },
   "outputs": [
   ],
   "source": [
    "H = Normalizer(Q, i); H"
   ]
  },
  {
   "cell_type": "markdown",
   "id": "7488e3",
   "metadata": {
    "collapsed": false
   },
   "source": [
    "<br>\n",
    "Note that if the set is a single element, we do not have to enclose the element in brackets.  Likewise, to find <em>N<sub>G</sub></em>([<em>i</em>]), we note that <em>H</em> = [ <em>i</em> ], and enter<br>"
   ]
  },
  {
   "cell_type": "code",
   "execution_count": 0,
   "id": "cc1696",
   "metadata": {
    "collapsed": false
   },
   "outputs": [
   ],
   "source": [
    "Normalizer(Q, H)"
   ]
  },
  {
   "cell_type": "markdown",
   "id": "64ebf7",
   "metadata": {
    "collapsed": false
   },
   "source": [
    "<br>\n",
    "This gives us the entire group <em>Q</em>.  Let us try the normalizer of another element.  Since we often want to find the normalizer of a single element, \n",
    "<em>SageMath</em> allows us to enter the single element without putting it in a list.<br>"
   ]
  },
  {
   "cell_type": "code",
   "execution_count": 0,
   "id": "fda679",
   "metadata": {
    "collapsed": false
   },
   "outputs": [
   ],
   "source": [
    "Normalizer(Q, j)"
   ]
  },
  {
   "cell_type": "markdown",
   "id": "fb37f1",
   "metadata": {
    "collapsed": false
   },
   "source": [
    "<br>\n",
    "This time we get the subgroup generated by <em>j</em>.  What if we tried the subset containing both <em>i</em> and <em>j</em>?<br>"
   ]
  },
  {
   "cell_type": "code",
   "execution_count": 0,
   "id": "28340d",
   "metadata": {
    "collapsed": false
   },
   "outputs": [
   ],
   "source": [
    "Normalizer(Q, [i, j])"
   ]
  },
  {
   "cell_type": "markdown",
   "id": "899df8",
   "metadata": {
    "collapsed": false
   },
   "source": [
    "<br>\n",
    "What happened this time?  The normalizer doesn't contain either <em>i</em> or <em>j</em>!  When <em>H</em> is a <em>subgroup</em> we can say that the normalizer \n",
    "of <em>H</em> by <em>G</em> will contain <em>H</em>.  In general though, all we can say is that the normalizer will be a subgroup, which this example \n",
    "illustrates.<br><br>\n",
    "\n",
    "There is one other case in which we can say that the normalizer will contain <em>H</em>.  Notice that in the two examples we did where <em>H</em> was a single element, \n",
    "the normalizer contained that element.  In fact, <em>N<sub>G</sub></em>({<em>g</em>}) will consist of all elements of <em>G</em> that commute with <em>g</em>.  It should \n",
    "be noted that <em>N<sub>G</sub></em>({<em>g</em>}) is not the same thing as <em>N<sub>G</sub></em>([<em>g</em>]), the normalizer of the group generated \n",
    "by <em>g</em>.  The former is the set of elements which commute with <em>g</em>, and the latter is the largest subgroup which contains [<em>g</em>] as a normal \n",
    "subgroup.<br><br>\n",
    "\n",
    "We have seen that the normalizer of a subgroup <em>H</em> by <em>G</em> finds the largest subgroup of <em>G</em> that contains <em>H</em> as a normal subgroup.  We could \n",
    "turn the question around and ask for the <em>smallest</em> subgroup containing <em>H</em> that is a normal subgroup of <em>G</em>.  In this case, it does not matter \n",
    "whether <em>H</em> is a subgroup or just a subset, the answer is given in the following proposition."
   ]
  },
  {
   "cell_type": "markdown",
   "id": "88a8be",
   "metadata": {
    "collapsed": false
   },
   "source": [
    "<a name=\"prop87ret\" id=\"prop87ret\"></a>\n",
    "PROPOSITION 8.7<br>\n",
    "\n",
    "Let <em>S</em> be a <em>subset</em> of a group <em>G</em>.  Then the smallest group containing <em>S</em> that is a normal subgroup of <em>G</em> is given by\n",
    "<br><br>\n",
    "<table align=\"center\" width=\"160\" border=\"0\" cellspacing=\"0\" cellpadding=\"0\">\n",
    "  <tr>\n",
    "    <td align=\"right\"><em>N</em><sup>&ast;</sup> = </td>\n",
    "    <td align=\"center\"><font face=\"Times New Roman, Times, serif\" size=\"+4\">&cap;</font></td>\n",
    "    <td align=\"left\"><em>N</em>,&ensp;&ensp;&ensp;&ensp;</td>\n",
    "  </tr>\n",
    "  <tr>\n",
    "    <td></td>\n",
    "    <td align=\"center\" valign=\"top\"><em>N</em> &isin; <em>L</em></td>\n",
    "    <td></td>\n",
    "  </tr>\n",
    "</table>\n",
    "<br>\n",
    "where <em>L</em> denotes the collection of normal subgroups of <em>G</em> that contain <em>S</em>.<br><br>\n",
    "\n",
    "<a href=\"#prop87\">Click here for the proof.</a>\n",
    "\n",
    "<p />\n",
    "We will call this subgroup the <em>normal closure</em> of <em>S</em>.  We can use the <em>SageMath</em> command <strong>NormalClosure(G, S)</strong> to compute this \n",
    "subgroup, thereby systematically find <em>all</em> of the normal subgroups of a given group.<br><br>\n",
    "\n",
    "EXAMPLE:<br>\n",
    "Find all of the normal subgroups of <em>S</em><sub>3</sub>.<br><br>\n",
    "\n",
    "First, we load the group into <em>SageMath</em>.<br>"
   ]
  },
  {
   "cell_type": "code",
   "execution_count": 0,
   "id": "37975f",
   "metadata": {
    "collapsed": false
   },
   "outputs": [
   ],
   "source": [
    "InitGroup(\"e\")\n",
    "AddGroupVar(\"a\", \"b\")\n",
    "Define(a^2, e)\n",
    "Define(b^3, e)\n",
    "Define(b*a, a*b*b)\n",
    "S3 = Group(); S3"
   ]
  },
  {
   "cell_type": "markdown",
   "id": "59398b",
   "metadata": {
    "collapsed": false
   },
   "source": [
    "<br>\n",
    "We will always have two trivial normal subgroups, namely the entire group and the group containing just the identity element.  We would like to see if there are any \n",
    "other normal subgroups of <em>S</em><sub>3</sub>. Since a proper subgroup must contain one of the elements \n",
    "{<em>a</em>, <em>b</em>, <em>a</em>&middot;<em>b</em>, <em>b</em><sup>2</sup>, <em>a</em>&middot;<em>b</em><sup>2</sup>}, we have five groups to try.  Let us see if we \n",
    "can find the smallest normal subgroup which contains the element <em>a</em>.<br>"
   ]
  },
  {
   "cell_type": "code",
   "execution_count": 0,
   "id": "2d264d",
   "metadata": {
    "collapsed": false
   },
   "outputs": [
   ],
   "source": [
    "NormalClosure(S3, [a])"
   ]
  },
  {
   "cell_type": "markdown",
   "id": "1d63de",
   "metadata": {
    "collapsed": false
   },
   "source": [
    "<br>\n",
    "Since the whole group is the smallest normal subgroup containing <em>a</em>, it is apparent that there are no nontrivial normal subgroups containing <em>a</em>.  Let us \n",
    "move on to the next element.<br>"
   ]
  },
  {
   "cell_type": "code",
   "execution_count": 0,
   "id": "5bb5f0",
   "metadata": {
    "collapsed": false
   },
   "outputs": [
   ],
   "source": [
    "NormalClosure(S3, [b])"
   ]
  },
  {
   "cell_type": "markdown",
   "id": "a0ff8a",
   "metadata": {
    "collapsed": false
   },
   "source": [
    "<br>\n",
    "This gives us a nontrivial subgroup.  In fact, this subgroup of order 3 is equivalent to the subgroup <em>A</em><sub>3</sub> which we saw was a normal subgroup in \n",
    "Corollary 6.1.  Let us keep trying to find other normal subgroups.  As with <strong>Normalizer</strong>, if the list contains only one element, we can just enter the \n",
    "lone element.<br>"
   ]
  },
  {
   "cell_type": "code",
   "execution_count": 0,
   "id": "07c272",
   "metadata": {
    "collapsed": false
   },
   "outputs": [
   ],
   "source": [
    "NormalClosure(S3, a*b)"
   ]
  },
  {
   "cell_type": "code",
   "execution_count": 0,
   "id": "caa2ea",
   "metadata": {
    "collapsed": false
   },
   "outputs": [
   ],
   "source": [
    "NormalClosure(S3, b^2)"
   ]
  },
  {
   "cell_type": "code",
   "execution_count": 0,
   "id": "357f34",
   "metadata": {
    "collapsed": false
   },
   "outputs": [
   ],
   "source": [
    "NormalClosure(S3, a*b^2)"
   ]
  },
  {
   "cell_type": "markdown",
   "id": "b81b29",
   "metadata": {
    "collapsed": false
   },
   "source": [
    "<br>\n",
    "We didn't find any new normal subgroups.  In fact, we discovered that a nontrivial normal subgroup cannot contain the elements <em>a</em>, <em>a</em>&middot;<em>b</em>, \n",
    "or <em>a</em>&middot;<em>b</em><sup>2</sup>.  Of course the element <em>e</em> would have to be included in the subgroup, but if either of the other two \n",
    "elements <em>b</em> or <em>b</em><sup>2</sup> were in the subgroup, both of them had to be in the subgroup.  Therefore, the only nontrivial normal subgroup \n",
    "is {<em>e</em>, <em>b</em>, <em>b</em><sup>2</sup>}.<br><br>\n",
    "\n",
    "We have just used <em>SageMath</em> to <em>prove</em> that the only nontrivial normal subgroup of <em>S</em><sub>3</sub> is <em>A</em><sub>3</sub>.  This method of exhausting \n",
    "all possibilities works well for small groups, but one can imagine that this method would be time consuming for larger groups.  In the next section, we will find a \n",
    "shortcut so that we will not have to try every element of the group, but rather just a handful of elements.<br><br>"
   ]
  },
  {
   "cell_type": "markdown",
   "id": "b38ddd",
   "metadata": {
    "collapsed": false
   },
   "source": [
    "<a name=\"sec83\" id=\"sec83\"></a>\n",
    "<h1>Conjugacy Classes and Simple Groups</h1>\n",
    "\n",
    "<br>\n",
    "In the last section, we used the <em>SageMath</em> command <strong>NormalClosure(G, S)</strong> to find the smallest group containing the subset <em>S</em> that was \n",
    "a normal group of <em>G</em>.  Although we proved that such a group existed, we made no mention as to how <em>SageMath</em> found this group.<br><br>\n",
    "\n",
    "The idea behind the function <strong>NormalClosure</strong> is really quite simple.  We know that if <em>a</em> is in this normal subgroup, \n",
    "then <em>g</em>&middot;<em>a</em>&middot;<em>g</em><sup>-1</sup> must also be in the group for all <em>g</em> in <em>G</em>.  Thus, if we can find the elements \n",
    "of <em>G</em> that can be expressed as <em>g</em>&middot;<em>a</em>&middot;<em>g</em><sup>-1</sup> for some <em>g</em>, we know many of the elements that must be in \n",
    "the normal group.  Let us make the following definition:<br><br>\n",
    "\n",
    "DEFINITION 8.3<br>\n",
    "Let <em>G</em> be a group. We say that the element <em>u</em> is <em>conjugate</em> to the element <em>v</em> if there exists an element <em>g</em> in <em>G</em> such that\n",
    "<p style='text-align: center;'><em>u</em> = <em>g</em>&middot;<em>v</em>&middot;<em>g</em><sup>-1</sup>.</p>\n",
    "\n",
    "<br>Note that every element is conjugate to itself, for we can let <em>g</em> be the identity element.  Also note that if <em>u</em> is conjugate to <em>v</em>, \n",
    "then <em>v</em> is also conjugate to <em>u</em>, since \n",
    "<p style='text-align: center;'><em>v</em> = (<em>g</em><sup>-1</sup>)&middot;<em>u</em>&middot;(<em>g</em><sup>-1</sup>)<sup>-1</sup>.</p>\n",
    "Finally, let us suppose that <em>u</em> is conjugate to <em>v</em>, that is, <em>u</em> = <em>g</em>&middot;<em>v</em>&middot;<em>g</em><sup>-1</sup> for \n",
    "some <em>g</em> in <em>G</em>, and <em>v</em> in turn is conjugate to <em>w</em>, that is <em>v</em> = <em>h</em>&middot;<em>w</em>&middot;<em>h</em><sup>-1</sup> for \n",
    "some <em>h</em> in <em>G</em>.  Is <em>u</em> conjugate to <em>w</em>?  We have\n",
    "<p style='text-align: center;'><em>u</em> = <em>g</em>&middot;<em>v</em>&middot;<em>g</em><sup>-1</sup> = \n",
    "<em>g</em>&middot;(<em>h</em>&middot;<em>w</em>&middot;<em>h</em><sup>-1</sup>)&middot;<em>g</em><sup>-1</sup> = \n",
    "(<em>g</em>&middot;<em>h</em>)&middot;<em>w</em>&middot;(<em>g</em>&middot;<em>h</em>)<sup>-1</sup>.</p>\n",
    "So <em>u</em> is then conjugate to <em>w</em>.<br><br>\n",
    "\n",
    "Recall that in Definition 2.3, we defined an equivalence relationship as a relationship having three properties:<br><br>\n",
    "\n",
    "1) Evert element <em>u</em> is equivalent to itself.<br><br>\n",
    "\n",
    "2) If <em>u</em> is equivalent to <em>v</em>, then <em>v</em> is equivalent to <em>u</em>.<br><br>\n",
    "\n",
    "3) If <em>u</em> is equivalent to <em>v</em>, and <em>v</em> in turn is equivalent to <em>w</em>, then <em>u</em> is equivalent to <em>w</em>.<br><br>\n",
    "\n",
    "These were called the reflexive, symmetric, and transitive properties.  In &sect;4.4, we applied these properties to modular arithmetic, but we have just shown that \n",
    "the conjugate relationship between two elements of <em>G</em> also has all three of these properties. Hence the conjugate relationship is an equivalence \n",
    "relationship.<br><br>\n",
    "\n",
    "What does this mean?  It means that we can divide the group <em>G</em> into different <em>conjugacy classes</em>.  Two elements are in the same conjugacy class if, and \n",
    "only if, they are conjugate to one another.  In fact, if <em>u</em> is an element of <em>G</em>, then the conjugacy class which contains <em>u</em> is given by\n",
    "<p style='text-align: center;'>{ <em>g</em>&middot;<em>u</em>&middot;<em>g</em><sup>-1</sup> | <em>g</em> &isin; <em>G</em> }.</p>\n",
    "Moreover, no two of these conjugacy classes have any elements in common, and every element of <em>G</em> is in one of the conjugacy classes.<br><br>\n",
    "\n",
    "Before we proceed with proving some properties of the conjugacy classes, let us explore some examples with <em>SageMath</em>.  This will allow us to see the usefulness of \n",
    "the conjugacy classes, as well as show us some patterns.<br><br>\n",
    "\n",
    "The <em>SageMath</em> command for finding all of the conjugacy classes of a group <em>G</em> is <strong>ConjugacyClasses(G)</strong>.<br><br> \n",
    "\n",
    "EXAMPLE:<br>\n",
    "Find the conjugacy classes of <em>S</em><sub>4</sub>.<br><br>\n",
    "\n",
    "We will use the cycle notation, noting that the group is generated by the cycles (1 2) and (2 3 4).<br>"
   ]
  },
  {
   "cell_type": "code",
   "execution_count": 0,
   "id": "c0334a",
   "metadata": {
    "collapsed": false
   },
   "outputs": [
   ],
   "source": [
    "S4 = Group(C(1,2), C(2,3,4) ); S4"
   ]
  },
  {
   "cell_type": "markdown",
   "id": "861c60",
   "metadata": {
    "collapsed": false
   },
   "source": [
    "<br>\n",
    "We can find the conjugacy classes by the command<br>"
   ]
  },
  {
   "cell_type": "code",
   "execution_count": 0,
   "id": "f03a2f",
   "metadata": {
    "collapsed": false
   },
   "outputs": [
   ],
   "source": [
    "ConjugacyClasses(S4)"
   ]
  },
  {
   "cell_type": "markdown",
   "id": "0e3b01",
   "metadata": {
    "collapsed": false
   },
   "source": [
    "<br>\n",
    "Notice that the identity element is in a class by itself since <em>g</em>&middot;<em>e</em>&middot;<em>g</em><sup>-1</sup> will always by <em>e</em>.  But notice \n",
    "something interesting about the other four classes: one contains all of the transpositions, one contains all of the 3-cycles, one contains all of the 4-cycles, and the \n",
    "last conjugacy class contains the products of two disjoint transpositions.  Problems 16 and 17 of &sect;6.2 may help shed some light on why this happens.  \n",
    "Let us give names to these 5 conjugacy classes: <br><br>\n",
    "<table align = \"center\" border=\"0\">\n",
    "  <tr>\n",
    "    <td><em>A</em> =</td>\n",
    "    <td>{ (1 2), (1 3), (1 4), (2 3), (2 4), (3 4) }</td>\n",
    "  </tr> \n",
    "  <tr>\n",
    "    <td><em>B</em> =</td>\n",
    "    <td>{ (1 2)(3 4), (1 3)(2 4), (1 4)(2 3) }</td>\n",
    "  </tr> \n",
    "  <tr>\n",
    "    <td><em>C</em> =</td>\n",
    "    <td>{ (1 2 3), (1 2 4), (1 3 2), (1 3 4), (1 4 2), (1 4 3), (2 3 4), (2 4 3) }</td>\n",
    "  </tr> \n",
    "  <tr>\n",
    "    <td><em>D</em> =</td>\n",
    "    <td>{ (1 2 3 4), (1 2 4 3), (1 3 2 4), (1 3 4 2), (1 4 2 3), (1 4 3 2) }</td>\n",
    "  </tr> \n",
    "  <tr>\n",
    "    <td><em>E</em> =</td>\n",
    "    <td>{ ( ) }</td>\n",
    "  </tr> \n",
    "</table> \n",
    "\n",
    "<br>\n",
    "What is the usefulness of the conjugacy classes?  We know that whenever one element of a conjugacy class is in a normal subgroup of <em>G</em>, the entire conjugacy \n",
    "class must be in the normal subgroup.  Thus, in order to find <em>all</em> normal subgroups of <em>S</em><sub>4</sub> we only have to try the different combinations of \n",
    "the conjugacy classes.<br><br>\n",
    "\n",
    "EXAMPLE:<br>\n",
    "Use the previous example to find all of the normal subgroups of <em>S</em><sub>4</sub>.<br><br>\n",
    "\n",
    " Since <em>E</em> = {( )} is guaranteed to be in every subgroup, this means that any nontrivial normal subgroup of <em>S</em><sub>4</sub> must be one \n",
    "of the 14 possible subsets:\n",
    "<br><br>\n",
    "<table align = \"center\" border=\"0\">\n",
    "  <tr>\n",
    "    <td>1)</td>\n",
    "    <td><em>E</em> &cup; <em>A</em></td>\n",
    "  </tr> \n",
    "  <tr>\n",
    "    <td>2)</td>\n",
    "    <td><em>E</em> &cup; <em>B</em></td>\n",
    "  </tr> \n",
    "  <tr>\n",
    "    <td>3)</td>\n",
    "    <td><em>E</em> &cup; <em>C</em></td>\n",
    "  </tr> \n",
    "  <tr>\n",
    "    <td>4)</td>\n",
    "    <td><em>E</em> &cup; <em>D</em></td>\n",
    "  </tr> \n",
    "  <tr>\n",
    "    <td>5)</td>\n",
    "    <td><em>E</em> &cup; <em>A</em> &cup; <em>B</em></td>\n",
    "  </tr> \n",
    "  <tr>\n",
    "    <td>6)</td>\n",
    "    <td><em>E</em> &cup; <em>A</em> &cup; <em>C</em></td>\n",
    "  </tr> \n",
    "  <tr>\n",
    "    <td>7)</td>\n",
    "    <td><em>E</em> &cup; <em>A</em> &cup; <em>D</em></td>\n",
    "  </tr> \n",
    "  <tr>\n",
    "    <td>8)</td>\n",
    "    <td><em>E</em> &cup; <em>B</em> &cup; <em>C</em></td>\n",
    "  </tr> \n",
    "  <tr>\n",
    "    <td>9)</td>\n",
    "    <td><em>E</em> &cup; <em>B</em> &cup; <em>D</em></td>\n",
    "  </tr> \n",
    "  <tr>\n",
    "    <td>10)</td>\n",
    "    <td><em>E</em> &cup; <em>C</em> &cup; <em>D</em></td>\n",
    "  </tr> \n",
    "  <tr>\n",
    "    <td>11)</td>\n",
    "    <td><em>E</em> &cup; <em>A</em> &cup; <em>B</em> &cup; <em>C</em></td>\n",
    "  </tr> \n",
    "  <tr>\n",
    "    <td>12)</td>\n",
    "    <td><em>E</em> &cup; <em>A</em> &cup; <em>B</em> &cup; <em>D</em></td>\n",
    "  </tr> \n",
    "  <tr>\n",
    "    <td>13)</td>\n",
    "    <td><em>E</em> &cup; <em>A</em> &cup; <em>C</em> &cup; <em>D</em></td>\n",
    "  </tr> \n",
    "  <tr>\n",
    "    <td>14)&ensp;</td>\n",
    "    <td><em>E</em> &cup; <em>B</em> &cup; <em>C</em> &cup; <em>D</em></td>\n",
    "  </tr>                         \n",
    "</table> \n",
    "\n",
    "<br>\n",
    "The 15th combination, <em>E</em> &cup; <em>A</em> &cup; <em>B</em> &cup; <em>C</em> &cup; <em>D</em>, obviously would give us the whole group.  As we try some of \n",
    "these combinations to find proper normal subgroups, we will be able to eliminate other combinations.<br><br>\n",
    "\n",
    "With <em>SageMath</em>'s <strong>NormalClosure</strong> command, we can eliminate many of these combinations at once.  For example, let us see if <em>E</em> &cup; <em>A</em> is \n",
    "a normal subgroup, we can actually test at the same time whether <em>A</em> can be contained in <em>any</em> nontrivial normal subgroup with the command:<br>"
   ]
  },
  {
   "cell_type": "code",
   "execution_count": 0,
   "id": "fc0d03",
   "metadata": {
    "collapsed": false
   },
   "outputs": [
   ],
   "source": [
    "NormalClosure(S4, C(1,2) )"
   ]
  },
  {
   "cell_type": "markdown",
   "id": "de5476",
   "metadata": {
    "collapsed": false
   },
   "source": [
    "<br>\n",
    "This gives us the whole group.  Thus, the element (1 2) cannot be in any nontrivial normal subgroup.  That eliminates not just the first combination, but 6 other \n",
    "combinations as well!  Let us try using the combination <em>E</em> &cup; <em>B</em> instead:<br>"
   ]
  },
  {
   "cell_type": "code",
   "execution_count": 0,
   "id": "a2841f",
   "metadata": {
    "collapsed": false
   },
   "outputs": [
   ],
   "source": [
    "NormalClosure(S4, C(1,2)*C(3,4) )"
   ]
  },
  {
   "cell_type": "markdown",
   "id": "1433cb",
   "metadata": {
    "collapsed": false
   },
   "source": [
    "<br>\n",
    "This is a subgroup of order 4, which we have seen many times before.  It is isomorphic to <em>Z</em><sub>8</sub><sup>&ast;</sup>.  Let us \n",
    "consider <em>E</em> &cup; <em>C</em>:<br>"
   ]
  },
  {
   "cell_type": "code",
   "execution_count": 0,
   "id": "2ed2d2",
   "metadata": {
    "collapsed": false
   },
   "outputs": [
   ],
   "source": [
    "NormalClosure(S4, C(1,2,3) )"
   ]
  },
  {
   "cell_type": "markdown",
   "id": "5fb7b1",
   "metadata": {
    "collapsed": false
   },
   "source": [
    "<br>\n",
    "This gives us a proper subgroup, but in fact this is the subgroup <em>E</em> &cup; <em>B</em> &cup; <em>C</em>. If we look at the length:<br>"
   ]
  },
  {
   "cell_type": "code",
   "execution_count": 0,
   "id": "eaacf6",
   "metadata": {
    "collapsed": false
   },
   "outputs": [
   ],
   "source": [
    "len(_)"
   ]
  },
  {
   "cell_type": "markdown",
   "id": "06f459",
   "metadata": {
    "collapsed": false
   },
   "source": [
    "<br>\n",
    "We see that this group is of order 12.  In fact, since all of the elements are even permutations, this must be the group <em>A</em><sub>4</sub> which we knew was \n",
    "normal.  In fact, Proposition 6.1 would tell us that <em>A</em><sub>4</sub> is the subgroup generated by the 3-cycles.  Let us go on and try the next \n",
    "combination <em>E</em> &cup; <em>D</em>.<br>"
   ]
  },
  {
   "cell_type": "code",
   "execution_count": 0,
   "id": "690e84",
   "metadata": {
    "collapsed": false
   },
   "outputs": [
   ],
   "source": [
    "NormalClosure(S4, C(1,2,3,4) )"
   ]
  },
  {
   "cell_type": "markdown",
   "id": "eda868",
   "metadata": {
    "collapsed": false
   },
   "source": [
    "<br>\n",
    "This is the whole group again, so no nontrivial normal group can contain the element (1 2 3 4).<br><br> \n",
    "\n",
    "Since we know that a proper normal subgroup cannot contain either <em>A</em> or <em>D</em>, and also <em>E</em> &cup; <em>C</em> is not a normal subgroup, there can only \n",
    "be 2 nontrivial normal subgroups: <nobr><em>E</em> &cup; <em>B</em> &cup; <em>C</em> = <em>A</em><sub>4</sub>,</nobr> and \n",
    "<nobr><em>E</em> &cup; <em>B</em> &asymp; <em>Z</em><sub>8</sub><sup>&ast;</sup>.</nobr><br><br>\n",
    "\n",
    "What if were not able to have <em>SageMath</em> help us determine which combinations were normal subgroups?  Note that almost all of the 14 combinations listed could \n",
    "be eliminated simply by <em>counting</em>.  For example, here are the number of elements in these 14 sets.\n",
    "<br><br>\n",
    "<table align = \"center\" border=\"0\">\n",
    "  <tr>\n",
    "    <td>1)</td>\n",
    "    <td><em>E</em> &cup; <em>A</em></td>\n",
    "    <td>7 elements</td>\n",
    "  </tr> \n",
    "  <tr>\n",
    "    <td>2)</td>\n",
    "    <td><em>E</em> &cup; <em>B</em></td>\n",
    "    <td>4 elements</td>\n",
    "  </tr> \n",
    "  <tr>\n",
    "    <td>3)</td>\n",
    "    <td><em>E</em> &cup; <em>C</em></td>\n",
    "    <td>9 elements</td>\n",
    "  </tr> \n",
    "  <tr>\n",
    "    <td>4)</td>\n",
    "    <td><em>E</em> &cup; <em>D</em></td>\n",
    "    <td>7 elements</td>\n",
    "  </tr> \n",
    "  <tr>\n",
    "    <td>5)</td>\n",
    "    <td><em>E</em> &cup; <em>A</em> &cup; <em>B</em></td>\n",
    "    <td>10 elements</td>\n",
    "  </tr> \n",
    "  <tr>\n",
    "    <td>6)</td>\n",
    "    <td><em>E</em> &cup; <em>A</em> &cup; <em>C</em></td>\n",
    "    <td>15 elements</td>\n",
    "  </tr> \n",
    "  <tr>\n",
    "    <td>7)</td>\n",
    "    <td><em>E</em> &cup; <em>A</em> &cup; <em>D</em></td>\n",
    "    <td>13 elements</td>\n",
    "  </tr> \n",
    "  <tr>\n",
    "    <td>8)</td>\n",
    "    <td><em>E</em> &cup; <em>B</em> &cup; <em>C</em></td>\n",
    "    <td>12 elements</td>\n",
    "  </tr> \n",
    "  <tr>\n",
    "    <td>9)</td>\n",
    "    <td><em>E</em> &cup; <em>B</em> &cup; <em>D</em></td>\n",
    "    <td>10 elements</td>\n",
    "  </tr> \n",
    "  <tr>\n",
    "    <td>10)</td>\n",
    "    <td><em>E</em> &cup; <em>C</em> &cup; <em>D</em></td>\n",
    "    <td>15 elements</td>\n",
    "  </tr> \n",
    "  <tr>\n",
    "    <td>11)</td>\n",
    "    <td><em>E</em> &cup; <em>A</em> &cup; <em>B</em> &cup; <em>C</em></td>\n",
    "    <td>18 elements</td>\n",
    "  </tr> \n",
    "  <tr>\n",
    "    <td>12)</td>\n",
    "    <td><em>E</em> &cup; <em>A</em> &cup; <em>B</em> &cup; <em>D</em></td>\n",
    "    <td>16 elements</td>\n",
    "  </tr> \n",
    "  <tr>\n",
    "    <td>13)</td>\n",
    "    <td><em>E</em> &cup; <em>A</em> &cup; <em>C</em> &cup; <em>D</em></td>\n",
    "    <td>21 elements</td>\n",
    "  </tr> \n",
    "  <tr>\n",
    "    <td>14)</td>\n",
    "    <td><em>E</em> &cup; <em>B</em> &cup; <em>C</em> &cup; <em>D</em></td>\n",
    "    <td>18 elements</td>\n",
    "  </tr>                         \n",
    "</table> \n",
    "\n",
    "<br>\n",
    "However, by Lagrange's theorem, the number of elements in a subgroup must divide the order of the group <em>S</em><sub>4</sub> which is 24. Only the second and \n",
    "eighth combinations has the number of elements divide 24. Thus, there can be at most 2 nontrivial normal subgroups of <em>S</em><sub>4</sub>: <em>E</em> &cup; <em>B</em> and \n",
    "<em>E</em> &cup; <em>B</em> &cup; <em>C</em>.  Of course we would still need to verify that these are indeed normal subgroups.<br><br>\n",
    "\n",
    "Since we have found all normal subgroups of <em>S</em><sub>3</sub> and <em>S</em><sub>4</sub>, let us move on to even larger groups.  The next group that comes to mind \n",
    "is <em>S</em><sub>5</sub>, which is a group of order 120.  However, we will find it easier to first find all of the normal subgroups of <em>A</em><sub>5</sub>.  After all, \n",
    "any normal subgroup of <em>S</em><sub>5</sub>, when intersected with <em>A</em><sub>5</sub>, gives a normal subgroup of <em>A</em><sub>5</sub>. Thus, if we can find all \n",
    "of the normal subgroups of <em>A</em><sub>5</sub>, we will be on our way to finding all normal subgroups of <em>S</em><sub>5</sub>.<br><br>\n",
    "\n",
    "EXAMPLE:<br>\n",
    "Use <em>SageMath</em> to find all of the normal subgroups of <em>A</em><sub>5</sub>.<br><br>\n",
    "\n",
    "Since the group <em>A</em><sub>5</sub> is generated by the two cycles (1 2 3) and (3 4 5), we have<br>"
   ]
  },
  {
   "cell_type": "code",
   "execution_count": 0,
   "id": "7e5e7c",
   "metadata": {
    "collapsed": false
   },
   "outputs": [
   ],
   "source": [
    "A5 = Group(C(1,2,3), C(3,4,5)); A5"
   ]
  },
  {
   "cell_type": "markdown",
   "id": "45bb0e",
   "metadata": {
    "collapsed": false
   },
   "source": [
    "<br>\n",
    "The length of this group is<br>"
   ]
  },
  {
   "cell_type": "code",
   "execution_count": 0,
   "id": "0b8c15",
   "metadata": {
    "collapsed": false
   },
   "outputs": [
   ],
   "source": [
    "len(_)"
   ]
  },
  {
   "cell_type": "markdown",
   "id": "6a2eb6",
   "metadata": {
    "collapsed": false
   },
   "source": [
    "<br>\n",
    "which is half of 5! = 120.  The conjugacy classes are as follows:<br>"
   ]
  },
  {
   "cell_type": "code",
   "execution_count": 0,
   "id": "f9a899",
   "metadata": {
    "collapsed": false
   },
   "outputs": [
   ],
   "source": [
    "ConjugacyClasses(A5)"
   ]
  },
  {
   "cell_type": "markdown",
   "id": "cc3d54",
   "metadata": {
    "collapsed": false
   },
   "source": [
    "<br>\n",
    "Looking at the list we see only five conjugacy classes with one of the five containing just the identity.  Thus, finding all of the normal subgroups is no more difficult \n",
    "for this group than for <em>S</em><sub>4</sub>.  We can pick the representatives (1 2 3), (1 2)(3 4), (1 2 3 4 5), and (1 2 3 5 4).<br><br>\n",
    "\n",
    "Let us find the normal group generated by the 3-cycles.<br>"
   ]
  },
  {
   "cell_type": "code",
   "execution_count": 0,
   "id": "a619a1",
   "metadata": {
    "collapsed": false
   },
   "outputs": [
   ],
   "source": [
    "NormalClosure(A5, C(1,2,3))"
   ]
  },
  {
   "cell_type": "markdown",
   "id": "005592",
   "metadata": {
    "collapsed": false
   },
   "source": [
    "<br>\n",
    "The length of this is<br>"
   ]
  },
  {
   "cell_type": "code",
   "execution_count": 0,
   "id": "366ce4",
   "metadata": {
    "collapsed": false
   },
   "outputs": [
   ],
   "source": [
    "len(_)"
   ]
  },
  {
   "cell_type": "markdown",
   "id": "c3e278",
   "metadata": {
    "collapsed": false
   },
   "source": [
    "<br>\n",
    "So this gives the whole group.  This should come as no surprise since we have shown in Proposition 6.1 that <em>A</em><sub>5</sub> was generated by the set \n",
    "of 3-cycles.  Next let us try the next representative element.<br>"
   ]
  },
  {
   "cell_type": "code",
   "execution_count": 0,
   "id": "776c5d",
   "metadata": {
    "collapsed": false
   },
   "outputs": [
   ],
   "source": [
    "NormalClosure(A5, C(1,2)*C(3,4))"
   ]
  },
  {
   "cell_type": "markdown",
   "id": "d7b619",
   "metadata": {
    "collapsed": false
   },
   "source": [
    "<br>\n",
    "The length of this is<br>"
   ]
  },
  {
   "cell_type": "code",
   "execution_count": 0,
   "id": "1d0577",
   "metadata": {
    "collapsed": false
   },
   "outputs": [
   ],
   "source": [
    "len(_)"
   ]
  },
  {
   "cell_type": "markdown",
   "id": "34624b",
   "metadata": {
    "collapsed": false
   },
   "source": [
    "<br>\n",
    "So again we get the whole group. If we used the 5-cycle we get<br>"
   ]
  },
  {
   "cell_type": "code",
   "execution_count": 0,
   "id": "0b5bac",
   "metadata": {
    "collapsed": false
   },
   "outputs": [
   ],
   "source": [
    "NormalClosure(A5, C(1,2,3,4,5))"
   ]
  },
  {
   "cell_type": "markdown",
   "id": "6f42e7",
   "metadata": {
    "collapsed": false
   },
   "source": [
    "<br>\n",
    "The length of this one is<br>"
   ]
  },
  {
   "cell_type": "code",
   "execution_count": 0,
   "id": "8a1bc9",
   "metadata": {
    "collapsed": false
   },
   "outputs": [
   ],
   "source": [
    "len(_)"
   ]
  },
  {
   "cell_type": "markdown",
   "id": "1c2af5",
   "metadata": {
    "collapsed": false
   },
   "source": [
    "<br>\n",
    "So this produces the same thing.  So we have found that a nontrivial normal subgroup of <em>A</em><sub>5</sub> cannot contain an element from the first three conjugacy classes.  There's only one \n",
    "more conjugacy class to try.<br><br>\n",
    "\n",
    "EXPERIMENT:<br>\n",
    "Find the normal subgroup of <em>A</em><sub>5</sub> generated by the other five cycle (1 2 3 5 4).  Does this also give the whole group <em>A</em><sub>5</sub>?<br>"
   ]
  },
  {
   "cell_type": "markdown",
   "id": "42456a",
   "metadata": {
    "collapsed": false
   },
   "source": [
    "<br>\n",
    "This experiment demonstrates that the group <em>A</em><sub>5</sub> does not contain <em>any</em> proper normal subgroups.  (See Problem 9 for a non-computerized way \n",
    "to prove this.)  We will see that this is a rather unusual property for a group to have, so we will give this a special name.<br><br>\n",
    "\n",
    "DEFINITION 8.4<br>\n",
    "A group is said to be <em>simple</em> if it contains no normal subgroups besides itself, and the identity subgroup.<br><br>\n",
    "\n",
    "What are some examples of simple groups?  Suppose that the group is of prime order <em>p</em>.  Then by Lagrange's theorem, the order of any subgroup must \n",
    "divide <em>p</em>, so the only two subgroups are the group itself and the trivial subgroup.  We noticed in Corollary 4.3 that this meant that the group was the \n",
    "cyclic group, <em>Z<sub>p</sub></em>.<br>\n",
    "<br>\n",
    "\n",
    "We now have seen an example of a non-cyclic simple group, <em>A</em><sub>5</sub>.  In fact this is the <em>smallest</em> non-cyclic simple \n",
    "group!<br><br>\n",
    "\n",
    "Let us see if there are any other simple groups.  The natural place to look is higher order alternating groups, so let us begin there. \n",
    "We can use <em>SageMath</em> to find the sizes of the conjugacy classes of <em>A</em><sub>6</sub>.  This group is generated by the cycles (1 2 3) and (2 3 4 5 6).<br>"
   ]
  },
  {
   "cell_type": "code",
   "execution_count": 0,
   "id": "b3a534",
   "metadata": {
    "collapsed": false
   },
   "outputs": [
   ],
   "source": [
    "A6 = Group(C(1, 2, 3), C(2, 3, 4, 5, 6))"
   ]
  },
  {
   "cell_type": "code",
   "execution_count": 0,
   "id": "dd6825",
   "metadata": {
    "collapsed": false
   },
   "outputs": [
   ],
   "source": [
    "len(A6)"
   ]
  },
  {
   "cell_type": "code",
   "execution_count": 0,
   "id": "9bde14",
   "metadata": {
    "collapsed": false
   },
   "outputs": [
   ],
   "source": [
    "S = ConjugacyClasses(A6)"
   ]
  },
  {
   "cell_type": "code",
   "execution_count": 0,
   "id": "8778a7",
   "metadata": {
    "collapsed": false
   },
   "outputs": [
   ],
   "source": [
    "[ len(x) for x in S ]"
   ]
  },
  {
   "cell_type": "markdown",
   "id": "a5fccd",
   "metadata": {
    "collapsed": false
   },
   "source": [
    "<br>\n",
    "Thus, we see that there are 7 conjugacy classes of <em>A</em><sub>6</sub>, one of size 1 (the identity), two of size 40, two of size 72, one of size 45, \n",
    "and one of size 90.<br><br>\n",
    "\n",
    "EXAMPLE:<br>\n",
    "Use the above result to show that <em>A</em><sub>6</sub> is simple.<br><br>\n",
    "\n",
    "If there were a non-trivial subgroup <em>N</em>, its size would be a factor of 360, hence |<em>N</em>| = 180, 120, 90, 72, 60, or 45.  Note it cannot be 40 or smaller, \n",
    "since it must contain the identity and at least one other conjugacy class.  Clearly, |<em>N</em>| &ne; 45 since there is no conjugacy class of size 44.  \n",
    "Thus, |<em>N</em>| is even, so we must include both odd conjugacy classes, 1 and 45, plus at least one other.  Hence, |<em>N</em>| &ge; 86.  \n",
    "At this point we see that |<em>N</em>| is a multiple of 5, so both conjugacy classes of size 72 must be included to get the sum to be a multiple of 5.  At this point |<em>N</em>| &ge; 190, which is impossible.  So <em>A</em><sub>6</sub> is a simple group.<br><br>\n",
    "\n",
    "Our goal is to show that <em>A<sub>n</sub></em> is simple for all <em>n</em> &gt; 4.  We begin by showing that all 3-cycles are in one conjugacy class."
   ]
  },
  {
   "cell_type": "markdown",
   "id": "555dd7",
   "metadata": {
    "collapsed": false
   },
   "source": [
    "<a name=\"lem81ret\" id=\"lem81ret\"></a>\n",
    "LEMMA 8.1<br>\n",
    "\n",
    "If <em>n</em> &gt; 4, any two 3-cycles are conjugate in <em>A<sub>n</sub></em>. Furthermore, the conjugate of a 3-cycle is again a 3-cycle.<br><br> \n",
    "\n",
    "<a href=\"#lem81\">Click here for the proof.</a>\n",
    "\n",
    "<p />\n",
    "With this lemma, we can show that <em>A<sub>n</sub></em> will be a simple group whenever <em>n</em> &gt; 4.  This was originally proved by Abel using a long \n",
    "case-by-case argument.  Since <em>SageMath</em> has already shown that <em>A</em><sub>5</sub> and <em>A</em><sub>6</sub> are simple, most of the cases can be taken care of at once."
   ]
  },
  {
   "cell_type": "markdown",
   "id": "5f94f4",
   "metadata": {
    "collapsed": false
   },
   "source": [
    "<a name=\"theor81ret\" id=\"theor81ret\"></a>\n",
    "THEOREM 8.1:Abel's Theorem<br>\n",
    "\n",
    "The alternating group <em>A<sub>n</sub></em> is simple for all <em>n</em> &gt; 4.<br><br>\n",
    "\n",
    "<a href=\"#theor81\">Click here for the proof.</a>\n",
    "\n",
    "<p />\n",
    "This theorem has an immediate application to the permutation groups <em>S<sub>n</sub></em>."
   ]
  },
  {
   "cell_type": "markdown",
   "id": "e9b05e",
   "metadata": {
    "collapsed": false
   },
   "source": [
    "<a name=\"cor81ret\" id=\"cor81ret\"></a>\n",
    "COROLLARY 8.1<br>\n",
    "\n",
    "If <em>n</em> &gt; 4, then the only proper normal subgroup of <em>S<sub>n</sub></em> is <em>A<sub>n</sub></em>.<br><br>\n",
    "\n",
    "<a href=\"#cor81\">Click here for the proof.</a>\n",
    "\n",
    "<p />\n",
    "We now have found two sequences of simple groups, namely <em>Z<sub>p</sub></em> for <em>p</em> being a prime number, and <em>A<sub>n</sub></em> for \n",
    "all <em>n</em> &gt; 4.  Are any of the other groups that we have looked at simple groups?<br><br>\n",
    "\n",
    "EXAMPLE:<br>\n",
    "Find the normal subgroups of the group Aut(<em>Z</em><sub>24</sub><sup>&ast;</sup>), the group of order 168 generated by the 187th and 723rd permutation elements.<br>"
   ]
  },
  {
   "cell_type": "code",
   "execution_count": 0,
   "id": "bb1ae2",
   "metadata": {
    "collapsed": false
   },
   "outputs": [
   ],
   "source": [
    "DisplayPermInt = true"
   ]
  },
  {
   "cell_type": "code",
   "execution_count": 0,
   "id": "5276d1",
   "metadata": {
    "collapsed": false
   },
   "outputs": [
   ],
   "source": [
    "A = Group(NthPerm(187), NthPerm(723)); A"
   ]
  },
  {
   "cell_type": "markdown",
   "id": "befda8",
   "metadata": {
    "collapsed": false
   },
   "source": [
    "<br>\n",
    "As large as this group is, we can still break this up into conjugacy classes in a reasonable amount of time.<br>"
   ]
  },
  {
   "cell_type": "code",
   "execution_count": 0,
   "id": "2474ce",
   "metadata": {
    "collapsed": false
   },
   "outputs": [
   ],
   "source": [
    "ConjugacyClasses(A)"
   ]
  },
  {
   "cell_type": "markdown",
   "id": "cc5175",
   "metadata": {
    "collapsed": false
   },
   "source": [
    "<br>\n",
    "So we have six conjugacy classes of this group, one of which is just the identity.  The other five classes are represented by the 27<sup>th</sup>, 149<sup>th</sup>, \n",
    "231<sup>st</sup>, 931<sup>st</sup>, and \n",
    "957<sup>th</sup> permutations.  Thus, if we can show that a proper normal subgroup cannot contain any of these five elements, we have shown that there are no proper normal \n",
    "subgroups.<br><br>\n",
    "\n",
    "Let us try to find a normal subgroup containing the 27<sup>th</sup> permutation.<br>"
   ]
  },
  {
   "cell_type": "code",
   "execution_count": 0,
   "id": "b078cf",
   "metadata": {
    "collapsed": false
   },
   "outputs": [
   ],
   "source": [
    "NormalClosure(A, NthPerm(27))"
   ]
  },
  {
   "cell_type": "markdown",
   "id": "dd6d40",
   "metadata": {
    "collapsed": false
   },
   "source": [
    "<br>\n",
    "The length of this is<br>"
   ]
  },
  {
   "cell_type": "code",
   "execution_count": 0,
   "id": "4cb436",
   "metadata": {
    "collapsed": false
   },
   "outputs": [
   ],
   "source": [
    "len(_)"
   ]
  },
  {
   "cell_type": "markdown",
   "id": "941260",
   "metadata": {
    "collapsed": false
   },
   "source": [
    "<br>\n",
    "so this is the whole group.<br><br>\n",
    "\n",
    "EXPERIMENT:<br><br>\n",
    "\n",
    "Replace the 27 above with 149, 231, 931, and 957, re-executing the command each time.  Is the length of the normal subgroup generated 168 each time?<br>"
   ]
  },
  {
   "cell_type": "markdown",
   "id": "f073d5",
   "metadata": {
    "collapsed": false
   },
   "source": [
    "<br>\n",
    "This experiment shows that no proper normal subgroup can contain any of these five elements, and so there are no proper normal subgroups.  Therefore, this group is \n",
    "simple.<br><br>\n",
    "\n",
    "It should be pointed out that Aut(<em>Z</em><sub>24</sub><sup>&ast;</sup>) is the second smallest non-cyclic simple group. (<em>A</em><sub>5</sub> is the smallest \n",
    "and <em>A</em><sub>6</sub> is the third smallest.)  In fact, Aut(<em>Z</em><sub>24</sub><sup>&ast;</sup>) is the beginning of yet another infinite family of simple groups, \n",
    "called the <em>Chevalley groups</em>.  We will not go into all of the ways this group can be generalized to produce these other groups, but we will mention an \n",
    "important result that has taken place during the 20th century.  It was once thought that <em>all</em> finite simple groups were either the cyclic groups of prime order, \n",
    "the alternating groups, or one of the Chevalley or twisted Chevalley groups.  (One of these groups turned out to be not quite simple.  Yet taking half of the elements \n",
    "forms a new simple group, just as we took half of the elements of <em>S<sub>n</sub></em> to form the simple groups <em>A<sub>n</sub></em>.)  But there were several \n",
    "other simple groups that were discovered, called <em>sporadic</em> groups.  In the 1960s and 1970s it was proved that there are exactly 26 sporadic groups, ranging in \n",
    "size from a mere 7,920 elements to the monstrous\n",
    "<p style='text-align: center;'>808,017,424,794,512,875,886,459,904,961,710,757,005,754,368,000,000,000</p>\n",
    "elements!  These 26 sporadic groups are listed in the Atlas of Finite Groups, edited by J. Conway et al. (Oxford University Press, 1984)  Because these are the only \n",
    "sporadic groups, all finite simple groups have been found and classified.<br><br> "
   ]
  },
  {
   "cell_type": "markdown",
   "id": "79a32d",
   "metadata": {
    "collapsed": false
   },
   "source": [
    "<a name=\"sec84\" id=\"sec84\"></a>\n",
    "<h1>Subnormal Series and the Jordan-H&ouml;lder Theorem</h1>\n",
    "\n",
    "<br>\n",
    "In this section, we will study the concept of <em>solvable</em> groups.  Every group will be classified either as solvable or insoluble, and in fact most of the groups we \n",
    "have looked at so far turn out to be solvable.<br><br>\n",
    "\n",
    "Solvable groups play a key role in studying polynomial equations.  Whether or not a given polynomial can be solved in terms of radicals (square roots, cube \n",
    "roots, etc.) depends on whether a certain group corresponding to that polynomial is a solvable group.  In fact this application is the origin of the \n",
    "term &quot;solvable group.&quot;<br><br>\n",
    "\n",
    "Before we introduce the true definition of a solvable group, we must make some preliminary definitions.  We have already encountered situations in which we had a \n",
    "normal subgroup of a normal subgroup, such as in the third isomorphism theorem.  But suppose we have a whole series of subgroups of a group <em>G</em>, each one \n",
    "fitting inside of the previous one like Russian dolls.<br><br>\n",
    "\n",
    "DEFINITION 8.5<br>\n",
    "A <em>subnormal series</em> for a group <em>G</em> is a sequence <em>G</em><sub>0</sub>, <em>G</em><sub>1</sub>, <em>G</em><sub>2</sub>, &hellip; <em>G<sub>n</sub></em> of \n",
    "subgroups of <em>G</em> such that\n",
    "<p style='text-align: center;'><em>G</em> = <em>G</em><sub>0</sub> &supe; <em>G</em><sub>1</sub> &supe; <em>G</em><sub>2</sub> &supe; \n",
    "&#8943; &supe; <em>G<sub>n</sub></em> = {<em>e</em>}.</p>\n",
    "where each <em>G<sub>i</sub></em> is a normal subgroup of <em>G</em><sub><em>i</em>&minus;1</sub> for <em>i</em> = 1, 2,&hellip;, <em>n</em>.<br><br>\n",
    "\n",
    "A subnormal series is called a <em>normal series</em> if it satisfies the stronger condition that all of the groups <em>G<sub>i</sub></em> are normal subgroups of \n",
    "the original group <em>G</em>.  We will be mainly interested in subnormal series, but there are a few of the exercises regarding normal series.<br><br>\n",
    "\n",
    "EXAMPLE:<br>\n",
    "Consider the group <em>S</em><sub>4</sub>, for which we have seen a normal subgroup of order 4, namely<br>"
   ]
  },
  {
   "cell_type": "code",
   "execution_count": 0,
   "id": "fe7cd4",
   "metadata": {
    "collapsed": false
   },
   "outputs": [
   ],
   "source": [
    "K = Group( C(1,2)*C(3,4), C(1,3)*C(2,4) ); K"
   ]
  },
  {
   "cell_type": "markdown",
   "id": "33edcc",
   "metadata": {
    "collapsed": false
   },
   "source": [
    "<br>\n",
    "Certainly the identity element is a normal subgroup of <em>K</em>, so we can write\n",
    "<p style='text-align: center;'><em>S</em><sub>4</sub> &supe; <em>K</em> &supe; {( )}</p>\n",
    "which would be a subnormal series of length <em>n</em> = 2.  Is there a way that we can make a longer series out of this one?  Because <em>A</em><sub>4</sub> is also a \n",
    "normal subgroup of <em>S</em><sub>4</sub>, and <em>K</em> is a normal subgroup of <em>A</em><sub>4</sub>, we can slip this group into our series. Also, the group \n",
    "<em>K</em> contains some proper subgroups, which will be normal subgroups of <em>K</em> since <em>K</em> is abelian.  For an example of a proper subgroup, consider<br>"
   ]
  },
  {
   "cell_type": "code",
   "execution_count": 0,
   "id": "b9668e",
   "metadata": {
    "collapsed": false
   },
   "outputs": [
   ],
   "source": [
    "H = Group( C(1,2)*C(3,4) ); H"
   ]
  },
  {
   "cell_type": "markdown",
   "id": "6f8ea7",
   "metadata": {
    "collapsed": false
   },
   "source": [
    "<br>\n",
    "Therefore, we have a longer subnormal series for <em>S</em><sub>4</sub>:\n",
    "<p style='text-align: center;'><em>S</em><sub>4</sub> &supe; <em>A</em><sub>4</sub> &supe; <em>K</em> &supe; <em>H</em> &supe; {( )}.</p>\n",
    "We say that this new subnormal series is a <em>refinement</em> of the first subnormal series.<br><br>\n",
    "\n",
    "DEFINITION 8.6<br>\n",
    "We say that a subnormal (or normal) series \n",
    "<p style='text-align: center;'><em>G</em> = <em>H</em><sub>0</sub> &supe; <em>H</em><sub>1</sub> &supe; <em>H</em><sub>2</sub> &supe; \n",
    "&#8943; &supe; <em>H<sub>k</sub></em> = {<em>e</em>}</p>\n",
    "is a <em>refinement</em> of the subnormal (or normal) series\n",
    "<p style='text-align: center;'><em>G</em> = <em>G</em><sub>0</sub> &supe; <em>G</em><sub>1</sub> &supe; <em>G</em><sub>2</sub> &supe; \n",
    "&#8943; &supe; <em>G<sub>n</sub></em> = {<em>e</em>}</p>\n",
    "if each subgroup <em>G<sub>i</sub></em> appears as <em>H<sub>j</sub></em> for some <em>j</em>.<br><br>\n",
    "\n",
    "Is there a way that we can refine our subnormal series to produce an even longer chain?  Our definition did not exclude the possibility of two groups in the series \n",
    "being the same, so we could consider\n",
    "<p style='text-align: center;'><em>S</em><sub>4</sub> &supe; <em>A</em><sub>4</sub> &supe; <em>A</em><sub>4</sub> &supe; <em>K</em> &supe; <em>H</em> &supe; <em>H</em> \n",
    "&supe; <em>H</em> &supe; {( )}.</p>\n",
    "Although this is a longer subnormal series, it is usually pointless to repeat the same subgroup in the series.  Let us make the following definition:<br><br>\n",
    "\n",
    "DEFINITION 8.7<br>\n",
    "A <em>composition series</em> of a group <em>G</em> is a subnormal series\n",
    "<p style='text-align: center;'><em>G</em> = <em>G</em><sub>0</sub> &supe; <em>G</em><sub>1</sub> &supe; <em>G</em><sub>2</sub> &supe; \n",
    "&#8943; &supe; <em>G<sub>n</sub></em> = {<em>e</em>},</p>\n",
    "for which each subgroup is smaller than the proceeding subgroup, and for which there is no refinement that includes additional subgroups.</p>\n",
    "<br><br>\n",
    "Using this definition, we see that\n",
    "<p style='text-align: center;'><em>S</em><sub>4</sub> &supe; <em>A</em><sub>4</sub> &supe; <em>K</em> &supe; <em>H</em> &supe; {( )}</p>\n",
    "is a composition series for <em>S</em><sub>4</sub>, since no subgroups are repeated, and there simply isn't enough room between two of these subgroups to slip in \n",
    "another subgroup.  For example, <em>A</em><sub>4</sub> is half of the size of <em>S</em><sub>4</sub>, so any subgroup containing more than <em>A</em><sub>4</sub> must be \n",
    "all of <em>S</em><sub>4</sub>.  In fact, we can easily test to see whether a subnormal series is a composition series."
   ]
  },
  {
   "cell_type": "markdown",
   "id": "da061c",
   "metadata": {
    "collapsed": false
   },
   "source": [
    "<a name=\"prop88ret\" id=\"prop88ret\"></a>\n",
    "PROPOSITION 8.8<br>\n",
    "The subnormal series\n",
    "<p style='text-align: center;'><em>G</em> = <em>G</em><sub>0</sub> &supe; <em>G</em><sub>1</sub> &supe; <em>G</em><sub>2</sub> &supe; \n",
    "&#8943; &supe; <em>G<sub>n</sub></em> = {<em>e</em>}</p>\n",
    "is a composition series if, and only if, all of the quotient groups <em>G</em><sub><em>k</em>&minus;1</sub>/<em>G<sub>k</sub></em> are nontrivial simple groups.<br><br>\n",
    "\n",
    "<a href=\"#prop88\">Click here for the proof.</a>\n",
    "\n",
    "<p />\n",
    "The quotient groups <em>G</em><sub><em>k</em>&minus;1</sub>/<em>G<sub>k</sub></em> in a composition series for <em>G</em> are called the <em>composition factors</em> of \n",
    "the composition series.<br><br>\n",
    "\n",
    "For example, let us find the composition factors for the composition series for <em>S</em><sub>4</sub>:\n",
    "<p style='text-align: center;'><em>S</em><sub>4</sub> &supe; <em>A</em><sub>4</sub> &supe; <em>K</em> &supe; <em>H</em> &supe; {( )}</p>\n",
    "We have\n",
    "<p style='text-align: center;'><em>S</em><sub>4</sub>/<em>A</em><sub>4</sub> &asymp; <em>Z</em><sub>2</sub>,&emsp;<em>A</em><sub>4</sub>/<em>K</em> &asymp; \n",
    "<em>Z</em><sub>3</sub>,&emsp;<em>K</em>/<em>H</em> &asymp; <em>Z</em><sub>2</sub>,&ensp;and&ensp;<em>H</em>/{()} &asymp; <em>Z</em><sub>2</sub>.</p>\n",
    "So the composition factors are <em>Z</em><sub>2</sub>, <em>Z</em><sub>3</sub>, <em>Z</em><sub>2</sub>, and <em>Z</em><sub>2</sub>, which are all simple groups, as we \n",
    "would expect. <br><br>\n",
    "\n",
    "It is certainly possible for a group to have more than one composition series. For example, if we pick the subgroup<br>"
   ]
  },
  {
   "cell_type": "code",
   "execution_count": 0,
   "id": "7ad31f",
   "metadata": {
    "collapsed": false
   },
   "outputs": [
   ],
   "source": [
    "B = Group( C(1,4)*C(2,3) ); B"
   ]
  },
  {
   "cell_type": "markdown",
   "id": "7b480b",
   "metadata": {
    "collapsed": false
   },
   "source": [
    "<br>\n",
    "then <em>B</em> is a normal subgroup of <em>K</em>.  Thus we would have the composition series\n",
    "<p style='text-align: center;'><em>S</em><sub>4</sub> &supe; <em>A</em><sub>4</sub> &supe; <em>K</em> &supe; <em>B</em> &supe; {( )}</p>\n",
    "Even though this is a different composition series, the composition factors are isomorphically the same.  Will this happen all of the time?  To show that it will, we \n",
    "first need the following lemmas:"
   ]
  },
  {
   "cell_type": "markdown",
   "id": "f4f807",
   "metadata": {
    "collapsed": false
   },
   "source": [
    "<a name=\"lem82ret\" id=\"lem82ret\"></a>\n",
    "LEMMA 8.2<br>\n",
    "Let <em>X</em>, <em>Y</em>, and <em>Z</em> be three subgroups of the group <em>G</em>, with <em>Y</em> being a subgroup of <em>X</em>, and <em>Y</em>&middot;<em>Z</em> = \n",
    "<em>Z</em>&middot;<em>Y</em>.  Then\n",
    "<p style='text-align: center;'><em>X</em> &cap; (<em>Y</em>&middot;<em>Z</em>) = <em>Y</em>&middot;(<em>X</em> &cap; <em>Z</em>) = (<em>X</em> &cap; \n",
    "<em>Z</em>)&middot;<em>Y</em>.</p>\n",
    "\n",
    "<a href=\"#lem82\">Click here for the proof.</a>"
   ]
  },
  {
   "cell_type": "markdown",
   "id": "55f17e",
   "metadata": {
    "collapsed": false
   },
   "source": [
    "<a name=\"lem83ret\" id=\"lem83ret\"></a>\n",
    "Lemma 8.3<br>\n",
    "Let <em>X</em>, <em>Y</em>, and <em>Z</em> be three subgroups of the group <em>G</em>, with <em>Y</em> being a normal subgroup of <em>X</em>, and <em>Z</em> a normal \n",
    "subgroup of <em>G</em>.  Then <em>Y</em>&middot;<em>Z</em> is a normal subgroup of <em>X</em>&middot;<em>Z</em>, and\n",
    "<p style='text-align: center;'>(<em>X</em>&middot;<em>Z</em>)/(<em>Y</em>&middot;<em>Z</em>) &asymp; <em>X</em>/(<em>X</em> &cap;(<em>Y</em>&middot;<em>Z</em>)).</p>\n",
    "\n",
    "<a href=\"#lem83\">Click here for the proof.</a>\n",
    "\n",
    "<p />\n",
    "We are now ready to show that any two composition series for a group are related.  We do this by proving a theorem that is true for any two subnormal series, and then \n",
    "apply that theorem to a composition series."
   ]
  },
  {
   "cell_type": "markdown",
   "id": "730c47",
   "metadata": {
    "collapsed": false
   },
   "source": [
    "<a name=\"theor82ret\" id=\"theor82ret\"></a>\n",
    "THEOREM 8.2: The Refinement Theorem<br>\n",
    "Suppose that there are two subnormal series for a group <em>G</em>.  That is, there are subgroups <em>A<sub>i</sub></em> and <em>B<sub>j</sub></em> such that\n",
    "<p style='text-align: center;'><em>G</em> = <em>A</em><sub>0</sub> &supe; <em>A</em><sub>1</sub> &supe; <em>A</em><sub>2</sub> &supe; \n",
    "&#8943; &supe; <em>A<sub>n</sub></em> = {<em>e</em>},</p>\n",
    "and\n",
    "<p style='text-align: center;'><em>G</em> = <em>B</em><sub>0</sub> &supe; <em>B</em><sub>1</sub> &supe; <em>B</em><sub>2</sub> &supe; \n",
    "&#8943; &supe; <em>B<sub>m</sub></em> = {<em>e</em>},</p>\n",
    "where each <em>A<sub>i</sub></em> is a normal subgroup of <em>A</em><sub><em>i</em>&minus;1</sub>, and each <em>B<sub>j</sub></em> is a normal subgroup \n",
    "of <em>B</em><sub><em>j</em>&minus;1</sub>.  Then it is possible to refine both series by inserting the subgroups\n",
    "<p style='text-align: center;'><em>A</em><sub><em>i</em>&minus;1</sub> = <em>A</em><sub><em>i</em>,0</sub> &supe; <em>A</em><sub><em>i</em>,1</sub> &supe; \n",
    "<em>A</em><sub><em>i</em>,2</sub> &supe; &#8943; &supe; <em>A</em><sub><em>i</em>,<em>m</em></sub> = <em>A<sub>i</sub></em>,&emsp;<em>i</em> = 1, 2, &hellip; <em>n</em>,</p>\n",
    "<p style='text-align: center;'><em>B</em><sub><em>j</em>&minus;1</sub> = <em>B</em><sub><em>j</em>,0</sub> &supe; <em>B</em><sub><em>j</em>,1</sub> &supe; \n",
    "<em>B</em><sub><em>j</em>,2</sub> &supe; &#8943; &supe; <em>B</em><sub><em>j</em>,<em>n</em></sub> = <em>B<sub>j</sub></em>,&emsp;<em>j</em> = 1, 2, &hellip; <em>m</em>,</p>\n",
    "in such a way that\n",
    "<p style='text-align: center;'><em>A</em><sub><em>i</em>,<em>j</em>&minus;1</sub>/<em>A</em><sub><em>i</em>,<em>j</em></sub> &asymp; \n",
    "<em>B</em><sub><em>j</em>,<em>i</em>&minus;1</sub>/<em>B</em><sub><em>j</em>,<em>i</em></sub>.</p>\n",
    "\n",
    "<a href=\"#theor82\">Click here for the proof.</a>\n",
    "\n",
    "<p />\n",
    "If we now apply the refinement theorem to two composition series we find that the composition factors will be the same."
   ]
  },
  {
   "cell_type": "markdown",
   "id": "848429",
   "metadata": {
    "collapsed": false
   },
   "source": [
    "<a name=\"theor83ret\" id=\"theor83ret\"></a>\n",
    "THEOREM 8.3: The Jordan-H&ouml;lder Theorem<br>\n",
    "Let <em>G</em> be a finite group, and let\n",
    "<p style='text-align: center;'><em>G</em> = <em>A</em><sub>0</sub> &supe; <em>A</em><sub>1</sub> &supe; <em>A</em><sub>2</sub> &supe; \n",
    "&#8943; &supe; <em>A<sub>n</sub></em> = {<em>e</em>},</p>\n",
    "and\n",
    "<p style='text-align: center;'><em>G</em> = <em>B</em><sub>0</sub> &supe; <em>B</em><sub>1</sub> &supe; <em>B</em><sub>2</sub> &supe; \n",
    "&#8943; &supe; <em>B<sub>m</sub></em> = {<em>e</em>}</p>\n",
    "be two composition series for <em>G</em>.  Then <em>n</em> = <em>m</em>, and the composition factors <em>A</em><sub><em>i</em>&minus;1</sub>/<em>A<sub>i</sub></em> \n",
    "are isomorphic to the composition factors <em>B</em><sub><em>j</em>&minus;1</sub>/<em>B<sub>j</sub></em> in some order.<br><br>\n",
    "\n",
    "<a href=\"#theor83\">Click here for the proof.</a>\n",
    "\n",
    "<p />\n",
    "The Jordan-H&ouml;lder theorem (8.3) shows that the composition factors do not depend on the composition series, but rather the finite group <em>G</em>.  This is \n",
    "reminiscent of the unique factorization of integers, where every positive integer greater than 1 can be written as a unique product of prime numbers.  Since the \n",
    "composition factors are always nontrivial simple groups, in a sense the simple groups play the same role in group theory that prime numbers play in number theory.  The \n",
    "correspondence is heightened by the fact that <em>Z<sub>p</sub></em> is a nontrivial simple group if, and only if, <em>p</em> is a prime number.  However, we have seen \n",
    "that there are other simple groups, such as Aut(<em>Z</em><sub>24</sub><sup>&ast;</sup>) and <em>A<sub>n</sub></em> for <em>n</em> &gt; 4.<br><br>\n",
    "\n",
    "Since these non-cyclic simple groups are rather large (at least 60 elements), they will only show up as composition factors for very large groups.  For example, a \n",
    "composition series for <em>S</em><sub>5</sub> is given by\n",
    "<p style='text-align: center;'><em>S</em><sub>5</sub> &sup; <em>A</em><sub>5</sub> &sup; {( )},&emsp;&emsp;<em>S</em><sub>5</sub>/<em>A</em><sub>5</sub> &asymp; \n",
    "<em>Z</em><sub>2</sub>,&emsp;<em>A</em><sub>5</sub>/{( )} &asymp; <em>A</em><sub>5</sub>.</p>\n",
    "Since <em>Z</em><sub>2</sub> and <em>A</em><sub>5</sub> are both simple groups, this is a composition series, and the composition factors of <em>S</em><sub>5</sub> are \n",
    "<em>Z</em><sub>2</sub> and <em>A</em><sub>5</sub>.<br><br>\n",
    "\n",
    "A composition series plays a vital role in determining whether a group is solvable or not.<br> \n",
    "\n",
    "\n",
    "DEFINITION 8.8<br>\n",
    "A finite group <em>G</em> is <em>solvable</em> if all of the composition factors of <em>G</em> are cyclic groups of prime order.  A group that is not solvable is called <em>insoluble</em>.\n",
    "\n",
    "We see from this definition that <em>S</em><sub>4</sub> is solvable, whereas <em>S</em><sub>5</sub> is insoluble.<br>\n",
    "\n",
    "<br>\n",
    "Why do we want to know whether a group is solvable or not?  We will later see that a polynomial equation will be solvable by radicals if, and only if, a corresponding group is solvable.  So there is a deep connection between solvable groups and solving polynomial equations."
   ]
  },
  {
   "cell_type": "markdown",
   "id": "7224cd",
   "metadata": {
    "collapsed": false
   },
   "source": [
    "<a name=\"sec85\" id=\"sec85\"></a>\n",
    "<h1>Solving the Pyraminx&trade;</h1>\n",
    "\n",
    "<br>\n",
    "In section 3.3, we introduced a very large group called the Pyraminx&trade; group.  This was the group of all permutations of the faces of the Pyraminx&trade; puzzle \n",
    "obtained by rotating the four corners.  The Pyraminx&trade; puzzle is shown by executing the following command.<br>"
   ]
  },
  {
   "cell_type": "code",
   "execution_count": 0,
   "id": "337798",
   "metadata": {
    "collapsed": false
   },
   "outputs": [
   ],
   "source": [
    "InitPuzzle()"
   ]
  },
  {
   "cell_type": "markdown",
   "id": "1cf6dd",
   "metadata": {
    "collapsed": false
   },
   "source": [
    "<br>\n",
    "This group was described by four generators, <em>r</em>, <em>l</em>, <em>b</em>, and <em>f</em>.  These four elements represent the 120&deg; clockwise rotation of the \n",
    "right, left, back, and front corners respectively.  Recall that we could perform multiple operations in Mathematica using the command RotatePuzzle.  Thus, the command<br>"
   ]
  },
  {
   "cell_type": "code",
   "execution_count": 0,
   "id": "56c1f3",
   "metadata": {
    "collapsed": false
   },
   "outputs": [
   ],
   "source": [
    "RotatePuzzle(r, l)"
   ]
  },
  {
   "cell_type": "markdown",
   "id": "80e519",
   "metadata": {
    "collapsed": false
   },
   "source": [
    "<br>\n",
    "first rotates the right corner, and then the left corner.  We can reset the puzzle with the command<br>"
   ]
  },
  {
   "cell_type": "code",
   "execution_count": 0,
   "id": "9aa337",
   "metadata": {
    "collapsed": false
   },
   "outputs": [
   ],
   "source": [
    "InitPuzzle()"
   ]
  },
  {
   "cell_type": "markdown",
   "id": "8931c3",
   "metadata": {
    "collapsed": false
   },
   "source": [
    "<br>\n",
    "What we want to do in this section is to study this group using the tools that we have learned throughout the course.  From the result of this study we will be able to \n",
    "learn enough to solve the puzzle.  The techniques used in this section can not only be used on other Rubik's puzzles, but on many other puzzles that are marketed \n",
    "today.<br><br>\n",
    "\n",
    "Because this group is so large, (933,120 elements), we will not be able to have <em>SageMath</em> list all of the elements as we have done for the other groups we have \n",
    "studied.  However, we will still be able to gleam information about the group by studying the puzzle.<br><br>\n",
    "\n",
    "We will begin by asking whether the group has a nontrivial center.  That is, are there any elements which commute with all other elements?  In terms of the puzzle, we \n",
    "are asking whether there are any sequence of moves such that the sequence, when performed in conjunction with any other sequence of moves, yields the same effect \n",
    "regardless of the order these two sequences of moves are performed.<br><br>\n",
    "\n",
    "To answer this question, we notice that the four corner pieces, although they can rotate, will never move about in the puzzle.  Suppose that a sequence of moves rotates \n",
    "one of these corner pieces, returning all other pieces to their original positions. The result would look like the following:<br>"
   ]
  },
  {
   "cell_type": "code",
   "execution_count": 0,
   "id": "b16d78",
   "metadata": {
    "collapsed": false
   },
   "outputs": [
   ],
   "source": [
    "PuzzlePosition1()"
   ]
  },
  {
   "cell_type": "markdown",
   "id": "4345f8",
   "metadata": {
    "collapsed": false
   },
   "source": [
    "<br>\n",
    "If another sequence of moves was performed on this position rather than the starting position, the only difference would be that the front corner would be turned \n",
    "another 120&deg; clockwise.  Thus, the action of rotating one corner 120&deg; commutes with all other actions taken on the puzzle.  So this action would be in the center \n",
    "of the group.<br><br>\n",
    "\n",
    "What sequence of moves produces this action?  With a little bit of experimenting, we find one set of moves that work:<br>"
   ]
  },
  {
   "cell_type": "code",
   "execution_count": 0,
   "id": "25f97c",
   "metadata": {
    "collapsed": false
   },
   "outputs": [
   ],
   "source": [
    "InitPuzzle()\n",
    "RotatePuzzle(f,r,f,r,r,f,r,f,r,r)"
   ]
  },
  {
   "cell_type": "markdown",
   "id": "2439b2",
   "metadata": {
    "collapsed": false
   },
   "source": [
    "<br>\n",
    "There are many other sequences of moves that work, all of them are at least as long.  We will later show how <em>SageMath</em> came up with this combination.<br><br>\n",
    "\n",
    "Note that <em>SageMath</em> has a nice animation feature for repeated rotations.  This element obviously has order 3. In fact, we could consider rotating one of the other \n",
    "three corners as well.  Since the four corners act independently, we would have 3&middot;3&middot;3&middot;3 = 81 elements in the center of the group.  Let us call \n",
    "this subgroup <em>K</em>.<br><br>\n",
    "\n",
    "EXPERIMENT:<br>\n",
    "Using the above sequence as a model, can you find sequences of moves which rotate the other 3 corners?<br>"
   ]
  },
  {
   "cell_type": "markdown",
   "id": "0b35b8",
   "metadata": {
    "collapsed": false
   },
   "source": [
    "<br>\n",
    "Are there elements in the center besides those in <em>K</em>?  Actually, there are.  Suppose there was a sequence of moves that produced the following pattern:<br>"
   ]
  },
  {
   "cell_type": "code",
   "execution_count": 0,
   "id": "b5b7d8",
   "metadata": {
    "collapsed": false
   },
   "outputs": [
   ],
   "source": [
    "PuzzlePosition2()"
   ]
  },
  {
   "cell_type": "markdown",
   "id": "1b7292",
   "metadata": {
    "collapsed": false
   },
   "source": [
    "<br>\n",
    "Notice that in this position all corner pieces are in their proper place.  The edge pieces are also in the right position, but they are all reversed.  So such a sequence \n",
    "of moves would effectively reverse all six of the edges.  If another sequence of moves was performed on this position rather than the starting position, the difference \n",
    "in the end positions would be that all six edges would be reversed.  Thus, the action of reversing all six of the edges will commute with all other actions taken on \n",
    "the puzzle.  Therefore, the action of reversing all six edges would also be in the center of the group.<br><br>\n",
    "\n",
    "What sequence of moves reverses all six edges? The shortest solution is as follows, which happens to be easy to remember.<br>"
   ]
  },
  {
   "cell_type": "code",
   "execution_count": 0,
   "id": "a02785",
   "metadata": {
    "collapsed": false
   },
   "outputs": [
   ],
   "source": [
    "InitPuzzle()\n",
    "RotatePuzzle(l,l,b,f,l,l,b,f,l,l,b,f)"
   ]
  },
  {
   "cell_type": "markdown",
   "id": "63a40c",
   "metadata": {
    "collapsed": false
   },
   "source": [
    "<br>\n",
    "This action obviously has order 2, and so this action is different from the other elements of <em>K</em>.<br><br>\n",
    "\n",
    "Are there any other actions that would be in the center of the group?  Could there be an element of the center that moves an edge piece from location <em>A</em> to a \n",
    "new location <em>B</em>?  Such an element would not commute with an action that reverses location <em>A</em> but leaves location <em>B</em> alone.  So all elements of \n",
    "the center must fix the edge pieces.<br><br>\n",
    "\n",
    "What if an element of the center reversed one of the edges at location <em>A</em>, but not all of them?  Say that it left the edge at location <em>B</em> fixed.  This \n",
    "element would not commute with an action that sent the edge at location <em>A</em> to location <em>B</em>.  So an element from the center of the group must either \n",
    "reverse all six edges, or none at all.<br><br>\n",
    "\n",
    "Thus, there are at most 2&middot;3&middot;3&middot;3&middot;3 = 162 elements in the center of the group, and we have discovered the generators which lead to a group \n",
    "of this size.  Thus, the center of the Pyraminx&trade; group is isomorphic to \n",
    "<p style='text-align: center;'><em>Z</em><sub>2</sub> &times; <em>Z</em><sub>3</sub> &times; <em>Z</em><sub>3</sub> &times; <em>Z</em><sub>3</sub> &times; \n",
    "<em>Z</em><sub>3</sub>.</p>\n",
    "The center of the group is certainly a normal subgroup, and includes all actions that return the edges to their original positions.  What if we considered the set of \n",
    "actions that return all of the <em>corners</em> to their original place?  This certainly would be a subgroup, which we will call <em>E</em>.  Let us show that <em>E</em> is \n",
    "a normal subgroup of the Pyraminx&trade; group.  If <em>x</em> is an element of <em>E</em>, and <em>y</em> is a general element, say <em>y</em> rotates the front \n",
    "corner <em>n</em> degrees.  Then <em>y</em>&middot;<em>x</em>&middot;<em>y</em><sup>-1</sup> rotates the front corner <em>n</em> + 0 + (&minus;<em>n</em>) = 0 \n",
    "degrees.  So the front corner returns to its original position.  The same is true for the other 3 corners, and \n",
    "so <em>y</em>&middot;<em>x</em>&middot;<em>y</em><sup>-1</sup> fixes all 4 corners.  Thus, <em>E</em> is a normal subgroup.<br><br>\n",
    "\n",
    "What is the intersection of <em>E</em> and <em>K</em>?  Such an element in the intersection would have to leave both the edges and the corners fixed, and hence would have \n",
    "to be the identity element.  Since both <em>E</em> and <em>K</em> are normal (since <em>K</em> is in the center), by the direct product \n",
    "theorem, <em>E</em>&middot;<em>K</em> is isomorphic to <em>E</em><em>&times;</em><em>K</em>.  Yet any action on the Pyraminx&trade; can be performed by first moving \n",
    "all of the edge pieces, and then moving all of the corners.  Thus, the entire group is in <em>E</em>&middot;<em>K</em>, and so the Pyraminx&trade; group is isomorphic to\n",
    "<p style='text-align: center;'><em>E</em> &times; <em>K</em> &asymp; <em>E</em> &times; <em>Z</em><sub>3</sub> &times; <em>Z</em><sub>3</sub> &times; \n",
    "<em>Z</em><sub>3</sub> &times; <em>Z</em><sub>3</sub>.</p>\n",
    "Therefore, if we can find the structure of the subgroup <em>E</em>, we will have found the structure of the entire Pyraminx&trade; group.<br><br>\n",
    "\n",
    "This breakdown of the structure of the Pyraminx&trade; group gives us a way the solve the puzzle.  Suppose that we first ignore the corners of the puzzle and manage \n",
    "to get all 6 edge pieces in place.  Then by using the routine\n",
    "<p style='text-align: center;'><em>f</em>&middot;<em>r</em>&middot;<em>f</em>&middot;<em>r</em>&middot;<em>r</em>&middot;<em>f</em>&middot;<em>r</em>&middot;<em>f</em>&middot;<em>r</em>&middot;<em>r</em></p>\n",
    "we could rotate the front corner until it was in position.  We could then do the same for the other three corners, and the puzzle would be solved.<br><br>\n",
    "\n",
    "So how do we put the edge pieces in place?  This amounts to analyzing the subgroup <em>E</em>.  In order to ignore the corner pieces it is helpful to have <em>SageMath</em> \n",
    "erase the corners with the following command:<br>"
   ]
  },
  {
   "cell_type": "code",
   "execution_count": 0,
   "id": "f7a483",
   "metadata": {
    "collapsed": false
   },
   "outputs": [
   ],
   "source": [
    "HideCorners()"
   ]
  },
  {
   "cell_type": "markdown",
   "id": "39023d",
   "metadata": {
    "collapsed": false
   },
   "source": [
    "<br>\n",
    "This looks like a much easier puzzle to solve! We can rotate the puzzle without the corners just as before:<br>"
   ]
  },
  {
   "cell_type": "code",
   "execution_count": 0,
   "id": "d7e48f",
   "metadata": {
    "collapsed": false
   },
   "outputs": [
   ],
   "source": [
    "RotatePuzzle(f)"
   ]
  },
  {
   "cell_type": "markdown",
   "id": "b970b2",
   "metadata": {
    "collapsed": false
   },
   "source": [
    "<br>\n",
    "Try changing the &quot;f&quot; in the above command to one of the other possible rotations and re-evaluate the expression.  Since there are only twelve triangles in \n",
    "the puzzle now, it is clear that each action could be described as a permutation of the 12 triangles. In fact, notice that turning one corner 120&deg; moves 6 \n",
    "triangles. If we follow carefully where the triangles go, we find that three of the triangles change places with each other, and the other three also rotate \n",
    "places.  Thus, each turn produces an <em>even</em> permutation of the 12 triangles.  So <em>E</em> is a subgroup of <em>A</em><sub>12</sub>.<br><br>\n",
    "\n",
    "Let us now try to find a normal subgroup of <em>E</em>.  We know that the center of <em>E</em> is the identity together with the element that reverses all six \n",
    "edges.  What if we considered the subgroup of actions which returns the edge pieces to their place, but may reverse some of them?  Let us call this \n",
    "subgroup <em>H</em>.  Is <em>H</em> a normal subgroup of <em>E</em>?  If <em>x</em> be an element of <em>H</em>, and <em>y</em> an element of <em>E</em>, then the \n",
    "action <em>y</em> may move an edge piece from position <em>A</em> to position <em>B</em>.  The action <em>x</em> will keep the edge piece at position <em>B</em>, whether \n",
    "or not it is reversed.  Then <em>y</em><sup>-1</sup> will send the edge piece back to \n",
    "position <em>A</em>.  So <em>y</em>&middot;<em>x</em>&middot;<em>y</em><sup>-1</sup> leaves the edge piece at position <em>A</em> fixed, even though it may be \n",
    "reversed.  The same will be true for all of the edge pieces, and therefore <em>H</em> will be a normal subgroup of <em>E</em>.<br><br>\n",
    "\n",
    "Let us determine the structure of <em>H</em>.  At first one might think that each edge piece may be reversed independently of all of the others, but this is \n",
    "not true.  An action which reverses only <em>one</em> edge piece, leaving all other edge pieces in place, would be an <em>odd</em> permutation of the triangles!  We \n",
    "already observed that <em>E</em> was a subgroup of <em>even</em> permutations.  So every element of <em>H</em> must reverse an even number of edge pieces.<br><br>\n",
    "\n",
    "Is there an element of <em>H</em> that reverses only 2 edges?  Yes, and in fact the following command gives an animation of a sequence of moves producing such an \n",
    "element.<br>"
   ]
  },
  {
   "cell_type": "code",
   "execution_count": 0,
   "id": "3bb173",
   "metadata": {
    "collapsed": false
   },
   "outputs": [
   ],
   "source": [
    "InitPuzzle()\n",
    "RotatePuzzle(l,f,l,b,l,b,f,b,f)"
   ]
  },
  {
   "cell_type": "markdown",
   "id": "63d6a2",
   "metadata": {
    "collapsed": false
   },
   "source": [
    "<br>\n",
    "Since we can reverse the two front edge pieces, we can reverse any two edge pieces which are touching using a similar sequence of moves.  In this way we can reverse \n",
    "any combination of edges as long as the number of edges reversed is even.<br><br>\n",
    "\n",
    "How many elements of <em>H</em> will there be?  If we had considered the edge pieces to be reversed independently, there would have \n",
    "been 2&middot;2&middot;2&middot;2&middot;2&middot;2 = 64 elements.  Of these 64 possibilities, half of them reverse an even number of edges . Therefore there are 32 \n",
    "elements of <em>H</em>.  Note that every element of <em>H</em> besides the identity is of order 2.  Also, <em>H</em> is an abelian group.  By the fundamental theorem \n",
    "of abelian groups every finite abelian group has a unique representation as the direct product of cyclic groups whose order is a power of a prime.  Thus, the only \n",
    "such representation of <em>H</em> would be \n",
    "<p style='text-align: center;'>\n",
    "<em>H</em> &asymp; <em>Z</em><sub>2</sub> &times; <em>Z</em><sub>2</sub> &times; <em>Z</em><sub>2</sub> &times; <em>Z</em><sub>2</sub> &times; <em>Z</em><sub>2</sub>.</p>\n",
    "Now that we know the structure of the normal group <em>H</em>, can we find the structure of the quotient group?  First, suppose we made the corners disappear on our \n",
    "puzzle again.<br>"
   ]
  },
  {
   "cell_type": "code",
   "execution_count": 0,
   "id": "b330c2",
   "metadata": {
    "collapsed": false
   },
   "outputs": [
   ],
   "source": [
    "HideCorners()"
   ]
  },
  {
   "cell_type": "markdown",
   "id": "03f672",
   "metadata": {
    "collapsed": false
   },
   "source": [
    "<br>\n",
    "The quotient group can now be realized by ignoring whether the edge pieces are reversed or not.  That is, we will concern ourselves only with the position of the six \n",
    "edge pieces.  Certainly this would be a subgroup of the permutations of the six edges.  Notice that when we rotate one of the corners,<br>"
   ]
  },
  {
   "cell_type": "code",
   "execution_count": 0,
   "id": "bab265",
   "metadata": {
    "collapsed": false
   },
   "outputs": [
   ],
   "source": [
    "RotatePuzzle(f)"
   ]
  },
  {
   "cell_type": "markdown",
   "id": "479979",
   "metadata": {
    "collapsed": false
   },
   "source": [
    "<br>\n",
    "exactly three of the edge pieces move.  Thus, this is an even permutation of the six edge pieces.  Since <em>E</em>/<em>H</em> is generated by even \n",
    "permutations, <em>E</em>/<em>H</em> must be isomorphic to a subgroup of <em>A</em><sub>6</sub>.<br><br>\n",
    "\n",
    "Using the following reasoning we can see that <em>E</em>/<em>H</em> is isomorphic to all of <em>A</em><sub>6</sub>.  We can clearly manipulate the puzzle to put any of \n",
    "the six edge pieces on the bottom.  We can then, by rotating just the front and back corners, put any of the remaining five edge pieces on the far left.  We then can put \n",
    "any of the four remaining edge pieces into the far right position as follows: If the piece is not already in position, rotate the front corner until it is in the \n",
    "top position.  Then the sequence\n",
    "<p style='text-align: center;'><em>f</em>&middot;<em>b</em>&middot;<em>f</em>&middot;<em>f</em>&middot;<em>b</em>&middot;<em>b</em></p>\n",
    "puts the top edge piece into the far right position.  Finally, we rotate the front corner to place any of the remaining three edge pieces into the top \n",
    "position.  Therefore, there are at least 6&middot;5&middot;4&middot;3 = 360 elements of <em>E</em>/<em>H</em>, so\n",
    "<p style='text-align: center;'><em>E</em>/<em>H</em> &asymp; <em>A</em><sub>6</sub>.</p>"
   ]
  },
  {
   "cell_type": "markdown",
   "id": "a215ae",
   "metadata": {
    "collapsed": false
   },
   "source": [
    "We can use <em>SageMath</em> to analyze this group <em>E</em>.  First we consider the subgroup <em>H</em>, which is the subgroup of flipping an even number of edges.  We can represent the edges by disjoint transpositions."
   ]
  },
  {
   "cell_type": "code",
   "execution_count": 0,
   "id": "7538ba",
   "metadata": {
    "collapsed": false
   },
   "outputs": [
   ],
   "source": [
    "H = Group( C(1,2)*C(3,4), C(3,4)*C(5,6), C(5,6)*C(7,8), C(7,8)*C(9,10), C(9,10)*C(11,12) )"
   ]
  },
  {
   "cell_type": "code",
   "execution_count": 0,
   "id": "da88c7",
   "metadata": {
    "collapsed": false
   },
   "outputs": [
   ],
   "source": [
    "len(H)"
   ]
  },
  {
   "cell_type": "markdown",
   "id": "a90d99",
   "metadata": {
    "collapsed": false
   },
   "source": [
    "Next, we consider the subgroup generated of even permutations of the cycles, without flipping them.  This subgroup is generated by a three cycle and five cycle of edges."
   ]
  },
  {
   "cell_type": "code",
   "execution_count": 0,
   "id": "b8f9ee",
   "metadata": {
    "collapsed": false
   },
   "outputs": [
   ],
   "source": [
    "M = Group( C(1,3,5)*C(2,4,6), C(3,5,7,9,11)*C(4,6,8,10,12) )"
   ]
  },
  {
   "cell_type": "code",
   "execution_count": 0,
   "id": "e277c9",
   "metadata": {
    "collapsed": false
   },
   "outputs": [
   ],
   "source": [
    "len(M)"
   ]
  },
  {
   "cell_type": "markdown",
   "id": "afe36c",
   "metadata": {
    "collapsed": false
   },
   "source": [
    "We now can combine this subgroups, to form the whole group."
   ]
  },
  {
   "cell_type": "code",
   "execution_count": 0,
   "id": "428099",
   "metadata": {
    "collapsed": false
   },
   "outputs": [
   ],
   "source": [
    "G = H * M"
   ]
  },
  {
   "cell_type": "code",
   "execution_count": 0,
   "id": "cd347c",
   "metadata": {
    "collapsed": false
   },
   "outputs": [
   ],
   "source": [
    "len(G)"
   ]
  },
  {
   "cell_type": "markdown",
   "id": "33b3c2",
   "metadata": {
    "collapsed": false
   },
   "source": [
    "This group is far too large to display, even with integer representation.  However, we can determine how many elements there are of a given order, by computing \n",
    "<em>R<sub>k</sub></em>(<em>G</em>) for various <em>k</em>.<br>"
   ]
  },
  {
   "cell_type": "code",
   "execution_count": 0,
   "id": "4a0ae9",
   "metadata": {
    "collapsed": false
   },
   "outputs": [
   ],
   "source": [
    "RootCount(G, 2)"
   ]
  },
  {
   "cell_type": "code",
   "execution_count": 0,
   "id": "3b205d",
   "metadata": {
    "collapsed": false
   },
   "outputs": [
   ],
   "source": [
    "RootCount(G, 3)"
   ]
  },
  {
   "cell_type": "code",
   "execution_count": 0,
   "id": "304e98",
   "metadata": {
    "collapsed": false
   },
   "outputs": [
   ],
   "source": [
    "RootCount(G, 4)"
   ]
  },
  {
   "cell_type": "code",
   "execution_count": 0,
   "id": "ea9cb5",
   "metadata": {
    "collapsed": false
   },
   "outputs": [
   ],
   "source": [
    "RootCount(G, 5)"
   ]
  },
  {
   "cell_type": "code",
   "execution_count": 0,
   "id": "5fddf4",
   "metadata": {
    "collapsed": false
   },
   "outputs": [
   ],
   "source": [
    "RootCount(G, 6)"
   ]
  },
  {
   "cell_type": "code",
   "execution_count": 0,
   "id": "32a303",
   "metadata": {
    "collapsed": false
   },
   "outputs": [
   ],
   "source": [
    "RootCount(G, 8)"
   ]
  },
  {
   "cell_type": "code",
   "execution_count": 0,
   "id": "040631",
   "metadata": {
    "collapsed": false
   },
   "outputs": [
   ],
   "source": [
    "RootCount(G, 10)"
   ]
  },
  {
   "cell_type": "markdown",
   "id": "a46a58",
   "metadata": {
    "collapsed": false
   },
   "source": [
    "<br>\n",
    "This shows the group has 391 elements of order 2.  From this information, we can find the number of elements of any given order, \n",
    "summarized in the following table.<br><br>  \n",
    "\n",
    "\n",
    "<table align = \"center\">\n",
    "  <tr>\n",
    "    <td align = \"left\">1</td>\n",
    "    <td align = \"left\">element of order 1,</td>\n",
    "  </tr> \n",
    "  <tr>\n",
    "     <td>391</td>\n",
    "     <td>elements of order 2,</td>\n",
    "  </tr>   \n",
    "  <tr>\n",
    "     <td>800</td>\n",
    "     <td>elements of order 3,</td>\n",
    "  </tr> \n",
    "  <tr>\n",
    "     <td>2520</td>\n",
    "     <td>elements of order 4,</td>\n",
    "  </tr>         \n",
    "  <tr>\n",
    "     <td>2304</td>\n",
    "     <td>elements of order 5,</td>\n",
    "  </tr>   \n",
    "  <tr>\n",
    "     <td>1760</td>\n",
    "     <td>elements of order 6,</td>\n",
    "  </tr>   \n",
    "  <tr>\n",
    "     <td>1440</td>\n",
    "     <td>elements of order 8,</td>\n",
    "  </tr>   \n",
    "  <tr>\n",
    "     <td>2304</td>\n",
    "     <td>elements of order 10,</td>\n",
    "  </tr>     \n",
    "  <tr>\n",
    "     <td>_____</td>\n",
    "     <td>_________________</td>\n",
    "  </tr>    \n",
    "  <tr>\n",
    "     <td>11520&ensp;</td>\n",
    "     <td>elements total.</td>\n",
    "  </tr>        \n",
    "</table>  \n",
    "\n",
    "<br>\n",
    "This table, along with the fact that the Pyraminx group is \n",
    "<p style='text-align: center;'><em>E</em> &times; <em>Z</em><sub>3</sub> &times; <em>Z</em><sub>3</sub> &times; <em>Z</em><sub>3</sub> &times; <em>Z</em><sub>3</sub>.</p>\n",
    "allows us to analyze the Pyraminx group.<br><br>\n",
    "\n",
    "\n",
    "Knowing the structure of the group allows us the solve the puzzle!  Here is the strategy based on this decomposition of the group.<br><br>\n",
    "\n",
    "1)&emsp;First put all of the edge pieces in place.  We can begin with the bottom, then rotate the front and back corners until the back two edges are in the right \n",
    "place (they may be reversed). Finally, rotate the front corner until all six edges are in place.<br><br> \n",
    "\n",
    "2)&emsp;At this point, an even number of edges will be reversed.  We can find routines that will flip two, four, or six of the edges.  These may rotate corners in \n",
    "the process.<br><br>\n",
    "\n",
    "3)&emsp;Now only the four corner pieces are out of position.  We can find rotations to rotate these into position.<br><br>\n",
    "\n",
    "To find a combination of the four moves <em>f</em>, <em>b</em>, <em>r</em>, and <em>l</em> that will accomplish these goals, we can have <em>SageMath</em> help us.  First we\n",
    "number the 24 triangles, as shown in the textbook.  Since we consider the product of several rotations to be done from left to right, we need to convert the rotations to permutations the way that we converted book rearrangements.  That is, for each number, we consider what new number will be in that position after the rotation.  Thus, the permutation (4 14 23)(5 15 24)(6 16 19) can represent <em>r</em>, while \n",
    "<p style='text-align: center;'><em>l</em> = (8 21 16)(9 22 17)(10 23 18)&emsp;<em>f</em> = (1 7 13)(2 8 14)(6 12 18)&ensp;and&ensp;<em>b</em> = \n",
    "(2 19 10)(3 20 11)(4 21 12).</p>\n",
    "\n",
    "We can enter these into <em>SageMath</em>.<br>"
   ]
  },
  {
   "cell_type": "code",
   "execution_count": 0,
   "id": "60efda",
   "metadata": {
    "collapsed": false
   },
   "outputs": [
   ],
   "source": [
    "r = C(4, 14, 23)*C(5, 15, 24)*C(6, 16, 19)"
   ]
  },
  {
   "cell_type": "code",
   "execution_count": 0,
   "id": "7f661d",
   "metadata": {
    "collapsed": false
   },
   "outputs": [
   ],
   "source": [
    "l = C(8, 21, 16)*C(9, 22, 17)*C(10, 23, 18)"
   ]
  },
  {
   "cell_type": "code",
   "execution_count": 0,
   "id": "ab699b",
   "metadata": {
    "collapsed": false
   },
   "outputs": [
   ],
   "source": [
    "f = C(1, 7, 13)*C(2, 8, 14)*C(6, 12, 18)"
   ]
  },
  {
   "cell_type": "code",
   "execution_count": 0,
   "id": "3c628a",
   "metadata": {
    "collapsed": false
   },
   "outputs": [
   ],
   "source": [
    "b = C(2, 19, 10)*C(3, 20, 11)*C(4, 21, 12)"
   ]
  },
  {
   "cell_type": "markdown",
   "id": "8794ed",
   "metadata": {
    "collapsed": false
   },
   "source": [
    "<br>\n",
    "Now that these rotations are entered into <em>SageMath</em> as permutations, the natural question is how to express any given permutation in the group generated by these elements\n",
    "in terms of <em>f</em>, <em>b</em>, <em>r</em> and <em>l</em> in the most efficient way.  For example, suppose we want to find an efficient way to rotate just the right \n",
    "corner piece clockwise, that is the permutation (5 15 24).  <em>SageMath</em> can do this with the <strong>ExpressAsWord</strong> command.<br>"
   ]
  },
  {
   "cell_type": "code",
   "execution_count": 0,
   "id": "da1183",
   "metadata": {
    "collapsed": false
   },
   "outputs": [
   ],
   "source": [
    "ExpressAsWord([\"r\", \"l\", \"f\", \"b\"], C(5, 15, 24) )"
   ]
  },
  {
   "cell_type": "markdown",
   "id": "dc9612",
   "metadata": {
    "collapsed": false
   },
   "source": [
    "<br>\n",
    "This returns a string that describes one of the fastest ways to reach the target permutation from the permutations given.  If we evaluate the contents of the string,<br>"
   ]
  },
  {
   "cell_type": "code",
   "execution_count": 0,
   "id": "b267a6",
   "metadata": {
    "collapsed": false
   },
   "outputs": [
   ],
   "source": [
    "r*b*r^-2*b^-1*r*b*r*b^-1"
   ]
  },
  {
   "cell_type": "markdown",
   "id": "99b18d",
   "metadata": {
    "collapsed": false
   },
   "source": [
    "<br>\n",
    "we see that indeed this gives us the permutation that we are looking for.  Notice that the first argument in <strong>ExpressAsWord</strong> is a list of strings \n",
    "that represent the generating permutations, whose variables have been previously set up.  Note that <strong>ExpressAsWord</strong> is not guaranteed to produce \n",
    "the <em>shortest</em> solution, merely the first solution it finds.  Rearranging the generating permutations may give a different solution.<br><br>\n",
    "\n",
    "Let us find combinations that will flip two or more edge pieces.  Following the strategy above, we have the advantage that we do not care if the corners are \n",
    "rotated in the process.   So we can enter versions of <em>r</em>, <em>l</em>, <em>f</em>, and <em>b</em> that ignore the corner pieces.<br>"
   ]
  },
  {
   "cell_type": "code",
   "execution_count": 0,
   "id": "6ad826",
   "metadata": {
    "collapsed": false
   },
   "outputs": [
   ],
   "source": [
    "r = C(4, 14, 23)*C(6, 16, 19)"
   ]
  },
  {
   "cell_type": "code",
   "execution_count": 0,
   "id": "59ec33",
   "metadata": {
    "collapsed": false
   },
   "outputs": [
   ],
   "source": [
    "l = C(8, 21, 16)*C(10, 23, 18)"
   ]
  },
  {
   "cell_type": "code",
   "execution_count": 0,
   "id": "6ac243",
   "metadata": {
    "collapsed": false
   },
   "outputs": [
   ],
   "source": [
    "f = C(2, 8, 14)*C(6, 12, 18)"
   ]
  },
  {
   "cell_type": "code",
   "execution_count": 0,
   "id": "837036",
   "metadata": {
    "collapsed": false
   },
   "outputs": [
   ],
   "source": [
    "b = C(2, 19, 10)*C(4, 21, 12)"
   ]
  },
  {
   "cell_type": "markdown",
   "id": "d06556",
   "metadata": {
    "collapsed": false
   },
   "source": [
    "By ignoring corners, we reduce the number of puzzle positions down to 11520, so it should be easy to find combinations that produce the right \n",
    "flips.  For example, to flip the top and front left edges, we need the permutation (2 12)(8 18).<br>"
   ]
  },
  {
   "cell_type": "code",
   "execution_count": 0,
   "id": "d01cc5",
   "metadata": {
    "collapsed": false
   },
   "outputs": [
   ],
   "source": [
    "ExpressAsWord([\"r\", \"l\", \"f\", \"b\"], C(2,12)*C(8,18) )"
   ]
  },
  {
   "cell_type": "markdown",
   "id": "d4f022",
   "metadata": {
    "collapsed": false
   },
   "source": [
    "<br>\n",
    "We can check that this works.<br>"
   ]
  },
  {
   "cell_type": "code",
   "execution_count": 0,
   "id": "7e5bde",
   "metadata": {
    "collapsed": false
   },
   "outputs": [
   ],
   "source": [
    "r*l^-1*b^-1*l*r^-1*f^-1"
   ]
  },
  {
   "cell_type": "markdown",
   "id": "8ac38f",
   "metadata": {
    "collapsed": false
   },
   "source": [
    "<br>\n",
    "EXPERIMENT:<br>\n",
    "Flipping the left rear and front right edges requires the permutation (6 14)(10 21).  Find a combination of <em>r</em>, <em>l</em>, <em>f</em> and <em>b</em> that produce\n",
    "this permutation.<br>"
   ]
  },
  {
   "cell_type": "markdown",
   "id": "1ac253",
   "metadata": {
    "collapsed": false
   },
   "source": [
    "<br>\n",
    "We can use this technique to determine routines for flipping any combination of edges:<br><br>\n",
    "\n",
    "<table align = \"center\">\n",
    "  <tr>\n",
    "    <td align = \"left\"><em>l</em><sup>-1</sup>&middot;<em>b</em>&middot;<em>f</em>&middot;<em>l</em><sup>-1</sup>&middot;<em>b</em>&middot;<em>f</em>&middot;<em>l</em><sup>-1</sup>&middot;<em>b</em>&middot;<em>f</em>&emsp;</td>\n",
    "    <td align = \"left\">flip all six edges</td>\n",
    "  </tr> \n",
    "  <tr>\n",
    "     <td><em>f</em>&middot;<em>b</em>&middot;<em>r</em><sup>-1</sup>&middot;<em>l</em>&middot;<em>r</em>&middot;<em>b</em><sup>-1</sup></td>\n",
    "     <td>flip two front edges</td>\n",
    "  </tr>   \n",
    "  <tr>\n",
    "     <td><em>b</em>&middot;<em>l</em>&middot;<em>b</em>&middot;<em>r</em>&middot;<em>l</em>&middot;<em>r</em><sup>-1</sup>&middot;<em>l</em><sup>-1</sup>&middot;<em>b</em></td>\n",
    "     <td>flip top &amp; bottom edges</td>\n",
    "  </tr> \n",
    "  <tr>\n",
    "     <td><em>f</em>&middot;<em>r</em>&middot;<em>l</em><sup>-1</sup>&middot;<em>b</em>&middot;<em>l</em>&middot;<em>r</em><sup>-1</sup></td>\n",
    "     <td>flip top &amp; front left edges</td>\n",
    "  </tr>         \n",
    "  <tr>\n",
    "     <td><em>r</em>&middot;<em>l</em><sup>-1</sup>&middot;<em>b</em>&middot;<em>l</em>&middot;<em>r</em><sup>-1</sup>&middot;<em>f</em></td>\n",
    "     <td>flip top &amp; front right edges</td>\n",
    "  </tr>   \n",
    "  <tr>\n",
    "     <td><em>r</em>&middot;<em>b</em>&middot;<em>r</em>&middot;<em>l</em>&middot;<em>b</em>&middot;<em>l</em><sup>-1</sup>&middot;<em>b</em><sup>-1</sup>&middot;<em>r</em></td>\n",
    "     <td>flip left rear and front right edges</td>\n",
    "  </tr>\n",
    "  <tr>\n",
    "     <td><em>l</em>&middot;<em>r</em>&middot;<em>l</em>&middot;<em>b</em>&middot;<em>r</em>&middot;<em>b</em><sup>-1</sup>&middot;<em>r</em><sup>-1</sup>&middot;<em>l</em></td>\n",
    "     <td>flip right rear and front left edges</td>\n",
    "  </tr>\n",
    "  <tr>\n",
    "     <td><em>r</em>&middot;<em>b</em>&middot;<em>l</em><sup>-1</sup>&middot;<em>f</em>&middot;<em>l</em>&middot;<em>b</em><sup>-1</sup></td>\n",
    "     <td>flip bottom &amp; front right edges</td>\n",
    "  </tr>    \n",
    "  <tr>\n",
    "     <td><em>l</em>&middot;<em>b</em>&middot;<em>f</em><sup>-1</sup>&middot;<em>r</em>&middot;<em>f</em>&middot;<em>b</em><sup>-1</sup></td>\n",
    "     <td>flip bottom &amp; front left edges</td>\n",
    "  </tr>  \n",
    "  <tr>\n",
    "     <td><em>b</em>&middot;<em>r</em>&middot;<em>f</em><sup>-1</sup>&middot;<em>l</em>&middot;<em>f</em>&middot;<em>r</em><sup>-1</sup></td>\n",
    "     <td>flip top &amp; left rear edges</td>\n",
    "  </tr>  \n",
    "  <tr>\n",
    "     <td><em>b</em>&middot;<em>l</em>&middot;<em>r</em><sup>-1</sup>&middot;<em>f</em>&middot;<em>r</em>&middot;<em>l</em><sup>-1</sup></td>\n",
    "     <td>flip top &amp; right rear edges</td>\n",
    "  </tr>  \n",
    "  <tr>\n",
    "     <td><em>b</em>&middot;<em>f</em>&middot;<em>l</em><sup>-1</sup>&middot;<em>r</em>&middot;<em>l</em>&middot;<em>f</em><sup>-1</sup></td>\n",
    "     <td>flip rear two edges</td>\n",
    "  </tr>  \n",
    "  <tr>\n",
    "     <td><em>l</em>&middot;<em>f</em>&middot;<em>r</em><sup>-1</sup>&middot;<em>b</em>&middot;<em>r</em>&middot;<em>f</em><sup>-1</sup></td>\n",
    "     <td>flip bottom &amp; left rear edges</td>\n",
    "  </tr>  \n",
    "  <tr>\n",
    "     <td><em>r</em>&middot;<em>f</em>&middot;<em>b</em><sup>-1</sup>&middot;<em>l</em>&middot;<em>b</em>&middot;<em>f</em><sup>-1</sup></td>\n",
    "     <td>flip bottom &amp; right rear edges</td>\n",
    "  </tr>  \n",
    "  <tr>\n",
    "     <td><em>l</em>&middot;<em>r</em>&middot;<em>b</em><sup>-1</sup>&middot;<em>f</em>&middot;<em>b</em>&middot;<em>r</em><sup>-1</sup></td>\n",
    "     <td>flip two left-hand edges</td>\n",
    "  </tr>  \n",
    "  <tr>\n",
    "     <td><em>r</em>&middot;<em>l</em>&middot;<em>f</em><sup>-1</sup>&middot;<em>b</em>&middot;<em>f</em>&middot;<em>l</em><sup>-1</sup></td>\n",
    "     <td>flip two right-hand edges</td>\n",
    "  </tr>    \n",
    "</table>  \n",
    "\n",
    "<br>\n",
    "Finally, we found a sequence of moves that rotates the right corner, and leaves the rest of the puzzle intact.  From this sequence, we can learn how to rotate any \n",
    "corner into position:<br><br>\n",
    "\n",
    "<table align = \"center\">\n",
    "  <tr>\n",
    "    <td align = \"left\"><em>f</em>&middot;<em>r</em>&middot;<em>f</em>&middot;<em>r</em><sup>-1</sup>&middot;<em>f</em>&middot;<em>r</em>&middot;<em>f</em>&middot;<em>r</em><sup>-1</sup></td>\n",
    "    <td align = \"left\">rotate front corner 120&deg; clockwise</td>\n",
    "  </tr> \n",
    "  <tr>\n",
    "     <td><em>l</em>&middot;<em>r</em>&middot;<em>l</em>&middot;<em>r</em><sup>-1</sup>&middot;<em>l</em>&middot;<em>r</em>&middot;<em>l</em>&middot;<em>r</em><sup>-1</sup></td>\n",
    "     <td>rotate left corner 120&deg; clockwise</td>\n",
    "  </tr>   \n",
    "  <tr>\n",
    "     <td><em>r</em>&middot;<em>b</em>&middot;<em>r</em>&middot;<em>b</em><sup>-1</sup>&middot;<em>r</em>&middot;<em>b</em>&middot;<em>r</em>&middot;<em>b</em><sup>-1</sup>&emsp;</td>\n",
    "     <td>rotate right corner 120&deg; clockwise</td>\n",
    "  </tr>   \n",
    "\n",
    "<tr>\n",
    "     <td><em>b</em>&middot;<em>r</em>&middot;<em>b</em>&middot;<em>r</em><sup>-1</sup>&middot;<em>b</em>&middot;<em>r</em>&middot;<em>b</em>&middot;<em>r</em><sup>-1</sup></td>\n",
    "     <td>rotate back corner 120&deg; clockwise</td>\n",
    "  </tr>           \n",
    "</table>  \n",
    "\n",
    "<br>\n",
    "By applying these four routines once or twice, we can get all four corners into position, and solve the puzzle!<br><br>\n",
    "\n",
    "This same type of analysis can be used to solve other puzzles, such as the Rubik's Cube<sup>&copy;</sup>.  Several problems in the homework relate to this \n",
    "puzzle.  Thus, we can see a practical application of the properties of groups that we have studied throughout the course.<br><br>\n",
    "\n",
    "But not all applications of groups are fun and games.  Group theory has also become the backbone of modern mathematics and many important proofs, such as the \n",
    "impossibility of finding solutions to fifth degree polynomials, hinge entirely on finite groups.  The theory of finite groups also has applications in quantum \n",
    "physics and inorganic chemistry and crystallography.  Therefore, the material presented in this course has many applications beyond mathematics."
   ]
  },
  {
   "cell_type": "markdown",
   "id": "8a2550",
   "metadata": {
    "collapsed": false
   },
   "source": [
    "<br><br><br><br><br><br><br><br><br><br><br><br><br><br><br><br><br><br><br><br><br><br><br><br><br><br><br><br><br><br><br><br><br><br><br><br><br><br><br><br><br><br>"
   ]
  },
  {
   "cell_type": "markdown",
   "id": "35d177",
   "metadata": {
    "collapsed": false
   },
   "source": [
    "<h1>Proofs:</h1>"
   ]
  },
  {
   "cell_type": "markdown",
   "id": "a015c3",
   "metadata": {
    "collapsed": false
   },
   "source": [
    "<a name=\"prop81\" id=\"prop81\"></a>\n",
    "Proof of Proposition 8.1:<br><br>\n",
    "\n",
    "First, we need to show that <em>Z</em>(<em>G</em>) is a subgroup of <em>G</em>.  If <em>x</em> and <em>y</em> are in <em>Z</em>(<em>G</em>), and <em>a</em> is any element \n",
    "in <em>G</em>, then\n",
    "<p style='text-align: center;'><em>x</em>&middot;<em>y</em>&middot;<em>a</em> = <em>x</em>&middot;<em>a</em>&middot;<em>y</em> = \n",
    "<em>a</em>&middot;<em>x</em>&middot;<em>y</em>.</p>\n",
    "So <em>x</em>&middot;<em>y</em> commutes with all of the elements of <em>G</em>.  Thus, <em>x</em>&middot;<em>y</em> is in <em>Z</em>(<em>G</em>).<br><br>\n",
    "\n",
    "Also, we have\n",
    "<p style='text-align: center;'><em>x</em><sup>-1</sup>&middot;<em>a</em> = (<em>a</em><sup>-1</sup>&middot;<em>x</em>)<sup>-1</sup> = \n",
    "(<em>x</em>&middot;<em>a</em><sup>-1</sup>)<sup>-1</sup> = <em>a</em>&middot;<em>x</em><sup>-1</sup>.</p>\n",
    "So <em>x</em><sup>-1</sup> must also be in <em>Z</em>(<em>G</em>).  Thus, by Proposition 3.2, <em>Z</em>(<em>G</em>) is a subgroup of <em>G</em>.<br><br>\n",
    "\n",
    "Next, we can see that\n",
    "<p style='text-align: center;'><em>a</em>&middot;<em>x</em>&middot;<em>a</em><sup>-1</sup> = <em>x</em>&middot;<em>a</em>&middot;<em>a</em><sup>-1</sup> = <em>x</em>.</p>\n",
    "So <em>a</em>&middot;<em>x</em>&middot;<em>a</em><sup>-1</sup> is in <em>Z</em>(<em>G</em>) whenever <em>x</em> is in <em>Z</em>(<em>G</em>) and <em>a</em> is \n",
    "in <em>G</em>.  Thus, by Proposition 4.4, <em>Z</em>(<em>G</em>) is a normal subgroup of <em>G</em>.<br><br>\n",
    "\n",
    "<a href=\"#prop81ret\">Return to text</a>"
   ]
  },
  {
   "cell_type": "markdown",
   "id": "1dbbfd",
   "metadata": {
    "collapsed": false
   },
   "source": [
    "<br><br><br><br><br><br><br><br><br><br><br><br><br><br><br><br><br><br><br><br><br><br><br><br><br><br><br><br><br><br><br><br><br><br><br><br><br><br><br><br><br><br>"
   ]
  },
  {
   "cell_type": "markdown",
   "id": "41126b",
   "metadata": {
    "collapsed": false
   },
   "source": [
    "<a name=\"prop82\" id=\"prop82\"></a>\n",
    "Proof of Proposition 8.2:<br><br>\n",
    "\n",
    "Suppose that <em>&#981;</em> is an element of <em>S<sub>n</sub></em> or <em>A<sub>n</sub></em> which is not the identity.  We need to show that <em>&#981;</em> cannot be \n",
    "in the center of either <em>S<sub>n</sub></em> or <em>A<sub>n</sub></em>, which amounts to finding an element of <em>A<sub>n</sub></em> that does not commute \n",
    "with <em>&#981;</em>.<br><br>\n",
    "\n",
    "Since <em>&#981;</em> is not the identity, there is some number <em>x</em> that is not fixed by <em>&#981;</em>, say <em>x</em> is mapped to <em>y</em>.  Since \n",
    "<em>n</em> &gt; 3, there is at least one number not in the list <nobr>{<em>x</em>, <em>y</em>, <em>&#981;</em>(<em>y</em>)}.</nobr>  Let <em>z</em> be one of these remaining \n",
    "numbers.  Finally, we let <em>&fnof;</em> be the 3-cycle (<em>x</em> <em>y</em> <em>z</em>).<br><br>\n",
    "\n",
    "Since <em>&fnof;</em> is an even permutation <em>&fnof;</em> is in <em>A<sub>n</sub></em>.  Then <em>&fnof;</em>&middot;<em>&#981;</em> sends <em>x</em> to <em>z</em>, but \n",
    "<em>&#981;</em>&middot;<em>&fnof;</em> sends <em>x</em> to <em>&#981;</em>(<em>y</em>) &ne; <em>z</em>.  Thus, <em>&fnof;</em>&middot;<em>&#981;</em> &ne; \n",
    "<em>&#981;</em>&middot;<em>&fnof;</em>, and <em>&#981;</em> is not in the center of either <em>S<sub>n</sub></em> or <em>A<sub>n</sub></em>.<br><br>\n",
    "\n",
    "<a href=\"#prop82ret\">Return to text</a>"
   ]
  },
  {
   "cell_type": "markdown",
   "id": "694136",
   "metadata": {
    "collapsed": false
   },
   "source": [
    "<br><br><br><br><br><br><br><br><br><br><br><br><br><br><br><br><br><br><br><br><br><br><br><br><br><br><br><br><br><br><br><br><br><br><br><br><br><br><br><br><br><br>"
   ]
  },
  {
   "cell_type": "markdown",
   "id": "13d1b4",
   "metadata": {
    "collapsed": false
   },
   "source": [
    "<a name=\"prop83\" id=\"prop83\"></a>\n",
    "Proof of Proposition 8.3:<br><br>\n",
    "\n",
    "We begin by observing that the mapping\n",
    "<p style='text-align: center;'><em>&#981;</em> : <em>G</em> &rarr; Inn(<em>G</em>)</p>\n",
    "given by\n",
    "<p style='text-align: center;'><em>&#981;<sub>x</sub></em>(<em>y</em>) = <em>x</em>&middot;<em>y</em>&middot;<em>x</em><sup>-1</sup></p>\n",
    "is a homomorphism.  Note that\n",
    "<p style='text-align: center;'>(<em>&#981;</em><sub><em>x</em>&#8321;</sub>&middot;<em>&#981;</em><sub><em>x</em>&#8322;</sub>)(<em>y</em>) =\n",
    "<em>&#981;</em><sub><em>x</em>&#8321;</sub>(<em>&#981;</em><sub><em>x</em>&#8322;</sub>(<em>y</em>)) = \n",
    "<em>&#981;</em><sub><em>x</em>&#8321;</sub>(<em>x</em><sub>2</sub>&middot;<em>y</em>&middot;<em>x</em><sub>2</sub><sup>-1</sup>) =\n",
    "<em>x</em><sub>1</sub>&middot;<em>x</em><sub>2</sub>&middot;<em>y</em>&middot;<em>x</em><sub>2</sub><sup>-1</sup>&middot;<em>x</em><sub>1</sub><sup>-1</sup> =\n",
    "(<em>x</em><sub>1</sub>&middot;<em>x</em><sub>2</sub>)&middot;<em>y</em>&middot;(<em>x</em><sub>1</sub>&middot;<em>x</em><sub>2</sub>)<sup>-1</sup> =\n",
    "<em>&#981;</em><sub><em>x</em>&#8321;&middot;<em>x</em>&#8322;</sub>(<em>y</em>).</p>\n",
    "\n",
    "So <em>&#981;</em><sub><em>x</em>&#8321;</sub>&middot;<em>&#981;</em><sub><em>x</em>&#8322;</sub> = <em>&#981;</em><sub><em>x</em>&#8321;&middot;<em>x</em>&#8322;</sub> and we see that <em>&#981;</em> is a homomorphism.\n",
    "\n",
    "\n",
    "By the definition of the inner automorphisms, this mapping is surjective.  However, \n",
    "this mapping is not necessarily injective.  Let us determine the kernel of <em>&#981;</em>.<br><br>\n",
    "\n",
    "Suppose that <em>&#981;<sub>x</sub></em> is the identity homomorphism.  Then <em>&#981;<sub>x</sub></em>(<em>y</em>) = <em>y</em> for all <em>y</em> in <em>G</em>.  This \n",
    "means that <em>x</em>&middot;<em>y</em>&middot;<em>x</em><sup>-1</sup> = <em>y</em>, or <em>x</em>&middot;<em>y</em> = <em>y</em>&middot;<em>x</em>, for all <em>y</em> \n",
    "in <em>G</em>.  Thus, <em>x</em> is in the center of <em>G</em>.<br><br>\n",
    "\n",
    "Now, suppose <em>x</em> is in <em>Z</em>(<em>G</em>).  Then \n",
    "<p style='text-align: center;'> <em>&#981;<sub>x</sub></em>(<em>y</em>) = <em>x</em>&middot;<em>y</em>&middot;<em>x</em><sup>-1</sup> = \n",
    "<em>y</em>&middot;<em>x</em>&middot;<em>x</em><sup>-1</sup> = <em>y</em>,</p>\n",
    "so <em>&#981;<sub>x</sub></em> is the identity homomorphism.  Thus the kernel of <em>&#981;</em> is precisely the center of <em>G</em>.  Therefore, by the first isomorphism \n",
    "theorem (5.1), we have\n",
    "<p style='text-align: center;'><em>G</em>/<em>Z</em>(<em>G</em>) &asymp; Inn(<em>G</em>).</p>\n",
    "\n",
    "<a href=\"#prop83ret\">Return to text</a>"
   ]
  },
  {
   "cell_type": "markdown",
   "id": "33051a",
   "metadata": {
    "collapsed": false
   },
   "source": [
    "<br><br><br><br><br><br><br><br><br><br><br><br><br><br><br><br><br><br><br><br><br><br><br><br><br><br><br><br><br><br><br><br><br><br><br><br><br><br><br><br><br><br>"
   ]
  },
  {
   "cell_type": "markdown",
   "id": "2f9490",
   "metadata": {
    "collapsed": false
   },
   "source": [
    "<a name=\"prop84\" id=\"prop84\"></a>\n",
    "Proof of Proposition 8.4:<br><br>\n",
    "\n",
    "Let <em>g</em> be an element of <em>G</em>, and <em>z</em> an element of <em>Z</em>(<em>N</em>).  We need to show \n",
    "that <em>g</em>&middot;<em>z</em>&middot;<em>g</em><sup>-1</sup> is in <em>Z</em>(<em>N</em>).   Since <em>N</em> is a normal subgroup of <em>G</em>, we certainly know \n",
    "that <em>g</em>&middot;<em>z</em>&middot;<em>g</em><sup>-1</sup> is in <em>N</em>, so the way to test that it is in <em>Z</em>(<em>N</em>) is to show that it commutes \n",
    "with every element of <em>N</em>.<br><br>\n",
    "\n",
    "Let <em>n</em> be an element of <em>N</em>.  We want to show that <em>g</em>&middot;<em>z</em>&middot;<em>g</em><sup>-1</sup>&middot;<em>n</em> = \n",
    "<em>n</em>&middot;<em>g</em>&middot;<em>z</em>&middot;<em>g</em><sup>-1</sup>.  Let <em>h</em> = <em>g</em><sup>-1</sup>&middot;<em>n</em>&middot;<em>g</em>. Then \n",
    "<em>h</em> is in <em>N</em>, since <em>N</em> is normal in <em>G</em>.  Also, <em>n</em> = <em>g</em>&middot;<em>h</em>&middot;<em>g</em><sup>-1</sup>, so\n",
    "<p style='text-align: center;'><em>g</em>&middot;<em>z</em>&middot;<em>g</em><sup>-1</sup>&middot;<em>n</em> = \n",
    "(<em>g</em>&middot;<em>z</em>&middot;<em>g</em><sup>-1</sup>)&middot;(<em>g</em>&middot;<em>h</em>&middot;<em>g</em><sup>-1</sup>) =\n",
    "<em>g</em>&middot;<em>z</em>&middot;<em>h</em>&middot;<em>g</em><sup>-1</sup> = <em>g</em>&middot;<em>h</em>&middot;<em>z</em>&middot;<em>g</em><sup>-1</sup> =\n",
    "(<em>g</em>&middot;<em>h</em>&middot;<em>g</em><sup>-1</sup>)&middot;(<em>g</em>&middot;<em>z</em>&middot;<em>g</em><sup>-1</sup>) = \n",
    "<em>n</em>&middot;<em>g</em>&middot;<em>z</em>&middot;<em>g</em><sup>-1</sup>.</p>\n",
    "Hence, <em>g</em>&middot;<em>z</em>&middot;<em>g</em><sup>-1</sup> commutes with every element <em>n</em> in <em>N</em>, so \n",
    "<em>g</em>&middot;<em>z</em>&middot;<em>g</em><sup>-1</sup> is in <em>Z</em>(<em>N</em>).  By Proposition 4.4, we have that <em>Z</em>(<em>N</em>) is a normal subgroup \n",
    "of <em>G</em>.<br><br>\n",
    "\n",
    "<a href=\"#prop84ret\">Return to text</a>"
   ]
  },
  {
   "cell_type": "markdown",
   "id": "cafbf3",
   "metadata": {
    "collapsed": false
   },
   "source": [
    "<br><br><br><br><br><br><br><br><br><br><br><br><br><br><br><br><br><br><br><br><br><br><br><br><br><br><br><br><br><br><br><br><br><br><br><br><br><br><br><br><br><br>"
   ]
  },
  {
   "cell_type": "markdown",
   "id": "3f90f4",
   "metadata": {
    "collapsed": false
   },
   "source": [
    "<a name=\"prop85\" id=\"prop85\"></a>\n",
    "Proof of Proposition 8.5:<br><br>\n",
    "\n",
    "Suppose <em>x</em> and <em>y</em> are in <em>N<sub>G</sub></em>(<em>S</em>).  Then <em>x</em>&middot;<em>S</em>&middot;<em>x</em><sup>-1</sup> = <em>S</em>, and \n",
    "<em>y</em>&middot;<em>S</em>&middot;<em>y</em><sup>-1</sup> = <em>S</em>. Thus, <em>S</em> = <em>y</em><sup>-1</sup>&middot;<em>S</em>&middot;<em>y</em>, and so\n",
    "<p style='text-align: center;'>(<em>x</em>&middot;<em>y</em><sup>-1</sup>)&middot;<em>S</em>&middot;(<em>x</em>&middot;<em>y</em><sup>-1</sup>)<sup>-1</sup> = \n",
    "<em>x</em>&middot;(<em>y</em><sup>-1</sup>&middot;<em>S</em>&middot;<em>y</em>)&middot;<em>x</em><sup>-1</sup> = \n",
    "<em>x</em>&middot;<em>S</em>&middot;<em>x</em><sup>-1</sup> = <em>S</em>.</p>\n",
    "Hence, <em>x</em>&middot;<em>y</em><sup>-1</sup> is in <em>N<sub>G</sub></em>(<em>S</em>), and so by Proposition 3.2, <em>N<sub>G</sub></em>(<em>S</em>) is a subgroup \n",
    "of <em>G</em>.<br><br>\n",
    "\n",
    "<a href=\"#prop85ret\">Return to text</a>"
   ]
  },
  {
   "cell_type": "markdown",
   "id": "6c1442",
   "metadata": {
    "collapsed": false
   },
   "source": [
    "<br><br><br><br><br><br><br><br><br><br><br><br><br><br><br><br><br><br><br><br><br><br><br><br><br><br><br><br><br><br><br><br><br><br><br><br><br><br><br><br><br><br>"
   ]
  },
  {
   "cell_type": "markdown",
   "id": "3cec1c",
   "metadata": {
    "collapsed": false
   },
   "source": [
    "<a name=\"prop86\" id=\"prop86\"></a>\n",
    "Proof of Proposition 8.6:<br><br>\n",
    "\n",
    "First, we must check to see that <em>H</em> is a normal subgroup of <em>N<sub>G</sub></em>(<em>H</em>). But this is obvious, since \n",
    "<em>g</em>&middot;<em>H</em>&middot;<em>g</em><sup>-1</sup> = <em>H</em> for all <em>g</em> in <em>N<sub>G</sub></em>(<em>H</em>).<br><br>\n",
    "\n",
    "Next, we must see that <em>N<sub>G</sub></em>(<em>H</em>) is the largest such group.  Suppose that <em>Y</em> is another subgroup of <em>G</em> that contained <em>H</em> as \n",
    "a normal subgroup.  Then\n",
    "<p style='text-align: center;'><em>y</em>&middot;<em>H</em>&middot;<em>y</em><sup>-1</sup> = <em>H</em>&emsp;for all <em>y</em> &isin; <em>Y</em>.</p>\n",
    "Thus, <em>Y</em> &sube; <em>N<sub>G</sub></em>(<em>H</em>).  Since any subgroup of <em>G</em> that contains <em>H</em> as a normal subgroup is itself contained in \n",
    "<em>N<sub>G</sub></em>(<em>H</em>), we have that <em>N<sub>G</sub></em>(<em>H</em>) is the largest such group.<br><br>\n",
    "\n",
    "<a href=\"#prop86ret\">Return to text</a>"
   ]
  },
  {
   "cell_type": "markdown",
   "id": "ee2b44",
   "metadata": {
    "collapsed": false
   },
   "source": [
    "<br><br><br><br><br><br><br><br><br><br><br><br><br><br><br><br><br><br><br><br><br><br><br><br><br><br><br><br><br><br><br><br><br><br><br><br><br><br><br><br><br><br>"
   ]
  },
  {
   "cell_type": "markdown",
   "id": "a020df",
   "metadata": {
    "collapsed": false
   },
   "source": [
    "<a name=\"prop87\" id=\"prop87\"></a>\n",
    "Proof of Proposition 8.7:<br><br>\n",
    "\n",
    "The group <em>G</em> itself is in the collection <em>L</em>, so this collection is not empty. Thus, by Proposition 3.3, <em>N</em><sup>&ast;</sup> is a subgroup \n",
    "of <em>G</em>.  Also, since each <em>N</em> in the collection contained the set <em>S</em>, the intersection will also contain <em>S</em>.  All that needs to be shown \n",
    "is that <em>N</em><sup>&ast;</sup> is normal.<br><br>\n",
    " \n",
    "If <em>n</em> is an element of <em>N</em><sup>&ast;</sup>, and <em>g</em> is an element of <em>G</em>, then since each <em>N</em> is a normal subgroup of <em>G</em>, \n",
    "and <em>n</em> would be in all of the groups <em>N</em>,\n",
    "<p style='text-align: center;'><em>g</em>&middot;<em>n</em>&middot;<em>g</em><sup>-1</sup> &isin; <em>N</em>&emsp;for all <em>N</em> &isin; <em>L</em>.</p>\n",
    "Thus, <em>g</em>&middot;<em>n</em>&middot;<em>g</em><sup>-1</sup> is in the intersection of all of the <em>N</em>'s, which is <em>N</em><sup>&ast;</sup>.  Hence, by \n",
    "Proposition 4.4, <em>N</em><sup>&ast;</sup> is a normal subgroup of <em>G</em>.<br><br>\n",
    "\n",
    "<a href=\"#prop87ret\">Return to text</a>"
   ]
  },
  {
   "cell_type": "markdown",
   "id": "06b999",
   "metadata": {
    "collapsed": false
   },
   "source": [
    "<br><br><br><br><br><br><br><br><br><br><br><br><br><br><br><br><br><br><br><br><br><br><br><br><br><br><br><br><br><br><br><br><br><br><br><br><br><br><br><br><br><br>"
   ]
  },
  {
   "cell_type": "markdown",
   "id": "4faca4",
   "metadata": {
    "collapsed": false
   },
   "source": [
    "<a name=\"lem81\" id=\"lem81\"></a>\n",
    "Proof of Lemma 8.1:<br><br>\n",
    "\n",
    "We begin by showing that the conjugate of a 3-cycle is again a 3-cycle.  Let (<em>a</em> <em>b</em> <em>c</em>) be a 3-cycle, and let <em>&#981;</em> be any permutation \n",
    "in <em>A<sub>n</sub></em>.  Suppose that <nobr><em>x</em> = <em>&#981;</em>(<em>a</em>),</nobr>&ensp;<nobr><em>y</em> = <em>&#981;</em>(<em>b</em>),</nobr> and \n",
    "<nobr><em>z</em> = <em>&#981;</em>(<em>c</em>).</nobr>  Then we can compute\n",
    "<p style='text-align: center;'><em>&#981;</em>&middot;(<em>a</em> <em>b</em> <em>c</em>)&middot;<em>&#981;</em><sup>-1</sup> = (<em>x</em> <em>y</em> <em>z</em>).</p>\n",
    "Thus the conjugate of a 3-cycle is another 3-cycle.<br><br>\n",
    "\n",
    "Next we will show that any 3-cycle is conjugate to the element (1 2 3) in <em>A<sub>n</sub></em>. Let (<em>u</em> <em>v</em> <em>w</em>) be a \n",
    "3-cycle.  Since <em>n</em> &gt; 4 there must be at least two numbers not mentioned in this 3-cycle, so we will call two of them <em>x</em> and <em>y</em>.  Consider \n",
    "the permutation\n",
    "<br><br>\n",
    "<table align=\"center\" border=\"0\" cellspacing=\"0\" cellpadding=\"0\">\n",
    "  <tr>\n",
    "    <td rowspan = \"2\" align=\"right\"><em>&#981;</em> =</td>\n",
    "    <td align=\"right\" valign=\"bottom\">&#9115;</td>\n",
    "    <td align=\"center\">1</td>\n",
    "    <td align=\"center\">2</td>\n",
    "    <td align=\"center\">3</td>\n",
    "    <td align=\"center\">4</td>\n",
    "    <td align=\"center\">5</td>\n",
    "    <td align=\"center\">&#8943;</td>\n",
    "    <td align=\"left\" valign=\"bottom\">&#9118;</td>\n",
    "    <td rowspan = \"2\" align=\"left\">.</td>\n",
    "  </tr>\n",
    "  <tr>\n",
    "    <td align=\"right\" valign=\"top\">&#9117;</td>\n",
    "    <td align=\"center\"><em>u</em></td>\n",
    "    <td align=\"center\"><em>v</em></td>\n",
    "    <td align=\"center\"><em>w</em></td>\n",
    "    <td align=\"center\"><em>x</em></td>\n",
    "    <td align=\"center\"><em>y</em></td>\n",
    "    <td align=\"center\">&#8943;</td>\n",
    "    <td align=\"left\" valign=\"top\">&#9120;</td>\n",
    "  </tr>\n",
    "</table>\n",
    "\n",
    "<br>\n",
    "Here, the dots indicate that when <em>n</em> &gt; 5, we can complete the permutation in any way so that the numbers on the bottom row will be a permutation of the \n",
    "numbers 1 through <em>n</em>.<br><br>\n",
    "\n",
    "Now <em>&#981;</em> will either be an even permutation or an odd permutation.  If <em>&#981;</em> is an odd permutation, we can consider instead the permutation\n",
    "<br><br>\n",
    "<table align=\"center\" border=\"0\" cellspacing=\"0\" cellpadding=\"0\">\n",
    "  <tr>\n",
    "    <td rowspan = \"2\" align=\"right\"><em>&#981;</em> =</td>\n",
    "    <td align=\"right\" valign=\"bottom\">&#9115;</td>\n",
    "    <td align=\"center\">1</td>\n",
    "    <td align=\"center\">2</td>\n",
    "    <td align=\"center\">3</td>\n",
    "    <td align=\"center\">4</td>\n",
    "    <td align=\"center\">5</td>\n",
    "    <td align=\"center\">&#8943;</td>\n",
    "    <td align=\"left\" valign=\"bottom\">&#9118;</td>\n",
    "    <td rowspan = \"2\" align=\"left\">.</td>\n",
    "  </tr>\n",
    "  <tr>\n",
    "    <td align=\"right\" valign=\"top\">&#9117;</td>\n",
    "    <td align=\"center\"><em>u</em></td>\n",
    "    <td align=\"center\"><em>v</em></td>\n",
    "    <td align=\"center\"><em>w</em></td>\n",
    "    <td align=\"center\"><em>y</em></td>\n",
    "    <td align=\"center\"><em>x</em></td>\n",
    "    <td align=\"center\">&#8943;</td>\n",
    "    <td align=\"left\" valign=\"top\">&#9120;</td>\n",
    "  </tr>\n",
    "</table>\n",
    "<br>\n",
    "So we may assume that <em>&#981;</em> is an even permutation.  Thus <em>&#981;</em> is in <em>A<sub>n</sub></em>, and we can compute\n",
    "<p style='text-align: center;'><em>&#981;</em>&middot;(1 2 3)&middot;<em>&#981;</em><sup>-1</sup> = (<em>u v w</em>).</p>\n",
    "Therefore, any 3-cycle is conjugate to (1 2 3), and so any two 3-cycles are conjugate to each other in <em>A<sub>n</sub></em> whenever <em>n</em> &gt; 4.<br><br>\n",
    "\n",
    "<a href=\"#lem81ret\">Return to text</a>"
   ]
  },
  {
   "cell_type": "markdown",
   "id": "c03d55",
   "metadata": {
    "collapsed": false
   },
   "source": [
    "<br><br><br><br><br><br><br><br><br><br><br><br><br><br><br><br><br><br><br><br><br><br><br><br><br><br><br><br><br><br><br><br><br><br><br><br><br><br><br><br><br><br>"
   ]
  },
  {
   "cell_type": "markdown",
   "id": "2d3515",
   "metadata": {
    "collapsed": false
   },
   "source": [
    "<a name=\"theor81\" id=\"theor81\"></a>\n",
    "Proof of Theorem 8.1:<br><br>\n",
    "\n",
    "Suppose that <em>N</em> is a proper normal subgroup of <em>A<sub>n</sub></em>, and let <em>&#981;</em> be an element of <em>N</em> besides the identity.  By \n",
    "Proposition 8.2, <em>A<sub>n</sub></em> is centerless.  Since Proposition 6.1 tells us that <em>A<sub>n</sub></em> is generated by 3-cycles, there must be at least \n",
    "one 3-cycle that does not commute with <em>&#981;</em>, say (<em>a b c</em>).  Thus, <em>&#981;</em>&middot;(<em>a</em> <em>b</em> <em>c</em>) is not \n",
    "equal to (<em>a b c</em>)&middot;<em>&#981;</em>, or \n",
    "equivalently, <nobr>(<em>a b c</em>)&middot;<em>&#981;</em>&middot;(<em>a c b</em>)&middot;<em>&#981;</em><sup>-1</sup></nobr> is \n",
    "not the identity element.<br><br>\n",
    "\n",
    "Since <em>N</em> is a normal subgroup, (<em>a b c</em>)&middot;<em>&#981;</em>&middot;(<em>a c b</em>) must be \n",
    "in <em>N</em>.  Thus, (<em>a b c</em>)&middot;<em>&#981;</em>&middot;(<em>a c b</em>)&middot;<em>&#981;</em><sup>-1</sup> must also be \n",
    "in <em>N</em>.  But <em>&#981;</em>&middot;(<em>a c b</em>)&middot;<em>&#981;</em><sup>-1</sup> is the conjugate of a 3-cycle, so by Lemma 8.1 this is also a 3-cycle, \n",
    "say (<em>x y z</em>).  Thus, <em>N</em> contains a product of two 3-cycles, (<em>a b c</em>)&middot;(<em>x y z</em>), which is not the identity.  In essence \n",
    "we can say that there is a non-identity element of <em>N</em> that moves at most six numbers,\n",
    "labeled <em>a</em>, <em>b</em>, <em>c</em>, <em>x</em>, <em>y</em>, and <em>z</em>.  If there are duplicates in this list, we can add arbitrary numbers \n",
    "so that we have six different numbers.<br><br>\n",
    "\n",
    "Here's where we can take advantage of the fact that <em>A</em><sub>6</sub> is known to be simple.  Consider the subgroup <em>H</em> of <em>A<sub>n</sub></em> consisting \n",
    "of all even permutations of the six numbers <em>a</em>, <em>b</em>, <em>c</em>, <em>x</em>, <em>y</em>, and <em>z</em>.  \n",
    "We have just showed that there is a nontrivial intersection \n",
    "of <em>N</em> and <em>H</em>.  Let this intersection be <em>M</em>.  Whenever <em>x</em> is in <em>M</em> and <em>h</em> is in <em>H</em>, \n",
    "then <em>h</em>&middot;<em>x</em>&middot;<em>h</em><sup>-1</sup> is in both <em>H</em> and <em>N</em>.  Thus <em>h</em>&middot;<em>x</em>&middot;<em>h</em><sup>-1</sup> is \n",
    "in <em>M</em>.  Hence <em>M</em> is a nontrivial normal subgroup of <em>H</em>.<br><br>\n",
    "\n",
    "But <em>H</em> is isomorphic to <em>A</em><sub>6</sub> which we have proven to be a simple group.  Thus <em>M</em> must be all of \n",
    "<em>H</em>.  In particular <em>M</em> contains a 3-cycle, and so <em>N</em> contains a 3-cycle.  By Lemma 8.1 all 3-cycles of <em>A<sub>n</sub></em> are conjugate, so \n",
    "<em>N</em> contains all 3-cycles of <em>A<sub>n</sub></em>.  Finally, by Proposition 6.1 the 3-cycles generate <em>A<sub>n</sub></em>, so <em>N</em> must be all \n",
    "of <em>A<sub>n</sub></em>.  Therefore, <em>A<sub>n</sub></em> is simple whenever <em>n</em> &gt; 4.<br><br>\n",
    "\n",
    "<a href=\"#theor81ret\">Return to text</a>"
   ]
  },
  {
   "cell_type": "markdown",
   "id": "1c358e",
   "metadata": {
    "collapsed": false
   },
   "source": [
    "<br><br><br><br><br><br><br><br><br><br><br><br><br><br><br><br><br><br><br><br><br><br><br><br><br><br><br><br><br><br><br><br><br><br><br><br><br><br><br><br><br><br>"
   ]
  },
  {
   "cell_type": "markdown",
   "id": "8b0b15",
   "metadata": {
    "collapsed": false
   },
   "source": [
    "<a name=\"cor81\" id=\"cor81\"></a>\n",
    "Proof of Corollary 8.1:<br><br>\n",
    "\n",
    "Suppose that there were another normal subgroup, <em>N</em>.  Then the intersection of <em>N</em> with <em>A<sub>n</sub></em> would be another normal subgroup of \n",
    "<em>S<sub>n</sub></em>, and so would be a normal subgroup of <em>A<sub>n</sub></em>.  Since <em>A<sub>n</sub></em> is simple for <em>n</em> &gt; 4, this intersection \n",
    "must either be the identity or all of <em>A<sub>n</sub></em>.<br><br>\n",
    "\n",
    "Suppose that the intersection is all of <em>A<sub>n</sub></em>.  Then <em>N</em> contains <em>A<sub>n</sub></em>, and \n",
    "if <em>N</em> is not equal to <em>A<sub>n</sub></em>, <em>N</em> would contain more than half of the elements of <em>S<sub>n</sub></em>.  But this would contradict \n",
    "Lagrange's theorem (4.1) unless <em>N</em> = <em>S<sub>n</sub></em>.<br><br>\n",
    "\n",
    "Suppose that the intersection of <em>N</em> and <em>A<sub>n</sub></em> is just the identity element.  Then since both <em>N</em> and <em>A<sub>n</sub></em> are \n",
    "normal subgroups, we have by Corollary 7.1,\n",
    "<p style='text-align: center;'><em>N</em>&middot;<em>A<sub>n</sub></em> &asymp; <em>N</em> &times; <em>A<sub>n</sub></em>.</p>\n",
    "If <em>N</em> is not just the identity element, this quickly leads to a contradiction, for <em>N</em> could have order of at most 2, telling us \n",
    "that <em>S<sub>n</sub></em> was isomorphic to <em>Z</em><sub>2</sub> &times; <em>A<sub>n</sub></em>.  But this is ridiculous, for we saw in Proposition 8.2 \n",
    "that <em>S<sub>n</sub></em> was centerless, whereas <em>Z</em><sub>2</sub> &times; <em>A<sub>n</sub></em> has both (0, ( )) and (1, ( )) in its center.  Therefore, \n",
    "the only normal subgroups of <em>S<sub>n</sub></em> for <em>n</em> &gt; 4 are <em>S<sub>n</sub></em> itself, <em>A<sub>n</sub></em>, and the identity element.<br><br>\n",
    "\n",
    "<a href=\"#cor81ret\">Return to text</a>"
   ]
  },
  {
   "cell_type": "markdown",
   "id": "b404c4",
   "metadata": {
    "collapsed": false
   },
   "source": [
    "<br><br><br><br><br><br><br><br><br><br><br><br><br><br><br><br><br><br><br><br><br><br><br><br><br><br><br><br><br><br><br><br><br><br><br><br><br><br><br><br><br><br>"
   ]
  },
  {
   "cell_type": "markdown",
   "id": "97d284",
   "metadata": {
    "collapsed": false
   },
   "source": [
    "<a name=\"prop88\" id=\"prop88\"></a>\n",
    "Proof of Proposition 8.8:<br><br>\n",
    "\n",
    "Note that if there are no repeated subgroups in the subnormal series, then each <em>G</em><sub><em>k</em>&minus;1</sub>/<em>G<sub>k</sub></em> must contain at least two \n",
    "elements.  Likewise, if <em>G</em><sub><em>k</em>&minus;1</sub>/<em>G<sub>k</sub></em> is nontrivial, then <em>G</em><sub><em>k</em>&minus;1</sub> is not equal \n",
    "to <em>G<sub>k</sub></em>.  So the quotient groups are nontrivial if, and only if, there are no repeated subgroups in the subnormal series.<br>\n",
    "<br>\n",
    "\n",
    "Suppose that the subnormal series is not a composition series yet does not repeat any subgroups.  Then there must be an additional group <em>H</em> that we can add \n",
    "between <em>G</em><sub><em>k</em>&minus;1</sub> and <em>G<sub>k</sub></em>, so that\n",
    "<p style='text-align: center;'><em>G</em><sub><em>k</em>&minus;1</sub> &supe; <em>H</em> &supe; <em>G<sub>k</sub></em>,</p>\n",
    "where <em>H</em> is a normal subgroup of <em>G</em><sub><em>k</em>&minus;1</sub> and <em>G<sub>k</sub></em> is a normal subgroup of <em>H</em>.  Then by \n",
    "Lemma 5.6, <em>H</em>/<em>G<sub>k</sub></em> will be a normal subgroup of <em>G</em><sub><em>k</em>&minus;1</sub>/<em>G<sub>k</sub></em>, and since <em>H</em> is \n",
    "neither <em>G</em><sub><em>k</em>&minus;1</sub> nor <em>G<sub>k</sub></em>, we have a proper normal \n",
    "subgroup of <em>G</em><sub><em>k</em>&minus;1</sub>/<em>G<sub>k</sub></em>.<br><br>\n",
    "\n",
    "Now suppose that there is a proper normal subgroup <em>N</em> of <em>G</em><sub><em>k</em>&minus;1</sub>/<em>G<sub>k</sub></em>.  Can we then lift <em>N</em> to find \n",
    "a suitable subgroup <em>H</em> to fit between <em>G</em><sub><em>k</em>&minus;1</sub> and <em>G<sub>k</sub></em>?  If we consider the canonical \n",
    "homomorphism <em>&#981;</em> from <em>G</em><sub><em>k</em>&minus;1</sub> to the quotient group <em>G</em><sub><em>k</em>&minus;1</sub>/<em>G<sub>k</sub></em>, we can \n",
    "take <em>H</em> = <em>&#981;</em><sup>-1</sup>(<em>N</em>).  Then since <em>N</em> is a normal subgroup \n",
    "of <em>G</em><sub><em>k</em>&minus;1</sub>/<em>G<sub>k</sub></em>, by Corollary 5.2 <em>H</em> will be a normal subgroup \n",
    "of <em>G</em><sub><em>k</em>&minus;1</sub>.  Also, <em>G<sub>k</sub></em> will be a normal subgroup of <em>H</em>, for <em>H</em> is \n",
    "in <em>G</em><sub><em>k</em>&minus;1</sub>.  Because <em>N</em> has at least two elements, <em>H</em> will be strictly larger than the kernel of <em>&#981;</em>, yet \n",
    "since <em>N</em> is not the entire image of <em>&#981;</em>, <em>H</em> will be strictly smaller than <em>G</em><sub><em>k</em>&minus;1</sub>.  Therefore, the \n",
    "subnormal series is not a composition series.<br><br>\n",
    "\n",
    "Thus, a subnormal series is a composition series if, and only if, the quotient groups <em>G</em><sub><em>k</em>&minus;1</sub>/<em>G<sub>k</sub></em> are nontrivial \n",
    "simple groups.<br><br>\n",
    "\n",
    "<a href=\"#prop88ret\">Return to text</a>"
   ]
  },
  {
   "cell_type": "markdown",
   "id": "666e45",
   "metadata": {
    "collapsed": false
   },
   "source": [
    "<br><br><br><br><br><br><br><br><br><br><br><br><br><br><br><br><br><br><br><br><br><br><br><br><br><br><br><br><br><br><br><br><br><br><br><br><br><br><br><br><br><br>"
   ]
  },
  {
   "cell_type": "markdown",
   "id": "ed7367",
   "metadata": {
    "collapsed": false
   },
   "source": [
    "<a name=\"lem82\" id=\"lem82\"></a>\n",
    "Proof of Lemma 8.2:<br><br>\n",
    "\n",
    "Note that (<em>X</em> &cap; <em>Z</em>) &sube; <em>X</em>, and since <em>Y</em> &sube; <em>X</em>, <em>Y</em>&middot;(<em>X</em> &cap; <em>Z</em>) &sube; \n",
    "<em>X</em>.  Also, (<em>X</em> &cap; <em>Z</em>) &sube; <em>Z</em>, so <em>Y</em>&middot;(<em>X</em> &cap; <em>Z</em>) &sube; \n",
    "<em>Y</em>&middot;<em>Z</em>.  Hence,\n",
    "<p style='text-align: center;'><em>Y</em>&middot;(<em>X</em> &cap; <em>Z</em>) &sube; <em>X</em> &cap; (<em>Y</em>&middot;<em>Z</em>).</p>\n",
    "All we need to do is prove the inclusion in the other direction. Suppose that <em>x</em> &isin; <em>X</em> &cap;(<em>Y</em>&middot;<em>Z</em>).  Then <em>x</em> is \n",
    "in <em>X</em>, and can also be written as <em>x</em> = <em>y</em>&middot;<em>z</em>, where <em>y</em> is in <em>Y</em>, and <em>z</em> is in <em>Z</em>.  But \n",
    "then <em>z</em> = <em>y</em><sup>-1</sup>&middot;<em>x</em> would be in both <em>X</em> and <em>Z</em>.  Thus,\n",
    "<p style='text-align: center;'><em>x</em> = <em>y</em>&middot;(<em>y</em><sup>-1</sup>&middot;<em>x</em>) &isin; <em>Y</em>&middot;(<em>X</em> &cap; <em>Z</em>).</p>\n",
    "Therefore, we have inclusions in both directions, so\n",
    "<p style='text-align: center;'><em>Y</em>&middot;(<em>X</em> &cap; <em>Z</em>) = <em>X</em> &cap; (<em>Y</em>&middot;<em>Z</em>).</p>\n",
    "So far, we haven't used the fact that <em>Y</em>&middot;<em>Z</em> = <em>Z</em>&middot;<em>Y</em>.  By Lemma 5.2, <em>Y</em>&middot;<em>Z</em> is a subgroup \n",
    "of <em>G</em>, and so the intersection of <em>X</em> with <em>Y</em>&middot;<em>Z</em> is a subgroup of <em>G</em>.  So by Lemma 5.2 again, we have\n",
    "<p style='text-align: center;'><em>Y</em>&middot;(<em>X</em> &cap; <em>Z</em>) = (<em>X</em> &cap; <em>Z</em>)&middot;<em>Y</em>.</p>\n",
    "\n",
    "<a href=\"#lem82ret\">Return to text</a>"
   ]
  },
  {
   "cell_type": "markdown",
   "id": "4296d6",
   "metadata": {
    "collapsed": false
   },
   "source": [
    "<br><br><br><br><br><br><br><br><br><br><br><br><br><br><br><br><br><br><br><br><br><br><br><br><br><br><br><br><br><br><br><br><br><br><br><br><br><br><br><br><br><br>"
   ]
  },
  {
   "cell_type": "markdown",
   "id": "e6af6c",
   "metadata": {
    "collapsed": false
   },
   "source": [
    "<a name=\"lem83\" id=\"lem83\"></a>\n",
    "Proof of Lemma 8.3:<br><br>\n",
    "\n",
    "Since <em>Z</em> is a normal subgroup of <em>G</em>, both <em>Y</em>&middot;<em>Z</em> and <em>X</em>&middot;<em>Z</em> are subgroups of G by Lemma 5.3.  If we \n",
    "let <em>y</em>&middot;<em>z</em> be in <em>Y</em>&middot;<em>Z</em>, and <em>x</em>&middot;<em>w</em> be in <em>X</em>&middot;<em>Z</em>, then\n",
    "<p style='text-align: center;'>(<em>x</em>&middot;<em>w</em>)&middot;(<em>y</em>&middot;<em>z</em>)&middot;(<em>x</em>&middot;<em>w</em>)<sup>-1</sup> = \n",
    "<em>x</em>&middot;(<em>y</em>&middot;<em>x</em><sup>-1</sup>&middot;<em>x</em>&middot;<em>y</em><sup>-1</sup>)&middot;<em>w</em>&middot;<em>y</em>&middot;<em>z</em>&middot;<em>w</em><sup>-1</sup>&middot;<em>x</em><sup>-1</sup> = \n",
    "(<em>x</em>&middot;<em>y</em>&middot;<em>x</em><sup>-1</sup>)&middot;(<em>x</em>&middot;(<em>y</em><sup>-1</sup>&middot;<em>w</em>&middot;<em>y</em>)&middot;<em>z</em>&middot;<em>w</em><sup>-1</sup>&middot;<em>x</em><sup>-1</sup>).</p>\n",
    "Now, <em>x</em>&middot;<em>y</em>&middot;<em>x</em><sup>-1</sup> is in <em>Y</em>, since <em>Y</em> is a normal subgroup \n",
    "of <em>X</em>.  Likewise, <em>y</em><sup>-1</sup>&middot;<em>w</em>&middot;<em>y</em> is in <em>Z</em>, since <em>y</em> is \n",
    "in <em>G</em>.  Then (<em>y</em><sup>-1</sup>&middot;<em>w</em>&middot;<em>y</em>)&middot;<em>z</em>&middot;<em>w</em><sup>-1</sup> is in <em>Z</em>, and \n",
    "so <em>x</em>&middot;(<em>y</em><sup>-1</sup>&middot;<em>w</em>&middot;<em>y</em>)&middot;<em>z</em>&middot;<em>w</em><sup>-1</sup>&middot;<em>x</em><sup>-1</sup> is \n",
    "in <em>Z</em>, since <em>x</em> is \n",
    "in <em>G</em>.  Therefore, \n",
    "<p style='text-align: center;'>(<em>x</em>&middot;<em>w</em>)&middot;(<em>y</em>&middot;<em>z</em>)&middot;(<em>x</em>&middot;<em>w</em>)<sup>-1</sup> &isin; \n",
    "<em>Y</em>&middot;<em>Z</em>,</p>\n",
    "and so <em>Y</em>&middot;<em>Z</em> is a normal subgroup of <em>X</em>&middot;<em>Z</em>.<br><br>\n",
    "\n",
    "We now can use the second isomorphism theorem (5.2), using <em>K</em> = <em>Y</em>&middot;<em>Z</em>.  We have that <em>X</em>&middot;<em>K</em> = \n",
    "<em>X</em>&middot;<em>Y</em>&middot;<em>Z</em> = <em>X</em>&middot;<em>Z</em>, since <em>Y</em> is a subgroup of <em>X</em>.  So\n",
    "<p style='text-align: center;'>(<em>X</em>&middot;<em>Z</em>)/(<em>Y</em>&middot;<em>Z</em>) = (<em>X</em>&middot;<em>K</em>)/<em>K</em> &asymp; \n",
    "<em>X</em>/(<em>X</em> &cap; <em>K</em>) = <em>X</em>/(<em>X</em> &cap; (<em>Y</em>&middot;<em>Z</em>)).</p>\n",
    "\n",
    "<a href=\"#lem83ret\">Return to text</a>"
   ]
  },
  {
   "cell_type": "markdown",
   "id": "eb194f",
   "metadata": {
    "collapsed": false
   },
   "source": [
    "<br><br><br><br><br><br><br><br><br><br><br><br><br><br><br><br><br><br><br><br><br><br><br><br><br><br><br><br><br><br><br><br><br><br><br><br><br><br><br><br><br><br>"
   ]
  },
  {
   "cell_type": "markdown",
   "id": "224837",
   "metadata": {
    "collapsed": false
   },
   "source": [
    "<a name=\"theor82\" id=\"theor82\"></a>\n",
    "Proof of Theorem 8.2:<br><br>\n",
    "\n",
    "We let \n",
    "<p style='text-align: center;'><em>A</em><sub><em>i</em>,<em>j</em></sub> = (<em>A</em><sub><em>i</em>&minus;1</sub> &cap; \n",
    "<em>B<sub>j</sub></em>)&middot;<em>A<sub>i</sub></em>&emsp;and&emsp;<em>B</em><sub><em>j</em>,<em>i</em></sub> = (<em>B</em><sub><em>j</em>&minus;1</sub> &cap; \n",
    "<em>A<sub>i</sub></em>)&middot;<em>B<sub>j</sub></em>.</p>\n",
    "To see that these fit the conditions we need, we first want to show that these are groups.  Note that both\n",
    "<p style='text-align: center;'><em>X</em> = (<em>A</em><sub><em>i</em>&minus;1</sub> &cap; <em>B</em><sub><em>j</em>&minus;1</sub>)&emsp;and&emsp;<em>Y</em> \n",
    "= (<em>A</em><sub><em>i</em>&minus;1</sub> &cap; <em>B<sub>j</sub></em>)</p>\n",
    "are subgroups of <em>A</em><sub><em>i</em>&minus;1</sub>, <em>Y</em> is a subgroup of <em>X</em>, and <em>Z</em> = <em>A<sub>i</sub></em> is a normal subgroup \n",
    "of <em>A</em><sub><em>i</em>&minus;1</sub>.<br><br>\n",
    "\n",
    "So by Lemma 5.3, both <em>A</em><sub><em>i</em>,<em>j</em>&minus;1</sub> = <em>X</em>&middot;<em>Z</em> and <em>A</em><sub><em>i</em>,<em>j</em></sub> = \n",
    "<em>Y</em>&middot;<em>Z</em> are subgroups of <em>A</em><sub><em>i</em>&minus;1</sub>.  We can now use Lemma 8.3, \n",
    "using <em>G</em> = <em>A</em><sub><em>i</em>&minus;1</sub>.  Since <em>B<sub>j</sub></em> is a normal subgroup of <em>B</em><sub><em>j</em>&minus;1</sub>, <em>Y</em> is \n",
    "a normal subgroup of <em>X</em>, so by Lemma 8.3, <em>Y</em>&middot;<em>Z</em> is a normal subgroup of <em>X</em>&middot;<em>Z</em>, and\n",
    "<p style='text-align: center;'><em>A</em><sub><em>i</em>,<em>j</em>&minus;1</sub>/<em>A</em><sub><em>i</em>,<em>j</em></sub> = \n",
    "(<em>X</em>&middot;<em>Z</em>)/(<em>Y</em>&middot;<em>Z</em>) &asymp; <em>X</em>/(<em>X</em> &cap; (<em>Y</em>&middot;<em>Z</em>)).</p>\n",
    "Now Lemma 8.2 comes into use. Since <em>Y</em> is a subgroup of <em>X</em>,\n",
    "<p style='text-align: center;'><em>X</em> &cap; (<em>Y</em>&middot;<em>Z</em>) = <em>Y</em>&middot;(<em>X</em> &cap; <em>Z</em>) = \n",
    "(<em>A</em><sub><em>i</em>&minus;1</sub> &cap; <em>B<sub>j</sub></em>)&middot;(<em>A</em><sub><em>i</em>&minus;1</sub> &cap; \n",
    "<em>B</em><sub><em>j</em>&minus;1</sub> &cap; <em>A<sub>i</sub></em>) = \n",
    "(<em>A</em><sub><em>i</em>&minus;1</sub> &cap; <em>B<sub>j</sub></em>)&middot;(<em>A<sub>i</sub></em> &cap; <em>B</em><sub><em>j</em>&minus;1</sub>) = \n",
    "(<em>A<sub>i</sub></em> &cap; <em>B</em><sub><em>j</em>&minus;1</sub>)&middot;(<em>A</em><sub><em>i</em>&minus;1</sub> &cap; <em>B<sub>j</sub></em>).</p>\n",
    "Thus,\n",
    "<p style='text-align: center;'><em>A</em><sub><em>i</em>,<em>j</em>&minus;1</sub>/<em>A</em><sub><em>i</em>,<em>j</em></sub> &asymp; \n",
    "(<em>A</em><sub><em>i</em>&minus;1</sub> &cap; <em>B</em><sub><em>j</em>&minus;1</sub>)/[(<em>A</em><sub><em>i</em>&minus;1</sub> &cap; \n",
    "<em>B<sub>j</sub></em>)&middot;(<em>A<sub>i</sub></em> &cap; <em>B</em><sub><em>j</em>&minus;1</sub>)].</p>\n",
    "By switching the roles of the two series we find by the exact same argument that \n",
    "<p style='text-align: center;'><em>B</em><sub><em>j</em>,<em>i</em>&minus;1</sub>/<em>B</em><sub><em>j</em>,<em>i</em></sub> &asymp; \n",
    "(<em>B</em><sub><em>j</em>&minus;1</sub> &cap; <em>A</em><sub><em>i</em>&minus;1</sub>)/[(<em>B</em><sub><em>j</em>&minus;1</sub> &cap; \n",
    "<em>A<sub>i</sub></em>)&middot;(<em>B<sub>j</sub></em> &cap; <em>A</em><sub><em>i</em>&minus;1</sub>)].</p>\n",
    "Notice that these are exactly the same thing, so\n",
    "<p style='text-align: center;'><em>A</em><sub><em>i</em>,<em>j</em>&minus;1</sub>/<em>A</em><sub><em>i</em>,<em>j</em></sub> &asymp; \n",
    "<em>B</em><sub><em>j</em>,<em>i</em>&minus;1</sub>/<em>B</em><sub><em>j</em>,<em>i</em></sub>.</p>\n",
    "\n",
    "<a href=\"#theor82ret\">Return to text</a>"
   ]
  },
  {
   "cell_type": "markdown",
   "id": "2bc348",
   "metadata": {
    "collapsed": false
   },
   "source": [
    "<br><br><br><br><br><br><br><br><br><br><br><br><br><br><br><br><br><br><br><br><br><br><br><br><br><br><br><br><br><br><br><br><br><br><br><br><br><br><br><br><br><br>"
   ]
  },
  {
   "cell_type": "markdown",
   "id": "fedbcc",
   "metadata": {
    "collapsed": false
   },
   "source": [
    "<a name=\"theor83\" id=\"theor83\"></a>\n",
    "Proof of Theorem 8.3:<br><br>\n",
    "\n",
    "By the refinement theorem (8.2), there is a refinement of both composition series such that the quotient groups of the two subnormal series are isomorphic to each other \n",
    "in some order.  In particular, the nontrivial quotient groups of one subnormal series are isomorphic to the nontrivial quotient groups of the other.  But these are \n",
    "composition series, so any refinements merely repeat a subgroup a number of times.  Thus, by eliminating these repetitions, we eliminate the trivial quotient groups \n",
    "and produce the original two composition series.  Thus, the quotient groups <em>A</em><sub><em>i</em>&minus;1</sub>/<em>A<sub>i</sub></em> are isomorphic to the \n",
    "quotient groups <em>B</em><sub><em>j</em>&minus;1</sub>/<em>B<sub>j</sub></em> in some order.  The fact that <em>n</em> = <em>m</em> merely comes from the \n",
    "one-to-one correspondence of the nontrivial quotient groups.<br><br>\n",
    "\n",
    "<a href=\"#theor83ret\">Return to text</a>"
   ]
  },
  {
   "cell_type": "markdown",
   "id": "7ef9a6",
   "metadata": {
    "collapsed": false
   },
   "source": [
    "<br><br><br><br><br><br><br><br><br><br><br><br><br><br><br><br><br><br><br><br><br><br><br><br><br><br><br><br><br><br><br><br><br><br><br><br><br><br><br><br><br><br>"
   ]
  },
  {
   "cell_type": "markdown",
   "id": "dea717",
   "metadata": {
    "collapsed": false
   },
   "source": [
    "<a name=\"sec8p\" id=\"sec8p\"></a>\n",
    "<h1><em>SageMath</em> Interactive Problems</h1>\n",
    "\n",
    "<br>\n",
    "&sect;8.1 #15)<br>\n",
    "Use <em>SageMath</em> to find the center of the group <em>D</em><sub>6</sub>.  This can be loaded by the commands:<br>"
   ]
  },
  {
   "cell_type": "code",
   "execution_count": 0,
   "id": "0baa07",
   "metadata": {
    "collapsed": false
   },
   "outputs": [
   ],
   "source": [
    "InitGroup(\"e\")\n",
    "AddGroupVar(\"a\", \"b\")\n",
    "Define(a^6, e)\n",
    "Define(b^2, e)\n",
    "Define(b*a, a^5*b)\n",
    "D6 = Group(); D6"
   ]
  },
  {
   "cell_type": "markdown",
   "id": "b03c2b",
   "metadata": {
    "collapsed": false
   },
   "source": [
    "<br>\n",
    "What familiar group is the quotient group <em>D</em><sub>6</sub>/<em>Z</em>(<em>D</em><sub>6</sub>) isomorphic to?<br>"
   ]
  },
  {
   "cell_type": "markdown",
   "id": "1a7e6d",
   "metadata": {
    "collapsed": false
   },
   "source": [
    "<br>\n",
    "&sect;8.1 #16)<br> \n",
    "In Problem 22 of &sect;7.3, we computed the group <em>G</em> = Aut(<em>Z</em><sub>3</sub> &times; <em>Z</em><sub>3</sub>).  Find the center of this group.  \n",
    "What familiar group is <em>G</em>/<em>Z</em>(<em>G</em>) isomorphic to?<br>"
   ]
  },
  {
   "cell_type": "markdown",
   "id": "6743fb",
   "metadata": {
    "collapsed": false
   },
   "source": [
    "<br>\n",
    "&sect;8.1 #17)<br>\n",
    "Find the centers of the groups <em>D</em><sub>3</sub>, <em>D</em><sub>4</sub>, <em>D</em><sub>5</sub>, <em>D</em><sub>6</sub>, <em>D</em><sub>7</sub>, and <em>D</em><sub>8</sub>.  \n",
    "Do you see any patterns?<br>"
   ]
  },
  {
   "cell_type": "markdown",
   "id": "3003d1",
   "metadata": {
    "collapsed": false
   },
   "source": [
    "<br>\n",
    "&sect;8.2 #21)<br>\n",
    "Use <em>SageMath</em> to find the normalizer <em>N</em><sub><em>D</em>&#8326;</sub>({<em>x</em>}) for each of the 12 elements of <em>D</em><sub>6</sub> listed \n",
    "in Problem 15 of &sect;8.1.  For which elements is the normalizer the same subgroup?<br>"
   ]
  },
  {
   "cell_type": "markdown",
   "id": "2c01f5",
   "metadata": {
    "collapsed": false
   },
   "source": [
    "<br>\n",
    "&sect;8.2 #22)<br> \n",
    "Use <em>SageMath</em>'s <strong>NormalClosure</strong> command to find all of the normal subgroups of the group <em>D</em><sub>6</sub> given in Problem 15 of &sect;8.1.<br>"
   ]
  },
  {
   "cell_type": "markdown",
   "id": "9f263c",
   "metadata": {
    "collapsed": false
   },
   "source": [
    "<br>\n",
    "&sect;8.3 #18)<br> \n",
    "The following commands load a group of order 20 into <em>SageMath</em>.<br>"
   ]
  },
  {
   "cell_type": "code",
   "execution_count": 0,
   "id": "a1a0e4",
   "metadata": {
    "collapsed": false
   },
   "outputs": [
   ],
   "source": [
    "InitGroup(\"e\")\n",
    "AddGroupVar(\"a\", \"b\")\n",
    "Define(a^5, e)\n",
    "Define(b^4, e)\n",
    "Define(b*a, a^2*b)\n",
    "M = Group(); M"
   ]
  },
  {
   "cell_type": "markdown",
   "id": "bf3278",
   "metadata": {
    "collapsed": false
   },
   "source": [
    "<br>\n",
    "Find the conjugacy classes of this group, and use this to find all of the normal subgroups of <em>M</em>.<br>"
   ]
  },
  {
   "cell_type": "markdown",
   "id": "a6d836",
   "metadata": {
    "collapsed": false
   },
   "source": [
    "<br>\n",
    "&sect;8.3 #19)<br>\n",
    "The following commands load a group of order 24 into <em>SageMath</em>.<br>"
   ]
  },
  {
   "cell_type": "code",
   "execution_count": 0,
   "id": "2be895",
   "metadata": {
    "collapsed": false
   },
   "outputs": [
   ],
   "source": [
    "DisplayPermInt = true\n",
    "G = Group(NthPerm(2374), NthPerm(6212)); G"
   ]
  },
  {
   "cell_type": "code",
   "execution_count": 0,
   "id": "676296",
   "metadata": {
    "collapsed": false
   },
   "outputs": [
   ],
   "source": [
    "StructureDescription(2374, 6212)"
   ]
  },
  {
   "cell_type": "markdown",
   "id": "c8a9b7",
   "metadata": {
    "collapsed": false
   },
   "source": [
    "<br>\n",
    "Find the conjugacy classes of this group, and use this to find all of the normal subgroups of <em>G</em>.<br>"
   ]
  },
  {
   "cell_type": "markdown",
   "id": "4982ac",
   "metadata": {
    "collapsed": false
   },
   "source": [
    "<br>\n",
    "&sect;8.4 #19)<br>\n",
    "Use <em>SageMath</em> to find a composition series for the following group of order 20:<br>"
   ]
  },
  {
   "cell_type": "code",
   "execution_count": 0,
   "id": "478692",
   "metadata": {
    "collapsed": false
   },
   "outputs": [
   ],
   "source": [
    "InitGroup(\"e\")\n",
    "AddGroupVar(\"a\", \"b\")\n",
    "Define(a^5, e); Define(b^4, e); Define(b*a, a^2*b)\n",
    "M = Group(); M"
   ]
  },
  {
   "cell_type": "markdown",
   "id": "b41f72",
   "metadata": {
    "collapsed": false
   },
   "source": [
    "<br>\n",
    "&sect;8.4 #20)<br>\n",
    "Use <em>SageMath</em> to find a composition series for the following group:<br>"
   ]
  },
  {
   "cell_type": "code",
   "execution_count": 0,
   "id": "1231b9",
   "metadata": {
    "collapsed": false
   },
   "outputs": [
   ],
   "source": [
    "DisplayPermInt = true\n",
    "G = Group(NthPerm(2374), NthPerm(6212)); G"
   ]
  },
  {
   "cell_type": "markdown",
   "id": "4e51b7",
   "metadata": {
    "collapsed": false
   },
   "source": [
    "<br>\n",
    "&sect;8.5 #8)<br>\n",
    "Consider the puzzle from Problem 7, in which the possible positions are generated from the elements <em>a</em> = (1 2 3 4 5 6 7) and <em>b</em> = (1 3)(2 6).  Find the group generated from these two elements, and show that this is not all of <em>A</em><sub>7</sub>.  How many elements are in this group?  Have we seen any other subgroups of <em>A</em><sub>7</sub> with this number of elements?<br>"
   ]
  },
  {
   "cell_type": "markdown",
   "id": "be5eb4",
   "metadata": {
    "collapsed": false
   },
   "source": [
    "<br>\n",
    "&sect;8.5 #9)<br>\n",
    "Even though the puzzle from Problem 7 cannot produce all positions in <em>A</em><sub>7</sub>, the position corresponding to flipping the dotted circle vertically, so that 1 &harr; 2 and 3 &harr; 6 can be obtained.  Use <strong>ExpressAsWord</strong> to find a way to express (1 2)(3 6) in terms of <em>a</em> = (1 2 3 4 5 6 7) and <em>b</em> = (1 3)(2 6).<br>"
   ]
  },
  {
   "cell_type": "markdown",
   "id": "d60e46",
   "metadata": {
    "collapsed": false
   },
   "source": [
    "<br>\n",
    "&sect;8.5 #10)<br>\n",
    "Suppose we are only allowed to rotate the sides of a 2 &times; 2 &times; 2 Rubik's Cube<sup>&#174;</sup> by 180&deg;.  Find the corresponding group of possible positions that can be formed.<br>\n",
    "\n",
    "Hint:  Since there is no center square, we can fix one corner, so only 21 of the squares can move.  There will be 3 axes of rotation, so we have 3 elements of <em>S</em><sub>21</sub>.  Find the group generated by these 3 elements.<br>"
   ]
  },
  {
   "cell_type": "markdown",
   "id": "4abab2",
   "metadata": {
    "collapsed": false
   },
   "source": [
    "<br>\n",
    "&sect;8.5 #11)<br>\n",
    "First show that <em>S</em><sub>7</sub> is generated by the elements <em>a</em> = (2 6 3 7 4) and <em>b</em> = (1 5 4 2).  Then use <strong>ExpressAsWord</strong> to \n",
    "find a way to express (1 2) in terms of <em>a</em> and <em>b</em>.<br>"
   ]
  },
  {
   "cell_type": "markdown",
   "id": "43f007",
   "metadata": {
    "collapsed": false
   },
   "source": [
    "<br>\n",
    "&sect;8.5 #12)<br>\n",
    "First show that <em>A</em><sub>7</sub> is generated by the elements <em>a</em> = (1 6 7)(2 5 4) and <em>b</em> = (1 3 7 2)(4 6).  Then use <strong>ExpressAsWord</strong> to \n",
    "find a way to express (1 2 3) in terms of <em>a</em> and <em>b</em>.<br>"
   ]
  },
  {
   "cell_type": "markdown",
   "id": "d03944",
   "metadata": {
    "collapsed": false
   },
   "source": [
    "<br>\n",
    "&sect;8.5 #13)<br>\n",
    "Consider the puzzle in Figure 8.5 in the book, with 7 disks on 2 wheels.  The action <em>L</em> turns the left wheel 90&deg; clockwise, taking the disks with it.  The \n",
    "action <em>R</em> turns the right wheel 72&deg; clockwise, again taking the disks with it.  The goal is to swap disks 5 and 6, so the disks are in consecutive order.\n",
    "Use <em>SageMath</em>'s <strong>ExpressAsWord</strong> to solve this puzzle.  A few brave souls might try to solve this puzzle without <em>SageMath</em>'s help.<br>"
   ]
  },
  {
   "cell_type": "markdown",
   "id": "e6b160",
   "metadata": {
    "collapsed": false
   },
   "source": [
    "</font>\n",
    "\n",
    "</body>\n",
    "\n",
    "</html>"
   ]
  }
 ],
 "metadata": {
  "kernelspec": {
   "argv": [
    "sage-10.0",
    "--python",
    "-m",
    "sage.repl.ipython_kernel",
    "--matplotlib=inline",
    "-f",
    "{connection_file}"
   ],
   "display_name": "SageMath 10.0",
   "env": {
   },
   "language": "sagemath",
   "metadata": {
    "cocalc": {
     "description": "Open-source mathematical software system",
     "priority": 10,
     "url": "https://www.sagemath.org/"
    }
   },
   "name": "sage-10.0",
   "resource_dir": "/ext/jupyter/kernels/sage-10.0"
  },
  "language_info": {
   "codemirror_mode": {
    "name": "ipython",
    "version": 3
   },
   "file_extension": ".py",
   "mimetype": "text/x-python",
   "name": "python",
   "nbconvert_exporter": "python",
   "pygments_lexer": "ipython3",
   "version": "3.7.10"
  }
 },
 "nbformat": 4,
 "nbformat_minor": 4
}