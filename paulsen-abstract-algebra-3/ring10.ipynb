{
 "cells": [
  {
   "cell_type": "markdown",
   "id": "261ed7",
   "metadata": {
    "collapsed": false
   },
   "source": [
    "<!-- Ring10 -->\n",
    "\n",
    "<html>\n",
    "<body>\n",
    "\n",
    "<!-- To make the size of the font bigger for presentations, change the following command from +1 to +2 -->\n",
    "\n",
    "<font size=\"+1\">\n",
    "\n",
    "<p style='font-size: 36px;font-family: Arial;font-style: italic;font-weight: bold;color: #FF00FF;background-color: #80FFFF;text-align: center;'>\n",
    "Abstract Algebra: An Interactive Approach, 3e\n",
    "</p>\n",
    "\n",
    "<p style='font-family: Geneva;font-style: italic;color: #0000FF;background-color: #FFFFFF;'>\n",
    "This notebook is provided with the textbook, &quot;Abstract Algebra: An Interactive Approach, 3rd Ed.&quot; by William Paulsen. Users of this notebook are encouraged to buy the textbook.\n",
    "</p>\n",
    "\n",
    "<p style='font-size: 36px;font-family: New York;font-weight: bold;color: #000000;background-color: #FFFFFF;text-align: center;border: 1px;border-style: \n",
    "solid;border-color: #000000;'>\n",
    "Chapter 10 : The Structure Within Rings\n",
    "</p>\n",
    "\n",
    "<p style='text-align: center;'>Initialization:  This cell MUST be evaluated first:</p>\n",
    "\n"
   ]
  },
  {
   "cell_type": "code",
   "execution_count": 0,
   "id": "6bc59a",
   "metadata": {
    "collapsed": false
   },
   "outputs": [
   ],
   "source": [
    "load('absalgtext2.sage')"
   ]
  },
  {
   "cell_type": "markdown",
   "id": "ff472f",
   "metadata": {
    "collapsed": false
   },
   "source": [
    "<br>\n",
    "<a href=\"#sec101\">Subrings</a><br>\n",
    "<a href=\"#sec102\">Quotient Rings and Ideals</a><br>\n",
    "<a href=\"#sec103\">Ring Isomorphisms</a><br>\n",
    "<a href=\"#sec104\">Homomorphisms and Kernels</a><br>\n",
    "<a href=\"#sec10p\"><em>SageMath</em> Interactive Problems</a><br>"
   ]
  },
  {
   "cell_type": "markdown",
   "id": "d01ec8",
   "metadata": {
    "collapsed": false
   },
   "source": [
    "<a name=\"sec101\" id=\"sec101\"></a>\n",
    "<h1>Subrings</h1>\n",
    "\n",
    "<br>\n",
    "In the last chapter we introduced rings, and used <em>SageMath</em> to define several examples of rings. It is natural to ask whether we can have smaller rings \n",
    "within a larger ring, just as we saw smaller groups inside of a larger group. So the natural definition would be as follows:<br><br>\n",
    " \n",
    "DEFINITION 10.1<br>\n",
    "Let <em>R</em> be a ring. A non-empty subset <em>S</em> is a <em>subring</em> if <em>S</em> is a ring with respect to the addition (+) and multiplication \n",
    "(&middot;) of <em>R</em>.<br><br>\n",
    "\n",
    "We have already seen some examples of subrings.  For example, the set of even integers is a ring contained in the ring of integers, which is contained in the ring of rational numbers, which in turn is contained in the ring of real numbers.<br><br>\n",
    "\n",
    "It is clear that in testing to see if a subset of <em>R</em> is a ring, we do not need to check all 9 of the ring properties, since many of these properties will \n",
    "be &quot;inherited&quot; from the ring <em>R</em>. The next proposition shows us a quick way to check if a subset is indeed a subring."
   ]
  },
  {
   "cell_type": "markdown",
   "id": "ebe4a4",
   "metadata": {
    "collapsed": false
   },
   "source": [
    "<a name=\"prop101ret\" id=\"prop101ret\"></a>\n",
    "PROPOSITION 10.1<br>\n",
    "\n",
    "A non-empty subset <em>S</em> is a subring of a ring <em>R</em> if, and only if, whenever <em>x</em> and <em>y</em> are \n",
    "in <em>S</em>, <em>x</em> &minus; <em>y</em> and <em>x</em>&middot;<em>y</em> are in <em>S</em>.<br><br>\n",
    "\n",
    "<a href=\"#prop101\">Click here for the proof.</a>\n",
    "\n",
    "<p />\n",
    "Notice that from the definition every nontrivial ring <em>R</em> will contain at least two subrings: the trivial ring {0} will be a subring, as well as the entire ring \n",
    "<em>R</em>. These two subrings are called the <em>trivial subrings</em>.<br><br>\n",
    "\n",
    "EXAMPLE:<br>\n",
    "Consider the subset of real numbers of the form\n",
    "<p style='text-align: center;'><em>S</em> = {<em>x</em> + <em>y</em> &radic;<font style=\"text-decoration:overline\">2</font> | <em>x</em>, <em>y</em> &isin; &#8484;},</p>\n",
    "Determine whether or not this is a subring of &#8477;.<br><br>\n",
    "\n",
    "Two typical elements are <em>a</em> = <em>x</em><sub>1</sub> + <em>y</em><sub>1</sub> &radic;<font style=\"text-decoration:overline\">2</font> and <em>b</em> = \n",
    "<em>x</em><sub>2</sub> + <em>y</em><sub>2</sub> &radic;<font style=\"text-decoration:overline\">2</font>.  Then\n",
    "<p style='text-align: center;'><em>a</em> &minus; <em>b</em> = (<em>x</em><sub>1</sub> &minus; <em>x</em><sub>2</sub>) + \n",
    "(<em>y</em><sub>1</sub> &minus; <em>y</em><sub>2</sub>) &radic;<font style=\"text-decoration:overline\">2</font>, and</p>\n",
    "<p style='text-align: center;'><em>a</em>&middot;<em>b</em> = (<em>x</em><sub>1</sub> <em>x</em><sub>2</sub> + 2 <em>y</em><sub>1</sub> <em>y</em><sub>2</sub>) + \n",
    "(<em>x</em><sub>1</sub> <em>y</em><sub>2</sub> + <em>x</em><sub>2</sub> <em>y</em><sub>1</sub>) &radic;<font style=\"text-decoration:overline\">2</font>.</p>\n",
    "Since all expressions in parenthesis are integers, these are in <em>S</em>.  Thus, by Proposition 10.1, <em></em>S is a subring of &#8477;.<br><br>\n",
    "\n",
    "Let us look at an example where we find other subrings. Here is the first ring of order 8 that we defined in &sect;9.2:<br>"
   ]
  },
  {
   "cell_type": "code",
   "execution_count": 0,
   "id": "02ddfa",
   "metadata": {
    "collapsed": false
   },
   "outputs": [
   ],
   "source": [
    "InitRing()\n",
    "AddRingVar(\"a\",\"b\")\n",
    "Define(4*a, 0); Define(2*b, 0)\n",
    "Define(a^2, a); Define(a*b, 0)\n",
    "Define(b*a, 0); Define(b^2, b)\n",
    "R = Ring(); R"
   ]
  },
  {
   "cell_type": "markdown",
   "id": "8ef680",
   "metadata": {
    "collapsed": false
   },
   "source": [
    "<br>\n",
    "Recall that this ring has an identity element, namely<br>"
   ]
  },
  {
   "cell_type": "code",
   "execution_count": 0,
   "id": "99ce57",
   "metadata": {
    "collapsed": false
   },
   "outputs": [
   ],
   "source": [
    "FindUnity(R)"
   ]
  },
  {
   "cell_type": "markdown",
   "id": "8df6c9",
   "metadata": {
    "collapsed": false
   },
   "source": [
    "<br>\n",
    "Can we find a subring of <em>R</em>? Suppose we considered only the elements which did not involve <em>b</em>:<br>"
   ]
  },
  {
   "cell_type": "code",
   "execution_count": 0,
   "id": "508473",
   "metadata": {
    "collapsed": false
   },
   "outputs": [
   ],
   "source": [
    "S = [0*a, a, 2*a, 3*a]"
   ]
  },
  {
   "cell_type": "markdown",
   "id": "a7f388",
   "metadata": {
    "collapsed": false
   },
   "source": [
    "<br>\n",
    "Does this form a subring? We can look at the multiplication tables for <em>S</em><br>"
   ]
  },
  {
   "cell_type": "code",
   "execution_count": 0,
   "id": "bcea24",
   "metadata": {
    "collapsed": false
   },
   "outputs": [
   ],
   "source": [
    "AddTable(S)"
   ]
  },
  {
   "cell_type": "code",
   "execution_count": 0,
   "id": "363e95",
   "metadata": {
    "collapsed": false
   },
   "outputs": [
   ],
   "source": [
    "MultTable(S)"
   ]
  },
  {
   "cell_type": "markdown",
   "id": "b06f8c",
   "metadata": {
    "collapsed": false
   },
   "source": [
    "<br>\n",
    "and see that <em>S</em> is closed with respect to multiplication and addition.  Furthermore, additive inverses exist for all elements, so <em>S</em> is also closed with respect to subtraction. Thus, by Proposition 10.1, this is a subring.<br><br>\n",
    "\n",
    "One might wonder why we used <strong>0*a</strong> instead of just <strong>0</strong> as we listed the elements of <em>S</em>.  Although the additive identity of the ring is always <em>displayed</em> as 0, if we enter just <strong>0</strong>, <em>SageMath</em> will interpret this to mean the <em>integer</em> 0, not the zero element of the ring."
   ]
  },
  {
   "cell_type": "code",
   "execution_count": 0,
   "id": "29125f",
   "metadata": {
    "collapsed": false
   },
   "outputs": [
   ],
   "source": [
    "0 in R"
   ]
  },
  {
   "cell_type": "markdown",
   "id": "b2f64f",
   "metadata": {
    "collapsed": false
   },
   "source": [
    "The work-around is to multiply any of the generators by 0 to get the zero element of the ring."
   ]
  },
  {
   "cell_type": "code",
   "execution_count": 0,
   "id": "44ab01",
   "metadata": {
    "collapsed": false
   },
   "outputs": [
   ],
   "source": [
    "0*a in R"
   ]
  },
  {
   "cell_type": "markdown",
   "id": "94dc43",
   "metadata": {
    "collapsed": false
   },
   "source": [
    "Notice that this subring does not include the multiplicative identity of <em>R</em>. Does that mean that this subring is without an identity?<br>"
   ]
  },
  {
   "cell_type": "code",
   "execution_count": 0,
   "id": "eb2227",
   "metadata": {
    "collapsed": false
   },
   "outputs": [
   ],
   "source": [
    "FindUnity(S)"
   ]
  },
  {
   "cell_type": "markdown",
   "id": "77f0b2",
   "metadata": {
    "collapsed": false
   },
   "source": [
    "<br>\n",
    "In fact, the subring <em>S</em> does have a unity, but it is different than the unity of <em>R</em>! In general the existence of a unity of a subring is totally independent \n",
    "of the unity of <em>R</em>. A ring without unity may have a subring with unity, or vice-versa. This is the main reason why the existence of a multiplicative identity is \n",
    "not required in the definition of a ring.<br><br>\n",
    "\n",
    "EXPERIMENT:<br>\n",
    "Try to find all of the subrings of <em>R</em>, using the <strong>AddTable</strong> and <strong>MultTable</strong> commands. For example, the set<br>"
   ]
  },
  {
   "cell_type": "code",
   "execution_count": 0,
   "id": "77d0bf",
   "metadata": {
    "collapsed": false
   },
   "outputs": [
   ],
   "source": [
    "S = [0*a, a, b, a+b]"
   ]
  },
  {
   "cell_type": "markdown",
   "id": "205cc0",
   "metadata": {
    "collapsed": false
   },
   "source": [
    "<br>\n",
    "is not a subring by looking at the tables<br>"
   ]
  },
  {
   "cell_type": "code",
   "execution_count": 0,
   "id": "45585b",
   "metadata": {
    "collapsed": false
   },
   "outputs": [
   ],
   "source": [
    "AddTable(S)"
   ]
  },
  {
   "cell_type": "markdown",
   "id": "38d2b1",
   "metadata": {
    "collapsed": false
   },
   "source": [
    "<br>\n",
    "and<br>"
   ]
  },
  {
   "cell_type": "code",
   "execution_count": 0,
   "id": "7bba08",
   "metadata": {
    "collapsed": false
   },
   "outputs": [
   ],
   "source": [
    "MultTable(S)"
   ]
  },
  {
   "cell_type": "markdown",
   "id": "086f3d",
   "metadata": {
    "collapsed": false
   },
   "source": [
    "<br>\n",
    "and seeing the black squares in one of the tables. How many ways can you pick a set <em>S</em> so that the black squares aren't there?<br><br>\n",
    "\n",
    "Hint: The additive group for this ring is <em>Z</em><sub>15</sub><sup>&ast;</sup>. How many subgroups of <em>Z</em><sub>15</sub><sup>&ast;</sup> are there?<br>"
   ]
  },
  {
   "cell_type": "markdown",
   "id": "40d4cb",
   "metadata": {
    "collapsed": false
   },
   "source": [
    "<br>\n",
    "In the case of groups, the intersection of a number of subgroups was again a subgroup.  This last experiment suggested a close tie between subgroups and subrings, so it \n",
    "is natural to ask whether an intersection of a number of subrings is another subring.  This quickly leads to the next proposition."
   ]
  },
  {
   "cell_type": "markdown",
   "id": "479d65",
   "metadata": {
    "collapsed": false
   },
   "source": [
    "<a name=\"prop102ret\" id=\"prop102ret\"></a>\n",
    "PROPOSITION 10.2<br>\n",
    "\n",
    "Given any non-empty collection of subrings of the group <em>R</em>, denoted by <em>L</em>, then the intersection of all of the subrings in the collection\n",
    "<br><br> \n",
    "<table align=\"center\" width=\"160\" border=\"0\" cellspacing=\"0\" cellpadding=\"0\">\n",
    "  <tr>\n",
    "    <td align=\"right\"><em>H</em><sup>&ast;</sup> = </td>\n",
    "    <td align=\"center\"><font face=\"Times New Roman, Times, serif\" size=\"+4\">&cap;</font></td>\n",
    "    <td align=\"left\"><em>H</em>&ensp;&ensp;&ensp;</td>\n",
    "  </tr>\n",
    "  <tr>\n",
    "    <td></td>\n",
    "    <td align=\"center\" valign=\"top\"><em>H</em> &isin; <em>L</em></td>\n",
    "    <td></td>\n",
    "  </tr>\n",
    "</table>\n",
    "\n",
    "is a subring of <em>R</em>.<br><br>\n",
    "\n",
    "<a href=\"#prop102\">Click here for the proof.</a>\n",
    "\n",
    "<p />\n",
    "As with subgroups, we now have a general method of producing subrings of a ring <em>R</em>. Let <em>S</em> be any subset of <em>R</em>. We can consider the \n",
    "collection <em>L</em> of all subrings of <em>R</em> that contain the set <em>S</em>. This collection is non-empty since it contains the subring <em>R</em> itself. \n",
    "So by Proposition 10.2,\n",
    "<br><br>\n",
    "<table align=\"center\" width=\"160\" border=\"0\" cellspacing=\"0\" cellpadding=\"0\">\n",
    "  <tr>\n",
    "    <td align=\"right\">[<em>S</em>] = </td>\n",
    "    <td align=\"center\"><font face=\"Times New Roman, Times, serif\" size=\"+4\">&cap;</font></td>\n",
    "    <td align=\"left\"><em>H</em>&ensp;&ensp;&ensp;</td>\n",
    "  </tr>\n",
    "  <tr>\n",
    "    <td></td>\n",
    "    <td align=\"center\" valign=\"top\"><em>H</em> &isin; <em>L</em></td>\n",
    "    <td></td>\n",
    "  </tr>\n",
    "</table>\n",
    "\n",
    "<br>\n",
    "is a subring of <em>R</em>. By the way that the collection was defined, [<em>S</em>] contains <em>S</em>.<br><br>\n",
    "\n",
    "Actually, [<em>S</em>] is the <em>smallest</em> subring of <em>R</em> containing the subset <em>S</em>. For if <em>H</em> is a subring of <em>R</em> which contains \n",
    "<em>S</em>, then <em>H</em> &isin; <em>L</em>, so that [<em>S</em>] &sube; <em>H</em>.<br><br>\n",
    "\n",
    "DEFINITION 10.2<br>\n",
    "We call [<em>S</em>] the subring of <em>R</em> <em>generated</em> by the set <em>S</em>.<br><br>\n",
    "\n",
    "Just as in the case for the <strong>Group</strong> command, the <em>SageMath</em> command <strong>Ring</strong> finds [<em>S</em>] for any set <em>S</em>. Thus, we can find \n",
    "the subring generated by <em>S</em> with the command<br><br>\n",
    "\n",
    "<strong>Ring(S)</strong><br><br>\n",
    "\n",
    "provided that the ring <em>R</em> has already been entered.<br><br>\n",
    "\n",
    "For example, let us use this command to find all of the subrings of the non-commutative ring of order 8.<br>"
   ]
  },
  {
   "cell_type": "code",
   "execution_count": 0,
   "id": "5a728c",
   "metadata": {
    "collapsed": false
   },
   "outputs": [
   ],
   "source": [
    "InitRing()\n",
    "AddRingVar(\"a\",\"b\")\n",
    "Define(4*a, 0); Define(2*b, 0)\n",
    "Define(a^2, a); Define(a*b, b)\n",
    "Define(b*a, 2*a); Define(b^2, 0)\n",
    "R = Ring(); R"
   ]
  },
  {
   "cell_type": "markdown",
   "id": "d89228",
   "metadata": {
    "collapsed": false
   },
   "source": [
    "<br>\n",
    "Let us first try to find rings generated by only one element. Of course we would have the trivial ring<br>"
   ]
  },
  {
   "cell_type": "code",
   "execution_count": 0,
   "id": "25abb3",
   "metadata": {
    "collapsed": false
   },
   "outputs": [
   ],
   "source": [
    "Ring(0*a)"
   ]
  },
  {
   "cell_type": "markdown",
   "id": "699ff2",
   "metadata": {
    "collapsed": false
   },
   "source": [
    "<br>\n",
    "but let us look at the other 7 elements. The ring generated by the next element<br>"
   ]
  },
  {
   "cell_type": "code",
   "execution_count": 0,
   "id": "53e7c3",
   "metadata": {
    "collapsed": false
   },
   "outputs": [
   ],
   "source": [
    "Ring(a)"
   ]
  },
  {
   "cell_type": "markdown",
   "id": "88c337",
   "metadata": {
    "collapsed": false
   },
   "source": [
    "<br>\n",
    "contains 4 elements, while the ring generated by 2<em>a</em><br>"
   ]
  },
  {
   "cell_type": "code",
   "execution_count": 0,
   "id": "8d983c",
   "metadata": {
    "collapsed": false
   },
   "outputs": [
   ],
   "source": [
    "Ring(2*a)"
   ]
  },
  {
   "cell_type": "markdown",
   "id": "06c6e5",
   "metadata": {
    "collapsed": false
   },
   "source": [
    "<br>\n",
    "contains only two. <br><br>\n",
    "\n",
    "EXPERIMENT:<br>\n",
    "By going though the remaining 5 elements, determine how many subrings can be generated by just one element.<br>"
   ]
  },
  {
   "cell_type": "markdown",
   "id": "fd1d46",
   "metadata": {
    "collapsed": false
   },
   "source": [
    "<br>\n",
    "Can there be any subrings which require two generators? Since the additive structure of a subring is a subgroup of the additive structure of the original ring, \n",
    "Lagrange's theorem holds for rings as well as groups. Thus, any subring of a group of order 8 must be of order 1,2,4, or 8. The experiment has obviously found \n",
    "all subrings of order 2. The only other nontrivial subrings would be of order 4. Such a subring could not contain any element which generated a ring of order 4. \n",
    "Thus, the only elements such a subring could contain would be 0, 2a, b, and 2a+b. Let us check if these four elements form a subring.<br>"
   ]
  },
  {
   "cell_type": "code",
   "execution_count": 0,
   "id": "8dd0fc",
   "metadata": {
    "collapsed": false
   },
   "outputs": [
   ],
   "source": [
    "S = [0*a, 2*a, b, 2*a+b]"
   ]
  },
  {
   "cell_type": "code",
   "execution_count": 0,
   "id": "025f30",
   "metadata": {
    "collapsed": false
   },
   "outputs": [
   ],
   "source": [
    "AddTable(S)"
   ]
  },
  {
   "cell_type": "code",
   "execution_count": 0,
   "id": "01d03b",
   "metadata": {
    "collapsed": false
   },
   "outputs": [
   ],
   "source": [
    "MultTable(S)"
   ]
  },
  {
   "cell_type": "markdown",
   "id": "a9d6da",
   "metadata": {
    "collapsed": false
   },
   "source": [
    "<br>\n",
    "So this gives us one more nontrivial subring, which gives a total of six nontrivial subrings.<br><br>\n",
    "\n",
    "Let us turn our attention to finding the subrings of an infinite ring. Obviously, we will not be able to have <em>SageMath</em> produce multiplication tables, but we ought to \n",
    "be able to derive some subrings for some common infinite rings. The simplest such ring is the ring of integers, &#8484;. The subring generated by a positive number \n",
    "<em>n</em> would be the set of all multiples of <em>n</em>.  This is indeed a subring, since the difference and the product of two multiplies of <em>n</em> yields a \n",
    "multiple of <em>n</em>.  What is interesting is that <em>all</em> subrings of &#8484; are produced this way."
   ]
  },
  {
   "cell_type": "markdown",
   "id": "102e44",
   "metadata": {
    "collapsed": false
   },
   "source": [
    "<a name=\"prop103ret\" id=\"prop103ret\"></a>\n",
    "PROPOSTION 10.3<br>\n",
    "\n",
    "A subring of the ring of integers &#8484; consists of all multiples of some non-negative number <em>n</em>. This subring is denoted <em>n</em> &#8484;.<br><br>\n",
    "\n",
    "<a href=\"#prop103\">Click here for the proof.</a>\n",
    "\n",
    "<p />\n",
    "Although the subrings of &#8484; are easily classified, this is not the case with the ring of real numbers. The first example, the set <em>S</em> of all numbers of the \n",
    "form <em>x</em> + <em>y</em> &radic;<font style=\"text-decoration:overline\">2</font>, gives just one of countless subrings of &#8477;.  We could have <em>SageMath</em> do the computations for us.  Note that<br>"
   ]
  },
  {
   "cell_type": "code",
   "execution_count": 0,
   "id": "7d0f65",
   "metadata": {
    "collapsed": false
   },
   "outputs": [
   ],
   "source": [
    "var('x1 x2 y1 y2')"
   ]
  },
  {
   "cell_type": "code",
   "execution_count": 0,
   "id": "809252",
   "metadata": {
    "collapsed": false
   },
   "outputs": [
   ],
   "source": [
    "(x1 + y1*sqrt(2))*(x2 + y2*sqrt(2))"
   ]
  },
  {
   "cell_type": "code",
   "execution_count": 0,
   "id": "d7efb0",
   "metadata": {
    "collapsed": false
   },
   "outputs": [
   ],
   "source": [
    "expand(_)"
   ]
  },
  {
   "cell_type": "markdown",
   "id": "bace70",
   "metadata": {
    "collapsed": false
   },
   "source": [
    "<br>\n",
    "produces a number of the correct form. Since <em>S</em> is obviously closed with respect to subtraction, <em>S</em> is a subring \n",
    "of &#8477;.<br><br>\n",
    "\n",
    "We can actually define this ring in <em>SageMath</em>.  If we let <em>e</em> represent 1, and <em>a</em> \n",
    "represent &radic;<font style=\"text-decoration:overline\">2</font>.  These two elements are both of infinite additive order.  If we do not specify the additive order of an element, <em>SageMath</em> will assume the order is infinite.  Then <em>a</em><sup>2</sup> = 2<em>e</em>, so the ring can be entered by the commands<br>"
   ]
  },
  {
   "cell_type": "code",
   "execution_count": 0,
   "id": "7001ce",
   "metadata": {
    "collapsed": false
   },
   "outputs": [
   ],
   "source": [
    "InitRing()\n",
    "AddRingVar(\"e\",\"a\")\n",
    "Define(e^2, e)\n",
    "Define(e*a, a)\n",
    "Define(a*e, a)\n",
    "Define(a^2, 2*e)\n",
    "Ring()"
   ]
  },
  {
   "cell_type": "markdown",
   "id": "9c6f56",
   "metadata": {
    "collapsed": false
   },
   "source": [
    "<br>\n",
    "Of course we cannot list the elements because there are an infinite number of them.  Nonetheless, we can perform some of the operations on this ring.\n",
    "<br>"
   ]
  },
  {
   "cell_type": "code",
   "execution_count": 0,
   "id": "04ee84",
   "metadata": {
    "collapsed": false
   },
   "outputs": [
   ],
   "source": [
    "(e + 2*a)*(4*e - 3*a)"
   ]
  },
  {
   "cell_type": "markdown",
   "id": "3303f5",
   "metadata": {
    "collapsed": false
   },
   "source": [
    "<br>\n",
    "This last statement demonstrates that\n",
    "<p style='text-align: center;'>(1 + 2&radic;<font style=\"text-decoration:overline\">2</font>)&middot;(4 &minus; \n",
    "3&radic;<font style=\"text-decoration:overline\">2</font>) = &minus;8 + 5&radic;<font style=\"text-decoration:overline\">2</font>.</p>\n",
    "\n",
    "EXPERIMENT:<br>\n",
    "Does the set of all numbers of the form <em>x</em> + <em>y</em> &#8731;<font style=\"text-decoration:overline\">2</font>, where <em>x</em> and <em>y</em> are integers, form a subring of &#8477;? If not, what is the subring \n",
    "generated by these numbers?  Use <strong>2^(1/3)</strong> for the cube root of 2.<br>"
   ]
  },
  {
   "cell_type": "markdown",
   "id": "856006",
   "metadata": {
    "collapsed": false
   },
   "source": [
    "<br>\n",
    "Clearly, the subrings of the real numbers can be much more complicated than the subrings of integers.<br><br>\n",
    "\n",
    "A natural question to ask is whether we can produce quotient \n",
    "rings from these subrings the way we constructed quotient groups out of the normal subgroups. We will look into this in the next section.<br><br>"
   ]
  },
  {
   "cell_type": "markdown",
   "id": "92c38e",
   "metadata": {
    "collapsed": false
   },
   "source": [
    "<a name=\"sec102\" id=\"sec102\"></a>\n",
    "<h1>Quotient Rings and Ideals</h1>\n",
    "\n",
    "<br>\n",
    "When we studied group theory, one of the most important concepts we discovered was being able to form a quotient group out of the cosets of certain subgroups. \n",
    "After some investigation we learned exactly which subgroups yielded such a quotient group: the normal subgroups. A natural question is whether it is possible to \n",
    "form quotient rings out of the cosets of a subring.<br><br>\n",
    "\n",
    "EXAMPLE:<br>\n",
    "Here is the non-commutative ring of order 8 from the last section.<br>"
   ]
  },
  {
   "cell_type": "code",
   "execution_count": 0,
   "id": "14d15f",
   "metadata": {
    "collapsed": false
   },
   "outputs": [
   ],
   "source": [
    "InitRing()\n",
    "AddRingVar(\"a\",\"b\")\n",
    "Define(4*a, 0); Define(2*b, 0)\n",
    "Define(a^2, a); Define(b^2, 0)\n",
    "Define(a*b, b); Define(b*a, 2*a)\n",
    "R = Ring(); R"
   ]
  },
  {
   "cell_type": "markdown",
   "id": "2e95a1",
   "metadata": {
    "collapsed": false
   },
   "source": [
    "<br>\n",
    "Can we form a quotient ring out of this ring, the way that we constructed a quotient group?<br><br>\n",
    "\n",
    "We found this ring has six nontrivial subrings.<br>"
   ]
  },
  {
   "cell_type": "code",
   "execution_count": 0,
   "id": "e9ac53",
   "metadata": {
    "collapsed": false
   },
   "outputs": [
   ],
   "source": [
    "S1 = Ring(a); S1"
   ]
  },
  {
   "cell_type": "code",
   "execution_count": 0,
   "id": "86cdab",
   "metadata": {
    "collapsed": false
   },
   "outputs": [
   ],
   "source": [
    "S2 = Ring(2*a); S2"
   ]
  },
  {
   "cell_type": "code",
   "execution_count": 0,
   "id": "a5e4f3",
   "metadata": {
    "collapsed": false
   },
   "outputs": [
   ],
   "source": [
    "S3 = Ring(b); S3"
   ]
  },
  {
   "cell_type": "code",
   "execution_count": 0,
   "id": "6ca80c",
   "metadata": {
    "collapsed": false
   },
   "outputs": [
   ],
   "source": [
    "S4 = Ring(a+b); S4"
   ]
  },
  {
   "cell_type": "code",
   "execution_count": 0,
   "id": "c7f1b1",
   "metadata": {
    "collapsed": false
   },
   "outputs": [
   ],
   "source": [
    "S5 = Ring(2*a+b); S5"
   ]
  },
  {
   "cell_type": "code",
   "execution_count": 0,
   "id": "1d3f67",
   "metadata": {
    "collapsed": false
   },
   "outputs": [
   ],
   "source": [
    "S6 = Ring(2*a, b); S6"
   ]
  },
  {
   "cell_type": "markdown",
   "id": "8f61dc",
   "metadata": {
    "collapsed": false
   },
   "source": [
    "<br>\n",
    "If there is a quotient ring, what would the elements of this quotient be?  We would expect the additive structure of the quotient ring to be the additive quotient \n",
    "group <em>R</em>/<em>S</em>.  Since addition is commutative, we know that this quotient group always exists.  We can use <em>SageMath</em> to find the cosets \n",
    "of <em>S</em> under the operation of addition.  Since left and right cosets are the same when working with rings, we will simply use the \n",
    "command <strong>Coset(R, S)</strong> for the list of cosets of the subgroup <em>S</em> of <em>R</em>.  For the subgroup <em>S</em><sub>1</sub>, here are the cosets:<br>"
   ]
  },
  {
   "cell_type": "code",
   "execution_count": 0,
   "id": "2cd11e",
   "metadata": {
    "collapsed": false
   },
   "outputs": [
   ],
   "source": [
    "Q = Coset(R, S1); Q"
   ]
  },
  {
   "cell_type": "markdown",
   "id": "afd939",
   "metadata": {
    "collapsed": false
   },
   "source": [
    "<br>\n",
    "We can <em>add</em> two cosets together using the following definition:\n",
    "<p style='text-align: center;'><em>X</em> + <em>Y</em> = { <em>x</em> + <em>y</em>  | <em>x</em> &isin; <em>X</em>&ensp;and&ensp;<em>y</em> &isin; <em>Y</em>}.</p>\n",
    "This gives the quotient <em>Q</em> the natural addition. We can see the addition table for <em>Q</em> as follows:<br>"
   ]
  },
  {
   "cell_type": "code",
   "execution_count": 0,
   "id": "03bfca",
   "metadata": {
    "collapsed": false
   },
   "outputs": [
   ],
   "source": [
    "AddTable(Q)"
   ]
  },
  {
   "cell_type": "markdown",
   "id": "312fe7",
   "metadata": {
    "collapsed": false
   },
   "source": [
    "<br>\n",
    "Can we now multiply elements of <em>Q</em> to form a ring?  The natural way to define the product of two sets is the way we defined such a product for groups:\n",
    "<p style='text-align: center;'><em>X</em>&middot;<em>Y</em> = { <em>x</em>&middot;<em>y</em>  | <em>x</em> &isin; <em>X</em>&ensp;and&ensp;<em>y</em> &isin; <em>Y</em>}.</p>\n",
    "Will such a product of two cosets in <em>Q</em> yield another coset? Let's try it!<br>"
   ]
  },
  {
   "cell_type": "code",
   "execution_count": 0,
   "id": "98320b",
   "metadata": {
    "collapsed": false
   },
   "outputs": [
   ],
   "source": [
    "MultTable(Q)"
   ]
  },
  {
   "cell_type": "markdown",
   "id": "c749e1",
   "metadata": {
    "collapsed": false
   },
   "source": [
    "<br>\n",
    "Hang on! Why are there black squares in the table! <em>SageMath</em> is trying to tell us that the product of two cosets is not always a coset.  If we first set up the two \n",
    "cosets of <em>Q</em>,<br>"
   ]
  },
  {
   "cell_type": "code",
   "execution_count": 0,
   "id": "24b799",
   "metadata": {
    "collapsed": false
   },
   "outputs": [
   ],
   "source": [
    "Q1 = S1; Q1"
   ]
  },
  {
   "cell_type": "code",
   "execution_count": 0,
   "id": "59319a",
   "metadata": {
    "collapsed": false
   },
   "outputs": [
   ],
   "source": [
    "Q2 = b + S1; Q2"
   ]
  },
  {
   "cell_type": "markdown",
   "id": "6b7362",
   "metadata": {
    "collapsed": false
   },
   "source": [
    "<br>\n",
    "we find, for example,<br>"
   ]
  },
  {
   "cell_type": "code",
   "execution_count": 0,
   "id": "a7fde6",
   "metadata": {
    "collapsed": false
   },
   "outputs": [
   ],
   "source": [
    "Q2 * Q1"
   ]
  },
  {
   "cell_type": "markdown",
   "id": "cff044",
   "metadata": {
    "collapsed": false
   },
   "source": [
    "<br>\n",
    "in indeed a coset, but the product<br>"
   ]
  },
  {
   "cell_type": "code",
   "execution_count": 0,
   "id": "81975d",
   "metadata": {
    "collapsed": false
   },
   "outputs": [
   ],
   "source": [
    "Q1 * Q2"
   ]
  },
  {
   "cell_type": "markdown",
   "id": "2fde56",
   "metadata": {
    "collapsed": false
   },
   "source": [
    "<br>\n",
    "produced way too many elements!  What is going on? Since {0, <em>a</em>, 2<em>a</em>, 3<em>a</em>} is the zero element for <em>Q</em>, we would <em>expect</em> the \n",
    "product to be {0, <em>a</em>, 2<em>a</em>, 3<em>a</em>}.  But we somehow got some extra elements. Where did they come from?<br><br>\n",
    "\n",
    "EXPERIMENT:<br>\n",
    "The above product demonstrates that there are two elements of <em>S</em><sub>1</sub>, <em>x</em><sub>1</sub> and <em>x</em><sub>2</sub>, such that\n",
    "<p style='text-align: center;'><em>x</em><sub>1</sub>&middot;(<em>b</em> + <em>x</em><sub>2</sub>)</p>\n",
    "is not in <em>S</em>.  Use <em>SageMath</em>, along with a little trial and error, to find two such elements. For example, to see whether \n",
    "<em>x</em><sub>1</sub> = <em>x</em><sub>2</sub> = 0 works, enter<br>"
   ]
  },
  {
   "cell_type": "code",
   "execution_count": 0,
   "id": "8a32f2",
   "metadata": {
    "collapsed": false
   },
   "outputs": [
   ],
   "source": [
    "x1 = 0*a\n",
    "x2 = 0*a\n",
    "x1*(b + x2)"
   ]
  },
  {
   "cell_type": "markdown",
   "id": "e2a390",
   "metadata": {
    "collapsed": false
   },
   "source": [
    "<br>\n",
    "Change <strong>x1</strong> and <strong>x2</strong> so that the result is not in <em>S</em><sub>1</sub>.<br>"
   ]
  },
  {
   "cell_type": "markdown",
   "id": "b89520",
   "metadata": {
    "collapsed": false
   },
   "source": [
    "<br>\n",
    "Although it seems as though our attempt to define a quotient ring has failed miserably, we might want to study this example to understand <em>why</em> we failed to have \n",
    "a quotient group.  Since the additive identity of the quotient group is the subring <em>S</em>, <em>S</em> times any other coset should give <em>S</em> again.  But that \n",
    "means that subring <em>S</em> times any element of <em>R</em> would have to produce only elements in <em>S</em>.  But we have seen an example where this wasn't the \n",
    "case, namely<br>"
   ]
  },
  {
   "cell_type": "code",
   "execution_count": 0,
   "id": "64d2b4",
   "metadata": {
    "collapsed": false
   },
   "outputs": [
   ],
   "source": [
    "S1*(b + x2)"
   ]
  },
  {
   "cell_type": "markdown",
   "id": "d7b44d",
   "metadata": {
    "collapsed": false
   },
   "source": [
    "<br>\n",
    "Since the elements produced were not all in <em>S</em>, <em>S</em> did not act like the zero element in the product.<br><br>\n",
    "\n",
    "But wait! What if we found a subring for which <em>S</em>&middot;<em>x</em> always was a subset of <em>S</em> for every <em>x</em> in <em>R</em>? By a similar logic, \n",
    "we would also have to require that <em>x</em>&middot;<em>S</em> be a subset of <em>S</em>.  A quick way to test this is to see if the \n",
    "products <em>S</em>&middot;<em>R</em> and <em>R</em>&middot;<em>S</em> are both subsets of <em>S</em>. Let us check the second subring of <em>R</em> that we found.<br>"
   ]
  },
  {
   "cell_type": "code",
   "execution_count": 0,
   "id": "971440",
   "metadata": {
    "collapsed": false
   },
   "outputs": [
   ],
   "source": [
    "S2 * R"
   ]
  },
  {
   "cell_type": "code",
   "execution_count": 0,
   "id": "f88963",
   "metadata": {
    "collapsed": false
   },
   "outputs": [
   ],
   "source": [
    "R * S2"
   ]
  },
  {
   "cell_type": "markdown",
   "id": "4903b7",
   "metadata": {
    "collapsed": false
   },
   "source": [
    "<br>\n",
    "So far, so good.  This at least ensures that the additive identity {0, 2<em>a</em>} will behave properly for multiplication.  Let us use the multiplication table to see \n",
    "if the product of any two cosets will again be a coset.<br>"
   ]
  },
  {
   "cell_type": "code",
   "execution_count": 0,
   "id": "1cc6b4",
   "metadata": {
    "collapsed": false
   },
   "outputs": [
   ],
   "source": [
    "Q = Coset(R, S2); Q"
   ]
  },
  {
   "cell_type": "code",
   "execution_count": 0,
   "id": "08273f",
   "metadata": {
    "collapsed": false
   },
   "outputs": [
   ],
   "source": [
    "MultTable(Q)"
   ]
  },
  {
   "cell_type": "markdown",
   "id": "d029cc",
   "metadata": {
    "collapsed": false
   },
   "source": [
    "<br>\n",
    "This looks pretty good&mdash;no black squares, so we have at least defined a multiplication for these cosets.  It is interesting that this multiplication table is \n",
    "not commutative, even though all of the subrings of <em>R</em> were commutative.  So this quotient cannot be like any of the subrings of <em>R</em>.<br><br>\n",
    "\n",
    "But look closely at this table.  Not every product yields a coset, sometimes it yields only a <em>subset</em> of a coset. For appearances, <em>SageMath</em> has colored such \n",
    "a subset according to the color of the coset. <br><br>\n",
    "\n",
    "One way to rectify this slight blemish in our multiplication table is to add the identity coset to each entry in the table. That is, instead of defining the product of \n",
    "the cosets <em>X</em> and <em>Y</em> to be <em>X</em>&middot;<em>Y</em>, we define the product of two cosets to be\n",
    "<p style='text-align: center;'><em>X</em> &lowast; <em>Y</em> = <em>X</em>&middot;<em>Y</em> + <em>S</em>.</p>\n",
    "We can repair the multiplication table with the command<br>"
   ]
  },
  {
   "cell_type": "code",
   "execution_count": 0,
   "id": "12783d",
   "metadata": {
    "collapsed": false
   },
   "outputs": [
   ],
   "source": [
    "QuotientRing = true"
   ]
  },
  {
   "cell_type": "markdown",
   "id": "079b01",
   "metadata": {
    "collapsed": false
   },
   "source": [
    "<br>\n",
    "A new multiplication table will now be constructed using this new definition of the product of two cosets.<br>"
   ]
  },
  {
   "cell_type": "code",
   "execution_count": 0,
   "id": "4ad844",
   "metadata": {
    "collapsed": false
   },
   "outputs": [
   ],
   "source": [
    "MultTable(Q)"
   ]
  },
  {
   "cell_type": "markdown",
   "id": "918b74",
   "metadata": {
    "collapsed": false
   },
   "source": [
    "<br>\n",
    "This looks much better!  We still have not shown that this multiplication table obeys the laws of a ring, but we will get to that shortly.  First, let us see if any of \n",
    "the other subrings of <em>R</em> could form a multiplication table.<br>"
   ]
  },
  {
   "cell_type": "code",
   "execution_count": 0,
   "id": "dfdce3",
   "metadata": {
    "collapsed": false
   },
   "outputs": [
   ],
   "source": [
    "Q = Coset(R, S3); Q"
   ]
  },
  {
   "cell_type": "code",
   "execution_count": 0,
   "id": "ac83fe",
   "metadata": {
    "collapsed": false
   },
   "outputs": [
   ],
   "source": [
    "MultTable(Q)"
   ]
  },
  {
   "cell_type": "markdown",
   "id": "e64ba9",
   "metadata": {
    "collapsed": false
   },
   "source": [
    "<br>\n",
    "This subring seemed to fail, but notice that the products<br>"
   ]
  },
  {
   "cell_type": "code",
   "execution_count": 0,
   "id": "30c768",
   "metadata": {
    "collapsed": false
   },
   "outputs": [
   ],
   "source": [
    "S3 * R"
   ]
  },
  {
   "cell_type": "code",
   "execution_count": 0,
   "id": "7c10e5",
   "metadata": {
    "collapsed": false
   },
   "outputs": [
   ],
   "source": [
    "R * S3"
   ]
  },
  {
   "cell_type": "markdown",
   "id": "422aa4",
   "metadata": {
    "collapsed": false
   },
   "source": [
    "<br>\n",
    "are not both contained in <em>S</em><sub>3</sub>.<br><br>\n",
    "\n",
    "EXPERIMENT:<br>\n",
    "Try forming the multiplication tables for the cosets of <em>S</em><sub>4</sub>, <em>S</em><sub>5</sub>, and <em>S</em><sub>6</sub>.  For which subrings do the cosets \n",
    "form multiplication tables?  For which subrings are <em>R</em>&middot;<em>S</em> and <em>S</em>&middot;<em>R</em> both contained in <em>S</em>?<br>"
   ]
  },
  {
   "cell_type": "markdown",
   "id": "fcbee7",
   "metadata": {
    "collapsed": false
   },
   "source": [
    "<br>\n",
    "The pattern is apparent. Subrings of <em>R</em> for which <em>R</em>&middot;<em>S</em> and <em>S</em>&middot;<em>R</em> are both contained in <em>S</em> have a special \n",
    "property, and hence we give such subrings a special name.  Rather then calling them &quot;normal subrings&quot; we will use the more traditional name.<br><br>\n",
    "\n",
    "DEFINITION 10.3<br>\n",
    "A subring <em>I</em> of a ring <em>R</em> is called an <em>ideal</em> of <em>R</em> if both <em>I</em>&middot;<em>R</em> and <em>R</em>&middot;<em>I</em> are contained in \n",
    "the subring <em>I</em>.  That is, <em>a</em>&middot;<em>x</em> and <em>x</em>&middot;<em>a</em> are in <em>I</em> for all <em>a</em> &isin; <em>I</em>, and <em>x</em> &isin; <em>R</em>.<br><br>\n",
    "\n",
    "We now are ready to prove that the cosets of an ideal ready do form a quotient ring."
   ]
  },
  {
   "cell_type": "markdown",
   "id": "a37ae5",
   "metadata": {
    "collapsed": false
   },
   "source": [
    "<a name=\"prop104ret\" id=\"prop104ret\"></a>\n",
    "PROPOSITION 10.4<br>\n",
    "\n",
    "Let <em>R</em> be a ring, and let <em>I</em> be an ideal of <em>R</em>. The the additive quotient group <em>R</em>/<em>I</em> forms a ring, with the product of two \n",
    "cosets <em>X</em> and <em>Y</em> being <em>X</em>&lowast;<em>Y</em> = <em>X</em>&middot;<em>Y</em> + <em>I</em>. This ring is called the <em>quotient ring</em> \n",
    "<em>R</em>/<em>I</em>.<br><br>\n",
    "\n",
    "<a href=\"#prop104\">Click here for the proof.</a>\n",
    "\n",
    "<p />\n",
    "From the experiment, you should have discovered that three of the six nontrivial subrings were ideals. The two trivial subrings, {0} and <em>R</em> itself, will be ideals \n",
    "for any ring. These two ideals are called the <em>trivial ideals</em>.<br><br>\n",
    "\n",
    "Let us see if we can find ideals for other rings.<br><br>\n",
    "\n",
    "EXAMPLE:<br>\n",
    "Find the ideals of the ring &#8484;, and determine the quotient rings.<br><br>\n",
    "\n",
    "By Proposition 10.3 that every subring of &#8484; is of the form <em>n</em> &#8484; for \n",
    "some non-negative <em>n</em>. If <em>S</em> = <em>n</em> &#8484;, then since any multiple of <em>n</em> times any integer gives a multiple of <em>n</em>, we have \n",
    "<em>S</em>&middot;&#8484; = <em>S</em>, and &#8484;&middot;<em>S</em> = <em>S</em>. Thus, any subring of &#8484; is an ideal of &#8484;.<br><br>\n",
    "\n",
    "What is the quotient ring &#8484;/(<em>n</em> &#8484;)? The cosets can all be expressed in the form <em>a</em> + <em>n</em> &#8484;, where <em>a</em> = 0, 1, \n",
    "2, &hellip; <em>n</em> &minus; 1. Addition and multiplication is easily described:\n",
    "<p style='text-align: center;'>(<em>a</em> + <em>n</em> &#8484;) + (<em>b</em> + <em>n</em> &#8484;) = (<em>a</em> + <em>b</em> + <em>n</em> &#8484;) = \n",
    "(<em>a</em> + <em>b</em>) <strong>mod</strong> <em>n</em> + <em>n</em> &#8484;,</p>\n",
    "and \n",
    "<p style='text-align: center;'>(<em>a</em> + <em>n</em> &#8484;)&middot;(<em>b</em> + <em>n</em> &#8484;) = (<em>a</em>&middot;<em>b</em> + <em>n</em> &#8484;) = \n",
    "<em>a</em>&middot;<em>b</em> <strong>mod</strong> <em>n</em> + <em>n</em> &#8484;.</p>\n",
    "Clearly, the quotient ring behaves exactly like the ring <em>Z<sub>n</sub></em>. To put this another way, the quotient &#8484;/(<em>n</em> &#8484;) is <em>isomorphic</em> \n",
    "to <em>Z<sub>n</sub></em>. We will study ring isomorphisms in the next section.<br><br>\n",
    "\n",
    "In contrast, let us consider a ring such as the rational numbers &#8474;. We can quickly see that the only ideals of &#8474; are the trivial ideals, even though there are \n",
    "a host of subrings of &#8474;. The proof holds for any field, so let us prove the following proposition."
   ]
  },
  {
   "cell_type": "markdown",
   "id": "4761d2",
   "metadata": {
    "collapsed": false
   },
   "source": [
    "<a name=\"prop105ret\" id=\"prop105ret\"></a>\n",
    "PROPOSITION 10.5<br>\n",
    "\n",
    "Any field or skew field can only have trivial ideals.<br><br>\n",
    "\n",
    "<a href=\"#prop105\">Click here for the proof.</a>\n",
    "\n",
    "<p />\n",
    "We want to develop a way to find the ideals of a general ring <em>R</em>. We have already observed that the intersection of two subrings is again a subring. Using this \n",
    "fact, we were able to use <em>SageMath</em> to find all of the subrings. So the natural question is whether the intersection of two ideals gives an ideal. If so, we will be \n",
    "able to use <em>SageMath</em> to find all of the ideals of a finite ring."
   ]
  },
  {
   "cell_type": "markdown",
   "id": "bd6cef",
   "metadata": {
    "collapsed": false
   },
   "source": [
    "<a name=\"prop106ret\" id=\"prop106ret\"></a>\n",
    "PROPOSITION 10.6<br>\n",
    "\n",
    "If <em>L</em> is a non-empty collection of ideals of a ring <em>R</em>, then the intersection of all of these ideals \n",
    "<br><br>\n",
    "<table align=\"center\" width=\"160\" border=\"0\" cellspacing=\"0\" cellpadding=\"0\">\n",
    "  <tr>\n",
    "    <td align=\"right\"><em>I</em><sup>&ast;</sup> = </td>\n",
    "    <td align=\"center\"><font face=\"Times New Roman, Times, serif\" size=\"+4\">&cap;</font></td>\n",
    "    <td align=\"left\"><em>I</em>&ensp;&ensp;&ensp;</td>\n",
    "  </tr>\n",
    "  <tr>\n",
    "    <td></td>\n",
    "    <td align=\"center\" valign=\"top\"><em>I</em> &isin; <em>L</em></td>\n",
    "    <td></td>\n",
    "  </tr>\n",
    "</table>\n",
    "is an ideal of <em>R</em>.<br><br>\n",
    "\n",
    "<a href=\"#prop106\">Click here for the proof.</a>\n",
    "\n",
    "<p />\n",
    "We can now define the smallest ideal of <em>R</em> that contains a subset <em>S</em>.  We proceed as we did for subrings, and consider the collection of all ideals \n",
    "of <em>R</em> containing <em>S</em>.  This collection will be non-empty, since <em>R</em> itself is such an ideal.  If we denote this collection by <em>L</em>, then \n",
    "the smallest ideal of <em>R</em> containing <em>S</em> would have to be\n",
    "<br><br>\n",
    "<table align=\"center\" width=\"160\" border=\"0\" cellspacing=\"0\" cellpadding=\"0\">\n",
    "  <tr>\n",
    "    <td align=\"right\">&lang;<em>S</em>&rang; = </td>\n",
    "    <td align=\"center\"><font face=\"Times New Roman, Times, serif\" size=\"+4\">&cap;</font></td>\n",
    "    <td align=\"left\"><em>I</em>&ensp;&ensp;&ensp;</td>\n",
    "  </tr>\n",
    "  <tr>\n",
    "    <td></td>\n",
    "    <td align=\"center\" valign=\"top\"><em>I</em> &isin; <em>L</em></td>\n",
    "    <td></td>\n",
    "  </tr>\n",
    "</table>\n",
    "<br>\n",
    "We call &lang;<em>S</em>&rang; the <em>ideal generated by S</em>. Notice the distinction between this notation and the notation of the subring generated \n",
    "by <em>S</em>, [<em>S</em>].<br><br>\n",
    "\n",
    "We can have <em>SageMath</em> find the ideal of <em>R</em> generated by any set <em>S</em> with the command <strong>Ideal(R, S)</strong>.<br><br>\n",
    "\n",
    "For example, in the non-commutative ring of order 8 which we were working with earlier,<br>"
   ]
  },
  {
   "cell_type": "code",
   "execution_count": 0,
   "id": "dd2362",
   "metadata": {
    "collapsed": false
   },
   "outputs": [
   ],
   "source": [
    "InitRing()\n",
    "AddRingVar(\"a\",\"b\")\n",
    "Define(4*a, 0); Define(2*b, 0)\n",
    "Define(a^2, a); Define(b^2, 0)\n",
    "Define(a*b, b); Define(b*a, 2*a)\n",
    "R = Ring(); R"
   ]
  },
  {
   "cell_type": "markdown",
   "id": "9bf8cb",
   "metadata": {
    "collapsed": false
   },
   "source": [
    "<br>\n",
    "we can find all of the ideals rather quickly. For example, the ideal generated by the element <em>a</em> is<br>"
   ]
  },
  {
   "cell_type": "code",
   "execution_count": 0,
   "id": "ca699f",
   "metadata": {
    "collapsed": false
   },
   "outputs": [
   ],
   "source": [
    "Ideal(R, a)"
   ]
  },
  {
   "cell_type": "markdown",
   "id": "64c7e8",
   "metadata": {
    "collapsed": false
   },
   "source": [
    "<br>\n",
    "so <em>a</em> cannot be contained in any nontrivial ideal. Likewise, 3<em>a</em> would generate the whole ring <em>R</em>, since 3&middot;3<em>a</em> = <em>a</em>. If we \n",
    "try the element <em>a</em> + <em>b</em>, we get<br>"
   ]
  },
  {
   "cell_type": "code",
   "execution_count": 0,
   "id": "b4ffa9",
   "metadata": {
    "collapsed": false
   },
   "outputs": [
   ],
   "source": [
    "Ideal(R, a + b)"
   ]
  },
  {
   "cell_type": "markdown",
   "id": "0b52e0",
   "metadata": {
    "collapsed": false
   },
   "source": [
    "<br>\n",
    "This tells us that <em>a</em> + <em>b</em> is not in a nontrivial ideal.  The same thing is true for 3<em>a</em> + <em>b</em> = 3(<em>a</em> + <em>b</em>). So the remaining\n",
    "three non-zero elements which could be in a nontrivial ideal form the ideals<br>"
   ]
  },
  {
   "cell_type": "code",
   "execution_count": 0,
   "id": "9b6b80",
   "metadata": {
    "collapsed": false
   },
   "outputs": [
   ],
   "source": [
    "Ideal(R, 2*a)"
   ]
  },
  {
   "cell_type": "code",
   "execution_count": 0,
   "id": "5e0c08",
   "metadata": {
    "collapsed": false
   },
   "outputs": [
   ],
   "source": [
    "Ideal(R, b)"
   ]
  },
  {
   "cell_type": "code",
   "execution_count": 0,
   "id": "c81891",
   "metadata": {
    "collapsed": false
   },
   "outputs": [
   ],
   "source": [
    "Ideal(R, 2*a + b)"
   ]
  },
  {
   "cell_type": "markdown",
   "id": "61bcc7",
   "metadata": {
    "collapsed": false
   },
   "source": [
    "<br>\n",
    "If we require two of the three of these elements to be in the ideal, it is clear that we will have the same ideal as &lang;<em>b</em>&rang;. Thus, there are five ideals in this \n",
    "ring, which we can express as\n",
    "<p style='text-align: center;'>&lang;0&rang;,&emsp;&lang;<em>a</em>&rang;,&emsp;&lang;2<em>a</em>&rang;,&emsp;&lang;<em>b</em>&rang;,&ensp;and&ensp;&lang;2<em>a</em> + <em>b</em>&rang;.</p>\n",
    "Notice that all five ideals could be generated with a single element.  We will give a special name for these ideals.<br>\n",
    "\n",
    "<br>\n",
    "DEFINITION 10.4<br>\n",
    "An ideal of <em>R</em> that is generated by only one element of <em>R</em> is called a <em>principal ideal</em>. If all of the ideals of <em>R</em> are principal \n",
    "ideals, then the ring is called a <em>principal ideal ring</em>.<br><br>\n",
    "\n",
    "EXPERIMENT:<br>\n",
    "In Chapter 9 we found a non-commutative unity ring of order 8:<br>"
   ]
  },
  {
   "cell_type": "code",
   "execution_count": 0,
   "id": "824a42",
   "metadata": {
    "collapsed": false
   },
   "outputs": [
   ],
   "source": [
    "InitRing()\n",
    "AddRingVar(\"e\",\"a\",\"b\")\n",
    "Define(2*e, 0); Define(2*a, 0); Define(2*b, 0)\n",
    "Define(e^2, e); Define(e*a, a); Define(e*b, b)\n",
    "Define(a*e, a); Define(a^2, a); Define(a*b, a)\n",
    "Define(b*e, b); Define(b*a, b); Define(b^2, b)\n",
    "R = Ring(); R"
   ]
  },
  {
   "cell_type": "markdown",
   "id": "d0d679",
   "metadata": {
    "collapsed": false
   },
   "source": [
    "<br>\n",
    "Find all of the ideals of this ring. Is this a principal ideal ring?<br>"
   ]
  },
  {
   "cell_type": "markdown",
   "id": "b22ea3",
   "metadata": {
    "collapsed": false
   },
   "source": [
    "<br>\n",
    "It should be noted that the ring of integers &#8484; is a principal ideal ring, since all ideals (in fact all subrings) are of the form <em>n</em> &#8484;, which is \n",
    "generated by the single element <em>n</em>. Since &#8484; is also an integral domain, we will combine the two terms and call &#8484; \n",
    "a <em>principal ideal domain</em>, or PID.  Principal ideal domains play an important role in ring theory.<br><br>"
   ]
  },
  {
   "cell_type": "markdown",
   "id": "f146b3",
   "metadata": {
    "collapsed": false
   },
   "source": [
    "<a name=\"sec103\" id=\"sec103\"></a>\n",
    "<h1>Ring Isomorphisms</h1>\n",
    "\n",
    "<br>\n",
    "As we work with different rings, it is natural to ask whether we can classify the finite rings the way that we did for small groups.  Of course, we will consider two \n",
    "rings to be &quot;equivalent&quot; if the elements of one ring can be renamed to form the other ring.  We have already seen an example of equivalent rings: the quotient \n",
    "ring &#8484;/(<em>n</em> &#8484;) was essentially the same ring as <em>Z<sub>n</sub></em>.  We would like to formalize this equivalence using the same technique that we \n",
    "used for groups.<br><br>\n",
    "\n",
    "DEFINITION 10.5<br>\n",
    "Let <em>A</em> and <em>B</em> be two rings. A <em>ring isomorphism</em> from <em>A</em> to <em>B</em> is a one-to-one mapping\n",
    "<p style='text-align: center;'><em>&fnof;</em>: <em>A</em> &rarr; <em>B</em></p>\n",
    "such that \n",
    "<p style='text-align: center;'><em>&fnof;</em>(<em>x</em> + <em>y</em>) = <em>&fnof;</em>(<em>x</em>) + <em>&fnof;</em>(<em>y</em>)&emsp;and&emsp;\n",
    "<em>&fnof;</em>(<em>x</em>&middot;<em>y</em>) = <em>&fnof;</em>(<em>x</em>)&middot;<em>&fnof;</em>(<em>y</em>)&ensp;for all <em>x</em>, <em>y</em> &isin; <em>A</em>.</p>\n",
    "\n",
    "<br>\n",
    "If there exists a ring isomorphism from <em>A</em> to <em>B</em> that is surjective, then we say that the rings <em>A</em> and <em>B</em> are <em>isomorphic</em>, denoted \n",
    "by <em>A</em> &asymp; <em>B</em>.<br><br>\n",
    "\n",
    "EXAMPLE:<br>\n",
    "Find an isomorphism from the quotient ring &#8484;/(<em>n</em> &#8484;) to <em>Z<sub>n</sub></em>.<br><br>\n",
    "\n",
    "The natural mapping would be as follows:\n",
    "<p style='text-align: center;'><em>&fnof;</em>(<em>a</em> + <em>n</em> &#8484;) = <em>a</em> <strong>mod</strong> <em>n</em>,</p>\n",
    "which we can verify is well defined by noting that if <em>a</em> + <em>n</em> &#8484; = <em>b</em> + <em>n</em> &#8484;, then <em>a</em> &minus; <em>b</em> is a multiple \n",
    "of <em>n</em>, so <em>a</em> <strong>mod</strong> <em>n</em> = <em>b</em> <strong>mod</strong> <em>n</em>.\n",
    "Also, <em>&fnof;</em> is an injective and surjective function from &#8484;/(<em>n</em> &#8484;) to <em>Z<sub>n</sub></em>. Furthermore, \n",
    "<em>&fnof;</em>(<em>a</em> + <em>b</em>) = <em>&fnof;</em>(<em>a</em>) + <em>&fnof;</em>(<em>b</em>), and <em>&fnof;</em>(<em>a</em>&middot;<em>b</em>) = \n",
    "<em>&fnof;</em>(<em>a</em>)&middot;<em>&fnof;</em>(<em>b</em>).  So we have that\n",
    "<p style='text-align: center;'>&#8484;/(<em>n</em> &#8484;) &asymp; <em>Z<sub>n</sub></em>.</p>\n",
    "\n",
    "<br>\n",
    "EXAMPLE:<br>\n",
    "Two similar looking rings of order 10 can be defined in <em>SageMath</em> as follows:<br>"
   ]
  },
  {
   "cell_type": "code",
   "execution_count": 0,
   "id": "237f77",
   "metadata": {
    "collapsed": false
   },
   "outputs": [
   ],
   "source": [
    "InitRing()\n",
    "AddRingVar(\"a\")\n",
    "Define(10*a, 0)\n",
    "Define(a^2, 2*a)\n",
    "CheckRing()"
   ]
  },
  {
   "cell_type": "code",
   "execution_count": 0,
   "id": "f67975",
   "metadata": {
    "collapsed": false
   },
   "outputs": [
   ],
   "source": [
    "A = Ring(a); A"
   ]
  },
  {
   "cell_type": "markdown",
   "id": "25d6d7",
   "metadata": {
    "collapsed": false
   },
   "source": [
    "<br>\n",
    "Here are the addition and multiplication tables for the ring <em>A</em>.<br>"
   ]
  },
  {
   "cell_type": "code",
   "execution_count": 0,
   "id": "b27a1e",
   "metadata": {
    "collapsed": false
   },
   "outputs": [
   ],
   "source": [
    "AddTable(A)"
   ]
  },
  {
   "cell_type": "code",
   "execution_count": 0,
   "id": "7229b4",
   "metadata": {
    "collapsed": false
   },
   "outputs": [
   ],
   "source": [
    "MultTable(A)"
   ]
  },
  {
   "cell_type": "markdown",
   "id": "d2c656",
   "metadata": {
    "collapsed": false
   },
   "source": [
    "<br>\n",
    "Notice that the additive structure of this ring is like <em>Z</em><sub>10</sub>, but the multiplicative structure is totally different, since there is no identity \n",
    "element.<br>"
   ]
  },
  {
   "cell_type": "code",
   "execution_count": 0,
   "id": "32b8ac",
   "metadata": {
    "collapsed": false
   },
   "outputs": [
   ],
   "source": [
    "FindUnity(A)"
   ]
  },
  {
   "cell_type": "markdown",
   "id": "9545c6",
   "metadata": {
    "collapsed": false
   },
   "source": [
    "<br>\n",
    "A second ring can be defined at the same time if we don't start over with <strong>InitRing()</strong>."
   ]
  },
  {
   "cell_type": "code",
   "execution_count": 0,
   "id": "3479cd",
   "metadata": {
    "collapsed": false
   },
   "outputs": [
   ],
   "source": [
    "AddRingVar(\"b\")\n",
    "Define(10*b, 0)\n",
    "Define(b^2, 6*b)\n",
    "B = Ring(b); B"
   ]
  },
  {
   "cell_type": "markdown",
   "id": "108c4f",
   "metadata": {
    "collapsed": false
   },
   "source": [
    "<br>\n",
    "Actually, we are creating a ring of order 100, for which <em>A</em> and <em>B</em> are subrings.<br><br>"
   ]
  },
  {
   "cell_type": "code",
   "execution_count": 0,
   "id": "2940c4",
   "metadata": {
    "collapsed": false
   },
   "outputs": [
   ],
   "source": [
    "A = Ring(a)\n",
    "B = Ring(b)"
   ]
  },
  {
   "cell_type": "markdown",
   "id": "837230",
   "metadata": {
    "collapsed": false
   },
   "source": [
    "<br>\n",
    "\n",
    "Show that these rings are isomorphic.<br><br>"
   ]
  },
  {
   "cell_type": "markdown",
   "id": "39df00",
   "metadata": {
    "collapsed": false
   },
   "source": [
    "<br>\n",
    "With a little thought one realizes that any ring of order 10 must have the same additive structure, since there is only one abelian group of order 10.  \n",
    "Here are the addition and multiplication tables for the ring <em>B</em>:<br>"
   ]
  },
  {
   "cell_type": "code",
   "execution_count": 0,
   "id": "82eacd",
   "metadata": {
    "collapsed": false
   },
   "outputs": [
   ],
   "source": [
    "AddTable(B)"
   ]
  },
  {
   "cell_type": "code",
   "execution_count": 0,
   "id": "d5b56d",
   "metadata": {
    "collapsed": false
   },
   "outputs": [
   ],
   "source": [
    "MultTable(B)"
   ]
  },
  {
   "cell_type": "markdown",
   "id": "9a366f",
   "metadata": {
    "collapsed": false
   },
   "source": [
    "<br>\n",
    "If we compare the multiplication table to that of the ring <em>A</em><br>"
   ]
  },
  {
   "cell_type": "code",
   "execution_count": 0,
   "id": "ee7354",
   "metadata": {
    "collapsed": false
   },
   "outputs": [
   ],
   "source": [
    "MultTable(A)"
   ]
  },
  {
   "cell_type": "code",
   "execution_count": 0,
   "id": "bba6b8",
   "metadata": {
    "collapsed": false
   },
   "outputs": [
   ],
   "source": [
    "MultTable([0*b, b, 2*b, 3*b, 4*b, 5*b, 6*b, 7*b, 8*b, 9*b])"
   ]
  },
  {
   "cell_type": "markdown",
   "id": "e724d5",
   "metadata": {
    "collapsed": false
   },
   "source": [
    "<br>\n",
    "We find many similarities, but they are not exactly the same.<br><br>\n",
    "\n",
    "EXPERIMENT:<br>\n",
    "Can you find an isomorphism from <em>A</em> to <em>B</em> by rearranging the elements of <strong>B</strong> above so that the multiplication tables for <em>A</em> and \n",
    "<em>B</em> have the same color pattern? Careful! The <em>addition</em> tables for <em>A</em> and <em>B</em> must <em>also</em> have the same color pattern! Rather than \n",
    "using trial and error, see if you use inductive reasoning using the properties of the ring. There is, in fact, only one solution.<br>"
   ]
  },
  {
   "cell_type": "markdown",
   "id": "a6420a",
   "metadata": {
    "collapsed": false
   },
   "source": [
    "<br>\n",
    "Another way to demonstrate the isomorphism is to construct a mapping between the two rings.  Since <em>a</em> is an \n",
    "additive generator of <em>A</em>, we know that it should map to one of the additive generators of <em>B</em>, \n",
    "{<em>b</em>, 3<em>b</em>, 7<em>b</em>, 9<em>b</em>}.  So we can use trial and error.\n",
    "In <em>SageMath</em>, the command <strong>RingHomo</strong> defines a ring homomorphism, similar to the way \n",
    "that <strong>Homomorph</strong> defined a group homomorphism.\n",
    "<br>"
   ]
  },
  {
   "cell_type": "code",
   "execution_count": 0,
   "id": "54c7ff",
   "metadata": {
    "collapsed": false
   },
   "outputs": [
   ],
   "source": [
    "F = RingHomo(A, B)\n",
    "HomoDef(F, a, b)\n",
    "FinishHomo(F)"
   ]
  },
  {
   "cell_type": "code",
   "execution_count": 0,
   "id": "303ed3",
   "metadata": {
    "collapsed": false
   },
   "outputs": [
   ],
   "source": [
    "F = RingHomo(A, B)\n",
    "HomoDef(F, a, 3*b)\n",
    "FinishHomo(F)"
   ]
  },
  {
   "cell_type": "markdown",
   "id": "831b31",
   "metadata": {
    "collapsed": false
   },
   "source": [
    "<br>\n",
    "EXPERIMENT:<br>\n",
    "Try sending <em>a</em> to one of the other two additive generators of <em>B</em>.  Can we get a homomorphism?  If you find a homomorphism, what is the kernel?<br>"
   ]
  },
  {
   "cell_type": "markdown",
   "id": "6000d9",
   "metadata": {
    "collapsed": false
   },
   "source": [
    "From either of the experiments, we found an isomorphism from <em>A</em> to <em>B</em>, but it was far from obvious.  We would like a way to generalize this example so we \n",
    "can determine if two similar \n",
    "rings are isomorphic.\n",
    "\n",
    "<br><br>\n",
    "One way to help find an isomorphism between <em>A</em> and <em>B</em> is to show that both of these are isomorphic to a subring of the familiar \n",
    "rings <em>Z<sub>n</sub></em> for some <em>n</em>. For example, consider 2 <em>Z</em><sub>20</sub>, the even elements of <em>Z</em><sub>20</sub>.<br>"
   ]
  },
  {
   "cell_type": "code",
   "execution_count": 0,
   "id": "a7fd0e",
   "metadata": {
    "collapsed": false
   },
   "outputs": [
   ],
   "source": [
    "Z20 = ZRing(20); Z20"
   ]
  },
  {
   "cell_type": "code",
   "execution_count": 0,
   "id": "3b1826",
   "metadata": {
    "collapsed": false
   },
   "outputs": [
   ],
   "source": [
    "R = Ring(Z20[2]); R"
   ]
  },
  {
   "cell_type": "markdown",
   "id": "433d45",
   "metadata": {
    "collapsed": false
   },
   "source": [
    "<br>\n",
    "If we compare the multiplication tables for <em>A</em> and <em>R</em>,<br>"
   ]
  },
  {
   "cell_type": "code",
   "execution_count": 0,
   "id": "3c7a53",
   "metadata": {
    "collapsed": false
   },
   "outputs": [
   ],
   "source": [
    "MultTable(A)\n",
    "MultTable(R)"
   ]
  },
  {
   "cell_type": "markdown",
   "id": "5508ed",
   "metadata": {
    "collapsed": false
   },
   "source": [
    "<br>\n",
    "we see that they have the same color pattern. Furthermore, the addition tables<br>"
   ]
  },
  {
   "cell_type": "code",
   "execution_count": 0,
   "id": "7af8c8",
   "metadata": {
    "collapsed": false
   },
   "outputs": [
   ],
   "source": [
    "AddTable(A)\n",
    "AddTable(R)"
   ]
  },
  {
   "cell_type": "markdown",
   "id": "25678e",
   "metadata": {
    "collapsed": false
   },
   "source": [
    "<br>\n",
    "are the same, showing that \n",
    "<p style='text-align: center;'><em>A</em> &asymp; 2 <em>Z</em><sub>20</sub>.</p>\n",
    "\n",
    "EXPERIMENT:<br>\n",
    "Using the same technique as 2 <em>Z</em><sub>20</sub>, define <em>Z</em><sub>60</sub>, and form the subring 6 <em>Z</em><sub>60</sub>.  Does this have the same color \n",
    "pattern in the multiplication table as the ring <em>B</em>?<br>"
   ]
  },
  {
   "cell_type": "markdown",
   "id": "fb8fdf",
   "metadata": {
    "collapsed": false
   },
   "source": [
    "<br>\n",
    "These last two isomorphisms suggest a pattern that can be extended to many finite rings."
   ]
  },
  {
   "cell_type": "markdown",
   "id": "cd52a4",
   "metadata": {
    "collapsed": false
   },
   "source": [
    "<a name=\"prop107ret\" id=\"prop107ret\"></a>\n",
    "PROPOSITION 10.7<br>\n",
    "\n",
    "Let <em>R</em> be a finite ring whose additive structure is a cyclic group of order <em>n</em>. Let <em>x</em> be a generator of the additive group. Then \n",
    "<em>x</em><sup>2</sup> = <em>k x</em> for some positive integer <em>k</em> &le; <em>n</em>, and \n",
    "<p style='text-align: center;'><em>A</em> &asymp; <em>k</em> <em>Z<sub>k n</sub></em>.</p>\n",
    "\n",
    "<a href=\"#prop107\">Click here for the proof.</a>\n",
    "\n",
    "<p />\n",
    "This proposition suggests that rings of the form <em>k</em> <em>Z<sub>k n</sub></em> are important.  Hence, we will refer to such rings by the following \n",
    "terminology.<br><br>\n",
    "\n",
    "DEFINITION 10.6<br>\n",
    "A <em>cyclic ring</em> is a ring whose additive group is cyclic.<br><br>\n",
    "\n",
    "Note that this definition of cyclic rings also includes the infinite rings &#8484; and its subrings <em>n</em> &#8484;.<br><br>\n",
    "\n",
    "Proposition 10.7 shows that for the two cyclic rings <em>A</em> and <em>B</em> that we worked with in the beginning of this section, \n",
    "<p style='text-align: center;'><em>A</em> &asymp; 2 <em>Z</em><sub>20</sub>&emsp;and&emsp;<em>B</em> &asymp; 6 <em>Z</em><sub>60</sub>.</p>\n",
    "\n",
    "Our experiment showed that in fact 2 <em>Z</em><sub>20</sub> must be isomorphic to 6 <em>Z</em><sub>60</sub>. But this isomorphism was not nearly as obvious. How would \n",
    "anyone guess that <em>&fnof;</em>(<em>a</em>) had to be  7 <em>b</em>?<br><br>\n",
    "\n",
    "In order to prove that such isomorphisms exist in general, we will need a few lemmas about number theory. Once these are proven, we will be able to \n",
    "determine <em>all</em> non-isomorphic rings of order 10."
   ]
  },
  {
   "cell_type": "markdown",
   "id": "c9eb28",
   "metadata": {
    "collapsed": false
   },
   "source": [
    "<a name=\"lem101ret\" id=\"lem101ret\"></a>\n",
    "LEMMA 10.1<br>\n",
    "\n",
    "Let <em>d</em> be a positive divisor of <em>n</em>, and let <em>f</em> be the largest divisor of <em>d</em> that is coprime \n",
    "to (<em><sup>n</sup></em>&frasl;<em><sub>d</sub></em>).  Then if <em>q</em> is coprime to both <em>f</em> and (<em><sup>n</sup></em>&frasl;<em><sub>d</sub></em>) , then \n",
    "<em>q</em> is coprime to <em>n</em>.<br><br>\n",
    "\n",
    "<a href=\"#lem101\">Click here for the proof.</a>\n",
    "\n",
    "<p />\n",
    "With this lemma, we can strengthen the B&eacute;zout's lemma (1.3)."
   ]
  },
  {
   "cell_type": "markdown",
   "id": "2d011b",
   "metadata": {
    "collapsed": false
   },
   "source": [
    "<a name=\"lem102ret\" id=\"lem102ret\"></a>\n",
    "LEMMA 10.2<br>\n",
    "\n",
    "Given two positive numbers <em>x</em> and <em>y</em>, there exist <em>u</em> and <em>v</em> in &#8484; such that\n",
    "<p style='text-align: center;'><em>u x</em> + <em>v y</em> = gcd(<em>x</em>, <em>y</em>),</p>\n",
    "where <em>u</em> is coprime to <em>y</em>.<br><br>\n",
    "\n",
    "<a href=\"#lem102\">Click here for the proof.</a>\n",
    "\n",
    "<p />\n",
    "With Lemma 10.2, we can now prove determine which cyclic rings of the form <em>x Z<sub>x n</sub></em> are isomorphic."
   ]
  },
  {
   "cell_type": "markdown",
   "id": "6342b9",
   "metadata": {
    "collapsed": false
   },
   "source": [
    "<a name=\"theor101ret\" id=\"theor101ret\"></a>\n",
    "THEOREM 10.1: The Cyclic Ring Theorem<br>\n",
    "\n",
    "If <em>x</em> and <em>n</em> are positive integers, then\n",
    "<p style='text-align: center;'><em>x Z<sub>x n</sub></em> &asymp; <em>k Z<sub>k n</sub></em></p>\n",
    "where <em>k</em> = gcd(<em>x</em>, <em>n</em>).<br><br>\n",
    "\n",
    "<a href=\"#theor101\">Click here for the proof.</a>\n",
    "\n",
    "<p />\n",
    "We can now understand why 2 <em>Z</em><sub>20</sub> was isomorphic to 6 <em>Z</em><sub>60</sub>. We merely have to notice that 2 = gcd(10, 6).  Since the only rings of \n",
    "order 10 are cyclic rings, there are in fact four possibilities for a ring of order 10:\n",
    "<p style='text-align: center;'><em>Z</em><sub>10</sub>,&emsp;2 <em>Z</em><sub>20</sub>,&emsp;5 <em>Z</em><sub>50</sub>,&emsp;10 <em>Z</em><sub>100</sub>.</p>\n",
    "To see if these four rings are distinct, we can look at the multiplication tables.<br>"
   ]
  },
  {
   "cell_type": "code",
   "execution_count": 0,
   "id": "b7c297",
   "metadata": {
    "collapsed": false
   },
   "outputs": [
   ],
   "source": [
    "Z10 = ZRing(10);\n",
    "MultTable(Z10)"
   ]
  },
  {
   "cell_type": "code",
   "execution_count": 0,
   "id": "68f147",
   "metadata": {
    "collapsed": false
   },
   "outputs": [
   ],
   "source": [
    "Z20 = ZRing(20);\n",
    "R = Ring(Z20[2])\n",
    "MultTable(R)"
   ]
  },
  {
   "cell_type": "code",
   "execution_count": 0,
   "id": "2e6dad",
   "metadata": {
    "collapsed": false
   },
   "outputs": [
   ],
   "source": [
    "Z50 = ZRing(50);\n",
    "R = Ring(Z50[5])\n",
    "MultTable(R)"
   ]
  },
  {
   "cell_type": "code",
   "execution_count": 0,
   "id": "877171",
   "metadata": {
    "collapsed": false
   },
   "outputs": [
   ],
   "source": [
    "Z100 = ZRing(100);\n",
    "R = Ring(Z100[10])\n",
    "MultTable(R)"
   ]
  },
  {
   "cell_type": "markdown",
   "id": "59a785",
   "metadata": {
    "collapsed": false
   },
   "source": [
    "<br>\n",
    "The last ring has the property that any product of elements gives 0. Notice that there are exactly as many rings of order 10 as there are divisors of 10. We can \n",
    "generalize this result to give the following corollary."
   ]
  },
  {
   "cell_type": "markdown",
   "id": "146c81",
   "metadata": {
    "collapsed": false
   },
   "source": [
    "<a name=\"cor101ret\" id=\"cor101ret\"></a>\n",
    "COROLLARY 10.1<br>\n",
    "\n",
    "The number of non-isomorphic cyclic rings of order <em>n</em> is precisely the number of divisors of <em>n</em> (including 1 and <em>n</em>).<br><br>\n",
    "\n",
    "<a href=\"#cor101\">Click here for the proof.</a>\n",
    "\n",
    "<p />\n",
    "Although this corollary seems to be a big help in finding <em>all</em> finite rings, there are, in fact, many non-cyclic rings. For example, there are 8 non-cyclic rings \n",
    "of order 4, which when combined with the 3 cyclic rings from Corollary 10.1 gives a total of 11 rings of order 4. There are 52 rings of order 8 (4 cyclic, 20 with \n",
    "additive group <em>Z</em><sub>15</sub><sup>&ast;</sup>, and 28 with an additive group <em>Z</em><sub>24</sub><sup>&ast;</sup>).<br><br>\n",
    "\n",
    "As one can see, finding all rings of a given order is a much more difficult task than finding all the groups of the same order.  Here is a table of the number of rings of a given order:\n",
    "<table align = \"center\" width=\"300\" border=\"1\">\n",
    "  <caption>\n",
    "    Rings of order <em>n</em>\n",
    "  </caption>\n",
    "  <tr>\n",
    "    <th width=\"50\" scope=\"col\"><em>n</em></th>\n",
    "    <th width=\"100\" scope=\"col\">rings</th>\n",
    "    <th width=\"50\" scope=\"col\"><em>n</em></th>\n",
    "    <th width=\"100\" scope=\"col\">rings</th>\n",
    "  </tr>\n",
    "  <tr>\n",
    "    <td>1</td>\n",
    "    <td>1</td>\n",
    "    <td>17</td>\n",
    "    <td>2</td>\n",
    "  </tr>\n",
    "  <tr>\n",
    "    <td>2</td>\n",
    "    <td>2</td>\n",
    "    <td>18</td>\n",
    "    <td>22</td>\n",
    "  </tr>\n",
    "  <tr>\n",
    "    <td>3</td>\n",
    "    <td>2</td>\n",
    "    <td>19</td>\n",
    "    <td>2</td>\n",
    "  </tr>\n",
    "  <tr>\n",
    "    <td>4</td>\n",
    "    <td>11</td>\n",
    "    <td>20</td>\n",
    "    <td>22</td>\n",
    "  </tr>\n",
    "  <tr>\n",
    "    <td>5</td>\n",
    "    <td>2</td>\n",
    "    <td>21</td>\n",
    "    <td>4</td>\n",
    "  </tr>\n",
    "  <tr>\n",
    "    <td>6</td>\n",
    "    <td>4</td>\n",
    "    <td>22</td>\n",
    "    <td>4</td>\n",
    "  </tr>\n",
    "  <tr>\n",
    "    <td>7</td>\n",
    "    <td>2</td>\n",
    "    <td>23</td>\n",
    "    <td>2</td>\n",
    "  </tr>\n",
    "  <tr>\n",
    "    <td>8</td>\n",
    "    <td>52</td>\n",
    "    <td>24</td>\n",
    "    <td>104</td>\n",
    "  </tr>\n",
    "  <tr>\n",
    "    <td>9</td>\n",
    "    <td>11</td>\n",
    "    <td>25</td>\n",
    "    <td>11</td>\n",
    "  </tr>\n",
    "  <tr>\n",
    "    <td>10</td>\n",
    "    <td>4</td>\n",
    "    <td>26</td>\n",
    "    <td>4</td>\n",
    "  </tr>\n",
    "  <tr>\n",
    "    <td>11</td>\n",
    "    <td>2</td>\n",
    "    <td>27</td>\n",
    "    <td>59</td>\n",
    "  </tr>\n",
    "  <tr>\n",
    "    <td>12</td>\n",
    "    <td>22</td>\n",
    "    <td>28</td>\n",
    "    <td>22</td>\n",
    "  </tr>\n",
    "  <tr>\n",
    "    <td>13</td>\n",
    "    <td>2</td>\n",
    "    <td>29</td>\n",
    "    <td>2</td>\n",
    "  </tr>\n",
    "  <tr>\n",
    "    <td>14</td>\n",
    "    <td>4</td>\n",
    "    <td>30</td>\n",
    "    <td>8</td>\n",
    "  </tr>\n",
    "  <tr>\n",
    "    <td>15</td>\n",
    "    <td>4</td>\n",
    "    <td>31</td>\n",
    "    <td>2</td>\n",
    "  </tr>\n",
    "  <tr>\n",
    "    <td>16</td>\n",
    "    <td>390</td>\n",
    "    <td>32</td>\n",
    "    <td>???</td>\n",
    "  </tr>\n",
    "</table>\n",
    "\n",
    "<br>\n",
    "There are at least 18590 known rings of order 32, but it has not been proven these are all of them.  There are some patterns in this table. Can you find any?<br><br>\n",
    "\n",
    "In <em>SageMath</em>, we can load any of the rings of order 15 or less.  The command <strong>NumberSmallRings</strong> will produce the number of rings of a given order, \n",
    "up to order 15.<br>"
   ]
  },
  {
   "cell_type": "code",
   "execution_count": 0,
   "id": "60b025",
   "metadata": {
    "collapsed": false
   },
   "outputs": [
   ],
   "source": [
    "NumberSmallRings(8)"
   ]
  },
  {
   "cell_type": "markdown",
   "id": "ae6285",
   "metadata": {
    "collapsed": false
   },
   "source": [
    "<br>\n",
    "Now we can load any of these 52 rings.<br>"
   ]
  },
  {
   "cell_type": "code",
   "execution_count": 0,
   "id": "581669",
   "metadata": {
    "collapsed": false
   },
   "outputs": [
   ],
   "source": [
    "R = SmallRing(8, 51); R"
   ]
  },
  {
   "cell_type": "code",
   "execution_count": 0,
   "id": "6c8e9a",
   "metadata": {
    "collapsed": false
   },
   "outputs": [
   ],
   "source": [
    "MultTable(R)"
   ]
  },
  {
   "cell_type": "markdown",
   "id": "605d46",
   "metadata": {
    "collapsed": false
   },
   "source": [
    "<br>\n",
    "In this way, we can explore a multitude of different rings."
   ]
  },
  {
   "cell_type": "markdown",
   "id": "4cb001",
   "metadata": {
    "collapsed": false
   },
   "source": [
    "<a name=\"sec104\" id=\"sec104\"></a>\n",
    "<h1>Homomorphisms and Kernels</h1>\n",
    "\n",
    "<br>\n",
    "In the last section we determined two rings were isomorphic by finding a one-to-one and onto function mapping one ring to the other.  If we considered a similar \n",
    "function which was not necessarily one-to-one or onto, we would have a <em>ring homomorphism</em>.<br><br>\n",
    "\n",
    "DEFINITION 10.7<br>\n",
    "If <em>A</em> and <em>B</em> are two rings, then a mapping <em>&fnof;</em> : <em>A</em> &rarr; <em>B</em> such that \n",
    "<p style='text-align: center;'><em>&fnof;</em>(<em>x</em> + <em>y</em>) = <em>&fnof;</em>(<em>x</em>) + \n",
    "<em>&fnof;</em>(<em>y</em>),&emsp;and&emsp;<em>&fnof;</em>(<em>x</em>&middot;<em>y</em>) = <em>&fnof;</em>(<em>x</em>)&middot;<em>&fnof;</em>(<em>y</em>)&emsp;for \n",
    "all <em>x</em> and <em>y</em> in <em>A</em></p>\n",
    "is called a <em>ring homomorphism</em>. <br><br>\n",
    "\n",
    "Notice that a ring homomorphism preserves both of the ring operations. In particular, a ring homomorphism will also be a group homomorphism from the additive group \n",
    "of <em>A</em> to the additive group of <em>B</em>. Thus, we can immediately apply the results of group homomorphisms to see two properties of ring homomorphisms:<br><br>\n",
    "If <em>&fnof;</em> is a homomorphism from <em>A</em> to <em>B</em>, then \n",
    "<p style='text-align: center;'><em>&fnof;</em>(0) = 0&emsp;and&emsp;<em>&fnof;</em>(&minus;<em>x</em>) = &minus;<em>&fnof;</em>(<em>x</em>)&ensp;for \n",
    "all <em>x</em> &isin; <em>A</em>.</p>\n",
    "We have seen some examples of ring homomorphisms in the last section, since any isomorphism is certainly a homomorphism. But let us see if we can define a \n",
    "homomorphism between two non-isomorphic rings.<br>\n",
    "\n",
    "EXAMPLE:<br>\n",
    "Let <em>n</em> be a positive integer.  Find a homomorphism between &#8484; and <em>Z<sub>n</sub></em>.<br>\n",
    "\n",
    "The natural mapping is <em>f</em>(<em>x</em>) = <em>x</em> <strong>mod</strong> <em>n</em>.  Proposition 1.2 can be restated as\n",
    "<p style='text-align: center;'><em>f</em>(<em>x</em> + <em>y</em>) = <em>f</em>(<em>x</em>) + <em>f</em>(<em>y</em>), \n",
    "&emsp;&emsp; and &emsp;&emsp;<em>f</em>(<em>x</em>&middot;<em>y</em>) = <em>f</em>(<em>x</em>)&middot;<em>f</em>(<em>y</em>).</p>\n",
    "Thus, this is a homomorphism.<br>\n",
    "\n",
    "EXAMPLE:<br>\n",
    "Use <em>SageMath</em> to find a homomorphism between <em>Z</em><sub>3</sub> and <em>Z</em><sub>6</sub>.<br><br>\n",
    "\n",
    "First we must define <em>Z</em><sub>3</sub> and <em>Z</em><sub>6</sub> simultaneously.<br>"
   ]
  },
  {
   "cell_type": "code",
   "execution_count": 0,
   "id": "a31fea",
   "metadata": {
    "collapsed": false
   },
   "outputs": [
   ],
   "source": [
    "Z3 = ZRing(3); Z3"
   ]
  },
  {
   "cell_type": "code",
   "execution_count": 0,
   "id": "9e73eb",
   "metadata": {
    "collapsed": false
   },
   "outputs": [
   ],
   "source": [
    "Z6 = ZRing(6); Z6"
   ]
  },
  {
   "cell_type": "markdown",
   "id": "3aff0c",
   "metadata": {
    "collapsed": false
   },
   "source": [
    "<br>\n",
    "Now suppose we wish to define a \n",
    "homomorphism <em>&fnof;</em> from <em>Z</em><sub>3</sub> to <em>Z</em><sub>6</sub>.  We already see that <em>&fnof;</em>(0) must be 0, \n",
    "and <em>&fnof;</em>(2) = <em>&fnof;</em>(&minus;1) = &minus;<em>&fnof;</em>(1).  Thus, the homomorphism is determined completely by the \n",
    "value of <em>&fnof;</em>(1).  A natural choice would be to let <em>&fnof;</em>(1) = 2 <strong>mod</strong> 6.  We can define a ring homomorphism the same way as we \n",
    "did for group homomorphisms, except we use the command <strong>RingHomo</strong> instead of <strong>Homomorph</strong> to let <em>SageMath</em> know that <em>F</em> is a \n",
    "ring homomorphism.  We can try to define a homomorphism \n",
    "from <em>Z</em><sub>3</sub> to <em>Z</em><sub>6</sub> with the commands:<br>"
   ]
  },
  {
   "cell_type": "code",
   "execution_count": 0,
   "id": "10177a",
   "metadata": {
    "collapsed": false
   },
   "outputs": [
   ],
   "source": [
    "F = RingHomo(Z3, Z6)\n",
    "HomoDef(F, 1, 2)"
   ]
  },
  {
   "cell_type": "markdown",
   "id": "425107",
   "metadata": {
    "collapsed": false
   },
   "source": [
    "<br>\n",
    "Even though 1 and 2 are technically elements of &#8484;, not <em>Z</em><sub>3</sub> or <em>Z</em><sub>6</sub>, <em>SageMath</em>\n",
    "makes the natural translations, knowing the arguments are expected to be in the rings \n",
    "<em>Z</em><sub>3</sub> and <em>Z</em><sub>6</sub>.\n",
    "We can now use the command <strong>FinishHomo(F)</strong> to check to see if the function <strong>F</strong> can be completed to form a homomorphism.  If we check \n",
    "the function we just defined,<br>"
   ]
  },
  {
   "cell_type": "code",
   "execution_count": 0,
   "id": "670e3f",
   "metadata": {
    "collapsed": false
   },
   "outputs": [
   ],
   "source": [
    "FinishHomo(F)"
   ]
  },
  {
   "cell_type": "markdown",
   "id": "e26dd3",
   "metadata": {
    "collapsed": false
   },
   "source": [
    "<br>\n",
    "we see that this is not a homomorphism!<br><br>\n",
    "\n",
    "EXPERIMENT:<br>\n",
    "Replace the 2 in the command defining <em>F</em> with other elements of <em>Z</em><sub>6</sub>, and check to see which are homomorphisms.  How many \n",
    "possible homomorphisms are there from <em>Z</em><sub>3</sub> to <em>Z</em><sub>6</sub>?<br>"
   ]
  },
  {
   "cell_type": "markdown",
   "id": "0ab7cc",
   "metadata": {
    "collapsed": false
   },
   "source": [
    "<br>\n",
    "EXPERIMENT: <br>\n",
    "Design another homomorphism <em>G</em> which maps elements from <em>Z</em><sub>6</sub> to <em>Z</em><sub>3</sub>.  Notice that all that must be defined in <em>SageMath</em> \n",
    "is the element <strong>G(1)</strong>. Then use <em>SageMath</em> to check if this can be completed for form a homomorphism.<br>"
   ]
  },
  {
   "cell_type": "markdown",
   "id": "fc0a87",
   "metadata": {
    "collapsed": false
   },
   "source": [
    "<br>\n",
    "In both of these experiments one may have noticed that one possible mapping would be to send all elements to 0. This in fact will always yield a homomorphism, and we \n",
    "will give this a special name.<br><br>\n",
    "\n",
    "DEFINITION 10.8<br>\n",
    "If <em>A</em> and <em>B</em> are any two rings, then the mapping \n",
    "<p style='text-align: center;'><em>&fnof;</em> : <em>A</em> &rarr; <em>B</em>,&emsp;<em>&fnof;</em>(<em>x</em>) = 0&ensp;for all <em>x</em> &isin; <em>A</em></p> \n",
    "is called the <em>zero homomorphism</em> from <em>A</em> to <em>B</em>.<br><br>\n",
    "\n",
    "Although the zero homomorphism works for both of the above experiments, there are also nonzero homomorphisms which map from <em>Z</em><sub>3</sub> to \n",
    "<em>Z</em><sub>6</sub> and <em>Z</em><sub>6</sub> to <em>Z</em><sub>3</sub>.  If you haven't found these already, go back and try to find them. <br><br>\n",
    "\n",
    "Once we have the homomorphism <em>&fnof;</em> defined, we can define <em>&fnof;</em>(<em>S</em>), where <em>S</em> is a <em>set</em> of elements in the domain \n",
    "of <em>&fnof;</em>, to be the set of all values <em>&fnof;</em>(<em>x</em>), where <em>x</em> is in <em>S</em>.  We can also define the inverse image of an \n",
    "element <em>y</em> to be <em>&fnof;</em><sup>&minus;1</sup>(<em>y</em>), the set of elements <em>x</em> such that <em>&fnof;</em>(<em>x</em>) = <em>y</em>.  In fact, we can \n",
    "define the inverse image of a set of elements in the same way: <em>&fnof;</em><sup>&minus;1</sup>(<em>T</em>) is the set of elements <em>x</em> such \n",
    "that <em>&fnof;</em>(<em>x</em>) is in <em>T</em>.  We can use <em>SageMath</em> to find the image of a set by merely entering <strong>Image(F,S)</strong>.  We can find the inverse image of an element or a set <em>S</em> with \n",
    "the <em>SageMath</em> command <strong>HomoInv(F, S)</strong>.<br><br>\n",
    "\n",
    "For example, here are the nonzero homomorphisms from the previous two experiments.<br>"
   ]
  },
  {
   "cell_type": "code",
   "execution_count": 0,
   "id": "ad6fd8",
   "metadata": {
    "collapsed": false
   },
   "outputs": [
   ],
   "source": [
    "F = RingHomo(Z3, Z6)\n",
    "HomoDef(F, 1, 4)\n",
    "FinishHomo(F)"
   ]
  },
  {
   "cell_type": "code",
   "execution_count": 0,
   "id": "0a1f5b",
   "metadata": {
    "collapsed": false
   },
   "outputs": [
   ],
   "source": [
    "G = RingHomo(Z6, Z3)\n",
    "HomoDef(G, 1, 1)\n",
    "FinishHomo(G)"
   ]
  },
  {
   "cell_type": "markdown",
   "id": "78e44b",
   "metadata": {
    "collapsed": false
   },
   "source": [
    "<br>\n",
    "We can evaluate the homomorphism in the standard way:<br>"
   ]
  },
  {
   "cell_type": "code",
   "execution_count": 0,
   "id": "179157",
   "metadata": {
    "collapsed": false
   },
   "outputs": [
   ],
   "source": [
    "F(2)"
   ]
  },
  {
   "cell_type": "code",
   "execution_count": 0,
   "id": "adb66c",
   "metadata": {
    "collapsed": false
   },
   "outputs": [
   ],
   "source": [
    "G(4)"
   ]
  },
  {
   "cell_type": "markdown",
   "id": "2b6c77",
   "metadata": {
    "collapsed": false
   },
   "source": [
    "<br>\n",
    "To compute <em>&fnof;</em>({0,1}), we enter the <em>SageMath</em> command<br>"
   ]
  },
  {
   "cell_type": "code",
   "execution_count": 0,
   "id": "c15dce",
   "metadata": {
    "collapsed": false
   },
   "outputs": [
   ],
   "source": [
    "Image(F,[0, 1])"
   ]
  },
  {
   "cell_type": "markdown",
   "id": "2df5ab",
   "metadata": {
    "collapsed": false
   },
   "source": [
    "<br>\n",
    "We can also find the inverse image of the element a under <em>G</em> by the command<br>"
   ]
  },
  {
   "cell_type": "code",
   "execution_count": 0,
   "id": "12e2d6",
   "metadata": {
    "collapsed": false
   },
   "outputs": [
   ],
   "source": [
    "HomoInv(G, 1)"
   ]
  },
  {
   "cell_type": "markdown",
   "id": "6bbd98",
   "metadata": {
    "collapsed": false
   },
   "source": [
    "<br>\n",
    "Likewise, we can take the inverse image of the set {0,1} with the command<br>"
   ]
  },
  {
   "cell_type": "code",
   "execution_count": 0,
   "id": "246b4e",
   "metadata": {
    "collapsed": false
   },
   "outputs": [
   ],
   "source": [
    "HomoInv(G, [0, 1])"
   ]
  },
  {
   "cell_type": "markdown",
   "id": "0a8df1",
   "metadata": {
    "collapsed": false
   },
   "source": [
    "<br>\n",
    "EXPERIMENT:<br>\n",
    "What is the difference between <em>F</em>(<em>x</em>), and <em>G</em><sup>-1</sup>(<em>x</em>)? Does <em>F</em>(<em>G</em>(<em>x</em>)) always produce <em>x</em>? What \n",
    "about <em>G</em>(<em>F</em>(<em>x</em>))?<br>"
   ]
  },
  {
   "cell_type": "markdown",
   "id": "e77ab8",
   "metadata": {
    "collapsed": false
   },
   "source": [
    "<br>\n",
    "We can ask whether the image or inverse image of a subring will again be a subring. This is actually very easy to prove, as seen in the next proposition."
   ]
  },
  {
   "cell_type": "markdown",
   "id": "419445",
   "metadata": {
    "collapsed": false
   },
   "source": [
    "<a name=\"prop108ret\" id=\"prop108ret\"></a>\n",
    "PROPOSITION 10.8<br>\n",
    "\n",
    "Suppose <em>&fnof;</em> is a homomorphism from the ring <em>A</em> to the ring <em>B</em>.  Then if <em>S</em> is a subring of <em>A</em>, then <em>&fnof;</em>(<em>S</em>) \n",
    "is a subring of <em>B</em>.  Likewise, if <em>T</em> is a subring of <em>B</em>, then <em>&fnof;</em><sup>&minus;1</sup>(<em>T</em>) will be a subring of <em>A</em>.<br><br>\n",
    "\n",
    "<a href=\"#prop108\">Click here for the proof.</a>\n",
    "\n",
    "<p />\n",
    "We can define the kernel and the image of a homomorphism in the same way that we did for group homomorphisms.<br><br>\n",
    "\n",
    "DEFINITION 10.9:<br>\n",
    "Given a homomorphism <em>&fnof;</em> from the ring <em>A</em> to the ring <em>B</em>, the <em>kernel</em> of <em>&fnof;</em> is <em>&fnof;</em><sup>&minus;1</sup>(0), \n",
    "denoted Ker(<em>&fnof;</em>).  The <em>image</em> of <em>&fnof;</em> is <em>&fnof;</em>(<em>A</em>), denoted Im(<em>&fnof;</em>).<br><br>\n",
    "\n",
    "We can use the <strong>HomoInv</strong> command to find the kernel of a homomorphism, or we can simply use the command <strong>Kernel(<em>&fnof;</em>)</strong> to find the kernel of \n",
    "the homomorphism.  For example, the kernels of the homomorphisms <strong>F</strong> and <strong>G</strong> that we have defined are<br>"
   ]
  },
  {
   "cell_type": "code",
   "execution_count": 0,
   "id": "e4d7e3",
   "metadata": {
    "collapsed": false
   },
   "outputs": [
   ],
   "source": [
    "Kernel(F)"
   ]
  },
  {
   "cell_type": "markdown",
   "id": "7d5582",
   "metadata": {
    "collapsed": false
   },
   "source": [
    "<br>\n",
    "and<br>"
   ]
  },
  {
   "cell_type": "code",
   "execution_count": 0,
   "id": "609da3",
   "metadata": {
    "collapsed": false
   },
   "outputs": [
   ],
   "source": [
    "Kernel(G)"
   ]
  },
  {
   "cell_type": "markdown",
   "id": "462bdf",
   "metadata": {
    "collapsed": false
   },
   "source": [
    "<br>\n",
    "The images found using the <strong>Image</strong> command:<br>"
   ]
  },
  {
   "cell_type": "code",
   "execution_count": 0,
   "id": "a3e3dc",
   "metadata": {
    "collapsed": false
   },
   "outputs": [
   ],
   "source": [
    "Image(F, Z3)"
   ]
  },
  {
   "cell_type": "code",
   "execution_count": 0,
   "id": "b7867e",
   "metadata": {
    "collapsed": false
   },
   "outputs": [
   ],
   "source": [
    "Image(G, Z6)"
   ]
  },
  {
   "cell_type": "markdown",
   "id": "87bc83",
   "metadata": {
    "collapsed": false
   },
   "source": [
    "<br>\n",
    "When we have a homomorphism from <em>A</em> to <em>B</em>,  since <em>A</em> is a trivial subring of <em>A</em>, we have by Proposition 10.8 that the image will be a \n",
    "subring of <em>B</em>.  Likewise, the kernel of a homomorphism will be a subring of <em>A</em>, since {0} is a subring of <em>B</em>.  However, we can say even more about \n",
    "the kernel."
   ]
  },
  {
   "cell_type": "markdown",
   "id": "ebbdde",
   "metadata": {
    "collapsed": false
   },
   "source": [
    "<a name=\"prop109ret\" id=\"prop109ret\"></a>\n",
    "PROPOSITION 10.9<br>\n",
    "\n",
    "If <em>&fnof;</em> is a homomorphism from the ring <em>A</em> to the ring <em>B</em>, then the kernel of <em>&fnof;</em> is an ideal of <em>A</em>. Furthermore, \n",
    "<em>&fnof;</em> is injective if, and only if, Ker(<em>&fnof;</em>) = {0}.<br><br>\n",
    "\n",
    "<a href=\"#prop109\">Click here for the proof.</a>\n",
    "\n",
    "<p />\n",
    "\n",
    "EXAMPLE:<br>\n",
    "Consider the non-commutative ring of order 8 that we looked at earlier in this chapter.<br>"
   ]
  },
  {
   "cell_type": "code",
   "execution_count": 0,
   "id": "466fbc",
   "metadata": {
    "collapsed": false
   },
   "outputs": [
   ],
   "source": [
    "InitRing()\n",
    "AddRingVar(\"a\",\"b\")\n",
    "Define(4*a, 0); Define(2*b, 0)\n",
    "Define(a^2, a); Define(b^2, 0)\n",
    "Define(a*b, b); Define(b*a, 2*a)\n",
    "R = Ring(); R"
   ]
  },
  {
   "cell_type": "markdown",
   "id": "516c02",
   "metadata": {
    "collapsed": false
   },
   "source": [
    "<br>\n",
    "Find a non-zero homomorphism from this ring to some other ring.<br><br>\n",
    "\n",
    "The kernel would have to be an ideal of <em>R</em>. But we have already found that \n",
    "<em>R</em> has only three nontrivial ideals:<br>"
   ]
  },
  {
   "cell_type": "code",
   "execution_count": 0,
   "id": "00428a",
   "metadata": {
    "collapsed": false
   },
   "outputs": [
   ],
   "source": [
    "I1 = Ideal(R, 2*a); I1"
   ]
  },
  {
   "cell_type": "code",
   "execution_count": 0,
   "id": "aa009a",
   "metadata": {
    "collapsed": false
   },
   "outputs": [
   ],
   "source": [
    "I2 = Ideal(R, 2*a + b); I2"
   ]
  },
  {
   "cell_type": "code",
   "execution_count": 0,
   "id": "7d7c51",
   "metadata": {
    "collapsed": false
   },
   "outputs": [
   ],
   "source": [
    "I3 = Ideal(R, b); I3"
   ]
  },
  {
   "cell_type": "markdown",
   "id": "25e53d",
   "metadata": {
    "collapsed": false
   },
   "source": [
    "<br>\n",
    "Thus, the kernel would have to be <em>R</em>, {0}, or one of these three ideals. If the kernel is all of <em>R</em>, then the homomorphism is the zero homomorphism.  \n",
    "On the other extreme, if the kernel is {0}, then the homomorphism is injective by Proposition 10.9.  To produce a more interesting homomorphism, we would have to use \n",
    "one of the three above ideals. The question is, to which ring should we map <em>R</em>? <br><br>\n",
    "\n",
    "It seems that a natural answer would be a quotient ring! Since there is a natural <em>group</em> homomorphism from <em>R</em> to <em>R</em>/<em>I</em>, we can ask \n",
    "whether this group homomorphism extends to become a ring homomorphism.<br><br>\n",
    "\n",
    "Let us try this out with the ideal <em>I</em><sub>1</sub>. The quotient ring is given by:<br>"
   ]
  },
  {
   "cell_type": "code",
   "execution_count": 0,
   "id": "25db28",
   "metadata": {
    "collapsed": false
   },
   "outputs": [
   ],
   "source": [
    "Q = Coset(R, I1); Q"
   ]
  },
  {
   "cell_type": "markdown",
   "id": "312efe",
   "metadata": {
    "collapsed": false
   },
   "source": [
    "<br>\n",
    "We wish to define a homomorphism <em>i</em>(<em>x</em>) which maps an element in <em>R</em> to the coset of <em>Q</em> containing that element.  We only need to define \n",
    "<em>i</em>(<em>a</em>) and <em>i</em>(<em>b</em>) to complete the definition.<br>"
   ]
  },
  {
   "cell_type": "code",
   "execution_count": 0,
   "id": "730d01",
   "metadata": {
    "collapsed": false
   },
   "outputs": [
   ],
   "source": [
    "i = RingHomo(R, Q)"
   ]
  },
  {
   "cell_type": "code",
   "execution_count": 0,
   "id": "4e4a77",
   "metadata": {
    "collapsed": false
   },
   "outputs": [
   ],
   "source": [
    "HomoDef(i, a, a + I1)\n",
    "HomoDef(i, b, b + I1)"
   ]
  },
  {
   "cell_type": "code",
   "execution_count": 0,
   "id": "30231c",
   "metadata": {
    "collapsed": false
   },
   "outputs": [
   ],
   "source": [
    "FinishHomo(i)"
   ]
  },
  {
   "cell_type": "markdown",
   "id": "ad692e",
   "metadata": {
    "collapsed": false
   },
   "source": [
    "<br>\n",
    "So <em>i</em> defines a homomorphism from <em>R</em> to <em>Q</em>. The kernel of this homomorphism is given by:<br>"
   ]
  },
  {
   "cell_type": "code",
   "execution_count": 0,
   "id": "517bc2",
   "metadata": {
    "collapsed": false
   },
   "outputs": [
   ],
   "source": [
    "Kernel(i)"
   ]
  },
  {
   "cell_type": "markdown",
   "id": "84a6c1",
   "metadata": {
    "collapsed": false
   },
   "source": [
    "<br>\n",
    "EXPERIMENT:<br>\n",
    "Try forming similar homomorphisms using the ideals <em>I</em><sub>2</sub> and <em>I</em><sub>3</sub> instead. Use the <strong>FinishHomo</strong> command to see if they\n",
    "really are homomorphisms.<br>"
   ]
  },
  {
   "cell_type": "markdown",
   "id": "8ab38b",
   "metadata": {
    "collapsed": false
   },
   "source": [
    "<br>\n",
    "In general, we can form a homomorphism from a ring <em>R</em> to a quotient ring <em>R</em>/<em>I</em> using the same technique. We will state this as a lemma:"
   ]
  },
  {
   "cell_type": "markdown",
   "id": "00d845",
   "metadata": {
    "collapsed": false
   },
   "source": [
    "<a name=\"lem103ret\" id=\"lem103ret\"></a>\n",
    "LEMMA 10.3<br>\n",
    "\n",
    "If <em>I</em> is an ideal of the ring <em>R</em>, then the natural mapping\n",
    "<p style='text-align: center;'><em>i</em>: <em>R</em> &rarr; <em>R</em>/<em>I</em></p>\n",
    "defined by\n",
    "<p style='text-align: center;'><em>i</em>(<em>x</em>) = <em>x</em> + <em>I</em></p>\n",
    "is a surjective ring homomorphism from <em>R</em> to <em>R</em>/<em>I</em> with the kernel being <em>I</em>.<br><br>\n",
    "\n",
    "<a href=\"#lem103\">Click here for the proof.</a>\n",
    "\n",
    "<p />\n",
    "In the homomorphisms produced by Lemma 10.3, the image of the homomorphism is isomorphic to <em>R</em>/Ker(<em>&fnof;</em>).  It wouldn't be too surprising if this were \n",
    "true for <em>all</em> ring homomorphisms, since the first isomorphism theorem studied in Chapter 5 shows that the additive group on Im(<em>&fnof;</em>) would be group \n",
    "isomorphic to the additive structure of <nobr><em>R</em>/Ker(<em>&fnof;</em>).</nobr>   It is easy to show that the ring Im(<em>&fnof;</em>) is isomorphic to the \n",
    "ring <em>R</em>/Ker(<em>&fnof;</em>) as well, giving us an isomorphism theorem for rings."
   ]
  },
  {
   "cell_type": "markdown",
   "id": "b1b3ef",
   "metadata": {
    "collapsed": false
   },
   "source": [
    "<a name=\"theor102ret\" id=\"theor102ret\"></a>\n",
    "THEOREM 10.2:The First Ring Isomorphism Theorem<br>\n",
    "\n",
    "Let <em>&fnof;</em> be a ring homomorphism from a ring <em>R</em> to a ring <em>S</em>, whose image is <em>H</em>.  If the kernel of <em>&fnof;</em> is <em>I</em>, then \n",
    "there is a natural surjective isomorphism\n",
    "<p style='text-align: center;'><em>&#981;</em> : <em>R</em>/<em>I</em> &rarr; <em>H</em></p>\n",
    "which causes the following diagram to commute:\n",
    "\n",
    "<table align = \"center\" width=\"140\" border=\"0\">\n",
    "  <tr>\n",
    "    <td width=\"20\">&nbsp;</td>\n",
    "    <td width=\"20\">&nbsp;</td>\n",
    "    <td width=\"40\">&nbsp;</td>\n",
    "    <td width=\"20\">&nbsp;</td>\n",
    "    <td width=\"40\">&nbsp;</td>\n",
    "  </tr>\n",
    "  <tr>\n",
    "    <td><em>R</em></td>\n",
    "    <td COLSPAN = 3>&emsp;&emsp;<em>i</em>&emsp;&emsp;<br>&#8213;&#8213;&#8213;&#9658;</td>\n",
    "    <td><em>R</em>/<em>I</em></td>\n",
    "  </tr>\n",
    "  <tr>\n",
    "    <td><em>&fnof;</em></td>\n",
    "    <td>&#8600;</td>\n",
    "    <td>&nbsp;</td>\n",
    "    <td>&#10530;</td>\n",
    "    <td><em>&#981;</em></td>\n",
    "  </tr>\n",
    "  <tr>\n",
    "    <td>&nbsp;</td>\n",
    "    <td>&nbsp;</td>\n",
    "    <td>&ensp;<em>H</em></td>\n",
    "    <td>&nbsp;</td>\n",
    "    <td>&nbsp;</td>\n",
    "  </tr>\n",
    "</table>\n",
    "<br>\n",
    "(Here, <em>i</em>(<em>x</em>) is the homomorphism defined in Lemma 10.3.) Thus, <em>H</em> &asymp; <em>R</em>/<em>I</em>.<br><br>\n",
    "\n",
    "<a href=\"#theor102\">Click here for the proof.</a>\n",
    "\n",
    "<p />\n",
    "It should be noted that there are second and third ring isomorphism theorems, which correspond to the second and third isomorphism theorems studied in our work with \n",
    "groups. These are covered in Problems 15 and 16. However, we are mainly interested in the first ring isomorphism theorem, because this allows us to guarantee \n",
    "the existence of isomorphisms without having to actually write them down. This becomes particularly important when we start working with infinite rings, since \n",
    "the isomorphisms could become unwieldy.<br><br>"
   ]
  },
  {
   "cell_type": "markdown",
   "id": "eb351b",
   "metadata": {
    "collapsed": false
   },
   "source": [
    "<br><br><br><br><br><br><br><br><br><br><br><br><br><br><br><br><br><br><br><br><br><br><br><br><br><br><br><br><br><br><br><br><br><br><br><br><br><br><br><br><br><br>"
   ]
  },
  {
   "cell_type": "markdown",
   "id": "b27bcf",
   "metadata": {
    "collapsed": false
   },
   "source": [
    "<h1>Proofs:</h1>"
   ]
  },
  {
   "cell_type": "markdown",
   "id": "7e3968",
   "metadata": {
    "collapsed": false
   },
   "source": [
    "<a name=\"prop101\" id=\"prop101\"></a>\n",
    "Proof of Proposition 10.1:<br><br> \n",
    "\n",
    "Certainly if <em>S</em> is a subring, then <em>x</em> &minus; <em>y</em> and <em>x</em>&middot;<em>y</em> would be in <em>S</em> whenever <em>x</em> and <em>y</em> \n",
    "are in <em>S</em>.  So let us suppose that <em>S</em> is non-empty and is closed with respect to subtraction and multiplication.  If <em>x</em> is any element in \n",
    "<em>S</em>, then <em>x</em> &minus; <em>x</em> = 0 is in <em>S</em>, so <em>S</em> contains an additive identity.  Also, 0 &minus; <em>x</em> = &minus;<em>x</em> \n",
    "would also be in <em>S</em>, so <em>S</em> contains additive inverses of all of its elements.  Then whenever <em>x</em> and <em>y</em> are in <em>S</em>, \n",
    "<em>x</em> &minus; (&minus;<em>y</em>) = <em>x</em> + <em>y</em> is in <em>S</em>, so <em>S</em> is closed with respect to addition.  The commutative and \n",
    "associative properties of addition, as well as the associative and two distributive laws for multiplication, come from the original ring <em>R</em>.  Finally, \n",
    "<em>S</em> is closed with respect to multiplication, so <em>S</em> is a subring.<br><br>\n",
    "\n",
    "<a href=\"#prop101ret\">Return to text</a>"
   ]
  },
  {
   "cell_type": "markdown",
   "id": "896c8e",
   "metadata": {
    "collapsed": false
   },
   "source": [
    "<br><br><br><br><br><br><br><br><br><br><br><br><br><br><br><br><br><br><br><br><br><br><br><br><br><br><br><br><br><br><br><br><br><br><br><br><br><br><br><br><br><br>"
   ]
  },
  {
   "cell_type": "markdown",
   "id": "f8e381",
   "metadata": {
    "collapsed": false
   },
   "source": [
    "<a name=\"prop102\" id=\"prop102\"></a>\n",
    "Proof of Proposition 10.2:<br><br> \n",
    "\n",
    "First of all, note that <em>H</em><sup>&ast;</sup> is not the empty set, since 0 is in each <em>H</em> in the collection.  We now can apply Proposition 10.1. \n",
    "Let <em>x</em> and <em>y</em> be two elements in <em>H</em><sup>&ast;</sup>.  Then, for every <em>H</em> &isin; <em>L</em>, we have <em>x</em>, <em>y</em> &isin; <em>H</em>.\n",
    "<br><br>\n",
    "\n",
    "Since each <em>H</em> is a subring of <em>R</em>, we have\n",
    "<p style='text-align: center;'><em>x</em> &minus; <em>y</em> &isin; <em>H</em>&emsp;and&emsp; <em>x</em>&middot;<em>y</em> &isin; <em>H</em></p>\n",
    "for all <em>H</em> &isin; <em>L</em>.  Therefore, <em>x</em> &minus; <em>y</em> and <em>x</em>&middot;<em>y</em> are in <em>H</em><sup>&ast;</sup>, and so \n",
    "<em>H</em><sup>&ast;</sup> is a subring of <em>R</em>.<br><br>\n",
    "\n",
    "<a href=\"#prop102ret\">Return to text</a>"
   ]
  },
  {
   "cell_type": "markdown",
   "id": "86b0f3",
   "metadata": {
    "collapsed": false
   },
   "source": [
    "<br><br><br><br><br><br><br><br><br><br><br><br><br><br><br><br><br><br><br><br><br><br><br><br><br><br><br><br><br><br><br><br><br><br><br><br><br><br><br><br><br><br>"
   ]
  },
  {
   "cell_type": "markdown",
   "id": "76d560",
   "metadata": {
    "collapsed": false
   },
   "source": [
    "<a name=\"prop103\" id=\"prop103\"></a>\n",
    "Proof of Proposition 10.3:<br><br> \n",
    "\n",
    "First of all, the trivial subring {0} can be considered the set of all multiples of 0. Also, the entire ring &#8484; could be considered all of the multiples of 1. \n",
    "Let <em>S</em> be a nontrivial subring, and let <em>x</em> be in <em>S</em>. Then &minus;<em>x</em> is also in <em>S</em>, so <em>S</em> must contain some positive \n",
    "integers. Let <em>n</em> be the smallest positive integer contained in <em>S</em>. Certainly all multiples of <em>n</em> would be in <em>S</em>, but suppose that some \n",
    "element <em>m</em> in <em>S</em> is not a multiple of <em>n</em>. Then by B&eacute;zout's lemma (1.3), there exist two integers <em>u</em> and <em>v</em> \n",
    "such that\n",
    "<p style='text-align: center;'><em>u n</em> + <em>v m</em> = gcd(<em>n</em>, <em>m</em>).</p>\n",
    "Since <em>S</em> is closed under addition, this implies that gcd(<em>n</em>, <em>m</em>) is in <em>S</em>.  But <em>m</em> is not a multiple of <em>n</em>, so \n",
    "gcd(<em>n</em>, <em>m</em>) < <em>n</em>. But this contradicts the fact that <em>n</em> is the <em>smallest</em> positive integer in <em>S</em>. Thus, <em>S</em> \n",
    "consists exactly of all of the multiples of <em>n</em>, and so <em>S</em> = <em>n</em> &#8484;.<br><br>\n",
    "\n",
    "<a href=\"#prop103ret\">Return to text</a>"
   ]
  },
  {
   "cell_type": "markdown",
   "id": "b30b3a",
   "metadata": {
    "collapsed": false
   },
   "source": [
    "<br><br><br><br><br><br><br><br><br><br><br><br><br><br><br><br><br><br><br><br><br><br><br><br><br><br><br><br><br><br><br><br><br><br><br><br><br><br><br><br><br><br>"
   ]
  },
  {
   "cell_type": "markdown",
   "id": "3c1cf0",
   "metadata": {
    "collapsed": false
   },
   "source": [
    "<a name=\"prop104\" id=\"prop104\"></a>\n",
    "Proof of Proposition 10.4:<br><br> \n",
    "\n",
    "The quotient group <em>R</em>/<em>I</em> is an abelian group, so we need only to check that the multiplication is closed, and that the associativity and two distributive \n",
    "laws hold. <br><br>\n",
    "\n",
    "Let <em>X</em> and <em>Y</em> be two cosets of <em>R</em>/<em>I</em>. Let <em>x</em> be an element in <em>X</em>, and <em>y</em> an element in <em>Y</em>. Then the product \n",
    "of the cosets <em>X</em> and <em>Y</em> is\n",
    "<p style='text-align: center;'><em>X</em>&lowast;<em>Y</em> = \n",
    "<em>X</em>&middot;<em>Y</em> + <em>I</em> = (<em>x</em> + <em>I</em>)&middot;(<em>y</em> + <em>I</em>) + <em>I</em> = \n",
    "<em>x</em>&middot;<em>y</em> + <em>I</em>&middot;<em>y</em> + <em>x</em>&middot;<em>I</em> + <em>I</em>&middot;<em>I</em> + <em>I</em>.</p>\n",
    "Because <em>I</em> is an ideal, <em>I</em>&middot;<em>y</em>, <em>x</em>&middot;<em>I</em>, and <em>I</em>&middot;<em>I</em> are all subsets of <em>I</em>. Hence, the \n",
    "sum <em>I</em>&middot;<em>y</em> + <em>x</em>&middot;<em>I</em> + <em>I</em>&middot;<em>I</em> + <em>I</em> will be a subset of <em>I</em>.  But since the last term of \n",
    "this expression is <em>I</em>, <em>I</em>&middot;<em>y</em> + <em>x</em>&middot;<em>I</em> + <em>I</em>&middot;<em>I</em> + <em>I</em> contains the ideal <em>I</em>, so \n",
    "this sum equals <em>I</em>. Thus,\n",
    "<p style='text-align: center;'>(<em>x</em> + <em>I</em>)&middot;(<em>y</em> + <em>I</em>) + <em>I</em> = <em>X</em>&lowast;<em>Y</em> = \n",
    "<em>X</em>&middot;<em>Y</em> + <em>I</em> = <em>x</em>&middot;<em>y</em> + <em>I</em>,</p>\n",
    "which is a coset of <em>R</em>/<em>I</em>.<br><br>\n",
    "\n",
    "Now suppose that <em>X</em>, <em>Y</em>, and <em>Z</em> are three cosets of <em>R</em>/<em>I</em>, with <em>x</em>, <em>y</em>, and <em>z</em> being representative \n",
    "elements, respectively. Then\n",
    "<p style='text-align: center;'>(<em>X</em>&lowast;<em>Y</em>)&lowast;<em>Z</em> = \n",
    "((<em>x</em> + <em>I</em>)&lowast;(<em>y</em> + <em>I</em>))&lowast;(<em>z</em> + <em>I</em>) = \n",
    "(<em>x</em>&middot;<em>y</em> + <em>I</em>)&lowast;(<em>z</em> + <em>I</em>) =((<em>x</em>&middot;<em>y</em>)&middot;<em>z</em> + <em>I</em>) = \n",
    "(<em>x</em>&middot;(<em>y</em>&middot;<em>z</em>) + <em>I</em>) = (<em>x</em> + <em>I</em>)&lowast;(<em>y</em>&middot;<em>z</em> + <em>I</em>) = \n",
    "(<em>x</em> + <em>I</em>)&lowast;((<em>y</em> + <em>I</em>)&lowast;(<em>z</em> + <em>I</em>)) = <em>X</em>&lowast;(<em>Y</em>&lowast;<em>Z</em>).</p>\n",
    "So multiplication is associative. Also,\n",
    "<p style='text-align: center;'><em>X</em>&lowast;(<em>Y</em> + <em>Z</em>) = (<em>x</em> + <em>I</em>)&lowast;(<em>y</em> + <em>z</em> + <em>I</em>) = \n",
    "(<em>x</em>&middot;(<em>y</em> + <em>z</em>) + <em>I</em>) = <em>x</em>&middot;<em>y</em> + <em>x</em>&middot;<em>z</em> + <em>I</em> =\n",
    "(<em>x</em>&middot;<em>y</em> + <em>I</em>) + (<em>x</em>&middot;<em>z</em> + <em>I</em>) = <em>X</em>&lowast;<em>Y</em> + <em>X</em>&lowast;<em>Z</em>,</p>\n",
    "and\n",
    "<p style='text-align: center;'>(<em>X</em> + <em>Y</em>)&lowast;<em>Z</em> = (<em>x</em> + <em>y</em> + <em>I</em>)&lowast;(<em>z</em>+ <em>I</em>) = \n",
    "((<em>x</em> + <em>y</em>)&middot;<em>z</em> + <em>I</em>) = \n",
    "<em>x</em>&middot;<em>z</em> + <em>y</em>&middot;<em>z</em> + <em>I</em> =(<em>x</em>&middot;<em>z</em> + <em>I</em>) + (<em>y</em>&middot;<em>z</em> + <em>I</em>) = \n",
    "<em>X</em>&lowast;<em>Z</em> + <em>Y</em>&lowast;<em>Z</em>.</p>\n",
    "Thus, the two distributive laws hold, so <em>R</em>/<em>I</em> is a ring.<br><br>\n",
    "\n",
    "<a href=\"#prop104ret\">Return to text</a>"
   ]
  },
  {
   "cell_type": "markdown",
   "id": "166b00",
   "metadata": {
    "collapsed": false
   },
   "source": [
    "<br><br><br><br><br><br><br><br><br><br><br><br><br><br><br><br><br><br><br><br><br><br><br><br><br><br><br><br><br><br><br><br><br><br><br><br><br><br><br><br><br><br>"
   ]
  },
  {
   "cell_type": "markdown",
   "id": "1b4048",
   "metadata": {
    "collapsed": false
   },
   "source": [
    "<a name=\"prop105\" id=\"prop105\"></a>\n",
    "Proof of Proposition 10.5:<br><br> \n",
    "\n",
    "Let <em>K</em> be a field or skew field, and suppose that there is a nontrivial ideal <em>I</em> of <em>K</em>.  Then there is a nonzero element <em>x</em> in <em>I</em>, \n",
    "and hence <em>x</em><sup>-1</sup> exists in <em>K</em>. Thus\n",
    "<p style='text-align: center;'><em>e</em> = <em>x</em>&middot;<em>x</em><sup>-1</sup> &isin; <em>I</em>&middot;<em>K</em> &sube; <em>I</em>.</p>\n",
    "So the unity element <em>e</em> is contained in <em>I</em>.  But then,\n",
    "<p style='text-align: center;'><em>K</em> = <em>e</em>&middot;<em>K</em> &sube; <em>I</em>&middot;<em>K</em> &sube; <em>I</em>.</p>\n",
    "Hence, <em>I</em> = <em>K</em>, so the only ideals of <em>K</em> are the trivial ideals.<br><br>\n",
    "\n",
    "<a href=\"#prop105ret\">Return to text</a>"
   ]
  },
  {
   "cell_type": "markdown",
   "id": "9d97cd",
   "metadata": {
    "collapsed": false
   },
   "source": [
    "<br><br><br><br><br><br><br><br><br><br><br><br><br><br><br><br><br><br><br><br><br><br><br><br><br><br><br><br><br><br><br><br><br><br><br><br><br><br><br><br><br><br>"
   ]
  },
  {
   "cell_type": "markdown",
   "id": "77dfe9",
   "metadata": {
    "collapsed": false
   },
   "source": [
    "<a name=\"prop106\" id=\"prop106\"></a>\n",
    "Proof of Proposition 10.6:<br><br> \n",
    "\n",
    "Since <em>I</em><sup>&ast;</sup> is an intersection of subrings of <em>R</em>, by Proposition 10.2 <em>I</em><sup>&ast;</sup> is a subring of <em>R</em>.  Thus, we only need to \n",
    "check that <em>I</em><sup>&ast;</sup>&middot;<em>R</em> and <em>R</em>&middot;<em>I</em><sup>&ast;</sup> are contained in <em>I</em><sup>&ast;</sup>.<br><br>\n",
    "\n",
    "Suppose that <em>a</em> is an element of <em>I</em><sup>&ast;</sup>. Then <em>a</em> is in each <em>I</em> &isin; <em>L</em>, and so <em>a</em>&middot;<em>R</em> \n",
    "and <em>R</em>&middot;<em>a</em> are subsets of each <em>I</em> in the collection.  Thus, <em>a</em>&middot;<em>R</em> and <em>R</em>&middot;<em>a</em> will both be \n",
    "subsets of <em>I</em><sup>&ast;</sup>.  Since this result is true for every <em>a</em> in <em>I</em><sup>&ast;</sup>, we have that <em>I</em><sup>&ast;</sup>&middot;<em>R</em> \n",
    "and <em>R</em>&middot;<em>I</em><sup>&ast;</sup> are both subsets of <em>I</em><sup>&ast;</sup>. Therefore, <em>I</em><sup>&ast;</sup> is an ideal.<br><br>\n",
    "\n",
    "<a href=\"#prop106ret\">Return to text</a>"
   ]
  },
  {
   "cell_type": "markdown",
   "id": "b6a4de",
   "metadata": {
    "collapsed": false
   },
   "source": [
    "<br><br><br><br><br><br><br><br><br><br><br><br><br><br><br><br><br><br><br><br><br><br><br><br><br><br><br><br><br><br><br><br><br><br><br><br><br><br><br><br><br><br>"
   ]
  },
  {
   "cell_type": "markdown",
   "id": "136469",
   "metadata": {
    "collapsed": false
   },
   "source": [
    "<a name=\"prop107\" id=\"prop107\"></a>\n",
    "Proof of Proposition 10.7:<br><br> \n",
    "\n",
    "If <em>x</em><sup>2</sup> = 0, we can let <em>k</em> = <em>n</em>, so that <em>k</em> will be positive \n",
    "and <em>k x</em> = 0 = <em>x</em><sup>2</sup>.  If <em>x</em><sup>2</sup> is not zero, then since <em>x</em> generates the additive group, there is a <em>k</em> such \n",
    "that <nobr><em>x</em><sup>2</sup> = <em>k x</em></nobr> with 0 &lt; <em>k</em> &lt; <em>n</em>.<br><br>\n",
    "\n",
    "Now the natural mapping is one that sends <em>&fnof;</em>(<em>a</em>&middot;<em>x</em>) = <em>k</em>&middot;<em>a</em> <strong>mod</strong> (<em>k n</em>). This is obviously one-to-one \n",
    "and onto, since the value of <em>a</em> ranges from 0 to <em>n</em> &minus; 1. To check that this is an isomorphism, note that\n",
    "<p style='text-align: center;'><em>&fnof;</em>(<em>a</em>&middot;<em>x</em> + <em>b</em>&middot;<em>x</em>) = <em>&fnof;</em>((<em>a</em> + <em>b</em>)&middot;<em>x</em>) = \n",
    "<em>k</em>&middot;(<em>a</em> + <em>b</em>) <strong>mod</strong> (<em>k n</em>) = (<em>k</em>&middot;<em>a</em> <strong>mod</strong> (<em>k n</em>) + \n",
    "<em>k</em>&middot;<em>b</em> <strong>mod</strong> (<em>k n</em>)) <strong>mod</strong> (<em>k n</em>) = \n",
    "<em>&fnof;</em>(<em>a</em>&middot;<em>x</em>) + <em>&fnof;</em>(<em>b</em>&middot;<em>x</em>).</p>\n",
    "Also,\n",
    "<p style='text-align: center;'><em>&fnof;</em>((<em>a</em>&middot;<em>x</em>)&middot;(<em>b</em>&middot;<em>x</em>)) = \n",
    "<em>&fnof;</em>(<em>a</em>&middot;<em>b</em>&middot;<em>x</em><sup>2</sup>) = <em>&fnof;</em>(<em>a</em>&middot;<em>b</em>&middot;<em>k</em>&middot;<em>x</em>) =\n",
    "<em>k</em>&middot;<em>a</em>&middot;<em>b</em>&middot;<em>k</em> <strong>mod</strong> (<em>k n</em>) = \n",
    "((<em>k</em>&middot;<em>a</em> <strong>mod</strong> (<em>k n</em>))&middot;(<em>k</em>&middot;<em>b</em> <strong>mod</strong> (<em>k n</em>))) = \n",
    "<em>&fnof;</em>(<em>a</em>&middot;<em>x</em>)&middot;<em>&fnof;</em>(<em>b</em>&middot;<em>x</em>).</p>\n",
    "Therefore, <em>&fnof;</em> is an isomorphism, and <em>R</em> &asymp; <em>k</em> <em>Z<sub>k n</sub></em>.<br><br>\n",
    "\n",
    "<a href=\"#prop107ret\">Return to text</a>"
   ]
  },
  {
   "cell_type": "markdown",
   "id": "367497",
   "metadata": {
    "collapsed": false
   },
   "source": [
    "<br><br><br><br><br><br><br><br><br><br><br><br><br><br><br><br><br><br><br><br><br><br><br><br><br><br><br><br><br><br><br><br><br><br><br><br><br><br><br><br><br><br>"
   ]
  },
  {
   "cell_type": "markdown",
   "id": "dfc9ce",
   "metadata": {
    "collapsed": false
   },
   "source": [
    "<a name=\"lem101\" id=\"lem101\"></a>\n",
    "Proof of Lemma 10.1:<br><br> \n",
    "\n",
    "Suppose that gcd(<em>q</em>, <em>n</em>) is not 1.  Then there is a prime number <em>p</em> that divides neither <em>f</em> nor \n",
    "<em><sup>n</sup></em>&frasl;<em><sub>d</sub></em> , yet divides <em>n</em>.  Thus, <em>p</em> must divide <em>d</em>.<br><br>\n",
    "\n",
    "Now <em>f</em>&middot;<em>p</em> will be coprime to <em><sup>n</sup></em>&frasl;<em><sub>d</sub></em> since both <em>f</em> and <em>p</em> are.  Also, since <em>f</em> is \n",
    "not a multiple of <em>p</em> while <em>d</em> is, <em>f</em>&middot;<em>p</em> will be a divisor of <em>d</em>. But we defined <em>f</em> to be the <em>largest</em> factor \n",
    "of <em>d</em> coprime to <em><sup>n</sup></em>&frasl;<em><sub>d</sub></em> . This contradiction shows that gcd(<em>q</em>, <em>n</em>) = 1.<br><br>\n",
    "\n",
    "<a href=\"#lem101ret\">Return to text</a>"
   ]
  },
  {
   "cell_type": "markdown",
   "id": "599e18",
   "metadata": {
    "collapsed": false
   },
   "source": [
    "<br><br><br><br><br><br><br><br><br><br><br><br><br><br><br><br><br><br><br><br><br><br><br><br><br><br><br><br><br><br><br><br><br><br><br><br><br><br><br><br><br><br>"
   ]
  },
  {
   "cell_type": "markdown",
   "id": "f5fb33",
   "metadata": {
    "collapsed": false
   },
   "source": [
    "<a name=\"lem102\" id=\"lem102\"></a>\n",
    "Proof of Lemma 10.2:<br><br> \n",
    "\n",
    "B&eacute;zout's lemma (1.3) would give us values for <em>u</em> and <em>v</em>, but there would be no way to guarantee that <em>u</em> would be coprime \n",
    "to <em>y</em>.<br><br>\n",
    "\n",
    "Let <em>k</em> = gcd(<em>x</em>, <em>y</em>). Then (<em><sup>x</sup></em>&frasl;<em><sub>k</sub></em>) and (<em><sup>y</sup></em>&frasl;<em><sub>k</sub></em>) are coprime, so \n",
    "(<em><sup>x</sup></em>&frasl;<em><sub>k</sub></em>) has an multiplicative inverse in <em>Z</em><sub>(<em>y</em>/<em>k</em>)</sub>, say <em>n</em>. That is,\n",
    "<p style='text-align: center;'><em><sup>x</sup></em>&frasl;<em><sub>k</sub></em> &middot;<em>n</em> &equiv; 1 (mod <em><sup>y</sup></em>&frasl;<em><sub>k</sub></em> ).</p>\n",
    "Let <em>f</em> be the largest divisor of <em>k</em> that is coprime to <em><sup>y</sup></em>&frasl;<em><sub>k</sub></em> . By the Chinese remainder theorem (1.5), there is \n",
    "a number <em>u</em> such that\n",
    "<p style='text-align: center;'><em>u</em> &equiv; <em>n</em>&ensp;(mod <em><sup>y</sup></em>&frasl;<em><sub>k</sub></em> )</p>\n",
    "and\n",
    "<p style='text-align: center;'><em>u</em> &equiv; 1&ensp;(mod <em>f</em>).</p>\n",
    "Since <em>n</em> is coprime to (<em><sup>y</sup></em>&frasl;<em><sub>k</sub></em>) , <em>u</em> is coprime to (<em><sup>y</sup></em>&frasl;<em><sub>k</sub></em>) . Also, \n",
    "<em>u</em> is coprime to <em>f</em>, so by Lemma 10.1 <em>u</em> is coprime to <em>y</em>. Also,\n",
    "<p style='text-align: center;'><em>u</em>&middot;<em><sup>x</sup></em>&frasl;<em><sub>k</sub></em> &equiv; 1&ensp;(mod <em><sup>y</sup></em>&frasl;<em><sub>k</sub></em> )</p>\n",
    "so there is a <em>v</em> such that\n",
    "<p style='text-align: center;'><em>u</em>&middot;<em><sup>x</sup></em>&frasl;<em><sub>k</sub></em> + <em>v</em>&middot;<em><sup>y</sup></em>&frasl;<em><sub>k</sub></em> = \n",
    "1.</p>\n",
    "Multiplying both sides by <em>k</em> gives us\n",
    "<p style='text-align: center;'><em>u</em>&middot;<em>x</em> + <em>v</em>&middot;<em>y</em> = <em>k</em> = gcd(<em>x</em>, <em>y</em>).</p>\n",
    "\n",
    "<a href=\"#lem102ret\">Return to text</a>"
   ]
  },
  {
   "cell_type": "markdown",
   "id": "e03d06",
   "metadata": {
    "collapsed": false
   },
   "source": [
    "<br><br><br><br><br><br><br><br><br><br><br><br><br><br><br><br><br><br><br><br><br><br><br><br><br><br><br><br><br><br><br><br><br><br><br><br><br><br><br><br><br><br>"
   ]
  },
  {
   "cell_type": "markdown",
   "id": "ab5cf2",
   "metadata": {
    "collapsed": false
   },
   "source": [
    "<a name=\"theor101\" id=\"theor101\"></a>\n",
    "Proof of Theorem 10.1:<br><br> \n",
    "\n",
    "Since <em>k</em> = gcd(<em>x</em>, <em>n</em>), by Lemma 10.2 we can find integers <em>u</em> and <em>v</em> such that \n",
    "<em>u</em>&middot;<em>x</em> + <em>v</em>&middot;<em>n</em> = <em>k</em>, where <em>u</em> is coprime to <em>n</em>.  We now define a mapping <em>&fnof;</em> from \n",
    "<em>k Z<sub>k n</sub></em> to <em>x Z<sub>x n</sub></em> as follows:\n",
    "<p style='text-align: center;'><em>&fnof;</em>(<em>k</em>&middot;<em>w</em> <strong>mod</strong> (<em>k n</em>)) = \n",
    "<em>u</em> <em>x</em> <em>w</em> <strong>mod</strong> (<em>x n</em>).</p>\n",
    "Note that this is well-defined, since if <em>k</em>&middot;<em>w</em> is equivalent to <em>k</em>&middot;<em>p</em> (mod <em>k</em> <em>n</em>), then \n",
    "<p style='text-align: center;'><em>w</em> &equiv; <em>p</em> (mod <em>n</em>)&ensp;&#10233;&ensp;<em>x w</em> &equiv; <em>x p</em> \n",
    "(mod <em>x</em> <em>n</em>)&ensp;&#10233;&ensp;<em>u x w</em> &equiv; <em>u x p</em> \n",
    "(mod <em>x</em> <em>n</em>).</p>\n",
    "Next we need to show that <em>&fnof;</em> is a homomorphism from <em>k Z<sub>k n</sub></em> to <em>x Z<sub>x n</sub></em>.  If <em>a</em> = <em>k</em>&middot;<em>w</em> \n",
    "(mod <em>k n</em>) and <em>b</em> = <em>k</em>&middot;<em>z</em> (mod <em>k n</em>), then \n",
    "<p style='text-align: center;'><em>&fnof;</em>(<em>a</em> + <em>b</em>) = <em>&fnof;</em>((<em>k</em>&middot;<em>w</em> + <em>k</em>&middot;<em>z</em>) <strong>mod</strong> (<em>k n</em>)) = \n",
    "<em>u</em>&middot;(<em>x</em>&middot;<em>w</em> + <em>x</em>&middot;<em>z</em>) <strong>mod</strong> (<em>x n</em>) = \n",
    "(<em>u</em>&middot;<em>x</em>&middot;<em>w</em> + <em>u</em>&middot;<em>x</em>&middot;<em>z</em>) <strong>mod</strong> (<em>x n</em>) = <em>&fnof;</em>(<em>a</em>) + \n",
    "<em>&fnof;</em>(<em>b</em>),</p>\n",
    "<p style='text-align: center;'><em>&fnof;</em>(<em>a</em>&middot;<em>b</em>) = <em>&fnof;</em>((<em>k</em>&middot;<em>w</em>&middot;<em>k</em>&middot;<em>z</em>) \n",
    "<strong>mod</strong> (<em>k n</em>)) = \n",
    "(<em>u</em>&middot;<em>x</em>&middot;<em>w</em>&middot;<em>k</em>&middot;<em>z</em>) <strong>mod</strong> (<em>x n</em>) = \n",
    "(<em>u</em>&middot;<em>x</em>&middot;<em>w</em>&middot;(<em>u</em>&middot;<em>x</em> + <em>v</em>&middot;<em>n</em>)&middot;<em>z</em>) <strong>mod</strong> (<em>x n</em>)<br> =\n",
    "(<em>u</em>&middot;<em>x</em>&middot;<em>w</em>&middot;<em>u</em>&middot;<em>x</em>&middot;<em>z</em> + \n",
    "<em>u</em>&middot;<em>x</em>&middot;<em>w</em>&middot;<em>v</em>&middot;<em>n</em>&middot;<em>z</em>) <strong>mod</strong> (<em>x n</em>) = \n",
    "(<em>u</em>&middot;<em>x</em>&middot;<em>w</em>)&middot;(<em>u</em>&middot;<em>x</em>&middot;<em>z</em>) <strong>mod</strong> (<em>x n</em>) = \n",
    "<em>&fnof;</em>(<em>a</em>)&middot;<em>&fnof;</em>(<em>b</em>).</p>\n",
    "So <em>&fnof;</em> is indeed a homomorphism from <em>k Z<sub>k n</sub></em> to <em>x Z<sub>x n</sub></em>.<br><br>\n",
    "\n",
    "Since <em>u</em> is coprime to <em>n</em>, <em>u</em> has an inverse, <em>u</em><sup>-1</sup> (mod <em>n</em>).  Then we see that <em>&fnof;</em> is onto, since any \n",
    "element <em>x</em>&middot;<em>a</em> (mod <em>x n</em>) in <em>x Z<sub>x n</sub></em> can be obtained by taking\n",
    "<p style='text-align: center;'><em>&fnof;</em>(<em>k</em>&middot;<em>a</em>&middot;<em>u</em><sup>-1</sup> <strong>mod</strong> (<em>k n</em>) ) = \n",
    "(<em>u</em>&middot;<em>x</em>&middot;<em>a</em>&middot;<em>u</em><sup>-1</sup>) <strong>mod</strong> (<em>x n</em>) = <em>x</em>&middot;<em>a</em> <strong>mod</strong> (<em>x n</em>).</p>\n",
    "Finally, both <em>x Z<sub>x n</sub></em> and <em>k Z<sub>k n</sub></em> contain <em>n</em> elements, so by the pigeonhole principle <em>&fnof;</em> must be a \n",
    "one-to-one function.  Thus, <em>&fnof;</em> is an isomorphism, and\n",
    "<p style='text-align: center;'><em>x Z<sub>x n</sub></em> &asymp; <em>k Z<sub>k n</sub></em>.</p>\n",
    "\n",
    "<a href=\"#theor101ret\">Return to text</a>"
   ]
  },
  {
   "cell_type": "markdown",
   "id": "3b7b34",
   "metadata": {
    "collapsed": false
   },
   "source": [
    "<br><br><br><br><br><br><br><br><br><br><br><br><br><br><br><br><br><br><br><br><br><br><br><br><br><br><br><br><br><br><br><br><br><br><br><br><br><br><br><br><br><br>"
   ]
  },
  {
   "cell_type": "markdown",
   "id": "6ace5a",
   "metadata": {
    "collapsed": false
   },
   "source": [
    "<a name=\"cor101\" id=\"cor101\"></a>\n",
    "Proof of Corollary 10.1:<br><br> \n",
    "\n",
    "By Proposition 10.7 every cyclic ring of order <em>n</em> is isomorphic to <em>k Z<sub>k n</sub></em> for some value of <em>k</em>.  By the cyclic ring theorem, we see \n",
    "that this is isomorphic to <nobr><em>d Z<sub>d n</sub></em>,</nobr> where <nobr><em>d</em> = gcd(<em>k</em>, <em>n</em>).</nobr>  Hence <em>d</em> is a divisor \n",
    "of <em>n</em>.  We need \n",
    "to show that \n",
    "two different rings of this form are non-isomorphic.  Consider the rings <nobr><em>A</em> = <em>d Z<sub>d n</sub></em></nobr> and \n",
    "<nobr><em>B</em> = <em>f Z<sub>f n</sub></em>,</nobr> where \n",
    "<em>d</em> and <em>f</em> are different divisors of <em>n</em>. Perhaps the easiest way to show that these are different is to count the number of elements in <em>A</em> \n",
    "and <em>B</em> that can appear in the multiplication tables.  The elements that can appear in the table for <em>A</em> are\n",
    "<p style='text-align: center;'><em>d</em><sup>2</sup>, 2 <em>d</em><sup>2</sup>, 3 <em>d</em><sup>2</sup>, &hellip; <em>n</em>&middot;<em>d</em> = 0.</p>\n",
    "while the elements appearing in the multiplication table of <em>B</em> are\n",
    "<p style='text-align: center;'><em>f</em><sup>2</sup>, 2 <em>f</em><sup>2</sup>, 3 <em>f</em><sup>2</sup>, &hellip; <em>n</em>&middot;<em>f</em> = 0.</p>\n",
    "Thus, there are <sup><em>n</em></sup>&frasl;<sub><em>d</em></sub>&ensp;such elements of <em>A</em>, and <sup><em>n</em></sup>&frasl;<sub><em>f</em></sub>&ensp;elements of \n",
    "<em>B</em>. \n",
    "Since <em>d</em> and <em>f</em> are different, we see that the rings <em>A</em> and <em>B</em> are not isomorphic. Therefore, there is a one-to-one correspondence between \n",
    "the factors of <em>n</em> and the cyclic rings of order <em>n</em>.<br><br>\n",
    "\n",
    "<a href=\"#cor101ret\">Return to text</a>"
   ]
  },
  {
   "cell_type": "markdown",
   "id": "98b3ca",
   "metadata": {
    "collapsed": false
   },
   "source": [
    "<br><br><br><br><br><br><br><br><br><br><br><br><br><br><br><br><br><br><br><br><br><br><br><br><br><br><br><br><br><br><br><br><br><br><br><br><br><br><br><br><br><br>"
   ]
  },
  {
   "cell_type": "markdown",
   "id": "c2e7b6",
   "metadata": {
    "collapsed": false
   },
   "source": [
    "<a name=\"prop108\" id=\"prop108\"></a>\n",
    "Proof of Proposition 10.8:<br><br> \n",
    "\n",
    "Suppose <em>S</em> is a subring of <em>A</em>.  We will use Proposition 10.1 to show that <em>&fnof;</em>(<em>S</em>) is a subring of <em>B</em>.  The element \n",
    "<em>&fnof;</em>(0) = 0 is in <em>&fnof;</em>(<em>S</em>), so <em>&fnof;</em>(<em>S</em>) is non-empty.  If <em>u</em> and <em>v</em> are two elements of \n",
    "<em>&fnof;</em>(<em>S</em>), then there exist elements <em>x</em> and <em>y</em> in <em>S</em> such that\n",
    "<p style='text-align: center;'><em>&fnof;</em>(<em>x</em>) = <em>u</em>&emsp;and&emsp;<em>&fnof;</em>(<em>y</em>) = <em>v</em>.</p>\n",
    "But <em>x</em>&middot;<em>y</em> and <em>x</em> &minus; <em>y</em> are also in <em>S</em>, and so\n",
    "<p style='text-align: center;'><em>&fnof;</em>(<em>x</em>&middot;<em>y</em>) = <em>&fnof;</em>(<em>x</em>)&middot;<em>&fnof;</em>(<em>y</em>) = \n",
    "<em>u</em>&middot;<em>v</em>&emsp;and&emsp;<em>&fnof;</em>(<em>x</em> &minus; <em>y</em>) = <em>&fnof;</em>(<em>x</em>) &minus; <em>&fnof;</em>(<em>y</em>) = \n",
    "<em>u</em> &minus; <em>v</em></p>\n",
    "must be in <em>&fnof;</em>(<em>S</em>).  Thus, by Proposition 10.1, <em>&fnof;</em>(<em>S</em>) is a subring of <em>B</em>.<br><br>\n",
    "\n",
    "Now suppose that <em>T</em> is a subring of <em>B</em>. Since 0 is contained in <em>&fnof;</em><sup>&minus;1</sup>(<em>T</em>), we have that \n",
    "<em>&fnof;</em><sup>&minus;1</sup>(<em>T</em>) is non-empty. If <em>x</em> and <em>y</em> are two elements of <em>&fnof;</em><sup>&minus;1</sup>(<em>T</em>), then \n",
    "<em>&fnof;</em>(<em>x</em>) and <em>&fnof;</em>(<em>y</em>) will be two elements of <em>T</em>.  Thus,\n",
    "<p style='text-align: center;'><em>&fnof;</em>(<em>x</em>&middot;<em>y</em>) = \n",
    "<em>&fnof;</em>(<em>x</em>)&middot;<em>&fnof;</em>(<em>y</em>)&emsp;and&emsp;<em>&fnof;</em>(<em>x</em> &minus; <em>y</em>) = \n",
    "<em>&fnof;</em>(<em>x</em>) &minus; <em>&fnof;</em>(<em>y</em>)</p>\n",
    "would be elements of <em>T</em>.  Hence, <em>x</em>&middot;<em>y</em> and <em>x</em> &minus; <em>y</em> are in <em>&fnof;</em><sup>&minus;1</sup>(<em>T</em>). Thus, \n",
    "by Proposition 10.1, <em>&fnof;</em><sup>&minus;1</sup>(<em>T</em>) is a subring of <em>A</em>.<br><br>\n",
    "\n",
    "<a href=\"#prop108ret\">Return to text</a>"
   ]
  },
  {
   "cell_type": "markdown",
   "id": "76db6f",
   "metadata": {
    "collapsed": false
   },
   "source": [
    "<br><br><br><br><br><br><br><br><br><br><br><br><br><br><br><br><br><br><br><br><br><br><br><br><br><br><br><br><br><br><br><br><br><br><br><br><br><br><br><br><br><br>"
   ]
  },
  {
   "cell_type": "markdown",
   "id": "279c8a",
   "metadata": {
    "collapsed": false
   },
   "source": [
    "<a name=\"prop109\" id=\"prop109\"></a>\n",
    "Proof of Proposition 10.9:<br><br> \n",
    "\n",
    "Suppose that <em>x</em> is in the kernel of <em>&fnof;</em>, and <em>y</em> is any other element of <em>A</em>.  Then \n",
    "<p style='text-align: center;'><em>&fnof;</em>(<em>x</em>&middot;<em>y</em>) = <em>&fnof;</em>(<em>x</em>)&middot;<em>&fnof;</em>(<em>y</em>) = \n",
    "0&middot;<em>&fnof;</em>(<em>y</em>) = 0,&emsp;and&emsp;<em>&fnof;</em>(<em>y</em>&middot;<em>x</em>) = <em>&fnof;</em>(<em>y</em>)&middot;<em>&fnof;</em>(<em>x</em>) = \n",
    "<em>&fnof;</em>(<em>y</em>)&middot;0 = 0.</p>\n",
    "Hence, <em>x</em>&middot;<em>y</em> and <em>y</em>&middot;<em>x</em> are in the kernel of <em>&fnof;</em>, so the kernel is an ideal of <em>A</em>.<br><br>\n",
    "\n",
    "If <em>&fnof;</em> is injective, then <em>&fnof;</em><sup>&minus;1</sup>(0) can only contain one element, which must be 0.  On the other hand, \n",
    "if <em>&fnof;</em><sup>&minus;1</sup>(0) = {0}, then\n",
    "<p style='text-align: center;'><em>&fnof;</em>(<em>x</em>) = <em>&fnof;</em>(<em>y</em>) &#10233; <em>&fnof;</em>(<em>x</em>) &minus; <em>&fnof;</em>(<em>y</em>) = \n",
    "0&ensp;&#10233;&ensp;<em>&fnof;</em>(<em>x</em> &minus; <em>y</em>) = 0&ensp;&#10233;&ensp;<em>x</em> &minus; <em>y</em> = 0&ensp;&#10233;&ensp;<em>x</em> = <em>y</em>.</p>\n",
    "Therefore, <em>&fnof;</em> is injective if, and only if, Ker(<em>&fnof;</em>) = {0}.<br><br>\n",
    "\n",
    "<a href=\"#prop109ret\">Return to text</a>"
   ]
  },
  {
   "cell_type": "markdown",
   "id": "d726b2",
   "metadata": {
    "collapsed": false
   },
   "source": [
    "<br><br><br><br><br><br><br><br><br><br><br><br><br><br><br><br><br><br><br><br><br><br><br><br><br><br><br><br><br><br><br><br><br><br><br><br><br><br><br><br><br><br>"
   ]
  },
  {
   "cell_type": "markdown",
   "id": "0852bb",
   "metadata": {
    "collapsed": false
   },
   "source": [
    "<a name=\"lem103\" id=\"lem103\"></a>\n",
    "Proof of Lemma 10.3:<br><br> \n",
    "\n",
    "It is clear that the rule  <em>i</em>(<em>x</em>) = <em>x</em> + <em>I</em> defines a surjective mapping <em>i</em> from <em>R</em> to <em>R</em>/<em>I</em>, and that \n",
    "Ker(<em>i</em>) = <em>I</em>.  We need only to check that <em>i</em>(<em>x</em>) is a homomorphism.<br><br>\n",
    "\n",
    "Since\n",
    "<p style='text-align: center;'><em>i</em>(<em>x</em> + <em>y</em>) = (<em>x</em> + <em>y</em>) + <em>I</em> = (<em>x</em> + <em>I</em>) + (<em>y</em> + <em>I</em>) = \n",
    "<em>i</em>(<em>x</em>) + <em>i</em>(<em>y</em>)</p>\n",
    "and\n",
    "<p style='text-align: center;'><em>i</em>(<em>x</em>&middot;<em>y</em>) = <em>x</em>&middot;<em>y</em> + <em>I</em> = \n",
    "(<em>x</em> + <em>I</em>)&middot;(<em>y</em> + <em>I</em>) = <em>i</em>(<em>x</em>)&middot;<em>i</em>(<em>y</em>),</p>\n",
    "we see that <em>i</em>(<em>x</em>) is indeed a surjective ring homomorphism.<br><br>\n",
    "\n",
    "<a href=\"#lem103ret\">Return to text</a>"
   ]
  },
  {
   "cell_type": "markdown",
   "id": "c3c9f2",
   "metadata": {
    "collapsed": false
   },
   "source": [
    "<br><br><br><br><br><br><br><br><br><br><br><br><br><br><br><br><br><br><br><br><br><br><br><br><br><br><br><br><br><br><br><br><br><br><br><br><br><br><br><br><br><br>"
   ]
  },
  {
   "cell_type": "markdown",
   "id": "db7571",
   "metadata": {
    "collapsed": false
   },
   "source": [
    "<a name=\"theor102\" id=\"theor102\"></a>\n",
    "Proof of Theorem 10.2:<br><br> \n",
    "\n",
    "The diagram actually helps us determine how <em>&#981;</em> needs to be defined. For each coset (<em>x</em> + <em>I</em>) in <em>R</em>/<em>I</em>, we need to have\n",
    "<p style='text-align: center;'><em>&#981;</em>(<em>x</em> + <em>I</em>) = <em>&fnof;</em>(<em>x</em>)</p>\n",
    "in order for the diagram to commute.  To prove that this rule defines a mapping, we need to show that this is well defined. That is, if \n",
    "<em>x</em> + <em>I</em> = <em>y</em> + <em>I</em>, it needs to be true that <em>&fnof;</em>(<em>x</em>) = <em>&fnof;</em>(<em>y</em>), or else there would be a contradiction in the \n",
    "definition of <em>&#981;</em>.  But\n",
    "<p style='text-align: center;'><em>x</em> + <em>I</em> = <em>y</em> + <em>I</em>&emsp;&#10234;&emsp;<em>x</em> &minus; <em>y</em> &isin; \n",
    "<em>I</em>&emsp;&#10234;&emsp;<em>&fnof;</em>(<em>x</em> &minus; <em>y</em>) = 0&emsp;&#10234;&emsp;<em>&fnof;</em>(<em>x</em>) = \n",
    "<em>&fnof;</em>(<em>y</em>)&emsp;&#10234;&emsp;<em>&#981;</em>(<em>x</em> + <em>I</em>) = <em>&#981;</em>(<em>y</em> + <em>I</em>).</p>\n",
    "So we see that the definition of <em>&#981;</em> will not produce any such contradictions.<br><br>\n",
    "\n",
    "To show that <em>&#981;</em> is a homomorphism, we have that\n",
    "<p style='text-align: center;'><em>&#981;</em>((<em>x</em> + <em>I</em>) + (<em>y</em> + <em>I</em>)) = <em>&#981;</em>(<em>x</em> + <em>y</em> + <em>I</em>) = \n",
    "<em>&fnof;</em>(<em>x</em> + <em>y</em>) = <em>&fnof;</em>(<em>x</em>) + <em>&fnof;</em>(<em>y</em>) = \n",
    "<em>&#981;</em>(<em>x</em> + <em>I</em>) + <em>&#981;</em>(<em>y</em> + <em>I</em>),</p>\n",
    "and \n",
    "<p style='text-align: center;'><em>&#981;</em>((<em>x</em> + <em>I</em>)&middot;(<em>y</em> + <em>I</em>)) = <em>&#981;</em>(<em>x</em>&middot;<em>y</em> + <em>I</em>) = \n",
    "<em>&fnof;</em>(<em>x</em>&middot;<em>y</em>) = <em>&fnof;</em>(<em>x</em>)&middot;<em>&fnof;</em>(<em>y</em>) = \n",
    "<em>&#981;</em>(<em>x</em> + <em>I</em>)&middot;<em>&#981;</em>(<em>y</em> + <em>I</em>),</p>\n",
    "So <em>&#981;</em> is a homomorphism from <em>R</em>/<em>I</em> to <em>H</em>.  It is apparent that this homomorphism is onto, and\n",
    "<p style='text-align: center;'><em>&#981;</em>(<em>x</em> + <em>I</em>) = 0&emsp;&#10234;&emsp;<em>&fnof;</em>(<em>x</em>) = 0&emsp;&#10234;&emsp;<em>x</em> &isin; \n",
    "<em>I</em>&emsp;&#10234;&emsp;<em>x</em> + <em>I</em> = <em>I</em>.</p>  \n",
    "So the kernel of <em>&#981;</em> is {<em>I</em>}, the zero element of <em>R</em>/<em>I</em>.  \n",
    "Thus, <em>&#981;</em> is an isomorphism from <em>R</em>/<em>I</em> onto <em>H</em>, so <em>R</em>/<em>I</em> &asymp; <em>H</em>.  Since the mapping <em>&#981;</em> \n",
    "was defined so that the diagram commutes, the theorem is proved.<br><br>\n",
    "\n",
    "<a href=\"#theor102ret\">Return to text</a>"
   ]
  },
  {
   "cell_type": "markdown",
   "id": "29e721",
   "metadata": {
    "collapsed": false
   },
   "source": [
    "<br><br><br><br><br><br><br><br><br><br><br><br><br><br><br><br><br><br><br><br><br><br><br><br><br><br><br><br><br><br><br><br><br><br><br><br><br><br><br><br><br><br>"
   ]
  },
  {
   "cell_type": "markdown",
   "id": "737a0e",
   "metadata": {
    "collapsed": false
   },
   "source": [
    "<a name=\"sec10p\" id=\"sec10p\"></a>\n",
    "<h1><em>SageMath</em> Interactive Problems</h1>\n",
    "\n",
    "<br>\n",
    "&sect;10.1 #19)<br> \n",
    "Find all of the subrings of the ring of order 8:<br>"
   ]
  },
  {
   "cell_type": "code",
   "execution_count": 0,
   "id": "d2b3d2",
   "metadata": {
    "collapsed": false
   },
   "outputs": [
   ],
   "source": [
    "InitRing()\n",
    "AddRingVar(\"a\", \"b\")\n",
    "Define(4*a, 0); Define(2*b, 0)\n",
    "Define(a^2, a); Define(b^2, 0)\n",
    "Define(a*b, b); Define(b*a, 0)\n",
    "R = Ring(); R"
   ]
  },
  {
   "cell_type": "markdown",
   "id": "8216f9",
   "metadata": {
    "collapsed": false
   },
   "source": [
    "<br>\n",
    "&sect;10.1 #20)<br> \n",
    "Find all of the subrings of the ring of order 8:<br>"
   ]
  },
  {
   "cell_type": "code",
   "execution_count": 0,
   "id": "3d3a25",
   "metadata": {
    "collapsed": false
   },
   "outputs": [
   ],
   "source": [
    "InitRing()\n",
    "AddRingVar(\"a\", \"b\")\n",
    "Define(4*a, 0); Define(2*b, 0)\n",
    "Define(a^2, 2*a); Define(b^2, 2*a)\n",
    "Define(a*b, 0); Define(b*a, 2*a)\n",
    "R = Ring(); R"
   ]
  },
  {
   "cell_type": "markdown",
   "id": "05cb36",
   "metadata": {
    "collapsed": false
   },
   "source": [
    "<br>\n",
    "&sect;10.2 #21)<br> \n",
    "Which of the subrings of the ring of order 8, found in Problem 19 of &sect;10.1 are ideals?\n",
    "The ring is given as follows:<br>"
   ]
  },
  {
   "cell_type": "code",
   "execution_count": 0,
   "id": "79d1f0",
   "metadata": {
    "collapsed": false
   },
   "outputs": [
   ],
   "source": [
    "InitRing()\n",
    "AddRingVar(\"a\", \"b\")\n",
    "Define(4*a, 0); Define(2*b, 0)\n",
    "Define(a^2, a); Define(b^2, 0)\n",
    "Define(a*b, b); Define(b*a, 0)\n",
    "R = Ring(); R"
   ]
  },
  {
   "cell_type": "markdown",
   "id": "5bf941",
   "metadata": {
    "collapsed": false
   },
   "source": [
    "<br>\n",
    "&sect;10.2 #22)<br> \n",
    "Which of the subrings of the ring of order 8, found in Problem 20 of &sect;10.1 are ideals?\n",
    "The ring is given as follows:<br>"
   ]
  },
  {
   "cell_type": "code",
   "execution_count": 0,
   "id": "fc92ae",
   "metadata": {
    "collapsed": false
   },
   "outputs": [
   ],
   "source": [
    "InitRing()\n",
    "AddRingVar(\"a\", \"b\")\n",
    "Define(4*a, 0); Define(2*b, 0)\n",
    "Define(a^2, 2*a); Define(b^2, 2*a)\n",
    "Define(a*b, 0); Define(b*a, 2*a)\n",
    "R = Ring(); R"
   ]
  },
  {
   "cell_type": "markdown",
   "id": "882970",
   "metadata": {
    "collapsed": false
   },
   "source": [
    "<br>\n",
    "&sect;10.3 #19)<br> \n",
    "Load the rings <em>Z</em><sub>12</sub> and <em>Z</em><sub>6</sub> into <em>SageMath</em> simultaneously with the commands:<br>"
   ]
  },
  {
   "cell_type": "code",
   "execution_count": 0,
   "id": "7a5a58",
   "metadata": {
    "collapsed": false
   },
   "outputs": [
   ],
   "source": [
    "Z12 = ZRing(12)"
   ]
  },
  {
   "cell_type": "code",
   "execution_count": 0,
   "id": "762c55",
   "metadata": {
    "collapsed": false
   },
   "outputs": [
   ],
   "source": [
    "Z6 = ZRing(6)"
   ]
  },
  {
   "cell_type": "markdown",
   "id": "bae2d1",
   "metadata": {
    "collapsed": false
   },
   "source": [
    "<br>\n",
    "Show that <em>I</em> = {0, 6} is an ideal of <em>Z</em><sub>12</sub>, and display addition and multiplication tables of the \n",
    "quotient <em>Z</em><sub>12</sub>/<em>I</em>, showing that <em>Z</em><sub>12</sub>/<em>I</em> is isomorphic to <em>Z</em><sub>6</sub>.<br>"
   ]
  },
  {
   "cell_type": "markdown",
   "id": "d031c8",
   "metadata": {
    "collapsed": false
   },
   "source": [
    "<br>\n",
    "&sect;10.3 #20)<br> \n",
    "Use <em>SageMath</em> to find the eight non-isomorphic non-cyclic rings of order 4.<br>\n",
    "\n",
    "Hint: The additive group must be isomorphic to <em>Z</em><sub>8</sub><sup>&ast;</sup>, so the ring is defined by:<br>"
   ]
  },
  {
   "cell_type": "code",
   "execution_count": 0,
   "id": "206616",
   "metadata": {
    "collapsed": false
   },
   "outputs": [
   ],
   "source": [
    "InitRing()\n",
    "AddRingVar(\"a\", \"b\")\n",
    "Define(2*a, 0); Define(2*b, 0)\n",
    "Define(a^2, ???)\n",
    "Define(a*b, ???)\n",
    "Define(b*a, ???) \n",
    "Define(b^2, ???)\n",
    "CheckRing()"
   ]
  },
  {
   "cell_type": "code",
   "execution_count": 0,
   "id": "2f2576",
   "metadata": {
    "collapsed": false
   },
   "outputs": [
   ],
   "source": [
    "R = Ring(); R"
   ]
  },
  {
   "cell_type": "markdown",
   "id": "1f81a0",
   "metadata": {
    "collapsed": false
   },
   "source": [
    "<br>\n",
    "Fill in each <strong>???</strong> with a member of {0, <em>a</em>, <em>b</em>, <em>a</em> + <em>b</em>} to see whether a ring is formed. Is there a faster way than \n",
    "trying all 4<sup>4</sup> = 256 combinations?<br>"
   ]
  },
  {
   "cell_type": "markdown",
   "id": "be5b0f",
   "metadata": {
    "collapsed": false
   },
   "source": [
    "<br>\n",
    "&sect;10.3 #21)<br> \n",
    "Use <em>SageMath</em> to display the multiplication tables of all rings of order 6.<br>"
   ]
  },
  {
   "cell_type": "markdown",
   "id": "8139e6",
   "metadata": {
    "collapsed": false
   },
   "source": [
    "<br>\n",
    "&sect;10.4 #21)<br> \n",
    "The ring of Example 10.11,<br>"
   ]
  },
  {
   "cell_type": "code",
   "execution_count": 0,
   "id": "bc6108",
   "metadata": {
    "collapsed": false
   },
   "outputs": [
   ],
   "source": [
    "InitRing()\n",
    "AddRingVar(\"a\", \"b\")\n",
    "Define(4*a, 0); Define(2*b, 0)\n",
    "Define(a^2, a); Define(b^2, 0)\n",
    "Define(a*b, b); Define(b*a, 2*a)\n",
    "R = Ring(); R"
   ]
  },
  {
   "cell_type": "markdown",
   "id": "ec4460",
   "metadata": {
    "collapsed": false
   },
   "source": [
    "<br>\n",
    "also has an ideal <em>I</em><sub>2</sub> = {0, 2 <em>a</em> + <em>b</em>}.  Define a homomorphism from the ring <em>R</em> to <em>R</em>/<em>I</em><sub>2</sub>.<br>"
   ]
  },
  {
   "cell_type": "markdown",
   "id": "047af7",
   "metadata": {
    "collapsed": false
   },
   "source": [
    "<br>\n",
    "&sect;10.4 #22)<br> \n",
    "The ring of Example 10.11,<br>"
   ]
  },
  {
   "cell_type": "code",
   "execution_count": 0,
   "id": "18af13",
   "metadata": {
    "collapsed": false
   },
   "outputs": [
   ],
   "source": [
    "InitRing()\n",
    "AddRingVar(\"a\", \"b\")\n",
    "Define(4*a, 0); Define(2*b, 0)\n",
    "Define(a^2, a); Define(b^2, 0)\n",
    "Define(a*b, b); Define(b*a, 2*a)\n",
    "R = Ring(); R"
   ]
  },
  {
   "cell_type": "markdown",
   "id": "51c456",
   "metadata": {
    "collapsed": false
   },
   "source": [
    "<br>\n",
    "also has an ideal <em>I</em><sub>3</sub> = {0, <em>b</em>, 2 <em>a</em>, 2 <em>a</em> + <em>b</em>}.  Define a \n",
    "homomorphism from the ring <em>R</em> to <em>R</em>/<em>I</em><sub>3</sub>.<br>"
   ]
  },
  {
   "cell_type": "markdown",
   "id": "d16dac",
   "metadata": {
    "collapsed": false
   },
   "source": [
    "<br>\n",
    "&sect;10.4 #23)<br> \n",
    "Use <em>SageMath</em> to find a non-trivial homomorphism from the ring of Example 10.11,<br>"
   ]
  },
  {
   "cell_type": "code",
   "execution_count": 0,
   "id": "013501",
   "metadata": {
    "collapsed": false
   },
   "outputs": [
   ],
   "source": [
    "InitRing()\n",
    "AddRingVar(\"a\", \"b\")\n",
    "Define(4*a, 0); Define(2*b, 0)\n",
    "Define(a^2, a); Define(b^2, 0)\n",
    "Define(a*b, b); Define(b*a, 2*a)\n",
    "R = Ring(); R"
   ]
  },
  {
   "cell_type": "markdown",
   "id": "75a535",
   "metadata": {
    "collapsed": false
   },
   "source": [
    "<br>\n",
    "to itself, which is not an automorphism.<br>"
   ]
  },
  {
   "cell_type": "markdown",
   "id": "d11222",
   "metadata": {
    "collapsed": false
   },
   "source": [
    "</font>\n",
    "\n",
    "</body>\n",
    "\n",
    "</html>"
   ]
  }
 ],
 "metadata": {
  "kernelspec": {
   "argv": [
    "sage-10.0",
    "--python",
    "-m",
    "sage.repl.ipython_kernel",
    "--matplotlib=inline",
    "-f",
    "{connection_file}"
   ],
   "display_name": "SageMath 10.0",
   "env": {
   },
   "language": "sagemath",
   "metadata": {
    "cocalc": {
     "description": "Open-source mathematical software system",
     "priority": 10,
     "url": "https://www.sagemath.org/"
    }
   },
   "name": "sage-10.0",
   "resource_dir": "/ext/jupyter/kernels/sage-10.0"
  },
  "language_info": {
   "codemirror_mode": {
    "name": "ipython",
    "version": 3
   },
   "file_extension": ".py",
   "mimetype": "text/x-python",
   "name": "python",
   "nbconvert_exporter": "python",
   "pygments_lexer": "ipython3",
   "version": "3.7.10"
  }
 },
 "nbformat": 4,
 "nbformat_minor": 4
}