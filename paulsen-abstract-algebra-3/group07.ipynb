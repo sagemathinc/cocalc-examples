{
 "cells": [
  {
   "cell_type": "markdown",
   "id": "b3e8ae",
   "metadata": {
    "collapsed": false
   },
   "source": [
    "<!-- Group06 -->\n",
    "\n",
    "<html>\n",
    "<body>\n",
    "\n",
    "<!-- To make the size of the font bigger for presentations, change the following command from +1 to +2 -->\n",
    "\n",
    "<font size=\"+1\">\n",
    "\n",
    "<p style='font-size: 36px;font-family: Arial;font-style: italic;font-weight: bold;color: #FF00FF;background-color: #80FFFF;text-align: center;'>\n",
    "Abstract Algebra: An Interactive Approach, 3e\n",
    "</p>\n",
    "\n",
    "<p style='font-family: Geneva;font-style: italic;color: #0000FF;background-color: #FFFFFF;'>\n",
    "This notebook is provided with the textbook, &quot;Abstract Algebra: An Interactive Approach, 3rd Ed.&quot; by William Paulsen. Users of this notebook are encouraged to buy the textbook.\n",
    "</p>\n",
    "\n",
    "<p style='font-size: 36px;font-family: New York;font-weight: bold;color: #000000;background-color: #FFFFFF;text-align: center;border: 1px;border-style: \n",
    "solid;border-color: #000000;'>\n",
    "Chapter 7 : Building Larger Groups from Smaller Groups\n",
    "</p>\n",
    "\n",
    "<p style='text-align: center;'>Initialization:  This cell MUST be evaluated first:</p>\n",
    "\n"
   ]
  },
  {
   "cell_type": "code",
   "execution_count": 0,
   "id": "b5e16c",
   "metadata": {
    "collapsed": false
   },
   "outputs": [
   ],
   "source": [
    "load('absalgtext2.sage')"
   ]
  },
  {
   "cell_type": "markdown",
   "id": "f76b22",
   "metadata": {
    "collapsed": false
   },
   "source": [
    "<br>\n",
    "<a href=\"#sec71\">The Direct Product</a><br>\n",
    "<a href=\"#sec72\">The Fundemental Theorem of Finite Abelian Groups</a><br>\n",
    "<a href=\"#sec73\">Automorphisms</a><br>\n",
    "<a href=\"#sec74\">Semi-Direct Products</a><br>\n",
    "<a href=\"#sec7p\"><em>SageMath</em> Interactive Problems</a><br>"
   ]
  },
  {
   "cell_type": "markdown",
   "id": "97f678",
   "metadata": {
    "collapsed": false
   },
   "source": [
    "<a name=\"sec71\" id=\"sec71\"></a>\n",
    "<h1>The Direct Product</h1>\n",
    "\n",
    "<br>\n",
    "In this chapter, we will focus on forming larger groups using the smaller groups previously studied as building blocks. In this way, many important groups can be \n",
    "constructed. In fact, we will be able to construct <em>all</em> finite abelian groups using just the cyclic groups <em>Z</em><sub><em>n</em></sub>.<br><br>\n",
    " \n",
    "The first step in building larger groups is to understand how two groups can be combined. Let <em>H</em> and <em>K</em> be two groups, and let <em>G</em> be the set of \n",
    "all ordered pairs (<em>h</em>, <em>k</em>) such that <em>h</em> &isin; <em>H</em>  and <em>k</em> &isin; <em>K</em>.<br><br>\n",
    "\n",
    "We need to describe how to multiply two ordered pairs together. If (<em>h</em><sub>1</sub>, <em>k</em><sub>1</sub>) and (<em>h</em><sub>2</sub>, <em>k</em><sub>2</sub>) \n",
    "are two ordered pairs in <em>G</em>, the product could be defined in the natural way:\n",
    "<p style='text-align: center;'>(<em>h</em><sub>1</sub>, <em>k</em><sub>1</sub>)&middot;(<em>h</em><sub>2</sub>, <em>k</em><sub>2</sub>) = \n",
    "(<em>h</em><sub>1</sub>&middot;<em>h</em><sub>2</sub>, <em>k</em><sub>1</sub>&middot;<em>k</em><sub>2</sub>).</p>\n",
    "It is clear that the associate law would hold. If <em>e</em><sub>1</sub> is the identity element for <em>H</em> and <em>e</em><sub>2</sub> the identity element for \n",
    "<em>K</em>, then (<em>e</em><sub>1</sub>, <em>e</em><sub>2</sub>) would be the identity element of <em>G</em>.<br><br>\n",
    "\n",
    "Finally we can define the inverse of an ordered pair (<em>h</em>, <em>k</em>) to be (<em>h</em><sup>-1</sup>, <em>k</em><sup>-1</sup>). This is so\n",
    "<p style='text-align: center;'>(<em>h</em>, <em>k</em>)&middot;(<em>h</em><sup>-1</sup>, <em>k</em><sup>-1</sup>) = \n",
    "(<em>h</em><sup>-1</sup>, <em>k</em><sup>-1</sup>)&middot;(<em>h</em>, <em>k</em>) = (<em>e</em><sub>1</sub>, <em>e</em><sub>2</sub>).</p>\n",
    "Since the four properties of groups hold for the set <em>G</em> of ordered pairs (<em>h</em>, <em>k</em>), <em>G</em> forms a group.<br><br>\n",
    "\n",
    "DEFINITION 7.1<br>\n",
    "Given two groups <em>H</em> and <em>K</em>, the <em>direct product</em> of <em>H</em> and <em>K</em>, denoted <em>H</em> &times; <em>K</em>, is the group of ordered pairs \n",
    "(<em>h</em>, <em>k</em>) such that <em>h</em> &isin; <em>H</em>  and <em>k</em> &isin; <em>K</em>, with multiplication defined by\n",
    "<p style='text-align: center;'>(<em>h</em><sub>1</sub>, <em>k</em><sub>1</sub>)&middot;(<em>h</em><sub>2</sub>, <em>k</em><sub>2</sub>) = \n",
    "(<em>h</em><sub>1</sub>&middot;<em>h</em><sub>2</sub>, <em>k</em><sub>1</sub>&middot;<em>k</em><sub>2</sub>).</p>\n",
    "<br>\n",
    "\n",
    "EXAMPLE:<br>\n",
    "Let <em>H</em> = <em>Z</em><sub>4</sub>, and <em>K</em> = <em>Z</em><sub>2</sub>. Consider the direct product \n",
    "<em>G</em> = <em>Z</em><sub>4</sub> &times; <em>Z</em><sub>2</sub>.  Since <em>Z</em><sub>4</sub> consists of the elements {0,1,2,3} and <em>Z</em><sub>2</sub> consists \n",
    "of {0, 1}, the set of all ordered pairs (<em>h</em>, <em>k</em>) with <em>h</em> in <em>Z</em><sub>4</sub> and <em>k</em> in <em>Z</em><sub>2</sub> is \n",
    "<p style='text-align: center;'>{(0,0), (0,1), (1,0), (1,1), (2,0), (2,1), (3,0), (3,1)}.</p>\n",
    "Thus, we will have a group of order 8. Multiplication is performed component-wise in the two groups.  In order to define this group in <em>SageMath</em>, we first define \n",
    "the groups <em>Z</em><sub>4</sub> and <em>Z</em><sub>2</sub>.<br>"
   ]
  },
  {
   "cell_type": "code",
   "execution_count": 0,
   "id": "a7cb4b",
   "metadata": {
    "collapsed": false
   },
   "outputs": [
   ],
   "source": [
    "Z4 = ZGroup(4)\n",
    "Z2 = ZGroup(2)\n",
    "G = DirectProduct(Z4, Z2); G"
   ]
  },
  {
   "cell_type": "markdown",
   "id": "daf012",
   "metadata": {
    "collapsed": false
   },
   "source": [
    "<br>\n",
    "We can now look at the Cayley table.<br>"
   ]
  },
  {
   "cell_type": "code",
   "execution_count": 0,
   "id": "b2d793",
   "metadata": {
    "collapsed": false
   },
   "outputs": [
   ],
   "source": [
    "CayleyTable(G)"
   ]
  },
  {
   "cell_type": "markdown",
   "id": "8a68cb",
   "metadata": {
    "collapsed": false
   },
   "source": [
    "<br>\n",
    "Recall that in Chapter 5, we found that there were only 5 non-isomorphic groups of order 8: <em>Z</em><sub>8</sub>, <em>Z</em><sub>15</sub><sup>&ast;</sup>, \n",
    "<em>Z</em><sub>24</sub><sup>&ast;</sup>, <em>D</em><sub>4</sub>, and  <em>Q</em>.  Hence, this group must be isomorphic to one of these groups.  Notice that this group is\n",
    "commutative, so it is neither <em>Q</em> nor <em>D</em><sub>4</sub>. There is an element of order 4, namely (1,0), but there are no elements of order 8. Hence this group \n",
    "cannot be either  <em>Z</em><sub>8</sub> nor <em>Z</em><sub>24</sub><sup>&ast;</sup>. Since <em>Z</em><sub>15</sub><sup>&ast;</sup> is the only remaining possibility, this group \n",
    "must be isomorphic to <em>Z</em><sub>15</sub><sup>&ast;</sup>.<br>\n",
    "<br>\n",
    "\n",
    "EXPERIMENT:<br>\n",
    "Compare the group <em>Z</em><sub>4</sub> &times; <em>Z</em><sub>2</sub> given by the table<br>"
   ]
  },
  {
   "cell_type": "code",
   "execution_count": 0,
   "id": "6065a1",
   "metadata": {
    "collapsed": false
   },
   "outputs": [
   ],
   "source": [
    "CayleyTable(G)"
   ]
  },
  {
   "cell_type": "markdown",
   "id": "511b14",
   "metadata": {
    "collapsed": false
   },
   "source": [
    "<br>\n",
    "with the table for <em>Z</em><sub>15</sub><sup>&ast;</sup>, generated by the commands<br>"
   ]
  },
  {
   "cell_type": "code",
   "execution_count": 0,
   "id": "40bbdb",
   "metadata": {
    "collapsed": false
   },
   "outputs": [
   ],
   "source": [
    "M = ZStar(15); M"
   ]
  },
  {
   "cell_type": "code",
   "execution_count": 0,
   "id": "bf9211",
   "metadata": {
    "collapsed": false
   },
   "outputs": [
   ],
   "source": [
    "CayleyTable([M[0], M[1], M[2], M[3], M[4], M[5], M[6], M[7]])"
   ]
  },
  {
   "cell_type": "markdown",
   "id": "2d740c",
   "metadata": {
    "collapsed": false
   },
   "source": [
    "<br>\n",
    "Can you, by rearranging the elements in the last <strong>CayleyTable</strong> command, get the color pattern of this table to resemble the pattern for \n",
    "<em>Z</em><sub>4</sub> &times; <em>Z</em><sub>2</sub>?<br><br>\n",
    " \n",
    "Hint: Which element of <em>Z</em><sub>15</sub><sup>&ast;</sup> corresponds to (2,0)? What are the other elements of order 2?<br><br>"
   ]
  },
  {
   "cell_type": "markdown",
   "id": "400153",
   "metadata": {
    "collapsed": false
   },
   "source": [
    "In this example, we saw that the direct product of two commutative groups turned out to be commutative. This is, in fact, what generally happens."
   ]
  },
  {
   "cell_type": "markdown",
   "id": "438c2f",
   "metadata": {
    "collapsed": false
   },
   "source": [
    "<a name=\"prop71ret\" id=\"prop71ret\"></a>\n",
    "PROPOSITION 7.1<br>\n",
    "\n",
    "Let <em>H</em> and <em>K</em> be two groups. Then <em>H</em> <em>&times;</em> <em>K</em> is commutative if, and only if, both <em>H</em> and <em>K</em> \n",
    "are commutative.<br><br>\n",
    "\n",
    "<a href=\"#prop71\">Click here for the proof.</a>\n",
    "\n",
    "<p />\n",
    "It is easy to find the number of elements in a direct product. If <em>H</em> has order <em>n</em>, and <em>K</em> has order <em>m</em>, then the number of ordered pairs \n",
    "(<em>h</em>, <em>k</em>) would be <em>n</em>&middot;<em>m</em>.<br><br>\n",
    " \n",
    "We can generalize the direct product to a set of more than two groups. Let\n",
    "<p style='text-align: center;'><em>G</em><sub>1</sub>, <em>G</em><sub>2</sub>, <em>G</em><sub>3</sub>, &hellip;, <em>G<sub>n</sub></em></p>\n",
    "be a collection of <em>n</em> groups. Then we define\n",
    "<p style='text-align: center;'><em>G</em><sub>1</sub> &times; <em>G</em><sub>2</sub> &times; <em>G</em><sub>3</sub> &times; &middot;&middot;&middot; &times; \n",
    "<em>G<sub>n</sub></em></p>\n",
    "to be the set of ordered <em>n</em>-tuples (<em>g</em><sub>1</sub>, <em>g</em><sub>2</sub>, <em>g</em><sub>3</sub>, &hellip;, <em>g<sub>n</sub></em>) with \n",
    "multiplication defined by\n",
    "<p style='text-align: center;'>(<em>g</em><sub>1</sub>, <em>g</em><sub>2</sub>, &hellip;, <em>g<sub>n</sub></em>)&middot;(<em>h</em><sub>1</sub>, <em>h</em><sub>2</sub>, \n",
    "&hellip;, <em>h<sub>n</sub></em>) = (<em>g</em><sub>1</sub>&middot;<em>h</em><sub>1</sub>, <em>g</em><sub>2</sub>&middot;<em>h</em><sub>2</sub>, &hellip;, \n",
    "<em>g<sub>n</sub></em>&middot;<em>h<sub>n</sub></em>).</p>\n",
    "\n",
    "<br>\n",
    "The direct product of more than two groups can also be defined by taking the direct product of direct products. That is, given three groups <em>G</em>, <em>H</em>, and \n",
    "<em>K</em>, we can define\n",
    "<p style='text-align: center;'>(<em>G</em> &times; <em>H</em>) &times; <em>K</em> and <em>G</em> &times; (<em>H</em> &times; <em>K</em>)</p>\n",
    "using only the definition for the direct product of two groups. But it is trivial to see that the mappings\n",
    "<p style='text-align: center;'><em>&fnof;</em>: (<em>G</em> &times; <em>H</em>) &times; <em>K</em> &rarr; <em>G</em> &times; <em>H</em> &times; <em>K</em><br>\n",
    "<em>&#981;</em> : <em>G</em> &times; (<em>H</em> &times; <em>K</em>) &rarr; <em>G</em> &times; <em>H</em> &times; <em>K</em></p>\n",
    "given by\n",
    "<p style='text-align: center;'><em>&fnof;</em>(((<em>g</em>, <em>h</em>), <em>k</em>)) = (<em>g</em>, <em>h</em>, <em>k</em>)&emsp;and&emsp;\n",
    "<em>&#981;</em>((<em>g</em>, (<em>h</em>, <em>k</em>))) = (<em>g</em>, <em>h</em>, <em>k</em>)</p>\n",
    "are both surjective isomorphisms. Thus, \n",
    "<p style='text-align: center;'>(<em>G</em> &times; <em>H</em>) &times;  <em>K</em> &asymp; <em>G</em> &times; <em>H</em> &times; <em>K</em> &asymp; <em>G</em> &times; \n",
    "(<em>H</em> &times; <em>K</em>).</p>\n",
    "\n",
    "<br>\n",
    "It also should be noted that we have the natural mapping\n",
    "<p style='text-align: center;'><em>&#981;</em> : <em>H</em> &times; <em>K</em> &rarr; <em>K</em> &times; <em>H</em></p>\n",
    " given by \n",
    "<p style='text-align: center;'><em>&#981;</em>((<em>h</em>, <em>k</em>)) = (<em>k</em>, <em>h</em>).</p>\n",
    "This is clearly one-to one and onto, and is a homomorphism. Thus,\n",
    "<p style='text-align: center;'><em>H</em> &times; <em>K</em> &asymp; <em>K</em> &times; <em>H</em>.</p>\n",
    "This shows that the direct product between groups is a commutative operation, as well as associative. This suggests that some groups may be able to be expressed as a \n",
    "direct product of two or more smaller groups. If this is the case, then the order in which the smaller groups are combined would be irrelevant.<br><br>\n",
    "\n",
    "DEFINITION 7.2<br>\n",
    "Let <em>G</em> be a group. We say that <em>G</em> has a <em>decomposition</em> if\n",
    "<p style='text-align: center;'><em>G</em> &asymp; <em>H</em> &times; <em>K</em>,</p>\n",
    "where neither <em>H</em> nor <em>K</em> is the trivial group. <br><br>\n",
    "\n",
    "For example, we saw above that <em>Z</em><sub>15</sub><sup>&ast;</sup> had a decomposition, namely <em>Z</em><sub>4</sub> &times; <em>Z</em><sub>2</sub>.<br><br>\n",
    "\n",
    "EXPERIMENT:<br>\n",
    "Does the group <em>S</em><sub>3</sub> have a decomposition into a direct product? Why or why not?<br>"
   ]
  },
  {
   "cell_type": "markdown",
   "id": "38239d",
   "metadata": {
    "collapsed": false
   },
   "source": [
    "<br>\n",
    "We would like to find a way of testing whether a general group can be decomposed into smaller groups. In the case of <em>S</em><sub>3</sub>, we could use the fact that \n",
    "all smaller groups are abelian, along with Proposition 7.1 to show that <em>S</em><sub>3</sub> cannot have a decomposition. But for other groups, the\n",
    "problem is more difficult. The following theorem gives us a way to determine whether a given group has a decomposition."
   ]
  },
  {
   "cell_type": "markdown",
   "id": "f711e8",
   "metadata": {
    "collapsed": false
   },
   "source": [
    "<a name=\"theor71ret\" id=\"theor71ret\"></a>\n",
    "THEOREM 7.1:The Direct Product Theorem<br>\n",
    "\n",
    "Let <em>G</em> be a group with identity <em>e</em>, and let <em>H</em> and <em>K</em> be two subgroups of <em>G</em>. Suppose the following two statements are true:\n",
    "<br>\n",
    "<p style='text-align: center;'>1)&emsp; <em>H</em> &cap; <em>K</em> = {<em>e</em>}.</p>\n",
    "<p style='text-align: center;'>2)&emsp; <em>h</em>&middot;<em>k</em> = <em>k</em>&middot;<em>h</em> for all <em>h</em> &isin; <em>H</em> and <em>k</em> &isin; <em>K</em>.</p> \n",
    "<br>\n",
    "Then <em>H</em> &middot; <em>K</em>  &asymp; <em>H</em> &times; <em>K</em>.<br><br>\n",
    "\n",
    "<a href=\"#theor71\">Click here for the proof.</a>\n",
    "\n",
    "<p />\n",
    "We can use this theorem to find the direct product of two groups in <em>SageMath</em>.<br><br>\n",
    "\n",
    "EXAMPLE:<br>\n",
    "Generate the direct product <em>S</em><sub>3</sub> &times; <em>Z</em><sub>8</sub><sup>&ast;</sup> in <em>SageMath</em>.<br><br>\n",
    "\n",
    "We first must define the two groups in <em>SageMath</em> using the same identity and different letters for the generators. This way, the identity will be the \n",
    "only element in common between the two groups.<br><br>\n",
    " \n",
    "Let us define <em>S</em><sub>3</sub> in <em>SageMath</em>:<br>"
   ]
  },
  {
   "cell_type": "code",
   "execution_count": 0,
   "id": "6c227f",
   "metadata": {
    "collapsed": false
   },
   "outputs": [
   ],
   "source": [
    "InitGroup(\"e\")\n",
    "AddGroupVar(\"a\",\"b\")\n",
    "Define(a^3, e)\n",
    "Define(b^2, e)\n",
    "Define(b*a, a^2*b)\n",
    "H = Group(a, b); H"
   ]
  },
  {
   "cell_type": "markdown",
   "id": "2578cf",
   "metadata": {
    "collapsed": false
   },
   "source": [
    "<br>\n",
    "Now let us define <em>Z</em><sub>8</sub><sup>&ast;</sup>, using <em>c</em> and <em>d</em> for the two generators.<br>"
   ]
  },
  {
   "cell_type": "code",
   "execution_count": 0,
   "id": "5bca4f",
   "metadata": {
    "collapsed": false
   },
   "outputs": [
   ],
   "source": [
    "AddGroupVar(\"c\",\"d\")\n",
    "Define(c^2, e)\n",
    "Define(d^2, e)\n",
    "Define(d*c, c*d)\n",
    "K = Group(c, d); K"
   ]
  },
  {
   "cell_type": "markdown",
   "id": "983c53",
   "metadata": {
    "collapsed": false
   },
   "source": [
    "<br>\n",
    "Of course we did not use the <strong>InitGroup</strong> command before defining the second group because we want to define a single group involving all four \n",
    "generators.  By using e as the identity for both groups, we have that the intersection of <em>H</em> and <em>K</em> is <br>"
   ]
  },
  {
   "cell_type": "code",
   "execution_count": 0,
   "id": "2836bb",
   "metadata": {
    "collapsed": false
   },
   "outputs": [
   ],
   "source": [
    "Intersection(H, K)"
   ]
  },
  {
   "cell_type": "markdown",
   "id": "7dbccd",
   "metadata": {
    "collapsed": false
   },
   "source": [
    "<br>\n",
    "so the first condition of the direct product theorem is satisfied.<br><br>\n",
    "\n",
    "In order for the second condition of the direct product theorem to be satisfied, every element of <em>H</em> must commute with every element of <em>K</em>. This will be \n",
    "true as long as all of the <em>generators</em> of <em>H</em> commute with all of the <em>generators</em> of <em>K</em>. Since there are 2 generators of <em>H</em> and 2 \n",
    "of <em>K</em>, we can tell <em>SageMath</em> that the generators commute using 2&middot;2 = 4 definitions:<br>"
   ]
  },
  {
   "cell_type": "code",
   "execution_count": 0,
   "id": "19b4c7",
   "metadata": {
    "collapsed": false
   },
   "outputs": [
   ],
   "source": [
    "Define(c*a, a*c)\n",
    "Define(c*b, b*c)\n",
    "Define(d*a, a*d)\n",
    "Define(d*b, b*d)"
   ]
  },
  {
   "cell_type": "markdown",
   "id": "37c2ae",
   "metadata": {
    "collapsed": false
   },
   "source": [
    "<br>\n",
    "Note that we were consistent in the direction of these definitions. That is,\n",
    "we defined an element of the form <em>k</em>&middot;<em>h</em> to  <em>h</em>&middot;<em>k</em>, where <em>h</em>\n",
    "is in <em>H</em>, and <em>k</em> is in <em>K</em>.<br><br>\n",
    "According to the direct product theorem <em>H&middot;K</em> is now the same as <em>H</em> <em>&times;</em> <em>K</em>. Here, then, is \n",
    "the direct product:<br>"
   ]
  },
  {
   "cell_type": "code",
   "execution_count": 0,
   "id": "e0bdee",
   "metadata": {
    "collapsed": false
   },
   "outputs": [
   ],
   "source": [
    "H * K"
   ]
  },
  {
   "cell_type": "markdown",
   "id": "f1c757",
   "metadata": {
    "collapsed": false
   },
   "source": [
    "<br>\n",
    "Alternatively, we could find the smallest group that contains all of the generators:<br>"
   ]
  },
  {
   "cell_type": "code",
   "execution_count": 0,
   "id": "f3d93f",
   "metadata": {
    "collapsed": false
   },
   "outputs": [
   ],
   "source": [
    "G = Group(a, b, c, d); G"
   ]
  },
  {
   "cell_type": "markdown",
   "id": "9d43c5",
   "metadata": {
    "collapsed": false
   },
   "source": [
    "<br>\n",
    "We can check that the order of this direct product is<br>"
   ]
  },
  {
   "cell_type": "code",
   "execution_count": 0,
   "id": "c8f54c",
   "metadata": {
    "collapsed": false
   },
   "outputs": [
   ],
   "source": [
    "len(G)"
   ]
  },
  {
   "cell_type": "markdown",
   "id": "44344e",
   "metadata": {
    "collapsed": false
   },
   "source": [
    "<br>\n",
    "as expected, since <em>S</em><sub>3</sub> is of order 6, and <em>Z</em><sub>8</sub><sup>&ast;</sup> is of order 4. The multiplication table of this new group is given as<br>"
   ]
  },
  {
   "cell_type": "code",
   "execution_count": 0,
   "id": "80507e",
   "metadata": {
    "collapsed": false
   },
   "outputs": [
   ],
   "source": [
    "CayleyTable(G)"
   ]
  },
  {
   "cell_type": "markdown",
   "id": "22a9ad",
   "metadata": {
    "collapsed": false
   },
   "source": [
    "<br>\n",
    "We saw two other groups of order 24, namely <em>S</em><sub>4</sub> and the octahedral group. Yet these turned out to be isomorphic. Is this new group of order 24 \n",
    "possibly the same group?<br><br>\n",
    "\n",
    "Recall that the main tool we used for finding the isomorphism between the octahedral group and <em>S</em><sub>4</sub> was determining the orders of the elements in \n",
    "the groups. We defined <em>S</em><sub>4</sub> to be:<br>"
   ]
  },
  {
   "cell_type": "code",
   "execution_count": 0,
   "id": "bbf4fd",
   "metadata": {
    "collapsed": false
   },
   "outputs": [
   ],
   "source": [
    "S4 = Group(P(2,1), P(2,3,1), P(2,3,4,1)); S4"
   ]
  },
  {
   "cell_type": "markdown",
   "id": "a0aa71",
   "metadata": {
    "collapsed": false
   },
   "source": [
    "<br>\n",
    "To determine how many elements are of order 2, we can use the <em>R<sub>n</sub></em>(<em>G</em>) function from &sect;3.3<br>"
   ]
  },
  {
   "cell_type": "code",
   "execution_count": 0,
   "id": "cd99be",
   "metadata": {
    "collapsed": false
   },
   "outputs": [
   ],
   "source": [
    "RootCount(S4, 2)"
   ]
  },
  {
   "cell_type": "markdown",
   "id": "7c37dc",
   "metadata": {
    "collapsed": false
   },
   "source": [
    "<br>\n",
    "and see that there are 10 solutions to <em>x</em><sup>2</sup> = <em>e</em>, with one being the identity, so there are 9 elements of order 2. Now let us try this with <em>G</em> = <em>S</em><sub>3</sub> &times; <em>Z</em><sub>8</sub><sup>&ast;</sup>:<br>"
   ]
  },
  {
   "cell_type": "code",
   "execution_count": 0,
   "id": "762db0",
   "metadata": {
    "collapsed": false
   },
   "outputs": [
   ],
   "source": [
    "RootCount(G, 2)"
   ]
  },
  {
   "cell_type": "markdown",
   "id": "262878",
   "metadata": {
    "collapsed": false
   },
   "source": [
    "<br>\n",
    "So there are 15 elements of  <em>G</em> which are of order 2, as opposed to 9 elements in <em>S</em><sub>4</sub>.  Hence, these two groups are not isomorphic.<br><br>\n",
    "\n",
    "\n",
    "This example shows it would be helpful to know how to calculate <em>R<sub>n</sub></em>(<em>G</em>) for the direct product <em>G</em> = <em>H</em>&times;<em>K</em>.  Then we could determine \n",
    "whether or not two groups expressed as direct products were isomorphic."
   ]
  },
  {
   "cell_type": "markdown",
   "id": "438055",
   "metadata": {
    "collapsed": false
   },
   "source": [
    "<a name=\"prop72ret\" id=\"prop72ret\"></a>\n",
    "PROPOSITION 7.2<br>\n",
    "\n",
    "Let <em>H</em> and <em>K</em> be finite groups, and let <em>n</em> be a positive integer. Then\n",
    "<p style='text-align: center;'><em>R<sub>n</sub></em>(<em>H</em> &times; <em>K</em>) = <em>R<sub>n</sub></em>(<em>H</em>)&middot;<em>R<sub>n</sub></em>(<em>K</em>).</p>\n",
    "\n",
    "<a href=\"#prop72\">Click here for the proof.</a>\n",
    "\n",
    "<p />\n",
    "Let us use this proposition on the example <em>S</em><sub>3</sub> &times; <em>Z</em><sub>8</sub><sup>&ast;</sup>.  The number of elements of this group solve \n",
    "<em>x</em><sup>2</sup> = <em>e</em> is the product of the number of elements solving the equation in <em>S</em><sub>3</sub> and the number of such elements in \n",
    "<em>Z</em><sub>8</sub><sup>&ast;</sup>. Note that four of the six elements of <em>S</em><sub>3</sub> satisfy <em>x</em><sup>2</sup> = <em>e</em>, while all four elements \n",
    "of <em>Z</em><sub>8</sub><sup>&ast;</sup> satisfy the equation. Thus, there are 4&middot;4 = 16 elements of the product \n",
    "<em>S</em><sub>3</sub> &times; <em>Z</em><sub>8</sub><sup>&ast;</sup> whose square is the identity. One of these is the identity element, but the other 15 elements are of \n",
    "order 2. Thus, we can find the number of elements of a direct product of given order without having to use <em>SageMath</em>.<br><br>\n",
    "\n",
    "EXPERIMENT:<br>\n",
    "Use Proposition 7.2 to predict the number of elements of <em>S</em><sub>3</sub> &times; <em>Z</em><sub>8</sub><sup>&ast;</sup> which are of order 3 and of order 6. Then \n",
    "use <em>SageMath</em> to verify your predictions.<br>"
   ]
  },
  {
   "cell_type": "markdown",
   "id": "75656d",
   "metadata": {
    "collapsed": false
   },
   "source": [
    "<br>\n",
    "We will end this section by showing another way to test whether a group is a direct product of two of its subgroups."
   ]
  },
  {
   "cell_type": "markdown",
   "id": "c98d96",
   "metadata": {
    "collapsed": false
   },
   "source": [
    "<a name=\"cor71ret\" id=\"cor71ret\"></a>\n",
    "COROLLARY 7.1<br>\n",
    "Let <em>G</em> be a group with identity <em>e</em>, and let <em>H</em> and <em>K</em> be two <em>normal</em> subgroups of <em>G</em>. Then \n",
    "<p style='text-align: center;'>if <em>H</em> &cap; <em>K</em> = {<em>e</em>}, then <em>H</em>&middot;<em>K</em> &asymp; <em>H</em> &times; <em>K</em>.</p>\n",
    "\n",
    "<a href=\"#cor71\">Click here for the proof.</a>\n",
    "\n",
    "<p />\n",
    "This corollary is sometimes more useful than the direct product theorem, even though for abelian groups the two are equivalent, since all subgroups of abelian groups \n",
    "are normal. In the next section we will continue to study the decomposition of abelian groups, and find that <em>all</em> finite abelian groups can be decomposed uniquely \n",
    "into a certain form.<br><br>"
   ]
  },
  {
   "cell_type": "markdown",
   "id": "95718e",
   "metadata": {
    "collapsed": false
   },
   "source": [
    "<a name=\"sec72\" id=\"sec72\"></a>\n",
    "<h1>Fundamental Theorem of Finite Abelian Groups</h1>\n",
    "\n",
    "<br>\n",
    "In the last section we promised that we will be able to construct any finite abelian group using as building blocks the groups that we have already learned. \n",
    "In this section, we will show how that can be done by considering the direct products of the cyclic groups <em>Z<sub>n</sub></em>.  We will even be able to find the \n",
    "number of abelian groups of a given order. Let us begin with a simple example.<br><br>\n",
    "\n",
    "EXAMPLE:<br>\n",
    "Consider the group <em>Z</em><sub>6</sub> = {0, 1, 2, 3, 4, 5}. Can we express this as the direct product of two smaller groups? <br><br>\n",
    "\n",
    "Note that for abelian groups, the second condition of the direct product theorem is automatically satisfied, so we merely have to find two subgroups of  \n",
    "<em>Z</em><sub>6</sub> whose intersection is just the identity {0}, and whose product gives us the whole group.  With a group this small, it is easy to find \n",
    "<em>all</em> of the subgroups:\n",
    "<p style='text-align: center;'>{0},&emsp;&emsp;{0, 3},&emsp;&emsp;{0, 2, 4},&emsp; and &emsp;{0, 1, 2, 3, 4, 5}.</p>\n",
    "Thus, the only two candidates are the subgroups \n",
    "<p style='text-align: center;'><em>H</em> = {0, 3} &asymp; <em>Z</em><sub>2</sub>&emsp;and&emsp;<em>K</em> = {0, 2, 4} &asymp; <em>Z</em><sub>3</sub>.</p>\n",
    "\n",
    "\n",
    "<br>\n",
    "Since the intersection of these two subgroups is the identity, we have by the direct product theorem that <em>H</em>&middot;<em>K</em> &asymp; <em>H</em> &times; <em>K</em>.<br>\n",
    "\n",
    "Since <em>H</em> &times; <em>K</em> is of order 6, we have that <em>H</em> &middot; <em>K</em> is of order 6, and hence is <em>Z</em><sub>6</sub>.  Therefore,\n",
    "<p style='text-align: center;'><em>Z</em><sub>6</sub> &asymp; <em>Z</em><sub>2</sub> &times; <em>Z</em><sub>3</sub>.</p>\n",
    "\n",
    "\n",
    "<br>\n",
    " Let us check this using <em>SageMath</em>: <em>Z</em><sub>2</sub> and <em>Z</em><sub>3</sub> are easy to define.<br>"
   ]
  },
  {
   "cell_type": "code",
   "execution_count": 0,
   "id": "98d885",
   "metadata": {
    "collapsed": false
   },
   "outputs": [
   ],
   "source": [
    "Z2 = ZGroup(2); Z2"
   ]
  },
  {
   "cell_type": "code",
   "execution_count": 0,
   "id": "ee3d25",
   "metadata": {
    "collapsed": false
   },
   "outputs": [
   ],
   "source": [
    "Z3 = ZGroup(3); Z3"
   ]
  },
  {
   "cell_type": "markdown",
   "id": "eb6fdf",
   "metadata": {
    "collapsed": false
   },
   "source": [
    "<br>\n",
    "We can form the direct product<br>"
   ]
  },
  {
   "cell_type": "code",
   "execution_count": 0,
   "id": "dc3ba3",
   "metadata": {
    "collapsed": false
   },
   "outputs": [
   ],
   "source": [
    "G = DirectProduct(Z2, Z3); G"
   ]
  },
  {
   "cell_type": "markdown",
   "id": "d847d1",
   "metadata": {
    "collapsed": false
   },
   "source": [
    "<br>\n",
    "Here is the Cayley table:<br>"
   ]
  },
  {
   "cell_type": "code",
   "execution_count": 0,
   "id": "b6ba53",
   "metadata": {
    "collapsed": false
   },
   "outputs": [
   ],
   "source": [
    "CayleyTable(G)"
   ]
  },
  {
   "cell_type": "markdown",
   "id": "a993ab",
   "metadata": {
    "collapsed": false
   },
   "source": [
    "<br>\n",
    "We want to see if this group is isomorphic to <em>Z</em><sub>6</sub>. Thus, we want to find an element of order 6. By computing<br>"
   ]
  },
  {
   "cell_type": "code",
   "execution_count": 0,
   "id": "522f5b",
   "metadata": {
    "collapsed": false
   },
   "outputs": [
   ],
   "source": [
    "RootCount(G, 2)"
   ]
  },
  {
   "cell_type": "code",
   "execution_count": 0,
   "id": "b7a41b",
   "metadata": {
    "collapsed": false
   },
   "outputs": [
   ],
   "source": [
    "RootCount(G, 3)"
   ]
  },
  {
   "cell_type": "markdown",
   "id": "556370",
   "metadata": {
    "collapsed": false
   },
   "source": [
    "<br>\n",
    "we see that there is only one element of order 2, and 2 elements of order 3, so there must be two elements of order 6.  In fact, it is not hard to see that \n",
    "(1, 1) and (1, 2) are these elements.  From this information we can create an isomorphism. We let <em>F</em>\n",
    "be the homomorphism between <em>Z</em><sub>6</sub> and <em>Z</em><sub>2</sub> &times; <em>Z</em><sub>3</sub>.<br>"
   ]
  },
  {
   "cell_type": "code",
   "execution_count": 0,
   "id": "ae0dcf",
   "metadata": {
    "collapsed": false
   },
   "outputs": [
   ],
   "source": [
    "Z6 = ZGroup(6); Z6"
   ]
  },
  {
   "cell_type": "code",
   "execution_count": 0,
   "id": "6d5881",
   "metadata": {
    "collapsed": false
   },
   "outputs": [
   ],
   "source": [
    "F = Homomorph(Z6, G)"
   ]
  },
  {
   "cell_type": "code",
   "execution_count": 0,
   "id": "9241a8",
   "metadata": {
    "collapsed": false
   },
   "outputs": [
   ],
   "source": [
    "HomoDef(F, Z6[1], G[5])"
   ]
  },
  {
   "cell_type": "code",
   "execution_count": 0,
   "id": "30f4f5",
   "metadata": {
    "collapsed": false
   },
   "outputs": [
   ],
   "source": [
    "FinishHomo(F)"
   ]
  },
  {
   "cell_type": "markdown",
   "id": "c5d30e",
   "metadata": {
    "collapsed": false
   },
   "source": [
    "<br>\n",
    "So this in a homomorphism.  The image is<br>"
   ]
  },
  {
   "cell_type": "code",
   "execution_count": 0,
   "id": "1df3ee",
   "metadata": {
    "collapsed": false
   },
   "outputs": [
   ],
   "source": [
    "Image(F, Z6)"
   ]
  },
  {
   "cell_type": "markdown",
   "id": "b3f9b2",
   "metadata": {
    "collapsed": false
   },
   "source": [
    "<br>\n",
    "so <em>F</em> is surjective.  The kernel is<br>"
   ]
  },
  {
   "cell_type": "code",
   "execution_count": 0,
   "id": "995fdc",
   "metadata": {
    "collapsed": false
   },
   "outputs": [
   ],
   "source": [
    "Kernel(F)"
   ]
  },
  {
   "cell_type": "markdown",
   "id": "23020d",
   "metadata": {
    "collapsed": false
   },
   "source": [
    "<br>\n",
    "So <em>F</em> is also injective. Therefore, we have found the isomorphism from <em>Z</em><sub>6</sub> to <em>Z</em><sub>2</sub> &times; <em>Z</em><sub>3</sub>.<br>"
   ]
  },
  {
   "cell_type": "code",
   "execution_count": 0,
   "id": "903e36",
   "metadata": {
    "collapsed": false
   },
   "outputs": [
   ],
   "source": [
    "GraphHomo(F)"
   ]
  },
  {
   "cell_type": "markdown",
   "id": "46f061",
   "metadata": {
    "collapsed": false
   },
   "source": [
    "<br><br>\n",
    "EXPERIMENT:<br>\n",
    "Using the same technique as above, see if you can find a decomposition of <em>Z</em><sub>10</sub> into a direct product of smaller groups. Define the homomorphism \n",
    "between <em>Z</em><sub>10</sub> and the direct product, and show that the homomorphism is surjective and injective.<br>"
   ]
  },
  {
   "cell_type": "markdown",
   "id": "5f48ac",
   "metadata": {
    "collapsed": false
   },
   "source": [
    "<br>\n",
    " By observing the patterns in the decomposition of <em>Z</em><sub>6</sub> and <em>Z</em><sub>10</sub>, let us see if we can find a decomposition of any commutative \n",
    " group.<br><br>\n",
    " \n",
    "Observe the groups <em>H</em> = {0, 3} and <em>K</em> = {0, 2, 4} in the example of the decomposition of <em>Z</em><sub>6</sub>. Notice that <em>H</em> consists of all \n",
    "of the elements of <em>Z</em><sub>6</sub> such that <nobr><em>h</em><sup>2</sup> = 0.</nobr>  Also, <em>K</em> consists of all the elements such \n",
    "that <em>k</em><sup>3</sup> = 0. \n",
    "The fact that these two subgroups have only the identity in common is not a coincidence, as the next lemma shows:"
   ]
  },
  {
   "cell_type": "markdown",
   "id": "f74a78",
   "metadata": {
    "collapsed": false
   },
   "source": [
    "<a name=\"lem71ret\" id=\"lem71ret\"></a>\n",
    "LEMMA 7.1<br>\n",
    "\n",
    "Let <em>G</em> be an abelian group of order <em>m</em> <em>n</em>, where <em>m</em> and <em>n</em> are coprime. Then\n",
    "<p style='text-align: center;'><em>H</em> = {<em>h</em> &isin; <em>G</em> | <em>h<sup>m</sup></em> = <em>e</em>}</p>\n",
    "and\n",
    "<p style='text-align: center;'><em>K</em> = {<em>k</em> &isin; <em>G</em> | <em>k<sup>n</sup></em> = <em>e</em>}</p>\n",
    "are both subgroups of <em>G</em>, and <em>G</em> &asymp; <em>H</em> &times; <em>K</em>.<br><br>\n",
    "\n",
    "<a href=\"#lem71\">Click here for the proof.</a>\n",
    "\n",
    "<p />\n",
    "This lemma tells us that if an abelian group has an order that is a product of two coprime numbers, this group can be written as a direct product of two groups. \n",
    "Unfortunately, the lemma does not tell us that neither <em>H</em> nor <em>K</em> are trivial groups. As a result, we still have to ask whether this is a \n",
    "decomposition.<br><br>\n",
    "\n",
    "Here is an example to illustrate the possible problem that could occur. Suppose we know <em>G</em> is an abelian group of order 24. Since 24 = 8&middot;3, we could \n",
    "let <em>m</em> = 8, and <em>n</em> = 3 in Lemma 7.1.  Then <em>H</em> would consist of all elements of order 1, 2, 4, or 8, while <em>K</em> would consist of the elements \n",
    "of order 1 or 3. Then we would have\n",
    "<p style='text-align: center;'><em>G</em> &asymp; <em>H</em> &times; <em>K</em>.</p>\n",
    "\n",
    "<br>\n",
    "But what if <em>G</em> had no elements of order 3?  Then <em>K</em> would be just the identity element, and <em>H</em> would have to be all of <em>G</em>. Lemma 7.1 would \n",
    "hold, but since <em>H</em> and <em>K</em> are not proper subgroups, this would not give a decomposition of <em>G</em>. The next lemma will show that, in fact, \n",
    "<em>G</em> must have an element of order 3."
   ]
  },
  {
   "cell_type": "markdown",
   "id": "4050e6",
   "metadata": {
    "collapsed": false
   },
   "source": [
    "<a name=\"lem72ret\" id=\"lem72ret\"></a>\n",
    "LEMMA 7.2<br>\n",
    "\n",
    "If <em>G</em> is a finite abelian group and <em>p</em> is a prime that divides the order of <em>G</em>, then <em>G</em> has an element of order <em>p</em>.<br><br>\n",
    "\n",
    "<a href=\"#lem72\">Click here for the proof.</a>\n",
    "\n",
    "<p />\n",
    "This lemma is known as Cauchy's theorem for abelian groups. In fact, Cauchy's theorem is true for <em>all</em> groups, not just abelian groups. However, the result for abelian groups is good enough for us to \n",
    "proceed. <br><br>\n",
    " \n",
    "EXPERIMENT:<br>\n",
    "Since the Euler totient function of 35 is<br>"
   ]
  },
  {
   "cell_type": "code",
   "execution_count": 0,
   "id": "270743",
   "metadata": {
    "collapsed": false
   },
   "outputs": [
   ],
   "source": [
    "EulerPhi(35)"
   ]
  },
  {
   "cell_type": "markdown",
   "id": "e3276c",
   "metadata": {
    "collapsed": false
   },
   "source": [
    "<br>\n",
    "the group <br>"
   ]
  },
  {
   "cell_type": "code",
   "execution_count": 0,
   "id": "026627",
   "metadata": {
    "collapsed": false
   },
   "outputs": [
   ],
   "source": [
    "G = ZStar(35); G"
   ]
  },
  {
   "cell_type": "markdown",
   "id": "68c14d",
   "metadata": {
    "collapsed": false
   },
   "source": [
    "<br>\n",
    "is an abelian group with 24 elements.  Lemma 7.2 then tells us that there are elements of order 2 and of order 3. \n",
    "We can find the set of elements <em>H</em> such that <em>h</em><sup>3</sup> = 1, with the command<br>"
   ]
  },
  {
   "cell_type": "code",
   "execution_count": 0,
   "id": "e14ac7",
   "metadata": {
    "collapsed": false
   },
   "outputs": [
   ],
   "source": [
    "[x^3 for x in G]"
   ]
  },
  {
   "cell_type": "markdown",
   "id": "6fb09c",
   "metadata": {
    "collapsed": false
   },
   "source": [
    "<br>\n",
    "and the set of elements <em>K</em> such that <em>k</em><sup>8</sup> = 1 with<br>"
   ]
  },
  {
   "cell_type": "code",
   "execution_count": 0,
   "id": "4ab17b",
   "metadata": {
    "collapsed": false
   },
   "outputs": [
   ],
   "source": [
    "[x^8 for x in G]"
   ]
  },
  {
   "cell_type": "markdown",
   "id": "8e8625",
   "metadata": {
    "collapsed": false
   },
   "source": [
    "<br>\n",
    "and comparing this list with <em>G</em>.\n",
    "Show that <em>H</em>&middot;<em>K</em> = <em>Z</em><sub>35</sub><sup>&ast;</sup>, and hence <em>Z</em><sub>35</sub><sup>&ast;</sup> has the decomposition \n",
    "<em>H</em> &times; <em>K</em>.<br>"
   ]
  },
  {
   "cell_type": "markdown",
   "id": "e4d12a",
   "metadata": {
    "collapsed": false
   },
   "source": [
    "<br>\n",
    "This experiment demonstrates how Lemma 7.2 guarantees that the subgroups <em>H</em> and <em>K</em> generated by Lemma 7.1 must be proper subgroups. Notice that in \n",
    "this experiment, <em>H</em> contained 3 elements while <em>K</em> contained 8 elements. There seems to be a pattern: the number of elements of <em>G</em> satisfying\n",
    "<p style='text-align: center;'><em>x</em><sup>(<em>p&#8319;</em>)</sup> = <em>e</em>,</p>\n",
    "is <em>p<sup>n</sup></em> whenever <em>p</em> divides the order of <em>G</em> exactly <em>n</em> times. This apparent pattern can be shown to exist for all abelian groups. \n",
    "We thus have the following lemma:"
   ]
  },
  {
   "cell_type": "markdown",
   "id": "089124",
   "metadata": {
    "collapsed": false
   },
   "source": [
    "<a name=\"lem73ret\" id=\"lem73ret\"></a>\n",
    "LEMMA 7.3<br>\n",
    "\n",
    "Let <em>G</em> be an abelian group of order <em>p<sup>n</sup></em>&middot;<em>k</em> where <em>p</em> is prime, <em>k</em> is not divisible by <em>p</em>, and \n",
    "<em>n</em> > 0. Then there are subgroups <em>P</em> and <em>K</em> of <em>G</em> such that\n",
    "<p style='text-align: center;'><em>G</em> &asymp; <em>P</em> &times; <em>K</em>,</p>\n",
    "where |<em>P</em>| = <em>p<sup>n</sup></em> and |<em>K</em>| = <em>k</em>.<br><br>\n",
    "\n",
    "<a href=\"#lem73\">Click here for the proof.</a>\n",
    "\n",
    "<p />\n",
    "Lemma 7.3 is a tremendous help in finding the structure of abelian groups. For example, suppose we have an abelian group <em>G</em> of order 24. \n",
    "Since 24 = 2<sup>3</sup>&middot;3, Lemma 7.3 states that <em>G</em> is isomorphic to a direct product of a group of order 8 and a group of order 3. Since \n",
    "<em>Z</em><sub>3</sub> is the only group of order 3, and there are 3 abelian groups of order 8, namely \n",
    "<p style='text-align: center;'><em>Z</em><sub>8</sub>, <em>Z</em><sub>15</sub><sup>&ast;</sup>, and <em>Z</em><sub>24</sub><sup>&ast;</sup>,</p>\n",
    "we have that <em>G</em> must be isomorphic to one of the three groups \n",
    "<p style='text-align: center;'><em>Z</em><sub>8</sub> &times; <em>Z</em><sub>3</sub>, <em>Z</em><sub>15</sub><sup>&ast;</sup> &times; <em>Z</em><sub>3</sub>, \n",
    "and <em>Z</em><sub>24</sub><sup>&ast;</sup> &times; <em>Z</em><sub>3</sub>,</p>\n",
    "\n",
    "EXPERIMENT: <br>\n",
    "Since <em>Z</em><sub>35</sub><sup>&ast;</sup> is an abelian group with 24 elements, this must be isomorphic to one of the three groups mentioned above. \n",
    "Which of the three is it? <br>\n",
    "(Hint: first use <em>SageMath</em> to find <em>Z</em><sub>35</sub><sup>&ast;</sup>, and to determine the number of elements of order 2. Then use Proposition 7.2 to find the \n",
    "number of elements of order 2 for the three groups listed above.)<br>"
   ]
  },
  {
   "cell_type": "markdown",
   "id": "a78a83",
   "metadata": {
    "collapsed": false
   },
   "source": [
    "<br>\n",
    "We have seen that if we can find all abelian groups of order <em>p<sup>n</sup></em> for <em>p</em> a prime number, then we will be able to find all finite abelian groups. \n",
    "The next lemma is the key to finding all abelian groups whose order is a power of a prime."
   ]
  },
  {
   "cell_type": "markdown",
   "id": "8fe989",
   "metadata": {
    "collapsed": false
   },
   "source": [
    "<a name=\"lem74ret\" id=\"lem74ret\"></a>\n",
    "LEMMA 7.4<br>\n",
    "\n",
    "Suppose <em>P</em> is an abelian group of order <em>p<sup>n</sup></em>, where <em>p</em> is a prime. Let <em>x</em> be an element in <em>P</em> that has the maximal order \n",
    "of all of the elements of <em>P</em>.  Then\n",
    "<p style='text-align: center;'><em>P</em> &asymp; <em>X</em> &times; <em>T</em>,</p>\n",
    "where <em>X</em> is the cyclic group generated by <em>x</em>, <em>T</em> is a subgroup of <em>P</em>, and <em>X</em> &cap; <em>T</em> = {<em>e</em>}..<br><br>\n",
    "\n",
    "<a href=\"#lem74\">Click here for the proof.</a>\n",
    "\n",
    "<p />\n",
    "To give an illustration of how Lemma 7.4 is applied, consider the abelian groups of order 8. Lemma 7.4 states that these can be decomposed into cyclic groups. \n",
    "We have already seen that <em>Z</em><sub>15</sub><sup>&ast;</sup> was isomorphic to <em>Z</em><sub>4</sub> &times; <em>Z</em><sub>2</sub>, and <em>Z</em><sub>8</sub> is already \n",
    "a cyclic group.  Let's use Lemma 7.4 on the group <em>Z</em><sub>24</sub><sup>&ast;</sup>.<br><br>\n",
    "\n",
    "All non-identity elements of <em>Z</em><sub>24</sub><sup>&ast;</sup> are of order 2, so this is the maximal order. Thus, Lemma 7.4 states that \n",
    "<em>Z</em><sub>24</sub><sup>&ast;</sup> can be decomposed into <em>Z</em><sub>2</sub> and a group of order 4. Since \n",
    "<em>Z</em><sub>2</sub> &times; <em>Z</em><sub>4</sub> is isomorphic to <em>Z</em><sub>15</sub><sup>&ast;</sup>, the only other choice is \n",
    "<em>Z</em><sub>24</sub><sup>&ast;</sup> &asymp; <em>Z</em><sub>2</sub> &times; <em>Z</em><sub>8</sub><sup>&ast;</sup>.<br><br>\n",
    "\n",
    "Now we can apply Lemma 7.4 again to <em>Z</em><sub>8</sub><sup>&ast;</sup>.  This is of order 4, and all elements besides the identity are of order 2, so \n",
    "<em>Z</em><sub>8</sub><sup>&ast;</sup> can be decomposed into <em>Z</em><sub>2</sub> and a group of order 2, which must be <em>Z</em><sub>2</sub>.  Thus, \n",
    "<p style='text-align: center;'><em>Z</em><sub>8</sub><sup>&ast;</sup> &asymp; <em>Z</em><sub>2</sub> &times; <em>Z</em><sub>2</sub>,</p> \n",
    "and so\n",
    "<p style='text-align: center;'><em>Z</em><sub>24</sub><sup>&ast;</sup> &asymp; <em>Z</em><sub>2</sub> &times; <em>Z</em><sub>2</sub> &times; <em>Z</em><sub>2</sub>.</p>\n",
    "\n",
    "<br>\n",
    "It is clear how repeated use of Lemma 7.4 can decompose any abelian group into cyclic groups.  But now we want to address the issue as to whether a decomposition is \n",
    "<em>unique</em>. Is it possible for a group to be represented as a direct product of cyclic groups in two different ways?<br>\n",
    "<br>\n",
    "\n",
    "In one sense, the answer is yes, for \n",
    "<p style='text-align: center;'><em>Z</em><sub>12</sub> &times; <em>Z</em><sub>2</sub> &asymp; <em>Z</em><sub>6</sub> &times; <em>Z</em><sub>4</sub>.</p>\n",
    "Yet this doesn't give the whole story, since both of these can further decomposed:\n",
    "<p style='text-align: center;'><em>Z</em><sub>12</sub> &times; <em>Z</em><sub>2</sub> &asymp; <em>Z</em><sub>6</sub> &times; <em>Z</em><sub>4</sub> &asymp; \n",
    "<em>Z</em><sub>2</sub> &times; <em>Z</em><sub>3</sub> &times; <em>Z</em><sub>4</sub>.</p>\n",
    "So the question that we should ask is whether an abelian group can be decomposed in two different ways into groups which can not be decomposed further, that is, to the point where each factor is a cyclic group whose order is a power of a prime.  A way to reword \n",
    "this question is to ask whether two different decompositions are isomorphic. <br>\n",
    "<br>\n",
    "\n",
    "The main tool for testing whether two groups are\n",
    "isomorphic is to count elements of a given order. \n",
    "This can be accomplished by computing <em>R<sub>n</sub></em>(<em>G</em>) for various values of <em>n</em>.  It \n",
    "is natural to compute <em>R<sub>n</sub></em>(<em>G</em>) for a decomposition of cyclic groups."
   ]
  },
  {
   "cell_type": "markdown",
   "id": "880661",
   "metadata": {
    "collapsed": false
   },
   "source": [
    "<a name=\"lem75ret\" id=\"lem75ret\"></a>\n",
    "LEMMA 7.5<br>\n",
    "\n",
    "Let <em>p</em> be a prime number, and <em>G</em> be the direct product of cyclic groups\n",
    "<p style='text-align: center;'><em>G</em> = <em>Z</em><sub>(<em>p</em></sub><em>&#8341;</em><sub>&sup1;)</sub> &times; \n",
    "<em>Z</em><sub>(<em>p</em></sub><em>&#8341;</em><sub>&sup2;)</sub>  &times; <em>Z</em><sub>(<em>p</em></sub><em>&#8341;</em><sub>&sup3;)</sub> &times; &#8943; &times; \n",
    "<em>Z</em><sub>(<em>p</em></sub><em>&#8341;</em><sub><em>&#8319;</em>&thinsp;)</sub> &times; <em>Z&thinsp;&#8342;</em><sub>&#8321;</sub> &times; \n",
    "<em>Z&thinsp;&#8342;</em><sub>&#8322;</sub> &times; &#8943; &times; \n",
    "<em>Z&thinsp;&#8342;<sub>&#8344;</sub></em></p>\n",
    "where <em>h</em><sub>1</sub>, <em>h</em><sub>2</sub>, &hellip;, <em>h<sub>n</sub></em> are positive integers, and <em>k</em><sub>1</sub>, <em>k</em><sub>2</sub>, &hellip;,\n",
    "<em>k<sub>m</sub></em> are coprime to <em>p</em>. Then if <em>q</em> = <em>p<sup>x</sup></em>,\n",
    "<br><br>\n",
    "<table align=\"center\" border=\"0\" cellspacing=\"0\" cellpadding=\"0\">\n",
    "  <tr>\n",
    "     <td></td>\n",
    "     <td>&#9115;</td>\n",
    "     <td rowspan=\"2\"><font face=\"Times New Roman, Times, serif\" size=\"+2\">&sum;</font></td>\n",
    "     <td valign=\"top\"><em>n</em></td>\n",
    "     <td rowspan=\"2\" valign=\"middle\">&thinsp;Min(<em>h<sub>i</sub></em>, <em>x</em>)</td>\n",
    "     <td>&#9118;</td>\n",
    "  </tr>\n",
    "  <tr>\n",
    "     <td></td>\n",
    "     <td>&#9117;</td>\n",
    "     <td valign=\"bottom\"><em>i</em>=1</td>\n",
    "     <td>&#9120;</td>\n",
    "  </tr>\n",
    "  <tr>\n",
    "     <td><em>R<sub>q</sub></em>(G) = <em>p</em></td>\n",
    "     <td></td>\n",
    "     <td></td>\n",
    "     <td></td>\n",
    "     <td></td>\n",
    "     <td>&ensp;,</td>\n",
    "  </tr>         \n",
    "</table>\n",
    "<br> \n",
    "where Min(<em>h<sub>i</sub></em> , <em>x</em>) denotes the smaller of the two numbers <em>h<sub>i</sub></em> and <em>x</em>.<br><br>\n",
    "\n",
    "<a href=\"#lem75\">Click here for the proof.</a>\n",
    "\n",
    "<p />\n",
    "An example here would help to illustrate the power of Lemma 7.5. Suppose we are given the group\n",
    "<p style='text-align: center;'><em>G</em> = <em>Z</em><sub>3</sub> &times; <em>Z</em><sub>9</sub> &times; <em>Z</em><sub>9</sub> &times; <em>Z</em><sub>27</sub>.</p>\n",
    "How many elements are there of order 9?  Note that we can rewrite <em>G</em> as \n",
    "<p style='text-align: center;'><em>G</em> = <em>Z</em><sub>3&sup1;</sub> &times; <em>Z</em><sub>3&sup2;</sub> &times; <em>Z</em><sub>3&sup2;</sub> &times; \n",
    "<em>Z</em><sub>3&sup3;</sub>.</p>\n",
    "Thus, <em>h</em><sub>1</sub> = 1,  <em>h</em><sub>2</sub> = 2,  <em>h</em><sub>3</sub> = 2, and <em>h</em><sub>4</sub> = 3.  Since we want the elements of order 9 = 3<sup>2</sup>, we let <em>x</em> = 2.  Then\n",
    "<p style='text-align: center;'><span style='font-size: 24px;'>&sum;</span><sub>&thinsp;<em>i</em></sub>&thinsp; Min(<em>h<sub>i</sub></em>&thinsp;, \n",
    "<em>x</em>) = 1 + 2 + 2 + 2 = 7,</p>\n",
    "<br>\n",
    "so <em>R</em><sub>9</sub>(<em>G</em>) = 3<sup>7</sup>, meaning there are 2187 solutions to <em>g</em><sup>9</sup> = <em>e</em>.  However, not all of these elements will be of order 9, since this count also includes elements of order 3.  In order for <em>g</em> to be of order 9, it must \n",
    "satisfy <em>g</em><sup>9</sup> = <em>e</em> and <em>g</em><sup>3</sup> &ne; <em>e</em>.  Thus, we will apply the formula \n",
    "again with <em>x</em> = 1 to get\n",
    "<p style='text-align: center;'><span style='font-size: 24px;'>&sum;</span><sub>&thinsp;<em>i</em></sub>&thinsp; Min(<em>h<sub>i</sub></em>&thinsp;, \n",
    "<em>x</em>) = 1 + 1 + 1 + 1 = 4.</p>\n",
    "<br>\n",
    "So <em>R</em><sub>3</sub>(<em>G</em>) = 3<sup>4</sup>, and the total number of elements of <em>G</em> of order 9 is 3<sup>7</sup> &minus; 3<sup>4</sup> = 2106.<br><br>\n",
    "\n",
    "EXPERIMENT:<br>\n",
    "How many elements of <em>G</em> have order 27? (Use <em>x</em> = 3 instead of <em>x</em> = 2.)<br>"
   ]
  },
  {
   "cell_type": "markdown",
   "id": "a0e9cf",
   "metadata": {
    "collapsed": false
   },
   "source": [
    "<br>\n",
    "We are now ready to show that <em>all</em> finite abelian groups can be represented as the direct product of cyclic groups. However, we would like to show at the same time that \n",
    "such a representation is unique. To this end we will use the previous lemma in conjunction with the following."
   ]
  },
  {
   "cell_type": "markdown",
   "id": "1cf8d1",
   "metadata": {
    "collapsed": false
   },
   "source": [
    "<a name=\"lem76ret\" id=\"lem76ret\"></a>\n",
    "LEMMA 7.6<br>\n",
    "\n",
    "Let <em>G</em> be the direct product of cyclic groups\n",
    "<p style='text-align: center;'><em>Z</em><sub><em>q</em>&#8321;</sub> &times; <em>Z</em><sub><em>q</em>&#8322;</sub> \n",
    "&times; <em>Z</em><sub><em>q</em>&#8323;</sub> &times; &#8943; &times; <em>Z</em><sub><em>q&#8342;</em></sub> ,</p>\n",
    "where each <em>q<sub>i</sub></em> is a power of a prime.  Then for a given prime <em>p</em> and positive integer <em>x</em>, \n",
    "the number of <em>q<sub>i</sub></em> equal to <em>p<sup>x</sup></em> is given by the formula\n",
    "<p style='text-align: center;'>2 log<sub><em>p</em></sub>(<em>R<sub>p &#879;</sub></em> (<em>G</em>)) &minus;\n",
    "log<sub><em>p</em></sub>(<em>R<sub>p &#879; &#8315;&sup1;</sub></em> (<em>G</em>)) &minus;\n",
    "log<sub><em>p</em></sub>(<em>R<sub>p &#879; &#8314;&sup1;</sub></em> (<em>G</em>)).</p>\n",
    "\n",
    "<a href=\"#lem76\">Click here for the proof.</a>\n",
    "\n",
    "<p />\n",
    "We can now use Lemmas 7.3 through 7.6 to show that not only can a finite abelian group be decomposed into a direct product of cyclic groups, but that it can be \n",
    "decomposed into a standard form in a unique way, much as a positive integer can be uniquely decomposed into a product of prime numbers."
   ]
  },
  {
   "cell_type": "markdown",
   "id": "c84ed3",
   "metadata": {
    "collapsed": false
   },
   "source": [
    "<a name=\"theor72ret\" id=\"theor72ret\"></a>\n",
    "THEOREM 7.2: The Fundamental Theorem of Finite Abelian Groups<br>\n",
    "\n",
    "A nontrivial finite abelian group is isomorphic to\n",
    "<p style='text-align: center;'><em>Z</em><sub>(<em>p</em>&#8321;</sub><em>&#8341;</em><sub>&sup1;)</sub> &times; \n",
    "<em>Z</em><sub>(<em>p</em>&#8322;</sub><em>&#8341;</em><sub>&sup2;)</sub>  &times; <em>Z</em><sub>(<em>p</em>&#8323;</sub><em>&#8341;</em><sub>&sup3;)</sub> &times; \n",
    "&#8943; &times; <em>Z</em><sub>(<em>p&#8345;</em></sub><em>&#8341;</em><sub><em>&#8319;</em>&thinsp;)</sub>,</p>\n",
    "where <em>p</em><sub>1</sub>, <em>p</em><sub>2</sub>, <em>p</em><sub>3</sub>, &hellip; <em>p<sub>n</sub></em> are prime numbers (not necessarily distinct). Furthermore, \n",
    "this decomposition is unique up to the rearrangement of the factors.<br><br>\n",
    "\n",
    "<a href=\"#theor72\">Click here for the proof.</a>\n",
    "\n",
    "<p />\n",
    "From this theorem, we can easily find all non-isomorphic abelian groups of a given order. For example, to find all non-isomorphic abelian groups of order 16, we note that \n",
    "all such groups are direct products of the cyclic groups of orders 2, 4, 8, or 16. We want to find all possible combinations of 2, 4, 8, and 16 which will multiply to \n",
    "give 16. With a little experimenting, we find that there are five such combinations: \n",
    "<p style='text-align: center;'>2&middot;2&middot;2&middot;2,&emsp;&emsp;2&middot;2&middot;4,&emsp;&emsp;4&middot;4,&emsp;&emsp;2&middot;8,&emsp;&emsp;and&emsp;16.</p>\n",
    "Thus, there are 5 possible abelian groups of order 16:\n",
    "<p style='text-align: center;'><em>Z</em><sub>2</sub> &times; <em>Z</em><sub>2</sub> &times; <em>Z</em><sub>2</sub> &times; \n",
    "<em>Z</em><sub>2</sub>,&emsp;&emsp;<em>Z</em><sub>2</sub> &times; <em>Z</em><sub>2</sub> &times; <em>Z</em><sub>4</sub>,&emsp;&emsp;<em>Z</em><sub>4</sub> \n",
    "&times; <em>Z</em><sub>4</sub>,&emsp;&emsp;<em>Z</em><sub>2</sub> &times; <em>Z</em><sub>8</sub>, &emsp;&emsp;and&emsp;<em>Z</em><sub>16</sub>.</p>\n",
    "Since the fundamental theorem (7.2) also states that the representation is unique, these five groups must be non-isomorphic to each other.  Notice that there is a correlation between these five groups, and the five ways we can express the number 4 as a sum of positive integers:\n",
    "<p style='text-align: center;'>1 + 1 + 1 + 1 = 4<br>1 + 1 + 2 = 4<br>2 + 2 = 4<br>1 + 3 = 4<br>4 = 4</p>\n",
    "This leads us to a way of finding the number of non-isomorphic groups of order <em>p<sup>m</sup></em> for any <em>m</em>."
   ]
  },
  {
   "cell_type": "markdown",
   "id": "b41692",
   "metadata": {
    "collapsed": false
   },
   "source": [
    "<a name=\"cor72ret\" id=\"cor72ret\"></a>\n",
    "COROLLARY 7.2<br>\n",
    "\n",
    "Let <em>P</em>(<em>m</em>) denote the number of ways in which <em>m</em> can be expressed as a sum of positive integers, without regard to order. Then if <em>p</em> is \n",
    "a prime number, there are exactly <em>P</em>(<em>m</em>) non-isomorphic abelian groups of order <em>p<sup>m</sup></em>.<br><br>\n",
    "\n",
    "<a href=\"#cor72\">Click here for the proof.</a>\n",
    "\n",
    "<p />\n",
    "We call <em>P</em>(<em>m</em>) the number of <em>partitions</em> of <em>m</em>.  We can have <em>SageMath</em> count the number of partitions for us, using the command \n",
    "<strong>PartitionsP</strong>(<em>m</em>).  Thus, to find the number of partitions of the number 4, we can enter<br>"
   ]
  },
  {
   "cell_type": "code",
   "execution_count": 0,
   "id": "252b5b",
   "metadata": {
    "collapsed": false
   },
   "outputs": [
   ],
   "source": [
    "PartitionsP(4)"
   ]
  },
  {
   "cell_type": "markdown",
   "id": "38f46a",
   "metadata": {
    "collapsed": false
   },
   "source": [
    "<br>\n",
    "We can even have <em>SageMath</em> list all of the partitions for us<br>"
   ]
  },
  {
   "cell_type": "code",
   "execution_count": 0,
   "id": "46117f",
   "metadata": {
    "collapsed": false
   },
   "outputs": [
   ],
   "source": [
    "[i for i in Partitions(4)]"
   ]
  },
  {
   "cell_type": "markdown",
   "id": "46f1f7",
   "metadata": {
    "collapsed": false
   },
   "source": [
    "<br>\n",
    "Note that in the last command, we used <strong>Partitions</strong> instead of <strong>PartitionsP</strong>.<br><br>\n",
    "\n",
    "Here is a small table of values for <em>P</em>(<em>m</em>).<br><br>\n",
    "<table align=\"center\" width=\"180\" border=\"0\">\n",
    "   <tr>\n",
    "       <td align=\"right\"><em>P</em>(1)</td>\n",
    "     <td align=\"center\">=</td>\n",
    "     <td>1</td>\n",
    "   </tr>\n",
    "   <tr>\n",
    "     <td align=\"right\"><em>P</em>(2)</td>\n",
    "     <td align=\"center\">=</td>\n",
    "     <td>2</td>\n",
    "   </tr>\n",
    "   <tr>\n",
    "     <td align=\"right\"><em>P</em>(3)</td>\n",
    "     <td align=\"center\">=</td>\n",
    "     <td>3</td>\n",
    "   </tr>\n",
    "   <tr>\n",
    "     <td align=\"right\"><em>P</em>(4)</td>\n",
    "     <td align=\"center\">=</td>\n",
    "     <td>5</td>\n",
    "   </tr>\n",
    "   <tr>\n",
    "     <td align=\"right\"><em>P</em>(5)</td>\n",
    "     <td align=\"center\">=</td>\n",
    "     <td>7</td>\n",
    "   </tr>\n",
    "   <tr>\n",
    "     <td align=\"right\"><em>P</em>(6)</td>\n",
    "     <td align=\"center\">=</td>\n",
    "     <td>11</td>\n",
    "   </tr>\n",
    "   <tr>\n",
    "     <td align=\"right\"><em>P</em>(7)</td>\n",
    "     <td align=\"center\">=</td>\n",
    "     <td>15</td>\n",
    "   </tr>\n",
    "   <tr>\n",
    "     <td align=\"right\"><em>P</em>(8)</td>\n",
    "     <td align=\"center\">=</td>\n",
    "     <td>22</td>\n",
    "   </tr>\n",
    "   <tr>\n",
    "     <td align=\"right\"><em>P</em>(9)</td>\n",
    "     <td align=\"center\">=</td>\n",
    "     <td>30</td>\n",
    "   </tr>\n",
    "   <tr>\n",
    "     <td align=\"right\"><em>P</em>(10)</td>\n",
    "     <td align=\"center\">=</td>\n",
    "     <td>42</td>\n",
    "   </tr>\n",
    "   <tr>\n",
    "     <td align=\"right\"><em>P</em>(11)</td>\n",
    "     <td align=\"center\">=</td>\n",
    "     <td>56</td>\n",
    "   </tr>\n",
    "   <tr>\n",
    "     <td align=\"right\"><em>P</em>(12)</td>\n",
    "     <td align=\"center\">=</td>\n",
    "     <td>77</td>\n",
    "   </tr>\n",
    "   <tr>\n",
    "     <td align=\"right\"><em>P</em>(13)</td>\n",
    "     <td align=\"center\">=</td>\n",
    "     <td>101</td>\n",
    "   </tr>\n",
    "   <tr>\n",
    "     <td align=\"right\"><em>P</em>(14)</td>\n",
    "     <td align=\"center\">=</td>\n",
    "     <td>135</td>\n",
    "   </tr>\n",
    "   <tr>\n",
    "     <td align=\"right\"><em>P</em>(15)</td>\n",
    "     <td align=\"center\">=</td>\n",
    "     <td>176</td>\n",
    "   </tr>\n",
    "</table>\n",
    "<br>\n",
    "\n",
    "According to Corollary 7.2, the number of non-isomorphic abelian groups of order 3<sup>100</sup> is<br>"
   ]
  },
  {
   "cell_type": "code",
   "execution_count": 0,
   "id": "77633a",
   "metadata": {
    "collapsed": false
   },
   "outputs": [
   ],
   "source": [
    "PartitionsP(100)"
   ]
  },
  {
   "cell_type": "markdown",
   "id": "1b0ce4",
   "metadata": {
    "collapsed": false
   },
   "source": [
    "<br>\n",
    "We won't ask for the list of all of them here!  As we can see, the number of partitions of <em>m</em> grows very rapidly as <em>m</em> gets large. How rapidly?  We can make \n",
    "a logarithmic plot of the first 100 values of <em>P</em>(<em>m</em>) with the following command:<br>"
   ]
  },
  {
   "cell_type": "code",
   "execution_count": 0,
   "id": "0e1a0e",
   "metadata": {
    "collapsed": false
   },
   "outputs": [
   ],
   "source": [
    "list_plot([ln(PartitionsP(m)) for m in range(100)])"
   ]
  },
  {
   "cell_type": "markdown",
   "id": "049792",
   "metadata": {
    "collapsed": false
   },
   "source": [
    "<br>\n",
    "This looks like a sideways parabola, indicating that <em>P</em>(<em>m</em>) grows in about the same rate as \n",
    "<em>e</em><sup>&radic;<font style='text-decoration: overline'><em>m</em></font></sup>.<br><br>\n",
    "\n",
    "We can now find the number of non-isomorphic abelian groups of any order, as the following corollary shows."
   ]
  },
  {
   "cell_type": "markdown",
   "id": "41d5f4",
   "metadata": {
    "collapsed": false
   },
   "source": [
    "<a name=\"cor73ret\" id=\"cor73ret\"></a>\n",
    "COROLLARY 7.3<br>\n",
    "\n",
    "Let <em>m</em> > 1 be an integer with prime factorization\n",
    "<p style='text-align: center;'>\n",
    "<em>p</em><sub>1</sub><sup><em>h</em></sup>&sup1;&middot;<em>p</em><sub>2</sub><sup><em>h</em></sup>&sup2;&middot;<em>p</em><sub>3</sub><sup><em>h</em></sup>&sup3; \n",
    "&#8943; <em>p<sub>n</sub><sup>h</sup>&#8319;</em></p>\n",
    "where <em>p</em><sub>1</sub>, <em>p</em><sub>2</sub>, <em>p</em><sub>3</sub>, &hellip;, <em>p<sub>n</sub></em> are distinct primes.  Then the number of non-isomorphic \n",
    "abelian groups of order <em>m</em> is given by\n",
    "<p style='text-align: center;'><em>P</em>(<em>h</em><sub>1</sub>)&middot;<em>P</em>(<em>h</em><sub>2</sub>)&middot;<em>P</em>(<em>h</em><sub>3</sub>) &#8943; \n",
    "<em>P</em>(<em>h<sub>n</sub></em>).</p>\n",
    "\n",
    "<a href=\"#cor73\">Click here for the proof.</a>\n",
    "\n",
    "<p />\n",
    "\n",
    "EXAMPLE:<br>\n",
    "Suppose we want to find the number of non-isomorphic abelian groups of order 180 billion.  Since 180,000,000,000 = \n",
    "2<sup>11</sup>&middot;3<sup>2</sup>&middot;5<sup>10</sup>, we have that the number of groups is<br>"
   ]
  },
  {
   "cell_type": "code",
   "execution_count": 0,
   "id": "39083b",
   "metadata": {
    "collapsed": false
   },
   "outputs": [
   ],
   "source": [
    "PartitionsP(11)*PartitionsP(2)*PartitionsP(10)"
   ]
  },
  {
   "cell_type": "markdown",
   "id": "d8bcc0",
   "metadata": {
    "collapsed": false
   },
   "source": [
    "<br>\n",
    "So there are 4704 abelian groups of order 180 billion.<br><br>\n",
    "\n",
    "From these two corollaries, we see that all finite abelian groups have been classified. One of the outstanding problems in group theory is to classify <em>all</em> \n",
    "finite groups. This is as yet an unsolved problem although much progress has been made through the use of computers. In the next two sections we will show some other ways \n",
    "of generating larger groups which have become a key to some of the recent work that has been done in group theory.<br><br>"
   ]
  },
  {
   "cell_type": "markdown",
   "id": "0463d8",
   "metadata": {
    "collapsed": false
   },
   "source": [
    "<a name=\"sec73\" id=\"sec73\"></a>\n",
    "<h1>Automorphisms</h1>\n",
    "\n",
    "<br>\n",
    "We have already studied several examples of homomorphisms and isomorphisms <em>between</em> two groups, but suppose we considered a mapping from a \n",
    "group <em>to itself</em>.<br><br>\n",
    "\n",
    "EXAMPLE:<br>\n",
    "Find an isomorphism from <em>Z</em><sub>8</sub> onto itself.<br><br>\n",
    "\n",
    "We could consider the following mapping:<br>"
   ]
  },
  {
   "cell_type": "code",
   "execution_count": 0,
   "id": "0610ae",
   "metadata": {
    "collapsed": false
   },
   "outputs": [
   ],
   "source": [
    "Z8 = ZGroup(8)\n",
    "CircleGraph(Z8, Pow(3))"
   ]
  },
  {
   "cell_type": "markdown",
   "id": "e400fa",
   "metadata": {
    "collapsed": false
   },
   "source": [
    "<br>\n",
    "Notice that this mapping is one-to-one and onto, so in fact we could consider this as a permutation of the numbers 0 through 7, namely (1 3)(2 6)(5 7). However, to\n",
    "make this into a homomorphism in <em>SageMath</em>, we have to define a mapping that sends Z8[1] to Z8[3].<br>"
   ]
  },
  {
   "cell_type": "code",
   "execution_count": 0,
   "id": "8e29f6",
   "metadata": {
    "collapsed": false
   },
   "outputs": [
   ],
   "source": [
    "F = Homomorph(Z8, Z8)"
   ]
  },
  {
   "cell_type": "code",
   "execution_count": 0,
   "id": "50795c",
   "metadata": {
    "collapsed": false
   },
   "outputs": [
   ],
   "source": [
    "HomoDef(F, Z8[1], Z8[3])"
   ]
  },
  {
   "cell_type": "code",
   "execution_count": 0,
   "id": "062dd0",
   "metadata": {
    "collapsed": false
   },
   "outputs": [
   ],
   "source": [
    "FinishHomo(F)"
   ]
  },
  {
   "cell_type": "markdown",
   "id": "893a5c",
   "metadata": {
    "collapsed": false
   },
   "source": [
    "<br>\n",
    "This shows that we have a homomorphism.  Now we can see that <strong>F</strong> is the same mapping as <strong>Pow</strong>(3)<br>"
   ]
  },
  {
   "cell_type": "code",
   "execution_count": 0,
   "id": "1233f7",
   "metadata": {
    "collapsed": false
   },
   "outputs": [
   ],
   "source": [
    "CircleGraph(Z8, F)"
   ]
  },
  {
   "cell_type": "markdown",
   "id": "0990d9",
   "metadata": {
    "collapsed": false
   },
   "source": [
    "<br>\n",
    "We see that <strong>F</strong> is a homomorphism from <em>Z</em><sub>8</sub> onto itself. We give such a homomorphism a special name.<br><br>\n",
    "\n",
    "DEFINITION 7.3<br>\n",
    "An <em>automorphism</em> of the group <em>G</em> is a homomorphism from <em>G</em> to <em>G</em> which is one-to-one and onto.<br><br>\n",
    "\n",
    "If we study the above automorphism <em>&fnof;</em> on <em>Z</em><sub>8</sub>, we discover why this works. Recall that the operation of this group is addition modulo \n",
    "8.  Hence the mapping <em>x</em> &rarr; <em>x</em><sup>3</sup> in <em>Z</em><sub>8</sub> will send each number <em>x</em> to (3 <em>x</em>) <strong>mod</strong> 8. Therefore,\n",
    "<p style='text-align: center;'><em>&fnof;</em>(<em>x</em>&middot;<em>y</em>) = <em>&fnof;</em>((<em>x</em> + <em>y</em>) <strong>mod</strong> 8) = \n",
    "(3(<em>x</em> + <em>y</em>) <strong>mod</strong> 8 = \n",
    "(3<em>x</em> + 3<em>y</em>) <strong>mod</strong> 8 = <em>&fnof;</em>(<em>x</em>)&middot;<em>&fnof;</em>(<em>y</em>).</p>\n",
    "\n",
    "<br>\n",
    "By observing this pattern, we find another automorphism <em>G</em> of <em>Z</em><sub>8</sub> by letting <em>G</em> send <em>x</em> into <em>x</em><sup>5</sup> = \n",
    "(5 <em>x</em>) <strong>mod</strong> 8. The graph of \n",
    "<em>G</em> would be given by<br>"
   ]
  },
  {
   "cell_type": "code",
   "execution_count": 0,
   "id": "d4604b",
   "metadata": {
    "collapsed": false
   },
   "outputs": [
   ],
   "source": [
    "G = Homomorph(Z8, Z8)\n",
    "HomoDef(G, Z8[1], Z8[5])\n",
    "FinishHomo(G)"
   ]
  },
  {
   "cell_type": "code",
   "execution_count": 0,
   "id": "a3a8af",
   "metadata": {
    "collapsed": false
   },
   "outputs": [
   ],
   "source": [
    "CircleGraph(Z8, G)"
   ]
  },
  {
   "cell_type": "markdown",
   "id": "2a9fdf",
   "metadata": {
    "collapsed": false
   },
   "source": [
    "<br>\n",
    "So we have found 2 automorphisms on <em>Z</em><sub>8</sub>, one which acts like the permutation P(3,6,1,4,7,2,5) and the other acting like P(5,2,7,4,1,6,3). But we \n",
    "can multiply these permutations together to form a third permutation.<br><br>\n",
    "\n",
    "EXPERIMENT:<br>\n",
    "Is the permutation<br>"
   ]
  },
  {
   "cell_type": "code",
   "execution_count": 0,
   "id": "4e2d78",
   "metadata": {
    "collapsed": false
   },
   "outputs": [
   ],
   "source": [
    "P(3,6,1,4,7,2,5)*P(5,2,7,4,1,6,3)"
   ]
  },
  {
   "cell_type": "markdown",
   "id": "5172cc",
   "metadata": {
    "collapsed": false
   },
   "source": [
    "<br>\n",
    "represent a homomorphism of <em>Z</em><sub>8</sub>?  Define <strong>H</strong> to be the new function sending <strong>Z8[1]</strong> to <strong>Z8[7]</strong>.<br>"
   ]
  },
  {
   "cell_type": "markdown",
   "id": "357313",
   "metadata": {
    "collapsed": false
   },
   "source": [
    "<br>\n",
    "This experiment suggests that the product of two automorphisms is again an automorphism.  We can formally define\n",
    "the product of two automorphisms <em>&fnof;</em>(<em>x</em>) and <em>&#981;</em>(<em>x</em>) as \n",
    "(<em>&fnof;</em>&middot;<em>&#981;</em>)(<em>x</em>) = <em>&fnof;</em>(<em>&#981;</em>(<em>x</em>)).  \n",
    "<br><br>\n",
    "But there are some other patterns of the automorphisms that we can \n",
    "observe.  Because an automorphism <em>&fnof;</em>(<em>x</em>) on <em>G</em> is a one-to-one and onto mapping, we can consider the inverse \n",
    "mapping <em>&fnof;</em><sup>&minus;1</sup>(<em>x</em>).  \n",
    "For example, the inverse to the automorphism <em>F</em> is denoted by the permutation<br>"
   ]
  },
  {
   "cell_type": "code",
   "execution_count": 0,
   "id": "07b749",
   "metadata": {
    "collapsed": false
   },
   "outputs": [
   ],
   "source": [
    "P(3,6,1,4,7,2,5)^(-1)"
   ]
  },
  {
   "cell_type": "markdown",
   "id": "8e9155",
   "metadata": {
    "collapsed": false
   },
   "source": [
    "<br>\n",
    "In this case, the inverse of <strong>F</strong> is again <strong>F</strong>, which is an automorphism.<br><br>\n",
    "\n",
    "EXPERIMENT:<br>\n",
    "Are the inverses of <em>G</em> and <em>H</em> again automorphisms? Which automorphisms are they?<br>"
   ]
  },
  {
   "cell_type": "markdown",
   "id": "b9d671",
   "metadata": {
    "collapsed": false
   },
   "source": [
    "<br>\n",
    "Since we seem to be able to multiply two automorphisms together and take inverses, the natural question comes up, which is answered in the next proposition."
   ]
  },
  {
   "cell_type": "markdown",
   "id": "ade39c",
   "metadata": {
    "collapsed": false
   },
   "source": [
    "<a name=\"prop73ret\" id=\"prop73ret\"></a>\n",
    "PROPOSITION 7.3<br>\n",
    "\n",
    "Given a group <em>G</em>, the set of all automorphisms on <em>G</em> forms a group, denoted Aut(<em>G</em>). In fact, Aut(<em>G</em>) is a subgroup of the group \n",
    "of permutations on the elements of <em>G</em>.<br><br>\n",
    "\n",
    "<a href=\"#prop73\">Click here for the proof.</a>\n",
    "\n",
    "<p />\n",
    "\n",
    "EXAMPLE:<br>\n",
    "Find the automorphism group for <em>Z</em><sub>8</sub>.<br><br>  \n",
    "\n",
    "We have two elements already, which we can express in terms of permutations.  Let's find \n",
    "the group generated by these two permutations:<br>"
   ]
  },
  {
   "cell_type": "code",
   "execution_count": 0,
   "id": "9d8bbc",
   "metadata": {
    "collapsed": false
   },
   "outputs": [
   ],
   "source": [
    "A = Group(P(3,6,1,4,7,2,5),P(5,2,7,4,1,6,3)); A"
   ]
  },
  {
   "cell_type": "markdown",
   "id": "c34d2a",
   "metadata": {
    "collapsed": false
   },
   "source": [
    "<br>\n",
    "So Aut(<em>Z</em><sub>8</sub>) has at least four elements. Is this the maximum number of automorphisms? Notice that 1 is of order 8 in <em>Z</em><sub>8</sub>, so it must \n",
    "be mapped to an element of order 8, namely 1, 3, 5, or 7.  But since 1 is a generator of the group, any automorphism is determined by where the generator is mapped to.\n",
    "Hence, there are at most four automorphisms of <em>Z</em><sub>8</sub>. Since we have already found four, we must have found all of them!<br><br>\n",
    "\n",
    "Since we have Aut(<em>Z</em><sub>8</sub>) is a group of order 4, the natural question is which group is this isomorphic to? Here is a Cayley table for <strong>A</strong>:<br>"
   ]
  },
  {
   "cell_type": "code",
   "execution_count": 0,
   "id": "f93727",
   "metadata": {
    "collapsed": false
   },
   "outputs": [
   ],
   "source": [
    "CayleyTable(A)"
   ]
  },
  {
   "cell_type": "markdown",
   "id": "28595f",
   "metadata": {
    "collapsed": false
   },
   "source": [
    "<br>\n",
    "From this, we see that all elements of <strong>A</strong> besides the identity are of order 2.  So\n",
    "<p style='text-align: center;'>Aut(<em>Z</em><sub>8</sub>) &asymp; <em>Z</em><sub>2</sub> &times; <em>Z</em><sub>2</sub> &asymp; <em>Z</em><sub>8</sub><sup>&ast;</sup>.</p>\n",
    "We can use a similar argument to find the automorphism group for any cyclic group."
   ]
  },
  {
   "cell_type": "markdown",
   "id": "dc909d",
   "metadata": {
    "collapsed": false
   },
   "source": [
    "<a name=\"prop74ret\" id=\"prop74ret\"></a>\n",
    "PROPOSITION 7.4\n",
    "\n",
    "<p style='text-align: center;'>Aut(<em>Z<sub>n</sub></em>) &asymp; <em>Z<sub>n</sub></em><sup>&ast;</sup>.</p>\n",
    "<a href=\"#prop74\">Click here for the proof.</a>\n",
    "\n",
    "<p />\n",
    "So far, the automorphism group is smaller than the original group, but the goal of this chapter is to form larger groups. Let us\n",
    "consider a non-cyclic group.<br><br>\n",
    "\n",
    "EXAMPLE:<br>\n",
    "Find the set of automorphisms on the group <em>Z</em><sub>8</sub><sup>&ast;</sup>.<br><br> \n",
    "\n",
    "First define this group in <em>SageMath</em>, using two generators:<br>"
   ]
  },
  {
   "cell_type": "code",
   "execution_count": 0,
   "id": "0f534f",
   "metadata": {
    "collapsed": false
   },
   "outputs": [
   ],
   "source": [
    "InitGroup(\"e\")\n",
    "AddGroupVar(\"a\",\"b\")\n",
    "Define(a^2, e)\n",
    "Define(b^2, e)\n",
    "Define(b*a, a*b)\n",
    "G = Group(a, b); G"
   ]
  },
  {
   "cell_type": "markdown",
   "id": "9e7306",
   "metadata": {
    "collapsed": false
   },
   "source": [
    "<br>\n",
    "A good strategy for finding all of the automorphisms is to first determine an upper bound for the number of automorphisms. \n",
    "Suppose <em>&fnof;</em> is an automorphism. Then <em>&fnof;</em>(<em>e</em>) = <em>e</em>, but all other elements are of order 2.  Hence, any of the other elements \n",
    "might map to each other in any way. For example, <em>&fnof;</em>(<em>a</em>) might be <em>a</em>, <em>b</em>, or <em>a</em>&middot;<em>b</em>. \n",
    "Once we know where <em>a</em> is mapped, <em>&fnof;</em>(<em>b</em>) might be either of the other two elements. However, once we know \n",
    "<em>&fnof;</em>(<em>a</em>) and <em>&fnof;</em>(<em>b</em>), then <em>&fnof;</em>(<em>a</em>&middot;<em>b</em>) must be \n",
    "<em>&fnof;</em>(<em>a</em>)&middot;<em>&fnof;</em>(<em>b</em>).  Thus, there are at most 3&middot;2 = 6 elements of Aut(<em>Z</em><sub>8</sub><sup>&ast;</sup>).  \n",
    "If we find that there are indeed this many automorphisms, then Aut(<em>Z</em><sub>8</sub><sup>&ast;</sup>) would be larger than <em>Z</em><sub>8</sub><sup>&ast;</sup>.<br><br>\n",
    "\n",
    "Here would be a possible automorphism:\n",
    "<table align=\"center\" border=\"0\">\n",
    "   <tr>\n",
    "     <td align=\"right\"><em>&fnof;</em>(<em>e</em>)</td>\n",
    "     <td align=\"center\">=</td>\n",
    "     <td><em>e</em></td>\n",
    "   </tr>\n",
    "   <tr>\n",
    "     <td align=\"right\"><em>&fnof;</em>(<em>a</em>)</td>\n",
    "     <td align=\"center\">=</td>\n",
    "     <td><em>b</em></td>\n",
    "   </tr>\n",
    "   <tr>\n",
    "     <td align=\"right\"><em>&fnof;</em>(<em>b</em>)</td>\n",
    "     <td align=\"center\">=</td>\n",
    "     <td><em>a</em></td>\n",
    "   </tr>\n",
    "   <tr>\n",
    "     <td align=\"right\"><em>&fnof;</em>(<em>a</em>&middot;<em>b</em>)</td>\n",
    "     <td align=\"center\">=</td>\n",
    "     <td><em>a</em>&middot;<em>b</em></td>\n",
    "   </tr>\n",
    "</table>\n",
    "We can define this as a homomorphism is <em>SageMath</em>.<br>"
   ]
  },
  {
   "cell_type": "code",
   "execution_count": 0,
   "id": "be5861",
   "metadata": {
    "collapsed": false
   },
   "outputs": [
   ],
   "source": [
    "F = Homomorph(G, G)\n",
    "HomoDef(F, a, b)\n",
    "HomoDef(F, b, a)\n",
    "FinishHomo(F)"
   ]
  },
  {
   "cell_type": "code",
   "execution_count": 0,
   "id": "e8e224",
   "metadata": {
    "collapsed": false
   },
   "outputs": [
   ],
   "source": [
    "CircleGraph(G, F)"
   ]
  },
  {
   "cell_type": "markdown",
   "id": "9a19c6",
   "metadata": {
    "collapsed": false
   },
   "source": [
    "<br>\n",
    "Let us represent this automorphism as a permutation on the elements of <em>Z</em><sub>8</sub><sup>&ast;</sup>.  There is not a natural numbering of the elements, so it would \n",
    "be difficult to use the <strong>P[ ]</strong> notation. However, we still can use the notation of cycles, and say that <em>&fnof;</em> is the \n",
    "2-cycle (<em>a</em> <em>b</em>). Note that we are using the cycle notation with <em>elements</em> instead of numbers.  We are allowed to do this in <em>SageMath</em>, and so \n",
    "we can enter this function as follows:<br>"
   ]
  },
  {
   "cell_type": "code",
   "execution_count": 0,
   "id": "fc76b8",
   "metadata": {
    "collapsed": false
   },
   "outputs": [
   ],
   "source": [
    "f = C(a, b); f"
   ]
  },
  {
   "cell_type": "markdown",
   "id": "ca068b",
   "metadata": {
    "collapsed": false
   },
   "source": [
    "<br>\n",
    "In fact, we can still use the CircleGraph command to graph this function:<br>"
   ]
  },
  {
   "cell_type": "code",
   "execution_count": 0,
   "id": "cf0579",
   "metadata": {
    "collapsed": false
   },
   "outputs": [
   ],
   "source": [
    "CircleGraph(G, f)"
   ]
  },
  {
   "cell_type": "markdown",
   "id": "f10c07",
   "metadata": {
    "collapsed": false
   },
   "source": [
    "<br>\n",
    "Let us consider another automorphism having <em>&fnof;</em>(<em>a</em>) = <em>a</em>, but having <em>&fnof;</em>(<em>b</em>) = <em>a</em>&middot;<em>b</em>.<br>"
   ]
  },
  {
   "cell_type": "code",
   "execution_count": 0,
   "id": "f75ca6",
   "metadata": {
    "collapsed": false
   },
   "outputs": [
   ],
   "source": [
    "H = Homomorph(G, G)\n",
    "HomoDef(H, a, a)\n",
    "HomoDef(H, b, a*b)\n",
    "FinishHomo(H)"
   ]
  },
  {
   "cell_type": "code",
   "execution_count": 0,
   "id": "6075a9",
   "metadata": {
    "collapsed": false
   },
   "outputs": [
   ],
   "source": [
    "CircleGraph(G, H)"
   ]
  },
  {
   "cell_type": "markdown",
   "id": "9a6647",
   "metadata": {
    "collapsed": false
   },
   "source": [
    "<br>\n",
    "We see from the circle graph that this is indeed an automorphism, and can be represented by the cycle (<em>b</em> <em>a</em>&middot;<em>b</em>).<br>"
   ]
  },
  {
   "cell_type": "code",
   "execution_count": 0,
   "id": "962883",
   "metadata": {
    "collapsed": false
   },
   "outputs": [
   ],
   "source": [
    "h = C(b, a*b)\n",
    "CircleGraph(G, h)"
   ]
  },
  {
   "cell_type": "markdown",
   "id": "ca6e01",
   "metadata": {
    "collapsed": false
   },
   "source": [
    "<br>\n",
    "The advantage of using cycles instead of functions is that we can now form the group generated by these two automorphisms<br>"
   ]
  },
  {
   "cell_type": "code",
   "execution_count": 0,
   "id": "65b38f",
   "metadata": {
    "collapsed": false
   },
   "outputs": [
   ],
   "source": [
    "A = Group(f, h); A"
   ]
  },
  {
   "cell_type": "markdown",
   "id": "7064c8",
   "metadata": {
    "collapsed": false
   },
   "source": [
    "<br>\n",
    "This gives us six elements, which is the maximum number of automorphisms we can have. Thus, <em>A</em> is Aut(<em>Z</em><sub>8</sub><sup>&ast;</sup>). Therefore, we have \n",
    "found that the automorphism group is sometimes larger than the original group.<br><br>\n",
    " \n",
    "Which group is this? It is not hard to recognize <em>A</em> as the permutation group on the elements <em>a</em>, <em>b</em>, and <em>a</em>&middot;<em>b</em>.  Thus, \n",
    "Aut(<em>Z</em><sub>8</sub><sup>&ast;</sup>) is isomorphic to <em>S</em><sub>3</sub>.<br><br>\n",
    "\n",
    "For non-commutative groups, there is a quick way to find many of the automorphisms.\n",
    "Let <em>G</em> be a non-commutative group, and let <em>x</em> be any element in <em>G</em>. The mapping <em>f<sub>x</sub></em> : <em>G</em> &rarr; <em>G</em> defined by\n",
    "<p style='text-align: center;'><em>f<sub>x</sub></em>(<em>y</em>) = <em>x</em>&middot;<em>y</em>&middot;<em>x</em><sup>-1</sup></p>\n",
    "will always be an automorphism, for\n",
    "<p style='text-align: center;'><em>f<sub>x</sub></em>(<em>y</em>&middot;<em>z</em>) = <em>x</em>&middot;<em>y</em>&middot;<em>z</em>&middot;<em>x</em><sup>-1</sup> =\n",
    " (<em>x</em>&middot;<em>y</em>&middot;<em>x</em><sup>-1</sup>)&middot;(<em>x</em>&middot;<em>z</em>&middot;<em>x</em><sup>-1</sup>) = <em>f<sub>x</sub></em>(<em>y</em>)&middot;<em>f<sub>x</sub></em>(<em>z</em>).</p>\n",
    "So <em>f<sub>x</sub></em>(<em>y</em>) is a homomorphism.  Since the inverse homomorphism can easily be found,\n",
    "<p style='text-align: center;'><em>y</em> &isin; <em>f<sub>x</sub></em><sup>-1</sup>(<em>v</em>) &#10234; <em>x</em>&middot;<em>y</em>&middot;<em>x</em><sup>-1</sup> = \n",
    "<em>v</em> &#10234; <em>y</em> = <em>x</em><sup>-1</sup>&middot;<em>v</em>&middot;<em>x</em> &#10234; <em>y</em> = <em>f<sub>x</sub></em>&#8331;&#8321;(<em>v</em>),</p>\n",
    "we have that <em>f<sub>x</sub></em>(<em>y</em>) is one-to-one and onto, therefore <em>f<sub>x</sub></em>(<em>y</em>) is an automorphism.<br><br>\n",
    "\n",
    "DEFINITION 7.4<br>\n",
    "An automorphism <em>&#981;</em>(<em>y</em>) of a group <em>G</em> is called an <em>inner automorphism</em> if there is an element <em>x</em> in <em>G</em> such that \n",
    "<p style='text-align: center;'><em>&#981;</em>(<em>y</em>) = <em>x</em>&middot;<em>y</em>&middot;<em>x</em><sup>-1</sup>&emsp;for all &ensp;<em>y</em> &isin; <em>G</em>.</p>\n",
    "The set of inner automorphisms of <em>G</em> is denoted Inn(<em>G</em>).<br><br>\n",
    "\n",
    "EXAMPLE:<br>\n",
    "Find the inner automorphisms of the quaternion group <em>Q</em>.<br><br>\n",
    "\n",
    "First, we load <em>Q</em> into <em>SageMath</em>:<br>"
   ]
  },
  {
   "cell_type": "code",
   "execution_count": 0,
   "id": "9b2a32",
   "metadata": {
    "collapsed": false
   },
   "outputs": [
   ],
   "source": [
    "Q = InitQuaternions(); Q"
   ]
  },
  {
   "cell_type": "markdown",
   "id": "c0ab80",
   "metadata": {
    "collapsed": false
   },
   "source": [
    "<br>\n",
    "Let us begin by determining an upper bound for the number of automorphisms.  \n",
    "Suppose <em>&fnof;</em> is an automorphism of <em>Q</em>. Then <em>&fnof;</em>(1) = 1, as always, but <em>&fnof;</em>(&minus;1) must be &minus;1, since &minus;1 is the \n",
    "only element of <em>Q</em> of order 2. All of the other elements are of order 4, so <em>&fnof;</em>(<em>i</em>) could be any one of the remaining six elements. Once \n",
    "<em>&fnof;</em>(<em>i</em>) is determined, though, <nobr><em>&fnof;</em>(&minus;<em>i</em>) = <em>&fnof;</em>(<em>i</em>)<sup>3</sup>,</nobr> so this will be determined. \n",
    "Then <em>&fnof;</em>(<em>j</em>) could be any one of the remaining four elements. Since <em>i</em> and <em>j</em> generate <em>Q</em>, once \n",
    "<em>&fnof;</em>(<em>i</em>) and <em>&fnof;</em>(<em>j</em>) is determined, <em>&fnof;</em> will be determined for all of <em>Q</em>.  Thus, there is a maximum \n",
    "of 6&middot;4 = 24 possible automorphisms.<br><br>\n",
    "\n",
    "Let us try to find some inner automorphisms on <em>Q</em>.  If we choose <em>x</em> = <em>i</em>, then <em>&fnof;<sub>i</sub></em>(<em>y</em>) is the \n",
    "following mapping:\n",
    "<br><br>\n",
    "<table align=\"center\" border=\"0\">\n",
    "   <tr>\n",
    "     <td align=\"right\"><em>&fnof;<sub>i</sub></em>(1)</td>\n",
    "     <td align=\"center\">=</td>\n",
    "     <td align=\"center\"><em>i</em>&middot;1&middot;(&minus;<em>i</em>)</td>\n",
    "     <td align=\"center\">=</td>\n",
    "     <td>1</td>\n",
    "   </tr>\n",
    "   <tr>\n",
    "     <td align=\"right\"><em>&fnof;<sub>i</sub></em>(<em>i</em>)</td>\n",
    "     <td align=\"center\">=</td>\n",
    "     <td align=\"center\"><em>i</em>&middot;<em>i</em>&middot;(&minus;<em>i</em>)</td>\n",
    "     <td align=\"center\">=</td>\n",
    "     <td><em>i</em></td>\n",
    "   </tr>\n",
    "   <tr>\n",
    "     <td align=\"right\"><em>&fnof;<sub>i</sub></em>(<em>j</em>)</td>\n",
    "     <td align=\"center\">=</td>\n",
    "     <td align=\"center\"><em>i</em>&middot;<em>j</em>&middot;(&minus;<em>i</em>)</td>\n",
    "     <td align=\"center\">=</td>\n",
    "     <td>&minus;<em>j</em></td>\n",
    "   </tr>\n",
    "   <tr>\n",
    "     <td align=\"right\"><em>&fnof;<sub>i</sub></em>(&minus;1)</td>\n",
    "     <td align=\"center\">=</td>\n",
    "     <td align=\"center\"><em>i</em>&middot;(&minus;1)&middot;(&minus;<em>i</em>)</td>\n",
    "     <td align=\"center\">=</td>\n",
    "     <td>&minus;1</td>\n",
    "   </tr>\n",
    "      <tr>\n",
    "     <td align=\"right\"><em>&fnof;<sub>i</sub></em>(&minus;<em>i</em>)</td>\n",
    "     <td align=\"center\">=</td>\n",
    "     <td align=\"center\"><em>i</em>&middot;(&minus;<em>i</em>)&middot;(&minus;<em>i</em>)</td>\n",
    "     <td align=\"center\">=</td>\n",
    "     <td>&minus;<em>i</em></td>\n",
    "   </tr>\n",
    "   <tr>\n",
    "     <td align=\"right\"><em>&fnof;<sub>i</sub></em>(<em>k</em>)</td>\n",
    "     <td align=\"center\">=</td>\n",
    "     <td align=\"center\"><em>i</em>&middot;<em>k</em>&middot;(&minus;<em>i</em>)</td>\n",
    "     <td align=\"center\">=</td>\n",
    "     <td>&minus;<em>k</em></td>\n",
    "   </tr>\n",
    "   <tr>\n",
    "     <td align=\"right\"><em>&fnof;<sub>i</sub></em>(&minus;<em>j</em>)</td>\n",
    "     <td align=\"center\">=</td>\n",
    "     <td align=\"center\"><em>i</em>&middot;(&minus;<em>j</em>)&middot;(&minus;<em>i</em>)</td>\n",
    "     <td align=\"center\">=</td>\n",
    "     <td><em>j</em></td>\n",
    "   </tr>\n",
    "   <tr>\n",
    "     <td align=\"right\"><em>&fnof;<sub>i</sub></em>(&minus;<em>k</em>)</td>\n",
    "     <td align=\"center\">=</td>\n",
    "     <td align=\"center\"><em>i</em>&middot;(&minus;<em>k</em>)&middot;(&minus;<em>i</em>)</td>\n",
    "     <td align=\"center\">=</td>\n",
    "     <td><em>k</em></td>\n",
    "   </tr>         \n",
    "</table>\n",
    "<br>\n",
    "So <em>&fnof;<sub>i</sub></em> exchanges <em>j</em> and &minus;<em>j</em>, and exchanges <em>k</em> and &minus;<em>k</em>, leaving all other elements alone. \n",
    "Thus, we can express this automorphism as<br>"
   ]
  },
  {
   "cell_type": "code",
   "execution_count": 0,
   "id": "a9c0a2",
   "metadata": {
    "collapsed": false
   },
   "outputs": [
   ],
   "source": [
    "F = C(j, -j)*C(k, -k); F"
   ]
  },
  {
   "cell_type": "markdown",
   "id": "75f590",
   "metadata": {
    "collapsed": false
   },
   "source": [
    "<br>\n",
    "Here is the graph of this automorphism:<br>"
   ]
  },
  {
   "cell_type": "code",
   "execution_count": 0,
   "id": "be957b",
   "metadata": {
    "collapsed": false
   },
   "outputs": [
   ],
   "source": [
    "CircleGraph(Q, F)"
   ]
  },
  {
   "cell_type": "markdown",
   "id": "b039e5",
   "metadata": {
    "collapsed": false
   },
   "source": [
    "<br>\n",
    "From the above descussion. we know that this is a homomorphism.  If we use <em>x</em> = <em>j</em> instead of <em>x</em> = <em>i</em>, we get a different automorphism:\n",
    "<br><br>\n",
    "<table align=\"center\" border=\"0\">\n",
    "   <tr>\n",
    "     <td align=\"right\"><em>&fnof;<sub>j</sub></em>(1)</td>\n",
    "     <td align=\"center\">=</td>\n",
    "     <td align=\"center\"><em>j</em>&middot;1&middot;(&minus;<em>j</em>)</td>\n",
    "     <td align=\"center\">=</td>\n",
    "     <td>1</td>\n",
    "   </tr>\n",
    "   <tr>\n",
    "     <td align=\"right\"><em>&fnof;<sub>j</sub></em>(<em>i</em>)</td>\n",
    "     <td align=\"center\">=</td>\n",
    "     <td align=\"center\"><em>j</em>&middot;<em>i</em>&middot;(&minus;<em>j</em>)</td>\n",
    "     <td align=\"center\">=</td>\n",
    "     <td>&minus;<em>i</em></td>\n",
    "   </tr>\n",
    "   <tr>\n",
    "     <td align=\"right\"><em>&fnof;<sub>j</sub></em>(<em>j</em>)</td>\n",
    "     <td align=\"center\">=</td>\n",
    "     <td align=\"center\"><em>j</em>&middot;<em>j</em>&middot;(&minus;<em>j</em>)</td>\n",
    "     <td align=\"center\">=</td>\n",
    "     <td><em>j</em></td>\n",
    "   </tr>\n",
    "   <tr>\n",
    "     <td align=\"right\"><em>&fnof;<sub>j</sub></em>(&minus;1)</td>\n",
    "     <td align=\"center\">=</td>\n",
    "     <td align=\"center\"><em>j</em>&middot;(&minus;1)&middot;(&minus;<em>j</em>)</td>\n",
    "     <td align=\"center\">=</td>\n",
    "     <td>&minus;1</td>\n",
    "   </tr>\n",
    "      <tr>\n",
    "     <td align=\"right\"><em>&fnof;<sub>j</sub></em>(&minus;<em>i</em>)</td>\n",
    "     <td align=\"center\">=</td>\n",
    "     <td align=\"center\"><em>j</em>&middot;(&minus;<em>i</em>)&middot;(&minus;<em>j</em>)</td>\n",
    "     <td align=\"center\">=</td>\n",
    "     <td><em>i</em></td>\n",
    "   </tr>\n",
    "   <tr>\n",
    "     <td align=\"right\"><em>&fnof;<sub>j</sub></em>(<em>k</em>)</td>\n",
    "     <td align=\"center\">=</td>\n",
    "     <td align=\"center\"><em>j</em>&middot;<em>k</em>&middot;(&minus;<em>j</em>)</td>\n",
    "     <td align=\"center\">=</td>\n",
    "     <td>&minus;<em>k</em></td>\n",
    "   </tr>\n",
    "   <tr>\n",
    "     <td align=\"right\"><em>&fnof;<sub>j</sub></em>(&minus;<em>j</em>)</td>\n",
    "     <td align=\"center\">=</td>\n",
    "     <td align=\"center\"><em>j</em>&middot;(&minus;<em>j</em>)&middot;(&minus;<em>j</em>)</td>\n",
    "     <td align=\"center\">=</td>\n",
    "     <td>&minus;<em>j</em></td>\n",
    "   </tr>\n",
    "   <tr>\n",
    "     <td align=\"right\"><em>&fnof;<sub>j</sub></em>(&minus;<em>k</em>)</td>\n",
    "     <td align=\"center\">=</td>\n",
    "     <td align=\"center\"><em>j</em>&middot;(&minus;<em>k</em>)&middot;(&minus;<em>j</em>)</td>\n",
    "     <td align=\"center\">=</td>\n",
    "     <td><em>k</em></td>\n",
    "   </tr>         \n",
    "</table>\n",
    "<br>\n",
    "We can represent this automorphism in <em>SageMath</em> by<br>"
   ]
  },
  {
   "cell_type": "code",
   "execution_count": 0,
   "id": "ca09c2",
   "metadata": {
    "collapsed": false
   },
   "outputs": [
   ],
   "source": [
    "G = C(i, -i)*C(k, -k); G"
   ]
  },
  {
   "cell_type": "markdown",
   "id": "051d75",
   "metadata": {
    "collapsed": false
   },
   "source": [
    "<br>\n",
    "Here is the graph:<br>"
   ]
  },
  {
   "cell_type": "code",
   "execution_count": 0,
   "id": "089617",
   "metadata": {
    "collapsed": false
   },
   "outputs": [
   ],
   "source": [
    "CircleGraph(Q, G)"
   ]
  },
  {
   "cell_type": "markdown",
   "id": "7fa75d",
   "metadata": {
    "collapsed": false
   },
   "source": [
    "<br>\n",
    "Since <em>F</em> and <em>G</em> are both automorphisms, we can find the group generated by these two:<br>"
   ]
  },
  {
   "cell_type": "code",
   "execution_count": 0,
   "id": "6db63b",
   "metadata": {
    "collapsed": false
   },
   "outputs": [
   ],
   "source": [
    "Group(F, G)"
   ]
  },
  {
   "cell_type": "markdown",
   "id": "c7f586",
   "metadata": {
    "collapsed": false
   },
   "source": [
    "<br>\n",
    "Therefore, we have found 4 automorphisms on <em>Q</em>. But is this all of the automorphisms? <br><br>\n",
    "\n",
    "EXPERIMENT:<br>\n",
    "Find the automorphism <em>&fnof;<sub>x</sub></em>(<em>y</em>) with <em>x</em> = <em>k</em>. Find the corresponding permutation on <em>Q</em>, and have <em>SageMath</em> draw \n",
    "a circle graph of this automorphism. Is this automorphism one that we have seen before?<br>"
   ]
  },
  {
   "cell_type": "markdown",
   "id": "100f28",
   "metadata": {
    "collapsed": false
   },
   "source": [
    "<br>\n",
    "If we try the above procedure with <em>x</em> equaling any of the eight elements of <em>Q</em>, we will always get one of the four automorphisms. \n",
    "Hence, we have found all of the inner automorphisms of Q, which we can express in terms of cycles as\n",
    "<p style='text-align: center;'>{( ), (<em>i</em>, &minus;<em>i</em>)(<em>j</em>, &minus;<em>j</em>), (<em>j</em>, &minus;<em>j</em>)(<em>k</em>, &minus;<em>k</em>), (<em>i</em>, &minus;<em>i</em>)(<em>k</em>, &minus;<em>k</em>)}.</p>\n",
    "\n",
    "EXAMPLE:\n",
    "Find <em>all</em> of the automorphisms of <em>Q</em>.<br><br>\n",
    "\n",
    "We found 4 inner automorphisms, but there certainly could \n",
    "be more. Suppose <nobr><em>&fnof;</em>(<em>i</em>) = <em>i</em>,</nobr> and <em>&fnof;</em>(<em>j</em>) = <em>k</em>? Since <em>i</em>, <em>j</em>, and <em>k</em> are all of order 4, \n",
    "it is conceivable that this would produce an automorphism. This time, we will use <em>SageMath</em>'s <strong>Homomorph</strong> function to define the mapping.<br>"
   ]
  },
  {
   "cell_type": "code",
   "execution_count": 0,
   "id": "81a7e6",
   "metadata": {
    "collapsed": false
   },
   "outputs": [
   ],
   "source": [
    "X = Homomorph(Q, Q)\n",
    "HomoDef(X, i, i)\n",
    "HomoDef(X, j, k)\n",
    "FinishHomo(X)"
   ]
  },
  {
   "cell_type": "markdown",
   "id": "ec69b5",
   "metadata": {
    "collapsed": false
   },
   "source": [
    "<br>\n",
    "So <em>X</em> is a homomorphism, but is <em>X</em> an automorphism? By finding<br>"
   ]
  },
  {
   "cell_type": "code",
   "execution_count": 0,
   "id": "95a5f3",
   "metadata": {
    "collapsed": false
   },
   "outputs": [
   ],
   "source": [
    "Image(X, Q)"
   ]
  },
  {
   "cell_type": "markdown",
   "id": "184513",
   "metadata": {
    "collapsed": false
   },
   "source": [
    "<br>\n",
    "we see that <em>X</em> is onto, and by finding<br>"
   ]
  },
  {
   "cell_type": "code",
   "execution_count": 0,
   "id": "b16392",
   "metadata": {
    "collapsed": false
   },
   "outputs": [
   ],
   "source": [
    "Kernel(X)"
   ]
  },
  {
   "cell_type": "markdown",
   "id": "01fa4b",
   "metadata": {
    "collapsed": false
   },
   "source": [
    "<br>\n",
    "we see that <em>X</em> is one-to-one. Therefore, <em>X</em> is an automorphism. By looking at the circle graph:<br>"
   ]
  },
  {
   "cell_type": "code",
   "execution_count": 0,
   "id": "d62c25",
   "metadata": {
    "collapsed": false
   },
   "outputs": [
   ],
   "source": [
    "CircleGraph(Q, X)"
   ]
  },
  {
   "cell_type": "markdown",
   "id": "d65a12",
   "metadata": {
    "collapsed": false
   },
   "source": [
    "<br>\n",
    "we see that the automorphism can be represented by the 4-cycle<br>"
   ]
  },
  {
   "cell_type": "code",
   "execution_count": 0,
   "id": "118023",
   "metadata": {
    "collapsed": false
   },
   "outputs": [
   ],
   "source": [
    "H = C(j, k, -j, -k); H"
   ]
  },
  {
   "cell_type": "markdown",
   "id": "8f5f21",
   "metadata": {
    "collapsed": false
   },
   "source": [
    "<br>\n",
    "Let us add this to our group of automorphisms:<br>"
   ]
  },
  {
   "cell_type": "code",
   "execution_count": 0,
   "id": "f91e25",
   "metadata": {
    "collapsed": false
   },
   "outputs": [
   ],
   "source": [
    "Group(F, G, H)"
   ]
  },
  {
   "cell_type": "code",
   "execution_count": 0,
   "id": "8f0c3b",
   "metadata": {
    "collapsed": false
   },
   "outputs": [
   ],
   "source": [
    "len(_)"
   ]
  },
  {
   "cell_type": "markdown",
   "id": "3636b7",
   "metadata": {
    "collapsed": false
   },
   "source": [
    "<br>\n",
    "So far, we have 8 automorphisms. Could there be any others?<br><br>\n",
    "\n",
    "Notice that all 8 of the automorphisms that we have come up with so far send <em>i</em> either to <em>i</em> or &minus;<em>i</em>. What if we sent <em>i</em> to, say, \n",
    "<em>k</em>? We could let <em>j</em> be sent to <em>j</em> for simplicity. Let's try it.<br>"
   ]
  },
  {
   "cell_type": "code",
   "execution_count": 0,
   "id": "0a9ab5",
   "metadata": {
    "collapsed": false
   },
   "outputs": [
   ],
   "source": [
    "Y = Homomorph(Q, Q)\n",
    "HomoDef(Y, i, k)\n",
    "HomoDef(Y, j, j)\n",
    "FinishHomo(Y)"
   ]
  },
  {
   "cell_type": "markdown",
   "id": "ae5702",
   "metadata": {
    "collapsed": false
   },
   "source": [
    "<br>\n",
    "We can check that this is one-to-one and onto by looking at the circle graph.<br>"
   ]
  },
  {
   "cell_type": "code",
   "execution_count": 0,
   "id": "fb02df",
   "metadata": {
    "collapsed": false
   },
   "outputs": [
   ],
   "source": [
    "CircleGraph(Q, Y)"
   ]
  },
  {
   "cell_type": "markdown",
   "id": "56d2c0",
   "metadata": {
    "collapsed": false
   },
   "source": [
    "<br>\n",
    "So <em>Y</em> is an automorphism of <em>Q</em>. It can be represented by the 4-cycle<br>"
   ]
  },
  {
   "cell_type": "code",
   "execution_count": 0,
   "id": "cfdd93",
   "metadata": {
    "collapsed": false
   },
   "outputs": [
   ],
   "source": [
    "J = C(i, k, -i, -k); J"
   ]
  },
  {
   "cell_type": "markdown",
   "id": "32adaa",
   "metadata": {
    "collapsed": false
   },
   "source": [
    "<br>\n",
    "So here is an updated list of automorphisms:<br>"
   ]
  },
  {
   "cell_type": "code",
   "execution_count": 0,
   "id": "97c1eb",
   "metadata": {
    "collapsed": false
   },
   "outputs": [
   ],
   "source": [
    "A = Group(F,G,H,J); A"
   ]
  },
  {
   "cell_type": "markdown",
   "id": "c9618d",
   "metadata": {
    "collapsed": false
   },
   "source": [
    "<br>\n",
    "This is a long list. Let's see how many automorphisms we have.<br>"
   ]
  },
  {
   "cell_type": "code",
   "execution_count": 0,
   "id": "35a247",
   "metadata": {
    "collapsed": false
   },
   "outputs": [
   ],
   "source": [
    "len(A)"
   ]
  },
  {
   "cell_type": "markdown",
   "id": "ba5929",
   "metadata": {
    "collapsed": false
   },
   "source": [
    "<br>\n",
    "So we have 24 automorphisms of <em>Q</em>. Since we began by observing that there could be at most 24 automorphisms, we finally must have them all. Is this group \n",
    "isomorphic to one of the groups of order 24 that we have studied before?<br><br>\n",
    "\n",
    "Rather than proving an isomorphism directly as we have done in the past, in this case there is a geometrical correlation between this automorphism group and the \n",
    "octahedral group. Note that any automorphism of <em>Q</em> must fix 1 and &minus;1, but the other six elements can go to any other of the six elements. Suppose we were \n",
    "to label the six vertices of the octahedron with the six remaining elements of <em>Q</em>, as follows:<br>"
   ]
  },
  {
   "cell_type": "code",
   "execution_count": 0,
   "id": "51cd85",
   "metadata": {
    "collapsed": false
   },
   "outputs": [
   ],
   "source": [
    "ShowOctahedronWithQuaternions()"
   ]
  },
  {
   "cell_type": "markdown",
   "id": "a856ef",
   "metadata": {
    "collapsed": false
   },
   "source": [
    "<br>\n",
    "The vertex in the back is labeled &minus;<em>j</em>.  Now notice that each rotation of the octahedron gives an automorphism of <em>Q</em>, and vice versa.  For \n",
    "example, rotating the red face 120&deg; clockwise corresponds to the automorphism\n",
    "<p style='text-align: center;'>(<em>i</em> <em>j</em> <em>k</em>)(&minus;<em>i</em> &minus;<em>j</em> &minus;<em>k</em>).</p>\n",
    "So the automorphism group is isomorphic to the octahedral group, which we saw was isomorphic to <em>S</em><sub>4</sub>. Thus, Aut(<em>Q</em>) is isomorphic to \n",
    "<em>S</em><sub>4</sub>.<br><br>\n",
    "\n",
    "Although the inner automorphisms did not produce the full automorphism group, this set of inner automorphisms turns out to be a very important subgroup of the automorphism \n",
    "group. Notice that we found that the product of the two inner automorphism was an inner automorphism. This suggests that Inn(<em>G</em>) is a subgroup of Aut(<em>G</em>). \n",
    "In fact we can even say more!"
   ]
  },
  {
   "cell_type": "markdown",
   "id": "e2af6f",
   "metadata": {
    "collapsed": false
   },
   "source": [
    "<a name=\"prop75ret\" id=\"prop75ret\"></a>\n",
    "PROPOSITION 7.5<br>\n",
    "\n",
    "Let <em>G</em> be a group. Then Inn(<em>G</em>) is a normal subgroup of Aut(<em>G</em>).<br><br>\n",
    "\n",
    "<a href=\"#prop75\">Click here for the proof.</a>\n",
    "\n",
    "<p />\n",
    "We found two inner-automorphisms of <em>Q</em>, namely <em>F</em> and <em>G</em>. We found one more inner automorphism by considering<br>"
   ]
  },
  {
   "cell_type": "code",
   "execution_count": 0,
   "id": "aa428b",
   "metadata": {
    "collapsed": false
   },
   "outputs": [
   ],
   "source": [
    "Inn = Group(F, G); Inn"
   ]
  },
  {
   "cell_type": "markdown",
   "id": "f58e91",
   "metadata": {
    "collapsed": false
   },
   "source": [
    "<br>\n",
    "If we examine the automorphism <em>&fnof;<sub>x</sub></em>(<em>y</em>) = <em>x</em>&middot;<em>y</em>&middot;<em>x</em><sup>-1</sup> for different elements <em>x</em>, \n",
    "we will find that we will always get one of these four automorphisms.  Thus, this group is the group of inner automorphisms on <em>Q</em>. Here is the Cayley table:<br>"
   ]
  },
  {
   "cell_type": "code",
   "execution_count": 0,
   "id": "3e6887",
   "metadata": {
    "collapsed": false
   },
   "outputs": [
   ],
   "source": [
    "CayleyTable(Inn)"
   ]
  },
  {
   "cell_type": "markdown",
   "id": "2386b9",
   "metadata": {
    "collapsed": false
   },
   "source": [
    "<br>\n",
    "Since the square of every element is the identity, we recognize Inn(<em>Q</em>) as isomorphic to <em>Z</em><sub>8</sub><sup>&ast;</sup>.<br><br>\n",
    "\n",
    "Because the inner automorphism group is always a normal subgroup, we could consider the quotient group.<br><br>\n",
    "\n",
    "DEFINITION 7.5<br>\n",
    "We define the <em>outer automorphism</em> group to be the group \n",
    "<p style='text-align: center;'>Out(<em>G</em>)= Aut(<em>G</em>)/Inn(<em>G</em>).</p>\n",
    "\n",
    "For example, the outer automorphism group of <em>Q</em> is given by<br>"
   ]
  },
  {
   "cell_type": "code",
   "execution_count": 0,
   "id": "14968b",
   "metadata": {
    "collapsed": false
   },
   "outputs": [
   ],
   "source": [
    "Z = LftCoset(A, Inn); Z"
   ]
  },
  {
   "cell_type": "markdown",
   "id": "292af1",
   "metadata": {
    "collapsed": false
   },
   "source": [
    "<br>\n",
    "This gives a group of order 6.<br><br> \n",
    "\n",
    "As complicated as the elements of <em>Z</em> are, we can form a Cayley table.<br>"
   ]
  },
  {
   "cell_type": "code",
   "execution_count": 0,
   "id": "d9a056",
   "metadata": {
    "collapsed": false
   },
   "outputs": [
   ],
   "source": [
    "CayleyTable(Z)"
   ]
  },
  {
   "cell_type": "markdown",
   "id": "7c87fa",
   "metadata": {
    "collapsed": false
   },
   "source": [
    "<br>\n",
    "Since this group is non-abelian, we see that the group is isomorphic to <em>S</em><sub>3</sub>.<br><br>\n",
    "\n",
    "If <em>G</em> is an abelian group, then the only inner automorphism is the identity automorphism.  Thus, for abelian groups, \n",
    "<p style='text-align: center;'>Inn(<em>G</em>) &asymp; {<em>e</em>}&emsp;and&emsp;Out(<em>G</em>) &asymp; Aut(<em>G</em>).</p> \n",
    "\n",
    "EXPERIMENT:<br>\n",
    "Load <em>S</em><sub>3</sub> into <em>SageMath</em> with the following commands:<br>"
   ]
  },
  {
   "cell_type": "code",
   "execution_count": 0,
   "id": "1ba48f",
   "metadata": {
    "collapsed": false
   },
   "outputs": [
   ],
   "source": [
    "InitGroup(\"e\")\n",
    "AddGroupVar(\"a\", \"b\")\n",
    "Define(a^2, e)\n",
    "Define(b^3, e)\n",
    "Define(b*a, a*b^2)\n",
    "G = Group(a, b); G"
   ]
  },
  {
   "cell_type": "markdown",
   "id": "ba9b7f",
   "metadata": {
    "collapsed": false
   },
   "source": [
    "<br>\n",
    "Note that for any automorphism, the element <em>a</em> must map to one of the three elements of order 2, and <em>b</em> must map to one of the two elements of order 3. \n",
    "Since the elements <em>a</em> and <em>b</em> generate the group, there can be at most six automorphisms.  By finding a few of the inner automorphisms, and having \n",
    "<em>SageMath</em> create a Cayley table, identify Inn(<em>S</em><sub>3</sub>).  What is Aut(<em>S</em><sub>3</sub>)?<br>"
   ]
  },
  {
   "cell_type": "markdown",
   "id": "b2cbf3",
   "metadata": {
    "collapsed": false
   },
   "source": [
    "<br>\n",
    "Let us look at one last example where the automorphism group turns out to be much larger than the original group.<br><br>\n",
    "\n",
    "EXAMPLE:<br>\n",
    "Find the automorphism group of <em>Z</em><sub>24</sub><sup>&ast;</sup>.<br><br>\n",
    "\n",
    "The following loads the group into <em>SageMath</em>:<br>"
   ]
  },
  {
   "cell_type": "code",
   "execution_count": 0,
   "id": "bb6391",
   "metadata": {
    "collapsed": false
   },
   "outputs": [
   ],
   "source": [
    "InitGroup(\"e\")\n",
    "AddGroupVar(\"a\", \"b\", \"c\")\n",
    "Define(a^2, e)\n",
    "Define(b^2, e)\n",
    "Define(c^2, e)\n",
    "Define(b*a, a*b)\n",
    "Define(c*a, a*c)\n",
    "Define(c*b, b*c)\n",
    "Y = Group(); Y"
   ]
  },
  {
   "cell_type": "markdown",
   "id": "70b337",
   "metadata": {
    "collapsed": false
   },
   "source": [
    "<br>\n",
    "Once again, we will begin by determining an upper bound for the number of automorphisms.  \n",
    "Suppose <em>&#981;</em>(<em>x</em>) is an automorphism of <em>Z</em><sub>24</sub><sup>&ast;</sup>. Naturally, <em>&#981;</em>(<em>e</em>) = <em>e</em>, but the other 7 \n",
    "elements are of order 2. Thus, <em>&#981;</em>(<em>a</em>) could be any of the 7 remaining elements. Now <em>&#981;</em>(<em>a</em>) and <em>&#981;</em>(<em>b</em>) \n",
    "are unrelated so <em>&#981;</em>(<em>b</em>) could be any of the 6 elements besides <em>e</em> and <em>&#981;</em>(<em>a</em>). We then would have \n",
    "<em>&#981;</em>(<em>a</em>&middot;<em>b</em>) = <em>&#981;</em>(<em>a</em>)&middot;<em>&#981;</em>(<em>b</em>), so four elements will be accouted for.  But \n",
    "<em>&#981;</em>(<em>c</em>) could be any of the 4 elements left over. Once <em>&#981;</em>(<em>a</em>), <em>&#981;</em>(<em>b</em>), and <em>&#981;</em>(<em>c</em>) are \n",
    "known, the entire automorphism is determined. Therefore, there are at most 7&middot;6&middot;4 = 168 possible automorphisms.<br><br>\n",
    "\n",
    "Now let us try to find an automorphism. Since <em>a</em>, <em>b</em>, and <em>c</em> are interchangeable in the definition of the group, we could consider a mapping \n",
    "<em>&fnof;</em> that maps <em>a</em> to <em>b</em>, <em>b</em> to <em>c</em>, and <em>c</em> back to <em>a</em>. <br>"
   ]
  },
  {
   "cell_type": "code",
   "execution_count": 0,
   "id": "5aa7a1",
   "metadata": {
    "collapsed": false
   },
   "outputs": [
   ],
   "source": [
    "F = Homomorph(Y, Y)\n",
    "HomoDef(F, a, b)\n",
    "HomoDef(F, b, c)\n",
    "HomoDef(F, c, a)\n",
    "FinishHomo(F)"
   ]
  },
  {
   "cell_type": "code",
   "execution_count": 0,
   "id": "7278c1",
   "metadata": {
    "collapsed": false
   },
   "outputs": [
   ],
   "source": [
    "CircleGraph(Y, F)"
   ]
  },
  {
   "cell_type": "markdown",
   "id": "c82116",
   "metadata": {
    "collapsed": false
   },
   "source": [
    "<br>\n",
    "We see that this produces an automorphism, and that <em>a</em>&middot;<em>b</em> maps to \n",
    "<em>b</em>&middot;<em>c</em>, which maps to <em>c</em>&middot;<em>a</em>, which maps back to <em>a</em>&middot;<em>b</em>. The \n",
    "element <em>a</em>&middot;<em>b&middot;c</em> is fixed by this mapping.  Thus, this mapping would be the permutation<br>"
   ]
  },
  {
   "cell_type": "code",
   "execution_count": 0,
   "id": "180652",
   "metadata": {
    "collapsed": false
   },
   "outputs": [
   ],
   "source": [
    "f = C(a, b, c)*C(a*b, b*c, a*c); f"
   ]
  },
  {
   "cell_type": "markdown",
   "id": "f578de",
   "metadata": {
    "collapsed": false
   },
   "source": [
    "<br>\n",
    "Can we find other automorphisms? Our success should indicate that there are many of them! Suppose we consider <em>&#981;</em>(<em>a</em>) = <em>a</em>, \n",
    "<em>&#981;</em>(<em>c</em>) = <em>c</em>, but let <em>&#981;</em>(<em>b</em>) = <em>a</em>&middot;<em>b</em>? <br>"
   ]
  },
  {
   "cell_type": "code",
   "execution_count": 0,
   "id": "e86542",
   "metadata": {
    "collapsed": false
   },
   "outputs": [
   ],
   "source": [
    "G = Homomorph(Y, Y)\n",
    "HomoDef(G, a, a)\n",
    "HomoDef(G, b, a*b)\n",
    "HomoDef(G, c, c)\n",
    "FinishHomo(G)"
   ]
  },
  {
   "cell_type": "code",
   "execution_count": 0,
   "id": "ed0d20",
   "metadata": {
    "collapsed": false
   },
   "outputs": [
   ],
   "source": [
    "CircleGraph(Y, G)"
   ]
  },
  {
   "cell_type": "markdown",
   "id": "1fa767",
   "metadata": {
    "collapsed": false
   },
   "source": [
    "This automorphism works, and would be represented by the permutation<br>"
   ]
  },
  {
   "cell_type": "code",
   "execution_count": 0,
   "id": "40e4ad",
   "metadata": {
    "collapsed": false
   },
   "outputs": [
   ],
   "source": [
    "g = C(b, a*b)* C(b*c, a*b*c); g"
   ]
  },
  {
   "cell_type": "markdown",
   "id": "37d294",
   "metadata": {
    "collapsed": false
   },
   "source": [
    "<br>\n",
    "We can now use <em>SageMath</em> to find other automorphisms generated by these two.<br><br>\n",
    "\n",
    "Because of the large number of possible elements in Aut(<em>Z</em><sub>24</sub><sup>&ast;</sup>), we will be better off if we number the elements in the \n",
    "group <em>Z</em><sub>24</sub><sup>&ast;</sup>. This will allow us to use the <strong>P[ ]</strong> notation. (<em>SageMath</em> works much faster using \n",
    "the <strong>P[ ]</strong> notation than using cycles.) Since all automorphisms fix the element <em>e</em> this element need not be numbered. The other 7 elements can \n",
    "be numbered as follows, using the same order as the elements appear in <strong>Y</strong>:\n",
    "<br><br>\n",
    "<table align=\"center\" border=\"0\">\n",
    "   <tr>\n",
    "     <td align=\"right\">1)&emsp;</td>\n",
    "     <td><em>a</em></td>\n",
    "   </tr>\n",
    "   <tr>\n",
    "     <td align=\"right\">2)&emsp;</td>\n",
    "     <td><em>b</em></td>\n",
    "   </tr>\n",
    "   <tr>\n",
    "     <td align=\"right\">3)&emsp;</td>\n",
    "     <td><em>a</em>&middot;<em>b</em></td>\n",
    "   </tr>\n",
    "   <tr>\n",
    "     <td align=\"right\">4)&emsp;</td>\n",
    "     <td><em>c</em></td>\n",
    "   </tr>\n",
    "   <tr>\n",
    "     <td align=\"right\">5)&emsp;</td>\n",
    "     <td><em>a</em>&middot;<em>c</em></td>\n",
    "   </tr>\n",
    "   <tr>\n",
    "     <td align=\"right\">6)&emsp;</td>\n",
    "     <td><em>b</em>&middot;<em>c</em></td>\n",
    "   </tr>\n",
    "   <tr>\n",
    "     <td align=\"right\">7)&emsp;</td>\n",
    "     <td><em>a</em>&middot;<em>b</em>&middot;<em>c</em></td>\n",
    "   </tr>         \n",
    "</table>\n",
    "<br>                             \n",
    "Let us convert <strong>f</strong> and <strong>g</strong> to permutations using the numbering scheme we gave to the elements.<br>"
   ]
  },
  {
   "cell_type": "code",
   "execution_count": 0,
   "id": "56a689",
   "metadata": {
    "collapsed": false
   },
   "outputs": [
   ],
   "source": [
    "f = CycleToPerm(C(1,2,4)*C(3,6,5)); f"
   ]
  },
  {
   "cell_type": "code",
   "execution_count": 0,
   "id": "3ea8f9",
   "metadata": {
    "collapsed": false
   },
   "outputs": [
   ],
   "source": [
    "g = CycleToPerm(C(2,3)*C(6,7)); g"
   ]
  },
  {
   "cell_type": "markdown",
   "id": "ac4fcd",
   "metadata": {
    "collapsed": false
   },
   "source": [
    "<br>\n",
    "That is, <strong>f</strong> maps element 1 (<em>a</em>) to element 2 (<em>b</em>), which is mapped to element 4 (<em>c</em>), etc.<br><br>Likewise, \n",
    "<strong>g</strong> exchanges the 2nd and 3rd elements, and exchanges the 6th and 7th elements of <em>Z</em><sub>24</sub><sup>&ast;</sup>.  The circle graphs will still looks \n",
    "the same:<br>"
   ]
  },
  {
   "cell_type": "code",
   "execution_count": 0,
   "id": "17b94e",
   "metadata": {
    "collapsed": false
   },
   "outputs": [
   ],
   "source": [
    "CircleGraph([0,1,2,3,4,5,6,7], f)"
   ]
  },
  {
   "cell_type": "code",
   "execution_count": 0,
   "id": "04effb",
   "metadata": {
    "collapsed": false
   },
   "outputs": [
   ],
   "source": [
    "CircleGraph([0,1,2,3,4,5,6,7], g)"
   ]
  },
  {
   "cell_type": "markdown",
   "id": "ea0f77",
   "metadata": {
    "collapsed": false
   },
   "source": [
    "<br>\n",
    "Since <strong>f</strong> and <strong>g</strong> both represent automorphisms of <em>Z</em><sub>24</sub><sup>&ast;</sup>, we can find other automorphisms be considering the \n",
    "group generated by <strong>f</strong> and <strong>g</strong>.<br>"
   ]
  },
  {
   "cell_type": "code",
   "execution_count": 0,
   "id": "9204fd",
   "metadata": {
    "collapsed": false
   },
   "outputs": [
   ],
   "source": [
    "A = Group(f, g); A"
   ]
  },
  {
   "cell_type": "markdown",
   "id": "a6ddba",
   "metadata": {
    "collapsed": false
   },
   "source": [
    "<br>\n",
    "<em>SageMath</em> came up with quite a few automorphisms. Let's see how many we have.<br>"
   ]
  },
  {
   "cell_type": "code",
   "execution_count": 0,
   "id": "e83b11",
   "metadata": {
    "collapsed": false
   },
   "outputs": [
   ],
   "source": [
    "len(A)"
   ]
  },
  {
   "cell_type": "markdown",
   "id": "110b14",
   "metadata": {
    "collapsed": false
   },
   "source": [
    "<br>\n",
    "Therefore, we have found 168 different automorphisms of <em>Z</em><sub>24</sub><sup>&ast;</sup>. We saw that this was the maximum number of automorphisms we could have, so \n",
    "we must have all of them.  However, this is a difficult way to see the elements of the group!  It is a challenge just to see if a given permutation is somewhere in this \n",
    "list. Is there an easier way of viewing this group?<br><br>\n",
    "\n",
    "One way to tidy up this long list is to convert the permutations to numbers. Recall that in Chapter 6 we ordered all of the permutations, thereby converting every \n",
    "permutation to a number.  Setting <strong>DisplayPermInt</strong> to <strong>true</strong> causes the permutations to be displayed as integers. <br>"
   ]
  },
  {
   "cell_type": "code",
   "execution_count": 0,
   "id": "1a2e3f",
   "metadata": {
    "collapsed": false
   },
   "outputs": [
   ],
   "source": [
    "DisplayPermInt = true"
   ]
  },
  {
   "cell_type": "code",
   "execution_count": 0,
   "id": "d2e19d",
   "metadata": {
    "collapsed": false
   },
   "outputs": [
   ],
   "source": [
    "A"
   ]
  },
  {
   "cell_type": "markdown",
   "id": "89e0a8",
   "metadata": {
    "collapsed": false
   },
   "source": [
    "<br>\n",
    "This looks much more manageable.  By displaying the permutations <em>f</em> and <em>g</em>,<br>"
   ]
  },
  {
   "cell_type": "code",
   "execution_count": 0,
   "id": "c3d1f4",
   "metadata": {
    "collapsed": false
   },
   "outputs": [
   ],
   "source": [
    "f"
   ]
  },
  {
   "cell_type": "code",
   "execution_count": 0,
   "id": "62ed59",
   "metadata": {
    "collapsed": false
   },
   "outputs": [
   ],
   "source": [
    "g"
   ]
  },
  {
   "cell_type": "markdown",
   "id": "186b6a",
   "metadata": {
    "collapsed": false
   },
   "source": [
    "we see that <em>f</em> and <em>g</em> represent the 187th and the 723rd permutations.<br><br>\n",
    "\n",
    "This is the largest group with which we will work using <em>SageMath</em>.  In fact we will discover in the next chapter that this group has some <em>very</em> special \n",
    "properties. We will explore this group in detail using <em>SageMath</em> in the next chapter.<br><br>\n"
   ]
  },
  {
   "cell_type": "markdown",
   "id": "8fce57",
   "metadata": {
    "collapsed": false
   },
   "source": [
    "<a name=\"sec74\" id=\"sec74\"></a>\n",
    "<h1>Semi-Direct Products</h1>\n",
    "\n",
    "<br>\n",
    "So far in this chapter we have seen how we can combine two groups <em>H</em> and <em>K</em> together to form a larger group <em>H</em> &times; <em>K</em> using the direct\n",
    "product. We then saw that <em>H</em> &times; <em>K</em> had isomorphic copies of <em>H</em> and <em>K</em> as normal subgroups. <br><br>\n",
    "\n",
    "In this section, we will see another way to combine two groups <em>H</em> and <em>K</em>. Once again the larger group will have isomorphic copies of <em>H</em> and \n",
    "<em>K</em> as subgroups, but only <em>one</em> of the two subgroups will be a normal subgroup. For this reason, the combination of groups is called a \n",
    "<em>semi-direct product</em>.<br><br>\n",
    "\n",
    "Suppose that <em>H</em> and <em>K</em> are any two groups, and suppose that we have a homomorphism\n",
    "<p style='text-align: center;'><em>&#981;</em>: <em>H</em> &rarr; Aut(<em>K</em>). </p>\n",
    "That is, for every <em>h</em> in <em>H</em>, <em>&#981;</em>(<em>h</em>) will be a mapping from <em>K</em> into <em>K</em>. Because the output of the function \n",
    "<em>&#981;</em> is again a function, we will write <em>&#981;<sub>h</sub></em> instead of <em>&#981;</em>(<em>h</em>). This way we can write \n",
    "<em>&#981;<sub>h</sub></em>(<em>k</em>) to express the function <em>&#981;<sub>h</sub></em> evaluated at <em>k</em>.  That is, if <em>h</em><sub>1</sub> and \n",
    "<em>h</em><sub>2</sub> are two elements of <em>H</em>, then <nobr><em>&#981;</em><sub><em>h</em>&#8321;</sub>(<em>k</em>)</nobr> and \n",
    "<em>&#981;</em><sub><em>h</em>&#8322;</sub>(<em>k</em>) will be two automorphisms of <em>K</em>, and also \n",
    "<p style='text-align: center;'><em>&#981;</em><sub><em>h</em>&#8321;&middot;<em>h</em>&#8322;</sub>(<em>k</em>) = \n",
    "(<em>&#981;</em><sub><em>h</em>&#8321;</sub>&middot;<em>&#981;</em><sub><em>h</em>&#8322;</sub>)(<em>k</em>) = \n",
    "<em>&#981;</em><sub><em>h</em>&#8321;</sub>(<em>&#981;</em><sub><em>h</em>&#8322;</sub>(<em>k</em>)).</p>\n",
    "(Recall that <em>&#981;</em><sub><em>h</em>&#8321;</sub>&middot;<em>&#981;</em><sub><em>h</em>&#8322;</sub> means we do <em>&#981;</em><sub><em>h</em>&#8322;</sub> \n",
    "first, then do <em>&#981;</em><sub><em>h</em>&#8321;</sub>.)<br><br>\n",
    "\n",
    "There will always be at least one possible homomorphism from <em>H</em> to Aut(<em>K</em>) since we could let <em>&#981;<sub>h</sub></em> be the identity automorphism \n",
    "for all <em>h</em>. However, there will usually be several other possible homomorphisms from <em>H</em> to Aut(<em>K</em>). For each such homomorphism, we can define \n",
    "a product of <em>K</em> and <em>H</em>. <br><br>\n",
    "\n",
    "DEFINITION 7.6<br>\n",
    "Let <em>K</em> and <em>H</em> be two groups, and let <em>G</em> to be the set of all ordered pairs (<em>k</em>, <em>h</em>), where <em>k</em> is in <em>K</em> and \n",
    "<em>h</em> is in <em>H</em>. Let <em>&#981;</em> be a nontrivial homomorphism from <em>H</em> to Aut(<em>K</em>). Then the \n",
    "<em>semi-direct product of K with H through &#981;</em>, \n",
    "denoted\n",
    "<p style='text-align: center;'><em>K</em> &#8906;<sub><em>&#981;</em></sub><em>H</em>,</p> \n",
    "is the set <em>G</em> with multiplication defined by\n",
    "<p style='text-align: center;'>(<em>k</em><sub>1</sub>, <em>h</em><sub>1</sub>)&middot;(<em>k</em><sub>2</sub>, <em>h</em><sub>2</sub>) = \n",
    "(<em>k</em><sub>1</sub>&middot;<em>&#981;</em><sub><em>h</em>&#8321;</sub>(<em>k</em><sub>2</sub>), <em>h</em><sub>1</sub>&middot;<em>h</em><sub>2</sub>).</p>\n",
    "\n",
    "<p />\n",
    "<a name=\"prop76ret\" id=\"prop76ret\"></a>\n",
    "PROPOSITION 7.6<br>\n",
    "The semi-direct product of <em>K</em> with <em>H</em> through <em>&#981;</em> is a group.<br><br>\n",
    "\n",
    "<a href=\"#prop76\">Click here for the proof.</a>\n",
    "\n",
    "<p />\n",
    "<br>\n",
    "EXAMPLE<br>\n",
    "\n",
    "Find a semi-direct product <em>Z</em><sub>3</sub> &#8906;<sub><em>&#981;</em></sub> <em>Z</em><sub>2</sub>. <br>\n",
    "\n",
    "First we find that Aut(<em>Z</em><sub>3</sub>) &asymp; <em>Z</em><sub>3</sub><sup>*</sup> &asymp; <em>Z</em><sub>2</sub>.  \n",
    "Hence, there is only one non-trivial automorphism on <em>Z</em><sub>3</sub>, \n",
    "which is <em>x</em> &rarr; <em>x</em><sup>&minus;1</sup>.\n",
    "To get a non-trivial automorphism from <em>Z</em><sub>2</sub> to Aut(<em>Z</em><sub>3</sub>), we must have 0 map the the identity automorphism, and 1 map to the other automorphism.  That is, <em>&#981;</em><sub>0</sub>(<em>x</em>) = <em>x</em> and  <em>&#981;</em><sub>1</sub>(<em>x</em>) = <em>x</em><sup>&minus;1</sup>. Thus, \n",
    "<p style='text-align: center;'>(2,1)&middot;(1,0) = (2&middot;<em>&#981;</em><sub>1</sub>(1), 1&middot;0) = (2&middot;2, 1&middot;0) = (1, 1).</p>\n",
    "We will see below how to enter this group into <em>SageMath</em>.\n",
    "\n",
    "\n",
    "A semi-product of two groups acts in many ways like the direct product. One property that is in common is that there are copies of the two original groups within the \n",
    "product. In fact, we have the following:\n",
    "\n",
    "<p />\n",
    "<a name=\"lem77ret\" id=\"lem77ret\"></a>\n",
    "LEMMA 7.7<br>\n",
    "Let <em>G</em> = <em>K</em> &#8906;<sub><em>&#981;</em></sub><em>H</em> be the semi-direct product of <em>K</em> with <em>H</em> through the homomorphism \n",
    "<em>&#981;</em>.  Suppose that <em>e</em><sub>1</sub> is the identity element of <em>K</em>, and <em>e</em><sub>2</sub> is the identity element of <em>H</em>.  Then \n",
    "<p style='text-align: center;'><font style=\"text-decoration:overline\"><em>H</em></font> = { (<em>e</em><sub>1</sub>, <em>h</em>) | <em>h</em> &isin; <em>H</em> }</p>\n",
    "is a subgroup of <em>G</em>, and\n",
    "<p style='text-align: center;'><font style=\"text-decoration:overline\"><em>K</em></font> = { (<em>k</em>, <em>e</em><sub>2</sub>) | <em>k</em> &isin; <em>K</em> }</p>\n",
    "is a normal subgroup of <em>G</em>. Furthermore, \n",
    "<p style='text-align: center;'><font style=\"text-decoration:overline\"><em>H</em></font> &asymp; <em>H</em>, &emsp; \n",
    "<font style=\"text-decoration:overline\"><em>K</em></font> &asymp; <em>K</em>,</p>\n",
    "and <font style=\"text-decoration:overline\"><em>H</em></font> &cap; <font style=\"text-decoration:overline\"><em>K</em></font> is the identity element of <em>G</em>.<br><br>\n",
    "\n",
    "<a href=\"#lem77\">Click here for the proof.</a>\n",
    "\n",
    "<p />\n",
    "Since the semi-direct product contains copies of the two smaller groups within itself, the natural question is whether an arbitrary group <em>G</em> can be expressed as \n",
    "a semi-direct product of two of its subgroups. The conditions for when this will happen is set forth in the following theorem.\n",
    "\n",
    "<p />\n",
    "<a name=\"theor73ret\" id=\"theor73ret\"></a>\n",
    "THEOREM 7.3: The Semi-Direct Product Theorem<br>\n",
    "Suppose that a group <em>G</em> has two subgroups <em>N</em> and <em>H</em> whose intersection is the identity element. If <em>N</em> is a normal subgroup of <em>G</em> \n",
    "and <em>H</em> is <em>not</em> a normal subgroup of <em>N</em>&middot;<em>H</em>, then there exists a nontrivial homomorphism <em>&#981;</em> from <em>H</em> to \n",
    "Aut(<em>N</em>) such that\n",
    "<p style='text-align: center;'><em>N</em>&middot;<em>H</em> &asymp; <em>N</em> &#8906;<sub><em>&#981;</em></sub><em>H</em>.</p>\n",
    "\n",
    "<a href=\"#theor73\">Click here for the proof.</a>\n",
    "\n",
    "<p />\n",
    "Enough of the technical proofs, let us learn how to define a semi-direct product with <em>SageMath</em>. We will use this result to define the semi-direct product of two \n",
    "groups in <em>SageMath</em>. We first must define the two groups <em>N</em> and <em>H</em> in <em>SageMath</em> using the same identity, using different letters for \n",
    "the generators. We must also know the homomorphism <em>&#981;</em> from <em>H</em> to Aut(<em>N</em>).<br><br>\n",
    "\n",
    "We will want to express every element into the form <em>k</em>&middot;<em>h</em>, where <em>k</em> is in <em>N</em>, and <em>h</em> is in <em>H</em>.<br><br>\n",
    "\n",
    "From the definition, we see that \n",
    "<p style='text-align: center;'>(<em>k</em>, <em>e</em><sub>2</sub>)&middot;(<em>e</em><sub>1</sub>, <em>h</em>) = (<em>k</em>&middot;<em>&#981;</em><sub><em>e</em>&#8322;</sub>(<em>e</em><sub>1</sub>), <em>e</em><sub>2</sub>&middot;<em>h</em>) = (<em>k</em>, <em>h</em>).</p>\n",
    "Thus, we see that <em>k</em>&middot;<em>h</em> can represent the ordered pair (<em>k</em>, <em>h</em>).  We need to tell <em>SageMath</em> how to handle expressions \n",
    "of the form <em>h</em>&middot;<em>k</em>.<br><br>\n",
    "For each generator <em>a</em> of <em>N</em>, and each generator <em>b</em> of <em>H</em>, we can calculate how <em>b</em>&middot;<em>a</em> should be defined by \n",
    "evaluating\n",
    "<p style='text-align: center;'>(<em>e</em><sub>1</sub>, <em>b</em>)&middot;(<em>a</em>, <em>e</em><sub>2</sub>) = (<em>e</em><sub>1</sub>&middot;<em>&#981;<sub>b</sub></em>(<em>a</em>), <em>b</em>&middot;<em>e</em><sub>2</sub>) = (<em>&#981;<sub>b</sub></em>(<em>a</em>), <em>b</em>).</p>\n",
    "So for each generator <em>a</em> of <em>H</em>, and each generator <em>b</em> of <em>N</em>, we make a definition of the form<br><br>\n",
    "<strong>Define(b * a, <em>&#981;<sub>b</sub></em>(<em>a</em>) * b )</strong><br><br>\n",
    "where we replace the expression <em>&#981;<sub>b</sub></em>(<em>a</em>) with its element of <em>N</em>.  For the group <em>Z</em><sub>3</sub> &#8906;<sub><em>&#981;</em></sub> <em>Z</em><sub>2</sub> in the above example, we would let <em>a</em> \n",
    "be the generator of <em>Z</em><sub>3</sub>, so <em>a</em><sup>3</sup> = <em>e</em>, and <em>b</em> be the generator of <em>Z</em><sub>2</sub>, so <em>b</em><sup>2</sup> = <em>e</em>.  Then we would define <em>b</em>&middot;<em>a</em> = <em>a</em><sup>&minus;1</sup>&middot;<em>b</em> = <em>a</em><sup>2</sup>&middot;<em>b</em>.<br><br>\n",
    "\n",
    "EXAMPLE:<br>\n",
    "\n",
    "Use <em>SageMath</em> to find a semi-direct product of <em>Z</em><sub>5</sub> with <em>Z</em><sub>2</sub>.<br><br>\n",
    "\n",
    "We first must define <em>Z</em><sub>5</sub> and \n",
    "<em>Z</em><sub>2</sub> into <em>SageMath</em> using the same identity but different generators.<br>"
   ]
  },
  {
   "cell_type": "code",
   "execution_count": 0,
   "id": "65010f",
   "metadata": {
    "collapsed": false
   },
   "outputs": [
   ],
   "source": [
    "InitGroup(\"e\")\n",
    "AddGroupVar(\"a\", \"b\")\n",
    "Define(a^5, e)\n",
    "Define(b^2, e)\n",
    "Z5 = Group(a); Z5"
   ]
  },
  {
   "cell_type": "code",
   "execution_count": 0,
   "id": "564053",
   "metadata": {
    "collapsed": false
   },
   "outputs": [
   ],
   "source": [
    "Z2 = Group(b); Z2"
   ]
  },
  {
   "cell_type": "markdown",
   "id": "f7110e",
   "metadata": {
    "collapsed": false
   },
   "source": [
    "<br>\n",
    "Next, we must find a nontrivial homomorphism <em>&#981;</em> from <em>Z</em><sub>2</sub> to Aut(<em>Z</em><sub>5</sub>). But\n",
    "<p style='text-align: center;'>Aut(<em>Z</em><sub>5</sub>) &asymp; <em>Z</em><sub>5</sub><sup>&ast;</sup> &asymp; <em>Z</em><sub>4</sub>.</p>\n",
    "Since the element <em>b</em> is of order 2, <em>&#981;</em>(<em>b</em>)<sup>2</sup> = <em>&#981;</em>(<em>b</em><sup>2</sup>) = <em>e</em>, so \n",
    "<em>&#981;</em>(<em>b</em>) must be of order 2 to keep the homomorphism from being trivial. We need <em>&#981;</em>(<em>b</em>) to map to the only element of \n",
    "Aut(<em>Z</em><sub>5</sub>) which is of order 2.<br><br>\n",
    "\n",
    "Which element is this? With a moment's reflection, we can see that\n",
    "<p style='text-align: center;'><em>&fnof;</em>: <em>N</em> &rarr; <em>N</em>,&emsp;<em>&fnof;</em>(<em>k</em>) = <em>k</em><sup>&minus;1</sup></p>\n",
    "will always be an automorphism of whenever <em>N</em> is an abelian group. As long as <em>N</em> has an element that is not its own inverse, this automorphism will be \n",
    "of order 2.<br><br> \n",
    "\n",
    "Therefore, to find a semi-direct product of <em>Z</em><sub>5</sub> by <em>Z</em><sub>2</sub>, we must let <em>&#981;<sub>b</sub></em> be the automorphism \n",
    "<em>&fnof;</em>(<em>k</em>) = <em>k</em><sup>&minus;1</sup>. Then <em>&#981;<sub>b</sub></em>(<em>a</em>) = <em>a</em><sup>&minus;1</sup> = <em>a</em><sup>4</sup>. \n",
    "So the definition<br>"
   ]
  },
  {
   "cell_type": "code",
   "execution_count": 0,
   "id": "af0ea8",
   "metadata": {
    "collapsed": false
   },
   "outputs": [
   ],
   "source": [
    "Define(b*a, a^4*b)"
   ]
  },
  {
   "cell_type": "markdown",
   "id": "43e613",
   "metadata": {
    "collapsed": false
   },
   "source": [
    "<br>\n",
    "completes the definition of the semi-direct product. We now have the group along with the Cayley table:<br>"
   ]
  },
  {
   "cell_type": "code",
   "execution_count": 0,
   "id": "62024a",
   "metadata": {
    "collapsed": false
   },
   "outputs": [
   ],
   "source": [
    "G = Group(); G"
   ]
  },
  {
   "cell_type": "code",
   "execution_count": 0,
   "id": "308d8b",
   "metadata": {
    "collapsed": false
   },
   "outputs": [
   ],
   "source": [
    "CayleyTable(G)"
   ]
  },
  {
   "cell_type": "markdown",
   "id": "87d5bd",
   "metadata": {
    "collapsed": false
   },
   "source": [
    "<br>\n",
    "This is the semi-direct product <em>Z</em><sub>5</sub> &#8906; <em>Z</em><sub>2</sub>, a non-abelian group of order 10.  Note that when there is only one possible \n",
    "semi-direct product between two groups, we can leave out the <em>&#981;</em> in the notation.<br><br>\n",
    "\n",
    "We can ask <em>SageMath</em> what this group is, using the command <strong>StructureDescription()</strong>.  This command analyzes the last group defined using \n",
    "the <strong>InitGroup</strong> and <strong>Define</strong> commands."
   ]
  },
  {
   "cell_type": "code",
   "execution_count": 0,
   "id": "60f0d2",
   "metadata": {
    "collapsed": false
   },
   "outputs": [
   ],
   "source": [
    "StructureDescription()"
   ]
  },
  {
   "cell_type": "markdown",
   "id": "021d39",
   "metadata": {
    "collapsed": false
   },
   "source": [
    "<em>SageMath</em> says that this group is <em>D</em><sub>5</sub>, which was introduced in &sect;5.1 as the dihedral group of order 10.\n",
    "<br><br>\n",
    "\n",
    "EXPERIMENT:<br>\n",
    "Find a semi-direct product <em>Z</em><sub>6</sub> &#8906; <em>Z</em><sub>2</sub>.  Then ask <em>SageMath</em> what the group is using \n",
    "the <strong>StructureDescription()</strong> command.<br>"
   ]
  },
  {
   "cell_type": "markdown",
   "id": "73bbe9",
   "metadata": {
    "collapsed": false
   },
   "source": [
    "<br>\n",
    "Even though we already defined the dihedral groups in &sect;5.1, we can now define these groups as a semi-direct \n",
    "product.<br><br>\n",
    "\n",
    "DEFINITION 7.7:<br>\n",
    "Let <em>n</em> &gt; 2, and let <em>&#981;</em> be the homomorphism from <em>Z</em><sub>2</sub> = {<em>e</em>, <em>b</em>} to Aut(<em>Z<sub>n</sub></em>) given by\n",
    "<p style='text-align: center;'><em>&#981;<sub>e</sub></em>(<em>k</em>) = <em>k</em>,&emsp;<em>&#981;<sub>b</sub></em>(<em>k</em>) = <em>k</em><sup>&minus;1</sup>.</p>\n",
    "Then the dihedral group <em>D<sub>n</sub></em> can be expressed as the semi-direct product <em>Z<sub>n</sub></em> &#8906;<sub><em>&#981;</em></sub> <em>Z</em><sub>2</sub>.  This group can be defined in <em>SageMath</em> by the following commands, replacing <em>n</em> with an integer before executing the commands.<br>\n",
    "\n",
    "<strong>InitGroup(\"e\")</strong><br>\n",
    "<strong>AddGroupVar(\"a\", \"b\")</strong><br>\n",
    "<strong>Define(a^</strong><em>n</em><strong>, e)</strong><br>\n",
    "<strong>Define(b^2, e)</strong><br>\n",
    "<strong>Define(b&ast;a, a^-1&ast;b)</strong><br>\n",
    "<strong>Dn = Group(a, b)</strong><br><br>\n",
    "\n",
    "It should be noted that the semi-direct product may greatly depend on the choice of the homomorphism <em>&#981;</em>.<br><br>\n",
    "\n",
    "EXAMPLE:<br>\n",
    "Consider finding the semi-direct products \n",
    "of <em>Z</em><sub>8</sub> with <em>Z</em><sub>2</sub>. The dihedral group <em>D</em><sub>8</sub> is certainly one such product, but there could be others.  The homomorphism \n",
    "<em>&#981;</em> would have to map the element <em>b</em> of order 2 in <em>Z</em><sub>2</sub> to an element of order 2 in Aut(<em>Z</em><sub>8</sub>). But since\n",
    "<p style='text-align: center;'>Aut(<em>Z</em><sub>8</sub>) &asymp; <em>Z</em><sub>8</sub><sup>&ast;</sup> &asymp; <em>Z</em><sub>2</sub> &times; <em>Z</em><sub>2</sub></p>\n",
    "has three elements of order 2, we have three choices of what <em>&#981;<sub>b</sub></em> could be. Do these produce different groups?<br><br>\n",
    "\n",
    "To explore this possibility, let us first load in the dihedral group <em>D</em><sub>8</sub>.<br>"
   ]
  },
  {
   "cell_type": "code",
   "execution_count": 0,
   "id": "f7344d",
   "metadata": {
    "collapsed": false
   },
   "outputs": [
   ],
   "source": [
    "InitGroup(\"e\")\n",
    "AddGroupVar(\"a\", \"b\")\n",
    "Define(a^8, e)\n",
    "Define(b^2, e)\n",
    "Define(b*a, a^7*b)\n",
    "D8 = Group(); D8"
   ]
  },
  {
   "cell_type": "code",
   "execution_count": 0,
   "id": "8e6fb5",
   "metadata": {
    "collapsed": false
   },
   "outputs": [
   ],
   "source": [
    "CayleyTable(D8)"
   ]
  },
  {
   "cell_type": "markdown",
   "id": "4674e1",
   "metadata": {
    "collapsed": false
   },
   "source": [
    "<br>\n",
    "We can check that we have defined <em>D</em><sub>8</sub>:<br>"
   ]
  },
  {
   "cell_type": "code",
   "execution_count": 0,
   "id": "5efbae",
   "metadata": {
    "collapsed": false
   },
   "outputs": [
   ],
   "source": [
    "StructureDescription()"
   ]
  },
  {
   "cell_type": "markdown",
   "id": "04878b",
   "metadata": {
    "collapsed": false
   },
   "source": [
    "<br>\n",
    "Notice that the main diagonal contains 10 <em>e</em>'s. This means that there are 9 elements of <em>D</em><sub>8</sub> which are of order 2. This will be useful for \n",
    "later comparisons. <br><br>\n",
    "\n",
    "What are the other automorphisms on <em>Z</em><sub>8</sub>?  Since <em>Z</em><sub>8</sub><sup>&ast;</sup> = {1, 3, 5, 7}, we have the automorphisms\n",
    "<p style='text-align: center;'><em>&#981;</em>(<em>a</em>) = <em>a</em>, &emsp; <em>&#981;</em>(<em>a</em>) = <em>a</em><sup>3</sup>, &emsp; <em>&#981;</em>(<em>a</em>) = \n",
    "<em>a</em><sup>5</sup>, &ensp; and &ensp; <em>&#981;</em>(<em>a</em>) = <em>a</em><sup>7</sup> = <em>a</em><sup>-1</sup>.</p>\n",
    "The first automorphism is the trivial automorphism, and the last is the one we just considered. Suppose we let \n",
    "<em>&#981;<sub>b</sub></em>(<em>a</em>) = <em>a</em><sup>3</sup>. Then <em>b</em>&middot;<em>a</em> = <em>a</em><sup>3</sup>&middot;<em>b</em>, so we can enter this \n",
    "into <em>SageMath</em> with the commands<br>"
   ]
  },
  {
   "cell_type": "code",
   "execution_count": 0,
   "id": "8d59e8",
   "metadata": {
    "collapsed": false
   },
   "outputs": [
   ],
   "source": [
    "InitGroup(\"e\")\n",
    "AddGroupVar(\"a\", \"b\")\n",
    "Define(a^8, e)\n",
    "Define(b^2, e)\n",
    "Define(b*a, a^3*b)\n",
    "G = Group(); G"
   ]
  },
  {
   "cell_type": "code",
   "execution_count": 0,
   "id": "6a1aec",
   "metadata": {
    "collapsed": false
   },
   "outputs": [
   ],
   "source": [
    "CayleyTable(G)"
   ]
  },
  {
   "cell_type": "markdown",
   "id": "990b99",
   "metadata": {
    "collapsed": false
   },
   "source": [
    "<br>\n",
    "Is this the same group as the dihedral group? Look along the main diagonal. We can count six occurrences of the identity element, so only five elements of this group are \n",
    "of order 2. Therefore this cannot be isomorphic to <em>D</em><sub>8</sub>.  What does <em>SageMath</em> call this group?<br>"
   ]
  },
  {
   "cell_type": "code",
   "execution_count": 0,
   "id": "6e3c1a",
   "metadata": {
    "collapsed": false
   },
   "outputs": [
   ],
   "source": [
    "StructureDescription()"
   ]
  },
  {
   "cell_type": "markdown",
   "id": "58a9bf",
   "metadata": {
    "collapsed": false
   },
   "source": [
    "<br>\n",
    "<em>SageMath</em> calls this group \"QD16,\" since this is the <em>quasidihedral group</em> of order 16, written <em>QD</em><sub>16</sub>.<br><br>\n",
    "\n",
    "What if we let <em>&#981;<sub>b</sub></em>(<em>a</em>) = <em>a</em><sup>5</sup>?  We would have <em>b</em>&middot;<em>a</em> = <em>a</em><sup>5</sup>&middot;<em>b</em>, \n",
    "and so we would use the following commands to enter this group into <em>SageMath</em>:<br>"
   ]
  },
  {
   "cell_type": "code",
   "execution_count": 0,
   "id": "e15b37",
   "metadata": {
    "collapsed": false
   },
   "outputs": [
   ],
   "source": [
    "InitGroup(\"e\")\n",
    "AddGroupVar(\"a\", \"b\")\n",
    "Define(a^8, e)\n",
    "Define(b^2, e)\n",
    "Define(b*a, a^5*b)\n",
    "M = Group(); M"
   ]
  },
  {
   "cell_type": "code",
   "execution_count": 0,
   "id": "54a707",
   "metadata": {
    "collapsed": false
   },
   "outputs": [
   ],
   "source": [
    "CayleyTable(M)"
   ]
  },
  {
   "cell_type": "markdown",
   "id": "8c02c6",
   "metadata": {
    "collapsed": false
   },
   "source": [
    "<br>\n",
    "How many elements of this group are of order 2? This time there are only four occurrences of the identity along the main diagonal, so there are only three elements of \n",
    "order 2.  Thus we have yet another non-isomorphic group.  <em>SageMath</em>'s name for this group:<br>"
   ]
  },
  {
   "cell_type": "code",
   "execution_count": 0,
   "id": "21928a",
   "metadata": {
    "collapsed": false
   },
   "outputs": [
   ],
   "source": [
    "StructureDescription()"
   ]
  },
  {
   "cell_type": "markdown",
   "id": "6ff410",
   "metadata": {
    "collapsed": false
   },
   "source": [
    "<br>\n",
    "The colon denotes the semi-direct product symbol, &#8906;.  <em>SageMath</em> is identifying this as a semi-direct product, but not telling us which one.  In fact, two non-isomorphic groups can sometimes produce the same <strong>StructureDescription()</strong> result.<br><br>\n",
    "\n",
    "We see in these three examples that the semi-direct product <em>N</em> &#8906;<sub><em>&#981;</em></sub><em>H</em> depends on the choice of the homomorphism \n",
    "<em>&#981;</em> form <em>H</em> into Aut(<em>N</em>). In fact, even though the three non-identity elements of <em>Z</em><sub>8</sub><sup>&ast;</sup> are essentially \n",
    "equivalent (The automorphism group of <em>Z</em><sub>8</sub><sup>&ast;</sup> included all permutations of these three elements), we see that the three elements produced \n",
    "three different semi-direct products of <em>Z</em><sub>8</sub> with <em>Z</em><sub>2</sub>.<br><br>\n",
    "\n",
    "This example is really more of an exception rather than a rule. Part of what makes this example unusual is that the automorphism group <em>Z</em><sub>8</sub><sup>&ast;</sup> \n",
    "is abelian, and hence does not have any nontrivial <em>inner</em> automorphisms. We will see in the next proposition that if two homomorphisms <em>&#981;</em> and \n",
    "<em>&fnof;</em> from <em>H</em> to Aut(<em>N</em>) are related through an <em>inner</em> automorphism of Aut(<em>N</em>), then the corresponding semi-direct products will \n",
    "be isomorphic.\n",
    "\n",
    "<p />\n",
    "<a name=\"prop77ret\" id=\"prop77ret\"></a>\n",
    "PROPOSITION 7.7<br>\n",
    "Let <em>&#981;</em> be a homomorphism from a group <em>H</em> to the group Aut(<em>N</em>). Suppose that <em>&fnof;</em> is another homomorphism such that\n",
    "<p style='text-align: center;'><em>&fnof;<sub>h</sub></em>(<em>k</em>) = <em>w</em>(<em>&#981;<sub>h</sub></em>(<em>w</em><sup>-1</sup>(<em>k</em>))),</p>\n",
    "where <em>w</em>(<em>k</em>) is an automorphism of <em>N</em>. Then \n",
    "<p style='text-align: center;'><em>N</em> &#8906;<sub><em>&fnof;</em></sub>&thinsp;<em>H</em> &asymp; <em>N</em> &#8906;<sub><em>&#981;</em></sub><em>H</em></p>\n",
    "\n",
    "<a href=\"#prop77\">Click here for the proof.</a>\n",
    "\n",
    "<p />\n",
    "It is also clear that two homomorphisms <em>&#981;</em> and <em>&fnof;</em> are related through an automorphism of <em>H</em>, the semi-direct products must be \n",
    "isomorphic since we are merely relabeling the elements of <em>H</em>. As a result there will be many instances in which there will be only one non-isomorphic \n",
    "semi-direct product of <em>N</em> by <em>H</em>. Whenever this happens, we can denote the semi-direct product as\n",
    "<p style='text-align: center;'><em>N</em> &#8906; <em>H</em></p>\n",
    "without having to specify the homomorphism <em>&#981;</em>. <br><br>\n",
    "\n",
    "We will find that we can describe many groups in terms of semi-direct products that would be hard to describe in any other way. With <em>SageMath</em>, the structure of \n",
    "these semi-direct products can easily be studied."
   ]
  },
  {
   "cell_type": "markdown",
   "id": "60384a",
   "metadata": {
    "collapsed": false
   },
   "source": [
    "<br><br><br><br><br><br><br><br><br><br><br><br><br><br><br><br><br><br><br><br><br><br><br><br><br><br><br><br><br><br><br><br><br><br><br><br><br><br><br><br><br><br>"
   ]
  },
  {
   "cell_type": "markdown",
   "id": "e6b21c",
   "metadata": {
    "collapsed": false
   },
   "source": [
    "<h1>Proofs:</h1>"
   ]
  },
  {
   "cell_type": "markdown",
   "id": "066ff8",
   "metadata": {
    "collapsed": false
   },
   "source": [
    "<a name=\"prop71\" id=\"prop71\"></a>\n",
    "Proof of Proposition 7.1:<br><br>\n",
    "\n",
    "First, suppose that <em>H</em> and <em>K</em> are both abelian. Then for two elements (<em>h</em><sub>1</sub>, <em>k</em><sub>1</sub>) and (<em>h</em><sub>2</sub>, \n",
    "<em>k</em><sub>2</sub>) in <em>H</em> &times; <em>K</em>, we have\n",
    "<p style='text-align: center;'>(<em>h</em><sub>1</sub>, <em>k</em><sub>1</sub>)&middot;(<em>h</em><sub>2</sub>, <em>k</em><sub>2</sub>) \n",
    "= (<em>h</em><sub>1</sub>&middot;<em>h</em><sub>2</sub>, <em>k</em><sub>1</sub>&middot;<em>k</em><sub>2</sub>)\n",
    "= (<em>h</em><sub>2</sub>&middot;<em>h</em><sub>1</sub>, <em>k</em><sub>2</sub>&middot;<em>k</em><sub>1</sub>)\n",
    "= (<em>h</em><sub>2</sub>, <em>k</em><sub>2</sub>)&middot;(<em>h</em><sub>1</sub>, <em>k</em><sub>1</sub>). </p>\n",
    "So the two elements in <em>H</em> &times; <em>K</em> commute. Hence, <em>H</em> &times; <em>K</em> is abelian.<br><br>\n",
    "\n",
    "Now suppose that <em>H</em> &times; <em>K</em> is commutative. We then have\n",
    "<p style='text-align: center;'>(<em>h</em><sub>1</sub>&middot;<em>h</em><sub>2</sub>, <em>k</em><sub>1</sub>&middot;<em>k</em><sub>2</sub>)\n",
    "= (<em>h</em><sub>1</sub>, <em>k</em><sub>1</sub>)&middot;(<em>h</em><sub>2</sub>, <em>k</em><sub>2</sub>) \n",
    "= (<em>h</em><sub>2</sub>, <em>k</em><sub>2</sub>)&middot;(<em>h</em><sub>1</sub>, <em>k</em><sub>1</sub>)\n",
    "= (<em>h</em><sub>2</sub>&middot;<em>h</em><sub>1</sub>, <em>k</em><sub>2</sub>&middot;<em>k</em><sub>1</sub>).</p>\n",
    "Comparing components, we see that <em>h</em><sub>1</sub>&middot;<em>h</em><sub>2</sub> = \n",
    "<em>h</em><sub>2</sub>&middot;<em>h</em><sub>1</sub> and <em>k</em><sub>1</sub>&middot;<em>k</em><sub>2</sub> = \n",
    "<em>k</em><sub>2</sub>&middot;<em>k</em><sub>1</sub>.   Since this is true for all <em>h</em><sub>1</sub> and <em>h</em><sub>2</sub> in <em>H</em>, and all \n",
    "<em>k</em><sub>1</sub> and <em>k</em><sub>2</sub> in <em>K</em>, both <em>H</em> and <em>K</em> are abelian.<br><br>\n",
    "\n",
    "<a href=\"#prop71ret\">Return to text</a>"
   ]
  },
  {
   "cell_type": "markdown",
   "id": "8f7caf",
   "metadata": {
    "collapsed": false
   },
   "source": [
    "<br><br><br><br><br><br><br><br><br><br><br><br><br><br><br><br><br><br><br><br><br><br><br><br><br><br><br><br><br><br><br><br><br><br><br><br><br><br><br><br><br><br>"
   ]
  },
  {
   "cell_type": "markdown",
   "id": "d99cf2",
   "metadata": {
    "collapsed": false
   },
   "source": [
    "<a name=\"theor71\" id=\"theor71\"></a>\n",
    "Proof of Theorem 7.1:<br><br>\n",
    "\n",
    "First, let us show that every element in <em>H</em>&middot;<em>K</em> can be <em>uniquely</em> written in the form <em>h</em>&middot;<em>k</em>, where \n",
    "<em>h</em> &isin; <em>H</em> and <em>k</em> &isin; <em>K</em>. Suppose that \n",
    "<p style='text-align: center;'><em>h</em><sub>1</sub>&middot;<em>k</em><sub>1</sub> = <em>h</em><sub>2</sub>&middot;<em>k</em><sub>2</sub>.</p>\n",
    "Then <em>h</em><sub>2</sub><sup>-1</sup>&middot;<em>h</em><sub>1</sub> = <em>k</em><sub>2</sub>&middot;<em>k</em><sub>1</sub><sup>-1</sup>.  Since this element \n",
    "must be in both <em>H</em> and <em>K</em>, and the intersection of <em>H</em> and <em>K</em> is the identity element, we have that \n",
    "<p style='text-align: center;'><em>h</em><sub>2</sub><sup>-1</sup>&middot;<em>h</em><sub>1</sub> = <em>k</em><sub>2</sub>&middot;<em>k</em><sub>1</sub><sup>-1</sup> = \n",
    "<em>e</em>.</p>\n",
    "Thus, <em>h</em><sub>1</sub> = <em>h</em><sub>2</sub> and <em>k</em><sub>1</sub> = <em>k</em><sub>2</sub>.  Therefore, every element of <em>H</em>&middot;<em>K</em> can \n",
    "be written uniquely as <em>h</em>&middot;<em>k</em>, where <em>h</em> is in <em>H</em>, and <em>k</em> is in <em>K</em>.<br><br>\n",
    "\n",
    "Next, we need to show that <em>H</em>&middot;<em>K</em> is a group.  Since <em>h</em>&middot;<em>k</em> = <em>k</em>&middot;<em>h</em>  for all <em>h</em> &isin; <em>H</em>\n",
    "and <em>k</em> &isin; <em>K</em>, we have that <em>H</em>&middot;<em>K</em> = <em>K</em>&middot;<em>H</em>.  Thus, by Lemma 5.2, <em>H</em>&middot;<em>K</em> is a \n",
    "subgroup of <em>G</em>.<br><br>\n",
    "\n",
    "We can now define a mapping\n",
    "<p style='text-align: center;'><em>&#981;</em> : <em>H</em>&middot;<em>K</em> &rarr; <em>H</em> &times; <em>K</em></p>\n",
    "by <em>&#981;</em>(<em>x</em>) = (<em>h</em>, <em>k</em>), where <em>h</em> and <em>k</em> are the unique elements such that <em>h</em> &isin; <em>H</em>, \n",
    "<em>k</em> &isin; <em>K</em>, and <em>x</em> = <em>h</em>&middot;<em>k</em>. It is clear that <em>&#981;;</em> is one-to-one, since the element (<em>h</em>, <em>k</em>) \n",
    "can only have come from <em>h</em>&middot;<em>k</em>.  Also, <em>&#981;</em> is onto, for the element <em>h</em>&middot;<em>k</em> maps to (<em>h</em>, <em>k</em>). \n",
    "All that remains to show is that \n",
    "<em>&#981;</em>(<em>x</em>&middot;<em>y</em>) = <em>&#981;</em>(<em>x</em>)&middot;<em>&#981;</em>(<em>y</em>). \n",
    "Let <em>x</em> = <em>h</em><sub>1</sub>&middot;<em>k</em><sub>1</sub> and <em>y</em> = <em>h</em><sub>2</sub>&middot;<em>k</em><sub>2</sub>.  Then\n",
    "<p style='text-align: center;'><em>&#981;</em>(<em>x</em>&middot;<em>y</em>) = \n",
    "<em>&#981;</em>(<em>h</em><sub>1</sub>&middot;<em>k</em><sub>1</sub>&middot;<em>h</em><sub>2</sub>&middot;<em>k</em><sub>2</sub>) \n",
    "= <em>&#981;</em>(<em>h</em><sub>1</sub>&middot;<em>h</em><sub>2</sub>&middot;<em>k</em><sub>1</sub>&middot;<em>k</em><sub>2</sub>) \n",
    "= (<em>h</em><sub>1</sub>&middot;<em>h</em><sub>2</sub>, <em>k</em><sub>1</sub>&middot;<em>k</em><sub>2</sub>)\n",
    "= (<em>h</em><sub>1</sub>, <em>k</em><sub>1</sub>)&middot;(<em>h</em><sub>2</sub>, <em>k</em><sub>2</sub>)\n",
    "= <em>&#981;</em>(<em>x</em>)&middot;<em>&#981;</em>(<em>y</em>).</p>\n",
    "Thus, <em>&#981;</em> is an isomorphism, and so <em>H</em>&middot;<em>K</em> &asymp; <em>H</em> &times; <em>K</em>.<br><br>\n",
    " \n",
    "<a href=\"#theor71ret\">Return to text</a>"
   ]
  },
  {
   "cell_type": "markdown",
   "id": "6db998",
   "metadata": {
    "collapsed": false
   },
   "source": [
    "<br><br><br><br><br><br><br><br><br><br><br><br><br><br><br><br><br><br><br><br><br><br><br><br><br><br><br><br><br><br><br><br><br><br><br><br><br><br><br><br><br><br> "
   ]
  },
  {
   "cell_type": "markdown",
   "id": "c4b689",
   "metadata": {
    "collapsed": false
   },
   "source": [
    "<a name=\"prop72\" id=\"prop72\"></a>\n",
    "Proof of Proposition 7.2:<br><br>\n",
    "\n",
    "Let <em>e</em><sub>1</sub> denote the identity element of <em>H</em>, and <em>e</em><sub>2</sub> denote the identity element of <em>K</em>. An element \n",
    "<em>x</em> = (<em>h</em>, <em>k</em>) in <em>H</em> &times; <em>K</em> solves the equation <em>x<sup>n</sup></em> = (<em>e</em><sub>1</sub>, <em>e</em><sub>2</sub>) \n",
    "if and only if\n",
    "<p style='text-align: center;'><em>h<sup>n</sup></em> = <em>e</em><sub>1</sub>&emsp;and&emsp;<em>k<sup>n</sup></em> = <em>e</em><sub>2</sub>.</p>\n",
    "Since there are <em>R<sub>n</sub></em>(<em>H</em>) solutions to the former, and <em>R<sub>n</sub></em>(<em>K</em>) solutions to the latter, \n",
    "there are <em>R<sub>n</sub></em>(<em>H</em>)&middot;<em>R<sub>n</sub></em>(<em>K</em>) ordered pairs (<em>h</em>, <em>k</em>) \n",
    "that solve both of these equations. Thus, there are <em>R<sub>n</sub></em>(<em>H</em>)&middot;<em>R<sub>n</sub></em>(<em>K</em>) elements \n",
    "of <em>H</em> &times; <em>K</em> for which \n",
    "<em>x<sup>n</sup></em> = (<em>e</em><sub>1</sub>, <em>e</em><sub>2</sub>).<br><br>\n",
    " \n",
    "<a href=\"#prop72ret\">Return to text</a>"
   ]
  },
  {
   "cell_type": "markdown",
   "id": "778cbc",
   "metadata": {
    "collapsed": false
   },
   "source": [
    "<br><br><br><br><br><br><br><br><br><br><br><br><br><br><br><br><br><br><br><br><br><br><br><br><br><br><br><br><br><br><br><br><br><br><br><br><br><br><br><br><br><br>"
   ]
  },
  {
   "cell_type": "markdown",
   "id": "ff1425",
   "metadata": {
    "collapsed": false
   },
   "source": [
    "<a name=\"cor71\" id=\"cor71\"></a>\n",
    "Proof of Corollary 7.1:<br><br> \n",
    " \n",
    "The first condition of the direct product theorem (7.1) is given, so we only need to show that the second condition holds. That is, we need to show that \n",
    "<em>h</em>&middot;<em>k</em> = <em>k</em>&middot;<em>h</em> for all <em>h</em> in <em>H</em>, and <em>k</em> in <em>K</em>. Let <em>h</em> &isin; <em>H</em> \n",
    "and <em>k</em> &isin; <em>K</em>.<br><br>\n",
    "\n",
    "Since <em>K</em> is a normal subgroup of <em>G</em>, <em>h</em>&middot;<em>k</em>&middot;<em>h</em><sup>-1</sup> is in <em>K</em>. Thus, \n",
    "<em>h</em>&middot;<em>k</em>&middot;<em>h</em><sup>-1</sup>&middot;<em>k</em><sup>-1</sup> is also in <em>K</em>.<br><br>\n",
    "\n",
    "But <em>H</em> is also a normal subgroup of <em>G</em>, so <em>k</em>&middot;<em>h</em><sup>-1</sup>&middot;<em>k</em><sup>-1</sup> is in <em>H</em>.  Hence,\n",
    "<em>h</em>&middot;<em>k</em>&middot;<em>h</em><sup>-1</sup>&middot;<em>k</em><sup>-1</sup> is also in <em>H</em>.<br><br>\n",
    "\n",
    "We now use the fact that the only element in both <em>H</em> and <em>K</em> is <em>e</em>.  Thus, \n",
    "<em>h</em>&middot;<em>k</em>&middot;<em>h</em><sup>-1</sup>&middot;<em>k</em><sup>-1</sup> = <em>e</em>, which implies \n",
    "<em>h</em>&middot;<em>k</em> = <em>k</em>&middot;<em>h</em>. <br><br>\n",
    "\n",
    "Therefore, the second condition of the direct product theorem (7.1) holds, and so by this \n",
    "theorem, <em>H</em>&middot;<em>K</em> &asymp; <em>H</em> &times; <em>K</em>.<br><br> \n",
    " \n",
    "<a href=\"#cor71ret\">Return to text</a>"
   ]
  },
  {
   "cell_type": "markdown",
   "id": "d84898",
   "metadata": {
    "collapsed": false
   },
   "source": [
    "<br><br><br><br><br><br><br><br><br><br><br><br><br><br><br><br><br><br><br><br><br><br><br><br><br><br><br><br><br><br><br><br><br><br><br><br><br><br><br><br><br><br>"
   ]
  },
  {
   "cell_type": "markdown",
   "id": "10782e",
   "metadata": {
    "collapsed": false
   },
   "source": [
    "<a name=\"lem71\" id=\"lem71\"></a>\n",
    "Proof of Lemma 7.1:<br><br>  \n",
    " \n",
    "To check that <em>H</em> and <em>K</em> are indeed subgroups simply observe that since <em>G</em> is commutative the functions \n",
    "<em>&#981;</em>(<em>x</em>) = <em>x<sup>m</sup></em> and <em>&fnof;</em>(<em>x</em>) = <em>x<sup>n</sup></em> are both homomorphisms of <em>G</em>. \n",
    "Then <em>H</em> and <em>K</em> are the kernels of the mappings <em>&#981;</em> and <em>&fnof;</em>.<br><br>\n",
    "\n",
    "To show that <em>H</em> and <em>K</em> have only the identity element in common, we consider an element <em>x</em> in the intersection.  By the Chinese remainder \n",
    "theorem (1.5), there exists a non-negative number <em>k</em> &lt; <em>m</em>&middot;<em>n</em> such that\n",
    "<p style='text-align: center;'><em>k</em> <strong>mod</strong> <em>m</em> = 1 &emsp;and&emsp; <em>k</em> <strong>mod</strong> <em>n</em> = 0.</p>\n",
    "Then <em>k</em> = 1 + <em>m b</em> for some number <em>b</em>.  Thus,\n",
    "<p style='text-align: center;'><em>x<sup>k</sup></em> = <em>x</em><sup>(1+<em>m b</em>)</sup> = <em>x</em>&middot;(<em>x<sup>m</sup></em>)<sup><em>b</em></sup> \n",
    "= <em>x</em>&middot;<em>e<sup>b</sup></em> = <em>x</em></p>\n",
    "since <em>x</em> is in <em>H</em>. Yet <em>k</em> = <em>n c</em> for some number <em>c</em>, so\n",
    "<p style='text-align: center;'><em>x<sup>k</sup></em> = <em>x<sup>n c</sup></em> = (<em>x<sup>n</sup></em>)<sup><em>c</em></sup> = <em>e<sup>c</sup></em> = <em>e</em></p>\n",
    "since <em>x</em> is in <em>K</em>. Thus, <em>x</em> = <em>e</em>, and so <em>H</em> &cap; <em>K</em> = {<em>e</em>}. Since <em>G</em> is abelian, the direct product \n",
    "theorem (7.1) proves that\n",
    "<p style='text-align: center;'><em>H</em>&middot;<em>K</em> &asymp; <em>H</em> &times; <em>K</em>.</p>\n",
    "All that is left to prove is that <em>G</em> = <em>H</em>&middot;<em>K</em>. Let <em>g</em> be an element in <em>G</em>. Since <em>m</em> and <em>n</em> are coprime, \n",
    "by B&eacute;zout's lemma (1.3) there exists <em>a</em> and <em>b</em> such that\n",
    "<p style='text-align: center;'><em>a n</em> + <em>b m</em> = gcd(<em>m</em>, <em>n</em>) = 1.</p>\n",
    "Then \n",
    "<p style='text-align: center;'><em>g</em> = <em>g</em><sup>1</sup> = <em>g</em><sup>(<em>a n</em>+<em>b m</em>)</sup> = \n",
    "<em>g<sup>a n</sup></em>&middot;<em>g<sup>b m</sup></em>.</p>\n",
    "Now, (<em>g<sup>a n</sup></em>)<sup><em>m</em></sup> = (<em>g<sup>a</sup></em>)<sup><em>n m</em></sup> = <em>e</em>, so <em>g<sup>a n</sup></em> is in <em>H</em>.\n",
    "Likewise, <em>g<sup>b m</sup></em> is in <em>K</em>. Thus, every element of <em>G</em> is in <em>H</em>&middot;<em>K</em>, and so\n",
    "<p style='text-align: center;'><em>G</em> &asymp; <em>H</em> &times; <em>K</em>.</p>\n",
    " \n",
    "<a href=\"#lem71ret\">Return to text</a> "
   ]
  },
  {
   "cell_type": "markdown",
   "id": "b1e7c5",
   "metadata": {
    "collapsed": false
   },
   "source": [
    "<br><br><br><br><br><br><br><br><br><br><br><br><br><br><br><br><br><br><br><br><br><br><br><br><br><br><br><br><br><br><br><br><br><br><br><br><br><br><br><br><br><br>"
   ]
  },
  {
   "cell_type": "markdown",
   "id": "fcb294",
   "metadata": {
    "collapsed": false
   },
   "source": [
    "<a name=\"lem72\" id=\"lem72\"></a>\n",
    "Proof of Lemma 7.2:<br><br>   \n",
    " \n",
    "We will proceed using induction on the order of <em>G</em>.  If |<em>G</em>| is a prime number, then <em>p</em> must be |<em>G</em>|, \n",
    "and <em>G</em> must be isomorphic to <em>Z<sub>p</sub></em>. So there \n",
    "would be an element of order <em>p</em> in <em>G</em>.<br><br>\n",
    "\n",
    "Suppose that the assumption is true for all groups of order less than |<em>G</em>|. If <em>G</em> does not have any proper subgroups, then <em>G</em> would be a cyclic \n",
    "group of prime order (which we have already covered.)  Thus, we may assume that <em>G</em> has a subgroup <em>N</em> that is neither <em>G</em> nor {<em>e</em>}.<br><br>\n",
    "\n",
    "Since <em>G</em> is abelian all subgroups are normal. Thus we could consider the quotient group <em>G</em>/<em>N</em>.  Since |<em>G</em>| = \n",
    "|<em>N</em>| &middot; |<em>G</em>/<em>N</em>|, <em>p</em> must divide either |<em>N</em>| or |<em>G</em>/<em>N</em>|.  If <em>p</em> divides <em>N</em>, then because \n",
    "<em>N</em> is a smaller group than <em>G</em>, by induction <em>N</em> must have an element of order <em>p</em>, which would be in <em>G</em>.<br><br>\n",
    "\n",
    "If <em>p</em> does not divide |<em>N</em>| it must divide |<em>G</em>/<em>N</em>|. Since <em>G</em>/<em>N</em> is a smaller group than <em>G</em>, by induction \n",
    "<em>G</em>/<em>N</em> must have an element of order <em>p</em>. This element can be written <em>a N</em> for some <em>a</em> in <em>G</em>.<br><br>\n",
    "\n",
    "Since <em>a N</em> is of order <em>p</em>, <em>a</em> cannot be in <em>N</em>, yet <em>a</em><sup>&hairsp;<em>p</em></sup> must be in <em>N</em>. If <em>q</em> = |<em>N</em>|, \n",
    "we would have by Corollary 4.2 that (<em>a<sup>p</sup></em>)<sup><em>q</em></sup> = <em>e</em>.<br><br>\n",
    "\n",
    "If <em>b</em> = <em>a<sup>q</sup></em> is not the identity, then <em>b<sup>p</sup></em> = <em>e</em>, and so <em>b</em> would be the required element. \n",
    "But if <em>b</em> = <em>e</em>, then (<em>a N</em>)<sup><em>q</em></sup> = <em>N</em>. But <em>a N</em> was of order <em>p</em>, and \n",
    "so <em>p</em> \n",
    "must divide <em>q</em>. But we assumed that <em>p</em> did not divide <em>q</em> = |<em>N</em>|. Hence, <em>b</em> is not the identity, and so <em>G</em> has an element \n",
    "of order <em>p</em>. <br><br>\n",
    " \n",
    "<a href=\"#lem72ret\">Return to text</a>  "
   ]
  },
  {
   "cell_type": "markdown",
   "id": "bfe304",
   "metadata": {
    "collapsed": false
   },
   "source": [
    "<br><br><br><br><br><br><br><br><br><br><br><br><br><br><br><br><br><br><br><br><br><br><br><br><br><br><br><br><br><br><br><br><br><br><br><br><br><br><br><br><br><br>"
   ]
  },
  {
   "cell_type": "markdown",
   "id": "2f9ca7",
   "metadata": {
    "collapsed": false
   },
   "source": [
    "<a name=\"lem73\" id=\"lem73\"></a>\n",
    "Proof of Lemma 7.3:<br><br>   \n",
    " \n",
    "Since <em>p<sup>n</sup></em> and <em>k</em> are coprime, we can use Lemma 7.1 to form the subgroups\n",
    "<p style='text-align: center;'><em>P</em> = { <em>x</em> &isin; <em>G</em> | <em>x</em><sup>(<em>p&#8319;</em>)</sup> = <em>e</em> }</p>\n",
    "and \n",
    "<p style='text-align: center;'><em>K</em> = { <em>x</em> &isin; <em>G</em> | <em>x<sup>k</sup></em> = <em>e</em> }.</p>\n",
    "By Lemma 7.1 these two subgroups have only the identity in common, and <em>G</em> &asymp; <em>P</em> &times; <em>K</em>. If <em>p</em> divided |<em>K</em>|, then by \n",
    "Lemma 7.2, <em>K</em> would contain an element of order <em>p</em>. But this element would then be in <em>P</em> as well, which contradicts the fact that only the \n",
    "identity element is in common between <em>P</em> and <em>K</em>. So <em>p</em> does not divide the order of <em>K</em>.<br><br>\n",
    "\n",
    "Also note that the order of every element of <em>P</em> is a power of <em>p</em>. Thus, Lemma 7.2 tells us that no other prime other than <em>p</em> \n",
    "divides |<em>P</em>|. <br><br>\n",
    "\n",
    "Finally, note that |<em>G</em>| = <em>p<sup>n</sup></em>&middot;<em>k</em> = |<em>P</em>|&middot;|<em>K</em>|.  Since <em>p</em> does not divide |<em>K</em>|, we have \n",
    "that <em>p<sup>n</sup></em> must divide |<em>P</em>|. But no other primes can divide |<em>P</em>|, and so |<em>P</em>| = <em>p<sup>n</sup></em>.  \n",
    "Hence, |<em>K</em>| = <em>k</em>.<br><br>\n",
    " \n",
    "<a href=\"#lem73ret\">Return to text</a>"
   ]
  },
  {
   "cell_type": "markdown",
   "id": "4f3fdb",
   "metadata": {
    "collapsed": false
   },
   "source": [
    "<br><br><br><br><br><br><br><br><br><br><br><br><br><br><br><br><br><br><br><br><br><br><br><br><br><br><br><br><br><br><br><br><br><br><br><br><br><br><br><br><br><br>  "
   ]
  },
  {
   "cell_type": "markdown",
   "id": "2f6906",
   "metadata": {
    "collapsed": false
   },
   "source": [
    "<a name=\"lem74\" id=\"lem74\"></a>\n",
    "Proof of Lemma 7.4:<br><br> \n",
    " \n",
    "We will use induction on <em>n</em>. If <em>n</em> = 1, then <em>P</em> is a cyclic group of order <em>p</em>, and hence is generated by non-identity element <em>x</em> \n",
    "in <em>P</em>.  We then have <em>X</em> = <em>P</em>, so we can let <em>T</em> = {<em>e</em>}, and hence <em>P</em> &asymp; <em>X</em> &times; <em>T</em>, with <em>X</em> &cap; <em>T</em> = {<em>e</em>}.<br><br>\n",
    "\n",
    "Now suppose that the assertion is true for all powers of <em>p</em> less than <em>n</em>.  Notice that the order of every element of <em>P</em> is a power \n",
    "of <em>p</em>. Thus, if we let <em>x</em> be an element with the <em>largest</em> order, say <em>m</em>, then the order of all elements in <em>P</em> must divide <em>m</em>. \n",
    "Hence, <em>g<sup>m</sup></em> = <em>e</em> for all elements <em>g</em> in <em>P</em>.<br><br>\n",
    "\n",
    "We now let <em>X</em> be the subgroup generated by <em>x</em>. If <em>X</em> = <em>P</em>, then we can again let <em>T</em> = {<em>e</em>} and we are done. \n",
    "If <em>X</em> is not <em>P</em>, we let <em>y</em> be an element of <em>P</em> not in <em>X</em> which has the <em>smallest</em> possible order. \n",
    "Then since the order of <em>y<sup>p</sup></em> is less than the order of <em>y</em>, <em>y<sup>p</sup></em> must be in <em>X</em>. This means that \n",
    "<em>y<sup>p</sup></em> = <em>x<sup>q</sup></em> for some 0 &le; <em>q</em> < <em>m</em>.<br><br>\n",
    "\n",
    "Since <em>y</em> is in <em>P</em>, <em>y<sup>m</sup></em> = <em>e</em>.  But\n",
    "<p style='text-align: center;'><em>e</em> = <em>y<sup>m</sup></em> = (<em>y<sup>p</sup></em>)<sup>(<em>m</em>/<em>p</em>)</sup> = \n",
    "(<em>x<sup>q</sup></em>)<sup>(<em>m</em>/<em>p</em>)</sup> = <em>x</em><sup>(<em>m q</em>/<em>p</em>)</sup></p>\n",
    "Because <em>x</em> is of order <em>m</em>, this can be the identity only if <em>m q</em>/<em>p</em> is a multiple of <em>m</em>.  Hence, <em>q</em> is a multiple of \n",
    "<em>p</em>. <br><br>\n",
    "\n",
    "If we let <em>k</em> = <em>x</em><sup>&minus;(<em>q</em>/<em>p</em>)</sup>&middot;<em>y</em> then <em>k</em> is not in <em>X</em> because <em>y</em> is not, and \n",
    "<p style='text-align: center;'><em>k<sup>p</sup></em> = (<em>x</em><sup>&minus;(<em>q</em>/<em>p</em>)</sup>)<sup><em>p</em></sup>&middot;<em>y<sup>p</sup></em> = \n",
    "<em>x</em><sup>&minus;<em>q</em></sup>&middot;<em>y<sup>p</sup></em> = <em>x</em><sup>&minus;<em>q</em></sup>&middot;<em>x<sup>q</sup></em> = <em>e</em>.</p>\n",
    "Therefore, we have found an element <em>k</em> of order <em>p</em> that is not in <em>X</em>.  If we let <em>K</em> be the group generated by the element <em>k</em>, \n",
    "then <em>X</em> &cap; <em>K</em> = {<em>e</em>}.<br><br>\n",
    "\n",
    "Consider the quotient group <em>P</em>/<em>K</em>.  What is the order of <em>x K</em> in <em>P</em>/<em>K</em>? We see that\n",
    "<p style='text-align: center;'>(<em>x K</em>)<sup><em>n</em></sup> = <em>K</em>&ensp;&#10234;&ensp;<em>x<sup>n</sup></em> &isin; \n",
    "<em>K</em>&ensp;&#10234;&ensp;<em>x<sup>n</sup></em> &isin; <em>X</em> &cap; <em>K</em>&ensp;&#10234;&ensp;<em>x<sup>n</sup></em> = <em>e</em>.</p>\n",
    "Therefore, the order of <em>x K</em> is the same as the order of <em>x</em>, which is <em>m</em>.  Also note that no element of <em>P</em>/<em>K</em> can have an element \n",
    "of higher order since <em>g<sup>m</sup></em> = <em>e</em> for all elements <em>g</em> in <em>P</em>.<br><br>\n",
    "\n",
    "Now we use the induction.  Since the order of <em>P</em>/<em>K</em> is less than the order of <em>P</em>, and <em>x K</em> is an element of maximal order, we have \n",
    "by induction that\n",
    "<p style='text-align: center;'><em>P</em>/<em>K</em> &asymp; <em>Y</em> &times; <em>B</em>,</p>\n",
    "where <em>Y</em> is the subgroup of <em>P</em>/<em>K</em> generated by <em>x K</em>, and <em>B</em> is a subgroup of <em>P</em>/<em>K</em> such that only the \n",
    "identity element <em>K</em> is in the intersection of <em>Y</em> and <em>B</em>.<br><br>\n",
    "\n",
    "Let <em>&#981;</em> be the canonical homomorphism from <em>P</em> to <em>P</em>/<em>K</em> given by <em>&#981;</em>(<em>g</em>) = <em>g K</em>.  Let \n",
    "<em>T</em> = <em>&#981;</em><sup>-1</sup>(<em>B</em>).  Then <em>T</em> is a subgroup of <em>P</em>. <br><br>\n",
    "\n",
    "If <em>g</em> is in both <em>X</em> and <em>T</em>, then <em>&#981;</em>(<em>g</em>) is in both <em>Y</em> and <em>B</em>. Since the intersection of <em>Y</em> and \n",
    "<em>B</em> is the identity element, we have <em>&#981;</em>(<em>g</em>) = <em>g K</em> = <em>K</em>.  Thus, <em>g</em> is in the subgroup <em>K</em>. But \n",
    "<em>X</em> &cap; <em>K</em> = {<em>e</em>}, so we have \n",
    "<p style='text-align: center;'><em>X</em> &cap; <em>T</em> = {<em>e</em>}.</p>\n",
    "Thus, by the direct product theorem (7.1), we find that <em>X</em>&middot;<em>T</em> &asymp; <em>X</em> &times; <em>T</em>.<br><br>\n",
    "\n",
    "We finally need to show that <em>P</em> = <em>X</em>&middot;<em>T</em>.  Let <em>u</em> be an element in <em>P</em>, and since \n",
    "<em>P</em>/<em>K</em> &asymp; <em>Y</em> &times; <em>B</em>, we can write <em>&#981;</em>(<em>u</em>) as (<em>x<sup>c</sup></em>&middot;<em>K</em>)&middot;(<em>k K</em>) \n",
    "for some number <em>c</em>, and some <em>k K</em> in <em>B</em>.  Then\n",
    "<p style='text-align: center;'><em>u</em> &isin; <em>x<sup>c</sup></em>&middot;<em>k</em>&middot;<em>K</em> &sube; <em>X</em>&middot;<em>T</em>.</p>\n",
    "Thus, <em>P</em> = <em>X</em>&middot;<em>T</em>, and so <em>P</em> &asymp; <em>X</em> &times; <em>T</em>.<br><br>\n",
    " \n",
    "<a href=\"#lem74ret\">Return to text</a>   "
   ]
  },
  {
   "cell_type": "markdown",
   "id": "a9e0ce",
   "metadata": {
    "collapsed": false
   },
   "source": [
    "<br><br><br><br><br><br><br><br><br><br><br><br><br><br><br><br><br><br><br><br><br><br><br><br><br><br><br><br><br><br><br><br><br><br><br><br><br><br><br><br><br><br>"
   ]
  },
  {
   "cell_type": "markdown",
   "id": "f22bef",
   "metadata": {
    "collapsed": false
   },
   "source": [
    "<a name=\"lem75\" id=\"lem75\"></a>\n",
    "Proof of Lemma 7.5:<br><br> \n",
    " \n",
    "Since <em>G</em> is expressed as a direct product we can use Proposition 7.2 and find <em>R<sub>q</sub></em>(<em>H</em>) for each factor <em>H</em> in \n",
    "the product, and multiply these numbers together. Since each factor is cyclic, we can use Corollary 3.1. For all of the factors \n",
    "<em>Z&thinsp;&#8342;</em><sub>&#8321;</sub>, <em>Z&thinsp;&#8342;</em><sub>&#8322;</sub>, &hellip; <em>Z&thinsp;&#8342;<sub>&#8344;</sub></em>, since gcd(<em>k<sub>i</sub></em>, <em>q</em>) = gcd(<em>k<sub>i</sub></em>, <em>p<sup>x</sup></em>) = 1, <em>R<sub>q</sub></em>(<em>H</em>) would be 1. On the other hand, <em>R<sub>q</sub></em>(<em>Z</em><sub>(<em>p</em></sub><em>&#8341;</em><sub>&#8305;)</sub>) is \n",
    "<p style='text-align: center;'>gcd(<em>p<sup>h</sup>&#8305;</em>, <em>q</em>) = gcd(<em>p<sup>h</sup>&#8305;</em>, <em>p<sup>x</sup></em>) = \n",
    "<em>p</em><sup>Min(<em>h</em></sup><em>&#8305;</em><sup>, <em>x</em>)</sup>.</p>\n",
    "<br>\n",
    "Thus, <em>R<sub>q</sub></em>(<em>G</em>) is the product of the above for factors 1 through <em>n</em> of \n",
    "<em>G</em>, which gives us a grand total of\n",
    "<br><br>\n",
    "<table align=\"center\" border=\"0\" cellspacing=\"0\" cellpadding=\"0\">\n",
    "  <tr>\n",
    "     <td></td>\n",
    "     <td>&#9115;</td>\n",
    "     <td rowspan=\"2\"><font face=\"Times New Roman, Times, serif\" size=\"+2\">&sum;</font></td>\n",
    "     <td valign=\"top\"><em>n</em></td>\n",
    "     <td rowspan=\"2\" valign=\"middle\">&thinsp;Min(<em>h<sub>i</sub></em>, <em>x</em>)</td>\n",
    "     <td>&#9118;</td>\n",
    "  </tr>\n",
    "  <tr>\n",
    "     <td></td>\n",
    "     <td>&#9117;</td>\n",
    "     <td valign=\"bottom\"><em>i</em>=1</td>\n",
    "     <td>&#9120;</td>\n",
    "  </tr>\n",
    "  <tr>\n",
    "     <td><em>p</em></td>\n",
    "     <td></td>\n",
    "     <td></td>\n",
    "     <td></td>\n",
    "     <td></td>\n",
    "     <td>&ensp;.</td>\n",
    "  </tr>         \n",
    "</table> \n",
    "<a href=\"#lem75ret\">Return to text</a>  "
   ]
  },
  {
   "cell_type": "markdown",
   "id": "dbddcc",
   "metadata": {
    "collapsed": false
   },
   "source": [
    "<br><br><br><br><br><br><br><br><br><br><br><br><br><br><br><br><br><br><br><br><br><br><br><br><br><br><br><br><br><br><br><br><br><br><br><br><br><br><br><br><br><br>"
   ]
  },
  {
   "cell_type": "markdown",
   "id": "9489ce",
   "metadata": {
    "collapsed": false
   },
   "source": [
    "<a name=\"lem76\" id=\"lem76\"></a>\n",
    "Proof of Lemma 7.6:<br><br>  \n",
    "\n",
    "Applying Lemma 7.5 simplifies \n",
    "<p style='text-align: center;'>2 log<sub><em>p</em></sub>(<em>R<sub>p &#879;</sub></em> (<em>G</em>)) &minus;\n",
    "log<sub><em>p</em></sub>(<em>R<sub>p &#879; &#8315;&sup1;</sub></em> (<em>G</em>)) &minus;\n",
    "log<sub><em>p</em></sub>(<em>R<sub>p &#879; &#8314;&sup1;</sub></em> (<em>G</em>)).</p>\n",
    "to\n",
    "<table align=\"center\" border=\"0\" cellspacing=\"0\" cellpadding=\"0\">\n",
    "  <tr>\n",
    "    <td></td>\n",
    "    <td align=\"center\" valign=\"top\">&ensp;&ensp;<em>n</em>&ensp;&ensp;</td>\n",
    "    <td></td>\n",
    "    <td align=\"center\" valign=\"top\">&ensp;&ensp;<em>n</em>&ensp;&ensp;</td>\n",
    "    <td></td>\n",
    "    <td align=\"center\" valign=\"top\">&ensp;&ensp;<em>n</em>&ensp;&ensp;</td>\n",
    "    <td></td>\n",
    "  </tr>\n",
    "  <tr>\n",
    "    <td align=\"right\">2 </td>\n",
    "    <td align=\"center\" valign=\"bottom\"><font face=\"Times New Roman, Times, serif\" size=\"+4\">&sum;</font></td>\n",
    "    <td align=\"left\">Min(<em>h<sub>i</sub></em>, <em>x</em>) &emsp; &minus;</td>\n",
    "    <td align=\"center\" valign=\"bottom\"><font face=\"Times New Roman, Times, serif\" size=\"+4\">&sum;</font></td>\n",
    "    <td align=\"left\">Min(<em>h<sub>i</sub></em>, <em>x</em> &minus; 1) &emsp; &minus;</td>\n",
    "    <td align=\"center\" valign=\"bottom\"><font face=\"Times New Roman, Times, serif\" size=\"+4\">&sum;</font></td>\n",
    "    <td align=\"left\">Min(<em>h<sub>i</sub></em>, <em>x</em> + 1),</td>\n",
    "  </tr>\n",
    "  <tr>\n",
    "    <td></td>\n",
    "    <td align=\"center\" valign=\"top\">&ensp;<em>i</em> = 1&ensp;</td>\n",
    "    <td></td>\n",
    "    <td align=\"center\" valign=\"top\">&ensp;<em>i</em> = 1&ensp;</td>\n",
    "    <td></td>\n",
    "    <td align=\"center\" valign=\"top\">&ensp;<em>i</em> = 1&ensp;</td>\n",
    "    <td></td>\n",
    "  </tr>\n",
    "</table>\n",
    "<br> \n",
    "where <em>n</em> is the number of the <em>q<sub>i</sub></em> that are a power of <em>p</em>.\n",
    "Let us observe the value of the expression\n",
    "<p style='text-align: center;'>2 Min(<em>h<sub>i</sub></em>, <em>x</em>) &minus; Min(<em>h<sub>i</sub></em>, <em>x</em> &minus; 1) &minus; \n",
    "Min(<em>h<sub>i</sub></em>, <em>x</em> + 1).</p>\n",
    "When <em>h<sub>i</sub></em> < <em>x</em>, then Min(<em>h<sub>i</sub></em>, <em>x</em>) =  Min(<em>h<sub>i</sub></em>, <em>x</em>&minus;1) = \n",
    "Min(<em>h<sub>i</sub></em>, <em>x</em>+1) = <em>h<sub>i</sub></em>, and so the above evaluates to 0. On the other hand, if <em>h<sub>i</sub></em> > <em>x</em>, then the \n",
    "above expression simplifies to \n",
    "<p style='text-align: center;'>2 <em>x</em> &minus; (<em>x</em> &minus; 1) &minus; (<em>x</em> + 1) = 0.</p>\n",
    "However, if <em>h<sub>i</sub></em> = <em>x</em>, then Min(<em>h<sub>i</sub></em>, <em>x</em>) = <em>x</em>, \n",
    "Min(<em>h<sub>i</sub></em>, <em>x</em> &minus; 1) = <em>x</em> &minus; 1, and Min(<em>h<sub>i</sub></em>, <em>x</em> + 1) = <em>x</em>.  Hence, we have \n",
    "<p style='text-align: center;'>2 Min(<em>h<sub>i</sub></em>, <em>x</em>) &minus; Min(<em>h<sub>i</sub></em>, <em>x</em> &minus; 1) &minus; \n",
    "Min(<em>h<sub>i</sub></em>, <em>x</em> + 1) = 2 <em>x</em> &minus; (<em>x</em> &minus; 1) &minus; <em>x</em> = 1.</p>\n",
    "Thus, we see that\n",
    "<table align=\"center\" border=\"0\" cellspacing=\"0\" cellpadding=\"0\">\n",
    "  <tr>\n",
    "    <td></td>\n",
    "    <td align=\"right\" valign=\"bottom\">&#9127;</td>\n",
    "    <td align=\"left\">&ensp;1&emsp;if <em>h<sub>i</sub></em> = <em>x</em>,</td>\n",
    "  </tr>\n",
    "  <tr>\n",
    "    <td align=\"left\">2 Min(<em>h<sub>i</sub></em>, <em>x</em>) &minus; Min(<em>h<sub>i</sub></em>, <em>x</em> &minus; 1) &minus; Min(<em>h<sub>i</sub></em>, <em>x</em> + 1) =&ensp;</td>\n",
    "    <td align=\"right\">&#9128;</td>\n",
    "    <td></td>\n",
    "  </tr>\n",
    "  <tr>\n",
    "    <td></td>\n",
    "    <td align=\"right\" valign=\"top\">&#9129;</td>\n",
    "    <td align=\"left\" valign=\"top\">&ensp;0&emsp;if <em>h<sub>i</sub></em> &ne; <em>x</em>.</td>\n",
    "  </tr>\n",
    "</table>\n",
    "<br>\n",
    "Thus, if we sum the above expression for <em>i</em> going from 1 to <em>n</em>, we will count the number of terms <em>h<sub>i</sub></em> that are equal to \n",
    "<em>x</em>.  This will give us the number of <em>q<sub>i</sub></em> that are equal to <em>p<sup>x</sup></em>.  Hence this count will be given by\n",
    "<p style='text-align: center;'>2 log<sub><em>p</em></sub>(<em>R<sub>p &#879;</sub></em> (<em>G</em>)) &minus;\n",
    "log<sub><em>p</em></sub>(<em>R<sub>p &#879; &#8315;&sup1;</sub></em> (<em>G</em>)) &minus;\n",
    "log<sub><em>p</em></sub>(<em>R<sub>p &#879; &#8314;&sup1;</sub></em> (<em>G</em>)).</p>\n",
    "\n",
    "<a href=\"#lem76ret\">Return to text</a> "
   ]
  },
  {
   "cell_type": "markdown",
   "id": "02f755",
   "metadata": {
    "collapsed": false
   },
   "source": [
    "<br><br><br><br><br><br><br><br><br><br><br><br><br><br><br><br><br><br><br><br><br><br><br><br><br><br><br><br><br><br><br><br><br><br><br><br><br><br><br><br><br><br> "
   ]
  },
  {
   "cell_type": "markdown",
   "id": "681f9e",
   "metadata": {
    "collapsed": false
   },
   "source": [
    "<a name=\"theor72\" id=\"theor72\"></a>\n",
    "Proof of Theorem 7.2:<br><br>  \n",
    " \n",
    "We will proceed on induction on the order of the group. If the order of the group is 2, then the theorem is true since the group would be isomorphic \n",
    "to <em>Z</em><sub>2</sub>. Let <em>G</em> be a finite abelian group and suppose the theorem is true for all groups of order less than <em>G</em>. Let <em>p</em> be a \n",
    "prime that divides the order of <em>G</em>. By Lemma 7.3, <em>G</em> &asymp; <em>P</em> &times; <em>K</em>, where <em>P</em> is the subgroup of <em>G</em> containing \n",
    "the elements of order <em>p<sup>m</sup></em> for some <em>m</em>.<br>\n",
    "<br>\n",
    " \n",
    "Furthermore, if <em>x</em> is an element of maximal order in <em>P</em>, and <em>X</em> is the group generated by <em>x</em>, then by Lemma 7.4, \n",
    "<em>G</em> &asymp; <em>X</em> &times; <em>T</em> &times; <em>K</em>. Since <em>X</em> will be a nontrivial cyclic group, the orders of <em>T</em> and <em>K</em> will be \n",
    "less than |<em>G</em>|. Thus, by induction, <em>T</em> and <em>K</em> can be written as a direct product of cyclic groups whose orders are powers of primes.  Since \n",
    "<em>X</em> is also a cyclic group of order <em>p<sup>r</sup></em> for some <em>r</em>, <em>G</em> can be written as a direct product of cyclic groups whose orders are \n",
    "powers of \n",
    "primes.<br><br>\n",
    "\n",
    "We next have to show that this decomposition is <em>unique</em>.  Using Lemma 7.6, the number of times that \n",
    "<em>Z</em><sub>(<em>p</em></sub><em>&#8339;</em><sub>)</sub> appears in the decomposition is given by\n",
    "<p style='text-align: center;'>2 log<sub><em>p</em></sub>(<em>R<sub>p &#879;</sub></em> (<em>G</em>)) &minus;\n",
    "log<sub><em>p</em></sub>(<em>R<sub>p &#879; &#8315;&sup1;</sub></em> (<em>G</em>)) &minus;\n",
    "log<sub><em>p</em></sub>(<em>R<sub>p &#879; &#8314;&sup1;</sub></em> (<em>G</em>)),</p>\n",
    "which is determined by the group <em>G</em>.\n",
    "Thus, the decomposition of <em>G</em> as a direct product of cyclic groups of the form <em>Z</em><sub>(<em>p</em></sub><em>&#8339;</em><sub>)</sub> is unique.<br><br> \n",
    " \n",
    "<a href=\"#theor72ret\">Return to text</a> "
   ]
  },
  {
   "cell_type": "markdown",
   "id": "8eac0e",
   "metadata": {
    "collapsed": false
   },
   "source": [
    "<br><br><br><br><br><br><br><br><br><br><br><br><br><br><br><br><br><br><br><br><br><br><br><br><br><br><br><br><br><br><br><br><br><br><br><br><br><br><br><br><br><br>"
   ]
  },
  {
   "cell_type": "markdown",
   "id": "76bc33",
   "metadata": {
    "collapsed": false
   },
   "source": [
    "<a name=\"cor72\" id=\"cor72\"></a>\n",
    "Proof of Corollary 7.2:<br><br>   \n",
    " \n",
    "By the fundamental theorem of abelian groups (7.2), every abelian group of order <em>p<sup>m</sup></em> must \n",
    "be isomorphic to\n",
    "<p style='text-align: center;'><em>Z</em><sub>(<em>p</em></sub><em>&#8341;</em><sub>&sup1;)</sub> &times; \n",
    "<em>Z</em><sub>(<em>p</em></sub><em>&#8341;</em><sub>&sup2;)</sub>  &times; <em>Z</em><sub>(<em>p</em></sub><em>&#8341;</em><sub>&sup3;)</sub> &times; &#8943; &times; \n",
    "<em>Z</em><sub>(<em>p</em></sub><em>&#8341;</em><sub><em>&#8319;</em>&thinsp;)</sub></p>\n",
    "Also,\n",
    "<p style='text-align: center;'><em>p<sup>h</sup></em>&sup1;&middot;<em>p<sup>h</sup></em>&sup2;&middot;<em>p<sup>h</sup></em>&sup3; &#8943; \n",
    "<em>p<sup>h</sup>&#8319;</em> = <em>p<sup>m</sup></em></p>\n",
    "Hence <em>h</em><sub>1</sub> + <em>h</em><sub>2</sub> + <em>h</em><sub>3</sub> + &#8943; + <em>h<sub>n</sub></em> = <em>m</em>. Furthermore, the decomposition of the \n",
    "abelian group is unique up to rearrangement of the factors. Thus, there is a one-to-one correspondence between non-isomorphic abelian groups of \n",
    "order <em>p<sup>m</sup></em> and ways <em>m</em> can be written as a sum of positive integers without regard to order.<br><br> \n",
    " \n",
    "<a href=\"#cor72ret\">Return to text</a> "
   ]
  },
  {
   "cell_type": "markdown",
   "id": "71174b",
   "metadata": {
    "collapsed": false
   },
   "source": [
    "<br><br><br><br><br><br><br><br><br><br><br><br><br><br><br><br><br><br><br><br><br><br><br><br><br><br><br><br><br><br><br><br><br><br><br><br><br><br><br><br><br><br> "
   ]
  },
  {
   "cell_type": "markdown",
   "id": "b974f9",
   "metadata": {
    "collapsed": false
   },
   "source": [
    "<a name=\"cor73\" id=\"cor73\"></a>\n",
    "Proof of Corollary 7.3:<br><br>\n",
    " \n",
    "We know from the fundamental theorem of abelian groups (7.2) that each such group is isomorphic to a direct product of cyclic groups whose order is a power of a prime. \n",
    "If we collect all factors involving the same primes together, we find that such a group is isomorphic to a direct product of a series of groups of orders\n",
    "<p style='text-align: center;'><em>p</em><sub>1</sub><sup><em>h</em></sup>&sup1;, <em>p</em><sub>2</sub><sup><em>h</em></sup>&sup2;, \n",
    "<em>p</em><sub>3</sub><sup><em>h</em></sup>&sup3;, &hellip;, and <em>p<sub>n</sub><sup>h</sup>&#8319;</em>.</p>\n",
    "We know from Corollary 7.2 that there are exactly <em>P</em>(<em>x</em>) non-isomorphic abelian groups of order <em>p<sup>x</sup></em>. Thus, there are \n",
    "<em>P</em>(<em>h<sub>i</sub></em>) possible groups for the <em>i</em><sup>th</sup> factor in this decomposition.  Therefore, there are\n",
    "<p style='text-align: center;'><em>P</em>(<em>h</em><sub>1</sub>)&middot;<em>P</em>(<em>h</em><sub>2</sub>)&middot;<em>P</em>(<em>h</em><sub>3</sub>) &#8943; \n",
    "<em>P</em>(<em>h<sub>n</sub></em>)</p>\n",
    "possible ways of forming a product of groups with orders <em>p</em><sub>1</sub><sup><em>h</em></sup>&sup1;, <em>p</em><sub>2</sub><sup><em>h</em></sup>&sup2;, \n",
    "<em>p</em><sub>3</sub><sup><em>h</em></sup>&sup3;, &hellip;, and <em>p<sub>n</sub><sup>h</sup>&#8319;</em>.<br><br>\n",
    "\n",
    "Since the fundamental theorem of abelian groups (7.2) also states that the decomposition is unique up to the rearrangement of the factors, every group thus formed \n",
    "is isomorphically different. So we have exactly <em>P</em>(<em>h</em><sub>1</sub>)&middot;<em>P</em>(<em>h</em><sub>2</sub>)&middot;<em>P</em>(<em>h</em><sub>3</sub>) \n",
    "&#8943; <em>P</em>(<em>h<sub>n</sub></em>) non-isomorphic abelian groups of order <em>m</em>.<br><br> \n",
    " \n",
    "<a href=\"#cor73ret\">Return to text</a> "
   ]
  },
  {
   "cell_type": "markdown",
   "id": "53a923",
   "metadata": {
    "collapsed": false
   },
   "source": [
    "<br><br><br><br><br><br><br><br><br><br><br><br><br><br><br><br><br><br><br><br><br><br><br><br><br><br><br><br><br><br><br><br><br><br><br><br><br><br><br><br><br><br>"
   ]
  },
  {
   "cell_type": "markdown",
   "id": "38ea2b",
   "metadata": {
    "collapsed": false
   },
   "source": [
    "<a name=\"prop73\" id=\"prop73\"></a>\n",
    "Proof of Proposition 7.3:<br><br>\n",
    "\n",
    "The mapping <em>i</em>(<em>x</em>) = <em>x</em> for all <em>x</em> in <em>G</em> is obviously an automorphism on <em>G</em>, so the set of all automorphisms on <em>G</em> \n",
    "is non-empty.  Also, each automorphism is a permutation on the elements of <em>G</em>.  Suppose <em>&#981;</em> and <em>&fnof;</em> are two automorphisms on <em>G</em>. \n",
    "Then <em>&#981;</em>(<em>&fnof;</em>(<em>x</em>)) is a one-to-one and onto mapping from <em>G</em> to <em>G</em>. <br><br>\n",
    "\n",
    "Furthermore, \n",
    "<p style='text-align: center;'><em>&#981;</em>(<em>&fnof;</em>(<em>x</em>&middot;<em>y</em>)) = \n",
    "<em>&#981;</em>(<em>&fnof;</em>(<em>x</em>)&middot;<em>&fnof;</em>(<em>y</em>)) = \n",
    "<em>&#981;</em>(<em>&fnof;</em>(<em>x</em>))&middot;<em>&#981;</em>(<em>&fnof;</em>(<em>y</em>)).</p>\n",
    "So <em>&#981;</em>(<em>&fnof;</em>(<em>x</em>)) is a homomorphism on <em>G</em>, hence <em>&#981;</em>&middot;<em>&fnof;</em> is an automorphism of <em>G</em>. <br><br>\n",
    "\n",
    "Also, since <em>&fnof;</em> is one-to-one and onto, <em>&fnof;</em><sup>&minus;1</sup> exists on <em>G</em>, and \n",
    "<p style='text-align: center;'><em>&fnof;</em>(<em>&fnof;</em><sup>&minus;1</sup>(<em>x</em>)&middot;<em>&fnof;</em><sup>&minus;1</sup>(<em>y</em>)) = \n",
    "<em>&fnof;</em>(<em>&fnof;</em><sup>&minus;1</sup>(<em>x</em>))&middot;<em>&fnof;</em>(<em>&fnof;</em><sup>&minus;1</sup>(<em>y</em>)) = <em>x</em>&middot;<em>y</em>.</p>\n",
    "Taking <em>&fnof;</em><sup>&minus;1</sup> of both sides of the equation gives us\n",
    "<p style='text-align: center;'><em>&fnof;</em><sup>&minus;1</sup>(<em>x</em>)&middot;<em>&fnof;</em><sup>&minus;1</sup>(<em>y</em>) = \n",
    "<em>&fnof;</em><sup>&minus;1</sup>(<em>x</em>&middot;<em>y</em>)</p>\n",
    "So <em>&fnof;</em><sup>&minus;1</sup> is a homomorphism.  Hence both <em>&fnof;</em><sup>&minus;1</sup> and <em>&#981;</em>&middot;<em>&fnof;</em><sup>&minus;1</sup> \n",
    "are automorphisms of <em>G</em>. Therefore by Proposition 3.2, Aut(<em>G</em>) is a subgroup of the group of permutations on the elements of <em>G</em>.<br><br>\n",
    " \n",
    "<a href=\"#prop73ret\">Return to text</a> "
   ]
  },
  {
   "cell_type": "markdown",
   "id": "643481",
   "metadata": {
    "collapsed": false
   },
   "source": [
    "<br><br><br><br><br><br><br><br><br><br><br><br><br><br><br><br><br><br><br><br><br><br><br><br><br><br><br><br><br><br><br><br><br><br><br><br><br><br><br><br><br><br>"
   ]
  },
  {
   "cell_type": "markdown",
   "id": "552b3a",
   "metadata": {
    "collapsed": false
   },
   "source": [
    "<a name=\"prop74\" id=\"prop74\"></a>\n",
    "Proof of Proposition 7.4:<br><br>\n",
    "\n",
    "Consider the mapping\n",
    "<p style='text-align: center;'><em>&psi;</em>: <em>Z<sub>n</sub></em><sup>&ast;</sup> &rarr; Aut(<em>Z<sub>n</sub></em>)</p>\n",
    "given by <em>&psi;</em>(<em>j</em>) = <em>&fnof;<sub>j</sub></em>, where <em>&fnof;<sub>j</sub></em>(<em>x</em>) = \n",
    "(<em>j</em> <em>x</em>) <strong>mod</strong> <em>n</em>.\n",
    "Then given two elements <em>j</em> and <em>k</em> in <em>Z<sub>n</sub></em><sup>&ast;</sup>, we have that\n",
    "<p style='text-align: center;'><em>&fnof;<sub>j</sub></em>(<em>&fnof;<sub>k</sub></em>(<em>x</em>)) = \n",
    "<em>j</em>&middot;(<em>k</em>&middot;<em>x</em>) <strong>mod</strong> <em>n</em> = \n",
    "(<em>j</em>&middot;<em>k</em>)&middot;<em>x</em> <strong>mod</strong> <em>n</em> = <em>&fnof;</em><sub>(<em>j</em>&middot;<em>k</em>)</sub>(<em>x</em>).</p>\n",
    "So\n",
    "<p style='text-align: center;'><em>&psi;</em>(<em>j</em>)&middot;<em>&psi;</em>(<em>k</em>) = <em>&fnof;<sub>j</sub></em>(<em>&fnof;<sub>k</sub></em>) = \n",
    "<em>&fnof;</em><sub>(<em>j</em>&middot;<em>k</em>)</sub> = <em>&psi;</em>(<em>j</em>&middot;<em>k</em>).</p>\n",
    "Hence, <em>&psi;</em> is a homomorphism from <em>Z<sub>n</sub></em><sup>&ast;</sup> to Aut(<em>Z<sub>n</sub></em>).  To see that <em>&psi;</em> is one-to-one, note that \n",
    "<em>&fnof;<sub>j</sub></em>(1) = <em>j</em>, and so <em>&fnof;<sub>j</sub></em> = <em>&fnof;<sub>k</sub></em> only if <em>j</em> = <em>k</em>.<br><br>\n",
    "\n",
    "To see that <em>&psi;</em> is onto, we can use the pigeon-hole principle.  If we consider a general automorphism <em>f</em> of <em>Z<sub>n</sub></em>, then  \n",
    "<em>f</em>(1) must be a generator of <em>Z<sub>n</sub></em>, since 1 is a generator.  But <em>f</em> will be completely determined by knowing <em>f</em>(1). Thus,\n",
    "the number of automorphisms is at most the number of generators of <em>Z<sub>n</sub></em>, which is <em>&#981;</em>(<em>n</em>).  Since \n",
    "|<em>Z<sub>n</sub></em><sup>&ast;</sup>| = <em>&#981;</em>(<em>n</em>), we know the function is one-to-one, so it must also be onto.<br><br>\n",
    " \n",
    "<a href=\"#prop74ret\">Return to text</a> "
   ]
  },
  {
   "cell_type": "markdown",
   "id": "830837",
   "metadata": {
    "collapsed": false
   },
   "source": [
    "<br><br><br><br><br><br><br><br><br><br><br><br><br><br><br><br><br><br><br><br><br><br><br><br><br><br><br><br><br><br><br><br><br><br><br><br><br><br><br><br><br><br>"
   ]
  },
  {
   "cell_type": "markdown",
   "id": "dea0d7",
   "metadata": {
    "collapsed": false
   },
   "source": [
    "<a name=\"prop75\" id=\"prop75\"></a>\n",
    "Proof of Proposition 7.5:<br><br> \n",
    " \n",
    "First we need to show that Inn(<em>G</em>) is a subgroup. Let <em>&fnof;<sub>x</sub></em>(<em>y</em>) = <em>x</em>&middot;<em>y</em>&middot;<em>x</em><sup>-1</sup> \n",
    "be an inner automorphism.  The inverse can be easily found by observing\n",
    "<p style='text-align: center;'><em>y</em> &isin; <em>&fnof;<sub>x</sub></em><sup>-1</sup>(<em>v</em>) &#10234; <em>x</em>&middot;<em>y</em>&middot;<em>x</em><sup>-1</sup> \n",
    "= <em>v</em> &#10234; <em>y</em> = <em>x</em><sup>-1</sup>&middot;<em>v</em>&middot;<em>x</em> &#10234; <em>y</em> = \n",
    "<em>&fnof;</em><sub>(<em>x</em></sub>&#8331;&#8321;<sub>)</sub>(<em>v</em>),</p>\n",
    "so the inverse of <em>&fnof;<sub>x</sub></em> is also an inner automorphism.<br><br>\n",
    "\n",
    "If we consider two inner automorphisms <em>&fnof;<sub>x</sub></em> and <em>&fnof;<sub>y</sub></em>, then \n",
    "<p style='text-align: center;'>(<em>&fnof;<sub>x</sub></em>&middot;<em>&fnof;<sub>y</sub></em>)(<em>v</em>) = \n",
    "<em>&fnof;<sub>x</sub></em>(<em>&fnof;<sub>y</sub></em>(<em>v</em>)) = \n",
    "<em>x</em>&middot;(<em>y</em>&middot;<em>v</em>&middot;<em>y</em><sup>-1</sup>)&middot;<em>x</em><sup>-1</sup> = \n",
    "(<em>x</em>&middot;<em>y</em>)&middot;<em>v</em>&middot;(<em>x</em>&middot;<em>y</em>)<sup>-1</sup> = \n",
    "<em>&fnof;</em><sub>(<em>x</em>&middot;<em>y</em>)</sub>(<em>v</em>).</p>\n",
    "Thus the product of two inner automorphisms is also an inner automorphism. So by Proposition 3.2, Inn(<em>G</em>) is a subgroup of Aut(<em>G</em>).<br><br>\n",
    "\n",
    "Finally, we need to show that Inn(<em>G</em>) is normal in Aut(<em>G</em>).  Let <em>&#981;</em> be any automorphism and let <em>&fnof;<sub>x</sub></em>(<em>y</em>) = \n",
    "<em>x</em>&middot;<em>y</em>&middot;<em>x</em><sup>-1</sup> be an inner automorphism.  Then\n",
    "<p style='text-align: center;'>(<em>&#981;</em>&middot;<em>&fnof;<sub>x</sub></em>&middot;<em>&#981;</em><sup>-1</sup>)(<em>v</em>) = \n",
    "<em>&#981;</em>(<em>&fnof;<sub>x</sub></em>(<em>&#981;</em><sup>-1</sup>(<em>v</em>))) = \n",
    "<em>&#981;</em>(<em>x</em>&middot;<em>&#981;</em><sup>-1</sup>(<em>v</em>)&middot;<em>x</em><sup>-1</sup>).</p>\n",
    "Since <em>&#981;</em> is a homomorphism, this will simplify.\n",
    "<p style='text-align: center;'><em>&#981;</em>(<em>x</em>&middot;<em>&#981;</em><sup>-1</sup>(<em>v</em>)&middot;<em>x</em><sup>-1</sup>) = \n",
    "<em>&#981;</em>(<em>x</em>)&middot;<em>&#981;</em>(<em>&#981;</em><sup>-1</sup>(<em>v</em>))&middot;<em>&#981;</em>(<em>x</em><sup>-1</sup>) = \n",
    "<em>&#981;</em>(<em>x</em>)&middot;<em>v</em>&middot;[<em>&#981;</em>(<em>x</em>)]<sup>-1</sup> =\n",
    "<em>&fnof;</em><sub><em>&#981;</em>(<em>x</em>)</sub>(<em>v</em>).</p>\n",
    "So <em>&#981;</em>&middot;<em>&fnof;<sub>x</sub></em>&middot;<em>&#981;</em><sup>-1</sup> is an inner automorphism of <em>G</em>. Therefore, by Proposition 4.4, \n",
    "Inn(<em>G</em>) is a normal subgroup of Aut(<em>G</em>).<br><br> \n",
    "  \n",
    "<a href=\"#prop75ret\">Return to text</a>  "
   ]
  },
  {
   "cell_type": "markdown",
   "id": "0fa230",
   "metadata": {
    "collapsed": false
   },
   "source": [
    "<br><br><br><br><br><br><br><br><br><br><br><br><br><br><br><br><br><br><br><br><br><br><br><br><br><br><br><br><br><br><br><br><br><br><br><br><br><br><br><br><br><br>"
   ]
  },
  {
   "cell_type": "markdown",
   "id": "e45703",
   "metadata": {
    "collapsed": false
   },
   "source": [
    "<a name=\"prop76\" id=\"prop76\"></a>\n",
    "\n",
    "Proof of Proposition 7.6:<br><br> \n",
    "\n",
    "It is clear that the product of two ordered pairs in <em>G</em> is an ordered pair in <em>G</em>. If we let <em>e</em><sub>1</sub> denote the identity element of \n",
    "<em>K</em>, and <em>e</em><sub>2</sub> denote the indentity element of <em>H</em>, then \n",
    "<p style='text-align: center;'><em>&#981;</em><sub><em>e</em>&#8322;</sub>(<em>k</em>) = <em>k</em></p>\n",
    "since <em>&#981;</em> must map <em>e</em><sub>2</sub> to the identity automorphism of <em>K</em>. Thus\n",
    "<p style='text-align: center;'>(<em>k</em><sub>1</sub>, <em>h</em><sub>1</sub>)&middot;(<em>e</em><sub>1</sub>, <em>e</em><sub>2</sub>) = \n",
    "(<em>k</em><sub>1</sub>&middot;<em>&#981;</em><sub><em>h</em>&#8321;</sub>(<em>e</em><sub>1</sub>), <em>h</em><sub>1</sub>&middot;<em>e</em><sub>2</sub>) = \n",
    "(<em>k</em><sub>1</sub>, <em>h</em><sub>1</sub>)&emsp;and&emsp;(<em>e</em><sub>1</sub>, <em>e</em><sub>2</sub>)&middot;(<em>k</em><sub>2</sub>, <em>h</em><sub>2</sub>) =\n",
    "(<em>e</em><sub>1</sub>&middot;<em>&#981;</em><sub><em>e</em>&#8322;</sub>(<em>k</em><sub>2</sub>), <em>e</em><sub>2</sub>&middot;<em>h</em><sub>2</sub>) =\n",
    "(<em>k</em><sub>2</sub>, <em>h</em><sub>2</sub>).</p>\n",
    "So (<em>e</em><sub>1</sub>, <em>e</em><sub>2</sub>) acts as the identity element of <em>G</em>.<br><br>\n",
    "\n",
    "Next we note that the element (<em>k</em>, <em>h</em>) has an inverse (<em>&#981;<sub>h</sub></em>&#8331;&#8321;(<em>k</em><sup>-1</sup>), <em>h</em><sup>-1</sup>), since\n",
    "<p style='text-align: center;'>(<em>&#981;<sub>h</sub></em>&#8331;&#8321;(<em>k</em><sup>-1</sup>), <em>h</em><sup>-1</sup>)&middot;(<em>k</em>, <em>h</em>) =\n",
    "(<em>&#981;<sub>h</sub></em>&#8331;&#8321;(<em>k</em><sup>-1</sup>)&middot;<em>&#981;<sub>h</sub></em>&#8331;&#8321;(<em>k</em>), \n",
    "<em>h</em><sup>-1</sup>&middot;<em>h</em>) =\n",
    "(<em>&#981;<sub>h</sub></em>&#8331;&#8321;(<em>k</em><sup>-1</sup>&middot;<em>k</em>), <em>e</em><sub>2</sub>) = \n",
    "(<em>&#981;<sub>h</sub></em>&#8331;&#8321;(<em>e</em><sub>1</sub>), <em>e</em><sub>2</sub>) = (<em>e</em><sub>1</sub>, <em>e</em><sub>2</sub>),</p>\n",
    "and\n",
    "<p style='text-align: center;'>(<em>k</em>, <em>h</em>)&middot;(<em>&#981;<sub>h</sub></em>&#8331;&#8321;(<em>k</em><sup>-1</sup>), <em>h</em><sup>-1</sup>) = \n",
    "(<em>k</em>&middot;<em>&#981;<sub>h</sub></em>(<em>&#981;<sub>h</sub></em>&#8331;&#8321;(<em>k</em><sup>-1</sup>)), <em>h</em>&middot;<em>h</em><sup>-1</sup>) =\n",
    "(<em>k</em>&middot;<em>&#981;</em><sub><em>e</em>&#8322;</sub>(<em>k</em><sup>-1</sup>), <em>e</em><sub>2</sub>) = \n",
    "(<em>k</em>&middot;<em>k</em><sup>-1</sup>, <em>e</em><sub>2</sub>) = (<em>e</em><sub>1</sub>, <em>e</em><sub>2</sub>).</p>\n",
    "The final thing we need to check is that the multiplication on <em>G</em> is associative. Note that\n",
    "<p style='text-align: center;'>[(<em>k</em><sub>1</sub>, \n",
    "<em>h</em><sub>1</sub>)&middot;(<em>k</em><sub>2</sub>, <em>h</em><sub>2</sub>)]&middot;(<em>k</em><sub>3</sub>, <em>h</em><sub>3</sub>) = \n",
    "(<em>k</em><sub>1</sub>&middot;<em>&#981;</em><sub><em>h</em>&#8321;</sub>(<em>k</em><sub>2</sub>), <em>h</em><sub>1</sub>&middot;<em>h</em><sub>2</sub>)&middot;(<em>k</em><sub>3</sub>, <em>h</em><sub>3</sub>) = \n",
    "(<em>k</em><sub>1</sub>&middot;<em>&#981;</em><sub><em>h</em>&#8321;</sub>(<em>k</em><sub>2</sub>)&middot;<em>&#981;</em><sub><em>h</em>&#8321;&middot;<em>h</em>&#8322;</sub>(<em>k</em><sub>3</sub>), (<em>h</em><sub>1</sub>&middot;<em>h</em><sub>2</sub>)&middot;<em>h</em><sub>3</sub>),</p>\n",
    "while\n",
    "<p style='text-align: center;'>(<em>k</em><sub>1</sub>, \n",
    "<em>h</em><sub>1</sub>)&middot;[(<em>k</em><sub>2</sub>, <em>h</em><sub>2</sub>)&middot;(<em>k</em><sub>3</sub>, <em>h</em><sub>3</sub>)] = \n",
    "(<em>k</em><sub>1</sub>, <em>h</em><sub>1</sub>)&middot;(<em>k</em><sub>2</sub>&middot;<em>&#981;</em><sub><em>h</em>&#8322;</sub>(<em>k</em><sub>3</sub>), <em>h</em><sub>2</sub>&middot;<em>h</em><sub>3</sub>) =\n",
    "(<em>k</em><sub>1</sub>&middot;<em>&#981;</em><sub><em>h</em>&#8321;</sub>(<em>k</em><sub>2</sub>&middot;<em>&#981;</em><sub><em>h</em>&#8322;</sub>(<em>k</em><sub>3</sub>)), <em>h</em><sub>1</sub>&middot;(<em>h</em><sub>2</sub>&middot;<em>h</em><sub>3</sub>)) \n",
    "= (<em>k</em><sub>1</sub>&middot;<em>&#981;</em><sub><em>h</em>&#8321;</sub>(<em>k</em><sub>2</sub>)&middot;<em>&#981;</em><sub><em>h</em>&#8321;</sub>(<em>&#981;</em><sub><em>h</em>&#8322;</sub>(<em>k</em><sub>3</sub>)), (<em>h</em><sub>1</sub>&middot;<em>h</em><sub>2</sub>)&middot;<em>h</em><sub>3</sub>)\n",
    "= (<em>k</em><sub>1</sub>&middot;<em>&#981;</em><sub><em>h</em>&#8321;</sub>(<em>k</em><sub>2</sub>)&middot;<em>&#981;</em><sub><em>h</em>&#8321;&middot;<em>h</em>&#8322;</sub>(<em>k</em><sub>3</sub>), (<em>h</em><sub>1</sub>&middot;<em>h</em><sub>2</sub>)&middot;<em>h</em><sub>3</sub>).</p>\n",
    "Hence the multiplication on <em>G</em> is associative and so <em>G</em> forms a group.<br><br> \n",
    "\n",
    "<a href=\"#prop76ret\">Return to text</a> "
   ]
  },
  {
   "cell_type": "markdown",
   "id": "ce8de6",
   "metadata": {
    "collapsed": false
   },
   "source": [
    "<br><br><br><br><br><br><br><br><br><br><br><br><br><br><br><br><br><br><br><br><br><br><br><br><br><br><br><br><br><br><br><br><br><br><br><br><br><br><br><br><br><br>"
   ]
  },
  {
   "cell_type": "markdown",
   "id": "59539b",
   "metadata": {
    "collapsed": false
   },
   "source": [
    "<a name=\"lem77\" id=\"lem77\"></a>\n",
    "\n",
    "Proof of Lemma 7.7:<br><br>   \n",
    "  \n",
    "We will use Proposition 3.2 and observe that \n",
    "<p style='text-align: center;'>(<em>e</em><sub>1</sub>, <em>h</em>)<sup>-1</sup> = \n",
    "(<em>&#981;<sub>h</sub></em>&#8331;&#8321;(<em>e</em><sub>1</sub><sup>-1</sup>), <em>h</em><sup>-1</sup>) = (<em>e</em><sub>1</sub>, <em>h</em><sup>-1</sup>),</p>\n",
    "so\n",
    "<p style='text-align: center;'>(<em>e</em><sub>1</sub>, <em>h</em><sub>1</sub>)&middot;(<em>e</em><sub>1</sub>, <em>h</em><sub>2</sub>)<sup>-1</sup> =\n",
    "(<em>e</em><sub>1</sub>, <em>h</em><sub>1</sub>)&middot;(<em>e</em><sub>1</sub>, <em>h</em><sub>2</sub><sup>-1</sup>) =\n",
    "(<em>e</em><sub>1</sub>&middot;<em>&#981;</em><sub><em>h</em>&#8321;</sub>(<em>e</em><sub>1</sub>), <em>h</em><sub>1</sub>&middot;<em>h</em><sub>2</sub><sup>-1</sup>) = \n",
    "(<em>e</em><sub>1</sub>, <em>h</em><sub>1</sub>&middot;<em>h</em><sub>2</sub><sup>-1</sup>).</p>\n",
    "Thus, whenever <em>a</em> and <em>b</em> are in <font style=\"text-decoration:overline\"><em>H</em></font>, <em>a</em>&middot;<em>b</em><sup>-1</sup> is in \n",
    "<font style=\"text-decoration:overline\"><em>H</em></font>. So <font style=\"text-decoration:overline\"><em>H</em></font> is a subgroup. <br><br>\n",
    "\n",
    "The mapping <em>&fnof;</em> : <em>G</em> &rarr; <em>H</em> given by \n",
    "<p style='text-align: center;'><em>&fnof;</em>( (<em>k</em>, <em>h</em>) ) = <em>h</em></p>\n",
    "is a homomorphism, since\n",
    "<p style='text-align: center;'><em>&fnof;</em>( (<em>k</em><sub>1</sub>, <em>h</em><sub>1</sub>)&middot;(<em>k</em><sub>2</sub>, <em>h</em><sub>2</sub>) ) = \n",
    "<em>&fnof;</em>( (<em>k</em><sub>1</sub>&middot;<em>&#981;</em><sub><em>h</em>&#8321;</sub>(<em>k</em><sub>2</sub>), <em>h</em><sub>1</sub>&middot;<em>h</em><sub>2</sub>) ) =\n",
    "<em>h</em><sub>1</sub>&middot;<em>h</em><sub>2</sub> = \n",
    "<em>&fnof;</em>( (<em>k</em><sub>1</sub>, <em>h</em><sub>1</sub>) )&middot;<em>&fnof;</em>( (<em>k</em><sub>2</sub>, <em>h</em><sub>2</sub>) ).</p>\n",
    "The kernel of this homomorphism is <font style=\"text-decoration:overline\"><em>K</em></font>, so <font style=\"text-decoration:overline\"><em>K</em></font>\n",
    "is a normal subgroup of <em>G</em>.  By restricting the function <em>&fnof;</em> to the set <font style=\"text-decoration:overline\"><em>H</em></font>, we find that \n",
    "it is one-to-one and onto.  Thus, <font style=\"text-decoration:overline\"><em>H</em></font> &asymp; <em>H</em>.\n",
    "\n",
    "A similar function <em>g</em> : <em>K</em> &rarr; <font style=\"text-decoration:overline\"><em>K</em></font>, given by\n",
    "<p style='text-align: center;'><em>g</em>(<em>k</em>) = (<em>k</em>, <em>e</em><sub>2</sub>)</p>\n",
    "can show that <font style=\"text-decoration:overline\"><em>K</em></font> &asymp; <em>K</em>.  This function is clearly one-to-one and onto, and\n",
    "<p style='text-align: center;'><em>g</em>(<em>k</em><sub>1</sub>)&middot;<em>g</em>(<em>k</em><sub>2</sub>) = \n",
    "(<em>k</em><sub>1</sub>, <em>e</em><sub>2</sub>)&middot;(<em>k</em><sub>2</sub>, <em>e</em><sub>2</sub>) =\n",
    "(<em>k</em><sub>1</sub>&middot;<em>&#981;</em><sub><em>e</em>&#8322;</sub>(<em>k</em><sub>2</sub>), <em>e</em><sub>2</sub>) =\n",
    "(<em>k</em><sub>1</sub>&middot;<em>k</em><sub>2</sub>, <em>e</em><sub>2</sub>) = <em>g</em>(<em>k</em><sub>1</sub>&middot;<em>k</em><sub>2</sub>).</p>\n",
    "Finally, it is clear that the intersections of the two groups give just {(<em>e</em><sub>1</sub>, <em>e</em><sub>2</sub>)}.<br><br>  \n",
    "  \n",
    "<a href=\"#lem77ret\">Return to text</a>  "
   ]
  },
  {
   "cell_type": "markdown",
   "id": "fe6e1e",
   "metadata": {
    "collapsed": false
   },
   "source": [
    "<br><br><br><br><br><br><br><br><br><br><br><br><br><br><br><br><br><br><br><br><br><br><br><br><br><br><br><br><br><br><br><br><br><br><br><br><br><br><br><br><br><br>"
   ]
  },
  {
   "cell_type": "markdown",
   "id": "602532",
   "metadata": {
    "collapsed": false
   },
   "source": [
    "<a name=\"theor73\" id=\"theor73\"></a>\n",
    "\n",
    "Proof of Theorem 7.3:<br><br>\n",
    "  \n",
    "Note that since <em>H</em> is a subgroup of <em>G</em>, and <em>N</em> is a normal subgroup we have by Lemma 5.3 that <em>N</em>&middot;<em>H</em> is a subgroup of \n",
    "<em>G</em>.  We next want to define the homomorphism <em>&#981;</em>. For each <em>h</em> in <em>H</em>, we define\n",
    "<p style='text-align: center;'><em>&#981;<sub>h</sub></em>(<em>k</em>) = <em>h</em>&middot;<em>k</em>&middot;<em>h</em><sup>-1</sup></p>\n",
    "for all <em>k</em> &isin; <em>N</em>.  We first need to show that <em>&#981;<sub>h</sub></em> is an automorphism on <em>N</em> for each <em>h</em> in <em>H</em>, and \n",
    "then we need to show that <em>&#981;</em> itself is a nontrivial homomorphism.  Since <em>N</em> is normal, it is clear that this sends elements of <em>N</em>\n",
    "to elements of <em>N</em>.  Note that \n",
    "<p style='text-align: center;'><em>&#981;<sub>h</sub></em>(<em>k</em><sub>1</sub>&middot;<em>k</em><sub>2</sub>) = \n",
    "<em>h</em>&middot;<em>k</em><sub>1</sub>&middot;<em>k</em><sub>2</sub>&middot;<em>h</em><sup>-1</sup> = \n",
    "(<em>h</em>&middot;<em>k</em><sub>1</sub>&middot;<em>h</em><sup>-1</sup>)&middot;(<em>h</em>&middot;<em>k</em><sub>2</sub>&middot;<em>h</em><sup>-1</sup>) =\n",
    "<em>&#981;<sub>h</sub></em>(<em>k</em><sub>1</sub>)&middot;<em>&#981;<sub>h</sub></em>(<em>k</em><sub>2</sub>).</p>\n",
    "So <em>&#981;<sub>h</sub></em> is a homomorphism from <em>N</em> to <em>N</em>.  Since \n",
    "<p style='text-align: center;'><em>y</em> &isin; \n",
    "<em>&#981;<sub>h</sub></em><sup>-1</sup>(<em>k</em>)&emsp;&#10234;&emsp;<em>h</em>&middot;<em>y</em>&middot;<em>h</em><sup>-1</sup> = \n",
    "<em>k</em>&emsp;&#10234;&emsp;<em>y</em> = <em>h</em><sup>-1</sup>&middot;<em>k</em>&middot;<em>h</em></p>\n",
    "we see that <em>&#981;<sub>h</sub></em> is a one-to-one and onto function.  Thus, <em>&#981;<sub>h</sub></em> is an automorphism of <em>N</em>. <br><br>\n",
    "\n",
    "Next, we need to see that <em>&#981;</em> itself is a homomorphism from <em>H</em> to Aut(<em>N</em>). Note that\n",
    "<p style='text-align: center;'>(<em>&#981;</em><sub><em>h</em>&#8321;</sub>&middot;<em>&#981;</em><sub><em>h</em>&#8322;</sub>)(<em>k</em>) =\n",
    "<em>&#981;</em><sub><em>h</em>&#8321;</sub>(<em>&#981;</em><sub><em>h</em>&#8322;</sub>(<em>k</em>)) = \n",
    "<em>&#981;</em><sub><em>h</em>&#8321;</sub>(<em>h</em><sub>2</sub>&middot;<em>k</em>&middot;<em>h</em><sub>2</sub><sup>-1</sup>) =\n",
    "<em>h</em><sub>1</sub>&middot;<em>h</em><sub>2</sub>&middot;<em>k</em>&middot;<em>h</em><sub>2</sub><sup>-1</sup>&middot;<em>h</em><sub>1</sub><sup>-1</sup> =\n",
    "(<em>h</em><sub>1</sub>&middot;<em>h</em><sub>2</sub>)&middot;<em>k</em>&middot;(<em>h</em><sub>1</sub>&middot;<em>h</em><sub>2</sub>)<sup>-1</sup> =\n",
    "<em>&#981;</em><sub><em>h</em>&#8321;&middot;<em>h</em>&#8322;</sub>(<em>k</em>).</p>\n",
    "So <em>&#981;</em><sub><em>h</em>&#8321;</sub>&middot;<em>&#981;</em><sub><em>h</em>&#8322;</sub> = <em>&#981;</em><sub><em>h</em>&#8321;&middot;<em>h</em>&#8322;</sub>\n",
    "and we see that <em>&#981;</em> is a homomorphism. In fact, the homomorphism must be nontrivial, because if <em>&#981;<sub>h</sub></em>(<em>k</em>) = <em>k</em> \n",
    "for all <em>h</em> and <em>k</em>, then since <em>&#981;<sub>h</sub></em>(<em>k</em>) = <em>h</em>&middot;<em>k</em>&middot;<em>h</em><sup>-1</sup> = <em>k</em>, \n",
    "we have that  <em>k</em>&middot;<em>h</em> = <em>h</em>&middot;<em>k</em> for all <em>h</em> in <em>H</em>, and <em>k</em> in <em>N</em>. \n",
    "This would indicate that <em>H</em> is a <em>normal</em> subgroup of <em>N</em>&middot;<em>H</em>, which contradicts our original assumption. Thus, <em>&#981;</em> is \n",
    "a nontrivial homomorphism. <br><br>\n",
    "\n",
    "We can now proceed in a way similar to how we proved the direct product theorem (7.1). As before, we will begin by showing that \n",
    "every element in \n",
    "<em>N</em>&middot;<em>H</em> can be <em>uniquely</em> written in the form <em>k</em>&middot;<em>h</em>, where <em>k</em> &isin; <em>N</em> and <em>h</em> &isin; <em>H</em>. \n",
    "Suppose that we have \n",
    "<p style='text-align: center;'><em>k</em><sub>1</sub>&middot;<em>h</em><sub>1</sub> = <em>k</em><sub>2</sub>&middot;<em>h</em><sub>2</sub>.</p> \n",
    "Then <em>k</em><sub>2</sub><sup>-1</sup>&middot;<em>k</em><sub>1</sub> = <em>h</em><sub>2</sub>&middot;<em>h</em><sub>1</sub><sup>-1</sup>.  Since this element is in \n",
    "both <em>N</em> and <em>H</em>, which has just the identity element in the intersection, we must have \n",
    "<p style='text-align: center;'><em>k</em><sub>2</sub><sup>-1</sup>&middot;<em>k</em><sub>1</sub> = <em>h</em><sub>2</sub>&middot;<em>h</em><sub>1</sub><sup>-1</sup> = \n",
    "<em>e</em>.</p>\n",
    "Therefore, <em>k</em><sub>1</sub> = <em>k</em><sub>2</sub> and <em>h</em><sub>1</sub> = <em>h</em><sub>2</sub>.  Thus, we have shown that every element of \n",
    "<em>N</em>&middot;<em>H</em> is written uniquely as <em>k</em>&middot;<em>h</em>, where <em>k</em> is in <em>N</em>, and <em>h</em> is in <em>H</em>.<br><br>\n",
    "\n",
    "We now want to create a mapping\n",
    "<p style='text-align: center;'><em>&fnof;</em> : <em>N</em>&middot;<em>H</em> &rarr; <em>N</em> &#8906;<sub><em>&#981;</em></sub><em>H</em></p>\n",
    "defined by\n",
    "<p style='text-align: center;'><em>&fnof;</em>(<em>x</em>) = (<em>k</em>, <em>h</em>),</p>\n",
    "where <em>k</em> and <em>h</em> are the unique elements such that <em>k</em> &isin; <em>N</em>, <em>h</em> &isin; <em>H</em>, and <em>x</em> = <em>k</em>&middot;<em>h</em>.  \n",
    "The function <em>&fnof;</em> is one-to-one since the element (<em>k</em>, <em>h</em>) can only come from <em>k</em>&middot;<em>h</em>.  Also, the element \n",
    "<nobr><em>k</em>&middot;<em>h</em></nobr> maps to (<em>k</em>, <em>h</em>), so <em>&fnof;</em> is onto.<br>\n",
    "<br>\n",
    "\n",
    "The final step is to show that <em>&fnof;</em> is a homomorphism. Let <em>x</em> = <em>k</em><sub>1</sub>&middot;<em>h</em><sub>1</sub>, and \n",
    "<em>y</em> = <em>k</em><sub>2</sub>&middot;<em>h</em><sub>2</sub>. Then \n",
    "<p style='text-align: center;'><em>x</em>&middot;<em>y</em> = \n",
    "<em>k</em><sub>1</sub>&middot;<em>h</em><sub>1</sub>&middot;<em>k</em><sub>2</sub>&middot;<em>h</em><sub>2</sub> = \n",
    "(<em>k</em><sub>1</sub>&middot;<em>h</em><sub>1</sub>&middot;<em>k</em><sub>2</sub>&middot;<em>h</em><sub>1</sub><sup>-1</sup>)&middot;(<em>h</em><sub>1</sub>&middot;<em>h</em><sub>2</sub>).</p>\n",
    "Since <em>N</em> is a normal subgroup, <em>h</em><sub>1</sub>&middot;<em>k</em><sub>2</sub>&middot;<em>h</em><sub>1</sub><sup>-1</sup> is in <em>N</em>, and so \n",
    "<em>k</em><sub>1</sub>&middot;<em>h</em><sub>1</sub>&middot;<em>k</em><sub>2</sub>&middot;<em>h</em><sub>1</sub><sup>-1</sup> is in <em>N</em> while \n",
    "<em>h</em><sub>1</sub>&middot;<em>h</em><sub>2</sub> is in <em>H</em>. Thus,\n",
    "<p style='text-align: center;'><em>&fnof;</em>(<em>x</em>&middot;<em>y</em>) = \n",
    "<em>&fnof;</em>((<em>k</em><sub>1</sub>&middot;<em>h</em><sub>1</sub>&middot;<em>k</em><sub>2</sub>&middot;<em>h</em><sub>1</sub><sup>-1</sup>)&middot;(<em>h</em><sub>1</sub>&middot;<em>h</em><sub>2</sub>))\n",
    "= (<em>k</em><sub>1</sub>&middot;<em>h</em><sub>1</sub>&middot;<em>k</em><sub>2</sub>&middot;<em>h</em><sub>1</sub><sup>-1</sup>, <em>h</em><sub>1</sub>&middot;<em>h</em><sub>2</sub>) = (<em>k</em><sub>1</sub>&middot;<em>&#981;</em><sub><em>h</em>&#8321;</sub>(<em>k</em><sub>2</sub>), <em>h</em><sub>1</sub>&middot;<em>h</em><sub>2</sub>) = \n",
    "(<em>k</em><sub>1</sub>, <em>h</em><sub>1</sub>)&middot;(<em>k</em><sub>2</sub>, <em>h</em><sub>2</sub>) = <em>&fnof;</em>(<em>x</em>)&middot;<em>&fnof;</em>(<em>y</em>).</p>\n",
    "So <em>&fnof;</em> is an isomorphism, and we have <em>N</em>&middot;<em>H</em> &asymp; <em>N</em> &#8906;<sub><em>&#981;</em></sub><em>H</em>.<br><br>   \n",
    "  \n",
    "<a href=\"#theor73ret\">Return to text</a>  "
   ]
  },
  {
   "cell_type": "markdown",
   "id": "f5768b",
   "metadata": {
    "collapsed": false
   },
   "source": [
    "<br><br><br><br><br><br><br><br><br><br><br><br><br><br><br><br><br><br><br><br><br><br><br><br><br><br><br><br><br><br><br><br><br><br><br><br><br><br><br><br><br><br>"
   ]
  },
  {
   "cell_type": "markdown",
   "id": "f594f0",
   "metadata": {
    "collapsed": false
   },
   "source": [
    "<a name=\"prop77\" id=\"prop77\"></a>\n",
    "\n",
    "Proof of Proposition 7.7:<br><br> \n",
    "  \n",
    "Let us write <em>G</em> = <em>N</em> &#8906;<sub><em>&#981;</em></sub><em>H</em>, and <em>M</em> = <em>N</em> &#8906;<sub><em>&fnof;</em></sub>&thinsp;<em>H</em>. These are \n",
    "two different groups, even though they are both written using ordered pairs. Let us define a mapping\n",
    "<p style='text-align: center;'><em>v</em> : <em>G</em> &rarr; <em>M</em></p>\n",
    "defined by\n",
    "<p style='text-align: center;'><em>v</em>( (<em>k</em>, <em>h</em>) ) =(<em>w</em>(<em>k</em>), <em>h</em>).</p>\n",
    "Because <em>w</em>(<em>k</em>) is one-to-one and onto, certainly <em>v</em> is one-to-one and onto. All we would have to check is that \n",
    "<p style='text-align: center;'><em>v</em>( (<em>k</em><sub>1</sub>, <em>h</em><sub>1</sub>) )&middot;<em>v</em>( (<em>k</em><sub>2</sub>, <em>h</em><sub>2</sub>) ) = \n",
    "<em>v</em>( (<em>k</em><sub>1</sub>, <em>h</em><sub>1</sub>) &middot; (<em>k</em><sub>2</sub>, <em>h</em><sub>2</sub>) )</p>\n",
    "We have that \n",
    "<p style='text-align: center;'><em>v</em>( (<em>k</em><sub>1</sub>, <em>h</em><sub>1</sub>) &middot; (<em>k</em><sub>2</sub>, <em>h</em><sub>2</sub>) ) =\n",
    "(<em>w</em>(<em>k</em><sub>1</sub>), <em>h</em><sub>1</sub>)&middot;(<em>w</em>(<em>k</em><sub>2</sub>), <em>h</em><sub>2</sub>) =\n",
    "(<em>w</em>(<em>k</em><sub>1</sub>)&middot;<em>&fnof;</em><sub><em>h</em>&#8321;</sub>(<em>w</em>(<em>k</em><sub>2</sub>)), <em>h</em><sub>1</sub>&middot;<em>h</em><sub>2</sub>) =\n",
    "(<em>w</em>(<em>k</em><sub>1</sub>)&middot;<em>w</em>(<em>&#981;</em><sub><em>h</em>&#8321;</sub>(<em>w</em><sup>-1</sup>(<em>w</em>(<em>k</em><sub>2</sub>)))), <em>h</em><sub>1</sub>&middot;<em>h</em><sub>2</sub>) = \n",
    "(<em>w</em>(<em>k</em><sub>1</sub>)&middot;<em>w</em>(<em>&#981;</em><sub><em>h</em>&#8321;</sub>(<em>k</em><sub>2</sub>)), \n",
    "<em>h</em><sub>1</sub>&middot;<em>h</em><sub>2</sub>)</p>\n",
    "On the other hand,\n",
    "<p style='text-align: center;'><em>v</em>( (<em>k</em><sub>1</sub>, <em>h</em><sub>1</sub>) &middot; (<em>k</em><sub>2</sub>, <em>h</em><sub>2</sub>) ) =\n",
    "<em>v</em>( (<em>k</em><sub>1</sub>&middot;<em>&#981;</em><sub><em>h</em>&#8321;</sub>(<em>k</em><sub>2</sub>), <em>h</em><sub>1</sub>&middot;<em>h</em><sub>2</sub>) ) =\n",
    "(<em>w</em>(<em>k</em><sub>1</sub>&middot;<em>&#981;</em><sub><em>h</em>&#8321;</sub>(<em>k</em><sub>2</sub>)), <em>h</em><sub>1</sub>&middot;<em>h</em><sub>2</sub>) =\n",
    "(<em>w</em>(<em>k</em><sub>1</sub>)&middot;<em>w</em>(<em>&#981;</em><sub><em>h</em>&#8321;</sub>(<em>k</em><sub>2</sub>)), \n",
    "<em>h</em><sub>1</sub>&middot;<em>h</em><sub>2</sub>).</p>\n",
    "Since these are equal, we have an isomorphism.<br><br>  \n",
    "  \n",
    "<a href=\"#prop77ret\">Return to text</a><br><br>   "
   ]
  },
  {
   "cell_type": "markdown",
   "id": "df5539",
   "metadata": {
    "collapsed": false
   },
   "source": [
    "<br><br><br><br><br><br><br><br><br><br><br><br><br><br><br><br><br><br><br><br><br><br><br><br><br><br><br><br><br><br><br><br><br><br><br><br><br><br><br><br><br><br>"
   ]
  },
  {
   "cell_type": "markdown",
   "id": "f651d6",
   "metadata": {
    "collapsed": false
   },
   "source": [
    "<a name=\"sec7p\" id=\"sec7p\"></a>\n",
    "<h1><em>SageMath</em> Interactive Problems</h1>\n",
    "\n",
    "<br>\n",
    "&sect;7.1 #19)<br>\n",
    "Use <em>SageMath</em> to define the group <em>Z</em><sub>2</sub> &times; <em>Z</em><sub>6</sub>, and display the multiplication table. Then have <em>SageMath</em> find the multiplication table for <em>Z</em><sub>21</sub><sup>&ast;</sup>, and rearrage the elements to show that these groups are isomorphic.\n",
    "<br>"
   ]
  },
  {
   "cell_type": "markdown",
   "id": "375f46",
   "metadata": {
    "collapsed": false
   },
   "source": [
    "<br>\n",
    "&sect;7.1 #20)<br>\n",
    "Use <em>SageMath</em> to define the group <em>Z</em><sub>3</sub> &times; <em>Z</em><sub>8</sub><sup>&ast;</sup>, and display the multiplication table. Then have <em>SageMath</em> find the multiplication table for <em>Z</em><sub>36</sub><sup>&ast;</sup>, and rearrage the elements to show that these groups are isomorphic.\n",
    "<br>"
   ]
  },
  {
   "cell_type": "markdown",
   "id": "fa4778",
   "metadata": {
    "collapsed": false
   },
   "source": [
    "<br>\n",
    "&sect;7.2 #20)<br>\n",
    "Use <em>SageMath</em>'s <strong>PartitionsP</strong> command to find the number of abelian groups of order 120,000,000.<br>"
   ]
  },
  {
   "cell_type": "markdown",
   "id": "66ab4b",
   "metadata": {
    "collapsed": false
   },
   "source": [
    "<br>\n",
    "&sect;7.2 #21)<br>\n",
    "Notice that the logarithm of the <strong>PartitionsP</strong> function looks like a sideways parabola."
   ]
  },
  {
   "cell_type": "code",
   "execution_count": 0,
   "id": "b752d5",
   "metadata": {
    "collapsed": false
   },
   "outputs": [
   ],
   "source": [
    "list_plot([ln(PartitionsP(i)) for i in range(999)])"
   ]
  },
  {
   "cell_type": "markdown",
   "id": "40776d",
   "metadata": {
    "collapsed": false
   },
   "source": [
    "This indicates that the <strong>PartitionsP</strong> function grows like <em>e</em><sup><em>c</em>&radic;<font style='text-decoration: overline'><em>m</em></font></sup> for some constant <em>c</em>.  Let us first assign a variable to this graph.<br>"
   ]
  },
  {
   "cell_type": "code",
   "execution_count": 0,
   "id": "56be7b",
   "metadata": {
    "collapsed": false
   },
   "outputs": [
   ],
   "source": [
    "S = _"
   ]
  },
  {
   "cell_type": "markdown",
   "id": "020b94",
   "metadata": {
    "collapsed": false
   },
   "source": [
    "Here is a way we can plot a sideways parabola on top of the above graph.<br>"
   ]
  },
  {
   "cell_type": "code",
   "execution_count": 0,
   "id": "59f204",
   "metadata": {
    "collapsed": false
   },
   "outputs": [
   ],
   "source": [
    "var(\"x\")\n",
    "P = plot(1.0 * sqrt(x), [x,1,999]); P + S"
   ]
  },
  {
   "cell_type": "markdown",
   "id": "c303b3",
   "metadata": {
    "collapsed": false
   },
   "source": [
    "Try varying the constant 1.0 until the curves seem to run parallel to each other.  Approximatately what is this constant?<br>"
   ]
  },
  {
   "cell_type": "markdown",
   "id": "edfaa2",
   "metadata": {
    "collapsed": false
   },
   "source": [
    "<br>\n",
    "For Problems 19 through 21: Find all of the automorphisms of the following groups.<br>(Hint: For the non-abelian groups, find the inner automorphisms first.)<br>\n",
    "<br>\n",
    "&sect;7.3 #19) <em>Z</em><sub>15</sub><sup>&ast;</sup>.<br>"
   ]
  },
  {
   "cell_type": "markdown",
   "id": "e2c754",
   "metadata": {
    "collapsed": false
   },
   "source": [
    "<br>\n",
    "&sect;7.3 #20) <em>Z</em><sub>21</sub><sup>&ast;</sup>.<br>"
   ]
  },
  {
   "cell_type": "markdown",
   "id": "83d8da",
   "metadata": {
    "collapsed": false
   },
   "source": [
    "<br>\n",
    "&sect;7.3 #21) <em>D</em><sub>5</sub>.<br>"
   ]
  },
  {
   "cell_type": "markdown",
   "id": "d3bb70",
   "metadata": {
    "collapsed": false
   },
   "source": [
    "<br>\n",
    "&sect;7.3 #22)<br>\n",
    "Find all of the automorphisms of the group <em>Z</em><sub>3</sub> &times; <em>Z</em><sub>3</sub>.  Because of the large number of automorphisms, it is useful to number the non-identity elements of the group as we did for Aut(<em>Z</em><sub>24</sub><sup>&ast;</sup>).<br>"
   ]
  },
  {
   "cell_type": "markdown",
   "id": "bc92aa",
   "metadata": {
    "collapsed": false
   },
   "source": [
    "<br>\n",
    "&sect;7.4 #17)<br>\n",
    "Use <em>SageMath</em> to find the only semi-direct  product <em>Z</em><sub>8</sub><sup>&ast;</sup> &#8906; <em>Z</em><sub>8</sub><sup>&ast;</sup>. Is this group \n",
    "isomorphic to any of the three groups of order 16 found by considering <em>Z</em><sub>8</sub> &#8906; <em>Z</em><sub>2</sub>?<br>"
   ]
  },
  {
   "cell_type": "markdown",
   "id": "a627be",
   "metadata": {
    "collapsed": false
   },
   "source": [
    "<br>\n",
    "&sect;7.4 #18)<br>\n",
    "From Problems 16 and 19 from &sect;7.1, Problem 9 and Definition 7.7, we have found six groups of order 12: <em>Z</em><sub>12</sub>, <em>Z</em><sub>2</sub> &times; <em>Z</em><sub>6</sub>, \n",
    "<em>A</em><sub>4</sub>, <em>D</em><sub>6</sub>, <em>S</em><sub>3</sub> &times; <em>Z</em><sub>2</sub>, and <em>Z</em><sub>3</sub> &#8906; <em>Z</em><sub>4</sub>.\n",
    "Yet Table 5.4 indicates that there are only five non-isomorphic groups of order 12. Which two of these groups are isomorphic? Use <em>SageMath</em> to show \n",
    "the isomorphism.<br>"
   ]
  },
  {
   "cell_type": "markdown",
   "id": "3edb9b",
   "metadata": {
    "collapsed": false
   },
   "source": [
    "<br>\n",
    "&sect;7.4 #19)<br>\n",
    "Use <em>SageMath</em> to define the wreath product <em>Z</em><sub>3</sub> Wr <em>S</em><sub>2</sub>.  Then use the command <strong>StructureDescription</strong> to determine what group this is.  See problem 15.<br>"
   ]
  },
  {
   "cell_type": "markdown",
   "id": "7c28bf",
   "metadata": {
    "collapsed": false
   },
   "source": [
    "<br>\n",
    "&sect;7.4 #20)<br>\n",
    "Use <em>SageMath</em> to define the wreath product <em>Z</em><sub>2</sub> Wr <em>A</em><sub>3</sub>.  Then use the command <strong>StructureDescription</strong> to determine what group this is.  See problem 15.<br>"
   ]
  },
  {
   "cell_type": "markdown",
   "id": "3c5e84",
   "metadata": {
    "collapsed": false
   },
   "source": [
    "<br>\n",
    "&sect;7.4 #21)<br>\n",
    "Use <em>SageMath</em> to define the wreath product <em>Z</em><sub>2</sub> Wr <em>S</em><sub>3</sub>.  Then use the command <strong>StructureDescription</strong> to determine what group this is.  See problem 15.<br>"
   ]
  },
  {
   "cell_type": "code",
   "execution_count": 0,
   "id": "87df04",
   "metadata": {
    "collapsed": false
   },
   "outputs": [
   ],
   "source": [
   ]
  }
 ],
 "metadata": {
  "kernelspec": {
   "argv": [
    "sage-10.0",
    "--python",
    "-m",
    "sage.repl.ipython_kernel",
    "--matplotlib=inline",
    "-f",
    "{connection_file}"
   ],
   "display_name": "SageMath 10.0",
   "env": {
   },
   "language": "sagemath",
   "metadata": {
    "cocalc": {
     "description": "Open-source mathematical software system",
     "priority": 10,
     "url": "https://www.sagemath.org/"
    }
   },
   "name": "sage-10.0",
   "resource_dir": "/ext/jupyter/kernels/sage-10.0"
  },
  "language_info": {
   "codemirror_mode": {
    "name": "ipython",
    "version": 3
   },
   "file_extension": ".py",
   "mimetype": "text/x-python",
   "name": "python",
   "nbconvert_exporter": "python",
   "pygments_lexer": "ipython3",
   "version": "3.7.10"
  }
 },
 "nbformat": 4,
 "nbformat_minor": 4
}