{
 "cells": [
  {
   "cell_type": "markdown",
   "id": "c8d09a",
   "metadata": {
    "collapsed": false
   },
   "source": [
    "<!-- Group06 -->\n",
    "\n",
    "<html>\n",
    "<body>\n",
    "\n",
    "<!-- To make the size of the font bigger for presentations, change the following command from +1 to +2 -->\n",
    "\n",
    "<font size=\"+1\">\n",
    "\n",
    "<p style='font-size: 36px;font-family: Arial;font-style: italic;font-weight: bold;color: #FF00FF;background-color: #80FFFF;text-align: center;'>\n",
    "Abstract Algebra: An Interactive Approach, 3e\n",
    "</p>\n",
    "\n",
    "<p style='font-family: Geneva;font-style: italic;color: #0000FF;background-color: #FFFFFF;'>\n",
    "This notebook is provided with the textbook, &quot;Abstract Algebra: An Interactive Approach, 3rd Ed.&quot; by William Paulsen. Users of this notebook are encouraged to buy the textbook.\n",
    "</p>\n",
    "\n",
    "<p style='font-size: 36px;font-family: New York;font-weight: bold;color: #000000;background-color: #FFFFFF;text-align: center;border: 1px;border-style: \n",
    "solid;border-color: #000000;'>\n",
    "Chapter 6 : Permutation Groups\n",
    "</p>\n",
    "\n",
    "<p style='text-align: center;'>Initialization:  This cell MUST be evaluated first:</p>\n",
    "\n"
   ]
  },
  {
   "cell_type": "code",
   "execution_count": 0,
   "id": "601def",
   "metadata": {
    "collapsed": false
   },
   "outputs": [
   ],
   "source": [
    "load('absalgtext2.sage')"
   ]
  },
  {
   "cell_type": "markdown",
   "id": "5d9a25",
   "metadata": {
    "collapsed": false
   },
   "source": [
    "<br>\n",
    "<a href=\"#sec61\">Symmetric Groups</a><br>\n",
    "<a href=\"#sec62\">Cycles</a><br>\n",
    "<a href=\"#sec63\">Cayley's Theorem</a><br>\n",
    "<a href=\"#sec64\">Numbering the Permutations</a><br>\n",
    "<a href=\"#sec6p\"><em>SageMath</em> Interactive Problems</a><br>"
   ]
  },
  {
   "cell_type": "markdown",
   "id": "136837",
   "metadata": {
    "collapsed": false
   },
   "source": [
    "<a name=\"sec61\" id=\"sec61\"></a>\n",
    "<h1>Symmetric Groups</h1>\n",
    "\n",
    "<br>\n",
    "In this chapter we will explore one class of finite groups that has important applications. These groups are called the <em>permutation groups</em>, \n",
    "or <em>symmetric groups</em>. We have already seen <em>S</em><sub>3</sub>, the permutation group on 3 objects.<br><br>\n",
    "\n",
    "Recall that we used 3 different colored books to illustrate this group. We can easily generalize this to consider the group of all permutations of <em>n</em> objects. For example, with four books the beginning position would be<br>"
   ]
  },
  {
   "cell_type": "code",
   "execution_count": 0,
   "id": "cb2c56",
   "metadata": {
    "collapsed": false
   },
   "outputs": [
   ],
   "source": [
    "InitBooks(4)"
   ]
  },
  {
   "cell_type": "markdown",
   "id": "ca07d6",
   "metadata": {
    "collapsed": false
   },
   "source": [
    "<br>\n",
    " We have seen several ways of rearranging the books. We can swap the first two books with the command<br>"
   ]
  },
  {
   "cell_type": "code",
   "execution_count": 0,
   "id": "620018",
   "metadata": {
    "collapsed": false
   },
   "outputs": [
   ],
   "source": [
    "MoveBooks(First)"
   ]
  },
  {
   "cell_type": "markdown",
   "id": "fc4257",
   "metadata": {
    "collapsed": false
   },
   "source": [
    "<br>\n",
    "We can also swap the last two books:<br>"
   ]
  },
  {
   "cell_type": "code",
   "execution_count": 0,
   "id": "512610",
   "metadata": {
    "collapsed": false
   },
   "outputs": [
   ],
   "source": [
    "MoveBooks(Last)"
   ]
  },
  {
   "cell_type": "markdown",
   "id": "498395",
   "metadata": {
    "collapsed": false
   },
   "source": [
    "<br>\n",
    "We can move the first book to the end, sliding the other books to the left.<br>"
   ]
  },
  {
   "cell_type": "code",
   "execution_count": 0,
   "id": "c5c9f6",
   "metadata": {
    "collapsed": false
   },
   "outputs": [
   ],
   "source": [
    "MoveBooks(Left)"
   ]
  },
  {
   "cell_type": "markdown",
   "id": "d6203a",
   "metadata": {
    "collapsed": false
   },
   "source": [
    "<br>\n",
    "The opposite of the procedure is to move the last book to the beginning.<br>"
   ]
  },
  {
   "cell_type": "code",
   "execution_count": 0,
   "id": "38667e",
   "metadata": {
    "collapsed": false
   },
   "outputs": [
   ],
   "source": [
    "MoveBooks(Right)"
   ]
  },
  {
   "cell_type": "markdown",
   "id": "895a2d",
   "metadata": {
    "collapsed": false
   },
   "source": [
    "<br>\n",
    "We can also reverse the order of the books.<br>"
   ]
  },
  {
   "cell_type": "code",
   "execution_count": 0,
   "id": "6d24f5",
   "metadata": {
    "collapsed": false
   },
   "outputs": [
   ],
   "source": [
    "MoveBooks(Rev)"
   ]
  },
  {
   "cell_type": "markdown",
   "id": "a27f18",
   "metadata": {
    "collapsed": false
   },
   "source": [
    "<br>\n",
    "Finally, we can leave the books alone.<br>"
   ]
  },
  {
   "cell_type": "code",
   "execution_count": 0,
   "id": "c277dc",
   "metadata": {
    "collapsed": false
   },
   "outputs": [
   ],
   "source": [
    "MoveBooks(Stay)"
   ]
  },
  {
   "cell_type": "markdown",
   "id": "c8033b",
   "metadata": {
    "collapsed": false
   },
   "source": [
    "<br>\n",
    "For three books, any permutation can be obtained by just one of these six commands. \n",
    "But it is apparent that with four books, there are even more ways to rearrange the books. One possible operation would be to move the left-most book two positions to \n",
    "the right. This can be accomplished by the sequence<br>"
   ]
  },
  {
   "cell_type": "code",
   "execution_count": 0,
   "id": "817d1f",
   "metadata": {
    "collapsed": false
   },
   "outputs": [
   ],
   "source": [
    "MoveBooks(Left, Last)"
   ]
  },
  {
   "cell_type": "markdown",
   "id": "481b77",
   "metadata": {
    "collapsed": false
   },
   "source": [
    "<br>\n",
    "EXPERIMENT:<br>\n",
    "Using just the six commands mentioned above, put the books back into their original positions (Red, Red, Purple, Orange). \n",
    "Try doing this using the fewest number of commands.<br>"
   ]
  },
  {
   "cell_type": "markdown",
   "id": "d2211e",
   "metadata": {
    "collapsed": false
   },
   "source": [
    "<br>\n",
    "This experiment shows that it can be somewhat tricky to represent any permutation order using only a few commands. The more books there are, the more of a puzzle \n",
    "this can be. Let us introduce a notation for a permutation of books that explicitly states where each book ends up.<br><br>\n",
    "\n",
    "One natural way to do this is to number the books in consecutive order, and determine the numbers in the final position. For example, if we put the books in their \n",
    "original order, <br>"
   ]
  },
  {
   "cell_type": "code",
   "execution_count": 0,
   "id": "254cd6",
   "metadata": {
    "collapsed": false
   },
   "outputs": [
   ],
   "source": [
    "InitBooks(4)"
   ]
  },
  {
   "cell_type": "markdown",
   "id": "480f3f",
   "metadata": {
    "collapsed": false
   },
   "source": [
    "<br>\n",
    "and then shift the books to the left,<br>"
   ]
  },
  {
   "cell_type": "code",
   "execution_count": 0,
   "id": "8c6a2f",
   "metadata": {
    "collapsed": false
   },
   "outputs": [
   ],
   "source": [
    "MoveBooks(Left)"
   ]
  },
  {
   "cell_type": "markdown",
   "id": "8ef741",
   "metadata": {
    "collapsed": false
   },
   "source": [
    "<br>\n",
    "we find that if the books started in 1, 2, 3, 4 order, the final position will be 2, 3, 4, 1.  Here, book 1 is red, book 2 is green, book 3 is purple, and book 4 is orange.  Since the final position of the books (green, purple, orange, red) translates to 2, 3, 4, 1.  We write the ending position below the starting position, as follows.\n",
    "<br><br>\n",
    "<table align=\"center\" width=\"160\" border=\"0\" cellspacing=\"0\" cellpadding=\"0\">\n",
    "  <tr>\n",
    "    <td align=\"right\" valign=\"bottom\">&#9115;</td>\n",
    "    <td align=\"center\">1</td>\n",
    "    <td align=\"center\">2</td>\n",
    "    <td align=\"center\">3</td>\n",
    "    <td align=\"center\">4</td>\n",
    "    <td align=\"left\" valign=\"bottom\">&#9118;</td>\n",
    "  </tr>\n",
    "  <tr>\n",
    "    <td align=\"right\" valign=\"top\">&#9117;</td>\n",
    "    <td align=\"center\">2</td>\n",
    "    <td align=\"center\">3</td>\n",
    "    <td align=\"center\">4</td>\n",
    "    <td align=\"center\">1</td>\n",
    "    <td align=\"left\" valign=\"top\">&#9120;</td>\n",
    "  </tr>\n",
    "</table>\n",
    "<br>\n",
    "We can now multiply the permutations by first performing one action, and then the other. For example, doing the operation <strong>Left</strong>, followed \n",
    "by <strong>Last</strong>, leaves us with the books in the order\n",
    "<p style='text-align: center;'>green purple red orange</p><br>\n",
    "which, when compared to the original position, translates to 2, 3, 1, 4, giving the permutation<br><br>\n",
    "\n",
    "<table align=\"center\" width=\"160\" border=\"0\" cellspacing=\"0\" cellpadding=\"0\">\n",
    "  <tr>\n",
    "    <td align=\"right\" valign=\"bottom\">&#9115;</td>\n",
    "    <td align=\"center\">1</td>\n",
    "    <td align=\"center\">2</td>\n",
    "    <td align=\"center\">3</td>\n",
    "    <td align=\"center\">4</td>\n",
    "    <td align=\"left\" valign=\"bottom\">&#9118;</td>\n",
    "  </tr>\n",
    "  <tr>\n",
    "    <td align=\"right\" valign=\"top\">&#9117;</td>\n",
    "    <td align=\"center\">2</td>\n",
    "    <td align=\"center\">3</td>\n",
    "    <td align=\"center\">1</td>\n",
    "    <td align=\"center\">4</td>\n",
    "    <td align=\"left\" valign=\"top\">&#9120;</td>\n",
    "  </tr>\n",
    "</table>\n",
    "<br>\n",
    "We write the <strong>Left</strong>&middot;<strong>Last</strong> as a product of two permutations<br><br>\n",
    "<table align=\"center\" width=\"500\" border=\"0\" cellspacing=\"0\" cellpadding=\"0\">\n",
    "  <tr>\n",
    "    <td align=\"right\" valign=\"bottom\">&#9115;</td>\n",
    "    <td align=\"center\">1</td>\n",
    "    <td align=\"center\">2</td>\n",
    "    <td align=\"center\">3</td>\n",
    "    <td align=\"center\">4</td>\n",
    "    <td align=\"left\" valign=\"bottom\">&#9118;</td>\n",
    "    <td rowspan = \"2\" align=\"center\">&middot;</td>\n",
    "    <td align=\"right\" valign=\"bottom\">&#9115;</td>\n",
    "    <td align=\"center\">1</td>\n",
    "    <td align=\"center\">2</td>\n",
    "    <td align=\"center\">3</td>\n",
    "    <td align=\"center\">4</td>\n",
    "    <td align=\"left\" valign=\"bottom\">&#9118;</td>\n",
    "    <td rowspan = \"2\" align=\"center\">=</td>\n",
    "    <td align=\"right\" valign=\"bottom\">&#9115;</td>\n",
    "    <td align=\"center\">1</td>\n",
    "    <td align=\"center\">2</td>\n",
    "    <td align=\"center\">3</td>\n",
    "    <td align=\"center\">4</td>\n",
    "    <td align=\"left\" valign=\"bottom\">&#9118;</td>\n",
    "  </tr>\n",
    "  <tr>\n",
    "    <td align=\"right\" valign=\"top\">&#9117;</td>\n",
    "    <td align=\"center\">2</td>\n",
    "    <td align=\"center\">3</td>\n",
    "    <td align=\"center\">4</td>\n",
    "    <td align=\"center\">1</td>\n",
    "    <td align=\"left\" valign=\"top\">&#9120;</td>\n",
    "    <td align=\"right\" valign=\"top\">&#9117;</td>\n",
    "    <td align=\"center\">1</td>\n",
    "    <td align=\"center\">2</td>\n",
    "    <td align=\"center\">4</td>\n",
    "    <td align=\"center\">3</td>\n",
    "    <td align=\"left\" valign=\"top\">&#9120;</td>\n",
    "    <td align=\"right\" valign=\"top\">&#9117;</td>\n",
    "    <td align=\"center\">2</td>\n",
    "    <td align=\"center\">3</td>\n",
    "    <td align=\"center\">1</td>\n",
    "    <td align=\"center\">4</td>\n",
    "    <td align=\"left\" valign=\"top\">&#9120;</td>\n",
    "  </tr>\n",
    "</table>\n",
    "<br>\n",
    "\n",
    "If we did these operations in the other order, we would get<br><br>\n",
    "<table align=\"center\" width=\"500\" border=\"0\" cellspacing=\"0\" cellpadding=\"0\">\n",
    "  <tr>\n",
    "    <td align=\"right\" valign=\"bottom\">&#9115;</td>\n",
    "    <td align=\"center\">1</td>\n",
    "    <td align=\"center\">2</td>\n",
    "    <td align=\"center\">3</td>\n",
    "    <td align=\"center\">4</td>\n",
    "    <td align=\"left\" valign=\"bottom\">&#9118;</td>\n",
    "    <td rowspan = \"2\" align=\"center\">&middot;</td>\n",
    "    <td align=\"right\" valign=\"bottom\">&#9115;</td>\n",
    "    <td align=\"center\">1</td>\n",
    "    <td align=\"center\">2</td>\n",
    "    <td align=\"center\">3</td>\n",
    "    <td align=\"center\">4</td>\n",
    "    <td align=\"left\" valign=\"bottom\">&#9118;</td>\n",
    "    <td rowspan = \"2\" align=\"center\">=</td>\n",
    "    <td align=\"right\" valign=\"bottom\">&#9115;</td>\n",
    "    <td align=\"center\">1</td>\n",
    "    <td align=\"center\">2</td>\n",
    "    <td align=\"center\">3</td>\n",
    "    <td align=\"center\">4</td>\n",
    "    <td align=\"left\" valign=\"bottom\">&#9118;</td>\n",
    "  </tr>\n",
    "  <tr>\n",
    "    <td align=\"right\" valign=\"top\">&#9117;</td>\n",
    "    <td align=\"center\">1</td>\n",
    "    <td align=\"center\">2</td>\n",
    "    <td align=\"center\">4</td>\n",
    "    <td align=\"center\">3</td>\n",
    "    <td align=\"left\" valign=\"top\">&#9120;</td>\n",
    "    <td align=\"right\" valign=\"top\">&#9117;</td>\n",
    "    <td align=\"center\">2</td>\n",
    "    <td align=\"center\">3</td>\n",
    "    <td align=\"center\">4</td>\n",
    "    <td align=\"center\">1</td>\n",
    "    <td align=\"left\" valign=\"top\">&#9120;</td>\n",
    "    <td align=\"right\" valign=\"top\">&#9117;</td>\n",
    "    <td align=\"center\">2</td>\n",
    "    <td align=\"center\">4</td>\n",
    "    <td align=\"center\">3</td>\n",
    "    <td align=\"center\">1</td>\n",
    "    <td align=\"left\" valign=\"top\">&#9120;</td>\n",
    "  </tr>\n",
    "</table>\n",
    "<br>\n",
    "\n",
    "Obviously, <strong>Left</strong> &middot; <strong>Last</strong> does not equal <strong>Last</strong> &middot; <strong>Left</strong>.<br><br>\n",
    "\n",
    "We can also view a permutation as a <em>function</em> whose domain is a subset of the integers. Consider the functions <em>&fnof;</em>(<em>x</em>) and \n",
    "<em>&#981;</em>(<em>x</em>) given by the table<br><br>\n",
    "\n",
    "<table align = \"center\" width=\"300\" border=\"0\">\n",
    "  <tr>\n",
    "    <td align = \"center\"><em>&fnof;</em>(1) = 2</td>\n",
    "    <td align = \"center\"><em>&#981;</em>(1) = 2</td>\n",
    "  </tr>\n",
    "  <tr>\n",
    "    <td align = \"center\"><em>&fnof;</em>(2) = 3</td>\n",
    "    <td align = \"center\"><em>&#981;</em>(2) = 3</td>\n",
    "  </tr>\n",
    "  <tr>\n",
    "    <td align = \"center\"><em>&fnof;</em>(3) = 1</td>\n",
    "    <td align = \"center\"><em>&#981;</em>(3) = 4</td>\n",
    "  </tr>\n",
    "  <tr>\n",
    "    <td align = \"center\"><em>&fnof;</em>(4) = 4</td>\n",
    "    <td align = \"center\"><em>&#981;</em>(4) = 1.</td>\n",
    "  </tr>\n",
    "</table>\n",
    "<br>\n",
    "We could denote these two functions by the same type of notation, as follows:<br><br>\n",
    "<table align=\"center\" border=\"0\" cellspacing=\"0\" cellpadding=\"0\">\n",
    "  <tr>\n",
    "    <td rowspan = \"2\" align=\"right\"><em>&fnof;</em>(<em>x</em>) =</td>\n",
    "    <td align=\"right\" valign=\"bottom\">&#9115;</td>\n",
    "    <td align=\"center\">1</td>\n",
    "    <td align=\"center\">2</td>\n",
    "    <td align=\"center\">3</td>\n",
    "    <td align=\"center\">4</td>\n",
    "    <td align=\"left\" valign=\"bottom\">&#9118;</td>\n",
    "    <td rowspan = \"2\" align=\"right\"><em>&#981;</em>(<em>x</em>) =</td>\n",
    "    <td align=\"right\" valign=\"bottom\">&#9115;</td>\n",
    "    <td align=\"center\">1</td>\n",
    "    <td align=\"center\">2</td>\n",
    "    <td align=\"center\">3</td>\n",
    "    <td align=\"center\">4</td>\n",
    "    <td align=\"left\" valign=\"bottom\">&#9118;</td>\n",
    "  </tr>\n",
    "  <tr>\n",
    "    <td align=\"right\" valign=\"top\">&#9117;</td>\n",
    "    <td align=\"center\">2</td>\n",
    "    <td align=\"center\">3</td>\n",
    "    <td align=\"center\">1</td>\n",
    "    <td align=\"center\">4</td>\n",
    "    <td align=\"left\" valign=\"top\">&#9120;</td>\n",
    "    <td align=\"right\" valign=\"top\">&#9117;</td>\n",
    "    <td align=\"center\">2</td>\n",
    "    <td align=\"center\">3</td>\n",
    "    <td align=\"center\">4</td>\n",
    "    <td align=\"center\">1</td>\n",
    "    <td align=\"left\" valign=\"top\">&#9120;</td>\n",
    "  </tr>\n",
    "</table>\n",
    "<br>\n",
    "\n",
    "Notice that each column shows the value of <em>&fnof;</em>(<em>x</em>) or <em>&#981;</em>(<em>x</em>) directly beneath <em>x</em>. Since the range and domain of \n",
    "these functions are the same, we can consider the composition of the two functions. Let us consider <em>&fnof;</em>&middot;<em>&#981;</em>:<br>\n",
    "<p style='text-align: center;'><em>&fnof;</em>(<em>&#981;</em>(1)) = <em>&fnof;</em>(2) = 3<br>\n",
    "                               <em>&fnof;</em>(<em>&#981;</em>(2)) = <em>&fnof;</em>(3) = 1<br>\n",
    "                               <em>&fnof;</em>(<em>&#981;</em>(3)) = <em>&fnof;</em>(4) = 4<br>\n",
    "                               <em>&fnof;</em>(<em>&#981;</em>(4)) = <em>&fnof;</em>(1) = 2</p>\n",
    "\n",
    "So the composition function <em>&fnof;</em>(<em>&#981;</em>(<em>x</em>)), that is, of doing <em>&#981;</em> first, and then <em>&fnof;</em>, can be written as<br><br>\n",
    "<table align=\"center\" width=\"160\" border=\"0\" cellspacing=\"0\" cellpadding=\"0\">\n",
    "  <tr>\n",
    "    <td align=\"right\" valign=\"bottom\">&#9115;</td>\n",
    "    <td align=\"center\">1</td>\n",
    "    <td align=\"center\">2</td>\n",
    "    <td align=\"center\">3</td>\n",
    "    <td align=\"center\">4</td>\n",
    "    <td align=\"left\" valign=\"bottom\">&#9118;</td>\n",
    "  </tr>\n",
    "  <tr>\n",
    "    <td align=\"right\" valign=\"top\">&#9117;</td>\n",
    "    <td align=\"center\">3</td>\n",
    "    <td align=\"center\">1</td>\n",
    "    <td align=\"center\">4</td>\n",
    "    <td align=\"center\">2</td>\n",
    "    <td align=\"left\" valign=\"top\">&#9120;</td>\n",
    "  </tr>\n",
    "</table>\n",
    "<br>\n",
    "We can write this permutation as <em>&fnof;</em>&middot;<em>&#981;</em>, so we have that \n",
    "<p style='text-align: center;'><em>&fnof;</em>(<em>&#981;</em>(<em>x</em>)) = (<em>&fnof;</em>&middot;<em>&#981;</em>)(<em>x</em>).</p>\n",
    "\n",
    "<br>\n",
    "There is something curious here. When we view permutations as ways to rearrange a set of objects, such as books, the permutations are multiplied from left to right, which \n",
    "is the natural order.  But when we view permutations as functions, the permutations are multiplied from right to left, which is again the natural order for function \n",
    "composition.\n",
    "<br><br>\n",
    "\n",
    "DEFINITION 6.1<br>\n",
    "For the set {1, 2, 3, &hellip; <em>n</em>}, we define the group of permutations on the set by <em>S<sub>n</sub></em>.  That is, <em>S<sub>n</sub></em> is the set of functions \n",
    "which are one-to-one and onto on the set {1, 2, 3, &hellip; <em>n</em>}.  The group operation is function composition.<br><br>\n",
    "\n",
    "EXPERIMENT: <br>Consider the following product:\n",
    "<table align=\"center\" width=\"320\" border=\"0\" cellspacing=\"0\" cellpadding=\"0\">\n",
    "  <tr>\n",
    "    <td align=\"right\" valign=\"bottom\">&#9115;</td>\n",
    "    <td align=\"center\">1</td>\n",
    "    <td align=\"center\">2</td>\n",
    "    <td align=\"center\">3</td>\n",
    "    <td align=\"center\">4</td>\n",
    "    <td align=\"center\">5</td>\n",
    "    <td align=\"left\" valign=\"bottom\">&#9118;</td>\n",
    "    <td rowspan = \"2\" align=\"center\">&middot;</td>\n",
    "    <td align=\"right\" valign=\"bottom\">&#9115;</td>\n",
    "    <td align=\"center\">1</td>\n",
    "    <td align=\"center\">2</td>\n",
    "    <td align=\"center\">3</td>\n",
    "    <td align=\"center\">4</td>\n",
    "    <td align=\"center\">5</td>\n",
    "    <td align=\"left\" valign=\"bottom\">&#9118;</td>\n",
    "  </tr>\n",
    "  <tr>\n",
    "    <td align=\"right\" valign=\"top\">&#9117;</td>\n",
    "    <td align=\"center\">5</td>\n",
    "    <td align=\"center\">4</td>\n",
    "    <td align=\"center\">1</td>\n",
    "    <td align=\"center\">2</td>\n",
    "    <td align=\"center\">3</td>    \n",
    "    <td align=\"left\" valign=\"top\">&#9120;</td>\n",
    "    <td align=\"right\" valign=\"top\">&#9117;</td>\n",
    "    <td align=\"center\">4</td>\n",
    "    <td align=\"center\">3</td>\n",
    "    <td align=\"center\">5</td>\n",
    "    <td align=\"center\">1</td>\n",
    "    <td align=\"center\">2</td>\n",
    "    <td align=\"left\" valign=\"top\">&#9120;</td>\n",
    "  </tr>\n",
    "</table>\n",
    "<br>\n",
    "First work this product by viewing the permutations as two ways to rearrange 5 books.  If you work the rearrangements from left to right, what is the resulting \n",
    "rearrangement of the books?  Now work this product by viewing the permutations as functions, working from right to left.  Do you get the same answer?  Which of the \n",
    "two methods was easier?  If you work the problem viewing the permutations as functions, and worked from left to right, would you get the right answer?<br>"
   ]
  },
  {
   "cell_type": "markdown",
   "id": "854adf",
   "metadata": {
    "collapsed": false
   },
   "source": [
    "<br>\n",
    "<em>SageMath</em> can easily work with permutations. The top line of the permutation is only for convenience since the bottom line contains all of the information about \n",
    "the permutation. Thus, we can write these permutations like this:\n",
    "<p style='text-align: center;'>P(5,4,1,2,3) &middot; P(4,3,5,1,2).</p>\n",
    "In general, a permutation in <em>S<sub>n</sub></em> can be written\n",
    "<p style='text-align: center;'>P(<em>x</em><sub>1</sub>, <em>x</em><sub>2</sub>, <em>x</em><sub>3</sub>, &hellip; <em>x<sub>n</sub></em>).</p>\n",
    "Note that the numbers <em>x</em><sub>1</sub>, <em>x</em><sub>2</sub>, <em>x</em><sub>3</sub>, &hellip; <em>x<sub>n</sub></em> must all be different and must consist of \n",
    "the numbers from 1 to <em>n</em>.  This permutation corresponds to the function\n",
    "<p style='text-align: center;'><em>&fnof;</em>(1) = <em>x</em><sub>1</sub><br>\n",
    "                               <em>&fnof;</em>(2) = <em>x</em><sub>2</sub><br>\n",
    "                               <em>&fnof;</em>(3) = <em>x</em><sub>3</sub><br>\n",
    "                               &hellip;&hellip;&hellip;<br>\n",
    "                               <em>&fnof;</em>(<em>n</em>) = <em>x<sub>n</sub></em>.</p>\n",
    "This notation is a little more difficult since one must count four numbers to determine <em>&fnof;</em>(4). Yet <em>SageMath</em> prefers this notation for its \n",
    "conciseness.  Let's try using <em>SageMath</em> to check the above product: <br>"
   ]
  },
  {
   "cell_type": "code",
   "execution_count": 0,
   "id": "9f44a8",
   "metadata": {
    "collapsed": false
   },
   "outputs": [
   ],
   "source": [
    "P(5,4,1,2,3)*P(4,3,5,1,2)"
   ]
  },
  {
   "cell_type": "markdown",
   "id": "29fbd8",
   "metadata": {
    "collapsed": false
   },
   "source": [
    "<br>\n",
    "Is this the answer you got?  We do not have to define this group the way we have been defining the other groups in these notebooks.  The symmetric group is pre-loaded in \n",
    "the initialization.  Let us determine the product of these two permutations multiplied in the other order:<br>"
   ]
  },
  {
   "cell_type": "code",
   "execution_count": 0,
   "id": "88db42",
   "metadata": {
    "collapsed": false
   },
   "outputs": [
   ],
   "source": [
    "P(4,3,5,1,2)*P(5,4,1,2,3)"
   ]
  },
  {
   "cell_type": "markdown",
   "id": "5a5405",
   "metadata": {
    "collapsed": false
   },
   "source": [
    "<br>\n",
    "What happened to the 5?  Since the composition function maps 5 to itself, <em>SageMath</em> can safety drop the 5, treating this as a permutation on four objects \n",
    "instead.  To save space <em>SageMath</em> displays only up to the last number which is out of position.  All of the necessary information is still in the \n",
    "permutation.<br><br>\n",
    "\n",
    "Since all permutations in <em>S</em><sub>4</sub> can be expressed in terms of some combinations of the <strong>Left</strong> and <strong>Last</strong> book rearrangements, \n",
    "we can find all of the elements of <em>S</em><sub>4</sub>.<br>"
   ]
  },
  {
   "cell_type": "code",
   "execution_count": 0,
   "id": "69a17c",
   "metadata": {
    "collapsed": false
   },
   "outputs": [
   ],
   "source": [
    "S4 = Group(P(2, 3, 4, 1), P(1, 2, 4, 3)); S4"
   ]
  },
  {
   "cell_type": "code",
   "execution_count": 0,
   "id": "e98d0f",
   "metadata": {
    "collapsed": false
   },
   "outputs": [
   ],
   "source": [
    "len(S4)"
   ]
  },
  {
   "cell_type": "markdown",
   "id": "88d70a",
   "metadata": {
    "collapsed": false
   },
   "source": [
    "<br> \n",
    "Note that the identity element of <em>S</em><sub>4</sub> is denoted by <strong>P()</strong>, since the corresponding function leaves all objects fixed.  \n",
    "We can determine the size of the group <em>S<sub>n</sub></em> in general, by counting the number of one-to-one and onto functions from the set {1, 2, 3, &hellip; <em>n</em>} to \n",
    "itself.  We have <em>n</em> choices for <em>f</em>(1), but then there will be only <em>n</em> &minus; 1 choices for <em>f</em>(2), <em>n</em> &minus; 2 choices for <em>f</em>(3), and \n",
    "so on.  Thus, the size of the group <em>S<sub>n</sub></em> is given by\n",
    "<p style='text-align: center;'><em>n</em>! = <em>n</em>&middot;(<em>n</em> &minus; 1)&middot;(<em>n</em> &minus; 2)&middot;(<em>n</em> &minus; 3)&middot;&hellip; &middot; \n",
    "2&middot;1</p>\n",
    "The number <em>n</em>! is read &quot;<em>n</em> factorial,&quot; and represents the product of the first <em>n</em> numbers. Here is a short table of <em>n</em>!:<br><br>\n",
    "\n",
    "<table align=\"center\" width=\"180\" border=\"0\">\n",
    "   <tr>\n",
    "     <td align=\"right\">1!</td>\n",
    "     <td align=\"center\">=</td>\n",
    "     <td>1</td>\n",
    "   </tr>\n",
    "   <tr>\n",
    "     <td align=\"right\">2!</td>\n",
    "     <td align=\"center\">=</td>\n",
    "     <td>2</td>\n",
    "   </tr>\n",
    "   <tr>\n",
    "     <td align=\"right\">3!</td>\n",
    "     <td align=\"center\">=</td>\n",
    "     <td>6</td>\n",
    "   </tr>\n",
    "   <tr>\n",
    "     <td align=\"right\">4!</td>\n",
    "     <td align=\"center\">=</td>\n",
    "     <td>24</td>\n",
    "   </tr>\n",
    "   <tr>\n",
    "     <td align=\"right\">5!</td>\n",
    "     <td align=\"center\">=</td>\n",
    "     <td>120</td>\n",
    "   </tr>\n",
    "   <tr>\n",
    "     <td align=\"right\">6!</td>\n",
    "     <td align=\"center\">=</td>\n",
    "     <td>720</td>\n",
    "   </tr>\n",
    "   <tr>\n",
    "     <td align=\"right\">7!</td>\n",
    "     <td align=\"center\">=</td>\n",
    "     <td>5040</td>\n",
    "   </tr>\n",
    "   <tr>\n",
    "     <td align=\"right\">8!</td>\n",
    "     <td align=\"center\">=</td>\n",
    "     <td>40320</td>\n",
    "   </tr>\n",
    "   <tr>\n",
    "     <td align=\"right\">9!</td>\n",
    "     <td align=\"center\">=</td>\n",
    "     <td>362880</td>\n",
    "   </tr>\n",
    "   <tr>\n",
    "     <td align=\"right\">10!</td>\n",
    "     <td align=\"center\">=</td>\n",
    "     <td>3628800</td>\n",
    "   </tr>\n",
    "</table>\n",
    "<br>\n",
    "From this table we see that 4! = 24, so this verifies that <em>S</em><sub>4</sub> has 24 elements.  One can see that the size \n",
    "of <em>S<sub>n</sub></em> grows very quickly. <em>S</em><sub>1</sub> has only one element, so it is the trivial group. <em>S</em><sub>2</sub> has two elements, so this \n",
    "must be isomorphic to <em>Z</em><sub>2</sub>.  We have already seen <em>S</em><sub>3</sub> was isomorphic to Terry's group.  Now we find that <em>S</em><sub>4</sub> has \n",
    "24 elements.  Since the octahedral group also has 24 elements, so we could ask if these two groups are isomorphic. The octahedral group can be reloaded by the commands<br>"
   ]
  },
  {
   "cell_type": "code",
   "execution_count": 0,
   "id": "aa215d",
   "metadata": {
    "collapsed": false
   },
   "outputs": [
   ],
   "source": [
    "InitGroup(\"e\")\n",
    "AddGroupVar(\"a\", \"b\", \"c\")\n",
    "Define(a^2, e)\n",
    "Define(b^3, e)\n",
    "Define(c^4, e)\n",
    "Define(b*a, a*b^2)\n",
    "Define(c*a, a*b*c)\n",
    "Define(c*b, a*c^2)\n",
    "Oct = Group();Oct"
   ]
  },
  {
   "cell_type": "markdown",
   "id": "446fc3",
   "metadata": {
    "collapsed": false
   },
   "source": [
    "Let us try to find an isomorphism. We discovered that there is a copy of <em>S</em><sub>3</sub> inside of the octahedral group, generated by the elements <em>a</em> and \n",
    "<em>b</em>. Let us begin there. In <em>S</em><sub>3</sub>, the element <em>a</em> represented an element of order 2, such \n",
    "as <strong>P(2, 1)</strong>, and <em>b</em> represented an element \n",
    "of order 3, such as <strong>P(2, 3, 1)</strong>. Let us construct a possible isomorphism.  The command<br>"
   ]
  },
  {
   "cell_type": "code",
   "execution_count": 0,
   "id": "7baf3c",
   "metadata": {
    "collapsed": false
   },
   "outputs": [
   ],
   "source": [
    "F = Homomorph(Oct, S4)"
   ]
  },
  {
   "cell_type": "markdown",
   "id": "ab714f",
   "metadata": {
    "collapsed": false
   },
   "source": [
    "<br>\n",
    "defines <strong>F</strong> to be a homomorphism. We can tell <em>SageMath</em> where the elements <em>a</em> and <em>b</em> are mapped to:<br>"
   ]
  },
  {
   "cell_type": "code",
   "execution_count": 0,
   "id": "3e4196",
   "metadata": {
    "collapsed": false
   },
   "outputs": [
   ],
   "source": [
    "HomoDef(F, a, P(2,1) )"
   ]
  },
  {
   "cell_type": "code",
   "execution_count": 0,
   "id": "7796e4",
   "metadata": {
    "collapsed": false
   },
   "outputs": [
   ],
   "source": [
    "HomoDef(F, b, P(2,3,1) )"
   ]
  },
  {
   "cell_type": "markdown",
   "id": "396c97",
   "metadata": {
    "collapsed": false
   },
   "source": [
    "<br>\n",
    "This should be consistent, since\n",
    "<p style='text-align: center;'><em>&fnof;</em>(<em>b</em>)&middot;<em>&fnof;</em>(<em>a</em>) = \n",
    "<em>&fnof;</em>(<em>a</em>)&middot;<em>&fnof;</em>(<em>b</em>)&middot;<em>&fnof;</em>(<em>b</em>).</p>\n",
    "The way to have <em>SageMath</em> check that <em>&fnof;</em> is so far defined consistently is to find whether <em>&fnof;</em> is a homomorphism on \n",
    "the <em>subgroup</em> containing <em>a</em> and <em>b</em>.  If we enter<br>"
   ]
  },
  {
   "cell_type": "code",
   "execution_count": 0,
   "id": "6dd64d",
   "metadata": {
    "collapsed": false
   },
   "outputs": [
   ],
   "source": [
    "FinishHomo(F)"
   ]
  },
  {
   "cell_type": "markdown",
   "id": "cc4a6d",
   "metadata": {
    "collapsed": false
   },
   "source": [
    "<br>\n",
    "then <em>SageMath</em> indicates that so far the homomorphism is consistant, but it still is not defined for the whole group <strong>Oct</strong>.  We can find the range \n",
    "of <strong>F</strong> so far with the command<br>"
   ]
  },
  {
   "cell_type": "code",
   "execution_count": 0,
   "id": "57abea",
   "metadata": {
    "collapsed": false
   },
   "outputs": [
   ],
   "source": [
    "HomoRange(F)"
   ]
  },
  {
   "cell_type": "markdown",
   "id": "af783a",
   "metadata": {
    "collapsed": false
   },
   "source": [
    "<br>\n",
    "This shows that we have defined the homomorphism for 6 elements.<br><br>\n",
    "\n",
    "We now need to determine a value for <em>&fnof;</em>(<em>c</em>) that makes an isomorphism.  Note that <em>&fnof;</em>(<em>c</em>) must be  \n",
    "of order 4.  We want to find all elements of <em>S</em><sub>4</sub> which are of order 4 so we will be able to choose one for <em>&fnof;</em>(<em>c</em>).<br><br>\n",
    "\n",
    "Finding all of the elements of a given order is not hard using <em>SageMath</em>. We can use a <strong>for</strong> loop to find the elements satisfying <em>x<sub>n</sub></em> = <em>e</em>, but no smaller power produces the identity.  For the case of order 4, we need <em>x</em><sup>4</sup> = <em>e</em>, but <em>x</em><sup>2</sup> &ne; <em>e</em>.<br>"
   ]
  },
  {
   "cell_type": "code",
   "execution_count": 0,
   "id": "3d9330",
   "metadata": {
    "collapsed": false
   },
   "outputs": [
   ],
   "source": [
    "for x in S4:\n",
    "    if x^4 == P() and x^2 != P():\n",
    "        print(x)"
   ]
  },
  {
   "cell_type": "markdown",
   "id": "013dc2",
   "metadata": {
    "collapsed": false
   },
   "source": [
    "<br>\n",
    "tells us the six elements:<br>\n",
    "<p style='text-align: center;'>P(4, 1, 2, 3)<br>\n",
    "P(2, 4, 1, 3)<br>\n",
    "P(3, 1, 4, 2)<br>\n",
    "P(4, 3, 1, 2)<br>\n",
    "P(2, 3, 4, 1)<br>\n",
    "P(3, 4, 2, 1)</p>\n",
    "If the octahedral group is isomorphic to <em>S</em><sub>4</sub>, then the element <em>c</em> must map to one of these six elements. But which one? Let us try the \n",
    "first permutation, <nobr>P(4, 1, 2, 3).</nobr>  The entire homomorphism would be defined by the commands<br>"
   ]
  },
  {
   "cell_type": "code",
   "execution_count": 0,
   "id": "784700",
   "metadata": {
    "collapsed": false
   },
   "outputs": [
   ],
   "source": [
    "F = Homomorph(Oct, S4)\n",
    "HomoDef(F, a, P(2, 1) )\n",
    "HomoDef(F, b, P(2, 3, 1) )\n",
    "HomoDef(F, c, P(4, 1, 2, 3) )\n",
    "FinishHomo(F)"
   ]
  },
  {
   "cell_type": "markdown",
   "id": "45751b",
   "metadata": {
    "collapsed": false
   },
   "source": [
    "<br>\n",
    "Unfortunately, this does not produce a homomorphism, since <em>SageMath</em> found a contradiction.  But perhaps by defining <strong>F(c)</strong> to be one of the other \n",
    "six elements of <em>S</em><sub>4</sub> which is of order 4, we can produce a homomorphism.<br><br>\n",
    " \n",
    "EXPERIMENT:<br>\n",
    "By changing P(4, 1, 2, 3) with one of the other elements of <em>S</em><sub>4</sub> which is of order 4:\n",
    "<p style='text-align: center;'>P(2, 4, 1, 3)<br>\n",
    "P(3, 1, 4, 2)<br>\n",
    "P(4, 3, 1, 2)<br>\n",
    "P(2, 3, 4, 1)<br>\n",
    "P(3, 4, 2, 1)</p>\n",
    "see if you can find one which creates a homomorphism.<br>"
   ]
  },
  {
   "cell_type": "markdown",
   "id": "84510e",
   "metadata": {
    "collapsed": false
   },
   "source": [
    "<br>\n",
    "Once we have found a homomorphism, we want to see that <em>&fnof;</em> is an isomorphism by showing that the kernel of <em>&fnof;</em> is just the identity.<br>"
   ]
  },
  {
   "cell_type": "code",
   "execution_count": 0,
   "id": "e46aae",
   "metadata": {
    "collapsed": false
   },
   "outputs": [
   ],
   "source": [
    "Kernel(F)"
   ]
  },
  {
   "cell_type": "markdown",
   "id": "9b87f7",
   "metadata": {
    "collapsed": false
   },
   "source": [
    "<br>\n",
    "Since the kernel is the identity element, <em>&fnof;</em> is an isomorphism. <br><br>\n",
    " \n",
    "Finally, we can check that the image of <em>&fnof;</em> is <em>S</em><sub>4</sub>. The image is generated by the command<br>"
   ]
  },
  {
   "cell_type": "code",
   "execution_count": 0,
   "id": "4ab867",
   "metadata": {
    "collapsed": false
   },
   "outputs": [
   ],
   "source": [
    "Image(F, Oct)"
   ]
  },
  {
   "cell_type": "code",
   "execution_count": 0,
   "id": "5e265a",
   "metadata": {
    "collapsed": false
   },
   "outputs": [
   ],
   "source": [
    "len(_)"
   ]
  },
  {
   "cell_type": "markdown",
   "id": "c6c9e8",
   "metadata": {
    "collapsed": false
   },
   "source": [
    "<br>\n",
    "Since there are 24 elements here, all of which are in <em>S</em><sub>4</sub>, this must be <em>S</em><sub>4</sub>.  Therefore, we have shown \n",
    "that <em>S</em><sub>4</sub> is isomorphic to the octahedral group.  So we immediately see a relationship between one of the groups we have been working \n",
    "with and the permutation groups.  Later this chapter, we will see an application of the permutation groups that will apply to <em>any</em> finite group.<br><br>\n",
    "\n",
    "Since a permutation is a function from the integers 1, 2, 3, &hellip; <em>n</em> onto themselves, we can use the circle graphs that we have used before to visualize \n",
    "these permutations.  For example, to draw a picture of the permutation P(5,4,1,2,3), use the command:<br>"
   ]
  },
  {
   "cell_type": "code",
   "execution_count": 0,
   "id": "856f20",
   "metadata": {
    "collapsed": false
   },
   "outputs": [
   ],
   "source": [
    "CircleGraph([1,2,3,4,5], P(5,4,1,2,3))"
   ]
  },
  {
   "cell_type": "markdown",
   "id": "94164f",
   "metadata": {
    "collapsed": false
   },
   "source": [
    "<br>\n",
    "Notice that this forms one triangle in red, which maps 1 to 5, 5 to 3, and then 3 back to 1. There is also a green &quot;double arrow&quot; that maps 2 to 4 and \n",
    "back to 2. So this circle graph reveals some additional structure to the permutation which we will study later.  For now, let us study the geometrical significance \n",
    "of multiplying two permutations together.<br><br>\n",
    "\n",
    "We can graph two or more permutations simultaneously by adding the additional permutations to the <em>SageMath</em> command.<br>"
   ]
  },
  {
   "cell_type": "code",
   "execution_count": 0,
   "id": "ed53e2",
   "metadata": {
    "collapsed": false
   },
   "outputs": [
   ],
   "source": [
    "CircleGraph([1,2,3,4,5], P(5,4,1,2,3), P(4,3,5,1,2))"
   ]
  },
  {
   "cell_type": "markdown",
   "id": "dacc48",
   "metadata": {
    "collapsed": false
   },
   "source": [
    "<br>\n",
    "Here, the red arrows represent the permutation P(5,4,1,2,3), while the green arrows represent P(4,3,5,1,2).<br><br>\n",
    " \n",
    "EXPERIMENT:<br>\n",
    "On the above circle graph, imagine what would happen if for each of the numbers {1,2,3,4,5}, one first traveled through a green arrow, \n",
    "and then traveled through a red arrow. Does this form a permutation on the set {1,2,3,4,5}? If so, which permutation is it? Is it the same permutation as  \n",
    "P(5,4,1,2,3)&middot;P(4,3,5,1,2) ?<br>"
   ]
  },
  {
   "cell_type": "markdown",
   "id": "f8bdbf",
   "metadata": {
    "collapsed": false
   },
   "source": [
    "<br>\n",
    "The following command maps <em>three</em> permutations simultaneously:<br>"
   ]
  },
  {
   "cell_type": "code",
   "execution_count": 0,
   "id": "541da7",
   "metadata": {
    "collapsed": false
   },
   "outputs": [
   ],
   "source": [
    "CircleGraph([1,2,3,4,5], P(5,4,1,2,3), P(4,3,5,1,2),  P(2,1,3,5,4))"
   ]
  },
  {
   "cell_type": "markdown",
   "id": "ae19bf",
   "metadata": {
    "collapsed": false
   },
   "source": [
    "<br>\n",
    "This circle graph answers the questions raised in the last experiment. In this graph, if one travels a green arrow, and immediately travel through a red arrow, one ends \n",
    "up exactly in the same place as if one traveled just a purple arrow. Thus, this &quot;arrow composition&quot; results in the permutation P(2,1,3,5,4), which is the product \n",
    "of P(5,4,1,2,3) and P(4,3,5,1,2). Note that the arrows are like functions, in that we apply the arrow of the second permutation first, and then the arrow for the first permutation.<br><br>\n",
    "\n",
    "<em>SageMath</em> can help us to find the inverse of a permutation. The inverse of P(5,4,1,2,3) would be<br>"
   ]
  },
  {
   "cell_type": "code",
   "execution_count": 0,
   "id": "72ba72",
   "metadata": {
    "collapsed": false
   },
   "outputs": [
   ],
   "source": [
    "P(5,4,1,2,3)^-1"
   ]
  },
  {
   "cell_type": "markdown",
   "id": "f5d349",
   "metadata": {
    "collapsed": false
   },
   "source": [
    "<br>\n",
    "We can make a circle graph of this new permutation.<br>"
   ]
  },
  {
   "cell_type": "code",
   "execution_count": 0,
   "id": "f072f9",
   "metadata": {
    "collapsed": false
   },
   "outputs": [
   ],
   "source": [
    "CircleGraph([1,2,3,4,5], P(5,4,1,2,3)^-1 )"
   ]
  },
  {
   "cell_type": "markdown",
   "id": "14c4a6",
   "metadata": {
    "collapsed": false
   },
   "source": [
    "<br>\n",
    "How does this circle graph compare to the circle graph of the original permutation?<br>"
   ]
  },
  {
   "cell_type": "code",
   "execution_count": 0,
   "id": "1e7c33",
   "metadata": {
    "collapsed": false
   },
   "outputs": [
   ],
   "source": [
    "CircleGraph([1,2,3,4,5],  P(5,4,1,2,3) )"
   ]
  },
  {
   "cell_type": "markdown",
   "id": "688fc4",
   "metadata": {
    "collapsed": false
   },
   "source": [
    "<br>\n",
    "It is easy to see that the graphs are the same, except that the arrows are all going in the opposite direction. (Of course, when the direction is reversed on the \n",
    "green &quot;double arrow,&quot; it remains a double arrow.) Thus, we see that<br><br>\n",
    "<table align=\"center\" width=\"320\" border=\"0\" cellspacing=\"0\" cellpadding=\"0\">\n",
    "  <tr>\n",
    "    <td align=\"right\" valign=\"bottom\">&#9115;</td>\n",
    "    <td align=\"center\">1</td>\n",
    "    <td align=\"center\">2</td>\n",
    "    <td align=\"center\">3</td>\n",
    "    <td align=\"center\">4</td>\n",
    "    <td align=\"center\">5</td>\n",
    "    <td align=\"left\" valign=\"bottom\">&#9118;<sup>-1</sup></td>\n",
    "    <td rowspan = \"2\" align=\"center\">=</td>\n",
    "    <td align=\"right\" valign=\"bottom\">&#9115;</td>\n",
    "    <td align=\"center\">1</td>\n",
    "    <td align=\"center\">2</td>\n",
    "    <td align=\"center\">3</td>\n",
    "    <td align=\"center\">4</td>\n",
    "    <td align=\"center\">5</td>\n",
    "    <td align=\"left\" valign=\"bottom\">&#9118;</td>\n",
    "  </tr>\n",
    "  <tr>\n",
    "    <td align=\"right\" valign=\"top\">&#9117;</td>\n",
    "    <td align=\"center\">5</td>\n",
    "    <td align=\"center\">4</td>\n",
    "    <td align=\"center\">1</td>\n",
    "    <td align=\"center\">2</td>\n",
    "    <td align=\"center\">3</td>    \n",
    "    <td align=\"left\" valign=\"top\">&#9120;&ensp;</td>\n",
    "    <td align=\"right\" valign=\"top\">&#9117;</td>\n",
    "    <td align=\"center\">3</td>\n",
    "    <td align=\"center\">4</td>\n",
    "    <td align=\"center\">5</td>\n",
    "    <td align=\"center\">2</td>\n",
    "    <td align=\"center\">1</td>\n",
    "    <td align=\"left\" valign=\"top\">&#9120;</td>\n",
    "  </tr>\n",
    "</table> \n",
    "<br>\n",
    "We can check this using <em>SageMath</em> to see if the product of the two really is the identity:<br>"
   ]
  },
  {
   "cell_type": "code",
   "execution_count": 0,
   "id": "5961aa",
   "metadata": {
    "collapsed": false
   },
   "outputs": [
   ],
   "source": [
    "P(5,4,1,2,3)*P(3,4,5,2,1)"
   ]
  },
  {
   "cell_type": "markdown",
   "id": "075a4f",
   "metadata": {
    "collapsed": false
   },
   "source": [
    "<br>\n",
    "We noted before that <em>SageMath</em> displays only up to the last number not in position.  The identity element has all of its numbers in position, so <em>SageMath</em> does \n",
    "not display any of them!  Therefore, <strong>P()</strong> represents the identity element of this group.<br><br>\n",
    "\n",
    "Because we can think of a permutation as a function of positive integers, we can evaluate a permutation at a given number. For example, the permutation\n",
    "<br><br>\n",
    "<table align=\"center\" width=\"180\" border=\"0\" cellspacing=\"0\" cellpadding=\"0\">\n",
    "  <tr>\n",
    "    <td align=\"right\" valign=\"bottom\">&#9115;</td>\n",
    "    <td align=\"center\">1</td>\n",
    "    <td align=\"center\">2</td>\n",
    "    <td align=\"center\">3</td>\n",
    "    <td align=\"center\">4</td>\n",
    "    <td align=\"center\">5</td>\n",
    "    <td align=\"left\" valign=\"bottom\">&#9118;</td>\n",
    "  </tr>\n",
    "  <tr>\n",
    "    <td align=\"right\" valign=\"top\">&#9117;</td>\n",
    "    <td align=\"center\">5</td>\n",
    "    <td align=\"center\">4</td>\n",
    "    <td align=\"center\">1</td>\n",
    "    <td align=\"center\">2</td>\n",
    "    <td align=\"center\">3</td>    \n",
    "    <td align=\"left\" valign=\"top\">&#9120;</td>\n",
    "  </tr>\n",
    "</table> \n",
    "<br>\n",
    "evaluated at 2 gives us 4.  Since the <em>SageMath</em> notation for a function of <em>x</em> is <strong>F(x)</strong>, the <em>SageMath</em> command for evaluation this \n",
    "permutation at 2 is:<br>"
   ]
  },
  {
   "cell_type": "code",
   "execution_count": 0,
   "id": "516d2c",
   "metadata": {
    "collapsed": false
   },
   "outputs": [
   ],
   "source": [
    "P(5,4,1,2,3)(2)"
   ]
  },
  {
   "cell_type": "markdown",
   "id": "38c858",
   "metadata": {
    "collapsed": false
   },
   "source": [
    "<br>\n",
    "We can evaluate this permutation at 7 as well.<br>"
   ]
  },
  {
   "cell_type": "code",
   "execution_count": 0,
   "id": "22317e",
   "metadata": {
    "collapsed": false
   },
   "outputs": [
   ],
   "source": [
    "P(5,4,1,2,3)(7)"
   ]
  },
  {
   "cell_type": "markdown",
   "id": "850c74",
   "metadata": {
    "collapsed": false
   },
   "source": [
    "<br>\n",
    "Since this permutation does not mention the number 7, <em>SageMath</em> assumes that it is fixed.<br><br>\n",
    "\n",
    "In spite of the simplicity of the notations for a permutation, we will find that there is yet another notation that is even more concise.  We will study \n",
    "this in the next section.<br><br>"
   ]
  },
  {
   "cell_type": "markdown",
   "id": "db5b22",
   "metadata": {
    "collapsed": false
   },
   "source": [
    "<a name=\"sec62\" id=\"sec62\"></a>\n",
    "<h1>Cycles</h1>\n",
    "\n",
    "<br>\n",
    "Throughout this chapter, we have been using the circle graphs to represent a permutation in <em>S<sub>n</sub></em>.  For example, the permutation P(5,4,1,2,3) could \n",
    "be diagrammed by the following graph:<br>"
   ]
  },
  {
   "cell_type": "code",
   "execution_count": 0,
   "id": "ce45b3",
   "metadata": {
    "collapsed": false
   },
   "outputs": [
   ],
   "source": [
    "CircleGraph([1,2,3,4,5], P(5,4,1,2,3) )"
   ]
  },
  {
   "cell_type": "markdown",
   "id": "97487e",
   "metadata": {
    "collapsed": false
   },
   "source": [
    "<br>\n",
    "We can immediately see from this graph the red triangle connecting 1, 5, and 3, while a green &quot;double arrow&quot; connecting 2 and 4. In this section we will \n",
    "consider the significance of the two different colors of arrows.<br><br>\n",
    " \n",
    "We begin by noticing that some of the permutations have circle graphs that are all in one color. Consider the graph of the permutation P(4,5,2,3,1):<br>"
   ]
  },
  {
   "cell_type": "code",
   "execution_count": 0,
   "id": "dec8ff",
   "metadata": {
    "collapsed": false
   },
   "outputs": [
   ],
   "source": [
    "CircleGraph([1,2,3,4,5], P(4,5,2,3,1) )"
   ]
  },
  {
   "cell_type": "markdown",
   "id": "2fd03d",
   "metadata": {
    "collapsed": false
   },
   "source": [
    "<br>\n",
    "This circle graph consists entirely of red arrows. These arrows indicate that the permutation can be expressed by a single chain\n",
    "<p style='text-align: center;'>1 &rarr; 4 &rarr; 3 &rarr; 2 &rarr; 5 &rarr; 1.</p>\n",
    "This can be read, &quot;1 goes to 4 which goes to 3 which goes to 2 which goes to 5 which goes back to 1.&quot; \n",
    "Any permutation which can be expressed as a chain like this one is called a <em>cycle</em>.<br><br>\n",
    "\n",
    "Here is another example of a circle graph of a permutation.<br>"
   ]
  },
  {
   "cell_type": "code",
   "execution_count": 0,
   "id": "c5045c",
   "metadata": {
    "collapsed": false
   },
   "outputs": [
   ],
   "source": [
    "CircleGraph([1,2,3,4,5,6], P(2,4,1,6,5,3) )"
   ]
  },
  {
   "cell_type": "markdown",
   "id": "ebbc09",
   "metadata": {
    "collapsed": false
   },
   "source": [
    "<br>\n",
    "In this graph, there is a green loop mapping 5 to itself, but all of the <em>straight</em> arrows are the same color&#8213;red. We can still represent this \n",
    "permutation by a single chain:\n",
    "<p style='text-align: center;'>1 &rarr; 2 &rarr; 4 &rarr; 6 &rarr; 3 &rarr; 1.</p>\n",
    "This chain states where each number goes except for the number 5. However, if we stipulate that all numbers that are not mentioned \n",
    "in the chain map to themselves, we have expressed the permutation P(2,4,1,6,5,3) as a single chain, and hence this is also a cycle. <br>\n",
    "\n",
    "<br>\n",
    "<br>DEFININTION 6.2<br>\n",
    "Any permutation that can be expressed as a single chain is called a <em>cycle</em>. A cycle that moves exactly <em>r</em> of the numbers is called an \n",
    "<em>r</em>-<em>cycle</em>.<br><br>\n",
    "\n",
    "Whenever a permutation can be expressed as an <em>r</em>-cycle, it is easier to read the chain then the permutation. For example, to find where 4 is mapped to in \n",
    "the permutation P(2,4,1,6,5,3), one must count 4 numbers from the left, whereas in the notation\n",
    "<p style='text-align: center;'>1 &rarr; 2 &rarr; 4 &rarr; 6 &rarr; 3 &rarr; 1.</p>\n",
    "one only has to spot the 4 and see that it maps to 6. We can further simplify the chains by using a more compact notation:\n",
    "<p style='text-align: center;'>(1 2 4 6 3)</p>\n",
    "Here, each number is mapped to the next number in the chain. The last number always maps back to the first number. This notation is called the \n",
    "<em>cycle notation</em> of the permutation.<br><br>\n",
    "\n",
    "In general, the <em>r</em>-cycle (<em>i</em><sub>1</sub> <em>i</em><sub>2</sub> <em>i</em><sub>3</sub> &middot;&middot;&middot; <em>i<sub>r</sub></em>) represents \n",
    "the permutation that maps <em>i</em><sub>1</sub> to <em>i</em><sub>2</sub>, <em>i</em><sub>2</sub> to <em>i</em><sub>3</sub>, etc., and finally <em>i<sub>r</sub></em> back\n",
    "to <em>i</em><sub>1</sub>. Notice that\n",
    "<p style='text-align: center;'>(<em>i</em><sub>1</sub> <em>i</em><sub>2</sub> <em>i</em><sub>3</sub> &middot;&middot;&middot; <em>i<sub>r</sub></em>)<sup>-1</sup> =\n",
    "(<em>i<sub>r</sub></em> <em>i</em><sub><em>r</em>&minus;1</sub> &middot;&middot;&middot; <em>i</em><sub>3</sub> <em>i</em><sub>2</sub> <em>i</em><sub>1</sub>).</p>\n",
    "so the inverse of an <em>r</em>-cycle will always be an <em>r</em>-cycle. However, the product of two cycles may not always give a cycle, but a permutation. The \n",
    "identity element can be written as the 0-cycle ( ).<br><br>\n",
    "\n",
    "A 1-cycle is actually impossible, since if one number is not fixed by a permutation, then the number that it maps to cannot be fixed.  \n",
    "Thus, a non-identity permutation must move at least two numbers. We say that \n",
    "an <nobr><em>r</em>-cycle</nobr> is a <em>nontrivial cycle</em> if <em>r</em> &gt; 1.<br><br>\n",
    "\n",
    "Because the cycle notation is in general easier to use then standard permutation notation, we would like to find a way to write any permutation in terms of cycles. \n",
    "If we look back at the first circle graph of a permutation,<br>"
   ]
  },
  {
   "cell_type": "code",
   "execution_count": 0,
   "id": "eb9ad9",
   "metadata": {
    "collapsed": false
   },
   "outputs": [
   ],
   "source": [
    "CircleGraph([1,2,3,4,5], P(5,4,1,2,3) )"
   ]
  },
  {
   "cell_type": "markdown",
   "id": "7097c6",
   "metadata": {
    "collapsed": false
   },
   "source": [
    "<br>\n",
    "we see that this permutation cannot be expressed as a single chain. However, the two different colored arrows suggests the following idea. Suppose we considered \n",
    "one permutation which consisted mainly of the red triangle, (with 2 and 4 mapping to themselves) and another permutation consisting mainly of the green double arrow, \n",
    "with 1, 3, and 5 mapping to themselves. These two permutations are given by<br>"
   ]
  },
  {
   "cell_type": "code",
   "execution_count": 0,
   "id": "dfbe07",
   "metadata": {
    "collapsed": false
   },
   "outputs": [
   ],
   "source": [
    "CircleGraph([1,2,3,4,5], P(5,2,1,4,3) )"
   ]
  },
  {
   "cell_type": "markdown",
   "id": "83474e",
   "metadata": {
    "collapsed": false
   },
   "source": [
    "and"
   ]
  },
  {
   "cell_type": "code",
   "execution_count": 0,
   "id": "d2e6c5",
   "metadata": {
    "collapsed": false
   },
   "outputs": [
   ],
   "source": [
    "CircleGraph([1,2,3,4,5], P(1,4,3,2,5) )"
   ]
  },
  {
   "cell_type": "markdown",
   "id": "0e67e7",
   "metadata": {
    "collapsed": false
   },
   "source": [
    "<br>\n",
    "EXPERIMENT:<br>\n",
    "Is there a way to multiply the permutations P(5,2,1,4,3) and P(1,4,3,2,5) to produce the original permutation P(5,2,1,4,3)?  Which order do the permutations need to \n",
    "be multiplied?<br>"
   ]
  },
  {
   "cell_type": "markdown",
   "id": "b84812",
   "metadata": {
    "collapsed": false
   },
   "source": [
    "<br>\n",
    "To help explain why the permutations acted the way that they did in the experiment, try graphing both permutations on the same graph:<br>"
   ]
  },
  {
   "cell_type": "code",
   "execution_count": 0,
   "id": "12e8e0",
   "metadata": {
    "collapsed": false
   },
   "outputs": [
   ],
   "source": [
    "CircleGraph([1,2,3,4,5], P(5,2,1,4,3), P(1,4,3,2,5) )"
   ]
  },
  {
   "cell_type": "markdown",
   "id": "e8c534",
   "metadata": {
    "collapsed": false
   },
   "source": [
    "<br>\n",
    "One can see the similarity between this graph and the graph of P(5,4,1,2,3). Let us write the permutations P(5,2,1,4,3) and P(1,4,3,2,5) in cycle notation:\n",
    "<p style='text-align: center;'>P(5,4,1,2,3) = (1 5 3),&emsp;&emsp; P(1,4,3,2,5) = (2 4).</p>\n",
    "<br>Notice that when these two permutations are written as cycles, there are no numbers in common between these two cycles. We give a name to these type of cycles.<br><br>\n",
    "  \n",
    "  \n",
    "DEFINITION 6.3<br>\n",
    "Two cycles \n",
    "<p style='text-align: center;'>(<em>i</em><sub>1</sub> <em>i</em><sub>2</sub> <em>i</em><sub>3</sub> &middot;&middot;&middot; <em>i<sub>r</sub></em>) and\n",
    "                               (<em>j</em><sub>1</sub> <em>j</em><sub>2</sub> <em>j</em><sub>3</sub> &middot;&middot;&middot; <em>j<sub>s</sub></em>)</p>\n",
    "are <em>disjoint</em> if <em>i</em><sub><em>m</em></sub> &ne; <em>j</em><sub><em>n</em></sub> for all <em>m</em> and <em>n</em>.  That is, there are no integers in common between the two cycles.<br><br>\n",
    "\n",
    "We saw that (1 5 3) and (2 4) are disjoint. It is fairly clear that two disjoint cycles will commute with one another, as demonstrated in the experiment.<br><br>\n",
    "\n",
    "Can we express other permutations as a product of cycles? Consider the permutation\n",
    "<br><br>\n",
    "<table align=\"center\" width=\"250\" border=\"0\" cellspacing=\"0\" cellpadding=\"0\">\n",
    "  <tr>\n",
    "    <td align=\"right\" valign=\"bottom\">&#9115;</td>\n",
    "    <td align=\"center\">1</td>\n",
    "    <td align=\"center\">2</td>\n",
    "    <td align=\"center\">3</td>\n",
    "    <td align=\"center\">4</td>\n",
    "    <td align=\"center\">5</td>\n",
    "    <td align=\"center\">6</td>\n",
    "    <td align=\"center\">7</td>\n",
    "    <td align=\"center\">8</td>                \n",
    "    <td align=\"left\" valign=\"bottom\">&#9118;</td>\n",
    "  </tr>\n",
    "  <tr>\n",
    "    <td align=\"right\" valign=\"top\">&#9117;</td>\n",
    "    <td align=\"center\">4</td>\n",
    "    <td align=\"center\">6</td>\n",
    "    <td align=\"center\">1</td>\n",
    "    <td align=\"center\">8</td>\n",
    "    <td align=\"center\">2</td>\n",
    "    <td align=\"center\">5</td>\n",
    "    <td align=\"center\">7</td>\n",
    "    <td align=\"center\">3</td>    \n",
    "    <td align=\"left\" valign=\"top\">&#9120;</td>\n",
    "  </tr>\n",
    "</table>\n",
    "Here is the circle graph of this permutation:<br>"
   ]
  },
  {
   "cell_type": "code",
   "execution_count": 0,
   "id": "e22c18",
   "metadata": {
    "collapsed": false
   },
   "outputs": [
   ],
   "source": [
    "CircleGraph([1,2,3,4,5,6,7,8], P(4,6,1,8,2,5,7,3) )"
   ]
  },
  {
   "cell_type": "markdown",
   "id": "181b45",
   "metadata": {
    "collapsed": false
   },
   "source": [
    "<br>\n",
    "We see from the circle graph that this permutation maps 1 into 4, 4 into 8, 8 into 3, and 3 back into 1. So the cycle (1 4 8 3) describes part of the permutation. \n",
    "However, we also have 2 mapping to 6, which maps to 5, which maps back to 2. So the cycle (2 6 5) is also a component of the permutation. Finally, 7 maps to itself, \n",
    "so it will not be the part of any cycle. Thus we can describe this permutation as\n",
    "<p style='text-align: center;'>(1 4 8 3)&middot;(2 6 5).</p>\n",
    "We can imitate this process for any permutation. As a result, we have the following lemma:"
   ]
  },
  {
   "cell_type": "markdown",
   "id": "a64467",
   "metadata": {
    "collapsed": false
   },
   "source": [
    "<a name=\"lem61ret\" id=\"lem61ret\"></a>\n",
    "LEMMA 6.1<br>\n",
    "\n",
    "Let <em>x</em> be an element of <em>S<sub>n</sub></em> which is not the identity. Then <em>x</em> can be written as a product of nontrivial disjoint cycles. \n",
    "This representation of <em>x</em> is unique up to the rearrangement of the cycles.<br><br>\n",
    "\n",
    "<a href=\"#lem61\">Click here for the proof.</a>\n",
    "\n",
    "<p />\n",
    "Since any permutation can be written succinctly in terms of cycles, we are given another way to express any permutation. <em>SageMath</em> uses the notation\n",
    "<p style='text-align: center;'>C(<em>i</em>, <em>j</em>, <em>k</em>, &hellip; )</p>\n",
    "to denote the cycle (<em>i</em> <em>j</em> <em>k</em> &hellip;). <em>SageMath</em> can multiply two cycles together. For example, to multiply (2 3 4 5)&middot;(1 2 4), type<br>"
   ]
  },
  {
   "cell_type": "code",
   "execution_count": 0,
   "id": "2c7298",
   "metadata": {
    "collapsed": false
   },
   "outputs": [
   ],
   "source": [
    "C(2,3,4,5)*C(1,2,4)"
   ]
  },
  {
   "cell_type": "markdown",
   "id": "8616ec",
   "metadata": {
    "collapsed": false
   },
   "source": [
    "<br>\n",
    "Notice that <em>SageMath</em> forms the answer as a product of 2 disjoint cycles, without the times sign between them. We call this the <em>cycle decomposition</em> of the permutation.  Can we see why this is the product?  Remember to work from right to left in \n",
    "multiplying permutations or cycles.<br><br>\n",
    " \n",
    "We can convert back and forth between the permutation notation and the cycles. The commands\n",
    "<p style='text-align: center;'>PermToCycle( P(&hellip;&hellip;&hellip;)) &emsp; and &emsp; CycleToPerm( C(&hellip;&hellip;&hellip;))</p>\n",
    "tell <em>SageMath</em> to switch between the two notations. Thus, to convert our answer to a permutation, we type<br>"
   ]
  },
  {
   "cell_type": "code",
   "execution_count": 0,
   "id": "ca2c1e",
   "metadata": {
    "collapsed": false
   },
   "outputs": [
   ],
   "source": [
    "CycleToPerm( C(1,3,4)*C(2,5) )"
   ]
  },
  {
   "cell_type": "markdown",
   "id": "b92321",
   "metadata": {
    "collapsed": false
   },
   "source": [
    "<br>\n",
    "Likewise, <em>SageMath</em> can use the procedure described in Lemma 5.1 to find the cycle decomposition of the permutation\n",
    "<br><br>\n",
    "<table align=\"center\" width=\"250\" border=\"0\" cellspacing=\"0\" cellpadding=\"0\">\n",
    "  <tr>\n",
    "    <td align=\"right\" valign=\"bottom\">&#9115;</td>\n",
    "    <td align=\"center\">1</td>\n",
    "    <td align=\"center\">2</td>\n",
    "    <td align=\"center\">3</td>\n",
    "    <td align=\"center\">4</td>\n",
    "    <td align=\"center\">5</td>\n",
    "    <td align=\"center\">6</td>\n",
    "    <td align=\"center\">7</td>\n",
    "    <td align=\"center\">8</td>                \n",
    "    <td align=\"left\" valign=\"bottom\">&#9118;</td>\n",
    "  </tr>\n",
    "  <tr>\n",
    "    <td align=\"right\" valign=\"top\">&#9117;</td>\n",
    "    <td align=\"center\">4</td>\n",
    "    <td align=\"center\">6</td>\n",
    "    <td align=\"center\">1</td>\n",
    "    <td align=\"center\">8</td>\n",
    "    <td align=\"center\">2</td>\n",
    "    <td align=\"center\">5</td>\n",
    "    <td align=\"center\">7</td>\n",
    "    <td align=\"center\">3</td>    \n",
    "    <td align=\"left\" valign=\"top\">&#9120;</td>\n",
    "  </tr>\n",
    "</table>\n",
    "<br>\n",
    "by the command<br>"
   ]
  },
  {
   "cell_type": "code",
   "execution_count": 0,
   "id": "a7e250",
   "metadata": {
    "collapsed": false
   },
   "outputs": [
   ],
   "source": [
    "PermToCycle( P(4,6,1,8,2,5,7,3) )"
   ]
  },
  {
   "cell_type": "markdown",
   "id": "b6f38b",
   "metadata": {
    "collapsed": false
   },
   "source": [
    "<br>\n",
    "To enter the identity element in <em>SageMath</em>, use <strong>C( )</strong>, which corresponds to the 0-cycle (). <br><br>\n",
    "\n",
    "We may even mix the two notations within an expression:<br>"
   ]
  },
  {
   "cell_type": "code",
   "execution_count": 0,
   "id": "0de8cb",
   "metadata": {
    "collapsed": false
   },
   "outputs": [
   ],
   "source": [
    "C(1,2,3)*P(3,1,2,5,4)*C(4,5)"
   ]
  },
  {
   "cell_type": "markdown",
   "id": "b654da",
   "metadata": {
    "collapsed": false
   },
   "source": [
    "<br>\n",
    "Whenever <em>SageMath</em> encounters a mixture like this, it puts the answer in terms of cycles. In this case the answer is the identity permutation, \n",
    "so <em>SageMath</em> returned <strong>( )</strong>.<br><br>\n",
    " \n",
    "We can evaluate a cycle or a product of cycles at a given number, just as we did for permutations.  For example, to determine where the cycle (1 4 8 3) sends the \n",
    "number 3, type<br>"
   ]
  },
  {
   "cell_type": "code",
   "execution_count": 0,
   "id": "602424",
   "metadata": {
    "collapsed": false
   },
   "outputs": [
   ],
   "source": [
    "C(1,4,8,3)(3)"
   ]
  },
  {
   "cell_type": "markdown",
   "id": "da789d",
   "metadata": {
    "collapsed": false
   },
   "source": [
    "This evaluates the cycle at 3, giving the value 1. We can also form a circle graph of a cycle as we would a permutation:<br>"
   ]
  },
  {
   "cell_type": "code",
   "execution_count": 0,
   "id": "c32ff8",
   "metadata": {
    "collapsed": false
   },
   "outputs": [
   ],
   "source": [
    "CircleGraph([1,2,3,4,5,6,7,8], C(1,4,8,3) )"
   ]
  },
  {
   "cell_type": "markdown",
   "id": "52d856",
   "metadata": {
    "collapsed": false
   },
   "source": [
    "<br>\n",
    "This even works for a product of cycles.<br>"
   ]
  },
  {
   "cell_type": "code",
   "execution_count": 0,
   "id": "f80371",
   "metadata": {
    "collapsed": false
   },
   "outputs": [
   ],
   "source": [
    "CircleGraph([1,2,3,4,5,6,7,8], C(1,4,8,3)*C(2,6,5) )"
   ]
  },
  {
   "cell_type": "markdown",
   "id": "8d5025",
   "metadata": {
    "collapsed": false
   },
   "source": [
    "<br>\n",
    "However, to evaluate a product of cycles at a given number, we need an extra pair of parentheses:<br>"
   ]
  },
  {
   "cell_type": "code",
   "execution_count": 0,
   "id": "7a2ecf",
   "metadata": {
    "collapsed": false
   },
   "outputs": [
   ],
   "source": [
    "(C(1,4,8,3)*C(2,6,5))(2)"
   ]
  },
  {
   "cell_type": "markdown",
   "id": "5d6602",
   "metadata": {
    "collapsed": false
   },
   "source": [
    "<br>\n",
    "Although <em>SageMath</em> works faster using the standard permutation notation, cycles are more succinct in most cases and more readable.  Thus, for large operations that \n",
    "could take time, such as checking that a function is a homomorphism, it will be much faster using the <strong>P</strong>(&hellip;&hellip;&hellip;) notation.<br><br>\n",
    "\n",
    "We mentioned that there are no permutations that move just one element, but the permutations which move exactly 2 elements will be important. We will give these 2-cycles \n",
    "a special name.<br><br>\n",
    "\n",
    "DEFINITION 6.4<br>\n",
    "\n",
    "A <em>transposition</em> is a 2-cycle (<em>i</em><sub>1</sub> <em>i</em><sub>2</sub>), where <em>i</em><sub>1</sub> &ne; <em>i</em><sub>2</sub>.<br><br>\n",
    "\n",
    "We can find the number of transpositions in <em>S<sub>n</sub></em> as follows: <em>i</em><sub>1</sub> can be any of the <em>n</em> integers, \n",
    "and <em>i</em><sub>2</sub> can be any of the <em>n</em> &minus; 1 integers left over. \n",
    "Thus, there are \n",
    "<p style='text-align: center;'><em>n</em>(<em>n</em> &minus; 1) = <em>n</em><sup>2</sup> &minus; <em>n</em></p> \n",
    "ways of forming an ordered pair (<em>i</em><sub>1</sub>, <em>i</em><sub>2</sub>) with \n",
    "<em>i</em><sub>1</sub> unequal to <em>i</em><sub>2</sub>. However, the transposition (<em>i</em><sub>1</sub> <em>i</em><sub>2</sub>) is the same as the transposition \n",
    "(<em>i</em><sub>2</sub> <em>i</em><sub>1</sub>). Thus, by counting ordered pairs, we have counted each transposition twice. Therefore, to find the number of \n",
    "transpositions, we divide that count by 2 to get<br><br>\n",
    "<table align=\"center\" border=\"0\" cellspacing=\"0\" cellpadding=\"0\">\n",
    "  <tr>\n",
    "    <td height=\"33\" valign=\"bottom\"><em>n</em><sup>2</sup> &minus; <em>n</em></td>\n",
    "    <td rowspan = \"2\" align=\"right\">.</td>\n",
    "  </tr>\n",
    "  <tr>\n",
    "     <td valign=\"top\" align=\"center\"><font style=\"text-decoration:overline\">&emsp;2&emsp;</font></td>\n",
    "  </tr>\n",
    "</table>\n",
    "<br>"
   ]
  },
  {
   "cell_type": "markdown",
   "id": "4717c0",
   "metadata": {
    "collapsed": false
   },
   "source": [
    "<a name=\"lem62ret\" id=\"lem62ret\"></a>\n",
    "<br>LEMMA 6.2<br>\n",
    "\n",
    "For <em>n</em> > 1, the set of transpositions in <em>S<sub>n</sub></em> generates <em>S<sub>n</sub></em>.<br><br>\n",
    "\n",
    "<a href=\"#lem62\">Click here for the proof.</a>\n",
    "\n",
    "<p />\n",
    "Of course, a particular permutation can be expressed as a product of transpositions in more than one way. But an important property of the symmetric groups is that the \n",
    "number of transpositions used to represent a given permutation will always have the same parity, that is, even or odd. To show this, \n",
    "we will first prove the following lemma."
   ]
  },
  {
   "cell_type": "markdown",
   "id": "7ee686",
   "metadata": {
    "collapsed": false
   },
   "source": [
    "<a name=\"lem63ret\" id=\"lem63ret\"></a>\n",
    "LEMMA 6.3<br>\n",
    "\n",
    "The product of an odd number of transpositions in <em>S<sub>n</sub></em> cannot equal the identity element.<br><br>\n",
    "\n",
    "<a href=\"#lem63\">Click here for the proof.</a>\n",
    "\n",
    "<p />\n",
    "We can use this lemma to prove the following theorem.<br>"
   ]
  },
  {
   "cell_type": "markdown",
   "id": "040790",
   "metadata": {
    "collapsed": false
   },
   "source": [
    "<a name=\"theor61ret\" id=\"theor61ret\"></a>\n",
    "THEOREM 6.1:  The Signature Theorem<br>\n",
    "\n",
    "For the symmetric group <em>S<sub>n</sub></em>, define the function \n",
    "<p style='text-align: center;'><em>&sigma;</em>:  <em>S<sub>n</sub></em> &rarr; &#8484;</p>\n",
    "by\n",
    "<p style='text-align: center;'><em>&sigma;</em>(<em>x</em>) = (&minus;1)<sup><em>N</em>(<em>x</em>)</sup>,</p>\n",
    "where <em>N</em>(<em>x</em>) is the minimum number of transpositions needed to express <em>x</em> as a product of transpositions.  Then this function, called \n",
    "the <em>signature function</em>, is a homomorphism from <em>S<sub>n</sub></em> to the integers {&minus;1, 1}.<br><br>\n",
    " \n",
    "<a href=\"#theor61\">Click here for the proof.</a> \n",
    "\n",
    "<p />\n",
    "With <em>SageMath</em>, can compute the signature function on both permutations and products of cycles, using the <strong>Signature</strong> command.<br>"
   ]
  },
  {
   "cell_type": "code",
   "execution_count": 0,
   "id": "74d8e0",
   "metadata": {
    "collapsed": false
   },
   "outputs": [
   ],
   "source": [
    "Signature( P(4,3,5,1,2) )"
   ]
  },
  {
   "cell_type": "code",
   "execution_count": 0,
   "id": "c11d60",
   "metadata": {
    "collapsed": false
   },
   "outputs": [
   ],
   "source": [
    "Signature( C(1,4,2,7)*C(6,7,3) )"
   ]
  },
  {
   "cell_type": "markdown",
   "id": "2d6787",
   "metadata": {
    "collapsed": false
   },
   "source": [
    "<br>\n",
    "Try this out with several permutations. You will notice that the signature will always be  &plusmn;1.<br><br>"
   ]
  },
  {
   "cell_type": "markdown",
   "id": "b397e7",
   "metadata": {
    "collapsed": false
   },
   "source": [
    "<br>\n",
    "The signature of an <em>r</em>-cycle will be &minus;1 if <em>r</em> is even, and +1 if <em>r</em> is odd. The fact that this function is a homomorphism has some important ramifications.<br><br>\n",
    " \n",
    "DEFINITION 6.5<br>\n",
    "A permutation is an <em>alternating permutation</em> or an <em>even permutation</em> if the signature of the permutation is 1. A permutation is an \n",
    "<em>odd permutation</em> if it is not even, that is, if the signature is &minus;1.  The set of all alternating permutations of order <em>n</em> is written \n",
    "<em>A<sub>n</sub></em>."
   ]
  },
  {
   "cell_type": "markdown",
   "id": "38e95f",
   "metadata": {
    "collapsed": false
   },
   "source": [
    "<a name=\"cor61ret\" id=\"cor61ret\"></a>\n",
    "COROLLARY 6.1<br>\n",
    "\n",
    "The set of all alternating permutations <em>A<sub>n</sub></em> is a normal subgroup of <em>S<sub>n</sub></em>. If <em>n</em> > 1, then \n",
    "<em>S<sub>n</sub></em>/<em>A<sub>n</sub></em> is isomorphic to <em>Z</em><sub>2</sub>.<br><br>\n",
    "\n",
    "<a href=\"#cor61\">Click here for the proof.</a> \n",
    "\n",
    "<p />\n",
    "Finally, we can ask which permutations generate the group <em>A<sub>n</sub></em>.  Since the set of 2-cycles generated <em>S<sub>n</sub></em>, it is not too \n",
    "surprising that <em>A<sub>n</sub></em> can also be generated by cycles."
   ]
  },
  {
   "cell_type": "markdown",
   "id": "8ebcf8",
   "metadata": {
    "collapsed": false
   },
   "source": [
    "<a name=\"prop61ret\" id=\"prop61ret\"></a> \n",
    "PROPOSITION 6.1<br>\n",
    "\n",
    "For <em>n</em> > 2, the alternating group <em>A<sub>n</sub></em> is generated by the set of 3-cycles.<br><br>\n",
    "\n",
    "<a href=\"#prop61\">Click here for the proof.</a> \n",
    "\n",
    "<p />\n",
    "Let us use this proposition to find the elements of <em>A</em><sub>4</sub>. We know that this is generated by 3-cycles, and has 24/2 = 12 elements. Let us see if \n",
    "two cycles are enough to give us twelve elements.<br>"
   ]
  },
  {
   "cell_type": "code",
   "execution_count": 0,
   "id": "147e5c",
   "metadata": {
    "collapsed": false
   },
   "outputs": [
   ],
   "source": [
    "Group( C(1,2,3), C(1,2,4) )"
   ]
  },
  {
   "cell_type": "code",
   "execution_count": 0,
   "id": "49e9cc",
   "metadata": {
    "collapsed": false
   },
   "outputs": [
   ],
   "source": [
    "len(_)"
   ]
  },
  {
   "cell_type": "markdown",
   "id": "dd0a1a",
   "metadata": {
    "collapsed": false
   },
   "source": [
    "<br>\n",
    "Since this gives us 12 elements, this is <em>A</em><sub>4</sub>. Eight of the twelve elements are 3-cycles. Do you recognize the other 4 elements?<br><br>"
   ]
  },
  {
   "cell_type": "markdown",
   "id": "a60705",
   "metadata": {
    "collapsed": false
   },
   "source": [
    "<a name=\"sec63\" id=\"sec63\"></a>\n",
    "<h1>Cayley's Theorem</h1>\n",
    "\n",
    "<br>\n",
    "In the last section, we used the circle graph to illustrate a given permutation. The circle graphs produced had the property that every point on the circle had \n",
    "exactly one arrow which points to it. In &sect;1.2 we mentioned that such a graph was <em>one-to-one</em> and <em>onto</em>. Where else have we seen circle graphs \n",
    "with this property?<br><br>\n",
    "\n",
    "Although we have seen circle graphs that are one-to-one and onto in several places, many of them were in &sect;4.1 when we were working with cosets. To illustrate, \n",
    "the following command loads the quaternionic group <em>Q</em> discovered in the last chapter.<br>"
   ]
  },
  {
   "cell_type": "code",
   "execution_count": 0,
   "id": "132042",
   "metadata": {
    "collapsed": false
   },
   "outputs": [
   ],
   "source": [
    "Q = InitQuaternions(); Q"
   ]
  },
  {
   "cell_type": "markdown",
   "id": "503837",
   "metadata": {
    "collapsed": false
   },
   "source": [
    "<br>\n",
    "Recall the Calyley table for <em>Q</em> is given by:<br>"
   ]
  },
  {
   "cell_type": "code",
   "execution_count": 0,
   "id": "e7ce9b",
   "metadata": {
    "collapsed": false
   },
   "outputs": [
   ],
   "source": [
    "CayleyTable(Q)"
   ]
  },
  {
   "cell_type": "markdown",
   "id": "311c7d",
   "metadata": {
    "collapsed": false
   },
   "source": [
    "<br>\n",
    "We can know look at the circle graph of <strong>LeftMult</strong>(<em>x</em>) and <strong>RightMult</strong>(<em>x</em>) for \n",
    "different elements <em>x</em> in <em>Q</em>.<br>"
   ]
  },
  {
   "cell_type": "code",
   "execution_count": 0,
   "id": "662d4c",
   "metadata": {
    "collapsed": false
   },
   "outputs": [
   ],
   "source": [
    "CircleGraph(Q, LeftMult(i) )"
   ]
  },
  {
   "cell_type": "code",
   "execution_count": 0,
   "id": "c4febb",
   "metadata": {
    "collapsed": false
   },
   "outputs": [
   ],
   "source": [
    "CircleGraph(Q, RightMult(i) )"
   ]
  },
  {
   "cell_type": "markdown",
   "id": "caf51c",
   "metadata": {
    "collapsed": false
   },
   "source": [
    "<br>\n",
    "Look carefully. These two circle graphs are not the same, even though they are very similar. Notice that these circle graphs are one-to-one and onto, \n",
    "just as the graphs of a permutation. Could we view these circle graphs as permutations in <em>S</em><sub>8</sub>? Suppose we numbered the elements of the group, starting \n",
    "at the top and working clockwise. That is, we would assign\n",
    "<br><br>\n",
    "<table align = \"center\" border=\"0\">\n",
    "  <tr>\n",
    "    <td align=\"right\">1)&emsp;</td>\n",
    "    <td>1</td>\n",
    "  </tr>\n",
    "  <tr>\n",
    "    <td align=\"right\">2)&emsp;</td>\n",
    "    <td><em>i</em></td>\n",
    "  </tr>\n",
    "    <tr>\n",
    "    <td align=\"right\">3)&emsp;</td>\n",
    "    <td><em>j</em></td>\n",
    "  </tr>\n",
    "  <tr>\n",
    "    <td align=\"right\">4)&emsp;</td>\n",
    "    <td><em>k</em></td>\n",
    "  </tr>\n",
    "  <tr>\n",
    "    <td align=\"right\">5)&emsp;</td>\n",
    "    <td>&minus;1</td>\n",
    "  </tr>\n",
    "  <tr>\n",
    "    <td align=\"right\">6)&emsp;</td>\n",
    "    <td>&minus;<em>i</em></td>\n",
    "  </tr>\n",
    "    <tr>\n",
    "    <td align=\"right\">7)&emsp;</td>\n",
    "    <td>&minus;<em>j</em></td>\n",
    "  </tr>\n",
    "  <tr>\n",
    "    <td align=\"right\">8)&emsp;</td>\n",
    "    <td>&minus;<em>k</em></td>\n",
    "  </tr>\n",
    "</table>\n",
    "<br>\n",
    "We can then create graphs of permutations that simulate the two graphs we see above.<br>"
   ]
  },
  {
   "cell_type": "code",
   "execution_count": 0,
   "id": "4aab1d",
   "metadata": {
    "collapsed": false
   },
   "outputs": [
   ],
   "source": [
    "CircleGraph([1,2,3,4,5,6,7,8], C(1,2,5,6)*C(3,8,7,4) )"
   ]
  },
  {
   "cell_type": "code",
   "execution_count": 0,
   "id": "240127",
   "metadata": {
    "collapsed": false
   },
   "outputs": [
   ],
   "source": [
    "CircleGraph([1,2,3,4,5,6,7,8], C(1,2,5,6)*C(3,4,7,8) )"
   ]
  },
  {
   "cell_type": "markdown",
   "id": "164274",
   "metadata": {
    "collapsed": false
   },
   "source": [
    "<br>\n",
    "EXPERIMENT:<br>\n",
    "Replace the <em>i</em> in the two circle graphs on <em>Q</em> with other elements of <em>Q</em>, such as <em>j</em>, -1, and <em>k</em>. Can you find the \n",
    "permutations in <em>S</em><sub>8</sub> which produce the same circle graphs? Remember that there will be two permutations for each element of <em>Q</em>: one \n",
    "that simulates <strong>LeftMult(x)</strong>, and one that simulates <strong>RightMult(x)</strong>. Are there any elements for which the graphs \n",
    "for <strong>LeftMult(x)</strong> and <strong>RightMult(x)</strong> are the same?<br>"
   ]
  },
  {
   "cell_type": "markdown",
   "id": "afbca6",
   "metadata": {
    "collapsed": false
   },
   "source": [
    "<br>\n",
    "We see from this experiment that we each element of <em>Q</em> will correspond to two elements of <em>S</em><sub>8</sub>, one that simulates <strong>LeftMult(x)</strong>,\n",
    "which we will call <em>&fnof;</em>(<em>x</em>), and one that simulates <strong>RightMult(x)</strong>, called <em>&#981;</em>(<em>x</em>). Here is a table of these permutations:<br>\n",
    "\n",
    "<table align=\"center\" width=\"550\" border=\"0\">\n",
    "  <tr>\n",
    "    <th width=\"60\" scope=\"col\"><em>x</em></th>\n",
    "    <th width=\"250\" scope=\"col\"><em>&fnof;</em>(<em>x</em>)<br> LeftMult(x)</th>\n",
    "    <th width=\"250\" scope=\"col\"><em>&#981;</em>(<em>x</em>)<br> RightMult(x)</th>\n",
    "  </tr>\n",
    "  <tr>\n",
    "    <th scope=\"row\">1</th>\n",
    "    <td align=\"center\">( )</td>\n",
    "    <td align=\"center\">( )</td>\n",
    "  </tr>\n",
    "  <tr>\n",
    "    <th scope=\"row\"><em>i</em></th>\n",
    "    <td align=\"center\">(1 2 5 6)(3 8 7 4)</td>\n",
    "    <td align=\"center\">(1 2 5 6)(3 4 7 8)</td>\n",
    "  </tr>\n",
    "  <tr>\n",
    "    <th scope=\"row\"><em>j</em></th>\n",
    "    <td align=\"center\">(1 3 5 7)(2 4 6 8)</td>\n",
    "    <td align=\"center\">(1 3 5 7)(2 8 6 4)</td>\n",
    "  </tr>\n",
    "  <tr>\n",
    "    <th scope=\"row\"><em>k</em></th>\n",
    "    <td align=\"center\">(1 4 5 8)(2 7 6 3)</td>\n",
    "    <td align=\"center\">(1 4 5 8)(2 3 6 7)</td>\n",
    "  </tr>  \n",
    "  <tr>\n",
    "    <th scope=\"row\">&minus;1</th>\n",
    "    <td align=\"center\">(1 5)(2 6)(3 7)(4 8)</td>\n",
    "    <td align=\"center\">(1 5)(2 6)(3 7)(4 8)</td>\n",
    "  </tr>\n",
    "  <tr>\n",
    "    <th scope=\"row\">&minus;<em>i</em></th>\n",
    "    <td align=\"center\">(1 6 5 2)(3 4 7 8)</td>\n",
    "    <td align=\"center\">(1 6 5 2)(3 8 7 4)</td>\n",
    "  </tr>\n",
    "  <tr>\n",
    "    <th scope=\"row\">&minus;<em>j</em></th>\n",
    "    <td align=\"center\">(1 7 5 3)(2 8 6 4)</td>\n",
    "    <td align=\"center\">(1 7 5 3)(2 4 6 8)</td>\n",
    "  </tr>\n",
    "  <tr>\n",
    "    <th scope=\"row\">&minus;<em>k</em></th>\n",
    "    <td align=\"center\">(1 8 5 4)(2 3 6 7)</td>\n",
    "    <td align=\"center\">(1 8 5 4)(2 7 6 3)</td>\n",
    "  </tr>\n",
    "</table>\n",
    "<br>\n",
    "By labeling the permutations by <em>&fnof;</em>(<em>x</em>) and <em>&#981;</em>(<em>x</em>), we emphasize that these two functions map elements of <em>Q</em> to elements \n",
    "of <em>S</em><sub>8</sub>. So here's the natural question: Are either of these homomorphisms?<br><br>\n",
    "\n",
    "EXAMPLE:<br>\n",
    "Use <em>SageMath</em> to see if either of the two functions <em>f</em> or <em>&#981;</em> are homomorphisms.<br><br>\n",
    "\n",
    "Let's begin by testing <em>&fnof;</em>.\n",
    "Normally, in defining a homomorphism, we first determine the domain group and the target group.  But in this case the target group is <em>S</em><sub>8</sub>, which \n",
    "has 40320 elements.  Rather than having <em>SageMath</em> construct all of the elements of this group, which would take an unreasonable amount of time, we can find the \n",
    "range of the homomorphism by determining which group is generated by <em>&fnof;</em>(<em>i</em>) and <em>&fnof;</em>(<em>j</em>).<br>"
   ]
  },
  {
   "cell_type": "code",
   "execution_count": 0,
   "id": "0e104d",
   "metadata": {
    "collapsed": false
   },
   "outputs": [
   ],
   "source": [
    "Q = InitQuaternions(); Q"
   ]
  },
  {
   "cell_type": "code",
   "execution_count": 0,
   "id": "00ec49",
   "metadata": {
    "collapsed": false
   },
   "outputs": [
   ],
   "source": [
    "T = Group(C(1,2,5,6)*C(3,8,7,4), C(1,3,5,7)*C(2,4,6,8)); T"
   ]
  },
  {
   "cell_type": "markdown",
   "id": "237d61",
   "metadata": {
    "collapsed": false
   },
   "source": [
    "<br>\n",
    "Now we can try to create the homomorphism.<br>"
   ]
  },
  {
   "cell_type": "code",
   "execution_count": 0,
   "id": "b79257",
   "metadata": {
    "collapsed": false
   },
   "outputs": [
   ],
   "source": [
    "F = Homomorph(Q, T)"
   ]
  },
  {
   "cell_type": "code",
   "execution_count": 0,
   "id": "d2c009",
   "metadata": {
    "collapsed": false
   },
   "outputs": [
   ],
   "source": [
    "HomoDef(F, i, C(1,2,5,6)*C(3,8,7,4) )\n",
    "HomoDef(F, j, C(1,3,5,7)*C(2,4,6,8) )\n",
    "HomoDef(F, k, C(1,4,5,8)*C(2,7,6,3) )"
   ]
  },
  {
   "cell_type": "code",
   "execution_count": 0,
   "id": "0b0856",
   "metadata": {
    "collapsed": false
   },
   "outputs": [
   ],
   "source": [
    "FinishHomo(F)"
   ]
  },
  {
   "cell_type": "markdown",
   "id": "ba5a62",
   "metadata": {
    "collapsed": false
   },
   "source": [
    "So this is not a homomorphism.  What about <em>&#981;</em>?<br>\n",
    "\n",
    "<br>\n",
    "EXPERIMENT:<br>\n",
    "See if <em>&#981;</em> is a homomorphism using the above table.  If it seems to produce a homomorphism, use <strong>GraphHomo</strong> to verify that it is one-to-one \n",
    "and onto.<br>"
   ]
  },
  {
   "cell_type": "markdown",
   "id": "3beef5",
   "metadata": {
    "collapsed": false
   },
   "source": [
    "<br>\n",
    "So apparently, <em>&#981;</em>(<em>x</em>) is a homomorphism from <em>Q</em> to <em>S</em><sub>8</sub>. In fact, it is clear that this is one-to-one, so \n",
    "<em>&#981;</em>(<em>x</em>) is an isomorphism from <em>Q</em> onto a subgroup of <em>S</em><sub>8</sub>. Will <strong>RightMult</strong> produce an isomorphism for any \n",
    "group? The answer is yes, and the proof reveals an important property of permutation groups. You should be able to use the <strong>RightMult</strong> function to prove \n",
    "the following theorem:"
   ]
  },
  {
   "cell_type": "markdown",
   "id": "2d1d5b",
   "metadata": {
    "collapsed": false
   },
   "source": [
    "<a name=\"theor62ret\" id=\"theor62ret\"></a>\n",
    "THEOREM 6.2:Cayley's Theorem<br>\n",
    "\n",
    "Every finite group of order <em>n</em> is isomorphic to a subgroup of <em>S<sub>n</sub></em>.<br><br>\n",
    "\n",
    "<a href=\"#theor62\">Click here for the proof.</a>\n",
    "\n",
    "<p />\n",
    "\n",
    "EXAMPLE:<br>\n",
    "Find a subgroup of <em>S</em><sub>6</sub> isomorphic to Terry's dance steps.<br><br>\n",
    "\n",
    "First we will bring up the Cayley table for Terry's dance steps."
   ]
  },
  {
   "cell_type": "code",
   "execution_count": 0,
   "id": "3891cd",
   "metadata": {
    "collapsed": false
   },
   "outputs": [
   ],
   "source": [
    "G = InitTerry()\n",
    "CayleyTable(G)"
   ]
  },
  {
   "cell_type": "markdown",
   "id": "de5326",
   "metadata": {
    "collapsed": false
   },
   "source": [
    "Since the proof of Cayley's theorem uses multiplication on the right, we will use the <em>rows</em> of the Cayley table to produce the permutations.  First, we will number Terry's dance steps in the order they appear in the table.\n",
    "<p style='text-align: center;'>1 &harr; <strong>Stay</strong>,&emsp; 2 &harr; <strong>FlipRt</strong>,&emsp; 3 &harr; <strong>RotRt</strong>,&emsp; 4 &harr; <strong>FlipLft</strong>,&emsp; 5 &harr; <strong>RotLft</strong>,&emsp; 6 &harr; <strong>Spin</strong>.</p>\n",
    "Now, each row in the table converts to a list of numbers, which becomes the lower half of the permutation for that row.  For example, the second row in the table,\n",
    "<p style='text-align: center;'><strong>FlipRt</strong>&emsp;<strong>Stay</strong>&emsp;<strong>FlipLft</strong>&emsp; <strong>RotRt</strong>&emsp;<strong>Spin</strong>&emsp;<strong>RotLft</strong></p>\n",
    "converts to the numbers 2 1 4 3 6 5, which represents the permutation\n",
    "<table align=\"center\" border=\"0\" cellspacing=\"0\" cellpadding=\"0\">\n",
    "  <tr>\n",
    "    <td align=\"right\" valign=\"bottom\">&#9115;</td>\n",
    "    <td align=\"center\">1</td>\n",
    "    <td align=\"center\">2</td>\n",
    "    <td align=\"center\">3</td>\n",
    "    <td align=\"center\">4</td>\n",
    "    <td align=\"center\">5</td>\n",
    "    <td align=\"center\">6</td>               \n",
    "    <td align=\"left\" valign=\"bottom\">&#9118;</td>\n",
    "  </tr>\n",
    "  <tr>\n",
    "    <td align=\"right\" valign=\"top\">&#9117;</td>\n",
    "    <td align=\"center\">2</td>\n",
    "    <td align=\"center\">1</td>\n",
    "    <td align=\"center\">4</td>\n",
    "    <td align=\"center\">3</td>\n",
    "    <td align=\"center\">6</td>\n",
    "    <td align=\"center\">5</td>   \n",
    "    <td align=\"left\" valign=\"top\">&#9120;</td>\n",
    "  </tr>\n",
    "</table>\n",
    "<br>\n",
    "(The row for the identity element will always give the identity permutation.)\n",
    "Doing this for each row, we get the list of permutations\n",
    "<table align=\"center\" border=\"0\" cellspacing=\"0\" cellpadding=\"0\">\n",
    "  <tr>\n",
    "    <td align=\"right\" valign=\"bottom\">&#9115;</td>\n",
    "    <td align=\"right\" valign=\"bottom\">&#9115;</td>\n",
    "    <td align=\"center\">1</td>\n",
    "    <td align=\"center\">2</td>\n",
    "    <td align=\"center\">3</td>\n",
    "    <td align=\"center\">4</td>\n",
    "    <td align=\"center\">5</td>\n",
    "    <td align=\"center\">6</td>\n",
    "    <td align=\"left\" valign=\"bottom\">&#9118;</td>\n",
    "    <td rowspan = \"2\" align=\"center\">,</td>\n",
    "    <td align=\"right\" valign=\"bottom\">&#9115;</td>\n",
    "    <td align=\"center\">1</td>\n",
    "    <td align=\"center\">2</td>\n",
    "    <td align=\"center\">3</td>\n",
    "    <td align=\"center\">4</td>\n",
    "    <td align=\"center\">5</td>\n",
    "    <td align=\"center\">6</td>\n",
    "    <td align=\"left\" valign=\"bottom\">&#9118;</td>\n",
    "    <td rowspan = \"2\" align=\"center\">,</td>\n",
    "    <td align=\"right\" valign=\"bottom\">&#9115;</td>\n",
    "    <td align=\"center\">1</td>\n",
    "    <td align=\"center\">2</td>\n",
    "    <td align=\"center\">3</td>\n",
    "    <td align=\"center\">4</td>\n",
    "    <td align=\"center\">5</td>\n",
    "    <td align=\"center\">6</td>\n",
    "    <td align=\"left\" valign=\"bottom\">&#9118;</td>\n",
    "    <td rowspan = \"2\" align=\"center\">,</td>\n",
    "    <td align=\"right\" valign=\"bottom\">&#9115;</td>\n",
    "    <td align=\"center\">1</td>\n",
    "    <td align=\"center\">2</td>\n",
    "    <td align=\"center\">3</td>\n",
    "    <td align=\"center\">4</td>\n",
    "    <td align=\"center\">5</td>\n",
    "    <td align=\"center\">6</td>\n",
    "    <td align=\"left\" valign=\"bottom\">&#9118;</td>\n",
    "    <td rowspan = \"2\" align=\"center\">,</td>\n",
    "    <td align=\"right\" valign=\"bottom\">&#9115;</td>\n",
    "    <td align=\"center\">1</td>\n",
    "    <td align=\"center\">2</td>\n",
    "    <td align=\"center\">3</td>\n",
    "    <td align=\"center\">4</td>\n",
    "    <td align=\"center\">5</td>\n",
    "    <td align=\"center\">6</td>\n",
    "    <td align=\"left\" valign=\"bottom\">&#9118;</td>\n",
    "    <td rowspan = \"2\" align=\"center\">,</td>\n",
    "    <td align=\"right\" valign=\"bottom\">&#9115;</td>\n",
    "    <td align=\"center\">1</td>\n",
    "    <td align=\"center\">2</td>\n",
    "    <td align=\"center\">3</td>\n",
    "    <td align=\"center\">4</td>\n",
    "    <td align=\"center\">5</td>\n",
    "    <td align=\"center\">6</td>\n",
    "    <td align=\"left\" valign=\"bottom\">&#9118;</td>\n",
    "    <td align=\"left\" valign=\"bottom\">&#9118;</td>\n",
    "  </tr>\n",
    "  <tr>\n",
    "    <td align=\"right\" valign=\"top\">&#9117;</td>\n",
    "    <td align=\"right\" valign=\"top\">&#9117;</td>\n",
    "    <td align=\"center\">1</td>\n",
    "    <td align=\"center\">2</td>\n",
    "    <td align=\"center\">3</td>\n",
    "    <td align=\"center\">4</td>\n",
    "    <td align=\"center\">5</td> \n",
    "    <td align=\"center\">6</td>\n",
    "    <td align=\"left\" valign=\"top\">&#9120;</td>\n",
    "    <td align=\"right\" valign=\"top\">&#9117;</td>\n",
    "    <td align=\"center\">2</td>\n",
    "    <td align=\"center\">1</td>\n",
    "    <td align=\"center\">4</td>\n",
    "    <td align=\"center\">3</td>\n",
    "    <td align=\"center\">6</td>\n",
    "    <td align=\"center\">5</td>\n",
    "    <td align=\"left\" valign=\"top\">&#9120;</td>\n",
    "    <td align=\"right\" valign=\"top\">&#9117;</td>\n",
    "    <td align=\"center\">3</td>\n",
    "    <td align=\"center\">6</td>\n",
    "    <td align=\"center\">5</td>\n",
    "    <td align=\"center\">2</td>\n",
    "    <td align=\"center\">1</td>\n",
    "    <td align=\"center\">4</td>\n",
    "    <td align=\"left\" valign=\"top\">&#9120;</td>\n",
    "    <td align=\"right\" valign=\"top\">&#9117;</td>\n",
    "    <td align=\"center\">4</td>\n",
    "    <td align=\"center\">5</td>\n",
    "    <td align=\"center\">6</td>\n",
    "    <td align=\"center\">1</td>\n",
    "    <td align=\"center\">2</td>\n",
    "    <td align=\"center\">3</td>\n",
    "    <td align=\"left\" valign=\"top\">&#9120;</td>\n",
    "    <td align=\"right\" valign=\"top\">&#9117;</td>\n",
    "    <td align=\"center\">5</td>\n",
    "    <td align=\"center\">4</td>\n",
    "    <td align=\"center\">1</td>\n",
    "    <td align=\"center\">6</td>\n",
    "    <td align=\"center\">3</td>\n",
    "    <td align=\"center\">2</td>\n",
    "    <td align=\"left\" valign=\"top\">&#9120;</td>\n",
    "    <td align=\"right\" valign=\"top\">&#9117;</td>\n",
    "    <td align=\"center\">6</td>\n",
    "    <td align=\"center\">3</td>\n",
    "    <td align=\"center\">2</td>\n",
    "    <td align=\"center\">5</td>\n",
    "    <td align=\"center\">4</td>\n",
    "    <td align=\"center\">1</td>\n",
    "    <td align=\"left\" valign=\"top\">&#9120;</td>\n",
    "    <td align=\"left\" valign=\"top\">&#9120;</td>\n",
    "  </tr>\n",
    "</table> \n",
    "<br>"
   ]
  },
  {
   "cell_type": "markdown",
   "id": "d59885",
   "metadata": {
    "collapsed": false
   },
   "source": [
    "Although this theorem shows that all finite groups can be considered as a subgroup of a symmetric group, the theorem can also apply to infinite groups as well. \n",
    "Of course we then must consider <em>infinite</em> symmetric groups, whose elements would be permutations on an infinite collection of objects. We might have a difficult \n",
    "time expressing some of the permutations! For example, if we had a library of an infinite number of books, we could not begin to express how one could rearrange the \n",
    "books. Some of the permutations could be expressed as one-to-one and onto functions. However, most of the permutations in an infinite symmetric group are not \n",
    "expressible using a finite number of words or symbols. Problems 18 through 22 of &sect;6.4 reveal some of the unusual properties of infinite symmetric groups. \n",
    "Fortunately, we will mainly work with finite symmetric groups.\n",
    "\n",
    "<br><br>\n",
    "Although Cayley's theorem (6.2) shows that any finite group <em>G</em> is a subgroup of <em>S<sub>n</sub></em>, where <em>n</em> is the size of the group <em>G</em>, \n",
    "we often can find a smaller symmetric group that contains an isomorphic copy of <em>G</em>.<br><br>\n",
    "\n",
    "EXAMPLE:<br>  \n",
    "Consider the group <em>D</em><sub>4</sub>, introduced in the last chapter, for which <nobr><em>a</em><sup>4</sup> = \n",
    "<em>b</em><sup>2</sup> = <em>e</em>,</nobr> and \n",
    "<em>b</em>&middot;<em>a</em> = <em>a</em><sup>3</sup>&middot;<em>b</em>.  Consider the effects of <strong>RightMult</strong> on the set of cosets, using \n",
    "a <em>non-normal</em> subgroup.<br>"
   ]
  },
  {
   "cell_type": "code",
   "execution_count": 0,
   "id": "2370f1",
   "metadata": {
    "collapsed": false
   },
   "outputs": [
   ],
   "source": [
    "InitGroup(\"e\")\n",
    "AddGroupVar(\"a\", \"b\")\n",
    "Define(a^4, e)\n",
    "Define(b^2, e)\n",
    "Define(b*a, a^3*b)\n",
    "D4 = Group()\n",
    "D4"
   ]
  },
  {
   "cell_type": "markdown",
   "id": "d522dc",
   "metadata": {
    "collapsed": false
   },
   "source": [
    "<br>\n",
    " Let us consider a <em>non-normal</em> subgroup of <em>D</em><sub>4</sub>,<br>"
   ]
  },
  {
   "cell_type": "code",
   "execution_count": 0,
   "id": "8472dc",
   "metadata": {
    "collapsed": false
   },
   "outputs": [
   ],
   "source": [
    "H = Group(b); H"
   ]
  },
  {
   "cell_type": "markdown",
   "id": "1829f0",
   "metadata": {
    "collapsed": false
   },
   "source": [
    "<br>\n",
    "We saw in Cayley's theorem (6.2) that <strong>RightMult</strong> applied to the elements ofthe group derived a homomorphism.  What if we applied <strong>RightMult</strong> \n",
    "to the <em>cosets</em> of the subgroup?  Recall that <strong>RightMult(g)</strong> can be thought as a \n",
    "function <em>p<sub>g</sub></em>(<em>x</em>) = <em>g</em>&middot;<em>x</em>,\n",
    "that is, it multiplies the argument of the function to the right of <em>g</em>. If we apply this function to a left coset of <em>H</em>, we have \n",
    "<em>p<sub>g</sub></em>(<em>x H</em>) = <em>g</em>&middot;<em>x H</em>, which yields another left coset. (Right cosets won't work here, since \n",
    "<em>p<sub>g</sub></em>(<em>H x</em>) = <em>g</em>&middot;<em>H x</em>, which is neither a left nor right coset.)  Let us first create a list of left cosets.<br>"
   ]
  },
  {
   "cell_type": "code",
   "execution_count": 0,
   "id": "474977",
   "metadata": {
    "collapsed": false
   },
   "outputs": [
   ],
   "source": [
    "L = LftCoset(D4, H); L"
   ]
  },
  {
   "cell_type": "markdown",
   "id": "41be68",
   "metadata": {
    "collapsed": false
   },
   "source": [
    "<br>\n",
    "What happens if we multiply each of the cosets by a fixed element of the group, say <em>a</em>?<br>"
   ]
  },
  {
   "cell_type": "code",
   "execution_count": 0,
   "id": "ddb99c",
   "metadata": {
    "collapsed": false
   },
   "outputs": [
   ],
   "source": [
    "CircleGraph(L, RightMult(a) )"
   ]
  },
  {
   "cell_type": "markdown",
   "id": "ca41b4",
   "metadata": {
    "collapsed": false
   },
   "source": [
    "<br>\n",
    "We see that each coset is mapped to another coset.  Once again, we have a one-to-one and onto mapping, which we can treat as a permutation.  Let us first number the \n",
    "right cosets of <em>H</em>.<br>\n",
    "\n",
    "<table align=\"center\" border=\"0\">\n",
    "  <tr>\n",
    "    <td align=\"right\">1 )</td>\n",
    "    <td align=\"left\">&emsp;{ <em>e</em>, <em>b</em> }</td>\n",
    "  </tr>\n",
    "  <tr>\n",
    "    <td align=\"right\">2 )</td>\n",
    "    <td align=\"left\">&emsp;{ <em>a</em>, <em>a</em>&middot;<em>b</em> }</td>\n",
    "  </tr>\n",
    "  <tr>\n",
    "    <td align=\"right\">3 )</td>\n",
    "    <td align=\"left\">&emsp;{ <em>a</em><sup>2</sup>, <em>a</em><sup>2</sup>&middot;<em>b</em> }</td>\n",
    "  </tr>\n",
    "  <tr>\n",
    "    <td align=\"right\">4 )</td>\n",
    "    <td align=\"left\">&emsp;{ <em>a</em><sup>3</sup>, <em>a</em><sup>3</sup>&middot;<em>b</em> }</td>\n",
    "  </tr>\n",
    "</table>\n",
    "\n",
    "<br>\n",
    "Then the circle graph shows that left multiplication by <em>a</em> is equivalent to the permutation (1 2 3 4).\n",
    "If we try this with the element <em>b</em> instead,<br>"
   ]
  },
  {
   "cell_type": "code",
   "execution_count": 0,
   "id": "d1d883",
   "metadata": {
    "collapsed": false
   },
   "outputs": [
   ],
   "source": [
    "CircleGraph(L, RightMult(b) )"
   ]
  },
  {
   "cell_type": "markdown",
   "id": "7585ac",
   "metadata": {
    "collapsed": false
   },
   "source": [
    "<br>\n",
    "the circle graph shows that right multiplication by <em>b</em> is equivalent to the permutation (2 4).<br>\n",
    "<br>\n",
    "\n",
    "EXPERIMENT:<br>\n",
    "Try replacing the elements <em>a</em> and <em>b</em> with other elements of the group.  Do the \n",
    "circle graphs produce permutations?<br>"
   ]
  },
  {
   "cell_type": "markdown",
   "id": "08aafe",
   "metadata": {
    "collapsed": false
   },
   "source": [
    "<br>\n",
    "Since we have a permutation for each element of the group, the natural question is whether we have a homomorphism between the group \n",
    "<em>D</em><sub>4</sub> and the permutation group.  <em>SageMath</em> can check for us.<br>"
   ]
  },
  {
   "cell_type": "code",
   "execution_count": 0,
   "id": "dbf071",
   "metadata": {
    "collapsed": false
   },
   "outputs": [
   ],
   "source": [
    "S4 = Group(C(1,2), C(1,2,3), C(1,2,3,4) ); S4"
   ]
  },
  {
   "cell_type": "code",
   "execution_count": 0,
   "id": "cbb878",
   "metadata": {
    "collapsed": false
   },
   "outputs": [
   ],
   "source": [
    "F = Homomorph(D4, S4)\n",
    "HomoDef(F, a, C(1,2,3,4) )\n",
    "HomoDef(F, b, C(2,4) )"
   ]
  },
  {
   "cell_type": "code",
   "execution_count": 0,
   "id": "132e97",
   "metadata": {
    "collapsed": false
   },
   "outputs": [
   ],
   "source": [
    "FinishHomo(F)"
   ]
  },
  {
   "cell_type": "markdown",
   "id": "98aa73",
   "metadata": {
    "collapsed": false
   },
   "source": [
    "<br>\n",
    "So we indeed have a homomorphism, just as in Cayley's theorem. What is the kernel of this homomorphism?<br>"
   ]
  },
  {
   "cell_type": "code",
   "execution_count": 0,
   "id": "05f387",
   "metadata": {
    "collapsed": false
   },
   "outputs": [
   ],
   "source": [
    "Kernel(F)"
   ]
  },
  {
   "cell_type": "markdown",
   "id": "a9b6da",
   "metadata": {
    "collapsed": false
   },
   "source": [
    "<br>\n",
    "This proves that <em>D</em><sub>4</sub> is isomorphic to a subgroup of <em>S</em><sub>4</sub>.  Note that this is a much stronger result than Cayley's theorem (6.2), \n",
    "which only says that <em>D</em><sub>4</sub> is isomorphic to a subgroup of the larger group <em>S</em><sub>8</sub>.<br><br>\n",
    "\n",
    "We can now see the subgroup of <em>S</em><sub>4</sub> isomorphic to <em>D</em><sub>4</sub>.<br>"
   ]
  },
  {
   "cell_type": "code",
   "execution_count": 0,
   "id": "963bef",
   "metadata": {
    "collapsed": false
   },
   "outputs": [
   ],
   "source": [
    "Image(F, D4)"
   ]
  },
  {
   "cell_type": "code",
   "execution_count": 0,
   "id": "3acbcc",
   "metadata": {
    "collapsed": false
   },
   "outputs": [
   ],
   "source": [
    "CayleyTable(_)"
   ]
  },
  {
   "cell_type": "markdown",
   "id": "17f4e9",
   "metadata": {
    "collapsed": false
   },
   "source": [
    "<br>\n",
    "The multiplication table reveals a non-abelian group with 5 elements of order 2, so this is indeed isomorphic to <em>D</em><sub>4</sub>.  \n",
    "We can generalize this procedure to produce the following result:"
   ]
  },
  {
   "cell_type": "markdown",
   "id": "99c08b",
   "metadata": {
    "collapsed": false
   },
   "source": [
    "<a name=\"theor63ret\" id=\"theor63ret\"></a>\n",
    "THEOREM 6.3: Generalized Cayley's Theorem<br>\n",
    "\n",
    "Let <em>G</em> be a finite group of order <em>n</em>, and <em>H</em> a subgroup of order <em>m</em>.  Then there is a homomorphism \n",
    "from <em>G</em> to <em>S<sub>k</sub></em>, with <em>k</em> = <em>n</em>/<em>m</em>, and whose kernel is a subgroup of <em>H</em>.<br><br>\n",
    "\n",
    "<a href=\"#theor63\">Click here for the proof.</a>\n",
    "\n",
    "<p />\n",
    "We see one application of this proposition in the case of <em>D</em><sub>4</sub>.  Since <em>H</em> was a subgroup of order 2 which was <em>not</em> normal, the only \n",
    "normal subgroup of <em>G</em> that is contained in <em>H</em> is the trivial subgroup.  Thus, the homomorphism is an isomorphism, and we find a copy \n",
    "of <em>D</em><sub>4</sub> inside of <em>S</em><sub>4</sub> instead of having to look in the larger group <em>S</em><sub>8</sub>.  This idea can be applied \n",
    "whenever we can find a subgroup of <em>G</em> that does not contain any nontrivial normal subgroups of <em>G</em>.<br><br>\n",
    "\n",
    "But there is another important ramification from this proposition. We can prove the existence of a normal subgroup of a group, knowing only the order of the group!"
   ]
  },
  {
   "cell_type": "markdown",
   "id": "da1efc",
   "metadata": {
    "collapsed": false
   },
   "source": [
    "<a name=\"cor62ret\" id=\"cor62ret\"></a>\n",
    "COROLLARY 6.2<br>\n",
    "\n",
    "Let <em>G</em> be a finite group, and <em>H</em> any subgroup of <em>G</em>. Then <em>H</em> contains a subgroup <em>N</em>, which is a normal subgroup of <em>G</em>, \n",
    "such that |<em>G</em>| divides (|<em>G</em>|/|<em>H</em>|)! &middot; |<em>N</em>|.<br><br>\n",
    "\n",
    "<a href=\"#cor62\">Click here for the proof.</a>\n",
    "\n",
    "<p />\n",
    "Here is an example of how we can prove the existence of a nontrivial normal subgroup, using just the order of the group.  Suppose we have a group <em>G</em> \n",
    "of order 108.  Suppose that <em>G</em> has a subgroup of order 27.  (In fact, all groups of order 108 must have a subgroup of order 27.)  Using \n",
    "|<em>G</em>|=108 and |<em>H</em>|=27, we find that G must contain a normal subgroup <em>N</em> such that\n",
    "<p style='text-align: center;'>108 divides (108/27)! &middot;|<em>N</em>|=24&middot;|<em>N</em>|.</p>  \n",
    "But this means that |<em>N</em>| must be a multiple of 9.  Since <em>N</em> is a subgroup of <em>H</em>, which has order 27, we see that <em>N</em> is of \n",
    "order 9 or 27.  Hence, we have proven that <em>G</em> contains a normal subgroup of either order 9 or 27.  \n",
    "This will go a long way in finding the possible group structures of <em>G</em>, using only the size of the group <em>G</em>.<br><br>"
   ]
  },
  {
   "cell_type": "markdown",
   "id": "dc30a9",
   "metadata": {
    "collapsed": false
   },
   "source": [
    "<a name=\"sec64\" id=\"sec64\"></a>\n",
    "<h1>Numbering the Permutations</h1>\n",
    "\n",
    "<br>\n",
    "We have seen that from Cayley's theorem that any group can be represented as the subgroup of a symmetric group. In turn, most of the permutations in the symmetric group \n",
    "can be written succinctly as a product of disjoint cycles. So naturally, we can express any group in terms of cycles.<br><br>\n",
    "\n",
    "For example, we saw using Cayley theorem a copy of the quaternionic group <em>Q</em> as a subgroup of <em>S<sub>8</sub></em>. It was generated by the elements\n",
    "<p style='text-align: center;'><em>&#981;</em>(<em>i</em>) = (1 2 5 6)(3 4 7 8)<br>\n",
    "                               <em>&#981;</em>(<em>j</em>) = (1 3 5 7)(2 8 6 4).</p>\n",
    "In fact, the entire group is given by<br>"
   ]
  },
  {
   "cell_type": "code",
   "execution_count": 0,
   "id": "509f41",
   "metadata": {
    "collapsed": false
   },
   "outputs": [
   ],
   "source": [
    "Q = Group( C(1,2,4,6)*C(3,5,7,8) , C(1,3,4,7)*C(2,8,6,5) ); Q"
   ]
  },
  {
   "cell_type": "markdown",
   "id": "742671",
   "metadata": {
    "collapsed": false
   },
   "source": [
    "<br>\n",
    "To compare notation, let us convert these elements to permutaions.<br>"
   ]
  },
  {
   "cell_type": "code",
   "execution_count": 0,
   "id": "1e768a",
   "metadata": {
    "collapsed": false
   },
   "outputs": [
   ],
   "source": [
    "[ CycleToPerm(x) for x in Q ]"
   ]
  },
  {
   "cell_type": "markdown",
   "id": "ef1576",
   "metadata": {
    "collapsed": false
   },
   "source": [
    "<br>\n",
    "Which method is best?  For small groups, using cycles would be a good choice, because the results are easy to read. But for larger groups (say over 100 elements, and \n",
    "yes, we will be working with groups that large in the next chapter) having <em>SageMath</em> write out all of the elements in terms of cycles would be time consuming \n",
    "and messy. It would be nice to have a succinct way to describe each permutation using some kind of abbreviation.<br><br>\n",
    "\n",
    "This section introduces a way to work with permutations that combines succinctness and speed. <em>SageMath</em> has a preset order\n",
    "in which it lists the permutations.<br><br>\n",
    "\n",
    "The clue for seeing how such an abbreviation is possible is to look again at the group <em>S</em><sub>4</sub>, using permutation notation.<br>"
   ]
  },
  {
   "cell_type": "code",
   "execution_count": 0,
   "id": "2d26e8",
   "metadata": {
    "collapsed": false
   },
   "outputs": [
   ],
   "source": [
    "S4 = Group( P(2,1), P(2,3,1), P(2,3,4,1) ); S4"
   ]
  },
  {
   "cell_type": "markdown",
   "id": "29f829",
   "metadata": {
    "collapsed": false
   },
   "source": [
    "<br>\n",
    "Notice that <em>SageMath</em> sorts the elements, first listing the identity, then the transposition which exchanges 1 and 2, then the permutations which change \n",
    "only the first three elements, and finally the permutations which move the fourth element. But if we look closely we can find even more patterns. \n",
    "For example, the last six elements are the six elements which map 4 into 1. Can you see any other patterns?<br><br>\n",
    "\n",
    "<em>SageMath</em> uses a predefined order to list all of the permutations.  As a result, we can number the permutations as follows:<br><br>\n",
    "\n",
    "<table align=\"center\" border=\"0\">\n",
    "  <tr>\n",
    "    <td align=\"right\">1<sup>st</sup> permutation = </td>\n",
    "    <td align=\"left\">&ensp;<em>P</em>( )</td>\n",
    "  </tr>\n",
    "  <tr>\n",
    "    <td align=\"right\">2<sup>nd</sup> permutation = </td>\n",
    "    <td align=\"left\">&ensp;<em>P</em>(2, 1)</td>\n",
    "  </tr>\n",
    "  <tr>\n",
    "    <td align=\"right\">3<sup>rd</sup> permutation = </td>\n",
    "    <td align=\"left\">&ensp;<em>P</em>(1, 3, 2)</td>\n",
    "  </tr>\n",
    "  <tr>\n",
    "    <td align=\"right\">4<sup>th</sup> permutation = </td>\n",
    "    <td align=\"left\">&ensp;<em>P</em>(3, 1, 2)</td>\n",
    "  </tr>\n",
    "  <tr>\n",
    "    <td align=\"right\">5<sup>th</sup> permutation = </td>\n",
    "    <td align=\"left\">&ensp;<em>P</em>(2, 3, 1)</td>\n",
    "  </tr>\n",
    "  <tr>\n",
    "    <td align=\"right\">6<sup>th</sup> permutation = </td>\n",
    "    <td align=\"left\">&ensp;<em>P</em>(3, 2, 1)</td>\n",
    "  </tr>\n",
    "  <tr>\n",
    "    <td align=\"right\">7<sup>th</sup> permutation = </td>\n",
    "    <td align=\"left\">&ensp;<em>P</em>(1, 2, 4, 3)</td>\n",
    "  </tr>\n",
    "  <tr>\n",
    "    <td align=\"right\">&hellip;&hellip;&hellip; </td>\n",
    "    <td align=\"left\">&hellip;&hellip;&hellip;</td>\n",
    "  </tr>\n",
    "  <tr>\n",
    "    <td align=\"right\">24<sup>th</sup> permutation = </td>\n",
    "    <td align=\"left\">&ensp;<em>P</em>(4, 3, 2, 1)</td>\n",
    "  </tr>        \n",
    "</table>\n",
    "<br>\n",
    "In this list the first 2 elements give the group <em>S</em><sub>2</sub>, the first 6 give  <em>S</em><sub>3</sub>, and the first 24 elements give  <em>S</em><sub>4</sub>.\n",
    "This pattern can be extended to higher order permutations, so that the first <em>n!</em> permutations gives the group <em>S<sub>n</sub></em>.<br><br>\n",
    " \n",
    "The advantage of sorting the permutations in this way is that <em>SageMath</em> can quickly find the <em>n</em><sup>th</sup> permutation without having to find any of the \n",
    "previous permutations.  For example, to find out what the 2000th permutation would be on this list, type<br>"
   ]
  },
  {
   "cell_type": "code",
   "execution_count": 0,
   "id": "8385d8",
   "metadata": {
    "collapsed": false
   },
   "outputs": [
   ],
   "source": [
    "NthPerm(2000)"
   ]
  },
  {
   "cell_type": "markdown",
   "id": "aa9724",
   "metadata": {
    "collapsed": false
   },
   "source": [
    "<br>\n",
    "<em>SageMath</em> can also determine where a given permutation is on the list of permutations. The command <strong>PermToInt</strong>( P(&hellip;&hellip;&hellip;) ) converts \n",
    "a permutation to a number.  For example,<br>"
   ]
  },
  {
   "cell_type": "code",
   "execution_count": 0,
   "id": "9a938b",
   "metadata": {
    "collapsed": false
   },
   "outputs": [
   ],
   "source": [
    "PermToInt(P(4,1,7,6,3,2,5))"
   ]
  },
  {
   "cell_type": "markdown",
   "id": "03a3fc",
   "metadata": {
    "collapsed": false
   },
   "source": [
    "converts the permutation back to the number 2000.<br>\n",
    "\n",
    "We now have found a way of abbreviating permutations.  Rather than spelling out where each element is mapped, we can give a single number that describes where the \n",
    "permutation is on the list of permutations. This will be called the <em>integer representation</em> of the permutation. Although this representation hides most of \n",
    "the information about the permutation, <em>SageMath</em> can quickly recover all of the information needed to do group operations.<br><br>\n",
    "\n",
    "For example, suppose we want to multiply the 3<sup>rd</sup> permutation with the 21<sup>st</sup>. We could enter the command<br>"
   ]
  },
  {
   "cell_type": "code",
   "execution_count": 0,
   "id": "285484",
   "metadata": {
    "collapsed": false
   },
   "outputs": [
   ],
   "source": [
    "NthPerm(3) * NthPerm(21)"
   ]
  },
  {
   "cell_type": "markdown",
   "id": "0ae1cf",
   "metadata": {
    "collapsed": false
   },
   "source": [
    "<br>\n",
    "We could convert this back to a number as follows:<br>"
   ]
  },
  {
   "cell_type": "code",
   "execution_count": 0,
   "id": "f6d9ee",
   "metadata": {
    "collapsed": false
   },
   "outputs": [
   ],
   "source": [
    "PermToInt( NthPerm(3) * NthPerm(21) )"
   ]
  },
  {
   "cell_type": "markdown",
   "id": "902cd9",
   "metadata": {
    "collapsed": false
   },
   "source": [
    "<br>\n",
    "So the 3<sup>rd</sup> permutation times the 21<sup>st</sup> permutation gives the 23<sup>rd</sup> permutation. If we multiplied in the other order, we would have<br>"
   ]
  },
  {
   "cell_type": "code",
   "execution_count": 0,
   "id": "e9ce8f",
   "metadata": {
    "collapsed": false
   },
   "outputs": [
   ],
   "source": [
    "PermToInt( NthPerm(21) * NthPerm(3) )"
   ]
  },
  {
   "cell_type": "markdown",
   "id": "018712",
   "metadata": {
    "collapsed": false
   },
   "source": [
    "<br>\n",
    "So the 21<sup>st</sup> permutation times the 3<sup>rd</sup> permutation gives the 19<sup>th</sup> permutation.<br>\n",
    "<br>\n",
    " \n",
    "EXPERIMENT:<br>\n",
    "Try entering in different numbers in place of 21 and 3, to see what happens.<br>"
   ]
  },
  {
   "cell_type": "markdown",
   "id": "c41990",
   "metadata": {
    "collapsed": false
   },
   "source": [
    "<br>\n",
    "<em>SageMath</em> provides an abbreviation to the permutations.  By setting the variable <strong>DisplayPermInt</strong> to true, permutations will be displayed as \n",
    "their integer counterpart.<br>"
   ]
  },
  {
   "cell_type": "code",
   "execution_count": 0,
   "id": "bcfcd0",
   "metadata": {
    "collapsed": false
   },
   "outputs": [
   ],
   "source": [
    "DisplayPermInt = true"
   ]
  },
  {
   "cell_type": "code",
   "execution_count": 0,
   "id": "9c1e7b",
   "metadata": {
    "collapsed": false
   },
   "outputs": [
   ],
   "source": [
    "P(4,1,7,6,3,2,5)"
   ]
  },
  {
   "cell_type": "markdown",
   "id": "26c21b",
   "metadata": {
    "collapsed": false
   },
   "source": [
    "<br>\n",
    "Now many of <em>SageMath</em>'s operations can be done with integer abreviation of the elements.  For example, we found that the quaternionic group <em>Q</em> was \n",
    "isomorphic to a subgroup of <em>S</em><sub>8</sub>, generated by the elements \n",
    "<p style='text-align: center;'>(1 2 5 6)(3 4 7 8) and (1 3 5 7)(2 8 6 4).</p> \n",
    "We first convert these cycles to permutations, which will display as integers.<br>"
   ]
  },
  {
   "cell_type": "code",
   "execution_count": 0,
   "id": "7c49e3",
   "metadata": {
    "collapsed": false
   },
   "outputs": [
   ],
   "source": [
    "CycleToPerm( C(1,2,5,6)*C(3,4,7,8) )"
   ]
  },
  {
   "cell_type": "code",
   "execution_count": 0,
   "id": "0a4d60",
   "metadata": {
    "collapsed": false
   },
   "outputs": [
   ],
   "source": [
    "CycleToPerm( C(1,3,5,7)*C(2,8,6,4) )"
   ]
  },
  {
   "cell_type": "markdown",
   "id": "1d771c",
   "metadata": {
    "collapsed": false
   },
   "source": [
    "<br>\n",
    "So we find that the quaternionic group contains the 25827<sup>th</sup> and 14805<sup>th</sup> permutations.  Now we can form the group using these two permutaions as generators.<br>"
   ]
  },
  {
   "cell_type": "code",
   "execution_count": 0,
   "id": "24d9b2",
   "metadata": {
    "collapsed": false
   },
   "outputs": [
   ],
   "source": [
    "Q = Group(NthPerm(25827), NthPerm(14805)); Q"
   ]
  },
  {
   "cell_type": "markdown",
   "id": "fb0cfe",
   "metadata": {
    "collapsed": false
   },
   "source": [
    "<br>\n",
    "So the entire group can be given on a single line in a way which expresses the entire structure of the group. We can see the Cayley table of the group<br>"
   ]
  },
  {
   "cell_type": "code",
   "execution_count": 0,
   "id": "6fd049",
   "metadata": {
    "collapsed": false
   },
   "outputs": [
   ],
   "source": [
    "CayleyTable(Q)"
   ]
  },
  {
   "cell_type": "markdown",
   "id": "3d6ef3",
   "metadata": {
    "collapsed": false
   },
   "source": [
    "<br>\n",
    "and see that the group is isomorphic to <em>Q</em>.  This integer representation is succinct enough to form such a table, and has many other advantages over cyclic \n",
    "permutations, especially when we are working with large subgroups of the symmetric groups.  Not only is it much easier to identify two elements as being the same, \n",
    "but also the elements do not take up as much room to display.<br><br>\n",
    "\n",
    "We can return to the standard notation for permutations by setting <strong>DisplayPermInt</strong> to false.<br>"
   ]
  },
  {
   "cell_type": "code",
   "execution_count": 0,
   "id": "d551f5",
   "metadata": {
    "collapsed": false
   },
   "outputs": [
   ],
   "source": [
    "DisplayPermInt = false"
   ]
  },
  {
   "cell_type": "code",
   "execution_count": 0,
   "id": "264912",
   "metadata": {
    "collapsed": false
   },
   "outputs": [
   ],
   "source": [
    "CayleyTable(Q)"
   ]
  },
  {
   "cell_type": "markdown",
   "id": "445c28",
   "metadata": {
    "collapsed": false
   },
   "source": [
    "<br>\n",
    "This multiplication table is harder to read.  Thus, it is worthwhile to introduce the new representation.<br><br>\n",
    "\n",
    "There are simple algorithms to convert from the permutation representation to the integer representation and back without a computer.  We begin by presenting a method of converting from a permutation to a integer.<br><br>\n",
    "\n",
    "EXAMPLE:<br>\n",
    "\n",
    "Demonstrate without <em>SageMath</em> that P(4, 1, 7, 6, 3, 2, 5) is the 2000<sup>th</sup> permutation.<br><br>\n",
    "\n",
    "For each number in the permutation, we count how many numbers further left are larger than that number.  For example, the 4 has no numbers further left, so the count \n",
    "would be 0.  The 3, however, has three numbers to the left of it which are larger, namely 4, 7, and 6.\n",
    "Here are the results of these counts.\n",
    "<p style='text-align: center;'>P(4, 1, 7, 6, 3, 2, 5)<br>\n",
    "                                 &ensp;0&ensp;&thinsp;1&ensp;&thinsp;0&ensp;&thinsp;1&ensp;&thinsp;3&ensp;&thinsp;4&ensp;&thinsp;2</p>\n",
    "Next, we multiply each of these counts by (<em>n</em> &minus; 1)!, and add the products together, and finally add 1.  Thus, \n",
    "<p style='text-align: center;'>0 &middot; 0! + 1 &middot; 1! + 0 &middot; 2! + 1 &middot; 3! + 3 &middot; 4! + 4 &middot; 5! + 2 &middot; 6! + 1 = 2000.</p>\n",
    "<br>\n",
    "A similar algorithm reverses the procedure, and determines the <em>n</em><sup>th</sup> permutation.<br><br>\n",
    "\n",
    "EXAMPLE:<br>\n",
    "Determine the 4000<sup>th</sup> permutation without <em>SageMath</em>.<br><br>\n",
    "\n",
    "We begin by subtracting 1, then using the division algorithm to successively divide by 2, 3, 4, etc., until the quotient is 0.<br><br>\n",
    "\n",
    "<table align=\"center\" border=\"0\">\n",
    "  <tr>\n",
    "    <td align=\"right\">3999 = 2 &middot;</td>\n",
    "    <td align=\"right\">1999 + 1</td>\n",
    "  </tr>\n",
    "  <tr>\n",
    "    <td align=\"right\">1999 = 3 &middot;</td>\n",
    "    <td align=\"right\">666 + 1</td>\n",
    "  </tr>\n",
    "  <tr>\n",
    "    <td align=\"right\">666 = 4 &middot;</td>\n",
    "    <td align=\"right\">166 + 2</td>\n",
    "  </tr>\n",
    "  <tr>\n",
    "    <td align=\"right\">166 = 5 &middot;</td>\n",
    "    <td align=\"right\">33 + 1</td>\n",
    "  </tr>\n",
    "  <tr>\n",
    "    <td align=\"right\">33 = 6 &middot;</td>\n",
    "    <td align=\"right\">5 + 3</td>\n",
    "  </tr>\n",
    "  <tr>\n",
    "    <td align=\"right\">5 = 7 &middot;</td>\n",
    "    <td align=\"right\">0 + 5</td>\n",
    "  </tr>        \n",
    "</table>\n",
    "\n",
    "<br>\n",
    "The sequence of remainders produced is called the <em>Cantor representation</em> of <em>n</em> &minus; 1.  Since the last division was by <em>n</em> = 7, the permutation is in <em>S</em><sub>7</sub>.  We will use the remainders to determine the permutation, starting from the \n",
    "last remainder, and working towards the first.  We start with a list of numbers from 1 to <em>n</em>:  \n",
    "<p style='text-align: center;'>{1, 2, 3, 4, 5, 6, 7}</p>\n",
    "\n",
    "For each remainder <em>m</em>, we \n",
    "consider the (<em>m</em> + 1)<sup>st</sup> largest number in the list which has not been crossed out.  Since the last remainder is 5, we take the 6<sup>th</sup> largest number, which is 2.  This eliminates 2 from the list.<br><br>\n",
    "\n",
    "<table align=\"center\" border=\"0\">\n",
    "  <tr>\n",
    "    <td align=\"right\">3999 = 2 &middot;</td>\n",
    "    <td align=\"right\">1999 + 1</td>\n",
    "    <td></td>\n",
    "  </tr>\n",
    "  <tr>\n",
    "    <td align=\"right\">1999 = 3 &middot;</td>\n",
    "    <td align=\"right\">666 + 1</td>\n",
    "    <td></td>\n",
    "  </tr>\n",
    "  <tr>\n",
    "    <td align=\"right\">666 = 4 &middot;</td>\n",
    "    <td align=\"right\">166 + 2</td>\n",
    "    <td></td>\n",
    "  </tr>\n",
    "  <tr>\n",
    "    <td align=\"right\">166 = 5 &middot;</td>\n",
    "    <td align=\"right\">33 + 1</td>\n",
    "    <td></td>\n",
    "  </tr>\n",
    "  <tr>\n",
    "    <td align=\"right\">33 = 6 &middot;</td>\n",
    "    <td align=\"right\">5 + 3</td>\n",
    "    <td></td>\n",
    "  </tr>\n",
    "  <tr>\n",
    "    <td align=\"right\">5 = 7 &middot;</td>\n",
    "    <td align=\"right\">0 + 5</td>\n",
    "    <td align=\"left\"> &#10233; 2</td>\n",
    "  </tr>        \n",
    "</table>  \n",
    "<p style='text-align: center;'>{1, <font style=\"text-decoration:line-through\">2</font>, 3, 4, 5, 6, 7}</p>\n",
    "\n",
    "Here is the result after processing two more remainders.\n",
    "\n",
    "<table align=\"center\" border=\"0\">\n",
    "  <tr>\n",
    "    <td align=\"right\">3999 = 2 &middot;</td>\n",
    "    <td align=\"right\">1999 + 1</td>\n",
    "    <td></td>\n",
    "  </tr>\n",
    "  <tr>\n",
    "    <td align=\"right\">1999 = 3 &middot;</td>\n",
    "    <td align=\"right\">666 + 1</td>\n",
    "    <td></td>\n",
    "  </tr>\n",
    "  <tr>\n",
    "    <td align=\"right\">666 = 4 &middot;</td>\n",
    "    <td align=\"right\">166 + 2</td>\n",
    "    <td></td>\n",
    "  </tr>\n",
    "  <tr>\n",
    "    <td align=\"right\">166 = 5 &middot;</td>\n",
    "    <td align=\"right\">33 + 1</td>\n",
    "    <td align=\"left\"> &#10233; 6</td>\n",
    "  </tr>\n",
    "  <tr>\n",
    "    <td align=\"right\">33 = 6 &middot;</td>\n",
    "    <td align=\"right\">5 + 3</td>\n",
    "    <td align=\"left\"> &#10233; 4</td>\n",
    "  </tr>\n",
    "  <tr>\n",
    "    <td align=\"right\">5 = 7 &middot;</td>\n",
    "    <td align=\"right\">0 + 5</td>\n",
    "    <td align=\"left\"> &#10233; 2</td>\n",
    "  </tr>        \n",
    "</table>  \n",
    "<p style='text-align: center;'>{1, <font style=\"text-decoration:line-through\">2</font>, 3, <font style=\"text-decoration:line-through\">4</font>, 5, <font style=\"text-decoration:line-through\">6</font>, 7}</p>\n",
    "\n",
    "The next remainder is 2, so we take the 3<sup>rd</sup> largest number which is not crossed out, which is 3.  Continuing, we get the following.<br><br>\n",
    "\n",
    "<table align=\"center\" border=\"0\">\n",
    "  <tr>\n",
    "    <td align=\"right\">3999 = 2 &middot;</td>\n",
    "    <td align=\"right\">1999 + 1</td>\n",
    "    <td align=\"left\"> &#10233; 1</td>\n",
    "  </tr>\n",
    "  <tr>\n",
    "    <td align=\"right\">1999 = 3 &middot;</td>\n",
    "    <td align=\"right\">666 + 1</td>\n",
    "    <td align=\"left\"> &#10233; 5</td>\n",
    "  </tr>\n",
    "  <tr>\n",
    "    <td align=\"right\">666 = 4 &middot;</td>\n",
    "    <td align=\"right\">166 + 2</td>\n",
    "    <td align=\"left\"> &#10233; 3</td>\n",
    "  </tr>\n",
    "  <tr>\n",
    "    <td align=\"right\">166 = 5 &middot;</td>\n",
    "    <td align=\"right\">33 + 1</td>\n",
    "    <td align=\"left\"> &#10233; 6</td>\n",
    "  </tr>\n",
    "  <tr>\n",
    "    <td align=\"right\">33 = 6 &middot;</td>\n",
    "    <td align=\"right\">5 + 3</td>\n",
    "    <td align=\"left\"> &#10233; 4</td>\n",
    "  </tr>\n",
    "  <tr>\n",
    "    <td align=\"right\">5 = 7 &middot;</td>\n",
    "    <td align=\"right\">0 + 5</td>\n",
    "    <td align=\"left\"> &#10233; 2</td>\n",
    "  </tr>        \n",
    "</table>  \n",
    "<p style='text-align: center;'>{<font style=\"text-decoration:line-through\">1</font>, <font style=\"text-decoration:line-through\">2</font>, <font style=\"text-decoration:line-through\">3</font>, <font style=\"text-decoration:line-through\">4</font>, <font style=\"text-decoration:line-through\">5</font>, <font style=\"text-decoration:line-through\">6</font>, 7}</p> \n",
    "\n",
    "The only number not crossed out is 7, which becomes the first number in the permutation. The rest of the permutation can be read from the new numbers from top to bottom, producing P(7, 1, 5, 3, 6, 4, 2).<br><br>\n",
    "\n",
    "EXPERIMENT:<br>\n",
    "Use the method of the previous example to verify that P(7, 1, 5, 3, 6, 4, 2) is indeed the 4000<sup>th</sup> permutation.<br><br>\n",
    "\n",
    "The simple algorithms for converting permutations to integers and back make this association more natural. It also explains why <em>SageMath</em> is able to convert \n",
    "permutations so quickly."
   ]
  },
  {
   "cell_type": "markdown",
   "id": "7af131",
   "metadata": {
    "collapsed": false
   },
   "source": [
    "<br><br><br><br><br><br><br><br><br><br><br><br><br><br><br><br><br><br><br><br><br><br><br><br><br><br><br><br><br><br><br><br><br><br><br><br><br><br><br><br><br><br>"
   ]
  },
  {
   "cell_type": "markdown",
   "id": "d539b7",
   "metadata": {
    "collapsed": false
   },
   "source": [
    "<h1>Proofs:</h1>"
   ]
  },
  {
   "cell_type": "markdown",
   "id": "d06c6e",
   "metadata": {
    "collapsed": false
   },
   "source": [
    "<a name=\"lem61\" id=\"lem61\"></a>\n",
    "\n",
    "Proof of Lemma 6.1:<br><br>\n",
    "\n",
    "Let us say that <em>x</em> fixes the integer <em>i</em> if <em>x</em>(<em>i</em>) = <em>i</em>. We will use induction on the number of integers not left fixed \n",
    "by <em>x</em>, denoted by <em>m</em>. Because <em>x</em> is not the identity, there is at least one integer not fixed by <em>x</em>. In fact, <em>m</em> must \n",
    "be at least 2, for the first integer must have somewhere to go.<br><br>\n",
    "\n",
    "If <em>m</em> = 2, then only two numbers <em>i</em><sub>1</sub> and <em>i</em><sub>2</sub> are moved. Since these are the only two integers not fixed, <em>x</em> must be \n",
    "a 2-cycle (<em>i</em><sub>1</sub> <em>i</em><sub>2</sub>).<br><br>\n",
    "\n",
    "We now will assume by induction that the lemma is true whenever the number of integers not left fixed by <em>x</em> is fewer than <em>m</em>. Let <em>i</em><sub>1</sub>\n",
    "be one integer that is not fixed, and let <em>i</em><sub>2</sub> = <em>x</em>(<em>i</em><sub>1</sub>). Then <em>x</em>(<em>i</em><sub>2</sub>) cannot be \n",
    "<em>i</em><sub>2</sub> for <em>x</em> is one-to-one, and if <em>x</em>(<em>i</em><sub>2</sub>) is not <em>i</em><sub>1</sub>, we define \n",
    "<em>i</em><sub>3</sub> = <em>x</em>(<em>i</em><sub>2</sub>).  Likewise, <em>x</em>(<em>i</em><sub>3</sub>) cannot be either <em>i</em><sub>2</sub> or \n",
    "<em>i</em><sub>3</sub>, since <em>x</em> is one-to-one.  If <em>x</em>(<em>i</em><sub>3</sub>) is not <em>i</em><sub>1</sub>, we define \n",
    "<em>i</em><sub>4</sub> = <em>x</em>(<em>i</em><sub>3</sub>).<br><br>\n",
    " \n",
    "Eventually this process must stop, for there are only <em>m</em> elements that are not fixed by <em>x</em>. Thus, there must be some value <em>k</em> such that \n",
    "<em>x</em>(<em>i<sub>k</sub></em>) = <em>i</em><sub>1</sub>. Define the permutation <em>y</em> to be the <em>k</em>-cycle \n",
    "(<em>i</em><sub>1</sub> <em>i</em><sub>2</sub> <em>i</em><sub>3</sub> &hellip; <em>i<sub>k</sub></em>).  Then <em>x</em>&middot;<em>y</em><sup>-1</sup> fixes \n",
    "all of the integers fixed by <em>x</em>, along with <em>i</em><sub>1</sub>, <em>i</em><sub>2</sub>, <em>i</em><sub>3</sub>, &hellip; <em>i<sub>k</sub></em>.\n",
    "By induction, since there are fewer integers not fixed by <em>x</em>&middot;<em>y</em><sup>-1</sup> than by <em>x</em>, <em>x</em>&middot;<em>y</em><sup>-1</sup>\n",
    "can be espressed by a series of nontrivial disjoint cycles \n",
    "<em>c</em><sub>1</sub>&middot;<em>c</em><sub>2</sub>&middot;<em>c</em><sub>3</sub>&middot;&hellip;&middot;<em>c<sub>t</sub></em>.  Moreover, the integers appearing \n",
    "in <em>c</em><sub>1</sub>&middot;<em>c</em><sub>2</sub>&middot;<em>c</em><sub>3</sub>&middot;&hellip;&middot;<em>c<sub>t</sub></em> are just those that are not fixed \n",
    "by <em>x</em>&middot;<em>y</em><sup>-1</sup>. Thus, <em>c</em><sub>1</sub>, <em>c</em><sub>2</sub>, <em>c</em><sub>3</sub>, &hellip;, <em>c<sub>t</sub></em>\n",
    "are disjoint from <em>y</em>.  Finally, we have\n",
    "<p style='text-align: center;'><em>x</em> = \n",
    "<em>y</em>&middot;<em>c</em><sub>1</sub>&middot;<em>c</em><sub>2</sub>&middot;<em>c</em><sub>3</sub>&middot;&hellip;&middot;<em>c<sub>t</sub></em>.</p>\n",
    "Therefore, <em>x</em> can be written as a product of disjoint nontrivial cycles. By induction, every permutation besides the identity can be written as a product \n",
    "of nontrivial disjoint cycles.<br><br>\n",
    "\n",
    "For the uniqueness, suppose that a permutation <em>x</em> has two ways of being written is terms of nontrivial disjoint cycles:\n",
    "<p style='text-align: center;'><em>x</em> = <em>c</em><sub>1</sub>&middot;<em>c</em><sub>2</sub>&middot;<em>c</em><sub>3</sub>&middot;&hellip;&middot;<em>c<sub>r</sub></em>\n",
    "= <em>d</em><sub>1</sub>&middot;<em>d</em><sub>2</sub>&middot;<em>d</em><sub>3</sub>&middot;&hellip;&middot;<em>d<sub>s</sub></em>.</p>\n",
    "For any integer <em>i</em><sub>1</sub>  not fixed by <em>x</em>, one and only one cycle must contain <em>i</em><sub>1</sub>.  Suppose that cycle is \n",
    "<em>c<sub>j</sub></em> = (<em>i</em><sub>1</sub>, <em>i</em><sub>2</sub>, <em>i</em><sub>3</sub>, &hellip; <em>i<sub>q</sub></em>).  But by the way we constructed \n",
    "the cycles above, this cycle must also be one of the <em>d<sub>k</sub></em>'s.  Thus, each cycle <em>c<sub>j</sub></em> is equal to \n",
    "<em>d<sub>k</sub></em> for some <em>k</em>. By symmetry, each <em>d<sub>k</sub></em> is equal to <em>c<sub>j</sub></em> for some <em>j</em>. Thus, the two ways of \n",
    "writing <em>x</em> in terms of nontrivial disjoint cycles are merely rearrangements of the cycles.<br><br>\n",
    "\n",
    "<a href=\"#lem61ret\">Return to text</a>"
   ]
  },
  {
   "cell_type": "markdown",
   "id": "ce3032",
   "metadata": {
    "collapsed": false
   },
   "source": [
    "<br><br><br><br><br><br><br><br><br><br><br><br><br><br><br><br><br><br><br><br><br><br><br><br><br><br><br><br><br><br><br><br><br><br><br><br><br><br><br><br><br><br>"
   ]
  },
  {
   "cell_type": "markdown",
   "id": "1e3122",
   "metadata": {
    "collapsed": false
   },
   "source": [
    "<a name=\"lem62\" id=\"lem62\"></a>\n",
    "Proof of Lemma 6.2:<br><br>\n",
    "\n",
    "We need to show that every element of <em>S<sub>n</sub></em> can be written as a product of transpositions.  The identity element can be written as <nobr>(1 2)(1 2),</nobr> so we let \n",
    "<em>x</em> be a permutation that is not the identity.  By Lemma 6.1, we can express <em>x</em> as a product of nontrivial disjoint cycles:\n",
    "<p style='text-align: center;'><em>x</em> = (<em>i</em><sub>1</sub> <em>i</em><sub>2</sub> <em>i</em><sub>3</sub> &hellip; \n",
    "<em>i<sub>r</sub></em>)&middot;(<em>j</em><sub>1</sub> <em>j</em><sub>2</sub> &hellip; <em>j<sub>s</sub></em>)&middot;(<em>k</em><sub>1</sub> <em>k</em><sub>2</sub> \n",
    "&hellip; <em>k<sub>t</sub></em>)&middot;&hellip;.</p>\n",
    "Now, consider the product of transpositions\n",
    "<p style='text-align: center;'>(<em>i</em><sub>1</sub> <em>i</em><sub>2</sub>)&middot;(<em>i</em><sub>2</sub> \n",
    "<em>i</em><sub>3</sub>)&middot; &#8943; &middot;(<em>i</em><sub><em>r</em>&minus;1</sub> <em>i<sub>r</sub></em>)&middot;(<em>j</em><sub>1</sub> \n",
    "<em>j</em><sub>2</sub>)&middot;(<em>j</em><sub>2</sub> <em>j</em><sub>3</sub>)&middot; &#8943; &middot;(<em>j</em><sub><em>s</em>&minus;1</sub> \n",
    "<em>j<sub>s</sub></em>)&middot;(<em>k</em><sub>1</sub> <em>k</em><sub>2</sub>)&middot; &#8943; &middot;(<em>k</em><sub><em>t</em>&minus;1</sub> <em>k<sub>t</sub></em>)&middot; &#8943; .</p>\n",
    "Note that this product is equal to <em>x</em>. (Recall that we are working from right to left.)  Therefore, we have expressed every element of <em>S<sub>n</sub></em>\n",
    "as a product of transpositions.<br><br>\n",
    "\n",
    "<a href=\"#lem62ret\">Return to text</a>"
   ]
  },
  {
   "cell_type": "markdown",
   "id": "f31100",
   "metadata": {
    "collapsed": false
   },
   "source": [
    "<br><br><br><br><br><br><br><br><br><br><br><br><br><br><br><br><br><br><br><br><br><br><br><br><br><br><br><br><br><br><br><br><br><br><br><br><br><br><br><br><br><br>"
   ]
  },
  {
   "cell_type": "markdown",
   "id": "52becf",
   "metadata": {
    "collapsed": false
   },
   "source": [
    "<a name=\"lem63\" id=\"lem63\"></a>\n",
    "Proof of Lemma 6.3:<br><br>\n",
    "\n",
    "Since <em>S</em><sub>2</sub> only contains one transposition, (1 2), raising this to an odd power will not be the identity element, so the lemma is true for the case \n",
    "<em>n</em> = 2.  So by induction we can assume that the lemma is true for <em>S</em><sub><em>n</em>&minus;1</sub>.  Suppose that there is an odd number of transpositions \n",
    "producing the identity in <em>S<sub>n</sub></em>.  Then we can find such a product that uses the fewest number of transpositions, say <em>k</em> transpositions, \n",
    "with <em>k</em> odd.  At least one transposition will \n",
    "involve moving <em>n</em>, since the lemma is true for <em>S</em><sub><em>n</em>&minus;1</sub>.  \n",
    "Suppose that the <em>m</em><sup>th</sup> transposition is the last one that \n",
    "moves <em>n</em>.  If <em>m</em> = 1, then only the first transposition moves <em>n</em>, so the product will also move <em>n</em>, so the product cannot be the identity.  We \n",
    "will now use induction on <em>m</em>.  That is, \n",
    "we will assume that no product of <em>k</em> transpositions can be the identity for a smaller <em>m</em>.   But then the (<em>m</em> &minus; 1)<sup>st</sup> \n",
    "and <em>m</em><sup>th</sup> transpositions are one of the four possibilities\n",
    "<p style='text-align: center;'>(<em>n</em> <em>x</em>)(<em>n</em> <em>x</em>), (<em>n</em> <em>x</em>)(<em>n</em> <em>y</em>), \n",
    "(<em>x</em> <em>y</em>)(<em>n</em> <em>x</em>), or (<em>y</em> <em>x</em>)(<em>n</em> <em>x</em>)</p>\n",
    "for some <em>x</em>, <em>y</em>, and <em>z</em>.  In the first case, the two transpositions cancel, so we can form a product using a fewer number of transpositions.  In \n",
    "the other three cases, we can replace the pair with another pair,\n",
    "<p style='text-align: center;'>(<em>n</em> <em>x</em>)(<em>n</em> <em>y</em>) = (<em>n</em> <em>y</em>)(<em>x</em> <em>y</em>);&emsp; \n",
    "(<em>x</em> <em>y</em>)(<em>n</em> <em>x</em>) = (<em>n</em> <em>y</em>)(<em>x</em> <em>y</em>);&emsp;\n",
    "(<em>y</em> <em>z</em>)(<em>n</em> <em>x</em>) = (<em>n</em> <em>x</em>)(<em>y</em> <em>z</em>);</p>\n",
    "for which <em>m</em> is smaller.  Thus, there is no odd product of transpositions in <em>S<sub>n</sub></em> equaling the identity.<br><br>\n",
    "  \n",
    "<a href=\"#lem63ret\">Return to text</a>"
   ]
  },
  {
   "cell_type": "markdown",
   "id": "179bf1",
   "metadata": {
    "collapsed": false
   },
   "source": [
    "<br><br><br><br><br><br><br><br><br><br><br><br><br><br><br><br><br><br><br><br><br><br><br><br><br><br><br><br><br><br><br><br><br><br><br><br><br><br><br><br><br><br>"
   ]
  },
  {
   "cell_type": "markdown",
   "id": "76c336",
   "metadata": {
    "collapsed": false
   },
   "source": [
    "<a name=\"theor61\" id=\"theor61\"></a>\n",
    "Proof of Theorem 6.1:<br><br>  \n",
    "  \n",
    "By Lemma 6.2, every element of <em>S<sub>n</sub></em> can be written as a product of transpositions, so <em>&sigma;</em>(<em>x</em>) is well defined.  Obviously this \n",
    "maps <em>S<sub>n</sub></em> to {&minus;1, 1}, so we only need to establish that this is a homomorphism.  Suppose that \n",
    "<p style='text-align: center;'><em>&sigma;</em>(<em>x</em>&middot;<em>y</em>) &ne; <em>&sigma;</em>(<em>x</em>)&middot;<em>&sigma;</em>(<em>y</em>).</p> \n",
    "Then <em>N</em>(<em>x</em>&middot;<em>y</em>) &minus; (<em>N</em>(<em>x</em>) + <em>N</em>(<em>y</em>)) would be an odd number.  Since \n",
    "<em>N</em>(<em>x</em><sup>-1</sup>) = <em>N</em>(<em>x</em>), we would also have <em>N</em>(<em>x</em>&middot;<em>y</em>) + (<em>N</em>(<em>y</em><sup>-1</sup>) + \n",
    "<em>N</em>(<em>x</em><sup>-1</sup>))\n",
    "being an odd number. But then we would have three sets of transpositions, totaling an odd number, which when strung together produce \n",
    "<em>x</em>&middot;<em>y</em>&middot;<em>y</em><sup>-1</sup>&middot;<em>x</em><sup>-1</sup> = ( ).  This contradicts Lemma 6.3, so in fact \n",
    "<em>&sigma;</em>(<em>x</em>&middot;<em>y</em>) = <em>&sigma;</em>(<em>x</em>)&middot;<em>&sigma;</em>(<em>y</em>) for all <em>x</em> and <em>y</em> in \n",
    "<em>S<sub>n</sub></em>.<br><br>\n",
    "  \n",
    "<a href=\"#theor61ret\">Return to text</a>  "
   ]
  },
  {
   "cell_type": "markdown",
   "id": "591670",
   "metadata": {
    "collapsed": false
   },
   "source": [
    "<br><br><br><br><br><br><br><br><br><br><br><br><br><br><br><br><br><br><br><br><br><br><br><br><br><br><br><br><br><br><br><br><br><br><br><br><br><br><br><br><br><br>"
   ]
  },
  {
   "cell_type": "markdown",
   "id": "61fadb",
   "metadata": {
    "collapsed": false
   },
   "source": [
    "<a name=\"cor61\" id=\"cor61\"></a>\n",
    "Proof of Corollary 6.1:<br><br>    \n",
    " \n",
    "Clearly, <em>A<sub>n</sub></em> is a normal subgroup of <em>S<sub>n</sub></em>, since <em>A<sub>n</sub></em> is the kernel of the signature homomorphism.  \n",
    "Also if <em>n</em> > 1, then <em>S<sub>n</sub></em> contains at least one transposition whose signature would be &minus;1. Thus, the image of the \n",
    "homomorphism is {1, &minus;1}.  This group is isomorphic to <em>Z</em><sub>2</sub>. Then by the first isomorphism theorem (5.1), \n",
    "<em>S<sub>n</sub></em>/<em>A<sub>n</sub></em> is isomorphic to <em>Z</em><sub>2</sub>.<br><br> \n",
    "  \n",
    "<a href=\"#cor61ret\">Return to text</a>  "
   ]
  },
  {
   "cell_type": "markdown",
   "id": "6dc8f3",
   "metadata": {
    "collapsed": false
   },
   "source": [
    "<br><br><br><br><br><br><br><br><br><br><br><br><br><br><br><br><br><br><br><br><br><br><br><br><br><br><br><br><br><br><br><br><br><br><br><br><br><br><br><br><br><br>"
   ]
  },
  {
   "cell_type": "markdown",
   "id": "9de0f0",
   "metadata": {
    "collapsed": false
   },
   "source": [
    "<a name=\"prop61\" id=\"prop61\"></a>\n",
    "Proof of Proposition 6.1:<br><br>   \n",
    " \n",
    "Since every 3-cycle is a product of two transpositions, every 3-cycle is in <em>A<sub>n</sub></em>. Thus, it is sufficient to show that every element \n",
    "in <em>A<sub>n</sub></em> can be expressed in terms of 3-cycles.  We have already seen that any element can be expressed as a product of an even number of \n",
    "transpositions. Suppose we group these in pairs as follows:\n",
    "<p style='text-align: center;'><em>x</em> = [(<em>i</em><sub>1</sub>&ensp;<em>j</em><sub>1</sub>)&middot;(<em>k</em><sub>1</sub>&ensp;<em>l</em><sub>1</sub>)] &middot; \n",
    "                                            [(<em>i</em><sub>2</sub>&ensp;<em>j</em><sub>2</sub>)&middot;(<em>k</em><sub>2</sub>&ensp;<em>l</em><sub>2</sub>)] &middot;\n",
    "                          &hellip; &middot; [(<em>i<sub>r</sub></em>&ensp;<em>j<sub>r</sub></em>)&middot;(<em>k<sub>r</sub></em>&ensp;<em>l<sub>r</sub></em>)].</p>\n",
    "If we could convert each pair of transpositions into 3-cycles, we would have the permutation <em>x</em> expressed as a product of 3-cycles. \n",
    "There are three cases to consider:<br><br>\n",
    "\n",
    "Case 1: The integers <em>i<sub>m</sub></em>, <em>j<sub>m</sub></em>, <em>k<sub>m</sub></em>, and <em>l<sub>m</sub></em> are all distinct. In this case,\n",
    "<p style='text-align: center;'>(<em>i<sub>m</sub></em>&ensp;<em>j<sub>m</sub></em>)&middot;(<em>k<sub>m</sub></em>&ensp;<em>l<sub>m</sub></em>) = \n",
    "(<em>i<sub>m</sub></em>&ensp;<em>k<sub>m</sub></em>&ensp;<em>l<sub>m</sub></em>)&middot;(<em>i<sub>m</sub></em>&ensp;<em>j<sub>m</sub></em>&ensp;<em>l<sub>m</sub></em>).</p>\n",
    "<br>\n",
    "Case 2: Three of the four integers  <em>i<sub>m</sub></em>, <em>j<sub>m</sub></em>, <em>k<sub>m</sub></em>, and <em>l<sub>m</sub></em> are distinct. The four \n",
    "combinations that would produce this situation are\n",
    "<p style='text-align: center;'><em>i<sub>m</sub></em> = <em>k<sub>m</sub></em>,&emsp;<em>i<sub>m</sub></em> = <em>l<sub>m</sub></em>,&emsp;<em>j<sub>m</sub></em> = \n",
    "<em>k<sub>m</sub></em>,&emsp;or <em>j<sub>m</sub></em> = <em>l<sub>m</sub></em></p>\n",
    "However, these four possibilities are essentially the same, so we only have to check one of these four combinations: <em>i<sub>m</sub></em> = <em>k<sub>m</sub></em>. \n",
    "Then we have\n",
    "<p style='text-align: center;'>(<em>i<sub>m</sub></em>&ensp;<em>j<sub>m</sub></em>)&middot;(<em>i<sub>m</sub></em>&ensp;<em>l<sub>m</sub></em>) = \n",
    "(<em>i<sub>m</sub></em>&ensp;<em>l<sub>m</sub></em>&ensp;<em>j<sub>m</sub></em>).</p>\n",
    "<br>\n",
    "Case 3: Only two of the four integers <em>i<sub>m</sub></em>, <em>j<sub>m</sub></em>, <em>k<sub>m</sub></em>, and <em>l<sub>m</sub></em> are distinct. \n",
    "Then we must either have <em>i<sub>m</sub></em> = <em>k<sub>m</sub></em> and <em>j<sub>m</sub></em> = <em>l<sub>m</sub></em>, or \n",
    "<em>i<sub>m</sub></em> = <em>l<sub>m</sub></em> and <em>j<sub>m</sub></em> = <em>k<sub>m</sub></em>.  In either case, we have\n",
    "<p style='text-align: center;'>(<em>i<sub>m</sub></em>&ensp;<em>j<sub>m</sub></em>)&middot;(<em>k<sub>m</sub></em>&ensp;<em>l<sub>m</sub></em>) = \n",
    "( ) = (1 2 3)&middot;(1 3 2).</p>\n",
    "In all three cases, we were able to express a pair of transpositions in terms of a product of one or two 3-cycles.  Therefore, the permutation <em>x</em> can be \n",
    "written as a product of 3-cycles.<br><br>\n",
    "  \n",
    "<a href=\"#prop61ret\">Return to text</a>"
   ]
  },
  {
   "cell_type": "markdown",
   "id": "6985cd",
   "metadata": {
    "collapsed": false
   },
   "source": [
    "<br><br><br><br><br><br><br><br><br><br><br><br><br><br><br><br><br><br><br><br><br><br><br><br><br><br><br><br><br><br><br><br><br><br><br><br><br><br><br><br><br><br>"
   ]
  },
  {
   "cell_type": "markdown",
   "id": "c1baad",
   "metadata": {
    "collapsed": false
   },
   "source": [
    "<a name=\"theor62\" id=\"theor62\"></a>\n",
    "Proof of Theorem 6.2:<br><br>   \n",
    "  \n",
    "Let <em>G</em> be a group of order <em>n</em>. For each <em>g</em> in <em>G</em>, define the mapping\n",
    "<p style='text-align: center;'><em>p<sub>g</sub></em> : <em>G</em> &rarr; <em>G</em>&emsp;by&emsp;<em>p<sub>g</sub></em>(<em>x</em>) = <em>g</em>&middot;<em>x</em>.</p>\n",
    "For a given <em>g</em>, if <em>p<sub>g</sub></em>(<em>x</em>) = <em>p<sub>g</sub></em>(<em>y</em>), then <em>g</em>&middot;<em>x</em> = <em>g</em>&middot;<em>y</em>, \n",
    "so <em>x</em> = <em>y</em>. Hence, <em>p<sub>g</sub></em> is a one-to-one mapping.  Since <em>G</em> is a finite group, we can use to pigeonhole principle to show that\n",
    "<em>p<sub>g</sub></em> is also onto, and hence is a permutation of the elements of <em>G</em>.<br><br>\n",
    "\n",
    "We now can consider the mapping <em>&#981;</em> from <em>G</em> to the symmetric group <em>S</em><sub>|<em>G</em>|</sub> on the elements of <em>G</em>, given by\n",
    "<p style='text-align: center;'><em>&#981;</em>(<em>g</em>) = <em>p<sub>g</sub></em>.</p>\n",
    "Now, consider two elements <em>&#981;</em>(<em>g</em>) and <em>&#981;</em>(<em>h</em>).  The product of these is the mapping\n",
    "<p style='text-align: center;'><em>x</em> &rarr; (<em>p<sub>g</sub></em>&middot;<em>p<sub>h</sub></em>)(<em>x</em>) = <em>p<sub>g</sub></em>(<em>p<sub>h</sub></em>(<em>x</em>)) = <em>p<sub>g</sub></em>(<em>h</em>&middot;<em>x</em>) = \n",
    "<em>g</em>&middot;(<em>h</em>&middot;<em>x</em>) = (<em>g</em>&middot;<em>h</em>)&middot;<em>x</em>.</p>\n",
    "Since this is the same as <em>&#981;</em>(<em>g</em>&middot;<em>h</em>), <em>&#981;</em> is a homomorphism.<br><br>\n",
    "\n",
    "The element <em>g</em> will be in the kernel of the homomorphism <em>&#981;</em> only if <em>p<sub>g</sub></em>(<em>x</em>) is the identity permutation.  \n",
    "This means that <em>g</em>&middot;<em>x</em> = <em>x</em> for all elements <em>x</em> in <em>G</em>.  Thus, the kernel consists just of the identity element \n",
    "of <em>G</em>, and hence <em>&#981;</em> is an isomorphism.  Therefore, <em>G</em> is isomorphic to a subgroup of <em>S</em><sub>|<em>G</em>|</sub>.<br><br>  \n",
    "  \n",
    "<a href=\"#theor62ret\">Return to text</a>   "
   ]
  },
  {
   "cell_type": "markdown",
   "id": "2b6a4f",
   "metadata": {
    "collapsed": false
   },
   "source": [
    "<br><br><br><br><br><br><br><br><br><br><br><br><br><br><br><br><br><br><br><br><br><br><br><br><br><br><br><br><br><br><br><br><br><br><br><br><br><br><br><br><br><br>"
   ]
  },
  {
   "cell_type": "markdown",
   "id": "2d1519",
   "metadata": {
    "collapsed": false
   },
   "source": [
    "<a name=\"theor63\" id=\"theor63\"></a>\n",
    "Proof of Theorem 6.3:<br><br>     \n",
    "  \n",
    "Let <em>Q</em> be the set of left cosets <em>G</em>/<em>H</em>.  For each <em>g</em> in <em>G</em>, define the mapping\n",
    "<p style='text-align: center;'><em>p<sub>g</sub></em> : <em>Q</em> &rarr; <em>Q</em>&emsp;by&emsp; <em>p<sub>g</sub></em>(<em>x H</em>) = <em>g</em>&middot;<em>x H</em>.</p>\n",
    "Note that this is well defined, since if <em>x H</em> = <em>y H</em>, then <em>g</em>&middot;<em>x H</em> = <em>g</em>&middot;<em>y H</em>.<br><br>\n",
    "\n",
    "For a given <em>g</em>, if <em>p<sub>g</sub></em>(<em>x H</em>) = <em>p<sub>g</sub></em>(<em>y H</em>), then <em>g</em>&middot;<em>x H</em> = <em>g</em>&middot;<em>y H</em>,\n",
    "so <em>x H</em> = <em>y H</em>.  Hence, <em>p<sub>g</sub></em> is a one-to-one mapping.  Since <em>Q</em> is a finite set, by the \n",
    "pigeonhole principle, <em>p<sub>g</sub></em> must also be onto, and hence is a permutation of the elements of <em>Q</em>.<br><br>\n",
    "\n",
    "We now can consider the mapping <em>&#981;</em> from <em>G</em> to the symmetric group <em>S</em><sub>|<em>Q</em>|</sub> on the elements of <em>Q</em>, given by\n",
    "<p style='text-align: center;'><em>&#981;</em>(<em>g</em>) = <em>p<sub>g</sub></em>.</p>\n",
    "Now, consider two elements <em>&#981;</em>(<em>g</em>) and <em>&#981;</em>(<em>h</em>).  The product of these is the mapping\n",
    "<p style='text-align: center;'><em>x H</em> &rarr; (<em>p<sub>g</sub></em>&middot;<em>p<sub>h</sub></em>)(<em>x H</em>) = \n",
    "<em>p<sub>g</sub></em>(<em>p<sub>h</sub></em>(<em>x H</em>)) = <em>p<sub>g</sub></em>(<em>h</em>&middot;<em>x H</em>) = \n",
    "<em>g</em>&middot;(<em>h</em>&middot;<em>x H</em>) = (<em>g</em>&middot;<em>h</em>)&middot;<em>x H</em>.</p>\n",
    "Since this is the same as <em>&#981;</em>(<em>g</em>&middot;<em>h</em>), <em>&#981;</em> is a homomorphism.<br><br>\n",
    "\n",
    "Finally, we must show that the kernel of <em>&#981;</em> is a subgroup of <em>H</em>. The element <em>g</em> will be in the kernel of the homomorphism <em>&#981;</em> \n",
    "only if <em>p<sub>g</sub></em>(<em>x H</em>) is the identity permutation.  This means that <em>g</em>&middot;<em>x H</em> = <em>x H</em> \n",
    "for all right cosets <em>x H</em> in <em>Q</em>.  In particular, the left coset <em>e</em>&middot;<em>H</em> = <em>H</em> is in <em>Q</em>, so\n",
    "<em>g</em>&middot;<em>H</em> = <em>H</em>.  This can only happen if <em>g</em> is in <em>H</em>.  Thus, the kernel is a subgroup of <em>H</em>.  We have found a \n",
    "homomorphism <em>&#981;</em> from the group <em>G</em> to the group <em>S</em><sub>|<em>Q</em>|</sub>, whose kernel is a subgroup of <em>H</em>.<br><br> \n",
    "  \n",
    "<a href=\"#theor63ret\">Return to text</a>   "
   ]
  },
  {
   "cell_type": "markdown",
   "id": "a7e05a",
   "metadata": {
    "collapsed": false
   },
   "source": [
    "<br><br><br><br><br><br><br><br><br><br><br><br><br><br><br><br><br><br><br><br><br><br><br><br><br><br><br><br><br><br><br><br><br><br><br><br><br><br><br><br><br><br>"
   ]
  },
  {
   "cell_type": "markdown",
   "id": "a10b0d",
   "metadata": {
    "collapsed": false
   },
   "source": [
    "<a name=\"cor62\" id=\"cor62\"></a>\n",
    "Proof of Corollary 6.2:<br><br>   \n",
    "  \n",
    "By the generized Cayley's theorem (6.3), there is a homomorphism <em>&#981;</em> from <em>G</em> to <em>S<sub>k</sub></em>, where <em>k</em> = |<em>G</em>|/|<em>H</em>|. Furthermore, the \n",
    "kernel is a subgroup of <em>H</em>.  If we let <em>N</em> be the kernel, and let <em>I</em> be the image of the homomorphism, we have by the first isomorphism \n",
    "theorem (5.1) that \n",
    "<p style='text-align: center;'><em>G</em>/<em>N</em> &asymp; <em>I</em>.</p>\n",
    "In particular, |<em>G</em>|/|<em>N</em>| = |<em>I</em>|, and |<em>I</em>| is a factor \n",
    "of |<em>S<sub>k</sub></em>| = <em>k</em>!.  This means that |<em>G</em>| is a factor of <em>k</em>!&middot; |<em>N</em>|.<br><br>\n",
    "  \n",
    "<a href=\"#cor62ret\">Return to text</a>"
   ]
  },
  {
   "cell_type": "markdown",
   "id": "55d1b6",
   "metadata": {
    "collapsed": false
   },
   "source": [
    "<br><br><br><br><br><br><br><br><br><br><br><br><br><br><br><br><br><br><br><br><br><br><br><br><br><br><br><br><br><br><br><br><br><br><br><br><br><br><br><br><br><br> "
   ]
  },
  {
   "cell_type": "markdown",
   "id": "e15c3a",
   "metadata": {
    "collapsed": false
   },
   "source": [
    "<a name=\"sec6p\" id=\"sec6p\"></a>\n",
    "<h1><em>SageMath</em> Interactive Problems</h1>\n",
    "\n",
    "<br>\n",
    "For Problems 17 through 20: Determine how the following permutations can be expressed in terms of the book \n",
    "rearrangements <strong>First</strong>, <strong>Last</strong>, <strong>Left</strong>, <strong>Right</strong>, and <strong>Rev</strong>.<br>\n",
    "<br>\n",
    "&sect;6.1 #17)<br>\n",
    "\n",
    "<table align=\"center\" width=\"160\" border=\"0\" cellspacing=\"0\" cellpadding=\"0\">\n",
    "  <tr>\n",
    "    <td align=\"right\" valign=\"bottom\">&#9115;</td>\n",
    "    <td align=\"center\">1</td>\n",
    "    <td align=\"center\">2</td>\n",
    "    <td align=\"center\">3</td>\n",
    "    <td align=\"center\">4</td>\n",
    "    <td align=\"left\" valign=\"bottom\">&#9118;</td>\n",
    "  </tr>\n",
    "  <tr>\n",
    "    <td align=\"right\" valign=\"top\">&#9117;</td>\n",
    "    <td align=\"center\">1</td>\n",
    "    <td align=\"center\">3</td>\n",
    "    <td align=\"center\">2</td>\n",
    "    <td align=\"center\">4</td>\n",
    "    <td align=\"left\" valign=\"top\">&#9120;</td>\n",
    "  </tr>\n",
    "</table>"
   ]
  },
  {
   "cell_type": "markdown",
   "id": "23a9e9",
   "metadata": {
    "collapsed": false
   },
   "source": [
    "<br>\n",
    "&sect;6.1 #18)<br>\n",
    "\n",
    "<table align=\"center\" width=\"160\" border=\"0\" cellspacing=\"0\" cellpadding=\"0\">\n",
    "  <tr>\n",
    "    <td align=\"right\" valign=\"bottom\">&#9115;</td>\n",
    "    <td align=\"center\">1</td>\n",
    "    <td align=\"center\">2</td>\n",
    "    <td align=\"center\">3</td>\n",
    "    <td align=\"center\">4</td>\n",
    "    <td align=\"left\" valign=\"bottom\">&#9118;</td>\n",
    "  </tr>\n",
    "  <tr>\n",
    "    <td align=\"right\" valign=\"top\">&#9117;</td>\n",
    "    <td align=\"center\">4</td>\n",
    "    <td align=\"center\">2</td>\n",
    "    <td align=\"center\">3</td>\n",
    "    <td align=\"center\">1</td>\n",
    "    <td align=\"left\" valign=\"top\">&#9120;</td>\n",
    "  </tr>\n",
    "</table>"
   ]
  },
  {
   "cell_type": "markdown",
   "id": "b8bc54",
   "metadata": {
    "collapsed": false
   },
   "source": [
    "<br>\n",
    "&sect;6.1 #19)<br>\n",
    "\n",
    "<table align=\"center\" width=\"160\" border=\"0\" cellspacing=\"0\" cellpadding=\"0\">\n",
    "  <tr>\n",
    "    <td align=\"right\" valign=\"bottom\">&#9115;</td>\n",
    "    <td align=\"center\">1</td>\n",
    "    <td align=\"center\">2</td>\n",
    "    <td align=\"center\">3</td>\n",
    "    <td align=\"center\">4</td>\n",
    "    <td align=\"left\" valign=\"bottom\">&#9118;</td>\n",
    "  </tr>\n",
    "  <tr>\n",
    "    <td align=\"right\" valign=\"top\">&#9117;</td>\n",
    "    <td align=\"center\">3</td>\n",
    "    <td align=\"center\">1</td>\n",
    "    <td align=\"center\">4</td>\n",
    "    <td align=\"center\">2</td>\n",
    "    <td align=\"left\" valign=\"top\">&#9120;</td>\n",
    "  </tr>\n",
    "</table>"
   ]
  },
  {
   "cell_type": "markdown",
   "id": "4898ca",
   "metadata": {
    "collapsed": false
   },
   "source": [
    "<br>\n",
    "&sect;6.1 #20)<br>\n",
    "\n",
    "<table align=\"center\" width=\"160\" border=\"0\" cellspacing=\"0\" cellpadding=\"0\">\n",
    "  <tr>\n",
    "    <td align=\"right\" valign=\"bottom\">&#9115;</td>\n",
    "    <td align=\"center\">1</td>\n",
    "    <td align=\"center\">2</td>\n",
    "    <td align=\"center\">3</td>\n",
    "    <td align=\"center\">4</td>\n",
    "    <td align=\"left\" valign=\"bottom\">&#9118;</td>\n",
    "  </tr>\n",
    "  <tr>\n",
    "    <td align=\"right\" valign=\"top\">&#9117;</td>\n",
    "    <td align=\"center\">2</td>\n",
    "    <td align=\"center\">4</td>\n",
    "    <td align=\"center\">1</td>\n",
    "    <td align=\"center\">3</td>\n",
    "    <td align=\"left\" valign=\"top\">&#9120;</td>\n",
    "  </tr>\n",
    "</table>"
   ]
  },
  {
   "cell_type": "markdown",
   "id": "4f1de6",
   "metadata": {
    "collapsed": false
   },
   "source": [
    "<br>\n",
    "&sect;6.2 #18)<br> \n",
    "Use <em>SageMath</em> to find a pair of 3-cycles whose product is a 3-cycle. Can there be a product of two 4-cycles that yields a 4-cycle?<br>"
   ]
  },
  {
   "cell_type": "markdown",
   "id": "e714e3",
   "metadata": {
    "collapsed": false
   },
   "source": [
    "<br>\n",
    "&sect;6.2 #19)<br>\n",
    "The <em>cycle structure</em> of a permutation is the number of 2-cycles, 3-cycles, etc. it contains when written as a product of disjoint cycles.  For example, (1 2 3)(4 5) and (3 4 5)(1 2) have the same cycle structure.  Consider the elements<br>"
   ]
  },
  {
   "cell_type": "code",
   "execution_count": 0,
   "id": "3dc5ca",
   "metadata": {
    "collapsed": false
   },
   "outputs": [
   ],
   "source": [
    "a = C(1, 2, 3); a"
   ]
  },
  {
   "cell_type": "code",
   "execution_count": 0,
   "id": "6cfd37",
   "metadata": {
    "collapsed": false
   },
   "outputs": [
   ],
   "source": [
    "b = C(1, 4, 2, 5, 6, 7); b"
   ]
  },
  {
   "cell_type": "markdown",
   "id": "4e85a4",
   "metadata": {
    "collapsed": false
   },
   "source": [
    "<br>\n",
    "\n",
    "Predict the cycle structure of <em>a</em><sup>2</sup>, <em>a</em><sup>3</sup>, <em>b</em><sup>2</sup>, <em>b</em><sup>3</sup>, and <em>b</em><sup>6</sup>.  Check your answers with <em>SageMath</em>.<br>"
   ]
  },
  {
   "cell_type": "markdown",
   "id": "ebca7a",
   "metadata": {
    "collapsed": false
   },
   "source": [
    "<br>\n",
    "&sect;6.2 #20)<br>\n",
    "Calculate <em>a</em>&middot;<em>b</em> from Problem 19.  Predict the cycle structure of (<em>a</em>&middot;<em>b</em>)<sup>2</sup>, \n",
    "(<em>a</em>&middot;<em>b</em>)<sup>3</sup>, and (<em>a</em>&middot;<em>b</em>)<sup>4</sup>, and verify your predictions with <em>SageMath</em>.<br>"
   ]
  },
  {
   "cell_type": "markdown",
   "id": "3c0cae",
   "metadata": {
    "collapsed": false
   },
   "source": [
    "<br>\n",
    "&sect;6.2 #21)<br>\n",
    "Calculate <em>a</em>&middot;<em>b</em>&middot;<em>a</em><sup>-1</sup> from Problem 19.  Notice that it has the same cycle structure as <em>b</em>.  Try this with other \n",
    "random permutations.  Does <em>a</em>&middot;<em>b</em>&middot;<em>a</em><sup>-1</sup> always have the same cycle structure as <em>b</em>?  How do Problems 16 and 17 \n",
    "explain what is happening?<br>"
   ]
  },
  {
   "cell_type": "markdown",
   "id": "039341",
   "metadata": {
    "collapsed": false
   },
   "source": [
    "<br>\n",
    "&sect;6.3 #20)<br>\n",
    "Use Cayley's theorem (6.2) to find a subgroup of <em>S</em><sub>12</sub> that is isomorphic to <em>Z</em><sub>21</sub><sup>&ast;</sup>.<br>"
   ]
  },
  {
   "cell_type": "markdown",
   "id": "b74df2",
   "metadata": {
    "collapsed": false
   },
   "source": [
    "<br>\n",
    "&sect;6.3 #21)<br> \n",
    "Use Cayley's theorem (6.2) to find a subgroup of <em>S</em><sub>12</sub> that is isomorphic to the following group:<br>"
   ]
  },
  {
   "cell_type": "code",
   "execution_count": 0,
   "id": "c9b308",
   "metadata": {
    "collapsed": false
   },
   "outputs": [
   ],
   "source": [
    "InitGroup(\"e\")\n",
    "AddGroupVar(\"a\", \"b\")\n",
    "Define(a^3, e)\n",
    "Define(b^4, e)\n",
    "Define(b*a, a^2*b)\n",
    "G = Group(); G"
   ]
  },
  {
   "cell_type": "markdown",
   "id": "ef9d31",
   "metadata": {
    "collapsed": false
   },
   "source": [
    "<br>\n",
    "&sect;6.3 #22)<br>\n",
    "Use the generalized Cayley's theorem (6.3) to find a subgroup of <em>S</em><sub>8</sub> that is isomorphic to the following group:<br>"
   ]
  },
  {
   "cell_type": "code",
   "execution_count": 0,
   "id": "2d7e64",
   "metadata": {
    "collapsed": false
   },
   "outputs": [
   ],
   "source": [
    "InitGroup(\"e\")\n",
    "AddGroupVar(\"a\", \"b\")\n",
    "Define(a^2, e)\n",
    "Define(b^8, e)\n",
    "Define(b*a, a*b^5)\n",
    "G = Group(); G"
   ]
  },
  {
   "cell_type": "markdown",
   "id": "5cc37c",
   "metadata": {
    "collapsed": false
   },
   "source": [
    "<br>\n",
    "Hint: Find a subgroup of order 2 that is not normal.<br>"
   ]
  },
  {
   "cell_type": "markdown",
   "id": "41022f",
   "metadata": {
    "collapsed": false
   },
   "source": [
    "<br>\n",
    "&sect;6.4 #23)<br>\n",
    "Find the elements of <em>A</em><sub>4</sub> converted to the integer representation. Is there a pattern as to which positive integers correspond to the \n",
    "even permutations, and which correspond to odd?  Does the pattern continue to <em>A</em><sub>5</sub>?<br>"
   ]
  },
  {
   "cell_type": "markdown",
   "id": "3a7510",
   "metadata": {
    "collapsed": false
   },
   "source": [
    "<br>\n",
    "&sect;6.4 #24)<br>\n",
    "Use <em>SageMath</em> to find all elements of <em>S</em><sub>7</sub> whose square is P(3,5,1,7,6,2,4).<br>\n",
    "(Hint: Use a &quot;for&quot; loop to test all of the elements of <em>S</em><sub>7</sub>):<br>"
   ]
  },
  {
   "cell_type": "code",
   "execution_count": 0,
   "id": "f90aa1",
   "metadata": {
    "collapsed": false
   },
   "outputs": [
   ],
   "source": [
    "for i in range(1, 5041):\n",
    "    if NthPerm(i)^2 == P(3,5,1,7,6,2,4):\n",
    "        print(NthPerm(i))"
   ]
  },
  {
   "cell_type": "markdown",
   "id": "c78804",
   "metadata": {
    "collapsed": false
   },
   "source": [
    "<br>\n",
    "&sect;6.4 #25)<br>\n",
    "Use <em>SageMath</em> to find all elements of <em>S</em><sub>6</sub> whose cube is P(3,5,6,1,2,4). (See the hint for Problem 24.)<br>"
   ]
  },
  {
   "cell_type": "markdown",
   "id": "361721",
   "metadata": {
    "collapsed": false
   },
   "source": [
    "</font>\n",
    "\n",
    "</body>\n",
    "\n",
    "</html>"
   ]
  }
 ],
 "metadata": {
  "kernelspec": {
   "argv": [
    "sage-10.0",
    "--python",
    "-m",
    "sage.repl.ipython_kernel",
    "--matplotlib=inline",
    "-f",
    "{connection_file}"
   ],
   "display_name": "SageMath 10.0",
   "env": {
   },
   "language": "sagemath",
   "metadata": {
    "cocalc": {
     "description": "Open-source mathematical software system",
     "priority": 10,
     "url": "https://www.sagemath.org/"
    }
   },
   "name": "sage-10.0",
   "resource_dir": "/ext/jupyter/kernels/sage-10.0"
  },
  "language_info": {
   "codemirror_mode": {
    "name": "ipython",
    "version": 3
   },
   "file_extension": ".py",
   "mimetype": "text/x-python",
   "name": "python",
   "nbconvert_exporter": "python",
   "pygments_lexer": "ipython3",
   "version": "3.7.10"
  }
 },
 "nbformat": 4,
 "nbformat_minor": 4
}