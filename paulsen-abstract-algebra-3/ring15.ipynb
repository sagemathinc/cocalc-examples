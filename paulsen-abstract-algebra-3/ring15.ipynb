{
 "cells": [
  {
   "cell_type": "markdown",
   "id": "c6c5ec",
   "metadata": {
    "collapsed": false
   },
   "source": [
    "<!-- Ring15 -->\n",
    "\n",
    "<html>\n",
    "<body>\n",
    "\n",
    "<!-- To make the size of the font bigger for presentations, change the following command from +1 to +2 -->\n",
    "\n",
    "<font size=\"+1\">\n",
    "\n",
    "<p style='font-size: 36px;font-family: Arial;font-style: italic;font-weight: bold;color: #FF00FF;background-color: #80FFFF;text-align: center;'>\n",
    "Abstract Algebra: An Interactive Approach, 3e\n",
    "</p>\n",
    "\n",
    "<p style='font-family: Geneva;font-style: italic;color: #0000FF;background-color: #FFFFFF;'>\n",
    "This notebook is provided with the textbook, &quot;Abstract Algebra: An Interactive Approach, 3rd Ed.&quot; by William Paulsen. Users of this notebook are encouraged to buy the textbook.\n",
    "</p>\n",
    "\n",
    "<p style='font-size: 36px;font-family: New York;font-weight: bold;color: #000000;background-color: #FFFFFF;text-align: center;border: 1px;border-style: \n",
    "solid;border-color: #000000;'>\n",
    "Chapter 15<br><br>\n",
    "Galois Theory\n",
    "</p>\n",
    "\n",
    "<p style='text-align: center;'>Initialization:  This cell MUST be evaluated first:</p>\n",
    "\n"
   ]
  },
  {
   "cell_type": "code",
   "execution_count": 0,
   "id": "fc9db8",
   "metadata": {
    "collapsed": false
   },
   "outputs": [
   ],
   "source": [
    "load('absalgtext2.sage')"
   ]
  },
  {
   "cell_type": "markdown",
   "id": "2df62c",
   "metadata": {
    "collapsed": false
   },
   "source": [
    "<br>\n",
    "<a href=\"#sec151\">The Galois Group of an Extension Field</a><br>\n",
    "<a href=\"#sec152\">The Galois Group of a Polynomial in &#8474;</a><br>\n",
    "<a href=\"#sec153\">The Fundamental Theorem of Galois Theory</a><br>\n",
    "<a href=\"#sec154\">Applications of Galois Theory</a><br>\n",
    "<a href=\"#sec15p\"><em>SageMath</em> Interactive Problems</a><br>"
   ]
  },
  {
   "cell_type": "markdown",
   "id": "5db111",
   "metadata": {
    "collapsed": false
   },
   "source": [
    "<a name=\"sec151\" id=\"sec151\"></a>\n",
    "<h1>The Galois Group of an Extension Field</h1>\n",
    "\n",
    "<br>\n",
    "In the last chapter, we explored the extensions of a field, and found that any finite extension could be entered into <em>SageMath</em> fairly easily.  In particular, \n",
    "we explored the splitting fields of several polynomials.  In this chapter, we will explore the automorphisms on the field extensions, and discover that the group \n",
    "of automorphisms contains much information about the polynomial.  For example, it will tell us if the roots of the polynomial can be expressed in terms of square roots \n",
    "and cube roots.<br><br>\n",
    "\n",
    "DEFINITION 15.1<br>\n",
    "Let <em>K</em> be a finite extension of the field <em>F</em>.  An <em>F</em>-<em>automorphism</em> of <em>K</em> is a ring automorphism <em>&#981;</em> on the field \n",
    "<em>K</em> that fixes every element of <em>F</em>.  That is, <em>&#981;</em>(<em>x</em>) = <em>x</em> whenever <em>x</em> is in <em>F</em>.<br><br>\n",
    "\n",
    "Note that there is at least one <em>F</em>-automorphism of <em>K</em>, the identity automorphism.  Since we have seen that the set of group automorphisms of a group \n",
    "forms another group, it is not surprising that the same thing happens for <em>F</em>-automorphisms of a field."
   ]
  },
  {
   "cell_type": "markdown",
   "id": "55a7ba",
   "metadata": {
    "collapsed": false
   },
   "source": [
    "<a name=\"prop151ret\" id=\"prop151ret\"></a>\n",
    "PROPOSITION 15.1<br>\n",
    "\n",
    "If <em>K</em> is a finite extension of a field <em>F</em>, then the set of all <em>F</em>-automorphisms of <em>K</em> forms a group under the operation of \n",
    "composition of functions.<br><br>\n",
    "\n",
    "<a href=\"#prop151\">Click here for the proof.</a>\n",
    "\n",
    "<p />\n",
    "DEFINITION 15.2<br>\n",
    "The set of all <em>F</em>-automorphisms of <em>K</em> is denoted Gal<sub><em>F</em></sub>(<em>K</em>), and is called the <em>Galois group of</em> <em>K</em> \n",
    "<em>over</em> <em>F</em>.<br><br>\n",
    " \n",
    "EXAMPLE:<br>\n",
    "Find the Galois group of the set of complex numbers &#8450; over the real numbers.<br><br>\n",
    "\n",
    "According to Proposition 11.4, &#8450; has two automorphisms that fix the real numbers: the identity automorphism, and \n",
    "the automorphism that sends each number to its complex conjugate. So there are exactly two elements of \n",
    "Gal<sub>&#8477;</sub>(&#8450;). In other words, \n",
    "Gal<sub>&#8477;</sub>(&#8450;) is isomorphic to <em>Z</em><sub>2</sub>.<br><br>\n",
    "\n",
    "We want to find a way to compute the Galois group of any finite extension of a field <em>F</em>.  Since we can define finite extensions in terms of polynomials, it is \n",
    "natural to ask what must happen to the roots of a polynomial."
   ]
  },
  {
   "cell_type": "markdown",
   "id": "0d6af5",
   "metadata": {
    "collapsed": false
   },
   "source": [
    "<a name=\"lem151ret\" id=\"lem151ret\"></a>\n",
    "LEMMA 15.1<br>\n",
    "\n",
    "Let <em>K</em> be a finite extension of <em>F</em>, and let <em>f</em>(<em>x</em>) be a polynomial in <em>F</em>[<em>x</em>].  If <em>u</em> is a root of \n",
    "<em>f</em>(<em>x</em>), and <em>&#981;</em> is in Gal<sub><em>F</em></sub>(<em>K</em>), then <em>&#981;</em>(<em>u</em>) is also a root of <em>f</em>(<em>x</em>).<br><br>\n",
    " \n",
    "<a href=\"#lem151\">Click here for the proof.</a>\n",
    "\n",
    "<p />\n",
    "\n",
    "EXAMPLE:<br>\n",
    "Let us use this lemma to find the Galois group of the splitting field of <em>x</em><sup>3</sup> &minus; 2.<br><br>  \n",
    "\n",
    "The splitting field is defined by letting \n",
    "<em>a</em><sup>3</sup> = 2, and <em>b</em><sup>2</sup> = &minus;<em>a</em><sup>2</sup> &minus; <em>a b</em>.<br>"
   ]
  },
  {
   "cell_type": "code",
   "execution_count": 0,
   "id": "768923",
   "metadata": {
    "collapsed": false
   },
   "outputs": [
   ],
   "source": [
    "InitDomain(0,\"x\")\n",
    "AddFieldVar(\"a\")\n",
    "Define(a^3, 2)\n",
    "AddFieldVar(\"b\")\n",
    "Define(b^2, - a^2 - a*b)"
   ]
  },
  {
   "cell_type": "code",
   "execution_count": 0,
   "id": "a191e9",
   "metadata": {
    "collapsed": false
   },
   "outputs": [
   ],
   "source": [
    "factor(x^3 - 2)"
   ]
  },
  {
   "cell_type": "markdown",
   "id": "8fbb50",
   "metadata": {
    "collapsed": false
   },
   "source": [
    "<br>\n",
    "The three factors of <em>x</em><sup>3</sup> &minus; 2 are <em>a</em>, <em>b</em>, and &minus;<em>a</em> &minus; <em>b</em>.  Thus, Lemma 15.1 tells us that \n",
    "if <em>&fnof;</em>(<em>x</em>) is an automorphism on &#8474;(<em>a</em>, <em>b</em>), then <em>&fnof;</em>(<em>a</em>) is either <em>a</em>, <em>b</em>, or \n",
    "&minus;<em>a</em> &minus; <em>b</em>, and <em>&fnof;</em>(<em>b</em>) is either <em>a</em>, <em>b</em>, or &minus;<em>a</em> &minus; <em>b</em>.  Let us try to find \n",
    "an automorphism such that <em>&fnof;</em>(<em>a</em>) = <em>b</em> and <em>&fnof;</em>(<em>b</em>) = <em>a</em>.<br>"
   ]
  },
  {
   "cell_type": "code",
   "execution_count": 0,
   "id": "68c77c",
   "metadata": {
    "collapsed": false
   },
   "outputs": [
   ],
   "source": [
    "F = FieldHomo()\n",
    "HomoDef(F, a, b)\n",
    "HomoDef(F, b, a)"
   ]
  },
  {
   "cell_type": "markdown",
   "id": "23add8",
   "metadata": {
    "collapsed": false
   },
   "source": [
    "<br>\n",
    "We can check to see if this is indeed a homomorphism.<br>"
   ]
  },
  {
   "cell_type": "code",
   "execution_count": 0,
   "id": "ab1d89",
   "metadata": {
    "collapsed": false
   },
   "outputs": [
   ],
   "source": [
    "CheckHomo(F)"
   ]
  },
  {
   "cell_type": "markdown",
   "id": "e0d084",
   "metadata": {
    "collapsed": false
   },
   "source": [
    "<br>\n",
    "This shows us that we have successfully defined one automorphism of the Galois group. (Any nonzero homomorphism on a field must be an automorphism in light of \n",
    "Proposition 10.5, and the fact that the kernel is always an ideal.)<br><br>\n",
    "\n",
    "EXPERIMENT:<br>\n",
    "Using the above example as a guide, define an automorphism <em>G</em>(<em>x</em>) on &#8474;(<em>a</em>, <em>b</em>) such that <em>G</em>(<em>a</em>) = <em>b</em>, and \n",
    "<em>G</em>(<em>b</em>) = &minus;<em>a</em> &minus; <em>b</em>.  Have <em>SageMath</em> check that this is a homomorphism for you.<br>"
   ]
  },
  {
   "cell_type": "markdown",
   "id": "f8eeb2",
   "metadata": {
    "collapsed": false
   },
   "source": [
    "<br>\n",
    "Since these two automorphisms fix the elements of &#8474;, they are &#8474;-automorphisms.  From these two &#8474;-automorphisms, we can produce more.  Note that<br>"
   ]
  },
  {
   "cell_type": "code",
   "execution_count": 0,
   "id": "d2d39b",
   "metadata": {
    "collapsed": false
   },
   "outputs": [
   ],
   "source": [
    "G(G(a))"
   ]
  },
  {
   "cell_type": "code",
   "execution_count": 0,
   "id": "18b839",
   "metadata": {
    "collapsed": false
   },
   "outputs": [
   ],
   "source": [
    "G(G(b))"
   ]
  },
  {
   "cell_type": "markdown",
   "id": "caa2fe",
   "metadata": {
    "collapsed": false
   },
   "source": [
    "<br>\n",
    "shows that <em>G</em>(<em>G</em>(<em>a</em>)) = &minus;<em>a</em> &minus; <em>b</em>, and <em>G</em>(<em>G</em>(<em>b</em>)) = <em>a</em>. <br>"
   ]
  },
  {
   "cell_type": "code",
   "execution_count": 0,
   "id": "76d4b3",
   "metadata": {
    "collapsed": false
   },
   "outputs": [
   ],
   "source": [
    "F(G(a))"
   ]
  },
  {
   "cell_type": "code",
   "execution_count": 0,
   "id": "4642a9",
   "metadata": {
    "collapsed": false
   },
   "outputs": [
   ],
   "source": [
    "F(G(b))"
   ]
  },
  {
   "cell_type": "markdown",
   "id": "f60cc0",
   "metadata": {
    "collapsed": false
   },
   "source": [
    "<br>\n",
    "Shows that <em>F</em>(<em>G</em>(<em>a</em>)) = <em>a</em>, and <em>F</em>(<em>G</em>(<em>a</em>)) = &minus;<em>a</em> &minus; <em>b</em>.  Finally,<br>"
   ]
  },
  {
   "cell_type": "code",
   "execution_count": 0,
   "id": "8e028f",
   "metadata": {
    "collapsed": false
   },
   "outputs": [
   ],
   "source": [
    "G(F(a))"
   ]
  },
  {
   "cell_type": "code",
   "execution_count": 0,
   "id": "e3fc92",
   "metadata": {
    "collapsed": false
   },
   "outputs": [
   ],
   "source": [
    "G(F(b))"
   ]
  },
  {
   "cell_type": "markdown",
   "id": "f46110",
   "metadata": {
    "collapsed": false
   },
   "source": [
    "<br>\n",
    "Shows that <em>G</em>(<em>F</em>(<em>a</em>)) = &minus;<em>a</em> &minus; <em>b</em>, and <em>G</em>(<em>F</em>(<em>a</em>)) = <em>b</em>.<br><br>\n",
    "\n",
    "Thus, we have found 6 &#8474;-automorphisms on the field &#8474;(<em>a</em>, <em>b</em>), the identity automorphism, <em>F</em>(<em>x</em>), <em>G</em>(<em>x</em>), \n",
    "<em>G</em>(<em>G</em>(<em>x</em>)), <em>G</em>(<em>F</em>(<em>x</em>)), and <em>F</em>(<em>G</em>(<em>x</em>)).  Since <em>G</em>(<em>F</em>(<em>x</em>)) is \n",
    "not <em>F</em>(<em>G</em>(<em>x</em>)), the Galois group is not commutative.<br><br>\n",
    "\n",
    "It seems as though we must have found all of the automorphisms at this point, but this still needs to be proved.  We begin by showing that there will always be \n",
    "an automorphism that moves one root of an irreducible polynomial to another."
   ]
  },
  {
   "cell_type": "markdown",
   "id": "b02ff6",
   "metadata": {
    "collapsed": false
   },
   "source": [
    "<a name=\"prop152ret\" id=\"prop152ret\"></a>\n",
    "PROPOSITION 15.2<br>\n",
    "\n",
    "Let <em>K</em> be the splitting field of some polynomial <em>f</em>(<em>x</em>) over <em>F</em>, and let <em>u</em> and <em>v</em> be two elements of <em>K</em>.  Then \n",
    "there exists an <em>F</em>-automorphism <em>&#981;</em> such that <em>&#981;</em>(<em>u</em>) = <em>v</em> if, and only \n",
    "if, Irr<sub><em>F</em></sub>(<em>u</em>, <em>x</em>) = Irr<sub><em>F</em></sub>(<em>v</em>, <em>x</em>).<br><br>\n",
    "\n",
    "<a href=\"#prop152\">Click here for the proof.</a>\n",
    "\n",
    "<p />\n",
    "The next lemma will be important in determining the subgroups of the Galois group."
   ]
  },
  {
   "cell_type": "markdown",
   "id": "a99db4",
   "metadata": {
    "collapsed": false
   },
   "source": [
    "<a name=\"lem152ret\" id=\"lem152ret\"></a>\n",
    "LEMMA 15.2<br>\n",
    "\n",
    "Let <em>K</em> be a finite extension of <em>F</em>, and let <em>&#981;</em> be an <em>F</em>-automorphism of <em>K</em>.  Then the set of all elements <em>x</em> such \n",
    "that <em>&#981;</em>(<em>x</em>) = <em>x</em> forms a subfield of <em>K</em> containing <em>F</em>.<br><br>\n",
    "\n",
    "<a href=\"#lem152\">Click here for the proof.</a>\n",
    "\n",
    "<p />\n",
    "Next we want to work on finding an upper bound on the number of elements in Gal<sub><em>F</em></sub>(<em>K</em>)."
   ]
  },
  {
   "cell_type": "markdown",
   "id": "4e9450",
   "metadata": {
    "collapsed": false
   },
   "source": [
    "<a name=\"prop153ret\" id=\"prop153ret\"></a>\n",
    "PROPOSITION 15.3<br>\n",
    "\n",
    "Let <em>K</em> = <em>F</em>(<em>u</em><sub>1</sub>, <em>u</em><sub>2</sub>, <em>u</em><sub>3</sub>, &hellip; <em>u<sub>n</sub></em>) be a finite extension field \n",
    "of <em>F</em>.  If <em>&#981;</em><sub>1</sub> and <em>&#981;</em><sub>2</sub> are two <em>F</em>-automorphisms in Gal<sub><em>F</em></sub>(<em>K</em>), and \n",
    "<p style='text-align: center;'><em>&#981;</em><sub>1</sub>(<em>u</em><sub>1</sub>) = \n",
    "<em>&#981;</em><sub>2</sub>(<em>u</em><sub>1</sub>),&emsp;<em>&#981;</em><sub>1</sub>(<em>u</em><sub>2</sub>) = \n",
    "<em>&#981;</em><sub>2</sub>(<em>u</em><sub>2</sub>),&ensp;&hellip;&ensp;<em>&#981;</em><sub>1</sub>(<em>u<sub>n</sub></em>) = \n",
    "<em>&#981;</em><sub>2</sub>(<em>u<sub>n</sub></em>),</p>\n",
    "then <em>&#981;</em><sub>1</sub>(x) = <em>&#981;</em><sub>2</sub>(x) for all <em>x</em> in <em>K</em>.  In other words, an <em>F</em>-automorphism \n",
    "in Gal<sub><em>F</em></sub>(<em>K</em>) is completely determined by its action on <em>u</em><sub>1</sub>, <em>u</em><sub>2</sub>, <em>u</em><sub>3</sub>, \n",
    "&hellip; <em>u<sub>n</sub></em>.<br><br>\n",
    "\n",
    "<a href=\"#prop153\">Click here for the proof.</a>\n",
    "\n",
    "<p />\n",
    "We can now apply this proposition to the field &#8474;(<em>a</em>, <em>b</em>).  Any &#8474;-automorphism is determined by where it sends the elements <em>a</em> and \n",
    "<em>b</em>.  By Lemma 15.1, these elements can only be sent to <em>a</em>, <em>b</em>, or &minus;<em>a</em> &minus; <em>b</em>.  Yet an automorphism cannot send two elements to the same element.  Thus, there are at most six &#8474;-automorphisms on the field <nobr>&#8474;(<em>a</em>, <em>b</em>).</nobr>  Yet we have found precisely \n",
    "six &#8474;-automorphisms \n",
    "of &#8474;(<em>a</em>, <em>b</em>).  Thus, we have found all of the &#8474;-automorphisms, so the Galois group of &#8474;(<em>a</em>, <em>b</em>) contains exactly \n",
    "six elements.  We observed before that Gal<sub>&#8474;</sub>(&#8474;(<em>a</em>, <em>b</em>)) was non-commutative, \n",
    "so Gal<sub>&#8474;</sub>(&#8474;(<em>a</em>, <em>b</em>)) &asymp; <em>S</em><sub>3</sub>.<br><br>\n",
    "\n",
    "We can similarly find an upper bound for the number of &#8474;-automorphisms in any splitting field."
   ]
  },
  {
   "cell_type": "markdown",
   "id": "6cc583",
   "metadata": {
    "collapsed": false
   },
   "source": [
    "<a name=\"cor151ret\" id=\"cor151ret\"></a>\n",
    "COROLLARY 15.1<br>\n",
    "\n",
    "If <em>K</em> is the splitting field of a polynomial <em>f</em>(<em>x</em>) of degree <em>n</em> in <em>F</em>[<em>x</em>], then Gal<sub><em>F</em></sub>(<em>K</em>) is \n",
    "isomorphic to a subgroup of <em>S<sub>n</sub></em>.<br><br>\n",
    "\n",
    "<a href=\"#cor151\">Click here for the proof.</a>\n",
    "\n",
    "<p />\n",
    "We immediately see from this corollary that the Galois group of a finite extension must be a finite group.<br><br>Let us look at another example of a Galois group of a \n",
    "field. Consider the field &#8474;(&#8731;<font style=\"text-decoration:overline\">2</font>). This is obviously a subfield of the field &#8474;(<em>a</em>, <em>b</em>) we \n",
    "have been studying, but in this subfield all of the elements are <em>real</em>.  Thus, in this field &#8474;(&#8731;<font style=\"text-decoration:overline\">2</font>) there \n",
    "is only one root to the polynomial <em>x</em><sup>3</sup> &minus; 2.  Hence, if <em>&fnof;</em>(<em>x</em>) is a &#8474;-automorphism \n",
    "of &#8474;(&#8731;<font style=\"text-decoration:overline\">2</font>) then <em>&fnof;</em>(&#8731;<font style=\"text-decoration:overline\">2</font>)must \n",
    "be &#8731;<font style=\"text-decoration:overline\">2</font>.  By Proposition 15.3, the &#8474;-automorphism is completely determined by where <em>&fnof;</em> \n",
    "sends &#8731;<font style=\"text-decoration:overline\">2</font>. Thus, Gal<sub>&#8474;</sub>(&#8474;(&#8731;<font style=\"text-decoration:overline\">2</font>)) is merely the \n",
    "trivial group.<br><br>\n",
    "\n",
    "In order to find the Galois group of a field, it is very helpful to know ahead of time the exact size of the Galois group.  The next proposition allows us to compute the \n",
    "size of the Galois group for an important class of field extensions."
   ]
  },
  {
   "cell_type": "markdown",
   "id": "71ae43",
   "metadata": {
    "collapsed": false
   },
   "source": [
    "<a name=\"prop154ret\" id=\"prop154ret\"></a>\n",
    "PROPOSITION 15.4<br>\n",
    "\n",
    "Suppose <em>K</em> is the splitting field of a polynomial <em>f</em>(<em>x</em>) in <em>F</em>[<em>x</em>], and that <em>K</em> can be expressed as a simple \n",
    "extension <em>K</em> = <em>F</em>(<em>w</em>).  If Irr<sub><em>F</em></sub>(<em>w</em>, <em>x</em>) has no double roots in <em>K</em>, then the number \n",
    "of <em>F</em>-automorphisms in Gal<sub><em>F</em></sub>(<em>K</em>) is precisely the dimension of <em>K</em> over <em>F</em>.<br><br> \n",
    "\n",
    "<a href=\"#prop154\">Click here for the proof.</a>\n",
    "\n",
    "<p />\n",
    "We are ready to try a more complicated example.<br><br>\n",
    "\n",
    "EXAMPLE:<br>  \n",
    "Find the Galois group for the splitting field of the \n",
    "polynomial <em>x</em><sup>4</sup> &minus; 2 <em>x</em><sup>3</sup> + <em>x</em><sup>2</sup> + 1.<br><br>  \n",
    "\n",
    "First we verify that this polynomial is irreducible.<br>"
   ]
  },
  {
   "cell_type": "code",
   "execution_count": 0,
   "id": "a1d37a",
   "metadata": {
    "collapsed": false
   },
   "outputs": [
   ],
   "source": [
    "InitDomain(0, \"x\")\n",
    "factor(x^4 - 2*x^3 + x^2 + 1)"
   ]
  },
  {
   "cell_type": "markdown",
   "id": "45889e",
   "metadata": {
    "collapsed": false
   },
   "source": [
    "<br>\n",
    "So this polynomial is irreducible over &#8474;.  Let us define <em>a</em> to be one root of this polynomial, and see how this polynomial factors \n",
    "over &#8474;(<em>a</em>).<br>"
   ]
  },
  {
   "cell_type": "code",
   "execution_count": 0,
   "id": "f2d3a7",
   "metadata": {
    "collapsed": false
   },
   "outputs": [
   ],
   "source": [
    "AddFieldVar(\"a\")\n",
    "Define(a^4, 2*a^3 - a^2 - 1)"
   ]
  },
  {
   "cell_type": "code",
   "execution_count": 0,
   "id": "2a4271",
   "metadata": {
    "collapsed": false
   },
   "outputs": [
   ],
   "source": [
    "factor(x^4 - 2*x^3 + x^2 + 1)"
   ]
  },
  {
   "cell_type": "markdown",
   "id": "fde5ea",
   "metadata": {
    "collapsed": false
   },
   "source": [
    "<br>\n",
    "This tells us that if <em>a</em> is a root, then 1 &minus; <em>a</em> is another root.  However, it didn't factor completely, so we have to define <em>b</em> to be a root \n",
    "of the irreducible quadratic.<br>"
   ]
  },
  {
   "cell_type": "code",
   "execution_count": 0,
   "id": "f2a28c",
   "metadata": {
    "collapsed": false
   },
   "outputs": [
   ],
   "source": [
    "AddFieldVar(\"b\")\n",
    "Define(b^2, b + a - a^2)"
   ]
  },
  {
   "cell_type": "markdown",
   "id": "d1fb9a",
   "metadata": {
    "collapsed": false
   },
   "source": [
    "<br>\n",
    "The polynomial should now factor completely.<br>"
   ]
  },
  {
   "cell_type": "code",
   "execution_count": 0,
   "id": "75f42e",
   "metadata": {
    "collapsed": false
   },
   "outputs": [
   ],
   "source": [
    "factor(x^4 - 2*x^3 + x^2 + 1)"
   ]
  },
  {
   "cell_type": "markdown",
   "id": "8b5b65",
   "metadata": {
    "collapsed": false
   },
   "source": [
    "<br>\n",
    "So the four roots are <em>a</em>, 1 &minus; <em>a</em>, <em>b</em>, and 1 &minus; <em>b</em>.  Any &#8474;-automorphism will map each of these roots to another root, and \n",
    "so the Galois group will be a subgroup of <em>S</em><sub>4</sub>.  But which permutations will give rise to a &#8474;-automorphism?  A little trial and error will \n",
    "help.<br><br>\n",
    "\n",
    "Proposition 15.2 says that there will be some &#8474;-automorphism that sends any one of these four roots to any other of the four roots.  So there is \n",
    "a &#8474;-automorphism that sends <em>a</em> to 1 &minus; <em>a</em>.  But where would it send the other three roots?  Note that if <em>&fnof;</em>(<em>a</em>) = \n",
    "1 &minus; <em>a</em>, then  <em>&fnof;</em>(1 &minus; <em>a</em>) = <em>&fnof;</em>(1) &minus; <em>&fnof;</em>(<em>a</em>) = 1 &minus; (1 &minus; <em>a</em>) = \n",
    "<em>a</em>.  So we only have to determine if <em>&fnof;</em>(<em>b</em>) is <em>b</em> or <nobr>1 &minus; <em>b</em>.</nobr>  Let's try both combinations.<br>"
   ]
  },
  {
   "cell_type": "code",
   "execution_count": 0,
   "id": "915fb7",
   "metadata": {
    "collapsed": false
   },
   "outputs": [
   ],
   "source": [
    "F = FieldHomo()\n",
    "HomoDef(F, a, 1-a)\n",
    "HomoDef(F, b, b)\n",
    "CheckHomo(F)"
   ]
  },
  {
   "cell_type": "code",
   "execution_count": 0,
   "id": "a56c4b",
   "metadata": {
    "collapsed": false
   },
   "outputs": [
   ],
   "source": [
    "G = FieldHomo()\n",
    "HomoDef(G, a, 1-a)\n",
    "HomoDef(G, b, 1-b)\n",
    "CheckHomo(G)"
   ]
  },
  {
   "cell_type": "markdown",
   "id": "b95587",
   "metadata": {
    "collapsed": false
   },
   "source": [
    "<br>\n",
    "They both work!  We can now draw a picture of how these &#8474;-automorphism act on the four roots of the polynomial.<br>"
   ]
  },
  {
   "cell_type": "code",
   "execution_count": 0,
   "id": "6eac4c",
   "metadata": {
    "collapsed": false
   },
   "outputs": [
   ],
   "source": [
    "CircleGraph([a, 1-a, b, 1-b], F)"
   ]
  },
  {
   "cell_type": "code",
   "execution_count": 0,
   "id": "2d3c86",
   "metadata": {
    "collapsed": false
   },
   "outputs": [
   ],
   "source": [
    "CircleGraph([a, 1-a, b, 1-b], G)"
   ]
  },
  {
   "cell_type": "markdown",
   "id": "fd5f3b",
   "metadata": {
    "collapsed": false
   },
   "source": [
    "<br>\n",
    "If we number the roots as\n",
    "<table align=\"center\" border=\"0\" cellspacing=\"0\" cellpadding=\"0\">\n",
    "  <tr>\n",
    "    <td align=\"left\">1)</td>\n",
    "    <td align=\"left\"><em>a</em></td>\n",
    "  </tr>\n",
    "  <tr>\n",
    "    <td align=\"left\">2)</td>\n",
    "    <td align=\"left\">1 &minus; <em>a</em></td>\n",
    "  </tr>\n",
    "  <tr>\n",
    "    <td align=\"left\">3)</td>\n",
    "    <td align=\"left\"><em>b</em></td>\n",
    "  </tr>\n",
    "  <tr>\n",
    "    <td align=\"left\">4)</td>\n",
    "    <td align=\"left\">1 &minus; <em>b</em></td>\n",
    "  </tr>\n",
    "</table>\n",
    "<br>\n",
    "then we can express the circle graph of <em>F</em> as <strong>P(2,1)</strong>, while the circle graph of <em>G</em> represents the \n",
    "permutation <strong>P(2,1,4,3)</strong>.  These generate a subgroup of <em>S</em><sub>4</sub>.<br>"
   ]
  },
  {
   "cell_type": "code",
   "execution_count": 0,
   "id": "13cc19",
   "metadata": {
    "collapsed": false
   },
   "outputs": [
   ],
   "source": [
    "Group(P(2,1), P(2,1,4,3))"
   ]
  },
  {
   "cell_type": "markdown",
   "id": "f11326",
   "metadata": {
    "collapsed": false
   },
   "source": [
    "<br>\n",
    "So far, we have 4 &#8474;-automorphisms of the splitting field.  Are there any others?  Proposition 15.4 shows that there should be eight &#8474;-automorphisms.  Also \n",
    "Proposition 15.2 says we can find a &#8474;-automorphism that send <em>a</em> to any of the other three roots!  Suppose we send <em>a</em> to <em>b</em>.<br>"
   ]
  },
  {
   "cell_type": "code",
   "execution_count": 0,
   "id": "19463f",
   "metadata": {
    "collapsed": false
   },
   "outputs": [
   ],
   "source": [
    "H = FieldHomo()\n",
    "HomoDef(H, a, b)"
   ]
  },
  {
   "cell_type": "markdown",
   "id": "43c33c",
   "metadata": {
    "collapsed": false
   },
   "source": [
    "<br>\n",
    "If <em>a</em> is sent to <em>b</em>, then 1 &minus; <em>a</em> will be sent to 1 &minus; <em>b</em>.  Thus, we find that <em>b</em> must be sent to \n",
    "either <em>a</em> or 1 &minus; <em>a</em>.  Try sending <em>b</em> \n",
    "to <em>a</em>:"
   ]
  },
  {
   "cell_type": "code",
   "execution_count": 0,
   "id": "8b639f",
   "metadata": {
    "collapsed": false
   },
   "outputs": [
   ],
   "source": [
    "HomoDef(H, b, a)\n",
    "CheckHomo(H)"
   ]
  },
  {
   "cell_type": "code",
   "execution_count": 0,
   "id": "c2428b",
   "metadata": {
    "collapsed": false
   },
   "outputs": [
   ],
   "source": [
    "CircleGraph([a, 1-a, b, 1-b], H)"
   ]
  },
  {
   "cell_type": "markdown",
   "id": "f8a007",
   "metadata": {
    "collapsed": false
   },
   "source": [
    "<br>\n",
    "This circle graph is like the permutation P(3,4,1,2).  Thus, we can extend our subgroup of <em>S</em><sub>4</sub> to:<br>"
   ]
  },
  {
   "cell_type": "code",
   "execution_count": 0,
   "id": "9f95aa",
   "metadata": {
    "collapsed": false
   },
   "outputs": [
   ],
   "source": [
    "M = Group(P(2, 1), P(2, 1, 4, 3), P(3, 4, 1, 2)); M"
   ]
  },
  {
   "cell_type": "markdown",
   "id": "db12fa",
   "metadata": {
    "collapsed": false
   },
   "source": [
    "<br>\n",
    "Now we have eight &#8474;-automorphisms.  Since this is the number predicted by Proposition 15.4, we are done.  Hence, we found the Galois group as a subgroup \n",
    "of <em>S</em><sub>4</sub> of order 8.<br><br>\n",
    "\n",
    "The Cayley table<br>"
   ]
  },
  {
   "cell_type": "code",
   "execution_count": 0,
   "id": "5879c7",
   "metadata": {
    "collapsed": false
   },
   "outputs": [
   ],
   "source": [
    "CayleyTable(M)"
   ]
  },
  {
   "cell_type": "code",
   "execution_count": 0,
   "id": "062207",
   "metadata": {
    "collapsed": false
   },
   "outputs": [
   ],
   "source": [
    "RootCount(M, 2)"
   ]
  },
  {
   "cell_type": "markdown",
   "id": "130143",
   "metadata": {
    "collapsed": false
   },
   "source": [
    "<br>\n",
    "shows that this group is non-abelian, and has five elements of order 2.  Thus, the Galois group is isomorphic to <em>D</em><sub>4</sub>.<br><br>\n",
    "\n",
    "This example shows the usefulness of Proposition 15.4 in finding the Galois group.  In fact, sometimes the Galois group can be determined using only Corollary 15.1 \n",
    "and Proposition 15.4.<br><br>\n",
    "\n",
    "One of the tools we will use for finding the &#8474;-automorphisms is the close connection between the subgroups of the Galois group, and the subfield of the field \n",
    "extension.  We begin by showing a way to produce subfields of a field extension."
   ]
  },
  {
   "cell_type": "markdown",
   "id": "fde548",
   "metadata": {
    "collapsed": false
   },
   "source": [
    "<a name=\"prop155ret\" id=\"prop155ret\"></a>\n",
    "PROPOSITION 15.5 <br>\n",
    "\n",
    "Let <em>K</em> be a finite extension of <em>F</em>, and let <em>H</em> be a subgroup of Gal<sub><em>F</em></sub>(<em>K</em>). Let\n",
    "<p style='text-align: center;'>fix(<em>H</em>) = {<em>k</em> &isin; <em>K</em> | <em>&#981;</em>(<em>k</em>) = <em>k</em> for all <em>&#981;</em> &isin; <em>H</em>}.</p>\n",
    "Then fix(<em>H</em>) is a subfield of <em>K</em> containing the field <em>F</em>.<br><br>\n",
    "\n",
    "<a href=\"#prop155\">Click here for the proof.</a>\n",
    "\n",
    "<p />\n",
    "DEFINITION 15.3<br>\n",
    "The field fix(<em>H</em>) is called the <em>fixed field of the subgroup H</em>.<br><br>\n",
    "\n",
    "Let us use the example of the Galois group of &#8474;(<em>a</em>, <em>b</em>) to illustrate the fixed fields of the subgroups.<br><br>\n",
    "\n",
    "The Galois group was described as\n",
    "<p style='text-align: center;'>{<em>I</em>(<em>x</em>), <em>F</em>(<em>x</em>), <em>G</em>(<em>x</em>), <em>G</em>(<em>G</em>(<em>x</em>)), \n",
    "<em>F</em>(<em>G</em>(<em>x</em>)), <em>G</em>(<em>F</em>(<em>x</em>))},</p>\n",
    "where <em>I</em>(<em>x</em>) represents the identity automorphism that sends every element to itself.  The subgroups \n",
    "of Gal<sub>&#8474;</sub>(&#8474;(<em>a</em>, <em>b</em>)) are as follows:\n",
    "<br><br>\n",
    "<table align=\"center\" border=\"0\">\n",
    "  <tr>\n",
    "    <td align=\"right\"><em>H</em><sub>1</sub> =&ensp;</td>\n",
    "    <td align=\"left\">{<em>I</em>(<em>x</em>)}</td>\n",
    "  </tr>\n",
    "  <tr>\n",
    "    <td align=\"right\"><em>H</em><sub>2</sub> =&ensp;</td>\n",
    "    <td align=\"left\">{<em>I</em>(<em>x</em>), <em>F</em>(<em>x</em>)}</td>\n",
    "  </tr>\n",
    "  <tr>\n",
    "    <td align=\"right\"><em>H</em><sub>3</sub> =&ensp;</td>\n",
    "    <td align=\"left\">{<em>I</em>(<em>x</em>), <em>F</em>(<em>G</em>(<em>x</em>))}</td>\n",
    "  </tr>\n",
    "  <tr>\n",
    "    <td align=\"right\"><em>H</em><sub>4</sub> =&ensp;</td>\n",
    "    <td align=\"left\">{<em>I</em>(<em>x</em>), <em>G</em>(<em>F</em>(<em>x</em>))}</td>\n",
    "  </tr>\n",
    "  <tr>\n",
    "    <td align=\"right\"><em>H</em><sub>5</sub> =&ensp;</td>\n",
    "    <td align=\"left\">{<em>I</em>(<em>x</em>), <em>G</em>(<em>x</em>), <em>G</em>(<em>G</em>(<em>x</em>))}</td>\n",
    "  </tr>\n",
    "  <tr>\n",
    "    <td align=\"right\"><em>H</em><sub>6</sub> =&ensp;</td>\n",
    "    <td align=\"left\">{<em>I</em>(<em>x</em>), <em>F</em>(<em>x</em>), <em>G</em>(<em>x</em>), <em>G</em>(<em>G</em>(<em>x</em>)), <em>F</em>(<em>G</em>(<em>x</em>)), \n",
    "    <em>G</em>(<em>F</em>(<em>x</em>))}</td>\n",
    "  </tr>\n",
    "</table>\n",
    "<br>\n",
    "\n",
    "EXAMPLE:<br>\n",
    "Let us find the six fixed fields of &#8474;(<em>a</em>, <em>b</em>) = &#8474;(&#8731;<font style=\"text-decoration:overline\">2</font>, <em>&omega;</em><sub>3</sub>&#8731;<font style=\"text-decoration:overline\">2</font>).<br><br>  \n",
    "\n",
    "The field fix(<em>H</em><sub>1</sub>) is the set of elements fixed by the identity mapping, which is \n",
    "of course all of &#8474;(<em>a</em>, <em>b</em>).  The field fix(<em>H</em><sub>2</sub>) contains the elements fixed by the mapping <em>F</em>, which maps <em>a</em> to \n",
    "<em>b</em>, and <em>b</em> to <em>a</em>.  Notice that the third root, &minus;<em>a</em> &minus; <em>b</em>, is fixed be the automorphism <em>F</em>.  Thus, \n",
    "fix(<em>H</em><sub>2</sub>) = &#8474;(&minus;<em>a</em> &minus; <em>b</em>).  By a similar argument, we see that fix(<em>H</em><sub>3</sub>) = &#8474;(<em>a</em>), and \n",
    "fix(<em>H</em><sub>4</sub>) = &#8474;(<em>b</em>).  The field fix(<em>H</em><sub>5</sub>) is a little bit trickier, since <em>G</em> moves <em>a</em>, <em>b</em>, and \n",
    "&minus;<em>a</em> &minus; <em>b</em>. Let us have <em>SageMath</em> help us find the fixed field.<br>"
   ]
  },
  {
   "cell_type": "code",
   "execution_count": 0,
   "id": "b298be",
   "metadata": {
    "collapsed": false
   },
   "outputs": [
   ],
   "source": [
    "InitDomain(0)\n",
    "AddFieldVar(\"a\")\n",
    "Define(a^3, 2)\n",
    "AddFieldVar(\"b\")\n",
    "Define(b^2, - a^2 - a*b)"
   ]
  },
  {
   "cell_type": "code",
   "execution_count": 0,
   "id": "0d7386",
   "metadata": {
    "collapsed": false
   },
   "outputs": [
   ],
   "source": [
    "G = FieldHomo()\n",
    "HomoDef(G, a, b)\n",
    "HomoDef(G, b, -a-b)"
   ]
  },
  {
   "cell_type": "markdown",
   "id": "7c6192",
   "metadata": {
    "collapsed": false
   },
   "source": [
    "<br>\n",
    "Let us try to find an element that is fixed by <em>G</em>.  The basis for &#8474;(<em>a</em>, <em>b</em>) is {1, <em>a</em>, <em>b</em>, <em>a</em><sup>2</sup>, \n",
    "<em>a</em>&middot;<em>b</em>, <em>a</em><sup>2</sup>&middot;<em>b</em>}.  Of course <em>G</em>(1) = 1, but let us try the other six elements in the basis.<br>"
   ]
  },
  {
   "cell_type": "code",
   "execution_count": 0,
   "id": "415504",
   "metadata": {
    "collapsed": false
   },
   "outputs": [
   ],
   "source": [
    "G(a)"
   ]
  },
  {
   "cell_type": "code",
   "execution_count": 0,
   "id": "b87465",
   "metadata": {
    "collapsed": false
   },
   "outputs": [
   ],
   "source": [
    "G(b)"
   ]
  },
  {
   "cell_type": "code",
   "execution_count": 0,
   "id": "0bc89b",
   "metadata": {
    "collapsed": false
   },
   "outputs": [
   ],
   "source": [
    "G(a^2)"
   ]
  },
  {
   "cell_type": "code",
   "execution_count": 0,
   "id": "75597d",
   "metadata": {
    "collapsed": false
   },
   "outputs": [
   ],
   "source": [
    "G(a*b)"
   ]
  },
  {
   "cell_type": "code",
   "execution_count": 0,
   "id": "8ed677",
   "metadata": {
    "collapsed": false
   },
   "outputs": [
   ],
   "source": [
    "G(a^2*b)"
   ]
  },
  {
   "cell_type": "markdown",
   "id": "ea276c",
   "metadata": {
    "collapsed": false
   },
   "source": [
    "<br>\n",
    "Only the last element, <em>a</em><sup>2</sup>&middot;<em>b</em>, is fixed by the automorphism <em>G</em>.  What element is this?  We can find an approximation for \n",
    "<em>a</em><sup>2</sup>&middot;<em>b</em> by plugging in what <em>a</em> and <em>b</em> represent&mdash;two of the roots to the \n",
    "polynomial <em>x</em><sup>3</sup> &minus; 2.<br><br>\n",
    "\n",
    "Here are the numerical approximations to the roots:<br>"
   ]
  },
  {
   "cell_type": "code",
   "execution_count": 0,
   "id": "40b159",
   "metadata": {
    "collapsed": false
   },
   "outputs": [
   ],
   "source": [
    "N(2^(1/3))"
   ]
  },
  {
   "cell_type": "code",
   "execution_count": 0,
   "id": "f8dc6a",
   "metadata": {
    "collapsed": false
   },
   "outputs": [
   ],
   "source": [
    "N(2^(1/3)*E^(2*pi*I/3))"
   ]
  },
  {
   "cell_type": "markdown",
   "id": "ce6791",
   "metadata": {
    "collapsed": false
   },
   "source": [
    "<br>\n",
    "If we let <em>a</em> = 1.25992, and <em>b</em> = (-0.629961 + 1.09112 <em>i</em>), we find that <em>a</em><sup>2</sup>&middot;<em>b</em> =<br>"
   ]
  },
  {
   "cell_type": "code",
   "execution_count": 0,
   "id": "1fb9be",
   "metadata": {
    "collapsed": false
   },
   "outputs": [
   ],
   "source": [
    "1.25992104989487^2*(-0.629960524947436 + 1.09112363597172*I)"
   ]
  },
  {
   "cell_type": "markdown",
   "id": "58cfbb",
   "metadata": {
    "collapsed": false
   },
   "source": [
    "<br>\n",
    "The real part of the answer is obviously trying to be &minus;1, but the complex part is also familiar.  Comparing this to<br>"
   ]
  },
  {
   "cell_type": "code",
   "execution_count": 0,
   "id": "8c294a",
   "metadata": {
    "collapsed": false
   },
   "outputs": [
   ],
   "source": [
    "N(sqrt(3))"
   ]
  },
  {
   "cell_type": "markdown",
   "id": "f25cae",
   "metadata": {
    "collapsed": false
   },
   "source": [
    "<br>\n",
    "we see that <em>a</em><sup>2</sup>&middot;<em>b</em> = &minus; 1 + &radic;<font style=\"text-decoration:overline\">&minus;3</font>.  This agrees with our previous \n",
    "observation that &radic;<font style=\"text-decoration:overline\">&minus;3</font> is in the field &#8474;(<em>a</em>, <em>b</em>).  Since &minus;1 is already rational, we \n",
    "can write the fixed field fix(<em>H</em><sub>5</sub>) as &#8474;(&radic;<font style=\"text-decoration:overline\">&minus;3</font>).<br><br>\n",
    "\n",
    "Finally, the only elements of &#8474;(<em>a</em>, <em>b</em>) that are fixed by <em>all</em> &#8474;-automorphisms are the elements \n",
    "of &#8474;.  Hence fix(<em>H</em><sub>6</sub>) = &#8474;.<br><br>\n",
    "\n",
    "Here is another example, although a bit easier.<br><br>\n",
    "\n",
    "EXAMPLE:<br>\n",
    "Find the fixed fields for the field &#8474;(&#8731;<font style=\"text-decoration:overline\">2</font>).<br><br>  \n",
    "\n",
    "Since the only &#8474;-automorphism is the \n",
    "identity automorphism, which fixes the whole group, the only fixed field of &#8474;(&#8731;<font style=\"text-decoration:overline\">2</font>) is \n",
    "&#8474;(&#8731;<font style=\"text-decoration:overline\">2</font>), even though there is the obvious subfield &#8474; within this field.<br><br>\n",
    "\n",
    "EXPERIMENT:<br>\n",
    "Consider the field &#8474;(&radic;<font style=\"text-decoration:overline\">2</font>, &radic;<font style=\"text-decoration:overline\">3</font>).  Note that every element of \n",
    "this field can be written as\n",
    "<p style='text-align: center;'><em>a</em> + <em>b</em> &radic;<font style=\"text-decoration:overline\">2</font> + \n",
    "<em>c</em> &radic;<font style=\"text-decoration:overline\">3</font> + <em>d</em> &radic;<font style=\"text-decoration:overline\">6</font>,</p>\n",
    "where <em>a</em>, <em>b</em>, <em>c</em>, and <em>d</em> are rational numbers.  How many subfields does this field have?  We will learn that since this field is a \n",
    "splitting field of <em>x</em><sup>4</sup> &minus; 5 <em>x</em><sup>2</sup> + 6, every subfield is produced as the fixed field of some subgroup of the Galois group.  Can \n",
    "you use this information to see what the elements of the Galois group are?<br>"
   ]
  },
  {
   "cell_type": "markdown",
   "id": "a0e4f2",
   "metadata": {
    "collapsed": false
   },
   "source": [
    "<br>\n",
    "We were hoping to be able to find <em>all</em> subfields of a field by looking at the fixed fields, but in the last example we\n",
    "failed.  We will understand why the field &#8474;(&#8731;<font style=\"text-decoration:overline\">2</font>) is not as well behaved as &#8474;(&#8731;<font style=\"text-decoration:overline\">2</font>, <em>&omega;</em><sub>3</sub>&#8731;<font style=\"text-decoration:overline\">2</font>) in the next section.  "
   ]
  },
  {
   "cell_type": "markdown",
   "id": "cf7e7d",
   "metadata": {
    "collapsed": false
   },
   "source": [
    "<a name=\"sec152\" id=\"sec152\"></a>\n",
    "<h1>The Galois Group of a Polynomial in &#8474;</h1>\n",
    "\n",
    "<br>\n",
    "To demonstrate Galois groups, let us concentrate on polynomials with rational coefficients.  By working with rational numbers, we will avoid the problem of a splitting \n",
    "field having multiple roots.  Recall that earlier we saw that, even though <em>x</em><sup>2</sup> &minus; <em>t</em> is irreducible \n",
    "in <em>Z</em><sub>2</sub>(<em>t</em>), the factorization in the splitting field had multiple roots.  This situation will never happen if we work in the field of \n",
    "rational numbers.<br><br>\n",
    "\n",
    "One advantage of working with a familiar field is that we can borrow a result from calculus.  It isn't often that we will use a calculus result in algebra, but in this \n",
    "case it greatly simplifies the proof."
   ]
  },
  {
   "cell_type": "markdown",
   "id": "b4bb28",
   "metadata": {
    "collapsed": false
   },
   "source": [
    "<a name=\"lem153ret\" id=\"lem153ret\"></a>\n",
    "LEMMA 15.3<br>\n",
    "\n",
    "If <em>f</em>(<em>x</em>) is an irreducible polynomial on &#8474;[<em>x</em>], then <em>f</em>(<em>x</em>) does not have multiple roots in the splitting field \n",
    "of <em>f</em>(<em>x</em>).<br><br>\n",
    "\n",
    "<a href=\"#lem153\">Click here for the proof.</a>\n",
    "\n",
    "<p />\n",
    "Because of this lemma, we know from Proposition 14.10 that any splitting field can be expressed as a simple extension &#8474;(<em>w</em>), and also we will be able to \n",
    "use Proposition 15.4 to predict the size of the Galois group of the splitting field.  We can relate the Galois group of the splitting field directly to the \n",
    "polynomial.<br><br>\n",
    "\n",
    "DEFINITION 15.4<br>\n",
    "Let <em>f</em>(<em>x</em>) be a polynomial in &#8474;.  The <em>Galois group</em> of <em>f</em>(<em>x</em>) is the Galois group of the splitting field \n",
    "of <em>f</em>(<em>x</em>) over &#8474;.<br><br>\n",
    "\n",
    "We have already seen some examples of Galois groups of splitting fields.  The splitting field of <em>x</em><sup>3</sup> &minus; 2 was \n",
    "isomorphic to <em>S</em><sub>3</sub>.  We also computed the Galois group of the splitting field \n",
    "of <em>x</em><sup>4</sup> &minus; 2 <em>x</em><sup>3</sup> + <em>x</em><sup>2</sup> + 1, and found that the Galois group is isomorphic to <em>D</em><sub>4</sub>.<br><br>\n",
    "\n",
    "EXAMPLE:<br>\n",
    "Find, up to isomorphism, the Galois group for the polynomial\n",
    "<p style='text-align: center;'><em>x</em><sup>3</sup> + <em>x</em><sup>2</sup> &minus; 2 <em>x</em> &minus; 1.</p>\n",
    "This polynomial is irreducible, as <em>SageMath</em> can verify:<br>"
   ]
  },
  {
   "cell_type": "code",
   "execution_count": 0,
   "id": "c8107e",
   "metadata": {
    "collapsed": false
   },
   "outputs": [
   ],
   "source": [
    "InitDomain(0, \"x\")\n",
    "factor(x^3 + x^2 - 2*x - 1)"
   ]
  },
  {
   "cell_type": "markdown",
   "id": "236991",
   "metadata": {
    "collapsed": false
   },
   "source": [
    "<br>\n",
    "Thus, we can let <em>a</em> denote one of the roots, and try to factor this in &#8474;(<em>a</em>).<br>"
   ]
  },
  {
   "cell_type": "code",
   "execution_count": 0,
   "id": "e1f927",
   "metadata": {
    "collapsed": false
   },
   "outputs": [
   ],
   "source": [
    "AddFieldVar(\"a\")\n",
    "Define(a^3, - a^2 + 2*a + 1)\n",
    "factor(x^3 + x^2 - 2*x - 1)"
   ]
  },
  {
   "cell_type": "markdown",
   "id": "81a9fe",
   "metadata": {
    "collapsed": false
   },
   "source": [
    "<br>\n",
    "Note that this factors completely.  Thus, the splitting field \n",
    "of <em>x</em><sup>3</sup> + <em>x</em><sup>2</sup> &minus; 2 <em>x</em> &minus; 1 is &#8474;(<em>a</em>).  This is a 3-dimensional extension of &#8474;, so by \n",
    "Proposition 15.4, the Galois group has three elements, hence is isomorphic to <em>Z</em><sub>3</sub>.<br><br>\n",
    "\n",
    "EXPERIMENT:<br>\n",
    "Using a similar argument, determine which familiar group the Galois group \n",
    "of <em>x</em><sup>5</sup> + <em>x</em><sup>4</sup> &minus; 4 <em>x</em><sup>3</sup> &minus; 3 <em>x</em><sup>2</sup> + 3 <em>x</em> + 1 is isomorphic to.<br>"
   ]
  },
  {
   "cell_type": "markdown",
   "id": "b893d8",
   "metadata": {
    "collapsed": false
   },
   "source": [
    "<br>\n",
    "EXAMPLE:<br>\n",
    "Find, up to isomorphism, the Galois group for the polynomial <em>x</em><sup>5</sup> &minus; 5 <em>x</em> + 12.<br><br>  \n",
    "\n",
    "In the last chapter, we were able to find a splitting field by making two extensions, one \n",
    "of dimension 5, and one of dimension 2.  Here is the factorization that was produced:<br>"
   ]
  },
  {
   "cell_type": "code",
   "execution_count": 0,
   "id": "0fbae3",
   "metadata": {
    "collapsed": false
   },
   "outputs": [
   ],
   "source": [
    "InitDomain(0, \"x\")\n",
    "AddFieldVar(\"a\")\n",
    "Define(a^5, 5*a - 12)\n",
    "AddFieldVar(\"b\")\n",
    "Define(b^2, - 2 + 5*a/4 + a^2/4 + a^3/4 + a^4/4 - b - 3*a*b/4 + a^2*b/4 + a^3*b/4 + a^4*b/4)\n",
    "factor(x^5 - 5*x + 12)"
   ]
  },
  {
   "cell_type": "markdown",
   "id": "949ab3",
   "metadata": {
    "collapsed": false
   },
   "source": [
    "<br>\n",
    "If we define<br>"
   ]
  },
  {
   "cell_type": "code",
   "execution_count": 0,
   "id": "464766",
   "metadata": {
    "collapsed": false
   },
   "outputs": [
   ],
   "source": [
    "c = (a^4 + a^3 + a^2 - 3*a - 4*b - 4) / 4"
   ]
  },
  {
   "cell_type": "code",
   "execution_count": 0,
   "id": "9d5475",
   "metadata": {
    "collapsed": false
   },
   "outputs": [
   ],
   "source": [
    "d = (a - 4 - a^2 + a^3 - a^4 - 4*b - a*b + a^2*b - a^3*b + a^4*b)/8"
   ]
  },
  {
   "cell_type": "code",
   "execution_count": 0,
   "id": "b4cfdb",
   "metadata": {
    "collapsed": false
   },
   "outputs": [
   ],
   "source": [
    "e = (12 - 3*a - a^2 - 3*a^3 - a^4 + 4*b + a*b - a^2*b + a^3*b - a^4*b)/8"
   ]
  },
  {
   "cell_type": "markdown",
   "id": "86871a",
   "metadata": {
    "collapsed": false
   },
   "source": [
    "<br>\n",
    "we see that the product<br>"
   ]
  },
  {
   "cell_type": "code",
   "execution_count": 0,
   "id": "f99901",
   "metadata": {
    "collapsed": false
   },
   "outputs": [
   ],
   "source": [
    "(x - a)*(x - b)*(x - c)*(x - d)*(x - e)"
   ]
  },
  {
   "cell_type": "markdown",
   "id": "7cc35b",
   "metadata": {
    "collapsed": false
   },
   "source": [
    "<br>\n",
    "simplifies to the original polynomial <em>x</em><sup>5</sup> &minus; 5 <em>x</em> + 12.  Thus, the five roots are <em>a</em>, <em>b</em>, <em>c</em>, <em>d</em>, and \n",
    "<em>e</em>.  Thus, any &#8474;-automorphism on the splitting field must send <em>a</em> and <em>b</em> to one of these five elements.  Let us try to define a \n",
    "homomorphism <em>&fnof;</em> that sends <em>&fnof;</em>(<em>a</em>) = <em>b</em>, and <em>&fnof;</em>(<em>b</em>) = <em>a</em>.<br>"
   ]
  },
  {
   "cell_type": "code",
   "execution_count": 0,
   "id": "4f798e",
   "metadata": {
    "collapsed": false
   },
   "outputs": [
   ],
   "source": [
    "F = FieldHomo()\n",
    "HomoDef(F, a, b)\n",
    "HomoDef(F, b, a)\n",
    "CheckHomo(F)"
   ]
  },
  {
   "cell_type": "markdown",
   "id": "164220",
   "metadata": {
    "collapsed": false
   },
   "source": [
    "<br>\n",
    "This homomorphism works!  Not only does <em>SageMath</em> verify that this is a homomorphism, but it can draw a circle graph describing how this homomorphism acts on the \n",
    "five roots.<br>"
   ]
  },
  {
   "cell_type": "code",
   "execution_count": 0,
   "id": "fd91a1",
   "metadata": {
    "collapsed": false
   },
   "outputs": [
   ],
   "source": [
    "CircleGraph([a, b, \"c\", \"d\", \"e\"], F)"
   ]
  },
  {
   "cell_type": "markdown",
   "id": "b827cc",
   "metadata": {
    "collapsed": false
   },
   "source": [
    "<br>\n",
    "Note that we put the elements <em>c</em>, <em>d</em>, and <em>e</em> in quotes.  This way, the single letter notations for these elements appear in the circle graph.\n",
    "Otherwise, the expanded values would be displayed, making the graph very messy.<br><br>\n",
    "\n",
    "From this, we see that <em>&fnof;</em>(<em>c</em>) = <em>d</em>, <em>&fnof;</em>(<em>d</em>) = <em>c</em>, and <em>&fnof;</em>(<em>e</em>) = <em>e</em>.<br><br>\n",
    "\n",
    "EXPERIMENT:<br>\n",
    "What if we tried to define a homomorphism in <em>SageMath</em> for which <em>&fnof;</em>(<em>a</em>) = <em>b</em>, and <em>&fnof;</em>(<em>b</em>) = <em>c</em>?  Try changing \n",
    "the above commands to see if this indeed produces a homomorphism.<br>"
   ]
  },
  {
   "cell_type": "markdown",
   "id": "f8b232",
   "metadata": {
    "collapsed": false
   },
   "source": [
    "Not every possible way of mapping <em>a</em> and <em>b</em> to the roots <em>a</em>, <em>b</em>, <em>c</em>, <em>d</em>, and <em>e</em> will produce a \n",
    "homomorphism.  Thus, finding other homomorphisms requires a little trial and error.  In fact, exactly half of the attempts will produce a homomorphism in this \n",
    "example.<br><br>\n",
    "\n",
    "Let us try one more time to find a different homomorphism. This time, we will try to have <em>&fnof;</em>(<em>a</em>) = <em>a</em>, and <em>&fnof;</em>(<em>b</em>) = \n",
    "<em>c</em>.<br>"
   ]
  },
  {
   "cell_type": "code",
   "execution_count": 0,
   "id": "16e3a3",
   "metadata": {
    "collapsed": false
   },
   "outputs": [
   ],
   "source": [
    "F = FieldHomo()\n",
    "HomoDef(F, a, a)\n",
    "HomoDef(F, b, c)\n",
    "CheckHomo(F)"
   ]
  },
  {
   "cell_type": "markdown",
   "id": "a3c2bc",
   "metadata": {
    "collapsed": false
   },
   "source": [
    "<br>\n",
    "This homomorphism also works. The circle graph is given by<br>"
   ]
  },
  {
   "cell_type": "code",
   "execution_count": 0,
   "id": "e45cc9",
   "metadata": {
    "collapsed": false
   },
   "outputs": [
   ],
   "source": [
    "CircleGraph([a, b, \"c\", \"d\", \"e\"], F)"
   ]
  },
  {
   "cell_type": "markdown",
   "id": "6f750f",
   "metadata": {
    "collapsed": false
   },
   "source": [
    "<br>\n",
    "by which we see that <em>&fnof;</em>(<em>c</em>) = <em>b</em>, <em>&fnof;</em>(<em>d</em>) = <em>e</em>, and <em>&fnof;</em>(<em>e</em>) = <em>d</em>.<br><br>\n",
    "\n",
    "We have found two &#8474;-automorphisms, but of course we know that there are more.  Instead of trying to find homomorphisms, why don't we take advantage of \n",
    "Corollary 15.1?  Since the Galois group is a subgroup of <em>S</em><sub>5</sub>, we can rewrite the homomorphisms as permutations.  All we need to do is number the roots \n",
    "of the polynomial in the same order as in the circle graphs:<br><br>\n",
    "<table align=\"center\" border=\"0\" cellspacing=\"0\" cellpadding=\"0\">\n",
    "  <tr>\n",
    "    <td align=\"left\">1)</td>\n",
    "    <td align=\"left\"><em>a</em></td>\n",
    "  </tr>\n",
    "  <tr>\n",
    "    <td align=\"left\">2)</td>\n",
    "    <td align=\"left\"><em>b</em></td>\n",
    "  </tr>\n",
    "  <tr>\n",
    "    <td align=\"left\">3)</td>\n",
    "    <td align=\"left\"><em>c</em></td>\n",
    "  </tr>\n",
    "  <tr>\n",
    "    <td align=\"left\">4)</td>\n",
    "    <td align=\"left\"><em>d</em></td>\n",
    "  </tr>\n",
    "    <tr>\n",
    "    <td align=\"left\">5)</td>\n",
    "    <td align=\"left\"><em>e</em></td>\n",
    "  </tr>\n",
    "</table>\n",
    "<br>\n",
    "Since the first &#8474;-automorphism swapped the first two roots, and the third and forth roots, this can be represented by the \n",
    "permutation <strong>P(2,1,4,3)</strong>.  Likewise, the last &#8474;-automorphism discovered swaps the last two roots, and the second and third roots.  This becomes \n",
    "the permutation <strong>P(1,3,2,5,4)</strong>.<br><br>\n",
    "\n",
    "Since the Galois group is a subgroup of <em>S</em><sub>5</sub>, we can ask <em>SageMath</em> to find the subgroup generated by these two permutations.<br>"
   ]
  },
  {
   "cell_type": "code",
   "execution_count": 0,
   "id": "cfd1f2",
   "metadata": {
    "collapsed": false
   },
   "outputs": [
   ],
   "source": [
    "G = Group(P(2,1,4,3), P(1,3,2,5,4)); G"
   ]
  },
  {
   "cell_type": "code",
   "execution_count": 0,
   "id": "cd0144",
   "metadata": {
    "collapsed": false
   },
   "outputs": [
   ],
   "source": [
    "len(G)"
   ]
  },
  {
   "cell_type": "markdown",
   "id": "ad08ed",
   "metadata": {
    "collapsed": false
   },
   "source": [
    "<br>\n",
    "Thus we have 10 permutations.  Proposition 15.4 states that the size of the Galois group is equal to the dimension of the splitting field.  Since the splitting field is \n",
    "a 2-dimensional extension of a 5-dimensional extension, the Galois group contains exactly 10 elements.  Thus, we have found all of the &#8474;-automorphisms of the \n",
    "splitting field.  Furthermore, we can display a Cayley table of the Galois group:<br>"
   ]
  },
  {
   "cell_type": "code",
   "execution_count": 0,
   "id": "4a9ae5",
   "metadata": {
    "collapsed": false
   },
   "outputs": [
   ],
   "source": [
    "CayleyTable(G)"
   ]
  },
  {
   "cell_type": "markdown",
   "id": "c5fc33",
   "metadata": {
    "collapsed": false
   },
   "source": [
    "<br>\n",
    "This reveals that the Galois group is non-abelian, and hence must be isomorphic to <em>D</em><sub>5</sub>.<br><br>\n",
    "\n",
    "EXPERIMENT:<br>\n",
    "\n",
    "Can you see how to use Proposition 15.4 and Corollary 15.1 to prove <em>directly</em> that the Galois group of the splitting field \n",
    "of <em>x</em><sup>5</sup> &minus; 5 <em>x</em> + 12 must be isomorphic to <em>D</em><sub>5</sub>?<br>"
   ]
  },
  {
   "cell_type": "markdown",
   "id": "170b27",
   "metadata": {
    "collapsed": false
   },
   "source": [
    "<br>\n",
    "Here is another example that illustrates the variety of groups that can be produced by a Galois group of a polynomial.<br><br>\n",
    "\n",
    "EXAMPLE:<br>\n",
    "Find, up to isomorphism, the Galois group for the eighth degree polynomial\n",
    "<p style='text-align: center;'><em>x</em><sup>8</sup> &minus; 12 <em>x</em><sup>6</sup> + 36 <em>x</em><sup>4</sup> &minus; 36 <em>x</em><sup>2</sup> + 9.</p> \n",
    "<em>SageMath</em> can verify that this is irreducible.<br>"
   ]
  },
  {
   "cell_type": "code",
   "execution_count": 0,
   "id": "598b9d",
   "metadata": {
    "collapsed": false
   },
   "outputs": [
   ],
   "source": [
    "InitDomain(0, \"x\")\n",
    "factor(x^8 - 12*x^6 + 36*x^4 - 36*x^2 + 9)"
   ]
  },
  {
   "cell_type": "markdown",
   "id": "9e5442",
   "metadata": {
    "collapsed": false
   },
   "source": [
    "<br>\n",
    "Thus, we can define <em>a</em> to be one root of this equation.<br>"
   ]
  },
  {
   "cell_type": "code",
   "execution_count": 0,
   "id": "8d795f",
   "metadata": {
    "collapsed": false
   },
   "outputs": [
   ],
   "source": [
    "AddFieldVar(\"a\")\n",
    "Define(a^8, 12*a^6 - 36*a^4 + 36*a^2 - 9)"
   ]
  },
  {
   "cell_type": "markdown",
   "id": "027c67",
   "metadata": {
    "collapsed": false
   },
   "source": [
    "<br>\n",
    "Can we factor this in the field &#8474;(<em>a</em>)?<br>"
   ]
  },
  {
   "cell_type": "code",
   "execution_count": 0,
   "id": "41235b",
   "metadata": {
    "collapsed": false
   },
   "outputs": [
   ],
   "source": [
    "factor(x^8 - 12*x^6 + 36*x^4 - 36*x^2 + 9)"
   ]
  },
  {
   "cell_type": "markdown",
   "id": "0ff3cf",
   "metadata": {
    "collapsed": false
   },
   "source": [
    "<br>\n",
    "We can verify the factorization:<br>"
   ]
  },
  {
   "cell_type": "code",
   "execution_count": 0,
   "id": "7e15bc",
   "metadata": {
    "collapsed": false
   },
   "outputs": [
   ],
   "source": [
    "b = a^5/3 - 3*a^3 + 3*a\n",
    "c = a^7/3 - 10*a^5/3 + 5*a^3 + a\n",
    "d = 2*a^7/3 - 22*a^5/3 + 17*a^3 - 10*a"
   ]
  },
  {
   "cell_type": "code",
   "execution_count": 0,
   "id": "fb57e2",
   "metadata": {
    "collapsed": false
   },
   "outputs": [
   ],
   "source": [
    "(x - a)*(x + a)*(x - b)*(x + b)*(x - c)*(x + c)*(x - d)*(x + d)"
   ]
  },
  {
   "cell_type": "markdown",
   "id": "7d8b17",
   "metadata": {
    "collapsed": false
   },
   "source": [
    "<br>\n",
    "Using either computation, <em>SageMath</em> shows us that the splitting field for this polynomial is simply &#8474;(<em>a</em>).  Since this is an 8-dimensional extension \n",
    "of &#8474;, the Galois group will have eight elements.  But which group is this isomorphic to?<br><br>\n",
    "\n",
    "Note that the negative of each root is also a root.  We will use the following order of the roots for \n",
    "the circle graphs:\n",
    "<br><br>\n",
    "<table align=\"center\" border=\"0\" cellspacing=\"0\" cellpadding=\"0\">\n",
    "  <tr>\n",
    "    <td align=\"left\">1)</td>\n",
    "    <td align=\"left\"><em>a</em></td>\n",
    "  </tr>\n",
    "  <tr>\n",
    "    <td align=\"left\">2)</td>\n",
    "    <td align=\"left\"><em>b</em></td>\n",
    "  </tr>\n",
    "  <tr>\n",
    "    <td align=\"left\">3)</td>\n",
    "    <td align=\"left\"><em>c</em></td>\n",
    "  </tr>\n",
    "  <tr>\n",
    "    <td align=\"left\">4)</td>\n",
    "    <td align=\"left\"><em>d</em></td>\n",
    "  </tr>\n",
    "  <tr>\n",
    "    <td align=\"left\">5)</td>\n",
    "    <td align=\"left\">&minus;<em>a</em></td>\n",
    "  </tr>\n",
    "  <tr>\n",
    "    <td align=\"left\">6)</td>\n",
    "    <td align=\"left\">&minus;<em>b</em></td>\n",
    "  </tr>\n",
    "  <tr>\n",
    "    <td align=\"left\">7)</td>\n",
    "    <td align=\"left\">&minus;<em>c</em></td>\n",
    "  </tr>\n",
    "  <tr>\n",
    "    <td align=\"left\">8)</td>\n",
    "    <td align=\"left\">&minus;<em>d</em></td>\n",
    "  </tr>\n",
    "</table>\n",
    "<br>\n",
    "By Proposition 15.2, there is a &#8474;-automorphism <em>&fnof;</em> for which <em>&fnof;</em>(<em>a</em>) = <em>b</em>.<br>"
   ]
  },
  {
   "cell_type": "code",
   "execution_count": 0,
   "id": "58f5b7",
   "metadata": {
    "collapsed": false
   },
   "outputs": [
   ],
   "source": [
    "F = FieldHomo()\n",
    "HomoDef(F, a, b)\n",
    "CheckHomo(F)"
   ]
  },
  {
   "cell_type": "markdown",
   "id": "06d179",
   "metadata": {
    "collapsed": false
   },
   "source": [
    "<br>\n",
    "We can have <em>SageMath</em> find where the other seven roots are mapped to.<br>"
   ]
  },
  {
   "cell_type": "code",
   "execution_count": 0,
   "id": "a1d74d",
   "metadata": {
    "collapsed": false
   },
   "outputs": [
   ],
   "source": [
    "CircleGraph([a, \"b\", \"c\", \"d\", -a, \"-b\", \"-c\", \"-d\"], F)"
   ]
  },
  {
   "cell_type": "markdown",
   "id": "a91f83",
   "metadata": {
    "collapsed": false
   },
   "source": [
    "<br>\n",
    "We see that <em>&fnof;</em>(<em>b</em>) = &minus;<em>a</em>, <em>&fnof;</em>(<em>c</em>) = &minus;<em>d</em>, and <em>&fnof;</em>(<em>d</em>) = <em>c</em>.  Any of \n",
    "these results surprising?  Using the numbering scheme given above, we can express this element of the Galois group as <strong>P(2, 5, 8, 3, 6, 1, 4, 7)</strong>.<br><br>\n",
    "\n",
    "Let us try a &#8474;-automorphism which sends <em>a</em> to <em>c</em>.<br>"
   ]
  },
  {
   "cell_type": "code",
   "execution_count": 0,
   "id": "6467be",
   "metadata": {
    "collapsed": false
   },
   "outputs": [
   ],
   "source": [
    "G = FieldHomo()\n",
    "HomoDef(G, a, c)\n",
    "CheckHomo(G)"
   ]
  },
  {
   "cell_type": "markdown",
   "id": "84b74f",
   "metadata": {
    "collapsed": false
   },
   "source": [
    "<br>\n",
    "Once again, we will use <em>SageMath</em>'s circle graph to convert this to a permutation.<br>"
   ]
  },
  {
   "cell_type": "code",
   "execution_count": 0,
   "id": "5dbe14",
   "metadata": {
    "collapsed": false
   },
   "outputs": [
   ],
   "source": [
    "CircleGraph([a, \"b\", \"c\", \"d\", -a, \"-b\", \"-c\", \"-d\"], G)"
   ]
  },
  {
   "cell_type": "markdown",
   "id": "42f0fe",
   "metadata": {
    "collapsed": false
   },
   "source": [
    "<br>\n",
    "This element of the Galois group behaves like the permutation <strong>P(3, 4, 5, 6, 7, 8, 1, 2)</strong>.  With these two permutations, we can determine whether we \n",
    "can generate the whole Galois group.<br>"
   ]
  },
  {
   "cell_type": "code",
   "execution_count": 0,
   "id": "891090",
   "metadata": {
    "collapsed": false
   },
   "outputs": [
   ],
   "source": [
    "G = Group(P(2,5,8,3,6,1,4,7), P(3,4,5,6,7,8,1,2) ); G"
   ]
  },
  {
   "cell_type": "markdown",
   "id": "1ba171",
   "metadata": {
    "collapsed": false
   },
   "source": [
    "<br>\n",
    "This gives eight elements, so this is the entire Galois group.  Here is the Cayley table.<br>"
   ]
  },
  {
   "cell_type": "code",
   "execution_count": 0,
   "id": "a872a5",
   "metadata": {
    "collapsed": false
   },
   "outputs": [
   ],
   "source": [
    "CayleyTable(G)"
   ]
  },
  {
   "cell_type": "code",
   "execution_count": 0,
   "id": "943a73",
   "metadata": {
    "collapsed": false
   },
   "outputs": [
   ],
   "source": [
    "RootCount(G, 2)"
   ]
  },
  {
   "cell_type": "markdown",
   "id": "1c8990",
   "metadata": {
    "collapsed": false
   },
   "source": [
    "<br>\n",
    "Notice that this group is non-commutative, and that there is only one element of order 2.  Since <em>D</em><sub>4</sub> has five elements of order 2, this group must \n",
    "be isomorphic to the quaternion group <em>Q</em>.<br><br>\n",
    "\n",
    "EXPERIMENT:<br>\n",
    "Use a similar approach to find the Galois group of the polynomial <em>x</em><sup>4</sup> &minus; 2.<br>"
   ]
  },
  {
   "cell_type": "markdown",
   "id": "48f063",
   "metadata": {
    "collapsed": false
   },
   "source": [
    "<br>\n",
    "Here is one more example that at first seems difficult, but it is in fact easy!<br><br>\n",
    "\n",
    "EXAMPLE:<br>\n",
    "Find, up to isomorphism, the Galois group for the polynomial <em>x</em><sup>4</sup> &minus; <em>x</em> + 1.<br><br>\n",
    "\n",
    "In the last chapter we saw that the splitting field was 24 dimensional over &#8474;.  We know from Corollary 15.1 that the Galois group is a subgroup \n",
    "of <em>S</em><sub>4</sub>.  But <em>S</em><sub>4</sub> has 24 elements, so the Galois group of <em>x</em><sup>4</sup> &minus; <em>x</em> + 1 must be isomorphic \n",
    "to <em>S</em><sub>4</sub>.<br><br>\n",
    "\n",
    "SageMath has a way of determining the Galois group, up to isomorphism, for irreducible polynomials up to degree around 15 (although some polynomials of degree 14 or 15 take an unreasonable amount of time).  \n",
    "We first use <strong>InitDomain</strong> to define &#8474;[<em>x</em>], and then use <strong>GaloisType</strong> on the polynomial.<br>"
   ]
  },
  {
   "cell_type": "code",
   "execution_count": 0,
   "id": "43233e",
   "metadata": {
    "collapsed": false
   },
   "outputs": [
   ],
   "source": [
    "InitDomain(0, \"x\")\n",
    "GaloisType(x^8 - 12*x^6 + 36*x^4 - 36*x^2 + 9)"
   ]
  },
  {
   "cell_type": "code",
   "execution_count": 0,
   "id": "5e3955",
   "metadata": {
    "collapsed": false
   },
   "outputs": [
   ],
   "source": [
    "GaloisType(x^5 - 5*x + 12)"
   ]
  },
  {
   "cell_type": "markdown",
   "id": "bce7e0",
   "metadata": {
    "collapsed": false
   },
   "source": [
    "<br>\n",
    "In this way, we quickly verified the last two examples.  However, this only gives an isomorphic group to the Galois group, \n",
    "instead of explicitly showing the elements of the group.  Here is one last example.<br>"
   ]
  },
  {
   "cell_type": "code",
   "execution_count": 0,
   "id": "e43314",
   "metadata": {
    "collapsed": false
   },
   "outputs": [
   ],
   "source": [
    "GaloisType(x^5 - x + 1)"
   ]
  },
  {
   "cell_type": "markdown",
   "id": "a1d899",
   "metadata": {
    "collapsed": false
   },
   "source": [
    "<br>\n",
    "Thus, <em>SageMath</em> says that the Galois group for the polynomial <em>x</em><sup>5</sup> &minus; <em>x</em> + 1 \n",
    "is <em>S</em><sub>5</sub>.\n",
    "<br><br>\n",
    "For the final example, we wish to explore a whole class of polynomials at the same time.  In the last chapter, we computed the splitting field of the cyclotomic \n",
    "polynomials, and determined that <em>K</em> = &#8474;(<em>&omega;<sub>n</sub></em>), where\n",
    "<p style='text-align: center;'><em>&omega;<sub>n</sub></em> = <em>e</em><sup>(2<em>&pi;i</em>/<em>n</em>)</sup> = \n",
    "cos<span style=\"font-size:24px\">(</span><sup>2<em>&pi;</em></sup>&frasl;<sub><em>n</em></sub><span style=\"font-size:24px\">)</span> + \n",
    "<em>i</em> sin<span style=\"font-size:24px\">(</span><sup>2<em>&pi;</em></sup>&frasl;<sub><em>n</em></sub><span style=\"font-size:24px\">)</span>.</p>\n",
    "We can use Proposition 14.9, along with some of the facts observed from &sect;13.3 to find the Galois group of the <em>n</em><sup>th</sup> cyclotomic polynomial &Phi;<sub><em>n</em></sub>(<em>x</em>)."
   ]
  },
  {
   "cell_type": "markdown",
   "id": "e1b1bb",
   "metadata": {
    "collapsed": false
   },
   "source": [
    "<a name=\"prop156ret\" id=\"prop156ret\"></a>\n",
    "PROPOSITION 15.6<br>\n",
    "\n",
    "Let <em>&omega;<sub>n</sub></em> be a primitive <em>n</em><sup>th</sup> root of unity, and let <em>K</em> = &#8474;(<em>&omega;<sub>n</sub></em>).  Then \n",
    "Gal<sub>&#8474;</sub>(<em>K</em>) &asymp; <em>Z<sub>n</sub></em><sup>&ast;</sup>.<br><br>\n",
    "\n",
    "<a href=\"#prop156\">Click here for the proof.</a>\n",
    "\n",
    "<p />\n",
    "From all of these examples, we have seen a host of different groups produced as Galois groups of \n",
    "polynomials: <em>S</em><sub>3</sub>, <em>Z</em><sub>3</sub>, <em>D</em><sub>5</sub>, <em>Z</em><sub>5</sub>, <em>Q</em>, <em>D</em><sub>4</sub>, <em>S</em><sub>4</sub>, and\n",
    "all groups of the form <em>Z<sub>n</sub></em><sup>&ast;</sup>.  It is natural to ask whether <em>all</em> finite groups can be expressed as a Galois group of some polynomial \n",
    "in &#8474;[<em>x</em>].  This is still an open problem, known as the <em>inverse Galois problem</em>.  There has been much progress made on this problem, and it is \n",
    "very likely to be solved soon.<br><br>\n",
    "\n",
    "While we are working with cyclotomic polynomials and <em>n</em><sup>th</sup> roots of unity, let us prove one more proposition that will be used later on."
   ]
  },
  {
   "cell_type": "markdown",
   "id": "c6141a",
   "metadata": {
    "collapsed": false
   },
   "source": [
    "<a name=\"prop157ret\" id=\"prop157ret\"></a>\n",
    "PROPOSITION 15.7<br>\n",
    "\n",
    "Let <em>F</em> be a finite extension of &#8474; that contains the <em>n</em><sup>th</sup> roots of unity.  Then if <em>u</em> is a root of the \n",
    "polynomial <em>f</em>(<em>x</em>) = <em>x<sup>n</sup></em> &minus; <em>c</em> for some <em>c</em> &ne; <em>0</em> in <em>F</em>, then <em>K</em> = <em>F</em>(<em>u</em>) \n",
    "is the splitting field of <em>f</em>(<em>x</em>), and Gal<sub><em>F</em></sub>(<em>K</em>) is abelian.<br><br>\n",
    "\n",
    "<a href=\"#prop157\">Click here for the proof.</a>\n",
    "\n",
    "<p />\n",
    "To introduce the problem of whether a fifth degree polynomial can, in general, be solved in terms of square roots, cube roots, or fifth roots, we will \n",
    "have <em>SageMath</em> try to solve some polynomial equations for us. <em>SageMath</em> can solve polynomials with the command<br>"
   ]
  },
  {
   "cell_type": "code",
   "execution_count": 0,
   "id": "0d1850",
   "metadata": {
    "collapsed": false
   },
   "outputs": [
   ],
   "source": [
    "var(\"x\")"
   ]
  },
  {
   "cell_type": "code",
   "execution_count": 0,
   "id": "5086f3",
   "metadata": {
    "collapsed": false
   },
   "outputs": [
   ],
   "source": [
    "solve(x^2 - x + 2, x)"
   ]
  },
  {
   "cell_type": "markdown",
   "id": "56149f",
   "metadata": {
    "collapsed": false
   },
   "source": [
    "<br>\n",
    "Note that the &quot;double equals&quot; == is <em>SageMath</em>'s way of expressing an equation.  Obviously, <em>SageMath</em> is using the quadratic equation to find the \n",
    "roots.  Let us try changing the <strong>x^2</strong> to <strong>x^3</strong>:<br>"
   ]
  },
  {
   "cell_type": "code",
   "execution_count": 0,
   "id": "c15ae6",
   "metadata": {
    "collapsed": false
   },
   "outputs": [
   ],
   "source": [
    "solve(x^3 - x + 2, x)"
   ]
  },
  {
   "cell_type": "markdown",
   "id": "d67fbd",
   "metadata": {
    "collapsed": false
   },
   "source": [
    "<br>\n",
    "<em>SageMath</em> was still able to solve this, but what a mess!  The answer involves the square root of 78.  Apparently <em>SageMath</em> is using a formula that finds the \n",
    "roots of any cubic equation.<br><br>\n",
    "\n",
    "Let us try a fourth degree equation:<br>"
   ]
  },
  {
   "cell_type": "code",
   "execution_count": 0,
   "id": "bc1955",
   "metadata": {
    "collapsed": false
   },
   "outputs": [
   ],
   "source": [
    "solve(x^4 - x + 2, x)"
   ]
  },
  {
   "cell_type": "markdown",
   "id": "1e1a81",
   "metadata": {
    "collapsed": false
   },
   "source": [
    "<br>\n",
    "Once again, <em>SageMath</em> was able to express the answer in terms of square roots and cube roots, yet this seems even more of a mess.<br><br>\n",
    "\n",
    "EXPERIMENT:<br>\n",
    "Replace the fourth degree equation <em>x</em><sup>4</sup> &minus; <em>x</em> + 2 with any other fourth degree equation in <em>x</em>.  Is <em>SageMath</em> able to \n",
    "find the roots?<br>"
   ]
  },
  {
   "cell_type": "markdown",
   "id": "721707",
   "metadata": {
    "collapsed": false
   },
   "source": [
    "<br>\n",
    "The equations for the cubic equation and the fourth degree equation were discovered in 1539 and 1545.  The natural question is whether there is a similar formula \n",
    "for fifth degree polynomials.  Let us try to solve a fifth degree polynomial in <em>SageMath</em>.<br>"
   ]
  },
  {
   "cell_type": "code",
   "execution_count": 0,
   "id": "7d168f",
   "metadata": {
    "collapsed": false
   },
   "outputs": [
   ],
   "source": [
    "solve(x^5 - x + 2, x)"
   ]
  },
  {
   "cell_type": "markdown",
   "id": "b4fa2f",
   "metadata": {
    "collapsed": false
   },
   "source": [
    "<br>\n",
    "What happened?  <em>SageMath</em> does not know of any formula for the fifth degree polynomial.  As a result, <em>SageMath</em> keeps the equation intact.  Here is how we can get\n",
    "a list of <em>approximate</em> roots:<br>"
   ]
  },
  {
   "cell_type": "code",
   "execution_count": 0,
   "id": "1ea38c",
   "metadata": {
    "collapsed": false
   },
   "outputs": [
   ],
   "source": [
    "(x^5 - x + 2 == 0).roots(x, ring = CC, multiplicities = false)"
   ]
  },
  {
   "cell_type": "markdown",
   "id": "71a4b6",
   "metadata": {
    "collapsed": false
   },
   "source": [
    "<br>\n",
    "The <strong>CC</strong> is <em>SageMath</em>'s notation for floating point complex numbers.  We see that there are indeed five complex roots to the equation.<br><br>\n",
    "\n",
    "The problem is not that <em>SageMath</em> is not smart enough to find a formula for the fifth degree polynomials.  In fact, it is <em>impossible</em> to find a formula for \n",
    "the roots of a fifth degree polynomial in terms of square roots, cube roots, or any other roots.  The reason why is based on the properties of the Galois groups.  The \n",
    "next section will reveal how the Galois groups are related to the splitting field.<br><br>"
   ]
  },
  {
   "cell_type": "markdown",
   "id": "d767d8",
   "metadata": {
    "collapsed": false
   },
   "source": [
    "<a name=\"sec153\" id=\"sec153\"></a>\n",
    "<h1>The Fundamental Theorem of Galois Theory</h1>\n",
    "\n",
    "<br>\n",
    "In this section we will clarify the relationship between subgroups of the Galois group, and the subfields of the extension field.  The natural correlation is to map to \n",
    "each subgroup of Gal<sub><em>F</em></sub>(<em>K</em>) the fixed field of the subgroup.  However, we ended &sect;15.1 with what seemed to be a bad \n",
    "example&mdash;&#8474;(&#8731;<font style=\"text-decoration:overline\">2</font>).  The only fixed field was &#8474;(&#8731;<font style=\"text-decoration:overline\">2</font>), \n",
    "even though there was the obvious subfield.  The way we will deal with exceptions like this one is to consider only field extensions for which the original field appears \n",
    "as one of the fixed fields.<br><br>\n",
    "\n",
    "DEFINITION 15.5<br>\n",
    "Let <em>K</em> be a finite extension of <em>F</em>.  We say that <em>K</em> is a <em>Galois extension</em> if the fixed field of Gal<sub><em>F</em></sub>(<em>K</em>) is \n",
    "the field <em>F</em>.<br><br>\n",
    "\n",
    "Although this definition successfully rules out &#8474;(&#8731;<font style=\"text-decoration:overline\">2</font>) from being a Galois extension, we need to find a simple \n",
    "test for determining whether a finite extension is a Galois extension.  The following proposition takes us one step in that direction."
   ]
  },
  {
   "cell_type": "markdown",
   "id": "821a13",
   "metadata": {
    "collapsed": false
   },
   "source": [
    "<a name=\"prop158ret\" id=\"prop158ret\"></a>\n",
    "PROPOSITION 15.8<br>\n",
    "\n",
    "Let <em>F</em> be a field, and <em>K</em> a Galois extension of <em>F</em>.  If <em>f</em>(<em>x</em>) is an irreducible polynomial in <em>F</em>[<em>x</em>] that has \n",
    "at least one root in <em>K</em>, then <em>f</em>(<em>x</em>) factors completely in <em>K</em>.  Furthermore, <em>f</em>(<em>x</em>) has no multiple roots in the \n",
    "field <em>K</em>.<br><br>\n",
    "\n",
    "<a href=\"#prop158\">Click here for the proof.</a>\n",
    "\n",
    "<p />\n",
    "This proposition allows us to immediately rule out certain field extensions from being a Galois \n",
    "extension.  Clearly &#8474;(&#8731;<font style=\"text-decoration:overline\">2</font>) is ruled out \n",
    "because &#8474;(&#8731;<font style=\"text-decoration:overline\">2</font>) is not a splitting field.  But there are even some splitting fields that are not Galois \n",
    "fields according to this proposition.<br><br>\n",
    "\n",
    "EXAMPLE:<br>  \n",
    "Let <em>Z</em><sub>2</sub>(<em>t</em>)  be the field of rational functions in <em>t</em>, with coefficients \n",
    "in <em>Z</em><sub>2</sub>.  This field can be defined in <em>SageMath</em> simply by the command<br>"
   ]
  },
  {
   "cell_type": "code",
   "execution_count": 0,
   "id": "f89eb2",
   "metadata": {
    "collapsed": false
   },
   "outputs": [
   ],
   "source": [
    "InitDomain(2)\n",
    "RationalFunctions(\"t\")"
   ]
  },
  {
   "cell_type": "markdown",
   "id": "fbeb37",
   "metadata": {
    "collapsed": false
   },
   "source": [
    "<br>\n",
    "Note this is different than the <strong>AddFieldVar</strong> command, which only defines the polynomial ring <em>Z</em><sub>2</sub>[<em>t</em>].  Here are some examples \n",
    "of elements in <em>Z</em><sub>2</sub>(<em>t</em>):<br>"
   ]
  },
  {
   "cell_type": "code",
   "execution_count": 0,
   "id": "d31b99",
   "metadata": {
    "collapsed": false
   },
   "outputs": [
   ],
   "source": [
    "(t^3 + t + 1)/t"
   ]
  },
  {
   "cell_type": "code",
   "execution_count": 0,
   "id": "19c300",
   "metadata": {
    "collapsed": false
   },
   "outputs": [
   ],
   "source": [
    "1/(t^2 + 1)"
   ]
  },
  {
   "cell_type": "code",
   "execution_count": 0,
   "id": "a8586e",
   "metadata": {
    "collapsed": false
   },
   "outputs": [
   ],
   "source": [
    "1/(t^2 + 1) + (t^3 + t + 1)/t"
   ]
  },
  {
   "cell_type": "markdown",
   "id": "5cee83",
   "metadata": {
    "collapsed": false
   },
   "source": [
    "<br>\n",
    "We can now consider polynomials over this field.<br>"
   ]
  },
  {
   "cell_type": "code",
   "execution_count": 0,
   "id": "29251c",
   "metadata": {
    "collapsed": false
   },
   "outputs": [
   ],
   "source": [
    "AddFieldVar(\"x\")"
   ]
  },
  {
   "cell_type": "code",
   "execution_count": 0,
   "id": "67295a",
   "metadata": {
    "collapsed": false
   },
   "outputs": [
   ],
   "source": [
    "x^2 + t"
   ]
  },
  {
   "cell_type": "markdown",
   "id": "984a6d",
   "metadata": {
    "collapsed": false
   },
   "source": [
    "<br>\n",
    "Note that there is no element whose square is equal to &minus;<em>t</em>, since this polynomial is irreducible.<br>"
   ]
  },
  {
   "cell_type": "code",
   "execution_count": 0,
   "id": "7847e1",
   "metadata": {
    "collapsed": false
   },
   "outputs": [
   ],
   "source": [
    "factor(x^2 + t)"
   ]
  },
  {
   "cell_type": "markdown",
   "id": "8182bc",
   "metadata": {
    "collapsed": false
   },
   "source": [
    "<br>\n",
    "Suppose we define a new element <em>a</em> that solves the equation <em>x</em><sup>2</sup> + <em>t</em> = 0.<br>"
   ]
  },
  {
   "cell_type": "code",
   "execution_count": 0,
   "id": "61e5ff",
   "metadata": {
    "collapsed": false
   },
   "outputs": [
   ],
   "source": [
    "AddFieldVar(\"a\")\n",
    "Define(a^2 + t, 0)"
   ]
  },
  {
   "cell_type": "markdown",
   "id": "6a76d4",
   "metadata": {
    "collapsed": false
   },
   "source": [
    "<br>\n",
    "We can test this extension by computing <em>a</em><sup>2</sup>:<br>"
   ]
  },
  {
   "cell_type": "code",
   "execution_count": 0,
   "id": "bce318",
   "metadata": {
    "collapsed": false
   },
   "outputs": [
   ],
   "source": [
    "a^2"
   ]
  },
  {
   "cell_type": "markdown",
   "id": "325fe3",
   "metadata": {
    "collapsed": false
   },
   "source": [
    "<br>\n",
    "Now <em>x</em><sup>2</sup> + <em>t</em> factor should factor in <em>Z</em><sub>2</sub>(<em>t</em>)(<em>a</em>).<br>"
   ]
  },
  {
   "cell_type": "code",
   "execution_count": 0,
   "id": "273eab",
   "metadata": {
    "collapsed": false
   },
   "outputs": [
   ],
   "source": [
    "AddFieldVar(\"x\")"
   ]
  },
  {
   "cell_type": "code",
   "execution_count": 0,
   "id": "253c42",
   "metadata": {
    "collapsed": false
   },
   "outputs": [
   ],
   "source": [
    "factor(x^2 + t)"
   ]
  },
  {
   "cell_type": "markdown",
   "id": "67f9b1",
   "metadata": {
    "collapsed": false
   },
   "source": [
    "<br>\n",
    "The factorization gives a \"Not Implemented Error\" because this field has become too complicated for <em>SageMath</em> to have a factoring algorithm.  Nonetheless, we \n",
    "can determine what the factorization is.<br>"
   ]
  },
  {
   "cell_type": "code",
   "execution_count": 0,
   "id": "b4a8af",
   "metadata": {
    "collapsed": false
   },
   "outputs": [
   ],
   "source": [
    "(x + a)*(x + a)"
   ]
  },
  {
   "cell_type": "markdown",
   "id": "a661fe",
   "metadata": {
    "collapsed": false
   },
   "source": [
    "<br>\n",
    "This simplified to <em>x</em><sup>2</sup> + <em>t</em>, so this is the factorization.<br><br>\n",
    "\n",
    "Note, however, that there is a <em>double root</em> in this factorization!  Thus, by Proposition \n",
    "15.8, <em>Z</em><sub>2</sub>(<em>t</em>)(<em>a</em>) is <em>not</em> a Galois extension of <em>Z</em><sub>2</sub>(<em>t</em>).<br><br>\n",
    "\n",
    "One immediate consequence from Proposition 15.8 is that a Galois extension can be written as a simple extension."
   ]
  },
  {
   "cell_type": "markdown",
   "id": "b3562d",
   "metadata": {
    "collapsed": false
   },
   "source": [
    "<a name=\"cor152ret\" id=\"cor152ret\"></a>\n",
    "COROLLARY 15.2<br>\n",
    "\n",
    "Let <em>F</em> be a field, and let <em>K</em> be a Galois extension of <em>F</em>.  Then there exists an element <em>w</em> of <em>K</em> such \n",
    "that <em>K</em> = <em>F</em>(<em>w</em>).<br><br>\n",
    "\n",
    "<a href=\"#cor152\">Click here for the proof.</a>\n",
    "\n",
    "<p />\n",
    "In order to introduce the correlation between the subgroups of the Galois group and the subfields of the Galois extension, let us consider the familiar splitting \n",
    "field of <em>x</em><sup>3</sup> &minus; 2.  Since &#8731;<font style=\"text-decoration:overline\">2</font> and \n",
    "<em>&omega;</em><sub>3</sub>&#8731;<font style=\"text-decoration:overline\">2</font> are two roots, we can express the splitting field \n",
    "as &#8474;(&#8731;<font style=\"text-decoration:overline\">2</font>, <em>&omega;</em><sub>3</sub>&#8731;<font style=\"text-decoration:overline\">2</font>).  The \n",
    "subfields of this Galois extension are &#8474;, &#8474;(&#8731;<font style=\"text-decoration:overline\">2</font>), \n",
    "&#8474;(<em>&omega;</em><sub>3</sub>&#8731;<font style=\"text-decoration:overline\">2</font>), \n",
    "&#8474;(<em>&omega;</em><sub>3</sub><sup>2</sup>&#8731;<font style=\"text-decoration:overline\">2</font>), \n",
    "&#8474;(&radic;<font style=\"text-decoration:overline\">&minus;3</font>), and the whole field \n",
    "&#8474;(&#8731;<font style=\"text-decoration:overline\">2</font>, <em>&omega;</em><sub>3</sub>&#8731;<font style=\"text-decoration:overline\">2</font>).  We\n",
    "can draw a diagram of these subfields, showing which subfields are subfields of other subfields.<br>"
   ]
  },
  {
   "cell_type": "code",
   "execution_count": 0,
   "id": "d80fd4",
   "metadata": {
    "collapsed": false
   },
   "outputs": [
   ],
   "source": [
    "DrawGalois(1)"
   ]
  },
  {
   "cell_type": "markdown",
   "id": "6db977",
   "metadata": {
    "collapsed": false
   },
   "source": [
    "<br>\n",
    "The green lines in this diagram indicate which subfields are Galois extensions of the subfield above it.  Also, whenever we have a Galois extension, the corresponding \n",
    "Galois group is shown in blue.  This diagram indicates that the splitting field of <em>x</em><sup>3</sup> &minus; 2 is a Galois extension \n",
    "of &#8474;(&radic;<font style=\"text-decoration:overline\">&minus;3</font>).  This can be verified with <em>SageMath</em>.<br><br>\n",
    "\n",
    "First, we define &#8474;(&radic;<font style=\"text-decoration:overline\">&minus;3</font>) by defining <em>a</em><sup>2</sup> = &minus;3.<br>"
   ]
  },
  {
   "cell_type": "code",
   "execution_count": 0,
   "id": "24da06",
   "metadata": {
    "collapsed": false
   },
   "outputs": [
   ],
   "source": [
    "InitDomain(0, \"x\")\n",
    "AddFieldVar(\"a\")\n",
    "Define(a^2, -3)"
   ]
  },
  {
   "cell_type": "markdown",
   "id": "1369d6",
   "metadata": {
    "collapsed": false
   },
   "source": [
    "<br>\n",
    "Now, <em>x</em><sup>3</sup> &minus; 2 is still irreducible in this field.<br>"
   ]
  },
  {
   "cell_type": "code",
   "execution_count": 0,
   "id": "7529a0",
   "metadata": {
    "collapsed": false
   },
   "outputs": [
   ],
   "source": [
    "factor(x^3 - 2)"
   ]
  },
  {
   "cell_type": "markdown",
   "id": "6f804e",
   "metadata": {
    "collapsed": false
   },
   "source": [
    "<br>\n",
    "Let us define <em>b</em> to be the cube root of 2.<br>"
   ]
  },
  {
   "cell_type": "code",
   "execution_count": 0,
   "id": "fab746",
   "metadata": {
    "collapsed": false
   },
   "outputs": [
   ],
   "source": [
    "AddFieldVar(\"b\")\n",
    "Define(b^3, 2)"
   ]
  },
  {
   "cell_type": "markdown",
   "id": "986b3f",
   "metadata": {
    "collapsed": false
   },
   "source": [
    "<br>\n",
    "Now, will the polynomial <em>x</em><sup>3</sup> &minus; 2 factor completely over the \n",
    "field &#8474;(&radic;<font style=\"text-decoration:overline\">&minus;3</font>, &#8731;<font style=\"text-decoration:overline\">2</font>)?<br>"
   ]
  },
  {
   "cell_type": "code",
   "execution_count": 0,
   "id": "932888",
   "metadata": {
    "collapsed": false
   },
   "outputs": [
   ],
   "source": [
    "factor(x^3 - 2)"
   ]
  },
  {
   "cell_type": "markdown",
   "id": "a6e41a",
   "metadata": {
    "collapsed": false
   },
   "source": [
    "<br>\n",
    "This factors completely without multiple roots.  In fact, this is predicted by Proposition 15.7, \n",
    "since &#8474;(&radic;<font style=\"text-decoration:overline\">&minus;3</font>) contains the cube roots of unity.<br><br>\n",
    "\n",
    "Now let us look at the subgroups of the Galois group <em>S</em><sub>3</sub>:<br>"
   ]
  },
  {
   "cell_type": "code",
   "execution_count": 0,
   "id": "110c66",
   "metadata": {
    "collapsed": false
   },
   "outputs": [
   ],
   "source": [
    "DrawGalois(2)"
   ]
  },
  {
   "cell_type": "markdown",
   "id": "964ee2",
   "metadata": {
    "collapsed": false
   },
   "source": [
    "<br>\n",
    "Once again, we draw lines connecting two subgroups if one subgroup is contained in the other subgroup.  We draw a green line to indicate that the smaller subgroup is a \n",
    "normal subgroup of the larger.  Whenever the subgroup is a normal subgroup, the quotient group is indicated in blue.<br><br>\n",
    "\n",
    "The pattern is now obvious.  The two pictures are the same, except that the subfields are replaced by a subgroup of <em>S</em><sub>3</sub>.  This feature of Galois \n",
    "extensions is the heart of Galois theory.  In fact, there is a natural way that the subfields of <em>K</em>, and the subgroups of Gal<sub><em>F</em></sub>(<em>K</em>) are \n",
    "related: for each subfield <em>E</em> of <em>K</em>, we can consider Gal<sub><em>E</em></sub>(<em>K</em>), the set of automorphisms of <em>K</em> that fix <em>E</em>.  This \n",
    "is a subgroup of Gal<sub><em>F</em></sub>(<em>K</em>).  On the other hand, given a subgroup <em>H</em> of \n",
    "Gal<sub><em>F</em></sub>(<em>K</em>), we can consider the fixed \n",
    "field fix(<em>H</em>), which is a subfield of <em>K</em>.  To show that, indeed, the two pictures will be essentially the same, we need four steps.<br><br>\n",
    "\n",
    "(1)&emsp;Show that if we start with a subfield <em>E</em>, then form the Galois group Gal<sub><em>E</em></sub>(<em>K</em>), and find the fixed field of this subgroup, we get \n",
    "back <em>E</em>.<br><br>\n",
    "\n",
    "(2)&emsp;Show that if we start with a subgroup <em>H</em> of Gal<sub><em>F</em></sub>(<em>K</em>), find the fixed field, and then find the Galois group of the fixed \n",
    "field, we get back <em>H</em>.  These first two steps establish a one-to-one correspondence between the subfields and the subgroups of the Galois group.<br><br>\n",
    "\n",
    "(3)&emsp;Show that if one subgroup <em>N</em> is a normal subgroup of another subgroup <em>H</em>, then the corresponding subfields form a Galois extension.  That is, a \n",
    "green line on the second picture corresponds to a green line on the first.<br><br>\n",
    "\n",
    "(4)&emsp;Show that if one subfield <em>E</em> is a Galois extension of another, <em>L</em>, then the corresponding Galois groups will have a normal \n",
    "subgroup relation.  Furthermore, the quotient group of the Galois groups will be isomorphic to the Galois group of the Galois extension.  Thus, a green line on the \n",
    "first picture corresponds to a green line on the second, and the blue groups in the pictures will be isomorphic.<br><br>\n",
    "\n",
    "Let us begin by proving the first step."
   ]
  },
  {
   "cell_type": "markdown",
   "id": "8f4050",
   "metadata": {
    "collapsed": false
   },
   "source": [
    "<a name=\"lem154ret\" id=\"lem154ret\"></a>\n",
    "LEMMA 15.4<br>\n",
    "\n",
    "Let <em>K</em> be a Galois extension of <em>F</em>, and let <em>E</em> be a subfield of <em>K</em> containing <em>F</em>. Then <em>K</em> is a Galois extension \n",
    "of <em>E</em>.  That is, the fixed field of Gal<sub><em>E</em></sub>(<em>K</em>) is <em>E</em>.<br><br>\n",
    "\n",
    "<a href=\"#lem154\">Click here for the proof.</a>"
   ]
  },
  {
   "cell_type": "markdown",
   "id": "3b8497",
   "metadata": {
    "collapsed": false
   },
   "source": [
    "<a name=\"lem155ret\" id=\"lem155ret\"></a>\n",
    "LEMMA 15.5<br>\n",
    "\n",
    "Let <em>K</em> be a Galois extension of <em>F</em>.  If <em>H</em> is a subgroup of the Galois \n",
    "group Gal<sub><em>F</em></sub>(<em>K</em>) and <em>E</em> is the fixed field \n",
    "of <em>H</em>, then <em>H</em> = Gal<sub><em>E</em></sub>(<em>K</em>).<br><br>\n",
    "\n",
    "<a href=\"#lem155\">Click here for the proof.</a>\n",
    "\n",
    "<p />\n",
    "Lemmas 15.4 and 15.5 show that there is a one-to-one correspondence between the subgroups of Gal<sub><em>F</em></sub>(<em>K</em>) and the subfields of <em>K</em> containing \n",
    "<em>F</em>. We now consider the special significance of the normal subgroups of Gal<sub><em>F</em></sub>(<em>K</em>)."
   ]
  },
  {
   "cell_type": "markdown",
   "id": "88fc65",
   "metadata": {
    "collapsed": false
   },
   "source": [
    "<a name=\"lem156ret\" id=\"lem156ret\"></a>\n",
    "LEMMA 15.6<br>\n",
    "\n",
    "Let <em>K</em> be a Galois extension of <em>F</em>, and let <em>E</em> be a subfield of <em>K</em> containing another \n",
    "subfield <em>L</em>.  Suppose that Gal<sub><em>E</em></sub>(<em>K</em>) is a normal subgroup of Gal<sub><em>L</em></sub>(<em>K</em>).  Then every <em>L</em>-automorphism \n",
    "of <em>K</em> maps elements of <em>E</em> to elements of <em>E</em>.  Furthermore, <em>E</em> is a Galois extension of <em>L</em>.<br><br>\n",
    "\n",
    "<a href=\"#lem156\">Click here for the proof.</a>"
   ]
  },
  {
   "cell_type": "markdown",
   "id": "b43932",
   "metadata": {
    "collapsed": false
   },
   "source": [
    "<a name=\"lem157ret\" id=\"lem157ret\"></a>\n",
    "LEMMA 15.7<br>\n",
    "\n",
    "Suppose that <em>K</em> is a Galois extension of <em>F</em>, and let <em>E</em> be a subfield of <em>K</em> that is also a Galois extension of a smaller \n",
    "subfield <em>L</em>, which contains <em>F</em>.  Then there exists a surjective homomorphism <em>&fnof;</em> from Gal<sub><em>L</em></sub>(<em>K</em>) to Gal<sub><em>L</em></sub>(<em>E</em>) whose \n",
    "kernel is Gal<sub><em>E</em></sub>(<em>K</em>).<br><br> \n",
    "\n",
    "<a href=\"#lem157\">Click here for the proof.</a>\n",
    "\n",
    "<p />\n",
    "Lemmas 15.4 through 15.7 explain the amazing similarity in the diagrams of the subfields, and the subgroups of the Galois group.By putting these four pieces together, we \n",
    "get the fundamental theorem of Galois theory."
   ]
  },
  {
   "cell_type": "markdown",
   "id": "8f203c",
   "metadata": {
    "collapsed": false
   },
   "source": [
    "<a name=\"theor151ret\" id=\"theor151ret\"></a>\n",
    "THEOREM 15.1: The Fundamental Theorem of Galois Theory<br>\n",
    "\n",
    "Let <em>K</em> be a Galois extension of the field <em>F</em>.  Then there is a one-to-one correspondence between the subfields of <em>K</em> containing <em>F</em> and \n",
    "the subgroups of Gal<sub><em>F</em></sub>(<em>K</em>), given by mapping <em>E</em> to the \n",
    "subgroup Gal<sub><em>E</em></sub>(<em>K</em>).  The dimension of <em>K</em> over \n",
    "the subfield <em>E</em> is |Gal<sub><em>E</em></sub>(<em>K</em>)|.  Furthermore, a subfield <em>E</em> is a Galois extension of another subfield <em>L</em> if, and only \n",
    "if, Gal<sub><em>E</em></sub>(<em>K</em>) is a normal subgroup of Gal<sub><em>L</em></sub>(<em>K</em>) in which case Gal<sub><em>L</em></sub>(<em>E</em>) is isomorphic \n",
    "to <nobr>Gal<sub><em>L</em></sub>(<em>K</em>) / Gal<sub><em>E</em></sub>(<em>K</em>).</nobr><br><br>\n",
    "\n",
    "<a href=\"#theor151\">Click here for the proof.</a>\n",
    "\n",
    "<p />\n",
    "The fundamental theorem of Galois theory has many different applications.  With this theorem one can prove that it is impossible to trisect an angle with only a straight \n",
    "edge and a compass.  This finally puts to rest a problem introduced by the ancient Greeks.  A similar problem is that of producing a \n",
    "line &#8731;<font style=\"text-decoration:overline\">2</font> times the length of a given line with only a straight edge and compass.  Both of these Greek problems involves \n",
    "a field extension of order 3, while any compass and straight edge construction involve a series of field extensions of order 2.  Of course 3 does not divide any power of \n",
    "2, so a field extension of dimension 3 cannot be a subfield of a field created by a sequence of extensions of order 2.  Another important application shows \n",
    "that a fifth degree equation\n",
    "cannot be solved in terms of radicals.  We will explore both of these applications in the next section.<br><br>"
   ]
  },
  {
   "cell_type": "markdown",
   "id": "64fcad",
   "metadata": {
    "collapsed": false
   },
   "source": [
    "<a name=\"sec154\" id=\"sec154\"></a>\n",
    "<h1>Applications of Galois Theory</h1>\n",
    "\n",
    "<br>\n",
    "There are two main results of Galois theory.  One result is that one can demonstrate that it is impossible to find a formula for the solutions to a fifth degree polynomial \n",
    "in terms of square roots, cube roots, or fifth roots.  This finally closed the door on a centuries old problem, ever since the solutions for a third and fourth degree \n",
    "equations were discovered in the 16th century.  But the other application of Galois theory applies to problems thousands of years old.  The three great construction problems \n",
    "of antiquity are trisecting an angle, duplicating the cube, and squaring the circle.  Galois theory proved once and for all that these problems are impossible to construct \n",
    "with only a straight edge and compass.<br><br>\n",
    "\n",
    "We will begin with the problem of determining whether or not a polynomial can be solved in terms of radicals.  The first\n",
    "step is to show that, in &#8474;, a Galois extension is the same thing as a splitting field."
   ]
  },
  {
   "cell_type": "markdown",
   "id": "929e19",
   "metadata": {
    "collapsed": false
   },
   "source": [
    "<a name=\"prop159ret\" id=\"prop159ret\"></a>\n",
    "PROPOSITION 15.9<br>\n",
    "\n",
    "Let <em>E</em> be a finite extension of &#8474;.  If <em>f</em>(<em>x</em>) is a polynomial in <em>E</em>[<em>x</em>], then the splitting field of <em>f</em>(<em>x</em>) is \n",
    "a Galois extension of <em>E</em>.<br><br>\n",
    "\n",
    "<a href=\"#prop159\">Click here for the proof.</a>\n",
    "\n",
    "<p />\n",
    "The next step is to give a clear definition of what it means for a polynomial to be solvable by radicals.<br><br>\n",
    "\n",
    "DEFINITION 15.6<br>\n",
    "A field <em>K</em> is called a <em>radical extension</em> of <em>F</em> if \n",
    "<em>K</em> = <em>F</em>(<em>u</em><sub>1</sub>, <em>u</em><sub>2</sub>, <em>u</em><sub>3</sub>, &hellip; <em>u<sub>n</sub></em>), where a power of \n",
    "each <em>u<sub>i</sub></em> is contained in <em>F</em>(<em>u</em><sub>1</sub>, <em>u</em><sub>2</sub>, &hellip; <em>u</em><sub><em>i</em>&minus;1</sub>).<br><br>\n",
    "\n",
    "EXAMPLE:<br>\n",
    "\n",
    "Express the splitting field of <em>x</em><sup>4</sup> &minus; 8 <em>x</em><sup>2</sup> &minus; 8 <em>x</em> &minus; 2 as a radical extention.<br><br>  \n",
    "We can have <em>SageMath</em> solve for the roots explicitly.<br>"
   ]
  },
  {
   "cell_type": "code",
   "execution_count": 0,
   "id": "097513",
   "metadata": {
    "collapsed": false
   },
   "outputs": [
   ],
   "source": [
    "var(\"x\")\n",
    "solve(x^4 - 8*x^2 - 8*x - 2, x)"
   ]
  },
  {
   "cell_type": "markdown",
   "id": "771ea6",
   "metadata": {
    "collapsed": false
   },
   "source": [
    "<br>\n",
    "We see the solutions are\n",
    "<table align=\"center\" border=\"0\" cellspacing=\"0\" cellpadding=\"0\">\n",
    "  <tr>\n",
    "    <td></td>\n",
    "    <td align=\"center\" valign=\"bottom\">&emsp;<font style=\"text-decoration:underline\">&emsp;&emsp;&emsp;&emsp;</font>    </td>\n",
    "    <td></td>\n",
    "    <td align=\"center\" valign=\"bottom\">&emsp;<font style=\"text-decoration:underline\">&emsp;&emsp;&emsp;&emsp;</font>    </td>\n",
    "  </tr>\n",
    "  <tr>\n",
    "    <td> <em>x</em> = &minus; &radic;<font style=\"text-decoration:overline\">2</font> &plusmn; </td>\n",
    "    <td align=\"center\" valign=\"top\">&radic; 2 &minus; &radic;<font style=\"text-decoration:overline\">2</font></td>\n",
    "    <td>&emsp;or&emsp;<em>x</em> = &radic;<font style=\"text-decoration:overline\">2</font> &plusmn;</td>\n",
    "    <td align=\"center\" valign=\"top\">&radic; 2 + &radic;<font style=\"text-decoration:overline\">2</font></td>\n",
    "  </tr>\n",
    "</table>\n",
    "<br>\n",
    "How would we express the splitting field as a radical extension?  It is apparent that we first must include &radic;<font style=\"text-decoration:overline\">2</font> in \n",
    "this field.  But then it seems we need to include \n",
    "<table align=\"center\" border=\"0\" cellspacing=\"0\" cellpadding=\"0\">\n",
    "  <tr>\n",
    "    <td align=\"center\" valign=\"bottom\">&emsp;<font style=\"text-decoration:underline\">&emsp;&emsp;&emsp;&emsp;</font></td>\n",
    "    <td></td>\n",
    "    <td align=\"center\" valign=\"bottom\">&emsp;<font style=\"text-decoration:underline\">&emsp;&emsp;&emsp;&emsp;</font></td>\n",
    "  </tr>\n",
    "  <tr>\n",
    "    <td align=\"center\" valign=\"top\">&radic; 2 + &radic;<font style=\"text-decoration:overline\">2</font></td>\n",
    "    <td>&emsp;&emsp;and&emsp;&emsp;</td>\n",
    "    <td align=\"center\" valign=\"top\">&radic; 2 &minus; &radic;<font style=\"text-decoration:overline\">2</font></td>\n",
    "  </tr>\n",
    "</table>\n",
    "<br>\n",
    "in our field.  Note, however, that the product of these two numbers is &radic;<font style=\"text-decoration:overline\">2</font>.  Thus, all four roots are in the \n",
    "field \n",
    "<table align=\"center\" border=\"0\" cellspacing=\"0\" cellpadding=\"0\">\n",
    "  <tr>\n",
    "    <td></td>\n",
    "    <td align=\"center\" valign=\"bottom\">&emsp;<font style=\"text-decoration:underline\">&emsp;&emsp;&emsp;&emsp;</font></td>\n",
    "    <td></td>\n",
    "  </tr>\n",
    "  <tr>\n",
    "    <td>&#8474;(&radic;<font style=\"text-decoration:overline\">2</font>,</td>\n",
    "    <td align=\"center\" valign=\"top\">&radic; 2 + &radic;<font style=\"text-decoration:overline\">2</font></td>\n",
    "    <td>).</td>\n",
    "  </tr>\n",
    "</table>\n",
    "<br>\n",
    "\n",
    "This is a radical extension of &#8474; of dimension 4, and the splitting field of <em>x</em><sup>4</sup> &minus; 8 <em>x</em><sup>2</sup> &minus; 8 <em>x</em> &minus; 2 \n",
    "must be at least 4.  Hence, we have found that the splitting field is a radical extension of &#8474;.<br><br>\n",
    "\n",
    "DEFINITION 15.7<br>\n",
    "The polynomial equation <em>f</em>(<em>x</em>) = 0 is said to be <em>solvable by radicals</em> if there is a radical extension of &#8474; that \n",
    "contains the splitting field of <em>f</em>(<em>x</em>).<br><br>\n",
    "\n",
    "This definition agrees with our intuitive understanding of what it means for a polynomial to be solved in terms of radicals.  For example, <em>SageMath</em>'s solution to \n",
    "the equation<br>"
   ]
  },
  {
   "cell_type": "code",
   "execution_count": 0,
   "id": "a29fc0",
   "metadata": {
    "collapsed": false
   },
   "outputs": [
   ],
   "source": [
    "var(\"x\")\n",
    "solve(x^3 - x + 2, x)"
   ]
  },
  {
   "cell_type": "markdown",
   "id": "e014e2",
   "metadata": {
    "collapsed": false
   },
   "source": [
    "<br>\n",
    "reveals that the splitting field is contained in the following radical extension:\n",
    "<table align=\"center\" border=\"0\" cellspacing=\"0\" cellpadding=\"0\">\n",
    "  <tr>\n",
    "    <td></td>\n",
    "    <td align=\"right\" valign=\"bottom\">&emsp;<font style=\"text-decoration:underline\">&emsp;&emsp;&emsp;&emsp;&emsp;&ensp;</font></td>\n",
    "    <td></td>\n",
    "  </tr>\n",
    "  <tr>\n",
    "    <td>&#8474;(&radic;<font style=\"text-decoration:overline\">26&middot;3</font>,</td>\n",
    "    <td align=\"right\" valign=\"top\">&#8731; 1 &minus; &radic;<font style=\"text-decoration:overline\">26&middot;3</font>/9</td>\n",
    "    <td>,&radic;<font style=\"text-decoration:overline\">&minus;3</font> ).</td>\n",
    "  </tr>\n",
    "</table>\n",
    "<br>\n",
    "This is in fact overkill, since the splitting field is at most a 6-dimensional extension of &#8474;, while the above radical extension may be up to a 12-dimensional \n",
    "extension of &#8474;.  Yet the point is that there is <em>some</em> radical extension of &#8474; that contains the roots \n",
    "of <em>x</em><sup>3</sup> &minus; <em>x</em> + 2, because the roots can be solved in terms of square roots and cube roots.<br><br>\n",
    "\n",
    "Not all radical extensions of &#8474; are Galois extensions.  For example, &#8474;(&#8731;<font style=\"text-decoration:overline\">2</font>) is not a Galois extension, \n",
    "since this extension is not the splitting field of a polynomial.  In order to utilize Galois theory, we need to show that a radical extension is contained in some \n",
    "extension that is both a radical extension and a Galois extension."
   ]
  },
  {
   "cell_type": "markdown",
   "id": "3d6494",
   "metadata": {
    "collapsed": false
   },
   "source": [
    "<a name=\"lem158ret\" id=\"lem158ret\"></a>\n",
    "LEMMA 15.8<br>\n",
    "\n",
    "Let <em>E</em> be a radical extension of &#8474;.  Then <em>E</em> is contained in a radical extension <em>K</em> of &#8474; such that <em>K</em> is also a Galois \n",
    "extension of &#8474;.<br><br>\n",
    "\n",
    "<a href=\"#lem158\">Click here for the proof.</a>\n",
    "\n",
    "<p />\n",
    "Lemma 15.8, when combined with the definition of a polynomial solvable by radicals, tells us that if a polynomial is solvable by radicals, then the splitting field of \n",
    "the polynomial is contained in a field extension of &#8474; that is both a radical extension and a Galois extension.<br><br>\n",
    "\n",
    "What can we say about such an extension? The answer is rather startling, since we begin to see a connection with the Jordan-H&ouml;lder theorem (8.3)."
   ]
  },
  {
   "cell_type": "markdown",
   "id": "fa6e30",
   "metadata": {
    "collapsed": false
   },
   "source": [
    "<a name=\"lem159ret\" id=\"lem159ret\"></a>\n",
    "LEMMA 15.9<br>\n",
    "\n",
    "Let <em>K</em> be a Galois extension of &#8474; which is a radical extension, and let <em>E</em> be a subfield of <em>K</em>.  If <em>E</em> is a Galois extension \n",
    "of &#8474;, then Gal<sub>&#8474;</sub>(<em>E</em>) is a solvable group.<br><br>\n",
    "\n",
    "<a href=\"#lem159\">Click here for the proof.</a>\n",
    "\n",
    "<p />\n",
    "The light is beginning to appear at the end of the tunnel.  We know that any subgroup of a solvable group must be solvable.  Thus, we can immediately tell whether \n",
    "a polynomial is solvable by radicals from its Galois group."
   ]
  },
  {
   "cell_type": "markdown",
   "id": "6ab7d9",
   "metadata": {
    "collapsed": false
   },
   "source": [
    "<a name=\"theor152ret\" id=\"theor152ret\"></a>\n",
    "THEOREM 15.2:Galois' Criterion Theorem<br>\n",
    "\n",
    "Let <em>f</em>(<em>x</em>) be a polynomial with rational coefficients.  Then the equation <em>f</em>(<em>x</em>) = 0 is solvable by radicals only if the Galois group \n",
    "of <em>f</em>(<em>x</em>) is a solvable group.<br><br>\n",
    "\n",
    "<a href=\"#theor152\">Click here for the proof.</a>\n",
    "\n",
    "<p />\n",
    "Galois' criterion theorem is able to show us that there are some polynomials whose roots cannot be expressed in terms of square roots, cube roots, and other roots.  In \n",
    "fact we can find one of them, namely <em>x</em><sup>5</sup> &minus; <em>x</em> + 1.<br>"
   ]
  },
  {
   "cell_type": "code",
   "execution_count": 0,
   "id": "ead445",
   "metadata": {
    "collapsed": false
   },
   "outputs": [
   ],
   "source": [
    "InitDomain(0, \"x\")\n",
    "factor(x^5 - x + 1)"
   ]
  },
  {
   "cell_type": "code",
   "execution_count": 0,
   "id": "b88f32",
   "metadata": {
    "collapsed": false
   },
   "outputs": [
   ],
   "source": [
    "AddFieldVar(\"a\")\n",
    "Define(a^5, a - 1)\n",
    "factor(x^5 - x + 1)"
   ]
  },
  {
   "cell_type": "code",
   "execution_count": 0,
   "id": "f9d6af",
   "metadata": {
    "collapsed": false
   },
   "outputs": [
   ],
   "source": [
    "AddFieldVar(\"b\")\n",
    "Define(b^4, 1 - a^4 - a^3*b - a^2*b^2 - a*b^3)\n",
    "factor(x^5 - x + 1)"
   ]
  },
  {
   "cell_type": "code",
   "execution_count": 0,
   "id": "97b9ad",
   "metadata": {
    "collapsed": false
   },
   "outputs": [
   ],
   "source": [
    "AddFieldVar(\"c\")\n",
    "Define(c^3, -a^3 - a^2*b - a*b^2 - b^3 - a^2*c - a*b*c - b^2*c - a*c^2 - b*c^2)"
   ]
  },
  {
   "cell_type": "code",
   "execution_count": 0,
   "id": "3f95b2",
   "metadata": {
    "collapsed": false
   },
   "outputs": [
   ],
   "source": [
    "factor(x^5 - x + 1)"
   ]
  },
  {
   "cell_type": "markdown",
   "id": "2e01d5",
   "metadata": {
    "collapsed": false
   },
   "source": [
    "<br>\n",
    "At this point, it is clear that we will need yet another second degree extension to finish the splitting field.  Since it took a second degree extension of a third \n",
    "degree extension of a fourth degree extension of a fifth degree extension to form the splitting field, the splitting \n",
    "field has dimension 120, and hence the Galois group is <em>S</em><sub>5</sub>.<br><br>\n",
    "\n",
    "By the way, <em>SageMath</em> is able to finish the splitting field, but it takes a VERY long time."
   ]
  },
  {
   "cell_type": "code",
   "execution_count": 0,
   "id": "01694f",
   "metadata": {
    "collapsed": false
   },
   "outputs": [
   ],
   "source": [
    "AddFieldVar(\"d\")\n",
    "Define(d^2, -a^2 - a*b - b^2 - a*c - b*c - c^2 - a*d - b*d - c*d)"
   ]
  },
  {
   "cell_type": "code",
   "execution_count": 0,
   "id": "c06f89",
   "metadata": {
    "collapsed": false
   },
   "outputs": [
   ],
   "source": [
    "factor(x^5 - x + 1)"
   ]
  },
  {
   "cell_type": "markdown",
   "id": "ca630e",
   "metadata": {
    "collapsed": false
   },
   "source": [
    "<a name=\"cor153ret\" id=\"cor153ret\"></a>\n",
    "COROLLARY 15.3<br>\n",
    "There is no formula, using only the field operations and extraction of roots, for the zeros of all fifth-degree polynomial equations.<br><br>\n",
    "\n",
    "<a href=\"#cor153\">Click here for the proof.</a>\n",
    "\n",
    "<p />\n",
    "Galois' criterion theorem ended the long search for a formula that finds the roots of a fifth degree polynomial.  In fact, Galois' criterion theorem works the other \n",
    "direction as well&mdash;if the Galois group is solvable, then the polynomial <em>is</em> solvable by radicals.  Since a fourth degree equation is a subgroup \n",
    "of <em>S</em><sub>4</sub>, which is solvable, there must be a formula for the roots of a fourth degree polynomial.  The change of the structure \n",
    "between <em>S</em><sub>4</sub> and <em>S</em><sub>5</sub> is what changes the behavior of fifth degree polynomials from fourth degree polynomials.<br><br>\n",
    "\n",
    "Galois theory also can be used to analyze construction problems.  The ancient Greeks had a very rigorous definition of what it meant for a certain geometrical object to \n",
    "be constructed using an unmarked straightedge and compass.<br><br>\n",
    "\n",
    "&emsp;&bull; Given two points that have already been constructed, we can construct the straight line going through the points.<br><br>\n",
    "   \n",
    "&emsp;&bull; Given two points that have already been constructed, we can construct a circle with a center at one point and passing through the other.<br><br>\n",
    "   \n",
    "&emsp;&bull; Given two lines that have been constructed, the point of intersection becomes a constructed point.<br><br>\n",
    "   \n",
    "&emsp;&bull; Given a circle and a line, or two circles, that have been constructed, the points of intersection, if they exist, become constructed points.<br><br>\n",
    "\n",
    "Starting with a unit segment, what other lengths can be constructed?<br><br> \n",
    "\n",
    "DEFINITION 15.8<br>\n",
    "We say that a real number <em>x</em> is constructible if we can create a line segment whose length is |<em>x</em>| times the length of the unit segment in a finite number \n",
    "of steps, using only the allowed procedures using the straightedge and compass.<br><br> \n",
    "\n",
    "Using plane geometry, it is not hard to see that if <em>x</em> and <em>y</em> &ne; 0 are constructible numbers, then <em>x</em> + <em>y</em>, <em>x</em> &minus; <em>y</em>, \n",
    "<em>x</em>&middot;<em>y</em>, and <em>x</em>/<em>y</em> are constructible. (See Problems 9 through 11.)  Thus, the set of constructible numbers forms a subfield <em>F</em> of &#8477;.  We can characterize the field <em>F</em> by the following theorem.<br><br>"
   ]
  },
  {
   "cell_type": "markdown",
   "id": "2d9b08",
   "metadata": {
    "collapsed": false
   },
   "source": [
    "<a name=\"theor153ret\" id=\"theor153ret\"></a>\n",
    "THEOREM 15.3: The Constructible Criterion Theorem<br>\n",
    "\n",
    "If <em>x</em> is a constructible number, then <em>x</em> is contained in an extension of &#8474; of dimension 2<sup><em>n</em></sup> for some <em>n</em>.<br><br>\n",
    "\n",
    "<a href=\"#theor153\">Click here for the proof.</a>\n",
    "\n",
    "<p />\n",
    "\n",
    "We can now show that two of the three great construction problems of antiquity are impossible."
   ]
  },
  {
   "cell_type": "markdown",
   "id": "c76fd1",
   "metadata": {
    "collapsed": false
   },
   "source": [
    "<a name=\"cor154ret\" id=\"cor154ret\"></a>\n",
    "COROLLARY 15.4<br>\n",
    "\n",
    "It is impossible, using only an unmarked straightedge and compass, to trisect an angle or duplicate the cube.<br><br>\n",
    "\n",
    "<a href=\"#cor154\">Click here for the proof.</a>\n",
    "\n",
    "<p />\n",
    "\n",
    "The last construction problem involves knowledge that <em>&pi;</em> is transcendental, so it requires a more difficult proof to show that <em>&pi;</em> it not a \n",
    "constructible number.<br><br>\n",
    "\n",
    "There are many other applications of Galois theory.  For example, one can use the fundamental theorem of Galois theory to prove that any polynomial in the complex numbers \n",
    "has a root in the complex numbers.  This is known as the <em>fundamental theorem of algebra</em>."
   ]
  },
  {
   "cell_type": "markdown",
   "id": "7bde69",
   "metadata": {
    "collapsed": false
   },
   "source": [
    "<br><br><br><br><br><br><br><br><br><br><br><br><br><br><br><br><br><br><br><br><br><br><br><br><br><br><br><br><br><br><br><br><br><br><br><br><br><br><br><br><br><br>"
   ]
  },
  {
   "cell_type": "markdown",
   "id": "20d6e4",
   "metadata": {
    "collapsed": false
   },
   "source": [
    "<h1>Proofs:</h1>"
   ]
  },
  {
   "cell_type": "markdown",
   "id": "f052c5",
   "metadata": {
    "collapsed": false
   },
   "source": [
    "<a name=\"prop151\" id=\"prop151\"></a>\n",
    "Proof of Proposition 15.1:<br><br>\n",
    "\n",
    "By Lemma 11.5, the set of all ring automorphisms of a ring forms a group. So we only need to show that the set of <em>F</em>-automorphisms of <em>K</em> is a subgroup \n",
    "of the group of all automorphisms. If <em>&#981;</em><sub>1</sub> and <em>&#981;</em><sub>2</sub> are two <em>F</em>-automorphisms of <em>K</em>, then\n",
    "<em>&#981;</em><sub>1</sub>(<em>x</em>) = <em>&#981;</em><sub>2</sub>(<em>x</em>) = <em>x</em> for all <em>x</em> in <em>F</em>. Thus, \n",
    "(<em>&#981;</em><sub>1</sub>&middot;<em>&#981;</em><sub>2</sub>)(<em>x</em>) = <em>&#981;</em><sub>1</sub>(<em>&#981;</em><sub>2</sub>(<em>x</em>)) = <em>x</em>\n",
    "for all <em>x</em> in <em>F</em>. Thus, <em>&#981;</em><sub>1</sub>&middot;<em>&#981;</em><sub>2</sub> is an <em>F</em>-automorphism of <em>K</em>. Note also that \n",
    "<em>&#981;</em><sub>1</sub><sup>-1</sup>(<em>x</em>) = <em>x</em>\n",
    "for all <em>x</em> in <em>F</em>, so <em>&#981;</em><sub>1</sub><sup>-1</sup> is also an <em>F</em>-automorphism of <em>K</em>. Since the set of all \n",
    "<em>F</em>-automorphisms of <em>K</em> is closed under multiplications and inverses, the set is a subgroup of the group of ring automorphisms of <em>K</em>. \n",
    "Thus, the set of <em>F</em>-automorphisms of <em>K</em> is a group.<br><br>\n",
    " \n",
    "<a href=\"#prop151ret\">Return to text</a>"
   ]
  },
  {
   "cell_type": "markdown",
   "id": "bb109e",
   "metadata": {
    "collapsed": false
   },
   "source": [
    "<br><br><br><br><br><br><br><br><br><br><br><br><br><br><br><br><br><br><br><br><br><br><br><br><br><br><br><br><br><br><br><br><br><br><br><br><br><br><br><br><br><br>"
   ]
  },
  {
   "cell_type": "markdown",
   "id": "b2ba28",
   "metadata": {
    "collapsed": false
   },
   "source": [
    "<a name=\"lem151\" id=\"lem151\"></a>\n",
    "Proof of Lemma 15.1:<br><br>\n",
    "\n",
    "Let <em>f</em>(<em>x</em>) = <em>c</em><sub>0</sub> + <em>c</em><sub>1</sub> <em>x</em> + <em>c</em><sub>2</sub> <em>x</em><sup>2</sup> + \n",
    "<em>c</em><sub>3</sub> <em>x</em><sup>3</sup> + &hellip; + <em>c<sub>n</sub></em> <em>x<sup>n</sup></em>.  Since <em>u</em> is a root of <em>f</em>(<em>x</em>), we have that \n",
    "<p style='text-align: center;'><em>c</em><sub>0</sub> + <em>c</em><sub>1</sub> <em>u</em> + <em>c</em><sub>2</sub> <em>u</em><sup>2</sup> + \n",
    "<em>c</em><sub>3</sub> <em>u</em><sup>3</sup> + &hellip; + <em>c<sub>n</sub></em> <em>u<sup>n</sup></em> = 0.</p>\n",
    "Since <em>&#981;</em> is a ring homomorphism, we have that\n",
    "<p style='text-align: center;'>0 = <em>&#981;</em>(0) = <em>&#981;</em>(<em>c</em><sub>0</sub> + <em>c</em><sub>1</sub> <em>u</em> + \n",
    "<em>c</em><sub>2</sub> <em>u</em><sup>2</sup> + <em>c</em><sub>3</sub> <em>u</em><sup>3</sup> + &hellip; + <em>c<sub>n</sub></em> <em>u<sup>n</sup></em>)</p>\n",
    "<p style='text-align: center;'>= <em>&#981;</em>(<em>c</em><sub>0</sub>) + <em>&#981;</em>(<em>c</em><sub>1</sub>) <em>&#981;</em>(<em>u</em>) + \n",
    "<em>&#981;</em>(<em>c</em><sub>2</sub>) <em>&#981;</em>(<em>u</em><sup>2</sup>) + <em>&#981;</em>(<em>c</em><sub>3</sub>) <em>&#981;</em>(<em>u</em><sup>3</sup>) + \n",
    "&hellip; + <em>&#981;</em>(<em>c<sub>n</sub></em>) <em>&#981;</em>(<em>u<sup>n</sup></em>)</p>\n",
    "Since <em>c</em><sub>0</sub>, <em>c</em><sub>1</sub>, <em>c</em><sub>2</sub>, &hellip; <em>c<sub>n</sub></em> are in <em>F</em>, we have\n",
    "<p style='text-align: center;'>0 = <em>c</em><sub>0</sub> + <em>c</em><sub>1</sub> <em>&#981;</em>(<em>u</em>) + \n",
    "<em>c</em><sub>2</sub> <em>&#981;</em>(<em>u</em>)<sup>2</sup> + <em>c</em><sub>3</sub> <em>&#981;</em>(<em>u</em>)<sup>3</sup> + &hellip; + \n",
    "<em>c<sub>n</sub></em> <em>&#981;</em>(<em>u</em>)<sup><em>n</em></sup>.</p>\n",
    "Therefore, <em>&#981;</em>(<em>u</em>) is also a root of <em>f</em>(<em>x</em>).<br><br>\n",
    "\n",
    "<a href=\"#lem151ret\">Return to text</a>"
   ]
  },
  {
   "cell_type": "markdown",
   "id": "633eaa",
   "metadata": {
    "collapsed": false
   },
   "source": [
    "<br><br><br><br><br><br><br><br><br><br><br><br><br><br><br><br><br><br><br><br><br><br><br><br><br><br><br><br><br><br><br><br><br><br><br><br><br><br><br><br><br><br>"
   ]
  },
  {
   "cell_type": "markdown",
   "id": "e0831e",
   "metadata": {
    "collapsed": false
   },
   "source": [
    "<a name=\"prop152\" id=\"prop152\"></a>\n",
    "Proof of Proposition 15.2:<br><br>\n",
    "\n",
    "If there is some <em>&#981;</em> such that <em>&#981;</em>(<em>u</em>) = <em>v</em>, we can let <em>g</em>(<em>x</em>) = Irr<sub><em>F</em></sub>(<em>u</em>, <em>x</em>) and \n",
    "<em>h</em>(<em>x</em>) = Irr<sub><em>F</em></sub>(<em>v</em>, <em>x</em>).  Then <em>u</em> is a root of <em>g</em>(<em>x</em>), and <em>v</em> is a root \n",
    "of <em>h</em>(<em>x</em>).  By Lemma 15.1, <em>u</em> is a root of <em>h</em>(<em>x</em>) and <em>v</em> is a root of <em>g</em>(<em>x</em>), \n",
    "since <em>v</em> = <em>&#981;</em><sup>-1</sup>(<em>u</em>).  So <em>g</em>(<em>x</em>) is a multiple of <em>h</em>(<em>x</em>), and vice versa.  Since both have a \n",
    "leading coefficient of 1, we have that <em>g</em>(<em>x</em>) = <em>h</em>(<em>x</em>).<br><br>\n",
    "\n",
    "Now suppose that Irr<sub><em>F</em></sub>(<em>u</em>, <em>x</em>) = Irr<sub><em>F</em></sub>(<em>v</em>, <em>x</em>).  Then by Corollary 14.2 there is an \n",
    "isomorphism <em>&#981;</em> from <em>F</em>(<em>u</em>) to <em>F</em>(<em>v</em>) such that <em>&#981;</em>(<em>u</em>) = <em>v</em>, and \n",
    "<em>&#981;</em>(<em>x</em>) = <em>x</em> for all <em>x</em> in <em>F</em>.  Since <em>K</em> is a splitting field of <em>f</em>(<em>x</em>) over <em>F</em>, it is a \n",
    "splitting field of <em>f</em>(<em>x</em>) over both <em>F</em>(<em>u</em>) and <em>F</em>(<em>v</em>).  Therefore <em>&#981;</em> extends to an <em>F</em>-automorphism \n",
    "of <em>K</em> (which we will also denote <em>&#981;</em>) by Proposition 14.8.  Therefore, <em>&#981;</em> is in Gal<sub><em>F</em></sub>(<em>K</em>), \n",
    "and <em>&#981;</em>(<em>u</em>)= <em>v</em>.<br><br>\n",
    "\n",
    "<a href=\"#prop152ret\">Return to text</a>"
   ]
  },
  {
   "cell_type": "markdown",
   "id": "f068a9",
   "metadata": {
    "collapsed": false
   },
   "source": [
    "<br><br><br><br><br><br><br><br><br><br><br><br><br><br><br><br><br><br><br><br><br><br><br><br><br><br><br><br><br><br><br><br><br><br><br><br><br><br><br><br><br><br>"
   ]
  },
  {
   "cell_type": "markdown",
   "id": "2a0013",
   "metadata": {
    "collapsed": false
   },
   "source": [
    "<a name=\"lem152\" id=\"lem152\"></a>\n",
    "Proof of Lemma 15.2:<br><br>\n",
    "\n",
    "Let <em>E</em> be the set of all elements <em>x</em> such that <em>&#981;</em>(<em>x</em>) = <em>x</em>.  Since <em>&#981;</em> is an <em>F</em>-automorphism, by \n",
    "definition <em>E</em> must contain the elements of <em>F</em>.  If <em>x</em> and <em>y</em> are in <em>E</em>, note that\n",
    "<p style='text-align: center;'><em>&#981;</em>(<em>x</em> + <em>y</em>) = <em>&#981;</em>(<em>x</em>) + <em>&#981;</em>(<em>y</em>) = <em>x</em> + <em>y</em>,</p>\n",
    "<p style='text-align: center;'><em>&#981;</em>(<em>x</em>&middot;<em>y</em>) = <em>&#981;</em>(<em>x</em>)&middot;<em>&#981;</em>(<em>y</em>) = \n",
    "<em>x</em>&middot;<em>y</em>,</p>\n",
    "<p style='text-align: center;'><em>&#981;</em>(&minus;<em>x</em>) = &minus;<em>&#981;</em>(<em>x</em>) = &minus;<em>x</em>,</p>\n",
    "<p style='text-align: center;'><em>&#981;</em>(<em>x</em><sup>-1</sup>) = <em>&#981;</em>(<em>x</em>)<sup>-1</sup> = <em>x</em><sup>-1</sup> if <em>x</em> &ne; 0.</p>\n",
    "Thus, <em>x</em> + <em>y</em>, <em>x</em>&middot;<em>y</em>, and &minus;<em>x</em> are in <em>E</em> whenever <em>x</em> and <em>y</em> are, and <em>x</em><sup>-1</sup> is \n",
    "in <em>E</em> whenever <em>x</em> &ne; 0 is in <em>E</em>.  Thus, <em>E</em> is a subfield of <em>K</em>.<br><br>\n",
    "\n",
    "<a href=\"#lem152ret\">Return to text</a>"
   ]
  },
  {
   "cell_type": "markdown",
   "id": "de0d3b",
   "metadata": {
    "collapsed": false
   },
   "source": [
    "<br><br><br><br><br><br><br><br><br><br><br><br><br><br><br><br><br><br><br><br><br><br><br><br><br><br><br><br><br><br><br><br><br><br><br><br><br><br><br><br><br><br>"
   ]
  },
  {
   "cell_type": "markdown",
   "id": "f4434b",
   "metadata": {
    "collapsed": false
   },
   "source": [
    "<a name=\"prop153\" id=\"prop153\"></a>\n",
    "Proof of Proposition 15.3:<br><br>\n",
    "\n",
    "Consider the <em>F</em>-automorphism <em>&#981;</em><sub>2</sub><sup>-1</sup>(<em>&#981;</em><sub>1</sub>(<em>x</em>)).  It is clear that this automorphism \n",
    "fixes <em>u</em><sub>1</sub>, <em>u</em><sub>2</sub>, <em>u</em><sub>3</sub>, &hellip; <em>u<sub>n</sub></em>, as well as the elements of <em>F</em>.  By Lemma 15.2, the \n",
    "set <em>E</em> of all elements <em>x</em> such that <em>&#981;</em><sub>2</sub><sup>-1</sup>(<em>&#981;</em><sub>1</sub>(<em>x</em>)) = <em>x</em> forms a subfield of \n",
    "<em>K</em>.  But <em>K</em> is by Lemma 14.3 the smallest field containing <em>u</em><sub>1</sub>, <em>u</em><sub>2</sub>, <em>u</em><sub>3</sub>, &hellip; \n",
    "<em>u<sub>n</sub></em>, and <em>F</em>.  Thus, <em>K</em> = <em>E</em>, and so <em>&#981;</em><sub>1</sub>(<em>x</em>) = <em>&#981;</em><sub>2</sub>(<em>x</em>) for all \n",
    "<em>x</em> in <em>K</em>.<br><br>\n",
    "\n",
    "<a href=\"#prop153ret\">Return to text</a>"
   ]
  },
  {
   "cell_type": "markdown",
   "id": "a2ac72",
   "metadata": {
    "collapsed": false
   },
   "source": [
    "<br><br><br><br><br><br><br><br><br><br><br><br><br><br><br><br><br><br><br><br><br><br><br><br><br><br><br><br><br><br><br><br><br><br><br><br><br><br><br><br><br><br>"
   ]
  },
  {
   "cell_type": "markdown",
   "id": "4b9420",
   "metadata": {
    "collapsed": false
   },
   "source": [
    "<a name=\"cor151\" id=\"cor151\"></a>\n",
    "Proof of Corollary 15.1:<br><br>\n",
    "\n",
    "Since <em>f</em>(<em>x</em>) has degree <em>n</em> in <em>F</em>[<em>x</em>], there are at most <em>n</em> roots of <em>f</em>(<em>x</em>) in <em>K</em>.  Call these \n",
    "roots <em>u</em><sub>1</sub>, <em>u</em><sub>2</sub>, <em>u</em><sub>3</sub>, \n",
    "&hellip; <em>u<sub>m</sub></em>.  Since <em>K</em> is the splitting field of <em>f</em>(<em>x</em>) over <em>F</em>, we can write <em>K</em> = \n",
    "<em>F</em>(<em>u</em><sub>1</sub>, <em>u</em><sub>2</sub>, <em>u</em><sub>3</sub>, &hellip; <em>u<sub>m</sub></em>).  If <em>&#981;</em> is \n",
    "in Gal<sub><em>F</em></sub>(<em>K</em>), then <em>&#981;</em>(<em>u</em><sub>1</sub>), <em>&#981;</em>(<em>u</em><sub>2</sub>), \n",
    "<em>&#981;</em>(<em>u</em><sub>3</sub>), &hellip; <em>&#981;</em>(<em>u<sub>m</sub></em>) will be distinct roots of <em>f</em>(<em>x</em>) by Lemma 15.1.  Hence, \n",
    "<em>&#981;</em> will act as a permutation on the roots of <em>f</em>(<em>x</em>).  By Proposition 15.3, <em>&#981;</em> is completely determined by this permutation on \n",
    "the roots of <em>f</em>(<em>x</em>).  Thus, Gal<sub><em>F</em></sub>(<em>K</em>) is isomorphic to a subgroup of <em>S<sub>m</sub></em>, and since <em>m</em> is not larger \n",
    "than <em>n</em>, Gal<sub><em>F</em></sub>(<em>K</em>) is isomorphic to a subgroup of <em>S<sub>n</sub></em>.<br><br>\n",
    "\n",
    "<a href=\"#cor151ret\">Return to text</a>"
   ]
  },
  {
   "cell_type": "markdown",
   "id": "640f32",
   "metadata": {
    "collapsed": false
   },
   "source": [
    "<br><br><br><br><br><br><br><br><br><br><br><br><br><br><br><br><br><br><br><br><br><br><br><br><br><br><br><br><br><br><br><br><br><br><br><br><br><br><br><br><br><br>"
   ]
  },
  {
   "cell_type": "markdown",
   "id": "fa8e58",
   "metadata": {
    "collapsed": false
   },
   "source": [
    "<a name=\"prop154\" id=\"prop154\"></a>\n",
    "Proof of Proposition 15.4:<br><br>\n",
    "\n",
    "Let <em>d</em> be the dimension of <em>K</em> over <em>F</em>.  Then if <em>g</em>(<em>x</em>) = Irr<sub><em>F</em></sub>(<em>w</em>, <em>x</em>), then \n",
    "<em>g</em>(<em>x</em>) has degree <em>d</em>.  Since <em>K</em> is a splitting field and contains one root of <em>g</em>(<em>x</em>), by Lemma 14.5 \n",
    "<em>g</em>(<em>x</em>) splits completely in <em>K</em>.  Since there are no double roots of <em>g</em>(<em>x</em>) in <em>K</em>, then there are <em>d</em> roots \n",
    "<em>w</em> = <em>w</em><sub>1</sub>, <em>w</em><sub>2</sub>, <em>w</em><sub>3</sub>, &hellip; <em>w<sub>d</sub></em>.  Since <em>g</em>(<em>x</em>) is irreducible, \n",
    "Irr<sub><em>F</em></sub>(<em>w<sub>i</sub></em>, <em>x</em>) = Irr<sub><em>F</em></sub>(<em>w</em>, <em>x</em>) so Proposition 15.2 states that there is \n",
    "an <em>F</em>-automorphism that sends <em>w</em> to <em>w<sub>i</sub></em> for 1 &le; <em>i</em> &le; <em>d</em>.  Hence, there are at \n",
    "least <em>d</em> <em>F</em>-automorphisms.  But by Proposition 15.3, the <em>F</em>-automorphism of <em>F</em>(<em>w</em>) is determined by where it sends <em>w</em>, \n",
    "which must be one of the <em>d</em> roots.  So |Gal<sub><em>F</em></sub>(<em>K</em>)| = <em>d</em>.<br><br>\n",
    "\n",
    "<a href=\"#prop154ret\">Return to text</a>"
   ]
  },
  {
   "cell_type": "markdown",
   "id": "43be63",
   "metadata": {
    "collapsed": false
   },
   "source": [
    "<br><br><br><br><br><br><br><br><br><br><br><br><br><br><br><br><br><br><br><br><br><br><br><br><br><br><br><br><br><br><br><br><br><br><br><br><br><br><br><br><br><br>"
   ]
  },
  {
   "cell_type": "markdown",
   "id": "4268a2",
   "metadata": {
    "collapsed": false
   },
   "source": [
    "<a name=\"prop155\" id=\"prop155\"></a>\n",
    "Proof of Proposition 15.5:<br><br>\n",
    "\n",
    "For each <em>&#981;</em> in <em>H</em>, let <em>E<sub>&#981;</sub></em>  be the set of elements that are fixed by <em>&#981;</em>.  By \n",
    "Lemma 15.2, <em>E<sub>&#981;</sub></em> is a subfield of <em>K</em> containing <em>F</em>.  By taking the intersection of all <em>E<sub>&#981;</sub></em> with \n",
    "<em>&#981;</em> in <em>H</em>, we obtain a subfield of <em>K</em> containing <em>F</em>.<br><br>\n",
    "\n",
    "<a href=\"#prop155ret\">Return to text</a>"
   ]
  },
  {
   "cell_type": "markdown",
   "id": "fd5585",
   "metadata": {
    "collapsed": false
   },
   "source": [
    "<br><br><br><br><br><br><br><br><br><br><br><br><br><br><br><br><br><br><br><br><br><br><br><br><br><br><br><br><br><br><br><br><br><br><br><br><br><br><br><br><br><br>"
   ]
  },
  {
   "cell_type": "markdown",
   "id": "5378aa",
   "metadata": {
    "collapsed": false
   },
   "source": [
    "<a name=\"lem153\" id=\"lem153\"></a>\n",
    "Proof of Lemma 15.3:<br><br>\n",
    "\n",
    "Since we are working in &#8474;[<em>x</em>], we can use the familiar tools of calculus.  Suppose that <em>K</em> is the splitting field of <em>f</em>(<em>x</em>), \n",
    "and <em>u</em> is a multiple root of <em>f</em>(<em>x</em>) in <em>K</em>.  Then\n",
    "<p style='text-align: center;'><em>f</em>(<em>x</em>) = (<em>x</em> &minus; <em>u</em>)<sup>2</sup>&middot;<em>g</em>(<em>x</em>).</p>\n",
    "Since we are working in a field extension of &#8474;, we can take the derivative of both sides to get \n",
    "<p style='text-align: center;'><em>f</em>&thinsp;&prime;(<em>x</em>) = 2 (<em>x</em> &minus; <em>u</em>)&middot;<em>g</em>(<em>x</em>) + \n",
    "(<em>x</em> &minus; <em>u</em>)<sup>2</sup>&middot;<em>g</em>&prime;(<em>x</em>).</p>\n",
    "Thus, <em>u</em> is a root of <em>f</em>&thinsp;&prime;(<em>x</em>), which has lower degree than <em>f</em>(<em>x</em>).  Note that <em>f</em>&thinsp;&prime;(<em>x</em>) is not 0, since \n",
    "it has degree of at least one.<br><br>\n",
    "\n",
    "Since <em>f</em>&thinsp;&prime;(<em>x</em>) is also in &#8474;[<em>x</em>], we see that Irr<sub>&#8474;</sub>(<em>u</em>, <em>x</em>) has degree less than the degree \n",
    "of <em>f</em>(<em>x</em>), and so Irr<sub>&#8474;</sub>(<em>u</em>, <em>x</em>) is a divisor of <em>f</em>(<em>x</em>).  But this contradicts the fact \n",
    "that <em>f</em>(<em>x</em>) is irreducible.  Therefore, <em>f</em>(<em>x</em>) cannot have multiple roots in its splitting field.<br><br>\n",
    "\n",
    "<a href=\"#lem153ret\">Return to text</a>"
   ]
  },
  {
   "cell_type": "markdown",
   "id": "f6d93d",
   "metadata": {
    "collapsed": false
   },
   "source": [
    "<br><br><br><br><br><br><br><br><br><br><br><br><br><br><br><br><br><br><br><br><br><br><br><br><br><br><br><br><br><br><br><br><br><br><br><br><br><br><br><br><br><br>"
   ]
  },
  {
   "cell_type": "markdown",
   "id": "f02092",
   "metadata": {
    "collapsed": false
   },
   "source": [
    "<a name=\"prop156\" id=\"prop156\"></a>\n",
    "Proof of Proposition 15.6:<br><br>\n",
    "\n",
    "Let <em>g</em>(<em>x</em>) = &Phi;<sub><em>n</em></sub>(<em>x</em>),  which by Gauss' theorem on cyclotomic polynomials (13.2), is irreducible.  The roots \n",
    "of <em>g</em>(<em>x</em>) are of the form <em>&omega;<sub>n</sub><sup>k</sup></em> where <em>k</em> is coprime to <em>n</em>. Hence, \n",
    "<em>K</em> is the splitting field of <em>g</em>(<em>x</em>).  Since the degree of &Phi;<sub><em>n</em></sub>(<em>x</em>) is <em>&#981;</em>(<em>n</em>), we know from Proposition 15.4 that the size of Gal<sub>&#8474;</sub>(<em>K</em>) is <em>&#981;</em>(<em>n</em>).<br><br>\n",
    "\n",
    "To show that Gal<sub>&#8474;</sub>(<em>K</em>) is isomorphic to <em>Z<sub>n</sub></em><sup>&ast;</sup>, note that every <em>&#981;</em> in \n",
    "Gal<sub>&#8474;</sub>(<em>K</em>) is determined by where it sends <em>&omega;<sub>n</sub></em>, and that it must send it to one of the \n",
    "roots <em>&omega;<sub>n</sub><sup>k</sup></em> for some <em>k</em> coprime to <em>n</em>.  Thus, there is a natural mapping\n",
    "<p style='text-align: center;'><em>&fnof;</em> : Gal<sub>&#8474;</sub>(<em>K</em>) &rarr; <em>Z<sub>n</sub></em><sup>&ast;</sup></p>\n",
    "defined by \n",
    "<p style='text-align: center;'><em>&fnof;</em>(<em>&#981;</em>) = ( the value <em>k</em> for which <em>&#981;</em>(<em>&omega;<sub>n</sub></em>) = \n",
    "<em>&omega;<sub>n</sub><sup>k</sup></em>).</p>\n",
    "This mapping is well defined since <em>&omega;<sub>n</sub><sup>n</sup></em> = 1.  This mapping is a homomorphism, for if <em>&fnof;</em>(<em>&#981;</em>) = <em>k</em> and\n",
    "<em>&fnof;</em>(<em>&mu;</em>) = <em>m</em>, then\n",
    "<p style='text-align: center;'>(<em>&#981;</em>&middot;<em>&mu;</em>)(<em>&omega;<sub>n</sub></em>) = <em>&#981;</em>(<em>&mu;</em>(<em>&omega;<sub>n</sub></em>)) = \n",
    "<em>&#981;</em>(<em>&omega;<sub>n</sub><sup>m</sup></em>) = (<em>&omega;<sub>n</sub></em>)<sup><em>k</em>&middot;<em>m</em></sup>,</p> \n",
    "so \n",
    "<p style='text-align: center;'><em>&fnof;</em>(<em>&#981;</em>&middot;<em>&mu;</em>) = <em>k</em>&middot;<em>m</em> = <em>&fnof;</em>(<em>&#981;</em>)&middot;<em>&fnof;</em>(<em>&mu;</em>).</p>\n",
    "Finally, an element in the kernel of this homomorphism sends <em>&omega;<sub>n</sub></em> to <em>&omega;<sub>n</sub></em>, so Ker(<em>&fnof;</em>) is just the \n",
    "identity element of Gal<sub>&#8474;</sub>(<em>K</em>).  Thus, <em>&fnof;</em> is an isomorphism \n",
    "from Gal<sub>&#8474;</sub>(<em>K</em>) to <em>Z<sub>n</sub></em><sup>&ast;</sup>.  Since we know that both Gal<sub>&#8474;</sub>(<em>K</em>) \n",
    "and <em>Z<sub>n</sub></em><sup>&ast;</sup> have <em>&#981;</em>(<em>n</em>) elements, the mapping is onto, \n",
    "so Gal<sub>&#8474;</sub>(<em>K</em>) &asymp; <em>Z<sub>n</sub></em><sup>&ast;</sup>.<br><br>\n",
    "\n",
    "<a href=\"#prop156ret\">Return to text</a>"
   ]
  },
  {
   "cell_type": "markdown",
   "id": "4b91a2",
   "metadata": {
    "collapsed": false
   },
   "source": [
    "<br><br><br><br><br><br><br><br><br><br><br><br><br><br><br><br><br><br><br><br><br><br><br><br><br><br><br><br><br><br><br><br><br><br><br><br><br><br><br><br><br><br>"
   ]
  },
  {
   "cell_type": "markdown",
   "id": "f6596e",
   "metadata": {
    "collapsed": false
   },
   "source": [
    "<a name=\"prop157\" id=\"prop157\"></a>\n",
    "Proof of Proposition 15.7:<br><br>\n",
    "\n",
    "Since <em>u</em> is a root of <em>x<sup>n</sup></em> &minus; <em>c</em>, we have \n",
    "that <em>u<sup>n</sup></em> = <em>c</em>.  But (<em>&omega;<sub>n</sub></em>)<em><sup>k</sup></em>&middot;<em>u</em> is also a root of this polynomial for \n",
    "integers <em>k</em> = 0, 1, 2, &hellip; <em>n</em> &minus; 1, since\n",
    "<p style='text-align: center;'>(<em>&omega;<sub>n</sub><sup>k</sup></em>&middot;<em>u</em>)<sup><em>n</em></sup> = \n",
    "(<em>&omega;<sub>n</sub></em>)<sup><em>k</em>&middot;<em>n</em></sup>&middot;<em>u<sup>n</sup></em> = 1&middot;<em>c</em> = <em>c</em>.</p>\n",
    "Since there are <em>n</em> distinct roots of the polynomial <em>x<sup>n</sup></em> &minus; <em>c</em> in <em>K</em>, the polynomial factors completely \n",
    "in <em>K</em>[<em>x</em>].  Thus, <em>K</em> is the splitting field of <em>f</em>(<em>x</em>).<br><br>\n",
    "\n",
    "To show that Gal<sub><em>F</em></sub>(<em>K</em>) is abelian, note that any <em>F</em>-automorphism is determined by where <em>u</em> is sent, which must be of the \n",
    "form <em>&omega;<sub>n</sub><sup>k</sup></em>&middot;<em>u</em>.  Thus, if <em>&#981;</em><sub>1</sub> and <em>&#981;</em><sub>2</sub> are two <em>F</em>-automorphisms \n",
    "of <em>K</em>, where \n",
    "<p style='text-align: center;'><em>&#981;</em><sub>1</sub>(<em>u</em>) = \n",
    "<em>&omega;<sub>n</sub><sup>k</sup></em>&middot;<em>u</em>&emsp;and&emsp;<em>&#981;</em><sub>2</sub>(<em>u</em>) = \n",
    "<em>&omega;<sub>n</sub><sup>m</sup></em>&middot;<em>u</em>,</p>\n",
    "then\n",
    "<p style='text-align: center;'>(<em>&#981;</em><sub>1</sub>&middot;<em>&#981;</em><sub>2</sub>)(<em>u</em>) = \n",
    "<em>&#981;</em><sub>1</sub>(<em>&#981;</em><sub>2</sub>(<em>u</em>)) = \n",
    "<em>&#981;</em><sub>1</sub>(<em>&omega;<sub>n</sub><sup>m</sup></em>&middot;<em>u</em>) = \n",
    "(<em>&#981;</em><sub>1</sub>(<em>&omega;<sub>n</sub></em>))<sup><em>m</em></sup>&middot;<em>&#981;</em><sub>1</sub>(<em>u</em>) = \n",
    "(<em>&omega;<sub>n</sub></em>)<em><sup>m</sup></em>&middot;(<em>&omega;<sub>n</sub></em>)<em><sup>k</sup></em>&middot;<em>u</em>,</p>\n",
    "while\n",
    "<p style='text-align: center;'>(<em>&#981;</em><sub>2</sub>&middot;<em>&#981;</em><sub>1</sub>)(<em>u</em>) = \n",
    "<em>&#981;</em><sub>2</sub>(<em>&#981;</em><sub>1</sub>(<em>u</em>)) = \n",
    "<em>&#981;</em><sub>2</sub>(<em>&omega;<sub>n</sub><sup>k</sup></em>&middot;<em>u</em>) = \n",
    "(<em>&#981;</em><sub>2</sub>(<em>&omega;<sub>n</sub></em>))<sup><em>k</em></sup>&middot;<em>&#981;</em><sub>2</sub>(<em>u</em>) = \n",
    "(<em>&omega;<sub>n</sub></em>)<em><sup>k</sup></em>&middot;(<em>&omega;<sub>n</sub></em>)<em><sup>m</sup></em>&middot;<em>u</em>.</p>\n",
    "Thus, <em>&#981;</em><sub>1</sub>&middot;<em>&#981;</em><sub>2</sub> = \n",
    "<em>&#981;</em><sub>2</sub>&middot;<em>&#981;</em><sub>1</sub>, and so the Galois group is abelian.<br><br>\n",
    "\n",
    "<a href=\"#prop157ret\">Return to text</a>"
   ]
  },
  {
   "cell_type": "markdown",
   "id": "cc5483",
   "metadata": {
    "collapsed": false
   },
   "source": [
    "<br><br><br><br><br><br><br><br><br><br><br><br><br><br><br><br><br><br><br><br><br><br><br><br><br><br><br><br><br><br><br><br><br><br><br><br><br><br><br><br><br><br>"
   ]
  },
  {
   "cell_type": "markdown",
   "id": "1f0964",
   "metadata": {
    "collapsed": false
   },
   "source": [
    "<a name=\"prop158\" id=\"prop158\"></a>\n",
    "Proof of Proposition 15.8:<br><br>\n",
    "\n",
    "Since <em>f</em>(<em>x</em>) has at least one root in the field <em>K</em>, we will \n",
    "let <em>u</em><sub>1</sub>, <em>u</em><sub>2</sub>, <em>u</em><sub>3</sub>, &hellip; <em>u<sub>n</sub></em> be the set of all roots \n",
    "of <em>f</em>(<em>x</em>) in <em>K</em>.  Consider the polynomial\n",
    "<p style='text-align: center;'><em>g</em>(<em>x</em>) = (<em>x</em> &minus; <em>u</em><sub>1</sub>)&middot;(<em>x</em> &minus; \n",
    "<em>u</em><sub>2</sub>)&middot;(<em>x</em> &minus; <em>u</em><sub>3</sub>) &#8943; (<em>x</em> &minus; <em>u<sub>n</sub></em>).</p>\n",
    "By Lemma 13.3, any automorphism in Gal<sub><em>F</em></sub>(<em>K</em>) extends to an automorphism \n",
    "on <em>K</em>[<em>x</em>] with <em>&#981;</em>(<em>x</em>) = <em>x</em>. Thus,\n",
    "<p style='text-align: center;'><em>&#981;</em>(<em>g</em>(<em>x</em>)) = (<em>x</em> &minus; <em>&#981;</em>(<em>u</em><sub>1</sub>))&middot;(<em>x</em> &minus; \n",
    "<em>&#981;</em>(<em>u</em><sub>2</sub>))&middot;(<em>x</em> &minus; <em>&#981;</em>(<em>u</em><sub>3</sub>)) &#8943; (<em>x</em> &minus; \n",
    "<em>&#981;</em>(<em>u<sub>n</sub></em>)).</p>\n",
    "By Lemma 15.1, <em>&#981;</em>(<em>u</em><sub>1</sub>), <em>&#981;</em>(<em>u</em><sub>2</sub>), <em>&#981;</em>(<em>u</em><sub>3</sub>), &hellip; \n",
    "<em>&#981;</em>(<em>u<sub>n</sub></em>) will all be roots of <em>f</em>(<em>x</em>), and so this list is a permutation of the \n",
    "list <em>u</em><sub>1</sub>, <em>u</em><sub>2</sub>, <em>u</em><sub>3</sub>, &hellip; <em>u<sub>n</sub></em>.  Therefore, <em>&#981;</em>(<em>g</em>(<em>x</em>)) = \n",
    "<em>g</em>(<em>x</em>) for all <em>&#981;</em> in Gal<sub><em>F</em></sub>(<em>K</em>).<br><br>\n",
    "\n",
    "Now, since <em>K</em> is a Galois extension of <em>F</em>, the fixed field of Gal<sub><em>F</em></sub>(<em>K</em>) is the field <em>F</em>.  Thus, <em>g</em>(<em>x</em>) is \n",
    "a polynomial in <em>F</em>[<em>x</em>].  Since <em>g</em>(<em>x</em>) certainly divides the polynomial <em>f</em>(<em>x</em>), and <em>f</em>(<em>x</em>) is irreducible \n",
    "in <em>F</em>[<em>x</em>], we have that <em>f</em>(<em>x</em>) and <em>g</em>(<em>x</em>) have the same degree.  Thus, <em>n</em> is the degree \n",
    "of <em>f</em>(<em>x</em>), and so <em>f</em>(<em>x</em>) factors completely in the field <em>K</em>.  Furthermore, <em>f</em>(<em>x</em>) has no\n",
    "multiple roots in the field <em>K</em>.<br><br>\n",
    "\n",
    "<a href=\"#prop158ret\">Return to text</a>"
   ]
  },
  {
   "cell_type": "markdown",
   "id": "155dca",
   "metadata": {
    "collapsed": false
   },
   "source": [
    "<br><br><br><br><br><br><br><br><br><br><br><br><br><br><br><br><br><br><br><br><br><br><br><br><br><br><br><br><br><br><br><br><br><br><br><br><br><br><br><br><br><br>"
   ]
  },
  {
   "cell_type": "markdown",
   "id": "170c45",
   "metadata": {
    "collapsed": false
   },
   "source": [
    "<a name=\"cor152\" id=\"cor152\"></a>\n",
    "Proof of Corollary 15.2:<br><br>\n",
    "\n",
    "Since <em>K</em> is a Galois extension of <em>F</em>, <em>K</em> is finite dimensional \n",
    "over <em>F</em>.  Thus, <em>K</em> = <em>F</em>(<em>u</em><sub>1</sub>, <em>u</em><sub>2</sub>, <em>u</em><sub>3</sub>, &hellip; <em>u<sub>n</sub></em>) for \n",
    "elements <em>u</em><sub>1</sub>, <em>u</em><sub>2</sub>, <em>u</em><sub>3</sub>, &hellip; <em>u<sub>n</sub></em> in <em>K</em>.  But the \n",
    "polynomials <nobr>Irr<sub><em>F</em></sub>(<em>u<sub>i</sub></em>, <em>x</em>)</nobr> all have a root in <em>K</em>, and so factor completely in the field <em>K</em> without \n",
    "multiple roots.  Then we can use Corollary 14.4 to show that there is an element <em>w</em> in <em>K</em> such that <em>F</em>(<em>w</em>) = <em>K</em>.<br><br>\n",
    "\n",
    "<a href=\"#cor152ret\">Return to text</a>"
   ]
  },
  {
   "cell_type": "markdown",
   "id": "f99d2b",
   "metadata": {
    "collapsed": false
   },
   "source": [
    "<br><br><br><br><br><br><br><br><br><br><br><br><br><br><br><br><br><br><br><br><br><br><br><br><br><br><br><br><br><br><br><br><br><br><br><br><br><br><br><br><br><br>"
   ]
  },
  {
   "cell_type": "markdown",
   "id": "4b36cd",
   "metadata": {
    "collapsed": false
   },
   "source": [
    "<a name=\"lem154\" id=\"lem154\"></a>\n",
    "Proof of Lemma 15.4:<br><br>\n",
    "\n",
    "Let <em>H</em> = Gal<sub><em>E</em></sub>(<em>K</em>), which is a subgroup of Gal<sub><em>F</em></sub>(<em>K</em>).  Let <em>E</em><sub>0</sub> be the field fixed \n",
    "by <em>H</em>.  Certainly <em>E</em><sub>0</sub> contains the field <em>E</em>, since every automorphism in <em>H</em> fixes <em>E</em>.  Suppose that <em>u</em> is \n",
    "an element of <em>K</em> which is not in <em>E</em>.  Let <em>f</em>(<em>x</em>) = Irr<sub><em>E</em></sub>(<em>u</em>, <em>x</em>).  Since <em>u</em> is not \n",
    "in <em>E</em>, <em>f</em>(<em>x</em>) has degree at least 2.  Note that <em>g</em>(<em>x</em>) = Irr<sub><em>F</em></sub>(<em>u</em>, <em>x</em>) is a polynomial \n",
    "in <em>F</em>[<em>x</em>] for which <em>f</em>(<em>x</em>) is a factor in the domain <em>E</em>[<em>x</em>].  Since <em>F</em> is a Galois field over <em>F</em>, \n",
    "<em>g</em>(<em>x</em>) factors completely in <em>K</em> with no repeated factors.  Thus, <em>f</em>(<em>x</em>) also factors completely in <em>K</em> with no repeated \n",
    "factors, so there are at least two solutions to the equation <em>f</em>(<em>x</em>) = 0 in <em>K</em>.  One solution is of course <em>u</em>, so let <em>v</em> be \n",
    "another solution.  By Proposition 15.2, there is an <em>E</em>-automorphism in <em>H</em> such that <em>&#981;</em>(<em>u</em>) = <em>v</em>.  Thus, <em>u</em> is not \n",
    "in <em>E</em><sub>0</sub>. Therefore, <em>E</em><sub>0</sub> = <em>E</em>, and so <em>K</em> is a Galois extension of <em>E</em>.<br><br>\n",
    "\n",
    "<a href=\"#lem154ret\">Return to text</a>"
   ]
  },
  {
   "cell_type": "markdown",
   "id": "5db9be",
   "metadata": {
    "collapsed": false
   },
   "source": [
    "<br><br><br><br><br><br><br><br><br><br><br><br><br><br><br><br><br><br><br><br><br><br><br><br><br><br><br><br><br><br><br><br><br><br><br><br><br><br><br><br><br><br>"
   ]
  },
  {
   "cell_type": "markdown",
   "id": "b808e6",
   "metadata": {
    "collapsed": false
   },
   "source": [
    "<a name=\"lem155\" id=\"lem155\"></a>\n",
    "Proof of Lemma 15.5:<br><br>\n",
    "\n",
    "Let <em>n</em> be the dimension of the field <em>K</em> over <em>E</em>.  By Lemma 15.4, <em>K</em> is a Galois extension of <em>E</em>.  Thus, by Corollary 15.2, \n",
    "there exists an element <em>w</em> in <em>K</em> such that <em>K</em> = <em>E</em>(<em>w</em>).  If <em>f</em>(x) = Irr<sub><em>E</em></sub>(<em>w</em>, <em>x</em>), then \n",
    "the degree of <em>f</em>(<em>x</em>) is <em>n</em> by Corollary 14.1.  Since <em>K</em> is a Galois extension of <em>E</em>, by Proposition 15.8, the \n",
    "polynomial <em>f</em>(<em>x</em>) factors completely in the field <em>K</em>, and there are no multiple roots.  Thus, by Proposition 15.4, the number \n",
    "of <em>E</em>-automorphisms of <em>K</em> is the dimension of <em>K</em> over <em>E</em>, which is <em>n</em>.<br><br>\n",
    "\n",
    "Suppose that <em>H</em> contains <em>m</em> <em>E</em>-automorphisms.  Let <em>v</em><sub>1</sub>, <em>v</em><sub>2</sub>, <em>v</em><sub>3</sub>, &hellip; \n",
    "<em>v<sub>m</sub></em> be the images of <em>w</em> under the automorphisms in the subgroup <em>H</em>.  That is, for each <em>v<sub>i</sub></em> there is \n",
    "an <em>&fnof;</em> in <em>H</em> such that <em>v<sub>i</sub></em> = <em>&fnof;</em>(<em>w</em>).<br><br>\n",
    "\n",
    "Consider the polynomial\n",
    "<p style='text-align: center;'><em>g</em>(<em>x</em>) = (<em>x</em> &minus; <em>v</em><sub>1</sub>)&middot;(<em>x</em> &minus; \n",
    "<em>v</em><sub>2</sub>)&middot;(<em>x</em> &minus; <em>v</em><sub>3</sub>) &#8943; (<em>x</em> &minus; <em>v<sub>m</sub></em>).</p>\n",
    "If <em>&#981;</em> is an automorphism in <em>H</em>, then <em>&#981;</em>(<em>v<sub>i</sub></em>) = <em>&#981;</em>(<em>&fnof;</em>(<em>w</em>)) = \n",
    "<em>v<sub>j</sub></em> for some <em>j</em>.  Also, since <em>&#981;</em> is one-to-one, the images of <em>&#981;</em>(<em>v</em><sub>1</sub>), \n",
    "<em>&#981;</em>(<em>v</em><sub>2</sub>), <em>&#981;</em>(<em>v</em><sub>3</sub>), &hellip;  <em>&#981;</em>(<em>v<sub>m</sub></em>) must all be distinct.  Thus, \n",
    "each <em>&#981;</em> in <em>H</em> is a permutation on the elements <em>v</em><sub>1</sub>, <em>v</em><sub>2</sub>, <em>v</em><sub>3</sub>, &hellip; \n",
    "<em>v<sub>m</sub></em>.  Hence, <em>&#981;</em>(<em>g</em>(<em>x</em>)) = <em>g</em>(<em>x</em>) . Since <em>E</em> is the fixed field fix(<em>H</em>) of the \n",
    "subgroup <em>H</em>, we see that <em>g</em>(<em>x</em>) is in <em>E</em>[<em>x</em>].  Thus, \n",
    "<em>f</em>(<em>x</em>) = Irr<sub><em>E</em></sub>(<em>u</em>, <em>x</em>) divides <em>g</em>(<em>x</em>), so <em>m</em> is at least <em>n</em>.  Thus,\n",
    "<p style='text-align: center;'>|<em>H</em>| &le; |Gal<sub><em>E</em></sub>(<em>K</em>)| = <em>n</em> &le; <em>m</em> = |<em>H</em>|.</p>\n",
    "Therefore, <em>H</em> = Gal<sub><em>E</em></sub>(<em>K</em>).<br><br>\n",
    "\n",
    "<a href=\"#lem155ret\">Return to text</a>"
   ]
  },
  {
   "cell_type": "markdown",
   "id": "fd205f",
   "metadata": {
    "collapsed": false
   },
   "source": [
    "<br><br><br><br><br><br><br><br><br><br><br><br><br><br><br><br><br><br><br><br><br><br><br><br><br><br><br><br><br><br><br><br><br><br><br><br><br><br><br><br><br><br>"
   ]
  },
  {
   "cell_type": "markdown",
   "id": "634a56",
   "metadata": {
    "collapsed": false
   },
   "source": [
    "<a name=\"lem156\" id=\"lem156\"></a>\n",
    "Proof of Lemma 15.6:<br><br>\n",
    "\n",
    "First, we want to show that if <em>u</em> is in <em>E</em>, and <em>&#981;</em> is in Gal<sub><em>L</em></sub>(<em>K</em>), then <em>v</em> = <em>&#981;</em>(<em>u</em>) is \n",
    "in <em>E</em>.  Since Gal<sub><em>E</em></sub>(<em>K</em>) is a normal subgroup of Gal<sub><em>L</em></sub>(<em>K</em>), for any <em>&fnof;</em> in \n",
    "Gal<sub><em>E</em></sub>(<em>K</em>) we have that <em>&psi;</em> = <em>&#981;</em><sup>-1</sup>&middot;<em>&fnof;</em>&middot;<em>&#981;</em> is \n",
    "in Gal<sub><em>E</em></sub>(<em>K</em>).  Then <em>&fnof;</em>&middot;<em>&#981;</em> = <em>&#981;</em>&middot;<em>&psi;</em>, or\n",
    "<p style='text-align: center;'><em>&fnof;</em>(<em>&#981;</em>(<em>u</em>)) = <em>&#981;</em>(<em>&psi;</em>(<em>u</em>)).</p>\n",
    "\n",
    "Since <em>u</em> is in <em>E</em>, <em>&psi;</em>(<em>u</em>) = <em>u</em>, so\n",
    "<p style='text-align: center;'><em>&fnof;</em>(<em>v</em>) = <em>&fnof;</em>(<em>&#981;</em>(<em>u</em>)) = <em>&#981;</em>(<em>&psi;</em>(<em>u</em>)) = \n",
    "<em>&#981;</em>(<em>u</em>) = <em>v</em>.</p>\n",
    "Thus, <em>v</em> is fixed by every automorphism <em>&fnof;</em> in Gal<sub><em>E</em></sub>(<em>K</em>).  By Lemma 15.4, <em>K</em> is a Galois extension of <em>E</em>, so \n",
    "the fixed field of Gal<sub><em>E</em></sub>(<em>K</em>) is <em>E</em>.  Thus, <em>v</em> is in <em>E</em>.<br><br>\n",
    "\n",
    "To show that the fixed field of Gal<sub><em>L</em></sub>(<em>E</em>) is <em>L</em>, consider an element <em>u</em> in <em>E</em> that is not in <em>L</em>.  By Lemma \n",
    "15.4, <em>K</em> is a Galois extension of <em>L</em>.  Since <em>u</em> is not in the fixed field \n",
    "of Gal<sub><em>L</em></sub>(<em>K</em>), there is \n",
    "an <em>L</em>-automorphism <em>&#981;</em> that moves <em>u</em> to another element, <em>v</em>.  But <em>&#981;</em> moves all elements of <em>E</em> to elements of \n",
    "<em>E</em>, so we can consider the restriction of <em>&#981;</em> on the field <em>E</em>, denoted <em>&#981;</em>&prime;.  This is an automorphism of <em>E</em>, since \n",
    "the inverse is (<em>&#981;</em><sup>-1</sup>)&prime;.  Thus, there is an <em>L</em>-automorphism of <em>E</em> that moves the element <em>u</em>, so the fixed field \n",
    "of Gal<sub><em>L</em></sub>(<em>E</em>) is only <em>L</em>.  Therefore, <em>E</em> is a Galois extension of <em>L</em>.<br><br>\n",
    "\n",
    "<a href=\"#lem156ret\">Return to text</a>"
   ]
  },
  {
   "cell_type": "markdown",
   "id": "812c7e",
   "metadata": {
    "collapsed": false
   },
   "source": [
    "<br><br><br><br><br><br><br><br><br><br><br><br><br><br><br><br><br><br><br><br><br><br><br><br><br><br><br><br><br><br><br><br><br><br><br><br><br><br><br><br><br><br>"
   ]
  },
  {
   "cell_type": "markdown",
   "id": "22ae76",
   "metadata": {
    "collapsed": false
   },
   "source": [
    "<a name=\"lem157\" id=\"lem157\"></a>\n",
    "Proof of Lemma 15.7:<br><br>\n",
    "\n",
    "By Lemma 15.4, <em>K</em> is a Galois extension of <em>L</em>.  We begin by showing that if <em>&#981;</em> is an <em>L</em>-automorphism of <em>K</em>, and <em>u</em> is \n",
    "in <em>E</em>, then <em>&#981;</em>(<em>u</em>) is in <em>E</em>.   Let <em>g</em>(<em>x</em>) = Irr<sub><em>L</em></sub>(<em>u</em>, <em>x</em>).  Since <em>E</em> is \n",
    "a Galois extension of <em>L</em>, by Proposition 15.8, <em>g</em>(<em>x</em>) factors completely in <em>E</em>[<em>x</em>], which is of course the same factorization \n",
    "in <em>K</em>[<em>x</em>].   By Lemma 15.1, <em>&#981;</em>(<em>u</em>) is a root of <em>g</em>(<em>x</em>) in <em>K</em>, but all of the roots are also \n",
    "in <em>E</em>.  Thus, <em>&#981;</em>(<em>u</em>) is in <em>E</em>.<br><br>\n",
    "\n",
    "Next, we define the mapping <em>&fnof;</em> that sends an <em>L</em>-automorphism of <em>K</em> to its restriction on the field <em>E</em>.  We denote the restriction \n",
    "of <em>&#981;</em> on the field <em>E</em> by <em>&#981;</em>&prime;.  Since <em>&#981;</em> maps elements of <em>E</em> to elements of <em>E</em>, we see \n",
    "that <em>&#981;</em>&prime; is an <em>L</em>-automorphism of <em>E</em>.  However, (<em>&#981;</em><sup>-1</sup>)&prime; is also an <em>L</em>-automorphism of <em>E</em>, \n",
    "and (<em>&#981;</em><sup>-1</sup>)&prime;&middot;<em>&#981;</em>&prime; is clearly the identity mapping on <em>E</em>.  Thus, <em>&#981;</em>&prime; is an element \n",
    "of Gal<sub><em>L</em></sub>(<em>E</em>).<br><br>\n",
    "\n",
    "To show that <em>&fnof;</em> is a homomorphism, note that\n",
    "<p style='text-align: center;'><em>&fnof;</em>(<em>&#981;</em><sub>1</sub>&middot;<em>&#981;</em><sub>2</sub>) = \n",
    "(<em>&#981;</em><sub>1</sub>&middot;<em>&#981;</em><sub>2</sub>)&prime; = <em>&#981;</em><sub>1</sub>&prime;&middot;<em>&#981;</em><sub>2</sub>&prime; = \n",
    "<em>&fnof;</em>(<em>&#981;</em><sub>1</sub>)&middot;<em>&fnof;</em>(<em>&#981;</em><sub>2</sub>).</p>\n",
    "The kernel of this homomorphism is simply the <em>L</em>-automorphisms of <em>K</em> that fix the elements of <em>E</em>, which is of \n",
    "course Gal<sub><em>L</em></sub>(<em>E</em>).<br><br>\n",
    "\n",
    "Finally, to show that this homomorphism is surjective, let <em>&psi;</em> be an <em>L</em>-automorphism of <em>E</em>.  Since <em>K</em> is a splitting field of <em>E</em>, we can use Proposition 14.8 to extend <em>&psi;</em> to \n",
    "an <em>L</em>-automorphism of <em>K</em>, which we will call <em>&#981;</em>.  Then <em>&fnof;</em>(<em>&#981;</em>) = <em>&psi;</em>, and we have shown \n",
    "that <em>&fnof;</em> is surjective.<br><br> \n",
    "\n",
    "<a href=\"#lem157ret\">Return to text</a>"
   ]
  },
  {
   "cell_type": "markdown",
   "id": "ed6f22",
   "metadata": {
    "collapsed": false
   },
   "source": [
    "<br><br><br><br><br><br><br><br><br><br><br><br><br><br><br><br><br><br><br><br><br><br><br><br><br><br><br><br><br><br><br><br><br><br><br><br><br><br><br><br><br><br>"
   ]
  },
  {
   "cell_type": "markdown",
   "id": "c3efa0",
   "metadata": {
    "collapsed": false
   },
   "source": [
    "<a name=\"theor151\" id=\"theor151\"></a>\n",
    "Proof of Theorem 15.1:<br><br>\n",
    "\n",
    "If Gal<sub><em>E</em></sub>(<em>K</em>) = Gal<sub><em>L</em></sub>(<em>K</em>) for two subfields <em>E</em> and <em>L</em> of <em>K</em>, then by Lemma 15.4, both <em>E</em> \n",
    "and <em>L</em> are the fixed field of the subgroup Gal<sub><em>E</em></sub>(<em>K</em>) = Gal<sub><em>L</em></sub>(<em>K</em>), so <em>E</em> = <em>L</em>.  Thus, the \n",
    "mapping <em>E</em> &rarr; Gal<sub><em>E</em></sub>(<em>K</em>)  is one-to-one.  But if <em>H</em> is any subgroup of Gal<sub><em>F</em></sub>(<em>K</em>), then we can \n",
    "consider <em>E</em> to be the fixed field fix(<em>H</em>), and by Lemma 15.5 Gal<sub><em>E</em></sub>(<em>K</em>) = <em>H</em>.  Thus, the correspondence is also onto. Also \n",
    "by Proposition 15.4, the dimension of <em>K</em> over <em>E</em> is |Gal<sub><em>E</em></sub>(<em>K</em>)|, since <em>K</em> is a Galois extension of <em>E</em>.<br><br>\n",
    "\n",
    "If <em>E</em> is also a Galois extension of another subfield <em>L</em>, then by Lemma 15.7 there is a surjective homomorphism from Gal<sub><em>L</em></sub>(<em>K</em>) to \n",
    "Gal<sub><em>L</em></sub>(<em>E</em>), whose kernel \n",
    "is Gal<sub><em>E</em></sub>(<em>K</em>).  Thus, Gal<sub><em>E</em></sub>(<em>K</em>) is a normal subgroup \n",
    "of Gal<sub><em>L</em></sub>(<em>K</em>), and by the first isomorphism theorem (5.1), Gal<sub><em>L</em></sub>(<em>E</em>) is isomorphic \n",
    "to Gal<sub><em>L</em></sub>(<em>K</em>) / Gal<sub><em>E</em></sub>(<em>K</em>).<br><br>\n",
    "\n",
    "Finally, suppose that Gal<sub><em>E</em></sub>(<em>K</em>) is a normal subgroup of Gal<sub><em>L</em></sub>(<em>K</em>).  By Lemma 15.6 <em>E</em> is a Galois extension \n",
    "of <em>L</em>.<br><br>\n",
    "\n",
    "<a href=\"#theor151ret\">Return to text</a>"
   ]
  },
  {
   "cell_type": "markdown",
   "id": "dbcd76",
   "metadata": {
    "collapsed": false
   },
   "source": [
    "<br><br><br><br><br><br><br><br><br><br><br><br><br><br><br><br><br><br><br><br><br><br><br><br><br><br><br><br><br><br><br><br><br><br><br><br><br><br><br><br><br><br>"
   ]
  },
  {
   "cell_type": "markdown",
   "id": "97af43",
   "metadata": {
    "collapsed": false
   },
   "source": [
    "<a name=\"prop159\" id=\"prop159\"></a>\n",
    "Proof of Proposition 15.9:<br><br>\n",
    "\n",
    "Let <em>K</em> be the splitting field of <em>f</em>(<em>x</em>) in <em>E</em>[<em>x</em>].  If <em>u</em> is an element of <em>K</em> not in <em>E</em>, \n",
    "then <em>g</em>(<em>x</em>) = Irr<sub><em>E</em></sub>(<em>u</em>, <em>x</em>) has degree &gt; 1.  By Lemma 14.5, <em>g</em>(<em>x</em>) factors completely in the \n",
    "field <em>K</em>.  Thus, the splitting field of <em>g</em>(<em>x</em>) is contained in the field <em>K</em>.  However, <em>g</em>(<em>x</em>) is a factor \n",
    "of Irr<sub>&#8474;</sub>(<em>u</em>, <em>x</em>), which by Lemma 15.3 does not have multiple roots in <em>K</em>.  Therefore, <em>g</em>(<em>x</em>) cannot have \n",
    "multiple roots in <em>K</em>,  so there exists at least two roots of <em>g</em>(<em>x</em>) in <em>K</em>.  Let <em>v</em> be a root of <em>g</em>(<em>x</em>) different \n",
    "from <em>u</em>.  Then <em>g</em>(<em>x</em>) = Irr<sub><em>E</em></sub>(<em>v</em>, <em>x</em>), and so by Proposition 15.2 there exists a <em>&#981;</em> in \n",
    "Gal<sub><em>E</em></sub>(<em>K</em>) such that <em>&#981;</em>(<em>u</em>) = <em>v</em>.  Thus, <em>u</em> is not in the fixed field \n",
    "of Gal<sub><em>E</em></sub>(<em>K</em>).  Since <em>E</em> is obviously contained in the fixed field \n",
    "of Gal<sub><em>E</em></sub>(<em>K</em>), we find that the fixed field \n",
    "is <em>E</em>, so <em>K</em> is a Galois extension of <em>E</em>.<br><br>\n",
    "\n",
    "<a href=\"#prop159ret\">Return to text</a>"
   ]
  },
  {
   "cell_type": "markdown",
   "id": "a588d4",
   "metadata": {
    "collapsed": false
   },
   "source": [
    "<br><br><br><br><br><br><br><br><br><br><br><br><br><br><br><br><br><br><br><br><br><br><br><br><br><br><br><br><br><br><br><br><br><br><br><br><br><br><br><br><br><br>"
   ]
  },
  {
   "cell_type": "markdown",
   "id": "0b3819",
   "metadata": {
    "collapsed": false
   },
   "source": [
    "<a name=\"lem158\" id=\"lem158\"></a>\n",
    "Proof of Lemma 15.8:<br><br>\n",
    "\n",
    "Let <em>E</em> = &#8474;(<em>u</em><sub>1</sub>, <em>u</em><sub>2</sub>, <em>u</em><sub>3</sub>, &hellip; <em>u<sub>n</sub></em>) be a radical extension of &#8474;.  Then \n",
    "for every <em>i</em> = 1, 2, 3, &hellip; <em>n</em>, there is a <em>k<sub>i</sub></em> for which\n",
    "<p style='text-align: center;'>(<em>u<sub>i</sub></em>)<sup><em>k</em></sup><em>&#8305;</em> = <em>v</em>, for \n",
    "which <em>v</em> &isin; &#8474;(<em>u</em><sub>1</sub>, <em>u</em><sub>2</sub>, &hellip; <em>u</em><sub><em>i</em>&minus;1</sub>).</p>\n",
    "Note that if <em>n</em> = 0, then <em>E</em><em> </em><em>=</em><em> </em>&#8474;, and the lemma is obviously true.  We will prove this by induction on <em>n</em>.  That \n",
    "is, we will assume that the lemma is true for the field \n",
    "<p style='text-align: center;'>&#8474;(<em>u</em><sub>1</sub>, <em>u</em><sub>2</sub>, <em>u</em><sub>3</sub>, &hellip; <em>u</em><sub><em>n</em>&minus;1</sub>).</p>\n",
    "That is, this field is contained in a radical extension <em>L</em> of &#8474; that is also a Galois extension of &#8474;.<br><br>\n",
    "\n",
    "By Corollary 15.2, there exists an element <em>w</em> of <em>L</em> such that <em>L</em> = &#8474;(<em>w</em>).<br><br>\n",
    "\n",
    "Let <em>g</em>(<em>x</em>) = Irr<sub>&#8474;</sub>(<em>w</em>, <em>x</em>) and <em>p</em>(<em>x</em>) = Irr<sub>&#8474;</sub>(<em>u<sub>n</sub></em>, <em>x</em>).  Let \n",
    "<em>K</em> be the splitting field of <em>g</em>(<em>x</em>)&middot;<em>p</em>(<em>x</em>) over &#8474;.  By Proposition 15.9 <em>K</em> is a Galois extension \n",
    "of &#8474;.  Since <em>w</em> is in <em>K</em>, <em>L</em> is a subfield of <em>K</em>.   The only thing left to show is that <em>K</em> is a radical extension \n",
    "of <em>L</em>.<br><br>\n",
    "\n",
    "Let <em>v</em><sub>1</sub>, <em>v</em><sub>2</sub>, <em>v</em><sub>3</sub>, &hellip; <em>v<sub>m</sub></em> be all of the roots \n",
    "of <em>p</em>(<em>x</em>) in <em>K</em>.  Since <em>p</em>(<em>x</em>) is irreducible, by Proposition 15.2 there is a &#8474;-automorphism <em>&#981;<sub>i</sub></em> that \n",
    "sends <em>v<sub>i</sub></em> to <em>u<sub>n</sub></em>.  Since (<em>u<sub>n</sub></em>)<sup><em>k</em></sup> = <em>b</em> is in <em>L</em>, we have\n",
    "<p style='text-align: center;'>(<em>v<sub>i</sub></em>)<sup><em>k</em></sup> = (<em>&#981;<sub>i</sub></em>(<em>u<sub>n</sub></em>))<sup><em>k</em></sup> = \n",
    "<em>&#981;<sub>i</sub></em>(<em>u<sub>n</sub><sup>k</sup></em>) = <em>&#981;<sub>i</sub></em>(<em>b</em>).</p>\n",
    "Now, <em>L</em> is a Galois extension of &#8474;, so by the fundamental theorem of Galois \n",
    "theory (15.1), Gal<sub><em>L</em></sub>(<em>K</em>) is a normal subgroup \n",
    "of Gal<sub>&#8474;</sub>(<em>K</em>).  So by Lemma 15.6 &#8474;-automorphisms of <em>K</em> map elements of <em>L</em> to elements \n",
    "of <em>L</em>.  Thus, <em>&#981;<sub>i</sub></em>(<em>b</em>) is in <em>L</em>, and \n",
    "so <em>K</em> = <em>L</em>(<em>v</em><sub>1</sub>, <em>v</em><sub>2</sub>, <em>v</em><sub>3</sub>, &hellip; <em>v<sub>m</sub></em>) is a radical extension \n",
    "of <em>L</em>.<br><br>\n",
    "\n",
    "<a href=\"#lem158ret\">Return to text</a>"
   ]
  },
  {
   "cell_type": "markdown",
   "id": "579003",
   "metadata": {
    "collapsed": false
   },
   "source": [
    "<br><br><br><br><br><br><br><br><br><br><br><br><br><br><br><br><br><br><br><br><br><br><br><br><br><br><br><br><br><br><br><br><br><br><br><br><br><br><br><br><br><br>"
   ]
  },
  {
   "cell_type": "markdown",
   "id": "75d359",
   "metadata": {
    "collapsed": false
   },
   "source": [
    "<a name=\"lem159\" id=\"lem159\"></a>\n",
    "Proof of Lemma 15.9:<br><br>\n",
    "\n",
    "Since <em>K</em> is a radical extension of &#8474;, we can write\n",
    "<p style='text-align: center;'><em>K</em> = &#8474;(<em>u</em><sub>1</sub>, <em>u</em><sub>2</sub>, <em>u</em><sub>3</sub>, &hellip; <em>u<sub>n</sub></em>)</p>\n",
    "where some power of each <em>u<sub>i</sub></em>, (<em>u<sub>i</sub></em>)<sup><em>k</em></sup>&#8305;, is \n",
    "in &#8474;(<em>u</em><sub>1</sub>, <em>u</em><sub>2</sub>, <em>u</em><sub>3</sub>, &hellip; <em>u</em><sub><em>i</em>&minus;1</sub>).<br><br>\n",
    "\n",
    "Let <em>m</em> be the least common multiple of all of the <em>k<sub>i</sub></em>, and let <em>u</em><sub>0</sub> = <em>&omega;<sub>m</sub></em>, the <em>m</em><sup>th</sup> root of unity.  We would like \n",
    "to add <em>u</em><sub>0</sub> in the front of the sequence of <em>u</em>'s to get a larger field\n",
    "<p style='text-align: center;'><em>M</em> = &#8474;(<em>u</em><sub>0</sub>, <em>u</em><sub>1</sub>, <em>u</em><sub>2</sub>, <em>u</em><sub>3</sub>, &hellip; \n",
    "<em>u<sub>n</sub></em>)</p>\n",
    "Since (<em>u</em><sub>0</sub>)<sup><em>m</em></sup> = 1, we see that <em>M</em> is still a radical extension of &#8474;.  To show \n",
    "that <em>M</em> = <em>K</em>(<em>u</em><sub>0</sub>) is a Galois extension of &#8474;, note that by Corollary 15.2, <em>K</em> = &#8474;(<em>w</em>) for some \n",
    "element <em>w</em> in <em>K</em>.  If <em>f</em>(<em>x</em>) = Irr<sub>&#8474;</sub>(<em>w</em>, <em>x</em>), then <em>M</em> is the splitting field of the \n",
    "polynomial <em>f</em>(<em>x</em>)&middot;(<em>x<sup>m</sup></em> &minus; 1).  Thus, by Proposition 15.9, <em>M</em> is a Galois extension of &#8474;.<br><br>\n",
    "\n",
    "Consider the sequence of subfields\n",
    "<table align=\"center\" border=\"0\" cellspacing=\"0\" cellpadding=\"0\">\n",
    "  <tr>\n",
    "    <td align=\"right\"><em>E</em><sub>0</sub> = </td>\n",
    "    <td align=\"left\">&ensp;&#8474;(<em>u</em><sub>0</sub>),</td>\n",
    "  </tr>\n",
    "  <tr>\n",
    "    <td align=\"right\"><em>E</em><sub>1</sub> = </td>\n",
    "    <td align=\"left\">&ensp;&#8474;(<em>u</em><sub>0</sub>, <em>u</em><sub>1</sub>),</td>\n",
    "  </tr>\n",
    "  <tr>\n",
    "    <td align=\"right\"><em>E</em><sub>2</sub> = </td>\n",
    "    <td align=\"left\">&ensp;&#8474;(<em>u</em><sub>0</sub>, <em>u</em><sub>1</sub>, <em>u</em><sub>2</sub>,)</td>\n",
    "  </tr>\n",
    "  <tr>\n",
    "    <td align=\"right\"><em>E</em><sub>3</sub> = </td>\n",
    "    <td align=\"left\">&ensp;&#8474;(<em>u</em><sub>0</sub>, <em>u</em><sub>1</sub>, <em>u</em><sub>2</sub>, <em>u</em><sub>3</sub>),</td>\n",
    "  </tr>\n",
    "  <tr>\n",
    "    <td align=\"right\">&hellip;</td>\n",
    "    <td align=\"left\">&hellip;&hellip;&hellip;</td>\n",
    "  </tr>\n",
    "  <tr>\n",
    "    <td align=\"right\"><em>E<sub>n</sub></em> =</td>\n",
    "    <td align=\"left\">&ensp;&#8474;(<em>u</em><sub>0</sub>, <em>u</em><sub>1</sub>, <em>u</em><sub>2</sub>, <em>u</em><sub>3</sub>, &hellip; \n",
    "    <em>u<sub>n</sub></em>) = <em>M</em>.</td>\n",
    "  </tr>\n",
    "</table>\n",
    "<br>\n",
    "By Proposition 15.7, each of these fields is a Galois extension of the previous field, since the <em>m</em><sup>th</sup> roots of unity were designed to be in all of these \n",
    "fields.  Also, by Proposition 15.6, <em>E</em><sub>0</sub> is a Galois extension of &#8474;.<br><br>\n",
    "\n",
    "We can now apply the fundamental theorem of Galois theory (15.1).  We find that Gal<sub><em>E&#8342;</em></sub>(<em>M</em>) is a normal subgroup \n",
    "of Gal<sub><em>E&#8342;</em>&#8331;&#8321;</sub>(<em>M</em>), and the quotient group\n",
    "<p style='text-align: center;'>Gal<sub><em>E&#8342;</em>&#8331;&#8321;</sub>(<em>M</em>) / \n",
    "Gal<sub><em>E&#8342;</em></sub>(<em>M</em>)</p>\n",
    "is isomorphic to Gal<sub><em>E&#8342;</em>&#8331;&#8321;</sub>(<em>E<sub>k</sub></em>).<br><br>\n",
    "\n",
    "By Proposition 15.7, each of these quotient groups are abelian. Also, by \n",
    "Proposition 15.6, Gal<sub>&#8474;</sub>(<em>E</em><sub>0</sub>) is isomorphic to <em>Z<sub>m</sub></em><sup>&ast;</sup>, which is abelian. Thus, the sequence of subgroups\n",
    "<p style='text-align: center;'>Gal<sub>&#8474;</sub>(<em>M</em>) &supe; Gal<sub><em>E</em>&#8320;</sub>(<em>M</em>) &supe; Gal<sub><em>E</em>&#8321;</sub>(<em>M</em>) \n",
    "&supe; Gal<sub><em>E</em>&#8322;</sub>(<em>M</em>) &supe; Gal<sub><em>E</em>&#8323;</sub>(<em>M</em>) &supe; &#8943; &supe; Gal<sub><em>E&#8345;</em></sub>(<em>M</em>) = \n",
    "{<em>e</em>}</p>\n",
    "is a subnormal series for which all of the quotient groups are abelian.  Therefore, the composition series \n",
    "of Gal<sub>&#8474;</sub>(<em>M</em>) will consists of only \n",
    "prime, cyclic factors.  This means that Gal<sub>&#8474;</sub>(<em>M</em>) is a solvable group.<br><br>\n",
    "\n",
    "To finish the theorem, we note that <em>E</em> is a Galois field of &#8474;, so by the fundamental theorem of Galois theory (15.1), Gal<sub><em>E</em></sub>(<em>M</em>) is \n",
    "a normal subgroup of Gal<sub>&#8474;</sub>(<em>M</em>), and Gal<sub>&#8474;</sub>(<em>E</em>) is isomorphic \n",
    "to Gal<sub>&#8474;</sub>(<em>M</em>) / Gal<sub><em>E</em></sub>(<em>M</em>).  So if Gal<sub>&#8474;</sub>(<em>M</em>) is a solvable group, then Gal<sub>&#8474;</sub>(<em>E</em>) is too.<br><br>\n",
    "\n",
    "<a href=\"#lem159ret\">Return to text</a>"
   ]
  },
  {
   "cell_type": "markdown",
   "id": "49a6d7",
   "metadata": {
    "collapsed": false
   },
   "source": [
    "<br><br><br><br><br><br><br><br><br><br><br><br><br><br><br><br><br><br><br><br><br><br><br><br><br><br><br><br><br><br><br><br><br><br><br><br><br><br><br><br><br><br>"
   ]
  },
  {
   "cell_type": "markdown",
   "id": "4fde91",
   "metadata": {
    "collapsed": false
   },
   "source": [
    "<a name=\"theor152\" id=\"theor152\"></a>\n",
    "Proof of Theorem 15.2:<br><br>\n",
    "\n",
    "Suppose that <em>f</em>(<em>x</em>) is a polynomial that is solvable by radicals.  Let <em>E</em> be the splitting field of <em>f</em>(<em>x</em>).  By Lemma 15.8, there is \n",
    "a field <em>K</em> containing <em>E</em> which is a Galois extension of &#8474;, and also is a radical extension of &#8474;.  By Proposition 15.9, <em>E</em> is a \n",
    "Galois extension of &#8474;.  Thus, we can use Lemma 15.9 to show that the Galois group of <em>f</em>(<em>x</em>), Gal<sub>&#8474;</sub>(<em>E</em>), is a \n",
    "solvable group.<br><br>\n",
    "\n",
    "<a href=\"#theor152ret\">Return to text</a>"
   ]
  },
  {
   "cell_type": "markdown",
   "id": "51a2fc",
   "metadata": {
    "collapsed": false
   },
   "source": [
    "<br><br><br><br><br><br><br><br><br><br><br><br><br><br><br><br><br><br><br><br><br><br><br><br><br><br><br><br><br><br><br><br><br><br><br><br><br><br><br><br><br><br>"
   ]
  },
  {
   "cell_type": "markdown",
   "id": "db49b0",
   "metadata": {
    "collapsed": false
   },
   "source": [
    "<a name=\"cor153\" id=\"cor153\"></a>\n",
    "Proof of Corollary 15.3:<br><br>\n",
    "\n",
    "We have already shown that the Galois group of <em>x</em><sup>5</sup> &minus; <em>x</em> + 1 is isomorphic to <em>S</em><sub>5</sub>.  But <em>S</em><sub>5</sub> is \n",
    "not solvable, since it contains the non-cyclic simple subgroup <em>A</em><sub>5</sub>.  Thus, by Galois' criterion theorem (15.2) this particular equation cannot be \n",
    "solved with a formula involving only field operations and extraction of roots, so certainly there can be no general formula.<br><br>\n",
    "\n",
    "<a href=\"#cor153ret\">Return to text</a>"
   ]
  },
  {
   "cell_type": "markdown",
   "id": "6b69b2",
   "metadata": {
    "collapsed": false
   },
   "source": [
    "<br><br><br><br><br><br><br><br><br><br><br><br><br><br><br><br><br><br><br><br><br><br><br><br><br><br><br><br><br><br><br><br><br><br><br><br><br><br><br><br><br><br>"
   ]
  },
  {
   "cell_type": "markdown",
   "id": "0c2d7d",
   "metadata": {
    "collapsed": false
   },
   "source": [
    "<a name=\"theor153\" id=\"theor153\"></a>\n",
    "Proof of Theorem 15.3:<br><br>\n",
    "\n",
    "Since it is possible to construct a line perpendicular to a given line and going through a particular point, we can use Cartesian coordinates to describe the \n",
    "constructible numbers.  By first constructing two perpendicular lines, the <em>x</em>- and <em>y</em>-axes, given two constructible numbers <em>a</em> and <em>b</em>, we \n",
    "can construct the point (<em>a</em>, <em>b</em>) using two perpendicular lines.  Likewise, if some point is constructible, we can drop perpendiculars to construct the \n",
    "numbers of the coordinates.  Thus, we see that the point (<em>a</em>, <em>b</em>) is constructible if, and only if, <em>a</em> and <em>b</em> are constructible numbers.<br><br>\n",
    "\n",
    "We can likewise characterize the lines and circles that are constructible.  A line is clearly constructible if and only if the <em>x</em> and <em>y</em> intercepts \n",
    "are constructible numbers.  Thus, the line <em>a x</em> + <em>b y</em> + <em>c</em> = 0 is constructible if, and only if, <em>a</em>, <em>b</em>, and <em>c</em> can be made \n",
    "to be constructible numbers.  Likewise, the circle <em>x</em><sup>2</sup> + <em>y</em><sup>2</sup> + <em>a x</em> + <em>b y</em> + <em>c</em> = 0 is constructible if and \n",
    "only if <em>a</em>, <em>b</em>, and <em>c</em> are constructible numbers.<br><br>\n",
    "\n",
    "Now, the intersection of two lines can be found using only field operations.  But the intersection of a line and a circle, or two circles, will involve a quadratic \n",
    "equation.  The solution of a quadratic equation involves taking a square root of an element in <em>F</em>.  This means that a number <em>x</em> is a constructible number \n",
    "if, and only if, there is a sequence of fields &#8474; = <em>F</em><sub>1</sub>, <em>F</em><sub>2</sub>, <em>F</em><sub>3</sub>, &hellip; <em>F<sub>n</sub></em> \n",
    "with <em>x</em> &isin; <em>F<sub>n</sub></em> such that each <em>F</em><sub><em>k</em>+1</sub> = \n",
    "<em>F<sub>k</sub></em>(&radic;<font style=\"text-decoration:overline\"><em>a&#8342;</em></font>), where <em>a<sub>k</sub></em> &gt; 0 is in <em>F<sub>k</sub></em>.<br><br>   \n",
    "\n",
    "Thus, we see that whenever <em>x</em> is a constructible number, it is contained in a radical extension of &#8474;.  Furthermore, since only square roots are involved in the field extensions, the dimension of the radical extension will be 2<sup><em>n</em></sup> for some <em>n</em>.<br><br>\n",
    "\n",
    "<a href=\"#theor153ret\">Return to text</a>"
   ]
  },
  {
   "cell_type": "markdown",
   "id": "3fa578",
   "metadata": {
    "collapsed": false
   },
   "source": [
    "<br><br><br><br><br><br><br><br><br><br><br><br><br><br><br><br><br><br><br><br><br><br><br><br><br><br><br><br><br><br><br><br><br><br><br><br><br><br><br><br><br><br>"
   ]
  },
  {
   "cell_type": "markdown",
   "id": "641258",
   "metadata": {
    "collapsed": false
   },
   "source": [
    "<a name=\"cor154\" id=\"cor154\"></a>\n",
    "Proof of Corollary 15.4:<br><br>\n",
    "\n",
    "Suppose it were possible to trisect any angle. Then in particular it would be possible to trisect a 60&deg; angle, hence we would be able to construct a 20&deg; angle, \n",
    "so <em>x</em> = cos(20&deg;) would be a constructible number.  But we saw in &sect;11.4 that <em>x</em> is a root of the irreducible \n",
    "polynomial 8 <em>x</em><sup>3</sup> &minus; 6 <em>x</em> &minus; 1.  Hence, <em>x</em> cannot be in an field extension of &#8474; of dimension 2<sup><em>n</em></sup>.  So we cannot trisect a 60&deg; angle with a straightedge and compass, let alone the general angle.<br><br>\n",
    "\n",
    "Likewise, we can show that duplicating the cube is impossible.  This would involve constructing a line of length &#8731;<font style=\"text-decoration:overline\">2</font>, which \n",
    "is a root of <em>x</em><sup>3</sup> &minus; 2.  Again, since &#8474;(&#8731;<font style=\"text-decoration:overline\">2</font>) is a 3 dimensional extension of &#8474;, this cannot be contained in a field of dimension 2<sup><em>n</em></sup>, so &#8731;<font style=\"text-decoration:overline\">2</font> is not a constructible number.<br><br>\n",
    "\n",
    "<a href=\"#cor154ret\">Return to text</a>"
   ]
  },
  {
   "cell_type": "markdown",
   "id": "0f6c26",
   "metadata": {
    "collapsed": false
   },
   "source": [
    "<br><br><br><br><br><br><br><br><br><br><br><br><br><br><br><br><br><br><br><br><br><br><br><br><br><br><br><br><br><br><br><br><br><br><br><br><br><br><br><br><br><br>"
   ]
  },
  {
   "cell_type": "markdown",
   "id": "666dcd",
   "metadata": {
    "collapsed": false
   },
   "source": [
    "<a name=\"sec15p\" id=\"sec15p\"></a>\n",
    "<h1><em>SageMath</em> Interactive Problems</h1>\n",
    "\n",
    "<br>\n",
    "For Problems 17 through 22:  Find the set of &#8474;-automorphisms for the splitting fields of the following polynomials.<br><br>\n",
    "\n",
    "&sect;15.1 #17)&emsp;<em>x</em><sup>3</sup> &minus; 3 <em>x</em> &minus; 1<br>"
   ]
  },
  {
   "cell_type": "markdown",
   "id": "2c8158",
   "metadata": {
    "collapsed": false
   },
   "source": [
    "<br>\n",
    "&sect;15.1 #18)&emsp;<em>x</em><sup>3</sup> &minus; 3 <em>x</em> + 3<br>"
   ]
  },
  {
   "cell_type": "markdown",
   "id": "f56558",
   "metadata": {
    "collapsed": false
   },
   "source": [
    "<br>\n",
    "&sect;15.1 #19)&emsp;<em>x</em><sup>4</sup> &minus; 5 <em>x</em><sup>2</sup> + 5<br>"
   ]
  },
  {
   "cell_type": "markdown",
   "id": "85951d",
   "metadata": {
    "collapsed": false
   },
   "source": [
    "<br>\n",
    "&sect;15.1 #20)&emsp;<em>x</em><sup>4</sup> &minus; <em>x</em><sup>2</sup> + 1<br>"
   ]
  },
  {
   "cell_type": "markdown",
   "id": "75f192",
   "metadata": {
    "collapsed": false
   },
   "source": [
    "<br>\n",
    "&sect;15.1 #21)&emsp;<em>x</em><sup>4</sup> + <em>x</em><sup>2</sup> - 1<br>"
   ]
  },
  {
   "cell_type": "markdown",
   "id": "b59561",
   "metadata": {
    "collapsed": false
   },
   "source": [
    "<br>\n",
    "&sect;15.1 #22)&emsp;<em>x</em><sup>5</sup> &minus; <em>x</em><sup>4</sup> &minus; 4 <em>x</em><sup>3</sup> + 3 <em>x</em><sup>2</sup> + 3 <em>x</em> &minus; 1<br>"
   ]
  },
  {
   "cell_type": "markdown",
   "id": "2f6b5c",
   "metadata": {
    "collapsed": false
   },
   "source": [
    "<br>\n",
    "For Problems 16 through 21:  Use <em>SageMath</em> to find the Galois group of the polynomial.  Determine the number of elements in the Galois group, and display \n",
    "a multiplication table of the subgroup of <em>S<sub>n</sub></em> isomorphic to the Galois group.<br><br>\n",
    "\n",
    "&sect;15.2 #16)&emsp;<em>x</em><sup>4</sup> &minus; 2<br>"
   ]
  },
  {
   "cell_type": "markdown",
   "id": "173f15",
   "metadata": {
    "collapsed": false
   },
   "source": [
    "<br>\n",
    "&sect;15.2 #17)&emsp;<em>x</em><sup>5</sup> &minus; 2<br>"
   ]
  },
  {
   "cell_type": "markdown",
   "id": "83c55a",
   "metadata": {
    "collapsed": false
   },
   "source": [
    "<br>\n",
    "&sect;15.2 #18)&emsp;<em>x</em><sup>5</sup> + 15 x + 12<br>"
   ]
  },
  {
   "cell_type": "markdown",
   "id": "351521",
   "metadata": {
    "collapsed": false
   },
   "source": [
    "<br>\n",
    "&sect;15.2 #19)&emsp;<em>x</em><sup>5</sup> + <em>x</em><sup>4</sup> &minus; 4 <em>x</em><sup>3</sup> &minus; 3 <em>x</em><sup>2</sup> + 3 <em>x</em> + 1<br>"
   ]
  },
  {
   "cell_type": "markdown",
   "id": "bd38ef",
   "metadata": {
    "collapsed": false
   },
   "source": [
    "<br>\n",
    "&sect;15.2 #20)&emsp;<em>x</em><sup>4</sup> &minus; 10 <em>x</em> + 1<br>"
   ]
  },
  {
   "cell_type": "markdown",
   "id": "39fae1",
   "metadata": {
    "collapsed": false
   },
   "source": [
    "<br>\n",
    "&sect;15.2 #21)&emsp;<em>x</em><sup>8</sup> &minus; 108 <em>x</em><sup>6</sup> + 1548 <em>x</em><sup>4</sup> &minus; 3888 <em>x</em><sup>2</sup> + 1296<br>"
   ]
  },
  {
   "cell_type": "markdown",
   "id": "3bd35e",
   "metadata": {
    "collapsed": false
   },
   "source": [
    "<br>\n",
    "&sect;15.2 #22)<br>\n",
    "Use <em>SageMath</em> to find the Galois group of <em>x</em><sup>5</sup> + 20 <em>x</em> + 16.  How many elements are in the Galois group?  (This may take longer than the above problems.)<br>"
   ]
  },
  {
   "cell_type": "markdown",
   "id": "38bfcd",
   "metadata": {
    "collapsed": false
   },
   "source": [
    "<br>\n",
    "&sect;15.3 #16)<br>\n",
    "Let <em>f</em>(<em>x</em>) = &Phi;<sub>8</sub>(<em>x</em>) = <em>x</em><sup>4</sup> + 1, and let <em>F</em> be the splitting field of <em>f</em>(<em>x</em>) over &#8474;.  \n",
    "Use <em>SageMath</em> to find the fixed fields for the 3 elements of Gal<sub>&#8474;</sub>(<em>F</em>) of order 2.  Express these fields in the form &#8474;(&radic;<font style=\"text-decoration:overline\"><em>a</em></font>), where <em>a</em> is rational.<br>"
   ]
  },
  {
   "cell_type": "markdown",
   "id": "f4712c",
   "metadata": {
    "collapsed": false
   },
   "source": [
    "<br>\n",
    "&sect;15.3 #17)<br>\n",
    "Let <em>f</em>(<em>x</em>) = &Phi;<sub>12</sub>(<em>x</em>) = <em>x</em><sup>4</sup> &minus; <em>x</em><sup>2</sup> + 1, and let <em>F</em> \n",
    "be the splitting field of <em>f</em>(<em>x</em>) over &#8474;.  \n",
    "Use <em>SageMath</em> to find the fixed fields for the 3 elements of Gal<sub>&#8474;</sub>(<em>F</em>) of order 2.  Express these fields in the form &#8474;(&radic;<font style=\"text-decoration:overline\"><em>a</em></font>), where <em>a</em> is rational.<br>"
   ]
  },
  {
   "cell_type": "markdown",
   "id": "443730",
   "metadata": {
    "collapsed": false
   },
   "source": [
    "<br>\n",
    "&sect;15.3 #18)<br>\n",
    "Let <em>f</em>(<em>x</em>) = &Phi;<sub>16</sub>(<em>x</em>) = <em>x</em><sup>8</sup> + 1, and let <em>F</em> be the splitting field of <em>f</em>(<em>x</em>) over &#8474;.  \n",
    "Use <em>SageMath</em> to find the fixed fields for the 4 elements of Gal<sub>&#8474;</sub>(<em>F</em>) of order 4.  Express these fields in the form &#8474;(&radic;<font style=\"text-decoration:overline\"><em>a</em></font>), where <em>a</em> is rational.<br>"
   ]
  },
  {
   "cell_type": "markdown",
   "id": "287db0",
   "metadata": {
    "collapsed": false
   },
   "source": [
    "<br>\n",
    "&sect;15.3 #19)<br>\n",
    "Let <em>f</em>(<em>x</em>) = &Phi;<sub>15</sub>(<em>x</em>) = <em>x</em><sup>8</sup> &minus; <em>x</em><sup>7</sup> + <em>x</em><sup>5</sup> &minus; \n",
    "<em>x</em><sup>4</sup> + <em>x</em><sup>3</sup> &minus; <em>x</em> + 1, and let <em>F</em> be the splitting field of <em>f</em>(<em>x</em>) over &#8474;.  \n",
    "Use <em>SageMath</em> to find the fixed fields for the 4 elements of Gal<sub>&#8474;</sub>(<em>F</em>) of order 4.  Express these fields in the form &#8474;(&radic;<font style=\"text-decoration:overline\"><em>a</em></font>), where <em>a</em> is rational.<br>"
   ]
  },
  {
   "cell_type": "markdown",
   "id": "4bbdf6",
   "metadata": {
    "collapsed": false
   },
   "source": [
    "<br>\n",
    "&sect;15.3 #20)<br>\n",
    "Let <em>f</em>(<em>x</em>) = &Phi;<sub>20</sub>(<em>x</em>) = <em>x</em><sup>8</sup> &minus; <em>x</em><sup>6</sup> + <em>x</em><sup>4</sup> &minus; <em>x</em><sup>2</sup> + 1, \n",
    "and let <em>F</em> be the splitting field of <em>f</em>(<em>x</em>) over &#8474;.  \n",
    "Use <em>SageMath</em> to find the fixed fields for the 4 elements of Gal<sub>&#8474;</sub>(<em>F</em>) of order 4.  Express these fields in the form &#8474;(&radic;<font style=\"text-decoration:overline\"><em>a</em></font>), where <em>a</em> is rational.<br>"
   ]
  },
  {
   "cell_type": "markdown",
   "id": "d9839e",
   "metadata": {
    "collapsed": false
   },
   "source": [
    "<br>\n",
    "&sect;15.4 #19)<br>\n",
    "Express &#8474;(<em>&omega;</em><sub>5</sub>) as a radical extension using only square roots.  This, along with Problem 14, can be used to show how to construct a regular pentagon.<br><br>\n",
    "\n",
    "Hint: Find a subnormal sequence for the Galois group, and then find generators for the fixed fields for each subgroup.<br>"
   ]
  },
  {
   "cell_type": "markdown",
   "id": "645e3f",
   "metadata": {
    "collapsed": false
   },
   "source": [
    "<br>\n",
    "&sect;15.4 #20)<br>\n",
    "Express &#8474;(<em>&omega;</em><sub>17</sub>) as a radical extension using only square roots.  This, along with Problem 14, can be used to show how to construct a regular pentagon.  See the hint for Problem 19.<br>"
   ]
  },
  {
   "cell_type": "markdown",
   "id": "0dd39b",
   "metadata": {
    "collapsed": false
   },
   "source": [
    "</font>\n",
    "\n",
    "</body>\n",
    "\n",
    "</html>"
   ]
  }
 ],
 "metadata": {
  "kernelspec": {
   "argv": [
    "sage-10.0",
    "--python",
    "-m",
    "sage.repl.ipython_kernel",
    "--matplotlib=inline",
    "-f",
    "{connection_file}"
   ],
   "display_name": "SageMath 10.0",
   "env": {
   },
   "language": "sagemath",
   "metadata": {
    "cocalc": {
     "description": "Open-source mathematical software system",
     "priority": 10,
     "url": "https://www.sagemath.org/"
    }
   },
   "name": "sage-10.0",
   "resource_dir": "/ext/jupyter/kernels/sage-10.0"
  },
  "language_info": {
   "codemirror_mode": {
    "name": "ipython",
    "version": 3
   },
   "file_extension": ".py",
   "mimetype": "text/x-python",
   "name": "python",
   "nbconvert_exporter": "python",
   "pygments_lexer": "ipython3",
   "version": "3.7.10"
  }
 },
 "nbformat": 4,
 "nbformat_minor": 4
}