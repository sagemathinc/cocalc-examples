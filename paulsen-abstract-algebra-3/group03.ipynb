{
 "cells": [
  {
   "cell_type": "markdown",
   "id": "2af84b",
   "metadata": {
    "collapsed": false
   },
   "source": [
    "<!-- Group03 -->\n",
    "\n",
    "<html>\n",
    "<body>\n",
    "\n",
    "<!-- To make the size of the font bigger for presentations, change the following command from +1 to +2 -->\n",
    "\n",
    "<font size=\"+1\">\n",
    "\n",
    "<p style='font-size: 36px;font-family: Arial;font-style: italic;font-weight: bold;color: #FF00FF;background-color: #80FFFF;text-align: center;'>\n",
    "Abstract Algebra: An Interactive Approach, 3e\n",
    "</p>\n",
    "\n",
    "<p style='font-family: Geneva;font-style: italic;color: #0000FF;background-color: #FFFFFF;'>\n",
    "This notebook is provided with the textbook, &quot;Abstract Algebra: An Interactive Approach, 3rd Ed.&quot; by William Paulsen. Users of this notebook are encouraged to buy the textbook.\n",
    "</p>\n",
    "\n",
    "<p style='font-size: 36px;font-family: New York;font-weight: bold;color: #000000;background-color: #FFFFFF;text-align: center;border: 1px;border-style: \n",
    "solid;border-color: #000000;'>\n",
    "Chapter 3: The Structure Within a Group\n",
    "</p>\n",
    "\n",
    "<p style='text-align: center;'>Initialization:  This cell MUST be evaluated first:</p>\n",
    "\n"
   ]
  },
  {
   "cell_type": "code",
   "execution_count": 1,
   "id": "a90e0a",
   "metadata": {
    "collapsed": false
   },
   "outputs": [
    {
     "name": "stdout",
     "output_type": "stream",
     "text": [
      "Initialization Done\n"
     ]
    }
   ],
   "source": [
    "load('absalgtext2.sage')"
   ]
  },
  {
   "cell_type": "markdown",
   "id": "7d6f38",
   "metadata": {
    "collapsed": false
   },
   "source": [
    "<br>\n",
    "<a href=\"#sec31\">Generators of Groups</a><br>\n",
    "<a href=\"#sec32\">Defining Finite Groups in <em>SageMath</em></a><br>\n",
    "<a href=\"#sec33\">Subgroups</a><br>\n",
    "<a href=\"#sec3p\"><em>SageMath</em> Interactive Problems</a><br>"
   ]
  },
  {
   "cell_type": "markdown",
   "id": "fb8f1d",
   "metadata": {
    "collapsed": false
   },
   "source": [
    "<a name=\"sec31\" id=\"sec31\"></a>\n",
    "<h1>Generators of Groups</h1>\n",
    "\n",
    "<br>\n",
    "In this section, we will explore the set of elements within the group.  We will find that some elements may possess an important property, allowing every element to be expressible in terms of that one element.  We can then define a group as <em>cyclic</em> if it possesses such an element.<br><br>\n",
    "\n",
    "Cyclic groups turn out to be very important in the study of groups.  In fact, we will discover that every finite abelian group can be expressed using the cyclic groups as building blocks.<br><br> \n",
    "\n",
    "Knowing about cyclic groups will also help us to define other groups in <em>SageMath</em>.  Many of these groups will be fairly large, and so rather than giving <em>SageMath</em> the entire group, we will define a group using a very small number of elements.  From these few elements, <em>SageMath</em> will be able to reconstruct the entire group.\n",
    "\n",
    "We begin by studying <em>finite</em> groups, that is groups which only have a finite number of elements.  We have seen several examples of finite \n",
    "groups, such as Terry's group, <em>Z<sub>n</sub></em>, and <em>Z<sub>n</sub><sup>&ast;</sup></em>.  Let us return to one of the groups that we studied in the \n",
    "last section, <em>Z</em><sub>10</sub>.<br><br>\n",
    "\n",
    "EXPERIMENT:<br>\n",
    "Study the powers of the elements 3 and 4 in the group <em>Z</em><sub>10</sub>.<br><br>\n",
    "\n",
    "The following command loads this group into <em>SageMath</em>. \n",
    "<br>"
   ]
  },
  {
   "cell_type": "code",
   "execution_count": 0,
   "id": "87280b",
   "metadata": {
    "collapsed": false
   },
   "outputs": [
   ],
   "source": [
    "G = ZGroup(10); G"
   ]
  },
  {
   "cell_type": "markdown",
   "id": "26a261",
   "metadata": {
    "collapsed": false
   },
   "source": [
    "<br>\n",
    "One of the experiments from the last section was to make circle graphs of the operation &quot;Add <em>n</em> to each number.&quot;  For example, the \n",
    "circle graph of Add(3), which maps each element <em>x</em> to the element <em>x</em>&middot;3, is given by \n",
    "<br>"
   ]
  },
  {
   "cell_type": "code",
   "execution_count": 0,
   "id": "0de313",
   "metadata": {
    "collapsed": false
   },
   "outputs": [
   ],
   "source": [
    "CircleGraph(G, Add(3))"
   ]
  },
  {
   "cell_type": "markdown",
   "id": "6f17d0",
   "metadata": {
    "collapsed": false
   },
   "source": [
    "<br>\n",
    "This graph allows us to visualize powers of 3 in the group <em>Z</em><sub>10</sub>. If we follow the red arrows, starting with 0, we have the sequence<br><br>\n",
    " \n",
    "<p style='text-align: center;'>{0, 3, 6, 9, 2, 5, 8, 1, 4, 7, 0 &hellip;}</p>\n",
    "This tells us that, in this group <em>Z</em><sub>10</sub>,\n",
    "<table align=\"center\" width=\"300\" border=\"0\" cellspacing=\"0\" cellpadding=\"0\">\n",
    "  <tr>\n",
    "    <td align=\"right\">3<sup>0</sup> =</td>\n",
    "    <td align=\"left\">&ensp;0,</td>\n",
    "    <td></td>\n",
    "  </tr>\n",
    "  <tr>\n",
    "    <td align=\"right\">3<sup>1</sup> =</td>\n",
    "    <td align=\"left\">&ensp;3,</td>\n",
    "    <td></td>\n",
    "  </tr>\n",
    "  <tr>\n",
    "    <td align=\"right\">3<sup>2</sup> =</td>\n",
    "    <td align=\"left\">&ensp;3&middot;3 = 6,</td>\n",
    "    <td></td>\n",
    "  </tr>\n",
    "  <tr>\n",
    "    <td align=\"right\">3<sup>3</sup> =</td>\n",
    "    <td align=\"left\">&ensp;3&middot;3&middot;3 = 9,</td>\n",
    "    <td></td>\n",
    "  </tr>\n",
    "  <tr>\n",
    "    <td align=\"right\">3<sup>4</sup> =</td>\n",
    "      <td align=\"left\">&ensp;3&middot;3&middot;3&middot;3 = 2,</td>\n",
    "      <td align=\"left\"> etc.&ensp;&ensp;&ensp;&ensp;&ensp;&ensp;&ensp;&ensp;</td>\n",
    "  </tr>  \n",
    "</table>\n",
    "<br><br>\n",
    " \n",
    " \n",
    "Recall that in this group, the dot represents addition modulo 10, so an exponent represents repeated addition. It is easy \n",
    "to see from the circle graph that every element in the group can be expressed as a power of 3, since one can \n",
    "travel the red arrows to get from 0 to any element of the group. This will not always be the case, as the \n",
    "circle graph of &quot;Add(4)&quot; indicates. \n",
    "<br>"
   ]
  },
  {
   "cell_type": "code",
   "execution_count": 0,
   "id": "ca3db6",
   "metadata": {
    "collapsed": false
   },
   "outputs": [
   ],
   "source": [
    "CircleGraph(G, Add(4))"
   ]
  },
  {
   "cell_type": "markdown",
   "id": "990df3",
   "metadata": {
    "collapsed": false
   },
   "source": [
    "<br>\n",
    "Notice that <em>SageMath</em> draws this graph with arrows of two different colors. This highlights the fact that one cannot travel an arrow to get from a red point to a \n",
    "green point. Thus, not every element can be written as a power of 4.<br><br>\n",
    " \n",
    "DEFINITION 3.1<br>\n",
    "We say that the element <em>g</em> &isin; <em>G</em> is a <em>generator</em> of the group <em>G</em> if every element of <em>G</em> can be \n",
    "expressed as a power of <em>g</em>.<br>\n",
    "\n",
    "<br>\n",
    "EXPERIMENT:<br>\n",
    "Using the circle graph, determine which elements of <em>Z</em><sub>10</sub> are generators. Is this set of numbers familiar?<br>"
   ]
  },
  {
   "cell_type": "markdown",
   "id": "8f33c0",
   "metadata": {
    "collapsed": false
   },
   "source": [
    "<br>\n",
    "We can have <em>SageMath</em> list all of the generators of a group for us, using the command <strong>Generators()</strong>.  In \n",
    "the case of <em>Z</em><sub>10</sub>, the generators are:\n",
    "<br>"
   ]
  },
  {
   "cell_type": "code",
   "execution_count": 0,
   "id": "35ab37",
   "metadata": {
    "collapsed": false
   },
   "outputs": [
   ],
   "source": [
    "Generators(G)"
   ]
  },
  {
   "cell_type": "markdown",
   "id": "a74996",
   "metadata": {
    "collapsed": false
   },
   "source": [
    "<br>\n",
    "EXPERIMENT:<br>\n",
    "Try finding the generators of <em>Z<sub>n</sub></em> for different values of <em>n</em>.  Do you notice a pattern?<br>"
   ]
  },
  {
   "cell_type": "markdown",
   "id": "35e234",
   "metadata": {
    "collapsed": false
   },
   "source": [
    "<br>\n",
    "EXAMPLE:<br>\n",
    "Find all of the generators of the group <em>Z</em><sub>7</sub><sup>&ast;</sup>.<br><br>\n",
    "\n",
    "This group is small enough to do by hand.  For each of the elements in <em>Z</em><sub>7</sub><sup>&ast;</sup> = {1, 2, 3, 4, 5, 6}, we raise the element to different powers until we \n",
    "reach the identity.<br><br>\n",
    "<table align=\"center\" border=\"0\" cellspacing=\"0\" cellpadding=\"0\">\n",
    "  <tr>\n",
    "    <td>1<sup>1</sup> = 1.</td>\n",
    "    <td></td>\n",
    "    <td></td>\n",
    "    <td></td>\n",
    "    <td></td>\n",
    "    <td></td>\n",
    "  </tr>\n",
    "  <tr>\n",
    "    <td>2<sup>1</sup> = 2,</td>\n",
    "    <td>2<sup>2</sup> = 4,</td>\n",
    "    <td>2<sup>3</sup> = 1.</td>\n",
    "    <td></td>\n",
    "    <td></td>\n",
    "    <td></td>\n",
    "  </tr>\n",
    "  <tr>\n",
    "    <td>3<sup>1</sup> = 3,</td>\n",
    "    <td>3<sup>2</sup> = 2,</td>\n",
    "    <td>3<sup>3</sup> = 6,</td>\n",
    "    <td>3<sup>4</sup> = 4,</td>\n",
    "    <td>3<sup>5</sup> = 5,</td>\n",
    "    <td>3<sup>6</sup> = 1.</td>\n",
    "  </tr>\n",
    "  <tr>\n",
    "    <td>4<sup>1</sup> = 4,</td>  \n",
    "    <td>4<sup>2</sup> = 2,</td>\n",
    "    <td>4<sup>3</sup> = 1.</td>\n",
    "    <td></td>\n",
    "    <td></td>\n",
    "    <td></td>\n",
    "  </tr>\n",
    "  <tr>\n",
    "    <td>5<sup>1</sup> = 5,</td>  \n",
    "    <td>5<sup>2</sup> = 4,</td>\n",
    "    <td>5<sup>3</sup> = 6,</td>\n",
    "    <td>5<sup>4</sup> = 2,</td>\n",
    "    <td>5<sup>5</sup> = 3,</td>\n",
    "    <td>5<sup>6</sup> = 1.</td>\n",
    "  </tr>    \n",
    "  <tr>\n",
    "    <td>6<sup>1</sup> = 6.</td>  \n",
    "    <td>6<sup>2</sup> = 1.</td>\n",
    "    <td></td>\n",
    "    <td></td>\n",
    "    <td></td>\n",
    "    <td></td>\n",
    "  </tr>  \n",
    "</table>\n",
    "<br>\n",
    "Thus, we see that 3 and 5 are generators.<br><br>\n",
    "\n",
    "This process of searching for generators leads us to the following definition.\n",
    "\n",
    "<br><br>\n",
    "DEFINITION 3.2<br>\n",
    "\n",
    "Let <em>x</em> be an element of a group <em>G</em> with identity <em>e</em>.  We define the <em>order</em> of the element\n",
    "<em>x</em> to be the smallest positive integer <em>n</em> for which <em>x<sup>n</sup></em> = <em>e</em>.  If no such positive integer exists, we say the order of <em>x</em> is <em>infinite</em>.<br><br>\n",
    "\n",
    "In the last example, we see that the element 1 has order 1, element 6 has order 2, elements 2 and 4 have order 3, and the generators 3 and 5 have order 6.  We can make the following observations about the order of an element:\n",
    "\n",
    "<ul>\n",
    "    <li>The order of the identity element is always 1.</li>\n",
    "    <li>If the group is finite, then its generators are the elements whose order is the size of the group.</li>\n",
    "    <li>The order can be infinite if the size of the group is infinite.  For example, in the group &#8484;, the element \n",
    "        2 has infinite order, since 2<sup><em>n</em></sup> is never 0 for <em>n</em> &ge; 1.</li>\n",
    "</ul>\n",
    "\n",
    "The only way to find the generators in a <em>Z<sub>n</sub></em><sup>&ast;</sup> group is by trial and error, as was done in the last example.  However, there is a shortcut for finding the generators for the group <em>Z<sub>n</sub></em>.  \n",
    "Notice that 1 will always be a generator of \n",
    "<em>Z<sub>n</sub></em>, for <strong>Add(1)</strong> takes every point on the circle to the next point. See if you can use this fact to prove the next proposition."
   ]
  },
  {
   "cell_type": "markdown",
   "id": "c316b2",
   "metadata": {
    "collapsed": false
   },
   "source": [
    "<a name=\"prop31ret\" id=\"prop31ret\"></a>  \n",
    "PROPOSITION 3.1<br>\n",
    "\n",
    "The generators of <em>Z<sub>n</sub></em> are precisely the integers between 0 and <em>n</em> that are coprime to <em>n</em>.<br><br>\n",
    "\n",
    "<a href=\"#prop31\">Click here for the proof.</a>\n",
    "\n",
    "<p />\n",
    "The count of numbers less than <em>n</em> that are coprime to <em>n</em> is called the <span style='font-style: italic;'>Euler totient function</span> of <em>n</em> and \n",
    "is denoted <em>&#981;</em>(<em>n</em>)</span>. Thus, the number of generators of <em>Z<sub>n</sub></em> is precisely <em>&#981;</em>(<em>n</em>).  Here \n",
    "is a small table of this function up to <em>n</em> = 36. \n",
    "\n",
    "<table align=\"center\" width=\"343\" border=\"1\">\n",
    "  <caption>\n",
    "    Table of <em>&#981;</em>(<em>n</em>)\n",
    "  </caption>\n",
    "  <tr>\n",
    "    <th width=\"33\" scope=\"col\"><em>n</em></th>\n",
    "    <th width=\"76\" scope=\"col\"><em>&#981;</em>(<em>n</em>)</th>\n",
    "    <th width=\"33\" scope=\"col\"><em>n</em></th>\n",
    "    <th width=\"76\" scope=\"col\"><em>&#981;</em>(<em>n</em>)</th>\n",
    "    <th width=\"33\" scope=\"col\"><em>n</em></th>\n",
    "    <th width=\"76\" scope=\"col\"><em>&#981;</em>(<em>n</em>)</th>\n",
    "  </tr>\n",
    "  <tr>\n",
    "    <td>1</td>\n",
    "    <td>1</td>\n",
    "    <td>13</td>\n",
    "    <td>12</td>\n",
    "    <td>25</td>\n",
    "    <td>20</td>\n",
    "  </tr>\n",
    "  <tr>\n",
    "    <td>2</td>\n",
    "    <td>1</td>\n",
    "    <td>14</td>\n",
    "    <td>6</td>\n",
    "    <td>26</td>\n",
    "    <td>12</td>\n",
    "  </tr>\n",
    "  <tr>\n",
    "    <td>3</td>\n",
    "    <td>2</td>\n",
    "    <td>15</td>\n",
    "    <td>8</td>\n",
    "    <td>27</td>\n",
    "    <td>18</td>\n",
    "  </tr>\n",
    "  <tr>\n",
    "    <td>4</td>\n",
    "    <td>2</td>\n",
    "    <td>16</td>\n",
    "    <td>8</td>\n",
    "    <td>28</td>\n",
    "    <td>12</td>\n",
    "  </tr>\n",
    "  <tr>\n",
    "    <td>5</td>\n",
    "    <td>4</td>\n",
    "    <td>17</td>\n",
    "    <td>16</td>\n",
    "    <td>29</td>\n",
    "    <td>28</td>\n",
    "  </tr>\n",
    "  <tr>\n",
    "    <td>6</td>\n",
    "    <td>2</td>\n",
    "    <td>18</td>\n",
    "    <td>6</td>\n",
    "    <td>30</td>\n",
    "    <td>8</td>\n",
    "  </tr>\n",
    "  <tr>\n",
    "    <td>7</td>\n",
    "    <td>6</td>\n",
    "    <td>19</td>\n",
    "    <td>18</td>\n",
    "    <td>31</td>\n",
    "    <td>30</td>\n",
    "  </tr>\n",
    "  <tr>\n",
    "    <td>8</td>\n",
    "    <td>4</td>\n",
    "    <td>20</td>\n",
    "    <td>8</td>\n",
    "    <td>32</td>\n",
    "    <td>16</td>\n",
    "  </tr>\n",
    "  <tr>\n",
    "    <td>9</td>\n",
    "    <td>6</td>\n",
    "    <td>21</td>\n",
    "    <td>12</td>\n",
    "    <td>33</td>\n",
    "    <td>20</td>\n",
    "  </tr>\n",
    "  <tr>\n",
    "    <td>10</td>\n",
    "    <td>4</td>\n",
    "    <td>22</td>\n",
    "    <td>10</td>\n",
    "    <td>34</td>\n",
    "    <td>16</td>\n",
    "  </tr>\n",
    "  <tr>\n",
    "    <td>11</td>\n",
    "    <td>10</td>\n",
    "    <td>23</td>\n",
    "    <td>22</td>\n",
    "        <td>35</td>\n",
    "    <td>24</td>\n",
    "  </tr>\n",
    "  <tr>\n",
    "    <td>12</td>\n",
    "    <td>4</td>\n",
    "    <td>24</td>\n",
    "    <td>8</td>\n",
    "    <td>36</td>\n",
    "    <td>12</td>\n",
    "  </tr>\n",
    "</table>\n",
    "\n",
    "\n",
    "<br>\n",
    "For larger values of <em>n</em>, we can use the <em>SageMath</em> command <span style='font-weight: bold;'>EulerPhi</span>. For example, to find the number of generators \n",
    "of <em>Z</em><sub>60</sub>, type\n",
    "<br>"
   ]
  },
  {
   "cell_type": "code",
   "execution_count": 0,
   "id": "663419",
   "metadata": {
    "collapsed": false
   },
   "outputs": [
   ],
   "source": [
    "EulerPhi(60)"
   ]
  },
  {
   "cell_type": "markdown",
   "id": "21b7ef",
   "metadata": {
    "collapsed": false
   },
   "source": [
    "<br>\n",
    "How does <em>SageMath</em> come up with this answer? It uses a fairly simple formula based on the prime factorization of the number. Here is the formula, along with a proof \n",
    "of why this formula works:"
   ]
  },
  {
   "cell_type": "markdown",
   "id": "804d4c",
   "metadata": {
    "collapsed": false
   },
   "source": [
    "<a name=\"theor31ret\" id=\"theor31ret\"></a>\n",
    "THEOREM 3.1:  The Totient Function Theorem<br>\n",
    "\n",
    "If the prime factorization of <em>n</em> is given by\n",
    "<p style='text-align: center;'><em>n</em> = <em>p</em><sub>1</sub><sup><em>r</em></sup>&sup1; &middot; <em>p</em><sub>2</sub><sup><em>r</em></sup>&sup2; &middot; \n",
    "<em>p</em><sub>3</sub><sup><em>r</em></sup>&sup3; &middot;&middot;&middot; <em>p</em><sub><em>k</em></sub><sup><em>r&#8342;</em></sup>,</p>\n",
    "\n",
    "where <em>p</em><sub>1</sub>, <em>p</em><sub>2</sub>, <em>p</em><sub>3</sub>, &hellip; <em>p<sub>k</sub></em>  are primes, and <em>r</em><sub>1</sub>, <em>r</em><sub>2</sub>, \n",
    "<em>r</em><sub>3</sub>, &hellip; <em>r<sub>k</sub></em> are positive integers, then the count of numbers less than <em>n</em> which are coprime to <em>n</em> is<br>\n",
    "<p style='text-align: center;'><em>&#981;</em>(<em>n</em>) = (<em>p</em><sub>1</sub> &minus; 1)<em>p</em><sub>1</sub><sup>(<em>r</em></sup>&sup1;<sup>&minus;1)</sup> &middot; \n",
    "(<em>p</em><sub>2</sub> &minus; 1)<em>p</em><sub>2</sub><sup>(<em>r</em></sup>&sup2;<sup>&minus;1)</sup> &middot; \n",
    "(<em>p</em><sub>3</sub> &minus; 1)<em>p</em><sub>3</sub><sup>(<em>r</em></sup>&sup3;<sup>&minus;1)</sup> &middot;&middot;&middot; \n",
    "(<em>p<sub>k</sub></em> &minus; 1)<em>p</em><sub><em>k</em></sub><sup>(<em>r&#8342;</em>&minus;1)</sup>,</p>\n",
    "\n",
    "<a href=\"#theor31\">Click here for the proof.</a>\n",
    "\n",
    "<p />\n",
    "Now that we know how to find generators of <em>Z<sub>n</sub></em>, let us move on to other groups. Consider for example <em>Z</em><sub>10</sub><sup>&ast;</sup>.  First we \n",
    "load this into <em>SageMath</em>:<br>"
   ]
  },
  {
   "cell_type": "code",
   "execution_count": 0,
   "id": "c3b56a",
   "metadata": {
    "collapsed": false
   },
   "outputs": [
   ],
   "source": [
    "G = ZStar(10); G"
   ]
  },
  {
   "cell_type": "markdown",
   "id": "326ffb",
   "metadata": {
    "collapsed": false
   },
   "source": [
    "<br>\n",
    "The elements are {1, 3, 7, 9}. Is 1 a generator of this group? Let's check:<br>"
   ]
  },
  {
   "cell_type": "code",
   "execution_count": 0,
   "id": "3f159d",
   "metadata": {
    "collapsed": false
   },
   "outputs": [
   ],
   "source": [
    "CircleGraph(G, Mult(1))"
   ]
  },
  {
   "cell_type": "markdown",
   "id": "5629ce",
   "metadata": {
    "collapsed": false
   },
   "source": [
    "<br>\n",
    "We see that 1 is not a generator because 1 is the identity element.<br><br>\n",
    " \n",
    "EXPERIMENT:<br>\n",
    " \n",
    "Replace Mult(1) in the last command with Mult(3), Mult(7), and Mult(9) to see which elements, if any, are generators. Recall that the test for a generator is that any \n",
    "element can be reached by any other element in the circle graph by means of the arrows. How many generators are there?<br><br>"
   ]
  },
  {
   "cell_type": "markdown",
   "id": "f5c275",
   "metadata": {
    "collapsed": false
   },
   "source": [
    "<br>\n",
    "According to the table for <em>&#981;</em>(<em>n</em>), <em>Z</em><sub>8</sub><sup>&ast;</sup> also has four elements. Let us try the same experiment \n",
    "with <em>Z</em><sub>8</sub><sup>&ast;</sup>. First we load the group into <em>SageMath</em>: \n",
    "<br><br>"
   ]
  },
  {
   "cell_type": "code",
   "execution_count": 0,
   "id": "782a74",
   "metadata": {
    "collapsed": false
   },
   "outputs": [
   ],
   "source": [
    "G = ZStar(8); G"
   ]
  },
  {
   "cell_type": "markdown",
   "id": "af1dcf",
   "metadata": {
    "collapsed": false
   },
   "source": [
    "<br>\n",
    "The elements of this group are {1, 3, 5, 7}. Let us check to see if 3 is a generator:<br>"
   ]
  },
  {
   "cell_type": "code",
   "execution_count": 0,
   "id": "fe107e",
   "metadata": {
    "collapsed": false
   },
   "outputs": [
   ],
   "source": [
    "CircleGraph(G, Mult(3))"
   ]
  },
  {
   "cell_type": "markdown",
   "id": "d19532",
   "metadata": {
    "collapsed": false
   },
   "source": [
    "<br>\n",
    "EXPERIMENT:<br>\n",
    " \n",
    "Replace Mult(3) in the above command with Mult(5), Mult(7), and Mult(1). How many generators are there to this group?<br> <br>"
   ]
  },
  {
   "cell_type": "markdown",
   "id": "38ce89",
   "metadata": {
    "collapsed": false
   },
   "source": [
    "<br>\n",
    "By doing this experiment, you will discover that <em>Z</em><sub>8</sub><sup>&ast;</sup> has a totally different structure than <em>Z</em><sub>10</sub><sup>&ast;</sup>, in spite \n",
    "of the similarity in how they are defined. As you tried to determine why no element of <em>Z</em><sub>8</sub><sup>&ast;</sup> acts as a generator, you might notice that \n",
    "every element squared is equal to 1. This is seen in the multiplication table<br>"
   ]
  },
  {
   "cell_type": "code",
   "execution_count": 0,
   "id": "3cf308",
   "metadata": {
    "collapsed": false
   },
   "outputs": [
   ],
   "source": [
    "CayleyTable(G)"
   ]
  },
  {
   "cell_type": "markdown",
   "id": "9fa890",
   "metadata": {
    "collapsed": false
   },
   "source": [
    "<br> We can also verify this by finding the set of generators of <em>Z</em><sub>8</sub><sup>&ast;</sup>.<br>"
   ]
  },
  {
   "cell_type": "code",
   "execution_count": 0,
   "id": "2ed7c9",
   "metadata": {
    "collapsed": false
   },
   "outputs": [
   ],
   "source": [
    "Generators(G)"
   ]
  },
  {
   "cell_type": "markdown",
   "id": "c24b83",
   "metadata": {
    "collapsed": false
   },
   "source": [
    "<br>\n",
    "Because of this property of <em>Z</em><sub>8</sub><sup>&ast;</sup>, no element can generate the whole group. <br><br>From these examples, we see that some groups \n",
    "have generators, while others do not. This leads us to the following definition.\n",
    "\n",
    "<br><br>\n",
    "DEFINITION 3.3<br>\n",
    "We say a group is <em>cyclic</em> if there is one element that can generate the entire group. <br><br>\n",
    " \n",
    "Although we have seen an example of a finite group that is not cyclic, we will later see that the structure of <em>any</em> finite abelian group can be \n",
    "expressed in terms of cyclic groups.<br><br>\n",
    " \n",
    "Even when a group is not cyclic, we sometimes can find <em>two</em> elements by which every element of the group can be expressed. For example, consider the two elements 3 and 5 from the group <em>Z</em><sub>8</sub><sup>&ast;</sup>. The following command maps both Mult(3) and Mult(5) on the same circle graph.<br>"
   ]
  },
  {
   "cell_type": "code",
   "execution_count": 0,
   "id": "1d68d9",
   "metadata": {
    "collapsed": false
   },
   "outputs": [
   ],
   "source": [
    "CircleGraph(G, Mult(3), Mult(5))"
   ]
  },
  {
   "cell_type": "markdown",
   "id": "005335",
   "metadata": {
    "collapsed": false
   },
   "source": [
    "<br>\n",
    "The red arrows represent multiplying by 3, while the green arrows represent multiplication by 5. Notice that by a combination of red and green arrows, any element of \n",
    "the group can reach any other element through a sequence of arrows, even though neither the red arrows alone nor the green arrows can do this job. We say that \n",
    "the <em>set</em> {3,5} generates the group.<br><br>\n",
    " \n",
    "Let us look at one more example. Consider Terry's group, which is loaded into <em>SageMath</em> by the command<br>"
   ]
  },
  {
   "cell_type": "code",
   "execution_count": 0,
   "id": "76c0c6",
   "metadata": {
    "collapsed": false
   },
   "outputs": [
   ],
   "source": [
    "G = InitTerry(); G"
   ]
  },
  {
   "cell_type": "markdown",
   "id": "a511b7",
   "metadata": {
    "collapsed": false
   },
   "source": [
    "<br>\n",
    " Let us see if one of the dance steps will generate the group. <br>"
   ]
  },
  {
   "cell_type": "code",
   "execution_count": 0,
   "id": "773648",
   "metadata": {
    "collapsed": false
   },
   "outputs": [
   ],
   "source": [
    "CircleGraph(G, Mult(Spin))"
   ]
  },
  {
   "cell_type": "markdown",
   "id": "e561d0",
   "metadata": {
    "collapsed": false
   },
   "source": [
    "<br>\n",
    "EXPERIMENT:<br>\n",
    "By replacing the &quot;Spin&quot; in the last command with the other elements of Terry's group, see if any of the elements generate the group. If not, see if you can \n",
    "find a combination of <em>two</em> elements which generate the group.<br>"
   ]
  },
  {
   "cell_type": "markdown",
   "id": "899239",
   "metadata": {
    "collapsed": false
   },
   "source": [
    "<br>\n",
    "One of the keys for entering a group into <em>SageMath</em> is knowing one or two elements (or sometimes even three) that will generate the entire group.  This information \n",
    "begins to reveal the structure of the group itself.<br><br>"
   ]
  },
  {
   "cell_type": "markdown",
   "id": "732bc8",
   "metadata": {
    "collapsed": false
   },
   "source": [
    "<a name=\"sec32\" id=\"sec32\"></a>\n",
    "<h1>Defining Finite Groups in <em>SageMath</em></h1>\n",
    "\n",
    "<br>\n",
    "This part of the notebook shows how to define finite groups in <em>SageMath</em>. The corresponding \n",
    "section in the <em>Mathematica</em> notebook explains entering groups \n",
    "into <em>Mathematica</em>, but the process is very similar.<br>\n",
    "<br>\n",
    " \n",
    "We saw in the last section that for some groups there is a single element that generates the entire group, whereas in other groups two or more elements are required.  In \n",
    "this section, we will show how a finite group can be entered into <em>SageMath</em> using a set of elements that generates the group. We will begin with a cyclic\n",
    "group <em>Z<sub>n</sub></em> which has a single generator which we will call <em>x</em>.  From the circle graphs of <em>Z<sub>n</sub></em> that we saw in the last section, we could see that \n",
    "the sequence of <em>n</em> elements<br><br>\n",
    "\n",
    "<table align=\"center\" width=\"250\" border=\"0\" cellspacing=\"0\" cellpadding=\"0\">\n",
    "  <tr>\n",
    "    <td align=\"right\"><em>e</em> =</td>\n",
    "    <td align=\"left\">&ensp;<em>x</em><sup>0</sup>,&ensp;&ensp;&ensp;&ensp;&ensp;&ensp;&ensp;</td>\n",
    "  </tr>\n",
    "  <tr>\n",
    "    <td align=\"right\"><em>x</em> =</td>\n",
    "    <td align=\"left\">&ensp;<em>x</em><sup>1</sup>,&ensp;&ensp;&ensp;&ensp;&ensp;&ensp;&ensp;</td>\n",
    "  </tr>\n",
    "  <tr>\n",
    "    <td align=\"right\"><em>x</em>&middot;<em>x</em> =</td>\n",
    "    <td align=\"left\">&ensp;<em>x</em><sup>2</sup>,&ensp;&ensp;&ensp;&ensp;&ensp;&ensp;&ensp;</td>\n",
    "  </tr>\n",
    "  <tr>\n",
    "    <td align=\"right\"><em>x</em>&middot;<em>x</em>&middot;<em>x</em> =</td>\n",
    "    <td align=\"left\">&ensp;<em>x</em><sup>3</sup>,&ensp;&ensp;&ensp;&ensp;&ensp;&ensp;&ensp;</td>\n",
    "  </tr>\n",
    "  <tr>\n",
    "    <td align=\"right\">&#8943;&#8943;&#8943;&#8943;</td>\n",
    "    <td align=\"left\">&#8943;&#8943;&ensp;&ensp;&ensp;&ensp;&ensp;&ensp;&ensp;</td>\n",
    "  </tr>\n",
    "  <tr>\n",
    "    <td align=\"right\"><em>x</em>&middot;<em>x</em>&middot;<em>x</em>&middot; &#8943; &middot;<em>x</em> =</td>\n",
    "    <td align=\"left\">&ensp;<em>x</em><sup><em>n</em>&minus;1</sup>,&ensp;&ensp;&ensp;&ensp;&ensp;&ensp;&ensp;</td>\n",
    "  </tr>\n",
    "</table>\n",
    "\n",
    "<br> \n",
    "must mention every element of <em>Z<sub>n</sub></em> exactly once. In fact, this gives us a way to label the elements of <em>Z<sub>n</sub></em> in terms of the generator <em>x</em>. We also find that <em>x</em><sup><em>n</em></sup> = <em>e</em>.\n",
    "Thus, we can define the group  <em>Z<sub>n</sub></em> merely by saying &quot;<em>x</em> is a generator of the group, and \n",
    "the order of <em>x</em> is <em>n</em>.&quot; <br><br>\n",
    " \n",
    "There are <em>SageMath</em> routines included that allow us to quickly make these definitions. Execute the following three statements:<br>"
   ]
  },
  {
   "cell_type": "code",
   "execution_count": 0,
   "id": "d97e33",
   "metadata": {
    "collapsed": false
   },
   "outputs": [
   ],
   "source": [
    "InitGroup(\"e\")"
   ]
  },
  {
   "cell_type": "code",
   "execution_count": 0,
   "id": "038832",
   "metadata": {
    "collapsed": false
   },
   "outputs": [
   ],
   "source": [
    "AddGroupVar(\"x\")"
   ]
  },
  {
   "cell_type": "code",
   "execution_count": 0,
   "id": "26a0a8",
   "metadata": {
    "collapsed": false
   },
   "outputs": [
   ],
   "source": [
    "Define(x^5, e)"
   ]
  },
  {
   "cell_type": "markdown",
   "id": "e394b6",
   "metadata": {
    "collapsed": false
   },
   "source": [
    "<br>\n",
    "What does this do? The first command we have seen once before: it defines the identity element to be <em>e</em>. The second command defines &quot;x&quot; to be a \n",
    "group variable.  Finally, we note that <em>x</em> has order 5, so we define <em>x</em><sup>5</sup> to be the identity. This is all we need to define the group <em>Z</em><sub>5</sub>.<br><br>\n",
    " \n",
    "Of course we will want to see the group.  The <em>SageMath</em> command <strong>Group()</strong> lists the elements of the currently defined group in a systematic \n",
    "order.<br>"
   ]
  },
  {
   "cell_type": "code",
   "execution_count": 0,
   "id": "9fd3cf",
   "metadata": {
    "collapsed": false
   },
   "outputs": [
   ],
   "source": [
    "Z5 = Group(); Z5"
   ]
  },
  {
   "cell_type": "markdown",
   "id": "e93c27",
   "metadata": {
    "collapsed": false
   },
   "source": [
    "<br>\n",
    "Thus, the elements of this group are:<br>\n",
    "<p style='text-align: center;'>{<em>e</em>, <em>x</em>, <em>x</em><sup>2</sup>, <em>x</em><sup>3</sup>, <em>x</em><sup>4</sup>}.</p>\n",
    "A multiplication table can be given by:<br>"
   ]
  },
  {
   "cell_type": "code",
   "execution_count": 0,
   "id": "83dcc0",
   "metadata": {
    "collapsed": false
   },
   "outputs": [
   ],
   "source": [
    "CayleyTable(Z5)"
   ]
  },
  {
   "cell_type": "markdown",
   "id": "9f794e",
   "metadata": {
    "collapsed": false
   },
   "source": [
    "<br>\n",
    "Although the {0, 1, 2, 3, 4} notation is more concise for this particular example, the use of generators is more versatile, since almost all finite groups can be \n",
    "expressed easily using generators.<br><br>\n",
    " \n",
    "EXAMPLE:<br>\n",
    "Define the group <em>Z</em><sub>8</sub><sup>&ast;</sup> in <em>SageMath</em>.<br><br>\n",
    "\n",
    "We saw that every element of this group \n",
    "squared is the identity so this group is not cyclic. However, we found that every element can be expressed in \n",
    "terms of two of the elements, 3 and 5. Hence the <em>set</em> {3, 5} generates the group.<br><br>\n",
    "\n",
    "By calling <em>a</em> = 3 and <em>b</em> = 5, and noting that both of these elements have order 2, we define <em>a</em><sup>2</sup> and <em>b</em><sup>2</sup> to be <em>e</em>.  We can define the group this way:<br>"
   ]
  },
  {
   "cell_type": "code",
   "execution_count": 0,
   "id": "101f2b",
   "metadata": {
    "collapsed": false
   },
   "outputs": [
   ],
   "source": [
    "InitGroup(\"e\")"
   ]
  },
  {
   "cell_type": "code",
   "execution_count": 0,
   "id": "091ce6",
   "metadata": {
    "collapsed": false
   },
   "outputs": [
   ],
   "source": [
    "AddGroupVar(\"a\")"
   ]
  },
  {
   "cell_type": "code",
   "execution_count": 0,
   "id": "bfc09a",
   "metadata": {
    "collapsed": false
   },
   "outputs": [
   ],
   "source": [
    "AddGroupVar(\"b\")"
   ]
  },
  {
   "cell_type": "code",
   "execution_count": 0,
   "id": "5cf5c1",
   "metadata": {
    "collapsed": false
   },
   "outputs": [
   ],
   "source": [
    "Define(a^2, e)"
   ]
  },
  {
   "cell_type": "code",
   "execution_count": 0,
   "id": "32da36",
   "metadata": {
    "collapsed": false
   },
   "outputs": [
   ],
   "source": [
    "Define(b^2, e)"
   ]
  },
  {
   "cell_type": "markdown",
   "id": "a75a2c",
   "metadata": {
    "collapsed": false
   },
   "source": [
    "<br>\n",
    "Is this enough to define the group? Since 7 = 3&middot;5, the last element can be written \n",
    "<em>a</em>&middot;<em>b</em></span>. The list of four elements would be<br>"
   ]
  },
  {
   "cell_type": "code",
   "execution_count": 0,
   "id": "23b3d0",
   "metadata": {
    "collapsed": false
   },
   "outputs": [
   ],
   "source": [
    "G = [e, a, b, a*b]"
   ]
  },
  {
   "cell_type": "markdown",
   "id": "1c2577",
   "metadata": {
    "collapsed": false
   },
   "source": [
    "<br>\n",
    "Let us see the Cayley table:<br>"
   ]
  },
  {
   "cell_type": "code",
   "execution_count": 0,
   "id": "73910d",
   "metadata": {
    "collapsed": false
   },
   "outputs": [
   ],
   "source": [
    "CayleyTable(G)"
   ]
  },
  {
   "cell_type": "markdown",
   "id": "b240b9",
   "metadata": {
    "collapsed": false
   },
   "source": [
    "<br>\n",
    "Notice the four black squares, such as one corresponding to <em>b</em> times <em>a</em>.  <em>SageMath</em> needs \n",
    "to be told that <em>b</em>&middot;<em>a</em> is the same thing as <em>a</em>&middot;<em>b</em></span>, so we \n",
    "need a third define statement:<br>"
   ]
  },
  {
   "cell_type": "code",
   "execution_count": 0,
   "id": "d4e8b1",
   "metadata": {
    "collapsed": false
   },
   "outputs": [
   ],
   "source": [
    "Define(b*a, a*b)"
   ]
  },
  {
   "cell_type": "markdown",
   "id": "ae8f45",
   "metadata": {
    "collapsed": false
   },
   "source": [
    "<br>\n",
    "Will this be enough for <em>SageMath</em> to find all products? <br>"
   ]
  },
  {
   "cell_type": "code",
   "execution_count": 0,
   "id": "d0fe4f",
   "metadata": {
    "collapsed": false
   },
   "outputs": [
   ],
   "source": [
    "CayleyTable(G)"
   ]
  },
  {
   "cell_type": "markdown",
   "id": "a0c628",
   "metadata": {
    "collapsed": false
   },
   "source": [
    "<br>\n",
    "This time, there are no black squares, so the group has been completely defined in <em>SageMath</em>. We can also find out if we have finished defining the group by entering \n",
    "the command<br>"
   ]
  },
  {
   "cell_type": "code",
   "execution_count": 0,
   "id": "42b508",
   "metadata": {
    "collapsed": false
   },
   "outputs": [
   ],
   "source": [
    "G = Group(a, b); G"
   ]
  },
  {
   "cell_type": "markdown",
   "id": "61a592",
   "metadata": {
    "collapsed": false
   },
   "source": [
    "<br>\n",
    "As long as <em>SageMath</em> returns with a list of elements, the group has been successfully been defined. \n",
    "<br><br>\n",
    "\n",
    "We still need to check that the associative law holds.  This can be done with the command"
   ]
  },
  {
   "cell_type": "code",
   "execution_count": 0,
   "id": "36d71d",
   "metadata": {
    "collapsed": false
   },
   "outputs": [
   ],
   "source": [
    "CheckGroup(G)"
   ]
  },
  {
   "cell_type": "markdown",
   "id": "a43ea2",
   "metadata": {
    "collapsed": false
   },
   "source": [
    "We can define several groups in <em>SageMath</em> at the same time, (using the same identity element, and different letters for the generators) and by listing the generators with the <strong>Group</strong> command, <em>SageMath</em> will know which group \n",
    "we are referring to.  However, the command <br><br>"
   ]
  },
  {
   "cell_type": "code",
   "execution_count": 0,
   "id": "83b1a4",
   "metadata": {
    "collapsed": false
   },
   "outputs": [
   ],
   "source": [
    "InitGroup(\"e\")"
   ]
  },
  {
   "cell_type": "markdown",
   "id": "e45662",
   "metadata": {
    "collapsed": false
   },
   "source": [
    "clears out all previously defined groups.<br><br>\n",
    "\n",
    "EXAMPLE:<br>\n",
    "Suppose we have three different books on a\n",
    "shelf, and we consider rearrangements of the books.  Enter this group into <em>SageMath</em>.<br><br>\n",
    "\n",
    "We can illustrate the three books by executing the following command:<br>"
   ]
  },
  {
   "cell_type": "code",
   "execution_count": 0,
   "id": "987f1b",
   "metadata": {
    "collapsed": false
   },
   "outputs": [
   ],
   "source": [
    "InitBooks(3)"
   ]
  },
  {
   "cell_type": "markdown",
   "id": "f2b4df",
   "metadata": {
    "collapsed": false
   },
   "source": [
    "<br>\n",
    "Suppose we want to rearrange the three books. One way we can rearrange them is to swap the first two books. This can be done with the command<br>"
   ]
  },
  {
   "cell_type": "code",
   "execution_count": 0,
   "id": "25b6fd",
   "metadata": {
    "collapsed": false
   },
   "outputs": [
   ],
   "source": [
    "MoveBooks(First)"
   ]
  },
  {
   "cell_type": "markdown",
   "id": "3b936a",
   "metadata": {
    "collapsed": false
   },
   "source": [
    "<br>\n",
    "Another way we can rearrange the books is to take the first book out, slide the other two to the left, and \n",
    "replace the book <em>after</em> the other two. This can be done by the command:<br>"
   ]
  },
  {
   "cell_type": "code",
   "execution_count": 0,
   "id": "531082",
   "metadata": {
    "collapsed": false
   },
   "outputs": [
   ],
   "source": [
    "MoveBooks(Left)"
   ]
  },
  {
   "cell_type": "markdown",
   "id": "89448f",
   "metadata": {
    "collapsed": false
   },
   "source": [
    "<br>\n",
    "EXPERIMENT:<br>\n",
    "By using only the commands First and Left, how many ways can you rearrange the three books? There are a total of 6 ways to arrange three books. Can you obtain \n",
    "all 6 arrangements using just these two commands?<br>"
   ]
  },
  {
   "cell_type": "markdown",
   "id": "f493ed",
   "metadata": {
    "collapsed": false
   },
   "source": [
    "<br>\n",
    "In doing this experiment, you probably found that there are four other ways we could have rearranged the books, namely swapping the last two books (Last), moving that \n",
    "last book to the front (Right), reversing the order of the books (Rev), and finally leaving the books as they are (Stay). These four additional motions also work in \n",
    "the MoveBooks command, yet the last experiment showed that all arrangements can be obtained using just the commands First and Left. Therefore, the set {First, Left} \n",
    "generates the group of all permutations of the three books.<br><br>\n",
    "\n",
    "Let us define this group in <em>SageMath</em>. Rather than using the names, we will use the abbreviations: \n",
    "<em>e</em> = the identity element, <em>a</em> = First, and <em>b</em> = Left.<br><br>\n",
    "\n",
    "We begin by defining the identity element to be <em>e</em>.<br>"
   ]
  },
  {
   "cell_type": "code",
   "execution_count": 0,
   "id": "e644dd",
   "metadata": {
    "collapsed": false
   },
   "outputs": [
   ],
   "source": [
    "InitGroup(\"e\")"
   ]
  },
  {
   "cell_type": "markdown",
   "id": "3eff95",
   "metadata": {
    "collapsed": false
   },
   "source": [
    "<br>Next, we have to set up the variables <em>a</em> and <em>b</em> to be two members of the group.  We can do this with one <strong>AddGroupVar</strong> command.<br>"
   ]
  },
  {
   "cell_type": "code",
   "execution_count": 0,
   "id": "2bbfa5",
   "metadata": {
    "collapsed": false
   },
   "outputs": [
   ],
   "source": [
    "AddGroupVar(\"a\",\"b\")"
   ]
  },
  {
   "cell_type": "markdown",
   "id": "bec90c",
   "metadata": {
    "collapsed": false
   },
   "source": [
    "<br>\n",
    "Next, we will note the order of the two elements.  Now, if we swap the first two books twice, we get back where we started. We thus see that <em>a</em> has order 2, or <em>a</em><sup>2</sup> = <em>e</em>. So we define:<br>"
   ]
  },
  {
   "cell_type": "code",
   "execution_count": 0,
   "id": "3f0aa6",
   "metadata": {
    "collapsed": false
   },
   "outputs": [
   ],
   "source": [
    "Define(a^2, e)"
   ]
  },
  {
   "cell_type": "markdown",
   "id": "13577a",
   "metadata": {
    "collapsed": false
   },
   "source": [
    "<br>\n",
    "If we perform the Left action three times, we also will be back where we started. Thus, we see <em>b</em> has order 3, or <em>b</em><sup>3</sup> = <em>e</em>.  Hence, we can define<br>"
   ]
  },
  {
   "cell_type": "code",
   "execution_count": 0,
   "id": "7339a9",
   "metadata": {
    "collapsed": false
   },
   "outputs": [
   ],
   "source": [
    "Define(b^3, e)"
   ]
  },
  {
   "cell_type": "markdown",
   "id": "c168fd",
   "metadata": {
    "collapsed": false
   },
   "source": [
    "<br>\n",
    "In defining <em>Z</em><sub>8</sub><sup>&ast;</sup>, we needed to also define <em>b</em>&middot;<em>a</em> in terms of\n",
    "<em>a</em>&middot;<em>b</em>. Let us do that for this group also. Notice what happens if we first move the books \n",
    "to the left, and then swap the first two books:<br>"
   ]
  },
  {
   "cell_type": "code",
   "execution_count": 0,
   "id": "e3c82b",
   "metadata": {
    "collapsed": false
   },
   "outputs": [
   ],
   "source": [
    "InitBooks(3); MoveBooks(Left, First)"
   ]
  },
  {
   "cell_type": "markdown",
   "id": "7a283e",
   "metadata": {
    "collapsed": false
   },
   "source": [
    "<br>\n",
    "Is this the same result if we do those actions in the opposite order? Let's check:<br>"
   ]
  },
  {
   "cell_type": "code",
   "execution_count": 0,
   "id": "269460",
   "metadata": {
    "collapsed": false
   },
   "outputs": [
   ],
   "source": [
    "InitBooks(3); MoveBooks(First, Left)"
   ]
  },
  {
   "cell_type": "markdown",
   "id": "4452b7",
   "metadata": {
    "collapsed": false
   },
   "source": [
    "<br>\n",
    "Apparently, we need to move the books once more to the left to get the same effect. Let's try it.<br>"
   ]
  },
  {
   "cell_type": "code",
   "execution_count": 0,
   "id": "182e8d",
   "metadata": {
    "collapsed": false
   },
   "outputs": [
   ],
   "source": [
    "InitBooks(3); MoveBooks(First, Left, Left)"
   ]
  },
  {
   "cell_type": "markdown",
   "id": "bae3ec",
   "metadata": {
    "collapsed": false
   },
   "source": [
    "<br>\n",
    "This tells us that <em>b</em>&middot;<em>a</em> = <em>a</em>&middot;<em>b</em>&middot;<em>b</em>. \n",
    "This group is apparently not commutative. We enter this final definition into <em>SageMath</em>.<br>"
   ]
  },
  {
   "cell_type": "code",
   "execution_count": 0,
   "id": "dbc58d",
   "metadata": {
    "collapsed": false
   },
   "outputs": [
   ],
   "source": [
    "Define(b*a, a*b^2)"
   ]
  },
  {
   "cell_type": "markdown",
   "id": "02390c",
   "metadata": {
    "collapsed": false
   },
   "source": [
    "<br>\n",
    "If we use the <strong>Group</strong> command to find the list of elements,<br>"
   ]
  },
  {
   "cell_type": "code",
   "execution_count": 0,
   "id": "f83f37",
   "metadata": {
    "collapsed": false
   },
   "outputs": [
   ],
   "source": [
    "G = Group(); G"
   ]
  },
  {
   "cell_type": "markdown",
   "id": "f4d67b",
   "metadata": {
    "collapsed": false
   },
   "source": [
    "<br>\n",
    "we find that there are six elements.  We can make a Cayley table with the command"
   ]
  },
  {
   "cell_type": "code",
   "execution_count": 0,
   "id": "ba747d",
   "metadata": {
    "collapsed": false
   },
   "outputs": [
   ],
   "source": [
    "CayleyTable(G)"
   ]
  },
  {
   "cell_type": "markdown",
   "id": "d0df46",
   "metadata": {
    "collapsed": false
   },
   "source": [
    "<br>\n",
    "Is this really a group? We can tell from the Cayley table that <em>G</em> is closed with respect to\n",
    "multiplication, and that there is an identity element, <em>e</em>. We also recognize the familiar Latin square \n",
    "property that we have seen in all of the other Cayley tables. Since every row and every column contains \n",
    "exactly one <em>e</em>, every element has a unique inverse. The only property that we cannot check directly using the \n",
    "Cayley table is the associativity property.  <em>SageMath</em> can check this with the command"
   ]
  },
  {
   "cell_type": "code",
   "execution_count": 0,
   "id": "9a4dc2",
   "metadata": {
    "collapsed": false
   },
   "outputs": [
   ],
   "source": [
    "CheckGroup(G)"
   ]
  },
  {
   "cell_type": "markdown",
   "id": "5f54ed",
   "metadata": {
    "collapsed": false
   },
   "source": [
    "<em>SageMath</em> shows that this set a group. We call this group <em>S</em><sub>3</sub>, the permutation group on 3 objects.Can <em>SageMath</em> determine the inverse of an element?  Let's try it:<br>"
   ]
  },
  {
   "cell_type": "code",
   "execution_count": 0,
   "id": "584ae8",
   "metadata": {
    "collapsed": false
   },
   "outputs": [
   ],
   "source": [
    "(a*b)^-1"
   ]
  },
  {
   "cell_type": "markdown",
   "id": "3f395f",
   "metadata": {
    "collapsed": false
   },
   "source": [
    "<br>\n",
    "Since <em>SageMath</em> knows that <em>a</em> has order 2, and <em>b</em> has order 3, it can deduce that <em>a</em><sup>&minus;1</sup> = <em>a</em> and <em>b</em><sup>&minus;1</sup> = <em>b</em><sup>2</sup>.  Then using Proposition 2.2, \n",
    "(<em>u</em>&middot;<em>v</em>)<sup>&minus;1</sup> = <em>v</em><sup>&minus;1</sup>&middot;<em>u</em><sup>&minus;1</sup>, it can take the inverse of any element.  We see that <em>a</em>&middot;<em>b</em> is it's own inverse.\n",
    "See if you can determine which other elements or this group are their own inverse."
   ]
  },
  {
   "cell_type": "markdown",
   "id": "21fca8",
   "metadata": {
    "collapsed": false
   },
   "source": [
    "<br>\n",
    "EXPERIMENT:<br>\n",
    "You may have noticed some similarities between the group <em>S</em><sub>3</sub> and Terry's group. How are these \n",
    "two groups related? <br><br>\n",
    "\n",
    "Hint: Terry is colored with the same three colors as the books. Can you find a correspondence between an \n",
    "orientation of Terry and an arrangement of the three books? <br>"
   ]
  },
  {
   "cell_type": "markdown",
   "id": "7f4ded",
   "metadata": {
    "collapsed": false
   },
   "source": [
    "<br>\n",
    "The relationship between Terry's group and <em>S</em><sub>3</sub> becomes crystal clear when we look at the \n",
    "Cayley tables of these two. The following <em>SageMath</em> command reloads <em>S</em><sub>3</sub>, and \n",
    "displays a Cayley table.  Then it does the same thing for Terry's group.<br>"
   ]
  },
  {
   "cell_type": "code",
   "execution_count": 0,
   "id": "99f6b0",
   "metadata": {
    "collapsed": false
   },
   "outputs": [
   ],
   "source": [
    "InitGroup(\"e\")\n",
    "AddGroupVar(\"a\",\"b\")\n",
    "Define(a^2,e)\n",
    "Define(b^3,e)\n",
    "Define(b*a,a*b^2)\n",
    "G = Group()\n",
    "CayleyTable(G)\n",
    "G = InitTerry()\n",
    "CayleyTable(G)"
   ]
  },
  {
   "cell_type": "markdown",
   "id": "6243f1",
   "metadata": {
    "collapsed": false
   },
   "source": [
    "<br>\n",
    "Notice that even though the names of the elements are different, the <em>color patterns</em> in the two tables are\n",
    "identical. Since all of the group properties come from the Cayley table, these two groups must act in \n",
    "exactly the same way. We say that Terry's group and <em>S</em><sub>3</sub> are <em>isomorphic</em>. We will cover \n",
    "isomorphic groups later in Chapter 5.<br><br>\n",
    " \n",
    "Let's see an example of a larger group. The command below produces a picture of an octahedron. (Think of this as \n",
    "two square pyramids fused together at the bases.)<br>"
   ]
  },
  {
   "cell_type": "code",
   "execution_count": 0,
   "id": "015d58",
   "metadata": {
    "collapsed": false
   },
   "outputs": [
   ],
   "source": [
    "InitOctahedron()"
   ]
  },
  {
   "cell_type": "markdown",
   "id": "d47634",
   "metadata": {
    "collapsed": false
   },
   "source": [
    "<br>\n",
    "This happens to be the shape of an uncut diamond. (Many other gemstones are this shape.) There are eight triangles, which are colored with eight different colors. \n",
    "One problem a gem cutter often faces is determining the orientation he should put the gemstone before he starts to cut.  In which case, he needs to know \n",
    "all of the possible ways the octahedron can be rotated.  The set of rotations would form a group, similar to Terry's dance steps.<br><br>\n",
    "\n",
    "EXAMPLE:<br>\n",
    "Consider the group of rotations on the octahedron, and enter this group into <em>SageMath</em>.<br><br>\n",
    "\n",
    "To see the other colors we can flip over this octahedron, \n",
    "using the following command: <br>"
   ]
  },
  {
   "cell_type": "code",
   "execution_count": 0,
   "id": "ff7b81",
   "metadata": {
    "collapsed": false
   },
   "outputs": [
   ],
   "source": [
    "RotateOctahedron(a)"
   ]
  },
  {
   "cell_type": "markdown",
   "id": "c049a8",
   "metadata": {
    "collapsed": false
   },
   "source": [
    "<br>\n",
    "Notice that in the flipping, the orange and blue faces switched places, while the red and fuchsia faces went to \n",
    "the other side. We can see even more of the octahedron by rotating the face closest to us, that is, the face which \n",
    "is now black. We can rotate this one third of a turn counter-clockwise with the command <br>"
   ]
  },
  {
   "cell_type": "code",
   "execution_count": 0,
   "id": "85df79",
   "metadata": {
    "collapsed": false
   },
   "outputs": [
   ],
   "source": [
    "RotateOctahedron(b)"
   ]
  },
  {
   "cell_type": "markdown",
   "id": "53b0a2",
   "metadata": {
    "collapsed": false
   },
   "source": [
    "<br>\n",
    "Between these two actions we can see all of the colors.  But there is one more thing that we can do: rotate about \n",
    "a vertex. We can rotate the octahedron one quarter of a turn clockwise about the vertex closest to us with the \n",
    "command <br>"
   ]
  },
  {
   "cell_type": "code",
   "execution_count": 0,
   "id": "3ebd8e",
   "metadata": {
    "collapsed": false
   },
   "outputs": [
   ],
   "source": [
    "RotateOctahedron(c)"
   ]
  },
  {
   "cell_type": "markdown",
   "id": "d3bdd0",
   "metadata": {
    "collapsed": false
   },
   "source": [
    "<br>\n",
    "With these three actions we can rotate the octahedron in many different ways. The set of all actions formed by\n",
    "combining actions <em>a</em>, <em>b</em> and <em>c</em> form a group.  This group might be of interest to a diamond cutter, for instance, since it would give him all of the possibilities of orientating his diamond before he begins to cut it.<br><br>\n",
    "\n",
    "EXPERIMENT:<br>\n",
    "In the previous command, change the letter <em>c</em> to either <em>a</em> or <em>b</em>, and re-execute the \n",
    "command. Repeat this for different letters, and observe what happens. Can you get the octahedron back to the way \n",
    "it began? (The face closest to us was red, and the fuchsia face was immediately below it.)<br>"
   ]
  },
  {
   "cell_type": "markdown",
   "id": "021f14",
   "metadata": {
    "collapsed": false
   },
   "source": [
    "<br>\n",
    "In experimenting with this group you probably noticed some truisms for this group. For example, it is easy to see that <em>a</em> has order 2, <em>b</em> has order 3, and <em>c</em> has order 4.  Thus, \n",
    "<p style='text-align: center;'><em>a</em><sup>2</sup> = <em>e</em>, &emsp;&emsp;<em>b</em><sup>3</sup> = <em>e</em>,&emsp;&emsp;\n",
    "c</em><sup>4</sup> = <em>e</em>.</p>\n",
    "We can explain these statements to <em>SageMath</em>:<br>"
   ]
  },
  {
   "cell_type": "code",
   "execution_count": 2,
   "id": "224123",
   "metadata": {
    "collapsed": false
   },
   "outputs": [
   ],
   "source": [
    "InitGroup(\"e\")\n",
    "AddGroupVar(\"a\",\"b\",\"c\")\n",
    "Define(a^2,e)\n",
    "Define(b^3,e)\n",
    "Define(c^4,e)"
   ]
  },
  {
   "cell_type": "markdown",
   "id": "70d107",
   "metadata": {
    "collapsed": false
   },
   "source": [
    "<br>\n",
    "You may also have noticed that this group is not commutative. That is, <em>b</em>&middot;<em>a</em> does not do \n",
    "the same thing as <em>a</em>&middot;<em>b</em>. However, <em>b</em>&middot;<em>a</em> is another kind of flip, \n",
    "so that <em>b</em>&middot;<em>a</em>&middot;<em>b</em>&middot;<em>a</em> = <em>e</em>. To see this clearly, try the following \n",
    "command:<br>"
   ]
  },
  {
   "cell_type": "code",
   "execution_count": 0,
   "id": "18b0d6",
   "metadata": {
    "collapsed": false
   },
   "outputs": [
   ],
   "source": [
    "ShowOctahedron()\n",
    "RotateOctahedron(b,a,b,a)"
   ]
  },
  {
   "cell_type": "markdown",
   "id": "c494fd",
   "metadata": {
    "collapsed": false
   },
   "source": [
    "<br>\n",
    "This animation told us that <em>b</em>&middot;<em>a</em> is its own inverse, and so\n",
    "\n",
    "<p style='text-align: center;'><em>b</em>&middot;<em>a</em> = (<em>b</em>&middot;<em>a</em>)<sup>-1</sup> = \n",
    "<em>a</em><sup>-1</sup>&middot;<em>b</em><sup>-1</sup> = <em>a</em>&middot;<em>b</em><sup>2</sup></p>\n",
    "\n",
    "We can enter this into <em>SageMath</em> with the command <br>"
   ]
  },
  {
   "cell_type": "code",
   "execution_count": 3,
   "id": "d8faa8",
   "metadata": {
    "collapsed": false
   },
   "outputs": [
   ],
   "source": [
    "Define(b*a, a*b^2)"
   ]
  },
  {
   "cell_type": "markdown",
   "id": "757c65",
   "metadata": {
    "collapsed": false
   },
   "source": [
    "<br>\n",
    "To find some other identities, we can try to find other combinations of <em>a</em>, <em>b</em>, and <em>c</em>\n",
    "that produce the identity element. Try this out:<br>"
   ]
  },
  {
   "cell_type": "code",
   "execution_count": 0,
   "id": "2a3d41",
   "metadata": {
    "collapsed": false
   },
   "outputs": [
   ],
   "source": [
    "ShowOctahedron()\n",
    "RotateOctahedron(c,b,c,c,a)"
   ]
  },
  {
   "cell_type": "markdown",
   "id": "31127c",
   "metadata": {
    "collapsed": false
   },
   "source": [
    "<br>\n",
    "Finally, try this:<br>"
   ]
  },
  {
   "cell_type": "code",
   "execution_count": 0,
   "id": "da71c0",
   "metadata": {
    "collapsed": false
   },
   "outputs": [
   ],
   "source": [
    "ShowOctahedron()\n",
    "RotateOctahedron(c,a,c,c,c,a,b)"
   ]
  },
  {
   "cell_type": "markdown",
   "id": "76a62f",
   "metadata": {
    "collapsed": false
   },
   "source": [
    "<br>\n",
    "These animations show us that <br>\n",
    "<p style='text-align: center;'><em>c</em>&middot;<em>b</em>&middot;<em>c</em><sup>2</sup>&middot;<em>a</em> = e, \n",
    "and <em>c</em>&middot;<em>a</em>&middot;<em>c</em><sup>3</sup>&middot;<em>a</em>&middot;<em>b</em> = <em>e</em></p>\n",
    "\n",
    "Even though you probably wouldn't have discovered these on your own, you might have discovered formulas similar to \n",
    "these in your experimentation. Let's see what we can do with these two.<br><br>\n",
    "\n",
    "From the first one, we have that\n",
    "<p style='text-align: center;'><em>c</em>&middot;<em>b</em> = (<em>c</em>&middot;<em>c</em>&middot;<em>a</em>)\n",
    "<sup>-1</sup> = <em>a</em><sup>-1</sup>&middot;<em>c</em><sup>-1</sup>&middot;<em>c</em><sup>-1</sup> =\n",
    "<em>a</em>&middot;<em>c</em><sup>3</sup>&middot;<em>c</em><sup>3</sup> \n",
    "= <em>a</em>&middot;<em>c</em><sup>2</sup>.</p>\n",
    "\n",
    "From the second, we can deduce that\n",
    "<p style='text-align: center;'>\n",
    "<em>c</em>&middot;<em>a</em> = (<em>c</em><sup>3</sup>&middot;<em>a</em>&middot;<em>b</em>)<sup>-1</sup> \n",
    "= <em>b</em><sup>-1</sup>&middot;<em>a</em><sup>-1</sup>&middot;<em>c</em><sup>-3</sup> \n",
    "= <em>b</em><sup>2</sup>&middot;<em>a</em>&middot;<em>c</em><sup>9</sup> \n",
    "= <em>b</em><sup>2</sup>&middot;<em>a</em>&middot;<em>c</em>\n",
    "= <em>b</em>&middot;<em>a</em>&middot;<em>b</em><sup>2</sup>&middot;<em>c</em>\n",
    "= <em>a</em>&middot;<em>b</em><sup>2</sup>&middot;<em>b</em><sup>2</sup>&middot;<em>c</em>\n",
    "= <em>a</em>&middot;<em>b</em>&middot;<em>c</em></p>\n",
    "\n",
    "Notice that we had to use the identity <em>b</em>&middot;<em>a</em> = <em>a</em>&middot;<em>b</em><sup>2</sup>\n",
    "twice in the final computation. We can enter these properties into <em>SageMath</em> as well:<br>"
   ]
  },
  {
   "cell_type": "code",
   "execution_count": 4,
   "id": "82f005",
   "metadata": {
    "collapsed": false
   },
   "outputs": [
   ],
   "source": [
    "Define(c*a, a*b*c)\n",
    "Define(c*b, a*c^2)"
   ]
  },
  {
   "cell_type": "markdown",
   "id": "4e44dc",
   "metadata": {
    "collapsed": false
   },
   "source": [
    "<br>\n",
    "Notice that we have defined <em>b</em>&middot;<em>a</em>, <em>c</em>&middot;<em>a</em>, and \n",
    "<em>c</em>&middot;<em>b</em> in terms of operations that are performed in &quot;alphabetical order.&quot; This is\n",
    "a very good strategy for defining any group. If <em>SageMath</em> can sort <em>b</em>&middot;<em>a</em>, \n",
    "<em>c</em>&middot;<em>a</em>, and <em>c</em>&middot;<em>b</em> into alphabetical order, then it can manipulate\n",
    "any combination of operations until it produces a form in alphabetical order. This is not the only way that we can \n",
    "define a group in <em>SageMath</em>, but it is the one of the most efficient. Thus, <em>SageMath</em> should have all of \n",
    "the information it needs to determine the group.<br><br>\n",
    "\n",
    "Let's plunge ahead and find out what this group looks like.<br>"
   ]
  },
  {
   "cell_type": "code",
   "execution_count": 5,
   "id": "1c5ae3",
   "metadata": {
    "collapsed": false
   },
   "outputs": [
    {
     "data": {
      "text/plain": [
       "{e, a, b, a*b, b^2, a*b^2, c, a*c, b*c, a*b*c, b^2*c, a*b^2*c, c^2, a*c^2, b*c^2, a*b*c^2, b^2*c^2, a*b^2*c^2, c^3, a*c^3, b*c^3, a*b*c^3, b^2*c^3, a*b^2*c^3}"
      ]
     },
     "execution_count": 5,
     "metadata": {
     },
     "output_type": "execute_result"
    }
   ],
   "source": [
    "G = Group(); G"
   ]
  },
  {
   "cell_type": "markdown",
   "id": "2f15e1",
   "metadata": {
    "collapsed": false
   },
   "source": [
    "<br>\n",
    "Is this a group? We can have <em>SageMath</em> verify it for us. "
   ]
  },
  {
   "cell_type": "code",
   "execution_count": 6,
   "id": "20e6d3",
   "metadata": {
    "collapsed": false
   },
   "outputs": [
    {
     "name": "stdout",
     "output_type": "stream",
     "text": [
      "This set of elements is a group.\n"
     ]
    }
   ],
   "source": [
    "CheckGroup(G)"
   ]
  },
  {
   "cell_type": "markdown",
   "id": "2bdeba",
   "metadata": {
    "collapsed": false
   },
   "source": [
    "<br>\n",
    "We call this the octahedral group. How large is it?  Well, we can either squint and count commas, or we can use \n",
    "the command<br>"
   ]
  },
  {
   "cell_type": "code",
   "execution_count": 0,
   "id": "ed934a",
   "metadata": {
    "collapsed": false
   },
   "outputs": [
   ],
   "source": [
    "len(G)"
   ]
  },
  {
   "cell_type": "markdown",
   "id": "a8a4da",
   "metadata": {
    "collapsed": false
   },
   "source": [
    "<br>\n",
    "and have <em>SageMath</em> count for us. Either way, we find we have 24 elements in our group.<br><br>\n",
    "Of course, this group is too large to print a complete Cayley table, but watch what happens:<br>"
   ]
  },
  {
   "cell_type": "code",
   "execution_count": 0,
   "id": "bf0808",
   "metadata": {
    "collapsed": false
   },
   "outputs": [
   ],
   "source": [
    "CayleyTable(G)"
   ]
  },
  {
   "cell_type": "markdown",
   "id": "9fe915",
   "metadata": {
    "collapsed": false
   },
   "source": [
    "<br>\n",
    "Each element is color coded in one of 24 colors, and this code is given by the list on the left. <em>SageMath</em> is able to produce a color-coded table for groups of up to 27 elements.  Can you use this \n",
    "table to find the elements which are their own inverses?<br><br>\n",
    "\n",
    "We can use <em>SageMath</em> to find the order of an element with the <strong>ElementOrder</strong> command.  For example, the order of the element <em>a</em>&middot;<em>c</em> can be found by typing"
   ]
  },
  {
   "cell_type": "code",
   "execution_count": 7,
   "id": "f691fa",
   "metadata": {
    "collapsed": false
   },
   "outputs": [
    {
     "data": {
      "text/plain": [
       "3"
      ]
     },
     "execution_count": 7,
     "metadata": {
     },
     "output_type": "execute_result"
    }
   ],
   "source": [
    "ElementOrder(a*c)"
   ]
  },
  {
   "cell_type": "markdown",
   "id": "5e158d",
   "metadata": {
    "collapsed": false
   },
   "source": [
    "to see that the order of the element is 3.  There is a trick for finding the orders of all of the elements of a group at the same time."
   ]
  },
  {
   "cell_type": "code",
   "execution_count": 8,
   "id": "4e0653",
   "metadata": {
    "collapsed": false
   },
   "outputs": [
    {
     "data": {
      "text/plain": [
       "[1, 2, 3, 2, 3, 2, 4, 3, 4, 3, 2, 2, 2, 4, 3, 4, 3, 2, 4, 3, 2, 3, 4, 2]"
      ]
     },
     "execution_count": 8,
     "metadata": {
     },
     "output_type": "execute_result"
    }
   ],
   "source": [
    "[ ElementOrder(x) for x in G ]"
   ]
  },
  {
   "cell_type": "markdown",
   "id": "f5ac7a",
   "metadata": {
    "collapsed": false
   },
   "source": [
    "We find that every element of this group besides the identity has order 2, 3, or 4.  There is a geometrical reason for this: every element represents a rotation of \n",
    "either &plusmn;90&deg;, &plusmn;120&deg;, or 180&deg;.  In fact, there are 9 elements of order 2, 8 elements of order 3, and 6 elements of order 4.<br><br>\n",
    "\n",
    "With <em>SageMath</em>, we are able to create new groups to study.  These examples help us to find patterns in the structure of all groups.  In the next section we will study the substructure of a group, by finding smaller groups withing a group."
   ]
  },
  {
   "cell_type": "markdown",
   "id": "9560e3",
   "metadata": {
    "collapsed": false
   },
   "source": [
    "<a name=\"sec33\" id=\"sec33\"></a>\n",
    "<h1>Subgroups</h1>\n",
    "\n",
    "<br>\n",
    "A natural question to ask is whether we can have a smaller group inside of a \n",
    "particular group. Whenever we have a group <em>G</em>, we say that <em>H</em> is a <em>subset</em> of <em>G</em>, denoted\n",
    "<p  style='text-align: center;'><em>H</em> &sube; <em>G</em>,</p>\n",
    "\n",
    "if <em>H</em> consists only of the elements of  <em>G</em>. The empty set {&thinsp;} is always considered to be a subset, \n",
    "but we will restrict our attention to non-empty subsets. We are particularly interested if the set <em>H</em>\n",
    "forms a group, since we then would have a &quot;group within a group.&quot;<br><br>\n",
    "\n",
    "DEFINITION&nbsp;&nbsp;2.4<br>\n",
    "We say that <em>H</em> is a <em>subgroup</em> of <em>G</em> if <em>H</em> is a non-empty subset of <em>G</em>\n",
    "and  <em>H</em>  is a group with respect to the operation  (&middot;) of <em>G</em>.<br><br>\n",
    "\n",
    "It should be noted that all non-trivial groups have at least two subgroups.  One subgroup contains just the identity element {<em>e</em>}, while another contains all of the \n",
    "elements of <em>G</em>.  These two subgroups are called the <em>trivial subgroups</em>.<br><br>\n",
    "\n",
    "For <em>H</em> to be a group, it must satisfy the 4 properties of groups. But the associative property of \n",
    "<em>H</em> is guaranteed because <em>G</em> is associative. Thus, we need these three properties to be true:<br><br>\n",
    "<ol>\n",
    "<li><em>H</em> is closed under multiplication.  That is,</li>\n",
    "<p  style='text-align: center;'>if <em>x</em> and <em>y</em> &isin; <em>H</em>, then <em>x</em>&middot;<em>y</em> &isin; <em>H</em>.</p>\n",
    "\n",
    "<li>The identity element of <em>G</em> is in <em>H</em>.</li><br>\n",
    "\n",
    "<li>Every element of <em>H</em> has its inverse in <em>H</em>.  That is,</li>\n",
    "<p  style='text-align: center;'>if <em>x</em> &isin; <em>H</em>, then <em>x</em><sup>-1</sup> &isin; <em>H</em>.</p>\n",
    "</ol>\n",
    "<br>\n",
    "These three properties can be combined into one simple test."
   ]
  },
  {
   "cell_type": "markdown",
   "id": "c3feba",
   "metadata": {
    "collapsed": false
   },
   "source": [
    "<a name=\"prop32ret\" id=\"prop32ret\"></a>\n",
    "PROPOSITION 3.2<br>\n",
    "\n",
    "Let <em>H</em> &sube; <em>G</em>, and   <em>H</em> &ne; { }. Then <em>H</em> is a subgroup of <em>G</em> if, and only if, we have\n",
    "<p  style='text-align: center;'><em>x</em>&middot;<em>y</em><sup>-1</sup> &isin; <em>H</em>&nbsp;&nbsp; for all &nbsp;&nbsp;<em>x</em>, <em>y</em> &isin; <em>H</em>.</p>\n",
    "\n",
    "<a href=\"#prop32\">Click here for the proof.</a>\n",
    "\n",
    "<p />\n",
    "Let us look at an example. The following commands reload the group <em>S</em><sub>3</sub>, the permutation group on three objects, into <em>SageMath</em>.<br>"
   ]
  },
  {
   "cell_type": "code",
   "execution_count": 0,
   "id": "b2be36",
   "metadata": {
    "collapsed": false
   },
   "outputs": [
   ],
   "source": [
    "InitGroup(\"e\")\n",
    "AddGroupVar(\"a\",\"b\")\n",
    "Define(a^2,e)\n",
    "Define(b^3,e)\n",
    "Define(b*a,a*b^2)\n",
    "G = Group(); G"
   ]
  },
  {
   "cell_type": "markdown",
   "id": "ab0bd9",
   "metadata": {
    "collapsed": false
   },
   "source": [
    "<br>\n",
    "Even though this is a fairly small group (6 elements) we can still find smaller groups within this one.  For\n",
    "example, consider the subset\n",
    "<p  style='text-align: center;'><em>H</em> = {<em>e</em>, <em>b</em>, <em>b</em><sup>2</sup>}.</p>\n",
    "It is easy to see that if <em>x</em> and <em>y</em> are in <em>H</em>, then <em>x</em>&middot;<em>y</em><sup>-1</sup> is in <em>H</em> . (There are nine multiplications \n",
    "to check.)  Therefore, this is a subgroup.<br><br>\n",
    "\n",
    "How can we verify this is a subgroup using <em>SageMath</em>? Let us look at the Cayley table for <em>H</em>:\n",
    "<br>"
   ]
  },
  {
   "cell_type": "code",
   "execution_count": 0,
   "id": "90fb80",
   "metadata": {
    "collapsed": false
   },
   "outputs": [
   ],
   "source": [
    "CayleyTable([e, b, b^2])"
   ]
  },
  {
   "cell_type": "markdown",
   "id": "b4cde5",
   "metadata": {
    "collapsed": false
   },
   "source": [
    "<br>\n",
    "Since there are no black squares in this table, it is closed under multiplication. \n",
    "Also, every row and column contains one <em>e</em>, so inverses exist for every element. Thus, <em>H</em> is a subgroup of <em>S</em><sub>3</sub>.<br><br>\n",
    "\n",
    "Try the following subset instead:<br>"
   ]
  },
  {
   "cell_type": "code",
   "execution_count": 0,
   "id": "afd64c",
   "metadata": {
    "collapsed": false
   },
   "outputs": [
   ],
   "source": [
    "CayleyTable([e, a, b])"
   ]
  },
  {
   "cell_type": "markdown",
   "id": "d47483",
   "metadata": {
    "collapsed": false
   },
   "source": [
    "<br>\n",
    "Notice the black squares in the table. This indicates that the subset is not closed under multiplication, and hence is not a subgroup.<br><br>\n",
    " \n",
    "EXPERIMENT:<br>\n",
    "Try changing the subset in the above command to see if you can find other subgroups of <em>S</em><sub>3</sub>.\n",
    "How many are there? Don't forget the group itself can be considered to be a subgroup. What about the set \n",
    "containing just the identity?<br>"
   ]
  },
  {
   "cell_type": "markdown",
   "id": "d30e78",
   "metadata": {
    "collapsed": false
   },
   "source": [
    "<br>\n",
    "Here is another example. Recall that &#8484; is the group of integers using addition as the operation. If we let \n",
    "<em>k</em> be any integer then we can let\n",
    "<p  style='text-align: center;'><em>k</em> &#8484; = { <em>k</em>&middot;<em>x</em> | <em>x</em> &isin; &#8484; }.</p>\n",
    "The vertical line is read &quot;for which.&quot; Thus, <em>k</em> &#8484; is the set of &quot;all numbers \n",
    "which can be expressed as <em>k</em>&middot;<em>x</em> for which <em>x</em> is an integer.&quot; In other \n",
    "words, <em>k</em> &#8484; is the set of all multiples of <em>k</em>. It is clear that <em>k</em> &#8484; is a\n",
    "group under addition, since the difference of two multiples of <em>k</em> gives another multiple of <em>k</em>. <br><br>\n",
    "\n",
    "One of the main tools we will use to find subgroups of a group is the <em>intersection</em>.  Given two subsets <em>H</em> and <em>K</em> of <em>G</em>, the <em>SageMath</em> \n",
    "command <strong>Intersection</strong> finds the set of elements that are in both subsets, denoted <em>H</em> &cap; <em>K</em>.  For example, if we are given two sets\n",
    "<br>"
   ]
  },
  {
   "cell_type": "code",
   "execution_count": 0,
   "id": "55c6e0",
   "metadata": {
    "collapsed": false
   },
   "outputs": [
   ],
   "source": [
    "H = [e, b, b^2]\n",
    "K = [e, a]"
   ]
  },
  {
   "cell_type": "markdown",
   "id": "0e3cc7",
   "metadata": {
    "collapsed": false
   },
   "source": [
    "<br>\n",
    "then the <em>SageMath</em> command<br>"
   ]
  },
  {
   "cell_type": "code",
   "execution_count": 0,
   "id": "df8ae5",
   "metadata": {
    "collapsed": false
   },
   "outputs": [
   ],
   "source": [
    "Intersection(H, K)"
   ]
  },
  {
   "cell_type": "markdown",
   "id": "9f4fa1",
   "metadata": {
    "collapsed": false
   },
   "source": [
    "<br>\n",
    "finds the set of all elements in common with <em>H</em> and <em>K</em>. Note that sets are <em>entered</em> \n",
    "in <em>SageMath</em> using\n",
    "square brackets, even though they are often displayed using curly braces.  (Technically, using square brackets \n",
    "produce a list of elements, which\n",
    "acts similar to a set.  But the <em>SageMath</em> routines know to treat a list as if it were a set.)  Moreover, \n",
    "we can consider taking the intersection of a collection of many sets. If we let<br>"
   ]
  },
  {
   "cell_type": "code",
   "execution_count": 0,
   "id": "0fb581",
   "metadata": {
    "collapsed": false
   },
   "outputs": [
   ],
   "source": [
    "L = [[e, a, b], [e, a*b, b], [e, a, b, b^2]]"
   ]
  },
  {
   "cell_type": "markdown",
   "id": "26f3e0",
   "metadata": {
    "collapsed": false
   },
   "source": [
    "<br>\n",
    "then <em>L</em> represents a &quot;set of sets.&quot; We can take the intersection of all of the sets in this collection with the command<br>"
   ]
  },
  {
   "cell_type": "code",
   "execution_count": 0,
   "id": "8782a3",
   "metadata": {
    "collapsed": false
   },
   "outputs": [
   ],
   "source": [
    "Intersection(L)"
   ]
  },
  {
   "cell_type": "markdown",
   "id": "9d94be",
   "metadata": {
    "collapsed": false
   },
   "source": [
    "<br>\n",
    "The mathematical notation for this intersection is\n",
    "<table align=\"center\" width=\"120\" border=\"0\" cellspacing=\"0\" cellpadding=\"0\">\n",
    "  <tr>\n",
    "    <td align=\"center\"><font face=\"Times New Roman, Times, serif\" size=\"+4\">&cap;</font></td>\n",
    "    <td align=\"left\"><em>H</em>.&ensp;&ensp;&ensp;&ensp;&ensp;&ensp;</td>\n",
    "  </tr>\n",
    "  <tr>\n",
    "    <td align=\"center\" valign=\"top\"><em>H</em> &isin; <em>L</em></td>\n",
    "    <td></td>\n",
    "  </tr>\n",
    "</table>\n",
    "\n",
    "We could ask whether the intersection of two <em>subgroups</em> of <em>G</em> forms a subgroup of <em>G</em>.\n",
    "The next proposition shows us that indeed, the intersection of subgroups forms a new subgroup."
   ]
  },
  {
   "cell_type": "markdown",
   "id": "cb1950",
   "metadata": {
    "collapsed": false
   },
   "source": [
    "<a name=\"prop33ret\" id=\"prop33ret\"></a>\n",
    "PROPOSITION 3.3<br>\n",
    "\n",
    "Given a group <em>G</em> and a non-empty collection of subgroups, denoted by <em>L</em>, then the intersection of all of the subgroups in the collection \n",
    "<table align=\"center\" width=\"160\" border=\"0\" cellspacing=\"0\" cellpadding=\"0\">\n",
    "  <tr>\n",
    "    <td align=\"right\"><em>H</em><sup>&ast;</sup> = </td>\n",
    "    <td align=\"center\"><font face=\"Times New Roman, Times, serif\" size=\"+4\">&cap;</font></td>\n",
    "    <td align=\"left\"><em>H</em>&ensp;&ensp;&ensp;&ensp;&ensp;&ensp;</td>\n",
    "  </tr>\n",
    "  <tr>\n",
    "    <td></td>\n",
    "    <td align=\"center\" valign=\"top\"><em>H</em> &isin; <em>L</em></td>\n",
    "    <td></td>\n",
    "  </tr>\n",
    "</table>\n",
    "is a subgroup of <em>G</em>.<br><br>\n",
    "\n",
    "<a href=\"#prop33\">Click here for the proof.</a>\n",
    "\n",
    "<p />\n",
    "This proposition provides us with a general method of producing the subgroups of a group <em>G</em>. \n",
    "Let <em>S</em> be any subset of <em>G</em>. We can consider the collection of all subgroups of <em>G</em> \n",
    "which contain the set <em>S</em>, denoted by <span><em>L</em></span>.\n",
    "\n",
    "<br><br>\n",
    "DEFINITION 3.5<br>\n",
    "Given a subset <em>S</em> of a group <em>G</em>, we define the <em>subgroup generated by S</em> to be\n",
    "<table align=\"center\" width=\"160\" border=\"0\" cellspacing=\"0\" cellpadding=\"0\">\n",
    "  <tr>\n",
    "    <td align=\"right\">[<em>S</em>] = </td>\n",
    "    <td align=\"center\"><font face=\"Times New Roman, Times, serif\" size=\"+4\">&cap;</font></td>\n",
    "    <td align=\"left\"><em>H,&ensp;&ensp;&ensp;&ensp;&ensp;&ensp;</em></td>\n",
    "  </tr>\n",
    "  <tr>\n",
    "    <td></td>\n",
    "    <td align=\"center\" valign=\"top\"><em>H</em> &isin; <em>L</em></td>\n",
    "    <td></td>\n",
    "  </tr>\n",
    "</table>\n",
    "\n",
    "where <em>L</em> denotes the collection of subgroups of <em>G</em> that contains the set <em>S</em>.\n",
    "\n",
    "<br><br>\n",
    "By Proposition 3.3, this a subgroup of <em>G</em>. (The collection <em>L</em> is non-empty since it contains \n",
    "<em>G</em>.)  By the way that the collection was defined, [<em>S</em>] contains <em>S</em>.\n",
    "Actually, [<em>S</em>] is the <em>smallest</em> subgroup of <em>G</em> that contains <em>S</em>. For if \n",
    "<em>H</em> is a subgroup of <em>G</em> containing <em>S</em>, then <em>H</em> &isin; <em>L</em>, so that\n",
    "[<em>S</em>] &sube; <em>H</em>.\n",
    "\n",
    "<br><br>\n",
    "We can define [<em>S</em>] in another way. It is clear that [<em>S</em>] contains all of the products of the form<br><br>\n",
    "\n",
    "<table border=0 cellspacing=0 cellpadding=0 align=center class=\"equation\">\n",
    "  <tr>\n",
    "    <td nowrap >(*)</td>\n",
    "    <td></td>\n",
    "    <td nowrap><em>x</em><sub>1</sub>&middot;<em>x</em><sub>2</sub>&middot;<em>x</em><sub>3</sub>&middot; &middot;&middot;&middot; &middot;<em>x<sub>n</sub></em>,</td>\n",
    "    <td></td>\n",
    "  </tr>\n",
    "</table>\n",
    "\n",
    "<br>\n",
    "where either <em>x<sub>k</sub></em> &isin; <em>S</em> or <em>x<sub>k</sub></em><sup>-1</sup> &isin; <em>S</em>, \n",
    "(1 &le; <em>k</em> &le; <em>n</em>).<br>\n",
    "\n",
    "<br>\n",
    "Notice that the set of all these products forms a subgroup <em>H</em> of <em>G</em>, and this subgroup contains <em>S</em>. Thus, [<em>S</em>] &sube; <em>H</em>.  But \n",
    "any element of the form (*) must be in [<em>S</em>]. Thus we also have <em>H</em> &sube; [<em>S</em>].  Therefore <em>H</em> = [<em>S</em>].  In other \n",
    "words, [<em>S</em>] is the subgroup of <em>G</em> consisting of all products of the form (*).<br><br>\n",
    " \n",
    "In fact, the <em>SageMath</em> command <strong>Group</strong> finds [<em>S</em>] for any set <em>S</em>. If <em>S</em>\n",
    "is a set of generators of the group <em>G</em>, then [<em>S</em>] = <em>G</em>, so we produced the entire group with the command <strong>Group(S)</strong>.  Yet for \n",
    "other sets, we can use the <strong>Group</strong> command to find the subgroups of a given group.<br><br>\n",
    "\n",
    "For example, consider the group <em>S</em><sub>3</sub>:<br>"
   ]
  },
  {
   "cell_type": "code",
   "execution_count": 0,
   "id": "87c02f",
   "metadata": {
    "collapsed": false
   },
   "outputs": [
   ],
   "source": [
    "InitGroup(\"e\")\n",
    "AddGroupVar(\"a\",\"b\")\n",
    "Define(a^2,e)\n",
    "Define(b^3,e)\n",
    "Define(b*a,a*b^2)\n",
    "Group()"
   ]
  },
  {
   "cell_type": "markdown",
   "id": "b0dc1c",
   "metadata": {
    "collapsed": false
   },
   "source": [
    "<br>\n",
    "Now we can try out the group command to find [<em>S</em>] for different sets <em>S</em>. For example, what if <em>S</em> = {<em>b</em>}?  Try it out for yourself:\n",
    "</p>"
   ]
  },
  {
   "cell_type": "code",
   "execution_count": 0,
   "id": "7b0cdb",
   "metadata": {
    "collapsed": false
   },
   "outputs": [
   ],
   "source": [
    "Group(b)"
   ]
  },
  {
   "cell_type": "markdown",
   "id": "815587",
   "metadata": {
    "collapsed": false
   },
   "source": [
    "<br>\n",
    "This gives us the subgroup of order 3 that we saw before. What if <em>S</em> is the set {<em>b</em>, <em>a</em>&middot;<em>b</em>}?<br>"
   ]
  },
  {
   "cell_type": "code",
   "execution_count": 0,
   "id": "b40b4e",
   "metadata": {
    "collapsed": false
   },
   "outputs": [
   ],
   "source": [
    "Group(b, a*b)"
   ]
  },
  {
   "cell_type": "markdown",
   "id": "95d342",
   "metadata": {
    "collapsed": false
   },
   "source": [
    "which produces the whole group.  So {<em>b</em>, <em>a</em>&middot;<em>b</em>}\n",
    "is also a set of generators for the group.<br><br>"
   ]
  },
  {
   "cell_type": "code",
   "execution_count": 0,
   "id": "fc6242",
   "metadata": {
    "collapsed": false
   },
   "outputs": [
   ],
   "source": [
    "Group(a, b)"
   ]
  },
  {
   "cell_type": "markdown",
   "id": "550f97",
   "metadata": {
    "collapsed": false
   },
   "source": [
    "EXPERIMENT:<br>\n",
    "By using the <strong>Group</strong> command, find all of the subgroups of <em>G</em>. How many are there? <br>"
   ]
  },
  {
   "cell_type": "markdown",
   "id": "b72f34",
   "metadata": {
    "collapsed": false
   },
   "source": [
    "In order to find all of the subgroups of a given group <em>G</em>, we will begin by finding all of the <em>cyclic</em> subgroups.  Recall that we defined a group to be <em>cyclic</em> if there was one element in the group that generates the entire group.  So a cyclic subgroup of <em>G</em> would be a subgroup generated by a single element <em>S</em> = {<em>x</em>} of the group.  In which case, we can use the notation [<em>x</em>] instead of  [{<em>x</em>}].  \n",
    "\n",
    " \n",
    "EXAMPLE:<br>\n",
    "Find all of the cyclic subgroups of <em>S</em><sub>3</sub>.<br><br>\n",
    "\n",
    "The process of finding all of the cyclic subgroups is similar to finding the generators of a group.  For each element, we consider raising that element to higher and higher \n",
    "powers until we produce the identity element.<br><br>\n",
    "\n",
    "<table align=\"center\" border=\"0\" cellspacing=\"0\" cellpadding=\"0\">\n",
    "  <tr>\n",
    "    <td align=\"left\">(<em>e</em>)<sup>1</sup> = <em>e</em>.</td>\n",
    "    <td></td>\n",
    "    <td></td>\n",
    "  </tr>  \n",
    "  <tr>  \n",
    "    <td align=\"left\">(<em>a</em>)<sup>1</sup> = <em>a</em>,</td>  \n",
    "    <td align=\"left\">(<em>a</em>)<sup>2</sup> = <em>e</em>.</td>\n",
    "    <td></td>    \n",
    "  </tr>  \n",
    "  <tr>    \n",
    "    <td align=\"left\">(<em>b</em>)<sup>1</sup> = <em>b</em>,</td>  \n",
    "    <td align=\"left\">(<em>b</em>)<sup>2</sup> = <em>b</em><sup>2</sup>,</td>\n",
    "    <td align=\"left\">&emsp; (<em>b</em>)<sup>3</sup> = <em>e</em>.</td>\n",
    "  </tr>  \n",
    "  <tr>     \n",
    "    <td align=\"left\">(<em>a</em>&middot;<em>b</em>)<sup>1</sup> = <em>a</em>&middot;<em>b</em>,</td>  \n",
    "    <td align=\"left\">(<em>a</em>&middot;<em>b</em>)<sup>2</sup> = <em>e</em>.</td>\n",
    "    <td></td>\n",
    "  </tr>  \n",
    "  <tr>  \n",
    "    <td align=\"left\">(<em>b</em><sup>2</sup>)<sup>1</sup> = <em>b</em><sup>2</sup>,</td>\n",
    "    <td align=\"left\">(<em>b</em><sup>2</sup>)<sup>2</sup> = <em>b</em>,</td>\n",
    "    <td align=\"left\">&emsp; (<em>b</em><sup>2</sup>)<sup>3</sup> = <em>e</em>.</td>\n",
    "  </tr>  \n",
    "  <tr>     \n",
    "    <td align=\"left\">(<em>a</em>&middot;<em>b</em><sup>2</sup>)<sup>1</sup> = <em>a</em>&middot;<em>b</em><sup>2</sup>,</td>  \n",
    "    <td align=\"left\">(<em>a</em>&middot;<em>b</em><sup>2</sup>)<sup>2</sup> = <em>e</em>.</td>\n",
    "    <td></td>  \n",
    "  </tr>  \n",
    "</table>\n",
    "<br>\n",
    "\n",
    "Thus, there are 5 cyclic subgroups, {<em>e</em>}, {<em>e</em>, <em>a</em>}, {<em>e</em>, <em>b</em>, <em>b</em><sup>2</sup>}, \n",
    "{<em>e</em>, <em>a</em>&middot;<em>b</em>}, and {<em>e</em>, <em>a</em>&middot;<em>b</em><sup>2</sup>}.  Notice that none of the elements were generators, \n",
    "so the group itself is not cyclic.<br><br>\n",
    " \n",
    "<br>\n",
    "Let's look at a larger group. We found the octahedral group had order 24. Recall that the group was entered with the following <em>SageMath</em> commands.<br>"
   ]
  },
  {
   "cell_type": "code",
   "execution_count": 0,
   "id": "e60ea9",
   "metadata": {
    "collapsed": false
   },
   "outputs": [
   ],
   "source": [
    "InitGroup(\"e\")\n",
    "AddGroupVar(\"a\",\"b\",\"c\")\n",
    "Define(a^2, e)\n",
    "Define(b^3, e)\n",
    "Define(c^4, e)\n",
    "Define(b*a, a*b^2)\n",
    "Define(c*a, a*b*c)\n",
    "Define(c*b, a*c^2)\n",
    "G = Group(); G"
   ]
  },
  {
   "cell_type": "markdown",
   "id": "e8b613",
   "metadata": {
    "collapsed": false
   },
   "source": [
    "<br>\n",
    "For any set <em>S</em> we can find the subgroup [<em>S</em>] by typing <strong>G = Group(S)</strong><br><br>For example, suppose that the <em>S</em> is the single \n",
    "element {<em>c</em>}.  We would type<br>"
   ]
  },
  {
   "cell_type": "code",
   "execution_count": 0,
   "id": "2a0161",
   "metadata": {
    "collapsed": false
   },
   "outputs": [
   ],
   "source": [
    "Group(c)"
   ]
  },
  {
   "cell_type": "markdown",
   "id": "06c79b",
   "metadata": {
    "collapsed": false
   },
   "source": [
    "<br>\n",
    "and find we have a subgroup of order 4.<br><br>\n",
    " \n",
    "We can try other combinations of elements. For example, <em>S</em> = {<em>b</em>, <em>c</em>}:<br>"
   ]
  },
  {
   "cell_type": "code",
   "execution_count": 0,
   "id": "b10470",
   "metadata": {
    "collapsed": false
   },
   "outputs": [
   ],
   "source": [
    "Group(b, c)"
   ]
  },
  {
   "cell_type": "markdown",
   "id": "f56873",
   "metadata": {
    "collapsed": false
   },
   "source": [
    "<br>\n",
    "This appears as big as the whole group. Let's double check: <br>"
   ]
  },
  {
   "cell_type": "code",
   "execution_count": 0,
   "id": "930f3e",
   "metadata": {
    "collapsed": false
   },
   "outputs": [
   ],
   "source": [
    "len(_)"
   ]
  },
  {
   "cell_type": "markdown",
   "id": "c039be",
   "metadata": {
    "collapsed": false
   },
   "source": [
    "<br>\n",
    "Since the size of this subgroup is 24 it must be the entire group. This means that the group can be generated \n",
    "with just two of the elements.<br><br>\n",
    "\n",
    "Why then did we use three elements to define the group originally? It turns out to be <em>more efficient</em> to define the group in <em>SageMath</em> using three elements \n",
    "rather than two!  Besides, it is much easier to put the octahedron back into its original position when one can flip the whole thing over. <br><br>\n",
    "\n",
    "Here is another subgroup:<br>"
   ]
  },
  {
   "cell_type": "code",
   "execution_count": 0,
   "id": "28cbc6",
   "metadata": {
    "collapsed": false
   },
   "outputs": [
   ],
   "source": [
    "Group(a, b)"
   ]
  },
  {
   "cell_type": "markdown",
   "id": "d2aa02",
   "metadata": {
    "collapsed": false
   },
   "source": [
    "<br>\n",
    "Wait!  This looks familiar. Where have we seen this before? <br> <br>\n",
    " \n",
    "Look back at the definition of <em>S</em><sub>3</sub>. We had <em>a</em> and <em>b</em> as the generators, and \n",
    "we even had <em>a</em><sup>2</sup> = e, <em>b</em><sup>3</sup> = e, \n",
    "and <em>b</em>&middot;<em>a</em> = <em>a</em>&middot;<em>b</em><sup>2</sup>. But these rules are all true of this \n",
    "subgroup of the octahedral group. Therefore, these are the same groups. We have found a copy of \n",
    "<em>S</em><sub>3</sub> inside of the octahedral group.<br>\n",
    "\n",
    "For all of the examples we have seen in computing [<em>x</em>], the power of the element <em>x</em> eventually reached the identity element, \n",
    "indicating that we have finished finding the cyclic subgroup.  Here is a proof that shows this will always happen for a finite subgroup."
   ]
  },
  {
   "cell_type": "markdown",
   "id": "c24bd6",
   "metadata": {
    "collapsed": false
   },
   "source": [
    "<a name=\"prop34ret\" id=\"prop34ret\"></a>\n",
    "PROPOSITION 3.4<br>\n",
    "\n",
    "Let <em>G</em> be a finite group, and <em>x</em> &in; <em>G</em>.  Then <em>x</em> will have finite order <em>n</em> and |[<em>x</em>]| = <em>n</em>.   Furthermore,<br>\n",
    "<p style='text-align: center;'>[<em>x</em>] = {<em>e</em>, <em>x</em>, <em>x</em><sup>2</sup>, \n",
    "<em>x</em><sup>3</sup>, &hellip;, <em>x</em><sup><em>n</em>&minus;1</sup>}.</p>\n",
    "\n",
    "<a href=\"#prop34\">Click here for the proof.</a>\n",
    "\n",
    "<p />\n",
    "\n",
    "EXAMPLE:<br>\n",
    "Find the cyclic subgroups of the group  <em>Z</em><sub>15</sub><sup>&ast;</sup> = {1, 2, 4, 7, 8, 11, 13, 14}, showing the orders of the elements.<br><br>\n",
    "\n",
    "We compute powers of each element until we reach the identity.<br><br>\n",
    "<table align=\"center\" border=\"0\" cellspacing=\"0\" cellpadding=\"0\">\n",
    "  <tr>\n",
    "    <td align=\"right\">&emsp; 1<sup>1</sup> = 1.&ensp;</td>\n",
    "    <td></td>\n",
    "    <td></td>  \n",
    "    <td></td>\n",
    "  </tr>  \n",
    "  <tr>  \n",
    "    <td align=\"right\">2<sup>1</sup> = 2,&ensp;</td>  \n",
    "    <td align=\"right\">2<sup>2</sup> = 4,</td>\n",
    "    <td align=\"right\">2<sup>3</sup> = 8,&ensp;</td>\n",
    "    <td align=\"right\">2<sup>4</sup> = 1.</td>\n",
    "  </tr>  \n",
    "  <tr>     \n",
    "    <td align=\"right\">&emsp; 4<sup>1</sup> = 4,&ensp;</td>  \n",
    "    <td align=\"right\">&emsp; 4<sup>2</sup> = 1.</td>\n",
    "    <td></td>\n",
    "    <td></td>    \n",
    "  </tr>  \n",
    "  <tr>   \n",
    "    <td align=\"right\">&emsp; 7<sup>1</sup> = 7,&ensp;</td>  \n",
    "    <td align=\"right\">&emsp; 7<sup>2</sup> = 4,</td>\n",
    "    <td align=\"right\">&emsp; 7<sup>3</sup> = 13,</td>\n",
    "    <td align=\"right\">&emsp; 2<sup>4</sup> = 1.</td>\n",
    "  </tr>  \n",
    "  <tr>   \n",
    "    <td align=\"right\">&emsp; 8<sup>1</sup> = 8,&ensp;</td>  \n",
    "    <td align=\"right\">&emsp; 8<sup>2</sup> = 4,</td>\n",
    "    <td align=\"right\">&emsp; 8<sup>3</sup> = 2,&ensp;</td>\n",
    "    <td align=\"right\">&emsp; 8<sup>4</sup> = 1.</td>\n",
    "  </tr>  \n",
    "  <tr>  \n",
    "    <td align=\"right\">11<sup>1</sup> = 11,</td>  \n",
    "    <td align=\"right\">11<sup>2</sup> = 1.</td>\n",
    "    <td></td>\n",
    "    <td></td>    \n",
    "  </tr>  \n",
    "  <tr>    \n",
    "    <td align=\"right\">13<sup>1</sup> = 13,</td>  \n",
    "    <td align=\"right\">13<sup>2</sup> = 4,</td>\n",
    "    <td align=\"right\">13<sup>3</sup> = 7,&ensp;</td>\n",
    "    <td align=\"right\">13<sup>4</sup> = 1.</td>\n",
    "  </tr>  \n",
    "  <tr>     \n",
    "    <td align=\"right\">14<sup>1</sup> = 14,</td>  \n",
    "    <td align=\"right\">14<sup>2</sup> = 1.</td>  \n",
    "    <td></td>\n",
    "    <td></td>         \n",
    "  </tr>\n",
    "</table>\n",
    "<br>\n",
    "Thus, we see that the cyclic subgroups are [1] = {1}, [2] = [8] = {1,2,4,8}, [4] = {1, 4}, \n",
    "[7] = [13] = {1,4,7,13}, [11] = {1, 11}, [14] = {1, 14}.  We also see that 1 has order 1, the elements 4, 11, and 14 have order 2, and the elements 2, 7, 8, and 13 have order 4.  Note that this group lacks a generator.<br><br>\n",
    "\n",
    "We can make a similar observation if we have an <em>infinite</em> cyclic subgroup."
   ]
  },
  {
   "cell_type": "markdown",
   "id": "9a1ef2",
   "metadata": {
    "collapsed": false
   },
   "source": [
    "<a name=\"prop35ret\" id=\"prop35ret\"></a>\n",
    "PROPOSITION 3.5<br>\n",
    "\n",
    "Suppose that <em>x</em> has infinite order. Then <br>\n",
    "<p style='text-align: center;'>[<em>x</em>] = {&hellip;, <em>x</em><sup>-3</sup>, <em>x</em><sup>-2</sup>, \n",
    "<em>x</em><sup>-1</sup>, <em>x</em><sup>0</sup> = <em>e</em>, <em>x</em><sup>1</sup>, <em>x</em><sup>2</sup>, \n",
    "<em>x</em><sup>3</sup>, &hellip;},</p>\n",
    "where the powers of <em>x</em> are all distinct.<br><br>\n",
    "\n",
    "<a href=\"#prop35\">Click here for the proof.</a>\n",
    "\n",
    "<p />\n",
    "\n",
    "Even though the subgroup in Proposition 3.5 is infinite, we can still define it in <em>SageMath</em>.  \n",
    "In fact, we defined an infinite group in the process of defining all of the other groups.  If we have <em>x</em> as the generator of an infinite group, then the group is defined by the following:<br>"
   ]
  },
  {
   "cell_type": "code",
   "execution_count": 0,
   "id": "cba3ff",
   "metadata": {
    "collapsed": false
   },
   "outputs": [
   ],
   "source": [
    "InitGroup(\"e\")\n",
    "AddGroupVar(\"x\")"
   ]
  },
  {
   "cell_type": "markdown",
   "id": "f54cb9",
   "metadata": {
    "collapsed": false
   },
   "source": [
    "<br>\n",
    "At this point, we have an infinite group defined.<br>"
   ]
  },
  {
   "cell_type": "code",
   "execution_count": 0,
   "id": "4a100a",
   "metadata": {
    "collapsed": false
   },
   "outputs": [
   ],
   "source": [
    "x^4 * x^-7"
   ]
  },
  {
   "cell_type": "markdown",
   "id": "37f410",
   "metadata": {
    "collapsed": false
   },
   "source": [
    "<br>\n",
    "Granted, we cannot display all of the elements as we did for other groups (<strong>Group(x)</strong> would require interrupting <em>SageMath</em>), but we can still \n",
    "multiply elements of this group.<br><br>\n",
    "\n",
    "Because of Propositions 3.4 and 3.5, we know something about all cyclic groups. Any cyclic group <em>G</em> is either a finite group <br> \n",
    "<p style='text-align: center;'><em>G</em> = { <em>e</em> = <em>x</em><sup>0</sup>, <em>x</em><sup>1</sup>, <em>x</em><sup>2</sup>, <em>x</em><sup>3</sup>, \n",
    "&hellip; , <em>x</em><sup><em>n</em>-1</sup>}</p>\n",
    "of order <em>n</em>, or is an infinite group<br>\n",
    "<p style='text-align: center;'><em>G</em> = {&hellip;, <em>x</em><sup>-3</sup>, <em>x</em><sup>-2</sup>, <em>x</em><sup>-1</sup>, <em>x</em><sup>0</sup> = e, \n",
    "<em>x</em><sup>1</sup>, <em>x</em><sup>2</sup>, <em>x</em><sup>3</sup>, &hellip;}</p>\n",
    "where all powers of <em>x</em> are distinct.<br><br>\n",
    "\n",
    "Note that in the first case, <em>G</em> closely resembles <em>Z<sub>n</sub></em>. In the second case, <em>G</em> closely resembles &#8484;.\n",
    "From this, we can quickly determine the nature of a subgroup of a cyclic group."
   ]
  },
  {
   "cell_type": "markdown",
   "id": "dd4912",
   "metadata": {
    "collapsed": false
   },
   "source": [
    "<a name=\"prop36ret\" id=\"prop36ret\"></a>\n",
    "PROPOSITION 3.6<br>\n",
    "\n",
    "A subgroup of a cyclic group must be cyclic.<br><br>\n",
    "\n",
    "<a href=\"#prop36\">Click here for the proof.</a>\n",
    "\n",
    "<p />\n",
    "\n",
    "EXAMPLE:<br>\n",
    "Find all the subgroups of the group &#8484;.<br><br>\n",
    "\n",
    "Since &#8484; is cyclic, we know that all subgroups are cyclic, hence can be expresses as [<em>k</em>] for some integer <em>k</em>.  But [<em>k</em>] would \n",
    "be the multiples of <em>k</em>, \n",
    "<p style='text-align: center;'>[<em>k</em>] = { <em>k</em>&middot;<em>x</em> | <em>x</em> &isin; &#8484;}.</p>            \n",
    "We will denote the subgroup of the multiples of <em>k</em> by <em>k</em> &#8484;.  Note that 0 &#8484; = {0}, \n",
    "and 1 &#8484; = &#8484;, so even the trivial subgroups are of this form.<br><br>\n",
    "\n",
    "Finding all of the subgroups of a non-cyclic group is trickier, since we have to consider subgroups generated by two or more elements.  <em>SageMath</em> can speed up the process.<br><br>\n",
    "\n",
    "EXAMPLE:<br>\n",
    "Find all of the subgroups of the group <em>S</em><sub>3</sub>.\n",
    "\n",
    "We found all of the cyclic subgroups in a previous example: {<em>e</em>}, {<em>e</em>, <em>a</em>}, {<em>e</em>, <em>b</em>, <em>b</em><sup>2</sup>}, \n",
    "{<em>e</em>, <em>a</em>&middot;<em>b</em>}, and {<em>e</em>, <em>a</em>&middot;<em>b</em><sup>2</sup>}.\n",
    "Note that any subgroup containing <em>b</em> must also contain <em>b</em><sup>2</sup>, and vice-versa.  Also all subgroups will contain <em>e</em>.  So to find subgroups that \n",
    "require two elements, we have 6 combinations to try:<br>"
   ]
  },
  {
   "cell_type": "code",
   "execution_count": 0,
   "id": "1620da",
   "metadata": {
    "collapsed": false
   },
   "outputs": [
   ],
   "source": [
    "InitGroup(\"e\")\n",
    "AddGroupVar(\"a\", \"b\")\n",
    "Define(a^2, e)\n",
    "Define(b^3, e)\n",
    "Define(b*a, a*b^2)"
   ]
  },
  {
   "cell_type": "code",
   "execution_count": 0,
   "id": "7181e5",
   "metadata": {
    "collapsed": false
   },
   "outputs": [
   ],
   "source": [
    "Group(a, b)"
   ]
  },
  {
   "cell_type": "code",
   "execution_count": 0,
   "id": "3da652",
   "metadata": {
    "collapsed": false
   },
   "outputs": [
   ],
   "source": [
    "Group(a, a*b)"
   ]
  },
  {
   "cell_type": "code",
   "execution_count": 0,
   "id": "a69175",
   "metadata": {
    "collapsed": false
   },
   "outputs": [
   ],
   "source": [
    "Group(a, a*b^2)"
   ]
  },
  {
   "cell_type": "code",
   "execution_count": 0,
   "id": "6458fc",
   "metadata": {
    "collapsed": false
   },
   "outputs": [
   ],
   "source": [
    "Group(b, a*b)"
   ]
  },
  {
   "cell_type": "code",
   "execution_count": 0,
   "id": "68a10f",
   "metadata": {
    "collapsed": false
   },
   "outputs": [
   ],
   "source": [
    "Group(b, a*b^2)"
   ]
  },
  {
   "cell_type": "code",
   "execution_count": 0,
   "id": "64504f",
   "metadata": {
    "collapsed": false
   },
   "outputs": [
   ],
   "source": [
    "Group(a*b, a*b^2)"
   ]
  },
  {
   "cell_type": "markdown",
   "id": "b45f67",
   "metadata": {
    "collapsed": false
   },
   "source": [
    "<br>\n",
    "In each case, we produced the entire group.  This shows that the only non-cyclic subgroup of <em>S</em><sub>3</sub> is <em>S</em><sub>3</sub> itself.  Thus, we have found a \n",
    "total of 6 subgroups of <em>S</em><sub>3</sub>.<br><br>"
   ]
  },
  {
   "cell_type": "markdown",
   "id": "6d30c7",
   "metadata": {
    "collapsed": false
   },
   "source": [
    "Let us now consider the orders of the elements of a cyclic group. Consider, for example, the group <em>Z</em><sub>12</sub>.<br>"
   ]
  },
  {
   "cell_type": "code",
   "execution_count": 0,
   "id": "ab01ce",
   "metadata": {
    "collapsed": false
   },
   "outputs": [
   ],
   "source": [
    "G = ZGroup(12); G"
   ]
  },
  {
   "cell_type": "markdown",
   "id": "8189b7",
   "metadata": {
    "collapsed": false
   },
   "source": [
    "How many elements are there of order 2? We can answer this question by taking the square of all of the elements, and see which elements satisfy the equation x^2= e = 0. We can take the square of all of the elements at once with the command<br>"
   ]
  },
  {
   "cell_type": "code",
   "execution_count": 0,
   "id": "d2b8cf",
   "metadata": {
    "collapsed": false
   },
   "outputs": [
   ],
   "source": [
    "[ x^2 for x in G ]"
   ]
  },
  {
   "cell_type": "markdown",
   "id": "aaaedd",
   "metadata": {
    "collapsed": false
   },
   "source": [
    "and see that only 0 and 6 satisfy the equation <em>x</em><sup>2</sup> = 0. Of course, the identity element 0 is of order 1 instead of 2, so there is only one element of order 2, namely 6.\n",
    "\n",
    "EXPERIMENT: \n",
    "By changing the <em>x</em><sup>2</sup> to <em>x</em><sup>3</sup> in the above command, find all of the elements of order 3.\n",
    "\n",
    "Next, try to determine how many elements there are of order 6. Remember that you cannot count the elements of order 2 or 3 that have already been found!"
   ]
  },
  {
   "cell_type": "markdown",
   "id": "884284",
   "metadata": {
    "collapsed": false
   },
   "source": [
    "It is apparent that finding the number of elements of order <em>k</em> involve finding the number of solutions to the \n",
    "equation <em>x<sup>k</sup></em> = <em>e</em>.  \n",
    "To help us find the number of solutions for a cyclic group, let us first prove the following proposition about modular multiplication."
   ]
  },
  {
   "cell_type": "markdown",
   "id": "cf939e",
   "metadata": {
    "collapsed": false
   },
   "source": [
    "<a name=\"prop37ret\" id=\"prop37ret\"></a>\n",
    "PROPOSITION 3.7<br>\n",
    "\n",
    "Let <em>n</em> and <em>k</em> be two positive integers.  Then <br>\n",
    "<p style='text-align: center;'><em>x</em>&middot;<em>k</em> &#8801; 0 (mod <em>n</em>)</p>\n",
    "if and only if\n",
    "<table align=\"center\" border=\"0\" cellspacing=\"0\" cellpadding=\"0\">\n",
    "  <tr>\n",
    "    <td rowspan = \"2\" align=\"right\"><em>x</em> =&ensp;</td>\n",
    "    <td height=\"33\" valign=\"bottom\"><font style=\"text-decoration:underline\">&ensp;&emsp;<em>a</em>&middot;<em>n</em>&emsp;&ensp;</font></td>\n",
    "  </tr>\n",
    "  <tr>\n",
    "     <td valign=\"top\">gcd(<em>n</em>, <em>k</em>)</td>\n",
    "  </tr>\n",
    "</table>\n",
    "for some integer <em>a</em>.<br><br>\n",
    "\n",
    "<a href=\"#prop37\">Click here for the proof.</a>\n",
    "\n",
    "<p />\n",
    "We can now find the number of elements in a cyclic group that satisfies the equation <em>x<sup>k</sup></em> = <em>e</em>."
   ]
  },
  {
   "cell_type": "markdown",
   "id": "771745",
   "metadata": {
    "collapsed": false
   },
   "source": [
    "<a name=\"cor31ret\" id=\"cor31ret\"></a>\n",
    "COROLLARY 3.1<br>\n",
    "\n",
    "Let <em>G</em> be a cyclic group of order <em>n</em>.  Then there are precisely gcd(<em>n</em>, <em>k</em>) elements of <em>G</em> such that <em>x<sup>k</sup></em> = <em>e</em>.<br><br>\n",
    "\n",
    "<a href=\"#cor31\">Click here for the proof.</a>\n",
    "\n",
    "<p />\n",
    "EXPERIMENT:<br>\n",
    "Use <em>SageMath</em> to find the number of solutions to <em>x</em><sup>8</sup> = 0 in <em>Z</em><sub>12</sub>.  Does this result agree with Corollary 3.1?<br>"
   ]
  },
  {
   "cell_type": "markdown",
   "id": "f32180",
   "metadata": {
    "collapsed": false
   },
   "source": [
    "<br>\n",
    "\n",
    "Finding the number of solutions to the equation <em>x<sup>k</sup></em> = <em>e</em> in a group will become important as we classify the different groups.  We will give a notation \n",
    "to this count.<br><br>\n",
    "\n",
    "DEFINITION 3.6<br>\n",
    "Let <em>G</em> be a group, and <em>k</em> a positive integer.  Then the number of elements of <em>G</em> for which <em>x<sup>k</sup></em> = <em>e</em> is called \n",
    "the <em>k<sup>th</sup> root count of G</em> and is denoted by\n",
    "<p style='text-align: center;'><em>R<sub>k</sub></em>(<em>G</em>) = &#9116;{<em>x</em> &isin; <em>G</em> | <em>x<sup>k</sup></em> = <em>e</em>}&#9119;.</p>\n",
    " \n",
    "Corollary 3.1 can now be expressed in the new notation.  If <em>G</em> is a cyclic group, then\n",
    "<p style='text-align: center;'><em>R<sub>k</sub></em>(<em>G</em>) = gcd(|<em>G</em>|, <em>k</em>).</p>\n",
    "\n",
    "<em>SageMath</em> has a command <strong>RootCount(G, k)</strong> that will compute <em>R<sub>k</sub></em>(<em>G</em>).  For example, we can redo the last experiment with the commands:<br>"
   ]
  },
  {
   "cell_type": "code",
   "execution_count": 0,
   "id": "16d8a2",
   "metadata": {
    "collapsed": false
   },
   "outputs": [
   ],
   "source": [
    "G = ZGroup(12)"
   ]
  },
  {
   "cell_type": "code",
   "execution_count": 0,
   "id": "32e5fa",
   "metadata": {
    "collapsed": false
   },
   "outputs": [
   ],
   "source": [
    "RootCount(G, 8)"
   ]
  },
  {
   "cell_type": "markdown",
   "id": "88825b",
   "metadata": {
    "collapsed": false
   },
   "source": [
    "<br>\n",
    "Now let's look at a more complicated group. You probably have heard of the infamous Rubik's Cube<sup>&copy;</sup>. Rubik also came out with a number of other puzzles, \n",
    "one of which is called the Pyraminx&trade;.  The Pyraminx&trade; consists of a triangular pyramid, with each of the four triangular sides partitioned into nine \n",
    "smaller triangles. The four &quot;tips&quot; can rotate, but this does not affect the puzzle. To simplify the picture we can chop off the tips of the pyramid.  Execute \n",
    "the following command to show a picture of the puzzle with the tips cut off:<br>"
   ]
  },
  {
   "cell_type": "code",
   "execution_count": 0,
   "id": "2d6694",
   "metadata": {
    "collapsed": false
   },
   "outputs": [
   ],
   "source": [
    "InitPuzzle()"
   ]
  },
  {
   "cell_type": "markdown",
   "id": "86ff58",
   "metadata": {
    "collapsed": false
   },
   "source": [
    "<br>\n",
    "Now the four corners of this puzzle can rotate, moving some of the middle pieces in the process. For example, the front corner can rotate clockwise 120&deg;\n",
    "by the command:<br>"
   ]
  },
  {
   "cell_type": "code",
   "execution_count": 0,
   "id": "ce297d",
   "metadata": {
    "collapsed": false
   },
   "outputs": [
   ],
   "source": [
    "RotatePuzzle(f)"
   ]
  },
  {
   "cell_type": "markdown",
   "id": "2f2e42",
   "metadata": {
    "collapsed": false
   },
   "source": [
    "<br>\n",
    "We can rotate the back corner clockwise with the command:<br>"
   ]
  },
  {
   "cell_type": "code",
   "execution_count": 0,
   "id": "abe351",
   "metadata": {
    "collapsed": false
   },
   "outputs": [
   ],
   "source": [
    "RotatePuzzle(b)"
   ]
  },
  {
   "cell_type": "markdown",
   "id": "abedbc",
   "metadata": {
    "collapsed": false
   },
   "source": [
    "<br>\n",
    "At this point, we see the advantage of chopping off the four tips of the pyramid: this allows us to peer inside of the puzzle to see what is on the back face!<br><br>\n",
    " \n",
    "The left and right corners can be rotated using the commands<br>"
   ]
  },
  {
   "cell_type": "code",
   "execution_count": 0,
   "id": "9274cd",
   "metadata": {
    "collapsed": false
   },
   "outputs": [
   ],
   "source": [
    "RotatePuzzle(l)"
   ]
  },
  {
   "cell_type": "code",
   "execution_count": 0,
   "id": "a0c9be",
   "metadata": {
    "collapsed": false
   },
   "outputs": [
   ],
   "source": [
    "RotatePuzzle(r)"
   ]
  },
  {
   "cell_type": "markdown",
   "id": "345e31",
   "metadata": {
    "collapsed": false
   },
   "source": [
    "<br>\n",
    "Now we have really scrambled the puzzle! Not to fear&ndash;&ndash;we can put the puzzle back into its original form with the command<br>"
   ]
  },
  {
   "cell_type": "code",
   "execution_count": 0,
   "id": "38ae7e",
   "metadata": {
    "collapsed": false
   },
   "outputs": [
   ],
   "source": [
    "InitPuzzle()"
   ]
  },
  {
   "cell_type": "markdown",
   "id": "26d3cb",
   "metadata": {
    "collapsed": false
   },
   "source": [
    "<br>\n",
    "That is sure much easier than taking the puzzle apart and putting it back together again!<br><br>\n",
    " \n",
    "The set of all actions on the puzzle forms a group, called the Pyraminx&trade; group. This group is generated by the elements \n",
    "{<em>f</em>, <em>b</em>, <em>l</em>, <em>r</em>}. However, this group has over 900,000 elements!&nbsp;&nbsp;Thus, it is not such a good idea to have <em>SageMath</em> list \n",
    "all elements of the group. It really wouldn't tell us much, and would probably run us out of memory.<br><br>\n",
    "\n",
    "We can determine information about the Pyraminx&trade; group by working with the puzzle. For example, we know that the elements <em>r</em>, <em>l</em>, <em>t</em>\n",
    "and <em>b</em> each have order 3. But what about the element <em>b</em>&middot;<em>f</em>? Try this out yourself:<br>"
   ]
  },
  {
   "cell_type": "code",
   "execution_count": 0,
   "id": "fc5bbc",
   "metadata": {
    "collapsed": false
   },
   "outputs": [
   ],
   "source": [
    "RotatePuzzle(b, f)"
   ]
  },
  {
   "cell_type": "markdown",
   "id": "3b832d",
   "metadata": {
    "collapsed": false
   },
   "source": [
    "<br>\n",
    "Notice that we have the animation feature here. How many times must this statement be executed to get back to the original state? This will give us the order of the element \n",
    "<em>b</em>&middot;<em>f</em>. So we have a subgroup, namely [<em>b</em>&middot;<em>f</em>] of that order. <br><br>\n",
    " \n",
    "EXPERIMENT:<br>\n",
    "Using this method of repeating the operation, find the orders of the following elements:<br><br>\n",
    "<em>b</em>&middot;<em>f</em>&middot;<em>r</em>&middot;<em>f</em>&middot;<em>f</em> <br>\n",
    "<em>f</em>&middot;<em>b</em>&middot;<em>r</em><br><br>"
   ]
  },
  {
   "cell_type": "markdown",
   "id": "22483c",
   "metadata": {
    "collapsed": false
   },
   "source": [
    "<br>\n",
    "One can see quite a variety of possibilities for the order of an element in this group.  Can you find an element with an order larger that the last example? \n",
    "Perhaps we need to study the puzzle further to answer that question. When we know more about groups in general we will not only be able to answer this question, \n",
    "but also build up some tools that will help us to solve the puzzle."
   ]
  },
  {
   "cell_type": "markdown",
   "id": "41f785",
   "metadata": {
    "collapsed": false
   },
   "source": [
    "<br><br><br><br><br><br><br><br><br><br><br><br><br><br><br><br><br><br><br><br><br><br><br><br><br><br><br><br><br><br><br><br><br><br><br><br><br><br><br><br><br><br> "
   ]
  },
  {
   "cell_type": "markdown",
   "id": "cd1b61",
   "metadata": {
    "collapsed": false
   },
   "source": [
    "<h1>Proofs:</h1>"
   ]
  },
  {
   "cell_type": "markdown",
   "id": "323f53",
   "metadata": {
    "collapsed": false
   },
   "source": [
    "<a name=\"prop31\" id=\"prop31\"></a>\n",
    "Proof of Proposition 3.1:<br><br>\n",
    "\n",
    "Suppose that <em>g</em> is a generator of <em>Z<sub>n</sub></em>. Then 1 is able to be expressed as a power of <em>g</em>, so we have that <br>\n",
    "<p style='text-align: center;'><em>g<sup>v</sup></em> = 1 in <em>Z<sub>n</sub></em></p>\n",
    " \n",
    "for some <em>v</em>. Since the group action of <em>Z<sub>n</sub></em> is addition, raising to a power is equivalent to repeated addition, or standard \n",
    "multiplication.<br><br>\n",
    "\n",
    "Thus, we have that <br>\n",
    "<p style='text-align: center;'><em>g v</em> &#8801; 1 (mod <em>n</em>).</p>\n",
    "By Proposition 2.8, there is such a <em>v</em> if, and only if, <em>g</em> is coprime to <em>n</em>.<br><br>\n",
    " \n",
    "Now suppose that <em>g</em> is coprime to <em>n</em>. By Proposition 2.8, there is a <em>v</em> such that<br>\n",
    "<p style='text-align: center;'><em>g v</em> &#8801; 1 (mod <em>n</em>), hence <em>g<sup>v</sup></em> = 1 in <em>Z<sub>n</sub></em>.</p>\n",
    "\n",
    "So 1 can be expressed as a power of <em>g</em>. But 1 is a generator of <em>Z<sub>n</sub></em>, and so every element of <em>Z<sub>n</sub></em> can be expressed as a power \n",
    "of 1, say 1<sup><em>w</em></sup>. Then that element can be written as <em>g</em><sup>(<em>v w</em>)</sup> = (<em>g<sup>v</sup></em>)<sup><em>w</em></sup> = 1<sup><em>w</em></sup>.\n",
    "So every element can be expressed as a power of <em>g</em>, hence <em>g</em> is a generator of <em>Z<sub>n</sub></em>.<br><br>\n",
    "\n",
    "<a href=\"#prop31ret\">Return to text</a>"
   ]
  },
  {
   "cell_type": "markdown",
   "id": "81e124",
   "metadata": {
    "collapsed": false
   },
   "source": [
    "<br><br><br><br><br><br><br><br><br><br><br><br><br><br><br><br><br><br><br><br><br><br><br><br><br><br><br><br><br><br><br><br><br><br><br><br><br><br><br><br><br><br> "
   ]
  },
  {
   "cell_type": "markdown",
   "id": "ed261f",
   "metadata": {
    "collapsed": false
   },
   "source": [
    "<a name=\"theor31\" id=\"theor31\"></a>\n",
    "\n",
    "Proof of Theorem 3.1:<br><br>\n",
    "\n",
    "To begin, let us show that if <em>p</em> is a prime, then <em>&#981;</em>(<em>p<sup>r</sup></em>) = (<em>p</em> &minus; 1)<em>p</em><sup><em>r</em>&minus;1</sup>.<br><br>\n",
    "Note that the only numbers that are <em>not</em> coprime to <em>p<sup>r</sup></em> will be multiples of <em>p</em>.  So of the numbers between 1 \n",
    "and <em>p<sup>r</sup></em>, exactly 1/<em>p</em> of them will be multiples of <em>p</em>.  The remaining (1 &minus; 1/<em>p</em>)<em>p<sup>r</sup></em> will be coprime, and \n",
    "this can be simplified to (<em>p</em> &minus; 1)<em>p</em><sup><em>r</em>&minus;1</sup>.<br><br>\n",
    " \n",
    "Next we want to show that if <em>n</em> and <em>m</em> are coprime, then <em>&#981;</em>(<em>n m</em>) = <em>&#981;</em>(<em>n</em>) <em>&#981;</em>(<em>m</em>).  \n",
    "Let <em>A</em> denote the set of numbers that are less than <em>n</em>, but coprime to <em>n</em>.  Let <em>B</em> denote the set of numbers that are less than \n",
    "<em>m</em>, but coprime to <em>m</em>.<br><br>\n",
    " \n",
    "Then for any number <em>x</em> coprime to <em>n</em>&middot;<em>m</em>, <em>x</em> <strong>mod</strong> <em>n</em> must be in the set <em>A</em>, \n",
    "while <em>x</em> <strong>mod</strong> <em>m</em> must be in \n",
    "<em>B</em>.  Yet for every <em>a</em> in <em>A</em> and <em>b</em> in <em>B</em>, there is, by the Chinese remainder theorem (1.5), a unique number less than \n",
    "<em>n m</em> that is equivalent to <em>a</em> (mod <em>n</em>) and <em>b</em> (mod <em>m</em>).  This number will be coprime to both <em>n</em> and \n",
    "<em>m</em>, and hence will be coprime to <em>n m</em>.<br><br>\n",
    " \n",
    "Therefore, we have a one-to-one correspondence between ordered pairs (<em>a</em>, <em>b</em>), where <em>a</em> &isin; <em>A</em>, and <em>b</em> &isin; <em>B</em>, and \n",
    "numbers coprime to <em>n m</em>.  Thus, we have <br>\n",
    "<p style='text-align: center;'><em>&#981;</em>(<em>n m</em>) = <em>&#981;</em>(<em>n</em>)&middot;<em>&#981;</em>(<em>m</em>).</p>\n",
    "<br>\n",
    "Finally, we can combine these results together.  By simply noting that if<br><br>\n",
    "<p style='text-align: center;'><em>n</em> = <em>p</em><sub>1</sub><sup><em>r</em></sup>&sup1; &middot; <em>p</em><sub>2</sub><sup><em>r</em></sup>&sup2; \n",
    "&middot; <em>p</em><sub>3</sub><sup><em>r</em></sup>&sup3; &middot;&middot;&middot; <em>p</em><sub><em>k</em></sub><sup><em>r&#8342;</em></sup>,</p>\n",
    "then <em>p</em><sub>1</sub><sup><em>r</em></sup>&sup1;, <em>p</em><sub>2</sub><sup><em>r</em></sup>&sup2;, <em>p</em><sub>3</sub><sup><em>r</em></sup>&sup3;, \n",
    "&hellip;, <em>p<sub>k</sub></em><sup><em>r&#8342;</em></sup> will all be coprime.  Hence, we can find <em>&#981;</em> for each of these terms, and multiply them \n",
    "together, giving us our formula.<br><br>\n",
    "\n",
    "<a href=\"#theor31ret\">Return to text</a>"
   ]
  },
  {
   "cell_type": "markdown",
   "id": "4ecadb",
   "metadata": {
    "collapsed": false
   },
   "source": [
    "<br><br><br><br><br><br><br><br><br><br><br><br><br><br><br><br><br><br><br><br><br><br><br><br><br><br><br><br><br><br><br><br><br><br><br><br><br><br><br><br><br><br> "
   ]
  },
  {
   "cell_type": "markdown",
   "id": "123b0b",
   "metadata": {
    "collapsed": false
   },
   "source": [
    "<a name=\"prop32\" id=\"prop32\"></a>\n",
    "Proof of Proposition 3.2:<br><br>\n",
    "\n",
    "First of all, we need to see that if <em>H</em> is a subgroup, then <em>x</em>&middot;<em>y</em><sup>-1</sup> is in <em>H</em> whenever <em>x</em> and <em>y</em> are in \n",
    "<em>H</em>.  By property (3), <em>y</em><sup>-1</sup> is in <em>H</em>, and so by property (1), <em>x</em>&middot;<em>y</em><sup>-1</sup> is in <em>H</em>.<br><br>\n",
    "\n",
    "Conversely, let us suppose that <em>H</em> &sube; <em>G</em>, <em>H</em> &ne; {&thinsp;}, and whenever <em>x</em>, <em>y</em> &isin; <em>H</em>, then \n",
    "<em>x</em>&middot;<em>y</em><sup>-1</sup> &isin; <em>H</em>.  We need to see that properties (1) through (3) are satisfied.<br><br>\n",
    "\n",
    "Since <em>H</em> is not the empty set, there is an element <em>x</em> in <em>H</em>, and so <em>x</em>&middot;<em>x</em><sup>-1</sup> = <em>e</em> is in <em>H</em>.  \n",
    "Thus property (2) holds.<br><br>\n",
    "\n",
    "Next, we have that if <em>y</em> is in <em>H</em>, then <em>e</em>&middot;<em>y</em><sup>-1</sup> = <em>y</em><sup>-1</sup> is in <em>H</em>, and so property (3) \n",
    "holds.<br><br>\n",
    "\n",
    "Finally, if <em>x</em> and <em>y</em> are in <em>H</em>, then <em>y</em><sup>-1</sup> is in <em>H</em>, and so \n",
    "<em>x</em>&middot;(<em>y</em><sup>-1</sup>)<sup>-1</sup> = <em>x</em>&middot;<em>y</em> is in <em>H</em>.  \n",
    "Thus, property (1) also holds.<br><br>\n",
    "\n",
    "<a href=\"#prop32ret\">Return to text</a>"
   ]
  },
  {
   "cell_type": "markdown",
   "id": "c88e8b",
   "metadata": {
    "collapsed": false
   },
   "source": [
    "<br><br><br><br><br><br><br><br><br><br><br><br><br><br><br><br><br><br><br><br><br><br><br><br><br><br><br><br><br><br><br><br><br><br><br><br><br><br><br><br><br><br> "
   ]
  },
  {
   "cell_type": "markdown",
   "id": "165337",
   "metadata": {
    "collapsed": false
   },
   "source": [
    "<a name=\"prop33\" id=\"prop33\"></a>\n",
    "Proof of Proposition 3.3:<br><br>\n",
    "\n",
    "First of, note that <em>H</em><sup>&ast;</sup> is not the empty set, since the identity element is in each <em>H</em> in the collection.  We now can apply Proposition 3.2.\n",
    "Let <em>x</em> and <em>y</em> be two elements of <em>H</em><sup>&ast;</sup>.  Then for every <em>H</em> &isin; <em>L</em> we have <em>x</em>, <em>y</em> &isin; <em>H</em>.\n",
    "Since <em>H</em> is a subgroup of <em>G</em>, we have <em>x</em>&middot;<em>y</em><sup>-1</sup> &isin; <em>H</em>.  Therefore, <em>x</em>&middot;<em>y</em><sup>-1</sup> is \n",
    "in <em>H</em><sup>&ast;</sup>, and so <em>H</em><sup>&ast;</sup> is a subgroup of <em>G</em>.<br><br>\n",
    "\n",
    "<a href=\"#prop33ret\">Return to text</a>"
   ]
  },
  {
   "cell_type": "markdown",
   "id": "c2a316",
   "metadata": {
    "collapsed": false
   },
   "source": [
    "<br><br><br><br><br><br><br><br><br><br><br><br><br><br><br><br><br><br><br><br><br><br><br><br><br><br><br><br><br><br><br><br><br><br><br><br><br><br><br><br><br><br> "
   ]
  },
  {
   "cell_type": "markdown",
   "id": "bdcb47",
   "metadata": {
    "collapsed": false
   },
   "source": [
    "<a name=\"prop34\" id=\"prop34\"></a>\n",
    "Proof of Proposition 3.4:<br><br>\n",
    "\n",
    "Consider the sequence of elements {<em>x</em><sup>1</sup>, <em>x</em><sup>2</sup>, <em>x</em><sup>3</sup>, \n",
    "<em>x</em><sup>4</sup>, &hellip; }.  Since <em>G</em> is a finite group, not all of these elements can be distinct, so <em>x<sup>a</sup></em> = <em>x<sup>b</sup></em> for two integers <em>a</em> and <em>b</em>, with \n",
    "<em>a</em> < <em>b</em>.   Then \n",
    "<em>x</em><sup>(<em>b</em>&minus;<em>a</em>)</sup> = <em>e</em> and <em>b</em> &minus; <em>a</em> > 0, so the order of <em>x</em> is finite.  Recall from Definition 3.2 that the order is the smallest positive integer <em>n</em> such that <em>x<sup>n</sup></em> = <em>e</em>.  We want to show that indeed the elements of \n",
    "<p style='text-align: center;'>{<em>e</em> = <em>x</em><sup>0</sup>, <em>x</em><sup>1</sup>, <em>x</em><sup>2</sup>, <em>x</em><sup>3</sup>, &hellip;, \n",
    "<em>x</em><sup><em>n</em>&minus;1</sup>}</p>\n",
    "are all distinct.  Indeed, if\n",
    "<p style='text-align: center;'><em>x<sup>a</sup></em> = <em>x<sup>b</sup></em> with 0 &le; <em>a</em> &lt; <em>b</em> &le; <em>n</em> &minus; 1,</p>\n",
    "then <em>x</em><sup>(<em>b</em>&minus;<em>a</em>)</sup> = <em>e</em>, and 0 < <em>b</em> &minus; <em>a</em> &lt; <em>n</em>, which contradicts the order of <em>x</em>.  Therefore, \n",
    "the elements in\n",
    "<p style='text-align: center;'>{ <em>e</em> = <em>x</em><sup>0</sup>, <em>x</em><sup>1</sup>, <em>x</em><sup>2</sup>, <em>x</em><sup>3</sup>, &hellip;,\n",
    "<em>x</em><sup><em>n</em>&minus;1 </sup>}</p>\n",
    "are all distinct.<br><br>\n",
    "\n",
    "Finally, we need to show that if <em>y</em> is in [<em>x</em>], then there exists a <em>r</em> such that<br><br>\n",
    "<p style='text-align: center;'><em>x<sup>r</sup></em> = <em>y</em>, with 0 &le; <em>r</em> &le; <em>n</em> &minus; 1.</p>\n",
    "But <em>y</em> = <em>x<sup>k</sup></em> for some <em>k</em> &isin; &#8484;.  We can define <em>r</em> = <em>k</em> <strong>mod</strong> <em>n</em>.  \n",
    "Then 0 &le; <em>r</em> &le; <em>n</em> &minus; 1, and furthermore, there is an integer <em>q</em> such that <em>k</em> &minus; <em>r</em> = <em>n q</em>.  Thus,<br>\n",
    "<p style='text-align: center;'><em>y</em> = <em>x<sup>k</sup></em> = <em>x</em><sup>(<em>n q</em> + <em>r</em>)</sup> = \n",
    "(<em>x<sup>n</sup></em>)<sup><em>q</em></sup>&middot;<em>x<sup>r</sup></em> = <em>e<sup>q</sup></em>&middot;<em>x<sup>r</sup></em> = <em>x<sup>r</sup></em>.</p>\n",
    "So every element of [<em>x</em>] is of the form <em>x<sup>r</sup></em>, with 0 &le; <em>r</em> &le; <em>n</em> &minus; 1, and |[<em>x</em>]| = <em>n</em>.<br><br>\n",
    "\n",
    "<a href=\"#prop34ret\">Return to text</a>"
   ]
  },
  {
   "cell_type": "markdown",
   "id": "dce53a",
   "metadata": {
    "collapsed": false
   },
   "source": [
    "<br><br><br><br><br><br><br><br><br><br><br><br><br><br><br><br><br><br><br><br><br><br><br><br><br><br><br><br><br><br><br><br><br><br><br><br><br><br><br><br><br><br> "
   ]
  },
  {
   "cell_type": "markdown",
   "id": "816417",
   "metadata": {
    "collapsed": false
   },
   "source": [
    "<a name=\"prop35\" id=\"prop35\"></a>\n",
    "Proof of Proposition 3.5:<br><br>\n",
    "\n",
    "From Definition 3.2, if <em>x</em> has infinite order, then <em>x<sup>n</sup></em> &ne; <em>e</em> for all <em>n</em> &ge; 1.\n",
    "Suppose that <em>x<sup>a</sup></em> = <em>x<sup>b</sup></em> with <em>a</em> &lt; <em>b</em>. \n",
    "Then <em>x</em><sup>(<em>b</em>&minus;<em>a</em>)</sup> = <em>e</em> with <em>b</em> &minus; <em>a</em> &gt; 0, contradicting the fact that the order of <em>x</em> is infinite. Thus, the powers of <em>x</em> are all distinct.  Since all powers of <em>x</em> are clearly in [<em>x</em>], we have that\n",
    "\n",
    "<p style='text-align: center;'>[<em>x</em>] = {&hellip;, <em>x</em><sup>-3</sup>, <em>x</em><sup>-2</sup>, \n",
    "<em>x</em><sup>-1</sup>, <em>x</em><sup>0</sup> = <em>e</em>, <em>x</em><sup>1</sup>, <em>x</em><sup>2</sup>, \n",
    "<em>x</em><sup>3</sup>, &hellip;}.</p>\n",
    "\n",
    "<a href=\"#prop35ret\">Return to text</a>"
   ]
  },
  {
   "cell_type": "markdown",
   "id": "deaafb",
   "metadata": {
    "collapsed": false
   },
   "source": [
    "<br><br><br><br><br><br><br><br><br><br><br><br><br><br><br><br><br><br><br><br><br><br><br><br><br><br><br><br><br><br><br><br><br><br><br><br><br><br><br><br><br><br> "
   ]
  },
  {
   "cell_type": "markdown",
   "id": "2fd05c",
   "metadata": {
    "collapsed": false
   },
   "source": [
    "<a name=\"prop36\" id=\"prop36\"></a>\n",
    "Proof of Proposition 3.6:<br><br>\n",
    "\n",
    "Let <em>g</em> be a generator of the cyclic group <em>G</em>.  The trivial subgroup {<em>e</em>} is considered cyclic, so let <em>H</em> be a non-trivial subgroup.  Then every \n",
    "element of <em>H</em> can be written as <em>g<sup>i</sup></em> for some <em>i</em>.  Since both <em>g<sup>i</sup></em> and <em>g</em><sup>&minus;<em>i</em></sup> would \n",
    "then be in <em>H</em>, we see that <em>g<sup>i</sup></em> is in <em>H</em> for some positive <em>i</em>.  Let <em>k</em> be the smallest positive integer such \n",
    "that <em>g<sup>k</sup></em> is in <em>H</em>.  Then <em>g</em><sup><em>m k</em></sup> is in <em>H</em> for all integers <em>m</em>.<br><br> \n",
    "\n",
    "If there were some other element in <em>H</em> not in [<em>g<sup>k</sup></em>], then this element is <em>g<sup>y</sup></em> for some integer <em>y</em>.  \n",
    "Then <em>y</em> = <em>q k</em> + <em>r</em> for some 0 &lt; <em>r</em> &lt; <em>k</em>.  Then \n",
    "<em>g<sup>r</sup></em> = <em>g<sup>y</sup></em>&middot;(<em>g<sup>k</sup></em>)<sup>&minus;<em>q</em></sup> &isin; <em>H</em>, but we chose <em>k</em> to be the smallest positive integer for which <em>g<sup>k</sup></em> &isin; <em>S</em>.  Thus, <em>H</em> = [<em>g<sup>k</sup></em>], and so <em>H</em> is cyclic.<br><br>\n",
    "\n",
    "<a href=\"#prop36ret\">Return to text</a>"
   ]
  },
  {
   "cell_type": "markdown",
   "id": "ee4ee1",
   "metadata": {
    "collapsed": false
   },
   "source": [
    "<br><br><br><br><br><br><br><br><br><br><br><br><br><br><br><br><br><br><br><br><br><br><br><br><br><br><br><br><br><br><br><br><br><br><br><br><br><br><br><br><br><br> "
   ]
  },
  {
   "cell_type": "markdown",
   "id": "bb800a",
   "metadata": {
    "collapsed": false
   },
   "source": [
    "<a name=\"prop37\" id=\"prop37\"></a>\n",
    "Proof of Proposition 3.7:<br><br>\n",
    "\n",
    "First of all, notice that if\n",
    "<table align=\"center\" border=\"0\" cellspacing=\"0\" cellpadding=\"0\">\n",
    "  <tr>\n",
    "    <td rowspan = \"2\" align=\"right\"><em>x</em> =&ensp;</td>\n",
    "    <td height=\"33\" valign=\"bottom\"><font style=\"text-decoration:underline\">&ensp;&emsp;<em>a</em>&middot;<em>n</em>&emsp;&ensp;</font></td>\n",
    "    <td rowspan = \"2\" align=\"right\">,</td>\n",
    "  </tr>\n",
    "  <tr>\n",
    "     <td valign=\"top\">gcd(<em>n</em>, <em>k</em>)</td>\n",
    "  </tr>\n",
    "</table>\n",
    "then\n",
    "<table align=\"center\" border=\"0\" cellspacing=\"0\" cellpadding=\"0\">\n",
    "  <tr>\n",
    "    <td rowspan = \"2\" align=\"right\"><em>x</em>&middot;<em>k</em> =&ensp;</td>\n",
    "    <td height=\"33\" valign=\"bottom\"><font style=\"text-decoration:underline\">&emsp;<em>a</em>&middot;<em>n</em>&middot;<em>k</em>&emsp;</font></td>\n",
    "    <td rowspan = \"2\" align=\"right\">&ensp;= <em>a</em>&middot;<em>n</em>&middot;&ensp;</td>\n",
    "    <td height=\"33\" valign=\"bottom\"><font style=\"text-decoration:underline\">&emsp;&emsp;<em>k</em>&emsp;&emsp;</font></td>\n",
    "    <td rowspan = \"2\" align=\"right\">,</td>\n",
    "  </tr>\n",
    "  <tr>\n",
    "     <td valign=\"top\">gcd(<em>n</em>, <em>k</em>)</td>\n",
    "     <td valign=\"top\">gcd(<em>n</em>, <em>k</em>)</td>\n",
    "  </tr>\n",
    "</table>\n",
    "<br>\n",
    "and since gcd(<em>n</em>, <em>k</em>) is a divisor of <em>k</em>, we see that <em>x</em> &middot; <em>k</em> is a multiple of <em>n</em>.  Thus,\n",
    "<p style='text-align: center;'><em>x</em>&middot;<em>k</em> &#8801; 0 (mod <em>n</em>).</p>\n",
    " \n",
    "Now suppose that <em>x</em>&middot;<em>k</em> is a multiple of <em>n</em>. We want to show that\n",
    "<table align=\"center\" border=\"0\" cellspacing=\"0\" cellpadding=\"0\">\n",
    "  <tr>\n",
    "    <td rowspan = \"2\" align=\"right\"><em>a</em> =&ensp;</td>\n",
    "    <td height=\"33\" valign=\"bottom\"><font style=\"text-decoration:underline\"><em>x</em>&middot;gcd(<em>n</em>, <em>k</em>)</font></td>\n",
    "  </tr>\n",
    "  <tr>\n",
    "     <td align=\"center\" valign=\"top\">&ensp;&ensp;&ensp;<em>n</em>&ensp;&ensp;&ensp;</td>\n",
    "  </tr>\n",
    "</table>\n",
    "<br>\n",
    "is in fact an integer. By B&eacute;zout's lemma (1.3), there exist integers <em>u</em> and <em>v</em> such that \n",
    "gcd(<em>n</em>, <em>k</em>) = <em>u</em>&middot;<em>n</em> + <em>v</em>&middot;<em>k</em>. Then<br><br>\n",
    "<table align=\"center\" border=\"0\" cellspacing=\"0\" cellpadding=\"0\">\n",
    "  <tr>\n",
    "    <td rowspan = \"2\" align=\"right\"><em>a</em> =&ensp;</td>\n",
    "    <td height=\"33\" valign=\"bottom\"><font style=\"text-decoration:underline\"><em>x</em>&middot;(<em>u</em>&middot;<em>n</em> + <em>v</em>&middot;<em>k</em>)</font></td>\n",
    "    <td rowspan = \"2\" align=\"right\">&ensp;= <em>x</em>&middot;<em>u</em> +&ensp;</td>\n",
    "    <td height=\"33\" valign=\"bottom\"><font style=\"text-decoration:underline\"><em>x</em>&middot;<em>k</em>&middot;<em>v</em></font></td>\n",
    "    <td rowspan = \"2\" align=\"right\">.</td>\n",
    "  </tr>\n",
    "  <tr>\n",
    "     <td align=\"center\" valign=\"top\">&ensp;&ensp;&ensp;&ensp;<em>n</em>&ensp;&ensp;&ensp;&ensp;</td>\n",
    "     <td align=\"center\" valign=\"top\">&ensp;<em>n</em>&ensp;</td>\n",
    "  </tr>\n",
    "</table>\n",
    "<br>\n",
    "Since <em>x</em> &middot; <em>k</em> is a multiple of <em>n</em>, we see that <em>a</em> is an integer. Thus,\n",
    "<table align=\"center\" border=\"0\" cellspacing=\"0\" cellpadding=\"0\">\n",
    "  <tr>\n",
    "    <td rowspan = \"2\" align=\"right\"><em>x</em> =&ensp;</td>\n",
    "    <td height=\"33\" valign=\"bottom\"><font style=\"text-decoration:underline\">&ensp;&emsp;<em>a</em>&middot;<em>n</em>&emsp;&ensp;</font></td>\n",
    "  </tr>\n",
    "  <tr>\n",
    "     <td valign=\"top\">gcd(<em>n</em>, <em>k</em>)</td>\n",
    "  </tr>\n",
    "</table>\n",
    "for some integer <em>a</em>.<br><br>\n",
    "\n",
    "<a href=\"#prop37ret\">Return to text</a>"
   ]
  },
  {
   "cell_type": "markdown",
   "id": "2ead0f",
   "metadata": {
    "collapsed": false
   },
   "source": [
    "<br><br><br><br><br><br><br><br><br><br><br><br><br><br><br><br><br><br><br><br><br><br><br><br><br><br><br><br><br><br><br><br><br><br><br><br><br><br><br><br><br><br> "
   ]
  },
  {
   "cell_type": "markdown",
   "id": "11ba89",
   "metadata": {
    "collapsed": false
   },
   "source": [
    "<a name=\"cor31\" id=\"cor31\"></a>\n",
    "Proof of Corollary 3.1:<br><br>\n",
    "\n",
    "Let <em>g</em> be a generator of <em>G</em>, and let <em>x</em> = <em>g<sup>y</sup></em> be an element of <em>G</em>. Then\n",
    "<em>x<sup>k</sup></em> = (<em>g<sup>y</sup></em>)<sup><em>k</em></sup> = <em>g</em><sup><em>y</em>&middot;<em>k</em></sup>, which is equal to the identity if and only if <br>\n",
    "<p style='text-align: center;'><em>y</em>&middot;<em>k</em> &equiv; 0 (mod <em>n</em>).</p>\n",
    "By Proposition 3.7, this is true if and only if\n",
    "<table align=\"center\" border=\"0\" cellspacing=\"0\" cellpadding=\"0\">\n",
    "  <tr>\n",
    "    <td rowspan = \"2\" align=\"right\"><em>y</em> =&ensp;</td>\n",
    "    <td height=\"33\" valign=\"bottom\"><font style=\"text-decoration:underline\">&ensp;&emsp;<em>a</em>&middot;<em>n</em>&emsp;&ensp;</font></td>\n",
    "  </tr>\n",
    "  <tr>\n",
    "     <td valign=\"top\">gcd(<em>n</em>, <em>k</em>)</td>\n",
    "  </tr>\n",
    "</table>\n",
    "<br>\n",
    "for some integer <em>a</em>.  Hence, the number of possible values of  <em>y</em>  between 0 and  <em>n</em> &minus; 1 for which \n",
    "<em>g</em><sup><em>y</em>&middot;<em>k</em></sup> = <em>e</em> is<br><br>\n",
    "<table align=\"center\" border=\"0\" cellspacing=\"0\" cellpadding=\"0\">\n",
    "  <tr>\n",
    "    <td height=\"33\" valign=\"bottom\"><font style=\"text-decoration:underline\">&ensp;&emsp;&emsp;<em>n</em>&emsp;&emsp;&ensp;</font></td>\n",
    "    <td rowspan = \"2\" align=\"right\">&ensp;= gcd(<em>n</em>, <em>k</em>).</td>\n",
    "  </tr>\n",
    "  <tr>\n",
    "     <td valign=\"top\"><em>n</em> / gcd(<em>n</em>, <em>k</em>)</td>\n",
    "  </tr>\n",
    "</table>\n",
    "<br>\n",
    "Each such value of <em>y</em> between 0 and <em>n</em> &minus; 1 produces a different solution <em>x</em> = <em>g<sup>y</sup></em>, so there are \n",
    "exactly gcd(<em>n</em>, <em>k</em>) solutions.<br><br>\n",
    "\n",
    "<a href=\"#cor31ret\">Return to text</a>"
   ]
  },
  {
   "cell_type": "markdown",
   "id": "12fe9f",
   "metadata": {
    "collapsed": false
   },
   "source": [
    "<br><br><br><br><br><br><br><br><br><br><br><br><br><br><br><br><br><br><br><br><br><br><br><br><br><br><br><br><br><br><br><br><br><br><br><br><br><br><br><br><br><br> "
   ]
  },
  {
   "cell_type": "markdown",
   "id": "dce475",
   "metadata": {
    "collapsed": false
   },
   "source": [
    "<a name=\"sec3p\" id=\"sec3p\"></a>\n",
    "<h1><em>SageMath</em> Interactive Problems</h1>\n",
    "\n",
    "<br>\n",
    "&sect;3.1 #28)<br>\n",
    "Use <em>SageMath</em>'s circle graph to find all of the generators of the group <em>Z</em><sub>21</sub>.<br>"
   ]
  },
  {
   "cell_type": "markdown",
   "id": "03d0cb",
   "metadata": {
    "collapsed": false
   },
   "source": [
    "<br>\n",
    "&sect;3.1 #29)<br>\n",
    "Use <em>SageMath</em> to see if there an element of <em>Z</em><sub>25</sub><sup>&ast;</sup> that generates <em>Z</em><sub>25</sub><sup>&ast;</sup>.  If so, how many such \n",
    "elements are there?<br>"
   ]
  },
  {
   "cell_type": "markdown",
   "id": "262bdf",
   "metadata": {
    "collapsed": false
   },
   "source": [
    "<br>\n",
    "&sect;3.1 #30)<br>\n",
    "By using <em>SageMath</em>'s <strong>Generators()</strong> command, determine whether <em>Z<sub>n</sub></em><sup>&ast;</sup> is cyclic for <em>n</em> = 9, 27, 81, 243, 5, 25, 125.  \n",
    "Make a conjecture about when <em>Z<sub>n</sub></em><sup>&ast;</sup> is cyclic if <em>n</em> is a power of an odd prime.<br>"
   ]
  },
  {
   "cell_type": "markdown",
   "id": "197c4f",
   "metadata": {
    "collapsed": false
   },
   "source": [
    "<br>\n",
    "&sect;3.1 #31)<br>\n",
    "By using <em>SageMath</em>'s <strong>Generators()</strong> command, determine whether <em>Z<sub>n</sub></em><sup>&ast;</sup> is cyclic for <em>n</em> = 18, 54, 162, 486, 50, 250, 98, 686. \n",
    "Make a conjecture about when <em>Z<sub>n</sub></em><sup>&ast;</sup> is cyclic if <em>n</em> is twice the power of an odd prime.<br>"
   ]
  },
  {
   "cell_type": "markdown",
   "id": "ec7154",
   "metadata": {
    "collapsed": false
   },
   "source": [
    "<br>\n",
    "&sect;3.1 #32)<br>\n",
    "By using <em>SageMath</em>'s <strong>Generators()</strong> command, see if you can find an <em>n</em> for which <em>Z<sub>n</sub></em><sup>&ast;</sup> is cyclic, and <em>n</em> doesn't fit \n",
    "into the categories of Problems 25 or 26.<br>"
   ]
  },
  {
   "cell_type": "markdown",
   "id": "9a8c0b",
   "metadata": {
    "collapsed": false
   },
   "source": [
    "<br>\n",
    "&sect;3.2 #18)<br>\n",
    "Use <em>SageMath</em> to define a group that has two elements, <em>a</em> and <em>b</em>, for which <em>a</em><sup>5</sup> = <em>b</em><sup>4</sup> =<em>e</em>,\n",
    "and <em>b</em> &middot; <em>a</em> = <em>a</em><sup>2</sup> &middot; <em>b</em>.  How many elements does this group have?<br>"
   ]
  },
  {
   "cell_type": "markdown",
   "id": "7c2fd7",
   "metadata": {
    "collapsed": false
   },
   "source": [
    "<br>\n",
    "&sect;3.2 #19)<br>\n",
    "Consider the rotations of a regular <em>tetrahedron</em> (triangular pyramid) oriented with its base in the <em>xy</em>-plane, and another face towards the front.  If <em>a</em> represents flipping the left slanted edge, and <em>b</em> represents flipping the right slanted edge, then <em>a</em>&middot;<em>b</em> and <em>b</em>&middot;<em>a</em> both end up flipping the back edge. (Try it!)  Let <em>c</em> be a 120&deg; rotation of the base clockwise when viewed from the top.  Then <em>c</em>&middot;<em>a</em>&middot;<em>c</em><sup>&minus;1</sup> = <em>b</em>, since <em>c</em> turns the right edge to the left edge.  Likewise, <em>c</em>&middot;<em>b</em>&middot;<em>c</em><sup>&minus;1</sup> = <em>a</em>&middot;<em>b</em>, since the back edge is turned to the right edge.  From this information, enter the rotation group into <em>SageMath</em>.  You will need to find expressions for <em>c</em>&middot;<em>a</em> and <em>c</em>&middot;<em>b</em> that are in alphabetical order.<br>"
   ]
  },
  {
   "cell_type": "markdown",
   "id": "ea28d9",
   "metadata": {
    "collapsed": false
   },
   "source": [
    "<br>\n",
    "&sect;3.2 #20)<br>\n",
    "Consider extending the octahedral group by adding another generator <em>d</em>, which of order 5, such that <em>d</em>&middot;<em>a</em> = <em>a</em>&middot;<em>b</em>&middot;<em>d</em>, <em>d</em>&middot;<em>b</em> = <em>a</em>&middot;<em>c</em>&middot;<em>d</em>, and <em>d</em>&middot;<em>c</em> = <em>a</em>&middot;<em>d</em><sup>2</sup>.  Enter this larger group into <em>SageMath</em>.  How many elements does it have?  (Do not try to do a <strong>CheckGroup</strong> on this group.)<br>"
   ]
  },
  {
   "cell_type": "markdown",
   "id": "08ae50",
   "metadata": {
    "collapsed": false
   },
   "source": [
    "<br>\n",
    "&sect;3.3 #23)<br>\n",
    "Use Problem 18 from &sect;3.2 to find the subgroup generated by the elements <em>a</em> and <em>b</em><sup>2</sup>.  How many elements does this have?<br>"
   ]
  },
  {
   "cell_type": "markdown",
   "id": "de2a7e",
   "metadata": {
    "collapsed": false
   },
   "source": [
    "<br>\n",
    "&sect;3.3 #24)<br>\n",
    "Use <em>SageMath</em> to find the order of the elements <em>b</em>&middot;<em>f</em>, <em>b</em>&middot;<em>f</em>&middot;<em>r</em>&middot;<em>f</em>&middot;<em>f</em> \n",
    "and <em>f</em>&middot;<em>b</em>&middot;<em>r</em> in the Pyraminx&trade; group.<br>"
   ]
  },
  {
   "cell_type": "markdown",
   "id": "883ea1",
   "metadata": {
    "collapsed": false
   },
   "source": [
    "<br>\n",
    "&sect;3.3 #25)<br>\n",
    "Can you use <em>SageMath</em> to find an element of the Pyraminx&trade; group that has order 30?<br>  \n",
    "(Hint: Exactly five of the six edges must be moved out of place. The sixth edge must flip as well.)<br>"
   ]
  },
  {
   "cell_type": "markdown",
   "id": "6db1fc",
   "metadata": {
    "collapsed": false
   },
   "source": [
    "</font>\n",
    "\n",
    "</body>\n",
    "\n",
    "</html>"
   ]
  }
 ],
 "metadata": {
  "kernelspec": {
   "argv": [
    "sage-10.0",
    "--python",
    "-m",
    "sage.repl.ipython_kernel",
    "--matplotlib=inline",
    "-f",
    "{connection_file}"
   ],
   "display_name": "SageMath 10.0",
   "env": {
   },
   "language": "sagemath",
   "metadata": {
    "cocalc": {
     "description": "Open-source mathematical software system",
     "priority": 10,
     "url": "https://www.sagemath.org/"
    }
   },
   "name": "sage-10.0",
   "resource_dir": "/ext/jupyter/kernels/sage-10.0"
  },
  "language_info": {
   "codemirror_mode": {
    "name": "ipython",
    "version": 3
   },
   "file_extension": ".py",
   "mimetype": "text/x-python",
   "name": "python",
   "nbconvert_exporter": "python",
   "pygments_lexer": "ipython3",
   "version": "3.7.10"
  }
 },
 "nbformat": 4,
 "nbformat_minor": 4
}