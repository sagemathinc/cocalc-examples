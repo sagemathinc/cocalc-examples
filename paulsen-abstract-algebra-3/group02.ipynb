{
 "cells": [
  {
   "cell_type": "markdown",
   "id": "c5d719",
   "metadata": {
    "collapsed": false
   },
   "source": [
    "<!-- Group02 -->\n",
    "\n",
    "<html>\n",
    "<body>\n",
    "\n",
    "<!-- To make the size of the font bigger for presentations, change the following command from +1 to +2 -->\n",
    "\n",
    "<font size=\"+1\">\n",
    "\n",
    "<p style='font-size: 36px;font-family: Arial;font-style: italic;font-weight: bold;color: #FF00FF;background-color: #80FFFF;text-align: center;'>\n",
    "Abstract Algebra: An Interactive Approach, 3e\n",
    "</p>\n",
    "\n",
    "<p style='font-family: Geneva;font-style: italic;color: #0000FF;background-color: #FFFFFF;'>\n",
    "This notebook is provided with the textbook, &quot;Abstract Algebra: An Interactive Approach, 3rd Ed.&quot; by William Paulsen. Users of this notebook are encouraged to buy the textbook.\n",
    "</p>\n",
    "\n",
    "<p style='font-size: 36px;font-family: New York;font-weight: bold;color: #000000;background-color: #FFFFFF;text-align: center;border: 1px;border-style: \n",
    "solid;border-color: #000000;'>\n",
    "Chapter 2: Understanding the Group Concept\n",
    "</p>\n",
    "\n",
    "<p style='text-align: center;'>Initialization:  This cell MUST be evaluated first:</p>\n",
    "\n"
   ]
  },
  {
   "cell_type": "code",
   "execution_count": 0,
   "id": "2785f7",
   "metadata": {
    "collapsed": false
   },
   "outputs": [
   ],
   "source": [
    "load('absalgtext2.sage')"
   ]
  },
  {
   "cell_type": "markdown",
   "id": "0c3af7",
   "metadata": {
    "collapsed": false
   },
   "source": [
    "<br>\n",
    "The above command must be evaluated as the worksheet is loaded.  As long as the message \"Initialization Done\" appears after the command, we are ready to proceed.<br><br>"
   ]
  },
  {
   "cell_type": "markdown",
   "id": "775157",
   "metadata": {
    "collapsed": false
   },
   "source": [
    "<br><br>\n",
    "<a href=\"#sec21\">Introduction to Groups</a><br>\n",
    "<a href=\"#sec22\">Modular Congruence</a><br>\n",
    "<a href=\"#sec23\">The Definition of a Group</a><br>\n",
    "<a href=\"#sec2p\"><em>SageMath</em> Interactive Problems</a><br>"
   ]
  },
  {
   "cell_type": "markdown",
   "id": "1a1c3f",
   "metadata": {
    "collapsed": false
   },
   "source": [
    "<a name=\"sec21\" id=\"sec21\"></a>\n",
    "<h1>Introduction to Groups</h1>\n",
    "\n",
    "\n",
    "<br><br>\n",
    "To help introduce us to the concept of groups, let us meet a triangle which, through <em>SageMath</em>, will dance before your eyes! To see Terry the Triangle, execute \n",
    "the following <em>SageMath</em> command. This is done by clicking the mouse inside the rectangle in which the command appears, and press Shift + Enter.  If you are not using CoCalc, you could \n",
    "also click on the expression, then click on the \"Evaluate\" button that appears.  Try it!<br><br>"
   ]
  },
  {
   "cell_type": "code",
   "execution_count": 0,
   "id": "7c634e",
   "metadata": {
    "collapsed": false
   },
   "outputs": [
   ],
   "source": [
    "ShowTerry()"
   ]
  },
  {
   "cell_type": "markdown",
   "id": "1df0e5",
   "metadata": {
    "collapsed": false
   },
   "source": [
    "<br>\n",
    "Terry may not look very impressive, but with <em>SageMath</em> animation, Terry can do some tricks. For example, Terry can rotate with the following command:<br>"
   ]
  },
  {
   "cell_type": "code",
   "execution_count": 0,
   "id": "a69d37",
   "metadata": {
    "collapsed": false
   },
   "outputs": [
   ],
   "source": [
    "Terry(RotRt)"
   ]
  },
  {
   "cell_type": "markdown",
   "id": "23e76e",
   "metadata": {
    "collapsed": false
   },
   "source": [
    "<br>\n",
    "This command takes a little longer to execute.  Notice that a light green bar appears becide the area where the answer will appear in order to assure you that the command \n",
    "is being executed.  As you can see, <strong>RotRt</strong> is the abbreviation for rotation right, or clockwise.  Terry can rotate counterclockwise with the command:<br>"
   ]
  },
  {
   "cell_type": "code",
   "execution_count": 0,
   "id": "16a9c9",
   "metadata": {
    "collapsed": false
   },
   "outputs": [
   ],
   "source": [
    "Terry(RotLft)"
   ]
  },
  {
   "cell_type": "markdown",
   "id": "4f7865",
   "metadata": {
    "collapsed": false
   },
   "source": [
    "<br>\n",
    "Terry can do more than just rotate. For example, Terry can spin in three dimensions.<br>"
   ]
  },
  {
   "cell_type": "code",
   "execution_count": 0,
   "id": "a10983",
   "metadata": {
    "collapsed": false
   },
   "outputs": [
   ],
   "source": [
    "Terry(Spin)"
   ]
  },
  {
   "cell_type": "markdown",
   "id": "00f476",
   "metadata": {
    "collapsed": false
   },
   "source": [
    "<br>\n",
    "Terry can also do some gymnastic tricks, such as flipping over the right and left shoulder.<br>"
   ]
  },
  {
   "cell_type": "code",
   "execution_count": 0,
   "id": "caeb0e",
   "metadata": {
    "collapsed": false
   },
   "outputs": [
   ],
   "source": [
    "Terry(FlipRt)"
   ]
  },
  {
   "cell_type": "code",
   "execution_count": 0,
   "id": "87c946",
   "metadata": {
    "collapsed": false
   },
   "outputs": [
   ],
   "source": [
    "Terry(FlipLft)"
   ]
  },
  {
   "cell_type": "markdown",
   "id": "12c35d",
   "metadata": {
    "collapsed": false
   },
   "source": [
    "<br>\n",
    "This makes 5 different moves that Terry can do. There is one more trick that Terry can perform:<br>"
   ]
  },
  {
   "cell_type": "code",
   "execution_count": 0,
   "id": "e335f4",
   "metadata": {
    "collapsed": false
   },
   "outputs": [
   ],
   "source": [
    "Terry(Stay)"
   ]
  },
  {
   "cell_type": "markdown",
   "id": "11d3a3",
   "metadata": {
    "collapsed": false
   },
   "source": [
    "<br>\n",
    "Good triangle!<br><br>\n",
    " \n",
    "These six commands are the six dance steps that Terry can do. Terry can combine these dance steps to form a dance routine. We separate the dance steps by asterisks. \n",
    "Here is a simple routine that Terry can do:<br>"
   ]
  },
  {
   "cell_type": "code",
   "execution_count": 0,
   "id": "8ba90e",
   "metadata": {
    "collapsed": false
   },
   "outputs": [
   ],
   "source": [
    "Terry(FlipRt * Spin * RotRt)"
   ]
  },
  {
   "cell_type": "markdown",
   "id": "d177f4",
   "metadata": {
    "collapsed": false
   },
   "source": [
    "<br>\n",
    "EXPERIMENT:<br>\n",
    "You may have noticed in the previous animation that Terry ends the dance routine in the original orientation.  What if the <em>order</em> of the dance steps were \n",
    "changed?  Edit the last command to change the order of Terry's steps, and see what happens. <br>"
   ]
  },
  {
   "cell_type": "markdown",
   "id": "e689e2",
   "metadata": {
    "collapsed": false
   },
   "source": [
    "<br>\n",
    "Here is a shorter dance sequence for Terry.  Pay special attention to how Terry is oriented after the dance routine. <br>"
   ]
  },
  {
   "cell_type": "code",
   "execution_count": 0,
   "id": "f65da1",
   "metadata": {
    "collapsed": false
   },
   "outputs": [
   ],
   "source": [
    "Terry(FlipRt * Spin)"
   ]
  },
  {
   "cell_type": "markdown",
   "id": "1b1321",
   "metadata": {
    "collapsed": false
   },
   "source": [
    "<br>\n",
    "Sometimes Terry gets tired of doing all of these long routines.  When this happens, Terry takes a short cut to get to the final orientation.  For example, the above \n",
    "routine leaves Terry in the same orientation as <strong>RotLft</strong>, and so Terry would simply rotate instead of doing the extra gymnastics.  Executing the follow \n",
    "command allows Terry to take short cuts in all dance routines.<br>"
   ]
  },
  {
   "cell_type": "code",
   "execution_count": 0,
   "id": "865b96",
   "metadata": {
    "collapsed": false
   },
   "outputs": [
   ],
   "source": [
    "InitTerry()"
   ]
  },
  {
   "cell_type": "markdown",
   "id": "c8d8b4",
   "metadata": {
    "collapsed": false
   },
   "source": [
    "<br>\n",
    "Now let's ask Terry to do the same dance routine.<br>"
   ]
  },
  {
   "cell_type": "code",
   "execution_count": 0,
   "id": "f3c4a9",
   "metadata": {
    "collapsed": false
   },
   "outputs": [
   ],
   "source": [
    "Terry(FlipRt * Spin)"
   ]
  },
  {
   "cell_type": "markdown",
   "id": "a8b0be",
   "metadata": {
    "collapsed": false
   },
   "source": [
    "<br>\n",
    "Notice that Terry simply rotates to get to the correct orientation.  Rather than calling Terry a bad triangle for being lazy, we must commend Terry for being smart enough \n",
    "to know that a flip to the right followed by a spin is equivalent to a counter-clockwise rotation.  In essence Terry has learned how to &quot;multiply&quot; two dance \n",
    "steps together.<br><br>\n",
    " \n",
    "We can use <em>SageMath</em> to multiply dance steps together, using the star to indicate Terry's multiplication.  Thus, <em>SageMath</em> simplifies \n",
    "<strong>FlipRt</strong> &middot; <strong>Spin</strong> as follows: <br>"
   ]
  },
  {
   "cell_type": "code",
   "execution_count": 0,
   "id": "305545",
   "metadata": {
    "collapsed": false
   },
   "outputs": [
   ],
   "source": [
    "FlipRt * Spin"
   ]
  },
  {
   "cell_type": "markdown",
   "id": "3d62c8",
   "metadata": {
    "collapsed": false
   },
   "source": [
    "<br>\n",
    "We can display a \"multiplication table\" of all of Terry's dance steps by the following command<br>"
   ]
  },
  {
   "cell_type": "code",
   "execution_count": 0,
   "id": "01349d",
   "metadata": {
    "collapsed": false
   },
   "outputs": [
   ],
   "source": [
    "CayleyTable([Stay, FlipRt, RotRt, FlipLft, RotLft, Spin])"
   ]
  },
  {
   "cell_type": "markdown",
   "id": "a54873",
   "metadata": {
    "collapsed": false
   },
   "source": [
    "<br>\n",
    "To read this table, we look for the first of the dance steps on the left hand side of the table, and the second of the dance steps on the top.  This table is often referred to \n",
    "as a <em>Cayley table</em>.  Thus, to determine\n",
    "<strong>FlipRt</strong> &lowast; <strong>Spin</strong>, we look at the right hand entry of the second row to find <strong>RotLft</strong>. \n",
    "\n",
    "<br><br>\n",
    "This table illuminates some properties of the dance steps.  Each of the six dance steps is in a different color, to highlight these properties.  One property this \n",
    "table demonstrates that the combination of any two dance steps is equivalent to one of the six dance steps.<br><br>\n",
    "\n",
    "Another of the easiest properties to observe is in the <strong>Stay</strong> row and column. Notice that whenever the command <strong>Stay</strong> is combined with any \n",
    "other dance step, it leaves that dance step unchanged. Try this for yourself:<br>"
   ]
  },
  {
   "cell_type": "code",
   "execution_count": 0,
   "id": "4069ed",
   "metadata": {
    "collapsed": false
   },
   "outputs": [
   ],
   "source": [
    "Stay * RotRt"
   ]
  },
  {
   "cell_type": "code",
   "execution_count": 0,
   "id": "8e71fd",
   "metadata": {
    "collapsed": false
   },
   "outputs": [
   ],
   "source": [
    "RotRt * Stay"
   ]
  },
  {
   "cell_type": "markdown",
   "id": "ea487f",
   "metadata": {
    "collapsed": false
   },
   "source": [
    "<br>\n",
    "EXPERIMENT:<br>\n",
    "Replace <strong>RotRt</strong> in the above two <em>SageMath</em> commands with a different dance step and re-evaluate them. Notice what happens.<br>"
   ]
  },
  {
   "cell_type": "markdown",
   "id": "d504a8",
   "metadata": {
    "collapsed": false
   },
   "source": [
    "<br>\n",
    "You may observe that the Stay command acts like the number 1 in our standard multiplication.  In mathematical notation, we say that \n",
    "<p style='text-align: center;'><strong>Stay</strong> &lowast; <em>x</em> = <em>x</em>  and   <em>x</em> &lowast; <strong>Stay</strong> = <em>x</em></p>\n",
    "for all dance steps <em>x</em>.  We call <strong>Stay</strong> the <em>identity</em> of the dance steps.<br><br>  \n",
    "\n",
    "But there is a property of these dance steps that is unlike our standard multiplication.  In a previous experiment, you were asked to change the order of the dance \n",
    "steps in a routine to see if that would affect the final orientation.  In fact, it did! Check out the following two products:<br>"
   ]
  },
  {
   "cell_type": "code",
   "execution_count": 0,
   "id": "90aac6",
   "metadata": {
    "collapsed": false
   },
   "outputs": [
   ],
   "source": [
    "Spin * FlipRt"
   ]
  },
  {
   "cell_type": "code",
   "execution_count": 0,
   "id": "7aa0c0",
   "metadata": {
    "collapsed": false
   },
   "outputs": [
   ],
   "source": [
    "FlipRt * Spin"
   ]
  },
  {
   "cell_type": "markdown",
   "id": "ceffa6",
   "metadata": {
    "collapsed": false
   },
   "source": [
    "<br>\n",
    "As we see, the product depends on the order in which the dance steps are multiplied. In other words,\n",
    "<p style='text-align: center;'><em>x</em>&lowast;<em>y</em>   is sometimes not equal to   <em>y</em>&lowast;<em>x</em>.</p>\n",
    "This is perhaps the biggest difference between Terry's algebra and the algebra that we are familiar with.  We are familar with the \n",
    "<em>commutative property</em> of numbers:\n",
    "<p style='text-align: center;'><em>x y</em> = <em>y x</em>   for all real numbers <em>x</em> and <em>y</em>.</p>\n",
    "Since Terry's dance steps do not obey this law, we say that the dance steps are <em>non-commutative</em>.<br><br>\n",
    "\n",
    "There is another property that we are familiar with in standard algebra:\n",
    "<p style='text-align: center;'><em>x</em> (<em>y z</em>) = (<em>x y</em>) <em>z</em>   for all numbers <em>x</em>, <em>y</em>, and <em>z</em>.</p>\n",
    "This is called the <em>associative law of multiplication</em>.  Do Terry's dance steps obey this law?<br><br>\n",
    "\n",
    "EXPERIMENT:<br>\n",
    "Compare the two products:<br>"
   ]
  },
  {
   "cell_type": "code",
   "execution_count": 0,
   "id": "fe3eef",
   "metadata": {
    "collapsed": false
   },
   "outputs": [
   ],
   "source": [
    "(Spin * RotRt) * FlipLft"
   ]
  },
  {
   "cell_type": "code",
   "execution_count": 0,
   "id": "1f48d3",
   "metadata": {
    "collapsed": false
   },
   "outputs": [
   ],
   "source": [
    "Spin * (RotRt * FlipLft)"
   ]
  },
  {
   "cell_type": "markdown",
   "id": "4acfc6",
   "metadata": {
    "collapsed": false
   },
   "source": [
    "<br>\n",
    "Try changing the dance steps to see if we always get the same product, regardless of where the parenthesis are.<br>"
   ]
  },
  {
   "cell_type": "markdown",
   "id": "58c793",
   "metadata": {
    "collapsed": false
   },
   "source": [
    "<br>\n",
    "There is another property that we can observe from Terry's multiplication table.  Here it is again.<br>"
   ]
  },
  {
   "cell_type": "code",
   "execution_count": 0,
   "id": "261d48",
   "metadata": {
    "collapsed": false
   },
   "outputs": [
   ],
   "source": [
    "CayleyTable([Stay, FlipRt, RotRt, FlipLft, RotLft, Spin])"
   ]
  },
  {
   "cell_type": "markdown",
   "id": "9520f4",
   "metadata": {
    "collapsed": false
   },
   "source": [
    "<br>\n",
    "Notice that the identity dance step, <strong>Stay</strong> is in every row and every column in the table.  (Notice the yellow squares.)  This indicates that every dance \n",
    "step has some dance step which &quot;undoes&quot; it.  For example, <strong>RotLft</strong> will undo a <strong>RotRt</strong> command, since<br>"
   ]
  },
  {
   "cell_type": "code",
   "execution_count": 0,
   "id": "81073b",
   "metadata": {
    "collapsed": false
   },
   "outputs": [
   ],
   "source": [
    "RotLft * RotRt"
   ]
  },
  {
   "cell_type": "markdown",
   "id": "a557c0",
   "metadata": {
    "collapsed": false
   },
   "source": [
    "<br>\n",
    "gives us the identity element. Likewise, the <strong>Spin</strong> command undoes itself, for two spins in secession<br>"
   ]
  },
  {
   "cell_type": "code",
   "execution_count": 0,
   "id": "29d126",
   "metadata": {
    "collapsed": false
   },
   "outputs": [
   ],
   "source": [
    "Spin * Spin"
   ]
  },
  {
   "cell_type": "markdown",
   "id": "4275c4",
   "metadata": {
    "collapsed": false
   },
   "source": [
    "<br>\n",
    "returns to the original position.<br><br>\n",
    " \n",
    "Using mathematical notation again, we say that for every dance step <em>x</em>, there is some dance step <em>y</em> such that\n",
    "<p style='text-align: center;'><em>x</em>&lowast;<em>y</em> = <strong>Stay</strong>.</p>\n",
    "The dance step <em>y</em> is called an <em>inverse</em> of <em>x</em>. For example, <strong>RotLft</strong> is the inverse of <strong>RotRt</strong>, and \n",
    "<strong>Spin</strong> is the inverse of <strong>Spin</strong>. \n",
    "\n",
    "<br><br>\n",
    "Terry claims that if <em>x</em>&lowast;<em>y</em> = <strong>Stay</strong>, then <em>y</em>&lowast;<em>x</em> will also equal <strong>Stay</strong>. \n",
    "Although this can be seen to be true by looking at the multiplication table, can you prove that this is so using only the properties of Terry's dance steps that we \n",
    "have discovered?  Here is a summary of what we have found so far:<br>\n",
    "<br>  \n",
    "  \n",
    "1)&emsp;The combination of any two dance steps is equivalent to one of the six dance steps.  <br>\n",
    "&emsp;&emsp;In other words, there are no &quot;holes&quot; in the Cayley table.<br><br>      \n",
    "  \n",
    "2)&emsp;The <em>order</em> in which the dance steps are performed are important.  <br>\n",
    "&emsp;&emsp;For example, <strong>Spin</strong> &lowast; <strong>FlipRt</strong> &ne; <strong>FlipRt</strong> &lowast; <strong>Spin</strong>.<br><br>   \n",
    "\n",
    "3)&emsp;The order in which a dance routine is simplified does not matter.<br>\n",
    "&emsp;&emsp;That is,  (<em>x</em>&lowast;<em>y</em>)&lowast;<em>z</em>  =  <em>x</em>&lowast;(<em>y</em>&lowast;<em>z</em>) where <em>x</em>, <em>y</em>, and \n",
    "<em>z</em> represent three dance steps.<br><br>    \n",
    " \n",
    "4)&emsp;Any dance step combined with Stay yields the same dance step.<br>\n",
    "&emsp;&emsp;That is,  <em>x</em>&lowast;<strong>Stay</strong> = <em>x</em>  and  <strong>Stay</strong>&lowast;<em>x</em> = <em>x</em>  for any dance step <em>x</em>.<br><br>\n",
    " \n",
    "5)&emsp;Every dance step has another dance step that &quot;undoes&quot; it.  That is,          \n",
    "&emsp;&emsp;for any dance step <em>x</em>, there is a dance step <em>y</em> such that <em>x</em>&middot;<em>y</em> = <strong>Stay</strong>.<br>&emsp;&emsp;For example, a step that undoes <strong>RotRt</strong> is <strong>RotLft</strong>.<br><br>\n",
    "\n",
    "We will introduce the following mathematical terminology to express each of these properties.<br><br>    \n",
    "\n",
    "1)&emsp;The dance steps are <em>closed</em> under under the operation &lowast;.<br>\n",
    "&emsp;&emsp;Another way of saying this is that &lowast; is a <em>binary operator</em>.<br><br> \n",
    "2)&emsp;The dance steps are not <em>commutative</em>.<br><br>       \n",
    "3)&emsp;The dance steps are <em>associative</em>.<br><br>    \n",
    "4)&emsp;There is an <em>identity</em> dance step.<br><br>    \n",
    "5)&emsp;Every dance step has an <em>inverse</em>.<br><br>\n",
    "\n",
    "With just these properties, can you prove the following proposition on your own without looking at the proof?"
   ]
  },
  {
   "cell_type": "markdown",
   "id": "d5c35e",
   "metadata": {
    "collapsed": false
   },
   "source": [
    "<a name=\"prop21ret\" id=\"prop21ret\"></a> \n",
    "PROPOSITION 2.1<br>\n",
    "\n",
    "If <em>y</em> is an inverse of <em>x</em>, then <em>x</em> is an inverse of <em>y</em>.  Furthermore, <em>x</em> will be the <em>only</em> inverse of <em>y</em>.<br><br>\n",
    " \n",
    "Hint: Because we don't have the commutative property, we must use some other strategy. Recall that <em>y</em> must also have an inverse!<br><br>\n",
    "\n",
    "<a href=\"#prop21\">Click here for the proof.</a>\n",
    "\n",
    "<p />\n",
    "\n",
    "All of the proofs in these notebooks appear near the end, before the <em>SageMath</em> problems, with links allowing us to go directly to them.  This gives the user a \n",
    "chance to work the proof out on him own before peeking at the books version.   Notice that we did not yet assume that there is only one identity element.  However, \n",
    "this fact immediately follows from Proposition 2.1.  (See Problems 3 and 4.) <br>\n",
    "\n",
    "<br>\n",
    "DEFINITION 2.1   We use the notation <em>x</em><sup>-1</sup> for the unique inverse of the element <em>x</em>.<br><br>\n",
    "\n",
    "\n",
    "This is entered into <em>SageMath</em> as<br>"
   ]
  },
  {
   "cell_type": "code",
   "execution_count": 0,
   "id": "f4b589",
   "metadata": {
    "collapsed": false
   },
   "outputs": [
   ],
   "source": [
    "Spin^-1"
   ]
  },
  {
   "cell_type": "markdown",
   "id": "ea1fb1",
   "metadata": {
    "collapsed": false
   },
   "source": [
    "<br>\n",
    "Proposition 2.1 can now be expressed simply as (<em>x</em><sup>-1</sup>)<sup>-1</sup> = <em>x</em>.  Is it true that (<em>x</em>&lowast;<em>y</em>)<sup>-1</sup> = \n",
    "<em>x</em><sup>-1</sup>&lowast;<em>y</em><sup>-1</sup>, as we are accustomed too?<br><br>\n",
    "\n",
    "\n",
    "EXPERIMENT:<br>\n",
    "Try the following commands to see if they give the same result.<br>"
   ]
  },
  {
   "cell_type": "code",
   "execution_count": 0,
   "id": "94c8f3",
   "metadata": {
    "collapsed": false
   },
   "outputs": [
   ],
   "source": [
    "(Spin * RotRt)^-1"
   ]
  },
  {
   "cell_type": "code",
   "execution_count": 0,
   "id": "1bacdb",
   "metadata": {
    "collapsed": false
   },
   "outputs": [
   ],
   "source": [
    "Spin^-1 * RotRt^-1"
   ]
  },
  {
   "cell_type": "markdown",
   "id": "083521",
   "metadata": {
    "collapsed": false
   },
   "source": [
    "<br>\n",
    "Try using different dance steps in place of <strong>Spin</strong> amd <strong>RotRt</strong>. What do you observe?<br>"
   ]
  },
  {
   "cell_type": "markdown",
   "id": "f9f93f",
   "metadata": {
    "collapsed": false
   },
   "source": [
    "<br>\n",
    "Apparently, (<em>x</em>&lowast;<em>y</em>)<sup>-1</sup> is not always equal to <em>x</em><sup>-1</sup>&lowast;<em>y</em><sup>-1</sup>. \n",
    "But Terry would tell you that in order to undo a sequence of dance steps, one must begin by undoing the last dance step. \n",
    "Thus, the way to undo the routine (<strong>Spin</strong> &lowast; <strong>RotRt</strong>) is by first rotating left, and spinning back to the original position.<br>"
   ]
  },
  {
   "cell_type": "code",
   "execution_count": 0,
   "id": "ec72b0",
   "metadata": {
    "collapsed": false
   },
   "outputs": [
   ],
   "source": [
    "(Spin * RotRt)^-1"
   ]
  },
  {
   "cell_type": "code",
   "execution_count": 0,
   "id": "16c44a",
   "metadata": {
    "collapsed": false
   },
   "outputs": [
   ],
   "source": [
    "RotRt^-1 * Spin^-1"
   ]
  },
  {
   "cell_type": "markdown",
   "id": "098f9d",
   "metadata": {
    "collapsed": false
   },
   "source": [
    "<br> \n",
    "This suggests that \n",
    "<p style='text-align: center;'>(<em>x</em>&lowast;<em>y</em>)<sup>-1</sup> = <em>y</em><sup>-1</sup>&lowast;<em>x</em><sup>-1</sup>.</p>\n",
    "Can you prove this? "
   ]
  },
  {
   "cell_type": "markdown",
   "id": "e3d691",
   "metadata": {
    "collapsed": false
   },
   "source": [
    "<a name=\"prop22ret\" id=\"prop22ret\"></a>  \n",
    "PROPOSITION 2.2<br>\n",
    "\n",
    "<p style='text-align: center;'>(<em>x</em>&lowast;<em>y</em>)<sup>-1</sup> = <em>y</em><sup>-1</sup>&lowast;<em>x</em><sup>-1</sup>.</p>\n",
    "\n",
    "<a href=\"#prop22\">Click here for the proof.</a>\n",
    "\n",
    "<p />\n",
    "Let us see if we can find any more patterns in Terry's multiplication table. Here is the table again:<br>"
   ]
  },
  {
   "cell_type": "code",
   "execution_count": 0,
   "id": "c2210f",
   "metadata": {
    "collapsed": false
   },
   "outputs": [
   ],
   "source": [
    "CayleyTable([Stay, FlipRt, RotRt, FlipLft, RotLft, Spin])"
   ]
  },
  {
   "cell_type": "markdown",
   "id": "28c4cd",
   "metadata": {
    "collapsed": false
   },
   "source": [
    "<br>\n",
    "Before we noticed that every row and every column contained the identity element, <strong>Stay</strong>.  Which other elements have this property?<br><br>\n",
    " \n",
    "In answering this, you probably discovered that every row and every column in this table contains all six elements.  If we disregard the heading row and column in \n",
    "the table, each element appears exactly once in each row, and once in each column.  This formation is referred to as a <em>Latin square</em>.  How could we show that \n",
    "this would happen using only the four properties we have been using?<br><br>\n",
    "\n",
    "First we must translate this pattern into a mathematical statement before it can be proven.  To say that the element <strong>RotRt</strong> appears only once in \n",
    "the row beginning with <strong>Spin</strong> is to say that there is only one dance step <em>x</em> such that \n",
    "<p style='text-align: center;'><strong>Spin</strong> &lowast; <em>x</em> = <strong>RotRt</strong>.</p>\n",
    "So we can say that each row contains exactly one of every element by the following statement:"
   ]
  },
  {
   "cell_type": "markdown",
   "id": "75112a",
   "metadata": {
    "collapsed": false
   },
   "source": [
    "<a name=\"prop23ret\" id=\"prop23ret\"></a>  \n",
    "PROPOSITION 2.3<br>\n",
    "\n",
    "If <em>a</em> and <em>b</em> are given, then there exists a unique <em>x</em> such that \n",
    "<p style='text-align: center;'><em>a</em>&lowast;<em>x</em> = <em>b</em>.</p>\n",
    "\n",
    "<a href=\"#prop23\">Click here for the proof.</a>\n",
    "\n",
    "<p />\n",
    "Can you use this proposition to show that any <em>column</em> of the table contains only one of each element?   This is essentially Problem 6.<br><br>\n",
    " \n",
    "Terry's dance steps provides us with a new and rather different type of binary operator.  Even though there are very few of Terry's dance steps, we already can see\n",
    "some of the patterns that can appear when we consider the &quot;multiplication&quot; of these \n",
    "dance steps.  In the next section we will consider another operation that has many of the \n",
    "same patterns. <br><br>"
   ]
  },
  {
   "cell_type": "markdown",
   "id": "8f6817",
   "metadata": {
    "collapsed": false
   },
   "source": [
    "<a name=\"sec22\" id=\"sec22\"></a>\n",
    "<h1>Modular Congruence</h1>\n",
    "\n",
    "<br>\n",
    "We have seen that one operation, namely the combination of Terry's dance steps, produces some interesting\n",
    "properties such as the Latin square property.  In this section, we will explore different ways of combining two integers \n",
    "that has many of the same properties, using ordinary integers and modulo arithmetic.  These new operators will end up having some important applications.  These operations stem from a property of adding \n",
    "and multiplying standard integers.<br><br>\n",
    "\n",
    "We have already introduced modular arithmetic in &sect;1.4.  We defined <em>x</em> <strong>mod</strong> <em>n</em> as the remainder <em>r</em> when <em>x</em> is divided by <em>n</em>, \n",
    "using the division algorithm.  But we can also say that two integers <em>x</em> and <em>y</em> are <em>equivalent</em> if <em>x</em> <strong>mod</strong> <em>n</em> = \n",
    "<em>y</em> <strong>mod</strong> <em>n</em>.  We will introduce another notation for this relation.<br><br>\n",
    "\n",
    "DEFINITION 2.2<br> \n",
    "Let <em>x</em>, <em>y</em>, and <em>n</em> be integers.  We say <em>x</em> and <em>y</em> are <em>equivalent modulo</em> <em>n</em>, written\n",
    "<p style='text-align: center;'><em>x</em> &equiv; <em>y</em>   (mod <em>n</em>) </p>\n",
    "if, and only if, there is an integer <em>k</em> such that \n",
    "<p style='text-align: center;'>(<em>x</em> &minus; <em>y</em>) = <em>k n</em>.</p>\n",
    "\n",
    "Note the slight difference in notation between the operator <strong>mod</strong> (expressed in boldface) and the above notation (where mod is not in boldface).  The two notations are clearly related, since  <em>x</em> &equiv; <em>y</em> (mod <em>n</em>) means that <em>x</em> <strong>mod</strong> <em>n</em> = <em>y</em> <strong>mod</strong> <em>n</em>.<br><br>\n",
    "\n",
    "The new notation also satisfies three very important properties for equivalence (mod <em>n</em>).<br><br>\n",
    "\n",
    "1. (Reflexive) Every integer <em>x</em> is equivalent to itself.<br>\n",
    "2. (Symmetric) If <em>x</em> is equivalent to <em>y</em>, then <em>y</em> is equivalent to <em>x</em>.<br>\n",
    "3. (Transitive) If <em>x</em> is equivalent to <em>y</em>, and <em>y</em> in turn is equivalent to <em>z</em>, then <em>x</em> is equivalent to <em>z</em>.<br><br>\n",
    "\n",
    "DEFINITION 2.3<br>\n",
    "Any relation that satisfies these three properties is called an <em>equivalence relation</em>.  We will use the notation <em>x</em> &sim; <em>y</em> to say \n",
    "that <em>x</em> is equivalent to <em>y</em> for a generic equivalence relation.<br><br>\n",
    "\n",
    "Let us prove that equivalence (mod <em>n</em>) forms an equivalence relation."
   ]
  },
  {
   "cell_type": "markdown",
   "id": "5eb64f",
   "metadata": {
    "collapsed": false
   },
   "source": [
    "<a name=\"prop24ret\" id=\"prop24ret\"></a>  \n",
    "PROPOSITION 2.4<br>\n",
    "\n",
    "Let <em>n</em> be a positive integer.  Then the definition of\n",
    "<p style='text-align: center;'><em>x</em> &equiv; <em>y</em> (mod <em>n</em>)</p>\n",
    "forms an equivalence relation on the set of integers.<br><br>\n",
    "\n",
    "<a href=\"#prop24\">Click here for the proof.</a>\n",
    "\n",
    "<p />\n",
    "\n",
    "Whenever an equivalence relation is defined on a set, the set can be broken up into disjoint <em>equivalence classes</em>, where each equivalence class is the set of elements related to one element in the class.<br><br>\n",
    "\n",
    "DEFINITION 2.4<br>\n",
    "Let <em>x</em> &sim; <em>y</em> be an equivalence relation defined on a set <em>S</em>.  Then the equivalence class [<em>a</em>] is the set of elements of <em>S</em> \n",
    "related to <em>a</em>.  That is,\n",
    "<p style='text-align: center;'>[<em>a</em>] = { <em>s</em> &isin; <em>S</em> | <em>s</em> &sim; <em>a</em> }.</p>\n",
    "\n",
    "EXAMPLE:<br>\n",
    "In the relation <em>x</em> &equiv; <em>y</em> (mod 10), the set [3] will be the set of integers equivalent to 3 (mod 10), giving the set\n",
    "<p style='text-align: center;'>[3] = {&hellip; -37, -27, -17, -7, 3, 13, 23, 33, 43, &hellip;}.</p>                                                  \n",
    "Other equivalence classes in this relation are similar.<br><br>\n",
    "\n",
    "It is not hard to show that the set of integers can be broken up into disjoint sets using the equivalence classes.<br><br>\n",
    "\n",
    "<p />\n",
    "<a name=\"prop25ret\" id=\"prop25ret\"></a>  \n",
    "PROPOSITION 2.5<br>\n",
    "If <em>x</em> &sim; <em>y</em> is an equivalence relation on a set <em>S</em>, then <em>S</em> is the disjoint union of equivalence classes.<br><br>\n",
    "\n",
    "<a href=\"#prop25\">Click here for the proof.</a>\n",
    "\n",
    "<p />\n",
    "\n",
    "Many of the properties of modular arithmetic found in &sect;1.4 can be translated in terms of equivalence relations.  For example, Proposition 1.2 can be restated \n",
    "by saying that if \n",
    "<p style='text-align: center;'><em>x</em> &equiv; <em>a</em> (mod <em>n</em>)&emsp; and  &emsp; <em>y</em> &equiv; <em>b</em> (mod <em>n</em>),</p>                      \n",
    "then <em>x</em> + <em>y</em> &equiv; <em>a</em> + <em>b</em> (mod <em>n</em>) and <em>x y</em> &equiv; <em>a b</em> (mod <em>n</em>).<br><br>\n",
    "\n",
    "These statements make it clear that to add or multiply two numbers modulo <em>n</em>, we can choose any representative element from the equivalence class.<br><br>\n",
    "\n",
    "One common exercise with modulo arithmetic is solving the linear congruence equation (<em>m x</em>) <strong>mod</strong> <em>n</em> = <em>a</em>, where <em>m</em> is coprime to <em>n</em>.  In the new notation this becomes \n",
    "\n",
    "<p style='text-align: center;'><em>m x</em> &equiv; <em>a</em> (mod <em>n</em>).</p> \n",
    "\n",
    "Although this can be converted to a Chinese remainder problem, there is another way to solve this if <em>m</em> happens to have only small prime factors.  The method relies on the following proposition."
   ]
  },
  {
   "cell_type": "markdown",
   "id": "d9b64a",
   "metadata": {
    "collapsed": false
   },
   "source": [
    "<a name=\"prop26ret\" id=\"prop26ret\"></a>  \n",
    "PROPOSITION 2.6<br>\n",
    "\n",
    "If <em>a b</em> &equiv; <em>a c</em> (mod <em>n</em>), and if <em>a</em> is coprime to <em>n</em>, then\n",
    "<em>b</em> &equiv; <em>c</em> (mod <em>n</em>).<br><br>\n",
    "\n",
    "<a href=\"#prop26\">Click here for the proof.</a>\n",
    "\n",
    "<p />\n",
    "\n",
    "This proposition essentially says we can cancel any factors coprime to <em>n</em> from both sides of the equation \n",
    "<em>m x</em> &equiv; <em>a</em> (mod <em>n</em>).  If there are no common factors, we can keep adding (or subtracting)\n",
    "<em>n</em> to the right-hand side until we get a common factor.<br><br>\n",
    "    \n",
    "EXAMPLE:<br>\n",
    "Solve the linear congruence equation 12<em>x</em> &equiv; 7 (mod 19).<br><br>\n",
    "    \n",
    "SOLUTION:<br>\n",
    "We keep adding 19 to the right-hand side, canceling out any common factors we find.\n",
    "<p style='text-align: center;'>12<em>x</em> &equiv; 7&ensp;&ensp;(mod 19)</p>\n",
    "<p style='text-align: center;'>12<em>x</em> &equiv; 26&ensp;(mod 19)</p>\n",
    "<p style='text-align: center;'>&ensp;6<em>x</em> &equiv; 13&ensp;(mod 19)</p>\n",
    "<p style='text-align: center;'>&ensp;6<em>x</em> &equiv; 32&ensp;(mod 19)</p>\n",
    "<p style='text-align: center;'>&ensp;3<em>x</em> &equiv; 16&ensp;(mod 19)</p>\n",
    "<p style='text-align: center;'>&ensp;3<em>x</em> &equiv; 35&ensp;(mod 19)</p>\n",
    "<p style='text-align: center;'>&ensp;3<em>x</em> &equiv; 54&ensp;(mod 19)</p>\n",
    "<p style='text-align: center;'>&ensp;&ensp;<em>x</em> &equiv; 18&ensp;(mod 19)</p>\n",
    "<br>\n",
    "It should be noted that if <em>m</em> is large, converting to a Chinese remainder problem is much more efficient, since this method does not rely on the prime factorization of <em>m</em>.<br><br>\n",
    "\n",
    "EXAMPLE:<br>\n",
    "Consider the set of numbers from {0, 1, 2, 3, 4, 5, 6, 7, 8, 9}, with the binary operation being <em>x</em> &lowast; <em>y</em> = (<em>x</em> + <em>y</em>) mod 10. \n",
    "We can have <em>SageMath</em> define this binary operation with the command<br>"
   ]
  },
  {
   "cell_type": "code",
   "execution_count": 0,
   "id": "c04544",
   "metadata": {
    "collapsed": false
   },
   "outputs": [
   ],
   "source": [
    "Z = AddMod(10); Z"
   ]
  },
  {
   "cell_type": "markdown",
   "id": "ef6101",
   "metadata": {
    "collapsed": false
   },
   "source": [
    "<br>\n",
    "This produces a set of 10 elements, \n",
    "which <em>SageMath</em> displays using curly brackets.  Although the elements of <em>Z</em> are displayed\n",
    "as integers, we will soon see that they have differnt properties than ordinary integers.  \n",
    "We will continue \n",
    "to use the star as the way to combine two members of the list.  So even though the operation is \n",
    "<em>addition modulo 10</em>, we would write 4 &lowast; 7 = 1.  Although it seems strange to use the \n",
    "star instead of the plus sign, for consistency we will always use the star for the operator, whatever that operator is.  So the one thing we must \n",
    "remember is that <em>the star or dot does not always mean multiplication</em>.  Rather, the dot represents the operation in the current context.  For Terry's group, \n",
    "the dot represented combining two dance steps.  Here, it represents addition modulo 10.<br><br>\n",
    "\n",
    "In <em>SageMath</em>, we will use the star to indicate the operation, as we did for Terry's dance \n",
    "steps.  In order to access the elements in the set <strong>Z</strong>, we will put \n",
    "a number in brackets to indicate the location number in the set.  So here is how we can combine the fourth and seventh elements in <em>Z</em>.<br>"
   ]
  },
  {
   "cell_type": "code",
   "execution_count": 0,
   "id": "61a907",
   "metadata": {
    "collapsed": false
   },
   "outputs": [
   ],
   "source": [
    "Z[4] * Z[7]"
   ]
  },
  {
   "cell_type": "markdown",
   "id": "115371",
   "metadata": {
    "collapsed": false
   },
   "source": [
    "<br>\n",
    "We will still use the command <strong>CayleyTable</strong> to give the Cayley table of the set.<br>"
   ]
  },
  {
   "cell_type": "code",
   "execution_count": 0,
   "id": "68820c",
   "metadata": {
    "collapsed": false
   },
   "outputs": [
   ],
   "source": [
    "CayleyTable(Z)"
   ]
  },
  {
   "cell_type": "markdown",
   "id": "d8d3e0",
   "metadata": {
    "collapsed": false
   },
   "source": [
    "<br>\n",
    "Can we find any patterns in this table, as we did in Terry's multiplication table?  Yes, and even more.  We can see that this table is a Latin square&mdash;every row \n",
    "and every column contains one of each number.  Notice the diagonal streaks of color in the table.  This Caylay table has symmetry&mdash;imagine a mirror placed \n",
    "along the northwest to southeast corners.  What is causing this symmetry?<br><br>\n",
    "\n",
    "EXPERIMENT:<br>\n",
    "We saw that Terry's multiplication was not commutative.  That is, <em>x</em>&lowast;<em>y</em> did not always equal <em>y</em>&lowast;<em>x</em>.  What about adding \n",
    "modulo 10? Try the following commands <br>"
   ]
  },
  {
   "cell_type": "code",
   "execution_count": 0,
   "id": "d212c9",
   "metadata": {
    "collapsed": false
   },
   "outputs": [
   ],
   "source": [
    "Z[4] * Z[7]"
   ]
  },
  {
   "cell_type": "code",
   "execution_count": 0,
   "id": "7c64a0",
   "metadata": {
    "collapsed": false
   },
   "outputs": [
   ],
   "source": [
    "Z[7] * Z[4]"
   ]
  },
  {
   "cell_type": "markdown",
   "id": "70253f",
   "metadata": {
    "collapsed": false
   },
   "source": [
    "<br>\n",
    "Are these the same? Try this with different numbers.<br>"
   ]
  },
  {
   "cell_type": "markdown",
   "id": "8dd112",
   "metadata": {
    "collapsed": false
   },
   "source": [
    "<br>\n",
    "The symmetry in the table comes from the fact that <em>x</em>&lowast;<em>y</em> is always equal to <em>y</em>&lowast;<em>x</em>.  We say that addition modulo 10 \n",
    "is <em>commutative</em>.  Thus, we can see 5 properties from the table:<br><br>    \n",
    "\n",
    "1)&emsp;For any two numbers <em>x</em> and <em>y</em> in {0, 1, 2, 3, 4, 5, 6, 7, 8, 9}, <em>x</em>&lowast;<em>y</em> is in that set. <br>          \n",
    "(Recall that we are using the star to indication the operation, regardless of what that operation is.  In this example, the operation is addition modulo 10.)<br><br>    \n",
    "\n",
    "2)&emsp;(<em>x</em>&lowast;<em>y</em>)&lowast;<em>z</em>  =  <em>x</em>&lowast;(<em>y</em>&lowast;<em>z</em>)  for any  <em>x</em>, <em>y</em>,  and <em>z</em>.\n",
    "<br><br>    \n",
    "\n",
    "3)&emsp;<em>x</em>&lowast;0 = <em>x</em>  and  0&lowast;<em>x</em> = <em>x</em>  for all <em>x</em>.<br><br>    \n",
    "\n",
    "4)&emsp;For any <em>x</em>, there is a <em>y</em> such that  <em>x</em>&lowast;<em>y</em> = 0.<br><br>    \n",
    "\n",
    "5)&emsp;For any <em>x</em> and <em>y</em>, <em>x</em>&lowast;<em>y</em> = <em>y</em>&lowast;<em>x</em>.<br><br>\n",
    "\n",
    "Notice that 0 now acts like Terry's command <strong>Stay</strong>. This is the <em>identity</em>.<br><br>\n",
    "\n",
    "Besides the table, <em>SageMath</em> has another way of picturing the operation by means of circular graphs.  Enter in the following <em>SageMath</em> command:<br>"
   ]
  },
  {
   "cell_type": "code",
   "execution_count": 0,
   "id": "ce3d4f",
   "metadata": {
    "collapsed": false
   },
   "outputs": [
   ],
   "source": [
    "CircleGraph(Z, Add(1))"
   ]
  },
  {
   "cell_type": "markdown",
   "id": "3e9d82",
   "metadata": {
    "collapsed": false
   },
   "source": [
    "<br>\n",
    "As you can see, <em>SageMath</em> labels 10 equi-distant points on the circle with the digits 0 through 9, like a clock. It then draws an arrow from each point to the \n",
    "point produces by &quot;adding 1 modulo 10.&quot;<br><br>\n",
    " \n",
    "EXPERIMENT:<br>\n",
    "Create eight more circle graphs by changing the <strong>Add(1)</strong> in the last command to <strong>Add(2)</strong>, <strong>Add(3)</strong>, \n",
    "<strong>Add(4)</strong>, &#8943; <strong>Add(9)</strong>. Which circular graph is the prettiest?<br><br>"
   ]
  },
  {
   "cell_type": "markdown",
   "id": "f32b55",
   "metadata": {
    "collapsed": false
   },
   "source": [
    "If none of those graphs were pretty enough, <em>SageMath</em> can graph several of them at the same time. For example, the command<br>"
   ]
  },
  {
   "cell_type": "code",
   "execution_count": 0,
   "id": "d019b8",
   "metadata": {
    "collapsed": false
   },
   "outputs": [
   ],
   "source": [
    "CircleGraph(Z, Add(1), Add(2), Add(3), Add(4), Add(5))"
   ]
  },
  {
   "cell_type": "markdown",
   "id": "bec87f",
   "metadata": {
    "collapsed": false
   },
   "source": [
    "<br>\n",
    "draws a circular graph with five different colored arrows.  The red arrows represent adding 1 modulo 10, the green arrows represent adding 2, the purple arrows \n",
    "adding 3, the orange arrows adding 4, and the grey arrows represent adding 5 modulo 10.<br><br>\n",
    " \n",
    "We can also draw a circular graph of the inverses of the elements. The command<br>"
   ]
  },
  {
   "cell_type": "code",
   "execution_count": 0,
   "id": "087be6",
   "metadata": {
    "collapsed": false
   },
   "outputs": [
   ],
   "source": [
    "CircleGraph(Z, Inv)"
   ]
  },
  {
   "cell_type": "markdown",
   "id": "56d28c",
   "metadata": {
    "collapsed": false
   },
   "source": [
    "<br>\n",
    "draws an arrow from each point to its additive inverse.  Notice that every arrow has a corresponding arrow in the opposite direction, which indicates that\n",
    "(<em>x</em><sup>-1</sup>)<sup>-1</sup> = <em>x</em>, as we found in Proposition 2.1.  Also notice that 0 and 5 are there own inverses, as indicated by the two \n",
    "loops.<br><br>\n",
    "\n",
    "We are more familiar with base 10 arithmetic since most of us have ten fingers.  However, this modular arithmetic can be done in other bases as well.  The beings on \n",
    "the planet Xantz have seven fingers (three on each hand, and one coming out of the nose) so they only use the digits 0, 1, 2, 3, 4, 5, and 6. Their modular \n",
    "arithmetic would look like this:\n",
    "<p style='text-align: center;'>4 + 5 &equiv; 2  (mod 7), &emsp; 4 &times; 5 &equiv; 6  (mod 7). </p>\n",
    "\n",
    "<br>\n",
    "(Actually, the symbols used on Xantz don't look anything like the symbols we use, so this is really a translation of what they would write.)<br><br>\n",
    " \n",
    "We can have <em>SageMath</em> switch to base 7 with one easy command:<br>"
   ]
  },
  {
   "cell_type": "code",
   "execution_count": 0,
   "id": "9e7da5",
   "metadata": {
    "collapsed": false
   },
   "outputs": [
   ],
   "source": [
    "Z = AddMod(7); Z"
   ]
  },
  {
   "cell_type": "markdown",
   "id": "a4b919",
   "metadata": {
    "collapsed": false
   },
   "source": [
    "<br>\n",
    "We now can look at the Cayley tables and circle graphs of the set {0,1,2,3,4,5,6}:<br>"
   ]
  },
  {
   "cell_type": "code",
   "execution_count": 0,
   "id": "65161b",
   "metadata": {
    "collapsed": false
   },
   "outputs": [
   ],
   "source": [
    "CayleyTable(Z)"
   ]
  },
  {
   "cell_type": "code",
   "execution_count": 0,
   "id": "520f79",
   "metadata": {
    "collapsed": false
   },
   "outputs": [
   ],
   "source": [
    "CircleGraph(Z, Add(1), Add(2), Add(3))"
   ]
  },
  {
   "cell_type": "markdown",
   "id": "ad4b4d",
   "metadata": {
    "collapsed": false
   },
   "source": [
    "<br>\n",
    "Notice that the patterns that we observed in modular 10 arithmetic are showing up hear as well. <br><br>\n",
    " \n",
    "EXPERIMENT:<br>\n",
    "Try creating tables and circle graphs for modulus other than 7 and 10. Do they all form the same basic pattern?<br>"
   ]
  },
  {
   "cell_type": "markdown",
   "id": "52a90a",
   "metadata": {
    "collapsed": false
   },
   "source": [
    "<br>\n",
    "We can have <em>SageMath</em> define the period to be <em>multiplication</em> modulo 7 instead of addition. This is done by the command:<br>"
   ]
  },
  {
   "cell_type": "code",
   "execution_count": 0,
   "id": "d1d69f",
   "metadata": {
    "collapsed": false
   },
   "outputs": [
   ],
   "source": [
    "Z = MultMod(7); Z"
   ]
  },
  {
   "cell_type": "code",
   "execution_count": 0,
   "id": "13cc86",
   "metadata": {
    "collapsed": false
   },
   "outputs": [
   ],
   "source": [
    "CayleyTable(Z)"
   ]
  },
  {
   "cell_type": "markdown",
   "id": "a135c1",
   "metadata": {
    "collapsed": false
   },
   "source": [
    "<br>\n",
    "Does this Cayley table have the same features that we have been seeing? No it doesn't!  But if we remove the 0 row and column,"
   ]
  },
  {
   "cell_type": "code",
   "execution_count": 0,
   "id": "a0a50e",
   "metadata": {
    "collapsed": false
   },
   "outputs": [
   ],
   "source": [
    "CayleyTable([Z[1],Z[2],Z[3],Z[4],Z[5],Z[6]])"
   ]
  },
  {
   "cell_type": "markdown",
   "id": "8d406f",
   "metadata": {
    "collapsed": false
   },
   "source": [
    "we see that the remainder of the \n",
    "table would satisfy the same properties that we observed in Terry's multiplication table, such as the Latin square property. The identity is now the number 1. This \n",
    "table is in fact symmetrical, indicating that multiplication modulo 7 is commutative.<br><br>\n",
    " \n",
    "Here is a circular graph of multiplication modulo 7: <br>"
   ]
  },
  {
   "cell_type": "code",
   "execution_count": 0,
   "id": "3bb98e",
   "metadata": {
    "collapsed": false
   },
   "outputs": [
   ],
   "source": [
    "CircleGraph(Z, Mult(2), Mult(3))"
   ]
  },
  {
   "cell_type": "markdown",
   "id": "0bfdc2",
   "metadata": {
    "collapsed": false
   },
   "source": [
    "<br>\n",
    "Here, the red arrow indicates multiplication by 2, and the green arrow represents multiplication by 3 modulo 7.<br><br>\n",
    "\n",
    "Here is a circular graph of the inverse elements: <br>"
   ]
  },
  {
   "cell_type": "code",
   "execution_count": 0,
   "id": "d91bda",
   "metadata": {
    "collapsed": false
   },
   "outputs": [
   ],
   "source": [
    "CircleGraph(Z, Inv)"
   ]
  },
  {
   "cell_type": "markdown",
   "id": "96af5e",
   "metadata": {
    "collapsed": false
   },
   "source": [
    "<br>\n",
    "What happens to 0? Recall that the inverse of <em>x</em> is defined to be the number <em>y</em> such that <em>x</em>&lowast;<em>y</em> = 1.  But the equation \n",
    "0&lowast;<em>y</em> &equiv; 1 (mod 7) has no solution, so 0 does not have an inverse (as we saw in the Cayley table.)  Thus, when <em>SageMath</em> graphs the \n",
    "inverse function, 0 is sent to a question mark to indicate that there is no inverse of 0. \n",
    "<br>\n",
    "<br>\n",
    "EXPERIMENT:<br>\n",
    "Try having <em>SageMath</em> work with multiplication with a modulo other than 7, and form a circle graph of the inverse function.  Is 0 the only number that does not have \n",
    "an inverse? If not, can you find a pattern to the numbers which do not have an inverse? <br>"
   ]
  },
  {
   "cell_type": "markdown",
   "id": "44506e",
   "metadata": {
    "collapsed": false
   },
   "source": [
    "<br>\n",
    "In the last experiment, you probably discovered that there may be many numbers without a multiplicative inverse. For example, by looking at the multiplication \n",
    "table modulo 10, <br>"
   ]
  },
  {
   "cell_type": "code",
   "execution_count": 0,
   "id": "ddfc79",
   "metadata": {
    "collapsed": false
   },
   "outputs": [
   ],
   "source": [
    "Z = MultMod(10)\n",
    "CayleyTable(Z)"
   ]
  },
  {
   "cell_type": "markdown",
   "id": "c758fe",
   "metadata": {
    "collapsed": false
   },
   "source": [
    "<br>\n",
    "we find several rows that do not contain any 1's. These rows indicate the numbers without inverses modulo 10.  We can see these more clearly by looking at the \n",
    "circle graph of the inverse function. <br>"
   ]
  },
  {
   "cell_type": "code",
   "execution_count": 0,
   "id": "30ffe0",
   "metadata": {
    "collapsed": false
   },
   "outputs": [
   ],
   "source": [
    "CircleGraph(Z, Inv)"
   ]
  },
  {
   "cell_type": "markdown",
   "id": "d5cd05",
   "metadata": {
    "collapsed": false
   },
   "source": [
    "<br>\n",
    "So 0, 2, 4, 5, 6, and 8 do not have inverses. Do you see a pattern in these numbers? <br>\n",
    "Hint: 2 does not have an inverse because there is no integer <em>x</em> such that                \n",
    "<p style='text-align: center;'>2 <em>x</em> = 1 + 10 <em>n</em></p>\n",
    "for some <em>n</em>.<br><br>\n",
    " \n",
    "To help see the pattern, look at multiplication modulo 15:<br>"
   ]
  },
  {
   "cell_type": "code",
   "execution_count": 0,
   "id": "fa6d65",
   "metadata": {
    "collapsed": false
   },
   "outputs": [
   ],
   "source": [
    "Z = MultMod(15)\n",
    "CircleGraph(Z, Inv)"
   ]
  },
  {
   "cell_type": "markdown",
   "id": "88a063",
   "metadata": {
    "collapsed": false
   },
   "source": [
    "<br>\n",
    "We see that 0, 3, 5, 6, 9, 10, and 12 do not have inverses.  There are eight numbers which do have inverses modulo 15.  What if we just considered those \n",
    "eight elements?<br>"
   ]
  },
  {
   "cell_type": "code",
   "execution_count": 0,
   "id": "428899",
   "metadata": {
    "collapsed": false
   },
   "outputs": [
   ],
   "source": [
    "L = [Z[1], Z[2], Z[4], Z[7], Z[8], Z[11], Z[13], Z[14]]\n",
    "CircleGraph(L, Inv)"
   ]
  },
  {
   "cell_type": "markdown",
   "id": "ebe120",
   "metadata": {
    "collapsed": false
   },
   "source": [
    "<br>\n",
    "By using this smaller set of numbers, every element now has an inverse. What if we looked at the Cayley table of this smaller set?<br>"
   ]
  },
  {
   "cell_type": "code",
   "execution_count": 0,
   "id": "94e952",
   "metadata": {
    "collapsed": false
   },
   "outputs": [
   ],
   "source": [
    "CayleyTable(L)"
   ]
  },
  {
   "cell_type": "markdown",
   "id": "5bf763",
   "metadata": {
    "collapsed": false
   },
   "source": [
    "<br>\n",
    "One again, we can see some of the patterns in this table that we have seen before. Notice that this is a Latin square&mdash;every row and column contains each of \n",
    "the eight numbers. In fact, we can see the symmetry in this table which indicates that the multiplication is commutative. Thus, we see that<br><br>\n",
    "\n",
    "1)&emsp;For any two numbers <em>x</em> and <em>y</em> in {1, 2, 4, 7, 8, 11, 13, 14}, <em>x</em>&lowast;<em>y</em> is in that set. <br><br>    \n",
    "2)&emsp;(<em>x</em>&lowast;<em>y</em>)&lowast;<em>z</em> = <em>x</em>&lowast;(<em>y</em>&lowast;<em>z</em>) for any <em>x</em>, <em>y</em>, and <em>z</em>.<br><br>    \n",
    "3)&emsp;<em>x</em> &lowast; 1 = <em>x</em>  and  1 &lowast; <em>x</em> = <em>x</em>  for all <em>x</em>.<br><br>    \n",
    "4)&emsp;For any <em>x</em>, there is a <em>y</em> such that <em>x</em> &lowast; <em>y</em> = 1.<br><br>    \n",
    "5)&emsp;For any <em>x</em> and <em>y</em>, <em>x</em> &lowast; <em>y</em> = <em>y</em> &lowast; <em>x</em>.<br><br>\n",
    "\n",
    "<br>\n",
    "EXPERIMENT:<br>\n",
    "Try this procedure working with different bases, such as <em>n</em> = 8 or <em>n</em> = 9: First type in <strong>Z = MultMod(</strong><em>n</em><strong>)</strong> which \n",
    "defines the multiplication modulo <em>n</em>.  Then use make a circle graph of the <strong>Inv</strong> function to see which numbers have inverses \n",
    "modulo <em>n</em>.  Finally, make a Cayley table of those numbers. Will this table always form a Latin square?<br>"
   ]
  },
  {
   "cell_type": "markdown",
   "id": "4a22e2",
   "metadata": {
    "collapsed": false
   },
   "source": [
    "<br>\n",
    "If the Latin square pattern always seems to appear for the invertible numbers, can we prove that this pattern will always appear?"
   ]
  },
  {
   "cell_type": "markdown",
   "id": "7e6866",
   "metadata": {
    "collapsed": false
   },
   "source": [
    "<a name=\"prop27ret\" id=\"prop27ret\"></a>\n",
    "PROPOSITION 2.7<br>\n",
    "\n",
    "For <em>n</em> a positive integer greater than 1, let <em>G</em> be the set of all positive numbers \n",
    "less than <em>n</em> that have inverses modulo <em>n</em>. Let the operation (&lowast;) denote multiplication modulo <em>n</em>. Then the set <em>G</em> has the following properties:<br><br>\n",
    "\n",
    "1)&emsp;For any two numbers <em>x</em> and <em>y</em> in <em>G</em>, <em>x</em>&lowast;<em>y</em> is in <em>G</em>.<br> \n",
    "\n",
    "2)&emsp;(<em>x</em>&lowast;<em>y</em>)&lowast;<em>z</em> = <em>x</em>&lowast;(<em>y</em>&lowast;<em>z</em>) for any <em>x</em>, <em>y</em>, and \n",
    "<em>z</em>.<br>\n",
    "\n",
    "3)&emsp;<em>x</em>&lowast;1 = 1&lowast;<em>x</em> = <em>x</em> for all <em>x</em>.<br>\n",
    "\n",
    "4)&emsp;For any <em>x</em> that is in <em>G</em>, there is a <em>y</em> in <em>G</em> such that <em>x</em>&lowast;<em>y</em> = 1.<br>\n",
    "\n",
    "5)&emsp;For any <em>x</em> and <em>y</em>, <em>x</em>&lowast;<em>y</em> = <em>y</em>&lowast;<em>x</em>.<br><br>\n",
    "\n",
    "<a href=\"#prop27\">Click here for the proof.</a>\n",
    "\n",
    "<p />\n",
    "Although we have found that the invertible elements modulo <em>n</em> will always have a multiplication table which forms a Latin square, we have only hinted at which \n",
    "numbers are invertible modulo <em>n</em>.<br><br>\n",
    " \n",
    "We saw that the numbers 0, 2, 4, 5, 6, and 8 are not invertible modulo 10.  Note that these numbers all have a prime factor in common with 10:  0, 2, 4, 6, 8, and 10 \n",
    "are multiples of 2, whereas 0, 5, and 10 are multiples of 5. The remaining numbers, 1 ,3 ,7, and 9, are coprime to 10.  Let us demonstrate why this is true in general."
   ]
  },
  {
   "cell_type": "markdown",
   "id": "8c6674",
   "metadata": {
    "collapsed": false
   },
   "source": [
    "<a name=\"prop28ret\" id=\"prop28ret\"></a>\n",
    "PROPOSITION 2.8<br>\n",
    "Let <em>n</em> be in &#8484;<sup>+</sup>. Then for <em>x</em> between 0 and <em>n</em> &minus; 1, <em>x</em> has a multiplicative inverse modulo <em>n</em> \n",
    "if, and only if, <em>x</em> is coprime to <em>n</em>.<br><br>\n",
    "\n",
    "<a href=\"#prop28\">Click here for the proof.</a>\n",
    "\n",
    "<p />\n",
    "\n",
    "We now have seen several binary operations, such as Terry's dance steps, addition modulo <em>n</em>, and multiplication modulo <em>n</em>, which have many properties in common.  In the next section we will generalize these examples to produce many more \n",
    "interesting examples, but in such a way that they will all have the important properties that we have seen."
   ]
  },
  {
   "cell_type": "markdown",
   "id": "480907",
   "metadata": {
    "collapsed": false
   },
   "source": [
    "<a name=\"sec23\" id=\"sec23\"></a>\n",
    "<h1>The Definition of a Group</h1>\n",
    "\n",
    "<br>\n",
    "In this notebook, we have seen several different ways of combining numbers or dance steps. Yet, all of the different &quot;products&quot; \n",
    "had many properties in common. We are now ready to try to generalize these examples. Our strategy is to define a <em>group</em> abstractly by requiring the same \n",
    "patterns we observed to continue. Thus, we make the following definition based upon the first four properties we saw in all of our examples.<br><br>\n",
    "\n",
    "DEFINITION 2.5<br>\n",
    "A <em>group</em> is a set <em>G</em> together with a binary operation (represented by a star &lowast;, or more commonly, a dot &middot;) such that the following four properties hold:<br><br>   \n",
    "1)&emsp;(closure)  For any <em>x</em> and <em>y</em> in <em>G</em>,  <em>x</em>&middot;<em>y</em> is in <em>G</em>.<br>\n",
    "\n",
    "2)&emsp;(identity) There exists a member <em>e</em> in <em>G</em> which has the property that, for all <em>x</em> in <em>G</em>,\n",
    "<p style='text-align: center;'><em>e</em>&middot;<em>x</em>  =  <em>x</em>&middot;<em>e</em>  =  <em>x</em>.</p>   \n",
    "3)&emsp;(inverse)  For every <em>x</em> in <em>G</em>, there exists a <em>y</em> in <em>G</em>, called the <em>inverse</em> of <em>x</em>, such that \n",
    "<em>x</em>&middot;<em>y</em>  =  <em>e</em>.<br><br>\n",
    "4)&emsp;(associative law)  For any <em>x</em>, <em>y</em>, and <em>z</em> in <em>G</em>, \n",
    "<p style='text-align: center;'>(<em>x</em> &middot;<em>y</em>)&middot;<em>z</em>  = <em>x</em>&middot;(<em>y</em>&middot;<em>z</em>). </p>\n",
    "<br><br>\n",
    "\n",
    "These are the same four properties that we observed from Terry's dance steps, so Terry's dance steps give us the first example of a group.  This group is more \n",
    "commonly referred to as the group of symmetries of a triangle, abbreviated by <em>D</em><sub>3</sub>.<br><br>\n",
    " \n",
    "The members of the group, whether they are numbers, dance steps, or even ordered pairs, are called the <em>elements</em> of the group.  The element <em>e</em> that \n",
    "satisfies property 2 is commonly called the <em>identity element</em> of the group.<br><br>\n",
    " \n",
    "The mathematical notation for an element <em>x</em> to be in a group <em>G</em> is \n",
    "<p style='text-align: center;'><em>x</em> &isin; <em>G</em>.</p>\n",
    "\n",
    "Thus, the symbol &isin; means &quot;is an element of.&quot;<br><br>\n",
    " \n",
    "Since Propositions 2.1, 2.2, and 2.3 only used these four properties, the proofs are valid for all groups, using the identity element <em>e</em> in place of the \n",
    "dance step <strong>Stay</strong>.<br><br>\n",
    "  \n",
    "Other examples of groups come from modular arithmetic.  For <em>n</em> in &#8484;, we considered the elements\n",
    "<p style='text-align: center;'>{0, 1, 2, &hellip;, <em>n</em> &minus; 1},</p>\n",
    "with the operator (&middot;) being the sum modulo <em>n</em>.  This group will be denoted <em>Z<sub>n</sub></em>.  For example, \n",
    "the group <em>Z</em><sub>10</sub> is given by:<br>"
   ]
  },
  {
   "cell_type": "code",
   "execution_count": 0,
   "id": "2a8425",
   "metadata": {
    "collapsed": false
   },
   "outputs": [
   ],
   "source": [
    "G = ZGroup(10); G"
   ]
  },
  {
   "cell_type": "code",
   "execution_count": 0,
   "id": "280805",
   "metadata": {
    "collapsed": false
   },
   "outputs": [
   ],
   "source": [
    "CayleyTable(G)"
   ]
  },
  {
   "cell_type": "markdown",
   "id": "b28711",
   "metadata": {
    "collapsed": false
   },
   "source": [
    "<br>\n",
    "We also considered having the operator (&middot;) denoted the product modulo <em>n</em>, and considered only the set of numbers less than <em>n</em> that are \n",
    "coprime to <em>n</em>.  Proposition 2.7 shows that this set also has the four properties of groups.  We will refer to this group \n",
    "by <em>Z<sub>n</sub></em><sup>&ast;</sup>.   This group can be loaded in <em>SageMath</em> by the command <strong>ZStar</strong>.  For example, the group <em>Z</em><sub>15</sub><sup>&ast;</sup> has 8 elements, with the following Cayley table.<br>"
   ]
  },
  {
   "cell_type": "code",
   "execution_count": 0,
   "id": "135c1a",
   "metadata": {
    "collapsed": false
   },
   "outputs": [
   ],
   "source": [
    "G = ZStar(15); G"
   ]
  },
  {
   "cell_type": "code",
   "execution_count": 0,
   "id": "8d962c",
   "metadata": {
    "collapsed": false
   },
   "outputs": [
   ],
   "source": [
    "CayleyTable(G)"
   ]
  },
  {
   "cell_type": "markdown",
   "id": "4605fd",
   "metadata": {
    "collapsed": false
   },
   "source": [
    "<br>\n",
    "The groups <em>Z<sub>n</sub></em> and <em>Z<sub>n</sub></em><sup>&ast;</sup> had an additional property&mdash;the multiplication tables were symmetric about the \n",
    "northwest to southeast diagonal.  Not all groups have this property, but those that do are important enough to give such groups a special name.<br><br>\n",
    " \n",
    "DEFINITION 2.6<br>\n",
    "A group <em>G</em> is <em>abelian</em> (or <em>commutative</em>) if  <em>x</em>&middot;<em>y</em> = \n",
    "<em>y</em>&middot;<em>x</em> for all <em>x</em>, <em>y</em>  &isin; <em>G</em>.<br><br>\n",
    "\n",
    "Although these definitions appear ad hoc, the four properties of groups appear in many different aspects of mathematics. Here are some examples of groups that appear \n",
    "on other contexts besides group theory:<br><br>\n",
    " \n",
    "EXAMPLE:<br>\n",
    "Consider the group consisting of all of the integers, &#8484;. Our binary operation would be the sum of the two numbers. It is trivial to see that this satisfies \n",
    "all 4 properties, with 0 as the identity, and &minus;<em>x</em> as the inverse of <em>x</em>. This is obviously an abelian group, since\n",
    "<p style='text-align: center;'><em>a</em> + <em>b</em> = <em>b</em> + <em>a</em> for all <em>a</em> and <em>b</em> in &#8484;.</p>\n",
    " \n",
    "EXAMPLE:<br>\n",
    "Next, we could consider the group of all rational numbers, which is denoted by &#8474;. (This is easy to remember, since &#8474; stands for Quotient.) \n",
    "Our binary operation would still be addition, so the identity element would still be 0, and this would also be an abelian group. <br><br>\n",
    " \n",
    "EXAMPLE:<br> \n",
    "Consider the group of all rational numbers except for 0. We will refer to this group as &#8474;<sup>&ast;</sup>. Our group operation would be multiplication instead \n",
    "of addition. The identity element is now 1, and the inverse of an element is the reciprocal. Again, this is an abelian group.<br><br>\n",
    " \n",
    "EXAMPLE:  <br>\n",
    "Consider the set of all <em>linear functions</em> of the form\n",
    "<p style='text-align: center;'><em>f</em>(<em>x</em>) = <em>m x</em> + <em>b</em>, with <em>m</em>, <em>b</em> &isin; &#8477;,  <em>m</em> &ne; 0.</p>\n",
    "(The fancy &#8477; here represents the real numbers.) We combine two linear functions together by function composition.  That is, if \n",
    "<em>f</em>(<em>x</em>) = <em>m x</em> + <em>b</em>, and <em>g</em>(<em>x</em>) = <em>n x</em> + <em>c</em>, then\n",
    "<p style='text-align: center;'><em>f</em>&middot;<em>g</em> = <em>f</em>(<em>g</em>(<em>x</em>)) = <em>m</em>(<em>n x</em> + <em>c</em>) + <em>b</em> = \n",
    "(<em>m n</em>) <em>x</em> + (<em>m c</em> + <em>b</em>).</p><br>\n",
    "which is again a linear function. Note that in <em>f</em>&middot;<em>g</em>, we do <em>g</em> first, then <em>f</em>, so we apply the functions from right to left. We \n",
    "can find the inverse of <em>f</em>(<em>x</em>) as well:\n",
    "<p style='text-align: center;'><em>f</em>&thinsp;<sup>-1</sup>(<em>x</em>) = <sup>1</sup>&frasl;<sub><em>m</em></sub> <em>x</em> &minus; \n",
    "<sup><em>b</em></sup>&frasl;<sub><em>m</em></sub>,</p>\n",
    "which is also a linear function. The identity function is just <em>e</em>(<em>x</em>) = <em>x</em>. The associativity property of function composition completes \n",
    "the requirements for the set of all linear functions to constitute a group.<br><br>\n",
    "\n",
    "Is this group abelian?  Let <em>f</em>(<em>x</em>) = 2<em>x</em> + 3, and <em>g</em>(<em>x</em>) = 3<em>x</em> + 2. Then <em>f</em>(<em>g</em>(<em>x</em>)) is \n",
    "2(3<em>x</em> + 2) + 3 = 6<em>x</em> + 7, whereas <em>g</em>(<em>f</em>(<em>x</em>)) = 3(2<em>x</em> + 3) + 2 = 6<em>x</em> + 11. \n",
    "So this is not an abelian group.<br><br>\n",
    "\n",
    "These last four groups have an infinite number of elements, so we unfortunately cannot construct Cayley tables for them.  To distinguish the groups which \n",
    "have Cayley tables, we make the following definition:<br><br>\n",
    "\n",
    "DEFINITION 2.7<br>\n",
    "The number of elements in a group <em>G</em> is called the <em>order</em> of the group and is denoted |<em>G</em>|.  If <em>G</em> has an infinite number of \n",
    "elements, we say that |<em>G</em>| = &infin;.<br><br>\n",
    "\n",
    "The last four examples had infinite order, and hence we cannot form Cayley tables for these groups.  On the opposite end of the spectrum, what is the \n",
    "<em>smallest</em> possible group? The third group property states that there must be an identity element in the group.  So the smallest group is the following:<br><br>\n",
    "\n",
    "EXAMPLE:  <br>\n",
    "Consider the group containing just the identity element, {<em>e</em>}.  Why is this a group?<br><br>\n",
    "\n",
    "We know that since <em>e</em> is an identity, <em>e</em>&middot;<em>e</em> = <em>e</em>.  It does contain an identity element, and <em>e</em> has an inverse, \n",
    "namely <em>e</em>. We can check associativity by noting that\n",
    "<p style='text-align: center;'>(<em>e</em>&middot;<em>e</em>)&middot;<em>e</em> = <em>e</em>&middot;(<em>e</em>&middot;<em>e</em>) = <em>e</em>.</p>\n",
    "We can give a Cayley table of this group by executing the following: <br>"
   ]
  },
  {
   "cell_type": "code",
   "execution_count": 0,
   "id": "b2c856",
   "metadata": {
    "collapsed": false
   },
   "outputs": [
   ],
   "source": [
    "InitGroup(\"e\")\n",
    "CayleyTable([e])"
   ]
  },
  {
   "cell_type": "markdown",
   "id": "5cb489",
   "metadata": {
    "collapsed": false
   },
   "source": [
    "<br>\n",
    "This group seems too simple to be of practical value, so we call this the <em>trivial</em> group. Most of our groups will be much more interesting!<br><br>\n",
    " \n",
    "The first of these <em>SageMath</em> commands introduces a new command&mdash;<strong>InitGroup</strong>. This command designates the new identity element, and sets the \n",
    "stage for entering a new group. <br><br>\n",
    " \n",
    "As we see from these examples, sometimes the operator (&middot;) means addition, sometimes it means multiplication, and sometimes it means \n",
    "neither.  Nonetheless, we can consider the operation of an element by itself a number of times.  This produces combinations like\n",
    "<table align=\"center\" width=\"150\" border=\"0\" cellspacing=\"0\" cellpadding=\"0\">\n",
    "  <tr>\n",
    "    <td align=\"left\"><em>x</em>,</td>\n",
    "  </tr>\n",
    "  <tr>\n",
    "    <td align=\"left\"><em>x</em>&middot;<em>x</em>,</td>\n",
    "  </tr>\n",
    "  <tr>\n",
    "    <td align=\"left\"><em>x</em>&middot;<em>x</em>&middot;<em>x</em>,</td>\n",
    "  </tr>\n",
    "  <tr>\n",
    "    <td align=\"left\"><em>x</em>&middot;<em>x</em>&middot;<em>x</em>&middot;<em>x</em>,</td>\n",
    "      <td align=\"right\">and</td>\n",
    "  </tr>  \n",
    "  <tr>\n",
    "    <td align=\"left\"><em>x</em>&middot;<em>x</em>&middot;<em>x</em>&middot;<em>x</em>&middot;<em>x</em>.</td>\n",
    "  </tr>\n",
    "</table>\n",
    "<br>\n",
    "Even though the (&middot;) does not always mean multiplication, we can define <em>x<sup>n</sup></em> to mean <em>x</em> operated on itself <em>n</em> times. \n",
    "Thus,\n",
    "<table align=\"center\" width=\"150\" border=\"0\" cellspacing=\"0\" cellpadding=\"0\">\n",
    "  <tr>\n",
    "    <td align=\"right\"><em>x</em> =</td>\n",
    "    <td align=\"left\">&ensp;<em>x</em><sup>1</sup>,</td>\n",
    "  </tr>\n",
    "  <tr>\n",
    "    <td align=\"right\"><em>x</em>&middot;<em>x</em> =</td>\n",
    "    <td align=\"left\">&ensp;<em>x</em><sup>2</sup>,</td>\n",
    "  </tr>\n",
    "  <tr>\n",
    "    <td align=\"right\"><em>x</em>&middot;<em>x</em>&middot;<em>x</em> =</td>\n",
    "    <td align=\"left\">&ensp;<em>x</em><sup>3</sup>,</td>\n",
    "  </tr>\n",
    "  <tr>\n",
    "    <td align=\"right\">etc.</td>\n",
    "  </tr>    \n",
    "</table>\n",
    "\n",
    "<br>\n",
    "We want to formally define <em>x<sup>n</sup></em> for any integer <em>n</em>. We let <em>x</em><sup>0</sup> = <em>e</em>, the identity element, then we define, for \n",
    "<em>n</em> > 0,\n",
    "<p style='text-align: center;'><em>x<sup>n</sup></em> = <em>x</em><sup><em>n</em>&minus;1</sup>&middot;<em>x</em>.</p> \n",
    "By defining the <em>n</em><sup>th</sup> power in terms of the previous power, we <em>inductively</em> have defined <em>x<sup>n</sup></em> \n",
    "whenever <em>n</em> is a positive integer.  <br><br>\n",
    "\n",
    "Finally, we can define negative powers by letting \n",
    "<p style='text-align: center;'><em>x</em><sup>&minus;<em>n</em></sup> = (<em>x<sup>n</sup></em>)<sup>-1</sup> if <em>n</em> > 0.</p>\n",
    "Note that if the operator <em>&middot;</em> represents addition, the raising <em>x</em> to a power is repeated addition, which is multiplication.<br><br>\n",
    "\n",
    "We can now prove some theorems which involve this exponential notation."
   ]
  },
  {
   "cell_type": "markdown",
   "id": "041777",
   "metadata": {
    "collapsed": false
   },
   "source": [
    "<a name=\"prop29ret\" id=\"prop29ret\"></a>\n",
    "PROPOSITION 2.9<br>\n",
    "\n",
    "If <em>x</em> is an element in a group <em>G</em>, and <em>m</em> and <em>n</em> are integers, then\n",
    "<p style='text-align: center;'><em>x</em><sup><em>m</em>+<em>n</em></sup> = <em>x<sup>n</sup></em>&middot;<em>x<sup>m</sup></em>.</p>\n",
    "\n",
    "<a href=\"#prop29\">Click here for the proof.</a>\n",
    "\n",
    "<p />\n",
    "This last proof utilizes an important method of proving theorems called <em>induction</em>, which was introduced in &sect;1.2. Induction is based on the well-ordering axiom, which states that any non-empty subset of positive integers contains a smallest element.<br><br>\n",
    " \n",
    "It is not hard to see why this must be true.  If there were some positive integer not in the set, then there must be a <em>smallest</em> positive integer <em>k</em> that \n",
    "is not in the set.  Since <em>1</em> is in the set, we see that <em>k</em> > 1, and since <em>k</em> is the smallest number not in the set, <em>k</em> &minus; 1 must be \n",
    "in the set.  But the property of the set is that if <em>k</em> &minus; 1 is in the set, then <em>k</em> also is.  So we have a contradiction, so there is no \n",
    "such <em>k</em>, meaning the the set is indeed all positive integers.<br><br>"
   ]
  },
  {
   "cell_type": "markdown",
   "id": "0ab988",
   "metadata": {
    "collapsed": false
   },
   "source": [
    "<a name=\"prop210ret\" id=\"prop210ret\"></a>\n",
    "PROPOSITION 2.10 <br>\n",
    "\n",
    "If <em>x</em> is an element in a group <em>G</em>, and <em>m</em> and <em>n</em> are in &#8484;, then\n",
    "<p style='text-align: center;'>(<em>x<sup>m</sup></em>)<sup><em>n</em></sup> = <em>x</em><sup>(<em>m n</em>)</sup></p>\n",
    "\n",
    "<a href=\"#prop210\">Click here for the proof.</a>\n",
    "\n",
    "<p />\n",
    "Propositions 2.9 and 2.10 show that the common laws of exponents hold for elements of a group.  In the next chapter, we will use the powers of elements to explore the properties of a group."
   ]
  },
  {
   "cell_type": "markdown",
   "id": "ba5635",
   "metadata": {
    "collapsed": false
   },
   "source": [
    "<br><br><br><br><br><br><br><br><br><br><br><br><br><br><br><br><br><br><br><br><br><br><br><br><br><br><br><br><br><br><br><br><br><br><br><br><br><br><br><br><br><br>"
   ]
  },
  {
   "cell_type": "markdown",
   "id": "f847c7",
   "metadata": {
    "collapsed": false
   },
   "source": [
    "<h1>Proofs:</h1>"
   ]
  },
  {
   "cell_type": "markdown",
   "id": "2ba7af",
   "metadata": {
    "collapsed": false
   },
   "source": [
    "<a name=\"prop21\" id=\"prop21\"></a>\n",
    "Proof of Proposition 2.1:<br><br>\n",
    "\n",
    "Let <em>z</em> be <em>any</em> inverse of <em>y</em>.  Our job is to show that <em>z</em> is in fact equal to <em>x</em>.  Consider the \n",
    "product <em>x</em>&lowast;<em>y</em>&lowast;<em>z</em>.  According to the associative property, \n",
    "<p style='text-align: center;'><em>x</em>&lowast;(<em>y</em>&lowast;<em>z</em>) = (<em>x</em>&lowast;<em>y</em>)&lowast;<em>z</em>.</p>\n",
    "On the left side, we see that <em>y</em>&lowast;<em>z</em> is an identity element, so <em>x</em>&lowast;(<em>y</em>&lowast;<em>z</em>) = <em>x</em>.  \n",
    "But on the right side, we find that <em>x</em>&lowast;<em>y</em> is an identity element, so (<em>x</em>&lowast;<em>y</em>)&lowast;<em>z</em> = <em>z</em>.  Thus, \n",
    "<em>x</em> = <em>z</em>, and so <em>x</em> is an inverse of <em>y</em>.  Therefore, the inverse of an inverse gives us back the original element.<br><br>\n",
    "\n",
    "\n",
    "But as a bonus, we see that inverses are unique!  We let <em>z</em> be any inverse of <em>y</em>, and found that it had to equal <em>x</em>.  Thus, <em>y</em> has only \n",
    "one inverse, namely <em>x</em>.  But if we apply the argument again, reversing the roles of <em>x</em> and <em>y</em>, we see that <em>x</em> has only one inverse, namely \n",
    "<em>y</em>.  Thus, all inverses are unique.<br><br>\n",
    " \n",
    "<a href=\"#prop21ret\">Return to text</a>"
   ]
  },
  {
   "cell_type": "markdown",
   "id": "601ada",
   "metadata": {
    "collapsed": false
   },
   "source": [
    "<br><br><br><br><br><br><br><br><br><br><br><br><br><br><br><br><br><br><br><br><br><br><br><br><br><br><br><br><br><br><br><br><br><br><br><br><br><br><br><br><br><br>"
   ]
  },
  {
   "cell_type": "markdown",
   "id": "3d2012",
   "metadata": {
    "collapsed": false
   },
   "source": [
    "<a name=\"prop22\" id=\"prop22\"></a>\n",
    "Proof of Proposition 2.2:<br><br>\n",
    "\n",
    "Since the inverse (<em>x</em>&lowast;<em>y</em>)<sup>-1</sup> is the dance step <em>z</em> such that \n",
    "(<em>x</em>&lowast;<em>y</em>)&lowast;<em>z</em> = <strong>Stay</strong>, it suffices to show that <em>y</em><sup>-1</sup>&lowast;<em>x</em><sup>-1</sup> has this \n",
    "property. We see that\n",
    "<p style='text-align: center;'>(<em>x</em>&lowast;<em>y</em>)&lowast;(<em>y</em><sup>-1</sup>&lowast;<em>x</em><sup>-1</sup>) = \n",
    "<em>x</em>&lowast;(<em>y</em>&lowast;<em>y</em><sup>-1</sup>)&lowast;<em>x</em><sup>-1</sup> = <em>x</em>&lowast;<strong>Stay</strong>&lowast;<em>x</em><sup>-1</sup> = \n",
    "<em>x</em>&lowast;<em>x</em><sup>-1</sup> = <strong>Stay</strong>.</p>\n",
    "So  (<em>x</em>&lowast;<em>y</em>)<sup>-1</sup> =  <em>y</em><sup>-1</sup>&lowast;<em>x</em><sup>-1</sup>.<br><br>\n",
    " \n",
    "<a href=\"#prop22ret\">Return to text</a>"
   ]
  },
  {
   "cell_type": "markdown",
   "id": "c5de55",
   "metadata": {
    "collapsed": false
   },
   "source": [
    "<br><br><br><br><br><br><br><br><br><br><br><br><br><br><br><br><br><br><br><br><br><br><br><br><br><br><br><br><br><br><br><br><br><br><br><br><br><br><br><br><br><br>"
   ]
  },
  {
   "cell_type": "markdown",
   "id": "1e77ea",
   "metadata": {
    "collapsed": false
   },
   "source": [
    "<a name=\"prop23\" id=\"prop23\"></a>\n",
    "Proof of Proposition 2.3:<br><br>\n",
    " \n",
    "Suppose that there is an <em>x</em> such that <em>a</em>&lowast;<em>x</em> = <em>b</em>.  We can multiply both sides of the equation on the <em>left</em> by \n",
    "<em>a</em><sup>-1</sup> to give us\n",
    "<p style='text-align: center;'><em>a</em><sup>-1</sup>&lowast;(<em>a</em>&lowast;<em>x</em>) = <em>a</em><sup>-1</sup>&lowast;<em>b</em>.</p>\n",
    "Then     \n",
    "<p style='text-align: center;'>(<em>a</em><sup>-1</sup>&lowast;<em>a</em>)&lowast;<em>x</em> = <em>a</em><sup>-1</sup>&lowast;<em>b</em>.</p> \n",
    "<p style='text-align: center;'><strong>Stay</strong>&lowast;<em>x</em> = <em>a</em><sup>-1</sup>&lowast;<em>b</em>.</p> \n",
    "So <em>x</em> = <em>a</em><sup>-1</sup>&lowast;<em>b</em>.  Thus, if there is a solution, this must be the unique solution <em>a</em><sup>-1</sup>&lowast;<em>b</em>.  Let \n",
    "us check that this is indeed a solution.\n",
    "<p style='text-align: center;'><em>a</em>&lowast;<em>x</em> = <em>a</em>&lowast;(<em>a</em><sup>-1</sup>&lowast;<em>b</em>) = (<em>a</em>&lowast;<em>a</em><sup>-1</sup>)&lowast;<em>b</em> = <strong>Stay</strong>&lowast;<em>b</em> = \n",
    "<em>b</em>.</p>\n",
    "Thus, there is only one solution to the equation, namely <em>a</em><sup>-1</sup>&lowast;<em>b</em>.<br><br>\n",
    " \n",
    "<a href=\"#prop23ret\">Return to text</a>"
   ]
  },
  {
   "cell_type": "markdown",
   "id": "4a9855",
   "metadata": {
    "collapsed": false
   },
   "source": [
    "<br><br><br><br><br><br><br><br><br><br><br><br><br><br><br><br><br><br><br><br><br><br><br><br><br><br><br><br><br><br><br><br><br><br><br><br><br><br><br><br><br><br>"
   ]
  },
  {
   "cell_type": "markdown",
   "id": "b08e0f",
   "metadata": {
    "collapsed": false
   },
   "source": [
    "<a name=\"prop24\" id=\"prop24\"></a>\n",
    "Proof of Proposition 2.4:<br><br>\n",
    " \n",
    "To show that this definition is reflexive, we need to show that <em>x</em> &equiv; <em>x</em> (mod <em>n</em>), which is \n",
    "clear since <em>x</em> &minus; <em>x</em> = 0&middot;<em>n</em>.<br><br>  \n",
    "\n",
    "To show that this definition is symmetric, suppose that \n",
    "<em>x</em> &equiv; <em>y</em>  (mod <em>n</em>).  Then <em>x</em> &minus; <em>y</em> = <em>k n</em> for some integer <em>k</em>, hence <em>y</em> &minus; <em>x</em> = &minus;<em>k</em> <em>n</em> for the integer &minus;<em>k</em>.\n",
    "Thus, <em>y</em> &equiv; <em>x</em> (mod <em>n</em>).<br><br>\n",
    "\n",
    "Finally, to show that this definition is transitive, suppose both <em>x</em> &equiv; <em>y</em> (mod <em>n</em>)\n",
    "and <em>y</em> &equiv; <em>z</em> (mod <em>n</em>).  Then <em>x</em> &minus; <em>y</em> = <em>k</em><sub>1</sub> <em>n</em> and \n",
    "<em>y</em> &minus; <em>z</em> = <em>k</em><sub>2</sub> <em>n</em>, so \n",
    "<p style='text-align: center;'><em>x</em> &minus; <em>z</em> = (<em>x</em> &minus; <em>y</em>) + (<em>y</em> &minus; <em>z</em>) = \n",
    "<em>k</em><sub>1</sub> <em>n</em> + <em>k</em><sub>2</sub> <em>n</em> = (<em>k</em><sub>1</sub> + <em>k</em><sub>2</sub>)<em>n</em>.</p>\n",
    "             \n",
    "Hence, we find that <em>x</em> &equiv; <em>z</em> (mod <em>n</em>).<br><br>\n",
    " \n",
    "<a href=\"#prop24ret\">Return to text</a>"
   ]
  },
  {
   "cell_type": "markdown",
   "id": "e4a8c1",
   "metadata": {
    "collapsed": false
   },
   "source": [
    "<br><br><br><br><br><br><br><br><br><br><br><br><br><br><br><br><br><br><br><br><br><br><br><br><br><br><br><br><br><br><br><br><br><br><br><br><br><br><br><br><br><br>"
   ]
  },
  {
   "cell_type": "markdown",
   "id": "c0300e",
   "metadata": {
    "collapsed": false
   },
   "source": [
    "<a name=\"prop25\" id=\"prop25\"></a>\n",
    "Proof of Proposition 2.5:<br><br>\n",
    " \n",
    "For any <em>a</em> &isin; <em>S</em>, we have by the reflexive property that <em>a</em> &isin; [<em>a</em>], so [<em>a</em>] is non-empty, and the union of all equivalence classes \n",
    "will be all of <em>S</em>.  Next, let us show that if there is an element <em>c</em> in common with two equivalence classes [<em>a</em>] and [<em>b</em>], then these classes are \n",
    "the same. Since <em>c</em> &sim; <em>a</em> and <em>c</em> &sim; <em>b</em>, we have by the symmetric and transitive properties that <em>a</em> &sim; <em>b</em>.  Hence, for \n",
    "every <em>x</em> &isin; [<em>a</em>], <em>x</em> &sim; <em>a</em>, so <em>x</em> &isin; [<em>b</em>] as well, indicating [<em>a</em>] &sube; [<em>b</em>].  By similar logic, [<em>b</em>] &sube; [<em>a</em>], so [<em>a</em>] = [<em>b</em>].<br><br>\n",
    " \n",
    "<a href=\"#prop25ret\">Return to text</a>"
   ]
  },
  {
   "cell_type": "markdown",
   "id": "3b7c54",
   "metadata": {
    "collapsed": false
   },
   "source": [
    "<br><br><br><br><br><br><br><br><br><br><br><br><br><br><br><br><br><br><br><br><br><br><br><br><br><br><br><br><br><br><br><br><br><br><br><br><br><br><br><br><br><br>"
   ]
  },
  {
   "cell_type": "markdown",
   "id": "acc0b2",
   "metadata": {
    "collapsed": false
   },
   "source": [
    "<a name=\"prop26\" id=\"prop26\"></a>\n",
    "Proof of Proposition 2.6:<br><br>\n",
    " \n",
    "We are essentially given that <em>a b</em> &minus; <em>a c</em> = <em>k n</em> for some integer <em>k</em>.  Since <em>a</em>  and <em>n</em> are coprime, by B&eacute;zout's lemma (1.3), there exist integers <em>u</em> and <em>v</em> such that\n",
    "\n",
    "<p style='text-align: center;'><em>u a</em> + <em>v n</em> = 1.</p>\n",
    "\n",
    "Multiplying the original equation by <em>u</em>, we have <em>u a</em>(<em>b</em> &minus; <em>c</em>) = <em>k u n</em>.  Replacing <em>u a</em> with 1 &minus; <em>v n</em>, we get that <em>b</em> &minus; <em>c</em> = <em>k u n</em> + <em>v n</em>(<em>b</em> &minus; <em>c</em>), which is a multiple of <em>n</em>.  So \n",
    "<p style='text-align: center;'><em>b</em> &equiv; <em>c</em> (mod <em>n</em>).</p><br>\n",
    " \n",
    "<a href=\"#prop26ret\">Return to text</a>"
   ]
  },
  {
   "cell_type": "markdown",
   "id": "21b170",
   "metadata": {
    "collapsed": false
   },
   "source": [
    "<br><br><br><br><br><br><br><br><br><br><br><br><br><br><br><br><br><br><br><br><br><br><br><br><br><br><br><br><br><br><br><br><br><br><br><br><br><br><br><br><br><br>"
   ]
  },
  {
   "cell_type": "markdown",
   "id": "7da6ef",
   "metadata": {
    "collapsed": false
   },
   "source": [
    "<a name=\"prop27\" id=\"prop27\"></a>\n",
    "Proof of Proposition 2.7:<br><br>\n",
    " \n",
    "Properties 2, 3, and 5 come from the properties of standard multiplication.<br><br>\n",
    "\n",
    "Property 1 comes from Proposition 2.2. If <em>x</em> and <em>y</em> are both invertible, then <em>y</em><sup>-1</sup>&lowast;<em>x</em><sup>-1</sup> is an inverse of \n",
    "<em>x</em>&lowast;<em>y</em>, and so <em>x</em>&lowast;<em>y</em> is invertible modulo <em>n</em>.<br><br>\n",
    "\n",
    "Property 4 seems obvious, since if <em>x</em> is invertible modulo <em>n</em>, we let <em>y</em> = <em>x</em><sup>-1</sup> making <em>x</em>&lowast;<em>y</em> = 1.  But \n",
    "we must check \n",
    "that <em>y</em> is also invertible, which it is since <em>y</em><sup>-1</sup> = x.<br><br>\n",
    " \n",
    "<a href=\"#prop27ret\">Return to text</a>"
   ]
  },
  {
   "cell_type": "markdown",
   "id": "8fdd81",
   "metadata": {
    "collapsed": false
   },
   "source": [
    "<br><br><br><br><br><br><br><br><br><br><br><br><br><br><br><br><br><br><br><br><br><br><br><br><br><br><br><br><br><br><br><br><br><br><br><br><br><br><br><br><br><br>"
   ]
  },
  {
   "cell_type": "markdown",
   "id": "b29b84",
   "metadata": {
    "collapsed": false
   },
   "source": [
    "<a name=\"prop28\" id=\"prop28\"></a>\n",
    "Proof of Proposition 2.8:<br><br>\n",
    "  \n",
    "If <em>x</em> and <em>n</em> are not coprime, then there is a common prime factor <em>p</em>. In order for <em>x</em> to have a multiplicative inverse, \n",
    "there must be a <em>y</em> such that\n",
    "<p style='text-align: center;'><em>x y</em> &equiv; 1  (mod <em>n</em>).</p>\n",
    "But this means that <em>x y</em> = 1 + <em>w n</em> for some <em>w</em>. This is impossible, since <em>x y</em> is a multiple of <em>p</em>, but 1 + <em>w n</em> is one \n",
    "more than a multiple of <em>p</em>.<br><br>\n",
    "\n",
    "Now suppose that <em>n</em> and <em>x</em> are coprime. By B&eacute;zout's lemma (1.3), there are <em>u</em> and <em>v</em> in &#8484; such that \n",
    "<p style='text-align: center;'><em>u n</em> + <em>v x</em> = gcd(<em>n</em>, <em>x</em>) = 1.</p>\n",
    "But then \n",
    "<p style='text-align: center;'><em>v x</em> = 1 + (&minus;<em>u</em>) <em>n</em>,</p>\n",
    "and so <em>v x</em> &equiv; 1  (mod n). Hence, <em>v</em> is a multiplicative inverse of <em>x</em>.<br><br>  \n",
    "  \n",
    "<a href=\"#prop28ret\">Return to text</a>"
   ]
  },
  {
   "cell_type": "markdown",
   "id": "faadff",
   "metadata": {
    "collapsed": false
   },
   "source": [
    "<br><br><br><br><br><br><br><br><br><br><br><br><br><br><br><br><br><br><br><br><br><br><br><br><br><br><br><br><br><br><br><br><br><br><br><br><br><br><br><br><br><br>"
   ]
  },
  {
   "cell_type": "markdown",
   "id": "46d8a6",
   "metadata": {
    "collapsed": false
   },
   "source": [
    "<a name=\"prop29\" id=\"prop29\"></a>\n",
    "Proof of Proposition 2.9:<br><br>   \n",
    "   \n",
    "If <em>m</em> or <em>n</em> are 0, this proposition is very easy to verify:\n",
    "<p style='text-align: center;'><em>x</em><sup><em>m</em>+0</sup> = <em>x<sup>m</sup></em> = <em>x<sup>m</sup></em>&middot;<em>e</em> = \n",
    "<em>x<sup>m</sup></em>&middot;<em>x</em><sup>0</sup>,&emsp;<em>x</em><sup>0+<em>n</em></sup> = <em>x<sup>n</sup></em> = \n",
    "e&middot;<em>x<sup>n</sup></em> = <em>x</em><sup>0</sup>&middot;<em>x<sup>n</sup></em>.</p>\n",
    "We will now prove the statement when <em>m</em> and <em>n</em> are positive integers.  If <em>n</em> is 1, then we have\n",
    "<p style='text-align: center;'><em>x</em><sup><em>m</em>+1</sup> = <em>x</em><sup><em>(m</em>+1)&minus;1</sup>&middot;<em>x</em> = \n",
    "<em>x<sup>m</sup></em>&middot;<em>x</em><sup>1</sup>,</p>\n",
    "using the inductive definition of the power of <em>x</em>.<br><br>\n",
    "\n",
    "We will now proceed by means of <em>induction</em>.  That is, we will assume that the statement is true for the case <em>n</em> &minus; 1, and then prove that it is \n",
    "then true for the case <em>n</em>.<br><br>\n",
    "\n",
    "Thus, we will assume that  \n",
    "<p style='text-align: center;'><em>x</em><sup><em>m</em>+(<em>n</em>&minus;1)</sup> = <em>x<sup>m</sup></em>&middot;<em>x</em><sup><em>n</em>&minus;1</sup>.</p>\n",
    "But then\n",
    "<p style='text-align: center;'><em>x</em><sup><em>m</em>+<em>n</em></sup> = <em>x</em><sup><em>m</em>+<em>n</em>&minus;1</sup>&middot;<em>x</em> = \n",
    "<em>x<sup>m</sup></em>&middot;<em>x</em><sup><em>n</em>&minus;1</sup>&middot;<em>x</em> = <em>x<sup>m</sup></em>&middot;<em>x<sup>n</sup></em>.</p>\n",
    "By induction, \n",
    "this proves that <em>x</em><sup><em>m</em>+<em>n</em></sup> = <em>x<sup>m</sup></em>&middot;<em>x<sup>n</sup></em> for all positive <em>n</em>.<br><br>\n",
    "\n",
    "Once we have the statement true for positive <em>m</em> and <em>n</em>, we can take the inverse of both sides to give us\n",
    "<p style='text-align: center;'>(<em>x</em><sup><em>m</em>+<em>n</em></sup>)<sup>-1</sup> = \n",
    "(<em>x<sup>n</sup></em>)<sup>-1</sup>&middot;(<em>x<sup>m</sup></em>)<sup>-1</sup>.</p>\n",
    "But by the definition of negative exponents, this is\n",
    "<p style='text-align: center;'><em>x</em><sup>(&minus;<em>n</em>)+(&minus;<em>m</em>)</sup> = \n",
    "<em>x</em><sup>&minus;<em>n</em></sup>&middot;<em>x</em><sup>&minus;<em>m</em></sup></p>\n",
    "which, by letting <em>M</em> = &minus;<em>n</em> and <em>N</em> = &minus;<em>m</em>, proves the proposition for the case of both exponents being negative.<br><br>\n",
    "\n",
    "Finally, if <em>m</em> and <em>n</em> have different signs, then (<em>m</em> + <em>n</em>) will either have the same sign as &minus;<em>n</em>, or the same sign as \n",
    "&minus;<em>m</em>.  If (<em>m</em> + <em>n</em>) has the same sign as &minus;<em>n</em>, then we have already shown that\n",
    "<p style='text-align: center;'><em>x<sup>m</sup></em> = <em>x</em><sup>(<em>m</em>+<em>n</em>)+(&minus;<em>n</em>)</sup> = \n",
    "<em>x</em><sup><em>m</em>+<em>n</em></sup>&middot;<em>x</em><sup>&minus;<em>n</em></sup>.</p>\n",
    "So we have <em>x<sup>m</sup></em>&middot;(<em>x</em><sup>&minus;<em>n</em></sup>)<sup>-1</sup> = \n",
    "<em>x</em><sup><em>m</em>+<em>n</em></sup>&middot;<em>x</em><sup>&minus;<em>n</em></sup>&middot;(<em>x</em><sup>&minus;<em>n</em></sup>)<sup>-1</sup>, and hence\n",
    "<em>x</em><sup><em>m</em>+<em>n</em></sup> = <em>x<sup>m</sup></em>&middot;<em>x<sup>n</sup></em>.<br> <br>\n",
    "\n",
    "If <em>m</em> + <em>n</em> has the same sign as &minus;<em>m</em>, then we have already shown that\n",
    "<p style='text-align: center;'><em>x<sup>n</sup></em> = <em>x</em><sup>(&minus;<em>m</em>)+(<em>m</em>+<em>n</em>)</sup> = \n",
    "<em>x</em><sup>&minus;<em>m</em></sup>&middot;<em>x</em><sup><em>m</em>+<em>n</em></sup>.</p>\n",
    "So we have (<em>x</em><sup>&minus;<em>m</em></sup>)<sup>-1</sup>&middot;<em>x<sup>n</sup></em> = \n",
    "(<em>x</em><sup>&minus;<em>m</em></sup>)<sup>-1</sup>&middot;<em>x</em><sup>&minus;<em>m</em></sup>&middot;<em>x</em><sup><em>m</em>+<em>n</em></sup>, and \n",
    "hence <em>x</em><sup><em>m</em>+<em>n</em></sup> = <em>x<sup>m</sup></em>&middot;<em>x<sup>n</sup></em>.<br><br>\n",
    " \n",
    "Thus, we have proven the proposition for all integers <em>m</em> and <em>n</em>.<br><br> \n",
    "   \n",
    "<a href=\"#prop29ret\">Return to text</a>"
   ]
  },
  {
   "cell_type": "markdown",
   "id": "75f33f",
   "metadata": {
    "collapsed": false
   },
   "source": [
    "<br><br><br><br><br><br><br><br><br><br><br><br><br><br><br><br><br><br><br><br><br><br><br><br><br><br><br><br><br><br><br><br><br><br><br><br><br><br><br><br><br><br>"
   ]
  },
  {
   "cell_type": "markdown",
   "id": "732a52",
   "metadata": {
    "collapsed": false
   },
   "source": [
    "<a name=\"prop210\" id=\"prop210\"></a>\n",
    "Proof of Proposition 2.10:<br><br>     \n",
    "   \n",
    "Notice that this statement is trivial if <em>n</em> = 0 or <em>n</em> = 1:\n",
    "<p style='text-align: center;'>(<em>x<sup>m</sup></em>)<sup>0</sup> = <em>e</em> = <em>x</em><sup><em>m</em>&middot;0</sup>, &emsp; \n",
    "(<em>x<sup>m</sup></em>)<sup>1</sup> = <em>x<sup>m</sup></em> = <em>x</em><sup><em>m</em>&middot;1</sup></p>\n",
    "We will again proceed by means of induction, which means we can assume that the statement is true for the previous case, with <em>n</em> replaced by <em>n</em> &minus; 1.\n",
    "That is, we can assume that\n",
    "<p style='text-align: center;'>(<em>x<sup>m</sup></em>)<sup><em>n</em>&minus;1</sup> = <em>x</em><sup><em>m</em>(<em>n</em>&minus;1)</sup>.</p>\n",
    "Note that\n",
    "<p style='text-align: center;'>(<em>x<sup>m</sup></em>)<sup><em>n</em></sup> = \n",
    "(<em>x<sup>m</sup></em>)<sup><em>n</em>&minus;1</sup>&middot;<em>x<sup>m</sup></em> = \n",
    "<em>x</em><sup><em>m</em>(<em>n</em>&minus;1)</sup>&middot;<em>x<sup>m</sup></em>.</p>\n",
    "By Proposition 2.9, this is equal to <em>x</em><sup>(<em>m</em>(<em>n</em>&minus;1)+<em>m</em>)</sup> = <em>x<sup>m n</sup></em>.<br><br>\n",
    "\n",
    "So by induction, the proposition holds for positive <em>n</em>.  To see that it holds for negative <em>n</em> as well, simply note that\n",
    "<p style='text-align: center;'>(<em>x<sup>m</sup></em>)<sup><em>n</em></sup> = ((<em>x<sup>m</sup></em>)<sup>&minus;<em>n</em></sup>)<sup>-1</sup> = \n",
    "(<em>x</em><sup>&minus;<em>m n</em></sup>)<sup>-1</sup> = <em>x<sup>m n</sup></em>.</p>\n",
    "If <em>n</em> is negative, then &minus;<em>n</em> is positive, so the second step is valid.<br><br>     \n",
    "   \n",
    "<a href=\"#prop210ret\">Return to text</a>"
   ]
  },
  {
   "cell_type": "markdown",
   "id": "4a6d0a",
   "metadata": {
    "collapsed": false
   },
   "source": [
    "<br><br><br><br><br><br><br><br><br><br><br><br><br><br><br><br><br><br><br><br><br><br><br><br><br><br><br><br><br><br><br><br><br><br><br><br><br><br><br><br><br><br>  "
   ]
  },
  {
   "cell_type": "markdown",
   "id": "69ca38",
   "metadata": {
    "collapsed": false
   },
   "source": [
    "<a name=\"sec2p\" id=\"sec1p\"></a>   \n",
    "<h1><em>SageMath</em> Interactive Problems</h1>\n",
    "\n",
    "<br>\n",
    "&sect;2.1 #13)<br>\n",
    "If Terry was only allowed to do the steps <strong>FlipRt</strong> or <strong>FlipLft</strong>, could it get itself into all six possible positions? If \n",
    "possible, expressthe other four dance steps in terms of these two. The following <em>SageMath</em> command reloads Terry's group. <br>"
   ]
  },
  {
   "cell_type": "code",
   "execution_count": 0,
   "id": "c3d547",
   "metadata": {
    "collapsed": false
   },
   "outputs": [
   ],
   "source": [
    "InitTerry()"
   ]
  },
  {
   "cell_type": "markdown",
   "id": "97ef6c",
   "metadata": {
    "collapsed": false
   },
   "source": [
    "<br>\n",
    "&sect;2.1 #14)<br>\n",
    "Repeat Problem 13, only allow Terry to do only the steps <strong>RotRt</strong> or <strong>RotLft</strong>.<br>"
   ]
  },
  {
   "cell_type": "markdown",
   "id": "83266a",
   "metadata": {
    "collapsed": false
   },
   "source": [
    "<br>\n",
    "&sect;2.1 #15)<br>\n",
    "Can you find a dance routine which includes each of Terry's 6 dance steps once, and only once, that puts Terry back into the initial position?<br>"
   ]
  },
  {
   "cell_type": "markdown",
   "id": "b0f0ba",
   "metadata": {
    "collapsed": false
   },
   "source": [
    "<br>\n",
    "&sect;2.2 #29)<br>\n",
    "Proposition 1.7 explains how to use <strong>xgcd</strong> to find the multiplicative inverse modulo <em>n</em>.\n",
    "Use <em>SageMath</em> to find the multiplicative inverse of <em>a</em> modulo <em>n</em>, where <em>a</em> = 3, <em>n</em> = 1000.<br>"
   ]
  },
  {
   "cell_type": "markdown",
   "id": "69c404",
   "metadata": {
    "collapsed": false
   },
   "source": [
    "<br>\n",
    "&sect;2.2 #30)<br>\n",
    "Repeat Problem 29, with <em>a</em> = 5, <em>n</em> = 1221.<br>"
   ]
  },
  {
   "cell_type": "markdown",
   "id": "350f3e",
   "metadata": {
    "collapsed": false
   },
   "source": [
    "<br>\n",
    "&sect;2.2 #31)<br>\n",
    "Repeat Problem 29, with <em>a</em> = 7, <em>n</em> = 3600.<br>"
   ]
  },
  {
   "cell_type": "markdown",
   "id": "219240",
   "metadata": {
    "collapsed": false
   },
   "source": [
    "<br>\n",
    "&sect;2.2 #32)<br>\n",
    "Repeat Problem 29, with <em>a</em> = 11, <em>n</em> = 9000.<br>"
   ]
  },
  {
   "cell_type": "markdown",
   "id": "a864ea",
   "metadata": {
    "collapsed": false
   },
   "source": [
    "<br>\n",
    "&sect;2.2 #33)<br>\n",
    "Repeat Problem 29, with <em>a</em> = 13, <em>n</em> = 12000.<br>"
   ]
  },
  {
   "cell_type": "markdown",
   "id": "396ed0",
   "metadata": {
    "collapsed": false
   },
   "source": [
    "<br>\n",
    "&sect;2.2 #34)<br>\n",
    "Repeat Problem 29, with <em>a</em> = 17, <em>n</em> = 15000.<br>"
   ]
  },
  {
   "cell_type": "markdown",
   "id": "3fe5be",
   "metadata": {
    "collapsed": false
   },
   "source": [
    "<br>\n",
    "&sect;2.2 #35)<br>\n",
    "We saw that there were exactly four numbers less than 10 which were invertible modulo 10.  For what other values of <em>n</em> are there exactly four numbers less \n",
    "than <em>n</em> which are invertible modulo <em>n</em>?  Use <em>SageMath</em>'s circle graph to graph the inverse functions.<br>"
   ]
  },
  {
   "cell_type": "markdown",
   "id": "3ea21a",
   "metadata": {
    "collapsed": false
   },
   "source": [
    "<br>\n",
    "&sect;2.3 #32)<br>\n",
    "Use <em>SageMath</em>'s <strong>ZStar</strong> command to find the size of <em>Z<sub>n</sub></em><sup>&ast;</sup> for <em>n</em> = 9, 27, 81, 243, 5, 25, 125.  Make a conjecture \n",
    "about the size of <em>Z<sub>n</sub></em><sup>&ast;</sup> when <em>n</em> is a power of an odd prime.  Note use can use the <strong>len(_)</strong> command to have <em>SageMath</em> count the elements for you.<br>"
   ]
  },
  {
   "cell_type": "markdown",
   "id": "eb4615",
   "metadata": {
    "collapsed": false
   },
   "source": [
    "<br>\n",
    "&sect;2.3 #33)<br>\n",
    "Use <em>SageMath</em>'s <strong>ZStar</strong> command to find the size of <em>Z<sub>n</sub></em><sup>&ast;</sup> for <em>n</em> = 18, 54, 162, 486, 50, 250, 98, 686.  Make a conjecture \n",
    "about the size of <em>Z<sub>n</sub></em><sup>&ast;</sup> when <em>n</em> is twice the power of an odd prime.<br>"
   ]
  },
  {
   "cell_type": "markdown",
   "id": "87e595",
   "metadata": {
    "collapsed": false
   },
   "source": [
    "<br>\n",
    "&sect;2.3 #34)<br>\n",
    "Use <em>SageMath</em>'s <strong>ZStar</strong> command to find the size of <em>Z<sub>mn</sub></em><sup>&ast;</sup>, where <em>m</em> and <em>n</em> are coprime, in terms of the sizes \n",
    "of <em>Z<sub>m</sub></em><sup>&ast;</sup> and <em>Z<sub>n</sub></em><sup>&ast;</sup>.<br>"
   ]
  },
  {
   "cell_type": "markdown",
   "id": "0a94fc",
   "metadata": {
    "collapsed": false
   },
   "source": [
    "</font>\n",
    "\n",
    "</body>\n",
    "\n",
    "</html>"
   ]
  }
 ],
 "metadata": {
  "kernelspec": {
   "argv": [
    "sage-10.0",
    "--python",
    "-m",
    "sage.repl.ipython_kernel",
    "--matplotlib=inline",
    "-f",
    "{connection_file}"
   ],
   "display_name": "SageMath 10.0",
   "env": {
   },
   "language": "sagemath",
   "metadata": {
    "cocalc": {
     "description": "Open-source mathematical software system",
     "priority": 10,
     "url": "https://www.sagemath.org/"
    }
   },
   "name": "sage-10.0",
   "resource_dir": "/ext/jupyter/kernels/sage-10.0"
  },
  "language_info": {
   "codemirror_mode": {
    "name": "ipython",
    "version": 3
   },
   "file_extension": ".py",
   "mimetype": "text/x-python",
   "name": "python",
   "nbconvert_exporter": "python",
   "pygments_lexer": "ipython3",
   "version": "3.7.10"
  }
 },
 "nbformat": 4,
 "nbformat_minor": 4
}